{
 "cells": [
  {
   "cell_type": "markdown",
   "metadata": {},
   "source": [
    "# `prune_branches`\n",
    "Removes dangling branches from a skeleton."
   ]
  },
  {
   "cell_type": "code",
   "execution_count": 1,
   "metadata": {
    "execution": {
     "iopub.execute_input": "2022-05-25T19:21:29.803498Z",
     "iopub.status.busy": "2022-05-25T19:21:29.800190Z",
     "iopub.status.idle": "2022-05-25T19:21:32.305497Z",
     "shell.execute_reply": "2022-05-25T19:21:32.304657Z"
    }
   },
   "outputs": [],
   "source": [
    "import numpy as np\n",
    "import porespy as ps\n",
    "import scipy.ndimage as spim\n",
    "import matplotlib.pyplot as plt\n",
    "from skimage.morphology import skeletonize_3d\n",
    "ps.visualization.set_mpl_style()"
   ]
  },
  {
   "cell_type": "markdown",
   "metadata": {},
   "source": [
    "## `im`\n",
    "The function requires a skeleton such as that produced by ``skimage.mophology.skeletonize_3d``:"
   ]
  },
  {
   "cell_type": "code",
   "execution_count": 2,
   "metadata": {
    "execution": {
     "iopub.execute_input": "2022-05-25T19:21:32.312502Z",
     "iopub.status.busy": "2022-05-25T19:21:32.309147Z",
     "iopub.status.idle": "2022-05-25T19:21:32.557413Z",
     "shell.execute_reply": "2022-05-25T19:21:32.556536Z"
    }
   },
   "outputs": [
    {
     "data": {
      "image/svg+xml": [
       "<?xml version=\"1.0\" encoding=\"utf-8\" standalone=\"no\"?>\n",
       "<!DOCTYPE svg PUBLIC \"-//W3C//DTD SVG 1.1//EN\"\n",
       "  \"http://www.w3.org/Graphics/SVG/1.1/DTD/svg11.dtd\">\n",
       "<svg xmlns:xlink=\"http://www.w3.org/1999/xlink\" width=\"851.4pt\" height=\"424.8pt\" viewBox=\"0 0 851.4 424.8\" xmlns=\"http://www.w3.org/2000/svg\" version=\"1.1\">\n",
       " <metadata>\n",
       "  <rdf:RDF xmlns:dc=\"http://purl.org/dc/elements/1.1/\" xmlns:cc=\"http://creativecommons.org/ns#\" xmlns:rdf=\"http://www.w3.org/1999/02/22-rdf-syntax-ns#\">\n",
       "   <cc:Work>\n",
       "    <dc:type rdf:resource=\"http://purl.org/dc/dcmitype/StillImage\"/>\n",
       "    <dc:date>2022-05-25T19:21:32.502844</dc:date>\n",
       "    <dc:format>image/svg+xml</dc:format>\n",
       "    <dc:creator>\n",
       "     <cc:Agent>\n",
       "      <dc:title>Matplotlib v3.5.2, https://matplotlib.org/</dc:title>\n",
       "     </cc:Agent>\n",
       "    </dc:creator>\n",
       "   </cc:Work>\n",
       "  </rdf:RDF>\n",
       " </metadata>\n",
       " <defs>\n",
       "  <style type=\"text/css\">*{stroke-linejoin: round; stroke-linecap: butt}</style>\n",
       " </defs>\n",
       " <g id=\"figure_1\">\n",
       "  <g id=\"patch_1\">\n",
       "   <path d=\"M 0 424.8 \n",
       "L 851.4 424.8 \n",
       "L 851.4 0 \n",
       "L 0 0 \n",
       "L 0 424.8 \n",
       "z\n",
       "\" style=\"fill: none\"/>\n",
       "  </g>\n",
       "  <g id=\"axes_1\">\n",
       "   <g clip-path=\"url(#pbf30d37e77)\">\n",
       "    <image xlink:href=\"data:image/png;base64,\n",
       "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\" id=\"image8fd2127408\" transform=\"matrix(1.644 0 0 -1.644 7.2 417.6)\" style=\"image-rendering:crisp-edges;image-rendering:pixelated\" width=\"250\" height=\"250\"/>\n",
       "   </g>\n",
       "  </g>\n",
       "  <g id=\"axes_2\">\n",
       "   <g clip-path=\"url(#ped1006f12e)\">\n",
       "    <image xlink:href=\"data:image/png;base64,\n",
       "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\" id=\"imagedee7c46ae8\" transform=\"matrix(1.644 0 0 -1.644 433.8 417.6)\" style=\"image-rendering:crisp-edges;image-rendering:pixelated\" width=\"250\" height=\"250\"/>\n",
       "   </g>\n",
       "  </g>\n",
       " </g>\n",
       " <defs>\n",
       "  <clipPath id=\"pbf30d37e77\">\n",
       "   <rect x=\"7.2\" y=\"7.2\" width=\"410.4\" height=\"410.4\"/>\n",
       "  </clipPath>\n",
       "  <clipPath id=\"ped1006f12e\">\n",
       "   <rect x=\"433.8\" y=\"7.2\" width=\"410.4\" height=\"410.4\"/>\n",
       "  </clipPath>\n",
       " </defs>\n",
       "</svg>\n"
      ],
      "text/plain": [
       "<Figure size 864x432 with 2 Axes>"
      ]
     },
     "metadata": {
      "needs_background": "light"
     },
     "output_type": "display_data"
    }
   ],
   "source": [
    "im = ps.generators.blobs(shape=[250, 250], blobiness=1, porosity=0.6)\n",
    "sk = skeletonize_3d(im)\n",
    "sk1 = ps.filters.prune_branches(sk)\n",
    "\n",
    "fig, ax = plt.subplots(1, 2, figsize=[12, 6])\n",
    "ax[0].imshow(sk/im, interpolation='none', origin='lower')\n",
    "ax[0].axis(False)\n",
    "ax[1].imshow(sk1/im, interpolation='none', origin='lower')\n",
    "ax[1].axis(False);"
   ]
  },
  {
   "cell_type": "markdown",
   "metadata": {},
   "source": [
    "## `iterations`\n",
    "How many times to repeat the process.  This is equivalen to just calling the function multiple times with the returned image, but is more convenient."
   ]
  },
  {
   "cell_type": "code",
   "execution_count": 3,
   "metadata": {
    "execution": {
     "iopub.execute_input": "2022-05-25T19:21:32.561109Z",
     "iopub.status.busy": "2022-05-25T19:21:32.560616Z",
     "iopub.status.idle": "2022-05-25T19:21:32.862070Z",
     "shell.execute_reply": "2022-05-25T19:21:32.861182Z"
    }
   },
   "outputs": [
    {
     "data": {
      "image/svg+xml": [
       "<?xml version=\"1.0\" encoding=\"utf-8\" standalone=\"no\"?>\n",
       "<!DOCTYPE svg PUBLIC \"-//W3C//DTD SVG 1.1//EN\"\n",
       "  \"http://www.w3.org/Graphics/SVG/1.1/DTD/svg11.dtd\">\n",
       "<svg xmlns:xlink=\"http://www.w3.org/1999/xlink\" width=\"1065.6pt\" height=\"352.8pt\" viewBox=\"0 0 1065.6 352.8\" xmlns=\"http://www.w3.org/2000/svg\" version=\"1.1\">\n",
       " <metadata>\n",
       "  <rdf:RDF xmlns:dc=\"http://purl.org/dc/elements/1.1/\" xmlns:cc=\"http://creativecommons.org/ns#\" xmlns:rdf=\"http://www.w3.org/1999/02/22-rdf-syntax-ns#\">\n",
       "   <cc:Work>\n",
       "    <dc:type rdf:resource=\"http://purl.org/dc/dcmitype/StillImage\"/>\n",
       "    <dc:date>2022-05-25T19:21:32.824463</dc:date>\n",
       "    <dc:format>image/svg+xml</dc:format>\n",
       "    <dc:creator>\n",
       "     <cc:Agent>\n",
       "      <dc:title>Matplotlib v3.5.2, https://matplotlib.org/</dc:title>\n",
       "     </cc:Agent>\n",
       "    </dc:creator>\n",
       "   </cc:Work>\n",
       "  </rdf:RDF>\n",
       " </metadata>\n",
       " <defs>\n",
       "  <style type=\"text/css\">*{stroke-linejoin: round; stroke-linecap: butt}</style>\n",
       " </defs>\n",
       " <g id=\"figure_1\">\n",
       "  <g id=\"patch_1\">\n",
       "   <path d=\"M 0 352.8 \n",
       "L 1065.6 352.8 \n",
       "L 1065.6 0 \n",
       "L 0 0 \n",
       "L 0 352.8 \n",
       "z\n",
       "\" style=\"fill: none\"/>\n",
       "  </g>\n",
       "  <g id=\"axes_1\">\n",
       "   <g clip-path=\"url(#p16f5b43b0d)\">\n",
       "    <image xlink:href=\"data:image/png;base64,\n",
       "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\" id=\"image08555ed62b\" transform=\"matrix(1.356 0 0 -1.356 7.2 345.6)\" style=\"image-rendering:crisp-edges;image-rendering:pixelated\" width=\"250\" height=\"250\"/>\n",
       "   </g>\n",
       "  </g>\n",
       "  <g id=\"axes_2\">\n",
       "   <g clip-path=\"url(#pa3514ba84b)\">\n",
       "    <image xlink:href=\"data:image/png;base64,\n",
       "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\" id=\"imagef9664fe4de\" transform=\"matrix(1.356 0 0 -1.356 363.6 345.6)\" style=\"image-rendering:crisp-edges;image-rendering:pixelated\" width=\"250\" height=\"250\"/>\n",
       "   </g>\n",
       "  </g>\n",
       "  <g id=\"axes_3\">\n",
       "   <g clip-path=\"url(#p450ba3ea72)\">\n",
       "    <image xlink:href=\"data:image/png;base64,\n",
       "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\" id=\"image5ceded2e10\" transform=\"matrix(1.356 0 0 -1.356 720 345.6)\" style=\"image-rendering:crisp-edges;image-rendering:pixelated\" width=\"250\" height=\"250\"/>\n",
       "   </g>\n",
       "  </g>\n",
       " </g>\n",
       " <defs>\n",
       "  <clipPath id=\"p16f5b43b0d\">\n",
       "   <rect x=\"7.2\" y=\"7.2\" width=\"338.4\" height=\"338.4\"/>\n",
       "  </clipPath>\n",
       "  <clipPath id=\"pa3514ba84b\">\n",
       "   <rect x=\"363.6\" y=\"7.2\" width=\"338.4\" height=\"338.4\"/>\n",
       "  </clipPath>\n",
       "  <clipPath id=\"p450ba3ea72\">\n",
       "   <rect x=\"720\" y=\"7.2\" width=\"338.4\" height=\"338.4\"/>\n",
       "  </clipPath>\n",
       " </defs>\n",
       "</svg>\n"
      ],
      "text/plain": [
       "<Figure size 1080x360 with 3 Axes>"
      ]
     },
     "metadata": {
      "needs_background": "light"
     },
     "output_type": "display_data"
    }
   ],
   "source": [
    "sk1 = ps.filters.prune_branches(sk, iterations=1)\n",
    "sk2 = ps.filters.prune_branches(sk, iterations=2)\n",
    "sk3 = ps.filters.prune_branches(sk, iterations=3)\n",
    "\n",
    "fig, ax = plt.subplots(1, 3, figsize=[15, 5])\n",
    "ax[0].imshow(sk1/im, interpolation='none', origin='lower')\n",
    "ax[0].axis(False)\n",
    "ax[1].imshow(sk2/im, interpolation='none', origin='lower')\n",
    "ax[1].axis(False)\n",
    "ax[2].imshow(sk3/im, interpolation='none', origin='lower')\n",
    "ax[2].axis(False);"
   ]
  }
 ],
 "metadata": {
  "kernelspec": {
   "display_name": "Python 3 (ipykernel)",
   "language": "python",
   "name": "python3"
  },
  "language_info": {
   "codemirror_mode": {
    "name": "ipython",
    "version": 3
   },
   "file_extension": ".py",
   "mimetype": "text/x-python",
   "name": "python",
   "nbconvert_exporter": "python",
   "pygments_lexer": "ipython3",
   "version": "3.8.13"
  }
 },
 "nbformat": 4,
 "nbformat_minor": 4
}
