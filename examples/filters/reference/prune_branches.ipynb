{
 "cells": [
  {
   "cell_type": "markdown",
   "metadata": {},
   "source": [
    "# `prune_branches`\n",
    "Removes dangling branches from a skeleton."
   ]
  },
  {
   "cell_type": "code",
   "execution_count": 1,
   "metadata": {
    "execution": {
     "iopub.execute_input": "2022-06-22T19:21:30.294945Z",
     "iopub.status.busy": "2022-06-22T19:21:30.294421Z",
     "iopub.status.idle": "2022-06-22T19:21:32.631517Z",
     "shell.execute_reply": "2022-06-22T19:21:32.630722Z"
    }
   },
   "outputs": [],
   "source": [
    "import numpy as np\n",
    "import porespy as ps\n",
    "import scipy.ndimage as spim\n",
    "import matplotlib.pyplot as plt\n",
    "from skimage.morphology import skeletonize_3d\n",
    "ps.visualization.set_mpl_style()"
   ]
  },
  {
   "cell_type": "markdown",
   "metadata": {},
   "source": [
    "## `im`\n",
    "The function requires a skeleton such as that produced by ``skimage.mophology.skeletonize_3d``:"
   ]
  },
  {
   "cell_type": "code",
   "execution_count": 2,
   "metadata": {
    "execution": {
     "iopub.execute_input": "2022-06-22T19:21:32.635957Z",
     "iopub.status.busy": "2022-06-22T19:21:32.635220Z",
     "iopub.status.idle": "2022-06-22T19:21:32.842859Z",
     "shell.execute_reply": "2022-06-22T19:21:32.842165Z"
    }
   },
   "outputs": [
    {
     "data": {
      "image/svg+xml": [
       "<?xml version=\"1.0\" encoding=\"utf-8\" standalone=\"no\"?>\n",
       "<!DOCTYPE svg PUBLIC \"-//W3C//DTD SVG 1.1//EN\"\n",
       "  \"http://www.w3.org/Graphics/SVG/1.1/DTD/svg11.dtd\">\n",
       "<svg xmlns:xlink=\"http://www.w3.org/1999/xlink\" width=\"851.4pt\" height=\"424.8pt\" viewBox=\"0 0 851.4 424.8\" xmlns=\"http://www.w3.org/2000/svg\" version=\"1.1\">\n",
       " <metadata>\n",
       "  <rdf:RDF xmlns:dc=\"http://purl.org/dc/elements/1.1/\" xmlns:cc=\"http://creativecommons.org/ns#\" xmlns:rdf=\"http://www.w3.org/1999/02/22-rdf-syntax-ns#\">\n",
       "   <cc:Work>\n",
       "    <dc:type rdf:resource=\"http://purl.org/dc/dcmitype/StillImage\"/>\n",
       "    <dc:date>2022-06-22T19:21:32.792154</dc:date>\n",
       "    <dc:format>image/svg+xml</dc:format>\n",
       "    <dc:creator>\n",
       "     <cc:Agent>\n",
       "      <dc:title>Matplotlib v3.5.2, https://matplotlib.org/</dc:title>\n",
       "     </cc:Agent>\n",
       "    </dc:creator>\n",
       "   </cc:Work>\n",
       "  </rdf:RDF>\n",
       " </metadata>\n",
       " <defs>\n",
       "  <style type=\"text/css\">*{stroke-linejoin: round; stroke-linecap: butt}</style>\n",
       " </defs>\n",
       " <g id=\"figure_1\">\n",
       "  <g id=\"patch_1\">\n",
       "   <path d=\"M 0 424.8 \n",
       "L 851.4 424.8 \n",
       "L 851.4 0 \n",
       "L 0 0 \n",
       "L 0 424.8 \n",
       "z\n",
       "\" style=\"fill: none\"/>\n",
       "  </g>\n",
       "  <g id=\"axes_1\">\n",
       "   <g clip-path=\"url(#p67efc54fe4)\">\n",
       "    <image xlink:href=\"data:image/png;base64,\n",
       "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\" id=\"imagebfcb50c6f9\" transform=\"matrix(1.644 0 0 -1.644 7.2 417.6)\" style=\"image-rendering:crisp-edges;image-rendering:pixelated\" width=\"250\" height=\"250\"/>\n",
       "   </g>\n",
       "  </g>\n",
       "  <g id=\"axes_2\">\n",
       "   <g clip-path=\"url(#pe2cd0f3997)\">\n",
       "    <image xlink:href=\"data:image/png;base64,\n",
       "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\" id=\"image3a77da672a\" transform=\"matrix(1.644 0 0 -1.644 433.8 417.6)\" style=\"image-rendering:crisp-edges;image-rendering:pixelated\" width=\"250\" height=\"250\"/>\n",
       "   </g>\n",
       "  </g>\n",
       " </g>\n",
       " <defs>\n",
       "  <clipPath id=\"p67efc54fe4\">\n",
       "   <rect x=\"7.2\" y=\"7.2\" width=\"410.4\" height=\"410.4\"/>\n",
       "  </clipPath>\n",
       "  <clipPath id=\"pe2cd0f3997\">\n",
       "   <rect x=\"433.8\" y=\"7.2\" width=\"410.4\" height=\"410.4\"/>\n",
       "  </clipPath>\n",
       " </defs>\n",
       "</svg>\n"
      ],
      "text/plain": [
       "<Figure size 864x432 with 2 Axes>"
      ]
     },
     "metadata": {
      "needs_background": "light"
     },
     "output_type": "display_data"
    }
   ],
   "source": [
    "im = ps.generators.blobs(shape=[250, 250], blobiness=1, porosity=0.6)\n",
    "sk = skeletonize_3d(im)\n",
    "sk1 = ps.filters.prune_branches(sk)\n",
    "\n",
    "fig, ax = plt.subplots(1, 2, figsize=[12, 6])\n",
    "ax[0].imshow(sk/im, interpolation='none', origin='lower')\n",
    "ax[0].axis(False)\n",
    "ax[1].imshow(sk1/im, interpolation='none', origin='lower')\n",
    "ax[1].axis(False);"
   ]
  },
  {
   "cell_type": "markdown",
   "metadata": {},
   "source": [
    "## `iterations`\n",
    "How many times to repeat the process.  This is equivalen to just calling the function multiple times with the returned image, but is more convenient."
   ]
  },
  {
   "cell_type": "code",
   "execution_count": 3,
   "metadata": {
    "execution": {
     "iopub.execute_input": "2022-06-22T19:21:32.848427Z",
     "iopub.status.busy": "2022-06-22T19:21:32.846623Z",
     "iopub.status.idle": "2022-06-22T19:21:33.100146Z",
     "shell.execute_reply": "2022-06-22T19:21:33.099525Z"
    }
   },
   "outputs": [
    {
     "data": {
      "image/svg+xml": [
       "<?xml version=\"1.0\" encoding=\"utf-8\" standalone=\"no\"?>\n",
       "<!DOCTYPE svg PUBLIC \"-//W3C//DTD SVG 1.1//EN\"\n",
       "  \"http://www.w3.org/Graphics/SVG/1.1/DTD/svg11.dtd\">\n",
       "<svg xmlns:xlink=\"http://www.w3.org/1999/xlink\" width=\"1065.6pt\" height=\"352.8pt\" viewBox=\"0 0 1065.6 352.8\" xmlns=\"http://www.w3.org/2000/svg\" version=\"1.1\">\n",
       " <metadata>\n",
       "  <rdf:RDF xmlns:dc=\"http://purl.org/dc/elements/1.1/\" xmlns:cc=\"http://creativecommons.org/ns#\" xmlns:rdf=\"http://www.w3.org/1999/02/22-rdf-syntax-ns#\">\n",
       "   <cc:Work>\n",
       "    <dc:type rdf:resource=\"http://purl.org/dc/dcmitype/StillImage\"/>\n",
       "    <dc:date>2022-06-22T19:21:33.046623</dc:date>\n",
       "    <dc:format>image/svg+xml</dc:format>\n",
       "    <dc:creator>\n",
       "     <cc:Agent>\n",
       "      <dc:title>Matplotlib v3.5.2, https://matplotlib.org/</dc:title>\n",
       "     </cc:Agent>\n",
       "    </dc:creator>\n",
       "   </cc:Work>\n",
       "  </rdf:RDF>\n",
       " </metadata>\n",
       " <defs>\n",
       "  <style type=\"text/css\">*{stroke-linejoin: round; stroke-linecap: butt}</style>\n",
       " </defs>\n",
       " <g id=\"figure_1\">\n",
       "  <g id=\"patch_1\">\n",
       "   <path d=\"M 0 352.8 \n",
       "L 1065.6 352.8 \n",
       "L 1065.6 0 \n",
       "L 0 0 \n",
       "L 0 352.8 \n",
       "z\n",
       "\" style=\"fill: none\"/>\n",
       "  </g>\n",
       "  <g id=\"axes_1\">\n",
       "   <g clip-path=\"url(#p45ab2f91ac)\">\n",
       "    <image xlink:href=\"data:image/png;base64,\n",
       "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\" id=\"image5ecdd8f915\" transform=\"matrix(1.356 0 0 -1.356 7.2 345.6)\" style=\"image-rendering:crisp-edges;image-rendering:pixelated\" width=\"250\" height=\"250\"/>\n",
       "   </g>\n",
       "  </g>\n",
       "  <g id=\"axes_2\">\n",
       "   <g clip-path=\"url(#p1937dde84a)\">\n",
       "    <image xlink:href=\"data:image/png;base64,\n",
       "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\" id=\"image93b5ff265c\" transform=\"matrix(1.356 0 0 -1.356 363.6 345.6)\" style=\"image-rendering:crisp-edges;image-rendering:pixelated\" width=\"250\" height=\"250\"/>\n",
       "   </g>\n",
       "  </g>\n",
       "  <g id=\"axes_3\">\n",
       "   <g clip-path=\"url(#p86e7bfc3f3)\">\n",
       "    <image xlink:href=\"data:image/png;base64,\n",
       "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\" id=\"imageddc8ac5c77\" transform=\"matrix(1.356 0 0 -1.356 720 345.6)\" style=\"image-rendering:crisp-edges;image-rendering:pixelated\" width=\"250\" height=\"250\"/>\n",
       "   </g>\n",
       "  </g>\n",
       " </g>\n",
       " <defs>\n",
       "  <clipPath id=\"p45ab2f91ac\">\n",
       "   <rect x=\"7.2\" y=\"7.2\" width=\"338.4\" height=\"338.4\"/>\n",
       "  </clipPath>\n",
       "  <clipPath id=\"p1937dde84a\">\n",
       "   <rect x=\"363.6\" y=\"7.2\" width=\"338.4\" height=\"338.4\"/>\n",
       "  </clipPath>\n",
       "  <clipPath id=\"p86e7bfc3f3\">\n",
       "   <rect x=\"720\" y=\"7.2\" width=\"338.4\" height=\"338.4\"/>\n",
       "  </clipPath>\n",
       " </defs>\n",
       "</svg>\n"
      ],
      "text/plain": [
       "<Figure size 1080x360 with 3 Axes>"
      ]
     },
     "metadata": {
      "needs_background": "light"
     },
     "output_type": "display_data"
    }
   ],
   "source": [
    "sk1 = ps.filters.prune_branches(sk, iterations=1)\n",
    "sk2 = ps.filters.prune_branches(sk, iterations=2)\n",
    "sk3 = ps.filters.prune_branches(sk, iterations=3)\n",
    "\n",
    "fig, ax = plt.subplots(1, 3, figsize=[15, 5])\n",
    "ax[0].imshow(sk1/im, interpolation='none', origin='lower')\n",
    "ax[0].axis(False)\n",
    "ax[1].imshow(sk2/im, interpolation='none', origin='lower')\n",
    "ax[1].axis(False)\n",
    "ax[2].imshow(sk3/im, interpolation='none', origin='lower')\n",
    "ax[2].axis(False);"
   ]
  }
 ],
 "metadata": {
  "kernelspec": {
   "display_name": "Python 3 (ipykernel)",
   "language": "python",
   "name": "python3"
  },
  "language_info": {
   "codemirror_mode": {
    "name": "ipython",
    "version": 3
   },
   "file_extension": ".py",
   "mimetype": "text/x-python",
   "name": "python",
   "nbconvert_exporter": "python",
   "pygments_lexer": "ipython3",
   "version": "3.8.13"
  }
 },
 "nbformat": 4,
 "nbformat_minor": 4
}
