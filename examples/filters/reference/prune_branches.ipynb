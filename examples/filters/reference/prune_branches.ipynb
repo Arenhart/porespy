{
 "cells": [
  {
   "cell_type": "markdown",
   "metadata": {},
   "source": [
    "# `prune_branches`\n",
    "Removes dangling branches from a skeleton."
   ]
  },
  {
   "cell_type": "code",
   "execution_count": 1,
   "metadata": {
    "execution": {
     "iopub.execute_input": "2022-06-22T19:28:59.460319Z",
     "iopub.status.busy": "2022-06-22T19:28:59.459789Z",
     "iopub.status.idle": "2022-06-22T19:29:01.479594Z",
     "shell.execute_reply": "2022-06-22T19:29:01.478844Z"
    }
   },
   "outputs": [],
   "source": [
    "import numpy as np\n",
    "import porespy as ps\n",
    "import scipy.ndimage as spim\n",
    "import matplotlib.pyplot as plt\n",
    "from skimage.morphology import skeletonize_3d\n",
    "ps.visualization.set_mpl_style()"
   ]
  },
  {
   "cell_type": "markdown",
   "metadata": {},
   "source": [
    "## `im`\n",
    "The function requires a skeleton such as that produced by ``skimage.mophology.skeletonize_3d``:"
   ]
  },
  {
   "cell_type": "code",
   "execution_count": 2,
   "metadata": {
    "execution": {
     "iopub.execute_input": "2022-06-22T19:29:01.487124Z",
     "iopub.status.busy": "2022-06-22T19:29:01.484586Z",
     "iopub.status.idle": "2022-06-22T19:29:01.649631Z",
     "shell.execute_reply": "2022-06-22T19:29:01.649075Z"
    }
   },
   "outputs": [
    {
     "data": {
      "image/svg+xml": [
       "<?xml version=\"1.0\" encoding=\"utf-8\" standalone=\"no\"?>\n",
       "<!DOCTYPE svg PUBLIC \"-//W3C//DTD SVG 1.1//EN\"\n",
       "  \"http://www.w3.org/Graphics/SVG/1.1/DTD/svg11.dtd\">\n",
       "<svg xmlns:xlink=\"http://www.w3.org/1999/xlink\" width=\"851.4pt\" height=\"424.8pt\" viewBox=\"0 0 851.4 424.8\" xmlns=\"http://www.w3.org/2000/svg\" version=\"1.1\">\n",
       " <metadata>\n",
       "  <rdf:RDF xmlns:dc=\"http://purl.org/dc/elements/1.1/\" xmlns:cc=\"http://creativecommons.org/ns#\" xmlns:rdf=\"http://www.w3.org/1999/02/22-rdf-syntax-ns#\">\n",
       "   <cc:Work>\n",
       "    <dc:type rdf:resource=\"http://purl.org/dc/dcmitype/StillImage\"/>\n",
       "    <dc:date>2022-06-22T19:29:01.626581</dc:date>\n",
       "    <dc:format>image/svg+xml</dc:format>\n",
       "    <dc:creator>\n",
       "     <cc:Agent>\n",
       "      <dc:title>Matplotlib v3.5.2, https://matplotlib.org/</dc:title>\n",
       "     </cc:Agent>\n",
       "    </dc:creator>\n",
       "   </cc:Work>\n",
       "  </rdf:RDF>\n",
       " </metadata>\n",
       " <defs>\n",
       "  <style type=\"text/css\">*{stroke-linejoin: round; stroke-linecap: butt}</style>\n",
       " </defs>\n",
       " <g id=\"figure_1\">\n",
       "  <g id=\"patch_1\">\n",
       "   <path d=\"M 0 424.8 \n",
       "L 851.4 424.8 \n",
       "L 851.4 0 \n",
       "L 0 0 \n",
       "L 0 424.8 \n",
       "z\n",
       "\" style=\"fill: none\"/>\n",
       "  </g>\n",
       "  <g id=\"axes_1\">\n",
       "   <g clip-path=\"url(#pd80d94a089)\">\n",
       "    <image xlink:href=\"data:image/png;base64,\n",
       "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\" id=\"image8ca0e472d0\" transform=\"matrix(1.644 0 0 -1.644 7.2 417.6)\" style=\"image-rendering:crisp-edges;image-rendering:pixelated\" width=\"250\" height=\"250\"/>\n",
       "   </g>\n",
       "  </g>\n",
       "  <g id=\"axes_2\">\n",
       "   <g clip-path=\"url(#pe9f8ecb38d)\">\n",
       "    <image xlink:href=\"data:image/png;base64,\n",
       "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\" id=\"image57b54d3d1e\" transform=\"matrix(1.644 0 0 -1.644 433.8 417.6)\" style=\"image-rendering:crisp-edges;image-rendering:pixelated\" width=\"250\" height=\"250\"/>\n",
       "   </g>\n",
       "  </g>\n",
       " </g>\n",
       " <defs>\n",
       "  <clipPath id=\"pd80d94a089\">\n",
       "   <rect x=\"7.2\" y=\"7.2\" width=\"410.4\" height=\"410.4\"/>\n",
       "  </clipPath>\n",
       "  <clipPath id=\"pe9f8ecb38d\">\n",
       "   <rect x=\"433.8\" y=\"7.2\" width=\"410.4\" height=\"410.4\"/>\n",
       "  </clipPath>\n",
       " </defs>\n",
       "</svg>\n"
      ],
      "text/plain": [
       "<Figure size 864x432 with 2 Axes>"
      ]
     },
     "metadata": {
      "needs_background": "light"
     },
     "output_type": "display_data"
    }
   ],
   "source": [
    "im = ps.generators.blobs(shape=[250, 250], blobiness=1, porosity=0.6)\n",
    "sk = skeletonize_3d(im)\n",
    "sk1 = ps.filters.prune_branches(sk)\n",
    "\n",
    "fig, ax = plt.subplots(1, 2, figsize=[12, 6])\n",
    "ax[0].imshow(sk/im, interpolation='none', origin='lower')\n",
    "ax[0].axis(False)\n",
    "ax[1].imshow(sk1/im, interpolation='none', origin='lower')\n",
    "ax[1].axis(False);"
   ]
  },
  {
   "cell_type": "markdown",
   "metadata": {},
   "source": [
    "## `iterations`\n",
    "How many times to repeat the process.  This is equivalen to just calling the function multiple times with the returned image, but is more convenient."
   ]
  },
  {
   "cell_type": "code",
   "execution_count": 3,
   "metadata": {
    "execution": {
     "iopub.execute_input": "2022-06-22T19:29:01.654444Z",
     "iopub.status.busy": "2022-06-22T19:29:01.653390Z",
     "iopub.status.idle": "2022-06-22T19:29:01.891368Z",
     "shell.execute_reply": "2022-06-22T19:29:01.890666Z"
    }
   },
   "outputs": [
    {
     "data": {
      "image/svg+xml": [
       "<?xml version=\"1.0\" encoding=\"utf-8\" standalone=\"no\"?>\n",
       "<!DOCTYPE svg PUBLIC \"-//W3C//DTD SVG 1.1//EN\"\n",
       "  \"http://www.w3.org/Graphics/SVG/1.1/DTD/svg11.dtd\">\n",
       "<svg xmlns:xlink=\"http://www.w3.org/1999/xlink\" width=\"1065.6pt\" height=\"352.8pt\" viewBox=\"0 0 1065.6 352.8\" xmlns=\"http://www.w3.org/2000/svg\" version=\"1.1\">\n",
       " <metadata>\n",
       "  <rdf:RDF xmlns:dc=\"http://purl.org/dc/elements/1.1/\" xmlns:cc=\"http://creativecommons.org/ns#\" xmlns:rdf=\"http://www.w3.org/1999/02/22-rdf-syntax-ns#\">\n",
       "   <cc:Work>\n",
       "    <dc:type rdf:resource=\"http://purl.org/dc/dcmitype/StillImage\"/>\n",
       "    <dc:date>2022-06-22T19:29:01.845522</dc:date>\n",
       "    <dc:format>image/svg+xml</dc:format>\n",
       "    <dc:creator>\n",
       "     <cc:Agent>\n",
       "      <dc:title>Matplotlib v3.5.2, https://matplotlib.org/</dc:title>\n",
       "     </cc:Agent>\n",
       "    </dc:creator>\n",
       "   </cc:Work>\n",
       "  </rdf:RDF>\n",
       " </metadata>\n",
       " <defs>\n",
       "  <style type=\"text/css\">*{stroke-linejoin: round; stroke-linecap: butt}</style>\n",
       " </defs>\n",
       " <g id=\"figure_1\">\n",
       "  <g id=\"patch_1\">\n",
       "   <path d=\"M 0 352.8 \n",
       "L 1065.6 352.8 \n",
       "L 1065.6 0 \n",
       "L 0 0 \n",
       "L 0 352.8 \n",
       "z\n",
       "\" style=\"fill: none\"/>\n",
       "  </g>\n",
       "  <g id=\"axes_1\">\n",
       "   <g clip-path=\"url(#p4f9460e6f4)\">\n",
       "    <image xlink:href=\"data:image/png;base64,\n",
       "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\" id=\"image3e032cb2fc\" transform=\"matrix(1.356 0 0 -1.356 7.2 345.6)\" style=\"image-rendering:crisp-edges;image-rendering:pixelated\" width=\"250\" height=\"250\"/>\n",
       "   </g>\n",
       "  </g>\n",
       "  <g id=\"axes_2\">\n",
       "   <g clip-path=\"url(#p9695bc9e2a)\">\n",
       "    <image xlink:href=\"data:image/png;base64,\n",
       "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\" id=\"image9bdd9975df\" transform=\"matrix(1.356 0 0 -1.356 363.6 345.6)\" style=\"image-rendering:crisp-edges;image-rendering:pixelated\" width=\"250\" height=\"250\"/>\n",
       "   </g>\n",
       "  </g>\n",
       "  <g id=\"axes_3\">\n",
       "   <g clip-path=\"url(#p9fa422f0a3)\">\n",
       "    <image xlink:href=\"data:image/png;base64,\n",
       "iVBORw0KGgoAAAANSUhEUgAAAPoAAAD6CAYAAACI7Fo9AAAVgElEQVR4nO2d220Yuw5F5SBVpIoUYSANuMw0ECBFpIq04ftx7pwzHs+DpPjYpLiAfCSxZySSW9To+TImeX15e599hiW/33++WL9DYoPZcqHa/axemmX18CcCGjbb2+prdGEaP379/fPh7z++fQ8pR+PPlNDRqdr6UxrYo6jH+Czss585+zkOry9v73u7dzLAoKzQq4r8iU28V2Ld7PL68vZ+9TOzmf8odi1W9amEo63EQkduqVcMCKrAz/5+9OVV5ucIHjk+qnMW/+UyurfIvQP67H2//v4hC/zuZ67qsj377j2WrNZwz8TUla2+vL68vXMezP15TzIFhMSG3N/h2uPp5398+375XW9FJp9Gc2erfzM6qniR8bSZ17so2d0rs3NFfizzKo0EpZ5fPArigadTtXo11GdEzNNnEsmVP5B7n1dY9drKfaNr4RUgdyPU2YJUE82GZrMjcuNl/VlWQugWQeHJzDsjBsg8u++aWE37zWAt8I0yXXcNVs6gWeH6DMXH3p8VsEL//f7zZfsTXZaMWAdRxAi8FtFil75/RgtwQj8T953gtRqCaOdLsOw+U+zRYvd978zvQgn9SbSd4XlIA4Pze1Zi9xAiwmInL2CEzhGwdrc+Yza3QmKLSLFn2e6r9R7pc0qMuq8ItdvOGWmWBtFWliexo47SZ5h+2yOZPXhByGaRBkaovwTJ97nFfD2nHNIxhaf4yHCwhUWcccoaLvQWOR+UOWxJOSzEHi0iClaxRi1nqNBb5Hwyi1zjd6lHVWmepoM+FkQpX9g3eoucD4LIJXvTNTl+T1O37c6UG3FF3R5K+UIyulW3yPNbzhsUkWuVwao+T8/dZ3qL8YI7LOMPSujeAx2/33+Gj0FoUE3kVs/kPs9qcPAK61i8K5fbPHrEaGaLHLsMmvPvkjJu78+6uu/IXbybC71Xs8mpLPINDbHPlPHHt+9swWdMIKZCb4HLQRC5F1Kxb+LUsNNe8BRQxX5VLjOht8jloIjcsxxcsW9lOyvfzBLpCmI/A2ate/MPK4p8gyoyzqm3EtFbrN2PPl/QZB69s7kMBJFL5puP/p4J6r3INOfCx+DNwlBP0UGfY98wmX7yPqjR610eeIt9dgWZ5dJUbtk4cUctG9Uf3kt0n1C7qaWx4S6jaeB50eLT0dFPWJdNU4BoCefY01AXeoZuDDr7m1H2f58hcukq6sIlSrmyHoR5pDM6MEfBH/+dCkKgZhZ7BVroCaBed0z9/ShQRYVarln23XdVoXe33Qfuem4kUEV1V64K3feeRy+Ox2Cb1+95P7MCW+OlJvQ2dMMBMV4Qy6TB68vbu4rQqxqosSVT3GQ+w36MAl33TMFSCS27azzHKwYyi31a6C20ZpZMW5mzin1K6Fmc0+hi5XeJ4CNu0s04+t7z6A0Zr4Z9/5478XWioSMWeht5LaL87fVexLl9TTqjN7es0KBXF/kYwm/0FZzfrOHnFUQ+RoHptaaRsorIxxB03au08tQBn6YmqD6f3cN/xZLf6Gfnio2B6/yMeNxtXomzmNSMx+WEfhdcKIJH6W1wz0PjljXqXvJo/x7xqD+r1UBtgS3qgHDO1x604LQg61TaTPa1uLP+DEjhcuAaxDJDSUEsUyTWgtewoUbC8GzYlxP6GFhZXRLULXY5niKfQdvHqafXIm+njCTTJhApry9v79uf6LJUQJxNogNtNgAQsrqGDVcUQuQd5Rmz+RjMjL4vQPYAo5Y/ukF7YoXsfkSa6bPH7AxkoZ8ZKcpwKzvsihZ8HSz8OP2N7mVoi2+2yCBB2tOdnYpi10blO1U7sLwdRym/xdyr5vPOWE0AXtNVGX33mNEpL9QqVNWuWBSd2fOi7btboXt3yz3eJSWraLKWGxmveNX03aXQ0YUXQYsmLxa+y6SRT0L3zq6ZjDVGTrFnLLOEiHpaL+zRqtO/Qp8tbDbBNuvhsYbeQgca5f4S+X2ctXFYJUNmguoTrxFztNhOvdY9ktmAQZxCzErkWfBezJZ5eaFndHrzH0g3uh5ByurLC30GjazuGQzdqH0kmz1myttCn0RrB5rnIRfZAvyKTBc0ajATI8udGWeB1kF+Z8+wXBN/9150NO2ifRAjIi10cDzEn130GliIHam3sHTXXTsraD3rif0ijcrB6Q1y3Wf9rCr0VbNBNNqiRw54a6rWfemMXpEW+zwV695CV6J7M7VAmp3QiK1lhY7ixEYG4pn7R5Aa/1ChVxEbkkMbLFBiQ13oKBXzYrX6IpEhq48xN1iqVcclu+5VehJnZJ0ylJJF7BtRF1OEL5jJvCoJrdwZhGkByqUiXO4WQ/WVTAqgCbTRoYJfrbI9hNCztcRj4AVVRhtagHjoAwIQQm8abVrwH2mhF6Cz+TWadw5oPCcKGKF7B2t2x3lRoRFpXzNH3Xs7Y5OVrCPzWjxObXHvEc+2ZDBbea/wOMrY8vleSOyUse7Hep523bcF/RyjaGwCWLW1zUAV32QULZczX8E5r7O6nNVONpXCtVOmOl/VDWYwLitImS7bxX+NLne+gRN6xkBCKnOLfU2efAIn9Ag0xFHtoIInUOra0IB1VuYri1C+6Sp8sx/rMPs+qU1QfHoGpU6wGT1zxkDJ7sjBSeHMhjO2nfEJgj9nSFH4bHuO9yCJzSpYo+4Gp763Ym9tD6V+KYS+4d1N1AAxMMbIEfzcxVrS3+eC5FNqHVMJfSM6sLggBcYRrbvjNMqyB72rjOJTqp1gv9HvQA+CTPR2ThkIMcgpQ0qhj4Fh6Eq02HPBjf/wM+MaPmdO1rrNFaEBRSgDhYjzDqW2SS30zAdLSrlytNWhgk+sZn9LLBu4tF33FamwAKYaWj6x9q16Rvee6tCiSvk0ejmRXXh0P2TF7dpk5NHdasHlNWWG6s9seMTf8l33DCLPUMZGjmWDuSVYNaFTC6tZqagNDp5ErOveyDKi3Hzm2INOm9FngtB700nm7907O7cw/wHNDmc+Syf02W99NKfcoVFW6/pmsucKXGkjxTy61sEQGmXxQvtWVKkNKeWImsNv6IQI/Wn6RjNgsgl8DJsyeywuWnEBUxaguu6aU3Aohz9wsSwz99mSslQ5UZcL+qEWIUI/Ox6oehbndIGty/H0ntlGEtH+K3CnofBv9MytuCbe4vAYpGvf4hDadV/xwIIzMpaZQtV6XYFcX3ehIxsjgrZHo8FT0oQajJsFWTSrdmO59/dZlsUD1DqECX3VwN+DGhTaoAxErozKYFyL9pqs23Y9aVvMQdGf+6j7Ko3CKvWkcjYK3wL3I3x6rRotcBotcl9a6EpUEbjlbrUtq7fIP+Jhk1Kj7lGsIPLt/6V13f9uFXtlAv5aHg5RmUJSd7Ssxq0Dp/xPz756Vsa98N5bqKnvUzVWtNgjnG+5/dMLyzp4xgSCTb1PPQoROufFFng7usJRVpZ1WK3hj9iYRX2n+mBcH0KwFsiDa1sMopbvDspUJEdjZqPumXYvRc3vIoukEh52to712eebjrpnCOIzA1JGl7M0YpEg+d/6SGWrZ2thPr2G5OwjCGLOECRVsLB1Fv+5zKN7doU9npnFuR5QTqvxKos3meIg7ajkFZrzu55kWgOwR3t02INZWyPVhYrryrjKrXtWvM6Gq+L7LCLfzv3b/vQJM81yzCzj1S6LBWcagzgFtqGzzQjs/8w+0+tY58x+zyLyK8I2tVidu57dIVfciTpTnVHEzrFZBfuG717LetGCJk/177vK46hiV5j96L10NhbPlYwZVk1qz0ZE1zc8ox/JluGzlReFyjY7q5vXLTxX/weT0Y/MtPrWa5s5joxuyZGJzOxWF1lS/j+izl+07z3TBK3Vl2Tv/Vzm1c+g2t+DiKuoIkQu/VktPrSoaMLasD7BhfJ8LdtIjn/2Kh/HztlW8lme3iK1hef+9RRH8Ho518sWXLEjCl3rndpYfLZZns2veU343f+30IM4q5M0q2vWM0NWr4j1WXMfBuPacX6cDURlOxGlD87QY29Hix4c7Kj7ynAEFC20Frs+FvZM4aCKXfcNylHIlt+IkjJ5lqXRAW7BzJGVp57GyHNJ4+p+Qke1655hYC87XiusJMLtbjwemx/dpgcs5zE13xmB9XytlFXsX5Gj76a67lW3+iESIRqNI5c09803NM5sLRa6tGtn+fwGmxZ8HCKhzzirHf0Z5JNU+3CQXFzZNmTU3eM8dUtxdJd0nrabL71ghgHlKCftBqbygFaP0uty13iyMzra2ewWv3+Ek7krL+5p8gKb0VECf2bQEa3BQqSzug5PcQq/Mi6S2d7L7Dd8f8c2FChxwhb6Kq2vpsieBu5WH9Rbue6zUG0H23WPxDLwuM+O7tq2CDHh+qW77gcQAxuxTNpY1LFqT0lSJ3GmsD4RIwL0oIiwm6dNPI5mQo29J2b90Bn9/6CLfIwcZZxhduCS8vvZsrxWecVCz9oynpHN8dFlQMN634U3FqsupzJ6drFna929ibDNyv6wjMclu+7ZBe5V9gwNefZ1Cl57JqaFniEYNrILfE+VepxhvdxY+xnS93q+W2UeHf12TOSyNec8rR948umvv38+/P3Ht+8q5ZKAEH+lD/5HMLA11rbMZsNN4EdhX/37BtKtKxa4XF1zxEPoyEbXJsqeZ++NsPs+ez9l7l9//5z+zIwNM8RaOaF7Gv3YPeSg2ZVEHSfx8MWVcJ9+Z4zPPpi9qw+ZkGOCkC4e4MLJHpTnaAkeVexj6PpF89v72EhQbZhJ4Bth54FZX0OsiZa4756t8dyqYve0f9V77NMK3VPgHiO2Wu+qInaJuGeund7bn3vhYQbCutARFzpwkHz7ab13jDnBo4qdKzgq0vqelSfK79aEfiujfhMhOLuq4O98ybW71VHUCP7XxmQJrOb394oiH+Mfgf/49n1qZL/SSsAjVo3Y7/efL5vdZ2yPBuxa96oBGkEGwXMaWI+eikZDiwSk0L2/xfd/ELK5FQiCz3Ay7v4dVcT+1erygaf17zMjpDM8zcOiiX0LNKQyRRE15lDBBx82tVCXOVKR/K7mBpmzlvjJWRWc+kT0gZMZyR4Xj7vXrDK+NhJRN3lAiL3MYmdtU/USPTerRxnfa1NH5gCrRlZfiPejW4sefY/7FUdbZKwDGgjZfE9GsascPLEFs8VNopQDBpANTrFJNwZY4qH4A6m8FFSn1ywCFq013+Mp0CrTPJXQ9slxqldz0Y76lUyeI7oILWqPYNeC23hLMztn8Fgjzk3uXtMOfvTvdatPlyOa3cVMDZRXWaUx9uSX2RkhDb/3JYuKSAQfObvg1UBRifzunU0kd914jfrM2sZM6NZZXbI22qtXQJ2RQJlC1F4olQ3NuLBspGbEbprRo7uHx3dHfAJovC8iy1lme4kfomMJBanYXY7NsTg26q6yT+/LNGWHUBarfd9X//dUZ8RjyLz9xH3fZUbXPDvL81uwUquPIPIxbLLpXVZ/yloa8YQ8uEuBm9ldt6nO3DMVebpsBCgi30BcIyGNp+wilxA26n409uy2VU2RR47+eh5IiYDWuMldPHlsfY7wFydOyUK3NtaKrewRtCzuxZnYZxvbjqePsLapVgCtPpZnlmcCfVHUGfveF3ojfSp0dINLjcqpl6XzWtw0EAV05TvEsu75ii5qKrPX7FrT4s4L1XfIYk+3BPZp2kXzMIjjssaZjQuWVy55NGKrndcm9R2q2NMJ/QnLRRDcLYNazn4SmfUS3+hpSy/xVO51pRK6Z0t59i6U46qefhZxVSMimjezopNmpDNa5BFErvzyFjj1XjYtv1j72CuG1OfRvYk6TaWCyPe/zxU8cgaf6cIjZ2/puBLHFlBCf/pGqtIKP6G9vXeM68BBELZlrxJ9peGV/bXXFcB03akisxowqShydLixt/mI09uL9KnGLrwrG6ntXvOC2+LOjIJfvadF7o9U5GPQYwX5MM0ZX0viNVToswKb/VZDmvNcQeTS3iOKjzITJvTIHT/RZThSWeQzn4Yo39fSwbKrROKdzccIEDqK81DKUFXk2QUevUhJG1eho2TQBhNtgUs/zbiLlKzErvlcN6FXErnW/Wqdzf8DIT6k/rAQu8bz9vUJH3WXErHB427Ok1uGqiKXYLkdmHskuBSrk3Ik5Tj7dxehazvyzikI3053xxi1wD+CkMm1oIo94vy9dBmdKhTt7tRMt06rDNVAEXkWH0He1LIR6cyMxxNVwKuRRfRtRMxRGirX454j+P3+8yVLi918hvKZZvV8JGYTpqnQPb/NLX+34bOSCO/grs234pPQtwxYwchHKtapKpyxGOuyzDIr9pnrxzZMrvcdw+bbPOrOrci7uTME8hPce9a4dZbu8LKyrdaOM8rvUOtAHozjDDKgjKZegTJINzMVQ3XwTD21hMCZ8qzQsF3BXamnqSPWqDtFIOgi34gW++y77y4a1KqX9r3pGQ7BmOXJ9lSxa+uo/Kj7HVGBpdnA7J8lvcCS+77Z91yNAVldvonG0ze7RbJUnUfPks33eGcZi8CMCnaL67D3dZm95x6Zq8xutWw3zco46+xbodsYhUTw2+/cdWUzC5nCse6WiVJN6BmzuTeU8Y2NjLZ8uhZr+xmv8mRg34239HmKjF4h295NuWxcnYeXSfSSQUKkI72isK47S+ia84NUsov8SeBXdjsTfSYhZMjclB6IBx5+hc3oCA7gYtU19/iGa2oDJ/RsAvdcROT1PRdBVPcdJatL4JSdLHSEvd1IcOyhGcD77H78t+xk/1aP+FyhvnN6rbvncT0ozIpc68y5/Tv2ZBXKhobYuc+YjU30MQlSRs92M6cVGht7zmxxd/QUhbNFF3f/j05EZs/chacgvvtpDFqrWcF4mqeazty3JSXrd73krrWNmbpq7Z5D4jajZ6iAJVKBj6ETaFr2P37XZxI8+gBdFo1cCl37XOkMaHwrR+x/ppJlIA+hQarWlT8V+ioiR2+NrbbSIt4/t4FUnkpi/4oe7BZY1NkqQK33zR+/gSNEFv3+FRAHkcY5Vp5YiYXazcwyfeM5Yo/QRX8iYvDUAriVcRp4isIrSL1OxHmaqrN8V2MHpNAztJARC4UirptaWYyIPVMpoizBnT/PIFwO3quuzqhmU0QkB2mgYpbR0SsuBUHk++dWtXM0lbL5GKBdd0QkA0fVggWZyj1IDURCz77L6Iq7gSfUukYfWx3N1d4BhPPskRBn9Gxip4weo9wTJ3nXimJ/uoBxRZtcMdV1lx6EEHHpnGeDVDEjIMG5lw3x+q0Ipr/Rz9ZPU3+nabhUFSKFmXviu3ujTGQgVvel1LZUu8z4ztr2s8doL30lkzYrZxtrVrYtpe5PP9NCbxpgtBq4FroSK2cca9q28/wPWMXn5nl9W7wAAAAASUVORK5CYII=\" id=\"imagef8b7d4cbf8\" transform=\"matrix(1.356 0 0 -1.356 720 345.6)\" style=\"image-rendering:crisp-edges;image-rendering:pixelated\" width=\"250\" height=\"250\"/>\n",
       "   </g>\n",
       "  </g>\n",
       " </g>\n",
       " <defs>\n",
       "  <clipPath id=\"p4f9460e6f4\">\n",
       "   <rect x=\"7.2\" y=\"7.2\" width=\"338.4\" height=\"338.4\"/>\n",
       "  </clipPath>\n",
       "  <clipPath id=\"p9695bc9e2a\">\n",
       "   <rect x=\"363.6\" y=\"7.2\" width=\"338.4\" height=\"338.4\"/>\n",
       "  </clipPath>\n",
       "  <clipPath id=\"p9fa422f0a3\">\n",
       "   <rect x=\"720\" y=\"7.2\" width=\"338.4\" height=\"338.4\"/>\n",
       "  </clipPath>\n",
       " </defs>\n",
       "</svg>\n"
      ],
      "text/plain": [
       "<Figure size 1080x360 with 3 Axes>"
      ]
     },
     "metadata": {
      "needs_background": "light"
     },
     "output_type": "display_data"
    }
   ],
   "source": [
    "sk1 = ps.filters.prune_branches(sk, iterations=1)\n",
    "sk2 = ps.filters.prune_branches(sk, iterations=2)\n",
    "sk3 = ps.filters.prune_branches(sk, iterations=3)\n",
    "\n",
    "fig, ax = plt.subplots(1, 3, figsize=[15, 5])\n",
    "ax[0].imshow(sk1/im, interpolation='none', origin='lower')\n",
    "ax[0].axis(False)\n",
    "ax[1].imshow(sk2/im, interpolation='none', origin='lower')\n",
    "ax[1].axis(False)\n",
    "ax[2].imshow(sk3/im, interpolation='none', origin='lower')\n",
    "ax[2].axis(False);"
   ]
  }
 ],
 "metadata": {
  "kernelspec": {
   "display_name": "Python 3 (ipykernel)",
   "language": "python",
   "name": "python3"
  },
  "language_info": {
   "codemirror_mode": {
    "name": "ipython",
    "version": 3
   },
   "file_extension": ".py",
   "mimetype": "text/x-python",
   "name": "python",
   "nbconvert_exporter": "python",
   "pygments_lexer": "ipython3",
   "version": "3.8.13"
  }
 },
 "nbformat": 4,
 "nbformat_minor": 4
}
