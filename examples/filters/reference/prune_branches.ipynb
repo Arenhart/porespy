{
 "cells": [
  {
   "cell_type": "markdown",
   "metadata": {},
   "source": [
    "# `prune_branches`\n",
    "Removes dangling branches from a skeleton."
   ]
  },
  {
   "cell_type": "code",
   "execution_count": 1,
   "metadata": {
    "execution": {
     "iopub.execute_input": "2022-05-25T17:15:48.219320Z",
     "iopub.status.busy": "2022-05-25T17:15:48.217731Z",
     "iopub.status.idle": "2022-05-25T17:15:50.101076Z",
     "shell.execute_reply": "2022-05-25T17:15:50.100415Z"
    }
   },
   "outputs": [],
   "source": [
    "import numpy as np\n",
    "import porespy as ps\n",
    "import scipy.ndimage as spim\n",
    "import matplotlib.pyplot as plt\n",
    "from skimage.morphology import skeletonize_3d\n",
    "ps.visualization.set_mpl_style()"
   ]
  },
  {
   "cell_type": "markdown",
   "metadata": {},
   "source": [
    "## `im`\n",
    "The function requires a skeleton such as that produced by ``skimage.mophology.skeletonize_3d``:"
   ]
  },
  {
   "cell_type": "code",
   "execution_count": 2,
   "metadata": {
    "execution": {
     "iopub.execute_input": "2022-05-25T17:15:50.106056Z",
     "iopub.status.busy": "2022-05-25T17:15:50.104749Z",
     "iopub.status.idle": "2022-05-25T17:15:50.255625Z",
     "shell.execute_reply": "2022-05-25T17:15:50.255092Z"
    }
   },
   "outputs": [
    {
     "data": {
      "image/svg+xml": [
       "<?xml version=\"1.0\" encoding=\"utf-8\" standalone=\"no\"?>\n",
       "<!DOCTYPE svg PUBLIC \"-//W3C//DTD SVG 1.1//EN\"\n",
       "  \"http://www.w3.org/Graphics/SVG/1.1/DTD/svg11.dtd\">\n",
       "<svg xmlns:xlink=\"http://www.w3.org/1999/xlink\" width=\"851.4pt\" height=\"424.8pt\" viewBox=\"0 0 851.4 424.8\" xmlns=\"http://www.w3.org/2000/svg\" version=\"1.1\">\n",
       " <metadata>\n",
       "  <rdf:RDF xmlns:dc=\"http://purl.org/dc/elements/1.1/\" xmlns:cc=\"http://creativecommons.org/ns#\" xmlns:rdf=\"http://www.w3.org/1999/02/22-rdf-syntax-ns#\">\n",
       "   <cc:Work>\n",
       "    <dc:type rdf:resource=\"http://purl.org/dc/dcmitype/StillImage\"/>\n",
       "    <dc:date>2022-05-25T17:15:50.230523</dc:date>\n",
       "    <dc:format>image/svg+xml</dc:format>\n",
       "    <dc:creator>\n",
       "     <cc:Agent>\n",
       "      <dc:title>Matplotlib v3.5.2, https://matplotlib.org/</dc:title>\n",
       "     </cc:Agent>\n",
       "    </dc:creator>\n",
       "   </cc:Work>\n",
       "  </rdf:RDF>\n",
       " </metadata>\n",
       " <defs>\n",
       "  <style type=\"text/css\">*{stroke-linejoin: round; stroke-linecap: butt}</style>\n",
       " </defs>\n",
       " <g id=\"figure_1\">\n",
       "  <g id=\"patch_1\">\n",
       "   <path d=\"M 0 424.8 \n",
       "L 851.4 424.8 \n",
       "L 851.4 0 \n",
       "L 0 0 \n",
       "L 0 424.8 \n",
       "z\n",
       "\" style=\"fill: none\"/>\n",
       "  </g>\n",
       "  <g id=\"axes_1\">\n",
       "   <g clip-path=\"url(#p96f5467577)\">\n",
       "    <image xlink:href=\"data:image/png;base64,\n",
       "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\" id=\"image6c36fc8019\" transform=\"matrix(1.644 0 0 -1.644 7.2 417.6)\" style=\"image-rendering:crisp-edges;image-rendering:pixelated\" width=\"250\" height=\"250\"/>\n",
       "   </g>\n",
       "  </g>\n",
       "  <g id=\"axes_2\">\n",
       "   <g clip-path=\"url(#pee8a65b6d7)\">\n",
       "    <image xlink:href=\"data:image/png;base64,\n",
       "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\" id=\"image8cadc5499b\" transform=\"matrix(1.644 0 0 -1.644 433.8 417.6)\" style=\"image-rendering:crisp-edges;image-rendering:pixelated\" width=\"250\" height=\"250\"/>\n",
       "   </g>\n",
       "  </g>\n",
       " </g>\n",
       " <defs>\n",
       "  <clipPath id=\"p96f5467577\">\n",
       "   <rect x=\"7.2\" y=\"7.2\" width=\"410.4\" height=\"410.4\"/>\n",
       "  </clipPath>\n",
       "  <clipPath id=\"pee8a65b6d7\">\n",
       "   <rect x=\"433.8\" y=\"7.2\" width=\"410.4\" height=\"410.4\"/>\n",
       "  </clipPath>\n",
       " </defs>\n",
       "</svg>\n"
      ],
      "text/plain": [
       "<Figure size 864x432 with 2 Axes>"
      ]
     },
     "metadata": {
      "needs_background": "light"
     },
     "output_type": "display_data"
    }
   ],
   "source": [
    "im = ps.generators.blobs(shape=[250, 250], blobiness=1, porosity=0.6)\n",
    "sk = skeletonize_3d(im)\n",
    "sk1 = ps.filters.prune_branches(sk)\n",
    "\n",
    "fig, ax = plt.subplots(1, 2, figsize=[12, 6])\n",
    "ax[0].imshow(sk/im, interpolation='none', origin='lower')\n",
    "ax[0].axis(False)\n",
    "ax[1].imshow(sk1/im, interpolation='none', origin='lower')\n",
    "ax[1].axis(False);"
   ]
  },
  {
   "cell_type": "markdown",
   "metadata": {},
   "source": [
    "## `iterations`\n",
    "How many times to repeat the process.  This is equivalen to just calling the function multiple times with the returned image, but is more convenient."
   ]
  },
  {
   "cell_type": "code",
   "execution_count": 3,
   "metadata": {
    "execution": {
     "iopub.execute_input": "2022-05-25T17:15:50.259742Z",
     "iopub.status.busy": "2022-05-25T17:15:50.258733Z",
     "iopub.status.idle": "2022-05-25T17:15:50.491223Z",
     "shell.execute_reply": "2022-05-25T17:15:50.490680Z"
    }
   },
   "outputs": [
    {
     "data": {
      "image/svg+xml": [
       "<?xml version=\"1.0\" encoding=\"utf-8\" standalone=\"no\"?>\n",
       "<!DOCTYPE svg PUBLIC \"-//W3C//DTD SVG 1.1//EN\"\n",
       "  \"http://www.w3.org/Graphics/SVG/1.1/DTD/svg11.dtd\">\n",
       "<svg xmlns:xlink=\"http://www.w3.org/1999/xlink\" width=\"1065.6pt\" height=\"352.8pt\" viewBox=\"0 0 1065.6 352.8\" xmlns=\"http://www.w3.org/2000/svg\" version=\"1.1\">\n",
       " <metadata>\n",
       "  <rdf:RDF xmlns:dc=\"http://purl.org/dc/elements/1.1/\" xmlns:cc=\"http://creativecommons.org/ns#\" xmlns:rdf=\"http://www.w3.org/1999/02/22-rdf-syntax-ns#\">\n",
       "   <cc:Work>\n",
       "    <dc:type rdf:resource=\"http://purl.org/dc/dcmitype/StillImage\"/>\n",
       "    <dc:date>2022-05-25T17:15:50.464569</dc:date>\n",
       "    <dc:format>image/svg+xml</dc:format>\n",
       "    <dc:creator>\n",
       "     <cc:Agent>\n",
       "      <dc:title>Matplotlib v3.5.2, https://matplotlib.org/</dc:title>\n",
       "     </cc:Agent>\n",
       "    </dc:creator>\n",
       "   </cc:Work>\n",
       "  </rdf:RDF>\n",
       " </metadata>\n",
       " <defs>\n",
       "  <style type=\"text/css\">*{stroke-linejoin: round; stroke-linecap: butt}</style>\n",
       " </defs>\n",
       " <g id=\"figure_1\">\n",
       "  <g id=\"patch_1\">\n",
       "   <path d=\"M 0 352.8 \n",
       "L 1065.6 352.8 \n",
       "L 1065.6 0 \n",
       "L 0 0 \n",
       "L 0 352.8 \n",
       "z\n",
       "\" style=\"fill: none\"/>\n",
       "  </g>\n",
       "  <g id=\"axes_1\">\n",
       "   <g clip-path=\"url(#pd13bef0ac9)\">\n",
       "    <image xlink:href=\"data:image/png;base64,\n",
       "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\" id=\"image4f2b068794\" transform=\"matrix(1.356 0 0 -1.356 7.2 345.6)\" style=\"image-rendering:crisp-edges;image-rendering:pixelated\" width=\"250\" height=\"250\"/>\n",
       "   </g>\n",
       "  </g>\n",
       "  <g id=\"axes_2\">\n",
       "   <g clip-path=\"url(#p7db031a5a9)\">\n",
       "    <image xlink:href=\"data:image/png;base64,\n",
       "iVBORw0KGgoAAAANSUhEUgAAAPoAAAD6CAYAAACI7Fo9AAAW2UlEQVR4nO2d2ZEYtw5FOSpF4SgchKqcgMJ0Aq5yEI7Caej9uPUoDheAxHLBxvlxeUbTzQZxCRLcPsom3z6+/9j9Ww5///jzg/pvR2XiPEMaKzud4GmfFRHsx2Fma81v/ar14CQ5xVvkf/37z6ef/fHb7+blkCCFrszfP/788HbYFd8+vv9AjuqW1OLuiXr1e1S2hI7ouLMypSOvebONZuKtbfLt4/uP+vfP33EE72XnrRdaCp1qFEqZcqxOA0XwmjZbReaRDXpl+uvff9jRvX2+tn+wK3RUoN54ZsSpUahl4j5Hm0hir/Gwm4atON1ubtLsVOwhhM79yLZRODH6qEy7z9ImqthrtG24shEnqNRQfXTX33bErkn9HawKk2rJdp7B6UqtSLHLIm3PmX20xXQ6VEQRe/sdX6h/qCXyk/fvCsZbaN4NjTTfPr7/kLKpZ93cUC9///jzo/cdpKy7tsj/+O130vO8BZrM0c4oawaWW0Q++t1S6N6RXIsI00m7Y9EWy7o6satXl13SD6hBS5rVN7Dn0Wcf0XsZchRGFruks0RvmKOI3JOVL0+F3op0ZPDZC57fIQveGkpWWdKxvaIMKreIu6X2q/YbydMIOyJfPbPFyxktK95a5O2zHxAy1y0nw0SkOiwFrxd1tNb9lpbxtAsv1VvRdo7e8s3256d4+MQtfqgJSeg9B9w1LuomD67YEb+Bw+mabRTQInmN5mpRLsuuu6TI6+eOfufd5ZFchcfB+7slyiAhOmpeSOp93PJQ2LGj9pbYYUT3OsTBO3E0iuzaGyy8RV6Kv+0ROK3nXftp25w8RrfsInk7nGW3HElYJ2XR8A/raO4lcgs+CZ2SaT+BakxvsWuDNi6+2dYUTkSOVpc9vlru4+YY83E8SkID2cA9uKLSzhtEEzlClj3aSTPDrntd+RIryHZEXgrNiBFa1FL45aTa/GRRUjSRa8D1zVLwfa3F5My4XZFTef49stNKR/HV3yCeAhTtXTVRBf7QFXrPKR/H0ZxrRhbqCRYiHz0DeSqzBXVtApqddvi0H331UZS9xzv7k28wZg8PkWs+T4sUuS7bXXeJipFOaHhl6mcJQ0+R18/VEtLN3XaOL3ldzEDF/Fx3xGzl6b7v2XegRIRW7Air4B48hSDx7pUtvHInNZ+ErhUV0ZIZiA0OElbRE/3stRVcO3nt9ehG9Hr+WuLgR4nnUKE0VFGcyAtvkUch0sauYde9nrKq/58DmqDQehU1KEmzFDmNUztZi305Rt8RPKKg0BodRN4mcpRyWEBOxlEFf5KplDR8XY4UeSws6gtB5FJRndJAf+Uun5yJ5/TYH4nsZCvwUrB6FiO0D6pEcOxSzsohZSMUW5QyFru0L/xcMDM6+H1Eu+GEetsKd/02h7YMEQSe2EIVuWUv8PH1Rx8aDf6nlXE7YtcyCqcsFlf1aFWCNlTn1o503ocqIkXyFm2/6l7JxH2p9ymd1vdxaXyLln2QndsSaTtEs+vw7rUokWslcuqe9hGUfAIqO86I7sBI34RuqxryJYunaN13jXg+OQKnSS/JsjxY21Py8sfZOzSfL8VU6JbX4XLJKbMxEnaO4sAjLMu/06BYNEI15ptaOPvao6+D9kDSeXbOIDiFsvx6Ns0mtatyx79m02Sjclnd/2cu9IfZPVHt72t2T6DJxmGfVV1xWC0S6a2DKIWW8EXshVDKZCF2N6HXIM9tRsLCjppRfrYOohV9LQ5EgaMBIfQVkVa4vYUTwe8s/exfIRUvwTtCO6pPk3GcCCHNsxDnMfztIrda8yyNRzR9/OHxj1vQtOVRRNfYOKIVvbnjdKskyQ1Y2+p51xPRJQ4Rqf3OswepZUv23WsPvfHUqcEzYRYXK7HX73iGAG23nrOV+qGXG/A6hUjDll2hc0X+MEuerBg9E/WaZQ2i9yK0y0959qjnNhP27Fm9v7cQvXTSc3r3Wg9qi9lPnvT/biby+r+ngs9pNgx26nG2FLl9XlvPEnW+02uQQKrx/PI8jLJS5+RK2NGac6kjdTWQutPspoTRCo3e1069a+2s9AgUEjb9YtktbjOlO0aL0rVt749DErtneaz87bbZmlO7kbPuUi2ZRHfqZNwulX3nXnXknc0dQRG8VHnfkmvR4qQbTxJ6jmvpzGxFaeROKpMjJE6Dd5qIOhU41yZa/oqgg13/WAod4eN6WEf15531/7dwEpXeduW8n5t9zsiNx/ESWM/rZqyn3rjd9RnSYufY4eS9nNkUDqsyjaabrMf8XDTKuxPVp0JffVzviKW3teYnzo4Q2U+QXhVJQXJmSPNiRM50oAXiJ8xYZ8V333eSeZZchy+RAfduXCOtO6ce8ln/nnOMOffZu3DrfBjRudHck91W0jIhxYHTNfMW+YP3slEKmtdS7/xN+BNmPLonO+/kLGjxWCRhsedbmp1loxZd/11brlZtnpbJ6kKLEPvRqXAM1y5o2X0f9284FRt97btW4o6LZD1J14dVUNweo6N0GVusdlDtvof7t9aHCFLhXmjR7iE/WR05YvSsnYMbez9H6vo/UL/tKBk3O/Du5LmnRI6CyIzEvSP4Oj8ikcSTaDDaRrV+prZPaYv9OOveGsdb5A8zw50uv90t0wiKs3vbVeu7n/+eZO0p9TnrGfV+ZynyB833iI3RvR3RAsSegsUYj/rdp6sVS5E7x2AEpXyeaxt2bbjak3FVMq6lZzSEHXORGkXut582PBLnGJzQPtOjcd89f2H2782uZIqKVUWfjFWpZeQKw7sH0ybwaixE7o2k/a+O6KX8GmE4K5y0y8UFsUwjpIcT7VJbK0Ei2Hy1l4S6hXoodIR12JbzyN6VempraXFp38iyg6ZPevs6BU6upJRfBX99RH/QXOGU9ImyySmCyHeofRte6KdR3Xrxww6R9hVwkTrYUwtNkbff7FmP02Sc1tliO1Miu1MOvZ9HFs4MqbUDGvZBtLmlyEc/swI+otfsGurWrlk0kKK7tcjr33k0esvpNbQTTLkgzIueEK28FE72Ckj44xsbftI8uqTY32hkb7y77QjvetD2P4TeSg/ygploLWnv8H6E6MhxBITy3oTGctmdf+/RGLDG6BG68Yhnp1uhdc6ZJjtTcDvz6UiR3MPO7GTcqbE0FzyUMi5fRsf3cuJzlOQZane9xnytu8ZBglGu39Fs9SNG8xOovUupfeo7v0PCZXpN8phgyjMQnFjLISSei2CfXVZilz43P8pqvxbXefS6Vd6pkCgZfMmLH6jPpeIt8mhrI6L2nNwXzLQHDlArL8JONM2W/waR7xKlgUfCXegPnBNGUCvaoku3e6R14o9nwwoj9IfVCSMIiz88xmgRx4UrbvwmVOCEXuN14MAIlAsdbyDa2PwU72FSiKOkbhW59zd5cXsjhkgIoSd7IDYkKXIfoLvuyT5oIk+B+5JCJyK9UAJNiBpIi/sNNtNCVOjUEyl32BmnR7+kcBdPQWTkxkRsjD4SlLfQEC8p1BSi54oxNDuj4K2BUoSEvvqQkxNFpEBxxBu7nwh2TeYcC50jYG+xlyJ/0CQKvYM2ZkjVBbpdEPC00ePvR2P0HWdB2f1T70ai/ttTOELkbuONuMEj0YF1U8sKhOgswSphZyXyVti3de8RaOv5toZq9j1fOUfwSokbJao/aJZlFpm5VwS/GYkrqyg/Q/JLDqty/4zot0RoFEYbcmoiizuSIHbzSFG+kVJOtwUzaFFdklH0QRH2mxr1k2+VvHBCa00HtWy5Mk6YG6fPvEAZ2iAGJW55UuiCpMj3GOUxds8heJCMoEhi3ylHKKEjbFftEekseQnnP9lL3iOC3Uo5F/tu912igXEVOlIruQtiwzPC6wqkhyh2mmHps5LvCRXRS8GK6gjlGIm3dhJPgXvbR4OIASqc0E+RvDjC24lnAvY8Lw+hAdRmJyOfh0My4Ub127qPpeBOkb1B5DWUeffdupLsObgLXbsbdJvjoQo80akbKX2EPTNudvfWs5MrRS7LyuFuszcKEvXuHtGludXZvEW+4la730Joobdj9QjOxt1IgS5wZG46Suy0C+8u9NPxx+lFjRZQTuCxKkvyTtyFfgp6FE8RJwi4JuOiLTrgcpPIperK2ia3+Njpd7gJHbUCnoMsTx3yJpFLUNs0xW5P2Ok1DVoH3BX8bSI/nVZDsEdksYfd1IJodOpy0rdlyBHrapeIWfhrVsZFI5qj7KAtbu/jj0vBr0dpG5kL/aYIcROa9YJY516C97JF6IguNbWG3rprgihCSywF72lrU6HnbaQYvF3cPbQF723zkFn3FPkeKPfPIaNhHwSbhxN6ipxPCpzHjbYKM0ZHX8+OiIXD3trwSk3FoTQaZkLf+eDIJ8P0vtcy6YfiYBI8jYl1oxJx3n0EZES/NXpbOc6NIvfipM6Q6gEuwlhXrMc1OZpit3Qu7brqPd9T+Jx6QxJ5KWAR3bv1tuKGLmHdndZidH+dl59Q6w1N5KUYRXTkI4I9L77zfPcOSDkT76BAOU8fCYiI7l1pkiCs45YGMWfifZEHqqBHqAs9mkEsQe7CI0XvERGOEUMBIqJ7giw2LyL1sCIdDOpJuJVxSZ+395y0E4PRURU61fm8K+nGcfUukSOjtx8hkxH9P6TWg3sMA9AaC09S7H1UnZLrgLNosnN7pTYzUVvdsplbf/vc9C0ShEjG1UKgnt9mwWwPM6ecuwlB7+/ngthYvwWoiF5KvyWWipyaSKyYoopd45s1IuDqe/IWXTtCRPQZkaLE6v6s+neRvquG0zPRvDLbe0GNFFLrBFSTcTvnou8mU6LMhXOidiSR5xn4stTXfkskGE0ieluZWg4cNQp6cxr5JG61yTqbr0Y87aG4TK9xW3+uE0hcqZTQkLKzRn1FmGp7IncdvUdiPvke1zG6dgTOCB+LaJFdohGxyiHARL26gkddlNNWX9OJoh5K4N1t7yFtH8mkHMJmn53vgVkZVzvMqIty6gBa3fkcJsiCZk9O99qCnS58uOm1091m0onB3UwzQlRHnn5CsNFNW2ChWs62YilLYq3LJPV+BCdGv87Ka3lvFIFzvmkrorcVIJl5pVau1Z1Zmt19L7FLRvKb9vNHEfgO7DG6dyRqibawxBvk7nqLZAMyG9e24+8ocMbqIsk47WWM1DKk4OdoiTyK3Vt/iirwHVgtpsV55b13nDgocrfypjPYI0yzPdzWRafULTmie7baJyuCMtLH6q5r85YI3iI6j64pqNPljG8Xe/JuSELniERzXvoRO/r65eScbJhlWQodzeBS2/YSOZDzIC23+Q51WDYV+q7ILVabZXS/F7TgooH1DkuYte4tVLFHbqEjRcIR0t+gLXLvxGQr8Of/tX1hKPRTg1senRxZ7JGJJnJPKGLmCp7TaHWFjmTwG6LejUQUuXc0p6IR4T8JHUnkD5wxezSiNWQaTojoc5Ls2kvS1qrbVCU3PCBsW9TC85hnDpFWv7V4RXMJm0n4/i9C93akFTeLnYLX92v1OlLkvGdRTmEavftn113L6G8WpgbWXf1oQ4uWKONyKUbd/S8Wa8Ez0RKTKIdKjPD0CQ3bUbL2o99tj9G5RpTY+Za9gyTps9LPttClr7zpXUc0+n2iT3bZ90G03VHWXet+qxR1ksjy5XSuLur8dVRuaQQRo54EHt9FeefPrPuthk9wSZ/jcdLI/9J1352n9b6iFiHj3rNbriBbo7E24IZ5c2k+jdGj3VdGrVSPqSLJI6mj1McOtX1u/s4TTu0y3L1mda/5CaiRPOI7EN5ZStybcC3LLH73GprY6zuwEERO5UQ0b41wUQWvgYQPLKfXuF15jfH66fG8CGu1uRt8EASOcAtLhP0NEVYQkk+Y4XyMZGR/4/G8SI6NUBbvxuYGYI+SKkVmDB7JSVDPoEcsEwoRonkpzJVxnG7UaRf+jSL3LsMMq0stI+Bpg11dqB48sSv2U5FHc0Z0kde8QfAI3ybtE6pC51CP6dGSbhJ4lk0jQWopeMuGENmHTlAX+sjJ2mTdzREcoXwWG5Aouw4RbDECuWwzKLMjLKHvtqy9LPwNWfRVzgLNcbSXKlP8g9sTiDSs0eak7sy67lrO5S2mnti5ZbKcK64bXc/GdiV4a4F7+5E2ZKFnyzommpM8ApfIi5ySfkXjtCdGEnpWxp3UjoMg+uT/cHp5s0DzPGMpdHSRIyzTvIGe6FPw9zAVOrrIEx3qrv2O2HvLn7PR0IF6MuxQ6ClyWyJs3pix6vqv9j5INQSRdjWewunJwiyYSfCgTMdRu/mr32eO4DOzxp87XE2hJ1NmYpeMnpkj0AX+2uTEn96CJ80u8rMtOU8XlqMr9ChZ7DyFxI5aeFbj4BS7HGG77ilwHhK335wsoW3f73li0RuBPniix81RPMJNqRIi576bGtmlGqEbCSX0N1SIBp52m73b63iyNxImGZciT2Ziz+79nBAR/U0il/5W1GjO+Tc1b4rskgH3k9CRovnN43EUItq3FfuN0XylQ65OvyIJuyaiAyJy66YfqX31aLbR0iPk9Bqa8WdoXK4Yfd27FTd147XrG26MHl3kz88jCTWSzW/DyleghB7J4ajno+1WYiRbJHw4viGRg4AQerSkG1e8EcQeyf6RkYrg4XavRXOwSF3yh1sTcqXgL5E99Repb3ON6Lc6X483RnXO8c9eaLz/idre31bjFtEjityr4jILPwchqmvUj+Q3QYzRE128GtXVe1Ear5NyoEXuESn0IETsAc2QFsfpnPpOglVT4NI9FPdkXEInUhc+YsOEdnuMJCl0IpEr2ZqIIq/xrmuNfEN23Y2Qcn50EaGX7628LqLv3H562sKjbxWN9J7b0Zo9cBM64iIO6S6b1vehjdXR6hEZqaOsufpxjeiIYpcC4bssyrD7DrTGSprRDEB7k217nr3WWoDXdd21QRB4KfoCRPlOb1aCHtHeb6e94CeFLgiK82uXQzKxGCWq7wp6xYnIOT3i1wldy7k8jmpuv0M6s18/H6URs8D6NliLpbuvE/pNPGLXTPppPLd9h3dUb4WNuhOuB7X+Xyl0BOeS4oZI2+tBaBJZ2D0oYn+l0DW4eQbBitp+O6IfjXdvE/YOrkL3XkhyS1S/kdP6edt966tAkxFdkIzq/njtTd+9RNIKt7XuKYhEC0uRj847RPPvV29qQauMJA7RDjR1EXokA3FB67IlskQT+EOO0ZOECLLAVzsvU+gJJEg9I2SBt4zslkJXILPvd3BSh9YN1ep95mN0NAGglSfBiOaRRE7h1Vn3JOlxm8hLSaGXUjKqI+EtlBtFXkoKPUleQQr9PySjevYQ9kCOiCvQy55Cr0iBvpvd+kcXeSnGQo8gpKgrnxIfIoi8FEOhRxPPyeGK0mVJ9Lm93kyEHtWIUcsdkSiRsSZSmdVWxt0ikjyg4n52fDWaT4gK/RZxt6Cddc45nXVV7lvrjMpbvl9E6G8xlicjwY6u+qVGnDevy0fLss/Kc/rOo27p2xzEIzpadRG969K6K4y2Ao5SnpP3bifjvB3jDVg6v+eYM0VOK89JubeE/laRz75b2iYewouWYNoBzXe55dktf+5HZ4LmKNK8ecy+AuVa7Z2ZIHZETyfARqJ+3hDZo8Ot51zrfhFP5afY5UGJ5rvPSKEnQ24U+843IduBKnaW0LPbjktbN1J1hezkFkS4YpvyvIzoyZLbxM5ZTCT9bq8rrlPooHAcwqKndZvYV0QSOeX5KfSEzLeP7z8iCoBL5EZtZMsUenA8RKIleEsircbbeVf7vhQ6MGiRruURfHTR19zUY6nfm0JPRLhJ7DfxRPcUepK8gP8BO2GsIkMiXU8AAAAASUVORK5CYII=\" id=\"image359982799e\" transform=\"matrix(1.356 0 0 -1.356 363.6 345.6)\" style=\"image-rendering:crisp-edges;image-rendering:pixelated\" width=\"250\" height=\"250\"/>\n",
       "   </g>\n",
       "  </g>\n",
       "  <g id=\"axes_3\">\n",
       "   <g clip-path=\"url(#p03dc83a968)\">\n",
       "    <image xlink:href=\"data:image/png;base64,\n",
       "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\" id=\"imageb5426a6064\" transform=\"matrix(1.356 0 0 -1.356 720 345.6)\" style=\"image-rendering:crisp-edges;image-rendering:pixelated\" width=\"250\" height=\"250\"/>\n",
       "   </g>\n",
       "  </g>\n",
       " </g>\n",
       " <defs>\n",
       "  <clipPath id=\"pd13bef0ac9\">\n",
       "   <rect x=\"7.2\" y=\"7.2\" width=\"338.4\" height=\"338.4\"/>\n",
       "  </clipPath>\n",
       "  <clipPath id=\"p7db031a5a9\">\n",
       "   <rect x=\"363.6\" y=\"7.2\" width=\"338.4\" height=\"338.4\"/>\n",
       "  </clipPath>\n",
       "  <clipPath id=\"p03dc83a968\">\n",
       "   <rect x=\"720\" y=\"7.2\" width=\"338.4\" height=\"338.4\"/>\n",
       "  </clipPath>\n",
       " </defs>\n",
       "</svg>\n"
      ],
      "text/plain": [
       "<Figure size 1080x360 with 3 Axes>"
      ]
     },
     "metadata": {
      "needs_background": "light"
     },
     "output_type": "display_data"
    }
   ],
   "source": [
    "sk1 = ps.filters.prune_branches(sk, iterations=1)\n",
    "sk2 = ps.filters.prune_branches(sk, iterations=2)\n",
    "sk3 = ps.filters.prune_branches(sk, iterations=3)\n",
    "\n",
    "fig, ax = plt.subplots(1, 3, figsize=[15, 5])\n",
    "ax[0].imshow(sk1/im, interpolation='none', origin='lower')\n",
    "ax[0].axis(False)\n",
    "ax[1].imshow(sk2/im, interpolation='none', origin='lower')\n",
    "ax[1].axis(False)\n",
    "ax[2].imshow(sk3/im, interpolation='none', origin='lower')\n",
    "ax[2].axis(False);"
   ]
  }
 ],
 "metadata": {
  "kernelspec": {
   "display_name": "Python 3 (ipykernel)",
   "language": "python",
   "name": "python3"
  },
  "language_info": {
   "codemirror_mode": {
    "name": "ipython",
    "version": 3
   },
   "file_extension": ".py",
   "mimetype": "text/x-python",
   "name": "python",
   "nbconvert_exporter": "python",
   "pygments_lexer": "ipython3",
   "version": "3.8.13"
  }
 },
 "nbformat": 4,
 "nbformat_minor": 4
}
