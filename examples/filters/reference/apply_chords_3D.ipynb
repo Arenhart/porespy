{
 "cells": [
  {
   "cell_type": "markdown",
   "metadata": {},
   "source": [
    "# `apply_chords_3D`\n",
    "Adds chords to the void space in all three principle directions.  The chords are seprated by 1 voxel plus the provided spacing.  Chords in the X, Y and Z directions are labelled 1, 2 and 3 resepctively."
   ]
  },
  {
   "cell_type": "code",
   "execution_count": 1,
   "metadata": {
    "execution": {
     "iopub.execute_input": "2022-04-20T14:14:01.557633Z",
     "iopub.status.busy": "2022-04-20T14:14:01.555455Z",
     "iopub.status.idle": "2022-04-20T14:14:03.556661Z",
     "shell.execute_reply": "2022-04-20T14:14:03.556017Z"
    }
   },
   "outputs": [],
   "source": [
    "import numpy as np\n",
    "import porespy as ps\n",
    "import scipy.ndimage as spim\n",
    "import matplotlib.pyplot as plt"
   ]
  },
  {
   "cell_type": "code",
   "execution_count": 2,
   "metadata": {
    "execution": {
     "iopub.execute_input": "2022-04-20T14:14:03.560082Z",
     "iopub.status.busy": "2022-04-20T14:14:03.559833Z",
     "iopub.status.idle": "2022-04-20T14:14:03.563125Z",
     "shell.execute_reply": "2022-04-20T14:14:03.562752Z"
    }
   },
   "outputs": [
    {
     "name": "stdout",
     "output_type": "stream",
     "text": [
      "(im, spacing=0, trim_edges=True)\n"
     ]
    }
   ],
   "source": [
    "import inspect\n",
    "print(inspect.signature(ps.filters.apply_chords_3D))"
   ]
  },
  {
   "cell_type": "markdown",
   "metadata": {},
   "source": [
    "## `im`\n",
    "The function takes a boolean image with ``True`` values indicating the void space, or phase of interest. "
   ]
  },
  {
   "cell_type": "code",
   "execution_count": 3,
   "metadata": {
    "execution": {
     "iopub.execute_input": "2022-04-20T14:14:03.566089Z",
     "iopub.status.busy": "2022-04-20T14:14:03.565779Z",
     "iopub.status.idle": "2022-04-20T14:14:03.727355Z",
     "shell.execute_reply": "2022-04-20T14:14:03.726766Z"
    }
   },
   "outputs": [
    {
     "data": {
      "image/png": "[encoded data removed]",
      "text/plain": [
       "<Figure size 864x432 with 2 Axes>"
      ]
     },
     "metadata": {
      "needs_background": "light"
     },
     "output_type": "display_data"
    }
   ],
   "source": [
    "im = ps.generators.blobs(shape=[50, 50, 50])\n",
    "chords = ps.filters.apply_chords_3D(im)\n",
    "\n",
    "fig, ax = plt.subplots(1, 2, figsize=[12, 6])\n",
    "ax[0].imshow(chords[20, ...] + ~im[20, ...]*4)\n",
    "ax[0].axis(False)\n",
    "ax[1].imshow(chords[22, ...] + ~im[22, ...]*4)\n",
    "ax[1].axis(False);"
   ]
  },
  {
   "cell_type": "markdown",
   "metadata": {},
   "source": [
    "The chords in each direction are given different integer values so they can isolated by thresholding."
   ]
  },
  {
   "cell_type": "code",
   "execution_count": 4,
   "metadata": {
    "execution": {
     "iopub.execute_input": "2022-04-20T14:14:03.730712Z",
     "iopub.status.busy": "2022-04-20T14:14:03.730422Z",
     "iopub.status.idle": "2022-04-20T14:14:03.778746Z",
     "shell.execute_reply": "2022-04-20T14:14:03.778322Z"
    }
   },
   "outputs": [
    {
     "data": {
      "image/png": "[encoded data removed]",
      "text/plain": [
       "<Figure size 432x432 with 1 Axes>"
      ]
     },
     "metadata": {
      "needs_background": "light"
     },
     "output_type": "display_data"
    }
   ],
   "source": [
    "fig, ax = plt.subplots(1, 1, figsize=[6, 6])\n",
    "ax.imshow(chords[20, ...] ==2)\n",
    "ax.axis(False);"
   ]
  },
  {
   "cell_type": "markdown",
   "metadata": {},
   "source": [
    "## `spacing`\n",
    "By default the chords are drown with a spacing of 1 voxel between each orientation to provide the maximum number of chords. This can be adjusted to create few chords if the image is very large if needed."
   ]
  },
  {
   "cell_type": "code",
   "execution_count": 5,
   "metadata": {
    "execution": {
     "iopub.execute_input": "2022-04-20T14:14:03.782743Z",
     "iopub.status.busy": "2022-04-20T14:14:03.781841Z",
     "iopub.status.idle": "2022-04-20T14:14:03.895882Z",
     "shell.execute_reply": "2022-04-20T14:14:03.895450Z"
    }
   },
   "outputs": [
    {
     "data": {
      "image/png": "[encoded data removed]",
      "text/plain": [
       "<Figure size 864x432 with 2 Axes>"
      ]
     },
     "metadata": {
      "needs_background": "light"
     },
     "output_type": "display_data"
    }
   ],
   "source": [
    "c1 = ps.filters.apply_chords_3D(im, spacing=1)\n",
    "c3 = ps.filters.apply_chords_3D(im, spacing=3)\n",
    "\n",
    "fig, ax = plt.subplots(1, 2, figsize=[12, 6])\n",
    "ax[0].imshow(c1[20, ...] + ~im[20, ...]*4)\n",
    "ax[0].axis(False)\n",
    "ax[1].imshow(c3[30, ...] + ~im[30, ...]*4)\n",
    "ax[1].axis(False);"
   ]
  },
  {
   "cell_type": "markdown",
   "metadata": {},
   "source": [
    "## `trim_edges`"
   ]
  },
  {
   "cell_type": "code",
   "execution_count": 6,
   "metadata": {
    "execution": {
     "iopub.execute_input": "2022-04-20T14:14:03.900571Z",
     "iopub.status.busy": "2022-04-20T14:14:03.899130Z",
     "iopub.status.idle": "2022-04-20T14:14:04.042994Z",
     "shell.execute_reply": "2022-04-20T14:14:04.042569Z"
    }
   },
   "outputs": [
    {
     "data": {
      "image/png": "[encoded data removed]",
      "text/plain": [
       "<Figure size 864x432 with 2 Axes>"
      ]
     },
     "metadata": {
      "needs_background": "light"
     },
     "output_type": "display_data"
    }
   ],
   "source": [
    "c1 = ps.filters.apply_chords_3D(im, trim_edges=False)\n",
    "c2 = ps.filters.apply_chords_3D(im, trim_edges=True)\n",
    "\n",
    "fig, ax = plt.subplots(1, 2, figsize=[12, 6])\n",
    "ax[0].imshow(c1[20, ...] + ~im[20, ...]*4)\n",
    "ax[0].axis(False)\n",
    "ax[0].set_title('trim_edges = False')\n",
    "ax[1].imshow(c2[20, ...] + ~im[20, ...]*4)\n",
    "ax[1].axis(False)\n",
    "ax[1].set_title('trim_edges = True');"
   ]
  }
 ],
 "metadata": {
  "kernelspec": {
   "display_name": "Python 3 (ipykernel)",
   "language": "python",
   "name": "python3"
  },
  "language_info": {
   "codemirror_mode": {
    "name": "ipython",
    "version": 3
   },
   "file_extension": ".py",
   "mimetype": "text/x-python",
   "name": "python",
   "nbconvert_exporter": "python",
   "pygments_lexer": "ipython3",
   "version": "3.8.13"
  }
 },
 "nbformat": 4,
 "nbformat_minor": 4
}
