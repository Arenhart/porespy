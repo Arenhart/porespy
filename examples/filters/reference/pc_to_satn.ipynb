{
 "cells": [
  {
   "cell_type": "markdown",
   "id": "d279476c",
   "metadata": {},
   "source": [
    "# `pc_to_satn`\n",
    "Convert a capillary pressure map to saturation map."
   ]
  },
  {
   "cell_type": "code",
   "execution_count": 1,
   "id": "df328066",
   "metadata": {
    "execution": {
     "iopub.execute_input": "2022-06-22T19:28:46.719563Z",
     "iopub.status.busy": "2022-06-22T19:28:46.719306Z",
     "iopub.status.idle": "2022-06-22T19:28:48.709495Z",
     "shell.execute_reply": "2022-06-22T19:28:48.708733Z"
    }
   },
   "outputs": [],
   "source": [
    "import matplotlib.pyplot as plt\n",
    "import numpy as np\n",
    "import porespy as ps\n",
    "ps.visualization.set_mpl_style()"
   ]
  },
  {
   "cell_type": "markdown",
   "id": "9640b91d",
   "metadata": {},
   "source": [
    "The arguments and their defaults are:"
   ]
  },
  {
   "cell_type": "code",
   "execution_count": 2,
   "id": "da504252",
   "metadata": {
    "execution": {
     "iopub.execute_input": "2022-06-22T19:28:48.714058Z",
     "iopub.status.busy": "2022-06-22T19:28:48.713384Z",
     "iopub.status.idle": "2022-06-22T19:28:48.722046Z",
     "shell.execute_reply": "2022-06-22T19:28:48.721198Z"
    }
   },
   "outputs": [
    {
     "data": {
      "text/plain": [
       "<Signature (pc, im)>"
      ]
     },
     "execution_count": 2,
     "metadata": {},
     "output_type": "execute_result"
    }
   ],
   "source": [
    "import inspect\n",
    "inspect.signature(ps.filters.pc_to_satn)"
   ]
  },
  {
   "cell_type": "markdown",
   "id": "a49558cb",
   "metadata": {},
   "source": [
    "The capillary pressure map, such as that computed by ``ps.simulations.drainage``"
   ]
  },
  {
   "cell_type": "code",
   "execution_count": 3,
   "id": "567910b4",
   "metadata": {
    "execution": {
     "iopub.execute_input": "2022-06-22T19:28:48.725600Z",
     "iopub.status.busy": "2022-06-22T19:28:48.725361Z",
     "iopub.status.idle": "2022-06-22T19:28:49.685152Z",
     "shell.execute_reply": "2022-06-22T19:28:49.684412Z"
    }
   },
   "outputs": [
    {
     "data": {
      "application/vnd.jupyter.widget-view+json": {
       "model_id": "ceb9b41721c6454fa0b8b8f11a2ab98c",
       "version_major": 2,
       "version_minor": 0
      },
      "text/plain": [
       "  0%|          | 0/25 [00:00<?, ?it/s]"
      ]
     },
     "metadata": {},
     "output_type": "display_data"
    },
    {
     "data": {
      "application/vnd.jupyter.widget-view+json": {
       "model_id": "e590003d6ee043e48e339b6b06ae1bd7",
       "version_major": 2,
       "version_minor": 0
      },
      "text/plain": [
       "  0%|          | 0/12 [00:00<?, ?it/s]"
      ]
     },
     "metadata": {},
     "output_type": "display_data"
    }
   ],
   "source": [
    "im = ps.generators.blobs(shape=[200, 200], porosity=0.6)\n",
    "drn = ps.simulations.drainage(im=im, voxel_size=1, g=0)"
   ]
  },
  {
   "cell_type": "markdown",
   "id": "639b2f06",
   "metadata": {},
   "source": [
    "## `pc` and `im`"
   ]
  },
  {
   "cell_type": "code",
   "execution_count": 4,
   "id": "45c9fb8b",
   "metadata": {
    "execution": {
     "iopub.execute_input": "2022-06-22T19:28:49.688733Z",
     "iopub.status.busy": "2022-06-22T19:28:49.688475Z",
     "iopub.status.idle": "2022-06-22T19:28:49.797466Z",
     "shell.execute_reply": "2022-06-22T19:28:49.796756Z"
    }
   },
   "outputs": [
    {
     "data": {
      "image/svg+xml": [
       "<?xml version=\"1.0\" encoding=\"utf-8\" standalone=\"no\"?>\n",
       "<!DOCTYPE svg PUBLIC \"-//W3C//DTD SVG 1.1//EN\"\n",
       "  \"http://www.w3.org/Graphics/SVG/1.1/DTD/svg11.dtd\">\n",
       "<svg xmlns:xlink=\"http://www.w3.org/1999/xlink\" width=\"851.4pt\" height=\"424.8pt\" viewBox=\"0 0 851.4 424.8\" xmlns=\"http://www.w3.org/2000/svg\" version=\"1.1\">\n",
       " <metadata>\n",
       "  <rdf:RDF xmlns:dc=\"http://purl.org/dc/elements/1.1/\" xmlns:cc=\"http://creativecommons.org/ns#\" xmlns:rdf=\"http://www.w3.org/1999/02/22-rdf-syntax-ns#\">\n",
       "   <cc:Work>\n",
       "    <dc:type rdf:resource=\"http://purl.org/dc/dcmitype/StillImage\"/>\n",
       "    <dc:date>2022-06-22T19:28:49.776591</dc:date>\n",
       "    <dc:format>image/svg+xml</dc:format>\n",
       "    <dc:creator>\n",
       "     <cc:Agent>\n",
       "      <dc:title>Matplotlib v3.5.2, https://matplotlib.org/</dc:title>\n",
       "     </cc:Agent>\n",
       "    </dc:creator>\n",
       "   </cc:Work>\n",
       "  </rdf:RDF>\n",
       " </metadata>\n",
       " <defs>\n",
       "  <style type=\"text/css\">*{stroke-linejoin: round; stroke-linecap: butt}</style>\n",
       " </defs>\n",
       " <g id=\"figure_1\">\n",
       "  <g id=\"patch_1\">\n",
       "   <path d=\"M 0 424.8 \n",
       "L 851.4 424.8 \n",
       "L 851.4 0 \n",
       "L 0 0 \n",
       "L 0 424.8 \n",
       "z\n",
       "\" style=\"fill: none\"/>\n",
       "  </g>\n",
       "  <g id=\"axes_1\">\n",
       "   <g clip-path=\"url(#pcc62203715)\">\n",
       "    <image xlink:href=\"data:image/png;base64,\n",
       "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\" id=\"imagebfba4680c5\" transform=\"matrix(2.055 0 0 -2.055 7.2 417.6)\" style=\"image-rendering:crisp-edges;image-rendering:pixelated\" width=\"200\" height=\"200\"/>\n",
       "   </g>\n",
       "  </g>\n",
       "  <g id=\"axes_2\">\n",
       "   <g clip-path=\"url(#p9a72a2cc59)\">\n",
       "    <image xlink:href=\"data:image/png;base64,\n",
       "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\" id=\"image233eb57101\" transform=\"matrix(2.055 0 0 -2.055 433.8 417.6)\" style=\"image-rendering:crisp-edges;image-rendering:pixelated\" width=\"200\" height=\"200\"/>\n",
       "   </g>\n",
       "  </g>\n",
       " </g>\n",
       " <defs>\n",
       "  <clipPath id=\"pcc62203715\">\n",
       "   <rect x=\"7.2\" y=\"7.2\" width=\"410.4\" height=\"410.4\"/>\n",
       "  </clipPath>\n",
       "  <clipPath id=\"p9a72a2cc59\">\n",
       "   <rect x=\"433.8\" y=\"7.2\" width=\"410.4\" height=\"410.4\"/>\n",
       "  </clipPath>\n",
       " </defs>\n",
       "</svg>\n"
      ],
      "text/plain": [
       "<Figure size 864x432 with 2 Axes>"
      ]
     },
     "metadata": {
      "needs_background": "light"
     },
     "output_type": "display_data"
    }
   ],
   "source": [
    "satn = ps.filters.pc_to_satn(pc=drn.im_pc, im=im)\n",
    "\n",
    "fig, ax = plt.subplots(1, 2, figsize=[12, 6])\n",
    "ax[0].imshow(drn.im_pc/im, interpolation='none', origin='lower')\n",
    "ax[0].axis(False)\n",
    "ax[1].imshow(satn/im, interpolation='none', origin='lower')\n",
    "ax[1].axis(False);"
   ]
  },
  {
   "cell_type": "markdown",
   "id": "d7be130c",
   "metadata": {},
   "source": [
    "The saturation image allows for easy determination of a desired fluid configuration:"
   ]
  },
  {
   "cell_type": "code",
   "execution_count": 5,
   "id": "70dced98",
   "metadata": {
    "execution": {
     "iopub.execute_input": "2022-06-22T19:28:49.801479Z",
     "iopub.status.busy": "2022-06-22T19:28:49.801232Z",
     "iopub.status.idle": "2022-06-22T19:28:49.933540Z",
     "shell.execute_reply": "2022-06-22T19:28:49.932899Z"
    }
   },
   "outputs": [
    {
     "data": {
      "image/svg+xml": [
       "<?xml version=\"1.0\" encoding=\"utf-8\" standalone=\"no\"?>\n",
       "<!DOCTYPE svg PUBLIC \"-//W3C//DTD SVG 1.1//EN\"\n",
       "  \"http://www.w3.org/Graphics/SVG/1.1/DTD/svg11.dtd\">\n",
       "<svg xmlns:xlink=\"http://www.w3.org/1999/xlink\" width=\"851.4pt\" height=\"424.8pt\" viewBox=\"0 0 851.4 424.8\" xmlns=\"http://www.w3.org/2000/svg\" version=\"1.1\">\n",
       " <metadata>\n",
       "  <rdf:RDF xmlns:dc=\"http://purl.org/dc/elements/1.1/\" xmlns:cc=\"http://creativecommons.org/ns#\" xmlns:rdf=\"http://www.w3.org/1999/02/22-rdf-syntax-ns#\">\n",
       "   <cc:Work>\n",
       "    <dc:type rdf:resource=\"http://purl.org/dc/dcmitype/StillImage\"/>\n",
       "    <dc:date>2022-06-22T19:28:49.904650</dc:date>\n",
       "    <dc:format>image/svg+xml</dc:format>\n",
       "    <dc:creator>\n",
       "     <cc:Agent>\n",
       "      <dc:title>Matplotlib v3.5.2, https://matplotlib.org/</dc:title>\n",
       "     </cc:Agent>\n",
       "    </dc:creator>\n",
       "   </cc:Work>\n",
       "  </rdf:RDF>\n",
       " </metadata>\n",
       " <defs>\n",
       "  <style type=\"text/css\">*{stroke-linejoin: round; stroke-linecap: butt}</style>\n",
       " </defs>\n",
       " <g id=\"figure_1\">\n",
       "  <g id=\"patch_1\">\n",
       "   <path d=\"M 0 424.8 \n",
       "L 851.4 424.8 \n",
       "L 851.4 0 \n",
       "L 0 0 \n",
       "L 0 424.8 \n",
       "z\n",
       "\" style=\"fill: none\"/>\n",
       "  </g>\n",
       "  <g id=\"axes_1\">\n",
       "   <g clip-path=\"url(#p073cef3999)\">\n",
       "    <image xlink:href=\"data:image/png;base64,\n",
       "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\" id=\"imageab94cf5683\" transform=\"matrix(2.055 0 0 -2.055 7.2 417.6)\" style=\"image-rendering:crisp-edges;image-rendering:pixelated\" width=\"200\" height=\"200\"/>\n",
       "   </g>\n",
       "  </g>\n",
       "  <g id=\"axes_2\">\n",
       "   <g clip-path=\"url(#p623958392c)\">\n",
       "    <image xlink:href=\"data:image/png;base64,\n",
       "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\" id=\"imageaa3f7be682\" transform=\"matrix(2.055 0 0 -2.055 433.8 417.6)\" style=\"image-rendering:crisp-edges;image-rendering:pixelated\" width=\"200\" height=\"200\"/>\n",
       "   </g>\n",
       "  </g>\n",
       " </g>\n",
       " <defs>\n",
       "  <clipPath id=\"p073cef3999\">\n",
       "   <rect x=\"7.2\" y=\"7.2\" width=\"410.4\" height=\"410.4\"/>\n",
       "  </clipPath>\n",
       "  <clipPath id=\"p623958392c\">\n",
       "   <rect x=\"433.8\" y=\"7.2\" width=\"410.4\" height=\"410.4\"/>\n",
       "  </clipPath>\n",
       " </defs>\n",
       "</svg>\n"
      ],
      "text/plain": [
       "<Figure size 864x432 with 2 Axes>"
      ]
     },
     "metadata": {
      "needs_background": "light"
     },
     "output_type": "display_data"
    }
   ],
   "source": [
    "fig, ax = plt.subplots(1, 2, figsize=[12, 6])\n",
    "ax[0].imshow((satn < 0.3)*(satn > 0)/im, interpolation='none', origin='lower')\n",
    "ax[0].axis(False)\n",
    "ax[1].imshow((satn < 0.8)*(satn > 0)/im, interpolation='none', origin='lower')\n",
    "ax[1].axis(False);"
   ]
  }
 ],
 "metadata": {
  "kernelspec": {
   "display_name": "Python 3 (ipykernel)",
   "language": "python",
   "name": "python3"
  },
  "language_info": {
   "codemirror_mode": {
    "name": "ipython",
    "version": 3
   },
   "file_extension": ".py",
   "mimetype": "text/x-python",
   "name": "python",
   "nbconvert_exporter": "python",
   "pygments_lexer": "ipython3",
   "version": "3.8.13"
  },
  "widgets": {
   "application/vnd.jupyter.widget-state+json": {
    "state": {
     "0312a3ce4b4e46fbbf4e55691a6b5d35": {
      "model_module": "@jupyter-widgets/controls",
      "model_module_version": "1.5.0",
      "model_name": "ProgressStyleModel",
      "state": {
       "_model_module": "@jupyter-widgets/controls",
       "_model_module_version": "1.5.0",
       "_model_name": "ProgressStyleModel",
       "_view_count": null,
       "_view_module": "@jupyter-widgets/base",
       "_view_module_version": "1.2.0",
       "_view_name": "StyleView",
       "bar_color": null,
       "description_width": ""
      }
     },
     "0d6aefa0d3884b4f80e3311a208aad44": {
      "model_module": "@jupyter-widgets/base",
      "model_module_version": "1.2.0",
      "model_name": "LayoutModel",
      "state": {
       "_model_module": "@jupyter-widgets/base",
       "_model_module_version": "1.2.0",
       "_model_name": "LayoutModel",
       "_view_count": null,
       "_view_module": "@jupyter-widgets/base",
       "_view_module_version": "1.2.0",
       "_view_name": "LayoutView",
       "align_content": null,
       "align_items": null,
       "align_self": null,
       "border": null,
       "bottom": null,
       "display": null,
       "flex": null,
       "flex_flow": null,
       "grid_area": null,
       "grid_auto_columns": null,
       "grid_auto_flow": null,
       "grid_auto_rows": null,
       "grid_column": null,
       "grid_gap": null,
       "grid_row": null,
       "grid_template_areas": null,
       "grid_template_columns": null,
       "grid_template_rows": null,
       "height": null,
       "justify_content": null,
       "justify_items": null,
       "left": null,
       "margin": null,
       "max_height": null,
       "max_width": null,
       "min_height": null,
       "min_width": null,
       "object_fit": null,
       "object_position": null,
       "order": null,
       "overflow": null,
       "overflow_x": null,
       "overflow_y": null,
       "padding": null,
       "right": null,
       "top": null,
       "visibility": null,
       "width": null
      }
     },
     "263d816816ae474e8015d3ca434b7444": {
      "model_module": "@jupyter-widgets/base",
      "model_module_version": "1.2.0",
      "model_name": "LayoutModel",
      "state": {
       "_model_module": "@jupyter-widgets/base",
       "_model_module_version": "1.2.0",
       "_model_name": "LayoutModel",
       "_view_count": null,
       "_view_module": "@jupyter-widgets/base",
       "_view_module_version": "1.2.0",
       "_view_name": "LayoutView",
       "align_content": null,
       "align_items": null,
       "align_self": null,
       "border": null,
       "bottom": null,
       "display": null,
       "flex": null,
       "flex_flow": null,
       "grid_area": null,
       "grid_auto_columns": null,
       "grid_auto_flow": null,
       "grid_auto_rows": null,
       "grid_column": null,
       "grid_gap": null,
       "grid_row": null,
       "grid_template_areas": null,
       "grid_template_columns": null,
       "grid_template_rows": null,
       "height": null,
       "justify_content": null,
       "justify_items": null,
       "left": null,
       "margin": null,
       "max_height": null,
       "max_width": null,
       "min_height": null,
       "min_width": null,
       "object_fit": null,
       "object_position": null,
       "order": null,
       "overflow": null,
       "overflow_x": null,
       "overflow_y": null,
       "padding": null,
       "right": null,
       "top": null,
       "visibility": null,
       "width": null
      }
     },
     "4b08d305c06f4894a394bc1df4ce1b3e": {
      "model_module": "@jupyter-widgets/base",
      "model_module_version": "1.2.0",
      "model_name": "LayoutModel",
      "state": {
       "_model_module": "@jupyter-widgets/base",
       "_model_module_version": "1.2.0",
       "_model_name": "LayoutModel",
       "_view_count": null,
       "_view_module": "@jupyter-widgets/base",
       "_view_module_version": "1.2.0",
       "_view_name": "LayoutView",
       "align_content": null,
       "align_items": null,
       "align_self": null,
       "border": null,
       "bottom": null,
       "display": null,
       "flex": null,
       "flex_flow": null,
       "grid_area": null,
       "grid_auto_columns": null,
       "grid_auto_flow": null,
       "grid_auto_rows": null,
       "grid_column": null,
       "grid_gap": null,
       "grid_row": null,
       "grid_template_areas": null,
       "grid_template_columns": null,
       "grid_template_rows": null,
       "height": null,
       "justify_content": null,
       "justify_items": null,
       "left": null,
       "margin": null,
       "max_height": null,
       "max_width": null,
       "min_height": null,
       "min_width": null,
       "object_fit": null,
       "object_position": null,
       "order": null,
       "overflow": null,
       "overflow_x": null,
       "overflow_y": null,
       "padding": null,
       "right": null,
       "top": null,
       "visibility": null,
       "width": null
      }
     },
     "6369096c28fa4f87ab09ad3aeae8cfdd": {
      "model_module": "@jupyter-widgets/controls",
      "model_module_version": "1.5.0",
      "model_name": "HTMLModel",
      "state": {
       "_dom_classes": [],
       "_model_module": "@jupyter-widgets/controls",
       "_model_module_version": "1.5.0",
       "_model_name": "HTMLModel",
       "_view_count": null,
       "_view_module": "@jupyter-widgets/controls",
       "_view_module_version": "1.5.0",
       "_view_name": "HTMLView",
       "description": "",
       "description_tooltip": null,
       "layout": "IPY_MODEL_b1dd27195b4545fab15b8d13ef5cb9e9",
       "placeholder": "​",
       "style": "IPY_MODEL_89f74d00eb8445588a1bcb6eb4f427e6",
       "value": "  4%"
      }
     },
     "63a94e7d61f545baa04ba366c50dd839": {
      "model_module": "@jupyter-widgets/base",
      "model_module_version": "1.2.0",
      "model_name": "LayoutModel",
      "state": {
       "_model_module": "@jupyter-widgets/base",
       "_model_module_version": "1.2.0",
       "_model_name": "LayoutModel",
       "_view_count": null,
       "_view_module": "@jupyter-widgets/base",
       "_view_module_version": "1.2.0",
       "_view_name": "LayoutView",
       "align_content": null,
       "align_items": null,
       "align_self": null,
       "border": null,
       "bottom": null,
       "display": null,
       "flex": null,
       "flex_flow": null,
       "grid_area": null,
       "grid_auto_columns": null,
       "grid_auto_flow": null,
       "grid_auto_rows": null,
       "grid_column": null,
       "grid_gap": null,
       "grid_row": null,
       "grid_template_areas": null,
       "grid_template_columns": null,
       "grid_template_rows": null,
       "height": null,
       "justify_content": null,
       "justify_items": null,
       "left": null,
       "margin": null,
       "max_height": null,
       "max_width": null,
       "min_height": null,
       "min_width": null,
       "object_fit": null,
       "object_position": null,
       "order": null,
       "overflow": null,
       "overflow_x": null,
       "overflow_y": null,
       "padding": null,
       "right": null,
       "top": null,
       "visibility": null,
       "width": null
      }
     },
     "6a57169e52c24993b0b65e169c865551": {
      "model_module": "@jupyter-widgets/controls",
      "model_module_version": "1.5.0",
      "model_name": "FloatProgressModel",
      "state": {
       "_dom_classes": [],
       "_model_module": "@jupyter-widgets/controls",
       "_model_module_version": "1.5.0",
       "_model_name": "FloatProgressModel",
       "_view_count": null,
       "_view_module": "@jupyter-widgets/controls",
       "_view_module_version": "1.5.0",
       "_view_name": "ProgressView",
       "bar_style": "",
       "description": "",
       "description_tooltip": null,
       "layout": "IPY_MODEL_63a94e7d61f545baa04ba366c50dd839",
       "max": 25.0,
       "min": 0.0,
       "orientation": "horizontal",
       "style": "IPY_MODEL_0312a3ce4b4e46fbbf4e55691a6b5d35",
       "value": 25.0
      }
     },
     "7eaa527194f94cc6846448236c558a31": {
      "model_module": "@jupyter-widgets/controls",
      "model_module_version": "1.5.0",
      "model_name": "ProgressStyleModel",
      "state": {
       "_model_module": "@jupyter-widgets/controls",
       "_model_module_version": "1.5.0",
       "_model_name": "ProgressStyleModel",
       "_view_count": null,
       "_view_module": "@jupyter-widgets/base",
       "_view_module_version": "1.2.0",
       "_view_name": "StyleView",
       "bar_color": null,
       "description_width": ""
      }
     },
     "89f74d00eb8445588a1bcb6eb4f427e6": {
      "model_module": "@jupyter-widgets/controls",
      "model_module_version": "1.5.0",
      "model_name": "DescriptionStyleModel",
      "state": {
       "_model_module": "@jupyter-widgets/controls",
       "_model_module_version": "1.5.0",
       "_model_name": "DescriptionStyleModel",
       "_view_count": null,
       "_view_module": "@jupyter-widgets/base",
       "_view_module_version": "1.2.0",
       "_view_name": "StyleView",
       "description_width": ""
      }
     },
     "a0378aba6c394c86a39676e69caf7dbe": {
      "model_module": "@jupyter-widgets/base",
      "model_module_version": "1.2.0",
      "model_name": "LayoutModel",
      "state": {
       "_model_module": "@jupyter-widgets/base",
       "_model_module_version": "1.2.0",
       "_model_name": "LayoutModel",
       "_view_count": null,
       "_view_module": "@jupyter-widgets/base",
       "_view_module_version": "1.2.0",
       "_view_name": "LayoutView",
       "align_content": null,
       "align_items": null,
       "align_self": null,
       "border": null,
       "bottom": null,
       "display": null,
       "flex": null,
       "flex_flow": null,
       "grid_area": null,
       "grid_auto_columns": null,
       "grid_auto_flow": null,
       "grid_auto_rows": null,
       "grid_column": null,
       "grid_gap": null,
       "grid_row": null,
       "grid_template_areas": null,
       "grid_template_columns": null,
       "grid_template_rows": null,
       "height": null,
       "justify_content": null,
       "justify_items": null,
       "left": null,
       "margin": null,
       "max_height": null,
       "max_width": null,
       "min_height": null,
       "min_width": null,
       "object_fit": null,
       "object_position": null,
       "order": null,
       "overflow": null,
       "overflow_x": null,
       "overflow_y": null,
       "padding": null,
       "right": null,
       "top": null,
       "visibility": null,
       "width": null
      }
     },
     "b1dd27195b4545fab15b8d13ef5cb9e9": {
      "model_module": "@jupyter-widgets/base",
      "model_module_version": "1.2.0",
      "model_name": "LayoutModel",
      "state": {
       "_model_module": "@jupyter-widgets/base",
       "_model_module_version": "1.2.0",
       "_model_name": "LayoutModel",
       "_view_count": null,
       "_view_module": "@jupyter-widgets/base",
       "_view_module_version": "1.2.0",
       "_view_name": "LayoutView",
       "align_content": null,
       "align_items": null,
       "align_self": null,
       "border": null,
       "bottom": null,
       "display": null,
       "flex": null,
       "flex_flow": null,
       "grid_area": null,
       "grid_auto_columns": null,
       "grid_auto_flow": null,
       "grid_auto_rows": null,
       "grid_column": null,
       "grid_gap": null,
       "grid_row": null,
       "grid_template_areas": null,
       "grid_template_columns": null,
       "grid_template_rows": null,
       "height": null,
       "justify_content": null,
       "justify_items": null,
       "left": null,
       "margin": null,
       "max_height": null,
       "max_width": null,
       "min_height": null,
       "min_width": null,
       "object_fit": null,
       "object_position": null,
       "order": null,
       "overflow": null,
       "overflow_x": null,
       "overflow_y": null,
       "padding": null,
       "right": null,
       "top": null,
       "visibility": null,
       "width": null
      }
     },
     "b2e2de79227543e39ea6f70cf31bbf50": {
      "model_module": "@jupyter-widgets/controls",
      "model_module_version": "1.5.0",
      "model_name": "HTMLModel",
      "state": {
       "_dom_classes": [],
       "_model_module": "@jupyter-widgets/controls",
       "_model_module_version": "1.5.0",
       "_model_name": "HTMLModel",
       "_view_count": null,
       "_view_module": "@jupyter-widgets/controls",
       "_view_module_version": "1.5.0",
       "_view_name": "HTMLView",
       "description": "",
       "description_tooltip": null,
       "layout": "IPY_MODEL_4b08d305c06f4894a394bc1df4ce1b3e",
       "placeholder": "​",
       "style": "IPY_MODEL_d56cb322bcff474c9b59ff391896516e",
       "value": " 0/12 [00:00&lt;?, ?it/s]"
      }
     },
     "b5d9de81a9134877a61c3823f483716d": {
      "model_module": "@jupyter-widgets/base",
      "model_module_version": "1.2.0",
      "model_name": "LayoutModel",
      "state": {
       "_model_module": "@jupyter-widgets/base",
       "_model_module_version": "1.2.0",
       "_model_name": "LayoutModel",
       "_view_count": null,
       "_view_module": "@jupyter-widgets/base",
       "_view_module_version": "1.2.0",
       "_view_name": "LayoutView",
       "align_content": null,
       "align_items": null,
       "align_self": null,
       "border": null,
       "bottom": null,
       "display": null,
       "flex": null,
       "flex_flow": null,
       "grid_area": null,
       "grid_auto_columns": null,
       "grid_auto_flow": null,
       "grid_auto_rows": null,
       "grid_column": null,
       "grid_gap": null,
       "grid_row": null,
       "grid_template_areas": null,
       "grid_template_columns": null,
       "grid_template_rows": null,
       "height": null,
       "justify_content": null,
       "justify_items": null,
       "left": null,
       "margin": null,
       "max_height": null,
       "max_width": null,
       "min_height": null,
       "min_width": null,
       "object_fit": null,
       "object_position": null,
       "order": null,
       "overflow": null,
       "overflow_x": null,
       "overflow_y": null,
       "padding": null,
       "right": null,
       "top": null,
       "visibility": null,
       "width": null
      }
     },
     "be503090af0a449d82bd8c73b0983d2b": {
      "model_module": "@jupyter-widgets/controls",
      "model_module_version": "1.5.0",
      "model_name": "HTMLModel",
      "state": {
       "_dom_classes": [],
       "_model_module": "@jupyter-widgets/controls",
       "_model_module_version": "1.5.0",
       "_model_name": "HTMLModel",
       "_view_count": null,
       "_view_module": "@jupyter-widgets/controls",
       "_view_module_version": "1.5.0",
       "_view_name": "HTMLView",
       "description": "",
       "description_tooltip": null,
       "layout": "IPY_MODEL_a0378aba6c394c86a39676e69caf7dbe",
       "placeholder": "​",
       "style": "IPY_MODEL_d5ba44b4413a4e94b75696197669fdd5",
       "value": "  0%"
      }
     },
     "c16da6c615a741138e57277bc83f2484": {
      "model_module": "@jupyter-widgets/controls",
      "model_module_version": "1.5.0",
      "model_name": "DescriptionStyleModel",
      "state": {
       "_model_module": "@jupyter-widgets/controls",
       "_model_module_version": "1.5.0",
       "_model_name": "DescriptionStyleModel",
       "_view_count": null,
       "_view_module": "@jupyter-widgets/base",
       "_view_module_version": "1.2.0",
       "_view_name": "StyleView",
       "description_width": ""
      }
     },
     "ceb9b41721c6454fa0b8b8f11a2ab98c": {
      "model_module": "@jupyter-widgets/controls",
      "model_module_version": "1.5.0",
      "model_name": "HBoxModel",
      "state": {
       "_dom_classes": [],
       "_model_module": "@jupyter-widgets/controls",
       "_model_module_version": "1.5.0",
       "_model_name": "HBoxModel",
       "_view_count": null,
       "_view_module": "@jupyter-widgets/controls",
       "_view_module_version": "1.5.0",
       "_view_name": "HBoxView",
       "box_style": "",
       "children": [
        "IPY_MODEL_6369096c28fa4f87ab09ad3aeae8cfdd",
        "IPY_MODEL_6a57169e52c24993b0b65e169c865551",
        "IPY_MODEL_e527baf5976843bf8ead8e63e2d1cf52"
       ],
       "layout": "IPY_MODEL_263d816816ae474e8015d3ca434b7444"
      }
     },
     "d56cb322bcff474c9b59ff391896516e": {
      "model_module": "@jupyter-widgets/controls",
      "model_module_version": "1.5.0",
      "model_name": "DescriptionStyleModel",
      "state": {
       "_model_module": "@jupyter-widgets/controls",
       "_model_module_version": "1.5.0",
       "_model_name": "DescriptionStyleModel",
       "_view_count": null,
       "_view_module": "@jupyter-widgets/base",
       "_view_module_version": "1.2.0",
       "_view_name": "StyleView",
       "description_width": ""
      }
     },
     "d5ba44b4413a4e94b75696197669fdd5": {
      "model_module": "@jupyter-widgets/controls",
      "model_module_version": "1.5.0",
      "model_name": "DescriptionStyleModel",
      "state": {
       "_model_module": "@jupyter-widgets/controls",
       "_model_module_version": "1.5.0",
       "_model_name": "DescriptionStyleModel",
       "_view_count": null,
       "_view_module": "@jupyter-widgets/base",
       "_view_module_version": "1.2.0",
       "_view_name": "StyleView",
       "description_width": ""
      }
     },
     "e527baf5976843bf8ead8e63e2d1cf52": {
      "model_module": "@jupyter-widgets/controls",
      "model_module_version": "1.5.0",
      "model_name": "HTMLModel",
      "state": {
       "_dom_classes": [],
       "_model_module": "@jupyter-widgets/controls",
       "_model_module_version": "1.5.0",
       "_model_name": "HTMLModel",
       "_view_count": null,
       "_view_module": "@jupyter-widgets/controls",
       "_view_module_version": "1.5.0",
       "_view_name": "HTMLView",
       "description": "",
       "description_tooltip": null,
       "layout": "IPY_MODEL_b5d9de81a9134877a61c3823f483716d",
       "placeholder": "​",
       "style": "IPY_MODEL_c16da6c615a741138e57277bc83f2484",
       "value": " 1/25 [00:00&lt;00:21,  1.13it/s]"
      }
     },
     "e590003d6ee043e48e339b6b06ae1bd7": {
      "model_module": "@jupyter-widgets/controls",
      "model_module_version": "1.5.0",
      "model_name": "HBoxModel",
      "state": {
       "_dom_classes": [],
       "_model_module": "@jupyter-widgets/controls",
       "_model_module_version": "1.5.0",
       "_model_name": "HBoxModel",
       "_view_count": null,
       "_view_module": "@jupyter-widgets/controls",
       "_view_module_version": "1.5.0",
       "_view_name": "HBoxView",
       "box_style": "",
       "children": [
        "IPY_MODEL_be503090af0a449d82bd8c73b0983d2b",
        "IPY_MODEL_ebc6f58d17904c82a5532cc62309fd9d",
        "IPY_MODEL_b2e2de79227543e39ea6f70cf31bbf50"
       ],
       "layout": "IPY_MODEL_0d6aefa0d3884b4f80e3311a208aad44"
      }
     },
     "ebc6f58d17904c82a5532cc62309fd9d": {
      "model_module": "@jupyter-widgets/controls",
      "model_module_version": "1.5.0",
      "model_name": "FloatProgressModel",
      "state": {
       "_dom_classes": [],
       "_model_module": "@jupyter-widgets/controls",
       "_model_module_version": "1.5.0",
       "_model_name": "FloatProgressModel",
       "_view_count": null,
       "_view_module": "@jupyter-widgets/controls",
       "_view_module_version": "1.5.0",
       "_view_name": "ProgressView",
       "bar_style": "",
       "description": "",
       "description_tooltip": null,
       "layout": "IPY_MODEL_f138734e87c84b0fb944e655fec85986",
       "max": 12.0,
       "min": 0.0,
       "orientation": "horizontal",
       "style": "IPY_MODEL_7eaa527194f94cc6846448236c558a31",
       "value": 12.0
      }
     },
     "f138734e87c84b0fb944e655fec85986": {
      "model_module": "@jupyter-widgets/base",
      "model_module_version": "1.2.0",
      "model_name": "LayoutModel",
      "state": {
       "_model_module": "@jupyter-widgets/base",
       "_model_module_version": "1.2.0",
       "_model_name": "LayoutModel",
       "_view_count": null,
       "_view_module": "@jupyter-widgets/base",
       "_view_module_version": "1.2.0",
       "_view_name": "LayoutView",
       "align_content": null,
       "align_items": null,
       "align_self": null,
       "border": null,
       "bottom": null,
       "display": null,
       "flex": null,
       "flex_flow": null,
       "grid_area": null,
       "grid_auto_columns": null,
       "grid_auto_flow": null,
       "grid_auto_rows": null,
       "grid_column": null,
       "grid_gap": null,
       "grid_row": null,
       "grid_template_areas": null,
       "grid_template_columns": null,
       "grid_template_rows": null,
       "height": null,
       "justify_content": null,
       "justify_items": null,
       "left": null,
       "margin": null,
       "max_height": null,
       "max_width": null,
       "min_height": null,
       "min_width": null,
       "object_fit": null,
       "object_position": null,
       "order": null,
       "overflow": null,
       "overflow_x": null,
       "overflow_y": null,
       "padding": null,
       "right": null,
       "top": null,
       "visibility": null,
       "width": null
      }
     }
    },
    "version_major": 2,
    "version_minor": 0
   }
  }
 },
 "nbformat": 4,
 "nbformat_minor": 5
}
