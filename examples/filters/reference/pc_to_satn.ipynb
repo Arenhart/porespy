{
 "cells": [
  {
   "cell_type": "markdown",
   "id": "d279476c",
   "metadata": {},
   "source": [
    "# `pc_to_satn`\n",
    "Convert a capillary pressure map to saturation map."
   ]
  },
  {
   "cell_type": "code",
   "execution_count": 1,
   "id": "df328066",
   "metadata": {
    "execution": {
     "iopub.execute_input": "2022-06-22T19:21:15.648071Z",
     "iopub.status.busy": "2022-06-22T19:21:15.647573Z",
     "iopub.status.idle": "2022-06-22T19:21:18.037037Z",
     "shell.execute_reply": "2022-06-22T19:21:18.036122Z"
    }
   },
   "outputs": [],
   "source": [
    "import matplotlib.pyplot as plt\n",
    "import numpy as np\n",
    "import porespy as ps\n",
    "ps.visualization.set_mpl_style()"
   ]
  },
  {
   "cell_type": "markdown",
   "id": "9640b91d",
   "metadata": {},
   "source": [
    "The arguments and their defaults are:"
   ]
  },
  {
   "cell_type": "code",
   "execution_count": 2,
   "id": "da504252",
   "metadata": {
    "execution": {
     "iopub.execute_input": "2022-06-22T19:21:18.041673Z",
     "iopub.status.busy": "2022-06-22T19:21:18.040943Z",
     "iopub.status.idle": "2022-06-22T19:21:18.051018Z",
     "shell.execute_reply": "2022-06-22T19:21:18.050094Z"
    }
   },
   "outputs": [
    {
     "data": {
      "text/plain": [
       "<Signature (pc, im)>"
      ]
     },
     "execution_count": 2,
     "metadata": {},
     "output_type": "execute_result"
    }
   ],
   "source": [
    "import inspect\n",
    "inspect.signature(ps.filters.pc_to_satn)"
   ]
  },
  {
   "cell_type": "markdown",
   "id": "a49558cb",
   "metadata": {},
   "source": [
    "The capillary pressure map, such as that computed by ``ps.simulations.drainage``"
   ]
  },
  {
   "cell_type": "code",
   "execution_count": 3,
   "id": "567910b4",
   "metadata": {
    "execution": {
     "iopub.execute_input": "2022-06-22T19:21:18.057346Z",
     "iopub.status.busy": "2022-06-22T19:21:18.055504Z",
     "iopub.status.idle": "2022-06-22T19:21:19.180524Z",
     "shell.execute_reply": "2022-06-22T19:21:19.179886Z"
    }
   },
   "outputs": [
    {
     "data": {
      "application/vnd.jupyter.widget-view+json": {
       "model_id": "c14559bfb00f49128a7fdead8f6ee70b",
       "version_major": 2,
       "version_minor": 0
      },
      "text/plain": [
       "  0%|          | 0/25 [00:00<?, ?it/s]"
      ]
     },
     "metadata": {},
     "output_type": "display_data"
    },
    {
     "data": {
      "application/vnd.jupyter.widget-view+json": {
       "model_id": "f0fe9d6e7c734a3688e4cdd7a247032b",
       "version_major": 2,
       "version_minor": 0
      },
      "text/plain": [
       "  0%|          | 0/12 [00:00<?, ?it/s]"
      ]
     },
     "metadata": {},
     "output_type": "display_data"
    }
   ],
   "source": [
    "im = ps.generators.blobs(shape=[200, 200], porosity=0.6)\n",
    "drn = ps.simulations.drainage(im=im, voxel_size=1, g=0)"
   ]
  },
  {
   "cell_type": "markdown",
   "id": "639b2f06",
   "metadata": {},
   "source": [
    "## `pc` and `im`"
   ]
  },
  {
   "cell_type": "code",
   "execution_count": 4,
   "id": "45c9fb8b",
   "metadata": {
    "execution": {
     "iopub.execute_input": "2022-06-22T19:21:19.185546Z",
     "iopub.status.busy": "2022-06-22T19:21:19.184341Z",
     "iopub.status.idle": "2022-06-22T19:21:19.348515Z",
     "shell.execute_reply": "2022-06-22T19:21:19.347852Z"
    }
   },
   "outputs": [
    {
     "data": {
      "image/svg+xml": [
       "<?xml version=\"1.0\" encoding=\"utf-8\" standalone=\"no\"?>\n",
       "<!DOCTYPE svg PUBLIC \"-//W3C//DTD SVG 1.1//EN\"\n",
       "  \"http://www.w3.org/Graphics/SVG/1.1/DTD/svg11.dtd\">\n",
       "<svg xmlns:xlink=\"http://www.w3.org/1999/xlink\" width=\"851.4pt\" height=\"424.8pt\" viewBox=\"0 0 851.4 424.8\" xmlns=\"http://www.w3.org/2000/svg\" version=\"1.1\">\n",
       " <metadata>\n",
       "  <rdf:RDF xmlns:dc=\"http://purl.org/dc/elements/1.1/\" xmlns:cc=\"http://creativecommons.org/ns#\" xmlns:rdf=\"http://www.w3.org/1999/02/22-rdf-syntax-ns#\">\n",
       "   <cc:Work>\n",
       "    <dc:type rdf:resource=\"http://purl.org/dc/dcmitype/StillImage\"/>\n",
       "    <dc:date>2022-06-22T19:21:19.319998</dc:date>\n",
       "    <dc:format>image/svg+xml</dc:format>\n",
       "    <dc:creator>\n",
       "     <cc:Agent>\n",
       "      <dc:title>Matplotlib v3.5.2, https://matplotlib.org/</dc:title>\n",
       "     </cc:Agent>\n",
       "    </dc:creator>\n",
       "   </cc:Work>\n",
       "  </rdf:RDF>\n",
       " </metadata>\n",
       " <defs>\n",
       "  <style type=\"text/css\">*{stroke-linejoin: round; stroke-linecap: butt}</style>\n",
       " </defs>\n",
       " <g id=\"figure_1\">\n",
       "  <g id=\"patch_1\">\n",
       "   <path d=\"M 0 424.8 \n",
       "L 851.4 424.8 \n",
       "L 851.4 0 \n",
       "L 0 0 \n",
       "L 0 424.8 \n",
       "z\n",
       "\" style=\"fill: none\"/>\n",
       "  </g>\n",
       "  <g id=\"axes_1\">\n",
       "   <g clip-path=\"url(#p3e33dc2fc6)\">\n",
       "    <image xlink:href=\"data:image/png;base64,\n",
       "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\" id=\"imagee7688e2f64\" transform=\"matrix(2.055 0 0 -2.055 7.2 417.6)\" style=\"image-rendering:crisp-edges;image-rendering:pixelated\" width=\"200\" height=\"200\"/>\n",
       "   </g>\n",
       "  </g>\n",
       "  <g id=\"axes_2\">\n",
       "   <g clip-path=\"url(#p99805f708c)\">\n",
       "    <image xlink:href=\"data:image/png;base64,\n",
       "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\" id=\"imageb0abd96b87\" transform=\"matrix(2.055 0 0 -2.055 433.8 417.6)\" style=\"image-rendering:crisp-edges;image-rendering:pixelated\" width=\"200\" height=\"200\"/>\n",
       "   </g>\n",
       "  </g>\n",
       " </g>\n",
       " <defs>\n",
       "  <clipPath id=\"p3e33dc2fc6\">\n",
       "   <rect x=\"7.2\" y=\"7.2\" width=\"410.4\" height=\"410.4\"/>\n",
       "  </clipPath>\n",
       "  <clipPath id=\"p99805f708c\">\n",
       "   <rect x=\"433.8\" y=\"7.2\" width=\"410.4\" height=\"410.4\"/>\n",
       "  </clipPath>\n",
       " </defs>\n",
       "</svg>\n"
      ],
      "text/plain": [
       "<Figure size 864x432 with 2 Axes>"
      ]
     },
     "metadata": {
      "needs_background": "light"
     },
     "output_type": "display_data"
    }
   ],
   "source": [
    "satn = ps.filters.pc_to_satn(pc=drn.im_pc, im=im)\n",
    "\n",
    "fig, ax = plt.subplots(1, 2, figsize=[12, 6])\n",
    "ax[0].imshow(drn.im_pc/im, interpolation='none', origin='lower')\n",
    "ax[0].axis(False)\n",
    "ax[1].imshow(satn/im, interpolation='none', origin='lower')\n",
    "ax[1].axis(False);"
   ]
  },
  {
   "cell_type": "markdown",
   "id": "d7be130c",
   "metadata": {},
   "source": [
    "The saturation image allows for easy determination of a desired fluid configuration:"
   ]
  },
  {
   "cell_type": "code",
   "execution_count": 5,
   "id": "70dced98",
   "metadata": {
    "execution": {
     "iopub.execute_input": "2022-06-22T19:21:19.353695Z",
     "iopub.status.busy": "2022-06-22T19:21:19.352488Z",
     "iopub.status.idle": "2022-06-22T19:21:19.468024Z",
     "shell.execute_reply": "2022-06-22T19:21:19.467381Z"
    }
   },
   "outputs": [
    {
     "data": {
      "image/svg+xml": [
       "<?xml version=\"1.0\" encoding=\"utf-8\" standalone=\"no\"?>\n",
       "<!DOCTYPE svg PUBLIC \"-//W3C//DTD SVG 1.1//EN\"\n",
       "  \"http://www.w3.org/Graphics/SVG/1.1/DTD/svg11.dtd\">\n",
       "<svg xmlns:xlink=\"http://www.w3.org/1999/xlink\" width=\"851.4pt\" height=\"424.8pt\" viewBox=\"0 0 851.4 424.8\" xmlns=\"http://www.w3.org/2000/svg\" version=\"1.1\">\n",
       " <metadata>\n",
       "  <rdf:RDF xmlns:dc=\"http://purl.org/dc/elements/1.1/\" xmlns:cc=\"http://creativecommons.org/ns#\" xmlns:rdf=\"http://www.w3.org/1999/02/22-rdf-syntax-ns#\">\n",
       "   <cc:Work>\n",
       "    <dc:type rdf:resource=\"http://purl.org/dc/dcmitype/StillImage\"/>\n",
       "    <dc:date>2022-06-22T19:21:19.441264</dc:date>\n",
       "    <dc:format>image/svg+xml</dc:format>\n",
       "    <dc:creator>\n",
       "     <cc:Agent>\n",
       "      <dc:title>Matplotlib v3.5.2, https://matplotlib.org/</dc:title>\n",
       "     </cc:Agent>\n",
       "    </dc:creator>\n",
       "   </cc:Work>\n",
       "  </rdf:RDF>\n",
       " </metadata>\n",
       " <defs>\n",
       "  <style type=\"text/css\">*{stroke-linejoin: round; stroke-linecap: butt}</style>\n",
       " </defs>\n",
       " <g id=\"figure_1\">\n",
       "  <g id=\"patch_1\">\n",
       "   <path d=\"M 0 424.8 \n",
       "L 851.4 424.8 \n",
       "L 851.4 0 \n",
       "L 0 0 \n",
       "L 0 424.8 \n",
       "z\n",
       "\" style=\"fill: none\"/>\n",
       "  </g>\n",
       "  <g id=\"axes_1\">\n",
       "   <g clip-path=\"url(#pbf82529d27)\">\n",
       "    <image xlink:href=\"data:image/png;base64,\n",
       "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\" id=\"imagece2825f86b\" transform=\"matrix(2.055 0 0 -2.055 7.2 417.6)\" style=\"image-rendering:crisp-edges;image-rendering:pixelated\" width=\"200\" height=\"200\"/>\n",
       "   </g>\n",
       "  </g>\n",
       "  <g id=\"axes_2\">\n",
       "   <g clip-path=\"url(#pab914fc34b)\">\n",
       "    <image xlink:href=\"data:image/png;base64,\n",
       "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\" id=\"imagebd275adad1\" transform=\"matrix(2.055 0 0 -2.055 433.8 417.6)\" style=\"image-rendering:crisp-edges;image-rendering:pixelated\" width=\"200\" height=\"200\"/>\n",
       "   </g>\n",
       "  </g>\n",
       " </g>\n",
       " <defs>\n",
       "  <clipPath id=\"pbf82529d27\">\n",
       "   <rect x=\"7.2\" y=\"7.2\" width=\"410.4\" height=\"410.4\"/>\n",
       "  </clipPath>\n",
       "  <clipPath id=\"pab914fc34b\">\n",
       "   <rect x=\"433.8\" y=\"7.2\" width=\"410.4\" height=\"410.4\"/>\n",
       "  </clipPath>\n",
       " </defs>\n",
       "</svg>\n"
      ],
      "text/plain": [
       "<Figure size 864x432 with 2 Axes>"
      ]
     },
     "metadata": {
      "needs_background": "light"
     },
     "output_type": "display_data"
    }
   ],
   "source": [
    "fig, ax = plt.subplots(1, 2, figsize=[12, 6])\n",
    "ax[0].imshow((satn < 0.3)*(satn > 0)/im, interpolation='none', origin='lower')\n",
    "ax[0].axis(False)\n",
    "ax[1].imshow((satn < 0.8)*(satn > 0)/im, interpolation='none', origin='lower')\n",
    "ax[1].axis(False);"
   ]
  }
 ],
 "metadata": {
  "kernelspec": {
   "display_name": "Python 3 (ipykernel)",
   "language": "python",
   "name": "python3"
  },
  "language_info": {
   "codemirror_mode": {
    "name": "ipython",
    "version": 3
   },
   "file_extension": ".py",
   "mimetype": "text/x-python",
   "name": "python",
   "nbconvert_exporter": "python",
   "pygments_lexer": "ipython3",
   "version": "3.8.13"
  },
  "widgets": {
   "application/vnd.jupyter.widget-state+json": {
    "state": {
     "0500b818bb5340f981e8b4e873af6fe9": {
      "model_module": "@jupyter-widgets/controls",
      "model_module_version": "1.5.0",
      "model_name": "HTMLModel",
      "state": {
       "_dom_classes": [],
       "_model_module": "@jupyter-widgets/controls",
       "_model_module_version": "1.5.0",
       "_model_name": "HTMLModel",
       "_view_count": null,
       "_view_module": "@jupyter-widgets/controls",
       "_view_module_version": "1.5.0",
       "_view_name": "HTMLView",
       "description": "",
       "description_tooltip": null,
       "layout": "IPY_MODEL_93ec941536a1404383a50dbf7ecbe696",
       "placeholder": "​",
       "style": "IPY_MODEL_61c80e73143f4c1b820cfa4967a38474",
       "value": "  0%"
      }
     },
     "2bb2bff38dee49dfad368b99d7c1682a": {
      "model_module": "@jupyter-widgets/base",
      "model_module_version": "1.2.0",
      "model_name": "LayoutModel",
      "state": {
       "_model_module": "@jupyter-widgets/base",
       "_model_module_version": "1.2.0",
       "_model_name": "LayoutModel",
       "_view_count": null,
       "_view_module": "@jupyter-widgets/base",
       "_view_module_version": "1.2.0",
       "_view_name": "LayoutView",
       "align_content": null,
       "align_items": null,
       "align_self": null,
       "border": null,
       "bottom": null,
       "display": null,
       "flex": null,
       "flex_flow": null,
       "grid_area": null,
       "grid_auto_columns": null,
       "grid_auto_flow": null,
       "grid_auto_rows": null,
       "grid_column": null,
       "grid_gap": null,
       "grid_row": null,
       "grid_template_areas": null,
       "grid_template_columns": null,
       "grid_template_rows": null,
       "height": null,
       "justify_content": null,
       "justify_items": null,
       "left": null,
       "margin": null,
       "max_height": null,
       "max_width": null,
       "min_height": null,
       "min_width": null,
       "object_fit": null,
       "object_position": null,
       "order": null,
       "overflow": null,
       "overflow_x": null,
       "overflow_y": null,
       "padding": null,
       "right": null,
       "top": null,
       "visibility": null,
       "width": null
      }
     },
     "2f6fadd6adbc43ed992659fa6b87a5b2": {
      "model_module": "@jupyter-widgets/controls",
      "model_module_version": "1.5.0",
      "model_name": "ProgressStyleModel",
      "state": {
       "_model_module": "@jupyter-widgets/controls",
       "_model_module_version": "1.5.0",
       "_model_name": "ProgressStyleModel",
       "_view_count": null,
       "_view_module": "@jupyter-widgets/base",
       "_view_module_version": "1.2.0",
       "_view_name": "StyleView",
       "bar_color": null,
       "description_width": ""
      }
     },
     "2fc04ba0654f4276b64437433a74cbcb": {
      "model_module": "@jupyter-widgets/controls",
      "model_module_version": "1.5.0",
      "model_name": "FloatProgressModel",
      "state": {
       "_dom_classes": [],
       "_model_module": "@jupyter-widgets/controls",
       "_model_module_version": "1.5.0",
       "_model_name": "FloatProgressModel",
       "_view_count": null,
       "_view_module": "@jupyter-widgets/controls",
       "_view_module_version": "1.5.0",
       "_view_name": "ProgressView",
       "bar_style": "",
       "description": "",
       "description_tooltip": null,
       "layout": "IPY_MODEL_2bb2bff38dee49dfad368b99d7c1682a",
       "max": 25.0,
       "min": 0.0,
       "orientation": "horizontal",
       "style": "IPY_MODEL_2f6fadd6adbc43ed992659fa6b87a5b2",
       "value": 25.0
      }
     },
     "30d90e7488804e6d9264e38f0dfa86f3": {
      "model_module": "@jupyter-widgets/base",
      "model_module_version": "1.2.0",
      "model_name": "LayoutModel",
      "state": {
       "_model_module": "@jupyter-widgets/base",
       "_model_module_version": "1.2.0",
       "_model_name": "LayoutModel",
       "_view_count": null,
       "_view_module": "@jupyter-widgets/base",
       "_view_module_version": "1.2.0",
       "_view_name": "LayoutView",
       "align_content": null,
       "align_items": null,
       "align_self": null,
       "border": null,
       "bottom": null,
       "display": null,
       "flex": null,
       "flex_flow": null,
       "grid_area": null,
       "grid_auto_columns": null,
       "grid_auto_flow": null,
       "grid_auto_rows": null,
       "grid_column": null,
       "grid_gap": null,
       "grid_row": null,
       "grid_template_areas": null,
       "grid_template_columns": null,
       "grid_template_rows": null,
       "height": null,
       "justify_content": null,
       "justify_items": null,
       "left": null,
       "margin": null,
       "max_height": null,
       "max_width": null,
       "min_height": null,
       "min_width": null,
       "object_fit": null,
       "object_position": null,
       "order": null,
       "overflow": null,
       "overflow_x": null,
       "overflow_y": null,
       "padding": null,
       "right": null,
       "top": null,
       "visibility": null,
       "width": null
      }
     },
     "36c5ab56e2c147ddab7d8b211e82240d": {
      "model_module": "@jupyter-widgets/controls",
      "model_module_version": "1.5.0",
      "model_name": "DescriptionStyleModel",
      "state": {
       "_model_module": "@jupyter-widgets/controls",
       "_model_module_version": "1.5.0",
       "_model_name": "DescriptionStyleModel",
       "_view_count": null,
       "_view_module": "@jupyter-widgets/base",
       "_view_module_version": "1.2.0",
       "_view_name": "StyleView",
       "description_width": ""
      }
     },
     "47714427b66541f886da871a8e88bc0f": {
      "model_module": "@jupyter-widgets/controls",
      "model_module_version": "1.5.0",
      "model_name": "ProgressStyleModel",
      "state": {
       "_model_module": "@jupyter-widgets/controls",
       "_model_module_version": "1.5.0",
       "_model_name": "ProgressStyleModel",
       "_view_count": null,
       "_view_module": "@jupyter-widgets/base",
       "_view_module_version": "1.2.0",
       "_view_name": "StyleView",
       "bar_color": null,
       "description_width": ""
      }
     },
     "5cde2ab885894c9e9917a5c02f1cae44": {
      "model_module": "@jupyter-widgets/controls",
      "model_module_version": "1.5.0",
      "model_name": "HTMLModel",
      "state": {
       "_dom_classes": [],
       "_model_module": "@jupyter-widgets/controls",
       "_model_module_version": "1.5.0",
       "_model_name": "HTMLModel",
       "_view_count": null,
       "_view_module": "@jupyter-widgets/controls",
       "_view_module_version": "1.5.0",
       "_view_name": "HTMLView",
       "description": "",
       "description_tooltip": null,
       "layout": "IPY_MODEL_30d90e7488804e6d9264e38f0dfa86f3",
       "placeholder": "​",
       "style": "IPY_MODEL_ed27b292ecf4404c801787fd902f7b1f",
       "value": "  4%"
      }
     },
     "5f74d85f44b543d483230e3282a30994": {
      "model_module": "@jupyter-widgets/base",
      "model_module_version": "1.2.0",
      "model_name": "LayoutModel",
      "state": {
       "_model_module": "@jupyter-widgets/base",
       "_model_module_version": "1.2.0",
       "_model_name": "LayoutModel",
       "_view_count": null,
       "_view_module": "@jupyter-widgets/base",
       "_view_module_version": "1.2.0",
       "_view_name": "LayoutView",
       "align_content": null,
       "align_items": null,
       "align_self": null,
       "border": null,
       "bottom": null,
       "display": null,
       "flex": null,
       "flex_flow": null,
       "grid_area": null,
       "grid_auto_columns": null,
       "grid_auto_flow": null,
       "grid_auto_rows": null,
       "grid_column": null,
       "grid_gap": null,
       "grid_row": null,
       "grid_template_areas": null,
       "grid_template_columns": null,
       "grid_template_rows": null,
       "height": null,
       "justify_content": null,
       "justify_items": null,
       "left": null,
       "margin": null,
       "max_height": null,
       "max_width": null,
       "min_height": null,
       "min_width": null,
       "object_fit": null,
       "object_position": null,
       "order": null,
       "overflow": null,
       "overflow_x": null,
       "overflow_y": null,
       "padding": null,
       "right": null,
       "top": null,
       "visibility": null,
       "width": null
      }
     },
     "61c80e73143f4c1b820cfa4967a38474": {
      "model_module": "@jupyter-widgets/controls",
      "model_module_version": "1.5.0",
      "model_name": "DescriptionStyleModel",
      "state": {
       "_model_module": "@jupyter-widgets/controls",
       "_model_module_version": "1.5.0",
       "_model_name": "DescriptionStyleModel",
       "_view_count": null,
       "_view_module": "@jupyter-widgets/base",
       "_view_module_version": "1.2.0",
       "_view_name": "StyleView",
       "description_width": ""
      }
     },
     "686697f6295b47eab07ef2b0093a3452": {
      "model_module": "@jupyter-widgets/controls",
      "model_module_version": "1.5.0",
      "model_name": "DescriptionStyleModel",
      "state": {
       "_model_module": "@jupyter-widgets/controls",
       "_model_module_version": "1.5.0",
       "_model_name": "DescriptionStyleModel",
       "_view_count": null,
       "_view_module": "@jupyter-widgets/base",
       "_view_module_version": "1.2.0",
       "_view_name": "StyleView",
       "description_width": ""
      }
     },
     "6bf5b664d9124edca92f8a6089525d53": {
      "model_module": "@jupyter-widgets/controls",
      "model_module_version": "1.5.0",
      "model_name": "HTMLModel",
      "state": {
       "_dom_classes": [],
       "_model_module": "@jupyter-widgets/controls",
       "_model_module_version": "1.5.0",
       "_model_name": "HTMLModel",
       "_view_count": null,
       "_view_module": "@jupyter-widgets/controls",
       "_view_module_version": "1.5.0",
       "_view_name": "HTMLView",
       "description": "",
       "description_tooltip": null,
       "layout": "IPY_MODEL_5f74d85f44b543d483230e3282a30994",
       "placeholder": "​",
       "style": "IPY_MODEL_686697f6295b47eab07ef2b0093a3452",
       "value": " 1/25 [00:01&lt;00:24,  1.03s/it]"
      }
     },
     "71aef28e82f2444e897ba5c24e775a83": {
      "model_module": "@jupyter-widgets/controls",
      "model_module_version": "1.5.0",
      "model_name": "FloatProgressModel",
      "state": {
       "_dom_classes": [],
       "_model_module": "@jupyter-widgets/controls",
       "_model_module_version": "1.5.0",
       "_model_name": "FloatProgressModel",
       "_view_count": null,
       "_view_module": "@jupyter-widgets/controls",
       "_view_module_version": "1.5.0",
       "_view_name": "ProgressView",
       "bar_style": "",
       "description": "",
       "description_tooltip": null,
       "layout": "IPY_MODEL_81bf781d5d164c51b02136c55902a404",
       "max": 12.0,
       "min": 0.0,
       "orientation": "horizontal",
       "style": "IPY_MODEL_47714427b66541f886da871a8e88bc0f",
       "value": 12.0
      }
     },
     "7ebbdd901e7c4a6482dd78e20c0b667e": {
      "model_module": "@jupyter-widgets/base",
      "model_module_version": "1.2.0",
      "model_name": "LayoutModel",
      "state": {
       "_model_module": "@jupyter-widgets/base",
       "_model_module_version": "1.2.0",
       "_model_name": "LayoutModel",
       "_view_count": null,
       "_view_module": "@jupyter-widgets/base",
       "_view_module_version": "1.2.0",
       "_view_name": "LayoutView",
       "align_content": null,
       "align_items": null,
       "align_self": null,
       "border": null,
       "bottom": null,
       "display": null,
       "flex": null,
       "flex_flow": null,
       "grid_area": null,
       "grid_auto_columns": null,
       "grid_auto_flow": null,
       "grid_auto_rows": null,
       "grid_column": null,
       "grid_gap": null,
       "grid_row": null,
       "grid_template_areas": null,
       "grid_template_columns": null,
       "grid_template_rows": null,
       "height": null,
       "justify_content": null,
       "justify_items": null,
       "left": null,
       "margin": null,
       "max_height": null,
       "max_width": null,
       "min_height": null,
       "min_width": null,
       "object_fit": null,
       "object_position": null,
       "order": null,
       "overflow": null,
       "overflow_x": null,
       "overflow_y": null,
       "padding": null,
       "right": null,
       "top": null,
       "visibility": null,
       "width": null
      }
     },
     "81bf781d5d164c51b02136c55902a404": {
      "model_module": "@jupyter-widgets/base",
      "model_module_version": "1.2.0",
      "model_name": "LayoutModel",
      "state": {
       "_model_module": "@jupyter-widgets/base",
       "_model_module_version": "1.2.0",
       "_model_name": "LayoutModel",
       "_view_count": null,
       "_view_module": "@jupyter-widgets/base",
       "_view_module_version": "1.2.0",
       "_view_name": "LayoutView",
       "align_content": null,
       "align_items": null,
       "align_self": null,
       "border": null,
       "bottom": null,
       "display": null,
       "flex": null,
       "flex_flow": null,
       "grid_area": null,
       "grid_auto_columns": null,
       "grid_auto_flow": null,
       "grid_auto_rows": null,
       "grid_column": null,
       "grid_gap": null,
       "grid_row": null,
       "grid_template_areas": null,
       "grid_template_columns": null,
       "grid_template_rows": null,
       "height": null,
       "justify_content": null,
       "justify_items": null,
       "left": null,
       "margin": null,
       "max_height": null,
       "max_width": null,
       "min_height": null,
       "min_width": null,
       "object_fit": null,
       "object_position": null,
       "order": null,
       "overflow": null,
       "overflow_x": null,
       "overflow_y": null,
       "padding": null,
       "right": null,
       "top": null,
       "visibility": null,
       "width": null
      }
     },
     "93ec941536a1404383a50dbf7ecbe696": {
      "model_module": "@jupyter-widgets/base",
      "model_module_version": "1.2.0",
      "model_name": "LayoutModel",
      "state": {
       "_model_module": "@jupyter-widgets/base",
       "_model_module_version": "1.2.0",
       "_model_name": "LayoutModel",
       "_view_count": null,
       "_view_module": "@jupyter-widgets/base",
       "_view_module_version": "1.2.0",
       "_view_name": "LayoutView",
       "align_content": null,
       "align_items": null,
       "align_self": null,
       "border": null,
       "bottom": null,
       "display": null,
       "flex": null,
       "flex_flow": null,
       "grid_area": null,
       "grid_auto_columns": null,
       "grid_auto_flow": null,
       "grid_auto_rows": null,
       "grid_column": null,
       "grid_gap": null,
       "grid_row": null,
       "grid_template_areas": null,
       "grid_template_columns": null,
       "grid_template_rows": null,
       "height": null,
       "justify_content": null,
       "justify_items": null,
       "left": null,
       "margin": null,
       "max_height": null,
       "max_width": null,
       "min_height": null,
       "min_width": null,
       "object_fit": null,
       "object_position": null,
       "order": null,
       "overflow": null,
       "overflow_x": null,
       "overflow_y": null,
       "padding": null,
       "right": null,
       "top": null,
       "visibility": null,
       "width": null
      }
     },
     "b12ed1704a874069906231d097f821d3": {
      "model_module": "@jupyter-widgets/controls",
      "model_module_version": "1.5.0",
      "model_name": "HTMLModel",
      "state": {
       "_dom_classes": [],
       "_model_module": "@jupyter-widgets/controls",
       "_model_module_version": "1.5.0",
       "_model_name": "HTMLModel",
       "_view_count": null,
       "_view_module": "@jupyter-widgets/controls",
       "_view_module_version": "1.5.0",
       "_view_name": "HTMLView",
       "description": "",
       "description_tooltip": null,
       "layout": "IPY_MODEL_7ebbdd901e7c4a6482dd78e20c0b667e",
       "placeholder": "​",
       "style": "IPY_MODEL_36c5ab56e2c147ddab7d8b211e82240d",
       "value": " 0/12 [00:00&lt;?, ?it/s]"
      }
     },
     "b25afbb1bfe14564b7988ae3223271ba": {
      "model_module": "@jupyter-widgets/base",
      "model_module_version": "1.2.0",
      "model_name": "LayoutModel",
      "state": {
       "_model_module": "@jupyter-widgets/base",
       "_model_module_version": "1.2.0",
       "_model_name": "LayoutModel",
       "_view_count": null,
       "_view_module": "@jupyter-widgets/base",
       "_view_module_version": "1.2.0",
       "_view_name": "LayoutView",
       "align_content": null,
       "align_items": null,
       "align_self": null,
       "border": null,
       "bottom": null,
       "display": null,
       "flex": null,
       "flex_flow": null,
       "grid_area": null,
       "grid_auto_columns": null,
       "grid_auto_flow": null,
       "grid_auto_rows": null,
       "grid_column": null,
       "grid_gap": null,
       "grid_row": null,
       "grid_template_areas": null,
       "grid_template_columns": null,
       "grid_template_rows": null,
       "height": null,
       "justify_content": null,
       "justify_items": null,
       "left": null,
       "margin": null,
       "max_height": null,
       "max_width": null,
       "min_height": null,
       "min_width": null,
       "object_fit": null,
       "object_position": null,
       "order": null,
       "overflow": null,
       "overflow_x": null,
       "overflow_y": null,
       "padding": null,
       "right": null,
       "top": null,
       "visibility": null,
       "width": null
      }
     },
     "c14559bfb00f49128a7fdead8f6ee70b": {
      "model_module": "@jupyter-widgets/controls",
      "model_module_version": "1.5.0",
      "model_name": "HBoxModel",
      "state": {
       "_dom_classes": [],
       "_model_module": "@jupyter-widgets/controls",
       "_model_module_version": "1.5.0",
       "_model_name": "HBoxModel",
       "_view_count": null,
       "_view_module": "@jupyter-widgets/controls",
       "_view_module_version": "1.5.0",
       "_view_name": "HBoxView",
       "box_style": "",
       "children": [
        "IPY_MODEL_5cde2ab885894c9e9917a5c02f1cae44",
        "IPY_MODEL_2fc04ba0654f4276b64437433a74cbcb",
        "IPY_MODEL_6bf5b664d9124edca92f8a6089525d53"
       ],
       "layout": "IPY_MODEL_f8af542e0c2149758f7e49b7f112da74"
      }
     },
     "ed27b292ecf4404c801787fd902f7b1f": {
      "model_module": "@jupyter-widgets/controls",
      "model_module_version": "1.5.0",
      "model_name": "DescriptionStyleModel",
      "state": {
       "_model_module": "@jupyter-widgets/controls",
       "_model_module_version": "1.5.0",
       "_model_name": "DescriptionStyleModel",
       "_view_count": null,
       "_view_module": "@jupyter-widgets/base",
       "_view_module_version": "1.2.0",
       "_view_name": "StyleView",
       "description_width": ""
      }
     },
     "f0fe9d6e7c734a3688e4cdd7a247032b": {
      "model_module": "@jupyter-widgets/controls",
      "model_module_version": "1.5.0",
      "model_name": "HBoxModel",
      "state": {
       "_dom_classes": [],
       "_model_module": "@jupyter-widgets/controls",
       "_model_module_version": "1.5.0",
       "_model_name": "HBoxModel",
       "_view_count": null,
       "_view_module": "@jupyter-widgets/controls",
       "_view_module_version": "1.5.0",
       "_view_name": "HBoxView",
       "box_style": "",
       "children": [
        "IPY_MODEL_0500b818bb5340f981e8b4e873af6fe9",
        "IPY_MODEL_71aef28e82f2444e897ba5c24e775a83",
        "IPY_MODEL_b12ed1704a874069906231d097f821d3"
       ],
       "layout": "IPY_MODEL_b25afbb1bfe14564b7988ae3223271ba"
      }
     },
     "f8af542e0c2149758f7e49b7f112da74": {
      "model_module": "@jupyter-widgets/base",
      "model_module_version": "1.2.0",
      "model_name": "LayoutModel",
      "state": {
       "_model_module": "@jupyter-widgets/base",
       "_model_module_version": "1.2.0",
       "_model_name": "LayoutModel",
       "_view_count": null,
       "_view_module": "@jupyter-widgets/base",
       "_view_module_version": "1.2.0",
       "_view_name": "LayoutView",
       "align_content": null,
       "align_items": null,
       "align_self": null,
       "border": null,
       "bottom": null,
       "display": null,
       "flex": null,
       "flex_flow": null,
       "grid_area": null,
       "grid_auto_columns": null,
       "grid_auto_flow": null,
       "grid_auto_rows": null,
       "grid_column": null,
       "grid_gap": null,
       "grid_row": null,
       "grid_template_areas": null,
       "grid_template_columns": null,
       "grid_template_rows": null,
       "height": null,
       "justify_content": null,
       "justify_items": null,
       "left": null,
       "margin": null,
       "max_height": null,
       "max_width": null,
       "min_height": null,
       "min_width": null,
       "object_fit": null,
       "object_position": null,
       "order": null,
       "overflow": null,
       "overflow_x": null,
       "overflow_y": null,
       "padding": null,
       "right": null,
       "top": null,
       "visibility": null,
       "width": null
      }
     }
    },
    "version_major": 2,
    "version_minor": 0
   }
  }
 },
 "nbformat": 4,
 "nbformat_minor": 5
}
