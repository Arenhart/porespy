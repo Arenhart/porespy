{
 "cells": [
  {
   "cell_type": "markdown",
   "id": "d279476c",
   "metadata": {},
   "source": [
    "# `pc_to_satn`\n",
    "Convert a capillary pressure map to saturation map."
   ]
  },
  {
   "cell_type": "code",
   "execution_count": 1,
   "id": "df328066",
   "metadata": {
    "execution": {
     "iopub.execute_input": "2022-04-26T09:04:32.199982Z",
     "iopub.status.busy": "2022-04-26T09:04:32.199799Z",
     "iopub.status.idle": "2022-04-26T09:04:34.347202Z",
     "shell.execute_reply": "2022-04-26T09:04:34.346583Z"
    }
   },
   "outputs": [],
   "source": [
    "import matplotlib.pyplot as plt\n",
    "import numpy as np\n",
    "import porespy as ps\n",
    "ps.visualization.set_mpl_style()"
   ]
  },
  {
   "cell_type": "markdown",
   "id": "9640b91d",
   "metadata": {},
   "source": [
    "The arguments and their defaults are:"
   ]
  },
  {
   "cell_type": "code",
   "execution_count": 2,
   "id": "da504252",
   "metadata": {
    "execution": {
     "iopub.execute_input": "2022-04-26T09:04:34.352113Z",
     "iopub.status.busy": "2022-04-26T09:04:34.351085Z",
     "iopub.status.idle": "2022-04-26T09:04:34.359168Z",
     "shell.execute_reply": "2022-04-26T09:04:34.358777Z"
    }
   },
   "outputs": [
    {
     "data": {
      "text/plain": [
       "<Signature (pc, im)>"
      ]
     },
     "execution_count": 2,
     "metadata": {},
     "output_type": "execute_result"
    }
   ],
   "source": [
    "import inspect\n",
    "inspect.signature(ps.filters.pc_to_satn)"
   ]
  },
  {
   "cell_type": "markdown",
   "id": "a49558cb",
   "metadata": {},
   "source": [
    "The capillary pressure map, such as that computed by ``ps.simulations.drainage``"
   ]
  },
  {
   "cell_type": "code",
   "execution_count": 3,
   "id": "567910b4",
   "metadata": {
    "execution": {
     "iopub.execute_input": "2022-04-26T09:04:34.362857Z",
     "iopub.status.busy": "2022-04-26T09:04:34.361957Z",
     "iopub.status.idle": "2022-04-26T09:04:35.395748Z",
     "shell.execute_reply": "2022-04-26T09:04:35.395091Z"
    }
   },
   "outputs": [
    {
     "data": {
      "application/vnd.jupyter.widget-view+json": {
       "model_id": "f14d08873ded4fdc9e4f5cb97b180685",
       "version_major": 2,
       "version_minor": 0
      },
      "text/plain": [
       "  0%|          | 0/25 [00:00<?, ?it/s]"
      ]
     },
     "metadata": {},
     "output_type": "display_data"
    },
    {
     "data": {
      "application/vnd.jupyter.widget-view+json": {
       "model_id": "30052342d28548fc96e584b52fbcd5e0",
       "version_major": 2,
       "version_minor": 0
      },
      "text/plain": [
       "  0%|          | 0/13 [00:00<?, ?it/s]"
      ]
     },
     "metadata": {},
     "output_type": "display_data"
    }
   ],
   "source": [
    "im = ps.generators.blobs(shape=[200, 200], porosity=0.6)\n",
    "drn = ps.simulations.drainage(im=im, voxel_size=1, g=0)"
   ]
  },
  {
   "cell_type": "markdown",
   "id": "639b2f06",
   "metadata": {},
   "source": [
    "## `pc` and `im`"
   ]
  },
  {
   "cell_type": "code",
   "execution_count": 4,
   "id": "45c9fb8b",
   "metadata": {
    "execution": {
     "iopub.execute_input": "2022-04-26T09:04:35.398657Z",
     "iopub.status.busy": "2022-04-26T09:04:35.398358Z",
     "iopub.status.idle": "2022-04-26T09:04:35.566523Z",
     "shell.execute_reply": "2022-04-26T09:04:35.566033Z"
    }
   },
   "outputs": [
    {
     "data": {
      "image/svg+xml": [
       "<?xml version=\"1.0\" encoding=\"utf-8\" standalone=\"no\"?>\n",
       "<!DOCTYPE svg PUBLIC \"-//W3C//DTD SVG 1.1//EN\"\n",
       "  \"http://www.w3.org/Graphics/SVG/1.1/DTD/svg11.dtd\">\n",
       "<svg xmlns:xlink=\"http://www.w3.org/1999/xlink\" width=\"846pt\" height=\"420.48pt\" viewBox=\"0 0 846 420.48\" xmlns=\"http://www.w3.org/2000/svg\" version=\"1.1\">\n",
       " <metadata>\n",
       "  <rdf:RDF xmlns:dc=\"http://purl.org/dc/elements/1.1/\" xmlns:cc=\"http://creativecommons.org/ns#\" xmlns:rdf=\"http://www.w3.org/1999/02/22-rdf-syntax-ns#\">\n",
       "   <cc:Work>\n",
       "    <dc:type rdf:resource=\"http://purl.org/dc/dcmitype/StillImage\"/>\n",
       "    <dc:date>2022-04-26T09:04:35.526733</dc:date>\n",
       "    <dc:format>image/svg+xml</dc:format>\n",
       "    <dc:creator>\n",
       "     <cc:Agent>\n",
       "      <dc:title>Matplotlib v3.5.1, https://matplotlib.org/</dc:title>\n",
       "     </cc:Agent>\n",
       "    </dc:creator>\n",
       "   </cc:Work>\n",
       "  </rdf:RDF>\n",
       " </metadata>\n",
       " <defs>\n",
       "  <style type=\"text/css\">*{stroke-linejoin: round; stroke-linecap: butt}</style>\n",
       " </defs>\n",
       " <g id=\"figure_1\">\n",
       "  <g id=\"patch_1\">\n",
       "   <path d=\"M 0 420.48 \n",
       "L 846 420.48 \n",
       "L 846 0 \n",
       "L 0 0 \n",
       "L 0 420.48 \n",
       "z\n",
       "\" style=\"fill: none\"/>\n",
       "  </g>\n",
       "  <g id=\"axes_1\">\n",
       "   <g clip-path=\"url(#p5e21e17710)\">\n",
       "    <image xlink:href=\"data:image/png;base64,\n",
       "iVBORw0KGgoAAAANSUhEUgAAAMgAAADICAYAAACtWK6eAAASOklEQVR4nO2dTWgd1xXHz0hORJHRk0w3qsEJskkgi4I2hmwaIYqSQJddFNxtKFlkIxlcMLzFAy0MljeBbLJ2Vl6GyjHGOKuCNypdGBQUFQrGm6JYqQ21Lb/pQlxl3mjmfp5z77kz5wdvY+u9N2/m/u//nPtxbgEEfHzusxLjc747+LrA+Jy15aHxeu7tjKy+a+nGVrn017+HXxQy98s7KPeqytrysBz/4zH2x6IzvbBw6t+K+Tn44S+/gf1rG8735fKVmyft5UzgtWXD1OGL1v8bD2YjXomQE1OpL4CateVhqRMHgF48dXx6JCENGM+q8wKxbfyfLG2ghIVdwjbs7DLoAsHKPzBwbfQikm5QzM+hfVbnHcQVEckkFMk/Jk0JOgDA3f0tlOtmKxCsESwfTCLh3mj6TDE/hyYOAORRrJzDq6b3Y95oSqYXFgAO6D7/fnmn+H3xRzbPVlF1j5MOFfk+oAmEkzhiwLXRUMHt994v7xSUnYICJcTCFkdoeIWVR+SQj0wvLKAmpTkQM8QNFgi3RhTzelLnItUQ4/3hLfLfnfr3KmJGK0ECsVnCkTtcE3YljmJ+Dl5dOAeDH8dRRNI3vASydGOr5PgwqNyDk0imFxZOwioljufnZwAAYPDjeGIdUZeJ1Tk7C+TN00vkF5Zjwk8pkvvlnUK9vjv4uvju4OviX38+DwcfLp6Io4qIJIxHt68Whxen4PDilLtAphf3ovSWrm5A3aPYXA+2SJQomv5vd7ReHF5kO40VjdWVTZLnvjtaLx5//pXfMK9aBPZOhEapVtrq1gVxyoWmFxbgzU8/BX2GrdB2R+tFX9xC0TZzTvJdi3tF0DzIvZ1REWvUiIMIbCcPQ0TCZaQoJ5ZubJVUq6yDPTqX2WYsbDsElUzb4vr3ike3r/bm/ldH7mLRmw1TmDQ5iRJO+eznib+NERLEEknKmfTqfVRh99Hg9AAFNmg3FnvkSfUSLrv9XDY+UVEXiPP731kEAF57MT4+91kZmleFUBWHuj9KHM/Pz5B2ECwdxNdCx4NZFiLBQOVcMYTSFjYqsacSR1UYJ6t0I6y/qoJ687FcpCoQn/3iKUUS6iBtnQNVrmcSB0B8gXAaqGDnIKHiqL5P1/tyW0NmQl0vplBs7kEscXASRRVUgRTzc949aL3ndBXH0WAGHjy8bn2TVUPjJBSb0JJCKHVCXdAVruIAQA6x2kZydFSXtvvOdYTG6dgiweokbPAViq7aS+zwqjcCAZhsbLqGYrPnA7Pgm4nUIgkd23cVigjEDpJqfKYk2afXW7qxNdGAKWZOU4gEe9LL5t6urmyWZw5ftg5mxBbI9MJC0hoEOkiSdIpKhTkWbLMZkVp7x9yhuKDLUS5fuVm+/fMY4L+v0b4PC641AIpqGIMRrqjeqQ1OE2BNUCftTY0g5kDBeDALR4MZ4OYg1c6EUihNYbuuTU44CNbklHoATf/Onbv7WyQLMLn0jlOHL/iN7dfAdhNTLqtr90Xbm31Foluf7zIMmxJMgdg+6NjDzSoMbnKR1A5SJWSUzud99Xbf2pmsLQ9LH5Hk6hxVMFyEi2PoOBrMwBk4LZLqfBbG/hYdpsWcupyKYgtEvd1r3dZVJG0XfObwZXYiCSEHcSiani+nyVNFdfMcNdV2j7Zn06RmXeLOEd9GnpM42ri7v1VUh12pluy77u+IucZubXlYri0PS6NAMG2Mw65ASnIThyknVAUiAPBFEnPrbAgoDlKfxBPc4BjSVMEWSX0ZO2e4j/gJRLgOwFRDLt8NVDkJQ2ElEN8RrZzh3quH8OrCOYB9//f7LAvJ9X6iOMj+tY3iUgfyi1wfoguvLpxLMh9FNQFLTfQQi4Mb2Syo7CJ397eKEOfA+P7cRGItEF3DzmF0Ss3w69YghcJ1wR2nawoRSYrjup0cpGnNCndxXL5yszz75HgOhlIcCtcdf5x71OroJOZqah+RTKyAjtjmWtdiURIjxKqW5Dz75OXJRGXM0MpGJDEE4uoguhXZmM/O5rfrrj2k7dZ/R+sqEN8v4Ijq8d56UQD8OE59OWxDLh2m7QqYOeTBh4sw/7h5UxllJ+ry2UkcBADvBjRNUr71ooBBRSCpHEShE0kMBxkPZq3vt217oHp+rqGcT/t1yaWzdZCcZu9zdBITWE7CfadodgdMfPr9F+Wn33+hFcfrWX7aaXIKzgm6DRwGaHxE6nLdyRzEpwd68/RS+Ycfmv+v3hPVh/tNsXUMqk6SuzgUa8vD0nUrQy4b5wAS5iAAbuo/FsenE/+2/dGXXr1H3yYJbXOQkLYQst8nVDAYuwfbPiNpiGWbRyhxfPveNnz73jZsf/Rl4SMOgOOb0rV8wETqlQsmqI5RM6FEoRMY+yRdHRr67XvbqOcjdi3UEfwwuQ/bJP3N00ulEsf04l5BdXjo3f2tTjtKLr8tlYuYSCaQZx/MNQ7xVYUBEO9U3a4LxYTKzdpeMeAokiQCubczKrierdclobj8DpMIdP+fuiAHZY4VXSAuPyaWezSRu1Bcrt02D2sSSWpxUBNVIDbiUPlGSnFUyVkkVNzbGRX3dkZF18UBEFEg3IcadeQmEgr3UFSfY04Tfr5EEUjO4lDkIpJcrjMX2A7zCnnQdRchF0gX3CMXXN3DZ5KUcmKVo9hYz6RTbfnsIhJa0cBWIJev3Czhn790Vr++crNMOXeytjwsIWDCrK0Bp1rqgvm9Dx5eL1JO8lEuuGUrEIDjnYBVVlc2yxQ2HPIATD17V9aEqefiKxSO4RVAhBzEt3GpbbL1V+yeyvf6OU809i2PCIGlg+g2N4Vsegq14vFg1mpdUgph2G7rjeFUoW7CiSjDvK4N0yQC289TZzyol8s1tGEqXpbSNT5Z2ih1AogdxnXBTaI5iO0WW5fGD2Bf3wiTNpFwGdLmlM+kTuBDYVU4jkMRAF9CxcGpUevwdUiTSFJtuzWRZCa9HvJghkAp4OIcnMk13Mqmxi5XsMTRdQdRNDkJhnjIHUR6QXfknrnz/PzMqRcGVM/iRCDiIG6IOPx4dPtqcXhxCqovrCqZFM9kKvf4PwUijjDqlS/feoF3O7GfjSx3d4RCHDl1UBi5UtPC0/eHt9DuAeYzYjmT3heqwrCdpe8ySiS7o/XgBq5EEtr5iEAS0PbQRCTHVN0kVCz3dkZBc30ikMiYHlbTLL0pZMhliNiHeuiF4S4uSA7iSEhvlFOuoSOlIN8f3irVK8b3iUAi0RVxcMJWJCHliSTEioCIg443Ty+VphpqasGkaZV4UygrDpIBuoV+ueYfWLmEbYHBBw+vF225nCqE1/R/4iDEYLmHOtY65pnv3PE5as91jkQcxJGU5TZFHJPEqHQjDuLA0WDGaeUpRe6R+pxFTHZH64XvaBTFcG/TtfReINzXVXEsEM21GIUvOpFKiEUEhnsocWAtCeeIjxPEnCzstYNwdo+ma8t5bzcW2OIwhXjiIAxpEy6XbavYQ8u2jT72MhOAnguE2wSebjy++jexrocTKcQBkKiqCSc47e9wuRYOE4S5J+s2I2jsc5AulghqwlWod/e3Cg4i4Uh9C2/IfAlrBzE1Goxrx3YQn2sKuQYOItE5ie5+HA2OizZgVO2nWt3L2kFsqzH2GQ7V4bXf3TLjPx7MwpnDl3AW4fspl75PqcSQa0PU9UDcrjmlG3OuJt+EWirDfWXAhINg7ePFRpzEniaRcAjDmpg6fGEsBm6CeuNU4zAvVmPEdKY20XIRDrdOpYpyl5wchgut8yChDa/6/r6IJAdEKG5oJwp9G17T+6gbcUqRhLpHCvcRodhhHMVyyUtS9+ShJV5SkirPqookRa6Sus2YZuitl5qY8onUPzQVmIJMXQY2Ra4SIsoYlU2yOjFWgT2BGCJuygbNodOJ4Sq+gsQQiMlBWE8UxsIn+T9Zek44jr+2PCyffTAH//ltEWV7aRN9X9KSpYMA6BtvrnlIG3t/GiQTCEC83MTFSTDDK52LRF/uziFsEHiSyql0Yss2xEp5yq1AhxKJzk0okvO2gtnZzh30idSum6pnbxNJrLq8ABk7SA70ZS8LFZ8sbZTjwezEfYwpDoCEDgLQvYaiqpDY7B13+e0pHYTDCNZ4MAvPPpgDAIDDi3HTZi8HaXq4qcMADlAUVei7OACOV/3OP4YTkUT9bpc/1s30ds0NXHFtyNw7FC7iSM2Zeq2ltl7QRgBtI0u+n5cL3Bu74M+pEKupOJnrri+dULokjK7C2T2aJvUoE3fSUaw+iKFr7sFZHG3FHeqiwRRMrwvHpcS28+hDJ2ODS0e0O1ovsArN9XYeJOUMvDT6OFRF4usqvXSQFDseFSIOdzD2p/i6ipVAOJ5R4UuOW3NFVHi4CsXaQbokkhRII/eDanejrVCcQqyjwQwcDWY6N3ITgsv8UJ+pbue13db76sI58usyiaSwPZRFt4witwaAPT8Ta/NWjI5pdWWzfPvfB2ifZ+sATe0w5nkobUk8ikAA8hMJNjEmRWM5N5ZIcisr1CQSK4HYKrnvIqEmdmgbMmmYmzgUdZGgDvNKbkJL7A7ItwxQaL1dTmQ7USjrvOJie8xCl8QBYCEQLgdHApgdKufKirmghJLTsRS2NOUg6DPpVDcn15uODZcOoO15pNjUREkWIZaLOMRF4qGeS/VMQOz6XVgrc03zHUHDvK5hVuqx/z4IpA+OSrHPw3U/CYmDSC9Oj5y65Yer6Fiv5pUGIKTGSiD1c6cFHohL00PmINL7x+HN00siEkJYh1jSQwqpYS0Qwcz04p44NSFWAkl5NoUPEt4JWIiDCIIG9gLxzUPERQQM2AskBNPJvIJgwkogtrsOqQgdzRKRCL5ksVgRg6pIZPi4O/jUunJZbmIdYuXuIlW6FHr1Vewh5UVJ6mL5gN0IsUXaFaH0TSRYdXdtcBJIahehQkTCk9ezkz8Jsyi17ec4O0hqkVCtPRKR8GP/2kbx+POv4PHnX0V1jSpeIZaLSHJqeDlda1+YXtwrUi6n8c5BYjuJqg1MfbNyF4lsTcAli4lCl+OVMchdJAIeQfMgqyubJXWjlcYqpCTYQahCrdRDsCJMAQApxGoTie5cdR3SOP3JbWsCd9CWmqyubJaux0U3IeIQKHGtaoImEBGHwA1XMTTNtaCEWBjiEMKRDuYXMMQBkMkwryC4gFmRkY1ApPcLQ+7fMdjlSnuzH8SHFCVU5dwTfyhq+bJxkL6jm/exOReF5qoEb4E8eHi9UK8uP6AYv83mO/pyHgc3vEKspuUlXa7ozuW3KZGoJf/Ti3sF7KS9pi6gW0rv7CC6tVfiJHE+N/US8D6RzRFsHOjyb+sCPpuqTO9xCrEoV+7KgTACBruj9cI0muUiJKsj2BQuAulyRcTUR8wJ8bAOsWJtVvJdASwIFLA9QKcvIunL78wV1hOF0niE1LAvHNcHkfThN+aK9ShWjP3nMalX/7DdiUfVmNeWh6UqTlEn5L77/k7hGKdRLAC/h8WtOrtu92Pbd8Xq5dtEUsf0HC5fuVmefaLfp9OlDo8KZ4EAxBfJ9t++QauHZbs1WAkldvhjKxAAgOfnZ+DR7aun7svSja3y3e3/WX2GiEQPeWVFReoqJQrb3Y+5DDeHFopLXUqWO9ErK7qK5GgwIye5EiMiaSdoFCtEJDZCORrMSAgQCRFJM0l3FHIIuTjhkn8omkal9q9tFO96NPiujVRiwLayYt9wFUdbgh6KFL+eBMVBcup5uGx+AjA7aFvnk8u97gJStCERNuGlCCE9aEtNcgq1JPdpR2baJ2G9WFHwI6fOiju9FUhqF6HIg1ZXNssQcUhId5reCgQgvUgwCXUNEUczqAIRa3cDy0XkvtPRawfpAiIOWnovkNRhVoiLYIlDwqt2ei8QDpOGPtcgzhGH3gskR0Qc8RCBMMHWRUQccUEXSE4PkEN4VcV0PRT3VvIPPVmuxepyIQIlkvrgQU4dT5cgeQhUvZKph3UZkeLmHjb47BcxIQ6ip/HmcJuVdWnMNiLJURwKTJGIOMw05iCcbpxrYzb9fc7iAJAjt2PTmoMokaSMfX0bc1scT1WfK3fRCe1YOwXVMQltcGt0nEI3rDCLU6TAFXbHHwDkKQ6Xv+OAiMMOp3kQdaot1cVwhGuj7+OzSEHQDW4Ku0KrbXByD19xUP4G3TXFDoP7QNBM+oOH14snv/sVVF8UpWhSwNE5TNckjR6f4KUmu6P14vVsCeoVgtRkErghixUzwdbRxEVw+T/vhbUhPX9TkQAAAABJRU5ErkJggg==\" id=\"imaged6a8cf527f\" transform=\"matrix(2.035 0 0 -2.035 7.2 413.28)\" style=\"image-rendering:crisp-edges;image-rendering:pixelated\" width=\"200\" height=\"200\"/>\n",
       "   </g>\n",
       "  </g>\n",
       "  <g id=\"axes_2\">\n",
       "   <g clip-path=\"url(#pc32bae8a5f)\">\n",
       "    <image xlink:href=\"data:image/png;base64,\n",
       "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\" id=\"image2bf0cd95ff\" transform=\"matrix(2.035 0 0 -2.035 432.72 413.28)\" style=\"image-rendering:crisp-edges;image-rendering:pixelated\" width=\"200\" height=\"200\"/>\n",
       "   </g>\n",
       "  </g>\n",
       " </g>\n",
       " <defs>\n",
       "  <clipPath id=\"p5e21e17710\">\n",
       "   <rect x=\"7.2\" y=\"7.2\" width=\"406.08\" height=\"406.08\"/>\n",
       "  </clipPath>\n",
       "  <clipPath id=\"pc32bae8a5f\">\n",
       "   <rect x=\"432.72\" y=\"7.2\" width=\"406.08\" height=\"406.08\"/>\n",
       "  </clipPath>\n",
       " </defs>\n",
       "</svg>\n"
      ],
      "text/plain": [
       "<Figure size 864x432 with 2 Axes>"
      ]
     },
     "metadata": {
      "needs_background": "light"
     },
     "output_type": "display_data"
    }
   ],
   "source": [
    "satn = ps.filters.pc_to_satn(pc=drn.im_pc, im=im)\n",
    "\n",
    "fig, ax = plt.subplots(1, 2, figsize=[12, 6])\n",
    "ax[0].imshow(drn.im_pc/im, interpolation='none', origin='lower')\n",
    "ax[0].axis(False)\n",
    "ax[1].imshow(satn/im, interpolation='none', origin='lower')\n",
    "ax[1].axis(False);"
   ]
  },
  {
   "cell_type": "markdown",
   "id": "d7be130c",
   "metadata": {},
   "source": [
    "The saturation image allows for easy determination of a desired fluid configuration:"
   ]
  },
  {
   "cell_type": "code",
   "execution_count": 5,
   "id": "70dced98",
   "metadata": {
    "execution": {
     "iopub.execute_input": "2022-04-26T09:04:35.569679Z",
     "iopub.status.busy": "2022-04-26T09:04:35.569482Z",
     "iopub.status.idle": "2022-04-26T09:04:35.685214Z",
     "shell.execute_reply": "2022-04-26T09:04:35.684755Z"
    }
   },
   "outputs": [
    {
     "data": {
      "image/svg+xml": [
       "<?xml version=\"1.0\" encoding=\"utf-8\" standalone=\"no\"?>\n",
       "<!DOCTYPE svg PUBLIC \"-//W3C//DTD SVG 1.1//EN\"\n",
       "  \"http://www.w3.org/Graphics/SVG/1.1/DTD/svg11.dtd\">\n",
       "<svg xmlns:xlink=\"http://www.w3.org/1999/xlink\" width=\"846pt\" height=\"420.48pt\" viewBox=\"0 0 846 420.48\" xmlns=\"http://www.w3.org/2000/svg\" version=\"1.1\">\n",
       " <metadata>\n",
       "  <rdf:RDF xmlns:dc=\"http://purl.org/dc/elements/1.1/\" xmlns:cc=\"http://creativecommons.org/ns#\" xmlns:rdf=\"http://www.w3.org/1999/02/22-rdf-syntax-ns#\">\n",
       "   <cc:Work>\n",
       "    <dc:type rdf:resource=\"http://purl.org/dc/dcmitype/StillImage\"/>\n",
       "    <dc:date>2022-04-26T09:04:35.666903</dc:date>\n",
       "    <dc:format>image/svg+xml</dc:format>\n",
       "    <dc:creator>\n",
       "     <cc:Agent>\n",
       "      <dc:title>Matplotlib v3.5.1, https://matplotlib.org/</dc:title>\n",
       "     </cc:Agent>\n",
       "    </dc:creator>\n",
       "   </cc:Work>\n",
       "  </rdf:RDF>\n",
       " </metadata>\n",
       " <defs>\n",
       "  <style type=\"text/css\">*{stroke-linejoin: round; stroke-linecap: butt}</style>\n",
       " </defs>\n",
       " <g id=\"figure_1\">\n",
       "  <g id=\"patch_1\">\n",
       "   <path d=\"M 0 420.48 \n",
       "L 846 420.48 \n",
       "L 846 0 \n",
       "L 0 0 \n",
       "L 0 420.48 \n",
       "z\n",
       "\" style=\"fill: none\"/>\n",
       "  </g>\n",
       "  <g id=\"axes_1\">\n",
       "   <g clip-path=\"url(#pfcc2f71879)\">\n",
       "    <image xlink:href=\"data:image/png;base64,\n",
       "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\" id=\"image74f19edd05\" transform=\"matrix(2.035 0 0 -2.035 7.2 413.28)\" style=\"image-rendering:crisp-edges;image-rendering:pixelated\" width=\"200\" height=\"200\"/>\n",
       "   </g>\n",
       "  </g>\n",
       "  <g id=\"axes_2\">\n",
       "   <g clip-path=\"url(#pda53157096)\">\n",
       "    <image xlink:href=\"data:image/png;base64,\n",
       "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\" id=\"imagea49e264f5f\" transform=\"matrix(2.035 0 0 -2.035 432.72 413.28)\" style=\"image-rendering:crisp-edges;image-rendering:pixelated\" width=\"200\" height=\"200\"/>\n",
       "   </g>\n",
       "  </g>\n",
       " </g>\n",
       " <defs>\n",
       "  <clipPath id=\"pfcc2f71879\">\n",
       "   <rect x=\"7.2\" y=\"7.2\" width=\"406.08\" height=\"406.08\"/>\n",
       "  </clipPath>\n",
       "  <clipPath id=\"pda53157096\">\n",
       "   <rect x=\"432.72\" y=\"7.2\" width=\"406.08\" height=\"406.08\"/>\n",
       "  </clipPath>\n",
       " </defs>\n",
       "</svg>\n"
      ],
      "text/plain": [
       "<Figure size 864x432 with 2 Axes>"
      ]
     },
     "metadata": {
      "needs_background": "light"
     },
     "output_type": "display_data"
    }
   ],
   "source": [
    "fig, ax = plt.subplots(1, 2, figsize=[12, 6])\n",
    "ax[0].imshow((satn < 0.3)*(satn > 0)/im, interpolation='none', origin='lower')\n",
    "ax[0].axis(False)\n",
    "ax[1].imshow((satn < 0.8)*(satn > 0)/im, interpolation='none', origin='lower')\n",
    "ax[1].axis(False);"
   ]
  }
 ],
 "metadata": {
  "kernelspec": {
   "display_name": "Python 3 (ipykernel)",
   "language": "python",
   "name": "python3"
  },
  "language_info": {
   "codemirror_mode": {
    "name": "ipython",
    "version": 3
   },
   "file_extension": ".py",
   "mimetype": "text/x-python",
   "name": "python",
   "nbconvert_exporter": "python",
   "pygments_lexer": "ipython3",
   "version": "3.8.13"
  },
  "widgets": {
   "application/vnd.jupyter.widget-state+json": {
    "state": {
     "1e96a671287f42a1b76b480f28e3f13b": {
      "model_module": "@jupyter-widgets/controls",
      "model_module_version": "1.5.0",
      "model_name": "ProgressStyleModel",
      "state": {
       "_model_module": "@jupyter-widgets/controls",
       "_model_module_version": "1.5.0",
       "_model_name": "ProgressStyleModel",
       "_view_count": null,
       "_view_module": "@jupyter-widgets/base",
       "_view_module_version": "1.2.0",
       "_view_name": "StyleView",
       "bar_color": null,
       "description_width": ""
      }
     },
     "240dc07eed60453c97fe24c6ea392785": {
      "model_module": "@jupyter-widgets/controls",
      "model_module_version": "1.5.0",
      "model_name": "DescriptionStyleModel",
      "state": {
       "_model_module": "@jupyter-widgets/controls",
       "_model_module_version": "1.5.0",
       "_model_name": "DescriptionStyleModel",
       "_view_count": null,
       "_view_module": "@jupyter-widgets/base",
       "_view_module_version": "1.2.0",
       "_view_name": "StyleView",
       "description_width": ""
      }
     },
     "30052342d28548fc96e584b52fbcd5e0": {
      "model_module": "@jupyter-widgets/controls",
      "model_module_version": "1.5.0",
      "model_name": "HBoxModel",
      "state": {
       "_dom_classes": [],
       "_model_module": "@jupyter-widgets/controls",
       "_model_module_version": "1.5.0",
       "_model_name": "HBoxModel",
       "_view_count": null,
       "_view_module": "@jupyter-widgets/controls",
       "_view_module_version": "1.5.0",
       "_view_name": "HBoxView",
       "box_style": "",
       "children": [
        "IPY_MODEL_bc344ec989544e2997990964decd17a0",
        "IPY_MODEL_d39db4beafac47f5bc2d8b3b02807998",
        "IPY_MODEL_9f00aefb4a3f453fb124ab36fd269e63"
       ],
       "layout": "IPY_MODEL_614d8637ad6242c496fbbf148606c4ed"
      }
     },
     "3a24f777b9d14974b8e88bcf1349d834": {
      "model_module": "@jupyter-widgets/base",
      "model_module_version": "1.2.0",
      "model_name": "LayoutModel",
      "state": {
       "_model_module": "@jupyter-widgets/base",
       "_model_module_version": "1.2.0",
       "_model_name": "LayoutModel",
       "_view_count": null,
       "_view_module": "@jupyter-widgets/base",
       "_view_module_version": "1.2.0",
       "_view_name": "LayoutView",
       "align_content": null,
       "align_items": null,
       "align_self": null,
       "border": null,
       "bottom": null,
       "display": null,
       "flex": null,
       "flex_flow": null,
       "grid_area": null,
       "grid_auto_columns": null,
       "grid_auto_flow": null,
       "grid_auto_rows": null,
       "grid_column": null,
       "grid_gap": null,
       "grid_row": null,
       "grid_template_areas": null,
       "grid_template_columns": null,
       "grid_template_rows": null,
       "height": null,
       "justify_content": null,
       "justify_items": null,
       "left": null,
       "margin": null,
       "max_height": null,
       "max_width": null,
       "min_height": null,
       "min_width": null,
       "object_fit": null,
       "object_position": null,
       "order": null,
       "overflow": null,
       "overflow_x": null,
       "overflow_y": null,
       "padding": null,
       "right": null,
       "top": null,
       "visibility": null,
       "width": null
      }
     },
     "3cb29bd12dab471ba543c139f1e66b9d": {
      "model_module": "@jupyter-widgets/controls",
      "model_module_version": "1.5.0",
      "model_name": "FloatProgressModel",
      "state": {
       "_dom_classes": [],
       "_model_module": "@jupyter-widgets/controls",
       "_model_module_version": "1.5.0",
       "_model_name": "FloatProgressModel",
       "_view_count": null,
       "_view_module": "@jupyter-widgets/controls",
       "_view_module_version": "1.5.0",
       "_view_name": "ProgressView",
       "bar_style": "",
       "description": "",
       "description_tooltip": null,
       "layout": "IPY_MODEL_3a24f777b9d14974b8e88bcf1349d834",
       "max": 25.0,
       "min": 0.0,
       "orientation": "horizontal",
       "style": "IPY_MODEL_baf8ef06e55545e684314fba75948884",
       "value": 25.0
      }
     },
     "46cd2e9b010c4c0083c4f5be598cffb2": {
      "model_module": "@jupyter-widgets/base",
      "model_module_version": "1.2.0",
      "model_name": "LayoutModel",
      "state": {
       "_model_module": "@jupyter-widgets/base",
       "_model_module_version": "1.2.0",
       "_model_name": "LayoutModel",
       "_view_count": null,
       "_view_module": "@jupyter-widgets/base",
       "_view_module_version": "1.2.0",
       "_view_name": "LayoutView",
       "align_content": null,
       "align_items": null,
       "align_self": null,
       "border": null,
       "bottom": null,
       "display": null,
       "flex": null,
       "flex_flow": null,
       "grid_area": null,
       "grid_auto_columns": null,
       "grid_auto_flow": null,
       "grid_auto_rows": null,
       "grid_column": null,
       "grid_gap": null,
       "grid_row": null,
       "grid_template_areas": null,
       "grid_template_columns": null,
       "grid_template_rows": null,
       "height": null,
       "justify_content": null,
       "justify_items": null,
       "left": null,
       "margin": null,
       "max_height": null,
       "max_width": null,
       "min_height": null,
       "min_width": null,
       "object_fit": null,
       "object_position": null,
       "order": null,
       "overflow": null,
       "overflow_x": null,
       "overflow_y": null,
       "padding": null,
       "right": null,
       "top": null,
       "visibility": null,
       "width": null
      }
     },
     "511cb0363658490e83facdf08678283b": {
      "model_module": "@jupyter-widgets/controls",
      "model_module_version": "1.5.0",
      "model_name": "DescriptionStyleModel",
      "state": {
       "_model_module": "@jupyter-widgets/controls",
       "_model_module_version": "1.5.0",
       "_model_name": "DescriptionStyleModel",
       "_view_count": null,
       "_view_module": "@jupyter-widgets/base",
       "_view_module_version": "1.2.0",
       "_view_name": "StyleView",
       "description_width": ""
      }
     },
     "541867d4741f4d83b324efb3635a4f92": {
      "model_module": "@jupyter-widgets/controls",
      "model_module_version": "1.5.0",
      "model_name": "HTMLModel",
      "state": {
       "_dom_classes": [],
       "_model_module": "@jupyter-widgets/controls",
       "_model_module_version": "1.5.0",
       "_model_name": "HTMLModel",
       "_view_count": null,
       "_view_module": "@jupyter-widgets/controls",
       "_view_module_version": "1.5.0",
       "_view_name": "HTMLView",
       "description": "",
       "description_tooltip": null,
       "layout": "IPY_MODEL_46cd2e9b010c4c0083c4f5be598cffb2",
       "placeholder": "​",
       "style": "IPY_MODEL_f3dc04e81d8540c390f9ec3171a4fc8b",
       "value": "  4%"
      }
     },
     "584848c9950f4ac8a8dddbb789ebafe6": {
      "model_module": "@jupyter-widgets/base",
      "model_module_version": "1.2.0",
      "model_name": "LayoutModel",
      "state": {
       "_model_module": "@jupyter-widgets/base",
       "_model_module_version": "1.2.0",
       "_model_name": "LayoutModel",
       "_view_count": null,
       "_view_module": "@jupyter-widgets/base",
       "_view_module_version": "1.2.0",
       "_view_name": "LayoutView",
       "align_content": null,
       "align_items": null,
       "align_self": null,
       "border": null,
       "bottom": null,
       "display": null,
       "flex": null,
       "flex_flow": null,
       "grid_area": null,
       "grid_auto_columns": null,
       "grid_auto_flow": null,
       "grid_auto_rows": null,
       "grid_column": null,
       "grid_gap": null,
       "grid_row": null,
       "grid_template_areas": null,
       "grid_template_columns": null,
       "grid_template_rows": null,
       "height": null,
       "justify_content": null,
       "justify_items": null,
       "left": null,
       "margin": null,
       "max_height": null,
       "max_width": null,
       "min_height": null,
       "min_width": null,
       "object_fit": null,
       "object_position": null,
       "order": null,
       "overflow": null,
       "overflow_x": null,
       "overflow_y": null,
       "padding": null,
       "right": null,
       "top": null,
       "visibility": null,
       "width": null
      }
     },
     "614d8637ad6242c496fbbf148606c4ed": {
      "model_module": "@jupyter-widgets/base",
      "model_module_version": "1.2.0",
      "model_name": "LayoutModel",
      "state": {
       "_model_module": "@jupyter-widgets/base",
       "_model_module_version": "1.2.0",
       "_model_name": "LayoutModel",
       "_view_count": null,
       "_view_module": "@jupyter-widgets/base",
       "_view_module_version": "1.2.0",
       "_view_name": "LayoutView",
       "align_content": null,
       "align_items": null,
       "align_self": null,
       "border": null,
       "bottom": null,
       "display": null,
       "flex": null,
       "flex_flow": null,
       "grid_area": null,
       "grid_auto_columns": null,
       "grid_auto_flow": null,
       "grid_auto_rows": null,
       "grid_column": null,
       "grid_gap": null,
       "grid_row": null,
       "grid_template_areas": null,
       "grid_template_columns": null,
       "grid_template_rows": null,
       "height": null,
       "justify_content": null,
       "justify_items": null,
       "left": null,
       "margin": null,
       "max_height": null,
       "max_width": null,
       "min_height": null,
       "min_width": null,
       "object_fit": null,
       "object_position": null,
       "order": null,
       "overflow": null,
       "overflow_x": null,
       "overflow_y": null,
       "padding": null,
       "right": null,
       "top": null,
       "visibility": null,
       "width": null
      }
     },
     "63355fbde11c40a4ae449a80d3aa3754": {
      "model_module": "@jupyter-widgets/base",
      "model_module_version": "1.2.0",
      "model_name": "LayoutModel",
      "state": {
       "_model_module": "@jupyter-widgets/base",
       "_model_module_version": "1.2.0",
       "_model_name": "LayoutModel",
       "_view_count": null,
       "_view_module": "@jupyter-widgets/base",
       "_view_module_version": "1.2.0",
       "_view_name": "LayoutView",
       "align_content": null,
       "align_items": null,
       "align_self": null,
       "border": null,
       "bottom": null,
       "display": null,
       "flex": null,
       "flex_flow": null,
       "grid_area": null,
       "grid_auto_columns": null,
       "grid_auto_flow": null,
       "grid_auto_rows": null,
       "grid_column": null,
       "grid_gap": null,
       "grid_row": null,
       "grid_template_areas": null,
       "grid_template_columns": null,
       "grid_template_rows": null,
       "height": null,
       "justify_content": null,
       "justify_items": null,
       "left": null,
       "margin": null,
       "max_height": null,
       "max_width": null,
       "min_height": null,
       "min_width": null,
       "object_fit": null,
       "object_position": null,
       "order": null,
       "overflow": null,
       "overflow_x": null,
       "overflow_y": null,
       "padding": null,
       "right": null,
       "top": null,
       "visibility": null,
       "width": null
      }
     },
     "768a8bd4953a421dac5fcea73d4120f4": {
      "model_module": "@jupyter-widgets/controls",
      "model_module_version": "1.5.0",
      "model_name": "HTMLModel",
      "state": {
       "_dom_classes": [],
       "_model_module": "@jupyter-widgets/controls",
       "_model_module_version": "1.5.0",
       "_model_name": "HTMLModel",
       "_view_count": null,
       "_view_module": "@jupyter-widgets/controls",
       "_view_module_version": "1.5.0",
       "_view_name": "HTMLView",
       "description": "",
       "description_tooltip": null,
       "layout": "IPY_MODEL_79c9338a25084921899fe172fb1314c6",
       "placeholder": "​",
       "style": "IPY_MODEL_511cb0363658490e83facdf08678283b",
       "value": " 1/25 [00:00&lt;00:22,  1.05it/s]"
      }
     },
     "79c9338a25084921899fe172fb1314c6": {
      "model_module": "@jupyter-widgets/base",
      "model_module_version": "1.2.0",
      "model_name": "LayoutModel",
      "state": {
       "_model_module": "@jupyter-widgets/base",
       "_model_module_version": "1.2.0",
       "_model_name": "LayoutModel",
       "_view_count": null,
       "_view_module": "@jupyter-widgets/base",
       "_view_module_version": "1.2.0",
       "_view_name": "LayoutView",
       "align_content": null,
       "align_items": null,
       "align_self": null,
       "border": null,
       "bottom": null,
       "display": null,
       "flex": null,
       "flex_flow": null,
       "grid_area": null,
       "grid_auto_columns": null,
       "grid_auto_flow": null,
       "grid_auto_rows": null,
       "grid_column": null,
       "grid_gap": null,
       "grid_row": null,
       "grid_template_areas": null,
       "grid_template_columns": null,
       "grid_template_rows": null,
       "height": null,
       "justify_content": null,
       "justify_items": null,
       "left": null,
       "margin": null,
       "max_height": null,
       "max_width": null,
       "min_height": null,
       "min_width": null,
       "object_fit": null,
       "object_position": null,
       "order": null,
       "overflow": null,
       "overflow_x": null,
       "overflow_y": null,
       "padding": null,
       "right": null,
       "top": null,
       "visibility": null,
       "width": null
      }
     },
     "9f00aefb4a3f453fb124ab36fd269e63": {
      "model_module": "@jupyter-widgets/controls",
      "model_module_version": "1.5.0",
      "model_name": "HTMLModel",
      "state": {
       "_dom_classes": [],
       "_model_module": "@jupyter-widgets/controls",
       "_model_module_version": "1.5.0",
       "_model_name": "HTMLModel",
       "_view_count": null,
       "_view_module": "@jupyter-widgets/controls",
       "_view_module_version": "1.5.0",
       "_view_name": "HTMLView",
       "description": "",
       "description_tooltip": null,
       "layout": "IPY_MODEL_c621cd4cc602407f89bb595d6ad423a6",
       "placeholder": "​",
       "style": "IPY_MODEL_240dc07eed60453c97fe24c6ea392785",
       "value": " 0/13 [00:00&lt;?, ?it/s]"
      }
     },
     "baf8ef06e55545e684314fba75948884": {
      "model_module": "@jupyter-widgets/controls",
      "model_module_version": "1.5.0",
      "model_name": "ProgressStyleModel",
      "state": {
       "_model_module": "@jupyter-widgets/controls",
       "_model_module_version": "1.5.0",
       "_model_name": "ProgressStyleModel",
       "_view_count": null,
       "_view_module": "@jupyter-widgets/base",
       "_view_module_version": "1.2.0",
       "_view_name": "StyleView",
       "bar_color": null,
       "description_width": ""
      }
     },
     "bc344ec989544e2997990964decd17a0": {
      "model_module": "@jupyter-widgets/controls",
      "model_module_version": "1.5.0",
      "model_name": "HTMLModel",
      "state": {
       "_dom_classes": [],
       "_model_module": "@jupyter-widgets/controls",
       "_model_module_version": "1.5.0",
       "_model_name": "HTMLModel",
       "_view_count": null,
       "_view_module": "@jupyter-widgets/controls",
       "_view_module_version": "1.5.0",
       "_view_name": "HTMLView",
       "description": "",
       "description_tooltip": null,
       "layout": "IPY_MODEL_63355fbde11c40a4ae449a80d3aa3754",
       "placeholder": "​",
       "style": "IPY_MODEL_de868876935244ef8443072f7af65473",
       "value": "  0%"
      }
     },
     "c621cd4cc602407f89bb595d6ad423a6": {
      "model_module": "@jupyter-widgets/base",
      "model_module_version": "1.2.0",
      "model_name": "LayoutModel",
      "state": {
       "_model_module": "@jupyter-widgets/base",
       "_model_module_version": "1.2.0",
       "_model_name": "LayoutModel",
       "_view_count": null,
       "_view_module": "@jupyter-widgets/base",
       "_view_module_version": "1.2.0",
       "_view_name": "LayoutView",
       "align_content": null,
       "align_items": null,
       "align_self": null,
       "border": null,
       "bottom": null,
       "display": null,
       "flex": null,
       "flex_flow": null,
       "grid_area": null,
       "grid_auto_columns": null,
       "grid_auto_flow": null,
       "grid_auto_rows": null,
       "grid_column": null,
       "grid_gap": null,
       "grid_row": null,
       "grid_template_areas": null,
       "grid_template_columns": null,
       "grid_template_rows": null,
       "height": null,
       "justify_content": null,
       "justify_items": null,
       "left": null,
       "margin": null,
       "max_height": null,
       "max_width": null,
       "min_height": null,
       "min_width": null,
       "object_fit": null,
       "object_position": null,
       "order": null,
       "overflow": null,
       "overflow_x": null,
       "overflow_y": null,
       "padding": null,
       "right": null,
       "top": null,
       "visibility": null,
       "width": null
      }
     },
     "d39db4beafac47f5bc2d8b3b02807998": {
      "model_module": "@jupyter-widgets/controls",
      "model_module_version": "1.5.0",
      "model_name": "FloatProgressModel",
      "state": {
       "_dom_classes": [],
       "_model_module": "@jupyter-widgets/controls",
       "_model_module_version": "1.5.0",
       "_model_name": "FloatProgressModel",
       "_view_count": null,
       "_view_module": "@jupyter-widgets/controls",
       "_view_module_version": "1.5.0",
       "_view_name": "ProgressView",
       "bar_style": "",
       "description": "",
       "description_tooltip": null,
       "layout": "IPY_MODEL_fa3de43b996d468c8fa25fe762390671",
       "max": 13.0,
       "min": 0.0,
       "orientation": "horizontal",
       "style": "IPY_MODEL_1e96a671287f42a1b76b480f28e3f13b",
       "value": 13.0
      }
     },
     "de868876935244ef8443072f7af65473": {
      "model_module": "@jupyter-widgets/controls",
      "model_module_version": "1.5.0",
      "model_name": "DescriptionStyleModel",
      "state": {
       "_model_module": "@jupyter-widgets/controls",
       "_model_module_version": "1.5.0",
       "_model_name": "DescriptionStyleModel",
       "_view_count": null,
       "_view_module": "@jupyter-widgets/base",
       "_view_module_version": "1.2.0",
       "_view_name": "StyleView",
       "description_width": ""
      }
     },
     "f14d08873ded4fdc9e4f5cb97b180685": {
      "model_module": "@jupyter-widgets/controls",
      "model_module_version": "1.5.0",
      "model_name": "HBoxModel",
      "state": {
       "_dom_classes": [],
       "_model_module": "@jupyter-widgets/controls",
       "_model_module_version": "1.5.0",
       "_model_name": "HBoxModel",
       "_view_count": null,
       "_view_module": "@jupyter-widgets/controls",
       "_view_module_version": "1.5.0",
       "_view_name": "HBoxView",
       "box_style": "",
       "children": [
        "IPY_MODEL_541867d4741f4d83b324efb3635a4f92",
        "IPY_MODEL_3cb29bd12dab471ba543c139f1e66b9d",
        "IPY_MODEL_768a8bd4953a421dac5fcea73d4120f4"
       ],
       "layout": "IPY_MODEL_584848c9950f4ac8a8dddbb789ebafe6"
      }
     },
     "f3dc04e81d8540c390f9ec3171a4fc8b": {
      "model_module": "@jupyter-widgets/controls",
      "model_module_version": "1.5.0",
      "model_name": "DescriptionStyleModel",
      "state": {
       "_model_module": "@jupyter-widgets/controls",
       "_model_module_version": "1.5.0",
       "_model_name": "DescriptionStyleModel",
       "_view_count": null,
       "_view_module": "@jupyter-widgets/base",
       "_view_module_version": "1.2.0",
       "_view_name": "StyleView",
       "description_width": ""
      }
     },
     "fa3de43b996d468c8fa25fe762390671": {
      "model_module": "@jupyter-widgets/base",
      "model_module_version": "1.2.0",
      "model_name": "LayoutModel",
      "state": {
       "_model_module": "@jupyter-widgets/base",
       "_model_module_version": "1.2.0",
       "_model_name": "LayoutModel",
       "_view_count": null,
       "_view_module": "@jupyter-widgets/base",
       "_view_module_version": "1.2.0",
       "_view_name": "LayoutView",
       "align_content": null,
       "align_items": null,
       "align_self": null,
       "border": null,
       "bottom": null,
       "display": null,
       "flex": null,
       "flex_flow": null,
       "grid_area": null,
       "grid_auto_columns": null,
       "grid_auto_flow": null,
       "grid_auto_rows": null,
       "grid_column": null,
       "grid_gap": null,
       "grid_row": null,
       "grid_template_areas": null,
       "grid_template_columns": null,
       "grid_template_rows": null,
       "height": null,
       "justify_content": null,
       "justify_items": null,
       "left": null,
       "margin": null,
       "max_height": null,
       "max_width": null,
       "min_height": null,
       "min_width": null,
       "object_fit": null,
       "object_position": null,
       "order": null,
       "overflow": null,
       "overflow_x": null,
       "overflow_y": null,
       "padding": null,
       "right": null,
       "top": null,
       "visibility": null,
       "width": null
      }
     }
    },
    "version_major": 2,
    "version_minor": 0
   }
  }
 },
 "nbformat": 4,
 "nbformat_minor": 5
}
