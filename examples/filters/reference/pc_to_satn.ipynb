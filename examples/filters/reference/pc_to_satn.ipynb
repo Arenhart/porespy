{
 "cells": [
  {
   "cell_type": "markdown",
   "id": "d279476c",
   "metadata": {},
   "source": [
    "# `pc_to_satn`\n",
    "Convert a capillary pressure map to saturation map."
   ]
  },
  {
   "cell_type": "code",
   "execution_count": 1,
   "id": "df328066",
   "metadata": {
    "execution": {
     "iopub.execute_input": "2022-05-25T19:21:13.507640Z",
     "iopub.status.busy": "2022-05-25T19:21:13.505080Z",
     "iopub.status.idle": "2022-05-25T19:21:15.917474Z",
     "shell.execute_reply": "2022-05-25T19:21:15.916402Z"
    }
   },
   "outputs": [],
   "source": [
    "import matplotlib.pyplot as plt\n",
    "import numpy as np\n",
    "import porespy as ps\n",
    "ps.visualization.set_mpl_style()"
   ]
  },
  {
   "cell_type": "markdown",
   "id": "9640b91d",
   "metadata": {},
   "source": [
    "The arguments and their defaults are:"
   ]
  },
  {
   "cell_type": "code",
   "execution_count": 2,
   "id": "da504252",
   "metadata": {
    "execution": {
     "iopub.execute_input": "2022-05-25T19:21:15.925249Z",
     "iopub.status.busy": "2022-05-25T19:21:15.923516Z",
     "iopub.status.idle": "2022-05-25T19:21:15.934578Z",
     "shell.execute_reply": "2022-05-25T19:21:15.933958Z"
    }
   },
   "outputs": [
    {
     "data": {
      "text/plain": [
       "<Signature (pc, im)>"
      ]
     },
     "execution_count": 2,
     "metadata": {},
     "output_type": "execute_result"
    }
   ],
   "source": [
    "import inspect\n",
    "inspect.signature(ps.filters.pc_to_satn)"
   ]
  },
  {
   "cell_type": "markdown",
   "id": "a49558cb",
   "metadata": {},
   "source": [
    "The capillary pressure map, such as that computed by ``ps.simulations.drainage``"
   ]
  },
  {
   "cell_type": "code",
   "execution_count": 3,
   "id": "567910b4",
   "metadata": {
    "execution": {
     "iopub.execute_input": "2022-05-25T19:21:15.939535Z",
     "iopub.status.busy": "2022-05-25T19:21:15.938080Z",
     "iopub.status.idle": "2022-05-25T19:21:17.199687Z",
     "shell.execute_reply": "2022-05-25T19:21:17.199072Z"
    }
   },
   "outputs": [
    {
     "data": {
      "application/vnd.jupyter.widget-view+json": {
       "model_id": "dfcba7bbba834f6680a26e3ac492fcae",
       "version_major": 2,
       "version_minor": 0
      },
      "text/plain": [
       "  0%|          | 0/25 [00:00<?, ?it/s]"
      ]
     },
     "metadata": {},
     "output_type": "display_data"
    },
    {
     "data": {
      "application/vnd.jupyter.widget-view+json": {
       "model_id": "baaeef84162545b58c5e0e3ebfc82e42",
       "version_major": 2,
       "version_minor": 0
      },
      "text/plain": [
       "  0%|          | 0/12 [00:00<?, ?it/s]"
      ]
     },
     "metadata": {},
     "output_type": "display_data"
    }
   ],
   "source": [
    "im = ps.generators.blobs(shape=[200, 200], porosity=0.6)\n",
    "drn = ps.simulations.drainage(im=im, voxel_size=1, g=0)"
   ]
  },
  {
   "cell_type": "markdown",
   "id": "639b2f06",
   "metadata": {},
   "source": [
    "## `pc` and `im`"
   ]
  },
  {
   "cell_type": "code",
   "execution_count": 4,
   "id": "45c9fb8b",
   "metadata": {
    "execution": {
     "iopub.execute_input": "2022-05-25T19:21:17.205579Z",
     "iopub.status.busy": "2022-05-25T19:21:17.203805Z",
     "iopub.status.idle": "2022-05-25T19:21:17.356317Z",
     "shell.execute_reply": "2022-05-25T19:21:17.355539Z"
    }
   },
   "outputs": [
    {
     "data": {
      "image/svg+xml": [
       "<?xml version=\"1.0\" encoding=\"utf-8\" standalone=\"no\"?>\n",
       "<!DOCTYPE svg PUBLIC \"-//W3C//DTD SVG 1.1//EN\"\n",
       "  \"http://www.w3.org/Graphics/SVG/1.1/DTD/svg11.dtd\">\n",
       "<svg xmlns:xlink=\"http://www.w3.org/1999/xlink\" width=\"851.4pt\" height=\"424.8pt\" viewBox=\"0 0 851.4 424.8\" xmlns=\"http://www.w3.org/2000/svg\" version=\"1.1\">\n",
       " <metadata>\n",
       "  <rdf:RDF xmlns:dc=\"http://purl.org/dc/elements/1.1/\" xmlns:cc=\"http://creativecommons.org/ns#\" xmlns:rdf=\"http://www.w3.org/1999/02/22-rdf-syntax-ns#\">\n",
       "   <cc:Work>\n",
       "    <dc:type rdf:resource=\"http://purl.org/dc/dcmitype/StillImage\"/>\n",
       "    <dc:date>2022-05-25T19:21:17.319136</dc:date>\n",
       "    <dc:format>image/svg+xml</dc:format>\n",
       "    <dc:creator>\n",
       "     <cc:Agent>\n",
       "      <dc:title>Matplotlib v3.5.2, https://matplotlib.org/</dc:title>\n",
       "     </cc:Agent>\n",
       "    </dc:creator>\n",
       "   </cc:Work>\n",
       "  </rdf:RDF>\n",
       " </metadata>\n",
       " <defs>\n",
       "  <style type=\"text/css\">*{stroke-linejoin: round; stroke-linecap: butt}</style>\n",
       " </defs>\n",
       " <g id=\"figure_1\">\n",
       "  <g id=\"patch_1\">\n",
       "   <path d=\"M 0 424.8 \n",
       "L 851.4 424.8 \n",
       "L 851.4 0 \n",
       "L 0 0 \n",
       "L 0 424.8 \n",
       "z\n",
       "\" style=\"fill: none\"/>\n",
       "  </g>\n",
       "  <g id=\"axes_1\">\n",
       "   <g clip-path=\"url(#p4530ffe822)\">\n",
       "    <image xlink:href=\"data:image/png;base64,\n",
       "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\" id=\"imaged7ae0835f9\" transform=\"matrix(2.055 0 0 -2.055 7.2 417.6)\" style=\"image-rendering:crisp-edges;image-rendering:pixelated\" width=\"200\" height=\"200\"/>\n",
       "   </g>\n",
       "  </g>\n",
       "  <g id=\"axes_2\">\n",
       "   <g clip-path=\"url(#p95a7704c59)\">\n",
       "    <image xlink:href=\"data:image/png;base64,\n",
       "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\" id=\"image91db83d8ae\" transform=\"matrix(2.055 0 0 -2.055 433.8 417.6)\" style=\"image-rendering:crisp-edges;image-rendering:pixelated\" width=\"200\" height=\"200\"/>\n",
       "   </g>\n",
       "  </g>\n",
       " </g>\n",
       " <defs>\n",
       "  <clipPath id=\"p4530ffe822\">\n",
       "   <rect x=\"7.2\" y=\"7.2\" width=\"410.4\" height=\"410.4\"/>\n",
       "  </clipPath>\n",
       "  <clipPath id=\"p95a7704c59\">\n",
       "   <rect x=\"433.8\" y=\"7.2\" width=\"410.4\" height=\"410.4\"/>\n",
       "  </clipPath>\n",
       " </defs>\n",
       "</svg>\n"
      ],
      "text/plain": [
       "<Figure size 864x432 with 2 Axes>"
      ]
     },
     "metadata": {
      "needs_background": "light"
     },
     "output_type": "display_data"
    }
   ],
   "source": [
    "satn = ps.filters.pc_to_satn(pc=drn.im_pc, im=im)\n",
    "\n",
    "fig, ax = plt.subplots(1, 2, figsize=[12, 6])\n",
    "ax[0].imshow(drn.im_pc/im, interpolation='none', origin='lower')\n",
    "ax[0].axis(False)\n",
    "ax[1].imshow(satn/im, interpolation='none', origin='lower')\n",
    "ax[1].axis(False);"
   ]
  },
  {
   "cell_type": "markdown",
   "id": "d7be130c",
   "metadata": {},
   "source": [
    "The saturation image allows for easy determination of a desired fluid configuration:"
   ]
  },
  {
   "cell_type": "code",
   "execution_count": 5,
   "id": "70dced98",
   "metadata": {
    "execution": {
     "iopub.execute_input": "2022-05-25T19:21:17.362617Z",
     "iopub.status.busy": "2022-05-25T19:21:17.360488Z",
     "iopub.status.idle": "2022-05-25T19:21:17.546808Z",
     "shell.execute_reply": "2022-05-25T19:21:17.546109Z"
    }
   },
   "outputs": [
    {
     "data": {
      "image/svg+xml": [
       "<?xml version=\"1.0\" encoding=\"utf-8\" standalone=\"no\"?>\n",
       "<!DOCTYPE svg PUBLIC \"-//W3C//DTD SVG 1.1//EN\"\n",
       "  \"http://www.w3.org/Graphics/SVG/1.1/DTD/svg11.dtd\">\n",
       "<svg xmlns:xlink=\"http://www.w3.org/1999/xlink\" width=\"851.4pt\" height=\"424.8pt\" viewBox=\"0 0 851.4 424.8\" xmlns=\"http://www.w3.org/2000/svg\" version=\"1.1\">\n",
       " <metadata>\n",
       "  <rdf:RDF xmlns:dc=\"http://purl.org/dc/elements/1.1/\" xmlns:cc=\"http://creativecommons.org/ns#\" xmlns:rdf=\"http://www.w3.org/1999/02/22-rdf-syntax-ns#\">\n",
       "   <cc:Work>\n",
       "    <dc:type rdf:resource=\"http://purl.org/dc/dcmitype/StillImage\"/>\n",
       "    <dc:date>2022-05-25T19:21:17.529546</dc:date>\n",
       "    <dc:format>image/svg+xml</dc:format>\n",
       "    <dc:creator>\n",
       "     <cc:Agent>\n",
       "      <dc:title>Matplotlib v3.5.2, https://matplotlib.org/</dc:title>\n",
       "     </cc:Agent>\n",
       "    </dc:creator>\n",
       "   </cc:Work>\n",
       "  </rdf:RDF>\n",
       " </metadata>\n",
       " <defs>\n",
       "  <style type=\"text/css\">*{stroke-linejoin: round; stroke-linecap: butt}</style>\n",
       " </defs>\n",
       " <g id=\"figure_1\">\n",
       "  <g id=\"patch_1\">\n",
       "   <path d=\"M 0 424.8 \n",
       "L 851.4 424.8 \n",
       "L 851.4 0 \n",
       "L 0 0 \n",
       "L 0 424.8 \n",
       "z\n",
       "\" style=\"fill: none\"/>\n",
       "  </g>\n",
       "  <g id=\"axes_1\">\n",
       "   <g clip-path=\"url(#pa5edf3217b)\">\n",
       "    <image xlink:href=\"data:image/png;base64,\n",
       "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\" id=\"image0865a6e295\" transform=\"matrix(2.055 0 0 -2.055 7.2 417.6)\" style=\"image-rendering:crisp-edges;image-rendering:pixelated\" width=\"200\" height=\"200\"/>\n",
       "   </g>\n",
       "  </g>\n",
       "  <g id=\"axes_2\">\n",
       "   <g clip-path=\"url(#p625dd4d0d2)\">\n",
       "    <image xlink:href=\"data:image/png;base64,\n",
       "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\" id=\"image0444bc4d2f\" transform=\"matrix(2.055 0 0 -2.055 433.8 417.6)\" style=\"image-rendering:crisp-edges;image-rendering:pixelated\" width=\"200\" height=\"200\"/>\n",
       "   </g>\n",
       "  </g>\n",
       " </g>\n",
       " <defs>\n",
       "  <clipPath id=\"pa5edf3217b\">\n",
       "   <rect x=\"7.2\" y=\"7.2\" width=\"410.4\" height=\"410.4\"/>\n",
       "  </clipPath>\n",
       "  <clipPath id=\"p625dd4d0d2\">\n",
       "   <rect x=\"433.8\" y=\"7.2\" width=\"410.4\" height=\"410.4\"/>\n",
       "  </clipPath>\n",
       " </defs>\n",
       "</svg>\n"
      ],
      "text/plain": [
       "<Figure size 864x432 with 2 Axes>"
      ]
     },
     "metadata": {
      "needs_background": "light"
     },
     "output_type": "display_data"
    }
   ],
   "source": [
    "fig, ax = plt.subplots(1, 2, figsize=[12, 6])\n",
    "ax[0].imshow((satn < 0.3)*(satn > 0)/im, interpolation='none', origin='lower')\n",
    "ax[0].axis(False)\n",
    "ax[1].imshow((satn < 0.8)*(satn > 0)/im, interpolation='none', origin='lower')\n",
    "ax[1].axis(False);"
   ]
  }
 ],
 "metadata": {
  "kernelspec": {
   "display_name": "Python 3 (ipykernel)",
   "language": "python",
   "name": "python3"
  },
  "language_info": {
   "codemirror_mode": {
    "name": "ipython",
    "version": 3
   },
   "file_extension": ".py",
   "mimetype": "text/x-python",
   "name": "python",
   "nbconvert_exporter": "python",
   "pygments_lexer": "ipython3",
   "version": "3.8.13"
  },
  "widgets": {
   "application/vnd.jupyter.widget-state+json": {
    "state": {
     "0e2a6fb394334c42bd6e14f5c46bbb0b": {
      "model_module": "@jupyter-widgets/base",
      "model_module_version": "1.2.0",
      "model_name": "LayoutModel",
      "state": {
       "_model_module": "@jupyter-widgets/base",
       "_model_module_version": "1.2.0",
       "_model_name": "LayoutModel",
       "_view_count": null,
       "_view_module": "@jupyter-widgets/base",
       "_view_module_version": "1.2.0",
       "_view_name": "LayoutView",
       "align_content": null,
       "align_items": null,
       "align_self": null,
       "border": null,
       "bottom": null,
       "display": null,
       "flex": null,
       "flex_flow": null,
       "grid_area": null,
       "grid_auto_columns": null,
       "grid_auto_flow": null,
       "grid_auto_rows": null,
       "grid_column": null,
       "grid_gap": null,
       "grid_row": null,
       "grid_template_areas": null,
       "grid_template_columns": null,
       "grid_template_rows": null,
       "height": null,
       "justify_content": null,
       "justify_items": null,
       "left": null,
       "margin": null,
       "max_height": null,
       "max_width": null,
       "min_height": null,
       "min_width": null,
       "object_fit": null,
       "object_position": null,
       "order": null,
       "overflow": null,
       "overflow_x": null,
       "overflow_y": null,
       "padding": null,
       "right": null,
       "top": null,
       "visibility": null,
       "width": null
      }
     },
     "15fb70e0a0d64841b24e621d4db4b578": {
      "model_module": "@jupyter-widgets/controls",
      "model_module_version": "1.5.0",
      "model_name": "DescriptionStyleModel",
      "state": {
       "_model_module": "@jupyter-widgets/controls",
       "_model_module_version": "1.5.0",
       "_model_name": "DescriptionStyleModel",
       "_view_count": null,
       "_view_module": "@jupyter-widgets/base",
       "_view_module_version": "1.2.0",
       "_view_name": "StyleView",
       "description_width": ""
      }
     },
     "2174fa7d1d0f4d649a518dea87ec759d": {
      "model_module": "@jupyter-widgets/controls",
      "model_module_version": "1.5.0",
      "model_name": "HTMLModel",
      "state": {
       "_dom_classes": [],
       "_model_module": "@jupyter-widgets/controls",
       "_model_module_version": "1.5.0",
       "_model_name": "HTMLModel",
       "_view_count": null,
       "_view_module": "@jupyter-widgets/controls",
       "_view_module_version": "1.5.0",
       "_view_name": "HTMLView",
       "description": "",
       "description_tooltip": null,
       "layout": "IPY_MODEL_21bdf91a9b724538b207d06c1fa1b6e5",
       "placeholder": "​",
       "style": "IPY_MODEL_7ef15abe9aa0475ab3bdbb1ed61bbf0a",
       "value": " 0/12 [00:00&lt;?, ?it/s]"
      }
     },
     "21bdf91a9b724538b207d06c1fa1b6e5": {
      "model_module": "@jupyter-widgets/base",
      "model_module_version": "1.2.0",
      "model_name": "LayoutModel",
      "state": {
       "_model_module": "@jupyter-widgets/base",
       "_model_module_version": "1.2.0",
       "_model_name": "LayoutModel",
       "_view_count": null,
       "_view_module": "@jupyter-widgets/base",
       "_view_module_version": "1.2.0",
       "_view_name": "LayoutView",
       "align_content": null,
       "align_items": null,
       "align_self": null,
       "border": null,
       "bottom": null,
       "display": null,
       "flex": null,
       "flex_flow": null,
       "grid_area": null,
       "grid_auto_columns": null,
       "grid_auto_flow": null,
       "grid_auto_rows": null,
       "grid_column": null,
       "grid_gap": null,
       "grid_row": null,
       "grid_template_areas": null,
       "grid_template_columns": null,
       "grid_template_rows": null,
       "height": null,
       "justify_content": null,
       "justify_items": null,
       "left": null,
       "margin": null,
       "max_height": null,
       "max_width": null,
       "min_height": null,
       "min_width": null,
       "object_fit": null,
       "object_position": null,
       "order": null,
       "overflow": null,
       "overflow_x": null,
       "overflow_y": null,
       "padding": null,
       "right": null,
       "top": null,
       "visibility": null,
       "width": null
      }
     },
     "2782d2cc002b476ca082895c90353d03": {
      "model_module": "@jupyter-widgets/base",
      "model_module_version": "1.2.0",
      "model_name": "LayoutModel",
      "state": {
       "_model_module": "@jupyter-widgets/base",
       "_model_module_version": "1.2.0",
       "_model_name": "LayoutModel",
       "_view_count": null,
       "_view_module": "@jupyter-widgets/base",
       "_view_module_version": "1.2.0",
       "_view_name": "LayoutView",
       "align_content": null,
       "align_items": null,
       "align_self": null,
       "border": null,
       "bottom": null,
       "display": null,
       "flex": null,
       "flex_flow": null,
       "grid_area": null,
       "grid_auto_columns": null,
       "grid_auto_flow": null,
       "grid_auto_rows": null,
       "grid_column": null,
       "grid_gap": null,
       "grid_row": null,
       "grid_template_areas": null,
       "grid_template_columns": null,
       "grid_template_rows": null,
       "height": null,
       "justify_content": null,
       "justify_items": null,
       "left": null,
       "margin": null,
       "max_height": null,
       "max_width": null,
       "min_height": null,
       "min_width": null,
       "object_fit": null,
       "object_position": null,
       "order": null,
       "overflow": null,
       "overflow_x": null,
       "overflow_y": null,
       "padding": null,
       "right": null,
       "top": null,
       "visibility": null,
       "width": null
      }
     },
     "2f812ed50de841fbbb36d12d2b704908": {
      "model_module": "@jupyter-widgets/controls",
      "model_module_version": "1.5.0",
      "model_name": "DescriptionStyleModel",
      "state": {
       "_model_module": "@jupyter-widgets/controls",
       "_model_module_version": "1.5.0",
       "_model_name": "DescriptionStyleModel",
       "_view_count": null,
       "_view_module": "@jupyter-widgets/base",
       "_view_module_version": "1.2.0",
       "_view_name": "StyleView",
       "description_width": ""
      }
     },
     "716e15cd2def47348934c680e50182fd": {
      "model_module": "@jupyter-widgets/controls",
      "model_module_version": "1.5.0",
      "model_name": "ProgressStyleModel",
      "state": {
       "_model_module": "@jupyter-widgets/controls",
       "_model_module_version": "1.5.0",
       "_model_name": "ProgressStyleModel",
       "_view_count": null,
       "_view_module": "@jupyter-widgets/base",
       "_view_module_version": "1.2.0",
       "_view_name": "StyleView",
       "bar_color": null,
       "description_width": ""
      }
     },
     "7214f5c85643473ab99d007f214bdeb0": {
      "model_module": "@jupyter-widgets/controls",
      "model_module_version": "1.5.0",
      "model_name": "HTMLModel",
      "state": {
       "_dom_classes": [],
       "_model_module": "@jupyter-widgets/controls",
       "_model_module_version": "1.5.0",
       "_model_name": "HTMLModel",
       "_view_count": null,
       "_view_module": "@jupyter-widgets/controls",
       "_view_module_version": "1.5.0",
       "_view_name": "HTMLView",
       "description": "",
       "description_tooltip": null,
       "layout": "IPY_MODEL_7ac238acf7d840f9a29bfe3444e83493",
       "placeholder": "​",
       "style": "IPY_MODEL_2f812ed50de841fbbb36d12d2b704908",
       "value": "  4%"
      }
     },
     "75694513c9b8426a86c773526104a446": {
      "model_module": "@jupyter-widgets/base",
      "model_module_version": "1.2.0",
      "model_name": "LayoutModel",
      "state": {
       "_model_module": "@jupyter-widgets/base",
       "_model_module_version": "1.2.0",
       "_model_name": "LayoutModel",
       "_view_count": null,
       "_view_module": "@jupyter-widgets/base",
       "_view_module_version": "1.2.0",
       "_view_name": "LayoutView",
       "align_content": null,
       "align_items": null,
       "align_self": null,
       "border": null,
       "bottom": null,
       "display": null,
       "flex": null,
       "flex_flow": null,
       "grid_area": null,
       "grid_auto_columns": null,
       "grid_auto_flow": null,
       "grid_auto_rows": null,
       "grid_column": null,
       "grid_gap": null,
       "grid_row": null,
       "grid_template_areas": null,
       "grid_template_columns": null,
       "grid_template_rows": null,
       "height": null,
       "justify_content": null,
       "justify_items": null,
       "left": null,
       "margin": null,
       "max_height": null,
       "max_width": null,
       "min_height": null,
       "min_width": null,
       "object_fit": null,
       "object_position": null,
       "order": null,
       "overflow": null,
       "overflow_x": null,
       "overflow_y": null,
       "padding": null,
       "right": null,
       "top": null,
       "visibility": null,
       "width": null
      }
     },
     "79ce9acd0400401686262b251f01d43a": {
      "model_module": "@jupyter-widgets/controls",
      "model_module_version": "1.5.0",
      "model_name": "FloatProgressModel",
      "state": {
       "_dom_classes": [],
       "_model_module": "@jupyter-widgets/controls",
       "_model_module_version": "1.5.0",
       "_model_name": "FloatProgressModel",
       "_view_count": null,
       "_view_module": "@jupyter-widgets/controls",
       "_view_module_version": "1.5.0",
       "_view_name": "ProgressView",
       "bar_style": "",
       "description": "",
       "description_tooltip": null,
       "layout": "IPY_MODEL_0e2a6fb394334c42bd6e14f5c46bbb0b",
       "max": 12.0,
       "min": 0.0,
       "orientation": "horizontal",
       "style": "IPY_MODEL_9217ba0f2fb244a2b8858e7256138d74",
       "value": 12.0
      }
     },
     "7ac238acf7d840f9a29bfe3444e83493": {
      "model_module": "@jupyter-widgets/base",
      "model_module_version": "1.2.0",
      "model_name": "LayoutModel",
      "state": {
       "_model_module": "@jupyter-widgets/base",
       "_model_module_version": "1.2.0",
       "_model_name": "LayoutModel",
       "_view_count": null,
       "_view_module": "@jupyter-widgets/base",
       "_view_module_version": "1.2.0",
       "_view_name": "LayoutView",
       "align_content": null,
       "align_items": null,
       "align_self": null,
       "border": null,
       "bottom": null,
       "display": null,
       "flex": null,
       "flex_flow": null,
       "grid_area": null,
       "grid_auto_columns": null,
       "grid_auto_flow": null,
       "grid_auto_rows": null,
       "grid_column": null,
       "grid_gap": null,
       "grid_row": null,
       "grid_template_areas": null,
       "grid_template_columns": null,
       "grid_template_rows": null,
       "height": null,
       "justify_content": null,
       "justify_items": null,
       "left": null,
       "margin": null,
       "max_height": null,
       "max_width": null,
       "min_height": null,
       "min_width": null,
       "object_fit": null,
       "object_position": null,
       "order": null,
       "overflow": null,
       "overflow_x": null,
       "overflow_y": null,
       "padding": null,
       "right": null,
       "top": null,
       "visibility": null,
       "width": null
      }
     },
     "7ef15abe9aa0475ab3bdbb1ed61bbf0a": {
      "model_module": "@jupyter-widgets/controls",
      "model_module_version": "1.5.0",
      "model_name": "DescriptionStyleModel",
      "state": {
       "_model_module": "@jupyter-widgets/controls",
       "_model_module_version": "1.5.0",
       "_model_name": "DescriptionStyleModel",
       "_view_count": null,
       "_view_module": "@jupyter-widgets/base",
       "_view_module_version": "1.2.0",
       "_view_name": "StyleView",
       "description_width": ""
      }
     },
     "903e58b2f60242ed984773f9cec02f3a": {
      "model_module": "@jupyter-widgets/base",
      "model_module_version": "1.2.0",
      "model_name": "LayoutModel",
      "state": {
       "_model_module": "@jupyter-widgets/base",
       "_model_module_version": "1.2.0",
       "_model_name": "LayoutModel",
       "_view_count": null,
       "_view_module": "@jupyter-widgets/base",
       "_view_module_version": "1.2.0",
       "_view_name": "LayoutView",
       "align_content": null,
       "align_items": null,
       "align_self": null,
       "border": null,
       "bottom": null,
       "display": null,
       "flex": null,
       "flex_flow": null,
       "grid_area": null,
       "grid_auto_columns": null,
       "grid_auto_flow": null,
       "grid_auto_rows": null,
       "grid_column": null,
       "grid_gap": null,
       "grid_row": null,
       "grid_template_areas": null,
       "grid_template_columns": null,
       "grid_template_rows": null,
       "height": null,
       "justify_content": null,
       "justify_items": null,
       "left": null,
       "margin": null,
       "max_height": null,
       "max_width": null,
       "min_height": null,
       "min_width": null,
       "object_fit": null,
       "object_position": null,
       "order": null,
       "overflow": null,
       "overflow_x": null,
       "overflow_y": null,
       "padding": null,
       "right": null,
       "top": null,
       "visibility": null,
       "width": null
      }
     },
     "9217ba0f2fb244a2b8858e7256138d74": {
      "model_module": "@jupyter-widgets/controls",
      "model_module_version": "1.5.0",
      "model_name": "ProgressStyleModel",
      "state": {
       "_model_module": "@jupyter-widgets/controls",
       "_model_module_version": "1.5.0",
       "_model_name": "ProgressStyleModel",
       "_view_count": null,
       "_view_module": "@jupyter-widgets/base",
       "_view_module_version": "1.2.0",
       "_view_name": "StyleView",
       "bar_color": null,
       "description_width": ""
      }
     },
     "baaeef84162545b58c5e0e3ebfc82e42": {
      "model_module": "@jupyter-widgets/controls",
      "model_module_version": "1.5.0",
      "model_name": "HBoxModel",
      "state": {
       "_dom_classes": [],
       "_model_module": "@jupyter-widgets/controls",
       "_model_module_version": "1.5.0",
       "_model_name": "HBoxModel",
       "_view_count": null,
       "_view_module": "@jupyter-widgets/controls",
       "_view_module_version": "1.5.0",
       "_view_name": "HBoxView",
       "box_style": "",
       "children": [
        "IPY_MODEL_fbd7e369e83c4b5683159ac4821e6ee8",
        "IPY_MODEL_79ce9acd0400401686262b251f01d43a",
        "IPY_MODEL_2174fa7d1d0f4d649a518dea87ec759d"
       ],
       "layout": "IPY_MODEL_903e58b2f60242ed984773f9cec02f3a"
      }
     },
     "c77736a9545c45c6b2599383e96dcd7d": {
      "model_module": "@jupyter-widgets/controls",
      "model_module_version": "1.5.0",
      "model_name": "FloatProgressModel",
      "state": {
       "_dom_classes": [],
       "_model_module": "@jupyter-widgets/controls",
       "_model_module_version": "1.5.0",
       "_model_name": "FloatProgressModel",
       "_view_count": null,
       "_view_module": "@jupyter-widgets/controls",
       "_view_module_version": "1.5.0",
       "_view_name": "ProgressView",
       "bar_style": "",
       "description": "",
       "description_tooltip": null,
       "layout": "IPY_MODEL_2782d2cc002b476ca082895c90353d03",
       "max": 25.0,
       "min": 0.0,
       "orientation": "horizontal",
       "style": "IPY_MODEL_716e15cd2def47348934c680e50182fd",
       "value": 25.0
      }
     },
     "cd0f05922e314f429feb7b5615f89015": {
      "model_module": "@jupyter-widgets/base",
      "model_module_version": "1.2.0",
      "model_name": "LayoutModel",
      "state": {
       "_model_module": "@jupyter-widgets/base",
       "_model_module_version": "1.2.0",
       "_model_name": "LayoutModel",
       "_view_count": null,
       "_view_module": "@jupyter-widgets/base",
       "_view_module_version": "1.2.0",
       "_view_name": "LayoutView",
       "align_content": null,
       "align_items": null,
       "align_self": null,
       "border": null,
       "bottom": null,
       "display": null,
       "flex": null,
       "flex_flow": null,
       "grid_area": null,
       "grid_auto_columns": null,
       "grid_auto_flow": null,
       "grid_auto_rows": null,
       "grid_column": null,
       "grid_gap": null,
       "grid_row": null,
       "grid_template_areas": null,
       "grid_template_columns": null,
       "grid_template_rows": null,
       "height": null,
       "justify_content": null,
       "justify_items": null,
       "left": null,
       "margin": null,
       "max_height": null,
       "max_width": null,
       "min_height": null,
       "min_width": null,
       "object_fit": null,
       "object_position": null,
       "order": null,
       "overflow": null,
       "overflow_x": null,
       "overflow_y": null,
       "padding": null,
       "right": null,
       "top": null,
       "visibility": null,
       "width": null
      }
     },
     "daa38b61965a414fad4f08675f68a908": {
      "model_module": "@jupyter-widgets/controls",
      "model_module_version": "1.5.0",
      "model_name": "DescriptionStyleModel",
      "state": {
       "_model_module": "@jupyter-widgets/controls",
       "_model_module_version": "1.5.0",
       "_model_name": "DescriptionStyleModel",
       "_view_count": null,
       "_view_module": "@jupyter-widgets/base",
       "_view_module_version": "1.2.0",
       "_view_name": "StyleView",
       "description_width": ""
      }
     },
     "dfcba7bbba834f6680a26e3ac492fcae": {
      "model_module": "@jupyter-widgets/controls",
      "model_module_version": "1.5.0",
      "model_name": "HBoxModel",
      "state": {
       "_dom_classes": [],
       "_model_module": "@jupyter-widgets/controls",
       "_model_module_version": "1.5.0",
       "_model_name": "HBoxModel",
       "_view_count": null,
       "_view_module": "@jupyter-widgets/controls",
       "_view_module_version": "1.5.0",
       "_view_name": "HBoxView",
       "box_style": "",
       "children": [
        "IPY_MODEL_7214f5c85643473ab99d007f214bdeb0",
        "IPY_MODEL_c77736a9545c45c6b2599383e96dcd7d",
        "IPY_MODEL_e10de1f848f448edbc8e0d0def1b0a8a"
       ],
       "layout": "IPY_MODEL_75694513c9b8426a86c773526104a446"
      }
     },
     "e10de1f848f448edbc8e0d0def1b0a8a": {
      "model_module": "@jupyter-widgets/controls",
      "model_module_version": "1.5.0",
      "model_name": "HTMLModel",
      "state": {
       "_dom_classes": [],
       "_model_module": "@jupyter-widgets/controls",
       "_model_module_version": "1.5.0",
       "_model_name": "HTMLModel",
       "_view_count": null,
       "_view_module": "@jupyter-widgets/controls",
       "_view_module_version": "1.5.0",
       "_view_name": "HTMLView",
       "description": "",
       "description_tooltip": null,
       "layout": "IPY_MODEL_cd0f05922e314f429feb7b5615f89015",
       "placeholder": "​",
       "style": "IPY_MODEL_15fb70e0a0d64841b24e621d4db4b578",
       "value": " 1/25 [00:01&lt;00:27,  1.14s/it]"
      }
     },
     "f910019cc4524b689ec4958bcb825f79": {
      "model_module": "@jupyter-widgets/base",
      "model_module_version": "1.2.0",
      "model_name": "LayoutModel",
      "state": {
       "_model_module": "@jupyter-widgets/base",
       "_model_module_version": "1.2.0",
       "_model_name": "LayoutModel",
       "_view_count": null,
       "_view_module": "@jupyter-widgets/base",
       "_view_module_version": "1.2.0",
       "_view_name": "LayoutView",
       "align_content": null,
       "align_items": null,
       "align_self": null,
       "border": null,
       "bottom": null,
       "display": null,
       "flex": null,
       "flex_flow": null,
       "grid_area": null,
       "grid_auto_columns": null,
       "grid_auto_flow": null,
       "grid_auto_rows": null,
       "grid_column": null,
       "grid_gap": null,
       "grid_row": null,
       "grid_template_areas": null,
       "grid_template_columns": null,
       "grid_template_rows": null,
       "height": null,
       "justify_content": null,
       "justify_items": null,
       "left": null,
       "margin": null,
       "max_height": null,
       "max_width": null,
       "min_height": null,
       "min_width": null,
       "object_fit": null,
       "object_position": null,
       "order": null,
       "overflow": null,
       "overflow_x": null,
       "overflow_y": null,
       "padding": null,
       "right": null,
       "top": null,
       "visibility": null,
       "width": null
      }
     },
     "fbd7e369e83c4b5683159ac4821e6ee8": {
      "model_module": "@jupyter-widgets/controls",
      "model_module_version": "1.5.0",
      "model_name": "HTMLModel",
      "state": {
       "_dom_classes": [],
       "_model_module": "@jupyter-widgets/controls",
       "_model_module_version": "1.5.0",
       "_model_name": "HTMLModel",
       "_view_count": null,
       "_view_module": "@jupyter-widgets/controls",
       "_view_module_version": "1.5.0",
       "_view_name": "HTMLView",
       "description": "",
       "description_tooltip": null,
       "layout": "IPY_MODEL_f910019cc4524b689ec4958bcb825f79",
       "placeholder": "​",
       "style": "IPY_MODEL_daa38b61965a414fad4f08675f68a908",
       "value": "  0%"
      }
     }
    },
    "version_major": 2,
    "version_minor": 0
   }
  }
 },
 "nbformat": 4,
 "nbformat_minor": 5
}
