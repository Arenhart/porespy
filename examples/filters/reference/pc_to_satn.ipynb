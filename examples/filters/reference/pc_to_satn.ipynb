{
 "cells": [
  {
   "cell_type": "markdown",
   "id": "d279476c",
   "metadata": {},
   "source": [
    "# `pc_to_satn`\n",
    "Convert a capillary pressure map to saturation map."
   ]
  },
  {
   "cell_type": "code",
   "execution_count": 1,
   "id": "df328066",
   "metadata": {
    "execution": {
     "iopub.execute_input": "2022-05-25T17:15:35.652301Z",
     "iopub.status.busy": "2022-05-25T17:15:35.652051Z",
     "iopub.status.idle": "2022-05-25T17:15:37.621585Z",
     "shell.execute_reply": "2022-05-25T17:15:37.620843Z"
    }
   },
   "outputs": [],
   "source": [
    "import matplotlib.pyplot as plt\n",
    "import numpy as np\n",
    "import porespy as ps\n",
    "ps.visualization.set_mpl_style()"
   ]
  },
  {
   "cell_type": "markdown",
   "id": "9640b91d",
   "metadata": {},
   "source": [
    "The arguments and their defaults are:"
   ]
  },
  {
   "cell_type": "code",
   "execution_count": 2,
   "id": "da504252",
   "metadata": {
    "execution": {
     "iopub.execute_input": "2022-05-25T17:15:37.628601Z",
     "iopub.status.busy": "2022-05-25T17:15:37.625334Z",
     "iopub.status.idle": "2022-05-25T17:15:37.635260Z",
     "shell.execute_reply": "2022-05-25T17:15:37.634780Z"
    }
   },
   "outputs": [
    {
     "data": {
      "text/plain": [
       "<Signature (pc, im)>"
      ]
     },
     "execution_count": 2,
     "metadata": {},
     "output_type": "execute_result"
    }
   ],
   "source": [
    "import inspect\n",
    "inspect.signature(ps.filters.pc_to_satn)"
   ]
  },
  {
   "cell_type": "markdown",
   "id": "a49558cb",
   "metadata": {},
   "source": [
    "The capillary pressure map, such as that computed by ``ps.simulations.drainage``"
   ]
  },
  {
   "cell_type": "code",
   "execution_count": 3,
   "id": "567910b4",
   "metadata": {
    "execution": {
     "iopub.execute_input": "2022-05-25T17:15:37.639129Z",
     "iopub.status.busy": "2022-05-25T17:15:37.638135Z",
     "iopub.status.idle": "2022-05-25T17:15:38.574630Z",
     "shell.execute_reply": "2022-05-25T17:15:38.574100Z"
    }
   },
   "outputs": [
    {
     "data": {
      "application/vnd.jupyter.widget-view+json": {
       "model_id": "b47db69e926b42f3ad6021b9f15ba783",
       "version_major": 2,
       "version_minor": 0
      },
      "text/plain": [
       "  0%|          | 0/25 [00:00<?, ?it/s]"
      ]
     },
     "metadata": {},
     "output_type": "display_data"
    },
    {
     "data": {
      "application/vnd.jupyter.widget-view+json": {
       "model_id": "5150d1632a314469a04629e0573d3302",
       "version_major": 2,
       "version_minor": 0
      },
      "text/plain": [
       "  0%|          | 0/12 [00:00<?, ?it/s]"
      ]
     },
     "metadata": {},
     "output_type": "display_data"
    }
   ],
   "source": [
    "im = ps.generators.blobs(shape=[200, 200], porosity=0.6)\n",
    "drn = ps.simulations.drainage(im=im, voxel_size=1, g=0)"
   ]
  },
  {
   "cell_type": "markdown",
   "id": "639b2f06",
   "metadata": {},
   "source": [
    "## `pc` and `im`"
   ]
  },
  {
   "cell_type": "code",
   "execution_count": 4,
   "id": "45c9fb8b",
   "metadata": {
    "execution": {
     "iopub.execute_input": "2022-05-25T17:15:38.578013Z",
     "iopub.status.busy": "2022-05-25T17:15:38.577530Z",
     "iopub.status.idle": "2022-05-25T17:15:38.710116Z",
     "shell.execute_reply": "2022-05-25T17:15:38.709527Z"
    }
   },
   "outputs": [
    {
     "data": {
      "image/svg+xml": [
       "<?xml version=\"1.0\" encoding=\"utf-8\" standalone=\"no\"?>\n",
       "<!DOCTYPE svg PUBLIC \"-//W3C//DTD SVG 1.1//EN\"\n",
       "  \"http://www.w3.org/Graphics/SVG/1.1/DTD/svg11.dtd\">\n",
       "<svg xmlns:xlink=\"http://www.w3.org/1999/xlink\" width=\"851.4pt\" height=\"424.8pt\" viewBox=\"0 0 851.4 424.8\" xmlns=\"http://www.w3.org/2000/svg\" version=\"1.1\">\n",
       " <metadata>\n",
       "  <rdf:RDF xmlns:dc=\"http://purl.org/dc/elements/1.1/\" xmlns:cc=\"http://creativecommons.org/ns#\" xmlns:rdf=\"http://www.w3.org/1999/02/22-rdf-syntax-ns#\">\n",
       "   <cc:Work>\n",
       "    <dc:type rdf:resource=\"http://purl.org/dc/dcmitype/StillImage\"/>\n",
       "    <dc:date>2022-05-25T17:15:38.678549</dc:date>\n",
       "    <dc:format>image/svg+xml</dc:format>\n",
       "    <dc:creator>\n",
       "     <cc:Agent>\n",
       "      <dc:title>Matplotlib v3.5.2, https://matplotlib.org/</dc:title>\n",
       "     </cc:Agent>\n",
       "    </dc:creator>\n",
       "   </cc:Work>\n",
       "  </rdf:RDF>\n",
       " </metadata>\n",
       " <defs>\n",
       "  <style type=\"text/css\">*{stroke-linejoin: round; stroke-linecap: butt}</style>\n",
       " </defs>\n",
       " <g id=\"figure_1\">\n",
       "  <g id=\"patch_1\">\n",
       "   <path d=\"M 0 424.8 \n",
       "L 851.4 424.8 \n",
       "L 851.4 0 \n",
       "L 0 0 \n",
       "L 0 424.8 \n",
       "z\n",
       "\" style=\"fill: none\"/>\n",
       "  </g>\n",
       "  <g id=\"axes_1\">\n",
       "   <g clip-path=\"url(#p33642abdc1)\">\n",
       "    <image xlink:href=\"data:image/png;base64,\n",
       "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\" id=\"imaged0084e276b\" transform=\"matrix(2.055 0 0 -2.055 7.2 417.6)\" style=\"image-rendering:crisp-edges;image-rendering:pixelated\" width=\"200\" height=\"200\"/>\n",
       "   </g>\n",
       "  </g>\n",
       "  <g id=\"axes_2\">\n",
       "   <g clip-path=\"url(#pdd363c252d)\">\n",
       "    <image xlink:href=\"data:image/png;base64,\n",
       "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\" id=\"image8b728a1963\" transform=\"matrix(2.055 0 0 -2.055 433.8 417.6)\" style=\"image-rendering:crisp-edges;image-rendering:pixelated\" width=\"200\" height=\"200\"/>\n",
       "   </g>\n",
       "  </g>\n",
       " </g>\n",
       " <defs>\n",
       "  <clipPath id=\"p33642abdc1\">\n",
       "   <rect x=\"7.2\" y=\"7.2\" width=\"410.4\" height=\"410.4\"/>\n",
       "  </clipPath>\n",
       "  <clipPath id=\"pdd363c252d\">\n",
       "   <rect x=\"433.8\" y=\"7.2\" width=\"410.4\" height=\"410.4\"/>\n",
       "  </clipPath>\n",
       " </defs>\n",
       "</svg>\n"
      ],
      "text/plain": [
       "<Figure size 864x432 with 2 Axes>"
      ]
     },
     "metadata": {
      "needs_background": "light"
     },
     "output_type": "display_data"
    }
   ],
   "source": [
    "satn = ps.filters.pc_to_satn(pc=drn.im_pc, im=im)\n",
    "\n",
    "fig, ax = plt.subplots(1, 2, figsize=[12, 6])\n",
    "ax[0].imshow(drn.im_pc/im, interpolation='none', origin='lower')\n",
    "ax[0].axis(False)\n",
    "ax[1].imshow(satn/im, interpolation='none', origin='lower')\n",
    "ax[1].axis(False);"
   ]
  },
  {
   "cell_type": "markdown",
   "id": "d7be130c",
   "metadata": {},
   "source": [
    "The saturation image allows for easy determination of a desired fluid configuration:"
   ]
  },
  {
   "cell_type": "code",
   "execution_count": 5,
   "id": "70dced98",
   "metadata": {
    "execution": {
     "iopub.execute_input": "2022-05-25T17:15:38.713360Z",
     "iopub.status.busy": "2022-05-25T17:15:38.712879Z",
     "iopub.status.idle": "2022-05-25T17:15:38.867936Z",
     "shell.execute_reply": "2022-05-25T17:15:38.867359Z"
    }
   },
   "outputs": [
    {
     "data": {
      "image/svg+xml": [
       "<?xml version=\"1.0\" encoding=\"utf-8\" standalone=\"no\"?>\n",
       "<!DOCTYPE svg PUBLIC \"-//W3C//DTD SVG 1.1//EN\"\n",
       "  \"http://www.w3.org/Graphics/SVG/1.1/DTD/svg11.dtd\">\n",
       "<svg xmlns:xlink=\"http://www.w3.org/1999/xlink\" width=\"851.4pt\" height=\"424.8pt\" viewBox=\"0 0 851.4 424.8\" xmlns=\"http://www.w3.org/2000/svg\" version=\"1.1\">\n",
       " <metadata>\n",
       "  <rdf:RDF xmlns:dc=\"http://purl.org/dc/elements/1.1/\" xmlns:cc=\"http://creativecommons.org/ns#\" xmlns:rdf=\"http://www.w3.org/1999/02/22-rdf-syntax-ns#\">\n",
       "   <cc:Work>\n",
       "    <dc:type rdf:resource=\"http://purl.org/dc/dcmitype/StillImage\"/>\n",
       "    <dc:date>2022-05-25T17:15:38.838594</dc:date>\n",
       "    <dc:format>image/svg+xml</dc:format>\n",
       "    <dc:creator>\n",
       "     <cc:Agent>\n",
       "      <dc:title>Matplotlib v3.5.2, https://matplotlib.org/</dc:title>\n",
       "     </cc:Agent>\n",
       "    </dc:creator>\n",
       "   </cc:Work>\n",
       "  </rdf:RDF>\n",
       " </metadata>\n",
       " <defs>\n",
       "  <style type=\"text/css\">*{stroke-linejoin: round; stroke-linecap: butt}</style>\n",
       " </defs>\n",
       " <g id=\"figure_1\">\n",
       "  <g id=\"patch_1\">\n",
       "   <path d=\"M 0 424.8 \n",
       "L 851.4 424.8 \n",
       "L 851.4 0 \n",
       "L 0 0 \n",
       "L 0 424.8 \n",
       "z\n",
       "\" style=\"fill: none\"/>\n",
       "  </g>\n",
       "  <g id=\"axes_1\">\n",
       "   <g clip-path=\"url(#pc885672358)\">\n",
       "    <image xlink:href=\"data:image/png;base64,\n",
       "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\" id=\"imageb1e3ed5454\" transform=\"matrix(2.055 0 0 -2.055 7.2 417.6)\" style=\"image-rendering:crisp-edges;image-rendering:pixelated\" width=\"200\" height=\"200\"/>\n",
       "   </g>\n",
       "  </g>\n",
       "  <g id=\"axes_2\">\n",
       "   <g clip-path=\"url(#pde56ee581d)\">\n",
       "    <image xlink:href=\"data:image/png;base64,\n",
       "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\" id=\"image8280b1341f\" transform=\"matrix(2.055 0 0 -2.055 433.8 417.6)\" style=\"image-rendering:crisp-edges;image-rendering:pixelated\" width=\"200\" height=\"200\"/>\n",
       "   </g>\n",
       "  </g>\n",
       " </g>\n",
       " <defs>\n",
       "  <clipPath id=\"pc885672358\">\n",
       "   <rect x=\"7.2\" y=\"7.2\" width=\"410.4\" height=\"410.4\"/>\n",
       "  </clipPath>\n",
       "  <clipPath id=\"pde56ee581d\">\n",
       "   <rect x=\"433.8\" y=\"7.2\" width=\"410.4\" height=\"410.4\"/>\n",
       "  </clipPath>\n",
       " </defs>\n",
       "</svg>\n"
      ],
      "text/plain": [
       "<Figure size 864x432 with 2 Axes>"
      ]
     },
     "metadata": {
      "needs_background": "light"
     },
     "output_type": "display_data"
    }
   ],
   "source": [
    "fig, ax = plt.subplots(1, 2, figsize=[12, 6])\n",
    "ax[0].imshow((satn < 0.3)*(satn > 0)/im, interpolation='none', origin='lower')\n",
    "ax[0].axis(False)\n",
    "ax[1].imshow((satn < 0.8)*(satn > 0)/im, interpolation='none', origin='lower')\n",
    "ax[1].axis(False);"
   ]
  }
 ],
 "metadata": {
  "kernelspec": {
   "display_name": "Python 3 (ipykernel)",
   "language": "python",
   "name": "python3"
  },
  "language_info": {
   "codemirror_mode": {
    "name": "ipython",
    "version": 3
   },
   "file_extension": ".py",
   "mimetype": "text/x-python",
   "name": "python",
   "nbconvert_exporter": "python",
   "pygments_lexer": "ipython3",
   "version": "3.8.13"
  },
  "widgets": {
   "application/vnd.jupyter.widget-state+json": {
    "state": {
     "08b1d87dba6440e8ac117e93f2f97234": {
      "model_module": "@jupyter-widgets/base",
      "model_module_version": "1.2.0",
      "model_name": "LayoutModel",
      "state": {
       "_model_module": "@jupyter-widgets/base",
       "_model_module_version": "1.2.0",
       "_model_name": "LayoutModel",
       "_view_count": null,
       "_view_module": "@jupyter-widgets/base",
       "_view_module_version": "1.2.0",
       "_view_name": "LayoutView",
       "align_content": null,
       "align_items": null,
       "align_self": null,
       "border": null,
       "bottom": null,
       "display": null,
       "flex": null,
       "flex_flow": null,
       "grid_area": null,
       "grid_auto_columns": null,
       "grid_auto_flow": null,
       "grid_auto_rows": null,
       "grid_column": null,
       "grid_gap": null,
       "grid_row": null,
       "grid_template_areas": null,
       "grid_template_columns": null,
       "grid_template_rows": null,
       "height": null,
       "justify_content": null,
       "justify_items": null,
       "left": null,
       "margin": null,
       "max_height": null,
       "max_width": null,
       "min_height": null,
       "min_width": null,
       "object_fit": null,
       "object_position": null,
       "order": null,
       "overflow": null,
       "overflow_x": null,
       "overflow_y": null,
       "padding": null,
       "right": null,
       "top": null,
       "visibility": null,
       "width": null
      }
     },
     "08bd74a3ee294865b5aaeccee4574370": {
      "model_module": "@jupyter-widgets/controls",
      "model_module_version": "1.5.0",
      "model_name": "ProgressStyleModel",
      "state": {
       "_model_module": "@jupyter-widgets/controls",
       "_model_module_version": "1.5.0",
       "_model_name": "ProgressStyleModel",
       "_view_count": null,
       "_view_module": "@jupyter-widgets/base",
       "_view_module_version": "1.2.0",
       "_view_name": "StyleView",
       "bar_color": null,
       "description_width": ""
      }
     },
     "0deccfa5caf64c788cfd505f6ef661c0": {
      "model_module": "@jupyter-widgets/base",
      "model_module_version": "1.2.0",
      "model_name": "LayoutModel",
      "state": {
       "_model_module": "@jupyter-widgets/base",
       "_model_module_version": "1.2.0",
       "_model_name": "LayoutModel",
       "_view_count": null,
       "_view_module": "@jupyter-widgets/base",
       "_view_module_version": "1.2.0",
       "_view_name": "LayoutView",
       "align_content": null,
       "align_items": null,
       "align_self": null,
       "border": null,
       "bottom": null,
       "display": null,
       "flex": null,
       "flex_flow": null,
       "grid_area": null,
       "grid_auto_columns": null,
       "grid_auto_flow": null,
       "grid_auto_rows": null,
       "grid_column": null,
       "grid_gap": null,
       "grid_row": null,
       "grid_template_areas": null,
       "grid_template_columns": null,
       "grid_template_rows": null,
       "height": null,
       "justify_content": null,
       "justify_items": null,
       "left": null,
       "margin": null,
       "max_height": null,
       "max_width": null,
       "min_height": null,
       "min_width": null,
       "object_fit": null,
       "object_position": null,
       "order": null,
       "overflow": null,
       "overflow_x": null,
       "overflow_y": null,
       "padding": null,
       "right": null,
       "top": null,
       "visibility": null,
       "width": null
      }
     },
     "234ad3a54e49481f848e6a56ddb614c5": {
      "model_module": "@jupyter-widgets/controls",
      "model_module_version": "1.5.0",
      "model_name": "HTMLModel",
      "state": {
       "_dom_classes": [],
       "_model_module": "@jupyter-widgets/controls",
       "_model_module_version": "1.5.0",
       "_model_name": "HTMLModel",
       "_view_count": null,
       "_view_module": "@jupyter-widgets/controls",
       "_view_module_version": "1.5.0",
       "_view_name": "HTMLView",
       "description": "",
       "description_tooltip": null,
       "layout": "IPY_MODEL_08b1d87dba6440e8ac117e93f2f97234",
       "placeholder": "​",
       "style": "IPY_MODEL_69a696132504454e9dc778f6582ddfb3",
       "value": " 0/12 [00:00&lt;?, ?it/s]"
      }
     },
     "261aee3cbcd94a81949a33d1babbf9d5": {
      "model_module": "@jupyter-widgets/controls",
      "model_module_version": "1.5.0",
      "model_name": "ProgressStyleModel",
      "state": {
       "_model_module": "@jupyter-widgets/controls",
       "_model_module_version": "1.5.0",
       "_model_name": "ProgressStyleModel",
       "_view_count": null,
       "_view_module": "@jupyter-widgets/base",
       "_view_module_version": "1.2.0",
       "_view_name": "StyleView",
       "bar_color": null,
       "description_width": ""
      }
     },
     "362faa2269dd4cddb69a4951cdf63bd8": {
      "model_module": "@jupyter-widgets/controls",
      "model_module_version": "1.5.0",
      "model_name": "DescriptionStyleModel",
      "state": {
       "_model_module": "@jupyter-widgets/controls",
       "_model_module_version": "1.5.0",
       "_model_name": "DescriptionStyleModel",
       "_view_count": null,
       "_view_module": "@jupyter-widgets/base",
       "_view_module_version": "1.2.0",
       "_view_name": "StyleView",
       "description_width": ""
      }
     },
     "42dd21a86a2e40ba96716725e62ababf": {
      "model_module": "@jupyter-widgets/base",
      "model_module_version": "1.2.0",
      "model_name": "LayoutModel",
      "state": {
       "_model_module": "@jupyter-widgets/base",
       "_model_module_version": "1.2.0",
       "_model_name": "LayoutModel",
       "_view_count": null,
       "_view_module": "@jupyter-widgets/base",
       "_view_module_version": "1.2.0",
       "_view_name": "LayoutView",
       "align_content": null,
       "align_items": null,
       "align_self": null,
       "border": null,
       "bottom": null,
       "display": null,
       "flex": null,
       "flex_flow": null,
       "grid_area": null,
       "grid_auto_columns": null,
       "grid_auto_flow": null,
       "grid_auto_rows": null,
       "grid_column": null,
       "grid_gap": null,
       "grid_row": null,
       "grid_template_areas": null,
       "grid_template_columns": null,
       "grid_template_rows": null,
       "height": null,
       "justify_content": null,
       "justify_items": null,
       "left": null,
       "margin": null,
       "max_height": null,
       "max_width": null,
       "min_height": null,
       "min_width": null,
       "object_fit": null,
       "object_position": null,
       "order": null,
       "overflow": null,
       "overflow_x": null,
       "overflow_y": null,
       "padding": null,
       "right": null,
       "top": null,
       "visibility": null,
       "width": null
      }
     },
     "4bc015e5a927472f99efafc008818789": {
      "model_module": "@jupyter-widgets/controls",
      "model_module_version": "1.5.0",
      "model_name": "HTMLModel",
      "state": {
       "_dom_classes": [],
       "_model_module": "@jupyter-widgets/controls",
       "_model_module_version": "1.5.0",
       "_model_name": "HTMLModel",
       "_view_count": null,
       "_view_module": "@jupyter-widgets/controls",
       "_view_module_version": "1.5.0",
       "_view_name": "HTMLView",
       "description": "",
       "description_tooltip": null,
       "layout": "IPY_MODEL_97e9a62a5b1d4dd593f45c69762f4a7f",
       "placeholder": "​",
       "style": "IPY_MODEL_b911046ccf7f427bb3ec6c08869e12e1",
       "value": "  4%"
      }
     },
     "5150d1632a314469a04629e0573d3302": {
      "model_module": "@jupyter-widgets/controls",
      "model_module_version": "1.5.0",
      "model_name": "HBoxModel",
      "state": {
       "_dom_classes": [],
       "_model_module": "@jupyter-widgets/controls",
       "_model_module_version": "1.5.0",
       "_model_name": "HBoxModel",
       "_view_count": null,
       "_view_module": "@jupyter-widgets/controls",
       "_view_module_version": "1.5.0",
       "_view_name": "HBoxView",
       "box_style": "",
       "children": [
        "IPY_MODEL_e6752e2327954bbd8242a145762b3a9a",
        "IPY_MODEL_7b83186cb4e14f7d977ec6ade5b429d4",
        "IPY_MODEL_234ad3a54e49481f848e6a56ddb614c5"
       ],
       "layout": "IPY_MODEL_0deccfa5caf64c788cfd505f6ef661c0"
      }
     },
     "5baf6acf72cb4882afbe10170f4fc3c8": {
      "model_module": "@jupyter-widgets/controls",
      "model_module_version": "1.5.0",
      "model_name": "FloatProgressModel",
      "state": {
       "_dom_classes": [],
       "_model_module": "@jupyter-widgets/controls",
       "_model_module_version": "1.5.0",
       "_model_name": "FloatProgressModel",
       "_view_count": null,
       "_view_module": "@jupyter-widgets/controls",
       "_view_module_version": "1.5.0",
       "_view_name": "ProgressView",
       "bar_style": "",
       "description": "",
       "description_tooltip": null,
       "layout": "IPY_MODEL_eb2d92973a9b45619cfac722259eff2c",
       "max": 25.0,
       "min": 0.0,
       "orientation": "horizontal",
       "style": "IPY_MODEL_08bd74a3ee294865b5aaeccee4574370",
       "value": 25.0
      }
     },
     "657cf1cc578d465c88c2a59aa71a40c6": {
      "model_module": "@jupyter-widgets/base",
      "model_module_version": "1.2.0",
      "model_name": "LayoutModel",
      "state": {
       "_model_module": "@jupyter-widgets/base",
       "_model_module_version": "1.2.0",
       "_model_name": "LayoutModel",
       "_view_count": null,
       "_view_module": "@jupyter-widgets/base",
       "_view_module_version": "1.2.0",
       "_view_name": "LayoutView",
       "align_content": null,
       "align_items": null,
       "align_self": null,
       "border": null,
       "bottom": null,
       "display": null,
       "flex": null,
       "flex_flow": null,
       "grid_area": null,
       "grid_auto_columns": null,
       "grid_auto_flow": null,
       "grid_auto_rows": null,
       "grid_column": null,
       "grid_gap": null,
       "grid_row": null,
       "grid_template_areas": null,
       "grid_template_columns": null,
       "grid_template_rows": null,
       "height": null,
       "justify_content": null,
       "justify_items": null,
       "left": null,
       "margin": null,
       "max_height": null,
       "max_width": null,
       "min_height": null,
       "min_width": null,
       "object_fit": null,
       "object_position": null,
       "order": null,
       "overflow": null,
       "overflow_x": null,
       "overflow_y": null,
       "padding": null,
       "right": null,
       "top": null,
       "visibility": null,
       "width": null
      }
     },
     "68d3c742a50843dc807038dd4c84c9e0": {
      "model_module": "@jupyter-widgets/base",
      "model_module_version": "1.2.0",
      "model_name": "LayoutModel",
      "state": {
       "_model_module": "@jupyter-widgets/base",
       "_model_module_version": "1.2.0",
       "_model_name": "LayoutModel",
       "_view_count": null,
       "_view_module": "@jupyter-widgets/base",
       "_view_module_version": "1.2.0",
       "_view_name": "LayoutView",
       "align_content": null,
       "align_items": null,
       "align_self": null,
       "border": null,
       "bottom": null,
       "display": null,
       "flex": null,
       "flex_flow": null,
       "grid_area": null,
       "grid_auto_columns": null,
       "grid_auto_flow": null,
       "grid_auto_rows": null,
       "grid_column": null,
       "grid_gap": null,
       "grid_row": null,
       "grid_template_areas": null,
       "grid_template_columns": null,
       "grid_template_rows": null,
       "height": null,
       "justify_content": null,
       "justify_items": null,
       "left": null,
       "margin": null,
       "max_height": null,
       "max_width": null,
       "min_height": null,
       "min_width": null,
       "object_fit": null,
       "object_position": null,
       "order": null,
       "overflow": null,
       "overflow_x": null,
       "overflow_y": null,
       "padding": null,
       "right": null,
       "top": null,
       "visibility": null,
       "width": null
      }
     },
     "698e52fefd32412c8c0859ee6ca570b4": {
      "model_module": "@jupyter-widgets/controls",
      "model_module_version": "1.5.0",
      "model_name": "DescriptionStyleModel",
      "state": {
       "_model_module": "@jupyter-widgets/controls",
       "_model_module_version": "1.5.0",
       "_model_name": "DescriptionStyleModel",
       "_view_count": null,
       "_view_module": "@jupyter-widgets/base",
       "_view_module_version": "1.2.0",
       "_view_name": "StyleView",
       "description_width": ""
      }
     },
     "69a696132504454e9dc778f6582ddfb3": {
      "model_module": "@jupyter-widgets/controls",
      "model_module_version": "1.5.0",
      "model_name": "DescriptionStyleModel",
      "state": {
       "_model_module": "@jupyter-widgets/controls",
       "_model_module_version": "1.5.0",
       "_model_name": "DescriptionStyleModel",
       "_view_count": null,
       "_view_module": "@jupyter-widgets/base",
       "_view_module_version": "1.2.0",
       "_view_name": "StyleView",
       "description_width": ""
      }
     },
     "7b83186cb4e14f7d977ec6ade5b429d4": {
      "model_module": "@jupyter-widgets/controls",
      "model_module_version": "1.5.0",
      "model_name": "FloatProgressModel",
      "state": {
       "_dom_classes": [],
       "_model_module": "@jupyter-widgets/controls",
       "_model_module_version": "1.5.0",
       "_model_name": "FloatProgressModel",
       "_view_count": null,
       "_view_module": "@jupyter-widgets/controls",
       "_view_module_version": "1.5.0",
       "_view_name": "ProgressView",
       "bar_style": "",
       "description": "",
       "description_tooltip": null,
       "layout": "IPY_MODEL_657cf1cc578d465c88c2a59aa71a40c6",
       "max": 12.0,
       "min": 0.0,
       "orientation": "horizontal",
       "style": "IPY_MODEL_261aee3cbcd94a81949a33d1babbf9d5",
       "value": 12.0
      }
     },
     "97e9a62a5b1d4dd593f45c69762f4a7f": {
      "model_module": "@jupyter-widgets/base",
      "model_module_version": "1.2.0",
      "model_name": "LayoutModel",
      "state": {
       "_model_module": "@jupyter-widgets/base",
       "_model_module_version": "1.2.0",
       "_model_name": "LayoutModel",
       "_view_count": null,
       "_view_module": "@jupyter-widgets/base",
       "_view_module_version": "1.2.0",
       "_view_name": "LayoutView",
       "align_content": null,
       "align_items": null,
       "align_self": null,
       "border": null,
       "bottom": null,
       "display": null,
       "flex": null,
       "flex_flow": null,
       "grid_area": null,
       "grid_auto_columns": null,
       "grid_auto_flow": null,
       "grid_auto_rows": null,
       "grid_column": null,
       "grid_gap": null,
       "grid_row": null,
       "grid_template_areas": null,
       "grid_template_columns": null,
       "grid_template_rows": null,
       "height": null,
       "justify_content": null,
       "justify_items": null,
       "left": null,
       "margin": null,
       "max_height": null,
       "max_width": null,
       "min_height": null,
       "min_width": null,
       "object_fit": null,
       "object_position": null,
       "order": null,
       "overflow": null,
       "overflow_x": null,
       "overflow_y": null,
       "padding": null,
       "right": null,
       "top": null,
       "visibility": null,
       "width": null
      }
     },
     "b47db69e926b42f3ad6021b9f15ba783": {
      "model_module": "@jupyter-widgets/controls",
      "model_module_version": "1.5.0",
      "model_name": "HBoxModel",
      "state": {
       "_dom_classes": [],
       "_model_module": "@jupyter-widgets/controls",
       "_model_module_version": "1.5.0",
       "_model_name": "HBoxModel",
       "_view_count": null,
       "_view_module": "@jupyter-widgets/controls",
       "_view_module_version": "1.5.0",
       "_view_name": "HBoxView",
       "box_style": "",
       "children": [
        "IPY_MODEL_4bc015e5a927472f99efafc008818789",
        "IPY_MODEL_5baf6acf72cb4882afbe10170f4fc3c8",
        "IPY_MODEL_d026b109ec9848e58cf1efcb10b88aaf"
       ],
       "layout": "IPY_MODEL_68d3c742a50843dc807038dd4c84c9e0"
      }
     },
     "b911046ccf7f427bb3ec6c08869e12e1": {
      "model_module": "@jupyter-widgets/controls",
      "model_module_version": "1.5.0",
      "model_name": "DescriptionStyleModel",
      "state": {
       "_model_module": "@jupyter-widgets/controls",
       "_model_module_version": "1.5.0",
       "_model_name": "DescriptionStyleModel",
       "_view_count": null,
       "_view_module": "@jupyter-widgets/base",
       "_view_module_version": "1.2.0",
       "_view_name": "StyleView",
       "description_width": ""
      }
     },
     "d026b109ec9848e58cf1efcb10b88aaf": {
      "model_module": "@jupyter-widgets/controls",
      "model_module_version": "1.5.0",
      "model_name": "HTMLModel",
      "state": {
       "_dom_classes": [],
       "_model_module": "@jupyter-widgets/controls",
       "_model_module_version": "1.5.0",
       "_model_name": "HTMLModel",
       "_view_count": null,
       "_view_module": "@jupyter-widgets/controls",
       "_view_module_version": "1.5.0",
       "_view_name": "HTMLView",
       "description": "",
       "description_tooltip": null,
       "layout": "IPY_MODEL_d75e40a74b4840b2833f97d4a7d7a85c",
       "placeholder": "​",
       "style": "IPY_MODEL_362faa2269dd4cddb69a4951cdf63bd8",
       "value": " 1/25 [00:00&lt;00:20,  1.17it/s]"
      }
     },
     "d75e40a74b4840b2833f97d4a7d7a85c": {
      "model_module": "@jupyter-widgets/base",
      "model_module_version": "1.2.0",
      "model_name": "LayoutModel",
      "state": {
       "_model_module": "@jupyter-widgets/base",
       "_model_module_version": "1.2.0",
       "_model_name": "LayoutModel",
       "_view_count": null,
       "_view_module": "@jupyter-widgets/base",
       "_view_module_version": "1.2.0",
       "_view_name": "LayoutView",
       "align_content": null,
       "align_items": null,
       "align_self": null,
       "border": null,
       "bottom": null,
       "display": null,
       "flex": null,
       "flex_flow": null,
       "grid_area": null,
       "grid_auto_columns": null,
       "grid_auto_flow": null,
       "grid_auto_rows": null,
       "grid_column": null,
       "grid_gap": null,
       "grid_row": null,
       "grid_template_areas": null,
       "grid_template_columns": null,
       "grid_template_rows": null,
       "height": null,
       "justify_content": null,
       "justify_items": null,
       "left": null,
       "margin": null,
       "max_height": null,
       "max_width": null,
       "min_height": null,
       "min_width": null,
       "object_fit": null,
       "object_position": null,
       "order": null,
       "overflow": null,
       "overflow_x": null,
       "overflow_y": null,
       "padding": null,
       "right": null,
       "top": null,
       "visibility": null,
       "width": null
      }
     },
     "e6752e2327954bbd8242a145762b3a9a": {
      "model_module": "@jupyter-widgets/controls",
      "model_module_version": "1.5.0",
      "model_name": "HTMLModel",
      "state": {
       "_dom_classes": [],
       "_model_module": "@jupyter-widgets/controls",
       "_model_module_version": "1.5.0",
       "_model_name": "HTMLModel",
       "_view_count": null,
       "_view_module": "@jupyter-widgets/controls",
       "_view_module_version": "1.5.0",
       "_view_name": "HTMLView",
       "description": "",
       "description_tooltip": null,
       "layout": "IPY_MODEL_42dd21a86a2e40ba96716725e62ababf",
       "placeholder": "​",
       "style": "IPY_MODEL_698e52fefd32412c8c0859ee6ca570b4",
       "value": "  0%"
      }
     },
     "eb2d92973a9b45619cfac722259eff2c": {
      "model_module": "@jupyter-widgets/base",
      "model_module_version": "1.2.0",
      "model_name": "LayoutModel",
      "state": {
       "_model_module": "@jupyter-widgets/base",
       "_model_module_version": "1.2.0",
       "_model_name": "LayoutModel",
       "_view_count": null,
       "_view_module": "@jupyter-widgets/base",
       "_view_module_version": "1.2.0",
       "_view_name": "LayoutView",
       "align_content": null,
       "align_items": null,
       "align_self": null,
       "border": null,
       "bottom": null,
       "display": null,
       "flex": null,
       "flex_flow": null,
       "grid_area": null,
       "grid_auto_columns": null,
       "grid_auto_flow": null,
       "grid_auto_rows": null,
       "grid_column": null,
       "grid_gap": null,
       "grid_row": null,
       "grid_template_areas": null,
       "grid_template_columns": null,
       "grid_template_rows": null,
       "height": null,
       "justify_content": null,
       "justify_items": null,
       "left": null,
       "margin": null,
       "max_height": null,
       "max_width": null,
       "min_height": null,
       "min_width": null,
       "object_fit": null,
       "object_position": null,
       "order": null,
       "overflow": null,
       "overflow_x": null,
       "overflow_y": null,
       "padding": null,
       "right": null,
       "top": null,
       "visibility": null,
       "width": null
      }
     }
    },
    "version_major": 2,
    "version_minor": 0
   }
  }
 },
 "nbformat": 4,
 "nbformat_minor": 5
}
