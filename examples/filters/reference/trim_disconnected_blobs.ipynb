{
 "cells": [
  {
   "cell_type": "markdown",
   "metadata": {},
   "source": [
    "# trim_disconnected_blobs\n",
    "``trim_disconnected_blobs`` is a function which removes blobs that are not connected to specified inlets."
   ]
  },
  {
   "cell_type": "code",
   "execution_count": 1,
   "metadata": {
    "execution": {
     "iopub.execute_input": "2022-03-29T23:51:25.270615Z",
     "iopub.status.busy": "2022-03-29T23:51:25.270127Z",
     "iopub.status.idle": "2022-03-29T23:51:27.136164Z",
     "shell.execute_reply": "2022-03-29T23:51:27.135658Z"
    }
   },
   "outputs": [],
   "source": [
    "import numpy as np\n",
    "import porespy as ps\n",
    "import scipy.ndimage as spim\n",
    "import scipy\n",
    "import matplotlib.pyplot as plt\n",
    "import skimage"
   ]
  },
  {
   "cell_type": "markdown",
   "metadata": {},
   "source": [
    "## Generate Test Image\n",
    "First an image is generated that can be used to demonstrate how to trim disconnected blobs. The ``RSA`` method is used to generate an image that is 100 by 100 in shape. The image is visualized by plotting using matplotlib's ``pyplot.imshow``."
   ]
  },
  {
   "cell_type": "code",
   "execution_count": 2,
   "metadata": {
    "execution": {
     "iopub.execute_input": "2022-03-29T23:51:27.140268Z",
     "iopub.status.busy": "2022-03-29T23:51:27.139311Z",
     "iopub.status.idle": "2022-03-29T23:51:27.695332Z",
     "shell.execute_reply": "2022-03-29T23:51:27.694893Z"
    }
   },
   "outputs": [
    {
     "data": {
      "image/png": "[encoded data removed]",
      "text/plain": [
       "<Figure size 432x432 with 1 Axes>"
      ]
     },
     "metadata": {
      "needs_background": "light"
     },
     "output_type": "display_data"
    }
   ],
   "source": [
    "im = ps.generators.rsa(np.zeros([100, 100]), r=9, clearance=1)\n",
    "plt.figure(figsize=[6, 6])\n",
    "plt.imshow(im);\n",
    "plt.axis(False);"
   ]
  },
  {
   "cell_type": "markdown",
   "metadata": {},
   "source": [
    "## Specify Inlets\n",
    "Next the location of the inlets are specified. Any voxels **not** connected directly to the inlets will be trimmed. The inlets can be specified as either a boolean mask with the same shape as the image or a tuple of indices. Here we specify the inlets as being located on the border of an image and do this using a boolean mask. We visualize the inlets by plotting the boolean array. "
   ]
  },
  {
   "cell_type": "code",
   "execution_count": 3,
   "metadata": {
    "execution": {
     "iopub.execute_input": "2022-03-29T23:51:27.699129Z",
     "iopub.status.busy": "2022-03-29T23:51:27.698220Z",
     "iopub.status.idle": "2022-03-29T23:51:27.783622Z",
     "shell.execute_reply": "2022-03-29T23:51:27.783191Z"
    }
   },
   "outputs": [
    {
     "data": {
      "image/png": "[encoded data removed]",
      "text/plain": [
       "<Figure size 432x432 with 1 Axes>"
      ]
     },
     "metadata": {
      "needs_background": "light"
     },
     "output_type": "display_data"
    }
   ],
   "source": [
    "inlets = ps.tools.get_border(shape=im.shape, mode='faces')\n",
    "plt.figure(figsize=[6, 6])\n",
    "plt.imshow(inlets);\n",
    "plt.axis(False);"
   ]
  },
  {
   "cell_type": "markdown",
   "metadata": {},
   "source": [
    "## Apply Filter\n",
    "The ``trim_disconnected_blobs`` filter is applied to the image using the border voxels as inlets. The filter returns image x which is the original image but with all blobs that are disconnected from the border removed.  The resulting image is plotted and the effect of removing blobs not connected to inlets are visualized. "
   ]
  },
  {
   "cell_type": "code",
   "execution_count": 4,
   "metadata": {
    "execution": {
     "iopub.execute_input": "2022-03-29T23:51:27.787384Z",
     "iopub.status.busy": "2022-03-29T23:51:27.786495Z",
     "iopub.status.idle": "2022-03-29T23:51:27.890166Z",
     "shell.execute_reply": "2022-03-29T23:51:27.889618Z"
    }
   },
   "outputs": [
    {
     "data": {
      "image/png": "[encoded data removed]",
      "text/plain": [
       "<Figure size 432x432 with 1 Axes>"
      ]
     },
     "metadata": {
      "needs_background": "light"
     },
     "output_type": "display_data"
    }
   ],
   "source": [
    "x = ps.filters.trim_disconnected_blobs(im=im, inlets=inlets)\n",
    "plt.figure(figsize=[6, 6])\n",
    "plt.imshow(x);\n",
    "plt.axis(False);"
   ]
  }
 ],
 "metadata": {
  "kernelspec": {
   "display_name": "Python 3 (ipykernel)",
   "language": "python",
   "name": "python3"
  },
  "language_info": {
   "codemirror_mode": {
    "name": "ipython",
    "version": 3
   },
   "file_extension": ".py",
   "mimetype": "text/x-python",
   "name": "python",
   "nbconvert_exporter": "python",
   "pygments_lexer": "ipython3",
   "version": "3.8.13"
  }
 },
 "nbformat": 4,
 "nbformat_minor": 4
}
