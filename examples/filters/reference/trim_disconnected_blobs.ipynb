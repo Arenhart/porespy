{
 "cells": [
  {
   "cell_type": "markdown",
   "metadata": {},
   "source": [
    "# `trim_disconnected_blobs`\n",
    "``trim_disconnected_blobs`` is a function which removes blobs that are not connected to specified inlets.  Blobs are any clusters of ``True`` voxels, so this can be used to analyze both solid or void phase by inverting the image as needed."
   ]
  },
  {
   "cell_type": "code",
   "execution_count": 1,
   "metadata": {
    "execution": {
     "iopub.execute_input": "2022-04-20T14:16:58.487926Z",
     "iopub.status.busy": "2022-04-20T14:16:58.487723Z",
     "iopub.status.idle": "2022-04-20T14:17:00.443029Z",
     "shell.execute_reply": "2022-04-20T14:17:00.442503Z"
    }
   },
   "outputs": [],
   "source": [
    "import numpy as np\n",
    "import porespy as ps\n",
    "import scipy.ndimage as spim\n",
    "import scipy\n",
    "import matplotlib.pyplot as plt"
   ]
  },
  {
   "cell_type": "code",
   "execution_count": 2,
   "metadata": {
    "execution": {
     "iopub.execute_input": "2022-04-20T14:17:00.446750Z",
     "iopub.status.busy": "2022-04-20T14:17:00.446247Z",
     "iopub.status.idle": "2022-04-20T14:17:00.452155Z",
     "shell.execute_reply": "2022-04-20T14:17:00.451772Z"
    }
   },
   "outputs": [
    {
     "name": "stdout",
     "output_type": "stream",
     "text": [
      "(im, inlets, strel=None)\n"
     ]
    }
   ],
   "source": [
    "import inspect\n",
    "print(inspect.signature(ps.filters.trim_disconnected_blobs))"
   ]
  },
  {
   "cell_type": "markdown",
   "metadata": {},
   "source": [
    "##  `im` and `inlets`\n",
    "The image contains ``True`` values indicating the phase of interest.  `inlets` can be custom created to indicate which blobs to trim."
   ]
  },
  {
   "cell_type": "code",
   "execution_count": 3,
   "metadata": {
    "execution": {
     "iopub.execute_input": "2022-04-20T14:17:00.455023Z",
     "iopub.status.busy": "2022-04-20T14:17:00.454747Z",
     "iopub.status.idle": "2022-04-20T14:17:00.628809Z",
     "shell.execute_reply": "2022-04-20T14:17:00.628355Z"
    }
   },
   "outputs": [
    {
     "data": {
      "image/png": "[encoded data removed]",
      "text/plain": [
       "<Figure size 1080x360 with 3 Axes>"
      ]
     },
     "metadata": {
      "needs_background": "light"
     },
     "output_type": "display_data"
    }
   ],
   "source": [
    "np.random.seed(0)\n",
    "im = ps.generators.blobs(shape=[100, 100], porosity=0.4)\n",
    "inlets = ps.tools.get_border(shape=im.shape, mode='faces')\n",
    "im2 = ps.filters.trim_disconnected_blobs(im, inlets)\n",
    "\n",
    "fig, ax = plt.subplots(1, 3, figsize=[15, 5])\n",
    "ax[0].imshow(im, origin='lower', interpolation='none')\n",
    "ax[0].axis(False)\n",
    "ax[1].imshow(inlets, origin='lower', interpolation='none')\n",
    "ax[1].axis(False)\n",
    "ax[2].imshow(im2, origin='lower', interpolation='none')\n",
    "ax[2].axis(False);"
   ]
  },
  {
   "cell_type": "markdown",
   "metadata": {},
   "source": [
    "## `strel`\n",
    "A structuring element can be provided to indicate how to determine whether clusters of voxels are connected or not."
   ]
  },
  {
   "cell_type": "code",
   "execution_count": 4,
   "metadata": {
    "execution": {
     "iopub.execute_input": "2022-04-20T14:17:00.632707Z",
     "iopub.status.busy": "2022-04-20T14:17:00.631819Z",
     "iopub.status.idle": "2022-04-20T14:17:00.776439Z",
     "shell.execute_reply": "2022-04-20T14:17:00.775957Z"
    }
   },
   "outputs": [
    {
     "data": {
      "image/png": "[encoded data removed]",
      "text/plain": [
       "<Figure size 864x432 with 2 Axes>"
      ]
     },
     "metadata": {
      "needs_background": "light"
     },
     "output_type": "display_data"
    }
   ],
   "source": [
    "strel = ps.tools.ps_round(r=1, ndim=2, smooth=False)\n",
    "im1 = ps.filters.trim_disconnected_blobs(im, inlets, strel)\n",
    "strel = ps.tools.ps_rect(w=3, ndim=2)\n",
    "im2 = ps.filters.trim_disconnected_blobs(im, inlets, strel)\n",
    "\n",
    "fig, ax = plt.subplots(1, 2, figsize=[12, 6])\n",
    "ax[0].imshow(im1, origin='lower', interpolation='none')\n",
    "ax[0].axis(False)\n",
    "ax[1].imshow(im2, origin='lower', interpolation='none')\n",
    "ax[1].axis(False);"
   ]
  }
 ],
 "metadata": {
  "kernelspec": {
   "display_name": "Python 3 (ipykernel)",
   "language": "python",
   "name": "python3"
  },
  "language_info": {
   "codemirror_mode": {
    "name": "ipython",
    "version": 3
   },
   "file_extension": ".py",
   "mimetype": "text/x-python",
   "name": "python",
   "nbconvert_exporter": "python",
   "pygments_lexer": "ipython3",
   "version": "3.8.13"
  }
 },
 "nbformat": 4,
 "nbformat_minor": 4
}
