{
 "cells": [
  {
   "cell_type": "markdown",
   "metadata": {},
   "source": [
    "# `nphase_border`\n",
    "Computes the number of phases that border on each pixel."
   ]
  },
  {
   "cell_type": "code",
   "execution_count": 1,
   "metadata": {
    "execution": {
     "iopub.execute_input": "2022-04-26T09:04:26.802536Z",
     "iopub.status.busy": "2022-04-26T09:04:26.802297Z",
     "iopub.status.idle": "2022-04-26T09:04:28.987797Z",
     "shell.execute_reply": "2022-04-26T09:04:28.987149Z"
    }
   },
   "outputs": [],
   "source": [
    "import matplotlib.pyplot as plt\n",
    "import numpy as np\n",
    "import porespy as ps\n",
    "ps.visualization.set_mpl_style()"
   ]
  },
  {
   "cell_type": "markdown",
   "metadata": {},
   "source": [
    "The arguments and their defaults are:"
   ]
  },
  {
   "cell_type": "code",
   "execution_count": 2,
   "metadata": {
    "execution": {
     "iopub.execute_input": "2022-04-26T09:04:28.992591Z",
     "iopub.status.busy": "2022-04-26T09:04:28.991674Z",
     "iopub.status.idle": "2022-04-26T09:04:28.999362Z",
     "shell.execute_reply": "2022-04-26T09:04:28.998937Z"
    }
   },
   "outputs": [
    {
     "data": {
      "text/plain": [
       "<Signature (im, include_diagonals=False)>"
      ]
     },
     "execution_count": 2,
     "metadata": {},
     "output_type": "execute_result"
    }
   ],
   "source": [
    "import inspect\n",
    "inspect.signature(ps.filters.nphase_border)"
   ]
  },
  {
   "cell_type": "markdown",
   "metadata": {},
   "source": [
    "## `im`\n",
    "This function works on both 2D and 3D images.  If an im"
   ]
  },
  {
   "cell_type": "code",
   "execution_count": 3,
   "metadata": {
    "execution": {
     "iopub.execute_input": "2022-04-26T09:04:29.003090Z",
     "iopub.status.busy": "2022-04-26T09:04:29.002151Z",
     "iopub.status.idle": "2022-04-26T09:04:29.751823Z",
     "shell.execute_reply": "2022-04-26T09:04:29.751269Z"
    }
   },
   "outputs": [
    {
     "data": {
      "image/svg+xml": [
       "<?xml version=\"1.0\" encoding=\"utf-8\" standalone=\"no\"?>\n",
       "<!DOCTYPE svg PUBLIC \"-//W3C//DTD SVG 1.1//EN\"\n",
       "  \"http://www.w3.org/Graphics/SVG/1.1/DTD/svg11.dtd\">\n",
       "<svg xmlns:xlink=\"http://www.w3.org/1999/xlink\" width=\"846pt\" height=\"420.48pt\" viewBox=\"0 0 846 420.48\" xmlns=\"http://www.w3.org/2000/svg\" version=\"1.1\">\n",
       " <metadata>\n",
       "  <rdf:RDF xmlns:dc=\"http://purl.org/dc/elements/1.1/\" xmlns:cc=\"http://creativecommons.org/ns#\" xmlns:rdf=\"http://www.w3.org/1999/02/22-rdf-syntax-ns#\">\n",
       "   <cc:Work>\n",
       "    <dc:type rdf:resource=\"http://purl.org/dc/dcmitype/StillImage\"/>\n",
       "    <dc:date>2022-04-26T09:04:29.723052</dc:date>\n",
       "    <dc:format>image/svg+xml</dc:format>\n",
       "    <dc:creator>\n",
       "     <cc:Agent>\n",
       "      <dc:title>Matplotlib v3.5.1, https://matplotlib.org/</dc:title>\n",
       "     </cc:Agent>\n",
       "    </dc:creator>\n",
       "   </cc:Work>\n",
       "  </rdf:RDF>\n",
       " </metadata>\n",
       " <defs>\n",
       "  <style type=\"text/css\">*{stroke-linejoin: round; stroke-linecap: butt}</style>\n",
       " </defs>\n",
       " <g id=\"figure_1\">\n",
       "  <g id=\"patch_1\">\n",
       "   <path d=\"M 0 420.48 \n",
       "L 846 420.48 \n",
       "L 846 0 \n",
       "L 0 0 \n",
       "L 0 420.48 \n",
       "z\n",
       "\" style=\"fill: none\"/>\n",
       "  </g>\n",
       "  <g id=\"axes_1\">\n",
       "   <g clip-path=\"url(#p0c32ec41fe)\">\n",
       "    <image xlink:href=\"data:image/png;base64,\n",
       "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\" id=\"image6b74660a52\" transform=\"matrix(2.035 0 0 -2.035 7.2 413.28)\" style=\"image-rendering:crisp-edges;image-rendering:pixelated\" width=\"200\" height=\"200\"/>\n",
       "   </g>\n",
       "  </g>\n",
       "  <g id=\"axes_2\">\n",
       "   <g clip-path=\"url(#p1eff236db9)\">\n",
       "    <image xlink:href=\"data:image/png;base64,\n",
       "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\" id=\"image71dcbcfd0c\" transform=\"matrix(2.035 0 0 -2.035 432.72 413.28)\" style=\"image-rendering:crisp-edges;image-rendering:pixelated\" width=\"200\" height=\"200\"/>\n",
       "   </g>\n",
       "  </g>\n",
       " </g>\n",
       " <defs>\n",
       "  <clipPath id=\"p0c32ec41fe\">\n",
       "   <rect x=\"7.2\" y=\"7.2\" width=\"406.08\" height=\"406.08\"/>\n",
       "  </clipPath>\n",
       "  <clipPath id=\"p1eff236db9\">\n",
       "   <rect x=\"432.72\" y=\"7.2\" width=\"406.08\" height=\"406.08\"/>\n",
       "  </clipPath>\n",
       " </defs>\n",
       "</svg>\n"
      ],
      "text/plain": [
       "<Figure size 864x432 with 2 Axes>"
      ]
     },
     "metadata": {
      "needs_background": "light"
     },
     "output_type": "display_data"
    }
   ],
   "source": [
    "matrix = ps.generators.blobs([200, 200])\n",
    "inclusions = ps.generators.rsa(~matrix, r=5, return_spheres=True, clearance=3)\n",
    "bd = ps.filters.nphase_border(matrix*1.0 + inclusions*1.0)\n",
    "\n",
    "fig, ax = plt.subplots(1, 2, figsize=[12, 6])\n",
    "ax[0].imshow(matrix*1.0 + inclusions*1.0, origin='lower', interpolation='none')\n",
    "ax[0].axis(False)\n",
    "ax[1].imshow(bd, origin='lower', interpolation='none')\n",
    "ax[1].axis(False);"
   ]
  },
  {
   "cell_type": "code",
   "execution_count": 4,
   "metadata": {
    "execution": {
     "iopub.execute_input": "2022-04-26T09:04:29.756113Z",
     "iopub.status.busy": "2022-04-26T09:04:29.755131Z",
     "iopub.status.idle": "2022-04-26T09:04:29.762704Z",
     "shell.execute_reply": "2022-04-26T09:04:29.762244Z"
    }
   },
   "outputs": [
    {
     "data": {
      "text/plain": [
       "array([1., 2., 3.])"
      ]
     },
     "execution_count": 4,
     "metadata": {},
     "output_type": "execute_result"
    }
   ],
   "source": [
    "np.unique(bd)"
   ]
  },
  {
   "cell_type": "markdown",
   "metadata": {},
   "source": [
    "The unique values in ``bd`` are 1, 2 and 3 indicating that some pixels border on 1 phase (internal pixels), 2 phases (edges) or 3 phases (corners where void, matrix and inclusion meet). Including diagonals results in a thicker border since more voxels are found that lie on an edge."
   ]
  },
  {
   "cell_type": "markdown",
   "metadata": {},
   "source": [
    "## `include_diagonals`\n",
    "Controls that neighbor of the search."
   ]
  },
  {
   "cell_type": "code",
   "execution_count": 5,
   "metadata": {
    "execution": {
     "iopub.execute_input": "2022-04-26T09:04:29.766466Z",
     "iopub.status.busy": "2022-04-26T09:04:29.765527Z",
     "iopub.status.idle": "2022-04-26T09:04:29.965802Z",
     "shell.execute_reply": "2022-04-26T09:04:29.965210Z"
    }
   },
   "outputs": [
    {
     "data": {
      "image/svg+xml": [
       "<?xml version=\"1.0\" encoding=\"utf-8\" standalone=\"no\"?>\n",
       "<!DOCTYPE svg PUBLIC \"-//W3C//DTD SVG 1.1//EN\"\n",
       "  \"http://www.w3.org/Graphics/SVG/1.1/DTD/svg11.dtd\">\n",
       "<svg xmlns:xlink=\"http://www.w3.org/1999/xlink\" width=\"846pt\" height=\"420.48pt\" viewBox=\"0 0 846 420.48\" xmlns=\"http://www.w3.org/2000/svg\" version=\"1.1\">\n",
       " <metadata>\n",
       "  <rdf:RDF xmlns:dc=\"http://purl.org/dc/elements/1.1/\" xmlns:cc=\"http://creativecommons.org/ns#\" xmlns:rdf=\"http://www.w3.org/1999/02/22-rdf-syntax-ns#\">\n",
       "   <cc:Work>\n",
       "    <dc:type rdf:resource=\"http://purl.org/dc/dcmitype/StillImage\"/>\n",
       "    <dc:date>2022-04-26T09:04:29.919572</dc:date>\n",
       "    <dc:format>image/svg+xml</dc:format>\n",
       "    <dc:creator>\n",
       "     <cc:Agent>\n",
       "      <dc:title>Matplotlib v3.5.1, https://matplotlib.org/</dc:title>\n",
       "     </cc:Agent>\n",
       "    </dc:creator>\n",
       "   </cc:Work>\n",
       "  </rdf:RDF>\n",
       " </metadata>\n",
       " <defs>\n",
       "  <style type=\"text/css\">*{stroke-linejoin: round; stroke-linecap: butt}</style>\n",
       " </defs>\n",
       " <g id=\"figure_1\">\n",
       "  <g id=\"patch_1\">\n",
       "   <path d=\"M 0 420.48 \n",
       "L 846 420.48 \n",
       "L 846 0 \n",
       "L 0 0 \n",
       "L 0 420.48 \n",
       "z\n",
       "\" style=\"fill: none\"/>\n",
       "  </g>\n",
       "  <g id=\"axes_1\">\n",
       "   <g clip-path=\"url(#p0f8fa9a781)\">\n",
       "    <image xlink:href=\"data:image/png;base64,\n",
       "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\" id=\"imaged9f7e66c0e\" transform=\"matrix(2.035 0 0 -2.035 7.2 413.28)\" style=\"image-rendering:crisp-edges;image-rendering:pixelated\" width=\"200\" height=\"200\"/>\n",
       "   </g>\n",
       "  </g>\n",
       "  <g id=\"axes_2\">\n",
       "   <g clip-path=\"url(#p3da6be757f)\">\n",
       "    <image xlink:href=\"data:image/png;base64,\n",
       "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\" id=\"image1bf2155840\" transform=\"matrix(2.035 0 0 -2.035 432.72 413.28)\" style=\"image-rendering:crisp-edges;image-rendering:pixelated\" width=\"200\" height=\"200\"/>\n",
       "   </g>\n",
       "  </g>\n",
       " </g>\n",
       " <defs>\n",
       "  <clipPath id=\"p0f8fa9a781\">\n",
       "   <rect x=\"7.2\" y=\"7.2\" width=\"406.08\" height=\"406.08\"/>\n",
       "  </clipPath>\n",
       "  <clipPath id=\"p3da6be757f\">\n",
       "   <rect x=\"432.72\" y=\"7.2\" width=\"406.08\" height=\"406.08\"/>\n",
       "  </clipPath>\n",
       " </defs>\n",
       "</svg>\n"
      ],
      "text/plain": [
       "<Figure size 864x432 with 2 Axes>"
      ]
     },
     "metadata": {
      "needs_background": "light"
     },
     "output_type": "display_data"
    }
   ],
   "source": [
    "bd1 = ps.filters.nphase_border(matrix*1.0 + inclusions*1.0, include_diagonals=False)\n",
    "bd2 = ps.filters.nphase_border(matrix*1.0 + inclusions*1.0, include_diagonals=True)\n",
    "\n",
    "fig, ax = plt.subplots(1, 2, figsize=[12, 6])\n",
    "ax[0].imshow(bd1, origin='lower', interpolation='none')\n",
    "ax[0].axis(False)\n",
    "ax[1].imshow(bd2, origin='lower', interpolation='none')\n",
    "ax[1].axis(False);"
   ]
  }
 ],
 "metadata": {
  "kernelspec": {
   "display_name": "Python 3 (ipykernel)",
   "language": "python",
   "name": "python3"
  },
  "language_info": {
   "codemirror_mode": {
    "name": "ipython",
    "version": 3
   },
   "file_extension": ".py",
   "mimetype": "text/x-python",
   "name": "python",
   "nbconvert_exporter": "python",
   "pygments_lexer": "ipython3",
   "version": "3.8.13"
  }
 },
 "nbformat": 4,
 "nbformat_minor": 4
}
