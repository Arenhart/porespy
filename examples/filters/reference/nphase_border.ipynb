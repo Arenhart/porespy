{
 "cells": [
  {
   "cell_type": "markdown",
   "metadata": {},
   "source": [
    "# `nphase_border`\n",
    "Computes the number of phases that border on each pixel."
   ]
  },
  {
   "cell_type": "code",
   "execution_count": 1,
   "metadata": {
    "execution": {
     "iopub.execute_input": "2022-06-22T19:28:41.452429Z",
     "iopub.status.busy": "2022-06-22T19:28:41.451973Z",
     "iopub.status.idle": "2022-06-22T19:28:43.396392Z",
     "shell.execute_reply": "2022-06-22T19:28:43.395643Z"
    }
   },
   "outputs": [],
   "source": [
    "import matplotlib.pyplot as plt\n",
    "import numpy as np\n",
    "import porespy as ps\n",
    "ps.visualization.set_mpl_style()"
   ]
  },
  {
   "cell_type": "markdown",
   "metadata": {},
   "source": [
    "The arguments and their defaults are:"
   ]
  },
  {
   "cell_type": "code",
   "execution_count": 2,
   "metadata": {
    "execution": {
     "iopub.execute_input": "2022-06-22T19:28:43.401268Z",
     "iopub.status.busy": "2022-06-22T19:28:43.400358Z",
     "iopub.status.idle": "2022-06-22T19:28:43.406379Z",
     "shell.execute_reply": "2022-06-22T19:28:43.405887Z"
    }
   },
   "outputs": [
    {
     "data": {
      "text/plain": [
       "<Signature (im, include_diagonals=False)>"
      ]
     },
     "execution_count": 2,
     "metadata": {},
     "output_type": "execute_result"
    }
   ],
   "source": [
    "import inspect\n",
    "inspect.signature(ps.filters.nphase_border)"
   ]
  },
  {
   "cell_type": "markdown",
   "metadata": {},
   "source": [
    "## `im`\n",
    "This function works on both 2D and 3D images.  If an im"
   ]
  },
  {
   "cell_type": "code",
   "execution_count": 3,
   "metadata": {
    "execution": {
     "iopub.execute_input": "2022-06-22T19:28:43.409805Z",
     "iopub.status.busy": "2022-06-22T19:28:43.409402Z",
     "iopub.status.idle": "2022-06-22T19:28:44.097809Z",
     "shell.execute_reply": "2022-06-22T19:28:44.097243Z"
    }
   },
   "outputs": [
    {
     "data": {
      "image/svg+xml": [
       "<?xml version=\"1.0\" encoding=\"utf-8\" standalone=\"no\"?>\n",
       "<!DOCTYPE svg PUBLIC \"-//W3C//DTD SVG 1.1//EN\"\n",
       "  \"http://www.w3.org/Graphics/SVG/1.1/DTD/svg11.dtd\">\n",
       "<svg xmlns:xlink=\"http://www.w3.org/1999/xlink\" width=\"851.4pt\" height=\"424.8pt\" viewBox=\"0 0 851.4 424.8\" xmlns=\"http://www.w3.org/2000/svg\" version=\"1.1\">\n",
       " <metadata>\n",
       "  <rdf:RDF xmlns:dc=\"http://purl.org/dc/elements/1.1/\" xmlns:cc=\"http://creativecommons.org/ns#\" xmlns:rdf=\"http://www.w3.org/1999/02/22-rdf-syntax-ns#\">\n",
       "   <cc:Work>\n",
       "    <dc:type rdf:resource=\"http://purl.org/dc/dcmitype/StillImage\"/>\n",
       "    <dc:date>2022-06-22T19:28:44.058223</dc:date>\n",
       "    <dc:format>image/svg+xml</dc:format>\n",
       "    <dc:creator>\n",
       "     <cc:Agent>\n",
       "      <dc:title>Matplotlib v3.5.2, https://matplotlib.org/</dc:title>\n",
       "     </cc:Agent>\n",
       "    </dc:creator>\n",
       "   </cc:Work>\n",
       "  </rdf:RDF>\n",
       " </metadata>\n",
       " <defs>\n",
       "  <style type=\"text/css\">*{stroke-linejoin: round; stroke-linecap: butt}</style>\n",
       " </defs>\n",
       " <g id=\"figure_1\">\n",
       "  <g id=\"patch_1\">\n",
       "   <path d=\"M 0 424.8 \n",
       "L 851.4 424.8 \n",
       "L 851.4 0 \n",
       "L 0 0 \n",
       "L 0 424.8 \n",
       "z\n",
       "\" style=\"fill: none\"/>\n",
       "  </g>\n",
       "  <g id=\"axes_1\">\n",
       "   <g clip-path=\"url(#pf3eb69f70c)\">\n",
       "    <image xlink:href=\"data:image/png;base64,\n",
       "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\" id=\"imagef9ddbd103a\" transform=\"matrix(2.055 0 0 -2.055 7.2 417.6)\" style=\"image-rendering:crisp-edges;image-rendering:pixelated\" width=\"200\" height=\"200\"/>\n",
       "   </g>\n",
       "  </g>\n",
       "  <g id=\"axes_2\">\n",
       "   <g clip-path=\"url(#pa66c28b2d4)\">\n",
       "    <image xlink:href=\"data:image/png;base64,\n",
       "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\" id=\"imagedaddef3ca9\" transform=\"matrix(2.055 0 0 -2.055 433.8 417.6)\" style=\"image-rendering:crisp-edges;image-rendering:pixelated\" width=\"200\" height=\"200\"/>\n",
       "   </g>\n",
       "  </g>\n",
       " </g>\n",
       " <defs>\n",
       "  <clipPath id=\"pf3eb69f70c\">\n",
       "   <rect x=\"7.2\" y=\"7.2\" width=\"410.4\" height=\"410.4\"/>\n",
       "  </clipPath>\n",
       "  <clipPath id=\"pa66c28b2d4\">\n",
       "   <rect x=\"433.8\" y=\"7.2\" width=\"410.4\" height=\"410.4\"/>\n",
       "  </clipPath>\n",
       " </defs>\n",
       "</svg>\n"
      ],
      "text/plain": [
       "<Figure size 864x432 with 2 Axes>"
      ]
     },
     "metadata": {
      "needs_background": "light"
     },
     "output_type": "display_data"
    }
   ],
   "source": [
    "matrix = ps.generators.blobs([200, 200])\n",
    "inclusions = ps.generators.rsa(~matrix, r=5, return_spheres=True, clearance=3)\n",
    "bd = ps.filters.nphase_border(matrix*1.0 + inclusions*1.0)\n",
    "\n",
    "fig, ax = plt.subplots(1, 2, figsize=[12, 6])\n",
    "ax[0].imshow(matrix*1.0 + inclusions*1.0, origin='lower', interpolation='none')\n",
    "ax[0].axis(False)\n",
    "ax[1].imshow(bd, origin='lower', interpolation='none')\n",
    "ax[1].axis(False);"
   ]
  },
  {
   "cell_type": "code",
   "execution_count": 4,
   "metadata": {
    "execution": {
     "iopub.execute_input": "2022-06-22T19:28:44.101230Z",
     "iopub.status.busy": "2022-06-22T19:28:44.100812Z",
     "iopub.status.idle": "2022-06-22T19:28:44.108174Z",
     "shell.execute_reply": "2022-06-22T19:28:44.107696Z"
    }
   },
   "outputs": [
    {
     "data": {
      "text/plain": [
       "array([1., 2., 3.])"
      ]
     },
     "execution_count": 4,
     "metadata": {},
     "output_type": "execute_result"
    }
   ],
   "source": [
    "np.unique(bd)"
   ]
  },
  {
   "cell_type": "markdown",
   "metadata": {},
   "source": [
    "The unique values in ``bd`` are 1, 2 and 3 indicating that some pixels border on 1 phase (internal pixels), 2 phases (edges) or 3 phases (corners where void, matrix and inclusion meet). Including diagonals results in a thicker border since more voxels are found that lie on an edge."
   ]
  },
  {
   "cell_type": "markdown",
   "metadata": {},
   "source": [
    "## `include_diagonals`\n",
    "Controls that neighbor of the search."
   ]
  },
  {
   "cell_type": "code",
   "execution_count": 5,
   "metadata": {
    "execution": {
     "iopub.execute_input": "2022-06-22T19:28:44.111509Z",
     "iopub.status.busy": "2022-06-22T19:28:44.111126Z",
     "iopub.status.idle": "2022-06-22T19:28:44.303122Z",
     "shell.execute_reply": "2022-06-22T19:28:44.302413Z"
    }
   },
   "outputs": [
    {
     "data": {
      "image/svg+xml": [
       "<?xml version=\"1.0\" encoding=\"utf-8\" standalone=\"no\"?>\n",
       "<!DOCTYPE svg PUBLIC \"-//W3C//DTD SVG 1.1//EN\"\n",
       "  \"http://www.w3.org/Graphics/SVG/1.1/DTD/svg11.dtd\">\n",
       "<svg xmlns:xlink=\"http://www.w3.org/1999/xlink\" width=\"851.4pt\" height=\"424.8pt\" viewBox=\"0 0 851.4 424.8\" xmlns=\"http://www.w3.org/2000/svg\" version=\"1.1\">\n",
       " <metadata>\n",
       "  <rdf:RDF xmlns:dc=\"http://purl.org/dc/elements/1.1/\" xmlns:cc=\"http://creativecommons.org/ns#\" xmlns:rdf=\"http://www.w3.org/1999/02/22-rdf-syntax-ns#\">\n",
       "   <cc:Work>\n",
       "    <dc:type rdf:resource=\"http://purl.org/dc/dcmitype/StillImage\"/>\n",
       "    <dc:date>2022-06-22T19:28:44.262186</dc:date>\n",
       "    <dc:format>image/svg+xml</dc:format>\n",
       "    <dc:creator>\n",
       "     <cc:Agent>\n",
       "      <dc:title>Matplotlib v3.5.2, https://matplotlib.org/</dc:title>\n",
       "     </cc:Agent>\n",
       "    </dc:creator>\n",
       "   </cc:Work>\n",
       "  </rdf:RDF>\n",
       " </metadata>\n",
       " <defs>\n",
       "  <style type=\"text/css\">*{stroke-linejoin: round; stroke-linecap: butt}</style>\n",
       " </defs>\n",
       " <g id=\"figure_1\">\n",
       "  <g id=\"patch_1\">\n",
       "   <path d=\"M 0 424.8 \n",
       "L 851.4 424.8 \n",
       "L 851.4 0 \n",
       "L 0 0 \n",
       "L 0 424.8 \n",
       "z\n",
       "\" style=\"fill: none\"/>\n",
       "  </g>\n",
       "  <g id=\"axes_1\">\n",
       "   <g clip-path=\"url(#pbfa7b24903)\">\n",
       "    <image xlink:href=\"data:image/png;base64,\n",
       "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\" id=\"imagec667bb8323\" transform=\"matrix(2.055 0 0 -2.055 7.2 417.6)\" style=\"image-rendering:crisp-edges;image-rendering:pixelated\" width=\"200\" height=\"200\"/>\n",
       "   </g>\n",
       "  </g>\n",
       "  <g id=\"axes_2\">\n",
       "   <g clip-path=\"url(#p47ec1b027e)\">\n",
       "    <image xlink:href=\"data:image/png;base64,\n",
       "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\" id=\"image82874c113d\" transform=\"matrix(2.055 0 0 -2.055 433.8 417.6)\" style=\"image-rendering:crisp-edges;image-rendering:pixelated\" width=\"200\" height=\"200\"/>\n",
       "   </g>\n",
       "  </g>\n",
       " </g>\n",
       " <defs>\n",
       "  <clipPath id=\"pbfa7b24903\">\n",
       "   <rect x=\"7.2\" y=\"7.2\" width=\"410.4\" height=\"410.4\"/>\n",
       "  </clipPath>\n",
       "  <clipPath id=\"p47ec1b027e\">\n",
       "   <rect x=\"433.8\" y=\"7.2\" width=\"410.4\" height=\"410.4\"/>\n",
       "  </clipPath>\n",
       " </defs>\n",
       "</svg>\n"
      ],
      "text/plain": [
       "<Figure size 864x432 with 2 Axes>"
      ]
     },
     "metadata": {
      "needs_background": "light"
     },
     "output_type": "display_data"
    }
   ],
   "source": [
    "bd1 = ps.filters.nphase_border(matrix*1.0 + inclusions*1.0, include_diagonals=False)\n",
    "bd2 = ps.filters.nphase_border(matrix*1.0 + inclusions*1.0, include_diagonals=True)\n",
    "\n",
    "fig, ax = plt.subplots(1, 2, figsize=[12, 6])\n",
    "ax[0].imshow(bd1, origin='lower', interpolation='none')\n",
    "ax[0].axis(False)\n",
    "ax[1].imshow(bd2, origin='lower', interpolation='none')\n",
    "ax[1].axis(False);"
   ]
  }
 ],
 "metadata": {
  "kernelspec": {
   "display_name": "Python 3 (ipykernel)",
   "language": "python",
   "name": "python3"
  },
  "language_info": {
   "codemirror_mode": {
    "name": "ipython",
    "version": 3
   },
   "file_extension": ".py",
   "mimetype": "text/x-python",
   "name": "python",
   "nbconvert_exporter": "python",
   "pygments_lexer": "ipython3",
   "version": "3.8.13"
  }
 },
 "nbformat": 4,
 "nbformat_minor": 4
}
