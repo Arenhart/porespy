{
 "cells": [
  {
   "cell_type": "markdown",
   "metadata": {},
   "source": [
    "# `nphase_border`\n",
    "Computes the number of phases that border on each pixel."
   ]
  },
  {
   "cell_type": "code",
   "execution_count": 1,
   "metadata": {
    "execution": {
     "iopub.execute_input": "2022-05-25T19:21:07.625025Z",
     "iopub.status.busy": "2022-05-25T19:21:07.622968Z",
     "iopub.status.idle": "2022-05-25T19:21:10.039177Z",
     "shell.execute_reply": "2022-05-25T19:21:10.038089Z"
    }
   },
   "outputs": [],
   "source": [
    "import matplotlib.pyplot as plt\n",
    "import numpy as np\n",
    "import porespy as ps\n",
    "ps.visualization.set_mpl_style()"
   ]
  },
  {
   "cell_type": "markdown",
   "metadata": {},
   "source": [
    "The arguments and their defaults are:"
   ]
  },
  {
   "cell_type": "code",
   "execution_count": 2,
   "metadata": {
    "execution": {
     "iopub.execute_input": "2022-05-25T19:21:10.045432Z",
     "iopub.status.busy": "2022-05-25T19:21:10.043229Z",
     "iopub.status.idle": "2022-05-25T19:21:10.053865Z",
     "shell.execute_reply": "2022-05-25T19:21:10.052672Z"
    }
   },
   "outputs": [
    {
     "data": {
      "text/plain": [
       "<Signature (im, include_diagonals=False)>"
      ]
     },
     "execution_count": 2,
     "metadata": {},
     "output_type": "execute_result"
    }
   ],
   "source": [
    "import inspect\n",
    "inspect.signature(ps.filters.nphase_border)"
   ]
  },
  {
   "cell_type": "markdown",
   "metadata": {},
   "source": [
    "## `im`\n",
    "This function works on both 2D and 3D images.  If an im"
   ]
  },
  {
   "cell_type": "code",
   "execution_count": 3,
   "metadata": {
    "execution": {
     "iopub.execute_input": "2022-05-25T19:21:10.059169Z",
     "iopub.status.busy": "2022-05-25T19:21:10.058007Z",
     "iopub.status.idle": "2022-05-25T19:21:10.810294Z",
     "shell.execute_reply": "2022-05-25T19:21:10.809539Z"
    }
   },
   "outputs": [
    {
     "data": {
      "image/svg+xml": [
       "<?xml version=\"1.0\" encoding=\"utf-8\" standalone=\"no\"?>\n",
       "<!DOCTYPE svg PUBLIC \"-//W3C//DTD SVG 1.1//EN\"\n",
       "  \"http://www.w3.org/Graphics/SVG/1.1/DTD/svg11.dtd\">\n",
       "<svg xmlns:xlink=\"http://www.w3.org/1999/xlink\" width=\"851.4pt\" height=\"424.8pt\" viewBox=\"0 0 851.4 424.8\" xmlns=\"http://www.w3.org/2000/svg\" version=\"1.1\">\n",
       " <metadata>\n",
       "  <rdf:RDF xmlns:dc=\"http://purl.org/dc/elements/1.1/\" xmlns:cc=\"http://creativecommons.org/ns#\" xmlns:rdf=\"http://www.w3.org/1999/02/22-rdf-syntax-ns#\">\n",
       "   <cc:Work>\n",
       "    <dc:type rdf:resource=\"http://purl.org/dc/dcmitype/StillImage\"/>\n",
       "    <dc:date>2022-05-25T19:21:10.788099</dc:date>\n",
       "    <dc:format>image/svg+xml</dc:format>\n",
       "    <dc:creator>\n",
       "     <cc:Agent>\n",
       "      <dc:title>Matplotlib v3.5.2, https://matplotlib.org/</dc:title>\n",
       "     </cc:Agent>\n",
       "    </dc:creator>\n",
       "   </cc:Work>\n",
       "  </rdf:RDF>\n",
       " </metadata>\n",
       " <defs>\n",
       "  <style type=\"text/css\">*{stroke-linejoin: round; stroke-linecap: butt}</style>\n",
       " </defs>\n",
       " <g id=\"figure_1\">\n",
       "  <g id=\"patch_1\">\n",
       "   <path d=\"M 0 424.8 \n",
       "L 851.4 424.8 \n",
       "L 851.4 0 \n",
       "L 0 0 \n",
       "L 0 424.8 \n",
       "z\n",
       "\" style=\"fill: none\"/>\n",
       "  </g>\n",
       "  <g id=\"axes_1\">\n",
       "   <g clip-path=\"url(#p67570e7b6a)\">\n",
       "    <image xlink:href=\"data:image/png;base64,\n",
       "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\" id=\"imagee170351e92\" transform=\"matrix(2.055 0 0 -2.055 7.2 417.6)\" style=\"image-rendering:crisp-edges;image-rendering:pixelated\" width=\"200\" height=\"200\"/>\n",
       "   </g>\n",
       "  </g>\n",
       "  <g id=\"axes_2\">\n",
       "   <g clip-path=\"url(#p2e0efbc729)\">\n",
       "    <image xlink:href=\"data:image/png;base64,\n",
       "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\" id=\"imageffcb3ea814\" transform=\"matrix(2.055 0 0 -2.055 433.8 417.6)\" style=\"image-rendering:crisp-edges;image-rendering:pixelated\" width=\"200\" height=\"200\"/>\n",
       "   </g>\n",
       "  </g>\n",
       " </g>\n",
       " <defs>\n",
       "  <clipPath id=\"p67570e7b6a\">\n",
       "   <rect x=\"7.2\" y=\"7.2\" width=\"410.4\" height=\"410.4\"/>\n",
       "  </clipPath>\n",
       "  <clipPath id=\"p2e0efbc729\">\n",
       "   <rect x=\"433.8\" y=\"7.2\" width=\"410.4\" height=\"410.4\"/>\n",
       "  </clipPath>\n",
       " </defs>\n",
       "</svg>\n"
      ],
      "text/plain": [
       "<Figure size 864x432 with 2 Axes>"
      ]
     },
     "metadata": {
      "needs_background": "light"
     },
     "output_type": "display_data"
    }
   ],
   "source": [
    "matrix = ps.generators.blobs([200, 200])\n",
    "inclusions = ps.generators.rsa(~matrix, r=5, return_spheres=True, clearance=3)\n",
    "bd = ps.filters.nphase_border(matrix*1.0 + inclusions*1.0)\n",
    "\n",
    "fig, ax = plt.subplots(1, 2, figsize=[12, 6])\n",
    "ax[0].imshow(matrix*1.0 + inclusions*1.0, origin='lower', interpolation='none')\n",
    "ax[0].axis(False)\n",
    "ax[1].imshow(bd, origin='lower', interpolation='none')\n",
    "ax[1].axis(False);"
   ]
  },
  {
   "cell_type": "code",
   "execution_count": 4,
   "metadata": {
    "execution": {
     "iopub.execute_input": "2022-05-25T19:21:10.815106Z",
     "iopub.status.busy": "2022-05-25T19:21:10.814066Z",
     "iopub.status.idle": "2022-05-25T19:21:10.831711Z",
     "shell.execute_reply": "2022-05-25T19:21:10.831002Z"
    }
   },
   "outputs": [
    {
     "data": {
      "text/plain": [
       "array([1., 2., 3.])"
      ]
     },
     "execution_count": 4,
     "metadata": {},
     "output_type": "execute_result"
    }
   ],
   "source": [
    "np.unique(bd)"
   ]
  },
  {
   "cell_type": "markdown",
   "metadata": {},
   "source": [
    "The unique values in ``bd`` are 1, 2 and 3 indicating that some pixels border on 1 phase (internal pixels), 2 phases (edges) or 3 phases (corners where void, matrix and inclusion meet). Including diagonals results in a thicker border since more voxels are found that lie on an edge."
   ]
  },
  {
   "cell_type": "markdown",
   "metadata": {},
   "source": [
    "## `include_diagonals`\n",
    "Controls that neighbor of the search."
   ]
  },
  {
   "cell_type": "code",
   "execution_count": 5,
   "metadata": {
    "execution": {
     "iopub.execute_input": "2022-05-25T19:21:10.835133Z",
     "iopub.status.busy": "2022-05-25T19:21:10.834808Z",
     "iopub.status.idle": "2022-05-25T19:21:11.063925Z",
     "shell.execute_reply": "2022-05-25T19:21:11.062928Z"
    }
   },
   "outputs": [
    {
     "data": {
      "image/svg+xml": [
       "<?xml version=\"1.0\" encoding=\"utf-8\" standalone=\"no\"?>\n",
       "<!DOCTYPE svg PUBLIC \"-//W3C//DTD SVG 1.1//EN\"\n",
       "  \"http://www.w3.org/Graphics/SVG/1.1/DTD/svg11.dtd\">\n",
       "<svg xmlns:xlink=\"http://www.w3.org/1999/xlink\" width=\"851.4pt\" height=\"424.8pt\" viewBox=\"0 0 851.4 424.8\" xmlns=\"http://www.w3.org/2000/svg\" version=\"1.1\">\n",
       " <metadata>\n",
       "  <rdf:RDF xmlns:dc=\"http://purl.org/dc/elements/1.1/\" xmlns:cc=\"http://creativecommons.org/ns#\" xmlns:rdf=\"http://www.w3.org/1999/02/22-rdf-syntax-ns#\">\n",
       "   <cc:Work>\n",
       "    <dc:type rdf:resource=\"http://purl.org/dc/dcmitype/StillImage\"/>\n",
       "    <dc:date>2022-05-25T19:21:11.037818</dc:date>\n",
       "    <dc:format>image/svg+xml</dc:format>\n",
       "    <dc:creator>\n",
       "     <cc:Agent>\n",
       "      <dc:title>Matplotlib v3.5.2, https://matplotlib.org/</dc:title>\n",
       "     </cc:Agent>\n",
       "    </dc:creator>\n",
       "   </cc:Work>\n",
       "  </rdf:RDF>\n",
       " </metadata>\n",
       " <defs>\n",
       "  <style type=\"text/css\">*{stroke-linejoin: round; stroke-linecap: butt}</style>\n",
       " </defs>\n",
       " <g id=\"figure_1\">\n",
       "  <g id=\"patch_1\">\n",
       "   <path d=\"M 0 424.8 \n",
       "L 851.4 424.8 \n",
       "L 851.4 0 \n",
       "L 0 0 \n",
       "L 0 424.8 \n",
       "z\n",
       "\" style=\"fill: none\"/>\n",
       "  </g>\n",
       "  <g id=\"axes_1\">\n",
       "   <g clip-path=\"url(#p85b4e7a0cc)\">\n",
       "    <image xlink:href=\"data:image/png;base64,\n",
       "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\" id=\"imagecfb5d3b316\" transform=\"matrix(2.055 0 0 -2.055 7.2 417.6)\" style=\"image-rendering:crisp-edges;image-rendering:pixelated\" width=\"200\" height=\"200\"/>\n",
       "   </g>\n",
       "  </g>\n",
       "  <g id=\"axes_2\">\n",
       "   <g clip-path=\"url(#p43f2fd4e87)\">\n",
       "    <image xlink:href=\"data:image/png;base64,\n",
       "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\" id=\"imagef854f70555\" transform=\"matrix(2.055 0 0 -2.055 433.8 417.6)\" style=\"image-rendering:crisp-edges;image-rendering:pixelated\" width=\"200\" height=\"200\"/>\n",
       "   </g>\n",
       "  </g>\n",
       " </g>\n",
       " <defs>\n",
       "  <clipPath id=\"p85b4e7a0cc\">\n",
       "   <rect x=\"7.2\" y=\"7.2\" width=\"410.4\" height=\"410.4\"/>\n",
       "  </clipPath>\n",
       "  <clipPath id=\"p43f2fd4e87\">\n",
       "   <rect x=\"433.8\" y=\"7.2\" width=\"410.4\" height=\"410.4\"/>\n",
       "  </clipPath>\n",
       " </defs>\n",
       "</svg>\n"
      ],
      "text/plain": [
       "<Figure size 864x432 with 2 Axes>"
      ]
     },
     "metadata": {
      "needs_background": "light"
     },
     "output_type": "display_data"
    }
   ],
   "source": [
    "bd1 = ps.filters.nphase_border(matrix*1.0 + inclusions*1.0, include_diagonals=False)\n",
    "bd2 = ps.filters.nphase_border(matrix*1.0 + inclusions*1.0, include_diagonals=True)\n",
    "\n",
    "fig, ax = plt.subplots(1, 2, figsize=[12, 6])\n",
    "ax[0].imshow(bd1, origin='lower', interpolation='none')\n",
    "ax[0].axis(False)\n",
    "ax[1].imshow(bd2, origin='lower', interpolation='none')\n",
    "ax[1].axis(False);"
   ]
  }
 ],
 "metadata": {
  "kernelspec": {
   "display_name": "Python 3 (ipykernel)",
   "language": "python",
   "name": "python3"
  },
  "language_info": {
   "codemirror_mode": {
    "name": "ipython",
    "version": 3
   },
   "file_extension": ".py",
   "mimetype": "text/x-python",
   "name": "python",
   "nbconvert_exporter": "python",
   "pygments_lexer": "ipython3",
   "version": "3.8.13"
  }
 },
 "nbformat": 4,
 "nbformat_minor": 4
}
