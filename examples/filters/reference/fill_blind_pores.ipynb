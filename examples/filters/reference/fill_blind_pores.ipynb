{
 "cells": [
  {
   "cell_type": "markdown",
   "metadata": {},
   "source": [
    "# `fill_blind_pores`\n",
    "Remove any isolated void space (not connected to the boundary) from the image which is often needed such as for network extraction or direct numerical simulations"
   ]
  },
  {
   "cell_type": "code",
   "execution_count": 1,
   "metadata": {
    "execution": {
     "iopub.execute_input": "2022-04-20T14:14:26.463348Z",
     "iopub.status.busy": "2022-04-20T14:14:26.463133Z",
     "iopub.status.idle": "2022-04-20T14:14:28.694506Z",
     "shell.execute_reply": "2022-04-20T14:14:28.693836Z"
    }
   },
   "outputs": [],
   "source": [
    "import numpy as np\n",
    "import porespy as ps\n",
    "import scipy.ndimage as spim\n",
    "import matplotlib.pyplot as plt"
   ]
  },
  {
   "cell_type": "code",
   "execution_count": 2,
   "metadata": {
    "execution": {
     "iopub.execute_input": "2022-04-20T14:14:28.698025Z",
     "iopub.status.busy": "2022-04-20T14:14:28.697769Z",
     "iopub.status.idle": "2022-04-20T14:14:28.703292Z",
     "shell.execute_reply": "2022-04-20T14:14:28.702884Z"
    }
   },
   "outputs": [
    {
     "name": "stdout",
     "output_type": "stream",
     "text": [
      "(im, conn=None, surface=False)\n"
     ]
    }
   ],
   "source": [
    "import inspect\n",
    "print(inspect.signature(ps.filters.fill_blind_pores))"
   ]
  },
  {
   "cell_type": "markdown",
   "metadata": {},
   "source": [
    "## `im`\n",
    "The void phase is indicated by ``True`` values.  Blind pores are considered as any cluster of void voxels not connected to the boundary of the image."
   ]
  },
  {
   "cell_type": "code",
   "execution_count": 3,
   "metadata": {
    "execution": {
     "iopub.execute_input": "2022-04-20T14:14:28.706859Z",
     "iopub.status.busy": "2022-04-20T14:14:28.705985Z",
     "iopub.status.idle": "2022-04-20T14:14:28.860314Z",
     "shell.execute_reply": "2022-04-20T14:14:28.859848Z"
    }
   },
   "outputs": [
    {
     "data": {
      "image/png": "[encoded data removed]",
      "text/plain": [
       "<Figure size 864x432 with 2 Axes>"
      ]
     },
     "metadata": {
      "needs_background": "light"
     },
     "output_type": "display_data"
    }
   ],
   "source": [
    "np.random.seed(2)\n",
    "im = ps.generators.blobs([100, 100], porosity=0.5)\n",
    "im1 = ps.filters.fill_blind_pores(im)\n",
    "\n",
    "fig, ax = plt.subplots(1, 2, figsize=[12, 6])\n",
    "ax[0].imshow(im, origin='lower', interpolation='none')\n",
    "ax[0].axis(False)\n",
    "ax[1].imshow(im1, origin='lower', interpolation='none')\n",
    "ax[1].axis(False);"
   ]
  },
  {
   "cell_type": "markdown",
   "metadata": {},
   "source": [
    "## `conn`\n",
    "Controls how 'connected' a group of voxels must be.  In 2D the options are 4 and 8, while in 3D they are 6 and 26."
   ]
  },
  {
   "cell_type": "code",
   "execution_count": 4,
   "metadata": {
    "execution": {
     "iopub.execute_input": "2022-04-20T14:14:28.864411Z",
     "iopub.status.busy": "2022-04-20T14:14:28.863523Z",
     "iopub.status.idle": "2022-04-20T14:14:29.008820Z",
     "shell.execute_reply": "2022-04-20T14:14:29.008390Z"
    }
   },
   "outputs": [
    {
     "data": {
      "image/png": "[encoded data removed]",
      "text/plain": [
       "<Figure size 864x432 with 2 Axes>"
      ]
     },
     "metadata": {
      "needs_background": "light"
     },
     "output_type": "display_data"
    }
   ],
   "source": [
    "im1 = ps.filters.fill_blind_pores(im=im, conn=4)\n",
    "im2 = ps.filters.fill_blind_pores(im=im, conn=8)\n",
    "\n",
    "fig, ax = plt.subplots(1, 2, figsize=[12, 6]);\n",
    "ax[0].imshow(im1, origin='lower', interpolation='none')\n",
    "ax[0].axis(False)\n",
    "ax[0].set_title('conn = 4')\n",
    "ax[1].imshow(im2, origin='lower', interpolation='none')\n",
    "ax[1].axis(False)\n",
    "ax[1].set_title('conn = 8');"
   ]
  },
  {
   "cell_type": "markdown",
   "metadata": {},
   "source": [
    "## `surface`\n",
    "This flag, then ``True`` also removes any void voxels that are on the surface but not connected to the main body of the void space.  This option can produce mis-leading results since it basically just keeps the largest cluster.  For better control it is recommended to use the ``trim_nonpercolation_paths`` function."
   ]
  },
  {
   "cell_type": "code",
   "execution_count": 5,
   "metadata": {
    "execution": {
     "iopub.execute_input": "2022-04-20T14:14:29.012753Z",
     "iopub.status.busy": "2022-04-20T14:14:29.011863Z",
     "iopub.status.idle": "2022-04-20T14:14:29.128506Z",
     "shell.execute_reply": "2022-04-20T14:14:29.128079Z"
    }
   },
   "outputs": [
    {
     "data": {
      "image/png": "[encoded data removed]",
      "text/plain": [
       "<Figure size 864x432 with 2 Axes>"
      ]
     },
     "metadata": {
      "needs_background": "light"
     },
     "output_type": "display_data"
    }
   ],
   "source": [
    "np.random.seed(0)\n",
    "im = ps.generators.blobs([100, 100], porosity=0.5)\n",
    "im1 = ps.filters.fill_blind_pores(im=im, surface=False)\n",
    "im2 = ps.filters.fill_blind_pores(im=im, surface=True)\n",
    "\n",
    "fig, ax = plt.subplots(1, 2, figsize=[12, 6]);\n",
    "ax[0].imshow(im1, origin='lower', interpolation='none')\n",
    "ax[0].axis(False)\n",
    "ax[0].set_title('Keep surface pores')\n",
    "ax[1].imshow(im2, origin='lower', interpolation='none')\n",
    "ax[1].axis(False)\n",
    "ax[1].set_title('Remove surface pores');"
   ]
  }
 ],
 "metadata": {
  "kernelspec": {
   "display_name": "Python 3 (ipykernel)",
   "language": "python",
   "name": "python3"
  },
  "language_info": {
   "codemirror_mode": {
    "name": "ipython",
    "version": 3
   },
   "file_extension": ".py",
   "mimetype": "text/x-python",
   "name": "python",
   "nbconvert_exporter": "python",
   "pygments_lexer": "ipython3",
   "version": "3.8.13"
  }
 },
 "nbformat": 4,
 "nbformat_minor": 4
}
