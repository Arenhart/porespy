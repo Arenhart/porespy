{
 "cells": [
  {
   "cell_type": "markdown",
   "metadata": {},
   "source": [
    "# reduce_peaks"
   ]
  },
  {
   "cell_type": "markdown",
   "metadata": {},
   "source": [
    "## Import packages"
   ]
  },
  {
   "cell_type": "code",
   "execution_count": 3,
   "metadata": {},
   "outputs": [],
   "source": [
    "import numpy as np\n",
    "import porespy as ps\n",
    "import scipy.ndimage as spim\n",
    "import matplotlib.pyplot as plt\n",
    "import skimage\n",
    "from edt import edt\n",
    "\n",
    "np.random.seed(0)\n",
    "ps.visualization.set_mpl_style()"
   ]
  },
  {
   "cell_type": "markdown",
   "metadata": {},
   "source": [
    "## Generate image for testing"
   ]
  },
  {
   "cell_type": "code",
   "execution_count": 4,
   "metadata": {},
   "outputs": [
    {
     "data": {
      "image/svg+xml": [
       "<?xml version=\"1.0\" encoding=\"utf-8\" standalone=\"no\"?>\r\n",
       "<!DOCTYPE svg PUBLIC \"-//W3C//DTD SVG 1.1//EN\"\r\n",
       "  \"http://www.w3.org/Graphics/SVG/1.1/DTD/svg11.dtd\">\r\n",
       "<!-- Created with matplotlib (https://matplotlib.org/) -->\r\n",
       "<svg height=\"276.48pt\" version=\"1.1\" viewBox=\"0 0 276.48 276.48\" width=\"276.48pt\" xmlns=\"http://www.w3.org/2000/svg\" xmlns:xlink=\"http://www.w3.org/1999/xlink\">\r\n",
       " <metadata>\r\n",
       "  <rdf:RDF xmlns:cc=\"http://creativecommons.org/ns#\" xmlns:dc=\"http://purl.org/dc/elements/1.1/\" xmlns:rdf=\"http://www.w3.org/1999/02/22-rdf-syntax-ns#\">\r\n",
       "   <cc:Work>\r\n",
       "    <dc:type rdf:resource=\"http://purl.org/dc/dcmitype/StillImage\"/>\r\n",
       "    <dc:date>2021-04-24T16:52:30.718997</dc:date>\r\n",
       "    <dc:format>image/svg+xml</dc:format>\r\n",
       "    <dc:creator>\r\n",
       "     <cc:Agent>\r\n",
       "      <dc:title>Matplotlib v3.3.2, https://matplotlib.org/</dc:title>\r\n",
       "     </cc:Agent>\r\n",
       "    </dc:creator>\r\n",
       "   </cc:Work>\r\n",
       "  </rdf:RDF>\r\n",
       " </metadata>\r\n",
       " <defs>\r\n",
       "  <style type=\"text/css\">*{stroke-linecap:butt;stroke-linejoin:round;}</style>\r\n",
       " </defs>\r\n",
       " <g id=\"figure_1\">\r\n",
       "  <g id=\"patch_1\">\r\n",
       "   <path d=\"M 0 276.48 \r\n",
       "L 276.48 276.48 \r\n",
       "L 276.48 0 \r\n",
       "L 0 0 \r\n",
       "z\r\n",
       "\" style=\"fill:none;\"/>\r\n",
       "  </g>\r\n",
       "  <g id=\"axes_1\">\r\n",
       "   <g clip-path=\"url(#pd56fcc4436)\">\r\n",
       "    <image height=\"200\" id=\"image844040bddf\" style=\"image-rendering:crisp-edges;image-rendering:pixelated\" transform=\"matrix(1.315 0 0 1.315 7.2 6.28)\" width=\"200\" xlink:href=\"data:image/png;base64,\r\n",
       "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\"/>\r\n",
       "   </g>\r\n",
       "  </g>\r\n",
       " </g>\r\n",
       " <defs>\r\n",
       "  <clipPath id=\"pd56fcc4436\">\r\n",
       "   <rect height=\"262.08\" width=\"262.08\" x=\"7.2\" y=\"7.2\"/>\r\n",
       "  </clipPath>\r\n",
       " </defs>\r\n",
       "</svg>\r\n"
      ],
      "text/plain": [
       "<Figure size 288x288 with 1 Axes>"
      ]
     },
     "metadata": {
      "needs_background": "light"
     },
     "output_type": "display_data"
    }
   ],
   "source": [
    "im = ps.generators.blobs(shape=[200, 200])\n",
    "dt = edt(im)\n",
    "peaks = ps.filters.find_peaks(dt, r_max=4)\n",
    "\n",
    "plt.figure(figsize=[4, 4])\n",
    "plt.axis(False)\n",
    "plt.imshow(peaks/im);"
   ]
  },
  {
   "cell_type": "markdown",
   "metadata": {},
   "source": [
    "## Apply filter function"
   ]
  },
  {
   "cell_type": "code",
   "execution_count": 5,
   "metadata": {},
   "outputs": [
    {
     "data": {
      "image/svg+xml": [
       "<?xml version=\"1.0\" encoding=\"utf-8\" standalone=\"no\"?>\r\n",
       "<!DOCTYPE svg PUBLIC \"-//W3C//DTD SVG 1.1//EN\"\r\n",
       "  \"http://www.w3.org/Graphics/SVG/1.1/DTD/svg11.dtd\">\r\n",
       "<!-- Created with matplotlib (https://matplotlib.org/) -->\r\n",
       "<svg height=\"276.48pt\" version=\"1.1\" viewBox=\"0 0 276.48 276.48\" width=\"276.48pt\" xmlns=\"http://www.w3.org/2000/svg\" xmlns:xlink=\"http://www.w3.org/1999/xlink\">\r\n",
       " <metadata>\r\n",
       "  <rdf:RDF xmlns:cc=\"http://creativecommons.org/ns#\" xmlns:dc=\"http://purl.org/dc/elements/1.1/\" xmlns:rdf=\"http://www.w3.org/1999/02/22-rdf-syntax-ns#\">\r\n",
       "   <cc:Work>\r\n",
       "    <dc:type rdf:resource=\"http://purl.org/dc/dcmitype/StillImage\"/>\r\n",
       "    <dc:date>2021-04-24T16:52:46.902096</dc:date>\r\n",
       "    <dc:format>image/svg+xml</dc:format>\r\n",
       "    <dc:creator>\r\n",
       "     <cc:Agent>\r\n",
       "      <dc:title>Matplotlib v3.3.2, https://matplotlib.org/</dc:title>\r\n",
       "     </cc:Agent>\r\n",
       "    </dc:creator>\r\n",
       "   </cc:Work>\r\n",
       "  </rdf:RDF>\r\n",
       " </metadata>\r\n",
       " <defs>\r\n",
       "  <style type=\"text/css\">*{stroke-linecap:butt;stroke-linejoin:round;}</style>\r\n",
       " </defs>\r\n",
       " <g id=\"figure_1\">\r\n",
       "  <g id=\"patch_1\">\r\n",
       "   <path d=\"M 0 276.48 \r\n",
       "L 276.48 276.48 \r\n",
       "L 276.48 0 \r\n",
       "L 0 0 \r\n",
       "z\r\n",
       "\" style=\"fill:none;\"/>\r\n",
       "  </g>\r\n",
       "  <g id=\"axes_1\">\r\n",
       "   <g clip-path=\"url(#pe24f2a7c96)\">\r\n",
       "    <image height=\"200\" id=\"image566f2302ee\" style=\"image-rendering:crisp-edges;image-rendering:pixelated\" transform=\"matrix(1.315 0 0 1.315 7.2 6.28)\" width=\"200\" xlink:href=\"data:image/png;base64,\r\n",
       "iVBORw0KGgoAAAANSUhEUgAAAMgAAADICAYAAACtWK6eAAAO5ElEQVR4nO2d240eOQ6F1Y2OYp83gA3CwCbgMJ2AAQfhKDxRLHofjLKrq1USSfFyqOIHDDCA+1dJFI/uol6+vHx9bwS+//rZ/vuv/wz/5sf7txdKWq21Rv2uJO3RN+7KIUm/961z+uc0R+Wl2Jbyt5b2H7Fquwhm5T/s/EpNkFqBq3z/9VMtrV7FWZejJ467vEjypJV/TafWFJsXs/IfdiYLxAsvIZ7RbgHv0svY0u4MpT7ePDLS48f7txePlucwwt23tJyWmo5XuQsa13q71o16ZVmNg3drfS1EwrVRZN1n4Y06kSx0oTpT1UksH+YgO7YA2fnx/u0lS73sKOZPk3St5U4KWSoeAYpQEBzUIw9fXr6+e5W1u4pVjouLVt1YOphV2ldheAgFbpm3mDMSCUIv0ppuPmZCsCxzCWRDZs7kJaLVb3F+b1WmsH2QwhaUnqS1v3mxXrnjfodCCSQpGTccPXuu0b9zBNQdYq0WxMIQ2ZyhwIUzdKs5SDFF8wApEhSRfBCI5wTu+J7l3xc6RBwg9WLmU6+HKLI4X5Z8WlN20GNkS9OJntd6/RM3Nksg+vT8aIs5SKYeUIMnldWTnh+ZLxX2VGn1zR16krNtZncVngrnivIqbmvpXsfqM4tE2y6ejrQrbhuF1fqNsbBPiWMd2DnIrmvvRS5gBSJt/aqnKjSBFUhRIJBKIDXsKrxJJRDqsKuGWYUW2x53//Ly9T3zkq8HHicdsi81p+pBuFRPcs+s8dCKppJZHK0FR1Y8/t86gED1JM+CUt9Unwu5lXZXgF132BF7sqhI8CtY1uFdGV0Foqlsq+9rguJYPbIJJKqBc5mDcMazEa2ExXe8vvWEpe/I3t9cIJLCWYskY9C0O+rEgS2vVi3Q6iqIdauh7SBPu5PiRfQCy6vFMpz3mxtStBy6hLEvW++DUPCK/DcjuqUcgZw3a9QF4vWcWTQID+B4EpW36N55ux5EMqfiVIK016DkK9oZZiAL2ArVfZCsS7RPfO3J8x2YFaJFmaYHiTbUTuLQILo+vFATSFaDaec7w8ZdllVGBNL0IK3lWADIfnoVCQQBqpzmRSgIF808Z7rzYNHIZB9+jvK/7YWpEdpO4i0OqSAzNmRW1PMHG4MmDou0UVZElwXi2SppdOVRrWjke+fVc8hJ04NkHedehbGrs2YpF9eP0ggkEqk475wmizMViwKpii4yIWnoxALJNveQpqXdexS5YAskcrKZiaxzpl2R1gdpH2Q3QVBDAZWT09nVVikcP+JFKso3KRt2CK9EZbmZeaCd35X8PXInfQbVoJQNu4wt6yzPXkH/NFjN36N7kINMFS4hUwwszd5DoywpBNJafMVlJsuFMMR81hALCK935SPS1yAij7WTDoJVtPVarVujepAbPN9353Dki5KXnZbno2xfAukwO0OFLJSdRHEQZe/vv37+jWqCblhvI83sgb72z2VWHs9bkwh7Rwd/ehDkh2YQWmwJVKdCtfsZz1uTSPX9YZKOlLEDxDy1RnPqLPfUW9ONdHL+TyPNSD6tYqE4ZEVL92fVoXu/zy6S7jJvtGNGf98zD9kd6GCXclyBWsVCEEZRnLndKPR2VkRxeJ4By8wu5egx7EGoDrJiIERhUFjN985OdcZjOdzSh1SGWNK9lAzisFj+1rCThcAk9YEgdMsNXNWzWNx3NjS/3UMrkPQ1ryv31LlHz+++hdC4UMpCLS+lrijn1Sjf4qB+WJFScV6Vi7IPYbUnEBnMQhututK2s8lpXvSWT8I531SHXxGGp52yDK085sRXTJd5z3OTrMIYgTD+Rj4idBBR/1rfdLkPsoM4EJzwbpy++lIv51utyWyBYD8JL//759/vKGN1ZLwr2CtQN/c71m8bSiLFSL5FjUPwWuLYl4zn2awjxfTmhaO5Yl25BUU7ugfK0xFa5ZqVR7J31Pt3lkAyPFBpBXX5+vrfyjeRAqh5DjGpfmaxUno9qu+2uoB0XTUC67H7Sj44geK0sDqCQp13UHEZYj3hAZkZGr2Jhu24Q48s9WU13zIXyI6XaCKx2pW/Di1QbgRqDutd3wehsEPLhMrIfqtO5VE31G9Er7LWKtaGjJzqSQ2TRu9jJpAnVQSFssdnrG3SayggHvEsZ/gLylgeFc1oKhrpXDG5nRUVpRspXKiXKDjlQxaq1h6NdkjWTz2IRegXS2YxmCKcAtkRUZHarHdsRCdHv4GKasLBygk9Q2x64ilaabxgrSPqmsfrVYckXnfSke++I14kQhnuWdTbLM3V4N6pBIJ+Oy96aOUV3IHz/StWEXCsyplmiBXtfDMQ8oeQhxkrNyBH562sblaygldHb/ujksExIxjdgLSof9OzWJTEtSav3rfYLEHOWzQzf7EQinZ6rkdNom64WTlxieMj6HNECa+t+WQQ2QgSShy6SP3D+hJfRTUpVLFapbrDes/qtTXbu8Yo4qgW34/Z+bNMV7f/9CArDoQujiKGO78YtfpoPvNhiMU9eep1UtXyPrYUtIpEJXvP3Z2DUMKjcLf4dyRj3KkIuI3uyt9oC9JM3R5H2SVYOXT2ltIDi6Mo16DiknyNMKlUdCe0bPVLKHPu7I9ou1QCaa1EUviSLmhDhnE/ev4KOiEvTCF8x7qVL5HsAWwP4rFSViIpZsAKhEqJpLAEJnr4FW6wa5Tg0HfUxF2X1au01zTufu8ukNWgCHe/twrsrEmJZA3NO+/UpWbYHoSLp0BWRI4ukuh77T0sYn9RxTacg3AytsNY2yOgMrKdLB6kWU2D+zvqQ0eUv/ny8vWdHNUE+exV1kOI0lPQFi26RYidlfQsF1/Oac9GA+QAW5RK2eE6LXILfyaqUbAI73pN0zr8LcfnUy/zWrSk0eNtKlrDnl46nDcCtYdfWg3Uany3ww9U42Jphny8S98q7YMsPUhrslhQK9FruEGiOSDYvWdL9R6kIoj4QnWs1dbeOki0J+ceYhb8nNTiR4dzQQufiYjF3OAuXc30rVn1HdPQo9zd8LvfF3MsnLXs7/gMtOS+u2WeijGrV1934W22DqxtBHSjzhYarBciCizednwsZpXr0HA0Qd1RLOiNmCfDIVZWQ2kuDmhEeBmRKYhaRlZ9IfVG4R0RwpYKxbMHf6oYV0RyK5CsvUc0XsH0JNRwms+tQHYcW3uCKpIZ3HxnKafUn9WOuxef0XIeaq+0+xBqtXwSf37d3ajReLawq0Moz7xK/E5jiMgVyXTNfzlHRYqe2Ptdj2io5d1yFQsN5IYGeVHBEqqoaxWrw3HyNWPLSEVTGFl9hVK/ad5J96BnMMmdC1R2KYcnXYE8yZA79xIHT6pPLrMG8JNAnmBMSaSMJ9il+Mx2QyykHgEhLyXsNT4IJKMxEZzwCmKerEG4BrAatbPHW2s5hBFtfOowy/pmX7QdkLE4a/ZW4tDD413G1WvMBY/aKGQwckrtyPaUeyiUdLTy9FTgBYLWUl7zo72hWPf2fZnZUBTSxbti0ESigXXo0AjxWMTTjX6S4k2Sgbu72kUM2ethlP/o1bGlIRZCy049Ni0JPWQJgu0QiJxLUdJdnoNEVzRlaU8SNlPjnswsjWjbaSJ5+iDDfEtlko588lVqWI019boD3kdaJ5oiqfsgLcfYHLVh4WDxRJrV77moCgSpsjOI4wDJbhw4Iwek+yec3//ZSdd8uMR6CbPwIWN0fm1MTvOeDYtmnEjBjQ7ToRypz9IgeS3/unwkMiBA9Do6l0iRZHtCweNZDZdJeuQqF/WBoJWK1NxjQbbTE3FdxUKshLNTS6IK9vZYVoWCaKed4Nh362VeCVQH1zhtO2IHkUQOFymbtBQbuz/iiVTxszNAkn+T/N0dSLY6yBKJk7pJew7x1LO3ukAolYpY8T1GF5ZW0uCAZqvdTwdcBUNe5rW470uBsgplmTfLYcJd2miikOAxvPJYoST3IMgtxzlviEMA7kQeYT+k+E3YHgHXCbj5pPYqns6IshnYI+pWZO/71r7BYdtVLLQe76jEHYZP2qxeY7ZsdLYVCBI9B4jKS4/I3kMrEIbVZbiQyIqSgmQ7MnJwl2eUa8szm0bnj4t2DDF3p0Nc9rRyApRhQg/qEZzoPGjlQ+o3rgLRMrhHgLYVVvKHcrjPQ7AR+aF+81jkcQuzglLxPRDvr0QffETpPQ6i6ujTJN3CMNbGRolWgjJHQo4RICWqPLcP6CC1yhmI3O2n5gGF6Hxy/FtlFQtFDBJhew1lMokDpT4RWBIIoiE9l4NR5msRLbLV8rDXmT+qn9wKZBTMAVEYZyxFwl0F4YIuDur3pPs8aCcgurF5V27ZWUM9s6O1YST9LbeiUYShfcIYZUNUSrelRS3MXSVpOJf2DiyH1cN9lvmwmttI0o3Yr+qexYpeZeihdWantXtH8F4elS5PZxQH5XuIbPfKbQYyOIdXOCjP4yZnRt89fyuFQBB7NAnIwoi8F4S00HCto9e7G3i7OCUKUeJAvGHJxeuYSe87r6PVFgSRIORhFW1xcNLTXja1EJzXwUiJL00vTO3goIUeUsFJRaBxPWLFh0lzEG63pEWJ855MF8giYqVppbk8SUcORDBCw8GiQiGhEjmUPKMpONgn2LjpRbSmnOh9Ft9HaZhQrhu0pn9qAjJow6iQmpNEz4rdVSRW34/aQL2m8TL6RwmRd86jb+FRsHAo6wOUd0SL84xVvX3oQaIdDGHSad2rRJaxxMGHNcSiDm8k8wcEcZzZVSS7IbElZ5jOupNusWJDuapKIdtdei2RRIgNqfeQwPHjsLNY1IpFi6/7dJBs7dE4pDis2MOropA35DLGNNPCq+wmy7zWO6dolSUlw4IG0h5HBGphf7SMOFuKfHJleVJ2/k1IVJORALOLY4fjJxnsPAoqooloKBSxXxJdaWg74V7XbndBai9WD7KzAZ/MSr1aNqKacAJGkK/cohQSJR+Z8T7ignzKm5MvyMOKZ1CN/HQoQxbU5XEOIQKJimSxAlJeWuPlJ/L9k+wige1B0BzSgtUyRthI4vCZReIuEIqxniCOp5FVJHA9SImDh6e9sjr5CnAC0ca7UneIQ2VFRoG5CuRqIC9n8qyY7LvoK+zYOPwfznqfsIcqVTwAAAAASUVORK5CYII=\"/>\r\n",
       "   </g>\r\n",
       "  </g>\r\n",
       " </g>\r\n",
       " <defs>\r\n",
       "  <clipPath id=\"pe24f2a7c96\">\r\n",
       "   <rect height=\"262.08\" width=\"262.08\" x=\"7.2\" y=\"7.2\"/>\r\n",
       "  </clipPath>\r\n",
       " </defs>\r\n",
       "</svg>\r\n"
      ],
      "text/plain": [
       "<Figure size 288x288 with 1 Axes>"
      ]
     },
     "metadata": {
      "needs_background": "light"
     },
     "output_type": "display_data"
    }
   ],
   "source": [
    "x = ps.filters.reduce_peaks(peaks=peaks)\n",
    "plt.figure(figsize=[4, 4])\n",
    "plt.axis(False)\n",
    "plt.imshow(x/im);"
   ]
  }
 ],
 "metadata": {
  "kernelspec": {
   "display_name": "Python 3",
   "language": "python",
   "name": "python3"
  },
  "language_info": {
   "codemirror_mode": {
    "name": "ipython",
    "version": 3
   },
   "file_extension": ".py",
   "mimetype": "text/x-python",
   "name": "python",
   "nbconvert_exporter": "python",
   "pygments_lexer": "ipython3",
   "version": "3.8.5"
  }
 },
 "nbformat": 4,
 "nbformat_minor": 4
}
