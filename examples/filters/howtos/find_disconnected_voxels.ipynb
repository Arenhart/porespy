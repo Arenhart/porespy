{
 "cells": [
  {
   "cell_type": "markdown",
   "metadata": {},
   "source": [
    "# find_disconnected_voxels"
   ]
  },
  {
   "cell_type": "code",
   "execution_count": 1,
   "metadata": {
    "jupyter": {
     "source_hidden": true
    },
    "tags": []
   },
   "outputs": [
    {
     "data": {
      "text/markdown": [
       "---\n",
       " ## Documentation for ``find_disconnected_voxels``\n",
       " ---\n",
       "**<span style=\"color:purple\">find&#95;disconnected&#95;voxels</span>_(im, conn=None)_**\n",
       "\n",
       "\n",
       "This identifies all pore (or solid) voxels that are not connected to\n",
       "the edge of the image.  This can be used to find blind pores, or\n",
       "remove artifacts such as solid phase voxels that are floating in space.\n",
       "\n",
       "\n",
       "#### Parameters\n",
       "* im : <b><i>ndarray</i></b>  A Boolean image, with True values indicating the phase for which\n",
       "\tdisconnected voxels are sought.\n",
       "* conn : <b><i>int</i></b>  For 2D the options are 4 and 8 for square and diagonal neighbors,\n",
       "\twhile for the 3D the options are 6 and 26, similarily for square\n",
       "\tand diagonal neighbors. The default is the maximum option.\n",
       "\n",
       "#### Returns\n",
       "* image : <b><i>ndarray</i></b>  An ND-image the same size as ``im``, with True values indicating\n",
       "\tvoxels of the phase of interest (i.e. True values in the original\n",
       "\timage) that are not connected to the outer edges.\n",
       "\n",
       "#### Notes\n",
       "image : ndarray\n",
       "    The returned array (e.g. ``holes``) be used to trim blind pores\n",
       "    from ``im`` using: ``im[holes] = False``\n",
       "---"
      ],
      "text/plain": [
       "<IPython.core.display.Markdown object>"
      ]
     },
     "execution_count": 1,
     "metadata": {},
     "output_type": "execute_result"
    }
   ],
   "source": [
    "import porespy as ps\n",
    "from IPython.display import Markdown as show\n",
    "show(ps.tools.show_docstring(ps.filters.find_disconnected_voxels))"
   ]
  },
  {
   "cell_type": "markdown",
   "metadata": {},
   "source": [
    "## Import packages"
   ]
  },
  {
   "cell_type": "code",
   "execution_count": 2,
   "metadata": {},
   "outputs": [],
   "source": [
    "import numpy as np\n",
    "import porespy as ps\n",
    "import scipy.ndimage as spim\n",
    "import matplotlib.pyplot as plt\n",
    "import skimage\n",
    "ps.visualization.set_mpl_style()"
   ]
  },
  {
   "cell_type": "markdown",
   "metadata": {},
   "source": [
    "## Create image and variables:"
   ]
  },
  {
   "cell_type": "code",
   "execution_count": 3,
   "metadata": {},
   "outputs": [
    {
     "data": {
      "image/png": "[encoded data removed]",
      "text/plain": [
       "<Figure size 720x720 with 1 Axes>"
      ]
     },
     "metadata": {
      "needs_background": "light"
     },
     "output_type": "display_data"
    }
   ],
   "source": [
    "im = ps.generators.blobs(shape=[100, 100])\n",
    "\n",
    "plt.figure(figsize=[10, 10])\n",
    "plt.axis(False)\n",
    "plt.imshow(im)\n",
    "\n",
    "#default values:\n",
    "conn = None"
   ]
  },
  {
   "cell_type": "markdown",
   "metadata": {},
   "source": [
    "## Apply filter function:\n",
    "With different parameters"
   ]
  },
  {
   "cell_type": "markdown",
   "metadata": {},
   "source": [
    "### conn\n",
    "for 2D options are 4 or 8\n",
    "for 3D options are 6 or 26"
   ]
  },
  {
   "cell_type": "code",
   "execution_count": 4,
   "metadata": {},
   "outputs": [
    {
     "data": {
      "text/plain": [
       "Text(0.5, 1.0, 'conn = 4')"
      ]
     },
     "execution_count": 4,
     "metadata": {},
     "output_type": "execute_result"
    },
    {
     "data": {
      "image/png": "[encoded data removed]",
      "text/plain": [
       "<Figure size 1080x1080 with 2 Axes>"
      ]
     },
     "metadata": {
      "needs_background": "light"
     },
     "output_type": "display_data"
    }
   ],
   "source": [
    "x = ps.filters.find_disconnected_voxels(im=im, conn=None)\n",
    "xx = ps.filters.find_disconnected_voxels(im=im, conn= 4)\n",
    "\n",
    "fig, ax = plt.subplots(1, 2, figsize=[15, 15]);\n",
    "ax[0].imshow(x);\n",
    "ax[1].imshow(xx);\n",
    "ax[0].axis(False)\n",
    "ax[1].axis(False)\n",
    "ax[0].set_title('conn = None')\n",
    "ax[1].set_title('conn = 4')"
   ]
  }
 ],
 "metadata": {
  "kernelspec": {
   "display_name": "Python 3",
   "language": "python",
   "name": "python3"
  },
  "language_info": {
   "codemirror_mode": {
    "name": "ipython",
    "version": 3
   },
   "file_extension": ".py",
   "mimetype": "text/x-python",
   "name": "python",
   "nbconvert_exporter": "python",
   "pygments_lexer": "ipython3",
   "version": "3.8.8"
  }
 },
 "nbformat": 4,
 "nbformat_minor": 4
}
