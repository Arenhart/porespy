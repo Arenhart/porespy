{
 "cells": [
  {
   "cell_type": "markdown",
   "metadata": {},
   "source": [
    "# trim_saddle_points"
   ]
  },
  {
   "cell_type": "code",
   "execution_count": 1,
   "metadata": {
    "jupyter": {
     "source_hidden": true
    },
    "tags": []
   },
   "outputs": [
    {
     "data": {
      "text/markdown": [
       "---\n",
       " ## Documentation for ``trim_saddle_points``\n",
       " ---\n",
       "**<span style=\"color:purple\">trim&#95;saddle&#95;points</span>_(peaks, dt, max_iters=10)_**\n",
       "\n",
       "\n",
       "Removes peaks that were mistakenly identified because they lied on a\n",
       "saddle or ridge in the distance transform that was not actually a true\n",
       "local peak.\n",
       "\n",
       "\n",
       "#### Parameters\n",
       "* peaks : <b><i>ndarray</i></b>  A boolean image containing True values to mark peaks in the\n",
       "\tdistance transform (``dt``)\n",
       "* dt : <b><i>ndarray</i></b>  The distance transform of the pore space for which the true peaks\n",
       "\tare sought.\n",
       "* max_iters : <b><i>int</i></b>  The maximum number of iterations to run while eroding the saddle\n",
       "\tpoints.  The default is 10, which is usually not reached; however,\n",
       "\ta warning is issued if the loop ends prior to removing all saddle\n",
       "\tpoints.\n",
       "\n",
       "#### Returns\n",
       "* image : <b><i>ND-array</i></b>  An image with fewer peaks than the input image\n",
       "\n",
       "#### References\n",
       "[1] Gostick, J. \"A versatile and efficient network extraction algorithm\n",
       "using marker-based watershed segmenation\".  Physical Review E. (2017)\n",
       "---"
      ],
      "text/plain": [
       "<IPython.core.display.Markdown object>"
      ]
     },
     "execution_count": 1,
     "metadata": {},
     "output_type": "execute_result"
    }
   ],
   "source": [
    "import porespy as ps\n",
    "from IPython.display import Markdown as show\n",
    "show(ps.tools.show_docstring(ps.filters.trim_saddle_points))"
   ]
  },
  {
   "cell_type": "markdown",
   "metadata": {},
   "source": [
    "## Import packages"
   ]
  },
  {
   "cell_type": "code",
   "execution_count": 2,
   "metadata": {},
   "outputs": [],
   "source": [
    "import numpy as np\n",
    "import porespy as ps\n",
    "import scipy.ndimage as spim\n",
    "import matplotlib.pyplot as plt\n",
    "import skimage"
   ]
  },
  {
   "cell_type": "markdown",
   "metadata": {},
   "source": [
    "## Create image and variables:"
   ]
  },
  {
   "cell_type": "code",
   "execution_count": 3,
   "metadata": {},
   "outputs": [
    {
     "data": {
      "image/png": "[encoded data removed]",
      "text/plain": [
       "<Figure size 720x720 with 1 Axes>"
      ]
     },
     "metadata": {
      "needs_background": "light"
     },
     "output_type": "display_data"
    }
   ],
   "source": [
    "im = np.zeros([300, 300])\n",
    "im = ps.generators.RSA(im, radius=15, volume_fraction=0.5)\n",
    "dt = ps.filters.distance_transform_lin(im, axis = 1, mode = \"both\")\n",
    "r_max = 4\n",
    "footprint = None\n",
    "peaks = ps.filters.find_peaks(dt, r_max=4, footprint=None)\n",
    "plt.figure(figsize=[10, 10])\n",
    "plt.axis(False)\n",
    "plt.title('Input Peaks')\n",
    "plt.imshow(peaks)\n",
    "\n",
    "#default values:\n",
    "max_iters=10\n",
    "verbose=1"
   ]
  },
  {
   "cell_type": "markdown",
   "metadata": {},
   "source": [
    "## Apply filter function:\n",
    "With different parameters"
   ]
  },
  {
   "cell_type": "markdown",
   "metadata": {},
   "source": [
    "### max_iters"
   ]
  },
  {
   "cell_type": "code",
   "execution_count": 4,
   "metadata": {},
   "outputs": [
    {
     "name": "stdout",
     "output_type": "stream",
     "text": [
      "\u001b[32m2021-03-29 16:30:24\u001b[0m | \u001b[33m\u001b[1mWARNING \u001b[0m | \u001b[36mporespy.filters.__funcs__\u001b[0m:\u001b[36mtrim_saddle_points\u001b[0m:\u001b[36m585\u001b[0m\n",
      "--> \u001b[33m\u001b[1mMaximum number of iterations reached, consider running again with a larger value of max_iters\u001b[0m\n",
      "\u001b[32m2021-03-29 16:30:24\u001b[0m | \u001b[33m\u001b[1mWARNING \u001b[0m | \u001b[36mporespy.filters.__funcs__\u001b[0m:\u001b[36mtrim_saddle_points\u001b[0m:\u001b[36m585\u001b[0m\n",
      "--> \u001b[33m\u001b[1mMaximum number of iterations reached, consider running again with a larger value of max_iters\u001b[0m\n",
      "\u001b[32m2021-03-29 16:30:24\u001b[0m | \u001b[33m\u001b[1mWARNING \u001b[0m | \u001b[36mporespy.filters.__funcs__\u001b[0m:\u001b[36mtrim_saddle_points\u001b[0m:\u001b[36m585\u001b[0m\n",
      "--> \u001b[33m\u001b[1mMaximum number of iterations reached, consider running again with a larger value of max_iters\u001b[0m\n",
      "\u001b[32m2021-03-29 16:30:24\u001b[0m | \u001b[33m\u001b[1mWARNING \u001b[0m | \u001b[36mporespy.filters.__funcs__\u001b[0m:\u001b[36mtrim_saddle_points\u001b[0m:\u001b[36m585\u001b[0m\n",
      "--> \u001b[33m\u001b[1mMaximum number of iterations reached, consider running again with a larger value of max_iters\u001b[0m\n",
      "\u001b[32m2021-03-29 16:30:24\u001b[0m | \u001b[33m\u001b[1mWARNING \u001b[0m | \u001b[36mporespy.filters.__funcs__\u001b[0m:\u001b[36mtrim_saddle_points\u001b[0m:\u001b[36m585\u001b[0m\n",
      "--> \u001b[33m\u001b[1mMaximum number of iterations reached, consider running again with a larger value of max_iters\u001b[0m\n",
      "\u001b[32m2021-03-29 16:30:24\u001b[0m | \u001b[33m\u001b[1mWARNING \u001b[0m | \u001b[36mporespy.filters.__funcs__\u001b[0m:\u001b[36mtrim_saddle_points\u001b[0m:\u001b[36m585\u001b[0m\n",
      "--> \u001b[33m\u001b[1mMaximum number of iterations reached, consider running again with a larger value of max_iters\u001b[0m\n",
      "\u001b[32m2021-03-29 16:30:24\u001b[0m | \u001b[33m\u001b[1mWARNING \u001b[0m | \u001b[36mporespy.filters.__funcs__\u001b[0m:\u001b[36mtrim_saddle_points\u001b[0m:\u001b[36m585\u001b[0m\n",
      "--> \u001b[33m\u001b[1mMaximum number of iterations reached, consider running again with a larger value of max_iters\u001b[0m\n"
     ]
    },
    {
     "data": {
      "text/plain": [
       "Text(0.5, 1.0, 'max_iters = 2')"
      ]
     },
     "execution_count": 4,
     "metadata": {},
     "output_type": "execute_result"
    },
    {
     "data": {
      "image/png": "[encoded data removed]",
      "text/plain": [
       "<Figure size 1080x1080 with 2 Axes>"
      ]
     },
     "metadata": {
      "needs_background": "light"
     },
     "output_type": "display_data"
    }
   ],
   "source": [
    "x = ps.filters.trim_saddle_points(peaks=peaks, dt=dt, max_iters=max_iters)\n",
    "xx = ps.filters.trim_saddle_points(peaks=peaks, dt=dt, max_iters=2)\n",
    "\n",
    "fig, ax = plt.subplots(1, 2, figsize=[15, 15]);\n",
    "ax[0].imshow(x);\n",
    "ax[1].imshow(xx);\n",
    "ax[0].axis(False)\n",
    "ax[1].axis(False)\n",
    "ax[0].set_title('max_iters = 10')\n",
    "ax[1].set_title('max_iters = 2')"
   ]
  },
  {
   "cell_type": "code",
   "execution_count": null,
   "metadata": {},
   "outputs": [],
   "source": []
  }
 ],
 "metadata": {
  "kernelspec": {
   "display_name": "Python 3",
   "language": "python",
   "name": "python3"
  },
  "language_info": {
   "codemirror_mode": {
    "name": "ipython",
    "version": 3
   },
   "file_extension": ".py",
   "mimetype": "text/x-python",
   "name": "python",
   "nbconvert_exporter": "python",
   "pygments_lexer": "ipython3",
   "version": "3.8.8"
  }
 },
 "nbformat": 4,
 "nbformat_minor": 4
}
