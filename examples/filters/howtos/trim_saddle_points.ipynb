{
 "cells": [
  {
   "cell_type": "markdown",
   "metadata": {},
   "source": [
    "# trim_saddle_points"
   ]
  },
  {
   "cell_type": "markdown",
   "metadata": {},
   "source": [
    "## Import packages"
   ]
  },
  {
   "cell_type": "code",
   "execution_count": 1,
   "metadata": {},
   "outputs": [],
   "source": [
    "import numpy as np\n",
    "import porespy as ps\n",
    "import scipy.ndimage as spim\n",
    "import matplotlib.pyplot as plt\n",
    "import skimage\n",
    "from edt import edt\n",
    "\n",
    "np.random.seed(0)\n",
    "ps.visualization.set_mpl_style()"
   ]
  },
  {
   "cell_type": "markdown",
   "metadata": {},
   "source": [
    "## Create image and variables"
   ]
  },
  {
   "cell_type": "code",
   "execution_count": 2,
   "metadata": {},
   "outputs": [
    {
     "data": {
      "image/svg+xml": [
       "<?xml version=\"1.0\" encoding=\"utf-8\" standalone=\"no\"?>\r\n",
       "<!DOCTYPE svg PUBLIC \"-//W3C//DTD SVG 1.1//EN\"\r\n",
       "  \"http://www.w3.org/Graphics/SVG/1.1/DTD/svg11.dtd\">\r\n",
       "<!-- Created with matplotlib (https://matplotlib.org/) -->\r\n",
       "<svg height=\"276.48pt\" version=\"1.1\" viewBox=\"0 0 276.48 276.48\" width=\"276.48pt\" xmlns=\"http://www.w3.org/2000/svg\" xmlns:xlink=\"http://www.w3.org/1999/xlink\">\r\n",
       " <metadata>\r\n",
       "  <rdf:RDF xmlns:cc=\"http://creativecommons.org/ns#\" xmlns:dc=\"http://purl.org/dc/elements/1.1/\" xmlns:rdf=\"http://www.w3.org/1999/02/22-rdf-syntax-ns#\">\r\n",
       "   <cc:Work>\r\n",
       "    <dc:type rdf:resource=\"http://purl.org/dc/dcmitype/StillImage\"/>\r\n",
       "    <dc:date>2021-04-24T15:33:30.318945</dc:date>\r\n",
       "    <dc:format>image/svg+xml</dc:format>\r\n",
       "    <dc:creator>\r\n",
       "     <cc:Agent>\r\n",
       "      <dc:title>Matplotlib v3.3.2, https://matplotlib.org/</dc:title>\r\n",
       "     </cc:Agent>\r\n",
       "    </dc:creator>\r\n",
       "   </cc:Work>\r\n",
       "  </rdf:RDF>\r\n",
       " </metadata>\r\n",
       " <defs>\r\n",
       "  <style type=\"text/css\">*{stroke-linecap:butt;stroke-linejoin:round;}</style>\r\n",
       " </defs>\r\n",
       " <g id=\"figure_1\">\r\n",
       "  <g id=\"patch_1\">\r\n",
       "   <path d=\"M 0 276.48 \r\n",
       "L 276.48 276.48 \r\n",
       "L 276.48 0 \r\n",
       "L 0 0 \r\n",
       "z\r\n",
       "\" style=\"fill:none;\"/>\r\n",
       "  </g>\r\n",
       "  <g id=\"axes_1\">\r\n",
       "   <g clip-path=\"url(#p81a5ee6fc5)\">\r\n",
       "    <image height=\"200\" id=\"image56ce73e418\" style=\"image-rendering:crisp-edges;image-rendering:pixelated\" transform=\"matrix(1.315 0 0 1.315 7.2 6.28)\" width=\"200\" xlink:href=\"data:image/png;base64,\r\n",
       "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\"/>\r\n",
       "   </g>\r\n",
       "  </g>\r\n",
       " </g>\r\n",
       " <defs>\r\n",
       "  <clipPath id=\"p81a5ee6fc5\">\r\n",
       "   <rect height=\"262.08\" width=\"262.08\" x=\"7.2\" y=\"7.2\"/>\r\n",
       "  </clipPath>\r\n",
       " </defs>\r\n",
       "</svg>\r\n"
      ],
      "text/plain": [
       "<Figure size 288x288 with 1 Axes>"
      ]
     },
     "metadata": {
      "needs_background": "light"
     },
     "output_type": "display_data"
    }
   ],
   "source": [
    "im = ps.generators.blobs(shape=[200, 200], blobiness=[2, .5], porosity=0.65)\n",
    "\n",
    "plt.figure(figsize=[4, 4])\n",
    "plt.axis(False)\n",
    "plt.imshow(im);"
   ]
  },
  {
   "cell_type": "markdown",
   "metadata": {},
   "source": [
    "## Apply filter function"
   ]
  },
  {
   "cell_type": "code",
   "execution_count": 3,
   "metadata": {},
   "outputs": [
    {
     "data": {
      "image/svg+xml": [
       "<?xml version=\"1.0\" encoding=\"utf-8\" standalone=\"no\"?>\r\n",
       "<!DOCTYPE svg PUBLIC \"-//W3C//DTD SVG 1.1//EN\"\r\n",
       "  \"http://www.w3.org/Graphics/SVG/1.1/DTD/svg11.dtd\">\r\n",
       "<!-- Created with matplotlib (https://matplotlib.org/) -->\r\n",
       "<svg height=\"276.48pt\" version=\"1.1\" viewBox=\"0 0 558 276.48\" width=\"558pt\" xmlns=\"http://www.w3.org/2000/svg\" xmlns:xlink=\"http://www.w3.org/1999/xlink\">\r\n",
       " <metadata>\r\n",
       "  <rdf:RDF xmlns:cc=\"http://creativecommons.org/ns#\" xmlns:dc=\"http://purl.org/dc/elements/1.1/\" xmlns:rdf=\"http://www.w3.org/1999/02/22-rdf-syntax-ns#\">\r\n",
       "   <cc:Work>\r\n",
       "    <dc:type rdf:resource=\"http://purl.org/dc/dcmitype/StillImage\"/>\r\n",
       "    <dc:date>2021-04-24T15:33:30.550127</dc:date>\r\n",
       "    <dc:format>image/svg+xml</dc:format>\r\n",
       "    <dc:creator>\r\n",
       "     <cc:Agent>\r\n",
       "      <dc:title>Matplotlib v3.3.2, https://matplotlib.org/</dc:title>\r\n",
       "     </cc:Agent>\r\n",
       "    </dc:creator>\r\n",
       "   </cc:Work>\r\n",
       "  </rdf:RDF>\r\n",
       " </metadata>\r\n",
       " <defs>\r\n",
       "  <style type=\"text/css\">*{stroke-linecap:butt;stroke-linejoin:round;}</style>\r\n",
       " </defs>\r\n",
       " <g id=\"figure_1\">\r\n",
       "  <g id=\"patch_1\">\r\n",
       "   <path d=\"M 0 276.48 \r\n",
       "L 558 276.48 \r\n",
       "L 558 0 \r\n",
       "L 0 0 \r\n",
       "z\r\n",
       "\" style=\"fill:none;\"/>\r\n",
       "  </g>\r\n",
       "  <g id=\"axes_1\">\r\n",
       "   <g clip-path=\"url(#pb1d15ecf77)\">\r\n",
       "    <image height=\"200\" id=\"image3b75b0c0dd\" style=\"image-rendering:crisp-edges;image-rendering:pixelated\" transform=\"matrix(1.315 0 0 1.315 7.2 6.28)\" width=\"200\" xlink:href=\"data:image/png;base64,\r\n",
       "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\"/>\r\n",
       "   </g>\r\n",
       "  </g>\r\n",
       "  <g id=\"axes_2\">\r\n",
       "   <g clip-path=\"url(#p89b8d5510e)\">\r\n",
       "    <image height=\"200\" id=\"imagefaa019df80\" style=\"image-rendering:crisp-edges;image-rendering:pixelated\" transform=\"matrix(1.315 0 0 1.315 288.72 6.28)\" width=\"200\" xlink:href=\"data:image/png;base64,\r\n",
       "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\"/>\r\n",
       "   </g>\r\n",
       "  </g>\r\n",
       " </g>\r\n",
       " <defs>\r\n",
       "  <clipPath id=\"pb1d15ecf77\">\r\n",
       "   <rect height=\"262.08\" width=\"262.08\" x=\"7.2\" y=\"7.2\"/>\r\n",
       "  </clipPath>\r\n",
       "  <clipPath id=\"p89b8d5510e\">\r\n",
       "   <rect height=\"262.08\" width=\"262.08\" x=\"288.72\" y=\"7.2\"/>\r\n",
       "  </clipPath>\r\n",
       " </defs>\r\n",
       "</svg>\r\n"
      ],
      "text/plain": [
       "<Figure size 576x288 with 2 Axes>"
      ]
     },
     "metadata": {
      "needs_background": "light"
     },
     "output_type": "display_data"
    }
   ],
   "source": [
    "dt = edt(im)\n",
    "peaks = ps.filters.find_peaks(dt, r_max=4)\n",
    "x = ps.filters.trim_saddle_points(peaks=peaks, dt=dt)\n",
    "\n",
    "fix, ax = plt.subplots(1, 2, figsize=[8, 4])\n",
    "ax[0].axis(False)\n",
    "ax[0].imshow(peaks/im)\n",
    "ax[1].axis(False)\n",
    "ax[1].imshow(x/im);"
   ]
  }
 ],
 "metadata": {
  "kernelspec": {
   "display_name": "Python 3",
   "language": "python",
   "name": "python3"
  },
  "language_info": {
   "codemirror_mode": {
    "name": "ipython",
    "version": 3
   },
   "file_extension": ".py",
   "mimetype": "text/x-python",
   "name": "python",
   "nbconvert_exporter": "python",
   "pygments_lexer": "ipython3",
   "version": "3.8.5"
  }
 },
 "nbformat": 4,
 "nbformat_minor": 4
}
