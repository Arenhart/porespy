{
 "cells": [
  {
   "cell_type": "markdown",
   "metadata": {},
   "source": [
    "# trim_nearby_peaks"
   ]
  },
  {
   "cell_type": "markdown",
   "metadata": {},
   "source": [
    "## Import packages"
   ]
  },
  {
   "cell_type": "code",
   "execution_count": 1,
   "metadata": {},
   "outputs": [],
   "source": [
    "import numpy as np\n",
    "import porespy as ps\n",
    "import scipy.ndimage as spim\n",
    "import matplotlib.pyplot as plt\n",
    "import skimage\n",
    "from edt import edt\n",
    "\n",
    "np.random.seed(0)\n",
    "ps.visualization.set_mpl_style()"
   ]
  },
  {
   "cell_type": "markdown",
   "metadata": {},
   "source": [
    "## Generate image for testing"
   ]
  },
  {
   "cell_type": "code",
   "execution_count": 2,
   "metadata": {},
   "outputs": [
    {
     "data": {
      "image/svg+xml": [
       "<?xml version=\"1.0\" encoding=\"utf-8\" standalone=\"no\"?>\r\n",
       "<!DOCTYPE svg PUBLIC \"-//W3C//DTD SVG 1.1//EN\"\r\n",
       "  \"http://www.w3.org/Graphics/SVG/1.1/DTD/svg11.dtd\">\r\n",
       "<!-- Created with matplotlib (https://matplotlib.org/) -->\r\n",
       "<svg height=\"276.48pt\" version=\"1.1\" viewBox=\"0 0 276.48 276.48\" width=\"276.48pt\" xmlns=\"http://www.w3.org/2000/svg\" xmlns:xlink=\"http://www.w3.org/1999/xlink\">\r\n",
       " <metadata>\r\n",
       "  <rdf:RDF xmlns:cc=\"http://creativecommons.org/ns#\" xmlns:dc=\"http://purl.org/dc/elements/1.1/\" xmlns:rdf=\"http://www.w3.org/1999/02/22-rdf-syntax-ns#\">\r\n",
       "   <cc:Work>\r\n",
       "    <dc:type rdf:resource=\"http://purl.org/dc/dcmitype/StillImage\"/>\r\n",
       "    <dc:date>2021-04-24T15:31:36.485198</dc:date>\r\n",
       "    <dc:format>image/svg+xml</dc:format>\r\n",
       "    <dc:creator>\r\n",
       "     <cc:Agent>\r\n",
       "      <dc:title>Matplotlib v3.3.2, https://matplotlib.org/</dc:title>\r\n",
       "     </cc:Agent>\r\n",
       "    </dc:creator>\r\n",
       "   </cc:Work>\r\n",
       "  </rdf:RDF>\r\n",
       " </metadata>\r\n",
       " <defs>\r\n",
       "  <style type=\"text/css\">*{stroke-linecap:butt;stroke-linejoin:round;}</style>\r\n",
       " </defs>\r\n",
       " <g id=\"figure_1\">\r\n",
       "  <g id=\"patch_1\">\r\n",
       "   <path d=\"M 0 276.48 \r\n",
       "L 276.48 276.48 \r\n",
       "L 276.48 0 \r\n",
       "L 0 0 \r\n",
       "z\r\n",
       "\" style=\"fill:none;\"/>\r\n",
       "  </g>\r\n",
       "  <g id=\"axes_1\">\r\n",
       "   <g clip-path=\"url(#p474ea2bfff)\">\r\n",
       "    <image height=\"200\" id=\"image4f8b14eac8\" style=\"image-rendering:crisp-edges;image-rendering:pixelated\" transform=\"matrix(1.315 0 0 1.315 7.2 6.28)\" width=\"200\" xlink:href=\"data:image/png;base64,\r\n",
       "iVBORw0KGgoAAAANSUhEUgAAAMgAAADICAYAAACtWK6eAAANd0lEQVR4nO2d220dOQyG5cBV+HkLSBEB3ECadReuIlvFIvsQjDNnjkaiJF5+UvyAPOV4RiL56y7Oy3///vO7MPH+9p38249fn2LPnnnHzPN77zo/c7S+M0jan+u9KFDr/022GLZYOu76brQg4iyPhvi5odY/tECocAfv3fPQRLI7FH+8yhejzvvbd9Vhx927uIKW+hyteic0rn67+uaFcw5Se2ELzTkCGhIiGbURdxmi+aiUUl61J5LJH6jBlD6x5WEOErEF8M7723c3foko5qdJusRy5x1eHI8ARSgIAapRho9fn2p1ra5iZeDiwuUbyQCTevZVGBpCyWVeh7REgtCLlMJbjp4QJOucAglIL5i0RLT6rpG/l6qT2T5IIgtKT1LK37JIr9yNvodCCsQpHjccNXuuFiMCqg6xVisiYQhvwZDgMjJ0yzlIsi0UkTwIRHMCd7xP8vdJ0qMXU+xnsQ4o47zZgM99mmwsuLmLKTGBtF5aSl7YWSUFwk8tjkLMQbSHhtbsVFdNanEk2oOUUlellIMj9CRn2/TuKiTyiAvkQOtYvWeRpADwUNsoTOe3SftgEmIOkiRShBNItsQJJ+EEkiScpECSpEFIgeQwK+Ei7HH3j1+frpd8NfBwM9GakD3IQTr5nl7j4SmbiiSmmRUPpBMIpKP3gvOgrNpO+pm7CkTdYUfsyawywa8g6cO7OqoKRPIIPNf7OUEJrBreBGLVwKnMQUbGsxathMR7EIIqCpa9v7hAZionLRKPSdO48VJOa8QEsroKIt1qcAdI9hoyWC+wiAhE+5sbs3AFdAojLqH3QShoZf7rYd1StkAumzTsAtH6nJk1CB/A0cSqbNa98/Y9SCljTpCca1gHQw9kAUvBug/idYl2x689aX4HZgVrUbrpQawNFUkcHFj7Qws2gXg1mNdyr+BllREBNz1IKfssACR/QPAPy2lehIqM4rHMHEg0Mt6Hn63yh70w1SLFkeTnD5IHJMUh8WyUFdFlgWi2ShxduVUranlDL3uOedz0IF7HuVdhRA1WL/UajSM3ArGE+zsmXoIpWRRIOjrxxExDNy0Qb3OP2WflV7D2ZlggmQ6Ghtc5U1Rm/UHaB4kmCGoqoAxyOlFt9Rot+Kn0RMLh8No7IgYSd524Y3KlfFvupPewnPMg0CuzVtI/DlbLt7VADuN5crg0lPoj3M2hwFFOFwKRPhC3uygOrO2AeHHNhUB2wTLburU4KFiUMXfSQZDKtp6rdWtkD3KD5vfdRzjKRSlLpBVKK9unQCr0zlAhCyWSKA4s7f2V1QTdsNpG6tkDfe1/FATRHyDtHX31IMgfmkFyngSodrcCyd8Pk3Skgh0glqmUeEHNmenk/M87T6tYKAGZ2dL1WQ3o2t97F0l1mdc6MK3fr1kG7wF0EKUeV6BWsRCEkSRnbjcKtYMVURzSZYrS6kapR41mD0INkBUDIQqDwmq5IwfVGY3lcMkYYhli1U7FjvwdMhLL3xx2khDYjD8QhC65gcv+GWjEE5kccByJ525ArC8Wafva4lwZ+2FF6/sEiEjtCex+sasGt53Ze5AzqAf+Zhk9AqExN+MICOmhFafPtXst0WXe89zEszDuQBh/Ix8ROrDwP9c7Ve6DRBAHchCufql3FKl7KYhAbRQm82itdK08k6NV5+oxqYsueaMwMFHPs63UqbZg0lpESYGAwp3dA+XTEVz16tVnpket/b/oKlY0Zi5RoX1uefYyElo6noORldKZfSg1gSBdV7UARSgzS+/oezil0OJrph4qAkG6QmmJ1Z4FpRxcrS4VixiAFMhdoXYUCcowhTJUlF6WtfL/aL1EJ+mtwnhdF0dB0n4avvHi/1zF2gwvgYmCmEDSEY+kPZ6xsAnERzwzGP4SJbuHFJzZVCR4+oCO58kz0ulhrXH8SP1Qhbp6BOWol8ShyKceRCL1iyS9HEwWQYEaiMjM2qx2bIQTt4cVMwjH0LTXbL5grh6Asyd5Eojk+joXyOKw6EEtdsJr3JVjJGcBx9Xm83NWk3u76kGQhVGKXflaxyyQbDa6AUmZH/fEt1p/NwJBcnQNhPIhlKHHyi59qyGQ2v03S17tebXsiofARELqnorEM78EgiwO5ABELhs6EkKBT/vTwuqGm1QQpzgembUH8mjiWyk6BUQ2wgwpDl5Q4yOzmiSsaOQC0+RbKbJ3jVEqnS2+HpHOn331IKvpXGqgiCOxYSam0GLmYYg1qnytlkIz+TEVNEei4r0nqc5BKOlRZjJ8RCNq3iluVnbPR3+jdljRu/I18ZAf1xruo+i1XXUJH7z8ePnJnrRBqlXVSjq2Qgqlj3YGlRVcCaSUFEmii7ukDR7G/ejlS+iYfGEK4T1R8z4lvMD2IBorZSmSpAesQKikSBJJWAViFQwpkv045qIrc1LK37OuYlkGAkpi6Ba5urUG59176lKzmyu3EfCwoYh4r53acHHY93rHvTnEGmlRIwwjPJ0rk6CXlUTi2dx/R/k99Tcfvz6fh1izu5zeh1cHmvWYPQUtIWRKvbljoPU8yXnlyLPJ3wehOCXCdVrkFv6MVaMgkd5VIv0th0De3777XuaVaEmtx9tUuIY9K8/hOtVwfgZXA7WadO6IA9ZJukTy4OvzpfHSg5QyNynlypyJno1khpotWYdYBxKVtU6fiYzG8Bcpcz4Vypyp9xuSQKzTuVgmXvaCVABLTqQ1gE492koVOfL3SR/PvTYyKpP03jc87v4msWP16msUuj0ItxHQjdpbaJBeiEiwyKMmFa5Dw6uoJVdzEEBvxDRpDrG8GopzcYAjw0tix2osuN4ovMMiYFMouKyI5FYg6ew5UiixuBVIxLG1Jl5FMlpuL/WcjWe24+7JM1zBk70SDzPxHHIOgoSnwPZU1llGRRJyFSsaGrnAdvL1iC2zB1EAOfh2Hb5RRXJ7WHFHox1IJERGm8/tetHsSs8OuZN+ouZkD4kWqESphyZVgexkSK8t3wg7+XOUXgP4JJAdjDmTKWMHuyTPhBtiIfUICGVJYa/xIBCPxkQIwiuIZZIm6jWA11J8CMPa+NRhlvTNPms77MZrioMP7nLWfLN6jTkZIzcKB2gFJfcHKin3UCjPSdaAFwhaS3ktD/cxkLy3r8v0RmHvXrYWiJM/6XQ6o89BzMg+A2LurdeZAtzd1U5s8O6HVvmtG8ilIZa1ukeYST0kiSfbSWI5l6I8d3kO4sHRrawklniwHZWZTx94mG+xTNI17ivMgiKG5C+zPuH0JfVZ8KtYK3gQB2rDMsLq90VG0PZpiK/c1vAgjgMku40wMnLgnP9piuxrJ53zwyVWXz9KePGYnZ8bkdO8EjfyuEAVHMqRelT7XNFa/iV/QGeFFcdzfPjFi9NLsW1QvH1CQeOzGiqTdMtVLurXW1ccybnHgmynHVFdxUJ0wjmoZ7IK1vZYVoWCaKdIZNqfBagBznHatkUEkSDMqe6gjmrYBdIzCpLje2eAZv5v5nd3INkqKodQ7gTDLhCKU704vnVhaeUZI3ixVRSugoFP2mC9CiU5TLh7dgRRaAyvNGIj5yAKjE7kkcfuu6GyD1JjNAikWgrNYETZDKxhdSuy9n6U2CglexA1DidGGD5xs3qNWbLRSYEoUAsAJCx7D65EGFKX4Uwm6TMVsZ6sz3JXZpRryz2bWpdvFO4cYupzEMRlT6kgQBkm1KAewbEuA1c5ZuNGVSCo39pA+lYGyuE+DcFalGfUN0+ZFT2sFmmVeYbVsnAOvZDscsWqbKND9adJukTLId0aoWQrQQlI5BwBs1jV5/YDOhz3MHYCISARykDBupwj8c2yioUihhlhRxnKWG/0RWVJIIiG1FwORpmvWQjU+/IwNU5uBdJK5hCl8jNIByO6OKjvQ9nnWaWam3fllp001DM7XBtGWgGIIgzuE8behVLdB0GtzJ2TOIKLewd2hNXDfZLlkJrbzDzXYr/qdqMQTSTcY16EifWsjT2Ko/YOiwWV0ffDX5iKCFrjU0OjARmZK2qK4/wuFwJBaO05QBaGl51tDqjiKKVx3D1KUKKALA50tFLZ1t7TvA+CIBKEMqzCLY5oYtM6GDkTS90LUxECNLFnVgQc1yNWYpg0BxntlrhIcd7j6QKZRa40rmcuT9KRExG08BRgXkAZSnL6FfYTbKPPQw52lDNbUqBcNyiF/9QEZNIGzeMdWo6NKhKp91udLrg+4+XHy8/fd/85g+Wdcw9H1yUCynIPAwUpGzz0INYBhjBMku5VEOrIwQ7iKEVoiDUzf0ALnBSJD6RtqXInvQVXBb3dpeeqt4XYkHoPaczOYuUVUZ8g2VqjcXBxWLGGlqOQ90s0y4UkjFL06i4yB5HeOUVz1iweFjSQ9jgsYEv7o9miJ/Kknf9gktVkdtiSTtPBg51bSUU4aWY14boDzoGl05DnIZx4EMYVapln/TfUg3g0YNJnxa9IjWiLkYQR5Cu3KJVEKYdntI+4IJ/yHikX5GHFM6hG3h3KkCXCsNREIFaZLFZAKkspY+WxSJcz81tEYHsQtICUYLWOFjaaCXjPIlEXCMVYO4hjN7yKBK4HSXGMoWkvr0G+ApxAuNnRqah49IWqQKwM5NExCQb/A5O7CQ22RQBdAAAAAElFTkSuQmCC\"/>\r\n",
       "   </g>\r\n",
       "  </g>\r\n",
       " </g>\r\n",
       " <defs>\r\n",
       "  <clipPath id=\"p474ea2bfff\">\r\n",
       "   <rect height=\"262.08\" width=\"262.08\" x=\"7.2\" y=\"7.2\"/>\r\n",
       "  </clipPath>\r\n",
       " </defs>\r\n",
       "</svg>\r\n"
      ],
      "text/plain": [
       "<Figure size 288x288 with 1 Axes>"
      ]
     },
     "metadata": {
      "needs_background": "light"
     },
     "output_type": "display_data"
    }
   ],
   "source": [
    "im = ps.generators.blobs(shape=[200, 200])\n",
    "\n",
    "plt.figure(figsize=[4, 4])\n",
    "plt.axis(False)\n",
    "plt.imshow(im);"
   ]
  },
  {
   "cell_type": "markdown",
   "metadata": {},
   "source": [
    "## Apply filter function"
   ]
  },
  {
   "cell_type": "code",
   "execution_count": 3,
   "metadata": {},
   "outputs": [
    {
     "data": {
      "image/svg+xml": [
       "<?xml version=\"1.0\" encoding=\"utf-8\" standalone=\"no\"?>\r\n",
       "<!DOCTYPE svg PUBLIC \"-//W3C//DTD SVG 1.1//EN\"\r\n",
       "  \"http://www.w3.org/Graphics/SVG/1.1/DTD/svg11.dtd\">\r\n",
       "<!-- Created with matplotlib (https://matplotlib.org/) -->\r\n",
       "<svg height=\"276.48pt\" version=\"1.1\" viewBox=\"0 0 558 276.48\" width=\"558pt\" xmlns=\"http://www.w3.org/2000/svg\" xmlns:xlink=\"http://www.w3.org/1999/xlink\">\r\n",
       " <metadata>\r\n",
       "  <rdf:RDF xmlns:cc=\"http://creativecommons.org/ns#\" xmlns:dc=\"http://purl.org/dc/elements/1.1/\" xmlns:rdf=\"http://www.w3.org/1999/02/22-rdf-syntax-ns#\">\r\n",
       "   <cc:Work>\r\n",
       "    <dc:type rdf:resource=\"http://purl.org/dc/dcmitype/StillImage\"/>\r\n",
       "    <dc:date>2021-04-24T15:31:36.749029</dc:date>\r\n",
       "    <dc:format>image/svg+xml</dc:format>\r\n",
       "    <dc:creator>\r\n",
       "     <cc:Agent>\r\n",
       "      <dc:title>Matplotlib v3.3.2, https://matplotlib.org/</dc:title>\r\n",
       "     </cc:Agent>\r\n",
       "    </dc:creator>\r\n",
       "   </cc:Work>\r\n",
       "  </rdf:RDF>\r\n",
       " </metadata>\r\n",
       " <defs>\r\n",
       "  <style type=\"text/css\">*{stroke-linecap:butt;stroke-linejoin:round;}</style>\r\n",
       " </defs>\r\n",
       " <g id=\"figure_1\">\r\n",
       "  <g id=\"patch_1\">\r\n",
       "   <path d=\"M 0 276.48 \r\n",
       "L 558 276.48 \r\n",
       "L 558 0 \r\n",
       "L 0 0 \r\n",
       "z\r\n",
       "\" style=\"fill:none;\"/>\r\n",
       "  </g>\r\n",
       "  <g id=\"axes_1\">\r\n",
       "   <g clip-path=\"url(#p0d83e3f038)\">\r\n",
       "    <image height=\"200\" id=\"image521f5f19ce\" style=\"image-rendering:crisp-edges;image-rendering:pixelated\" transform=\"matrix(1.315 0 0 1.315 7.2 6.28)\" width=\"200\" xlink:href=\"data:image/png;base64,\r\n",
       "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\"/>\r\n",
       "   </g>\r\n",
       "  </g>\r\n",
       "  <g id=\"axes_2\">\r\n",
       "   <g clip-path=\"url(#p983aa1541e)\">\r\n",
       "    <image height=\"200\" id=\"image1f37f70847\" style=\"image-rendering:crisp-edges;image-rendering:pixelated\" transform=\"matrix(1.315 0 0 1.315 288.72 6.28)\" width=\"200\" xlink:href=\"data:image/png;base64,\r\n",
       "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\"/>\r\n",
       "   </g>\r\n",
       "  </g>\r\n",
       " </g>\r\n",
       " <defs>\r\n",
       "  <clipPath id=\"p0d83e3f038\">\r\n",
       "   <rect height=\"262.08\" width=\"262.08\" x=\"7.2\" y=\"7.2\"/>\r\n",
       "  </clipPath>\r\n",
       "  <clipPath id=\"p983aa1541e\">\r\n",
       "   <rect height=\"262.08\" width=\"262.08\" x=\"288.72\" y=\"7.2\"/>\r\n",
       "  </clipPath>\r\n",
       " </defs>\r\n",
       "</svg>\r\n"
      ],
      "text/plain": [
       "<Figure size 576x288 with 2 Axes>"
      ]
     },
     "metadata": {
      "needs_background": "light"
     },
     "output_type": "display_data"
    }
   ],
   "source": [
    "dt = edt(im)\n",
    "peaks = ps.filters.find_peaks(dt, r_max=4)\n",
    "\n",
    "x = ps.filters.trim_nearby_peaks(peaks=peaks, dt=dt)\n",
    "\n",
    "fix, ax = plt.subplots(1, 2, figsize=[8, 4])\n",
    "ax[0].axis(False)\n",
    "ax[0].imshow(peaks/im)\n",
    "ax[1].axis(False)\n",
    "ax[1].imshow(x/im);"
   ]
  }
 ],
 "metadata": {
  "kernelspec": {
   "display_name": "Python 3",
   "language": "python",
   "name": "python3"
  },
  "language_info": {
   "codemirror_mode": {
    "name": "ipython",
    "version": 3
   },
   "file_extension": ".py",
   "mimetype": "text/x-python",
   "name": "python",
   "nbconvert_exporter": "python",
   "pygments_lexer": "ipython3",
   "version": "3.8.5"
  }
 },
 "nbformat": 4,
 "nbformat_minor": 4
}
