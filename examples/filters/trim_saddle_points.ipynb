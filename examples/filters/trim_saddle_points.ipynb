{
 "cells": [
  {
   "cell_type": "code",
   "execution_count": 1,
   "metadata": {},
   "outputs": [],
   "source": [
    "import numpy as np\n",
    "import porespy as ps\n",
    "import scipy.ndimage as spim\n",
    "import matplotlib.pyplot as plt\n",
    "import skimage"
   ]
  },
  {
   "cell_type": "markdown",
   "metadata": {},
   "source": [
    "Removes peaks that are on a saddle in the distance transform (and are not actually a local peak)."
   ]
  },
  {
   "cell_type": "markdown",
   "metadata": {},
   "source": [
    "generate input values:"
   ]
  },
  {
   "cell_type": "code",
   "execution_count": 2,
   "metadata": {},
   "outputs": [
    {
     "name": "stdout",
     "output_type": "stream",
     "text": [
      "--------------------------------------------------------------------------------\n",
      "RSA: Adding spheres of size 15\n",
      "Initial volume fraction: 0.0\n",
      "Dilating foreground features by sphere radius\n",
      "Regenerating free_sites after 50 iterations\n",
      "Regenerating free_sites after 61 iterations\n",
      "Regenerating free_sites after 63 iterations\n",
      "Number of spheres inserted: 63\n",
      "Final volume fraction: 0.4879\n"
     ]
    },
    {
     "data": {
      "image/png": "[encoded data removed]",
      "text/plain": [
       "<Figure size 432x288 with 1 Axes>"
      ]
     },
     "metadata": {
      "needs_background": "light"
     },
     "output_type": "display_data"
    }
   ],
   "source": [
    "im = np.zeros([300, 300])\n",
    "im = ps.generators.RSA(im, radius=15, volume_fraction=0.5)\n",
    "dt = ps.filters.distance_transform_lin(im, axis = 1, mode = \"both\")\n",
    "r_max = 4\n",
    "footprint = None\n",
    "peaks = ps.filters.find_peaks(dt, r_max=4, footprint=None)\n",
    "plt.imshow(peaks)\n",
    "max_iters=10\n",
    "verbose=1"
   ]
  },
  {
   "cell_type": "markdown",
   "metadata": {},
   "source": [
    "apply filter:"
   ]
  },
  {
   "cell_type": "code",
   "execution_count": 3,
   "metadata": {},
   "outputs": [
    {
     "data": {
      "text/plain": [
       "<matplotlib.image.AxesImage at 0x17498ef9430>"
      ]
     },
     "execution_count": 3,
     "metadata": {},
     "output_type": "execute_result"
    },
    {
     "data": {
      "image/png": "[encoded data removed]",
      "text/plain": [
       "<Figure size 432x288 with 1 Axes>"
      ]
     },
     "metadata": {
      "needs_background": "light"
     },
     "output_type": "display_data"
    }
   ],
   "source": [
    "x = ps.filters.trim_saddle_points(peaks, dt, max_iters=10, verbose=1)\n",
    "plt.imshow(x)"
   ]
  }
 ],
 "metadata": {
  "kernelspec": {
   "display_name": "Python 3",
   "language": "python",
   "name": "python3"
  },
  "language_info": {
   "codemirror_mode": {
    "name": "ipython",
    "version": 3
   },
   "file_extension": ".py",
   "mimetype": "text/x-python",
   "name": "python",
   "nbconvert_exporter": "python",
   "pygments_lexer": "ipython3",
   "version": "3.8.5"
  }
 },
 "nbformat": 4,
 "nbformat_minor": 4
}
