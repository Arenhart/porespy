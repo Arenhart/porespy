{
 "cells": [
  {
   "cell_type": "markdown",
   "metadata": {},
   "source": [
    "# trim_nearby_peaks"
   ]
  },
  {
   "cell_type": "code",
   "execution_count": 1,
   "metadata": {
    "jupyter": {
     "source_hidden": true
    },
    "tags": []
   },
   "outputs": [
    {
     "data": {
      "text/markdown": [
       "---\n",
       " ## Documentation for ``trim_nearby_peaks``\n",
       " ---\n",
       "**<span style=\"color:purple\">trim&#95;nearby&#95;peaks</span>_(peaks, dt)_**\n",
       "\n",
       "\n",
       "Finds pairs of peaks that are nearer to each other than to the solid\n",
       "phase, and removes the peak that is closer to the solid.\n",
       "\n",
       "\n",
       "#### Parameters\n",
       "* peaks : <b><i>ndarray</i></b>  A boolean image containing True values to mark peaks in the\n",
       "\tdistance transform (``dt``)\n",
       "* dt : <b><i>ndarray</i></b>  The distance transform of the pore space for which the true peaks\n",
       "\tare sought.\n",
       "\n",
       "#### Returns\n",
       "* image : <b><i>ndarray</i></b>  An array the same size as ``peaks`` containing a subset of the\n",
       "\tpeaks in the original image.\n",
       "\n",
       "#### Notes\n",
       "Each pair of peaks is considered simultaneously, so for a triplet of\n",
       "peaks each pair is considered.  This ensures that only the single peak\n",
       "that is furthest from the solid is kept.  No iteration is required.\n",
       "\n",
       "#### References\n",
       "[1] Gostick, J. \"A versatile and efficient network extraction\n",
       "algorithm using marker-based watershed segmenation\".  Physical Review\n",
       "E. (2017)\n",
       "---"
      ],
      "text/plain": [
       "<IPython.core.display.Markdown object>"
      ]
     },
     "execution_count": 1,
     "metadata": {},
     "output_type": "execute_result"
    }
   ],
   "source": [
    "import porespy as ps\n",
    "from IPython.display import Markdown as show\n",
    "show(ps.tools.show_docstring(ps.filters.trim_nearby_peaks))"
   ]
  },
  {
   "cell_type": "markdown",
   "metadata": {},
   "source": [
    "## Import packages"
   ]
  },
  {
   "cell_type": "code",
   "execution_count": 2,
   "metadata": {},
   "outputs": [],
   "source": [
    "import numpy as np\n",
    "import porespy as ps\n",
    "import scipy.ndimage as spim\n",
    "import matplotlib.pyplot as plt\n",
    "import skimage"
   ]
  },
  {
   "cell_type": "markdown",
   "metadata": {},
   "source": [
    "## Create image and variables:"
   ]
  },
  {
   "cell_type": "code",
   "execution_count": 3,
   "metadata": {},
   "outputs": [
    {
     "data": {
      "text/plain": [
       "<matplotlib.image.AxesImage at 0x7fca6010cb80>"
      ]
     },
     "execution_count": 3,
     "metadata": {},
     "output_type": "execute_result"
    },
    {
     "data": {
      "image/png": "[encoded data removed]",
      "text/plain": [
       "<Figure size 720x720 with 1 Axes>"
      ]
     },
     "metadata": {
      "needs_background": "light"
     },
     "output_type": "display_data"
    }
   ],
   "source": [
    "im = np.zeros([300, 300])\n",
    "im = ps.generators.RSA(im, radius=15, volume_fraction=0.5)\n",
    "dt = ps.filters.distance_transform_lin(im, axis = 1, mode = \"both\")\n",
    "r_max = 4\n",
    "footprint = None\n",
    "peaks = ps.filters.find_peaks(dt, r_max=4, footprint=None)\n",
    "plt.figure(figsize=[10, 10])\n",
    "plt.axis(False)\n",
    "plt.imshow(peaks)"
   ]
  },
  {
   "cell_type": "markdown",
   "metadata": {},
   "source": [
    "## Apply filter function:\n",
    "With different parameters"
   ]
  },
  {
   "cell_type": "code",
   "execution_count": 4,
   "metadata": {},
   "outputs": [
    {
     "data": {
      "text/plain": [
       "<matplotlib.image.AxesImage at 0x7fca5bef0400>"
      ]
     },
     "execution_count": 4,
     "metadata": {},
     "output_type": "execute_result"
    },
    {
     "data": {
      "image/png": "[encoded data removed]",
      "text/plain": [
       "<Figure size 720x720 with 1 Axes>"
      ]
     },
     "metadata": {
      "needs_background": "light"
     },
     "output_type": "display_data"
    }
   ],
   "source": [
    "x = ps.filters.trim_nearby_peaks(peaks=peaks, dt=dt)\n",
    "plt.figure(figsize=[10, 10])\n",
    "plt.axis(False)\n",
    "plt.imshow(x)"
   ]
  }
 ],
 "metadata": {
  "kernelspec": {
   "display_name": "Python 3",
   "language": "python",
   "name": "python3"
  },
  "language_info": {
   "codemirror_mode": {
    "name": "ipython",
    "version": 3
   },
   "file_extension": ".py",
   "mimetype": "text/x-python",
   "name": "python",
   "nbconvert_exporter": "python",
   "pygments_lexer": "ipython3",
   "version": "3.8.8"
  }
 },
 "nbformat": 4,
 "nbformat_minor": 4
}
