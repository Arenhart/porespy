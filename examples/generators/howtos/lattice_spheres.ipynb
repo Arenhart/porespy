{
 "cells": [
  {
   "cell_type": "markdown",
   "metadata": {},
   "source": [
    "# lattice_spheres"
   ]
  },
  {
   "cell_type": "code",
   "execution_count": 1,
   "metadata": {
    "jupyter": {
     "source_hidden": true
    },
    "tags": []
   },
   "outputs": [
    {
     "data": {
      "text/markdown": [
       "---\n",
       " ## Documentation for ``lattice_spheres``\n",
       " ---\n",
       "**<span style=\"color:purple\">lattice&#95;spheres</span>_(shape: List[int], radius: int, spacing: int = None, offset: int = None, smooth: bool = True, lattice: str = 'sc')_**\n",
       "\n",
       "\n",
       "Generates a cubic packing of spheres in a specified lattice arrangement\n",
       "\n",
       "\n",
       "#### Parameters\n",
       "* shape : <b><i>list</i></b>  The size of the image to generate in [Nx, Ny, Nz] where N is the\n",
       "\tnumber of voxels in each direction.  For a 2D image, use [Nx, Ny].\n",
       "* radius : <b><i>int</i></b>  The radius of spheres (circles) in the packing\n",
       "* spacing : <b><i>int or list of ints</i></b>  The spacing between unit cells. If the spacing is too small then\n",
       "\tspheres may overlap. If an ``int`` is given it will be applied in all\n",
       "\tdirections, while a list of ``int``s will be interpreted to apply\n",
       "\talong each axis.\n",
       "* offset : <b><i>int or list of ints</i></b>  The amount offset to add between sphere centers and the edges of the\n",
       "\timage.  A single ``int`` will be applied in all directions, while a\n",
       "\tlist of ``int``s will be interpreted to apply along each axis.\n",
       "* smooth : <b><i>bool</i></b>  If ``True`` (default) the outer extremities of the sphere will not\n",
       "\thave the little bumps on each face.\n",
       "* lattice : <b><i>string</i></b>  Specifies the type of lattice to create.  Options are:\n",
       "\t\n",
       "\t'sc' - Simple Cubic (default)\n",
       "\t\n",
       "\t'fcc' - Face Centered Cubic\n",
       "\t\n",
       "\t'bcc' - Body Centered Cubic\n",
       "\t\n",
       "\tFor 2D images, 'sc' gives a square lattice and both 'fcc' and 'bcc'\n",
       "\tgive a triangular lattice.\n",
       "\n",
       "#### Returns\n",
       "* image : <b><i>ND-array</i></b>  A boolean array with ``True`` values denoting the pore space\n",
       "---"
      ],
      "text/plain": [
       "<IPython.core.display.Markdown object>"
      ]
     },
     "execution_count": 1,
     "metadata": {},
     "output_type": "execute_result"
    }
   ],
   "source": [
    "import porespy as ps\n",
    "from IPython.display import Markdown as show\n",
    "show(ps.tools.show_docstring(ps.generators.lattice_spheres))"
   ]
  },
  {
   "cell_type": "markdown",
   "metadata": {},
   "source": [
    "## Import packages"
   ]
  },
  {
   "cell_type": "code",
   "execution_count": 2,
   "metadata": {},
   "outputs": [],
   "source": [
    "import numpy as np\n",
    "import porespy as ps\n",
    "import scipy\n",
    "import matplotlib.pyplot as plt\n",
    "ps.visualization.set_mpl_style()\n",
    "np.random.seed(10)"
   ]
  },
  {
   "cell_type": "markdown",
   "metadata": {},
   "source": [
    "## Create variables:"
   ]
  },
  {
   "cell_type": "code",
   "execution_count": 3,
   "metadata": {},
   "outputs": [],
   "source": [
    "shape = [100,100,100]\n",
    "radius = 10\n",
    "\n",
    "#Default Values:\n",
    "offset = 0\n",
    "lattice = \"sc\""
   ]
  },
  {
   "cell_type": "markdown",
   "metadata": {},
   "source": [
    "## Apply generator function:"
   ]
  },
  {
   "cell_type": "code",
   "execution_count": 4,
   "metadata": {},
   "outputs": [
    {
     "data": {
      "text/plain": [
       "Text(0.5, 1.0, 'default values, radius = 10')"
      ]
     },
     "execution_count": 4,
     "metadata": {},
     "output_type": "execute_result"
    },
    {
     "data": {
      "image/png": "[encoded data removed]",
      "text/plain": [
       "<Figure size 504x504 with 1 Axes>"
      ]
     },
     "metadata": {
      "needs_background": "light"
     },
     "output_type": "display_data"
    }
   ],
   "source": [
    "x = ps.generators.lattice_spheres(shape=shape, radius=radius, offset=offset, lattice=lattice)\n",
    "\n",
    "fig, ax = plt.subplots(figsize=[7,7]);\n",
    "graphx = ps.visualization.imshow(x);\n",
    "plt.axis(False)\n",
    "plt.title('default values, radius = 10')"
   ]
  },
  {
   "cell_type": "markdown",
   "metadata": {},
   "source": [
    "### radius"
   ]
  },
  {
   "cell_type": "code",
   "execution_count": 5,
   "metadata": {},
   "outputs": [
    {
     "data": {
      "text/plain": [
       "Text(0.5, 1.0, 'radius = 15')"
      ]
     },
     "execution_count": 5,
     "metadata": {},
     "output_type": "execute_result"
    },
    {
     "data": {
      "image/png": "[encoded data removed]",
      "text/plain": [
       "<Figure size 504x504 with 1 Axes>"
      ]
     },
     "metadata": {
      "needs_background": "light"
     },
     "output_type": "display_data"
    }
   ],
   "source": [
    "xx = ps.generators.lattice_spheres(shape=shape, radius=15, offset=offset, lattice=lattice)\n",
    "\n",
    "fig, ax = plt.subplots(figsize=[7,7]);\n",
    "graphx = ps.visualization.imshow(xx);\n",
    "plt.axis(False)\n",
    "plt.title('radius = 15')"
   ]
  },
  {
   "cell_type": "markdown",
   "metadata": {},
   "source": [
    "### offset"
   ]
  },
  {
   "cell_type": "code",
   "execution_count": 6,
   "metadata": {},
   "outputs": [
    {
     "data": {
      "text/plain": [
       "Text(0.5, 1.0, 'offset = 5')"
      ]
     },
     "execution_count": 6,
     "metadata": {},
     "output_type": "execute_result"
    },
    {
     "data": {
      "image/png": "[encoded data removed]",
      "text/plain": [
       "<Figure size 504x504 with 1 Axes>"
      ]
     },
     "metadata": {
      "needs_background": "light"
     },
     "output_type": "display_data"
    }
   ],
   "source": [
    "xx = ps.generators.lattice_spheres(shape=shape, radius=radius, offset=5, lattice=lattice)\n",
    "\n",
    "fig, ax = plt.subplots(figsize=[7,7]);\n",
    "graphx = ps.visualization.imshow(xx);\n",
    "plt.axis(False)\n",
    "plt.title('offset = 5')"
   ]
  },
  {
   "cell_type": "markdown",
   "metadata": {},
   "source": [
    "### lattice\n",
    "lattice options are sc, fcc, and bcc"
   ]
  },
  {
   "cell_type": "code",
   "execution_count": 7,
   "metadata": {},
   "outputs": [
    {
     "data": {
      "text/plain": [
       "Text(0.5, 1.0, 'lattice = fcc')"
      ]
     },
     "execution_count": 7,
     "metadata": {},
     "output_type": "execute_result"
    },
    {
     "data": {
      "image/png": "[encoded data removed]",
      "text/plain": [
       "<Figure size 504x504 with 1 Axes>"
      ]
     },
     "metadata": {
      "needs_background": "light"
     },
     "output_type": "display_data"
    }
   ],
   "source": [
    "xx = ps.generators.lattice_spheres(shape=shape, radius=radius, offset=offset, lattice= \"fcc\")\n",
    "\n",
    "fig, ax = plt.subplots(figsize=[7,7]);\n",
    "graphx = ps.visualization.imshow(xx);\n",
    "plt.axis(False)\n",
    "plt.title('lattice = fcc')"
   ]
  }
 ],
 "metadata": {
  "kernelspec": {
   "display_name": "Python 3",
   "language": "python",
   "name": "python3"
  },
  "language_info": {
   "codemirror_mode": {
    "name": "ipython",
    "version": 3
   },
   "file_extension": ".py",
   "mimetype": "text/x-python",
   "name": "python",
   "nbconvert_exporter": "python",
   "pygments_lexer": "ipython3",
   "version": "3.8.8"
  }
 },
 "nbformat": 4,
 "nbformat_minor": 4
}
