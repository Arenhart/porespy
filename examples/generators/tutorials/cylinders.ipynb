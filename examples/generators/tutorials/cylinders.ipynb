{
 "cells": [
  {
   "cell_type": "markdown",
   "metadata": {},
   "source": [
    "# Generating fibrous mats\n",
    "In this notebook, we're learning how to use `porespy.generators.cylinders` method to generate images that mimic fibrous mats."
   ]
  },
  {
   "cell_type": "code",
   "execution_count": 1,
   "metadata": {},
   "outputs": [],
   "source": [
    "import time\n",
    "import porespy as ps\n",
    "import matplotlib.pyplot as plt\n",
    "import numpy as np\n",
    "ps.visualization.set_mpl_style()\n",
    "np.random.seed(10)"
   ]
  },
  {
   "cell_type": "markdown",
   "metadata": {},
   "source": [
    "The `cylinders` function works either by providing the number of cylinders or the target porosity. If the number of cylinders is given, the function tries to fit in that many cylinders in a bounding box defined by its shape.\n",
    "\n",
    "When providing porosity, the function works by estimating the number of cylinders needed to be inserted into the domain by estimating cylinder length, and exploiting the fact that, when inserting any potentially overlapping objects randomly into a volume v_total (which has units of pixels and is equal to dimx x dimy x dimz, for example), such that the total volume of objects added to the volume is v_added (and includes any volume that was inserted but overlapped with already occupied space), the resulting porosity will be equal to:\n",
    "\n",
    "$$\\epsilon = \\exp(-\\frac{V_{added}}{V_{total}})$$\n",
    "\n",
    "After intially estimating the cylinder number and inserting a small fraction of the estimated number, the true cylinder volume is calculated, the estimate refined, and a larger fraction of cylinderss inserted. This is repeated a number of times according to the `max_iter` argument, yielding an image with a porosity close to the goal.\n",
    "\n",
    "This first example shows that the output images are similar to the output of `cylinders` when providing the number of cylinders (for an image with the same number of cylinders), and that the goal porosity is reached."
   ]
  },
  {
   "cell_type": "code",
   "execution_count": 2,
   "metadata": {},
   "outputs": [
    {
     "data": {
      "application/vnd.jupyter.widget-view+json": {
       "model_id": "",
       "version_major": 2,
       "version_minor": 0
      },
      "text/plain": [
       "  0%|          | 0/3 [00:00<?, ?it/s]"
      ]
     },
     "metadata": {},
     "output_type": "display_data"
    },
    {
     "name": "stdout",
     "output_type": "stream",
     "text": [
      "Output porosity is 0.807276.\n"
     ]
    },
    {
     "data": {
      "application/vnd.jupyter.widget-view+json": {
       "model_id": "",
       "version_major": 2,
       "version_minor": 0
      },
      "text/plain": [
       "0it [00:00, ?it/s]"
      ]
     },
     "metadata": {},
     "output_type": "display_data"
    },
    {
     "data": {
      "text/plain": [
       "<function matplotlib.pyplot.title(label, fontdict=None, loc=None, pad=None, *, y=None, **kwargs)>"
      ]
     },
     "execution_count": 2,
     "metadata": {},
     "output_type": "execute_result"
    },
    {
     "data": {
      "image/png": "[encoded data removed]",
      "text/plain": [
       "<Figure size 504x504 with 1 Axes>"
      ]
     },
     "metadata": {
      "needs_background": "light"
     },
     "output_type": "display_data"
    },
    {
     "data": {
      "image/png": "[encoded data removed]",
      "text/plain": [
       "<Figure size 504x504 with 1 Axes>"
      ]
     },
     "metadata": {
      "needs_background": "light"
     },
     "output_type": "display_data"
    }
   ],
   "source": [
    "dim = 100\n",
    "shape = [dim, dim, dim]\n",
    "radius = 4\n",
    "phi_max = 0\n",
    "theta_max = 90\n",
    "length = None\n",
    "max_iter = 3\n",
    "target_porosity = 0.8\n",
    "\n",
    "# Generate image by providing the target porosity\n",
    "im_using_porosity = ps.generators.cylinders(\n",
    "    shape=shape,\n",
    "    radius=radius,\n",
    "    porosity=target_porosity,\n",
    "    phi_max=phi_max,\n",
    "    theta_max=theta_max,\n",
    "    length=length,\n",
    "    max_iter=max_iter\n",
    ")\n",
    "\n",
    "print(f\"Output porosity is {ps.metrics.porosity(im_using_porosity)}.\")\n",
    "\n",
    "# Now generate another image by providing the number of cylinders rather than porosity\n",
    "im_using_ncylinders = ps.generators.cylinders(\n",
    "    shape=shape,\n",
    "    radius=radius,\n",
    "    ncylinders=293,\n",
    "    phi_max=phi_max,\n",
    "    theta_max=theta_max,\n",
    "    length=length,\n",
    "    max_iter=max_iter\n",
    ")\n",
    "\n",
    "fig, ax = plt.subplots(figsize=[7, 7]);\n",
    "ps.visualization.imshow(im_using_porosity);\n",
    "plt.axis(False)\n",
    "plt.title\n",
    "fig, ax = plt.subplots(figsize=[7, 7]);\n",
    "ps.visualization.imshow(im_using_ncylinders);\n",
    "plt.axis(False)\n",
    "plt.title"
   ]
  },
  {
   "cell_type": "markdown",
   "metadata": {},
   "source": [
    "This next block shows that the time penalty over inserting the same number of fibers using generators.cylinders is about 2x, and the time penalty ratio increases with requested porosity, when image generation is faster anyway."
   ]
  },
  {
   "cell_type": "code",
   "execution_count": 3,
   "metadata": {},
   "outputs": [
    {
     "data": {
      "application/vnd.jupyter.widget-view+json": {
       "model_id": "",
       "version_major": 2,
       "version_minor": 0
      },
      "text/plain": [
       "  0%|          | 0/3 [00:00<?, ?it/s]"
      ]
     },
     "metadata": {},
     "output_type": "display_data"
    },
    {
     "data": {
      "application/vnd.jupyter.widget-view+json": {
       "model_id": "",
       "version_major": 2,
       "version_minor": 0
      },
      "text/plain": [
       "  0%|          | 0/3 [00:00<?, ?it/s]"
      ]
     },
     "metadata": {},
     "output_type": "display_data"
    },
    {
     "data": {
      "application/vnd.jupyter.widget-view+json": {
       "model_id": "",
       "version_major": 2,
       "version_minor": 0
      },
      "text/plain": [
       "  0%|          | 0/3 [00:00<?, ?it/s]"
      ]
     },
     "metadata": {},
     "output_type": "display_data"
    },
    {
     "data": {
      "application/vnd.jupyter.widget-view+json": {
       "model_id": "",
       "version_major": 2,
       "version_minor": 0
      },
      "text/plain": [
       "  0%|          | 0/3 [00:00<?, ?it/s]"
      ]
     },
     "metadata": {},
     "output_type": "display_data"
    }
   ],
   "source": [
    "porosity_target = [0.1, 0.4, 0.8, 0.95]\n",
    "porosity_actual = []\n",
    "runtime_ratios = []\n",
    "runtime_porosity = []\n",
    "runtime_ncylinder = []\n",
    "\n",
    "for eps in porosity_target:\n",
    "    temp = time.time()\n",
    "    im = ps.generators.cylinders(\n",
    "        shape=shape,\n",
    "        radius=radius,\n",
    "        porosity=eps,\n",
    "        phi_max=phi_max,\n",
    "        theta_max=theta_max,\n",
    "        length=length,\n",
    "        max_iter=max_iter\n",
    "    )\n",
    "    runtime_porosity.append(time.time() - temp)\n",
    "    porosity_actual.append(ps.metrics.porosity(im))"
   ]
  },
  {
   "cell_type": "code",
   "execution_count": 4,
   "metadata": {},
   "outputs": [
    {
     "data": {
      "application/vnd.jupyter.widget-view+json": {
       "model_id": "",
       "version_major": 2,
       "version_minor": 0
      },
      "text/plain": [
       "0it [00:00, ?it/s]"
      ]
     },
     "metadata": {},
     "output_type": "display_data"
    },
    {
     "data": {
      "application/vnd.jupyter.widget-view+json": {
       "model_id": "",
       "version_major": 2,
       "version_minor": 0
      },
      "text/plain": [
       "0it [00:00, ?it/s]"
      ]
     },
     "metadata": {},
     "output_type": "display_data"
    },
    {
     "data": {
      "application/vnd.jupyter.widget-view+json": {
       "model_id": "",
       "version_major": 2,
       "version_minor": 0
      },
      "text/plain": [
       "0it [00:00, ?it/s]"
      ]
     },
     "metadata": {},
     "output_type": "display_data"
    },
    {
     "data": {
      "application/vnd.jupyter.widget-view+json": {
       "model_id": "",
       "version_major": 2,
       "version_minor": 0
      },
      "text/plain": [
       "0it [00:00, ?it/s]"
      ]
     },
     "metadata": {},
     "output_type": "display_data"
    }
   ],
   "source": [
    "# The number of cylinders added during the previous phase\n",
    "ncylinders = [3033, 1143, 294, 75]\n",
    "\n",
    "for ncylinder in ncylinders:\n",
    "    temp = time.time()\n",
    "    im = ps.generators.cylinders(\n",
    "        shape=shape,\n",
    "        radius=radius,\n",
    "        ncylinders=ncylinder,\n",
    "        phi_max=phi_max,\n",
    "        theta_max=theta_max,\n",
    "        length=length,\n",
    "        max_iter=max_iter\n",
    "    )\n",
    "    runtime_ncylinder.append(time.time() - temp)\n",
    "\n",
    "runtime_ratios = [t1 / t2 for (t1, t2) in zip(runtime_porosity, runtime_ncylinder)]"
   ]
  },
  {
   "cell_type": "code",
   "execution_count": 5,
   "metadata": {},
   "outputs": [
    {
     "data": {
      "image/png": "[encoded data removed]",
      "text/plain": [
       "<Figure size 432x288 with 1 Axes>"
      ]
     },
     "metadata": {
      "needs_background": "light"
     },
     "output_type": "display_data"
    },
    {
     "data": {
      "image/png": "[encoded data removed]",
      "text/plain": [
       "<Figure size 432x288 with 1 Axes>"
      ]
     },
     "metadata": {
      "needs_background": "light"
     },
     "output_type": "display_data"
    }
   ],
   "source": [
    "fig, ax = plt.subplots()\n",
    "ax.scatter(porosity_target, runtime_ncylinder, label='Using number of cylinders')\n",
    "ax.scatter(porosity_target, runtime_porosity, label='Using porosity')\n",
    "ax.set_xlabel('Goal Porosity');\n",
    "ax.set_ylabel('Duration [sec]');\n",
    "ax.legend()\n",
    "\n",
    "fig, ax = plt.subplots()\n",
    "ax.scatter(porosity_target, porosity_actual)\n",
    "ax.plot(porosity_target, porosity_target, \"g--\")\n",
    "ax.set_xlabel('Goal Porosity');\n",
    "ax.set_ylabel('Attained porosity');"
   ]
  },
  {
   "cell_type": "markdown",
   "metadata": {},
   "source": [
    "Lastly, this block shows that more iterations improves proximity to goal porosity."
   ]
  },
  {
   "cell_type": "code",
   "execution_count": 6,
   "metadata": {},
   "outputs": [
    {
     "data": {
      "application/vnd.jupyter.widget-view+json": {
       "model_id": "",
       "version_major": 2,
       "version_minor": 0
      },
      "text/plain": [
       "  0%|          | 0/3 [00:00<?, ?it/s]"
      ]
     },
     "metadata": {},
     "output_type": "display_data"
    },
    {
     "data": {
      "application/vnd.jupyter.widget-view+json": {
       "model_id": "",
       "version_major": 2,
       "version_minor": 0
      },
      "text/plain": [
       "  0%|          | 0/4 [00:00<?, ?it/s]"
      ]
     },
     "metadata": {},
     "output_type": "display_data"
    },
    {
     "data": {
      "application/vnd.jupyter.widget-view+json": {
       "model_id": "",
       "version_major": 2,
       "version_minor": 0
      },
      "text/plain": [
       "  0%|          | 0/5 [00:00<?, ?it/s]"
      ]
     },
     "metadata": {},
     "output_type": "display_data"
    },
    {
     "data": {
      "application/vnd.jupyter.widget-view+json": {
       "model_id": "",
       "version_major": 2,
       "version_minor": 0
      },
      "text/plain": [
       "  0%|          | 0/6 [00:00<?, ?it/s]"
      ]
     },
     "metadata": {},
     "output_type": "display_data"
    },
    {
     "data": {
      "application/vnd.jupyter.widget-view+json": {
       "model_id": "",
       "version_major": 2,
       "version_minor": 0
      },
      "text/plain": [
       "  0%|          | 0/7 [00:00<?, ?it/s]"
      ]
     },
     "metadata": {},
     "output_type": "display_data"
    },
    {
     "data": {
      "application/vnd.jupyter.widget-view+json": {
       "model_id": "",
       "version_major": 2,
       "version_minor": 0
      },
      "text/plain": [
       "  0%|          | 0/8 [00:00<?, ?it/s]"
      ]
     },
     "metadata": {},
     "output_type": "display_data"
    },
    {
     "data": {
      "application/vnd.jupyter.widget-view+json": {
       "model_id": "",
       "version_major": 2,
       "version_minor": 0
      },
      "text/plain": [
       "  0%|          | 0/9 [00:00<?, ?it/s]"
      ]
     },
     "metadata": {},
     "output_type": "display_data"
    },
    {
     "data": {
      "image/png": "[encoded data removed]",
      "text/plain": [
       "<Figure size 432x288 with 1 Axes>"
      ]
     },
     "metadata": {
      "needs_background": "light"
     },
     "output_type": "display_data"
    }
   ],
   "source": [
    "porosity_target = 0.85\n",
    "porosity_actual = []\n",
    "max_iters = range(3, 10)\n",
    "\n",
    "for max_iter in max_iters:\n",
    "    im = ps.generators.cylinders(\n",
    "        shape=shape,\n",
    "        radius=radius,\n",
    "        porosity=porosity_target,\n",
    "        phi_max=phi_max,\n",
    "        theta_max=theta_max,\n",
    "        length=length,\n",
    "        max_iter=max_iter\n",
    "    )\n",
    "    porosity_actual.append(ps.metrics.porosity(im))\n",
    "\n",
    "fig, ax = plt.subplots();\n",
    "ax.plot(max_iters, porosity_actual, \"o-\");\n",
    "ax.set_xlabel(\"Number of iterations\");\n",
    "ax.set_ylabel(\"Obtained porosity\");"
   ]
  }
 ],
 "metadata": {
  "kernelspec": {
   "display_name": "Python 3",
   "language": "python",
   "name": "python3"
  },
  "language_info": {
   "codemirror_mode": {
    "name": "ipython",
    "version": 3
   },
   "file_extension": ".py",
   "mimetype": "text/x-python",
   "name": "python",
   "nbconvert_exporter": "python",
   "pygments_lexer": "ipython3",
   "version": "3.8.8"
  }
 },
 "nbformat": 4,
 "nbformat_minor": 4
}
