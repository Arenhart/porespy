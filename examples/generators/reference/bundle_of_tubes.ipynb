{
 "cells": [
  {
   "cell_type": "markdown",
   "metadata": {},
   "source": [
    "# bundle_of_tubes"
   ]
  },
  {
   "cell_type": "markdown",
   "metadata": {},
   "source": [
    "#### Create a 3D image of a bundle of tubes, in the form of a rectangular plate with randomly sized holes through it."
   ]
  },
  {
   "cell_type": "markdown",
   "metadata": {},
   "source": [
    "## Import packages"
   ]
  },
  {
   "cell_type": "code",
   "execution_count": 1,
   "metadata": {},
   "outputs": [],
   "source": [
    "import matplotlib.pyplot as plt\n",
    "import numpy as np\n",
    "import porespy as ps\n",
    "\n",
    "ps.visualization.set_mpl_style()\n",
    "np.random.seed(10)"
   ]
  },
  {
   "cell_type": "markdown",
   "metadata": {},
   "source": [
    "## Generate image for testing"
   ]
  },
  {
   "cell_type": "code",
   "execution_count": 2,
   "metadata": {},
   "outputs": [
    {
     "data": {
      "image/svg+xml": [
       "<?xml version=\"1.0\" encoding=\"utf-8\" standalone=\"no\"?>\n",
       "<!DOCTYPE svg PUBLIC \"-//W3C//DTD SVG 1.1//EN\"\n",
       "  \"http://www.w3.org/Graphics/SVG/1.1/DTD/svg11.dtd\">\n",
       "<!-- Created with matplotlib (https://matplotlib.org/) -->\n",
       "<svg height=\"276.48pt\" version=\"1.1\" viewBox=\"0 0 276.48 276.48\" width=\"276.48pt\" xmlns=\"http://www.w3.org/2000/svg\" xmlns:xlink=\"http://www.w3.org/1999/xlink\">\n",
       " <metadata>\n",
       "  <rdf:RDF xmlns:cc=\"http://creativecommons.org/ns#\" xmlns:dc=\"http://purl.org/dc/elements/1.1/\" xmlns:rdf=\"http://www.w3.org/1999/02/22-rdf-syntax-ns#\">\n",
       "   <cc:Work>\n",
       "    <dc:type rdf:resource=\"http://purl.org/dc/dcmitype/StillImage\"/>\n",
       "    <dc:date>2021-04-20T11:09:48.799387</dc:date>\n",
       "    <dc:format>image/svg+xml</dc:format>\n",
       "    <dc:creator>\n",
       "     <cc:Agent>\n",
       "      <dc:title>Matplotlib v3.3.4, https://matplotlib.org/</dc:title>\n",
       "     </cc:Agent>\n",
       "    </dc:creator>\n",
       "   </cc:Work>\n",
       "  </rdf:RDF>\n",
       " </metadata>\n",
       " <defs>\n",
       "  <style type=\"text/css\">*{stroke-linecap:butt;stroke-linejoin:round;}</style>\n",
       " </defs>\n",
       " <g id=\"figure_1\">\n",
       "  <g id=\"patch_1\">\n",
       "   <path d=\"M 0 276.48 \n",
       "L 276.48 276.48 \n",
       "L 276.48 0 \n",
       "L 0 0 \n",
       "z\n",
       "\" style=\"fill:none;\"/>\n",
       "  </g>\n",
       "  <g id=\"axes_1\">\n",
       "   <g clip-path=\"url(#p129d1479a8)\">\n",
       "    <image height=\"500\" id=\"image51985d47ae\" style=\"image-rendering:crisp-edges;image-rendering:pixelated\" transform=\"matrix(0.526 0 0 0.526 7.2 6.28)\" width=\"500\" xlink:href=\"data:image/png;base64,\n",
       "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\"/>\n",
       "   </g>\n",
       "  </g>\n",
       " </g>\n",
       " <defs>\n",
       "  <clipPath id=\"p129d1479a8\">\n",
       "   <rect height=\"262.08\" width=\"262.08\" x=\"7.2\" y=\"7.2\"/>\n",
       "  </clipPath>\n",
       " </defs>\n",
       "</svg>\n"
      ],
      "text/plain": [
       "<Figure size 288x288 with 1 Axes>"
      ]
     },
     "metadata": {
      "needs_background": "light"
     },
     "output_type": "display_data"
    }
   ],
   "source": [
    "im = ps.generators.bundle_of_tubes(shape=[500, 500], spacing=12)\n",
    "plt.figure(figsize=[4, 4])\n",
    "plt.axis(False)\n",
    "plt.imshow(im);"
   ]
  }
 ],
 "metadata": {
  "kernelspec": {
   "display_name": "Python 3",
   "language": "python",
   "name": "python3"
  },
  "language_info": {
   "codemirror_mode": {
    "name": "ipython",
    "version": 3
   },
   "file_extension": ".py",
   "mimetype": "text/x-python",
   "name": "python",
   "nbconvert_exporter": "python",
   "pygments_lexer": "ipython3",
   "version": "3.8.8"
  }
 },
 "nbformat": 4,
 "nbformat_minor": 4
}
