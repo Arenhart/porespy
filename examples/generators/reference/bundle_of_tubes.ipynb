{
 "cells": [
  {
   "cell_type": "markdown",
   "metadata": {},
   "source": [
    "# `bundle_of_tubes`"
   ]
  },
  {
   "cell_type": "markdown",
   "metadata": {},
   "source": [
    "Create a 3D image of a bundle of tubes, in the form of a rectangular plate with randomly sized holes through it."
   ]
  },
  {
   "cell_type": "code",
   "execution_count": 16,
   "metadata": {},
   "outputs": [
    {
     "data": {
      "text/plain": [
       "<Signature (shape: List[int], spacing: int, distribution=None)>"
      ]
     },
     "execution_count": 16,
     "metadata": {},
     "output_type": "execute_result"
    }
   ],
   "source": [
    "import matplotlib.pyplot as plt\n",
    "import numpy as np\n",
    "import porespy as ps\n",
    "np.random.seed(10)\n",
    "import inspect\n",
    "inspect.signature(ps.generators.bundle_of_tubes)"
   ]
  },
  {
   "cell_type": "markdown",
   "metadata": {},
   "source": [
    "## `spacing`\n",
    "Controls how far apart each pore is, thus limiting the maximum size of each pore:"
   ]
  },
  {
   "cell_type": "code",
   "execution_count": 17,
   "metadata": {},
   "outputs": [
    {
     "data": {
      "image/png": "[encoded data removed]",
      "text/plain": [
       "<Figure size 576x288 with 2 Axes>"
      ]
     },
     "metadata": {
      "needs_background": "light"
     },
     "output_type": "display_data"
    }
   ],
   "source": [
    "fig, ax = plt.subplots(1, 2, figsize=[8, 4])\n",
    "\n",
    "shape = [300, 300]\n",
    "spacing = 10\n",
    "im = ps.generators.bundle_of_tubes(shape=shape, spacing=spacing)\n",
    "ax[0].imshow(im, origin='lower', interpolation='none')\n",
    "ax[0].axis(False)\n",
    "\n",
    "spacing = 15\n",
    "im = ps.generators.bundle_of_tubes(shape=shape, spacing=spacing)\n",
    "ax[1].imshow(im, origin='lower', interpolation='none')\n",
    "ax[1].axis(False);"
   ]
  },
  {
   "cell_type": "markdown",
   "metadata": {},
   "source": [
    "## `distribution`\n",
    "The default size distribution is a uniform (i.e. random) distribution with sizes ranging between 3 and ``spacing``.  To use a different distribution it can specify using a predefined ``scipy.stats`` object."
   ]
  },
  {
   "cell_type": "code",
   "execution_count": 18,
   "metadata": {},
   "outputs": [
    {
     "data": {
      "image/png": "[encoded data removed]",
      "text/plain": [
       "<Figure size 576x288 with 2 Axes>"
      ]
     },
     "metadata": {
      "needs_background": "light"
     },
     "output_type": "display_data"
    }
   ],
   "source": [
    "import scipy.stats as spst\n",
    "fig, ax = plt.subplots(1, 2, figsize=[8, 4])\n",
    "\n",
    "dst = spst.norm(loc=8, scale=1)\n",
    "im = ps.generators.bundle_of_tubes(shape=shape, spacing=spacing, distribution=dst)\n",
    "ax[0].imshow(im, origin='lower', interpolation='none')\n",
    "ax[0].axis(False)\n",
    "\n",
    "dst = spst.norm(loc=10, scale=4)\n",
    "im = ps.generators.bundle_of_tubes(shape=shape, spacing=spacing, distribution=dst)\n",
    "ax[1].imshow(im, origin='lower', interpolation='none')\n",
    "ax[1].axis(False);"
   ]
  }
 ],
 "metadata": {
  "kernelspec": {
   "display_name": "Python 3 (ipykernel)",
   "language": "python",
   "name": "python3"
  },
  "language_info": {
   "codemirror_mode": {
    "name": "ipython",
    "version": 3
   },
   "file_extension": ".py",
   "mimetype": "text/x-python",
   "name": "python",
   "nbconvert_exporter": "python",
   "pygments_lexer": "ipython3",
   "version": "3.9.7"
  }
 },
 "nbformat": 4,
 "nbformat_minor": 4
}
