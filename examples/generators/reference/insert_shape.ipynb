{
 "cells": [
  {
   "cell_type": "markdown",
   "metadata": {},
   "source": [
    "# `insert_shape`\n",
    "Inserts sub-image into a larger image at the specified location"
   ]
  },
  {
   "cell_type": "code",
   "execution_count": 1,
   "metadata": {
    "execution": {
     "iopub.execute_input": "2022-05-25T19:21:59.856883Z",
     "iopub.status.busy": "2022-05-25T19:21:59.853491Z",
     "iopub.status.idle": "2022-05-25T19:22:02.616166Z",
     "shell.execute_reply": "2022-05-25T19:22:02.615027Z"
    }
   },
   "outputs": [
    {
     "data": {
      "text/plain": [
       "<Signature (im, element, center=None, corner=None, value=1, mode='overwrite')>"
      ]
     },
     "execution_count": 1,
     "metadata": {},
     "output_type": "execute_result"
    }
   ],
   "source": [
    "import matplotlib.pyplot as plt\n",
    "import numpy as np\n",
    "import porespy as ps\n",
    "import inspect\n",
    "inspect.signature(ps.generators.insert_shape)"
   ]
  },
  {
   "cell_type": "code",
   "execution_count": 2,
   "metadata": {
    "execution": {
     "iopub.execute_input": "2022-05-25T19:22:02.621154Z",
     "iopub.status.busy": "2022-05-25T19:22:02.620033Z",
     "iopub.status.idle": "2022-05-25T19:22:02.720943Z",
     "shell.execute_reply": "2022-05-25T19:22:02.720023Z"
    }
   },
   "outputs": [
    {
     "data": {
      "image/png": "[encoded data removed]",
      "text/plain": [
       "<Figure size 432x432 with 1 Axes>"
      ]
     },
     "metadata": {
      "needs_background": "light"
     },
     "output_type": "display_data"
    }
   ],
   "source": [
    "im = np.zeros([50, 50], dtype=int)\n",
    "shape = np.random.rand(11, 11) > 0.5\n",
    "im = ps.generators.insert_shape(im=im, element=shape, center=[25, 25])\n",
    "\n",
    "fig, ax = plt.subplots(1, 1, figsize=[6, 6])\n",
    "ax.imshow(im, interpolation='none', origin='lower')\n",
    "ax.axis(False);"
   ]
  },
  {
   "cell_type": "markdown",
   "metadata": {},
   "source": [
    "## `value`\n",
    "The value of the inserted voxels can be specified:"
   ]
  },
  {
   "cell_type": "code",
   "execution_count": 3,
   "metadata": {
    "execution": {
     "iopub.execute_input": "2022-05-25T19:22:02.725199Z",
     "iopub.status.busy": "2022-05-25T19:22:02.724804Z",
     "iopub.status.idle": "2022-05-25T19:22:02.792733Z",
     "shell.execute_reply": "2022-05-25T19:22:02.792033Z"
    }
   },
   "outputs": [
    {
     "data": {
      "image/png": "[encoded data removed]",
      "text/plain": [
       "<Figure size 432x432 with 1 Axes>"
      ]
     },
     "metadata": {
      "needs_background": "light"
     },
     "output_type": "display_data"
    }
   ],
   "source": [
    "shape = np.random.rand(11, 11) > 0.5\n",
    "im = ps.generators.insert_shape(im=im, element=shape, center=[8, 8], value=3)\n",
    "\n",
    "fig, ax = plt.subplots(1, 1, figsize=[6, 6])\n",
    "ax.imshow(im, interpolation='none', origin='lower')\n",
    "ax.axis(False);"
   ]
  },
  {
   "cell_type": "markdown",
   "metadata": {},
   "source": [
    "## `mode`\n",
    "If ``mode='overwrite'`` then the inserted image will overwrite anything present in the image.  If ``mode='overlay'`` then the existing values will be added to inserted ones."
   ]
  },
  {
   "cell_type": "code",
   "execution_count": 4,
   "metadata": {
    "execution": {
     "iopub.execute_input": "2022-05-25T19:22:02.797337Z",
     "iopub.status.busy": "2022-05-25T19:22:02.796233Z",
     "iopub.status.idle": "2022-05-25T19:22:02.955791Z",
     "shell.execute_reply": "2022-05-25T19:22:02.954996Z"
    }
   },
   "outputs": [
    {
     "data": {
      "image/png": "[encoded data removed]",
      "text/plain": [
       "<Figure size 864x432 with 2 Axes>"
      ]
     },
     "metadata": {
      "needs_background": "light"
     },
     "output_type": "display_data"
    }
   ],
   "source": [
    "im = np.zeros([50, 50], dtype=int)\n",
    "\n",
    "shape = np.ones([11, 11])\n",
    "im = ps.generators.insert_shape(im=im, element=shape, center=[25, 25], value=3)\n",
    "im = ps.generators.insert_shape(im=im, element=shape, center=[18, 18], value=5, mode='overwrite')\n",
    "\n",
    "fig, ax = plt.subplots(1, 2, figsize=[12, 6])\n",
    "ax[0].imshow(im, interpolation='none', origin='lower')\n",
    "ax[0].axis(False)\n",
    "\n",
    "im = ps.generators.insert_shape(im=im, element=shape, center=[12, 12], value=7, mode='overlay')\n",
    "ax[1].imshow(im, interpolation='none', origin='lower')\n",
    "ax[1].axis(False);"
   ]
  },
  {
   "cell_type": "markdown",
   "metadata": {},
   "source": [
    "## `center` and `corner`\n",
    "Specifies where to insert the shape.  Only one of the other can be supplied.  If center, then the center of the inserted image will be placed on at the provide locations.  In this case the inserted image must have all odd-length dimensions so that a true center can be found.  Alternatively, the corner can be specified which lines up the bottom-left corner of the inserted image with the given coordinates."
   ]
  },
  {
   "cell_type": "code",
   "execution_count": 5,
   "metadata": {
    "execution": {
     "iopub.execute_input": "2022-05-25T19:22:02.961848Z",
     "iopub.status.busy": "2022-05-25T19:22:02.960547Z",
     "iopub.status.idle": "2022-05-25T19:22:03.076882Z",
     "shell.execute_reply": "2022-05-25T19:22:03.076089Z"
    }
   },
   "outputs": [
    {
     "data": {
      "image/png": "[encoded data removed]",
      "text/plain": [
       "<Figure size 432x432 with 1 Axes>"
      ]
     },
     "metadata": {
      "needs_background": "light"
     },
     "output_type": "display_data"
    }
   ],
   "source": [
    "im = np.zeros([50, 50], dtype=int)\n",
    "\n",
    "shape = np.ones([11, 11])\n",
    "im = ps.generators.insert_shape(im=im, element=shape, center=[35, 35], value=2)\n",
    "im = ps.generators.insert_shape(im=im, element=shape, corner=[10, 10], value=3)\n",
    "\n",
    "fig, ax = plt.subplots(1, 1, figsize=[6, 6])\n",
    "ax.imshow(im, interpolation='none', origin='lower')\n",
    "ax.axis(False);"
   ]
  }
 ],
 "metadata": {
  "kernelspec": {
   "display_name": "Python 3 (ipykernel)",
   "language": "python",
   "name": "python3"
  },
  "language_info": {
   "codemirror_mode": {
    "name": "ipython",
    "version": 3
   },
   "file_extension": ".py",
   "mimetype": "text/x-python",
   "name": "python",
   "nbconvert_exporter": "python",
   "pygments_lexer": "ipython3",
   "version": "3.8.13"
  }
 },
 "nbformat": 4,
 "nbformat_minor": 4
}
