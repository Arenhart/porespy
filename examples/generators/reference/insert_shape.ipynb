{
 "cells": [
  {
   "cell_type": "markdown",
   "metadata": {},
   "source": [
    "# insert_shape"
   ]
  },
  {
   "cell_type": "markdown",
   "metadata": {},
   "source": [
    "#### Inserts sub-image into a larger image at the specified location."
   ]
  },
  {
   "cell_type": "markdown",
   "metadata": {},
   "source": [
    "## Import packages"
   ]
  },
  {
   "cell_type": "code",
   "execution_count": 1,
   "metadata": {},
   "outputs": [],
   "source": [
    "import matplotlib.pyplot as plt\n",
    "import numpy as np\n",
    "import porespy as ps\n",
    "\n",
    "ps.visualization.set_mpl_style()\n",
    "np.random.seed(10)"
   ]
  },
  {
   "cell_type": "markdown",
   "metadata": {},
   "source": [
    "## Create image and element:"
   ]
  },
  {
   "cell_type": "code",
   "execution_count": 2,
   "metadata": {},
   "outputs": [
    {
     "name": "stdout",
     "output_type": "stream",
     "text": [
      "[[[2 2 1 2 1]\n",
      "  [2 2 1 2 2]\n",
      "  [1 2 2 1 1]\n",
      "  [2 1 1 1 1]\n",
      "  [1 2 1 1 2]]\n",
      "\n",
      " [[2 1 1 2 1]\n",
      "  [1 2 1 1 1]\n",
      "  [2 2 1 2 2]\n",
      "  [2 2 2 1 2]\n",
      "  [1 1 1 1 2]]\n",
      "\n",
      " [[1 2 2 2 1]\n",
      "  [2 1 2 2 1]\n",
      "  [2 1 1 2 1]\n",
      "  [1 1 2 2 1]\n",
      "  [1 1 2 1 2]]\n",
      "\n",
      " [[2 1 2 2 1]\n",
      "  [2 1 1 1 1]\n",
      "  [1 2 1 2 1]\n",
      "  [1 1 1 1 1]\n",
      "  [1 2 2 1 2]]\n",
      "\n",
      " [[2 1 1 2 1]\n",
      "  [1 2 1 1 1]\n",
      "  [1 1 1 2 2]\n",
      "  [2 1 1 1 2]\n",
      "  [2 2 2 1 2]]]\n",
      "[[[10 10 10]\n",
      "  [10 10 10]\n",
      "  [10 10 10]]\n",
      "\n",
      " [[10 10 10]\n",
      "  [10 10 10]\n",
      "  [10 10 10]]\n",
      "\n",
      " [[10 10 10]\n",
      "  [10 10 10]\n",
      "  [10 10 10]]]\n"
     ]
    }
   ],
   "source": [
    "image = np.random.randint(1, 3, size=(5, 5, 5))\n",
    "element = np.random.randint(10, 11, size=(3, 3, 3))\n",
    "print(image)\n",
    "print(element)"
   ]
  },
  {
   "cell_type": "markdown",
   "metadata": {},
   "source": [
    "The image array and shape array are both arrays of the same dimensions, in this case 3-dimensional arrays."
   ]
  },
  {
   "cell_type": "markdown",
   "metadata": {},
   "source": [
    "## Apply generator function:\n",
    "With different parameters"
   ]
  },
  {
   "cell_type": "markdown",
   "metadata": {},
   "source": [
    "### Corner"
   ]
  },
  {
   "cell_type": "code",
   "execution_count": 3,
   "metadata": {},
   "outputs": [
    {
     "name": "stdout",
     "output_type": "stream",
     "text": [
      "[[[10 10 10  2  1]\n",
      "  [10 10 10  2  2]\n",
      "  [10 10 10  1  1]\n",
      "  [ 2  1  1  1  1]\n",
      "  [ 1  2  1  1  2]]\n",
      "\n",
      " [[10 10 10  2  1]\n",
      "  [10 10 10  1  1]\n",
      "  [10 10 10  2  2]\n",
      "  [ 2  2  2  1  2]\n",
      "  [ 1  1  1  1  2]]\n",
      "\n",
      " [[10 10 10  2  1]\n",
      "  [10 10 10  2  1]\n",
      "  [10 10 10  2  1]\n",
      "  [ 1  1  2  2  1]\n",
      "  [ 1  1  2  1  2]]\n",
      "\n",
      " [[ 2  1  2  2  1]\n",
      "  [ 2  1  1  1  1]\n",
      "  [ 1  2  1  2  1]\n",
      "  [ 1  1  1  1  1]\n",
      "  [ 1  2  2  1  2]]\n",
      "\n",
      " [[ 2  1  1  2  1]\n",
      "  [ 1  2  1  1  1]\n",
      "  [ 1  1  1  2  2]\n",
      "  [ 2  1  1  1  2]\n",
      "  [ 2  2  2  1  2]]]\n"
     ]
    }
   ],
   "source": [
    "im = ps.generators.insert_shape(im=image,\n",
    "                                element=element,\n",
    "                                center=None,\n",
    "                                corner=[0, 0, 0],\n",
    "                                value=1,\n",
    "                                mode=\"overwrite\")\n",
    "print(im)"
   ]
  },
  {
   "cell_type": "markdown",
   "metadata": {},
   "source": [
    "The element is anchored in the [0, 0, 0] corner."
   ]
  },
  {
   "cell_type": "markdown",
   "metadata": {},
   "source": [
    "### Center"
   ]
  },
  {
   "cell_type": "code",
   "execution_count": 4,
   "metadata": {},
   "outputs": [
    {
     "name": "stdout",
     "output_type": "stream",
     "text": [
      "[[[ 2  2  1  2  1]\n",
      "  [ 2  2  1  2  2]\n",
      "  [ 1  2  2  1  1]\n",
      "  [ 2  1  1  1  1]\n",
      "  [ 1  2  1  1  2]]\n",
      "\n",
      " [[ 2  1  1  2  1]\n",
      "  [ 1  2  1  1  1]\n",
      "  [ 2 10 10 10  2]\n",
      "  [ 2 10 10 10  2]\n",
      "  [ 1 10 10 10  2]]\n",
      "\n",
      " [[ 1  2  2  2  1]\n",
      "  [ 2  1  2  2  1]\n",
      "  [ 2 10 10 10  1]\n",
      "  [ 1 10 10 10  1]\n",
      "  [ 1 10 10 10  2]]\n",
      "\n",
      " [[ 2  1  2  2  1]\n",
      "  [ 2  1  1  1  1]\n",
      "  [ 1 10 10 10  1]\n",
      "  [ 1 10 10 10  1]\n",
      "  [ 1 10 10 10  2]]\n",
      "\n",
      " [[ 2  1  1  2  1]\n",
      "  [ 1  2  1  1  1]\n",
      "  [ 1  1  1  2  2]\n",
      "  [ 2  1  1  1  2]\n",
      "  [ 2  2  2  1  2]]]\n"
     ]
    }
   ],
   "source": [
    "im = ps.generators.insert_shape(im=image,\n",
    "                                element=element,\n",
    "                                center=[2, 3, 2],\n",
    "                                corner=None,\n",
    "                                value=1,\n",
    "                                mode=\"overwrite\")\n",
    "print(im)"
   ]
  },
  {
   "cell_type": "markdown",
   "metadata": {},
   "source": [
    "The image is centered at [2, 3, 2]."
   ]
  },
  {
   "cell_type": "markdown",
   "metadata": {},
   "source": [
    "### Value"
   ]
  },
  {
   "cell_type": "code",
   "execution_count": 5,
   "metadata": {},
   "outputs": [
    {
     "name": "stdout",
     "output_type": "stream",
     "text": [
      "[[[ 2  2  1  2  1]\n",
      "  [ 2  2  1  2  2]\n",
      "  [ 1  2  2  1  1]\n",
      "  [ 2  1  1  1  1]\n",
      "  [ 1  2  1  1  2]]\n",
      "\n",
      " [[ 2  1  1  2  1]\n",
      "  [ 1 50 50 50  1]\n",
      "  [ 2 50 50 50  2]\n",
      "  [ 2 50 50 50  2]\n",
      "  [ 1  1  1  1  2]]\n",
      "\n",
      " [[ 1  2  2  2  1]\n",
      "  [ 2 50 50 50  1]\n",
      "  [ 2 50 50 50  1]\n",
      "  [ 1 50 50 50  1]\n",
      "  [ 1  1  2  1  2]]\n",
      "\n",
      " [[ 2  1  2  2  1]\n",
      "  [ 2 50 50 50  1]\n",
      "  [ 1 50 50 50  1]\n",
      "  [ 1 50 50 50  1]\n",
      "  [ 1  2  2  1  2]]\n",
      "\n",
      " [[ 2  1  1  2  1]\n",
      "  [ 1  2  1  1  1]\n",
      "  [ 1  1  1  2  2]\n",
      "  [ 2  1  1  1  2]\n",
      "  [ 2  2  2  1  2]]]\n"
     ]
    }
   ],
   "source": [
    "im = ps.generators.insert_shape(im=image,\n",
    "                                element=element,\n",
    "                                center=[2, 2, 2],\n",
    "                                corner=None,\n",
    "                                value=5,\n",
    "                                mode=\"overwrite\")\n",
    "print(im)"
   ]
  },
  {
   "cell_type": "markdown",
   "metadata": {},
   "source": [
    "The element was multiplied by value (5), before being inserted to the image."
   ]
  },
  {
   "cell_type": "markdown",
   "metadata": {},
   "source": [
    "### Mode"
   ]
  },
  {
   "cell_type": "code",
   "execution_count": 6,
   "metadata": {},
   "outputs": [
    {
     "name": "stdout",
     "output_type": "stream",
     "text": [
      "[[[ 2  2  1  2  1]\n",
      "  [ 2  2  1  2  2]\n",
      "  [ 1  2  2  1  1]\n",
      "  [ 2  1  1  1  1]\n",
      "  [ 1  2  1  1  2]]\n",
      "\n",
      " [[ 2  1  1  2  1]\n",
      "  [ 1 10 10 10  1]\n",
      "  [ 2 10 10 10  2]\n",
      "  [ 2 10 10 10  2]\n",
      "  [ 1  1  1  1  2]]\n",
      "\n",
      " [[ 1  2  2  2  1]\n",
      "  [ 2 10 10 10  1]\n",
      "  [ 2 10 10 10  1]\n",
      "  [ 1 10 10 10  1]\n",
      "  [ 1  1  2  1  2]]\n",
      "\n",
      " [[ 2  1  2  2  1]\n",
      "  [ 2 10 10 10  1]\n",
      "  [ 1 10 10 10  1]\n",
      "  [ 1 10 10 10  1]\n",
      "  [ 1  2  2  1  2]]\n",
      "\n",
      " [[ 2  1  1  2  1]\n",
      "  [ 1  2  1  1  1]\n",
      "  [ 1  1  1  2  2]\n",
      "  [ 2  1  1  1  2]\n",
      "  [ 2  2  2  1  2]]]\n"
     ]
    }
   ],
   "source": [
    "im = ps.generators.insert_shape(im=image,\n",
    "                                element=element,\n",
    "                                center=[2, 2, 2],\n",
    "                                corner=None,\n",
    "                                value=1,\n",
    "                                mode=\"overwrite\")\n",
    "print(im)"
   ]
  },
  {
   "cell_type": "markdown",
   "metadata": {},
   "source": [
    "The element has been inserted to the image. Since the mode was \"overwrite\" the specified section of the image is replaced by the element."
   ]
  },
  {
   "cell_type": "code",
   "execution_count": 7,
   "metadata": {},
   "outputs": [
    {
     "name": "stdout",
     "output_type": "stream",
     "text": [
      "[[[ 2  2  1  2  1]\n",
      "  [ 2  2  1  2  2]\n",
      "  [ 1  2  2  1  1]\n",
      "  [ 2  1  1  1  1]\n",
      "  [ 1  2  1  1  2]]\n",
      "\n",
      " [[ 2  1  1  2  1]\n",
      "  [ 1 12 11 11  1]\n",
      "  [ 2 12 11 12  2]\n",
      "  [ 2 12 12 11  2]\n",
      "  [ 1  1  1  1  2]]\n",
      "\n",
      " [[ 1  2  2  2  1]\n",
      "  [ 2 11 12 12  1]\n",
      "  [ 2 11 11 12  1]\n",
      "  [ 1 11 12 12  1]\n",
      "  [ 1  1  2  1  2]]\n",
      "\n",
      " [[ 2  1  2  2  1]\n",
      "  [ 2 11 11 11  1]\n",
      "  [ 1 12 11 12  1]\n",
      "  [ 1 11 11 11  1]\n",
      "  [ 1  2  2  1  2]]\n",
      "\n",
      " [[ 2  1  1  2  1]\n",
      "  [ 1  2  1  1  1]\n",
      "  [ 1  1  1  2  2]\n",
      "  [ 2  1  1  1  2]\n",
      "  [ 2  2  2  1  2]]]\n"
     ]
    }
   ],
   "source": [
    "im = ps.generators.insert_shape(im=image,\n",
    "                                element=element,\n",
    "                                center=[2, 2, 2],\n",
    "                                corner=None,\n",
    "                                value=1,\n",
    "                                mode=\"overlay\")\n",
    "print(im)"
   ]
  },
  {
   "cell_type": "markdown",
   "metadata": {},
   "source": [
    "The element has been inserted to the image. Since the mode was \"overlay\" the values of the element were added to the values of the image."
   ]
  }
 ],
 "metadata": {
  "kernelspec": {
   "display_name": "Python 3",
   "language": "python",
   "name": "python3"
  },
  "language_info": {
   "codemirror_mode": {
    "name": "ipython",
    "version": 3
   },
   "file_extension": ".py",
   "mimetype": "text/x-python",
   "name": "python",
   "nbconvert_exporter": "python",
   "pygments_lexer": "ipython3",
   "version": "3.8.8"
  }
 },
 "nbformat": 4,
 "nbformat_minor": 4
}
