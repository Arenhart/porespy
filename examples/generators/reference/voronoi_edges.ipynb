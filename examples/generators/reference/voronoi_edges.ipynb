{
 "cells": [
  {
   "cell_type": "markdown",
   "metadata": {},
   "source": [
    "# `voronoi_edges`"
   ]
  },
  {
   "cell_type": "code",
   "execution_count": 1,
   "metadata": {
    "execution": {
     "iopub.execute_input": "2022-04-20T14:17:33.888450Z",
     "iopub.status.busy": "2022-04-20T14:17:33.888107Z",
     "iopub.status.idle": "2022-04-20T14:17:36.114337Z",
     "shell.execute_reply": "2022-04-20T14:17:36.113706Z"
    }
   },
   "outputs": [],
   "source": [
    "import matplotlib.pyplot as plt\n",
    "import numpy as np\n",
    "import porespy as ps"
   ]
  },
  {
   "cell_type": "code",
   "execution_count": 2,
   "metadata": {
    "execution": {
     "iopub.execute_input": "2022-04-20T14:17:36.120046Z",
     "iopub.status.busy": "2022-04-20T14:17:36.118867Z",
     "iopub.status.idle": "2022-04-20T14:17:36.125421Z",
     "shell.execute_reply": "2022-04-20T14:17:36.125044Z"
    }
   },
   "outputs": [
    {
     "name": "stdout",
     "output_type": "stream",
     "text": [
      "(shape: List[int], ncells: int, r: int = 0, flat_faces: bool = True)\n"
     ]
    }
   ],
   "source": [
    "import inspect\n",
    "b = inspect.signature(ps.generators.voronoi_edges)\n",
    "print(b)"
   ]
  },
  {
   "cell_type": "markdown",
   "metadata": {},
   "source": [
    "## `shape`\n",
    "The image can be 2D and 3D"
   ]
  },
  {
   "cell_type": "code",
   "execution_count": 3,
   "metadata": {
    "execution": {
     "iopub.execute_input": "2022-04-20T14:17:36.129097Z",
     "iopub.status.busy": "2022-04-20T14:17:36.128221Z",
     "iopub.status.idle": "2022-04-20T14:17:36.257290Z",
     "shell.execute_reply": "2022-04-20T14:17:36.256823Z"
    }
   },
   "outputs": [
    {
     "data": {
      "image/png": "[encoded data removed]",
      "text/plain": [
       "<Figure size 288x288 with 1 Axes>"
      ]
     },
     "metadata": {
      "needs_background": "light"
     },
     "output_type": "display_data"
    }
   ],
   "source": [
    "shape = [100, 100]\n",
    "ncells = 20\n",
    "im = ps.generators.voronoi_edges(shape=shape, ncells=ncells)\n",
    "fig, ax = plt.subplots(figsize=[4, 4])\n",
    "ax.imshow(im, origin='lower', interpolation='none')\n",
    "ax.axis(False);"
   ]
  },
  {
   "cell_type": "code",
   "execution_count": 4,
   "metadata": {
    "execution": {
     "iopub.execute_input": "2022-04-20T14:17:36.262106Z",
     "iopub.status.busy": "2022-04-20T14:17:36.260674Z",
     "iopub.status.idle": "2022-04-20T14:17:37.288820Z",
     "shell.execute_reply": "2022-04-20T14:17:37.288357Z"
    }
   },
   "outputs": [
    {
     "data": {
      "image/png": "[encoded data removed]",
      "text/plain": [
       "<Figure size 288x288 with 1 Axes>"
      ]
     },
     "metadata": {
      "needs_background": "light"
     },
     "output_type": "display_data"
    }
   ],
   "source": [
    "shape = [50, 50, 50]\n",
    "ncells = 40\n",
    "im = ps.generators.voronoi_edges(shape=shape, r=3, ncells=ncells)\n",
    "fig, ax = plt.subplots(figsize=[4, 4])\n",
    "ax.imshow(ps.visualization.show_3D(im), interpolation='none')\n",
    "ax.axis(False);"
   ]
  },
  {
   "cell_type": "markdown",
   "metadata": {},
   "source": [
    "## `flat_faces`\n",
    "By default the image will have voronoi edges laying on the image faces.  This is accomplished by reflecting the points along each axis before running the tessellation.  This can be disabled by setting ``flat_faces=False``, but note that edges pointing to infinity are not drawn."
   ]
  },
  {
   "cell_type": "code",
   "execution_count": 5,
   "metadata": {
    "execution": {
     "iopub.execute_input": "2022-04-20T14:17:37.292710Z",
     "iopub.status.busy": "2022-04-20T14:17:37.291830Z",
     "iopub.status.idle": "2022-04-20T14:17:37.392739Z",
     "shell.execute_reply": "2022-04-20T14:17:37.392223Z"
    }
   },
   "outputs": [
    {
     "data": {
      "image/png": "[encoded data removed]",
      "text/plain": [
       "<Figure size 288x288 with 1 Axes>"
      ]
     },
     "metadata": {
      "needs_background": "light"
     },
     "output_type": "display_data"
    }
   ],
   "source": [
    "shape = [100, 100]\n",
    "flat_faces = False\n",
    "im = ps.generators.voronoi_edges(shape=shape, ncells=ncells, flat_faces=flat_faces)\n",
    "fig, ax = plt.subplots(figsize=[4, 4])\n",
    "ax.imshow(im, origin='lower', interpolation='none')\n",
    "ax.axis(False);"
   ]
  },
  {
   "cell_type": "markdown",
   "metadata": {},
   "source": [
    "## `r` radius\n",
    "The thickness of the edges.  By default they are 1 pixel thick, but can be made fatter by setting ``r > 0``."
   ]
  },
  {
   "cell_type": "code",
   "execution_count": 6,
   "metadata": {
    "execution": {
     "iopub.execute_input": "2022-04-20T14:17:37.396745Z",
     "iopub.status.busy": "2022-04-20T14:17:37.395854Z",
     "iopub.status.idle": "2022-04-20T14:17:37.508540Z",
     "shell.execute_reply": "2022-04-20T14:17:37.508081Z"
    }
   },
   "outputs": [
    {
     "data": {
      "image/png": "[encoded data removed]",
      "text/plain": [
       "<Figure size 576x288 with 2 Axes>"
      ]
     },
     "metadata": {
      "needs_background": "light"
     },
     "output_type": "display_data"
    }
   ],
   "source": [
    "fig, ax = plt.subplots(1, 2, figsize=[8, 4])\n",
    "\n",
    "r = 1\n",
    "ncells = 10\n",
    "im1 = ps.generators.voronoi_edges(shape=shape, r=r, ncells=ncells)\n",
    "ax[0].imshow(im1, origin='lower', interpolation='none')\n",
    "ax[0].set_title(f'r = {r}')\n",
    "ax[0].axis(False)\n",
    "\n",
    "r = 4\n",
    "im2 = ps.generators.voronoi_edges(shape=shape, r=r, ncells=ncells)\n",
    "ax[1].imshow(im2, origin='lower', interpolation='none')\n",
    "ax[1].set_title(f'r = {r}')\n",
    "ax[1].axis(False);"
   ]
  },
  {
   "cell_type": "markdown",
   "metadata": {},
   "source": [
    "## `ncells`\n",
    "The number of Voronoi cells to add "
   ]
  },
  {
   "cell_type": "code",
   "execution_count": 7,
   "metadata": {
    "execution": {
     "iopub.execute_input": "2022-04-20T14:17:37.512452Z",
     "iopub.status.busy": "2022-04-20T14:17:37.511577Z",
     "iopub.status.idle": "2022-04-20T14:17:37.772016Z",
     "shell.execute_reply": "2022-04-20T14:17:37.771530Z"
    }
   },
   "outputs": [
    {
     "data": {
      "image/png": "[encoded data removed]",
      "text/plain": [
       "<Figure size 576x288 with 2 Axes>"
      ]
     },
     "metadata": {
      "needs_background": "light"
     },
     "output_type": "display_data"
    }
   ],
   "source": [
    "fig, ax = plt.subplots(1, 2, figsize=[8, 4])\n",
    "\n",
    "ncells = 10\n",
    "im1 = ps.generators.voronoi_edges(shape=shape, ncells=ncells)\n",
    "ax[0].imshow(im1, origin='lower', interpolation='none')\n",
    "ax[0].set_title(f'ncells = {ncells}')\n",
    "ax[0].axis(False)\n",
    "\n",
    "ncells = 40\n",
    "im2 = ps.generators.voronoi_edges(shape=shape, ncells=ncells)\n",
    "ax[1].imshow(im2, origin='lower', interpolation='none')\n",
    "ax[1].set_title(f'ncells = {ncells}')\n",
    "ax[1].axis(False);"
   ]
  }
 ],
 "metadata": {
  "kernelspec": {
   "display_name": "Python 3",
   "language": "python",
   "name": "python3"
  },
  "language_info": {
   "codemirror_mode": {
    "name": "ipython",
    "version": 3
   },
   "file_extension": ".py",
   "mimetype": "text/x-python",
   "name": "python",
   "nbconvert_exporter": "python",
   "pygments_lexer": "ipython3",
   "version": "3.8.13"
  }
 },
 "nbformat": 4,
 "nbformat_minor": 4
}
