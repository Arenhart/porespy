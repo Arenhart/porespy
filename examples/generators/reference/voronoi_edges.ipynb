{
 "cells": [
  {
   "cell_type": "markdown",
   "metadata": {},
   "source": [
    "# `voronoi_edges`"
   ]
  },
  {
   "cell_type": "code",
   "execution_count": 1,
   "metadata": {
    "execution": {
     "iopub.execute_input": "2022-05-25T17:17:08.552182Z",
     "iopub.status.busy": "2022-05-25T17:17:08.551749Z",
     "iopub.status.idle": "2022-05-25T17:17:10.387145Z",
     "shell.execute_reply": "2022-05-25T17:17:10.386444Z"
    }
   },
   "outputs": [],
   "source": [
    "import matplotlib.pyplot as plt\n",
    "import numpy as np\n",
    "import porespy as ps"
   ]
  },
  {
   "cell_type": "code",
   "execution_count": 2,
   "metadata": {
    "execution": {
     "iopub.execute_input": "2022-05-25T17:17:10.392486Z",
     "iopub.status.busy": "2022-05-25T17:17:10.391030Z",
     "iopub.status.idle": "2022-05-25T17:17:10.398097Z",
     "shell.execute_reply": "2022-05-25T17:17:10.397601Z"
    }
   },
   "outputs": [
    {
     "name": "stdout",
     "output_type": "stream",
     "text": [
      "(shape: List[int], ncells: int, r: int = 0, flat_faces: bool = True)\n"
     ]
    }
   ],
   "source": [
    "import inspect\n",
    "b = inspect.signature(ps.generators.voronoi_edges)\n",
    "print(b)"
   ]
  },
  {
   "cell_type": "markdown",
   "metadata": {},
   "source": [
    "## `shape`\n",
    "The image can be 2D and 3D"
   ]
  },
  {
   "cell_type": "code",
   "execution_count": 3,
   "metadata": {
    "execution": {
     "iopub.execute_input": "2022-05-25T17:17:10.401927Z",
     "iopub.status.busy": "2022-05-25T17:17:10.400902Z",
     "iopub.status.idle": "2022-05-25T17:17:10.516327Z",
     "shell.execute_reply": "2022-05-25T17:17:10.515738Z"
    }
   },
   "outputs": [
    {
     "data": {
      "image/png": "[encoded data removed]",
      "text/plain": [
       "<Figure size 288x288 with 1 Axes>"
      ]
     },
     "metadata": {
      "needs_background": "light"
     },
     "output_type": "display_data"
    }
   ],
   "source": [
    "shape = [100, 100]\n",
    "ncells = 20\n",
    "im = ps.generators.voronoi_edges(shape=shape, ncells=ncells)\n",
    "fig, ax = plt.subplots(figsize=[4, 4])\n",
    "ax.imshow(im, origin='lower', interpolation='none')\n",
    "ax.axis(False);"
   ]
  },
  {
   "cell_type": "code",
   "execution_count": 4,
   "metadata": {
    "execution": {
     "iopub.execute_input": "2022-05-25T17:17:10.520271Z",
     "iopub.status.busy": "2022-05-25T17:17:10.519245Z",
     "iopub.status.idle": "2022-05-25T17:17:11.532588Z",
     "shell.execute_reply": "2022-05-25T17:17:11.531911Z"
    }
   },
   "outputs": [
    {
     "data": {
      "image/png": "[encoded data removed]",
      "text/plain": [
       "<Figure size 288x288 with 1 Axes>"
      ]
     },
     "metadata": {
      "needs_background": "light"
     },
     "output_type": "display_data"
    }
   ],
   "source": [
    "shape = [50, 50, 50]\n",
    "ncells = 40\n",
    "im = ps.generators.voronoi_edges(shape=shape, r=3, ncells=ncells)\n",
    "fig, ax = plt.subplots(figsize=[4, 4])\n",
    "ax.imshow(ps.visualization.show_3D(im), interpolation='none')\n",
    "ax.axis(False);"
   ]
  },
  {
   "cell_type": "markdown",
   "metadata": {},
   "source": [
    "## `flat_faces`\n",
    "By default the image will have voronoi edges laying on the image faces.  This is accomplished by reflecting the points along each axis before running the tessellation.  This can be disabled by setting ``flat_faces=False``, but note that edges pointing to infinity are not drawn."
   ]
  },
  {
   "cell_type": "code",
   "execution_count": 5,
   "metadata": {
    "execution": {
     "iopub.execute_input": "2022-05-25T17:17:11.535981Z",
     "iopub.status.busy": "2022-05-25T17:17:11.535736Z",
     "iopub.status.idle": "2022-05-25T17:17:11.630475Z",
     "shell.execute_reply": "2022-05-25T17:17:11.629769Z"
    }
   },
   "outputs": [
    {
     "data": {
      "image/png": "[encoded data removed]",
      "text/plain": [
       "<Figure size 288x288 with 1 Axes>"
      ]
     },
     "metadata": {
      "needs_background": "light"
     },
     "output_type": "display_data"
    }
   ],
   "source": [
    "shape = [100, 100]\n",
    "flat_faces = False\n",
    "im = ps.generators.voronoi_edges(shape=shape, ncells=ncells, flat_faces=flat_faces)\n",
    "fig, ax = plt.subplots(figsize=[4, 4])\n",
    "ax.imshow(im, origin='lower', interpolation='none')\n",
    "ax.axis(False);"
   ]
  },
  {
   "cell_type": "markdown",
   "metadata": {},
   "source": [
    "## `r` radius\n",
    "The thickness of the edges.  By default they are 1 pixel thick, but can be made fatter by setting ``r > 0``."
   ]
  },
  {
   "cell_type": "code",
   "execution_count": 6,
   "metadata": {
    "execution": {
     "iopub.execute_input": "2022-05-25T17:17:11.633569Z",
     "iopub.status.busy": "2022-05-25T17:17:11.633247Z",
     "iopub.status.idle": "2022-05-25T17:17:11.759164Z",
     "shell.execute_reply": "2022-05-25T17:17:11.758373Z"
    }
   },
   "outputs": [
    {
     "data": {
      "image/png": "[encoded data removed]",
      "text/plain": [
       "<Figure size 576x288 with 2 Axes>"
      ]
     },
     "metadata": {
      "needs_background": "light"
     },
     "output_type": "display_data"
    }
   ],
   "source": [
    "fig, ax = plt.subplots(1, 2, figsize=[8, 4])\n",
    "\n",
    "r = 1\n",
    "ncells = 10\n",
    "im1 = ps.generators.voronoi_edges(shape=shape, r=r, ncells=ncells)\n",
    "ax[0].imshow(im1, origin='lower', interpolation='none')\n",
    "ax[0].set_title(f'r = {r}')\n",
    "ax[0].axis(False)\n",
    "\n",
    "r = 4\n",
    "im2 = ps.generators.voronoi_edges(shape=shape, r=r, ncells=ncells)\n",
    "ax[1].imshow(im2, origin='lower', interpolation='none')\n",
    "ax[1].set_title(f'r = {r}')\n",
    "ax[1].axis(False);"
   ]
  },
  {
   "cell_type": "markdown",
   "metadata": {},
   "source": [
    "## `ncells`\n",
    "The number of Voronoi cells to add "
   ]
  },
  {
   "cell_type": "code",
   "execution_count": 7,
   "metadata": {
    "execution": {
     "iopub.execute_input": "2022-05-25T17:17:11.762536Z",
     "iopub.status.busy": "2022-05-25T17:17:11.762089Z",
     "iopub.status.idle": "2022-05-25T17:17:11.972326Z",
     "shell.execute_reply": "2022-05-25T17:17:11.971775Z"
    }
   },
   "outputs": [
    {
     "data": {
      "image/png": "[encoded data removed]",
      "text/plain": [
       "<Figure size 576x288 with 2 Axes>"
      ]
     },
     "metadata": {
      "needs_background": "light"
     },
     "output_type": "display_data"
    }
   ],
   "source": [
    "fig, ax = plt.subplots(1, 2, figsize=[8, 4])\n",
    "\n",
    "ncells = 10\n",
    "im1 = ps.generators.voronoi_edges(shape=shape, ncells=ncells)\n",
    "ax[0].imshow(im1, origin='lower', interpolation='none')\n",
    "ax[0].set_title(f'ncells = {ncells}')\n",
    "ax[0].axis(False)\n",
    "\n",
    "ncells = 40\n",
    "im2 = ps.generators.voronoi_edges(shape=shape, ncells=ncells)\n",
    "ax[1].imshow(im2, origin='lower', interpolation='none')\n",
    "ax[1].set_title(f'ncells = {ncells}')\n",
    "ax[1].axis(False);"
   ]
  }
 ],
 "metadata": {
  "kernelspec": {
   "display_name": "Python 3",
   "language": "python",
   "name": "python3"
  },
  "language_info": {
   "codemirror_mode": {
    "name": "ipython",
    "version": 3
   },
   "file_extension": ".py",
   "mimetype": "text/x-python",
   "name": "python",
   "nbconvert_exporter": "python",
   "pygments_lexer": "ipython3",
   "version": "3.8.13"
  }
 },
 "nbformat": 4,
 "nbformat_minor": 4
}
