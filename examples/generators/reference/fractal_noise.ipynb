{
 "cells": [
  {
   "cell_type": "markdown",
   "metadata": {},
   "source": [
    "# fractal_noise"
   ]
  },
  {
   "cell_type": "markdown",
   "metadata": {},
   "source": [
    "## Import packages"
   ]
  },
  {
   "cell_type": "code",
   "execution_count": 1,
   "metadata": {},
   "outputs": [],
   "source": [
    "import matplotlib.pyplot as plt\n",
    "import numpy as np\n",
    "import porespy as ps\n",
    "import scipy\n",
    "\n",
    "ps.visualization.set_mpl_style()\n",
    "np.random.seed(10)"
   ]
  },
  {
   "cell_type": "markdown",
   "metadata": {},
   "source": [
    "## Apply generator function"
   ]
  },
  {
   "cell_type": "markdown",
   "metadata": {},
   "source": [
    "While adding inputs to the function, the frequency must be a factor of shape, that when put to the power of octave is less than or equal to shape. If not, exceptions will be raised:"
   ]
  },
  {
   "cell_type": "code",
   "execution_count": null,
   "metadata": {},
   "outputs": [],
   "source": [
    "x = ps.generators.fractal_noise(shape=[200, 200],\n",
    "                                frequency=0.05,\n",
    "                                octaves=4,\n",
    "                                gain=0.5,\n",
    "                                mode='simplex',\n",
    "                                seed=None,\n",
    "                                cores=None,\n",
    "                                uniform=True)\n",
    "plt.figure(figsize=[4, 4])\n",
    "plt.axis(False)\n",
    "plt.imshow(x);"
   ]
  },
  {
   "cell_type": "markdown",
   "metadata": {},
   "source": [
    "### Octaves"
   ]
  },
  {
   "cell_type": "code",
   "execution_count": null,
   "metadata": {},
   "outputs": [],
   "source": [
    "xx = ps.generators.fractal_noise(shape=[200, 200],\n",
    "                                 frequency=0.05,\n",
    "                                 octaves=10,\n",
    "                                 gain=0.5,\n",
    "                                 mode='simplex',\n",
    "                                 seed=None,\n",
    "                                 cores=None,\n",
    "                                 uniform=True)\n",
    "\n",
    "fig, ax = plt.subplots(1, 2, figsize=[8, 4])\n",
    "ax[0].imshow(x)\n",
    "ax[1].imshow(xx)\n",
    "ax[0].axis(False)\n",
    "ax[1].axis(False)\n",
    "ax[0].set_title('Octaves = 4')\n",
    "ax[1].set_title('Octaves = 10');"
   ]
  },
  {
   "cell_type": "markdown",
   "metadata": {},
   "source": [
    "### Gain"
   ]
  },
  {
   "cell_type": "code",
   "execution_count": null,
   "metadata": {},
   "outputs": [],
   "source": [
    "xx = ps.generators.fractal_noise(shape=[200, 200],\n",
    "                                 frequency=0.05,\n",
    "                                 octaves=10,\n",
    "                                 gain=0.9,\n",
    "                                 mode='simplex',\n",
    "                                 seed=None,\n",
    "                                 cores=None,\n",
    "                                 uniform=True)\n",
    "\n",
    "fig, ax = plt.subplots(1, 2, figsize=[8, 4])\n",
    "ax[0].imshow(x)\n",
    "ax[1].imshow(xx)\n",
    "ax[0].axis(False)\n",
    "ax[1].axis(False)\n",
    "ax[0].set_title('Gain = 0.5')\n",
    "ax[1].set_title('Gain = 0.9');"
   ]
  }
 ],
 "metadata": {
  "kernelspec": {
   "display_name": "Python 3 (ipykernel)",
   "language": "python",
   "name": "python3"
  },
  "language_info": {
   "codemirror_mode": {
    "name": "ipython",
    "version": 3
   },
   "file_extension": ".py",
   "mimetype": "text/x-python",
   "name": "python",
   "nbconvert_exporter": "python",
   "pygments_lexer": "ipython3",
   "version": "3.8.12"
  }
 },
 "nbformat": 4,
 "nbformat_minor": 4
}
