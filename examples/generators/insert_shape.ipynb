{
 "cells": [
  {
   "cell_type": "markdown",
   "metadata": {},
   "source": [
    "# insert_shape"
   ]
  },
  {
   "cell_type": "code",
   "execution_count": 1,
   "metadata": {
    "jupyter": {
     "source_hidden": true
    },
    "tags": []
   },
   "outputs": [
    {
     "data": {
      "text/markdown": [
       "---\n",
       " ## Documentation for ``insert_shape``\n",
       " ---\n",
       "**<span style=\"color:purple\">insert&#95;shape</span>_(im, element, center=None, corner=None, value=1, mode='overwrite')_**\n",
       "\n",
       "\n",
       "Inserts sub-image into a larger image at the specified location.\n",
       "\n",
       "\n",
       "If the inserted image extends beyond the boundaries of the image it will\n",
       "be cropped accordingly.\n",
       "\n",
       "#### Parameters\n",
       "* im : <b><i>ND-array</i></b>  The image into which the sub-image will be inserted\n",
       "* element : <b><i>ND-array</i></b>  The sub-image to insert\n",
       "* center : <b><i>tuple</i></b>  Coordinates indicating the position in the main image where the\n",
       "\tinserted imaged will be centered.  If ``center`` is given then\n",
       "\t``corner`` cannot be specified.  Note that ``center`` can only be\n",
       "\tused if all dimensions of ``element`` are odd, otherwise the meaning\n",
       "\tof center is not defined.\n",
       "* corner : <b><i>tuple</i></b>  Coordinates indicating the position in the main image where the\n",
       "\tlower corner (i.e. [0, 0, 0]) of the inserted image should be anchored.\n",
       "\tIf ``corner`` is given then ``corner`` cannot be specified.\n",
       "* value : <b><i>scalar</i></b>  A scalar value to apply to the sub-image.  The default is 1.\n",
       "* mode : <b><i>string</i></b>  If 'overwrite' (default) the inserted image replaces the values in the\n",
       "\tmain image.  If 'overlay' the inserted image is added to the main\n",
       "\timage.  In both cases the inserted image is multiplied by ``value``\n",
       "\tfirst.\n",
       "\n",
       "#### Returns\n",
       "* im : <b><i>ND-array</i></b>  A copy of ``im`` with the supplied element inserted.\n",
       "---"
      ],
      "text/plain": [
       "<IPython.core.display.Markdown object>"
      ]
     },
     "execution_count": 1,
     "metadata": {},
     "output_type": "execute_result"
    }
   ],
   "source": [
    "import porespy as ps\n",
    "from IPython.display import Markdown as show\n",
    "show(ps.tools.show_docstring(ps.generators.insert_shape))"
   ]
  },
  {
   "cell_type": "markdown",
   "metadata": {},
   "source": [
    "## Import packages"
   ]
  },
  {
   "cell_type": "code",
   "execution_count": 2,
   "metadata": {},
   "outputs": [],
   "source": [
    "import numpy as np\n",
    "import porespy as ps\n",
    "import matplotlib.pyplot as plt\n",
    "ps.visualization.set_mpl_style()\n",
    "np.random.seed(10)"
   ]
  },
  {
   "cell_type": "markdown",
   "metadata": {},
   "source": [
    "## Create image and element:"
   ]
  },
  {
   "cell_type": "code",
   "execution_count": 3,
   "metadata": {},
   "outputs": [
    {
     "name": "stdout",
     "output_type": "stream",
     "text": [
      "[[[2 2 1 2 1]\n",
      "  [2 2 1 2 2]\n",
      "  [1 2 2 1 1]\n",
      "  [2 1 1 1 1]\n",
      "  [1 2 1 1 2]]\n",
      "\n",
      " [[2 1 1 2 1]\n",
      "  [1 2 1 1 1]\n",
      "  [2 2 1 2 2]\n",
      "  [2 2 2 1 2]\n",
      "  [1 1 1 1 2]]\n",
      "\n",
      " [[1 2 2 2 1]\n",
      "  [2 1 2 2 1]\n",
      "  [2 1 1 2 1]\n",
      "  [1 1 2 2 1]\n",
      "  [1 1 2 1 2]]\n",
      "\n",
      " [[2 1 2 2 1]\n",
      "  [2 1 1 1 1]\n",
      "  [1 2 1 2 1]\n",
      "  [1 1 1 1 1]\n",
      "  [1 2 2 1 2]]\n",
      "\n",
      " [[2 1 1 2 1]\n",
      "  [1 2 1 1 1]\n",
      "  [1 1 1 2 2]\n",
      "  [2 1 1 1 2]\n",
      "  [2 2 2 1 2]]]\n",
      "[[[10 10 10]\n",
      "  [10 10 10]\n",
      "  [10 10 10]]\n",
      "\n",
      " [[10 10 10]\n",
      "  [10 10 10]\n",
      "  [10 10 10]]\n",
      "\n",
      " [[10 10 10]\n",
      "  [10 10 10]\n",
      "  [10 10 10]]]\n"
     ]
    }
   ],
   "source": [
    "image = np.random.randint(1,3, size=(5,5,5))\n",
    "element =np.random.randint(10,11, size=(3,3,3))\n",
    "print(image)\n",
    "print(element)"
   ]
  },
  {
   "cell_type": "markdown",
   "metadata": {},
   "source": [
    "The image array and shape array are both arrays of the same dimensions, in this case 3-dimensional arrays."
   ]
  },
  {
   "cell_type": "markdown",
   "metadata": {},
   "source": [
    "## Apply generator function:\n",
    "With different parameters"
   ]
  },
  {
   "cell_type": "markdown",
   "metadata": {},
   "source": [
    "### Corner"
   ]
  },
  {
   "cell_type": "code",
   "execution_count": 4,
   "metadata": {},
   "outputs": [
    {
     "ename": "TypeError",
     "evalue": "insert_shape() got an unexpected keyword argument 'image'",
     "output_type": "error",
     "traceback": [
      "\u001b[0;31m---------------------------------------------------------------------------\u001b[0m",
      "\u001b[0;31mTypeError\u001b[0m                                 Traceback (most recent call last)",
      "\u001b[0;32m<ipython-input-4-81b05dc32e91>\u001b[0m in \u001b[0;36m<module>\u001b[0;34m\u001b[0m\n\u001b[0;32m----> 1\u001b[0;31m \u001b[0mx\u001b[0m \u001b[0;34m=\u001b[0m \u001b[0mps\u001b[0m\u001b[0;34m.\u001b[0m\u001b[0mgenerators\u001b[0m\u001b[0;34m.\u001b[0m\u001b[0minsert_shape\u001b[0m\u001b[0;34m(\u001b[0m\u001b[0mimage\u001b[0m \u001b[0;34m=\u001b[0m \u001b[0mimage\u001b[0m\u001b[0;34m,\u001b[0m \u001b[0melement\u001b[0m\u001b[0;34m=\u001b[0m\u001b[0melement\u001b[0m\u001b[0;34m,\u001b[0m \u001b[0mcenter\u001b[0m\u001b[0;34m=\u001b[0m\u001b[0;32mNone\u001b[0m\u001b[0;34m,\u001b[0m \u001b[0mcorner\u001b[0m\u001b[0;34m=\u001b[0m\u001b[0;34m[\u001b[0m\u001b[0;36m0\u001b[0m\u001b[0;34m,\u001b[0m\u001b[0;36m0\u001b[0m\u001b[0;34m,\u001b[0m\u001b[0;36m0\u001b[0m\u001b[0;34m]\u001b[0m\u001b[0;34m,\u001b[0m \u001b[0mvalue\u001b[0m\u001b[0;34m=\u001b[0m\u001b[0;36m1\u001b[0m\u001b[0;34m,\u001b[0m \u001b[0mmode\u001b[0m\u001b[0;34m=\u001b[0m\u001b[0;34m\"overwrite\"\u001b[0m\u001b[0;34m)\u001b[0m\u001b[0;34m\u001b[0m\u001b[0;34m\u001b[0m\u001b[0m\n\u001b[0m\u001b[1;32m      2\u001b[0m \u001b[0mprint\u001b[0m \u001b[0;34m(\u001b[0m\u001b[0mx\u001b[0m\u001b[0;34m)\u001b[0m\u001b[0;34m\u001b[0m\u001b[0;34m\u001b[0m\u001b[0m\n",
      "\u001b[0;31mTypeError\u001b[0m: insert_shape() got an unexpected keyword argument 'image'"
     ]
    }
   ],
   "source": [
    "x = ps.generators.insert_shape(image = image, element=element, center=None, corner=[0,0,0], value=1, mode=\"overwrite\")\n",
    "print (x)"
   ]
  },
  {
   "cell_type": "markdown",
   "metadata": {},
   "source": [
    "The element is anchored in the [0, 0, 0] corner."
   ]
  },
  {
   "cell_type": "markdown",
   "metadata": {},
   "source": [
    "### Center"
   ]
  },
  {
   "cell_type": "code",
   "execution_count": null,
   "metadata": {},
   "outputs": [],
   "source": [
    "x = ps.generators.insert_shape(image=image, element=element, center=[2,3,2], corner=None, value=1, mode=\"overwrite\")\n",
    "print (x)"
   ]
  },
  {
   "cell_type": "markdown",
   "metadata": {},
   "source": [
    "The image is centered at [2, 3, 2]."
   ]
  },
  {
   "cell_type": "markdown",
   "metadata": {},
   "source": [
    "### Value"
   ]
  },
  {
   "cell_type": "code",
   "execution_count": null,
   "metadata": {},
   "outputs": [],
   "source": [
    "x = ps.generators.insert_shape(image=image, element=element, center=[2,2,2], corner=None, value=5, mode=\"overwrite\")\n",
    "print (x)"
   ]
  },
  {
   "cell_type": "markdown",
   "metadata": {},
   "source": [
    "The element was multiplied by value (5), before being inserted to the image."
   ]
  },
  {
   "cell_type": "markdown",
   "metadata": {},
   "source": [
    "### Mode"
   ]
  },
  {
   "cell_type": "code",
   "execution_count": null,
   "metadata": {},
   "outputs": [],
   "source": [
    "x = ps.generators.insert_shape(image=image, element=element, center=[2,2,2], corner=None, value=1, mode=\"overwrite\")\n",
    "print (x)"
   ]
  },
  {
   "cell_type": "markdown",
   "metadata": {},
   "source": [
    "The element has been inserted to the image. Since the mode was \"overwrite\" the specified section of the image is replaced by the element."
   ]
  },
  {
   "cell_type": "code",
   "execution_count": null,
   "metadata": {},
   "outputs": [],
   "source": [
    "x = ps.generators.insert_shape(image=image, element=element, center=[2,2,2], corner=None, value=1, mode=\"overlay\")\n",
    "print (x)"
   ]
  },
  {
   "cell_type": "markdown",
   "metadata": {},
   "source": [
    "The element has been inserted to the image. Since the mode was \"overlay\" the values of the element were added to the values of the image."
   ]
  },
  {
   "cell_type": "code",
   "execution_count": null,
   "metadata": {},
   "outputs": [],
   "source": []
  }
 ],
 "metadata": {
  "kernelspec": {
   "display_name": "Python 3",
   "language": "python",
   "name": "python3"
  },
  "language_info": {
   "codemirror_mode": {
    "name": "ipython",
    "version": 3
   },
   "file_extension": ".py",
   "mimetype": "text/x-python",
   "name": "python",
   "nbconvert_exporter": "python",
   "pygments_lexer": "ipython3",
   "version": "3.8.8"
  }
 },
 "nbformat": 4,
 "nbformat_minor": 4
}
