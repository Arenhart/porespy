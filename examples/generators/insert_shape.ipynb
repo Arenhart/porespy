{
 "cells": [
  {
   "cell_type": "markdown",
   "metadata": {},
   "source": [
    "# insert_shape"
   ]
  },
  {
   "cell_type": "markdown",
   "metadata": {},
   "source": [
    "insert_shape uses the inputs of im, element, center=None, corner=None, value=1, mode=\"overwrite\" to insert the element into the image. The center and corner variables determine where the element is inserted witin the image, and the value determines how the element is scaled. Mode is to specify if the element added overwirtes the image, or if it is overlayed ith the image."
   ]
  },
  {
   "cell_type": "markdown",
   "metadata": {},
   "source": [
    "## Import packages"
   ]
  },
  {
   "cell_type": "code",
   "execution_count": 1,
   "metadata": {},
   "outputs": [],
   "source": [
    "import numpy as np\n",
    "import porespy as ps\n",
    "import matplotlib.pyplot as plt\n",
    "ps.visualization.set_mpl_style()\n",
    "np.random.seed(10)"
   ]
  },
  {
   "cell_type": "markdown",
   "metadata": {},
   "source": [
    "## Create image and element:"
   ]
  },
  {
   "cell_type": "code",
   "execution_count": 2,
   "metadata": {},
   "outputs": [
    {
     "name": "stdout",
     "output_type": "stream",
     "text": [
      "[[[2 2 1 2 1]\n",
      "  [2 2 1 2 2]\n",
      "  [1 2 2 1 1]\n",
      "  [2 1 1 1 1]\n",
      "  [1 2 1 1 2]]\n",
      "\n",
      " [[2 1 1 2 1]\n",
      "  [1 2 1 1 1]\n",
      "  [2 2 1 2 2]\n",
      "  [2 2 2 1 2]\n",
      "  [1 1 1 1 2]]\n",
      "\n",
      " [[1 2 2 2 1]\n",
      "  [2 1 2 2 1]\n",
      "  [2 1 1 2 1]\n",
      "  [1 1 2 2 1]\n",
      "  [1 1 2 1 2]]\n",
      "\n",
      " [[2 1 2 2 1]\n",
      "  [2 1 1 1 1]\n",
      "  [1 2 1 2 1]\n",
      "  [1 1 1 1 1]\n",
      "  [1 2 2 1 2]]\n",
      "\n",
      " [[2 1 1 2 1]\n",
      "  [1 2 1 1 1]\n",
      "  [1 1 1 2 2]\n",
      "  [2 1 1 1 2]\n",
      "  [2 2 2 1 2]]]\n",
      "[[[10 10 10]\n",
      "  [10 10 10]\n",
      "  [10 10 10]]\n",
      "\n",
      " [[10 10 10]\n",
      "  [10 10 10]\n",
      "  [10 10 10]]\n",
      "\n",
      " [[10 10 10]\n",
      "  [10 10 10]\n",
      "  [10 10 10]]]\n"
     ]
    }
   ],
   "source": [
    "image = np.random.randint(1,3, size=(5,5,5))\n",
    "element =np.random.randint(10,11, size=(3,3,3))\n",
    "print(image)\n",
    "print(element)"
   ]
  },
  {
   "cell_type": "markdown",
   "metadata": {},
   "source": [
    "The image array and shape array are both arrays of the same dimensions, in this case 3-dimensional arrays."
   ]
  },
  {
   "cell_type": "markdown",
   "metadata": {},
   "source": [
    "## Apply generator function:\n",
    "With different parameters"
   ]
  },
  {
   "cell_type": "markdown",
   "metadata": {},
   "source": [
    "### Corner"
   ]
  },
  {
   "cell_type": "code",
   "execution_count": 3,
   "metadata": {},
   "outputs": [
    {
     "name": "stdout",
     "output_type": "stream",
     "text": [
      "[[[10 10 10  2  1]\n",
      "  [10 10 10  2  2]\n",
      "  [10 10 10  1  1]\n",
      "  [ 2  1  1  1  1]\n",
      "  [ 1  2  1  1  2]]\n",
      "\n",
      " [[10 10 10  2  1]\n",
      "  [10 10 10  1  1]\n",
      "  [10 10 10  2  2]\n",
      "  [ 2  2  2  1  2]\n",
      "  [ 1  1  1  1  2]]\n",
      "\n",
      " [[10 10 10  2  1]\n",
      "  [10 10 10  2  1]\n",
      "  [10 10 10  2  1]\n",
      "  [ 1  1  2  2  1]\n",
      "  [ 1  1  2  1  2]]\n",
      "\n",
      " [[ 2  1  2  2  1]\n",
      "  [ 2  1  1  1  1]\n",
      "  [ 1  2  1  2  1]\n",
      "  [ 1  1  1  1  1]\n",
      "  [ 1  2  2  1  2]]\n",
      "\n",
      " [[ 2  1  1  2  1]\n",
      "  [ 1  2  1  1  1]\n",
      "  [ 1  1  1  2  2]\n",
      "  [ 2  1  1  1  2]\n",
      "  [ 2  2  2  1  2]]]\n"
     ]
    }
   ],
   "source": [
    "x = ps.generators.insert_shape(image, element, center=None, corner=[0,0,0], value=1, mode=\"overwrite\")\n",
    "print (x)"
   ]
  },
  {
   "cell_type": "markdown",
   "metadata": {},
   "source": [
    "The element is anchored in the [0, 0, 0] corner."
   ]
  },
  {
   "cell_type": "markdown",
   "metadata": {},
   "source": [
    "### Center"
   ]
  },
  {
   "cell_type": "code",
   "execution_count": 4,
   "metadata": {},
   "outputs": [
    {
     "name": "stdout",
     "output_type": "stream",
     "text": [
      "[[[ 2  2  1  2  1]\n",
      "  [ 2  2  1  2  2]\n",
      "  [ 1  2  2  1  1]\n",
      "  [ 2  1  1  1  1]\n",
      "  [ 1  2  1  1  2]]\n",
      "\n",
      " [[ 2  1  1  2  1]\n",
      "  [ 1  2  1  1  1]\n",
      "  [ 2 10 10 10  2]\n",
      "  [ 2 10 10 10  2]\n",
      "  [ 1 10 10 10  2]]\n",
      "\n",
      " [[ 1  2  2  2  1]\n",
      "  [ 2  1  2  2  1]\n",
      "  [ 2 10 10 10  1]\n",
      "  [ 1 10 10 10  1]\n",
      "  [ 1 10 10 10  2]]\n",
      "\n",
      " [[ 2  1  2  2  1]\n",
      "  [ 2  1  1  1  1]\n",
      "  [ 1 10 10 10  1]\n",
      "  [ 1 10 10 10  1]\n",
      "  [ 1 10 10 10  2]]\n",
      "\n",
      " [[ 2  1  1  2  1]\n",
      "  [ 1  2  1  1  1]\n",
      "  [ 1  1  1  2  2]\n",
      "  [ 2  1  1  1  2]\n",
      "  [ 2  2  2  1  2]]]\n"
     ]
    }
   ],
   "source": [
    "x = ps.generators.insert_shape(image, element, center=[2,3,2], corner=None, value=1, mode=\"overwrite\")\n",
    "print (x)"
   ]
  },
  {
   "cell_type": "markdown",
   "metadata": {},
   "source": [
    "The image is centered at [2, 3, 2]."
   ]
  },
  {
   "cell_type": "markdown",
   "metadata": {},
   "source": [
    "### Value"
   ]
  },
  {
   "cell_type": "code",
   "execution_count": 5,
   "metadata": {},
   "outputs": [
    {
     "name": "stdout",
     "output_type": "stream",
     "text": [
      "[[[ 2  2  1  2  1]\n",
      "  [ 2  2  1  2  2]\n",
      "  [ 1  2  2  1  1]\n",
      "  [ 2  1  1  1  1]\n",
      "  [ 1  2  1  1  2]]\n",
      "\n",
      " [[ 2  1  1  2  1]\n",
      "  [ 1 50 50 50  1]\n",
      "  [ 2 50 50 50  2]\n",
      "  [ 2 50 50 50  2]\n",
      "  [ 1  1  1  1  2]]\n",
      "\n",
      " [[ 1  2  2  2  1]\n",
      "  [ 2 50 50 50  1]\n",
      "  [ 2 50 50 50  1]\n",
      "  [ 1 50 50 50  1]\n",
      "  [ 1  1  2  1  2]]\n",
      "\n",
      " [[ 2  1  2  2  1]\n",
      "  [ 2 50 50 50  1]\n",
      "  [ 1 50 50 50  1]\n",
      "  [ 1 50 50 50  1]\n",
      "  [ 1  2  2  1  2]]\n",
      "\n",
      " [[ 2  1  1  2  1]\n",
      "  [ 1  2  1  1  1]\n",
      "  [ 1  1  1  2  2]\n",
      "  [ 2  1  1  1  2]\n",
      "  [ 2  2  2  1  2]]]\n"
     ]
    }
   ],
   "source": [
    "x = ps.generators.insert_shape(image, element, center=[2,2,2], corner=None, value=5, mode=\"overwrite\")\n",
    "print (x)"
   ]
  },
  {
   "cell_type": "markdown",
   "metadata": {},
   "source": [
    "The element was multiplied by value (5), before being inserted to the image."
   ]
  },
  {
   "cell_type": "markdown",
   "metadata": {},
   "source": [
    "### Mode"
   ]
  },
  {
   "cell_type": "code",
   "execution_count": 6,
   "metadata": {},
   "outputs": [
    {
     "name": "stdout",
     "output_type": "stream",
     "text": [
      "[[[ 2  2  1  2  1]\n",
      "  [ 2  2  1  2  2]\n",
      "  [ 1  2  2  1  1]\n",
      "  [ 2  1  1  1  1]\n",
      "  [ 1  2  1  1  2]]\n",
      "\n",
      " [[ 2  1  1  2  1]\n",
      "  [ 1 10 10 10  1]\n",
      "  [ 2 10 10 10  2]\n",
      "  [ 2 10 10 10  2]\n",
      "  [ 1  1  1  1  2]]\n",
      "\n",
      " [[ 1  2  2  2  1]\n",
      "  [ 2 10 10 10  1]\n",
      "  [ 2 10 10 10  1]\n",
      "  [ 1 10 10 10  1]\n",
      "  [ 1  1  2  1  2]]\n",
      "\n",
      " [[ 2  1  2  2  1]\n",
      "  [ 2 10 10 10  1]\n",
      "  [ 1 10 10 10  1]\n",
      "  [ 1 10 10 10  1]\n",
      "  [ 1  2  2  1  2]]\n",
      "\n",
      " [[ 2  1  1  2  1]\n",
      "  [ 1  2  1  1  1]\n",
      "  [ 1  1  1  2  2]\n",
      "  [ 2  1  1  1  2]\n",
      "  [ 2  2  2  1  2]]]\n"
     ]
    }
   ],
   "source": [
    "x = ps.generators.insert_shape(image, element, center=[2,2,2], corner=None, value=1, mode=\"overwrite\")\n",
    "print (x)"
   ]
  },
  {
   "cell_type": "markdown",
   "metadata": {},
   "source": [
    "The element has been inserted to the image. Since the mode was \"overwrite\" the specified section of the image is replaced by the element."
   ]
  },
  {
   "cell_type": "code",
   "execution_count": 7,
   "metadata": {},
   "outputs": [
    {
     "name": "stdout",
     "output_type": "stream",
     "text": [
      "[[[ 2  2  1  2  1]\n",
      "  [ 2  2  1  2  2]\n",
      "  [ 1  2  2  1  1]\n",
      "  [ 2  1  1  1  1]\n",
      "  [ 1  2  1  1  2]]\n",
      "\n",
      " [[ 2  1  1  2  1]\n",
      "  [ 1 12 11 11  1]\n",
      "  [ 2 12 11 12  2]\n",
      "  [ 2 12 12 11  2]\n",
      "  [ 1  1  1  1  2]]\n",
      "\n",
      " [[ 1  2  2  2  1]\n",
      "  [ 2 11 12 12  1]\n",
      "  [ 2 11 11 12  1]\n",
      "  [ 1 11 12 12  1]\n",
      "  [ 1  1  2  1  2]]\n",
      "\n",
      " [[ 2  1  2  2  1]\n",
      "  [ 2 11 11 11  1]\n",
      "  [ 1 12 11 12  1]\n",
      "  [ 1 11 11 11  1]\n",
      "  [ 1  2  2  1  2]]\n",
      "\n",
      " [[ 2  1  1  2  1]\n",
      "  [ 1  2  1  1  1]\n",
      "  [ 1  1  1  2  2]\n",
      "  [ 2  1  1  1  2]\n",
      "  [ 2  2  2  1  2]]]\n"
     ]
    }
   ],
   "source": [
    "x = ps.generators.insert_shape(image, element, center=[2,2,2], corner=None, value=1, mode=\"overlay\")\n",
    "print (x)"
   ]
  },
  {
   "cell_type": "markdown",
   "metadata": {},
   "source": [
    "The element has been inserted to the image. Since the mode was \"overlay\" the values of the element were added to the values of the image."
   ]
  },
  {
   "cell_type": "code",
   "execution_count": null,
   "metadata": {},
   "outputs": [],
   "source": []
  }
 ],
 "metadata": {
  "kernelspec": {
   "display_name": "Python 3",
   "language": "python",
   "name": "python3"
  },
  "language_info": {
   "codemirror_mode": {
    "name": "ipython",
    "version": 3
   },
   "file_extension": ".py",
   "mimetype": "text/x-python",
   "name": "python",
   "nbconvert_exporter": "python",
   "pygments_lexer": "ipython3",
   "version": "3.7.9"
  }
 },
 "nbformat": 4,
 "nbformat_minor": 4
}
