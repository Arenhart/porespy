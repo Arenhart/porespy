{
 "cells": [
  {
   "cell_type": "markdown",
   "id": "b439283a",
   "metadata": {},
   "source": [
    "# ``regionprops_3D``\n",
    "This is similar to the ``regionprops`` in ``scikit-image`` but has some extra features that are relevant to 3D images.  Note that the ``scikit-image`` version has been adding 3D capabilities, make the PoreSpy version less useful."
   ]
  },
  {
   "cell_type": "code",
   "execution_count": 1,
   "id": "42296990",
   "metadata": {
    "execution": {
     "iopub.execute_input": "2022-03-30T13:42:33.005761Z",
     "iopub.status.busy": "2022-03-30T13:42:33.005374Z",
     "iopub.status.idle": "2022-03-30T13:42:34.967627Z",
     "shell.execute_reply": "2022-03-30T13:42:34.967004Z"
    }
   },
   "outputs": [],
   "source": [
    "import porespy as ps\n",
    "import numpy as np\n",
    "import matplotlib.pyplot as plt\n",
    "import scipy.ndimage as spim"
   ]
  },
  {
   "cell_type": "code",
   "execution_count": 2,
   "id": "ab7582c0",
   "metadata": {
    "execution": {
     "iopub.execute_input": "2022-03-30T13:42:34.971226Z",
     "iopub.status.busy": "2022-03-30T13:42:34.970932Z",
     "iopub.status.idle": "2022-03-30T13:42:35.719533Z",
     "shell.execute_reply": "2022-03-30T13:42:35.719090Z"
    }
   },
   "outputs": [
    {
     "data": {
      "image/png": "[encoded data removed]",
      "text/plain": [
       "<Figure size 432x288 with 1 Axes>"
      ]
     },
     "metadata": {
      "needs_background": "light"
     },
     "output_type": "display_data"
    }
   ],
   "source": [
    "im = ps.generators.rsa([80, 80, 80], r=10, clearance=3)\n",
    "plt.imshow(im[20, ...], origin='lower', interpolation='none');"
   ]
  },
  {
   "cell_type": "markdown",
   "id": "9cc48e89",
   "metadata": {},
   "source": [
    "We need to label each sphere so they are recognized as individual regions:"
   ]
  },
  {
   "cell_type": "code",
   "execution_count": 3,
   "id": "a75c5b4c",
   "metadata": {
    "execution": {
     "iopub.execute_input": "2022-03-30T13:42:35.722561Z",
     "iopub.status.busy": "2022-03-30T13:42:35.722267Z",
     "iopub.status.idle": "2022-03-30T13:42:35.818435Z",
     "shell.execute_reply": "2022-03-30T13:42:35.818007Z"
    }
   },
   "outputs": [
    {
     "data": {
      "image/png": "[encoded data removed]",
      "text/plain": [
       "<Figure size 432x288 with 1 Axes>"
      ]
     },
     "metadata": {
      "needs_background": "light"
     },
     "output_type": "display_data"
    }
   ],
   "source": [
    "regions = spim.label(im)[0]\n",
    "plt.imshow(regions[20, ...], origin='lower', interpolation='none');"
   ]
  },
  {
   "cell_type": "code",
   "execution_count": 4,
   "id": "d573de10",
   "metadata": {
    "execution": {
     "iopub.execute_input": "2022-03-30T13:42:35.822045Z",
     "iopub.status.busy": "2022-03-30T13:42:35.821134Z",
     "iopub.status.idle": "2022-03-30T13:42:35.827753Z",
     "shell.execute_reply": "2022-03-30T13:42:35.827397Z"
    }
   },
   "outputs": [],
   "source": [
    "props = ps.metrics.regionprops_3D(regions)"
   ]
  },
  {
   "cell_type": "markdown",
   "id": "e1349c01",
   "metadata": {},
   "source": [
    "``props`` is a list of ``RegionProperties`` objects, subclassed from ``scikit-image``.  Each ``RegionProperties`` object possess the properties as attributes.  Note that these are calculated on demand, so the ``regionsprops_3D`` function appears very quick, but the work has not yet been done."
   ]
  },
  {
   "cell_type": "code",
   "execution_count": 5,
   "id": "7ad84e89",
   "metadata": {
    "execution": {
     "iopub.execute_input": "2022-03-30T13:42:35.831245Z",
     "iopub.status.busy": "2022-03-30T13:42:35.830318Z",
     "iopub.status.idle": "2022-03-30T13:42:35.836212Z",
     "shell.execute_reply": "2022-03-30T13:42:35.835859Z"
    }
   },
   "outputs": [
    {
     "data": {
      "text/plain": [
       "[<porespy.metrics._regionprops.RegionPropertiesPS at 0x7f1f0609d430>,\n",
       " <porespy.metrics._regionprops.RegionPropertiesPS at 0x7f1f060a3f70>,\n",
       " <porespy.metrics._regionprops.RegionPropertiesPS at 0x7f1f06139460>,\n",
       " <porespy.metrics._regionprops.RegionPropertiesPS at 0x7f1f06139280>,\n",
       " <porespy.metrics._regionprops.RegionPropertiesPS at 0x7f1f06139490>,\n",
       " <porespy.metrics._regionprops.RegionPropertiesPS at 0x7f1f06139370>,\n",
       " <porespy.metrics._regionprops.RegionPropertiesPS at 0x7f1f061c9fd0>,\n",
       " <porespy.metrics._regionprops.RegionPropertiesPS at 0x7f1f07b68f70>,\n",
       " <porespy.metrics._regionprops.RegionPropertiesPS at 0x7f1f0d381160>,\n",
       " <porespy.metrics._regionprops.RegionPropertiesPS at 0x7f1f504df430>,\n",
       " <porespy.metrics._regionprops.RegionPropertiesPS at 0x7f1f504dfd00>,\n",
       " <porespy.metrics._regionprops.RegionPropertiesPS at 0x7f1f504dfdf0>,\n",
       " <porespy.metrics._regionprops.RegionPropertiesPS at 0x7f1f504df580>,\n",
       " <porespy.metrics._regionprops.RegionPropertiesPS at 0x7f1f06105f70>,\n",
       " <porespy.metrics._regionprops.RegionPropertiesPS at 0x7f1f06105eb0>,\n",
       " <porespy.metrics._regionprops.RegionPropertiesPS at 0x7f1f061058e0>,\n",
       " <porespy.metrics._regionprops.RegionPropertiesPS at 0x7f1f5254d910>,\n",
       " <porespy.metrics._regionprops.RegionPropertiesPS at 0x7f1f5254da30>,\n",
       " <porespy.metrics._regionprops.RegionPropertiesPS at 0x7f1f0609d1c0>,\n",
       " <porespy.metrics._regionprops.RegionPropertiesPS at 0x7f1f0609d340>]"
      ]
     },
     "execution_count": 5,
     "metadata": {},
     "output_type": "execute_result"
    }
   ],
   "source": [
    "props"
   ]
  },
  {
   "cell_type": "markdown",
   "id": "cb24af0f",
   "metadata": {},
   "source": [
    "The properties of regions 1 are on the ``RegionsProperties`` object located at position 0 in the ``props`` list:"
   ]
  },
  {
   "cell_type": "code",
   "execution_count": 6,
   "id": "e0556e3b",
   "metadata": {
    "execution": {
     "iopub.execute_input": "2022-03-30T13:42:35.839526Z",
     "iopub.status.busy": "2022-03-30T13:42:35.838664Z",
     "iopub.status.idle": "2022-03-30T13:42:35.844167Z",
     "shell.execute_reply": "2022-03-30T13:42:35.843789Z"
    }
   },
   "outputs": [
    {
     "name": "stdout",
     "output_type": "stream",
     "text": [
      "area\n",
      "area_bbox\n",
      "area_convex\n",
      "area_filled\n",
      "axis_major_length\n",
      "axis_minor_length\n",
      "bbox\n",
      "bbox_volume\n",
      "border\n",
      "centroid\n",
      "centroid_local\n",
      "centroid_weighted\n",
      "centroid_weighted_local\n",
      "convex_volume\n",
      "coords\n",
      "dt\n",
      "eccentricity\n",
      "equivalent_diameter_area\n",
      "euler_number\n",
      "extent\n",
      "feret_diameter_max\n",
      "image\n",
      "image_convex\n",
      "image_filled\n",
      "image_intensity\n",
      "inertia_tensor\n",
      "inertia_tensor_eigvals\n",
      "inscribed_sphere\n",
      "intensity_max\n",
      "intensity_mean\n",
      "intensity_min\n",
      "label\n",
      "mask\n",
      "moments\n",
      "moments_central\n",
      "moments_hu\n",
      "moments_normalized\n",
      "moments_weighted\n",
      "moments_weighted_central\n",
      "moments_weighted_hu\n",
      "moments_weighted_normalized\n",
      "orientation\n",
      "perimeter\n",
      "perimeter_crofton\n",
      "skeleton\n",
      "slice\n",
      "slices\n",
      "solidity\n",
      "sphericity\n",
      "surface_area\n",
      "surface_mesh_simplices\n",
      "surface_mesh_vertices\n",
      "volume\n"
     ]
    }
   ],
   "source": [
    "for d in dir(props[0]):\n",
    "    if not d.startswith('_'):\n",
    "        print(d)"
   ]
  },
  {
   "cell_type": "markdown",
   "id": "d15fd00b",
   "metadata": {},
   "source": [
    "Let's check a few of the properties:"
   ]
  },
  {
   "cell_type": "code",
   "execution_count": 7,
   "id": "2a2be644",
   "metadata": {
    "execution": {
     "iopub.execute_input": "2022-03-30T13:42:35.846925Z",
     "iopub.status.busy": "2022-03-30T13:42:35.846527Z",
     "iopub.status.idle": "2022-03-30T13:42:35.849460Z",
     "shell.execute_reply": "2022-03-30T13:42:35.849081Z"
    }
   },
   "outputs": [
    {
     "name": "stdout",
     "output_type": "stream",
     "text": [
      "4139\n"
     ]
    }
   ],
   "source": [
    "print(props[0].volume)"
   ]
  },
  {
   "cell_type": "markdown",
   "id": "79b33b79",
   "metadata": {},
   "source": [
    "Because the present function is meant for 3D images, we have added specific terminology, like volume, instead of allowing area to mean volume like the ``scikit-image`` version\""
   ]
  },
  {
   "cell_type": "code",
   "execution_count": 8,
   "id": "b8fd821f",
   "metadata": {
    "execution": {
     "iopub.execute_input": "2022-03-30T13:42:35.851676Z",
     "iopub.status.busy": "2022-03-30T13:42:35.851346Z",
     "iopub.status.idle": "2022-03-30T13:42:35.854091Z",
     "shell.execute_reply": "2022-03-30T13:42:35.853721Z"
    }
   },
   "outputs": [
    {
     "name": "stdout",
     "output_type": "stream",
     "text": [
      "4139\n"
     ]
    }
   ],
   "source": [
    "print(props[0].area)"
   ]
  },
  {
   "cell_type": "markdown",
   "id": "de1880f1",
   "metadata": {},
   "source": [
    "We do have a ``surface_area``, which is also specific to 3D objects:"
   ]
  },
  {
   "cell_type": "code",
   "execution_count": 9,
   "id": "3f861819",
   "metadata": {
    "execution": {
     "iopub.execute_input": "2022-03-30T13:42:35.856223Z",
     "iopub.status.busy": "2022-03-30T13:42:35.855895Z",
     "iopub.status.idle": "2022-03-30T13:42:35.862040Z",
     "shell.execute_reply": "2022-03-30T13:42:35.861547Z"
    }
   },
   "outputs": [
    {
     "name": "stdout",
     "output_type": "stream",
     "text": [
      "1165.306396484375\n"
     ]
    }
   ],
   "source": [
    "print(props[0].surface_area)"
   ]
  },
  {
   "cell_type": "markdown",
   "id": "7d3d6434",
   "metadata": {},
   "source": [
    "In addition to scalar metrics, we also provide access to useful images of the region:"
   ]
  },
  {
   "cell_type": "code",
   "execution_count": 10,
   "id": "8e8335c3",
   "metadata": {
    "execution": {
     "iopub.execute_input": "2022-03-30T13:42:35.864183Z",
     "iopub.status.busy": "2022-03-30T13:42:35.864034Z",
     "iopub.status.idle": "2022-03-30T13:42:35.956629Z",
     "shell.execute_reply": "2022-03-30T13:42:35.956193Z"
    }
   },
   "outputs": [
    {
     "data": {
      "image/png": "[encoded data removed]",
      "text/plain": [
       "<Figure size 432x288 with 1 Axes>"
      ]
     },
     "metadata": {
      "needs_background": "light"
     },
     "output_type": "display_data"
    }
   ],
   "source": [
    "plt.imshow(props[0].dt[5, ...]);"
   ]
  }
 ],
 "metadata": {
  "kernelspec": {
   "display_name": "Python 3 (ipykernel)",
   "language": "python",
   "name": "python3"
  },
  "language_info": {
   "codemirror_mode": {
    "name": "ipython",
    "version": 3
   },
   "file_extension": ".py",
   "mimetype": "text/x-python",
   "name": "python",
   "nbconvert_exporter": "python",
   "pygments_lexer": "ipython3",
   "version": "3.8.13"
  }
 },
 "nbformat": 4,
 "nbformat_minor": 5
}
