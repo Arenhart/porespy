{
 "cells": [
  {
   "cell_type": "markdown",
   "id": "b439283a",
   "metadata": {},
   "source": [
    "# ``regionprops_3D``\n",
    "This is similar to the ``regionprops`` in ``scikit-image`` but has some extra features that are relevant to 3D images.  Note that the ``scikit-image`` version has been adding 3D capabilities, make the PoreSpy version less useful."
   ]
  },
  {
   "cell_type": "code",
   "execution_count": 1,
   "id": "42296990",
   "metadata": {
    "execution": {
     "iopub.execute_input": "2022-06-22T19:33:48.928023Z",
     "iopub.status.busy": "2022-06-22T19:33:48.927667Z",
     "iopub.status.idle": "2022-06-22T19:33:50.902354Z",
     "shell.execute_reply": "2022-06-22T19:33:50.901513Z"
    }
   },
   "outputs": [],
   "source": [
    "import porespy as ps\n",
    "import numpy as np\n",
    "import matplotlib.pyplot as plt\n",
    "import scipy.ndimage as spim"
   ]
  },
  {
   "cell_type": "code",
   "execution_count": 2,
   "id": "ab7582c0",
   "metadata": {
    "execution": {
     "iopub.execute_input": "2022-06-22T19:33:50.907110Z",
     "iopub.status.busy": "2022-06-22T19:33:50.906190Z",
     "iopub.status.idle": "2022-06-22T19:33:51.688519Z",
     "shell.execute_reply": "2022-06-22T19:33:51.687913Z"
    }
   },
   "outputs": [
    {
     "data": {
      "image/png": "[encoded data removed]",
      "text/plain": [
       "<Figure size 432x288 with 1 Axes>"
      ]
     },
     "metadata": {
      "needs_background": "light"
     },
     "output_type": "display_data"
    }
   ],
   "source": [
    "im = ps.generators.rsa([80, 80, 80], r=10, clearance=3)\n",
    "plt.imshow(im[20, ...], origin='lower', interpolation='none');"
   ]
  },
  {
   "cell_type": "markdown",
   "id": "9cc48e89",
   "metadata": {},
   "source": [
    "We need to label each sphere so they are recognized as individual regions:"
   ]
  },
  {
   "cell_type": "code",
   "execution_count": 3,
   "id": "a75c5b4c",
   "metadata": {
    "execution": {
     "iopub.execute_input": "2022-06-22T19:33:51.692430Z",
     "iopub.status.busy": "2022-06-22T19:33:51.691987Z",
     "iopub.status.idle": "2022-06-22T19:33:51.787766Z",
     "shell.execute_reply": "2022-06-22T19:33:51.787103Z"
    }
   },
   "outputs": [
    {
     "data": {
      "image/png": "[encoded data removed]",
      "text/plain": [
       "<Figure size 432x288 with 1 Axes>"
      ]
     },
     "metadata": {
      "needs_background": "light"
     },
     "output_type": "display_data"
    }
   ],
   "source": [
    "regions = spim.label(im)[0]\n",
    "plt.imshow(regions[20, ...], origin='lower', interpolation='none');"
   ]
  },
  {
   "cell_type": "code",
   "execution_count": 4,
   "id": "d573de10",
   "metadata": {
    "execution": {
     "iopub.execute_input": "2022-06-22T19:33:51.792569Z",
     "iopub.status.busy": "2022-06-22T19:33:51.791199Z",
     "iopub.status.idle": "2022-06-22T19:33:51.798956Z",
     "shell.execute_reply": "2022-06-22T19:33:51.798377Z"
    }
   },
   "outputs": [],
   "source": [
    "props = ps.metrics.regionprops_3D(regions)"
   ]
  },
  {
   "cell_type": "markdown",
   "id": "e1349c01",
   "metadata": {},
   "source": [
    "``props`` is a list of ``RegionProperties`` objects, subclassed from ``scikit-image``.  Each ``RegionProperties`` object possess the properties as attributes.  Note that these are calculated on demand, so the ``regionsprops_3D`` function appears very quick, but the work has not yet been done."
   ]
  },
  {
   "cell_type": "code",
   "execution_count": 5,
   "id": "7ad84e89",
   "metadata": {
    "execution": {
     "iopub.execute_input": "2022-06-22T19:33:51.820252Z",
     "iopub.status.busy": "2022-06-22T19:33:51.818583Z",
     "iopub.status.idle": "2022-06-22T19:33:51.826404Z",
     "shell.execute_reply": "2022-06-22T19:33:51.825648Z"
    }
   },
   "outputs": [
    {
     "data": {
      "text/plain": [
       "[<porespy.metrics._regionprops.RegionPropertiesPS at 0x7f6fecc64040>,\n",
       " <porespy.metrics._regionprops.RegionPropertiesPS at 0x7f6fecb3dc10>,\n",
       " <porespy.metrics._regionprops.RegionPropertiesPS at 0x7f6fecb3dac0>,\n",
       " <porespy.metrics._regionprops.RegionPropertiesPS at 0x7f6fecb3daf0>,\n",
       " <porespy.metrics._regionprops.RegionPropertiesPS at 0x7f6fecb3df70>,\n",
       " <porespy.metrics._regionprops.RegionPropertiesPS at 0x7f6fecb3d370>,\n",
       " <porespy.metrics._regionprops.RegionPropertiesPS at 0x7f70342efd90>,\n",
       " <porespy.metrics._regionprops.RegionPropertiesPS at 0x7f70342efe80>,\n",
       " <porespy.metrics._regionprops.RegionPropertiesPS at 0x7f70342efeb0>,\n",
       " <porespy.metrics._regionprops.RegionPropertiesPS at 0x7f6fecb5fa90>,\n",
       " <porespy.metrics._regionprops.RegionPropertiesPS at 0x7f6fecb5ffd0>,\n",
       " <porespy.metrics._regionprops.RegionPropertiesPS at 0x7f6fecb5fac0>,\n",
       " <porespy.metrics._regionprops.RegionPropertiesPS at 0x7f6fecee3c40>,\n",
       " <porespy.metrics._regionprops.RegionPropertiesPS at 0x7f6fecee3820>,\n",
       " <porespy.metrics._regionprops.RegionPropertiesPS at 0x7f6fecee3b50>,\n",
       " <porespy.metrics._regionprops.RegionPropertiesPS at 0x7f70342e5400>,\n",
       " <porespy.metrics._regionprops.RegionPropertiesPS at 0x7f70342e5dc0>,\n",
       " <porespy.metrics._regionprops.RegionPropertiesPS at 0x7f70342ea280>,\n",
       " <porespy.metrics._regionprops.RegionPropertiesPS at 0x7f6fecc64130>,\n",
       " <porespy.metrics._regionprops.RegionPropertiesPS at 0x7f6fecc64790>]"
      ]
     },
     "execution_count": 5,
     "metadata": {},
     "output_type": "execute_result"
    }
   ],
   "source": [
    "props"
   ]
  },
  {
   "cell_type": "markdown",
   "id": "cb24af0f",
   "metadata": {},
   "source": [
    "The properties of regions 1 are on the ``RegionsProperties`` object located at position 0 in the ``props`` list:"
   ]
  },
  {
   "cell_type": "code",
   "execution_count": 6,
   "id": "e0556e3b",
   "metadata": {
    "execution": {
     "iopub.execute_input": "2022-06-22T19:33:51.829777Z",
     "iopub.status.busy": "2022-06-22T19:33:51.829358Z",
     "iopub.status.idle": "2022-06-22T19:33:51.835612Z",
     "shell.execute_reply": "2022-06-22T19:33:51.834928Z"
    }
   },
   "outputs": [
    {
     "name": "stdout",
     "output_type": "stream",
     "text": [
      "area\n",
      "area_bbox\n",
      "area_convex\n",
      "area_filled\n",
      "axis_major_length\n",
      "axis_minor_length\n",
      "bbox\n",
      "bbox_volume\n",
      "border\n",
      "centroid\n",
      "centroid_local\n",
      "centroid_weighted\n",
      "centroid_weighted_local\n",
      "convex_volume\n",
      "coords\n",
      "dt\n",
      "eccentricity\n",
      "equivalent_diameter_area\n",
      "euler_number\n",
      "extent\n",
      "feret_diameter_max\n",
      "image\n",
      "image_convex\n",
      "image_filled\n",
      "image_intensity\n",
      "inertia_tensor\n",
      "inertia_tensor_eigvals\n",
      "inscribed_sphere\n",
      "intensity_max\n",
      "intensity_mean\n",
      "intensity_min\n",
      "label\n",
      "mask\n",
      "moments\n",
      "moments_central\n",
      "moments_hu\n",
      "moments_normalized\n",
      "moments_weighted\n",
      "moments_weighted_central\n",
      "moments_weighted_hu\n",
      "moments_weighted_normalized\n",
      "orientation\n",
      "perimeter\n",
      "perimeter_crofton\n",
      "skeleton\n",
      "slice\n",
      "slices\n",
      "solidity\n",
      "sphericity\n",
      "surface_area\n",
      "surface_mesh_simplices\n",
      "surface_mesh_vertices\n",
      "volume\n"
     ]
    }
   ],
   "source": [
    "for d in dir(props[0]):\n",
    "    if not d.startswith('_'):\n",
    "        print(d)"
   ]
  },
  {
   "cell_type": "markdown",
   "id": "d15fd00b",
   "metadata": {},
   "source": [
    "Let's check a few of the properties:"
   ]
  },
  {
   "cell_type": "code",
   "execution_count": 7,
   "id": "2a2be644",
   "metadata": {
    "execution": {
     "iopub.execute_input": "2022-06-22T19:33:51.839186Z",
     "iopub.status.busy": "2022-06-22T19:33:51.838676Z",
     "iopub.status.idle": "2022-06-22T19:33:51.844128Z",
     "shell.execute_reply": "2022-06-22T19:33:51.843492Z"
    }
   },
   "outputs": [
    {
     "name": "stdout",
     "output_type": "stream",
     "text": [
      "4139\n"
     ]
    }
   ],
   "source": [
    "print(props[0].volume)"
   ]
  },
  {
   "cell_type": "markdown",
   "id": "79b33b79",
   "metadata": {},
   "source": [
    "Because the present function is meant for 3D images, we have added specific terminology, like volume, instead of allowing area to mean volume like the ``scikit-image`` version\""
   ]
  },
  {
   "cell_type": "code",
   "execution_count": 8,
   "id": "b8fd821f",
   "metadata": {
    "execution": {
     "iopub.execute_input": "2022-06-22T19:33:51.847693Z",
     "iopub.status.busy": "2022-06-22T19:33:51.847226Z",
     "iopub.status.idle": "2022-06-22T19:33:51.852385Z",
     "shell.execute_reply": "2022-06-22T19:33:51.851783Z"
    }
   },
   "outputs": [
    {
     "name": "stdout",
     "output_type": "stream",
     "text": [
      "4139\n"
     ]
    }
   ],
   "source": [
    "print(props[0].area)"
   ]
  },
  {
   "cell_type": "markdown",
   "id": "de1880f1",
   "metadata": {},
   "source": [
    "We do have a ``surface_area``, which is also specific to 3D objects:"
   ]
  },
  {
   "cell_type": "code",
   "execution_count": 9,
   "id": "3f861819",
   "metadata": {
    "execution": {
     "iopub.execute_input": "2022-06-22T19:33:51.856060Z",
     "iopub.status.busy": "2022-06-22T19:33:51.855479Z",
     "iopub.status.idle": "2022-06-22T19:33:51.865080Z",
     "shell.execute_reply": "2022-06-22T19:33:51.864437Z"
    }
   },
   "outputs": [
    {
     "name": "stdout",
     "output_type": "stream",
     "text": [
      "1165.306396484375\n"
     ]
    }
   ],
   "source": [
    "print(props[0].surface_area)"
   ]
  },
  {
   "cell_type": "markdown",
   "id": "7d3d6434",
   "metadata": {},
   "source": [
    "In addition to scalar metrics, we also provide access to useful images of the region:"
   ]
  },
  {
   "cell_type": "code",
   "execution_count": 10,
   "id": "8e8335c3",
   "metadata": {
    "execution": {
     "iopub.execute_input": "2022-06-22T19:33:51.868679Z",
     "iopub.status.busy": "2022-06-22T19:33:51.868194Z",
     "iopub.status.idle": "2022-06-22T19:33:51.967510Z",
     "shell.execute_reply": "2022-06-22T19:33:51.966863Z"
    }
   },
   "outputs": [
    {
     "data": {
      "image/png": "[encoded data removed]",
      "text/plain": [
       "<Figure size 432x288 with 1 Axes>"
      ]
     },
     "metadata": {
      "needs_background": "light"
     },
     "output_type": "display_data"
    }
   ],
   "source": [
    "plt.imshow(props[0].dt[5, ...]);"
   ]
  }
 ],
 "metadata": {
  "kernelspec": {
   "display_name": "Python 3 (ipykernel)",
   "language": "python",
   "name": "python3"
  },
  "language_info": {
   "codemirror_mode": {
    "name": "ipython",
    "version": 3
   },
   "file_extension": ".py",
   "mimetype": "text/x-python",
   "name": "python",
   "nbconvert_exporter": "python",
   "pygments_lexer": "ipython3",
   "version": "3.8.13"
  }
 },
 "nbformat": 4,
 "nbformat_minor": 5
}
