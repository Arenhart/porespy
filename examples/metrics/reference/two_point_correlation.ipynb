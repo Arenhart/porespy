{
 "cells": [
  {
   "cell_type": "markdown",
   "metadata": {},
   "source": [
    "#  `two_point_correlation`"
   ]
  },
  {
   "cell_type": "markdown",
   "metadata": {},
   "source": [
    "Calculates the two-point correlation function using Fourier transforms. "
   ]
  },
  {
   "cell_type": "code",
   "execution_count": 1,
   "metadata": {
    "execution": {
     "iopub.execute_input": "2022-03-30T13:45:53.119249Z",
     "iopub.status.busy": "2022-03-30T13:45:53.118615Z",
     "iopub.status.idle": "2022-03-30T13:45:55.374107Z",
     "shell.execute_reply": "2022-03-30T13:45:55.373350Z"
    }
   },
   "outputs": [
    {
     "data": {
      "text/plain": [
       "<Signature (im)>"
      ]
     },
     "execution_count": 1,
     "metadata": {},
     "output_type": "execute_result"
    }
   ],
   "source": [
    "import matplotlib.pyplot as plt\n",
    "import numpy as np\n",
    "import porespy as ps\n",
    "import inspect\n",
    "inspect.signature(ps.metrics.two_point_correlation)"
   ]
  },
  {
   "cell_type": "markdown",
   "metadata": {},
   "source": [
    "## `im`\n",
    "The input binary image of the porous material with void space voxels labeled with 1(True) and solid phase labeled with 0(False)."
   ]
  },
  {
   "cell_type": "code",
   "execution_count": 2,
   "metadata": {
    "execution": {
     "iopub.execute_input": "2022-03-30T13:45:55.377676Z",
     "iopub.status.busy": "2022-03-30T13:45:55.377349Z",
     "iopub.status.idle": "2022-03-30T13:45:55.547687Z",
     "shell.execute_reply": "2022-03-30T13:45:55.547188Z"
    }
   },
   "outputs": [
    {
     "data": {
      "image/png": "[encoded data removed]",
      "text/plain": [
       "<Figure size 432x432 with 1 Axes>"
      ]
     },
     "metadata": {
      "needs_background": "light"
     },
     "output_type": "display_data"
    }
   ],
   "source": [
    "np.random.seed(10)\n",
    "im = ps.generators.blobs(shape=[100,100, 100])\n",
    "fig, ax = plt.subplots(1, 1, figsize=[6, 6])\n",
    "ax.imshow(im[:,:,6], origin='lower', interpolation='none')\n",
    "ax.axis(False);"
   ]
  },
  {
   "cell_type": "markdown",
   "metadata": {},
   "source": [
    "The `two_point_correlation` returns a custom object containing the `distance` and `probability` data. We can then plot the two point correlation function:"
   ]
  },
  {
   "cell_type": "code",
   "execution_count": 3,
   "metadata": {
    "execution": {
     "iopub.execute_input": "2022-03-30T13:45:55.550778Z",
     "iopub.status.busy": "2022-03-30T13:45:55.550467Z",
     "iopub.status.idle": "2022-03-30T13:45:55.890672Z",
     "shell.execute_reply": "2022-03-30T13:45:55.890052Z"
    }
   },
   "outputs": [
    {
     "data": {
      "image/png": "[encoded data removed]",
      "text/plain": [
       "<Figure size 432x432 with 1 Axes>"
      ]
     },
     "metadata": {
      "needs_background": "light"
     },
     "output_type": "display_data"
    }
   ],
   "source": [
    "data = ps.metrics.two_point_correlation(im)\n",
    "fig, ax = plt.subplots(1, 1, figsize=[6, 6])\n",
    "ax.plot(data.distance, data.probability, 'r.')\n",
    "ax.set_xlabel(\"distance\")\n",
    "ax.set_ylabel(\"two point correlation function\");"
   ]
  }
 ],
 "metadata": {
  "kernelspec": {
   "display_name": "Python 3",
   "language": "python",
   "name": "python3"
  },
  "language_info": {
   "codemirror_mode": {
    "name": "ipython",
    "version": 3
   },
   "file_extension": ".py",
   "mimetype": "text/x-python",
   "name": "python",
   "nbconvert_exporter": "python",
   "pygments_lexer": "ipython3",
   "version": "3.8.13"
  }
 },
 "nbformat": 4,
 "nbformat_minor": 4
}
