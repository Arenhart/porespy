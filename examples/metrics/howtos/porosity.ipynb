{
 "cells": [
  {
   "cell_type": "markdown",
   "metadata": {},
   "source": [
    "# porosity"
   ]
  },
  {
   "cell_type": "code",
   "execution_count": 1,
   "metadata": {
    "collapsed": true,
    "jupyter": {
     "outputs_hidden": true,
     "source_hidden": true
    },
    "tags": []
   },
   "outputs": [
    {
     "data": {
      "text/markdown": [
       "---\n",
       " ## Documentation for ``porosity``\n",
       " ---\n",
       "**<span style=\"color:purple\">porosity</span>_(im)_**\n",
       "\n",
       "\n",
       "Calculates the porosity of an image assuming 1's are void space and 0's are\n",
       "solid phase.\n",
       "\n",
       "\n",
       "All other values are ignored, so this can also return the relative\n",
       "fraction of a phase of interest in trinary or multiphase images.\n",
       "\n",
       "#### Parameters\n",
       "* im : <b><i>ND-array</i></b>  Image of the void space with 1's indicating void phase (or True) and\n",
       "\t0's indicating the solid phase (or False).\n",
       "\n",
       "#### Returns\n",
       "* porosity : <b><i>float</i></b>  Calculated as the sum of all 1's divided by the sum of all 1's and 0's.\n",
       "\n",
       "#### See Also\n",
       "* phase_fraction\n",
       "\n",
       "#### Notes\n",
       "This function assumes void is represented by 1 and solid by 0, and all\n",
       "other values are ignored.  This is useful, for example, for images of\n",
       "cylindrical cores, where all voxels outside the core are labelled with 2.\n",
       "\n",
       "Alternatively, images can be processed with ``find_disconnected_voxels``\n",
       "to get an image of only blind pores.  This can then be added to the orignal\n",
       "image such that blind pores have a value of 2, thus allowing the\n",
       "calculation of accessible porosity, rather than overall porosity.\n",
       "---"
      ],
      "text/plain": [
       "<IPython.core.display.Markdown object>"
      ]
     },
     "execution_count": 1,
     "metadata": {},
     "output_type": "execute_result"
    }
   ],
   "source": [
    "import porespy as ps\n",
    "from IPython.display import Markdown as show\n",
    "show(ps.tools.show_docstring(ps.metrics.porosity))"
   ]
  },
  {
   "cell_type": "markdown",
   "metadata": {},
   "source": [
    "### Import packages"
   ]
  },
  {
   "cell_type": "code",
   "execution_count": 2,
   "metadata": {},
   "outputs": [],
   "source": [
    "import porespy as ps\n",
    "import matplotlib.pyplot as plt\n",
    "\n",
    "ps.visualization.set_mpl_style()"
   ]
  },
  {
   "cell_type": "markdown",
   "metadata": {},
   "source": [
    "### Create input image and variables:"
   ]
  },
  {
   "cell_type": "code",
   "execution_count": 3,
   "metadata": {},
   "outputs": [
    {
     "data": {
      "text/plain": [
       "<matplotlib.image.AxesImage at 0x7f4dbf1c1850>"
      ]
     },
     "execution_count": 3,
     "metadata": {},
     "output_type": "execute_result"
    },
    {
     "data": {
      "image/png": "[encoded data removed]",
      "text/plain": [
       "<Figure size 720x720 with 1 Axes>"
      ]
     },
     "metadata": {
      "needs_background": "light"
     },
     "output_type": "display_data"
    }
   ],
   "source": [
    "skel = ps.generators.blobs(shape=[100, 100])\n",
    "branch_points = None\n",
    "iterations = 10\n",
    "im = ps.filters.prune_branches(skel, branch_points, iterations)\n",
    "\n",
    "plt.figure(figsize=[10, 10])\n",
    "plt.axis(False)\n",
    "plt.imshow(im)"
   ]
  },
  {
   "cell_type": "markdown",
   "metadata": {},
   "source": [
    "### Apply metric function:"
   ]
  },
  {
   "cell_type": "markdown",
   "metadata": {},
   "source": [
    "Output is the porosity of the input."
   ]
  },
  {
   "cell_type": "code",
   "execution_count": 4,
   "metadata": {},
   "outputs": [
    {
     "data": {
      "text/plain": [
       "0.5132"
      ]
     },
     "execution_count": 4,
     "metadata": {},
     "output_type": "execute_result"
    }
   ],
   "source": [
    "ps.metrics.porosity(im = im)"
   ]
  }
 ],
 "metadata": {
  "kernelspec": {
   "display_name": "Python 3",
   "language": "python",
   "name": "python3"
  },
  "language_info": {
   "codemirror_mode": {
    "name": "ipython",
    "version": 3
   },
   "file_extension": ".py",
   "mimetype": "text/x-python",
   "name": "python",
   "nbconvert_exporter": "python",
   "pygments_lexer": "ipython3",
   "version": "3.8.8"
  }
 },
 "nbformat": 4,
 "nbformat_minor": 4
}
