{
 "cells": [
  {
   "cell_type": "markdown",
   "metadata": {},
   "source": [
    "# mesh_surface_area"
   ]
  },
  {
   "cell_type": "code",
   "execution_count": 1,
   "metadata": {
    "jupyter": {
     "source_hidden": true
    },
    "tags": []
   },
   "outputs": [
    {
     "data": {
      "text/markdown": [
       "---\n",
       " ## Documentation for ``mesh_surface_area``\n",
       " ---\n",
       "**<span style=\"color:purple\">mesh&#95;surface&#95;area</span>_(mesh=None, verts=None, faces=None)_**\n",
       "\n",
       "\n",
       "Calculates the surface area of a meshed region\n",
       "\n",
       "\n",
       "#### Parameters\n",
       "* mesh : <b><i>tuple</i></b>  The tuple returned from the ``mesh_region`` function\n",
       "* verts : <b><i>array</i></b>  An N-by-ND array containing the coordinates of each mesh vertex\n",
       "* faces : <b><i>array</i></b>  An N-by-ND array indicating which elements in ``verts`` form a mesh\n",
       "\telement.\n",
       "\n",
       "#### Returns\n",
       "* surface_area : <b><i>float</i></b>  The surface area of the mesh, calculated by\n",
       "\t``skimage.measure.mesh_surface_area``\n",
       "\n",
       "#### Notes\n",
       "This function simply calls ``scikit-image.measure.mesh_surface_area``, but\n",
       "it allows for the passing of the ``mesh`` tuple returned by the\n",
       "``mesh_region`` function, entirely for convenience.\n",
       "---"
      ],
      "text/plain": [
       "<IPython.core.display.Markdown object>"
      ]
     },
     "execution_count": 1,
     "metadata": {},
     "output_type": "execute_result"
    }
   ],
   "source": [
    "import porespy as ps\n",
    "from IPython.display import Markdown as show\n",
    "show(ps.tools.show_docstring(ps.metrics.mesh_surface_area))"
   ]
  },
  {
   "cell_type": "markdown",
   "metadata": {},
   "source": [
    "## Import packages"
   ]
  },
  {
   "cell_type": "code",
   "execution_count": 2,
   "metadata": {},
   "outputs": [],
   "source": [
    "import porespy as ps\n",
    "import skimage\n",
    "import matplotlib.pyplot as plt\n",
    "\n",
    "ps.visualization.set_mpl_style()"
   ]
  },
  {
   "cell_type": "markdown",
   "metadata": {},
   "source": [
    "## Create input image and variables:"
   ]
  },
  {
   "cell_type": "code",
   "execution_count": 3,
   "metadata": {},
   "outputs": [],
   "source": [
    "#default values:\n",
    "verts = None\n",
    "faces = None\n",
    "mesh = None"
   ]
  },
  {
   "cell_type": "markdown",
   "metadata": {},
   "source": [
    "## Apply metric function:"
   ]
  },
  {
   "cell_type": "markdown",
   "metadata": {},
   "source": [
    "Output is the surface area of the mesh."
   ]
  },
  {
   "cell_type": "markdown",
   "metadata": {},
   "source": [
    "### mesh"
   ]
  },
  {
   "cell_type": "code",
   "execution_count": 4,
   "metadata": {},
   "outputs": [
    {
     "data": {
      "text/plain": [
       "91498.1015625"
      ]
     },
     "execution_count": 4,
     "metadata": {},
     "output_type": "execute_result"
    },
    {
     "data": {
      "image/png": "[encoded data removed]",
      "text/plain": [
       "<Figure size 360x360 with 1 Axes>"
      ]
     },
     "metadata": {
      "needs_background": "light"
     },
     "output_type": "display_data"
    }
   ],
   "source": [
    "im = ps.generators.blobs(shape=[300, 300])\n",
    "mesh1 = ps.tools.mesh_region(region=im, strel=None)\n",
    "plt.figure(figsize=[5, 5])\n",
    "plt.axis(False)\n",
    "plt.imshow(im)\n",
    "\n",
    "ps.metrics.mesh_surface_area(mesh = mesh1, verts = verts, faces=faces)"
   ]
  },
  {
   "cell_type": "markdown",
   "metadata": {},
   "source": [
    "### verts and faces"
   ]
  },
  {
   "cell_type": "code",
   "execution_count": 5,
   "metadata": {},
   "outputs": [
    {
     "data": {
      "text/plain": [
       "16280.0546875"
      ]
     },
     "execution_count": 5,
     "metadata": {},
     "output_type": "execute_result"
    }
   ],
   "source": [
    "#volume = [15,10,30]\n",
    "skel = ps.generators.blobs(shape=[30, 30, 30])\n",
    "im = ps.filters.prune_branches(skel)\n",
    "verts, faces, normals, values = skimage.measure.marching_cubes(im)\n",
    "\n",
    "ps.metrics.mesh_surface_area(mesh = mesh, verts=verts, faces= faces)"
   ]
  },
  {
   "cell_type": "code",
   "execution_count": null,
   "metadata": {},
   "outputs": [],
   "source": []
  }
 ],
 "metadata": {
  "kernelspec": {
   "display_name": "Python 3",
   "language": "python",
   "name": "python3"
  },
  "language_info": {
   "codemirror_mode": {
    "name": "ipython",
    "version": 3
   },
   "file_extension": ".py",
   "mimetype": "text/x-python",
   "name": "python",
   "nbconvert_exporter": "python",
   "pygments_lexer": "ipython3",
   "version": "3.8.8"
  }
 },
 "nbformat": 4,
 "nbformat_minor": 4
}
