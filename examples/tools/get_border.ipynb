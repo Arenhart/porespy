{
 "cells": [
  {
   "cell_type": "markdown",
   "id": "powered-linux",
   "metadata": {},
   "source": [
    "# get_border"
   ]
  },
  {
   "cell_type": "code",
   "execution_count": 1,
   "id": "chubby-instruction",
   "metadata": {
    "jupyter": {
     "source_hidden": true
    },
    "tags": []
   },
   "outputs": [
    {
     "data": {
      "text/markdown": [
       "---\n",
       " ## Documentation for ``get_border``\n",
       " ---\n",
       "**<span style=\"color:purple\">get&#95;border</span>_(shape, thickness=1, mode='edges', return_indices=False)_**\n",
       "\n",
       "\n",
       "Creates an array of specified size with corners, edges or faces labelled as\n",
       "True.  This can be used as mask to manipulate values laying on the\n",
       "perimeter of an image.\n",
       "\n",
       "\n",
       "#### Parameters\n",
       "* shape : <b><i>array_like</i></b>  The shape of the array to return.  Can be either 2D or 3D.\n",
       "* thickness : <b><i>scalar (default is 1)</i></b>  The number of pixels/voxels to place along perimeter.\n",
       "* mode : <b><i>string</i></b>  The type of border to create.  Options are 'faces', 'edges' (default)\n",
       "\tand 'corners'.  In 2D 'faces' and 'edges' give the same result.\n",
       "* return_indices : <b><i>boolean</i></b>  If ``False`` (default) an image is returned with the border voxels set\n",
       "\tto ``True``.  If ``True``, then a tuple with the x, y, z (if ``im`` is\n",
       "\t3D) indices is returned.  This tuple can be used directly to index into\n",
       "\tthe image, such as ``im[tup] = 2``.\n",
       "* asmask : <b><i>Boolean</i></b>  If ``True`` (default) then an image of the specified ``shape`` is\n",
       "\treturned, otherwise indices of the border voxels are returned.\n",
       "\n",
       "#### Returns\n",
       "* image : <b><i>ND-array</i></b>  An ND-array of specified shape with ``True`` values at the perimeter\n",
       "\tand ``False`` elsewhere\n",
       "\n",
       "#### Notes\n",
       "TODO: This function uses brute force to create an image then fill the\n",
       "edges using location-based logic, and if the user requests\n",
       "``return_indices`` it finds them using ``np.where``.  Since these arrays\n",
       "are cubic it should be possible to use more elegant and efficient\n",
       "index-based logic to find the indices, then use them to fill an empty\n",
       "image with ``True`` using these indices.\n",
       "\n",
       "#### Examples\n",
       "```python\n",
       "import porespy as ps\n",
       "import scipy as sp\n",
       "mask = ps.tools.get_border(shape=[3, 3], mode='corners')\n",
       "print(mask)\n",
       "```\n",
       "```python\n",
       "[[ True False  True]\n",
       "[False False False]\n",
       "[ True False  True]]\n",
       "```\n",
       "```python\n",
       "mask = ps.tools.get_border(shape=[3, 3], mode='edges')\n",
       "print(mask)\n",
       "```\n",
       "```python\n",
       "[[ True  True  True]\n",
       "[ True False  True]\n",
       "[ True  True  True]]\n",
       "```\n",
       "---"
      ],
      "text/plain": [
       "<IPython.core.display.Markdown object>"
      ]
     },
     "execution_count": 1,
     "metadata": {},
     "output_type": "execute_result"
    }
   ],
   "source": [
    "import porespy as ps\n",
    "from IPython.display import Markdown as show\n",
    "show(ps.tools.show_docstring(ps.tools.get_border))"
   ]
  },
  {
   "cell_type": "markdown",
   "id": "muslim-paragraph",
   "metadata": {},
   "source": [
    "## Import packages"
   ]
  },
  {
   "cell_type": "code",
   "execution_count": 2,
   "id": "aquatic-divorce",
   "metadata": {},
   "outputs": [],
   "source": [
    "import numpy as np\n",
    "import porespy as ps\n",
    "import scipy.ndimage as spim\n",
    "import matplotlib.pyplot as plt\n",
    "import skimage"
   ]
  },
  {
   "cell_type": "markdown",
   "id": "prepared-royal",
   "metadata": {},
   "source": [
    "## Create variables:"
   ]
  },
  {
   "cell_type": "code",
   "execution_count": 3,
   "id": "breathing-walnut",
   "metadata": {},
   "outputs": [],
   "source": [
    "shape = [200,200]\n",
    "\n",
    "#default values:\n",
    "thickness = 1\n",
    "mode = 'edges'\n",
    "return_indices = False"
   ]
  },
  {
   "cell_type": "markdown",
   "id": "written-heater",
   "metadata": {},
   "source": [
    "## Apply tool:"
   ]
  },
  {
   "cell_type": "markdown",
   "id": "prescribed-fault",
   "metadata": {},
   "source": [
    "### thickness"
   ]
  },
  {
   "cell_type": "code",
   "execution_count": 4,
   "id": "ordered-scheduling",
   "metadata": {},
   "outputs": [
    {
     "data": {
      "text/plain": [
       "Text(0.5, 1.0, 'thickness = 10')"
      ]
     },
     "execution_count": 4,
     "metadata": {},
     "output_type": "execute_result"
    },
    {
     "data": {
      "image/png": "[encoded data removed]",
      "text/plain": [
       "<Figure size 1080x1080 with 2 Axes>"
      ]
     },
     "metadata": {
      "needs_background": "light"
     },
     "output_type": "display_data"
    }
   ],
   "source": [
    "im = ps.tools.get_border(shape = shape, thickness = thickness, mode = mode, return_indices = return_indices )\n",
    "im2 =ps.tools.get_border(shape = shape, thickness = 10, mode = mode, return_indices = return_indices )\n",
    "\n",
    "fig, ax = plt.subplots(1, 2, figsize=[15, 15]);\n",
    "ax[0].axis(False)\n",
    "ax[0].imshow(im) \n",
    "ax[0].set_title('default')\n",
    "ax[1].axis(False)\n",
    "ax[1].imshow(im2)\n",
    "ax[1].set_title('thickness = 10')"
   ]
  },
  {
   "cell_type": "markdown",
   "id": "infectious-adrian",
   "metadata": {},
   "source": [
    "### mode"
   ]
  },
  {
   "cell_type": "code",
   "execution_count": 5,
   "id": "civilian-acoustic",
   "metadata": {},
   "outputs": [
    {
     "data": {
      "text/plain": [
       "Text(0.5, 1.0, \"mode = 'corners'\")"
      ]
     },
     "execution_count": 5,
     "metadata": {},
     "output_type": "execute_result"
    },
    {
     "data": {
      "image/png": "[encoded data removed]",
      "text/plain": [
       "<Figure size 1080x1080 with 2 Axes>"
      ]
     },
     "metadata": {
      "needs_background": "light"
     },
     "output_type": "display_data"
    }
   ],
   "source": [
    "im = ps.tools.get_border(shape = shape, thickness = thickness, mode = mode, return_indices = return_indices )\n",
    "im2 =ps.tools.get_border(shape = shape, thickness = thickness, mode = 'corners', return_indices = return_indices )\n",
    "\n",
    "fig, ax = plt.subplots(1, 2, figsize=[15, 15]);\n",
    "ax[0].axis(False)\n",
    "ax[0].imshow(im) \n",
    "ax[0].set_title('default')\n",
    "ax[1].axis(False)\n",
    "ax[1].imshow(im2)\n",
    "ax[1].set_title(\"mode = 'corners'\")"
   ]
  },
  {
   "cell_type": "markdown",
   "id": "violent-governor",
   "metadata": {},
   "source": [
    "### return_indices"
   ]
  },
  {
   "cell_type": "code",
   "execution_count": 6,
   "id": "virgin-cosmetic",
   "metadata": {},
   "outputs": [
    {
     "data": {
      "text/plain": [
       "Text(0.5, 1.0, 'return_indices =True')"
      ]
     },
     "execution_count": 6,
     "metadata": {},
     "output_type": "execute_result"
    },
    {
     "data": {
      "image/png": "[encoded data removed]",
      "text/plain": [
       "<Figure size 1080x1080 with 2 Axes>"
      ]
     },
     "metadata": {
      "needs_background": "light"
     },
     "output_type": "display_data"
    }
   ],
   "source": [
    "im = ps.tools.get_border(shape = shape, thickness = thickness, mode = mode, return_indices = return_indices )\n",
    "im2 =ps.tools.get_border(shape = shape, thickness = thickness, mode = mode, return_indices =True)\n",
    "\n",
    "fig, ax = plt.subplots(1, 2, figsize=[15, 15]);\n",
    "ax[0].axis(False)\n",
    "ax[0].imshow(im) \n",
    "ax[0].set_title('default')\n",
    "ax[1].axis(False)\n",
    "ax[1].imshow(im2)\n",
    "ax[1].set_title('return_indices =True')"
   ]
  },
  {
   "cell_type": "code",
   "execution_count": null,
   "id": "aerial-philadelphia",
   "metadata": {},
   "outputs": [],
   "source": []
  }
 ],
 "metadata": {
  "kernelspec": {
   "display_name": "Python 3",
   "language": "python",
   "name": "python3"
  },
  "language_info": {
   "codemirror_mode": {
    "name": "ipython",
    "version": 3
   },
   "file_extension": ".py",
   "mimetype": "text/x-python",
   "name": "python",
   "nbconvert_exporter": "python",
   "pygments_lexer": "ipython3",
   "version": "3.8.8"
  }
 },
 "nbformat": 4,
 "nbformat_minor": 5
}
