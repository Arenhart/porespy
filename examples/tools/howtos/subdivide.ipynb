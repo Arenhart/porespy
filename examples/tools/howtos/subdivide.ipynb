{
 "cells": [
  {
   "cell_type": "markdown",
   "id": "assigned-chess",
   "metadata": {},
   "source": [
    "# subdivide"
   ]
  },
  {
   "cell_type": "code",
   "execution_count": 1,
   "id": "expired-climb",
   "metadata": {
    "jupyter": {
     "source_hidden": true
    },
    "tags": []
   },
   "outputs": [
    {
     "data": {
      "text/markdown": [
       "---\n",
       " ## Documentation for ``subdivide``\n",
       " ---\n",
       "**<span style=\"color:purple\">subdivide</span>_(im, divs=2, overlap=0, flatten=False)_**\n",
       "\n",
       "\n",
       "Returns slices into an image describing the specified number of sub-arrays.\n",
       "\n",
       "\n",
       "This function is useful for performing operations on smaller images for\n",
       "memory or speed.  Note that for most typical operations this will NOT work,\n",
       "since the image borders would cause artifacts (e.g. ``distance_transform``)\n",
       "\n",
       "#### Parameters\n",
       "* im : <b><i>ND-array</i></b>  The image of the porous media\n",
       "* divs : <b><i>scalar or array_like</i></b>  The number of sub-divisions to create in each axis of the image.  If a\n",
       "\tscalar is given it is assumed this value applies in all dimensions.\n",
       "* overlap : <b><i>scalar or array_like</i></b>  The amount of overlap to use when dividing along each axis.  If a\n",
       "\tscalar is given it is assumed this value applies in all dimensions.\n",
       "* flatten : <b><i>boolean</i></b>  If set to ``True`` then the slice objects are returned as a flat\n",
       "\tlist, while if ``False`` they are returned in a ND-array where each\n",
       "\tsubdivision is accessed using row-col or row-col-layer indexing.\n",
       "\n",
       "#### Returns\n",
       "* slices : <b><i>ND-array</i></b>  An ND-array containing sets of slice objects for indexing into ``im``\n",
       "\tthat extract subdivisions of an image.  If ``flatten`` was ``True``,\n",
       "\tthen this array is flat, suitable  for iterating.  If ``flatten`` was\n",
       "\t``False`` then the slice objects must be accessed by row, col, layer\n",
       "\tindices.  An ND-array is the preferred container since it's shape can\n",
       "\tbe easily queried.\n",
       "\n",
       "#### See Also\n",
       "* chunked_func\n",
       "\n",
       "#### Notes\n",
       "This method uses the\n",
       "`array_split package <https://github.com/array-split/array_split>`_ which\n",
       "offers the same functionality as the ``split`` method of Numpy's ND-array,\n",
       "but supports the splitting of multidimensional arrays in all dimensions.\n",
       "\n",
       "#### Examples\n",
       "```python\n",
       "import porespy as ps\n",
       "import matplotlib.pyplot as plt\n",
       "im = ps.generators.blobs(shape=[200, 200])\n",
       "s = ps.tools.subdivide(im, divs=[2, 2], flatten=True)\n",
       "print(len(s))\n",
       "```\n",
       "```python\n",
       "4\n",
       "```\n",
       "---"
      ],
      "text/plain": [
       "<IPython.core.display.Markdown object>"
      ]
     },
     "execution_count": 1,
     "metadata": {},
     "output_type": "execute_result"
    }
   ],
   "source": [
    "import porespy as ps\n",
    "from IPython.display import Markdown as show\n",
    "show(ps.tools.show_docstring(ps.tools.subdivide))"
   ]
  },
  {
   "cell_type": "markdown",
   "id": "neither-victoria",
   "metadata": {},
   "source": [
    "## Import packages"
   ]
  },
  {
   "cell_type": "code",
   "execution_count": 2,
   "id": "coastal-server",
   "metadata": {},
   "outputs": [],
   "source": [
    "import numpy as np\n",
    "import porespy as ps\n",
    "import scipy.ndimage as spim\n",
    "import matplotlib.pyplot as plt\n",
    "import skimage\n",
    "ps.visualization.set_mpl_style()"
   ]
  },
  {
   "cell_type": "markdown",
   "id": "italian-objective",
   "metadata": {},
   "source": [
    "## Create image and variables:"
   ]
  },
  {
   "cell_type": "code",
   "execution_count": 3,
   "id": "experimental-teaching",
   "metadata": {},
   "outputs": [
    {
     "data": {
      "image/png": "[encoded data removed]",
      "text/plain": [
       "<Figure size 504x504 with 1 Axes>"
      ]
     },
     "metadata": {
      "needs_background": "light"
     },
     "output_type": "display_data"
    }
   ],
   "source": [
    "im = ps.generators.blobs([100, 100])\n",
    "plt.figure(figsize=[7, 7])\n",
    "plt.axis(False)\n",
    "plt.imshow(im)\n",
    "\n",
    "#default values:\n",
    "divs = 2\n",
    "overlap=0\n",
    "flatten=False"
   ]
  },
  {
   "cell_type": "markdown",
   "id": "about-acrobat",
   "metadata": {},
   "source": [
    "## Apply tool:"
   ]
  },
  {
   "cell_type": "code",
   "execution_count": 4,
   "id": "compressed-component",
   "metadata": {},
   "outputs": [
    {
     "name": "stdout",
     "output_type": "stream",
     "text": [
      "[[(slice(0, 50, None), slice(0, 50, None))\n",
      "  (slice(0, 50, None), slice(50, 100, None))]\n",
      " [(slice(50, 100, None), slice(0, 50, None))\n",
      "  (slice(50, 100, None), slice(50, 100, None))]]\n"
     ]
    }
   ],
   "source": [
    "im = ps.tools.subdivide(im = im, divs = divs, overlap=overlap,flatten=flatten)\n",
    "print(im)"
   ]
  }
 ],
 "metadata": {
  "kernelspec": {
   "display_name": "Python 3",
   "language": "python",
   "name": "python3"
  },
  "language_info": {
   "codemirror_mode": {
    "name": "ipython",
    "version": 3
   },
   "file_extension": ".py",
   "mimetype": "text/x-python",
   "name": "python",
   "nbconvert_exporter": "python",
   "pygments_lexer": "ipython3",
   "version": "3.8.8"
  }
 },
 "nbformat": 4,
 "nbformat_minor": 5
}
