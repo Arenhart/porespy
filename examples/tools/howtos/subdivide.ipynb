{
 "cells": [
  {
   "cell_type": "markdown",
   "id": "2175c3a3",
   "metadata": {},
   "source": [
    "# subdivide"
   ]
  },
  {
   "cell_type": "markdown",
   "id": "83320b59",
   "metadata": {},
   "source": [
    "## Import packages"
   ]
  },
  {
   "cell_type": "code",
   "execution_count": 1,
   "id": "0f689103",
   "metadata": {},
   "outputs": [],
   "source": [
    "import numpy as np\n",
    "import porespy as ps\n",
    "import scipy.ndimage as spim\n",
    "import matplotlib.pyplot as plt\n",
    "import skimage\n",
    "\n",
    "np.random.rand(0)\n",
    "ps.visualization.set_mpl_style()"
   ]
  },
  {
   "cell_type": "markdown",
   "id": "853d6529",
   "metadata": {},
   "source": [
    "## Create image and variables"
   ]
  },
  {
   "cell_type": "code",
   "execution_count": 2,
   "id": "4ab91eb2",
   "metadata": {},
   "outputs": [
    {
     "data": {
      "image/svg+xml": [
       "<?xml version=\"1.0\" encoding=\"utf-8\" standalone=\"no\"?>\r\n",
       "<!DOCTYPE svg PUBLIC \"-//W3C//DTD SVG 1.1//EN\"\r\n",
       "  \"http://www.w3.org/Graphics/SVG/1.1/DTD/svg11.dtd\">\r\n",
       "<!-- Created with matplotlib (https://matplotlib.org/) -->\r\n",
       "<svg height=\"276.48pt\" version=\"1.1\" viewBox=\"0 0 276.48 276.48\" width=\"276.48pt\" xmlns=\"http://www.w3.org/2000/svg\" xmlns:xlink=\"http://www.w3.org/1999/xlink\">\r\n",
       " <metadata>\r\n",
       "  <rdf:RDF xmlns:cc=\"http://creativecommons.org/ns#\" xmlns:dc=\"http://purl.org/dc/elements/1.1/\" xmlns:rdf=\"http://www.w3.org/1999/02/22-rdf-syntax-ns#\">\r\n",
       "   <cc:Work>\r\n",
       "    <dc:type rdf:resource=\"http://purl.org/dc/dcmitype/StillImage\"/>\r\n",
       "    <dc:date>2021-04-24T16:28:25.520992</dc:date>\r\n",
       "    <dc:format>image/svg+xml</dc:format>\r\n",
       "    <dc:creator>\r\n",
       "     <cc:Agent>\r\n",
       "      <dc:title>Matplotlib v3.3.2, https://matplotlib.org/</dc:title>\r\n",
       "     </cc:Agent>\r\n",
       "    </dc:creator>\r\n",
       "   </cc:Work>\r\n",
       "  </rdf:RDF>\r\n",
       " </metadata>\r\n",
       " <defs>\r\n",
       "  <style type=\"text/css\">*{stroke-linecap:butt;stroke-linejoin:round;}</style>\r\n",
       " </defs>\r\n",
       " <g id=\"figure_1\">\r\n",
       "  <g id=\"patch_1\">\r\n",
       "   <path d=\"M 0 276.48 \r\n",
       "L 276.48 276.48 \r\n",
       "L 276.48 0 \r\n",
       "L 0 0 \r\n",
       "z\r\n",
       "\" style=\"fill:none;\"/>\r\n",
       "  </g>\r\n",
       "  <g id=\"axes_1\">\r\n",
       "   <g clip-path=\"url(#p607bc880d7)\">\r\n",
       "    <image height=\"500\" id=\"image041ff6c293\" style=\"image-rendering:crisp-edges;image-rendering:pixelated\" transform=\"matrix(0.526 0 0 -0.526 7.2 269.28)\" width=\"500\" xlink:href=\"data:image/png;base64,\r\n",
       "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\"/>\r\n",
       "   </g>\r\n",
       "  </g>\r\n",
       " </g>\r\n",
       " <defs>\r\n",
       "  <clipPath id=\"p607bc880d7\">\r\n",
       "   <rect height=\"262.08\" width=\"262.08\" x=\"7.2\" y=\"7.2\"/>\r\n",
       "  </clipPath>\r\n",
       " </defs>\r\n",
       "</svg>\r\n"
      ],
      "text/plain": [
       "<Figure size 288x288 with 1 Axes>"
      ]
     },
     "metadata": {
      "needs_background": "light"
     },
     "output_type": "display_data"
    }
   ],
   "source": [
    "im = ps.generators.blobs([500, 500])\n",
    "fig, ax = plt.subplots(1, 1, figsize=[4, 4])\n",
    "ax.axis(False)\n",
    "ax.imshow(im, origin='lower');"
   ]
  },
  {
   "cell_type": "markdown",
   "id": "64f2c47a",
   "metadata": {},
   "source": [
    "## Apply tool\n",
    "``slice`` objects are returned:"
   ]
  },
  {
   "cell_type": "code",
   "execution_count": 3,
   "id": "29ab00e1",
   "metadata": {},
   "outputs": [
    {
     "name": "stdout",
     "output_type": "stream",
     "text": [
      "[(slice(0, 270, None), slice(0, 270, None)), (slice(0, 270, None), slice(230, 500, None)), (slice(230, 500, None), slice(0, 270, None)), (slice(230, 500, None), slice(230, 500, None))]\n"
     ]
    }
   ],
   "source": [
    "slices = ps.tools.subdivide(im=im, divs=2, overlap=20)\n",
    "print(slices)"
   ]
  },
  {
   "cell_type": "code",
   "execution_count": 4,
   "id": "82f038e9",
   "metadata": {},
   "outputs": [
    {
     "data": {
      "image/svg+xml": [
       "<?xml version=\"1.0\" encoding=\"utf-8\" standalone=\"no\"?>\r\n",
       "<!DOCTYPE svg PUBLIC \"-//W3C//DTD SVG 1.1//EN\"\r\n",
       "  \"http://www.w3.org/Graphics/SVG/1.1/DTD/svg11.dtd\">\r\n",
       "<!-- Created with matplotlib (https://matplotlib.org/) -->\r\n",
       "<svg height=\"132.48pt\" version=\"1.1\" viewBox=\"0 0 554.76 132.48\" width=\"554.76pt\" xmlns=\"http://www.w3.org/2000/svg\" xmlns:xlink=\"http://www.w3.org/1999/xlink\">\r\n",
       " <metadata>\r\n",
       "  <rdf:RDF xmlns:cc=\"http://creativecommons.org/ns#\" xmlns:dc=\"http://purl.org/dc/elements/1.1/\" xmlns:rdf=\"http://www.w3.org/1999/02/22-rdf-syntax-ns#\">\r\n",
       "   <cc:Work>\r\n",
       "    <dc:type rdf:resource=\"http://purl.org/dc/dcmitype/StillImage\"/>\r\n",
       "    <dc:date>2021-04-24T16:28:25.732477</dc:date>\r\n",
       "    <dc:format>image/svg+xml</dc:format>\r\n",
       "    <dc:creator>\r\n",
       "     <cc:Agent>\r\n",
       "      <dc:title>Matplotlib v3.3.2, https://matplotlib.org/</dc:title>\r\n",
       "     </cc:Agent>\r\n",
       "    </dc:creator>\r\n",
       "   </cc:Work>\r\n",
       "  </rdf:RDF>\r\n",
       " </metadata>\r\n",
       " <defs>\r\n",
       "  <style type=\"text/css\">*{stroke-linecap:butt;stroke-linejoin:round;}</style>\r\n",
       " </defs>\r\n",
       " <g id=\"figure_1\">\r\n",
       "  <g id=\"patch_1\">\r\n",
       "   <path d=\"M 0 132.48 \r\n",
       "L 554.76 132.48 \r\n",
       "L 554.76 0 \r\n",
       "L 0 0 \r\n",
       "z\r\n",
       "\" style=\"fill:none;\"/>\r\n",
       "  </g>\r\n",
       "  <g id=\"axes_1\">\r\n",
       "   <g clip-path=\"url(#p05d868adcb)\">\r\n",
       "    <image height=\"270\" id=\"image3fc2bf626b\" style=\"image-rendering:crisp-edges;image-rendering:pixelated\" transform=\"matrix(0.440741 0 0 -0.440741 7.2 125.28)\" width=\"270\" xlink:href=\"data:image/png;base64,\r\n",
       "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\"/>\r\n",
       "   </g>\r\n",
       "  </g>\r\n",
       "  <g id=\"axes_2\">\r\n",
       "   <g clip-path=\"url(#p6ef8385357)\">\r\n",
       "    <image height=\"270\" id=\"image6e4765897f\" style=\"image-rendering:crisp-edges;image-rendering:pixelated\" transform=\"matrix(0.440741 0 0 -0.440741 147.96 125.28)\" width=\"270\" xlink:href=\"data:image/png;base64,\r\n",
       "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\"/>\r\n",
       "   </g>\r\n",
       "  </g>\r\n",
       "  <g id=\"axes_3\">\r\n",
       "   <g clip-path=\"url(#paa68cc7126)\">\r\n",
       "    <image height=\"270\" id=\"image4fa348021a\" style=\"image-rendering:crisp-edges;image-rendering:pixelated\" transform=\"matrix(0.440741 0 0 -0.440741 288.72 125.28)\" width=\"270\" xlink:href=\"data:image/png;base64,\r\n",
       "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\"/>\r\n",
       "   </g>\r\n",
       "  </g>\r\n",
       "  <g id=\"axes_4\">\r\n",
       "   <g clip-path=\"url(#p8ea537ac60)\">\r\n",
       "    <image height=\"270\" id=\"image9b318453f4\" style=\"image-rendering:crisp-edges;image-rendering:pixelated\" transform=\"matrix(0.440741 0 0 -0.440741 429.48 125.28)\" width=\"270\" xlink:href=\"data:image/png;base64,\r\n",
       "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\"/>\r\n",
       "   </g>\r\n",
       "  </g>\r\n",
       " </g>\r\n",
       " <defs>\r\n",
       "  <clipPath id=\"p05d868adcb\">\r\n",
       "   <rect height=\"118.08\" width=\"118.08\" x=\"7.2\" y=\"7.2\"/>\r\n",
       "  </clipPath>\r\n",
       "  <clipPath id=\"p6ef8385357\">\r\n",
       "   <rect height=\"118.08\" width=\"118.08\" x=\"147.96\" y=\"7.2\"/>\r\n",
       "  </clipPath>\r\n",
       "  <clipPath id=\"paa68cc7126\">\r\n",
       "   <rect height=\"118.08\" width=\"118.08\" x=\"288.72\" y=\"7.2\"/>\r\n",
       "  </clipPath>\r\n",
       "  <clipPath id=\"p8ea537ac60\">\r\n",
       "   <rect height=\"118.08\" width=\"118.08\" x=\"429.48\" y=\"7.2\"/>\r\n",
       "  </clipPath>\r\n",
       " </defs>\r\n",
       "</svg>\r\n"
      ],
      "text/plain": [
       "<Figure size 576x144 with 4 Axes>"
      ]
     },
     "metadata": {
      "needs_background": "light"
     },
     "output_type": "display_data"
    }
   ],
   "source": [
    "fig, ax = plt.subplots(1, 4, figsize=[8, 2])\n",
    "for i, s in enumerate(slices):\n",
    "    ax[i].imshow(im[s], origin='lower')\n",
    "    ax[i].axis(False);"
   ]
  }
 ],
 "metadata": {
  "kernelspec": {
   "display_name": "Python 3",
   "language": "python",
   "name": "python3"
  },
  "language_info": {
   "codemirror_mode": {
    "name": "ipython",
    "version": 3
   },
   "file_extension": ".py",
   "mimetype": "text/x-python",
   "name": "python",
   "nbconvert_exporter": "python",
   "pygments_lexer": "ipython3",
   "version": "3.8.5"
  }
 },
 "nbformat": 4,
 "nbformat_minor": 5
}
