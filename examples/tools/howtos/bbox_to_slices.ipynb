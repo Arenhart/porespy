{
 "cells": [
  {
   "cell_type": "markdown",
   "id": "centered-washer",
   "metadata": {},
   "source": [
    "# bbox_to_slices"
   ]
  },
  {
   "cell_type": "code",
   "execution_count": 1,
   "id": "adolescent-siemens",
   "metadata": {
    "jupyter": {
     "source_hidden": true
    },
    "tags": []
   },
   "outputs": [
    {
     "data": {
      "text/markdown": [
       "---\n",
       " ## Documentation for ``bbox_to_slices``\n",
       " ---\n",
       "**<span style=\"color:purple\">bbox&#95;to&#95;slices</span>_(bbox)_**\n",
       "\n",
       "\n",
       "Given a tuple containing bounding box coordinates, return a tuple of slice\n",
       "objects.\n",
       "\n",
       "\n",
       "A bounding box in the form of a straight list is returned by several\n",
       "functions in skimage, but these cannot be used to direct index into an\n",
       "image.  This function returns a tuples of slices can be, such as:\n",
       "``im[bbox_to_slices([xmin, ymin, xmax, ymax])]``.\n",
       "\n",
       "#### Parameters\n",
       "* bbox : <b><i>tuple of ints</i></b>  The bounding box indices in the form (``xmin``, ``ymin``, ``zmin``,\n",
       "\t``xmax``, ``ymax``, ``zmax``).  For a 2D image, simply omit the\n",
       "\t``zmin`` and ``zmax`` entries.\n",
       "\n",
       "#### Returns\n",
       "* slices : <b><i>tuple</i></b>  A tuple of slice objects that can be used to directly index into a\n",
       "\tlarger image.\n",
       "---"
      ],
      "text/plain": [
       "<IPython.core.display.Markdown object>"
      ]
     },
     "execution_count": 1,
     "metadata": {},
     "output_type": "execute_result"
    }
   ],
   "source": [
    "import porespy as ps\n",
    "from IPython.display import Markdown as show\n",
    "show(ps.tools.show_docstring(ps.tools.bbox_to_slices))"
   ]
  },
  {
   "cell_type": "markdown",
   "id": "double-digest",
   "metadata": {},
   "source": [
    "## Import packages"
   ]
  },
  {
   "cell_type": "code",
   "execution_count": 2,
   "id": "terminal-merit",
   "metadata": {},
   "outputs": [],
   "source": [
    "import numpy as np\n",
    "import porespy as ps\n",
    "import scipy.ndimage as spim\n",
    "import matplotlib.pyplot as plt\n",
    "import skimage\n",
    "ps.visualization.set_mpl_style()"
   ]
  },
  {
   "cell_type": "markdown",
   "id": "endangered-tuning",
   "metadata": {},
   "source": [
    "## Create image and variables:"
   ]
  },
  {
   "cell_type": "code",
   "execution_count": 3,
   "id": "played-norman",
   "metadata": {},
   "outputs": [
    {
     "data": {
      "text/plain": [
       "Text(0.5, 1.0, '3D image')"
      ]
     },
     "execution_count": 3,
     "metadata": {},
     "output_type": "execute_result"
    },
    {
     "data": {
      "image/png": "[encoded data removed]",
      "text/plain": [
       "<Figure size 504x504 with 1 Axes>"
      ]
     },
     "metadata": {
      "needs_background": "light"
     },
     "output_type": "display_data"
    },
    {
     "data": {
      "image/png": "[encoded data removed]",
      "text/plain": [
       "<Figure size 504x504 with 1 Axes>"
      ]
     },
     "metadata": {
      "needs_background": "light"
     },
     "output_type": "display_data"
    }
   ],
   "source": [
    "xmin=1\n",
    "ymin=1\n",
    "zmin=1\n",
    "xmax=30\n",
    "ymax=40\n",
    "zmax=50\n",
    "\n",
    "bbox3d = [xmin,ymin,zmin,xmax,ymax,zmax]\n",
    "bbox2d = [xmin,ymin,xmax,ymax]\n",
    "\n",
    "im = ps.generators.blobs([200, 200])\n",
    "im3d = ps.generators.blobs([200, 200,200])\n",
    "\n",
    "fig, ax = plt.subplots(figsize=[7, 7]);\n",
    "ps.visualization.imshow(im);\n",
    "plt.axis(False)\n",
    "plt.title('2D image')\n",
    "fig, ax = plt.subplots(figsize=[7, 7]);\n",
    "ps.visualization.imshow(im3d);\n",
    "plt.axis(False)\n",
    "plt.title('3D image')"
   ]
  },
  {
   "cell_type": "markdown",
   "id": "strange-butterfly",
   "metadata": {},
   "source": [
    "## Apply tool:"
   ]
  },
  {
   "cell_type": "code",
   "execution_count": 5,
   "id": "positive-collection",
   "metadata": {},
   "outputs": [
    {
     "data": {
      "text/plain": [
       "Text(0.5, 1.0, '3D')"
      ]
     },
     "execution_count": 5,
     "metadata": {},
     "output_type": "execute_result"
    },
    {
     "data": {
      "image/png": "[encoded data removed]",
      "text/plain": [
       "<Figure size 504x504 with 1 Axes>"
      ]
     },
     "metadata": {
      "needs_background": "light"
     },
     "output_type": "display_data"
    },
    {
     "data": {
      "image/png": "[encoded data removed]",
      "text/plain": [
       "<Figure size 504x504 with 1 Axes>"
      ]
     },
     "metadata": {
      "needs_background": "light"
     },
     "output_type": "display_data"
    }
   ],
   "source": [
    "box2d = ps.tools.bbox_to_slices(bbox = bbox2d)\n",
    "box3d = ps.tools.bbox_to_slices(bbox = bbox3d)\n",
    "\n",
    "fig, ax = plt.subplots(figsize=[7, 7]);\n",
    "ps.visualization.imshow(im[box2d]);\n",
    "plt.axis(False)\n",
    "plt.title('2D')\n",
    "\n",
    "fig, ax = plt.subplots(figsize=[7, 7]);\n",
    "ps.visualization.imshow(im3d[box3d]);\n",
    "plt.axis(False)\n",
    "plt.title('3D')"
   ]
  },
  {
   "cell_type": "code",
   "execution_count": null,
   "id": "collect-palace",
   "metadata": {},
   "outputs": [],
   "source": []
  }
 ],
 "metadata": {
  "kernelspec": {
   "display_name": "Python 3",
   "language": "python",
   "name": "python3"
  },
  "language_info": {
   "codemirror_mode": {
    "name": "ipython",
    "version": 3
   },
   "file_extension": ".py",
   "mimetype": "text/x-python",
   "name": "python",
   "nbconvert_exporter": "python",
   "pygments_lexer": "ipython3",
   "version": "3.8.8"
  }
 },
 "nbformat": 4,
 "nbformat_minor": 5
}
