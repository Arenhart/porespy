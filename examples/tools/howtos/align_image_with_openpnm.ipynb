{
 "cells": [
  {
   "cell_type": "markdown",
   "id": "printable-corner",
   "metadata": {},
   "source": [
    "# align_image_with_openpnm"
   ]
  },
  {
   "cell_type": "markdown",
   "id": "muslim-example",
   "metadata": {},
   "source": [
    "## Import packages"
   ]
  },
  {
   "cell_type": "code",
   "execution_count": 2,
   "id": "environmental-layer",
   "metadata": {},
   "outputs": [],
   "source": [
    "import numpy as np\n",
    "import porespy as ps\n",
    "import scipy.ndimage as spim\n",
    "import matplotlib.pyplot as plt\n",
    "import skimage\n",
    "ps.visualization.set_mpl_style()"
   ]
  },
  {
   "cell_type": "markdown",
   "id": "hungarian-canal",
   "metadata": {},
   "source": [
    "## Create image and variables:"
   ]
  },
  {
   "cell_type": "code",
   "execution_count": 3,
   "id": "durable-sussex",
   "metadata": {},
   "outputs": [
    {
     "data": {
      "text/plain": [
       "<matplotlib.image.AxesImage at 0x7fb6def3d1f0>"
      ]
     },
     "execution_count": 3,
     "metadata": {},
     "output_type": "execute_result"
    },
    {
     "data": {
      "image/png": "[encoded data removed]",
      "text/plain": [
       "<Figure size 504x504 with 1 Axes>"
      ]
     },
     "metadata": {
      "needs_background": "light"
     },
     "output_type": "display_data"
    }
   ],
   "source": [
    "im = ps.generators.blobs([100, 100])\n",
    "plt.figure(figsize=[7, 7])\n",
    "plt.axis(False)\n",
    "plt.imshow(im)"
   ]
  },
  {
   "cell_type": "markdown",
   "id": "mineral-brick",
   "metadata": {},
   "source": [
    "## Apply tool:"
   ]
  },
  {
   "cell_type": "code",
   "execution_count": 4,
   "id": "alleged-diesel",
   "metadata": {},
   "outputs": [
    {
     "data": {
      "text/plain": [
       "<matplotlib.image.AxesImage at 0x7fb6dee929d0>"
      ]
     },
     "execution_count": 4,
     "metadata": {},
     "output_type": "execute_result"
    },
    {
     "data": {
      "image/png": "[encoded data removed]",
      "text/plain": [
       "<Figure size 504x504 with 1 Axes>"
      ]
     },
     "metadata": {
      "needs_background": "light"
     },
     "output_type": "display_data"
    }
   ],
   "source": [
    "im = ps.tools.align_image_with_openpnm(im = im)\n",
    "plt.figure(figsize=[7, 7])\n",
    "plt.axis(False)\n",
    "plt.imshow(im)"
   ]
  }
 ],
 "metadata": {
  "kernelspec": {
   "display_name": "Python 3",
   "language": "python",
   "name": "python3"
  },
  "language_info": {
   "codemirror_mode": {
    "name": "ipython",
    "version": 3
   },
   "file_extension": ".py",
   "mimetype": "text/x-python",
   "name": "python",
   "nbconvert_exporter": "python",
   "pygments_lexer": "ipython3",
   "version": "3.8.8"
  }
 },
 "nbformat": 4,
 "nbformat_minor": 5
}
