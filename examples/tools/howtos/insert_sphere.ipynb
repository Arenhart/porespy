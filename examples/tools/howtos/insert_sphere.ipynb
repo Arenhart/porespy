{
 "cells": [
  {
   "cell_type": "markdown",
   "id": "equal-assistant",
   "metadata": {},
   "source": [
    "# insert_sphere"
   ]
  },
  {
   "cell_type": "code",
   "execution_count": 1,
   "id": "single-hamilton",
   "metadata": {
    "jupyter": {
     "source_hidden": true
    },
    "tags": []
   },
   "outputs": [
    {
     "data": {
      "text/markdown": [
       "---\n",
       " ## Documentation for ``insert_sphere``\n",
       " ---\n",
       "**<span style=\"color:purple\">insert&#95;sphere</span>_(im, c, r, v=True, overwrite=True)_**\n",
       "\n",
       "\n",
       "Inserts a sphere of a specified radius into a given image\n",
       "\n",
       "\n",
       "#### Parameters\n",
       "* im : <b><i>array_like</i></b>  Image into which the sphere should be inserted\n",
       "* c : <b><i>array_like</i></b>  The [x, y, z] coordinate indicating the center of the sphere\n",
       "* r : <b><i>int</i></b>  The radius of sphere to insert\n",
       "* v : <b><i>int</i></b>  The value to put into the sphere voxels.  The default is ``True``\n",
       "\twhich corresponds to inserting spheres into a Boolean image.  If\n",
       "\ta numerical value is given, ``im`` is converted to the same type as\n",
       "\t``v``.\n",
       "* overwrite : <b><i>boolean</i></b>  If ``True`` (default) then the sphere overwrites whatever values are\n",
       "\tpresent in ``im``.  If ``False`` then the sphere values are only\n",
       "\tinserted into locations that are 0 or ``False``.\n",
       "\n",
       "#### Returns\n",
       "* image : <b><i>ND-array</i></b>  The original image with a sphere inerted at the specified location\n",
       "---"
      ],
      "text/plain": [
       "<IPython.core.display.Markdown object>"
      ]
     },
     "execution_count": 1,
     "metadata": {},
     "output_type": "execute_result"
    }
   ],
   "source": [
    "import porespy as ps\n",
    "from IPython.display import Markdown as show\n",
    "show(ps.tools.show_docstring(ps.tools.insert_sphere))"
   ]
  },
  {
   "cell_type": "markdown",
   "id": "guided-preserve",
   "metadata": {},
   "source": [
    "## Import packages"
   ]
  },
  {
   "cell_type": "code",
   "execution_count": 2,
   "id": "massive-layout",
   "metadata": {},
   "outputs": [],
   "source": [
    "import numpy as np\n",
    "import porespy as ps\n",
    "import scipy.ndimage as spim\n",
    "import matplotlib.pyplot as plt\n",
    "import skimage\n",
    "ps.visualization.set_mpl_style()"
   ]
  },
  {
   "cell_type": "markdown",
   "id": "armed-tomorrow",
   "metadata": {},
   "source": [
    "## Create image and variables:"
   ]
  },
  {
   "cell_type": "code",
   "execution_count": 3,
   "id": "miniature-memorial",
   "metadata": {},
   "outputs": [
    {
     "data": {
      "image/png": "[encoded data removed]",
      "text/plain": [
       "<Figure size 504x504 with 1 Axes>"
      ]
     },
     "metadata": {
      "needs_background": "light"
     },
     "output_type": "display_data"
    }
   ],
   "source": [
    "im = ps.generators.blobs([100, 100,100])\n",
    "\n",
    "fig, ax = plt.subplots(figsize=[7, 7]);\n",
    "ps.visualization.imshow(im);\n",
    "plt.axis(False)\n",
    "\n",
    "#default values:\n",
    "c=[50,50,50]\n",
    "r=50\n",
    "v=False\n",
    "overwrite=True"
   ]
  },
  {
   "cell_type": "markdown",
   "id": "focused-sellers",
   "metadata": {},
   "source": [
    "## Apply tool:"
   ]
  },
  {
   "cell_type": "code",
   "execution_count": 4,
   "id": "violent-preference",
   "metadata": {},
   "outputs": [
    {
     "data": {
      "text/plain": [
       "(-0.5, 99.5, -0.5, 99.5)"
      ]
     },
     "execution_count": 4,
     "metadata": {},
     "output_type": "execute_result"
    },
    {
     "data": {
      "image/png": "[encoded data removed]",
      "text/plain": [
       "<Figure size 504x504 with 1 Axes>"
      ]
     },
     "metadata": {
      "needs_background": "light"
     },
     "output_type": "display_data"
    }
   ],
   "source": [
    "im = ps.tools.insert_sphere(im=im, c=c, r=r, v=v, overwrite=overwrite)\n",
    "fig, ax = plt.subplots(figsize=[7, 7]);\n",
    "ps.visualization.imshow(im);\n",
    "plt.axis(False)"
   ]
  }
 ],
 "metadata": {
  "kernelspec": {
   "display_name": "Python 3",
   "language": "python",
   "name": "python3"
  },
  "language_info": {
   "codemirror_mode": {
    "name": "ipython",
    "version": 3
   },
   "file_extension": ".py",
   "mimetype": "text/x-python",
   "name": "python",
   "nbconvert_exporter": "python",
   "pygments_lexer": "ipython3",
   "version": "3.8.8"
  }
 },
 "nbformat": 4,
 "nbformat_minor": 5
}
