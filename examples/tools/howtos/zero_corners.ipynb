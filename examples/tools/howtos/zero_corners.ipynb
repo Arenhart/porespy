{
 "cells": [
  {
   "cell_type": "markdown",
   "id": "unlimited-croatia",
   "metadata": {},
   "source": [
    "# zero_corners"
   ]
  },
  {
   "cell_type": "code",
   "execution_count": 1,
   "id": "australian-spokesman",
   "metadata": {
    "jupyter": {
     "source_hidden": true
    },
    "tags": []
   },
   "outputs": [
    {
     "name": "stderr",
     "output_type": "stream",
     "text": [
      "/home/anaconda/mambaforge/envs/pmeal/lib/python3.8/site-packages/numpydoc/docscrape.py:418: UserWarning: Unknown section Example\n",
      "  warn(msg)\n"
     ]
    },
    {
     "data": {
      "text/markdown": [
       "---\n",
       " ## Documentation for ``zero_corners``\n",
       " ---\n",
       "**<span style=\"color:purple\">zero&#95;corners</span>_(im, pad_width)_**\n",
       "\n",
       "\n",
       "Fills corners of a padded-image with 0, given a pad width and list of\n",
       "faces such as [\"left\", \"front\"] at which the image has been padded.\n",
       "\n",
       "\n",
       "#### Parameters\n",
       "* im : <b><i>ndarray</i></b>  Padded image whose corners are to be filled with 0.\n",
       "* pad_width : <b><i>int or list</i></b>  Pad width of the padded image. If a scalar value is passed, a\n",
       "\tuniform pad width for all dimensions is assumed. Otherwise, a list\n",
       "\tof lists should be passed with each inner list being two-element\n",
       "\tlong, pertaining to pad_before and pad_after for each axis.\n",
       "\n",
       "#### Notes\n",
       "This modifies the given image in-place.\n",
       "---"
      ],
      "text/plain": [
       "<IPython.core.display.Markdown object>"
      ]
     },
     "execution_count": 1,
     "metadata": {},
     "output_type": "execute_result"
    }
   ],
   "source": [
    "import porespy as ps\n",
    "from IPython.display import Markdown as show\n",
    "show(ps.tools.show_docstring(ps.tools.zero_corners))"
   ]
  },
  {
   "cell_type": "markdown",
   "id": "executive-authentication",
   "metadata": {},
   "source": [
    "## Import packages"
   ]
  },
  {
   "cell_type": "code",
   "execution_count": 2,
   "id": "former-grammar",
   "metadata": {},
   "outputs": [],
   "source": [
    "import numpy as np\n",
    "import porespy as ps\n",
    "import scipy.ndimage as spim\n",
    "import matplotlib.pyplot as plt\n",
    "import skimage\n",
    "ps.visualization.set_mpl_style()"
   ]
  },
  {
   "cell_type": "markdown",
   "id": "sustainable-southeast",
   "metadata": {},
   "source": [
    "## Create image and variables:"
   ]
  },
  {
   "cell_type": "code",
   "execution_count": 3,
   "id": "offshore-celtic",
   "metadata": {},
   "outputs": [
    {
     "name": "stdout",
     "output_type": "stream",
     "text": [
      "[[6 6 6 5 9 7 8 6 8 5]\n",
      " [6 9 8 7 7 9 9 9 9 5]\n",
      " [7 8 9 9 8 6 5 6 6 9]\n",
      " [9 7 5 7 6 5 8 8 7 8]\n",
      " [8 7 6 6 5 9 9 5 5 7]\n",
      " [5 9 5 9 8 8 5 5 5 9]\n",
      " [5 7 7 6 8 5 7 6 6 6]\n",
      " [9 8 6 6 6 7 5 7 5 8]\n",
      " [9 8 9 8 6 5 6 5 9 6]\n",
      " [8 9 7 6 6 7 8 6 8 7]]\n"
     ]
    },
    {
     "data": {
      "image/png": "[encoded data removed]",
      "text/plain": [
       "<Figure size 504x504 with 1 Axes>"
      ]
     },
     "metadata": {
      "needs_background": "light"
     },
     "output_type": "display_data"
    }
   ],
   "source": [
    "im = np.random.randint(5,10,[10,10])\n",
    "plt.figure(figsize=[7, 7])\n",
    "plt.axis(False)\n",
    "plt.imshow(im)\n",
    "print(im)\n",
    "#default values:\n",
    "pad_width = [[5,2],[1,3]]"
   ]
  },
  {
   "cell_type": "markdown",
   "id": "clinical-jungle",
   "metadata": {},
   "source": [
    "## Apply tool:"
   ]
  },
  {
   "cell_type": "code",
   "execution_count": 4,
   "id": "excessive-tiffany",
   "metadata": {},
   "outputs": [
    {
     "data": {
      "text/plain": [
       "<matplotlib.image.AxesImage at 0x7fce97f58af0>"
      ]
     },
     "execution_count": 4,
     "metadata": {},
     "output_type": "execute_result"
    },
    {
     "data": {
      "image/png": "[encoded data removed]",
      "text/plain": [
       "<Figure size 504x504 with 1 Axes>"
      ]
     },
     "metadata": {
      "needs_background": "light"
     },
     "output_type": "display_data"
    }
   ],
   "source": [
    "ps.tools.zero_corners(im = im, pad_width = pad_width)\n",
    "\n",
    "plt.figure(figsize=[7, 7])\n",
    "plt.axis(False)\n",
    "plt.imshow(im)"
   ]
  }
 ],
 "metadata": {
  "kernelspec": {
   "display_name": "Python 3",
   "language": "python",
   "name": "python3"
  },
  "language_info": {
   "codemirror_mode": {
    "name": "ipython",
    "version": 3
   },
   "file_extension": ".py",
   "mimetype": "text/x-python",
   "name": "python",
   "nbconvert_exporter": "python",
   "pygments_lexer": "ipython3",
   "version": "3.8.8"
  }
 },
 "nbformat": 4,
 "nbformat_minor": 5
}
