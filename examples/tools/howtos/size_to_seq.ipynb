{
 "cells": [
  {
   "cell_type": "markdown",
   "id": "chinese-produce",
   "metadata": {},
   "source": [
    "# size_to_seq"
   ]
  },
  {
   "cell_type": "code",
   "execution_count": 1,
   "id": "careful-proof",
   "metadata": {
    "jupyter": {
     "source_hidden": true
    },
    "tags": []
   },
   "outputs": [
    {
     "data": {
      "text/markdown": [
       "---\n",
       " ## Documentation for ``size_to_seq``\n",
       " ---\n",
       "**<span style=\"color:purple\">size&#95;to&#95;seq</span>_(size, bins=None)_**\n",
       "\n",
       "\n",
       "Converts an image of invasion size values into sequence values.\n",
       "\n",
       "\n",
       "This is meant to accept the output of the ``porosimetry`` function.\n",
       "\n",
       "#### Parameters\n",
       "* size : <b><i>ND-image</i></b>  The image containing invasion size values in each voxel.\n",
       "* bins : <b><i>array_like or int (optional)</i></b>  The bins to use when converting sizes to sequence.  The default is\n",
       "\tto create 1 bin for each unique value in ``size``.  If an **int**\n",
       "\tis supplied it is interpreted as the number of bins between 0 and the\n",
       "\tmaximum value in ``size``.  If an array is supplied it is used as\n",
       "\tthe bins directly.\n",
       "\n",
       "#### Returns\n",
       "* seq : <b><i>ND-image</i></b>  An ND-image the same shape as ``size`` with invasion size values\n",
       "\treplaced by the invasion sequence.  This assumes that the invasion\n",
       "\tprocess occurs via increasing pressure steps, such as produced by\n",
       "\tthe ``porosimetry`` function.\n",
       "---"
      ],
      "text/plain": [
       "<IPython.core.display.Markdown object>"
      ]
     },
     "execution_count": 1,
     "metadata": {},
     "output_type": "execute_result"
    }
   ],
   "source": [
    "import porespy as ps\n",
    "from IPython.display import Markdown as show\n",
    "show(ps.tools.show_docstring(ps.tools.size_to_seq))"
   ]
  },
  {
   "cell_type": "markdown",
   "id": "crude-mason",
   "metadata": {},
   "source": [
    "## Import packages"
   ]
  },
  {
   "cell_type": "code",
   "execution_count": 2,
   "id": "compound-right",
   "metadata": {},
   "outputs": [],
   "source": [
    "import numpy as np\n",
    "import porespy as ps\n",
    "import scipy.ndimage as spim\n",
    "import matplotlib.pyplot as plt\n",
    "import skimage\n",
    "ps.visualization.set_mpl_style()"
   ]
  },
  {
   "cell_type": "markdown",
   "id": "simplified-johns",
   "metadata": {},
   "source": [
    "## Create image and variables:"
   ]
  },
  {
   "cell_type": "code",
   "execution_count": 3,
   "id": "corrected-television",
   "metadata": {},
   "outputs": [],
   "source": [
    "size = [[1,2,3],[4,5,6],[7,8,9]]\n",
    "bins= None"
   ]
  },
  {
   "cell_type": "markdown",
   "id": "tutorial-fraction",
   "metadata": {},
   "source": [
    "## Apply tool:"
   ]
  },
  {
   "cell_type": "code",
   "execution_count": 4,
   "id": "weekly-powder",
   "metadata": {},
   "outputs": [
    {
     "data": {
      "text/plain": [
       "<matplotlib.image.AxesImage at 0x7efd5877f640>"
      ]
     },
     "execution_count": 4,
     "metadata": {},
     "output_type": "execute_result"
    },
    {
     "data": {
      "image/png": "[encoded data removed]",
      "text/plain": [
       "<Figure size 504x504 with 1 Axes>"
      ]
     },
     "metadata": {
      "needs_background": "light"
     },
     "output_type": "display_data"
    }
   ],
   "source": [
    "im = ps.tools.size_to_seq(size = size, bins = bins)\n",
    "plt.figure(figsize=[7, 7])\n",
    "plt.axis(False)\n",
    "plt.imshow(im)"
   ]
  }
 ],
 "metadata": {
  "kernelspec": {
   "display_name": "Python 3",
   "language": "python",
   "name": "python3"
  },
  "language_info": {
   "codemirror_mode": {
    "name": "ipython",
    "version": 3
   },
   "file_extension": ".py",
   "mimetype": "text/x-python",
   "name": "python",
   "nbconvert_exporter": "python",
   "pygments_lexer": "ipython3",
   "version": "3.8.8"
  }
 },
 "nbformat": 4,
 "nbformat_minor": 5
}
