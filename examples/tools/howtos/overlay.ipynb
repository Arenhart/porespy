{
 "cells": [
  {
   "cell_type": "markdown",
   "id": "11bf1830",
   "metadata": {},
   "source": [
    "# overlay"
   ]
  },
  {
   "cell_type": "markdown",
   "id": "310722bf",
   "metadata": {},
   "source": [
    "## Import packages"
   ]
  },
  {
   "cell_type": "code",
   "execution_count": 1,
   "id": "6109338e",
   "metadata": {},
   "outputs": [],
   "source": [
    "import numpy as np\n",
    "import porespy as ps\n",
    "import scipy.ndimage as spim\n",
    "import matplotlib.pyplot as plt\n",
    "import skimage\n",
    "ps.visualization.set_mpl_style()"
   ]
  },
  {
   "cell_type": "markdown",
   "id": "446e6d20",
   "metadata": {},
   "source": [
    "## Create image and variables"
   ]
  },
  {
   "cell_type": "code",
   "execution_count": 3,
   "id": "b5ae6f2f",
   "metadata": {},
   "outputs": [
    {
     "data": {
      "image/svg+xml": [
       "<?xml version=\"1.0\" encoding=\"utf-8\" standalone=\"no\"?>\r\n",
       "<!DOCTYPE svg PUBLIC \"-//W3C//DTD SVG 1.1//EN\"\r\n",
       "  \"http://www.w3.org/Graphics/SVG/1.1/DTD/svg11.dtd\">\r\n",
       "<!-- Created with matplotlib (https://matplotlib.org/) -->\r\n",
       "<svg height=\"276.48pt\" version=\"1.1\" viewBox=\"0 0 276.48 276.48\" width=\"276.48pt\" xmlns=\"http://www.w3.org/2000/svg\" xmlns:xlink=\"http://www.w3.org/1999/xlink\">\r\n",
       " <metadata>\r\n",
       "  <rdf:RDF xmlns:cc=\"http://creativecommons.org/ns#\" xmlns:dc=\"http://purl.org/dc/elements/1.1/\" xmlns:rdf=\"http://www.w3.org/1999/02/22-rdf-syntax-ns#\">\r\n",
       "   <cc:Work>\r\n",
       "    <dc:type rdf:resource=\"http://purl.org/dc/dcmitype/StillImage\"/>\r\n",
       "    <dc:date>2021-04-24T16:35:01.429007</dc:date>\r\n",
       "    <dc:format>image/svg+xml</dc:format>\r\n",
       "    <dc:creator>\r\n",
       "     <cc:Agent>\r\n",
       "      <dc:title>Matplotlib v3.3.2, https://matplotlib.org/</dc:title>\r\n",
       "     </cc:Agent>\r\n",
       "    </dc:creator>\r\n",
       "   </cc:Work>\r\n",
       "  </rdf:RDF>\r\n",
       " </metadata>\r\n",
       " <defs>\r\n",
       "  <style type=\"text/css\">*{stroke-linecap:butt;stroke-linejoin:round;}</style>\r\n",
       " </defs>\r\n",
       " <g id=\"figure_1\">\r\n",
       "  <g id=\"patch_1\">\r\n",
       "   <path d=\"M 0 276.48 \r\n",
       "L 276.48 276.48 \r\n",
       "L 276.48 0 \r\n",
       "L 0 0 \r\n",
       "z\r\n",
       "\" style=\"fill:none;\"/>\r\n",
       "  </g>\r\n",
       "  <g id=\"axes_1\">\r\n",
       "   <g clip-path=\"url(#pc59d8e07ad)\">\r\n",
       "    <image height=\"100\" id=\"image7b218a70f0\" style=\"image-rendering:crisp-edges;image-rendering:pixelated\" transform=\"matrix(2.63 0 0 -2.63 7.2 269.28)\" width=\"100\" xlink:href=\"data:image/png;base64,\r\n",
       "iVBORw0KGgoAAAANSUhEUgAAAGQAAABkCAYAAABw4pVUAAACtElEQVR4nO2d0XGEMAxEdZmUlhJSZkpIb5cvzzAEgw2WtJL2fSdh5WeBuTNEhBBCCCGEEEIIIYQQQm7w8jjo1+v7ffUzv+8fl2zemBY9ImJPNTEfVge6I+PJ70XFRMjTQa0kRV3IqsGsIkVVyOpBrCDl0zuABZFWdWohNGfz6OBFXNWZrbKsibqqSykk8qounZDoq7pUQjKs6lIJyUAaIVqz2bpL0gjJAoWAoSZE6wbL+8ZNG3YIGKpCVs/m7N0hYtAhqwaxggwRo1PW08GsIkPE8Bpyd1AryRBJtutE4ybOekK4fEFVbdbPkGrZm2FVl0qISPxVXTohIrFXdSmFiMRd1ZW4uEbadUIIOUO9TXm6mGP5QKy4W64saFnhGT62QOBxwRabACqJuV2ox56lCmJu3Rh67erz3ndrwbQQ70HxPr42U0JQBgMlhwbDQtAGAS3PKtQefLFC80LvcVN7+ceQZTRWDsqTelfkKPGM4RUaz5TclXN6DYnQHSLPcqLtmi/bIRaTrR1jplu6HRKlOxozea1rmzle2q9we6B/ynAoJFp3NK5ye9c1cvwyHeIto3GVo4QQFBmNszwlhETinxC02TTLPj9qPb1cqTsEVUbjKF9qIRGhEDDSCkE/XTX2OdMKiQqFgJFSSJTTVWObN6WQyPwTEn0zWvT87BAwKAQMCgHjUEjU83DU3FvYIWB0hUSbbdHy9kjZIdHkbPOeColSWJScI6TskMhcCkGffb186Lkb+5xDHYJaHGquJwyfstCKR8uziqlrCMogjOZAydvjKN/0Rd27yNnje+ft0ct1a5XlVSTq4K6kzJsckL5FPKsH4tm8Hqs7AkHKVU3l3gbkKWWkrpLvy0J+T0v6i2QPSykzE66skAbCfyTdUv7DRbT/BFS+Q/Z4v8mBQk5AXJAQUps/R6xL0ogqz7UAAAAASUVORK5CYII=\"/>\r\n",
       "   </g>\r\n",
       "  </g>\r\n",
       " </g>\r\n",
       " <defs>\r\n",
       "  <clipPath id=\"pc59d8e07ad\">\r\n",
       "   <rect height=\"262.08\" width=\"262.08\" x=\"7.2\" y=\"7.2\"/>\r\n",
       "  </clipPath>\r\n",
       " </defs>\r\n",
       "</svg>\r\n"
      ],
      "text/plain": [
       "<Figure size 288x288 with 1 Axes>"
      ]
     },
     "metadata": {
      "needs_background": "light"
     },
     "output_type": "display_data"
    },
    {
     "data": {
      "image/svg+xml": [
       "<?xml version=\"1.0\" encoding=\"utf-8\" standalone=\"no\"?>\r\n",
       "<!DOCTYPE svg PUBLIC \"-//W3C//DTD SVG 1.1//EN\"\r\n",
       "  \"http://www.w3.org/Graphics/SVG/1.1/DTD/svg11.dtd\">\r\n",
       "<!-- Created with matplotlib (https://matplotlib.org/) -->\r\n",
       "<svg height=\"276.48pt\" version=\"1.1\" viewBox=\"0 0 276.48 276.48\" width=\"276.48pt\" xmlns=\"http://www.w3.org/2000/svg\" xmlns:xlink=\"http://www.w3.org/1999/xlink\">\r\n",
       " <metadata>\r\n",
       "  <rdf:RDF xmlns:cc=\"http://creativecommons.org/ns#\" xmlns:dc=\"http://purl.org/dc/elements/1.1/\" xmlns:rdf=\"http://www.w3.org/1999/02/22-rdf-syntax-ns#\">\r\n",
       "   <cc:Work>\r\n",
       "    <dc:type rdf:resource=\"http://purl.org/dc/dcmitype/StillImage\"/>\r\n",
       "    <dc:date>2021-04-24T16:35:01.510495</dc:date>\r\n",
       "    <dc:format>image/svg+xml</dc:format>\r\n",
       "    <dc:creator>\r\n",
       "     <cc:Agent>\r\n",
       "      <dc:title>Matplotlib v3.3.2, https://matplotlib.org/</dc:title>\r\n",
       "     </cc:Agent>\r\n",
       "    </dc:creator>\r\n",
       "   </cc:Work>\r\n",
       "  </rdf:RDF>\r\n",
       " </metadata>\r\n",
       " <defs>\r\n",
       "  <style type=\"text/css\">*{stroke-linecap:butt;stroke-linejoin:round;}</style>\r\n",
       " </defs>\r\n",
       " <g id=\"figure_1\">\r\n",
       "  <g id=\"patch_1\">\r\n",
       "   <path d=\"M 0 276.48 \r\n",
       "L 276.48 276.48 \r\n",
       "L 276.48 0 \r\n",
       "L 0 0 \r\n",
       "z\r\n",
       "\" style=\"fill:none;\"/>\r\n",
       "  </g>\r\n",
       "  <g id=\"axes_1\">\r\n",
       "   <g clip-path=\"url(#p6f0581bcaf)\">\r\n",
       "    <image height=\"51\" id=\"image3d846bc11a\" style=\"image-rendering:crisp-edges;image-rendering:pixelated\" transform=\"matrix(5.156863 0 0 -5.156863 7.2 269.28)\" width=\"51\" xlink:href=\"data:image/png;base64,\r\n",
       "iVBORw0KGgoAAAANSUhEUgAAADMAAAAzCAYAAAA6oTAqAAABXklEQVR4nO1ZQRKDMAhsOn1an9Bn+gT/Zm9OVUwWIrDpuMeMGBY2hCHlkYR3+Sz7tXmZSs8/nz3GVkhEausowsm0HO4hlJIZL7ykRQ89R+CQGS89R2BDxlPPERBl5ol5mUotKJKcUdmnFICz84cSOVsvrQ9QRzyg9eevSvOGTCvq7OX5kBmNntkgVrMRHJegcjqjM9CUcbgAZHUGGtmvC7Wos5XsM4R3ABKukm86mZp894RapN3IINFGGtuW1H+/GaIDQLv5NTM1jVo63QzAmRmhM1CdGSbHJaQ7h8gXvefSCwAiX7Sb78pMdK/W2s+8MWN1M23a26tZMorY0IxnawFCbULJWOZyGpv0anYlbjKsUxxzZhh7tfCNLfcTahN+ZiwZZVSBO+C0jhCF++WMFebpDKMUTdWMVYruQ8DeDGrsXe+Z6AzeL2esML2cnU04swnTvHpdAdcCMLJk0/EF1tANTTmPa+0AAAAASUVORK5CYII=\"/>\r\n",
       "   </g>\r\n",
       "  </g>\r\n",
       " </g>\r\n",
       " <defs>\r\n",
       "  <clipPath id=\"p6f0581bcaf\">\r\n",
       "   <rect height=\"262.08\" width=\"262.08\" x=\"7.2\" y=\"7.2\"/>\r\n",
       "  </clipPath>\r\n",
       " </defs>\r\n",
       "</svg>\r\n"
      ],
      "text/plain": [
       "<Figure size 288x288 with 1 Axes>"
      ]
     },
     "metadata": {
      "needs_background": "light"
     },
     "output_type": "display_data"
    }
   ],
   "source": [
    "im1 = np.zeros([100, 100,100])\n",
    "im2 = np.zeros([51, 51,51])\n",
    "im1 = ps.generators.RSA(im1, r=25, volume_fraction=0.5)\n",
    "im2 = ps.generators.RSA(im2, r=5, volume_fraction=0.5)\n",
    "im3 = im1.copy()\n",
    "\n",
    "fig, ax = plt.subplots(figsize=[4, 4]);\n",
    "ps.visualization.imshow(im1);\n",
    "plt.axis(False)\n",
    "fig, ax = plt.subplots(figsize=[4, 4]);\n",
    "ps.visualization.imshow(im2);\n",
    "plt.axis(False);\n",
    "\n",
    "#default values:\n",
    "c = [26,26,26]"
   ]
  },
  {
   "cell_type": "markdown",
   "id": "6d02fe1e",
   "metadata": {},
   "source": [
    "## Apply tool"
   ]
  },
  {
   "cell_type": "code",
   "execution_count": 4,
   "id": "034f81ee",
   "metadata": {},
   "outputs": [
    {
     "data": {
      "image/svg+xml": [
       "<?xml version=\"1.0\" encoding=\"utf-8\" standalone=\"no\"?>\r\n",
       "<!DOCTYPE svg PUBLIC \"-//W3C//DTD SVG 1.1//EN\"\r\n",
       "  \"http://www.w3.org/Graphics/SVG/1.1/DTD/svg11.dtd\">\r\n",
       "<!-- Created with matplotlib (https://matplotlib.org/) -->\r\n",
       "<svg height=\"276.48pt\" version=\"1.1\" viewBox=\"0 0 276.48 276.48\" width=\"276.48pt\" xmlns=\"http://www.w3.org/2000/svg\" xmlns:xlink=\"http://www.w3.org/1999/xlink\">\r\n",
       " <metadata>\r\n",
       "  <rdf:RDF xmlns:cc=\"http://creativecommons.org/ns#\" xmlns:dc=\"http://purl.org/dc/elements/1.1/\" xmlns:rdf=\"http://www.w3.org/1999/02/22-rdf-syntax-ns#\">\r\n",
       "   <cc:Work>\r\n",
       "    <dc:type rdf:resource=\"http://purl.org/dc/dcmitype/StillImage\"/>\r\n",
       "    <dc:date>2021-04-24T16:35:15.334009</dc:date>\r\n",
       "    <dc:format>image/svg+xml</dc:format>\r\n",
       "    <dc:creator>\r\n",
       "     <cc:Agent>\r\n",
       "      <dc:title>Matplotlib v3.3.2, https://matplotlib.org/</dc:title>\r\n",
       "     </cc:Agent>\r\n",
       "    </dc:creator>\r\n",
       "   </cc:Work>\r\n",
       "  </rdf:RDF>\r\n",
       " </metadata>\r\n",
       " <defs>\r\n",
       "  <style type=\"text/css\">*{stroke-linecap:butt;stroke-linejoin:round;}</style>\r\n",
       " </defs>\r\n",
       " <g id=\"figure_1\">\r\n",
       "  <g id=\"patch_1\">\r\n",
       "   <path d=\"M 0 276.48 \r\n",
       "L 276.48 276.48 \r\n",
       "L 276.48 0 \r\n",
       "L 0 0 \r\n",
       "z\r\n",
       "\" style=\"fill:none;\"/>\r\n",
       "  </g>\r\n",
       "  <g id=\"axes_1\">\r\n",
       "   <g clip-path=\"url(#pffee672ea6)\">\r\n",
       "    <image height=\"100\" id=\"image9fa29d6293\" style=\"image-rendering:crisp-edges;image-rendering:pixelated\" transform=\"matrix(2.63 0 0 -2.63 7.2 269.28)\" width=\"100\" xlink:href=\"data:image/png;base64,\r\n",
       "iVBORw0KGgoAAAANSUhEUgAAAGQAAABkCAYAAABw4pVUAAADHklEQVR4nO2dXZaDIAxG7ZxZWpfQZXYJ3ZvzxDmOFQyQkC8/93GO1cAloIjMtiVJkpjhQTno+Xjt57999jfpt0kfv1InTolj/GgHkPwnhYCRQsAgjSGr+/7I44/YoB6lArnJLguM4QyJ3K1I8iWEUtFXx5S/p5Q5xMaQFjWhR6KKXSqEIuJ8bDQxywb1Hhkcv7OKuJDn47XPVmokKcPdwczgP0qE7ku0gBIt27sUlbus1Vi6qxMLQrLfp1beSAzaYtxOnVi9q3MpxPJdnTshXJWpJcWVEO5K1JDiSogH3AiRas2rs8SNEC+kEDDEhEg9YGk/uEmTGQKGqBDu1uw9O7ZtQYZwVWIEGdsmNNub70HGYRciISPSkqOlg/pnfz+oFVmObS05Oh/PEeNVHBLnraHygspr6+agSwh619HKqNHzcZ2LCrnLonYd2li/q2MfQ2oFWVnA2WtpZj35wq1MkC7AaFdp8Z26CSGzWFp1EmIZEEplUyCPIQhjQwTEK9NSd4EAe0Vw3AZHFsRW8FzHy8N0gVc8GEYSw/o5gjQRxAw9qWtNl6BN00jQLUS7UrSvL02XEJTKQIlDgunZXi3Q4uFC7MOXVUgO9BoPtSIzpqvhrJSZ8nLEEWJy8Q6Jb0pG5TTHEAvZsW1zcaKtmg+bISsa28j2INUMsZIdhZF9VFbRc71wi63RZxkuhVjLjsJd3Nrlolw/TIZoyyjcxRFCCIqMQiueEEIs8SUErTX1co4ftTy1uFxnCKqMwlV8roVYJIWA4VYIendVOMfpVohVUggYLoVY6a4Kx3hdCrHMlxDri9Gsx58ZAkYKASOFgHEpxGo/bDXuI5khYFSFWGtt1uKt4TJDrMk5xtsUYqVgVuKk4DJDLHMrBL31Wf9+/hwnKUNQC4ca1wzTOzlogRYPF11jCEol9GwTKB3LDFfxdQ/q2oXsvb52vDVqcQ3dZWkVErVyOQmzkwPSW8RWeSC+zavBnREIUu7KFG43IE0plHKF3C8LeZ8W94NkjZVSehpcWCEFhP9IeiT85CLanvHhM+SM9k4OKaQB4g1JksTmDyFKnzeU3pEnAAAAAElFTkSuQmCC\"/>\r\n",
       "   </g>\r\n",
       "  </g>\r\n",
       " </g>\r\n",
       " <defs>\r\n",
       "  <clipPath id=\"pffee672ea6\">\r\n",
       "   <rect height=\"262.08\" width=\"262.08\" x=\"7.2\" y=\"7.2\"/>\r\n",
       "  </clipPath>\r\n",
       " </defs>\r\n",
       "</svg>\r\n"
      ],
      "text/plain": [
       "<Figure size 288x288 with 1 Axes>"
      ]
     },
     "metadata": {
      "needs_background": "light"
     },
     "output_type": "display_data"
    }
   ],
   "source": [
    "im = ps.tools.overlay(im1=im1,im2=im2, c=c)\n",
    "fig, ax = plt.subplots(figsize=[4, 4]);\n",
    "ps.visualization.imshow(im);\n",
    "plt.axis(False);"
   ]
  },
  {
   "cell_type": "code",
   "execution_count": 5,
   "id": "db8ecea4",
   "metadata": {},
   "outputs": [
    {
     "data": {
      "image/svg+xml": [
       "<?xml version=\"1.0\" encoding=\"utf-8\" standalone=\"no\"?>\r\n",
       "<!DOCTYPE svg PUBLIC \"-//W3C//DTD SVG 1.1//EN\"\r\n",
       "  \"http://www.w3.org/Graphics/SVG/1.1/DTD/svg11.dtd\">\r\n",
       "<!-- Created with matplotlib (https://matplotlib.org/) -->\r\n",
       "<svg height=\"276.48pt\" version=\"1.1\" viewBox=\"0 0 276.48 276.48\" width=\"276.48pt\" xmlns=\"http://www.w3.org/2000/svg\" xmlns:xlink=\"http://www.w3.org/1999/xlink\">\r\n",
       " <metadata>\r\n",
       "  <rdf:RDF xmlns:cc=\"http://creativecommons.org/ns#\" xmlns:dc=\"http://purl.org/dc/elements/1.1/\" xmlns:rdf=\"http://www.w3.org/1999/02/22-rdf-syntax-ns#\">\r\n",
       "   <cc:Work>\r\n",
       "    <dc:type rdf:resource=\"http://purl.org/dc/dcmitype/StillImage\"/>\r\n",
       "    <dc:date>2021-04-24T16:35:31.775538</dc:date>\r\n",
       "    <dc:format>image/svg+xml</dc:format>\r\n",
       "    <dc:creator>\r\n",
       "     <cc:Agent>\r\n",
       "      <dc:title>Matplotlib v3.3.2, https://matplotlib.org/</dc:title>\r\n",
       "     </cc:Agent>\r\n",
       "    </dc:creator>\r\n",
       "   </cc:Work>\r\n",
       "  </rdf:RDF>\r\n",
       " </metadata>\r\n",
       " <defs>\r\n",
       "  <style type=\"text/css\">*{stroke-linecap:butt;stroke-linejoin:round;}</style>\r\n",
       " </defs>\r\n",
       " <g id=\"figure_1\">\r\n",
       "  <g id=\"patch_1\">\r\n",
       "   <path d=\"M 0 276.48 \r\n",
       "L 276.48 276.48 \r\n",
       "L 276.48 0 \r\n",
       "L 0 0 \r\n",
       "z\r\n",
       "\" style=\"fill:none;\"/>\r\n",
       "  </g>\r\n",
       "  <g id=\"axes_1\">\r\n",
       "   <g clip-path=\"url(#pdce31d5826)\">\r\n",
       "    <image height=\"100\" id=\"imaged0f4c0c8ad\" style=\"image-rendering:crisp-edges;image-rendering:pixelated\" transform=\"matrix(2.63 0 0 -2.63 7.2 269.28)\" width=\"100\" xlink:href=\"data:image/png;base64,\r\n",
       "iVBORw0KGgoAAAANSUhEUgAAAGQAAABkCAYAAABw4pVUAAACyElEQVR4nO2c3XHEMAiEuUxKSwkpMyWkt8tDxpMbx7IlGcEC+z3m5wwsYHSWLEIIIYQQQgghhBBCCCETPDwu+vH4fF79zffzy8U2b0yd7hFiTzVh3qwuNCPGnf+Liokgd4NaSZTlgmgFs4ooSwXRDmIFUd69DbAg0lS3zIiV2dwbvIhTndmUZU3UqS6lIJGnunSCRJ/qUgmSYapLJUgG0giyKputqySNIFmgIGAsE2TVAst74bYaVggYSwXRzubs1SFiUCFaQawghohRy7obzCpiiBjeQ2aDWkkMkWS7TlYs4qwTwuUBVbWsHyHV2JthqksliEj8qS6dICKxp7qUgojEnepK3Fwj7TohhJyxvEzZLsZQD4TGarmyQGqOZ/jaAoHbDltsAqgkzLSjHnuWKggztTD02tXnve/WgmFBvIPiff3VDLUApGB4tq+jOGjZ0/0hSGJszAbhTkDP4qAhyrKDL1aMBmEkoKN+awhy+cQQWQyRX/s025e3vyXOGPaiedDnNUlGWuRpZnlnywjfz69Hj+OWPrVsev39/mdpHlC1HPdMqplrNwWJVB0joK/201RIL+iJdigIutGzRPCrTIWgidFqnekFuZp00Ei3DkG/aV/xr0IiZdMRe/tR/WnZlbploYqxcWRfakEiQkHASCsIerva2NuZVpCoUBAwUgoSpV1tvNqbUpDI/BMk+ko3uv2sEDAoCBgUBIxDQaL24ah2i/xNWqwQMJqCRMu2aPa2SFkhkcU5FSSKY1Hs7CFlhURkS6rUu9+R7d7Y299VIagtAdWuO3S3LDTn0ezRYugeghKEXjtQ7G2hsvvd28nR63vb20J156KXk6jB1aTMmxyQJq4zf6DP5mlXBIIoVz6VexuQpyg9fpV7X5aXIL0+pr9J7kF/aU664whIzFQ+v1xcxGwbZoXI9SH/mc+Zpdw9ZAS0gYQQ8gOat2S3/xN8vgAAAABJRU5ErkJggg==\"/>\r\n",
       "   </g>\r\n",
       "  </g>\r\n",
       " </g>\r\n",
       " <defs>\r\n",
       "  <clipPath id=\"pdce31d5826\">\r\n",
       "   <rect height=\"262.08\" width=\"262.08\" x=\"7.2\" y=\"7.2\"/>\r\n",
       "  </clipPath>\r\n",
       " </defs>\r\n",
       "</svg>\r\n"
      ],
      "text/plain": [
       "<Figure size 288x288 with 1 Axes>"
      ]
     },
     "metadata": {
      "needs_background": "light"
     },
     "output_type": "display_data"
    }
   ],
   "source": [
    "im = ps.tools.overlay(im1=im3, im2=im2, c=[74, 74, 74])\n",
    "fig, ax = plt.subplots(figsize=[4, 4]);\n",
    "ps.visualization.imshow(im);\n",
    "plt.axis(False);"
   ]
  }
 ],
 "metadata": {
  "kernelspec": {
   "display_name": "Python 3",
   "language": "python",
   "name": "python3"
  },
  "language_info": {
   "codemirror_mode": {
    "name": "ipython",
    "version": 3
   },
   "file_extension": ".py",
   "mimetype": "text/x-python",
   "name": "python",
   "nbconvert_exporter": "python",
   "pygments_lexer": "ipython3",
   "version": "3.8.5"
  }
 },
 "nbformat": 4,
 "nbformat_minor": 5
}
