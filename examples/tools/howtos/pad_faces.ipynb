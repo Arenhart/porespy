{
 "cells": [
  {
   "cell_type": "markdown",
   "id": "varied-electronics",
   "metadata": {},
   "source": [
    "# pad_faces"
   ]
  },
  {
   "cell_type": "code",
   "execution_count": 1,
   "id": "exempt-level",
   "metadata": {
    "jupyter": {
     "source_hidden": true
    },
    "tags": []
   },
   "outputs": [
    {
     "data": {
      "text/markdown": [
       "---\n",
       " ## Documentation for ``pad_faces``\n",
       " ---\n",
       "**<span style=\"color:purple\">pad&#95;faces</span>_(im, faces)_**\n",
       "\n",
       "\n",
       "Pads the input image at specified faces. This shape of image is\n",
       "same as the output image of add_boundary_regions function.\n",
       "\n",
       "\n",
       "#### Parameters\n",
       "* im : <b><i>ND_array</i></b>  The image that needs to be padded\n",
       "* faces : <b><i>list of strings</i></b>  Labels indicating where image needs to be padded. Given a 3D image\n",
       "\tof shape ``[x, y, z] = [i, j, k]``, the following conventions are used\n",
       "\tto indicate along which axis the padding should be applied:\n",
       "\t\n",
       "\t* 'left' -> ``x = 0``\n",
       "\t* 'right' -> ``x = i``\n",
       "\t* 'front' -> ``y = 0``\n",
       "\t* 'back' -> ``y = j``\n",
       "\t* 'bottom' -> ``z = 0``\n",
       "\t* 'top' -> ``z = k``\n",
       "\n",
       "#### Returns\n",
       "<b><i>A image padded at specified face(s)</i></b>\n",
       "---"
      ],
      "text/plain": [
       "<IPython.core.display.Markdown object>"
      ]
     },
     "execution_count": 1,
     "metadata": {},
     "output_type": "execute_result"
    }
   ],
   "source": [
    "import porespy as ps\n",
    "from IPython.display import Markdown as show\n",
    "show(ps.tools.show_docstring(ps.tools.pad_faces))"
   ]
  },
  {
   "cell_type": "markdown",
   "id": "tutorial-geology",
   "metadata": {},
   "source": [
    "## Import packages"
   ]
  },
  {
   "cell_type": "code",
   "execution_count": 2,
   "id": "written-commission",
   "metadata": {},
   "outputs": [],
   "source": [
    "import numpy as np\n",
    "import porespy as ps\n",
    "import scipy.ndimage as spim\n",
    "import matplotlib.pyplot as plt\n",
    "import skimage\n",
    "ps.visualization.set_mpl_style()"
   ]
  },
  {
   "cell_type": "markdown",
   "id": "parliamentary-bruce",
   "metadata": {},
   "source": [
    "## Create image and variables:"
   ]
  },
  {
   "cell_type": "code",
   "execution_count": 3,
   "id": "formal-beverage",
   "metadata": {},
   "outputs": [
    {
     "data": {
      "image/png": "[encoded data removed]",
      "text/plain": [
       "<Figure size 504x504 with 1 Axes>"
      ]
     },
     "metadata": {
      "needs_background": "light"
     },
     "output_type": "display_data"
    }
   ],
   "source": [
    "im = ps.generators.blobs([100, 100,100])\n",
    "\n",
    "fig, ax = plt.subplots(figsize=[7, 7]);\n",
    "ps.visualization.imshow(im);\n",
    "plt.axis(False)\n",
    "\n",
    "#default values:\n",
    "faces = ['left', 'right', 'back', 'front', 'top', 'bottom']"
   ]
  },
  {
   "cell_type": "markdown",
   "id": "closing-footwear",
   "metadata": {},
   "source": [
    "## Apply tool:"
   ]
  },
  {
   "cell_type": "code",
   "execution_count": 4,
   "id": "knowing-assets",
   "metadata": {},
   "outputs": [
    {
     "data": {
      "text/plain": [
       "(-0.5, 105.5, -0.5, 105.5)"
      ]
     },
     "execution_count": 4,
     "metadata": {},
     "output_type": "execute_result"
    },
    {
     "data": {
      "image/png": "[encoded data removed]",
      "text/plain": [
       "<Figure size 504x504 with 1 Axes>"
      ]
     },
     "metadata": {
      "needs_background": "light"
     },
     "output_type": "display_data"
    }
   ],
   "source": [
    "im = ps.tools.pad_faces(im = im, faces = faces)\n",
    "fig, ax = plt.subplots(figsize=[7, 7]);\n",
    "ps.visualization.imshow(im);\n",
    "plt.axis(False)"
   ]
  }
 ],
 "metadata": {
  "kernelspec": {
   "display_name": "Python 3",
   "language": "python",
   "name": "python3"
  },
  "language_info": {
   "codemirror_mode": {
    "name": "ipython",
    "version": 3
   },
   "file_extension": ".py",
   "mimetype": "text/x-python",
   "name": "python",
   "nbconvert_exporter": "python",
   "pygments_lexer": "ipython3",
   "version": "3.8.8"
  }
 },
 "nbformat": 4,
 "nbformat_minor": 5
}
