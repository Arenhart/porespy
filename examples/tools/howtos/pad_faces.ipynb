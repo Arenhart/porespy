{
 "cells": [
  {
   "cell_type": "markdown",
   "metadata": {},
   "source": [
    "# pad_faces"
   ]
  },
  {
   "cell_type": "markdown",
   "metadata": {},
   "source": [
    "## Import packages"
   ]
  },
  {
   "cell_type": "code",
   "execution_count": 1,
   "metadata": {},
   "outputs": [],
   "source": [
    "import numpy as np\n",
    "import porespy as ps\n",
    "import scipy.ndimage as spim\n",
    "import matplotlib.pyplot as plt\n",
    "import skimage\n",
    "ps.visualization.set_mpl_style()"
   ]
  },
  {
   "cell_type": "markdown",
   "metadata": {},
   "source": [
    "## Create image and variables"
   ]
  },
  {
   "cell_type": "code",
   "execution_count": 2,
   "metadata": {},
   "outputs": [
    {
     "data": {
      "image/svg+xml": [
       "<?xml version=\"1.0\" encoding=\"utf-8\" standalone=\"no\"?>\r\n",
       "<!DOCTYPE svg PUBLIC \"-//W3C//DTD SVG 1.1//EN\"\r\n",
       "  \"http://www.w3.org/Graphics/SVG/1.1/DTD/svg11.dtd\">\r\n",
       "<!-- Created with matplotlib (https://matplotlib.org/) -->\r\n",
       "<svg height=\"492.48pt\" version=\"1.1\" viewBox=\"0 0 492.48 492.48\" width=\"492.48pt\" xmlns=\"http://www.w3.org/2000/svg\" xmlns:xlink=\"http://www.w3.org/1999/xlink\">\r\n",
       " <metadata>\r\n",
       "  <rdf:RDF xmlns:cc=\"http://creativecommons.org/ns#\" xmlns:dc=\"http://purl.org/dc/elements/1.1/\" xmlns:rdf=\"http://www.w3.org/1999/02/22-rdf-syntax-ns#\">\r\n",
       "   <cc:Work>\r\n",
       "    <dc:type rdf:resource=\"http://purl.org/dc/dcmitype/StillImage\"/>\r\n",
       "    <dc:date>2021-04-24T16:34:12.016751</dc:date>\r\n",
       "    <dc:format>image/svg+xml</dc:format>\r\n",
       "    <dc:creator>\r\n",
       "     <cc:Agent>\r\n",
       "      <dc:title>Matplotlib v3.3.2, https://matplotlib.org/</dc:title>\r\n",
       "     </cc:Agent>\r\n",
       "    </dc:creator>\r\n",
       "   </cc:Work>\r\n",
       "  </rdf:RDF>\r\n",
       " </metadata>\r\n",
       " <defs>\r\n",
       "  <style type=\"text/css\">*{stroke-linecap:butt;stroke-linejoin:round;}</style>\r\n",
       " </defs>\r\n",
       " <g id=\"figure_1\">\r\n",
       "  <g id=\"patch_1\">\r\n",
       "   <path d=\"M 0 492.48 \r\n",
       "L 492.48 492.48 \r\n",
       "L 492.48 0 \r\n",
       "L 0 0 \r\n",
       "z\r\n",
       "\" style=\"fill:none;\"/>\r\n",
       "  </g>\r\n",
       "  <g id=\"axes_1\">\r\n",
       "   <g clip-path=\"url(#p4cd57f97f6)\">\r\n",
       "    <image height=\"100\" id=\"imageb1d15745b5\" style=\"image-rendering:crisp-edges;image-rendering:pixelated\" transform=\"matrix(4.79 0 0 -4.79 7.2 485.28)\" width=\"100\" xlink:href=\"data:image/png;base64,\r\n",
       "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\"/>\r\n",
       "   </g>\r\n",
       "  </g>\r\n",
       " </g>\r\n",
       " <defs>\r\n",
       "  <clipPath id=\"p4cd57f97f6\">\r\n",
       "   <rect height=\"478.08\" width=\"478.08\" x=\"7.2\" y=\"7.2\"/>\r\n",
       "  </clipPath>\r\n",
       " </defs>\r\n",
       "</svg>\r\n"
      ],
      "text/plain": [
       "<Figure size 504x504 with 1 Axes>"
      ]
     },
     "metadata": {
      "needs_background": "light"
     },
     "output_type": "display_data"
    }
   ],
   "source": [
    "im = ps.generators.blobs([100, 100,100])\n",
    "\n",
    "fig, ax = plt.subplots(figsize=[7, 7]);\n",
    "ps.visualization.imshow(im);\n",
    "plt.axis(False);\n",
    "\n",
    "#default values:\n",
    "faces = ['left', 'right', 'back', 'front', 'top', 'bottom']"
   ]
  },
  {
   "cell_type": "markdown",
   "metadata": {},
   "source": [
    "## Apply tool"
   ]
  },
  {
   "cell_type": "code",
   "execution_count": 3,
   "metadata": {},
   "outputs": [
    {
     "ename": "AttributeError",
     "evalue": "module 'porespy.tools' has no attribute 'pad_faces'",
     "output_type": "error",
     "traceback": [
      "\u001b[1;31m---------------------------------------------------------------------------\u001b[0m",
      "\u001b[1;31mAttributeError\u001b[0m                            Traceback (most recent call last)",
      "\u001b[1;32m<ipython-input-3-6811ad3e2a94>\u001b[0m in \u001b[0;36m<module>\u001b[1;34m\u001b[0m\n\u001b[1;32m----> 1\u001b[1;33m \u001b[0mim\u001b[0m \u001b[1;33m=\u001b[0m \u001b[0mps\u001b[0m\u001b[1;33m.\u001b[0m\u001b[0mtools\u001b[0m\u001b[1;33m.\u001b[0m\u001b[0mpad_faces\u001b[0m\u001b[1;33m(\u001b[0m\u001b[0mim\u001b[0m \u001b[1;33m=\u001b[0m \u001b[0mim\u001b[0m\u001b[1;33m,\u001b[0m \u001b[0mfaces\u001b[0m \u001b[1;33m=\u001b[0m \u001b[0mfaces\u001b[0m\u001b[1;33m)\u001b[0m\u001b[1;33m\u001b[0m\u001b[1;33m\u001b[0m\u001b[0m\n\u001b[0m\u001b[0;32m      2\u001b[0m \u001b[0mfig\u001b[0m\u001b[1;33m,\u001b[0m \u001b[0max\u001b[0m \u001b[1;33m=\u001b[0m \u001b[0mplt\u001b[0m\u001b[1;33m.\u001b[0m\u001b[0msubplots\u001b[0m\u001b[1;33m(\u001b[0m\u001b[0mfigsize\u001b[0m\u001b[1;33m=\u001b[0m\u001b[1;33m[\u001b[0m\u001b[1;36m7\u001b[0m\u001b[1;33m,\u001b[0m \u001b[1;36m7\u001b[0m\u001b[1;33m]\u001b[0m\u001b[1;33m)\u001b[0m\u001b[1;33m;\u001b[0m\u001b[1;33m\u001b[0m\u001b[1;33m\u001b[0m\u001b[0m\n\u001b[0;32m      3\u001b[0m \u001b[0mps\u001b[0m\u001b[1;33m.\u001b[0m\u001b[0mvisualization\u001b[0m\u001b[1;33m.\u001b[0m\u001b[0mimshow\u001b[0m\u001b[1;33m(\u001b[0m\u001b[0mim\u001b[0m\u001b[1;33m)\u001b[0m\u001b[1;33m;\u001b[0m\u001b[1;33m\u001b[0m\u001b[1;33m\u001b[0m\u001b[0m\n\u001b[0;32m      4\u001b[0m \u001b[0mplt\u001b[0m\u001b[1;33m.\u001b[0m\u001b[0maxis\u001b[0m\u001b[1;33m(\u001b[0m\u001b[1;32mFalse\u001b[0m\u001b[1;33m)\u001b[0m\u001b[1;33m;\u001b[0m\u001b[1;33m\u001b[0m\u001b[1;33m\u001b[0m\u001b[0m\n",
      "\u001b[1;31mAttributeError\u001b[0m: module 'porespy.tools' has no attribute 'pad_faces'"
     ]
    }
   ],
   "source": [
    "im = ps.tools.pad_faces(im = im, faces = faces)\n",
    "fig, ax = plt.subplots(figsize=[7, 7]);\n",
    "ps.visualization.imshow(im);\n",
    "plt.axis(False);"
   ]
  }
 ],
 "metadata": {
  "kernelspec": {
   "display_name": "Python 3",
   "language": "python",
   "name": "python3"
  },
  "language_info": {
   "codemirror_mode": {
    "name": "ipython",
    "version": 3
   },
   "file_extension": ".py",
   "mimetype": "text/x-python",
   "name": "python",
   "nbconvert_exporter": "python",
   "pygments_lexer": "ipython3",
   "version": "3.8.5"
  }
 },
 "nbformat": 4,
 "nbformat_minor": 5
}
