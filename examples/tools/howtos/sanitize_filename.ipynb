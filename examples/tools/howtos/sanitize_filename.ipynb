{
 "cells": [
  {
   "cell_type": "markdown",
   "id": "atlantic-toronto",
   "metadata": {},
   "source": [
    "# sanitize_filename"
   ]
  },
  {
   "cell_type": "code",
   "execution_count": 1,
   "id": "mature-reasoning",
   "metadata": {
    "jupyter": {
     "source_hidden": true
    },
    "tags": []
   },
   "outputs": [
    {
     "data": {
      "text/markdown": [
       "---\n",
       " ## Documentation for ``sanitize_filename``\n",
       " ---\n",
       "**<span style=\"color:purple\">sanitize&#95;filename</span>_(filename, ext, exclude_ext=False)_**\n",
       "\n",
       "\n",
       "Returns a sanitized string in the form of name.extension\n",
       "\n",
       "\n",
       "#### Parameters\n",
       "* filename : <b><i>str</i></b>  Unsanitized filename, could be 'test.vtk' or just 'test'\n",
       "* ext : <b><i>str</i></b>  Extension of the file, could be 'vtk'\n",
       "* exclude_ext : <b><i>bool</i></b>  If True, the returned string doesn't have the extension\n",
       "\n",
       "#### Returns\n",
       "* sanitized : <b><i>str</i></b>  Sanitized filename in form of name.extension\n",
       "---"
      ],
      "text/plain": [
       "<IPython.core.display.Markdown object>"
      ]
     },
     "execution_count": 1,
     "metadata": {},
     "output_type": "execute_result"
    }
   ],
   "source": [
    "import porespy as ps\n",
    "from IPython.display import Markdown as show\n",
    "show(ps.tools.show_docstring(ps.tools.sanitize_filename))"
   ]
  },
  {
   "cell_type": "markdown",
   "id": "suitable-growing",
   "metadata": {},
   "source": [
    "## Import packages"
   ]
  },
  {
   "cell_type": "code",
   "execution_count": 2,
   "id": "seeing-trust",
   "metadata": {},
   "outputs": [],
   "source": [
    "import numpy as np\n",
    "import porespy as ps\n",
    "import scipy.ndimage as spim\n",
    "import matplotlib.pyplot as plt\n",
    "import skimage\n",
    "ps.visualization.set_mpl_style()"
   ]
  },
  {
   "cell_type": "markdown",
   "id": "desperate-inspector",
   "metadata": {},
   "source": [
    "## Create variables:"
   ]
  },
  {
   "cell_type": "code",
   "execution_count": 3,
   "id": "flush-control",
   "metadata": {},
   "outputs": [],
   "source": [
    "filename = \"name\"\n",
    "ext = \"ipynb\"\n",
    "exclude_ext = False"
   ]
  },
  {
   "cell_type": "markdown",
   "id": "interior-shade",
   "metadata": {},
   "source": [
    "## Apply tool:"
   ]
  },
  {
   "cell_type": "code",
   "execution_count": 4,
   "id": "prospective-screen",
   "metadata": {},
   "outputs": [
    {
     "name": "stdout",
     "output_type": "stream",
     "text": [
      "name.ipynb\n"
     ]
    }
   ],
   "source": [
    "file = ps.tools.sanitize_filename(filename = filename, ext = ext, exclude_ext = exclude_ext)\n",
    "print(file)"
   ]
  }
 ],
 "metadata": {
  "kernelspec": {
   "display_name": "Python 3",
   "language": "python",
   "name": "python3"
  },
  "language_info": {
   "codemirror_mode": {
    "name": "ipython",
    "version": 3
   },
   "file_extension": ".py",
   "mimetype": "text/x-python",
   "name": "python",
   "nbconvert_exporter": "python",
   "pygments_lexer": "ipython3",
   "version": "3.8.8"
  }
 },
 "nbformat": 4,
 "nbformat_minor": 5
}
