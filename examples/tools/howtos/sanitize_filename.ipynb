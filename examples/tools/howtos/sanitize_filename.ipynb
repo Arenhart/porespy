{
 "cells": [
  {
   "cell_type": "markdown",
   "id": "registered-experiment",
   "metadata": {},
   "source": [
    "# sanitize_filename"
   ]
  },
  {
   "cell_type": "markdown",
   "id": "junior-failing",
   "metadata": {},
   "source": [
    "## Import packages"
   ]
  },
  {
   "cell_type": "code",
   "execution_count": 2,
   "id": "focal-classics",
   "metadata": {},
   "outputs": [],
   "source": [
    "import numpy as np\n",
    "import porespy as ps\n",
    "import scipy.ndimage as spim\n",
    "import matplotlib.pyplot as plt\n",
    "import skimage\n",
    "ps.visualization.set_mpl_style()"
   ]
  },
  {
   "cell_type": "markdown",
   "id": "sweet-concentration",
   "metadata": {},
   "source": [
    "## Create variables:"
   ]
  },
  {
   "cell_type": "code",
   "execution_count": 3,
   "id": "eleven-class",
   "metadata": {},
   "outputs": [],
   "source": [
    "filename = \"name\"\n",
    "ext = \"ipynb\"\n",
    "exclude_ext = False"
   ]
  },
  {
   "cell_type": "markdown",
   "id": "corrected-excess",
   "metadata": {},
   "source": [
    "## Apply tool:"
   ]
  },
  {
   "cell_type": "code",
   "execution_count": 4,
   "id": "cultural-quality",
   "metadata": {},
   "outputs": [
    {
     "name": "stdout",
     "output_type": "stream",
     "text": [
      "name.ipynb\n"
     ]
    }
   ],
   "source": [
    "file = ps.tools.sanitize_filename(filename = filename, ext = ext, exclude_ext = exclude_ext)\n",
    "print(file)"
   ]
  }
 ],
 "metadata": {
  "kernelspec": {
   "display_name": "Python 3",
   "language": "python",
   "name": "python3"
  },
  "language_info": {
   "codemirror_mode": {
    "name": "ipython",
    "version": 3
   },
   "file_extension": ".py",
   "mimetype": "text/x-python",
   "name": "python",
   "nbconvert_exporter": "python",
   "pygments_lexer": "ipython3",
   "version": "3.8.8"
  }
 },
 "nbformat": 4,
 "nbformat_minor": 5
}
