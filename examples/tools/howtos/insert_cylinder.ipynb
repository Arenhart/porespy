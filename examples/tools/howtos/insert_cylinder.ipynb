{
 "cells": [
  {
   "cell_type": "markdown",
   "id": "electronic-softball",
   "metadata": {},
   "source": [
    "# insert_cylinder"
   ]
  },
  {
   "cell_type": "code",
   "execution_count": 1,
   "id": "educational-weekly",
   "metadata": {
    "jupyter": {
     "source_hidden": true
    },
    "tags": []
   },
   "outputs": [
    {
     "data": {
      "text/markdown": [
       "---\n",
       " ## Documentation for ``insert_cylinder``\n",
       " ---\n",
       "**<span style=\"color:purple\">insert&#95;cylinder</span>_(im, xyz0, xyz1, r)_**\n",
       "\n",
       "\n",
       "Inserts a cylinder of given radius onto a given image\n",
       "\n",
       "\n",
       "#### Parameters\n",
       "* im : <b><i>array_like</i></b>  Original voxelated image\n",
       "* xyz0, xyz1 : <b><i>3-by-1 array_like</i></b>  Voxel coordinates of the two end points of the cylinder\n",
       "* r : <b><i>int</i></b>  Radius of the cylinder\n",
       "\n",
       "#### Returns\n",
       "* im : <b><i>ND-array</i></b>  Original voxelated image overlayed with the cylinder\n",
       "\n",
       "#### Notes\n",
       "This function is only implemented for 3D images\n",
       "---"
      ],
      "text/plain": [
       "<IPython.core.display.Markdown object>"
      ]
     },
     "execution_count": 1,
     "metadata": {},
     "output_type": "execute_result"
    }
   ],
   "source": [
    "import porespy as ps\n",
    "from IPython.display import Markdown as show\n",
    "show(ps.tools.show_docstring(ps.tools.insert_cylinder))"
   ]
  },
  {
   "cell_type": "markdown",
   "id": "twenty-board",
   "metadata": {},
   "source": [
    "## Import packages"
   ]
  },
  {
   "cell_type": "code",
   "execution_count": 2,
   "id": "dependent-dialogue",
   "metadata": {},
   "outputs": [],
   "source": [
    "import numpy as np\n",
    "import porespy as ps\n",
    "import scipy.ndimage as spim\n",
    "import matplotlib.pyplot as plt\n",
    "import skimage\n",
    "ps.visualization.set_mpl_style()"
   ]
  },
  {
   "cell_type": "markdown",
   "id": "incorrect-posting",
   "metadata": {},
   "source": [
    "## Create image and variables:"
   ]
  },
  {
   "cell_type": "code",
   "execution_count": 3,
   "id": "entire-namibia",
   "metadata": {},
   "outputs": [
    {
     "data": {
      "image/png": "[encoded data removed]",
      "text/plain": [
       "<Figure size 504x504 with 1 Axes>"
      ]
     },
     "metadata": {
      "needs_background": "light"
     },
     "output_type": "display_data"
    }
   ],
   "source": [
    "im = ps.generators.blobs([100, 100,100])\n",
    "\n",
    "fig, ax = plt.subplots(figsize=[7, 7]);\n",
    "ps.visualization.imshow(im);\n",
    "plt.axis(False)\n",
    "\n",
    "#default values:\n",
    "xyz0=[25,25,25]\n",
    "xyz1=[75,25,75]\n",
    "r=15"
   ]
  },
  {
   "cell_type": "markdown",
   "id": "micro-literature",
   "metadata": {},
   "source": [
    "## Apply tool:"
   ]
  },
  {
   "cell_type": "code",
   "execution_count": 4,
   "id": "quality-integration",
   "metadata": {},
   "outputs": [
    {
     "data": {
      "text/plain": [
       "(-0.5, 99.5, -0.5, 99.5)"
      ]
     },
     "execution_count": 4,
     "metadata": {},
     "output_type": "execute_result"
    },
    {
     "data": {
      "image/png": "[encoded data removed]",
      "text/plain": [
       "<Figure size 504x504 with 1 Axes>"
      ]
     },
     "metadata": {
      "needs_background": "light"
     },
     "output_type": "display_data"
    }
   ],
   "source": [
    "im = ps.tools.insert_cylinder(im=im, xyz0=xyz0, xyz1=xyz1, r=r)\n",
    "\n",
    "fig, ax = plt.subplots(figsize=[7, 7]);\n",
    "ps.visualization.imshow(im);\n",
    "plt.axis(False)"
   ]
  }
 ],
 "metadata": {
  "kernelspec": {
   "display_name": "Python 3",
   "language": "python",
   "name": "python3"
  },
  "language_info": {
   "codemirror_mode": {
    "name": "ipython",
    "version": 3
   },
   "file_extension": ".py",
   "mimetype": "text/x-python",
   "name": "python",
   "nbconvert_exporter": "python",
   "pygments_lexer": "ipython3",
   "version": "3.8.8"
  }
 },
 "nbformat": 4,
 "nbformat_minor": 5
}
