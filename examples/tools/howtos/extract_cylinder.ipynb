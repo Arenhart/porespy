{
 "cells": [
  {
   "cell_type": "markdown",
   "id": "central-afghanistan",
   "metadata": {},
   "source": [
    "# extract_cylinder"
   ]
  },
  {
   "cell_type": "markdown",
   "id": "after-error",
   "metadata": {},
   "source": [
    "## Import Packages"
   ]
  },
  {
   "cell_type": "code",
   "execution_count": 2,
   "id": "educational-creator",
   "metadata": {},
   "outputs": [],
   "source": [
    "import numpy as np\n",
    "import porespy as ps\n",
    "import scipy.ndimage as spim\n",
    "import matplotlib.pyplot as plt\n",
    "import skimage\n",
    "ps.visualization.set_mpl_style()"
   ]
  },
  {
   "cell_type": "markdown",
   "id": "irish-pixel",
   "metadata": {},
   "source": [
    "## Generate Image for Testing"
   ]
  },
  {
   "cell_type": "code",
   "execution_count": 17,
   "id": "surgical-playback",
   "metadata": {},
   "outputs": [],
   "source": [
    "im = ps.generators.blobs([100, 100, 100])"
   ]
  },
  {
   "cell_type": "markdown",
   "id": "engaged-aluminum",
   "metadata": {},
   "source": [
    "## Apply tool and visualize\n",
    "This tool is useful for extracting a cylindrical core from an otherwise cubic image.  This might be helpful if a cylindrical domain is needed, or to test a workflow on a tomogram that has has not been cropped yet."
   ]
  },
  {
   "cell_type": "code",
   "execution_count": 21,
   "id": "fancy-instruction",
   "metadata": {},
   "outputs": [
    {
     "data": {
      "image/svg+xml": [
       "<?xml version=\"1.0\" encoding=\"utf-8\" standalone=\"no\"?>\n",
       "<!DOCTYPE svg PUBLIC \"-//W3C//DTD SVG 1.1//EN\"\n",
       "  \"http://www.w3.org/Graphics/SVG/1.1/DTD/svg11.dtd\">\n",
       "<!-- Created with matplotlib (https://matplotlib.org/) -->\n",
       "<svg height=\"276.48pt\" version=\"1.1\" viewBox=\"0 0 558 276.48\" width=\"558pt\" xmlns=\"http://www.w3.org/2000/svg\" xmlns:xlink=\"http://www.w3.org/1999/xlink\">\n",
       " <metadata>\n",
       "  <rdf:RDF xmlns:cc=\"http://creativecommons.org/ns#\" xmlns:dc=\"http://purl.org/dc/elements/1.1/\" xmlns:rdf=\"http://www.w3.org/1999/02/22-rdf-syntax-ns#\">\n",
       "   <cc:Work>\n",
       "    <dc:type rdf:resource=\"http://purl.org/dc/dcmitype/StillImage\"/>\n",
       "    <dc:date>2021-04-20T11:32:17.050623</dc:date>\n",
       "    <dc:format>image/svg+xml</dc:format>\n",
       "    <dc:creator>\n",
       "     <cc:Agent>\n",
       "      <dc:title>Matplotlib v3.3.4, https://matplotlib.org/</dc:title>\n",
       "     </cc:Agent>\n",
       "    </dc:creator>\n",
       "   </cc:Work>\n",
       "  </rdf:RDF>\n",
       " </metadata>\n",
       " <defs>\n",
       "  <style type=\"text/css\">*{stroke-linecap:butt;stroke-linejoin:round;}</style>\n",
       " </defs>\n",
       " <g id=\"figure_1\">\n",
       "  <g id=\"patch_1\">\n",
       "   <path d=\"M 0 276.48 \n",
       "L 558 276.48 \n",
       "L 558 0 \n",
       "L 0 0 \n",
       "z\n",
       "\" style=\"fill:none;\"/>\n",
       "  </g>\n",
       "  <g id=\"axes_1\">\n",
       "   <g clip-path=\"url(#pb893466849)\">\n",
       "    <image height=\"100\" id=\"image290db3d7ae\" style=\"image-rendering:crisp-edges;image-rendering:pixelated\" transform=\"matrix(2.63 0 0 2.63 7.2 6.28)\" width=\"100\" xlink:href=\"data:image/png;base64,\n",
       "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\"/>\n",
       "   </g>\n",
       "  </g>\n",
       "  <g id=\"axes_2\">\n",
       "   <g clip-path=\"url(#pfdfe61636a)\">\n",
       "    <image height=\"100\" id=\"image123ba8df6b\" style=\"image-rendering:crisp-edges;image-rendering:pixelated\" transform=\"matrix(2.63 0 0 2.63 288.72 6.28)\" width=\"100\" xlink:href=\"data:image/png;base64,\n",
       "iVBORw0KGgoAAAANSUhEUgAAAGQAAABkCAYAAABw4pVUAAAENklEQVR4nO2d25HbMAxF6UyqcBUuIjNuIM26C1fhNpIvzWg5pEg8LnGxy/PptSkSV+ADgLS3P7e//8qGhl/RHdh8ZQtCxhaEjC0IGVsQMrYgZGxByNiCkLEFIWMLQsbv6A7M8vq8zW087w9zG2hoBfEQYNQmo0BUgiBEyAaFIBFCMHpHKcGCRHkEqxilkHjIFT3jacVkFqMU4m3v8/64NJ7GsOxilELqId6GyyDEAZ2H/GQxSlkgSORW1irG6/Ne3n/olDUajMVgSEPVbbeuhfI8mIccg8g2ZcyCuiEgHvL6vMOFOF+/Z7xWHyWGRozzlrEuSzIVrlgDPEWh22WNQK5LWjxFTyUIoxjeuAkSsUWMBjE1ughy7gxbwPD8uYcHHSGdoy1vUcyCZPCK2oCjONlVO6PPrfaArCEokSLDKqPvWoQ+YxLEavgM3rWasF3WIYbXZuC7iKs+qV8ZQOO2M6fekdFb4ZpsQrmGTjyiqx4ZwmwinFFNWa1yGqkYEsNnNrAUs4dIppn6u8/748cLUKNe1Ge8YsawGcIdK/so9hBLyLn3256nzGANoWvaRwIPv0uzbRJjepcIjdpdAfwcIr2Do6ew6OsvORiiphXvxR8hhrSPIkG8Q+yoHRZLEd05GjFLeKGcRzwsepppoR1Xqoxhj8yLeI1YEG2cajXRRtZeXyQIqxgziaMrmPI30Cnru4VANOORxvnglYseWB5L8PYS9E0Wvsu6wrtAwcIqb4d5iNWA0QL0QPeL0kMQxQyaIrur1AEKqCD1IBBpX8vvGREJEnUqjiy+O4c/VoxdvIagjNNrlynJdcTykDuyZbW9ms6t9Azva2kCi6U4rSF1ba9k7bAy6x2aZNbob5Izzux3xaGTmYa9iuC8Dn2aNqLWLdguCz0gz3VD69G95ygtY6c6h7RcO8N2djQlUcSyMhjSk/pMpB0/xEOsz59byow8+2KFIvweFRC8OsdkehI3pAzImxmDZ8nNuApizdxJkd79TJnBHm5riOTMEHlql65Rq581CX+Tw0zElqkgDr1xCC8D8npYUgIyemAlXJARjIsxUhR6QRC0Qh3SDUK9ttC8yQG5z0fnQlp9t4yF4k0OB6unltbbGWZ/54EloXaFWZCI8LX2vIMWw+MaLh7SCz8jprNVRtfgcW23KQthCLRxkTkVLZBdVmTySOqR9foTnTYIP6nPMnNCXvXsYuvFCV5QZQylIDYOvbRsD2+PSnMwXB3Gn/E2RJ/o/n9I1ByuWXsQhL8va/ZzJEx9CRHE8zUaVtiCl8sFYXoAlE2MUhIt6hFErGfLBVk9yFEBW/RBsCbEQ9gM0epPVP9Ct73HoL1TqkybBilUoZNRRQgyZMEClSAzSEMbzO/mapEuliUxYkaPSieIhAwC1OxzCBlbEDK2IGRsQcjYgpCxBSFjC0LGFoSMLQgZ/wHSUlByPr5JzwAAAABJRU5ErkJggg==\"/>\n",
       "   </g>\n",
       "  </g>\n",
       " </g>\n",
       " <defs>\n",
       "  <clipPath id=\"pb893466849\">\n",
       "   <rect height=\"262.08\" width=\"262.08\" x=\"7.2\" y=\"7.2\"/>\n",
       "  </clipPath>\n",
       "  <clipPath id=\"pfdfe61636a\">\n",
       "   <rect height=\"262.08\" width=\"262.08\" x=\"288.72\" y=\"7.2\"/>\n",
       "  </clipPath>\n",
       " </defs>\n",
       "</svg>\n"
      ],
      "text/plain": [
       "<Figure size 576x288 with 2 Axes>"
      ]
     },
     "metadata": {
      "needs_background": "light"
     },
     "output_type": "display_data"
    }
   ],
   "source": [
    "cyl = ps.tools.extract_cylinder(im=im, r=40, axis=2)\n",
    "\n",
    "fig, ax = plt.subplots(1, 2, figsize=[8, 4]);\n",
    "ax[0].imshow(im[..., 50]);\n",
    "ax[0].axis(False)\n",
    "ax[1].imshow(cyl[..., 50]);\n",
    "ax[1].axis(False);"
   ]
  }
 ],
 "metadata": {
  "kernelspec": {
   "display_name": "Python 3",
   "language": "python",
   "name": "python3"
  },
  "language_info": {
   "codemirror_mode": {
    "name": "ipython",
    "version": 3
   },
   "file_extension": ".py",
   "mimetype": "text/x-python",
   "name": "python",
   "nbconvert_exporter": "python",
   "pygments_lexer": "ipython3",
   "version": "3.8.8"
  }
 },
 "nbformat": 4,
 "nbformat_minor": 5
}
