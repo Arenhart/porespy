{
 "cells": [
  {
   "cell_type": "markdown",
   "metadata": {},
   "source": [
    "# unpad"
   ]
  },
  {
   "cell_type": "code",
   "execution_count": 1,
   "metadata": {
    "jupyter": {
     "source_hidden": true
    },
    "tags": []
   },
   "outputs": [],
   "source": [
    "import porespy as ps\n",
    "import numpy as np\n",
    "import matplotlib.pyplot as plt\n",
    "from porespy.tools import get_border, extend_slice, extract_subsection\n",
    "\n",
    "\n",
    "def unpad(im, pad_width):\n",
    "    r\"\"\"\n",
    "    removes padding from an image then extracts the result corresponding to the original image shape.\n",
    "    Parameters\n",
    "    ----------\n",
    "    im : ND-image\n",
    "        The image to which ``func`` should be applied\n",
    "    pad_width : int or list of ints\n",
    "        The amount of padding on each axis.  Refer to ``numpy.pad``\n",
    "        documentation for more details.\n",
    "    Notes\n",
    "    -----\n",
    "    A use case for this is when using ``skimage.morphology.skeletonize_3d``\n",
    "    to ensure that the skeleton extends beyond the edges of the image.\n",
    "    \"\"\"\n",
    "    padded = np.pad(im, pad_width=pad_width,\n",
    "                    mode='constant', constant_values=1)\n",
    "    \n",
    "    if type(pad_width) == int:\n",
    "        new_pad_width = []\n",
    "        for r in range (0,len(im.shape)):\n",
    "            new_pad_width.append(pad_width)\n",
    "        pad_width = new_pad_width\n",
    "    \n",
    "    if type(pad_width) == list:\n",
    "        pad_width = np.asarray(pad_width)\n",
    "        shape = im.shape - pad_width[0] - pad_width[1]\n",
    "       \n",
    "        \n",
    "    difference = (pad_width[0]-pad_width[1])\n",
    "    if shape[0] < 1:\n",
    "        shape = np.array(im.shape) * shape\n",
    "    center = np.array(im.shape)\n",
    "    center[0] = shape[0]/2 -difference\n",
    "    center[1] = shape[1]/2 -difference\n",
    "    s_im = []\n",
    "    for dim in range(im.ndim):\n",
    "        r = shape[dim] / 2\n",
    "        lower_im = pad_width[0]\n",
    "        upper_im = shape[dim] + pad_width[0]        \n",
    "        s_im.append(slice(int(lower_im), int(upper_im)))\n",
    "\n",
    "        \n",
    "    return im[tuple(s_im)]"
   ]
  },
  {
   "cell_type": "markdown",
   "metadata": {},
   "source": [
    "## Import packages"
   ]
  },
  {
   "cell_type": "code",
   "execution_count": 3,
   "metadata": {},
   "outputs": [],
   "source": [
    "import porespy as ps\n",
    "import numpy as np\n",
    "import matplotlib.pyplot as plt\n",
    "from porespy.tools import get_border, extend_slice, extract_subsection\n",
    "ps.visualization.set_mpl_style()"
   ]
  },
  {
   "cell_type": "markdown",
   "metadata": {},
   "source": [
    "## Create variable"
   ]
  },
  {
   "cell_type": "code",
   "execution_count": 4,
   "metadata": {},
   "outputs": [],
   "source": [
    "im = ps.generators.blobs([100,150], porosity = 0.3)\n",
    "pad_width = [10,50]"
   ]
  },
  {
   "cell_type": "markdown",
   "metadata": {},
   "source": [
    "## Apply tool"
   ]
  },
  {
   "cell_type": "code",
   "execution_count": 5,
   "metadata": {},
   "outputs": [
    {
     "name": "stdout",
     "output_type": "stream",
     "text": [
      "shape original: (100, 150)\n",
      "shape padded: (160, 210)\n",
      "shape new unpad: (100, 150)\n"
     ]
    },
    {
     "data": {
      "text/plain": [
       "Text(0.5, 1.0, 'pad removed')"
      ]
     },
     "execution_count": 5,
     "metadata": {},
     "output_type": "execute_result"
    },
    {
     "data": {
      "image/png": "[encoded data removed]",
      "text/plain": [
       "<Figure size 1440x1440 with 3 Axes>"
      ]
     },
     "metadata": {
      "needs_background": "light"
     },
     "output_type": "display_data"
    }
   ],
   "source": [
    "print(\"shape original:\", im.shape)\n",
    "im1 = np.pad(im, pad_width, mode = \"constant\", constant_values = 1)\n",
    "print(\"shape padded:\", im1.shape)\n",
    "im3 = unpad(im1, pad_width)\n",
    "print(\"shape new unpad:\", im3.shape)\n",
    "\n",
    "\n",
    "fig, ax = plt.subplots(1, 3, figsize=[20,20]);\n",
    "ax[0].imshow(im);\n",
    "ax[1].imshow(im1);\n",
    "ax[2].imshow(im3);\n",
    "ax[0].set_title('image')\n",
    "ax[1].set_title('pad added')\n",
    "ax[2].set_title('pad removed');"
   ]
  }
 ],
 "metadata": {
  "kernelspec": {
   "display_name": "Python 3",
   "language": "python",
   "name": "python3"
  },
  "language_info": {
   "codemirror_mode": {
    "name": "ipython",
    "version": 3
   },
   "file_extension": ".py",
   "mimetype": "text/x-python",
   "name": "python",
   "nbconvert_exporter": "python",
   "pygments_lexer": "ipython3",
   "version": "3.8.8"
  }
 },
 "nbformat": 4,
 "nbformat_minor": 4
}
