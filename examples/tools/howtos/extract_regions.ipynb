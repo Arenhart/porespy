{
 "cells": [
  {
   "cell_type": "markdown",
   "id": "apparent-prayer",
   "metadata": {},
   "source": [
    "# extract_regions"
   ]
  },
  {
   "cell_type": "code",
   "execution_count": 1,
   "id": "czech-blocking",
   "metadata": {
    "jupyter": {
     "source_hidden": true
    },
    "tags": []
   },
   "outputs": [
    {
     "data": {
      "text/markdown": [
       "---\n",
       " ## Documentation for ``extract_regions``\n",
       " ---\n",
       "**<span style=\"color:purple\">extract&#95;regions</span>_(regions, labels: list, trim=True)_**\n",
       "\n",
       "\n",
       "Combine given regions into a single boolean mask\n",
       "\n",
       "\n",
       "#### Parameters\n",
       "* regions : <b><i>ND-array</i></b>  An image containing an arbitrary number of labeled regions\n",
       "* labels : <b><i>array_like or scalar</i></b>  A list of labels indicating which region or regions to extract\n",
       "* trim : <b><i>bool</i></b>  If ``True`` then image shape will trimmed to a bounding box around the\n",
       "\tgiven regions.\n",
       "\n",
       "#### Returns\n",
       "* im : <b><i>ND-array</i></b>  A boolean mask with ``True`` values indicating where the given labels\n",
       "\texist\n",
       "---"
      ],
      "text/plain": [
       "<IPython.core.display.Markdown object>"
      ]
     },
     "execution_count": 1,
     "metadata": {},
     "output_type": "execute_result"
    }
   ],
   "source": [
    "import porespy as ps\n",
    "from IPython.display import Markdown as show\n",
    "show(ps.tools.show_docstring(ps.tools.extract_regions))"
   ]
  },
  {
   "cell_type": "markdown",
   "id": "stainless-hungarian",
   "metadata": {},
   "source": [
    "## Import packages"
   ]
  },
  {
   "cell_type": "code",
   "execution_count": 2,
   "id": "designing-pitch",
   "metadata": {},
   "outputs": [],
   "source": [
    "import numpy as np\n",
    "import porespy as ps\n",
    "import scipy.ndimage as spim\n",
    "import matplotlib.pyplot as plt\n",
    "import skimage\n",
    "ps.visualization.set_mpl_style()"
   ]
  },
  {
   "cell_type": "markdown",
   "id": "interracial-night",
   "metadata": {},
   "source": [
    "## Create image and variables:"
   ]
  },
  {
   "cell_type": "code",
   "execution_count": 3,
   "id": "stupid-utility",
   "metadata": {},
   "outputs": [
    {
     "data": {
      "image/png": "[encoded data removed]",
      "text/plain": [
       "<Figure size 504x504 with 1 Axes>"
      ]
     },
     "metadata": {
      "needs_background": "light"
     },
     "output_type": "display_data"
    }
   ],
   "source": [
    "im = ps.generators.blobs([100, 100])\n",
    "plt.figure(figsize=[7, 7])\n",
    "plt.axis(False)\n",
    "plt.imshow(im)\n",
    "\n",
    "im = im.astype(int)\n",
    "\n",
    "#default values:\n",
    "labels= [1,3,5]\n",
    "trim = True"
   ]
  },
  {
   "cell_type": "code",
   "execution_count": 4,
   "id": "fatal-assembly",
   "metadata": {},
   "outputs": [
    {
     "name": "stdout",
     "output_type": "stream",
     "text": [
      "[[ 0  0  0 ...  0  0  0]\n",
      " [ 0  0  0 ...  0  0  0]\n",
      " [ 0  0  0 ...  0  0  0]\n",
      " ...\n",
      " [ 0 13 13 ... 17  0  0]\n",
      " [ 0 13 13 ... 17  0  0]\n",
      " [13 13 13 ...  0  0  0]]\n"
     ]
    },
    {
     "data": {
      "text/plain": [
       "<matplotlib.image.AxesImage at 0x7fe0b93f57c0>"
      ]
     },
     "execution_count": 4,
     "metadata": {},
     "output_type": "execute_result"
    },
    {
     "data": {
      "image/png": "[encoded data removed]",
      "text/plain": [
       "<Figure size 504x504 with 1 Axes>"
      ]
     },
     "metadata": {
      "needs_background": "light"
     },
     "output_type": "display_data"
    }
   ],
   "source": [
    "regions = spim.label(im)[0]\n",
    "print(regions)\n",
    "\n",
    "plt.figure(figsize=[7, 7])\n",
    "plt.axis(False)\n",
    "plt.imshow(regions)"
   ]
  },
  {
   "cell_type": "markdown",
   "id": "altered-concern",
   "metadata": {},
   "source": [
    "## Apply tool:"
   ]
  },
  {
   "cell_type": "code",
   "execution_count": 5,
   "id": "hindu-discount",
   "metadata": {},
   "outputs": [
    {
     "data": {
      "text/plain": [
       "<matplotlib.image.AxesImage at 0x7fe0b93b6df0>"
      ]
     },
     "execution_count": 5,
     "metadata": {},
     "output_type": "execute_result"
    },
    {
     "data": {
      "image/png": "[encoded data removed]",
      "text/plain": [
       "<Figure size 504x504 with 1 Axes>"
      ]
     },
     "metadata": {
      "needs_background": "light"
     },
     "output_type": "display_data"
    }
   ],
   "source": [
    "im = ps.tools.extract_regions(regions = regions, labels = labels, trim = trim)\n",
    "plt.figure(figsize=[7, 7])\n",
    "plt.axis(False)\n",
    "plt.imshow(im)"
   ]
  }
 ],
 "metadata": {
  "kernelspec": {
   "display_name": "Python 3",
   "language": "python",
   "name": "python3"
  },
  "language_info": {
   "codemirror_mode": {
    "name": "ipython",
    "version": 3
   },
   "file_extension": ".py",
   "mimetype": "text/x-python",
   "name": "python",
   "nbconvert_exporter": "python",
   "pygments_lexer": "ipython3",
   "version": "3.8.8"
  }
 },
 "nbformat": 4,
 "nbformat_minor": 5
}
