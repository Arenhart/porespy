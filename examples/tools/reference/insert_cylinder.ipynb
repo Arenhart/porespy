{
 "cells": [
  {
   "cell_type": "markdown",
   "id": "skilled-economy",
   "metadata": {},
   "source": [
    "# insert_cylinder"
   ]
  },
  {
   "cell_type": "markdown",
   "id": "considerable-remove",
   "metadata": {},
   "source": [
    "## Import packages"
   ]
  },
  {
   "cell_type": "code",
   "execution_count": 1,
   "id": "distributed-theme",
   "metadata": {
    "execution": {
     "iopub.execute_input": "2022-03-30T13:45:04.567441Z",
     "iopub.status.busy": "2022-03-30T13:45:04.565412Z",
     "iopub.status.idle": "2022-03-30T13:45:06.544119Z",
     "shell.execute_reply": "2022-03-30T13:45:06.543501Z"
    }
   },
   "outputs": [],
   "source": [
    "import numpy as np\n",
    "import porespy as ps\n",
    "import scipy.ndimage as spim\n",
    "import matplotlib.pyplot as plt\n",
    "import skimage\n",
    "\n",
    "ps.visualization.set_mpl_style()"
   ]
  },
  {
   "cell_type": "markdown",
   "id": "critical-lyric",
   "metadata": {},
   "source": [
    "## Generate image for testing"
   ]
  },
  {
   "cell_type": "code",
   "execution_count": 2,
   "id": "published-reform",
   "metadata": {
    "execution": {
     "iopub.execute_input": "2022-03-30T13:45:06.547493Z",
     "iopub.status.busy": "2022-03-30T13:45:06.547234Z",
     "iopub.status.idle": "2022-03-30T13:45:06.676320Z",
     "shell.execute_reply": "2022-03-30T13:45:06.675912Z"
    }
   },
   "outputs": [
    {
     "data": {
      "image/svg+xml": [
       "<?xml version=\"1.0\" encoding=\"utf-8\" standalone=\"no\"?>\n",
       "<!DOCTYPE svg PUBLIC \"-//W3C//DTD SVG 1.1//EN\"\n",
       "  \"http://www.w3.org/Graphics/SVG/1.1/DTD/svg11.dtd\">\n",
       "<svg xmlns:xlink=\"http://www.w3.org/1999/xlink\" width=\"276.48pt\" height=\"276.48pt\" viewBox=\"0 0 276.48 276.48\" xmlns=\"http://www.w3.org/2000/svg\" version=\"1.1\">\n",
       " <metadata>\n",
       "  <rdf:RDF xmlns:dc=\"http://purl.org/dc/elements/1.1/\" xmlns:cc=\"http://creativecommons.org/ns#\" xmlns:rdf=\"http://www.w3.org/1999/02/22-rdf-syntax-ns#\">\n",
       "   <cc:Work>\n",
       "    <dc:type rdf:resource=\"http://purl.org/dc/dcmitype/StillImage\"/>\n",
       "    <dc:date>2022-03-30T13:45:06.665953</dc:date>\n",
       "    <dc:format>image/svg+xml</dc:format>\n",
       "    <dc:creator>\n",
       "     <cc:Agent>\n",
       "      <dc:title>Matplotlib v3.5.1, https://matplotlib.org/</dc:title>\n",
       "     </cc:Agent>\n",
       "    </dc:creator>\n",
       "   </cc:Work>\n",
       "  </rdf:RDF>\n",
       " </metadata>\n",
       " <defs>\n",
       "  <style type=\"text/css\">*{stroke-linejoin: round; stroke-linecap: butt}</style>\n",
       " </defs>\n",
       " <g id=\"figure_1\">\n",
       "  <g id=\"patch_1\">\n",
       "   <path d=\"M 0 276.48 \n",
       "L 276.48 276.48 \n",
       "L 276.48 0 \n",
       "L 0 0 \n",
       "L 0 276.48 \n",
       "z\n",
       "\" style=\"fill: none\"/>\n",
       "  </g>\n",
       "  <g id=\"axes_1\">\n",
       "   <g clip-path=\"url(#pcc65bc8439)\">\n",
       "    <image xlink:href=\"data:image/png;base64,\n",
       "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\" id=\"image664f19d75e\" transform=\"matrix(2.63 0 0 2.63 7.2 6.28)\" style=\"image-rendering:crisp-edges;image-rendering:pixelated\" width=\"100\" height=\"100\"/>\n",
       "   </g>\n",
       "  </g>\n",
       " </g>\n",
       " <defs>\n",
       "  <clipPath id=\"pcc65bc8439\">\n",
       "   <rect x=\"7.2\" y=\"7.2\" width=\"262.08\" height=\"262.08\"/>\n",
       "  </clipPath>\n",
       " </defs>\n",
       "</svg>\n"
      ],
      "text/plain": [
       "<Figure size 288x288 with 1 Axes>"
      ]
     },
     "metadata": {
      "needs_background": "light"
     },
     "output_type": "display_data"
    }
   ],
   "source": [
    "im = ps.generators.blobs([100, 100, 100])\n",
    "\n",
    "fig, ax = plt.subplots(figsize=[4, 4]);\n",
    "ax.imshow(im[..., 50]);\n",
    "plt.axis(False);"
   ]
  },
  {
   "cell_type": "markdown",
   "id": "broken-insurance",
   "metadata": {},
   "source": [
    "## Demonstrate tool"
   ]
  },
  {
   "cell_type": "code",
   "execution_count": 3,
   "id": "tracked-andrew",
   "metadata": {
    "execution": {
     "iopub.execute_input": "2022-03-30T13:45:06.678890Z",
     "iopub.status.busy": "2022-03-30T13:45:06.678581Z",
     "iopub.status.idle": "2022-03-30T13:45:06.776229Z",
     "shell.execute_reply": "2022-03-30T13:45:06.775707Z"
    }
   },
   "outputs": [
    {
     "data": {
      "image/svg+xml": [
       "<?xml version=\"1.0\" encoding=\"utf-8\" standalone=\"no\"?>\n",
       "<!DOCTYPE svg PUBLIC \"-//W3C//DTD SVG 1.1//EN\"\n",
       "  \"http://www.w3.org/Graphics/SVG/1.1/DTD/svg11.dtd\">\n",
       "<svg xmlns:xlink=\"http://www.w3.org/1999/xlink\" width=\"276.48pt\" height=\"276.48pt\" viewBox=\"0 0 276.48 276.48\" xmlns=\"http://www.w3.org/2000/svg\" version=\"1.1\">\n",
       " <metadata>\n",
       "  <rdf:RDF xmlns:dc=\"http://purl.org/dc/elements/1.1/\" xmlns:cc=\"http://creativecommons.org/ns#\" xmlns:rdf=\"http://www.w3.org/1999/02/22-rdf-syntax-ns#\">\n",
       "   <cc:Work>\n",
       "    <dc:type rdf:resource=\"http://purl.org/dc/dcmitype/StillImage\"/>\n",
       "    <dc:date>2022-03-30T13:45:06.768447</dc:date>\n",
       "    <dc:format>image/svg+xml</dc:format>\n",
       "    <dc:creator>\n",
       "     <cc:Agent>\n",
       "      <dc:title>Matplotlib v3.5.1, https://matplotlib.org/</dc:title>\n",
       "     </cc:Agent>\n",
       "    </dc:creator>\n",
       "   </cc:Work>\n",
       "  </rdf:RDF>\n",
       " </metadata>\n",
       " <defs>\n",
       "  <style type=\"text/css\">*{stroke-linejoin: round; stroke-linecap: butt}</style>\n",
       " </defs>\n",
       " <g id=\"figure_1\">\n",
       "  <g id=\"patch_1\">\n",
       "   <path d=\"M 0 276.48 \n",
       "L 276.48 276.48 \n",
       "L 276.48 0 \n",
       "L 0 0 \n",
       "L 0 276.48 \n",
       "z\n",
       "\" style=\"fill: none\"/>\n",
       "  </g>\n",
       "  <g id=\"axes_1\">\n",
       "   <g clip-path=\"url(#p34576af714)\">\n",
       "    <image xlink:href=\"data:image/png;base64,\n",
       "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\" id=\"image2cfd9d2d6b\" transform=\"matrix(2.63 0 0 2.63 7.2 6.28)\" style=\"image-rendering:crisp-edges;image-rendering:pixelated\" width=\"100\" height=\"100\"/>\n",
       "   </g>\n",
       "  </g>\n",
       " </g>\n",
       " <defs>\n",
       "  <clipPath id=\"p34576af714\">\n",
       "   <rect x=\"7.2\" y=\"7.2\" width=\"262.08\" height=\"262.08\"/>\n",
       "  </clipPath>\n",
       " </defs>\n",
       "</svg>\n"
      ],
      "text/plain": [
       "<Figure size 288x288 with 1 Axes>"
      ]
     },
     "metadata": {
      "needs_background": "light"
     },
     "output_type": "display_data"
    }
   ],
   "source": [
    "im = ps.tools.insert_cylinder(im=im*1.0, xyz0=[20, 20, 20], xyz1=[60, 60, 50], r=20)\n",
    "\n",
    "fig, ax = plt.subplots(figsize=[4, 4]);\n",
    "ax.imshow(ps.visualization.xray(~(im > 1)));\n",
    "plt.axis(False);"
   ]
  },
  {
   "cell_type": "code",
   "execution_count": null,
   "id": "wound-quebec",
   "metadata": {},
   "outputs": [],
   "source": []
  }
 ],
 "metadata": {
  "kernelspec": {
   "display_name": "Python 3",
   "language": "python",
   "name": "python3"
  },
  "language_info": {
   "codemirror_mode": {
    "name": "ipython",
    "version": 3
   },
   "file_extension": ".py",
   "mimetype": "text/x-python",
   "name": "python",
   "nbconvert_exporter": "python",
   "pygments_lexer": "ipython3",
   "version": "3.8.13"
  }
 },
 "nbformat": 4,
 "nbformat_minor": 5
}
