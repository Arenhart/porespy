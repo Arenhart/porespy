{
 "cells": [
  {
   "cell_type": "markdown",
   "id": "skilled-economy",
   "metadata": {},
   "source": [
    "# `insert_cylinder`"
   ]
  },
  {
   "cell_type": "markdown",
   "id": "considerable-remove",
   "metadata": {},
   "source": [
    "## Import packages"
   ]
  },
  {
   "cell_type": "code",
   "execution_count": 1,
   "id": "distributed-theme",
   "metadata": {
    "execution": {
     "iopub.execute_input": "2022-06-22T19:30:11.532256Z",
     "iopub.status.busy": "2022-06-22T19:30:11.531948Z",
     "iopub.status.idle": "2022-06-22T19:30:13.720810Z",
     "shell.execute_reply": "2022-06-22T19:30:13.719718Z"
    }
   },
   "outputs": [],
   "source": [
    "import numpy as np\n",
    "import porespy as ps\n",
    "import scipy.ndimage as spim\n",
    "import matplotlib.pyplot as plt\n",
    "import skimage\n",
    "\n",
    "ps.visualization.set_mpl_style()"
   ]
  },
  {
   "cell_type": "markdown",
   "id": "critical-lyric",
   "metadata": {},
   "source": [
    "## Generate image for testing"
   ]
  },
  {
   "cell_type": "code",
   "execution_count": 2,
   "id": "published-reform",
   "metadata": {
    "execution": {
     "iopub.execute_input": "2022-06-22T19:30:13.726303Z",
     "iopub.status.busy": "2022-06-22T19:30:13.725415Z",
     "iopub.status.idle": "2022-06-22T19:30:13.868761Z",
     "shell.execute_reply": "2022-06-22T19:30:13.868136Z"
    }
   },
   "outputs": [
    {
     "data": {
      "image/svg+xml": [
       "<?xml version=\"1.0\" encoding=\"utf-8\" standalone=\"no\"?>\n",
       "<!DOCTYPE svg PUBLIC \"-//W3C//DTD SVG 1.1//EN\"\n",
       "  \"http://www.w3.org/Graphics/SVG/1.1/DTD/svg11.dtd\">\n",
       "<svg xmlns:xlink=\"http://www.w3.org/1999/xlink\" width=\"280.8pt\" height=\"280.8pt\" viewBox=\"0 0 280.8 280.8\" xmlns=\"http://www.w3.org/2000/svg\" version=\"1.1\">\n",
       " <metadata>\n",
       "  <rdf:RDF xmlns:dc=\"http://purl.org/dc/elements/1.1/\" xmlns:cc=\"http://creativecommons.org/ns#\" xmlns:rdf=\"http://www.w3.org/1999/02/22-rdf-syntax-ns#\">\n",
       "   <cc:Work>\n",
       "    <dc:type rdf:resource=\"http://purl.org/dc/dcmitype/StillImage\"/>\n",
       "    <dc:date>2022-06-22T19:30:13.857895</dc:date>\n",
       "    <dc:format>image/svg+xml</dc:format>\n",
       "    <dc:creator>\n",
       "     <cc:Agent>\n",
       "      <dc:title>Matplotlib v3.5.2, https://matplotlib.org/</dc:title>\n",
       "     </cc:Agent>\n",
       "    </dc:creator>\n",
       "   </cc:Work>\n",
       "  </rdf:RDF>\n",
       " </metadata>\n",
       " <defs>\n",
       "  <style type=\"text/css\">*{stroke-linejoin: round; stroke-linecap: butt}</style>\n",
       " </defs>\n",
       " <g id=\"figure_1\">\n",
       "  <g id=\"patch_1\">\n",
       "   <path d=\"M 0 280.8 \n",
       "L 280.8 280.8 \n",
       "L 280.8 0 \n",
       "L 0 0 \n",
       "L 0 280.8 \n",
       "z\n",
       "\" style=\"fill: none\"/>\n",
       "  </g>\n",
       "  <g id=\"axes_1\">\n",
       "   <g clip-path=\"url(#pe4c36a6b3b)\">\n",
       "    <image xlink:href=\"data:image/png;base64,\n",
       "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\" id=\"imagef78827f871\" transform=\"matrix(2.67 0 0 2.67 7.2 6.6)\" style=\"image-rendering:crisp-edges;image-rendering:pixelated\" width=\"100\" height=\"100\"/>\n",
       "   </g>\n",
       "  </g>\n",
       " </g>\n",
       " <defs>\n",
       "  <clipPath id=\"pe4c36a6b3b\">\n",
       "   <rect x=\"7.2\" y=\"7.2\" width=\"266.4\" height=\"266.4\"/>\n",
       "  </clipPath>\n",
       " </defs>\n",
       "</svg>\n"
      ],
      "text/plain": [
       "<Figure size 288x288 with 1 Axes>"
      ]
     },
     "metadata": {
      "needs_background": "light"
     },
     "output_type": "display_data"
    }
   ],
   "source": [
    "im = ps.generators.blobs([100, 100, 100])\n",
    "\n",
    "fig, ax = plt.subplots(figsize=[4, 4]);\n",
    "ax.imshow(im[..., 50]);\n",
    "plt.axis(False);"
   ]
  },
  {
   "cell_type": "markdown",
   "id": "broken-insurance",
   "metadata": {},
   "source": [
    "## Demonstrate tool"
   ]
  },
  {
   "cell_type": "code",
   "execution_count": 3,
   "id": "tracked-andrew",
   "metadata": {
    "execution": {
     "iopub.execute_input": "2022-06-22T19:30:13.872395Z",
     "iopub.status.busy": "2022-06-22T19:30:13.871961Z",
     "iopub.status.idle": "2022-06-22T19:30:13.981461Z",
     "shell.execute_reply": "2022-06-22T19:30:13.980808Z"
    }
   },
   "outputs": [
    {
     "data": {
      "image/svg+xml": [
       "<?xml version=\"1.0\" encoding=\"utf-8\" standalone=\"no\"?>\n",
       "<!DOCTYPE svg PUBLIC \"-//W3C//DTD SVG 1.1//EN\"\n",
       "  \"http://www.w3.org/Graphics/SVG/1.1/DTD/svg11.dtd\">\n",
       "<svg xmlns:xlink=\"http://www.w3.org/1999/xlink\" width=\"280.8pt\" height=\"280.8pt\" viewBox=\"0 0 280.8 280.8\" xmlns=\"http://www.w3.org/2000/svg\" version=\"1.1\">\n",
       " <metadata>\n",
       "  <rdf:RDF xmlns:dc=\"http://purl.org/dc/elements/1.1/\" xmlns:cc=\"http://creativecommons.org/ns#\" xmlns:rdf=\"http://www.w3.org/1999/02/22-rdf-syntax-ns#\">\n",
       "   <cc:Work>\n",
       "    <dc:type rdf:resource=\"http://purl.org/dc/dcmitype/StillImage\"/>\n",
       "    <dc:date>2022-06-22T19:30:13.973152</dc:date>\n",
       "    <dc:format>image/svg+xml</dc:format>\n",
       "    <dc:creator>\n",
       "     <cc:Agent>\n",
       "      <dc:title>Matplotlib v3.5.2, https://matplotlib.org/</dc:title>\n",
       "     </cc:Agent>\n",
       "    </dc:creator>\n",
       "   </cc:Work>\n",
       "  </rdf:RDF>\n",
       " </metadata>\n",
       " <defs>\n",
       "  <style type=\"text/css\">*{stroke-linejoin: round; stroke-linecap: butt}</style>\n",
       " </defs>\n",
       " <g id=\"figure_1\">\n",
       "  <g id=\"patch_1\">\n",
       "   <path d=\"M 0 280.8 \n",
       "L 280.8 280.8 \n",
       "L 280.8 0 \n",
       "L 0 0 \n",
       "L 0 280.8 \n",
       "z\n",
       "\" style=\"fill: none\"/>\n",
       "  </g>\n",
       "  <g id=\"axes_1\">\n",
       "   <g clip-path=\"url(#p22777ddd4a)\">\n",
       "    <image xlink:href=\"data:image/png;base64,\n",
       "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\" id=\"image4271a36c7d\" transform=\"matrix(2.67 0 0 2.67 7.2 6.6)\" style=\"image-rendering:crisp-edges;image-rendering:pixelated\" width=\"100\" height=\"100\"/>\n",
       "   </g>\n",
       "  </g>\n",
       " </g>\n",
       " <defs>\n",
       "  <clipPath id=\"p22777ddd4a\">\n",
       "   <rect x=\"7.2\" y=\"7.2\" width=\"266.4\" height=\"266.4\"/>\n",
       "  </clipPath>\n",
       " </defs>\n",
       "</svg>\n"
      ],
      "text/plain": [
       "<Figure size 288x288 with 1 Axes>"
      ]
     },
     "metadata": {
      "needs_background": "light"
     },
     "output_type": "display_data"
    }
   ],
   "source": [
    "im = ps.tools.insert_cylinder(im=im*1.0, xyz0=[20, 20, 20], xyz1=[60, 60, 50], r=20)\n",
    "\n",
    "fig, ax = plt.subplots(figsize=[4, 4]);\n",
    "ax.imshow(ps.visualization.xray(~(im > 1)));\n",
    "plt.axis(False);"
   ]
  },
  {
   "cell_type": "code",
   "execution_count": null,
   "id": "wound-quebec",
   "metadata": {},
   "outputs": [],
   "source": []
  }
 ],
 "metadata": {
  "kernelspec": {
   "display_name": "Python 3 (ipykernel)",
   "language": "python",
   "name": "python3"
  },
  "language_info": {
   "codemirror_mode": {
    "name": "ipython",
    "version": 3
   },
   "file_extension": ".py",
   "mimetype": "text/x-python",
   "name": "python",
   "nbconvert_exporter": "python",
   "pygments_lexer": "ipython3",
   "version": "3.8.13"
  }
 },
 "nbformat": 4,
 "nbformat_minor": 5
}
