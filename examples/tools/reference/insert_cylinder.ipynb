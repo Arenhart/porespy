{
 "cells": [
  {
   "cell_type": "markdown",
   "id": "skilled-economy",
   "metadata": {},
   "source": [
    "# insert_cylinder"
   ]
  },
  {
   "cell_type": "markdown",
   "id": "considerable-remove",
   "metadata": {},
   "source": [
    "## Import packages"
   ]
  },
  {
   "cell_type": "code",
   "execution_count": 1,
   "id": "distributed-theme",
   "metadata": {
    "execution": {
     "iopub.execute_input": "2022-03-29T23:56:45.200383Z",
     "iopub.status.busy": "2022-03-29T23:56:45.200031Z",
     "iopub.status.idle": "2022-03-29T23:56:47.004052Z",
     "shell.execute_reply": "2022-03-29T23:56:47.003432Z"
    }
   },
   "outputs": [],
   "source": [
    "import numpy as np\n",
    "import porespy as ps\n",
    "import scipy.ndimage as spim\n",
    "import matplotlib.pyplot as plt\n",
    "import skimage\n",
    "\n",
    "ps.visualization.set_mpl_style()"
   ]
  },
  {
   "cell_type": "markdown",
   "id": "critical-lyric",
   "metadata": {},
   "source": [
    "## Generate image for testing"
   ]
  },
  {
   "cell_type": "code",
   "execution_count": 2,
   "id": "published-reform",
   "metadata": {
    "execution": {
     "iopub.execute_input": "2022-03-29T23:56:47.007267Z",
     "iopub.status.busy": "2022-03-29T23:56:47.006962Z",
     "iopub.status.idle": "2022-03-29T23:56:47.127462Z",
     "shell.execute_reply": "2022-03-29T23:56:47.127046Z"
    }
   },
   "outputs": [
    {
     "data": {
      "image/svg+xml": [
       "<?xml version=\"1.0\" encoding=\"utf-8\" standalone=\"no\"?>\n",
       "<!DOCTYPE svg PUBLIC \"-//W3C//DTD SVG 1.1//EN\"\n",
       "  \"http://www.w3.org/Graphics/SVG/1.1/DTD/svg11.dtd\">\n",
       "<svg xmlns:xlink=\"http://www.w3.org/1999/xlink\" width=\"276.48pt\" height=\"276.48pt\" viewBox=\"0 0 276.48 276.48\" xmlns=\"http://www.w3.org/2000/svg\" version=\"1.1\">\n",
       " <metadata>\n",
       "  <rdf:RDF xmlns:dc=\"http://purl.org/dc/elements/1.1/\" xmlns:cc=\"http://creativecommons.org/ns#\" xmlns:rdf=\"http://www.w3.org/1999/02/22-rdf-syntax-ns#\">\n",
       "   <cc:Work>\n",
       "    <dc:type rdf:resource=\"http://purl.org/dc/dcmitype/StillImage\"/>\n",
       "    <dc:date>2022-03-29T23:56:47.117831</dc:date>\n",
       "    <dc:format>image/svg+xml</dc:format>\n",
       "    <dc:creator>\n",
       "     <cc:Agent>\n",
       "      <dc:title>Matplotlib v3.5.1, https://matplotlib.org/</dc:title>\n",
       "     </cc:Agent>\n",
       "    </dc:creator>\n",
       "   </cc:Work>\n",
       "  </rdf:RDF>\n",
       " </metadata>\n",
       " <defs>\n",
       "  <style type=\"text/css\">*{stroke-linejoin: round; stroke-linecap: butt}</style>\n",
       " </defs>\n",
       " <g id=\"figure_1\">\n",
       "  <g id=\"patch_1\">\n",
       "   <path d=\"M 0 276.48 \n",
       "L 276.48 276.48 \n",
       "L 276.48 0 \n",
       "L 0 0 \n",
       "L 0 276.48 \n",
       "z\n",
       "\" style=\"fill: none\"/>\n",
       "  </g>\n",
       "  <g id=\"axes_1\">\n",
       "   <g clip-path=\"url(#p2d0bddf2eb)\">\n",
       "    <image xlink:href=\"data:image/png;base64,\n",
       "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\" id=\"image114575d0a1\" transform=\"matrix(2.63 0 0 2.63 7.2 6.28)\" style=\"image-rendering:crisp-edges;image-rendering:pixelated\" width=\"100\" height=\"100\"/>\n",
       "   </g>\n",
       "  </g>\n",
       " </g>\n",
       " <defs>\n",
       "  <clipPath id=\"p2d0bddf2eb\">\n",
       "   <rect x=\"7.2\" y=\"7.2\" width=\"262.08\" height=\"262.08\"/>\n",
       "  </clipPath>\n",
       " </defs>\n",
       "</svg>\n"
      ],
      "text/plain": [
       "<Figure size 288x288 with 1 Axes>"
      ]
     },
     "metadata": {
      "needs_background": "light"
     },
     "output_type": "display_data"
    }
   ],
   "source": [
    "im = ps.generators.blobs([100, 100, 100])\n",
    "\n",
    "fig, ax = plt.subplots(figsize=[4, 4]);\n",
    "ax.imshow(im[..., 50]);\n",
    "plt.axis(False);"
   ]
  },
  {
   "cell_type": "markdown",
   "id": "broken-insurance",
   "metadata": {},
   "source": [
    "## Demonstrate tool"
   ]
  },
  {
   "cell_type": "code",
   "execution_count": 3,
   "id": "tracked-andrew",
   "metadata": {
    "execution": {
     "iopub.execute_input": "2022-03-29T23:56:47.129936Z",
     "iopub.status.busy": "2022-03-29T23:56:47.129646Z",
     "iopub.status.idle": "2022-03-29T23:56:47.220393Z",
     "shell.execute_reply": "2022-03-29T23:56:47.219969Z"
    }
   },
   "outputs": [
    {
     "data": {
      "image/svg+xml": [
       "<?xml version=\"1.0\" encoding=\"utf-8\" standalone=\"no\"?>\n",
       "<!DOCTYPE svg PUBLIC \"-//W3C//DTD SVG 1.1//EN\"\n",
       "  \"http://www.w3.org/Graphics/SVG/1.1/DTD/svg11.dtd\">\n",
       "<svg xmlns:xlink=\"http://www.w3.org/1999/xlink\" width=\"276.48pt\" height=\"276.48pt\" viewBox=\"0 0 276.48 276.48\" xmlns=\"http://www.w3.org/2000/svg\" version=\"1.1\">\n",
       " <metadata>\n",
       "  <rdf:RDF xmlns:dc=\"http://purl.org/dc/elements/1.1/\" xmlns:cc=\"http://creativecommons.org/ns#\" xmlns:rdf=\"http://www.w3.org/1999/02/22-rdf-syntax-ns#\">\n",
       "   <cc:Work>\n",
       "    <dc:type rdf:resource=\"http://purl.org/dc/dcmitype/StillImage\"/>\n",
       "    <dc:date>2022-03-29T23:56:47.211881</dc:date>\n",
       "    <dc:format>image/svg+xml</dc:format>\n",
       "    <dc:creator>\n",
       "     <cc:Agent>\n",
       "      <dc:title>Matplotlib v3.5.1, https://matplotlib.org/</dc:title>\n",
       "     </cc:Agent>\n",
       "    </dc:creator>\n",
       "   </cc:Work>\n",
       "  </rdf:RDF>\n",
       " </metadata>\n",
       " <defs>\n",
       "  <style type=\"text/css\">*{stroke-linejoin: round; stroke-linecap: butt}</style>\n",
       " </defs>\n",
       " <g id=\"figure_1\">\n",
       "  <g id=\"patch_1\">\n",
       "   <path d=\"M 0 276.48 \n",
       "L 276.48 276.48 \n",
       "L 276.48 0 \n",
       "L 0 0 \n",
       "L 0 276.48 \n",
       "z\n",
       "\" style=\"fill: none\"/>\n",
       "  </g>\n",
       "  <g id=\"axes_1\">\n",
       "   <g clip-path=\"url(#p9ef15c6d26)\">\n",
       "    <image xlink:href=\"data:image/png;base64,\n",
       "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\" id=\"imagee40fcf775a\" transform=\"matrix(2.63 0 0 2.63 7.2 6.28)\" style=\"image-rendering:crisp-edges;image-rendering:pixelated\" width=\"100\" height=\"100\"/>\n",
       "   </g>\n",
       "  </g>\n",
       " </g>\n",
       " <defs>\n",
       "  <clipPath id=\"p9ef15c6d26\">\n",
       "   <rect x=\"7.2\" y=\"7.2\" width=\"262.08\" height=\"262.08\"/>\n",
       "  </clipPath>\n",
       " </defs>\n",
       "</svg>\n"
      ],
      "text/plain": [
       "<Figure size 288x288 with 1 Axes>"
      ]
     },
     "metadata": {
      "needs_background": "light"
     },
     "output_type": "display_data"
    }
   ],
   "source": [
    "im = ps.tools.insert_cylinder(im=im*1.0, xyz0=[20, 20, 20], xyz1=[60, 60, 50], r=20)\n",
    "\n",
    "fig, ax = plt.subplots(figsize=[4, 4]);\n",
    "ax.imshow(ps.visualization.xray(~(im > 1)));\n",
    "plt.axis(False);"
   ]
  },
  {
   "cell_type": "code",
   "execution_count": null,
   "id": "wound-quebec",
   "metadata": {},
   "outputs": [],
   "source": []
  }
 ],
 "metadata": {
  "kernelspec": {
   "display_name": "Python 3",
   "language": "python",
   "name": "python3"
  },
  "language_info": {
   "codemirror_mode": {
    "name": "ipython",
    "version": 3
   },
   "file_extension": ".py",
   "mimetype": "text/x-python",
   "name": "python",
   "nbconvert_exporter": "python",
   "pygments_lexer": "ipython3",
   "version": "3.8.13"
  }
 },
 "nbformat": 4,
 "nbformat_minor": 5
}
