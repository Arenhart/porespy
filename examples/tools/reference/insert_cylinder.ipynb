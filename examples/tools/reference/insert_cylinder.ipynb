{
 "cells": [
  {
   "cell_type": "markdown",
   "id": "skilled-economy",
   "metadata": {},
   "source": [
    "# insert_cylinder"
   ]
  },
  {
   "cell_type": "markdown",
   "id": "considerable-remove",
   "metadata": {},
   "source": [
    "## Import packages"
   ]
  },
  {
   "cell_type": "code",
   "execution_count": 1,
   "id": "distributed-theme",
   "metadata": {
    "execution": {
     "iopub.execute_input": "2022-03-30T13:48:20.222322Z",
     "iopub.status.busy": "2022-03-30T13:48:20.222089Z",
     "iopub.status.idle": "2022-03-30T13:48:22.360271Z",
     "shell.execute_reply": "2022-03-30T13:48:22.359282Z"
    }
   },
   "outputs": [],
   "source": [
    "import numpy as np\n",
    "import porespy as ps\n",
    "import scipy.ndimage as spim\n",
    "import matplotlib.pyplot as plt\n",
    "import skimage\n",
    "\n",
    "ps.visualization.set_mpl_style()"
   ]
  },
  {
   "cell_type": "markdown",
   "id": "critical-lyric",
   "metadata": {},
   "source": [
    "## Generate image for testing"
   ]
  },
  {
   "cell_type": "code",
   "execution_count": 2,
   "id": "published-reform",
   "metadata": {
    "execution": {
     "iopub.execute_input": "2022-03-30T13:48:22.364033Z",
     "iopub.status.busy": "2022-03-30T13:48:22.363661Z",
     "iopub.status.idle": "2022-03-30T13:48:22.505145Z",
     "shell.execute_reply": "2022-03-30T13:48:22.504639Z"
    }
   },
   "outputs": [
    {
     "data": {
      "image/svg+xml": [
       "<?xml version=\"1.0\" encoding=\"utf-8\" standalone=\"no\"?>\n",
       "<!DOCTYPE svg PUBLIC \"-//W3C//DTD SVG 1.1//EN\"\n",
       "  \"http://www.w3.org/Graphics/SVG/1.1/DTD/svg11.dtd\">\n",
       "<svg xmlns:xlink=\"http://www.w3.org/1999/xlink\" width=\"276.48pt\" height=\"276.48pt\" viewBox=\"0 0 276.48 276.48\" xmlns=\"http://www.w3.org/2000/svg\" version=\"1.1\">\n",
       " <metadata>\n",
       "  <rdf:RDF xmlns:dc=\"http://purl.org/dc/elements/1.1/\" xmlns:cc=\"http://creativecommons.org/ns#\" xmlns:rdf=\"http://www.w3.org/1999/02/22-rdf-syntax-ns#\">\n",
       "   <cc:Work>\n",
       "    <dc:type rdf:resource=\"http://purl.org/dc/dcmitype/StillImage\"/>\n",
       "    <dc:date>2022-03-30T13:48:22.493929</dc:date>\n",
       "    <dc:format>image/svg+xml</dc:format>\n",
       "    <dc:creator>\n",
       "     <cc:Agent>\n",
       "      <dc:title>Matplotlib v3.5.1, https://matplotlib.org/</dc:title>\n",
       "     </cc:Agent>\n",
       "    </dc:creator>\n",
       "   </cc:Work>\n",
       "  </rdf:RDF>\n",
       " </metadata>\n",
       " <defs>\n",
       "  <style type=\"text/css\">*{stroke-linejoin: round; stroke-linecap: butt}</style>\n",
       " </defs>\n",
       " <g id=\"figure_1\">\n",
       "  <g id=\"patch_1\">\n",
       "   <path d=\"M 0 276.48 \n",
       "L 276.48 276.48 \n",
       "L 276.48 0 \n",
       "L 0 0 \n",
       "L 0 276.48 \n",
       "z\n",
       "\" style=\"fill: none\"/>\n",
       "  </g>\n",
       "  <g id=\"axes_1\">\n",
       "   <g clip-path=\"url(#pbc89c7dfb2)\">\n",
       "    <image xlink:href=\"data:image/png;base64,\n",
       "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\" id=\"image3559deba91\" transform=\"matrix(2.63 0 0 2.63 7.2 6.28)\" style=\"image-rendering:crisp-edges;image-rendering:pixelated\" width=\"100\" height=\"100\"/>\n",
       "   </g>\n",
       "  </g>\n",
       " </g>\n",
       " <defs>\n",
       "  <clipPath id=\"pbc89c7dfb2\">\n",
       "   <rect x=\"7.2\" y=\"7.2\" width=\"262.08\" height=\"262.08\"/>\n",
       "  </clipPath>\n",
       " </defs>\n",
       "</svg>\n"
      ],
      "text/plain": [
       "<Figure size 288x288 with 1 Axes>"
      ]
     },
     "metadata": {
      "needs_background": "light"
     },
     "output_type": "display_data"
    }
   ],
   "source": [
    "im = ps.generators.blobs([100, 100, 100])\n",
    "\n",
    "fig, ax = plt.subplots(figsize=[4, 4]);\n",
    "ax.imshow(im[..., 50]);\n",
    "plt.axis(False);"
   ]
  },
  {
   "cell_type": "markdown",
   "id": "broken-insurance",
   "metadata": {},
   "source": [
    "## Demonstrate tool"
   ]
  },
  {
   "cell_type": "code",
   "execution_count": 3,
   "id": "tracked-andrew",
   "metadata": {
    "execution": {
     "iopub.execute_input": "2022-03-30T13:48:22.508114Z",
     "iopub.status.busy": "2022-03-30T13:48:22.507737Z",
     "iopub.status.idle": "2022-03-30T13:48:22.615230Z",
     "shell.execute_reply": "2022-03-30T13:48:22.614759Z"
    }
   },
   "outputs": [
    {
     "data": {
      "image/svg+xml": [
       "<?xml version=\"1.0\" encoding=\"utf-8\" standalone=\"no\"?>\n",
       "<!DOCTYPE svg PUBLIC \"-//W3C//DTD SVG 1.1//EN\"\n",
       "  \"http://www.w3.org/Graphics/SVG/1.1/DTD/svg11.dtd\">\n",
       "<svg xmlns:xlink=\"http://www.w3.org/1999/xlink\" width=\"276.48pt\" height=\"276.48pt\" viewBox=\"0 0 276.48 276.48\" xmlns=\"http://www.w3.org/2000/svg\" version=\"1.1\">\n",
       " <metadata>\n",
       "  <rdf:RDF xmlns:dc=\"http://purl.org/dc/elements/1.1/\" xmlns:cc=\"http://creativecommons.org/ns#\" xmlns:rdf=\"http://www.w3.org/1999/02/22-rdf-syntax-ns#\">\n",
       "   <cc:Work>\n",
       "    <dc:type rdf:resource=\"http://purl.org/dc/dcmitype/StillImage\"/>\n",
       "    <dc:date>2022-03-30T13:48:22.605637</dc:date>\n",
       "    <dc:format>image/svg+xml</dc:format>\n",
       "    <dc:creator>\n",
       "     <cc:Agent>\n",
       "      <dc:title>Matplotlib v3.5.1, https://matplotlib.org/</dc:title>\n",
       "     </cc:Agent>\n",
       "    </dc:creator>\n",
       "   </cc:Work>\n",
       "  </rdf:RDF>\n",
       " </metadata>\n",
       " <defs>\n",
       "  <style type=\"text/css\">*{stroke-linejoin: round; stroke-linecap: butt}</style>\n",
       " </defs>\n",
       " <g id=\"figure_1\">\n",
       "  <g id=\"patch_1\">\n",
       "   <path d=\"M 0 276.48 \n",
       "L 276.48 276.48 \n",
       "L 276.48 0 \n",
       "L 0 0 \n",
       "L 0 276.48 \n",
       "z\n",
       "\" style=\"fill: none\"/>\n",
       "  </g>\n",
       "  <g id=\"axes_1\">\n",
       "   <g clip-path=\"url(#pb289b62da3)\">\n",
       "    <image xlink:href=\"data:image/png;base64,\n",
       "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\" id=\"imageb622430632\" transform=\"matrix(2.63 0 0 2.63 7.2 6.28)\" style=\"image-rendering:crisp-edges;image-rendering:pixelated\" width=\"100\" height=\"100\"/>\n",
       "   </g>\n",
       "  </g>\n",
       " </g>\n",
       " <defs>\n",
       "  <clipPath id=\"pb289b62da3\">\n",
       "   <rect x=\"7.2\" y=\"7.2\" width=\"262.08\" height=\"262.08\"/>\n",
       "  </clipPath>\n",
       " </defs>\n",
       "</svg>\n"
      ],
      "text/plain": [
       "<Figure size 288x288 with 1 Axes>"
      ]
     },
     "metadata": {
      "needs_background": "light"
     },
     "output_type": "display_data"
    }
   ],
   "source": [
    "im = ps.tools.insert_cylinder(im=im*1.0, xyz0=[20, 20, 20], xyz1=[60, 60, 50], r=20)\n",
    "\n",
    "fig, ax = plt.subplots(figsize=[4, 4]);\n",
    "ax.imshow(ps.visualization.xray(~(im > 1)));\n",
    "plt.axis(False);"
   ]
  },
  {
   "cell_type": "code",
   "execution_count": null,
   "id": "wound-quebec",
   "metadata": {},
   "outputs": [],
   "source": []
  }
 ],
 "metadata": {
  "kernelspec": {
   "display_name": "Python 3",
   "language": "python",
   "name": "python3"
  },
  "language_info": {
   "codemirror_mode": {
    "name": "ipython",
    "version": 3
   },
   "file_extension": ".py",
   "mimetype": "text/x-python",
   "name": "python",
   "nbconvert_exporter": "python",
   "pygments_lexer": "ipython3",
   "version": "3.8.13"
  }
 },
 "nbformat": 4,
 "nbformat_minor": 5
}
