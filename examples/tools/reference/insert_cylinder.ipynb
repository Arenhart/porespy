{
 "cells": [
  {
   "cell_type": "markdown",
   "id": "skilled-economy",
   "metadata": {},
   "source": [
    "# insert_cylinder"
   ]
  },
  {
   "cell_type": "markdown",
   "id": "considerable-remove",
   "metadata": {},
   "source": [
    "## Import packages"
   ]
  },
  {
   "cell_type": "code",
   "execution_count": 1,
   "id": "distributed-theme",
   "metadata": {
    "execution": {
     "iopub.execute_input": "2022-04-01T17:08:09.111556Z",
     "iopub.status.busy": "2022-04-01T17:08:09.111310Z",
     "iopub.status.idle": "2022-04-01T17:08:11.367852Z",
     "shell.execute_reply": "2022-04-01T17:08:11.367115Z"
    }
   },
   "outputs": [],
   "source": [
    "import numpy as np\n",
    "import porespy as ps\n",
    "import scipy.ndimage as spim\n",
    "import matplotlib.pyplot as plt\n",
    "import skimage\n",
    "\n",
    "ps.visualization.set_mpl_style()"
   ]
  },
  {
   "cell_type": "markdown",
   "id": "critical-lyric",
   "metadata": {},
   "source": [
    "## Generate image for testing"
   ]
  },
  {
   "cell_type": "code",
   "execution_count": 2,
   "id": "published-reform",
   "metadata": {
    "execution": {
     "iopub.execute_input": "2022-04-01T17:08:11.372351Z",
     "iopub.status.busy": "2022-04-01T17:08:11.371878Z",
     "iopub.status.idle": "2022-04-01T17:08:11.524771Z",
     "shell.execute_reply": "2022-04-01T17:08:11.524310Z"
    }
   },
   "outputs": [
    {
     "data": {
      "image/svg+xml": [
       "<?xml version=\"1.0\" encoding=\"utf-8\" standalone=\"no\"?>\n",
       "<!DOCTYPE svg PUBLIC \"-//W3C//DTD SVG 1.1//EN\"\n",
       "  \"http://www.w3.org/Graphics/SVG/1.1/DTD/svg11.dtd\">\n",
       "<svg xmlns:xlink=\"http://www.w3.org/1999/xlink\" width=\"276.48pt\" height=\"276.48pt\" viewBox=\"0 0 276.48 276.48\" xmlns=\"http://www.w3.org/2000/svg\" version=\"1.1\">\n",
       " <metadata>\n",
       "  <rdf:RDF xmlns:dc=\"http://purl.org/dc/elements/1.1/\" xmlns:cc=\"http://creativecommons.org/ns#\" xmlns:rdf=\"http://www.w3.org/1999/02/22-rdf-syntax-ns#\">\n",
       "   <cc:Work>\n",
       "    <dc:type rdf:resource=\"http://purl.org/dc/dcmitype/StillImage\"/>\n",
       "    <dc:date>2022-04-01T17:08:11.513520</dc:date>\n",
       "    <dc:format>image/svg+xml</dc:format>\n",
       "    <dc:creator>\n",
       "     <cc:Agent>\n",
       "      <dc:title>Matplotlib v3.5.1, https://matplotlib.org/</dc:title>\n",
       "     </cc:Agent>\n",
       "    </dc:creator>\n",
       "   </cc:Work>\n",
       "  </rdf:RDF>\n",
       " </metadata>\n",
       " <defs>\n",
       "  <style type=\"text/css\">*{stroke-linejoin: round; stroke-linecap: butt}</style>\n",
       " </defs>\n",
       " <g id=\"figure_1\">\n",
       "  <g id=\"patch_1\">\n",
       "   <path d=\"M 0 276.48 \n",
       "L 276.48 276.48 \n",
       "L 276.48 0 \n",
       "L 0 0 \n",
       "L 0 276.48 \n",
       "z\n",
       "\" style=\"fill: none\"/>\n",
       "  </g>\n",
       "  <g id=\"axes_1\">\n",
       "   <g clip-path=\"url(#p1be84ecbca)\">\n",
       "    <image xlink:href=\"data:image/png;base64,\n",
       "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\" id=\"imageed0316d637\" transform=\"matrix(2.63 0 0 2.63 7.2 6.28)\" style=\"image-rendering:crisp-edges;image-rendering:pixelated\" width=\"100\" height=\"100\"/>\n",
       "   </g>\n",
       "  </g>\n",
       " </g>\n",
       " <defs>\n",
       "  <clipPath id=\"p1be84ecbca\">\n",
       "   <rect x=\"7.2\" y=\"7.2\" width=\"262.08\" height=\"262.08\"/>\n",
       "  </clipPath>\n",
       " </defs>\n",
       "</svg>\n"
      ],
      "text/plain": [
       "<Figure size 288x288 with 1 Axes>"
      ]
     },
     "metadata": {
      "needs_background": "light"
     },
     "output_type": "display_data"
    }
   ],
   "source": [
    "im = ps.generators.blobs([100, 100, 100])\n",
    "\n",
    "fig, ax = plt.subplots(figsize=[4, 4]);\n",
    "ax.imshow(im[..., 50]);\n",
    "plt.axis(False);"
   ]
  },
  {
   "cell_type": "markdown",
   "id": "broken-insurance",
   "metadata": {},
   "source": [
    "## Demonstrate tool"
   ]
  },
  {
   "cell_type": "code",
   "execution_count": 3,
   "id": "tracked-andrew",
   "metadata": {
    "execution": {
     "iopub.execute_input": "2022-04-01T17:08:11.527746Z",
     "iopub.status.busy": "2022-04-01T17:08:11.527359Z",
     "iopub.status.idle": "2022-04-01T17:08:11.633249Z",
     "shell.execute_reply": "2022-04-01T17:08:11.632584Z"
    }
   },
   "outputs": [
    {
     "data": {
      "image/svg+xml": [
       "<?xml version=\"1.0\" encoding=\"utf-8\" standalone=\"no\"?>\n",
       "<!DOCTYPE svg PUBLIC \"-//W3C//DTD SVG 1.1//EN\"\n",
       "  \"http://www.w3.org/Graphics/SVG/1.1/DTD/svg11.dtd\">\n",
       "<svg xmlns:xlink=\"http://www.w3.org/1999/xlink\" width=\"276.48pt\" height=\"276.48pt\" viewBox=\"0 0 276.48 276.48\" xmlns=\"http://www.w3.org/2000/svg\" version=\"1.1\">\n",
       " <metadata>\n",
       "  <rdf:RDF xmlns:dc=\"http://purl.org/dc/elements/1.1/\" xmlns:cc=\"http://creativecommons.org/ns#\" xmlns:rdf=\"http://www.w3.org/1999/02/22-rdf-syntax-ns#\">\n",
       "   <cc:Work>\n",
       "    <dc:type rdf:resource=\"http://purl.org/dc/dcmitype/StillImage\"/>\n",
       "    <dc:date>2022-04-01T17:08:11.625481</dc:date>\n",
       "    <dc:format>image/svg+xml</dc:format>\n",
       "    <dc:creator>\n",
       "     <cc:Agent>\n",
       "      <dc:title>Matplotlib v3.5.1, https://matplotlib.org/</dc:title>\n",
       "     </cc:Agent>\n",
       "    </dc:creator>\n",
       "   </cc:Work>\n",
       "  </rdf:RDF>\n",
       " </metadata>\n",
       " <defs>\n",
       "  <style type=\"text/css\">*{stroke-linejoin: round; stroke-linecap: butt}</style>\n",
       " </defs>\n",
       " <g id=\"figure_1\">\n",
       "  <g id=\"patch_1\">\n",
       "   <path d=\"M 0 276.48 \n",
       "L 276.48 276.48 \n",
       "L 276.48 0 \n",
       "L 0 0 \n",
       "L 0 276.48 \n",
       "z\n",
       "\" style=\"fill: none\"/>\n",
       "  </g>\n",
       "  <g id=\"axes_1\">\n",
       "   <g clip-path=\"url(#p84f8ac422b)\">\n",
       "    <image xlink:href=\"data:image/png;base64,\n",
       "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\" id=\"imagea303724308\" transform=\"matrix(2.63 0 0 2.63 7.2 6.28)\" style=\"image-rendering:crisp-edges;image-rendering:pixelated\" width=\"100\" height=\"100\"/>\n",
       "   </g>\n",
       "  </g>\n",
       " </g>\n",
       " <defs>\n",
       "  <clipPath id=\"p84f8ac422b\">\n",
       "   <rect x=\"7.2\" y=\"7.2\" width=\"262.08\" height=\"262.08\"/>\n",
       "  </clipPath>\n",
       " </defs>\n",
       "</svg>\n"
      ],
      "text/plain": [
       "<Figure size 288x288 with 1 Axes>"
      ]
     },
     "metadata": {
      "needs_background": "light"
     },
     "output_type": "display_data"
    }
   ],
   "source": [
    "im = ps.tools.insert_cylinder(im=im*1.0, xyz0=[20, 20, 20], xyz1=[60, 60, 50], r=20)\n",
    "\n",
    "fig, ax = plt.subplots(figsize=[4, 4]);\n",
    "ax.imshow(ps.visualization.xray(~(im > 1)));\n",
    "plt.axis(False);"
   ]
  },
  {
   "cell_type": "code",
   "execution_count": null,
   "id": "wound-quebec",
   "metadata": {},
   "outputs": [],
   "source": []
  }
 ],
 "metadata": {
  "kernelspec": {
   "display_name": "Python 3",
   "language": "python",
   "name": "python3"
  },
  "language_info": {
   "codemirror_mode": {
    "name": "ipython",
    "version": 3
   },
   "file_extension": ".py",
   "mimetype": "text/x-python",
   "name": "python",
   "nbconvert_exporter": "python",
   "pygments_lexer": "ipython3",
   "version": "3.8.13"
  }
 },
 "nbformat": 4,
 "nbformat_minor": 5
}
