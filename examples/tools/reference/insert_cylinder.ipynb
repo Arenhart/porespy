{
 "cells": [
  {
   "cell_type": "markdown",
   "id": "skilled-economy",
   "metadata": {},
   "source": [
    "# `insert_cylinder`"
   ]
  },
  {
   "cell_type": "markdown",
   "id": "considerable-remove",
   "metadata": {},
   "source": [
    "## Import packages"
   ]
  },
  {
   "cell_type": "code",
   "execution_count": 1,
   "id": "distributed-theme",
   "metadata": {
    "execution": {
     "iopub.execute_input": "2022-05-25T17:22:51.907084Z",
     "iopub.status.busy": "2022-05-25T17:22:51.906782Z",
     "iopub.status.idle": "2022-05-25T17:22:53.737187Z",
     "shell.execute_reply": "2022-05-25T17:22:53.735932Z"
    }
   },
   "outputs": [],
   "source": [
    "import numpy as np\n",
    "import porespy as ps\n",
    "import scipy.ndimage as spim\n",
    "import matplotlib.pyplot as plt\n",
    "import skimage\n",
    "\n",
    "ps.visualization.set_mpl_style()"
   ]
  },
  {
   "cell_type": "markdown",
   "id": "critical-lyric",
   "metadata": {},
   "source": [
    "## Generate image for testing"
   ]
  },
  {
   "cell_type": "code",
   "execution_count": 2,
   "id": "published-reform",
   "metadata": {
    "execution": {
     "iopub.execute_input": "2022-05-25T17:22:53.741506Z",
     "iopub.status.busy": "2022-05-25T17:22:53.740927Z",
     "iopub.status.idle": "2022-05-25T17:22:53.863466Z",
     "shell.execute_reply": "2022-05-25T17:22:53.862885Z"
    }
   },
   "outputs": [
    {
     "data": {
      "image/svg+xml": [
       "<?xml version=\"1.0\" encoding=\"utf-8\" standalone=\"no\"?>\n",
       "<!DOCTYPE svg PUBLIC \"-//W3C//DTD SVG 1.1//EN\"\n",
       "  \"http://www.w3.org/Graphics/SVG/1.1/DTD/svg11.dtd\">\n",
       "<svg xmlns:xlink=\"http://www.w3.org/1999/xlink\" width=\"280.8pt\" height=\"280.8pt\" viewBox=\"0 0 280.8 280.8\" xmlns=\"http://www.w3.org/2000/svg\" version=\"1.1\">\n",
       " <metadata>\n",
       "  <rdf:RDF xmlns:dc=\"http://purl.org/dc/elements/1.1/\" xmlns:cc=\"http://creativecommons.org/ns#\" xmlns:rdf=\"http://www.w3.org/1999/02/22-rdf-syntax-ns#\">\n",
       "   <cc:Work>\n",
       "    <dc:type rdf:resource=\"http://purl.org/dc/dcmitype/StillImage\"/>\n",
       "    <dc:date>2022-05-25T17:22:53.852294</dc:date>\n",
       "    <dc:format>image/svg+xml</dc:format>\n",
       "    <dc:creator>\n",
       "     <cc:Agent>\n",
       "      <dc:title>Matplotlib v3.5.2, https://matplotlib.org/</dc:title>\n",
       "     </cc:Agent>\n",
       "    </dc:creator>\n",
       "   </cc:Work>\n",
       "  </rdf:RDF>\n",
       " </metadata>\n",
       " <defs>\n",
       "  <style type=\"text/css\">*{stroke-linejoin: round; stroke-linecap: butt}</style>\n",
       " </defs>\n",
       " <g id=\"figure_1\">\n",
       "  <g id=\"patch_1\">\n",
       "   <path d=\"M 0 280.8 \n",
       "L 280.8 280.8 \n",
       "L 280.8 0 \n",
       "L 0 0 \n",
       "L 0 280.8 \n",
       "z\n",
       "\" style=\"fill: none\"/>\n",
       "  </g>\n",
       "  <g id=\"axes_1\">\n",
       "   <g clip-path=\"url(#pd638e982fa)\">\n",
       "    <image xlink:href=\"data:image/png;base64,\n",
       "iVBORw0KGgoAAAANSUhEUgAAAGQAAABkCAYAAABw4pVUAAAFjklEQVR4nO1d23HcMAzk3biKfKeAFOGZNOBmr4ur4lJFxvmSLdN8AOAuAOmynz6JBAGCeFK+/P3z873s8PvHr4LA7XFXv4OaOzNmfLmyJn4G5jJAE4gFFq06EiTru+yPLMau7hFRz1U/xzg6o7RWs9FeeGR8wsKI2+O+zMCaESyhS+eXAC6QFhEI5jLA1B6rUwO1ISMiLASu2BTtuxns1+1xxwlEsqAMix4BSZ9V41J5WS3cHvewmCZiA30RSPYdrIVWKPvnN15sG8K6MbT4piFnFMpMMJJnNrD5c6lTJ3usEqnZobOFRnhpHuuq8dJSUwQyurlatHjD1qRhHCKJH852xPUgEQSCFy6R+tmB3JRLAmkRYk2TSJ7pje2dEmnNicJQIBIGRNqKHlPYqRrmMf0hEOkkaGFoFrfKCIQmsW3m1WOSHljzthjdS3p6bggJrqW0F3AGt/WI+DiyvAXgqR3b37O56C1a1V6Wl+BYAetongxIme1lMWk/riZ/VYqfnQ0TSM9uocu20rml2GhkbZoUgeHoHWulcWRLNOOM3mXYJZOGjNxFDYHMnYaOWXpA00/JZWVparBqMMNeSPlBsyGICls2N9UKzeakZ3vrVEtEIrCmB23nrO+1NpxJQ6zE9dIX0mc9gGyosDgrZg1hBm5sYWhti2QDbtq/aqMgR5ZXVM0Eon4urdeMALchWt+cbUNmTd1MpOjtLUUuFHQiEC3cCNc97MLO6u+rz7PHo3SdRCNTylyj8Ss0qwSi7U3yYii7VclS3rbi8np563YujiZCpCBQTWcI7yYLvmgIagEZGJGBBgs+jDrigguraeCZuifh9ZAo7KPkTHRp4ZrLagFZd/C6w8GESkPqmvQRFh8ZqVsg0hBmZa8U35agDIWzEVJ2nbSQ7e4Kq9khtJV0gzS97T1n7z2mlg2vtLWI2QMlSO0CkdffEGOF3Q+J1qQNLfeWsWsj7I1KQ0awak+0kUUUpkbjaHFld+LNsLKQM8QdNb4cWSuxxSpj62NI0yCgzUJnxjcbEhXweaa4GWNZ0OpFOEwcUsqcgcgjLOpmVVMg0arvVT5dmWcTvluzdZShR82JYFTNcJYQSvlc9/TIivTAVqApM8/AEEJvXrEN8RAMuhMFNa9mHMkaRs+k7jppIWM6vXWRRwuzl5UtDR95nKJOjf26Xd1e5pHjLRjWfG4C2RbAZNwZmr5DPqQ8ygYgr8MxhYK68FpDrSFRNZBnAf3Iml2Eaf0ekeBEoJX01MYw1CPLSwuiBbHH7IrezG0X9fZKJqyBKPB4lk+ztDWZPj4zIjybbZB4XrUHGCmYQ6XfNWjZJ2m8Ermp4ALxLiAdsRluhJfoi/wI7I/RI9K/R7PrRFPP7sG7N0oDySZk1jxGczSNeh0ts4xclto9MjvQg3R8WF+WhoCIrK5Gsz20Y0M9l7uXlUUrssJVIEdhDOP46h2VNWhHVinYQGu1Q8QyR8QGurxe3t6fYedq3fsonnzksp5BKFL8T50cCOxycarv9kqQRZMPUVOXXG3Y/27dbZFCYc8Nu2O4kkUd/T1jbop5L+VbcrGHyNRChjqFF8T31DPgDG0+M4iarbVgMmt/jJ1RKJD/9FnDq8TL6o3qje2Bbk09yzGlBSqVLs3O9t6xCjTlDSopLExjAdEBX8pJmq09oVmDZb2HT51kF7KWPreuE6+udwnQgR1ybU2BeN2nY80hLR97fAlCOz60t5fphjKh1Wpp25FF2N0jK7rKtwKPjwfM8mxaGrbxXs4a9bbiEcsaZ3HNKt/qsa+9H1YH99aOWRMBY8MxxpyWcI9gAzZoGKSNqlkNEE0NGQ2e6ShDeUVZNlmLjmsmhksx0mZLUQtxuUiLlsbdHndZYJhBaK37eyNk0YIN+80yOv7+AXpzslyUFcbdAAAAAElFTkSuQmCC\" id=\"image6d52dbb556\" transform=\"matrix(2.67 0 0 2.67 7.2 6.6)\" style=\"image-rendering:crisp-edges;image-rendering:pixelated\" width=\"100\" height=\"100\"/>\n",
       "   </g>\n",
       "  </g>\n",
       " </g>\n",
       " <defs>\n",
       "  <clipPath id=\"pd638e982fa\">\n",
       "   <rect x=\"7.2\" y=\"7.2\" width=\"266.4\" height=\"266.4\"/>\n",
       "  </clipPath>\n",
       " </defs>\n",
       "</svg>\n"
      ],
      "text/plain": [
       "<Figure size 288x288 with 1 Axes>"
      ]
     },
     "metadata": {
      "needs_background": "light"
     },
     "output_type": "display_data"
    }
   ],
   "source": [
    "im = ps.generators.blobs([100, 100, 100])\n",
    "\n",
    "fig, ax = plt.subplots(figsize=[4, 4]);\n",
    "ax.imshow(im[..., 50]);\n",
    "plt.axis(False);"
   ]
  },
  {
   "cell_type": "markdown",
   "id": "broken-insurance",
   "metadata": {},
   "source": [
    "## Demonstrate tool"
   ]
  },
  {
   "cell_type": "code",
   "execution_count": 3,
   "id": "tracked-andrew",
   "metadata": {
    "execution": {
     "iopub.execute_input": "2022-05-25T17:22:53.866864Z",
     "iopub.status.busy": "2022-05-25T17:22:53.866540Z",
     "iopub.status.idle": "2022-05-25T17:22:53.957573Z",
     "shell.execute_reply": "2022-05-25T17:22:53.957000Z"
    }
   },
   "outputs": [
    {
     "data": {
      "image/svg+xml": [
       "<?xml version=\"1.0\" encoding=\"utf-8\" standalone=\"no\"?>\n",
       "<!DOCTYPE svg PUBLIC \"-//W3C//DTD SVG 1.1//EN\"\n",
       "  \"http://www.w3.org/Graphics/SVG/1.1/DTD/svg11.dtd\">\n",
       "<svg xmlns:xlink=\"http://www.w3.org/1999/xlink\" width=\"280.8pt\" height=\"280.8pt\" viewBox=\"0 0 280.8 280.8\" xmlns=\"http://www.w3.org/2000/svg\" version=\"1.1\">\n",
       " <metadata>\n",
       "  <rdf:RDF xmlns:dc=\"http://purl.org/dc/elements/1.1/\" xmlns:cc=\"http://creativecommons.org/ns#\" xmlns:rdf=\"http://www.w3.org/1999/02/22-rdf-syntax-ns#\">\n",
       "   <cc:Work>\n",
       "    <dc:type rdf:resource=\"http://purl.org/dc/dcmitype/StillImage\"/>\n",
       "    <dc:date>2022-05-25T17:22:53.949546</dc:date>\n",
       "    <dc:format>image/svg+xml</dc:format>\n",
       "    <dc:creator>\n",
       "     <cc:Agent>\n",
       "      <dc:title>Matplotlib v3.5.2, https://matplotlib.org/</dc:title>\n",
       "     </cc:Agent>\n",
       "    </dc:creator>\n",
       "   </cc:Work>\n",
       "  </rdf:RDF>\n",
       " </metadata>\n",
       " <defs>\n",
       "  <style type=\"text/css\">*{stroke-linejoin: round; stroke-linecap: butt}</style>\n",
       " </defs>\n",
       " <g id=\"figure_1\">\n",
       "  <g id=\"patch_1\">\n",
       "   <path d=\"M 0 280.8 \n",
       "L 280.8 280.8 \n",
       "L 280.8 0 \n",
       "L 0 0 \n",
       "L 0 280.8 \n",
       "z\n",
       "\" style=\"fill: none\"/>\n",
       "  </g>\n",
       "  <g id=\"axes_1\">\n",
       "   <g clip-path=\"url(#p5bdf3dc237)\">\n",
       "    <image xlink:href=\"data:image/png;base64,\n",
       "iVBORw0KGgoAAAANSUhEUgAAAGQAAABkCAYAAABw4pVUAAAcmElEQVR4nO2d33MbV5bfP/f2vbeBBgiAIkGakjzSSLZH/hG7JnY2M35IUslmNi95SvbvyR+QqvwHectTUpWXfdpsqrJ58ew6403ssceela2xLIoyBVEEQHQDfftXHk53g/J4Zj1jS6JtnioWBVJogPfb955zvud7DtSfqn9fcW5nxszXeXIwGkIYUo0voFJPFTpU6uWX8wUA5XRGlaZf+41+X+yPAkSFIcEzOxTbAwDyQcjqwpDOwwydhpjJCQz6AASdkGqVngPzFe0PAkSFIbrbgTCk3OiRD0IKp1ldMAS+4uTZEJ1VuK2Q6DdzqjBApQ7lLBogTSmXK6o0RYXhOUBfYl8ZEBWG6NEQBn2q0FEMQgBWFwxZT1FaReFg+oLCxIZtBthFjk4LgjmoQR/lQ4LhgGqVQpqintmh+Pz+OTCn7CsB0oChOiFl6AAI5inZpT5ZT1E4RboJpQGdwfJSwf6OZudt+b9uERIepe3zlLMoH5JdugCXLmAmJxQ3bz2mP/HbZV8JEN3tCBgbPQCqMAAgfLAk2bWkm5BHUNqK0oIaiWOfX+2iczCxptPXBL4i2JKdVTgBsvMwBzYwXDsHha8AiApDCMP2cRUGlKE8rQwDhh8nLC71WjCKXsne9gyA5U8T4vcukEeKvKcxMQKKh9WmQmeQ9Sy9Q41Oc4Lnz0H5vYC0TvwLVtY7JOsb6BtKB6WF0lVUUUFkMwAim3E8HqCTgNIqSqMwiRxvflihM3lcOIP2XTpp8b139l8KSDAawngL5TOqVYrqhFTOtkdV4XT9XZH1NJ0JLK5AGRVoVzDuSA7y0dEO2IrKVuRy2lE6RR5VFL0SlakWqNUFA/Sxgxuot959/H/5GbVHANGv3ACgAopBSBkGuP0pFVDVznx5sUe8G1A4Rd4DE4Mf1hewFc9sz7h9ssks6RJPu7gDSzYqAdlFUJGPcgEqU+QE6Eyx2tQEPqB0mu7rL1O988GTWYEzZo8AkvxwgO9rOg9zsr7sBp1u1N9z0u0uq82A5Vihczl2/BB6rz7kYi8hySyTaZ8iD6imDjfVdCaK6CAg760dPwCZAqCyFaUVv5L1NIWr0Ntdut9Tf9ICol5/Gd/XJDuaxWVHf7+ktIpswxJ4ucOTXcv8h6p9ct6r6F45YauX0DUZ486CpbcskpC8/j+d44YqU5RGQNFJQBkVqEyjMoWbKWxcEvhKjsF+QHB5hPns++dPWkCWF3tkPUUewWqnRHtNdL+kdJrSaeLrISdXASSa0lZ8xt5wTtdk7HZO2osWeUBlS0qr22iqMZ1B0VvzmZWtTkVfFXZRUDqNTgt45Tn4nh1dBiDY3cH3tQDSq51wRJ2BB6w2FYurJZWVKApAuwINJJltnXic10mjKShtQD7O8InDTaF0sqP8OEdlEhRUUYGeCe0CtJk9yBEJUL352vfKyRuA8vK43R0AvdsB2ksUFV+CPJIFUyNPFHmcyfG5bK7PHwyZTPs4V7BMHGVswFbiI2zF6oonjyylqx45plQWiP+ICkBA0WmBvfuQajaH8RbloCv5yZVnyW/feSoL9KRNVvX9jxmnP+TkR0MKp+poCHxfQlQ3VZRO4QmJhwFu+4R4EmGmBlxFMU5Z5gH6bgec7LDKlmhXEJiC8WsPJeqaCOJuqmvnrshr6qVwijIMKDd6qFVKOeii0oIqDMguXUB/TzgvDVClKdXN37Dx6xluUWJjceKd45L+bXHieSQLrV3B8YMNsBK+aq9gEuJuduWCXqEyJWDVFtmMYbRE9/L2WnlPvrSX62c9OcaycUQ1vkAZmpbA1Gku/uR7YO2qVWmKnjwkAlaXpJaR9bSEq7117mBMQTV1VPXxU/RKbHvHry0f5VhT0I9SksxyZeOYKxvHvHd4kXjaRTvxFeUkxA8lQYSQznEBROi0aBkBMznBXx4Rfg+Orkcz9TRFTR4ShgHdW0vu//NdSgPZqMQOU1y9iE1Iq0Ye86lQK3kdOVUNMLbiyvi4dfh7HeG33njhNr+YXWGRhxwtI2ZRl8T2sVPNagydiWF0C8K0wO1PW7bATpwcZ99xauURQMrlCh2G6E/2yV+6CoAfVZjtJc4VOJPTdRlx1MVGnixx6Ezhm0w8KtpjKYo8b27f4uXuPvt+q32NYZCw15kxz+WIW3qL317iI8fm9onkMFGf7fdrqt5LzFzd/A2626H8DoMBtQ9prEpTisP7FNMZ6VZI4KHzYJ0IbvUSrmwcYyNPkQeQKWF5o0KiJVsRGHHkAAerESOdADArugyDhI1gSd+kDMySZW7xuaEfpfRGS3xuyB8IZd++J2dRHanHlMvVE1iSp2v6y34Y7O60/zYx5A+6OLNeJefEjwAtT3X6d84V/PTSp8S54z/e/jfMii6LPGRWRO1uubmQ12h23d5wTjyJCGJNdCgZOwiH1oLyJczzd80M8FvncjW+AIDOKvKewk41Wy/Knd4zUnwKYk1+Gow6AlsmAtSvjneJbEaSWf7nvR8BcjxdHs44WkYtRd918j3JLL1xwjLZABT9TxcUgxCd5qhUdgphSDAaUkxnj3FJnq5Jpv7MTqsMCZ7ZoQiDOh9ZH1effHiRn/z479vHpavajBtbYSYWsOhMHPznDHmmLlTd+3gMSBDgc8MwWgICQmSFA3vv8CLLRAhJna2BTre7BIOmQDZCp4WoWiZH30lgDECxPaAMDcneD2saXHaH7wsh2NjPf32dn/7oE8nIhzl6ZmQBfYBJaDN9nSlS65hFXZaJI4i1FK+mjmTqiG0EtsJGnvFowcKEeB/gbnbpTITXKkNDtmHJ+gErV1coayFF7zAkHG8QzGVXl+9/9GRX7TFau9zJXoesJ2D4vuwOnYHOZYFVpiAJ+Pmvr8sTsvXu6d+t6BwXLVvsHahMkRz06xxFEkbqJFBn8rPCGT6/F3EQFbiJYfCbChuX2EVBtmHrohWtkMIPqR1+QOE6dMJAimWX3sD95S+e2KI9TjMAen9CcLFH4Sqynixa6eovIzUMEyv8uKBz27VhrvYKI66Fwinho2pmtwGgyU8ausTE6tTLK0oH1L+LDuXJgS+Jn3GUVmh5IT3X78nEUtACW1ctFTvfkfqJHFmH99H+BwT1HdxEOLDeIXkkPqO0FdHBOjgLjyt0Jose70ohqrRSom2Z4ZlpObHTIW1pwCTNd8XJs5bOcUnp19dvdm1jeVSxGivcVBF4offzCI7f2GH42d1vfdLYHlnhgyXQhX5Q0+GqrYNrDwaFzjQ6U2y/59vFg5oV3g1YjWF1MRNGd+Rb9cls1CU56JNnGjdTj7yB0shdD83RFLTKFBuXp26OZudWeFcBuq7Pyw0wv6pxP3uNzl+8/bjW6onYmst65wPsm68BTSlVchA5/6HMARQmBnuSsf1/l7Wm17LaFNojHRf0xgnDaNlGT4s85KXNQw63Nvjg764CsuN0fdeLYqXCJLK4ftQccYrt9ys2fj1DpZ7Aj5ldC/Aj6npN1QYRpauP1L5G/9m32588Qp2YyQmwge2L8KCJagr3aNUv27CEdQEp62n8UBa1OaJ+Mv6Ul6ID/mZ+nTeGtwG42JnCP4ZffvQsZmrQVoBxU4juVyQ79d1+aQWTED8C39fwwwH99+7ReZgR7wZ07mv8aK1aAVrGOPAVWT/4VtfjHwGkuHkLwzXshiVwuj4uNKJDEct6imTXkuxK0cT3xbH7kfx+bzinb1I2giU/GXzSPm9WdOmblN44IbZdzMTiZrCxLyCObuU8vGEoP+3gxzluakl26lzo1b326Gp2kMpUHVTIbmuCi+jeSmop31IS8rd0WcXNW4SDLul2F9DYRUbpNPNnTSv3SerFKY04/Tb/cAVJZnm5u88/cve4kw+5k22xESwZBkt6xrM3nHPbBxTOUBoJZ3ufy/kVHQbIsShg5xEsIsVq02BjqeU3gUFp1gGCiWH0iceeZJRhsK6ffAvr8V8qlNOf7BMMrlPWgrjwKKXnJKppSr3N2Z+NyppGySE2TEyfvzp+hR+MH/KSO+ZnUcaHPmGkE2ZFl8PVBs4VJLaidEhBbJKg9u+xOb+MzjZYbeovyIZUHenJTmiULDpbCyMaZYxOi7bSqL6F+q4vBaSYzkRs0DctKJ2HGWBpoptGtACi59VJrWrsBfzqeJf/Zv4Jf775f4AFzxrDiy7jZ9EH/Adgt3PCz7lKMRmy2gzovf2QcrmiDE2rPvHDJolU9TElO6I54uT9IEK+uj2iEfY15V8A/S3zJ1/K9gKot95Fewk7dZpjJ0mrm2oipKZcC6cKU5OQzx8MeW96ic/yC+znXe7kJR/6hA99wjAQHuva1hGri5nkMIM+utsh25CjKuvVgEdVW4lsklShdirMPMVOEvLxBlUYEMxTTF0/aXYICFusTonFz7r9TkAAwr/+JdG9dQ0iPErpHdZ3nheNVQPEFyOeJLOcFF3mZYc7uTifX/o9Poz3OFxtcLQUPmt+VRPf2G4LYrA+DkvXgLEGZjmuX2e+bHfF8mJPAHj/Y9Ei132O2TiSn3+L6vG/V/1epSnmV59SXr9MVTvLwFd0jisWkdAiKlMifvDrxK30cnf+zfw6n3W2+IE7AuC/3Pspy9ySZJalt1AfR/NnDW4zQGcV0xc0fiQaMJWpVgihM9k1biqMgF2MRH0PaF+i50tUzVorn6HnwCBkeVGy2yi98a0gIf/B/pBiOkNx+ZGf+b5qOaXSQgnt3QxApvj8geyKX7ELwMGB1Fhs5OlHKT43LX0/f75suTI7TOi6gngSUUUVKgnk+nUelEcKG0P8jGO1qekdFmgPec3+KmepJkdUl/fI+ob5s4a8B/HuJjuTHYrD+19zyR6vfaUOquqdD6jefI10K2z5Kqg5rl7Zlm+1K+hGnuSgT2CKVnhdxuuXyRLH8SxcP38sK52PCzYHCTe2ZMH+Nrna7rTTlvcqYic5iM6pSca1BXPg8h6rS31WmwHJRZEblUZz/C+vMfzvZ7sb+Cs3fep3PoKfvbZ+7OWs117BOKdbKxoXiSx2ljhUEmCnWhaklg1xKuMvo4LnrhwCcHuyyeu7+60ctbEqKiCR/CQblVS2bNWPJhZgglNkZFNG8H3Fagx+nImCEgOcfb7r9zr101alKb2PHrSPG8erMyhj09bcnStQI487sISToKZHNG5isFNd+xxZ2ItXxLckmeXG3n1+MviEnvH0jGc4SFrtVhUV+HHO9RcP2sdlVJD3KpKLFcmu0PHT6454NyDZXROjKtP0RkvKYd76K/9nb3wji/c47A/qUy9u3mJ0ecTRix1W2xIFNc68Me8DAlO0PFXDgeV1Qqk9VFaz99yEyGYcxRGXhzP6JuUzv8WLvXvcTUds9RJ8bvAm4Mr4uL2+7uUEpiBLXK0LDlhtw2p7TZ+ctiDWxJMI3cspncEtoHQac0ZFd3/wJIfgf/0dg/6f4IeG1Y6QfI0Wq+syFklIkQdYDzau2lpG4IXuIJI7/MqGLPJRHPHBnT3xOeM+r47uAvDq6G7b5jAwSy6FU34xu8LRIGKRhK0UqbQVJaCSgKInALR/XCJ1E50Z9IHFTcHGBeFRKqKJM2h/1GiN7v94l0H/x+hc44cVGY5jHzCrnXqcOFY7JW6ma2kogMYksLxU8tyVw1a9skjC1nnfnmxyFEfc2LrP8/37bc/JS9EBn/ktesbLbtpK+ehoh0UStruligrIFPm4OFVeNvQn0hA0uJMTHqUSuj+YU3x+NqOtPwqQKk3Z/MV9Aj9mtamJLwXkkaboBcQ+kLvXFcwJ8cOgJQH9sEKNPOPOgoFZttosoAVlNo9YDEPeenCNrsl4vn+fz2ot18XOlIudKTcXO9zYus+k1+f2ZFMukCnsUKKnLHG4A0t0oOgcl3Qe5nTuLlCTh9LAukpF4/WDS1ShO1P5yR89Dai4eYtovIFdiPxnOVZ4NLktRQPsCtz1BH/FUCGCuDQJeWa0aHdHa3UvSRkb7DDll59cRiUBox9MAeG+/nzrbQZ6xVCnzDZC/vPknzEB+lHKceLQvZx+lLJIQszE1iE5lAtF4EtJbDs1hTLoUw7G5INQZEVniO/6WuOZ1FvvYt98DRubul6hKOq2gr3hnCSzbf/hbueEF3v3+OujFwC4txryfP8+t9wWDFPxBwTkD7p0JuIb4ukFPnouhD2YlsLxD3XKZbPkX2++z1/xCkdxRG+0bLVe089G0CvJRyVuYhCm2NFxGra7ZP2ArKdbHQCA2wrpnpF6/FcOe3/nBd75SI6E4xI3g+7dgOXtDW7d226z9b5JiXPHh/EeAIcr6eyd513+06v/lTeevdOGuZWtafRMWIAscSxzy9+eiPxoQ5e8tbrEvt9iYAQEZ3KWXjqAK1uiRr5lnwEWlzUPbzg+/4nj+AUJi5MdKSWsNjXTa4b8zZe/7lJ8I/a1dgiIP4k+OiS4NsYtDFNrhFLxHYpeyW2zyW02uTI+ZmEkBm4ip75JmZYR/+rChyxyOU6O40F77c4Dhc8s3esZ87zLnUx8yb7f4sN4j08XQsccP6hbt13B5t5cFPS2orSK1fZamtTUbnQGbqZIT6lr4mccwzNQP/nagADkt+/gZnP48XV0JoDkvQpiTU6XKiq4NxuwN5y3/SKN7fstXuncoW+E39KJ9DfqvFa7xIoP7uzx/Ivi3D/zW9xc7PDR0Q5dlwkYmUJlmiDyzOYRTEICr0QtaSvyesKEMQWZDWsOTbcasdLVlH9oUF/y9z1J+0YAASEh3f6UzjM7BF6R5iJDbRx9PO1yD+iaTHZDRxTwu50T7qYjFnlIPInoTHULBkiLdjV1/OXtF/l31/8fAJOVdHgtfZ1L2IqKkvxBlyDWXPhAqomlVTz4MZhThCbDlGwWkvfkSNRZM2GCM9Fg+o0BAhJ5DQddFlf7BL6WEiUKn1jScYGPApa5pWsyDlcb7M+G7eOjZdSyv7pOKtNN1Sogk4M+f2FeacnH43sD7DBdNw4lAf1PNRv7RdtmDbDztmZxuc/idaF1ssRhhymZdZT1zhLTlKFBP+WE8RsFBESW2hmEBF4u3T2IWV7sMb1mSOIet4Er42OSzDKbR3LEUPNhUxlk0xTBQFMaOf4KJIJ6Lzd4H4CtWgIzuiti79GtHO3LWvQnsyC115TWUr7bJ76atc9rgFQ9TzV1LMdKmpTmT3f84DcOSHF4H166jF1I2VdNHhKlBdr36Rxb5kmfW/cihteP206rIg+Efpk04mrJ8DvHJcuxREvduwF5ryKbDshHpQxFeyDCPbeoarW+xi1o6+l2klBc6mPjEpME9D+2+KHQ8YUr2ha6zJbkPV0XviLcZPjU6ibfOCAgfNfq3/4JhevTnTxETR7SAexJSHRoefCq43i40eYPzXyUbFTCgVQOV3UF0SSgc1n4/t26d34WYGJ5rQYMmUwnxOHqUp/S6XasoOQd4rzdTKqPq2HQcm8gdZblWAMh48kF+C4BAsJ3LX/2GuXlMXq+RJ/EMo1uK0R7IQN9FDCji/cBWeIwsUhS856ua/aq1f2KiFsxuiULv9psZncBiHgvOszQvmyVMk1LQ+Fo9cqtZWodFNC8RkVw93GtyFezxwZIUz8pB9121pZKpYekdMLKFllEXMtP3cS0lH3bCuGE/yqt9L3rJGBUMxzSpiDK+EbuCpbOcYFd5G29HTjFONe64QWstg2LoTDTKtNEB5rwuDpFhj4de2yAgERd6vWXqcKAKuySD8JTQjtZnM6BbfOORtz9RctHOXaYUvQCVpuddtIErMEoLSS7iuiwbCferS6YR9ryGmEdwO7bcJT0CWjyHYnsdM17PS372tTJP2RfzHx7h4X4BS8lWDeVwlLjE6Qs/Og1VKalIBXL8bPa1PWXIt0UErHRFj+84cSPbAYtGDpb97A0jUV2UTD4TUVnAt3Jo1MoytA8NS3XY90hrb3/MeXrN2TaD6LhlWxeZKHN8eP768z5tKlMoWbCAKSbqgXPj6SM3IyU8nW5+PN/Wo/kiFWdZCo6x1XtS6gDBiEYe4elqOqPy0fyl+9M2PtlVqUpZnJCPt5Ap4Wc83Fzp+brI2YzaJtMT3danTY/rFqhtfZroXdjq4tZO7EOahonkuGbuvY3gZcQOfCSzQd+3cpHP8CeZL/1uk/KnswOQfwJ49fQaY72ohG2ixwzT9GhoXvrITDm+IXgVGRVtUoT3cvxQ5kekfeCtSasruvnwxwTeQIgs1KggvVu88OqHiVYtT7HDxVu1rwWLSiBD3laIwoeuw85beqtd9shzG3imBaYT+5R3LxF4CsGn5Z0JsJh+XEuU+dqYUNTyAr2Evw4b8EoL6147soh/UgG5NjIk41KkR/VEtTORI66BozVuGpVK6uxAJZH4tjt4ndszydgTxQQkPpJ0zoAoFKP6oSo119m/qxhcVmTXFyf5TYSD1/kAWZqMBMrc1baaXRS/r11b7tN8vpRSnRxQTmUhTXJWv3SgHHavjhaysyfXqHqiR1ZjVVpitufsrx2gfBEvHOxPWD2gtQ08mjdg6i9ITs1VnZwW3rVVy5E2aZHRH433E7aMR0gg3LuAelEjq5Wuf8F96BrQYT0Odah7/6Ep5WNPHFAoPYn1y6QXbpAGQatTrfp0GoEeADuwNYjyWVRTaJq/6GkSQgNtsLnhq7L2OomPN+/zzzvchRH+Csx5bT+cJkaFDdbF66a3WFi8S9uUT5V/e8TP7Iaazpls75pu3hF6V7vkPrO7Uxqwd2prl2QnaETce5kingSsdVN+Bdbf9+Of9rqJRR5UJOJ68bQppWieR0Tq3Z3dA/iJ70Uj9hTAwTEn9hFLtFSnU/4kTjiL3JZgCSBUT3430LnvhSzzFTUKk2x62A14uZihySzBEZkqHlPcpCGRmmqhU3DaLM7vhMl3D/WGn+ycWEMBKxo2uRUm7GXZt0cBEBE23nbtNWVrmIYiSOe513i3LE/G7ZOHuQ6vq/a/pYipi6ArZPT7kFM9cU3+YTtqQIC4k82QkfhRjJFu84tSBSDT2Xc+WqzoUCgM1nzXWUu/SLai8DufyfX21GEiyQkq2d3YSv6d6tHmkQBNu7I+PTOcS0vPQMNok8dEJDxSsPwZUo7qCkVRXi8JgJ1ptpxGw3d3kyY0AaIpOJID5Z5wBLXKiGjm47+XRlsY0+yVkparWRHRZ1QPm3u/Y+f+u6AMwIICAm5Nb+GvzxidcG2w5UBBnfyRz61Id4N6kFpzXAc8SM5oo5vwDAT246OsicZwTxFn8Strrfhq9TnZ2fIwJkBBOT4clxDpxuPzMsC2PxFHYpeu0Cwqdtu4La1zkHpAujlaFdQ+kB8Tdb0r+fy4Zez+W8t/lkBA55ylPVlVty8hZmcYE8yOg9zyQtOCdo6dxft43Y2V810tI2nsUHVysWGgm8om7M+FvBM7ZDGipu30J+FhK88Rz4IoW9qpjinDA2DOznzZ80jZdnS1B+hMQnbu0zC2RK7yGUc4HzxO1/zrNiZ2yGNValEPXaStGIFkDq5qEvEBTeOX/iqOsmLFZ37mtLAyeWgHrfhKc/47oAzukNOW/n+RyjkE4DS7W4dGqu6Aii7w8ZlfTSpUz+r2u/pVoj51adnylf8LjvzgDRWvfMBDhny3L0svR2nhQzal+jM4BbixNtay/5EpnU/pff9h9q3BpDGisP7cHifAPiiFOELlV/5tLkn87a+MTuzPuT7aueAnDE7B+SM2TkgZ8zOATljdg7IGbNzQM6YnQNyxuwckDNm54CcMTsH5IzZOSBnzM4BOWN2DsgZs3NAzpidA3LG7ByQM2bngJwxOwfkjNn/B3RH5FLjPDghAAAAAElFTkSuQmCC\" id=\"image29876d0dcc\" transform=\"matrix(2.67 0 0 2.67 7.2 6.6)\" style=\"image-rendering:crisp-edges;image-rendering:pixelated\" width=\"100\" height=\"100\"/>\n",
       "   </g>\n",
       "  </g>\n",
       " </g>\n",
       " <defs>\n",
       "  <clipPath id=\"p5bdf3dc237\">\n",
       "   <rect x=\"7.2\" y=\"7.2\" width=\"266.4\" height=\"266.4\"/>\n",
       "  </clipPath>\n",
       " </defs>\n",
       "</svg>\n"
      ],
      "text/plain": [
       "<Figure size 288x288 with 1 Axes>"
      ]
     },
     "metadata": {
      "needs_background": "light"
     },
     "output_type": "display_data"
    }
   ],
   "source": [
    "im = ps.tools.insert_cylinder(im=im*1.0, xyz0=[20, 20, 20], xyz1=[60, 60, 50], r=20)\n",
    "\n",
    "fig, ax = plt.subplots(figsize=[4, 4]);\n",
    "ax.imshow(ps.visualization.xray(~(im > 1)));\n",
    "plt.axis(False);"
   ]
  },
  {
   "cell_type": "code",
   "execution_count": null,
   "id": "wound-quebec",
   "metadata": {},
   "outputs": [],
   "source": []
  }
 ],
 "metadata": {
  "kernelspec": {
   "display_name": "Python 3 (ipykernel)",
   "language": "python",
   "name": "python3"
  },
  "language_info": {
   "codemirror_mode": {
    "name": "ipython",
    "version": 3
   },
   "file_extension": ".py",
   "mimetype": "text/x-python",
   "name": "python",
   "nbconvert_exporter": "python",
   "pygments_lexer": "ipython3",
   "version": "3.8.13"
  }
 },
 "nbformat": 4,
 "nbformat_minor": 5
}
