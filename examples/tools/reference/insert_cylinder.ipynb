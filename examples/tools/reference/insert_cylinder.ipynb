{
 "cells": [
  {
   "cell_type": "markdown",
   "id": "skilled-economy",
   "metadata": {},
   "source": [
    "# `insert_cylinder`"
   ]
  },
  {
   "cell_type": "markdown",
   "id": "considerable-remove",
   "metadata": {},
   "source": [
    "## Import packages"
   ]
  },
  {
   "cell_type": "code",
   "execution_count": 1,
   "id": "distributed-theme",
   "metadata": {
    "execution": {
     "iopub.execute_input": "2022-04-26T09:12:26.786567Z",
     "iopub.status.busy": "2022-04-26T09:12:26.786172Z",
     "iopub.status.idle": "2022-04-26T09:12:28.838643Z",
     "shell.execute_reply": "2022-04-26T09:12:28.837865Z"
    }
   },
   "outputs": [],
   "source": [
    "import numpy as np\n",
    "import porespy as ps\n",
    "import scipy.ndimage as spim\n",
    "import matplotlib.pyplot as plt\n",
    "import skimage\n",
    "\n",
    "ps.visualization.set_mpl_style()"
   ]
  },
  {
   "cell_type": "markdown",
   "id": "critical-lyric",
   "metadata": {},
   "source": [
    "## Generate image for testing"
   ]
  },
  {
   "cell_type": "code",
   "execution_count": 2,
   "id": "published-reform",
   "metadata": {
    "execution": {
     "iopub.execute_input": "2022-04-26T09:12:28.843426Z",
     "iopub.status.busy": "2022-04-26T09:12:28.843234Z",
     "iopub.status.idle": "2022-04-26T09:12:28.977462Z",
     "shell.execute_reply": "2022-04-26T09:12:28.976970Z"
    }
   },
   "outputs": [
    {
     "data": {
      "image/svg+xml": [
       "<?xml version=\"1.0\" encoding=\"utf-8\" standalone=\"no\"?>\n",
       "<!DOCTYPE svg PUBLIC \"-//W3C//DTD SVG 1.1//EN\"\n",
       "  \"http://www.w3.org/Graphics/SVG/1.1/DTD/svg11.dtd\">\n",
       "<svg xmlns:xlink=\"http://www.w3.org/1999/xlink\" width=\"276.48pt\" height=\"276.48pt\" viewBox=\"0 0 276.48 276.48\" xmlns=\"http://www.w3.org/2000/svg\" version=\"1.1\">\n",
       " <metadata>\n",
       "  <rdf:RDF xmlns:dc=\"http://purl.org/dc/elements/1.1/\" xmlns:cc=\"http://creativecommons.org/ns#\" xmlns:rdf=\"http://www.w3.org/1999/02/22-rdf-syntax-ns#\">\n",
       "   <cc:Work>\n",
       "    <dc:type rdf:resource=\"http://purl.org/dc/dcmitype/StillImage\"/>\n",
       "    <dc:date>2022-04-26T09:12:28.966789</dc:date>\n",
       "    <dc:format>image/svg+xml</dc:format>\n",
       "    <dc:creator>\n",
       "     <cc:Agent>\n",
       "      <dc:title>Matplotlib v3.5.1, https://matplotlib.org/</dc:title>\n",
       "     </cc:Agent>\n",
       "    </dc:creator>\n",
       "   </cc:Work>\n",
       "  </rdf:RDF>\n",
       " </metadata>\n",
       " <defs>\n",
       "  <style type=\"text/css\">*{stroke-linejoin: round; stroke-linecap: butt}</style>\n",
       " </defs>\n",
       " <g id=\"figure_1\">\n",
       "  <g id=\"patch_1\">\n",
       "   <path d=\"M 0 276.48 \n",
       "L 276.48 276.48 \n",
       "L 276.48 0 \n",
       "L 0 0 \n",
       "L 0 276.48 \n",
       "z\n",
       "\" style=\"fill: none\"/>\n",
       "  </g>\n",
       "  <g id=\"axes_1\">\n",
       "   <g clip-path=\"url(#p6f4491fb8b)\">\n",
       "    <image xlink:href=\"data:image/png;base64,\n",
       "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\" id=\"imagef2fb1d8dde\" transform=\"matrix(2.63 0 0 2.63 7.2 6.28)\" style=\"image-rendering:crisp-edges;image-rendering:pixelated\" width=\"100\" height=\"100\"/>\n",
       "   </g>\n",
       "  </g>\n",
       " </g>\n",
       " <defs>\n",
       "  <clipPath id=\"p6f4491fb8b\">\n",
       "   <rect x=\"7.2\" y=\"7.2\" width=\"262.08\" height=\"262.08\"/>\n",
       "  </clipPath>\n",
       " </defs>\n",
       "</svg>\n"
      ],
      "text/plain": [
       "<Figure size 288x288 with 1 Axes>"
      ]
     },
     "metadata": {
      "needs_background": "light"
     },
     "output_type": "display_data"
    }
   ],
   "source": [
    "im = ps.generators.blobs([100, 100, 100])\n",
    "\n",
    "fig, ax = plt.subplots(figsize=[4, 4]);\n",
    "ax.imshow(im[..., 50]);\n",
    "plt.axis(False);"
   ]
  },
  {
   "cell_type": "markdown",
   "id": "broken-insurance",
   "metadata": {},
   "source": [
    "## Demonstrate tool"
   ]
  },
  {
   "cell_type": "code",
   "execution_count": 3,
   "id": "tracked-andrew",
   "metadata": {
    "execution": {
     "iopub.execute_input": "2022-04-26T09:12:28.980564Z",
     "iopub.status.busy": "2022-04-26T09:12:28.980204Z",
     "iopub.status.idle": "2022-04-26T09:12:29.082750Z",
     "shell.execute_reply": "2022-04-26T09:12:29.082270Z"
    }
   },
   "outputs": [
    {
     "data": {
      "image/svg+xml": [
       "<?xml version=\"1.0\" encoding=\"utf-8\" standalone=\"no\"?>\n",
       "<!DOCTYPE svg PUBLIC \"-//W3C//DTD SVG 1.1//EN\"\n",
       "  \"http://www.w3.org/Graphics/SVG/1.1/DTD/svg11.dtd\">\n",
       "<svg xmlns:xlink=\"http://www.w3.org/1999/xlink\" width=\"276.48pt\" height=\"276.48pt\" viewBox=\"0 0 276.48 276.48\" xmlns=\"http://www.w3.org/2000/svg\" version=\"1.1\">\n",
       " <metadata>\n",
       "  <rdf:RDF xmlns:dc=\"http://purl.org/dc/elements/1.1/\" xmlns:cc=\"http://creativecommons.org/ns#\" xmlns:rdf=\"http://www.w3.org/1999/02/22-rdf-syntax-ns#\">\n",
       "   <cc:Work>\n",
       "    <dc:type rdf:resource=\"http://purl.org/dc/dcmitype/StillImage\"/>\n",
       "    <dc:date>2022-04-26T09:12:29.073999</dc:date>\n",
       "    <dc:format>image/svg+xml</dc:format>\n",
       "    <dc:creator>\n",
       "     <cc:Agent>\n",
       "      <dc:title>Matplotlib v3.5.1, https://matplotlib.org/</dc:title>\n",
       "     </cc:Agent>\n",
       "    </dc:creator>\n",
       "   </cc:Work>\n",
       "  </rdf:RDF>\n",
       " </metadata>\n",
       " <defs>\n",
       "  <style type=\"text/css\">*{stroke-linejoin: round; stroke-linecap: butt}</style>\n",
       " </defs>\n",
       " <g id=\"figure_1\">\n",
       "  <g id=\"patch_1\">\n",
       "   <path d=\"M 0 276.48 \n",
       "L 276.48 276.48 \n",
       "L 276.48 0 \n",
       "L 0 0 \n",
       "L 0 276.48 \n",
       "z\n",
       "\" style=\"fill: none\"/>\n",
       "  </g>\n",
       "  <g id=\"axes_1\">\n",
       "   <g clip-path=\"url(#p071441b50f)\">\n",
       "    <image xlink:href=\"data:image/png;base64,\n",
       "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\" id=\"image8347b9465f\" transform=\"matrix(2.63 0 0 2.63 7.2 6.28)\" style=\"image-rendering:crisp-edges;image-rendering:pixelated\" width=\"100\" height=\"100\"/>\n",
       "   </g>\n",
       "  </g>\n",
       " </g>\n",
       " <defs>\n",
       "  <clipPath id=\"p071441b50f\">\n",
       "   <rect x=\"7.2\" y=\"7.2\" width=\"262.08\" height=\"262.08\"/>\n",
       "  </clipPath>\n",
       " </defs>\n",
       "</svg>\n"
      ],
      "text/plain": [
       "<Figure size 288x288 with 1 Axes>"
      ]
     },
     "metadata": {
      "needs_background": "light"
     },
     "output_type": "display_data"
    }
   ],
   "source": [
    "im = ps.tools.insert_cylinder(im=im*1.0, xyz0=[20, 20, 20], xyz1=[60, 60, 50], r=20)\n",
    "\n",
    "fig, ax = plt.subplots(figsize=[4, 4]);\n",
    "ax.imshow(ps.visualization.xray(~(im > 1)));\n",
    "plt.axis(False);"
   ]
  },
  {
   "cell_type": "code",
   "execution_count": null,
   "id": "wound-quebec",
   "metadata": {},
   "outputs": [],
   "source": []
  }
 ],
 "metadata": {
  "kernelspec": {
   "display_name": "Python 3 (ipykernel)",
   "language": "python",
   "name": "python3"
  },
  "language_info": {
   "codemirror_mode": {
    "name": "ipython",
    "version": 3
   },
   "file_extension": ".py",
   "mimetype": "text/x-python",
   "name": "python",
   "nbconvert_exporter": "python",
   "pygments_lexer": "ipython3",
   "version": "3.8.13"
  }
 },
 "nbformat": 4,
 "nbformat_minor": 5
}
