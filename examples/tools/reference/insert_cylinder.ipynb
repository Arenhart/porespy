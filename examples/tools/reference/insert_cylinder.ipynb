{
 "cells": [
  {
   "cell_type": "markdown",
   "id": "skilled-economy",
   "metadata": {},
   "source": [
    "# `insert_cylinder`"
   ]
  },
  {
   "cell_type": "markdown",
   "id": "considerable-remove",
   "metadata": {},
   "source": [
    "## Import packages"
   ]
  },
  {
   "cell_type": "code",
   "execution_count": 1,
   "id": "distributed-theme",
   "metadata": {
    "execution": {
     "iopub.execute_input": "2022-05-25T19:30:36.710571Z",
     "iopub.status.busy": "2022-05-25T19:30:36.710095Z",
     "iopub.status.idle": "2022-05-25T19:30:39.101182Z",
     "shell.execute_reply": "2022-05-25T19:30:39.100176Z"
    }
   },
   "outputs": [],
   "source": [
    "import numpy as np\n",
    "import porespy as ps\n",
    "import scipy.ndimage as spim\n",
    "import matplotlib.pyplot as plt\n",
    "import skimage\n",
    "\n",
    "ps.visualization.set_mpl_style()"
   ]
  },
  {
   "cell_type": "markdown",
   "id": "critical-lyric",
   "metadata": {},
   "source": [
    "## Generate image for testing"
   ]
  },
  {
   "cell_type": "code",
   "execution_count": 2,
   "id": "published-reform",
   "metadata": {
    "execution": {
     "iopub.execute_input": "2022-05-25T19:30:39.105220Z",
     "iopub.status.busy": "2022-05-25T19:30:39.104707Z",
     "iopub.status.idle": "2022-05-25T19:30:39.257483Z",
     "shell.execute_reply": "2022-05-25T19:30:39.256436Z"
    }
   },
   "outputs": [
    {
     "data": {
      "image/svg+xml": [
       "<?xml version=\"1.0\" encoding=\"utf-8\" standalone=\"no\"?>\n",
       "<!DOCTYPE svg PUBLIC \"-//W3C//DTD SVG 1.1//EN\"\n",
       "  \"http://www.w3.org/Graphics/SVG/1.1/DTD/svg11.dtd\">\n",
       "<svg xmlns:xlink=\"http://www.w3.org/1999/xlink\" width=\"280.8pt\" height=\"280.8pt\" viewBox=\"0 0 280.8 280.8\" xmlns=\"http://www.w3.org/2000/svg\" version=\"1.1\">\n",
       " <metadata>\n",
       "  <rdf:RDF xmlns:dc=\"http://purl.org/dc/elements/1.1/\" xmlns:cc=\"http://creativecommons.org/ns#\" xmlns:rdf=\"http://www.w3.org/1999/02/22-rdf-syntax-ns#\">\n",
       "   <cc:Work>\n",
       "    <dc:type rdf:resource=\"http://purl.org/dc/dcmitype/StillImage\"/>\n",
       "    <dc:date>2022-05-25T19:30:39.242164</dc:date>\n",
       "    <dc:format>image/svg+xml</dc:format>\n",
       "    <dc:creator>\n",
       "     <cc:Agent>\n",
       "      <dc:title>Matplotlib v3.5.2, https://matplotlib.org/</dc:title>\n",
       "     </cc:Agent>\n",
       "    </dc:creator>\n",
       "   </cc:Work>\n",
       "  </rdf:RDF>\n",
       " </metadata>\n",
       " <defs>\n",
       "  <style type=\"text/css\">*{stroke-linejoin: round; stroke-linecap: butt}</style>\n",
       " </defs>\n",
       " <g id=\"figure_1\">\n",
       "  <g id=\"patch_1\">\n",
       "   <path d=\"M 0 280.8 \n",
       "L 280.8 280.8 \n",
       "L 280.8 0 \n",
       "L 0 0 \n",
       "L 0 280.8 \n",
       "z\n",
       "\" style=\"fill: none\"/>\n",
       "  </g>\n",
       "  <g id=\"axes_1\">\n",
       "   <g clip-path=\"url(#p852eb874ca)\">\n",
       "    <image xlink:href=\"data:image/png;base64,\n",
       "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\" id=\"imagece2916d467\" transform=\"matrix(2.67 0 0 2.67 7.2 6.6)\" style=\"image-rendering:crisp-edges;image-rendering:pixelated\" width=\"100\" height=\"100\"/>\n",
       "   </g>\n",
       "  </g>\n",
       " </g>\n",
       " <defs>\n",
       "  <clipPath id=\"p852eb874ca\">\n",
       "   <rect x=\"7.2\" y=\"7.2\" width=\"266.4\" height=\"266.4\"/>\n",
       "  </clipPath>\n",
       " </defs>\n",
       "</svg>\n"
      ],
      "text/plain": [
       "<Figure size 288x288 with 1 Axes>"
      ]
     },
     "metadata": {
      "needs_background": "light"
     },
     "output_type": "display_data"
    }
   ],
   "source": [
    "im = ps.generators.blobs([100, 100, 100])\n",
    "\n",
    "fig, ax = plt.subplots(figsize=[4, 4]);\n",
    "ax.imshow(im[..., 50]);\n",
    "plt.axis(False);"
   ]
  },
  {
   "cell_type": "markdown",
   "id": "broken-insurance",
   "metadata": {},
   "source": [
    "## Demonstrate tool"
   ]
  },
  {
   "cell_type": "code",
   "execution_count": 3,
   "id": "tracked-andrew",
   "metadata": {
    "execution": {
     "iopub.execute_input": "2022-05-25T19:30:39.261133Z",
     "iopub.status.busy": "2022-05-25T19:30:39.260722Z",
     "iopub.status.idle": "2022-05-25T19:30:39.377383Z",
     "shell.execute_reply": "2022-05-25T19:30:39.376752Z"
    }
   },
   "outputs": [
    {
     "data": {
      "image/svg+xml": [
       "<?xml version=\"1.0\" encoding=\"utf-8\" standalone=\"no\"?>\n",
       "<!DOCTYPE svg PUBLIC \"-//W3C//DTD SVG 1.1//EN\"\n",
       "  \"http://www.w3.org/Graphics/SVG/1.1/DTD/svg11.dtd\">\n",
       "<svg xmlns:xlink=\"http://www.w3.org/1999/xlink\" width=\"280.8pt\" height=\"280.8pt\" viewBox=\"0 0 280.8 280.8\" xmlns=\"http://www.w3.org/2000/svg\" version=\"1.1\">\n",
       " <metadata>\n",
       "  <rdf:RDF xmlns:dc=\"http://purl.org/dc/elements/1.1/\" xmlns:cc=\"http://creativecommons.org/ns#\" xmlns:rdf=\"http://www.w3.org/1999/02/22-rdf-syntax-ns#\">\n",
       "   <cc:Work>\n",
       "    <dc:type rdf:resource=\"http://purl.org/dc/dcmitype/StillImage\"/>\n",
       "    <dc:date>2022-05-25T19:30:39.367595</dc:date>\n",
       "    <dc:format>image/svg+xml</dc:format>\n",
       "    <dc:creator>\n",
       "     <cc:Agent>\n",
       "      <dc:title>Matplotlib v3.5.2, https://matplotlib.org/</dc:title>\n",
       "     </cc:Agent>\n",
       "    </dc:creator>\n",
       "   </cc:Work>\n",
       "  </rdf:RDF>\n",
       " </metadata>\n",
       " <defs>\n",
       "  <style type=\"text/css\">*{stroke-linejoin: round; stroke-linecap: butt}</style>\n",
       " </defs>\n",
       " <g id=\"figure_1\">\n",
       "  <g id=\"patch_1\">\n",
       "   <path d=\"M 0 280.8 \n",
       "L 280.8 280.8 \n",
       "L 280.8 0 \n",
       "L 0 0 \n",
       "L 0 280.8 \n",
       "z\n",
       "\" style=\"fill: none\"/>\n",
       "  </g>\n",
       "  <g id=\"axes_1\">\n",
       "   <g clip-path=\"url(#p430ad01cf8)\">\n",
       "    <image xlink:href=\"data:image/png;base64,\n",
       "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\" id=\"image53be537ef9\" transform=\"matrix(2.67 0 0 2.67 7.2 6.6)\" style=\"image-rendering:crisp-edges;image-rendering:pixelated\" width=\"100\" height=\"100\"/>\n",
       "   </g>\n",
       "  </g>\n",
       " </g>\n",
       " <defs>\n",
       "  <clipPath id=\"p430ad01cf8\">\n",
       "   <rect x=\"7.2\" y=\"7.2\" width=\"266.4\" height=\"266.4\"/>\n",
       "  </clipPath>\n",
       " </defs>\n",
       "</svg>\n"
      ],
      "text/plain": [
       "<Figure size 288x288 with 1 Axes>"
      ]
     },
     "metadata": {
      "needs_background": "light"
     },
     "output_type": "display_data"
    }
   ],
   "source": [
    "im = ps.tools.insert_cylinder(im=im*1.0, xyz0=[20, 20, 20], xyz1=[60, 60, 50], r=20)\n",
    "\n",
    "fig, ax = plt.subplots(figsize=[4, 4]);\n",
    "ax.imshow(ps.visualization.xray(~(im > 1)));\n",
    "plt.axis(False);"
   ]
  },
  {
   "cell_type": "code",
   "execution_count": null,
   "id": "wound-quebec",
   "metadata": {},
   "outputs": [],
   "source": []
  }
 ],
 "metadata": {
  "kernelspec": {
   "display_name": "Python 3 (ipykernel)",
   "language": "python",
   "name": "python3"
  },
  "language_info": {
   "codemirror_mode": {
    "name": "ipython",
    "version": 3
   },
   "file_extension": ".py",
   "mimetype": "text/x-python",
   "name": "python",
   "nbconvert_exporter": "python",
   "pygments_lexer": "ipython3",
   "version": "3.8.13"
  }
 },
 "nbformat": 4,
 "nbformat_minor": 5
}
