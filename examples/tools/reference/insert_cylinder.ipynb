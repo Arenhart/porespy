{
 "cells": [
  {
   "cell_type": "markdown",
   "id": "skilled-economy",
   "metadata": {},
   "source": [
    "# `insert_cylinder`"
   ]
  },
  {
   "cell_type": "markdown",
   "id": "considerable-remove",
   "metadata": {},
   "source": [
    "## Import packages"
   ]
  },
  {
   "cell_type": "code",
   "execution_count": 1,
   "id": "distributed-theme",
   "metadata": {
    "execution": {
     "iopub.execute_input": "2022-06-22T19:36:50.458068Z",
     "iopub.status.busy": "2022-06-22T19:36:50.457805Z",
     "iopub.status.idle": "2022-06-22T19:36:52.337737Z",
     "shell.execute_reply": "2022-06-22T19:36:52.336918Z"
    }
   },
   "outputs": [],
   "source": [
    "import numpy as np\n",
    "import porespy as ps\n",
    "import scipy.ndimage as spim\n",
    "import matplotlib.pyplot as plt\n",
    "import skimage\n",
    "\n",
    "ps.visualization.set_mpl_style()"
   ]
  },
  {
   "cell_type": "markdown",
   "id": "critical-lyric",
   "metadata": {},
   "source": [
    "## Generate image for testing"
   ]
  },
  {
   "cell_type": "code",
   "execution_count": 2,
   "id": "published-reform",
   "metadata": {
    "execution": {
     "iopub.execute_input": "2022-06-22T19:36:52.341976Z",
     "iopub.status.busy": "2022-06-22T19:36:52.341359Z",
     "iopub.status.idle": "2022-06-22T19:36:52.462794Z",
     "shell.execute_reply": "2022-06-22T19:36:52.462254Z"
    }
   },
   "outputs": [
    {
     "data": {
      "image/svg+xml": [
       "<?xml version=\"1.0\" encoding=\"utf-8\" standalone=\"no\"?>\n",
       "<!DOCTYPE svg PUBLIC \"-//W3C//DTD SVG 1.1//EN\"\n",
       "  \"http://www.w3.org/Graphics/SVG/1.1/DTD/svg11.dtd\">\n",
       "<svg xmlns:xlink=\"http://www.w3.org/1999/xlink\" width=\"280.8pt\" height=\"280.8pt\" viewBox=\"0 0 280.8 280.8\" xmlns=\"http://www.w3.org/2000/svg\" version=\"1.1\">\n",
       " <metadata>\n",
       "  <rdf:RDF xmlns:dc=\"http://purl.org/dc/elements/1.1/\" xmlns:cc=\"http://creativecommons.org/ns#\" xmlns:rdf=\"http://www.w3.org/1999/02/22-rdf-syntax-ns#\">\n",
       "   <cc:Work>\n",
       "    <dc:type rdf:resource=\"http://purl.org/dc/dcmitype/StillImage\"/>\n",
       "    <dc:date>2022-06-22T19:36:52.453290</dc:date>\n",
       "    <dc:format>image/svg+xml</dc:format>\n",
       "    <dc:creator>\n",
       "     <cc:Agent>\n",
       "      <dc:title>Matplotlib v3.5.2, https://matplotlib.org/</dc:title>\n",
       "     </cc:Agent>\n",
       "    </dc:creator>\n",
       "   </cc:Work>\n",
       "  </rdf:RDF>\n",
       " </metadata>\n",
       " <defs>\n",
       "  <style type=\"text/css\">*{stroke-linejoin: round; stroke-linecap: butt}</style>\n",
       " </defs>\n",
       " <g id=\"figure_1\">\n",
       "  <g id=\"patch_1\">\n",
       "   <path d=\"M 0 280.8 \n",
       "L 280.8 280.8 \n",
       "L 280.8 0 \n",
       "L 0 0 \n",
       "L 0 280.8 \n",
       "z\n",
       "\" style=\"fill: none\"/>\n",
       "  </g>\n",
       "  <g id=\"axes_1\">\n",
       "   <g clip-path=\"url(#pddc20ae80b)\">\n",
       "    <image xlink:href=\"data:image/png;base64,\n",
       "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\" id=\"image9bbe519c17\" transform=\"matrix(2.67 0 0 2.67 7.2 6.6)\" style=\"image-rendering:crisp-edges;image-rendering:pixelated\" width=\"100\" height=\"100\"/>\n",
       "   </g>\n",
       "  </g>\n",
       " </g>\n",
       " <defs>\n",
       "  <clipPath id=\"pddc20ae80b\">\n",
       "   <rect x=\"7.2\" y=\"7.2\" width=\"266.4\" height=\"266.4\"/>\n",
       "  </clipPath>\n",
       " </defs>\n",
       "</svg>\n"
      ],
      "text/plain": [
       "<Figure size 288x288 with 1 Axes>"
      ]
     },
     "metadata": {
      "needs_background": "light"
     },
     "output_type": "display_data"
    }
   ],
   "source": [
    "im = ps.generators.blobs([100, 100, 100])\n",
    "\n",
    "fig, ax = plt.subplots(figsize=[4, 4]);\n",
    "ax.imshow(im[..., 50]);\n",
    "plt.axis(False);"
   ]
  },
  {
   "cell_type": "markdown",
   "id": "broken-insurance",
   "metadata": {},
   "source": [
    "## Demonstrate tool"
   ]
  },
  {
   "cell_type": "code",
   "execution_count": 3,
   "id": "tracked-andrew",
   "metadata": {
    "execution": {
     "iopub.execute_input": "2022-06-22T19:36:52.466174Z",
     "iopub.status.busy": "2022-06-22T19:36:52.465724Z",
     "iopub.status.idle": "2022-06-22T19:36:52.560361Z",
     "shell.execute_reply": "2022-06-22T19:36:52.559726Z"
    }
   },
   "outputs": [
    {
     "data": {
      "image/svg+xml": [
       "<?xml version=\"1.0\" encoding=\"utf-8\" standalone=\"no\"?>\n",
       "<!DOCTYPE svg PUBLIC \"-//W3C//DTD SVG 1.1//EN\"\n",
       "  \"http://www.w3.org/Graphics/SVG/1.1/DTD/svg11.dtd\">\n",
       "<svg xmlns:xlink=\"http://www.w3.org/1999/xlink\" width=\"280.8pt\" height=\"280.8pt\" viewBox=\"0 0 280.8 280.8\" xmlns=\"http://www.w3.org/2000/svg\" version=\"1.1\">\n",
       " <metadata>\n",
       "  <rdf:RDF xmlns:dc=\"http://purl.org/dc/elements/1.1/\" xmlns:cc=\"http://creativecommons.org/ns#\" xmlns:rdf=\"http://www.w3.org/1999/02/22-rdf-syntax-ns#\">\n",
       "   <cc:Work>\n",
       "    <dc:type rdf:resource=\"http://purl.org/dc/dcmitype/StillImage\"/>\n",
       "    <dc:date>2022-06-22T19:36:52.553601</dc:date>\n",
       "    <dc:format>image/svg+xml</dc:format>\n",
       "    <dc:creator>\n",
       "     <cc:Agent>\n",
       "      <dc:title>Matplotlib v3.5.2, https://matplotlib.org/</dc:title>\n",
       "     </cc:Agent>\n",
       "    </dc:creator>\n",
       "   </cc:Work>\n",
       "  </rdf:RDF>\n",
       " </metadata>\n",
       " <defs>\n",
       "  <style type=\"text/css\">*{stroke-linejoin: round; stroke-linecap: butt}</style>\n",
       " </defs>\n",
       " <g id=\"figure_1\">\n",
       "  <g id=\"patch_1\">\n",
       "   <path d=\"M 0 280.8 \n",
       "L 280.8 280.8 \n",
       "L 280.8 0 \n",
       "L 0 0 \n",
       "L 0 280.8 \n",
       "z\n",
       "\" style=\"fill: none\"/>\n",
       "  </g>\n",
       "  <g id=\"axes_1\">\n",
       "   <g clip-path=\"url(#p49549cc081)\">\n",
       "    <image xlink:href=\"data:image/png;base64,\n",
       "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\" id=\"image8ec1b05b50\" transform=\"matrix(2.67 0 0 2.67 7.2 6.6)\" style=\"image-rendering:crisp-edges;image-rendering:pixelated\" width=\"100\" height=\"100\"/>\n",
       "   </g>\n",
       "  </g>\n",
       " </g>\n",
       " <defs>\n",
       "  <clipPath id=\"p49549cc081\">\n",
       "   <rect x=\"7.2\" y=\"7.2\" width=\"266.4\" height=\"266.4\"/>\n",
       "  </clipPath>\n",
       " </defs>\n",
       "</svg>\n"
      ],
      "text/plain": [
       "<Figure size 288x288 with 1 Axes>"
      ]
     },
     "metadata": {
      "needs_background": "light"
     },
     "output_type": "display_data"
    }
   ],
   "source": [
    "im = ps.tools.insert_cylinder(im=im*1.0, xyz0=[20, 20, 20], xyz1=[60, 60, 50], r=20)\n",
    "\n",
    "fig, ax = plt.subplots(figsize=[4, 4]);\n",
    "ax.imshow(ps.visualization.xray(~(im > 1)));\n",
    "plt.axis(False);"
   ]
  },
  {
   "cell_type": "code",
   "execution_count": null,
   "id": "wound-quebec",
   "metadata": {},
   "outputs": [],
   "source": []
  }
 ],
 "metadata": {
  "kernelspec": {
   "display_name": "Python 3 (ipykernel)",
   "language": "python",
   "name": "python3"
  },
  "language_info": {
   "codemirror_mode": {
    "name": "ipython",
    "version": 3
   },
   "file_extension": ".py",
   "mimetype": "text/x-python",
   "name": "python",
   "nbconvert_exporter": "python",
   "pygments_lexer": "ipython3",
   "version": "3.8.13"
  }
 },
 "nbformat": 4,
 "nbformat_minor": 5
}
