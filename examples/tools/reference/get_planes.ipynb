{
 "cells": [
  {
   "cell_type": "markdown",
   "id": "august-ranking",
   "metadata": {},
   "source": [
    "# `get_planes`"
   ]
  },
  {
   "cell_type": "markdown",
   "id": "otherwise-blame",
   "metadata": {},
   "source": [
    "## Import packages"
   ]
  },
  {
   "cell_type": "code",
   "execution_count": 1,
   "id": "chicken-dodge",
   "metadata": {
    "execution": {
     "iopub.execute_input": "2022-04-26T09:12:22.386486Z",
     "iopub.status.busy": "2022-04-26T09:12:22.386092Z",
     "iopub.status.idle": "2022-04-26T09:12:24.472478Z",
     "shell.execute_reply": "2022-04-26T09:12:24.471814Z"
    }
   },
   "outputs": [],
   "source": [
    "import numpy as np\n",
    "import porespy as ps\n",
    "import scipy.ndimage as spim\n",
    "import matplotlib.pyplot as plt\n",
    "import skimage\n",
    "\n",
    "ps.visualization.set_mpl_style()"
   ]
  },
  {
   "cell_type": "markdown",
   "id": "sized-wonder",
   "metadata": {},
   "source": [
    "## Generate image for testing"
   ]
  },
  {
   "cell_type": "code",
   "execution_count": 2,
   "id": "finnish-canvas",
   "metadata": {
    "execution": {
     "iopub.execute_input": "2022-04-26T09:12:24.476709Z",
     "iopub.status.busy": "2022-04-26T09:12:24.476416Z",
     "iopub.status.idle": "2022-04-26T09:12:24.604086Z",
     "shell.execute_reply": "2022-04-26T09:12:24.603640Z"
    }
   },
   "outputs": [
    {
     "data": {
      "image/svg+xml": [
       "<?xml version=\"1.0\" encoding=\"utf-8\" standalone=\"no\"?>\n",
       "<!DOCTYPE svg PUBLIC \"-//W3C//DTD SVG 1.1//EN\"\n",
       "  \"http://www.w3.org/Graphics/SVG/1.1/DTD/svg11.dtd\">\n",
       "<svg xmlns:xlink=\"http://www.w3.org/1999/xlink\" width=\"276.48pt\" height=\"276.48pt\" viewBox=\"0 0 276.48 276.48\" xmlns=\"http://www.w3.org/2000/svg\" version=\"1.1\">\n",
       " <metadata>\n",
       "  <rdf:RDF xmlns:dc=\"http://purl.org/dc/elements/1.1/\" xmlns:cc=\"http://creativecommons.org/ns#\" xmlns:rdf=\"http://www.w3.org/1999/02/22-rdf-syntax-ns#\">\n",
       "   <cc:Work>\n",
       "    <dc:type rdf:resource=\"http://purl.org/dc/dcmitype/StillImage\"/>\n",
       "    <dc:date>2022-04-26T09:12:24.592971</dc:date>\n",
       "    <dc:format>image/svg+xml</dc:format>\n",
       "    <dc:creator>\n",
       "     <cc:Agent>\n",
       "      <dc:title>Matplotlib v3.5.1, https://matplotlib.org/</dc:title>\n",
       "     </cc:Agent>\n",
       "    </dc:creator>\n",
       "   </cc:Work>\n",
       "  </rdf:RDF>\n",
       " </metadata>\n",
       " <defs>\n",
       "  <style type=\"text/css\">*{stroke-linejoin: round; stroke-linecap: butt}</style>\n",
       " </defs>\n",
       " <g id=\"figure_1\">\n",
       "  <g id=\"patch_1\">\n",
       "   <path d=\"M 0 276.48 \n",
       "L 276.48 276.48 \n",
       "L 276.48 0 \n",
       "L 0 0 \n",
       "L 0 276.48 \n",
       "z\n",
       "\" style=\"fill: none\"/>\n",
       "  </g>\n",
       "  <g id=\"axes_1\">\n",
       "   <g clip-path=\"url(#pde2ef8b023)\">\n",
       "    <image xlink:href=\"data:image/png;base64,\n",
       "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\" id=\"image5eb5d1c888\" transform=\"matrix(2.63 0 0 2.63 7.2 6.28)\" style=\"image-rendering:crisp-edges;image-rendering:pixelated\" width=\"100\" height=\"100\"/>\n",
       "   </g>\n",
       "  </g>\n",
       " </g>\n",
       " <defs>\n",
       "  <clipPath id=\"pde2ef8b023\">\n",
       "   <rect x=\"7.2\" y=\"7.2\" width=\"262.08\" height=\"262.08\"/>\n",
       "  </clipPath>\n",
       " </defs>\n",
       "</svg>\n"
      ],
      "text/plain": [
       "<Figure size 288x288 with 1 Axes>"
      ]
     },
     "metadata": {
      "needs_background": "light"
     },
     "output_type": "display_data"
    }
   ],
   "source": [
    "im = ps.generators.blobs([100, 100, 100], blobiness=[1, 2, 3])\n",
    "\n",
    "fig, ax = plt.subplots(figsize=[4, 4]);\n",
    "ax.imshow(im[50, ...])\n",
    "ax.axis(False);"
   ]
  },
  {
   "cell_type": "markdown",
   "id": "scenic-midnight",
   "metadata": {},
   "source": [
    "## Demonstrate function"
   ]
  },
  {
   "cell_type": "code",
   "execution_count": 3,
   "id": "fuzzy-decision",
   "metadata": {
    "execution": {
     "iopub.execute_input": "2022-04-26T09:12:24.607303Z",
     "iopub.status.busy": "2022-04-26T09:12:24.606979Z",
     "iopub.status.idle": "2022-04-26T09:12:24.696704Z",
     "shell.execute_reply": "2022-04-26T09:12:24.696275Z"
    }
   },
   "outputs": [
    {
     "data": {
      "image/svg+xml": [
       "<?xml version=\"1.0\" encoding=\"utf-8\" standalone=\"no\"?>\n",
       "<!DOCTYPE svg PUBLIC \"-//W3C//DTD SVG 1.1//EN\"\n",
       "  \"http://www.w3.org/Graphics/SVG/1.1/DTD/svg11.dtd\">\n",
       "<svg xmlns:xlink=\"http://www.w3.org/1999/xlink\" width=\"564.48pt\" height=\"189.12pt\" viewBox=\"0 0 564.48 189.12\" xmlns=\"http://www.w3.org/2000/svg\" version=\"1.1\">\n",
       " <metadata>\n",
       "  <rdf:RDF xmlns:dc=\"http://purl.org/dc/elements/1.1/\" xmlns:cc=\"http://creativecommons.org/ns#\" xmlns:rdf=\"http://www.w3.org/1999/02/22-rdf-syntax-ns#\">\n",
       "   <cc:Work>\n",
       "    <dc:type rdf:resource=\"http://purl.org/dc/dcmitype/StillImage\"/>\n",
       "    <dc:date>2022-04-26T09:12:24.685297</dc:date>\n",
       "    <dc:format>image/svg+xml</dc:format>\n",
       "    <dc:creator>\n",
       "     <cc:Agent>\n",
       "      <dc:title>Matplotlib v3.5.1, https://matplotlib.org/</dc:title>\n",
       "     </cc:Agent>\n",
       "    </dc:creator>\n",
       "   </cc:Work>\n",
       "  </rdf:RDF>\n",
       " </metadata>\n",
       " <defs>\n",
       "  <style type=\"text/css\">*{stroke-linejoin: round; stroke-linecap: butt}</style>\n",
       " </defs>\n",
       " <g id=\"figure_1\">\n",
       "  <g id=\"patch_1\">\n",
       "   <path d=\"M 0 189.12 \n",
       "L 564.48 189.12 \n",
       "L 564.48 0 \n",
       "L 0 0 \n",
       "L 0 189.12 \n",
       "z\n",
       "\" style=\"fill: none\"/>\n",
       "  </g>\n",
       "  <g id=\"axes_1\">\n",
       "   <g clip-path=\"url(#p3e0cf58495)\">\n",
       "    <image xlink:href=\"data:image/png;base64,\n",
       "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\" id=\"image032b416089\" transform=\"matrix(1.75 0 0 1.75 7.2 6.92)\" style=\"image-rendering:crisp-edges;image-rendering:pixelated\" width=\"100\" height=\"100\"/>\n",
       "   </g>\n",
       "  </g>\n",
       "  <g id=\"axes_2\">\n",
       "   <g clip-path=\"url(#pc5aebffdc2)\">\n",
       "    <image xlink:href=\"data:image/png;base64,\n",
       "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\" id=\"imageb6342eaa9b\" transform=\"matrix(1.75 0 0 1.75 194.88 6.92)\" style=\"image-rendering:crisp-edges;image-rendering:pixelated\" width=\"100\" height=\"100\"/>\n",
       "   </g>\n",
       "  </g>\n",
       "  <g id=\"axes_3\">\n",
       "   <g clip-path=\"url(#pc118d55bd1)\">\n",
       "    <image xlink:href=\"data:image/png;base64,\n",
       "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\" id=\"image0aa38ccee6\" transform=\"matrix(1.75 0 0 1.75 382.56 6.92)\" style=\"image-rendering:crisp-edges;image-rendering:pixelated\" width=\"100\" height=\"100\"/>\n",
       "   </g>\n",
       "  </g>\n",
       " </g>\n",
       " <defs>\n",
       "  <clipPath id=\"p3e0cf58495\">\n",
       "   <rect x=\"7.2\" y=\"7.2\" width=\"174.72\" height=\"174.72\"/>\n",
       "  </clipPath>\n",
       "  <clipPath id=\"pc5aebffdc2\">\n",
       "   <rect x=\"194.88\" y=\"7.2\" width=\"174.72\" height=\"174.72\"/>\n",
       "  </clipPath>\n",
       "  <clipPath id=\"pc118d55bd1\">\n",
       "   <rect x=\"382.56\" y=\"7.2\" width=\"174.72\" height=\"174.72\"/>\n",
       "  </clipPath>\n",
       " </defs>\n",
       "</svg>\n"
      ],
      "text/plain": [
       "<Figure size 576x288 with 3 Axes>"
      ]
     },
     "metadata": {
      "needs_background": "light"
     },
     "output_type": "display_data"
    }
   ],
   "source": [
    "im1,im2,im3 = ps.tools.get_planes(im=im, squeeze=True)\n",
    "fig, ax = plt.subplots(1, 3, figsize=[8, 4]);\n",
    "ax[0].axis(False)\n",
    "ax[0].imshow(im1)\n",
    "ax[1].axis(False)\n",
    "ax[1].imshow(im2)\n",
    "ax[2].axis(False)\n",
    "ax[2].imshow(im3);"
   ]
  }
 ],
 "metadata": {
  "kernelspec": {
   "display_name": "Python 3 (ipykernel)",
   "language": "python",
   "name": "python3"
  },
  "language_info": {
   "codemirror_mode": {
    "name": "ipython",
    "version": 3
   },
   "file_extension": ".py",
   "mimetype": "text/x-python",
   "name": "python",
   "nbconvert_exporter": "python",
   "pygments_lexer": "ipython3",
   "version": "3.8.13"
  }
 },
 "nbformat": 4,
 "nbformat_minor": 5
}
