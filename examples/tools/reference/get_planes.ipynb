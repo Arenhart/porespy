{
 "cells": [
  {
   "cell_type": "markdown",
   "id": "august-ranking",
   "metadata": {},
   "source": [
    "# get_planes"
   ]
  },
  {
   "cell_type": "markdown",
   "id": "otherwise-blame",
   "metadata": {},
   "source": [
    "## Import packages"
   ]
  },
  {
   "cell_type": "code",
   "execution_count": 1,
   "id": "chicken-dodge",
   "metadata": {
    "execution": {
     "iopub.execute_input": "2022-03-30T13:48:15.922497Z",
     "iopub.status.busy": "2022-03-30T13:48:15.922230Z",
     "iopub.status.idle": "2022-03-30T13:48:18.151729Z",
     "shell.execute_reply": "2022-03-30T13:48:18.150870Z"
    }
   },
   "outputs": [],
   "source": [
    "import numpy as np\n",
    "import porespy as ps\n",
    "import scipy.ndimage as spim\n",
    "import matplotlib.pyplot as plt\n",
    "import skimage\n",
    "\n",
    "ps.visualization.set_mpl_style()"
   ]
  },
  {
   "cell_type": "markdown",
   "id": "sized-wonder",
   "metadata": {},
   "source": [
    "## Generate image for testing"
   ]
  },
  {
   "cell_type": "code",
   "execution_count": 2,
   "id": "finnish-canvas",
   "metadata": {
    "execution": {
     "iopub.execute_input": "2022-03-30T13:48:18.155388Z",
     "iopub.status.busy": "2022-03-30T13:48:18.155183Z",
     "iopub.status.idle": "2022-03-30T13:48:18.287322Z",
     "shell.execute_reply": "2022-03-30T13:48:18.286849Z"
    }
   },
   "outputs": [
    {
     "data": {
      "image/svg+xml": [
       "<?xml version=\"1.0\" encoding=\"utf-8\" standalone=\"no\"?>\n",
       "<!DOCTYPE svg PUBLIC \"-//W3C//DTD SVG 1.1//EN\"\n",
       "  \"http://www.w3.org/Graphics/SVG/1.1/DTD/svg11.dtd\">\n",
       "<svg xmlns:xlink=\"http://www.w3.org/1999/xlink\" width=\"276.48pt\" height=\"276.48pt\" viewBox=\"0 0 276.48 276.48\" xmlns=\"http://www.w3.org/2000/svg\" version=\"1.1\">\n",
       " <metadata>\n",
       "  <rdf:RDF xmlns:dc=\"http://purl.org/dc/elements/1.1/\" xmlns:cc=\"http://creativecommons.org/ns#\" xmlns:rdf=\"http://www.w3.org/1999/02/22-rdf-syntax-ns#\">\n",
       "   <cc:Work>\n",
       "    <dc:type rdf:resource=\"http://purl.org/dc/dcmitype/StillImage\"/>\n",
       "    <dc:date>2022-03-30T13:48:18.274923</dc:date>\n",
       "    <dc:format>image/svg+xml</dc:format>\n",
       "    <dc:creator>\n",
       "     <cc:Agent>\n",
       "      <dc:title>Matplotlib v3.5.1, https://matplotlib.org/</dc:title>\n",
       "     </cc:Agent>\n",
       "    </dc:creator>\n",
       "   </cc:Work>\n",
       "  </rdf:RDF>\n",
       " </metadata>\n",
       " <defs>\n",
       "  <style type=\"text/css\">*{stroke-linejoin: round; stroke-linecap: butt}</style>\n",
       " </defs>\n",
       " <g id=\"figure_1\">\n",
       "  <g id=\"patch_1\">\n",
       "   <path d=\"M 0 276.48 \n",
       "L 276.48 276.48 \n",
       "L 276.48 0 \n",
       "L 0 0 \n",
       "L 0 276.48 \n",
       "z\n",
       "\" style=\"fill: none\"/>\n",
       "  </g>\n",
       "  <g id=\"axes_1\">\n",
       "   <g clip-path=\"url(#pb513be8e96)\">\n",
       "    <image xlink:href=\"data:image/png;base64,\n",
       "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\" id=\"image3d2d745f96\" transform=\"matrix(2.63 0 0 2.63 7.2 6.28)\" style=\"image-rendering:crisp-edges;image-rendering:pixelated\" width=\"100\" height=\"100\"/>\n",
       "   </g>\n",
       "  </g>\n",
       " </g>\n",
       " <defs>\n",
       "  <clipPath id=\"pb513be8e96\">\n",
       "   <rect x=\"7.2\" y=\"7.2\" width=\"262.08\" height=\"262.08\"/>\n",
       "  </clipPath>\n",
       " </defs>\n",
       "</svg>\n"
      ],
      "text/plain": [
       "<Figure size 288x288 with 1 Axes>"
      ]
     },
     "metadata": {
      "needs_background": "light"
     },
     "output_type": "display_data"
    }
   ],
   "source": [
    "im = ps.generators.blobs([100, 100, 100], blobiness=[1, 2, 3])\n",
    "\n",
    "fig, ax = plt.subplots(figsize=[4, 4]);\n",
    "ax.imshow(im[50, ...])\n",
    "ax.axis(False);"
   ]
  },
  {
   "cell_type": "markdown",
   "id": "scenic-midnight",
   "metadata": {},
   "source": [
    "## Demonstrate function"
   ]
  },
  {
   "cell_type": "code",
   "execution_count": 3,
   "id": "fuzzy-decision",
   "metadata": {
    "execution": {
     "iopub.execute_input": "2022-03-30T13:48:18.291019Z",
     "iopub.status.busy": "2022-03-30T13:48:18.289906Z",
     "iopub.status.idle": "2022-03-30T13:48:18.389883Z",
     "shell.execute_reply": "2022-03-30T13:48:18.389374Z"
    }
   },
   "outputs": [
    {
     "data": {
      "image/svg+xml": [
       "<?xml version=\"1.0\" encoding=\"utf-8\" standalone=\"no\"?>\n",
       "<!DOCTYPE svg PUBLIC \"-//W3C//DTD SVG 1.1//EN\"\n",
       "  \"http://www.w3.org/Graphics/SVG/1.1/DTD/svg11.dtd\">\n",
       "<svg xmlns:xlink=\"http://www.w3.org/1999/xlink\" width=\"564.48pt\" height=\"189.12pt\" viewBox=\"0 0 564.48 189.12\" xmlns=\"http://www.w3.org/2000/svg\" version=\"1.1\">\n",
       " <metadata>\n",
       "  <rdf:RDF xmlns:dc=\"http://purl.org/dc/elements/1.1/\" xmlns:cc=\"http://creativecommons.org/ns#\" xmlns:rdf=\"http://www.w3.org/1999/02/22-rdf-syntax-ns#\">\n",
       "   <cc:Work>\n",
       "    <dc:type rdf:resource=\"http://purl.org/dc/dcmitype/StillImage\"/>\n",
       "    <dc:date>2022-03-30T13:48:18.373526</dc:date>\n",
       "    <dc:format>image/svg+xml</dc:format>\n",
       "    <dc:creator>\n",
       "     <cc:Agent>\n",
       "      <dc:title>Matplotlib v3.5.1, https://matplotlib.org/</dc:title>\n",
       "     </cc:Agent>\n",
       "    </dc:creator>\n",
       "   </cc:Work>\n",
       "  </rdf:RDF>\n",
       " </metadata>\n",
       " <defs>\n",
       "  <style type=\"text/css\">*{stroke-linejoin: round; stroke-linecap: butt}</style>\n",
       " </defs>\n",
       " <g id=\"figure_1\">\n",
       "  <g id=\"patch_1\">\n",
       "   <path d=\"M 0 189.12 \n",
       "L 564.48 189.12 \n",
       "L 564.48 0 \n",
       "L 0 0 \n",
       "L 0 189.12 \n",
       "z\n",
       "\" style=\"fill: none\"/>\n",
       "  </g>\n",
       "  <g id=\"axes_1\">\n",
       "   <g clip-path=\"url(#pfea01883b8)\">\n",
       "    <image xlink:href=\"data:image/png;base64,\n",
       "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\" id=\"image4e27e2180d\" transform=\"matrix(1.75 0 0 1.75 7.2 6.92)\" style=\"image-rendering:crisp-edges;image-rendering:pixelated\" width=\"100\" height=\"100\"/>\n",
       "   </g>\n",
       "  </g>\n",
       "  <g id=\"axes_2\">\n",
       "   <g clip-path=\"url(#pc3a790ffe5)\">\n",
       "    <image xlink:href=\"data:image/png;base64,\n",
       "iVBORw0KGgoAAAANSUhEUgAAAGQAAABkCAYAAABw4pVUAAAGc0lEQVR4nO1d7W0jOwzcM1JFqkgRD0gDr9l0kSrSxnu/HCiyKM2QQ0oOboDgcOuVRC31QQ1n7T///Pn3v4+vz2uE99e367quq/18dG1UZoRRPTPM2rA+8wCxhcXdvr7uj6/P4bU7bnJLfhG8Tm/LsXVMHdJXFh1JTPlZR5hOKkZ/dDbeyyP13FY3KZcGFLM2Zw/Y8/BXSzDzMCN4f3273l/fsCXrfjNyXxVQm0YP8l4uc+9Ar/d2pO0hmSMq8iAjzuj79PH1+f03a4vB0iGedb/9t3LJq2gLbcM7aJYO6SMGZs+xwubKpa0aff/YvrqWrMwoh6l7R8BhQWWLew9hHrRyRmQ4wVvn7IDnbQ9ySNZItCKgZ17Sos/qwSGqB4LWwUQoqzODpz2L4qiEmzrZaXTlmaESvQ0p55DR2jo7oLH1KYA4g22X7c/IBtgh1lT3GoXUpS6jKLvqX3TwSGaIgoo4ZflQRVxemA6p2i+sdqrzHbsdccfffMgEIydF9kKkPcohVYShhzH1tpVZBi37g+1d5RcypzsClPZv/yJtzM4/qD0rhE/qmahKAPVYPfgIWBK2RdrBMJL+3XEAtdpkGAfFoIIzhgy8+ZDsXANTVxXr3Lf/4JATzgMZyCIt1YfM4QwZjeysKGO2VDwr6xuxm5IBscikUZAweVVu1LZyxLPCwOsSRll9g88wuitYAtYpN/RGL6ocs1KAVMOawTPeD9ZlRYyJwjPto+14wOyTs3tfQlYADVzXXHjM1vXbQeVDTpCdnuiw6KGyRVjksBr1DFHI0hnW/VHuSRlys9qCoUNU2tcTNljWBiv9nNmXltkIbeqzsFGdls1QmqiRwmV5xV8svIdGlT0qJkIhTWoxTeF6CLZnpjyua/8yuz0f0uMEba96eVzV9/B+SLRjGRqnHcikf9BnLBVbK+Lx0xyH7qmqyPThHcPKNZTZb05zlAf9uzYjTEUODLz1rLgq9mUfNBI7wcGwlBTpEEP6VexRJwBV6MxYim/6PVuz2hrkufcUJWN2quJ7huwYhUrKm+G8Tp5xZpRVPSIz67ckoT1PxZwXVLb1cL+OoDZEAdWGP6o3oz+w6kTZICpGyHagJ5ezQyIbckj2SzOZChEU1Y5Kod9HsNK4SBtqRlWBrAHhcohnTUXLsGcgLzziPRVmA+wothfZY9glpA+NrYHRclFMoowV6a1m+zEOyaA7PDzZyuHRRNas7utqyEWUemaT9hVAbDqBu2phscPDk7pK1sIoTrxolwCW7qh0EqqyebFuRgqzOClKmqFf5ysdl/LCTguFE6rkpCiy2G1TBqR+AGzMnsXyjrDaO1XLNGrLrf2PquJnA0KrVNHxP2bIanSc4qRdou3MRNv9s5frqlmXUZKRxSqSY0LiVQp51p4KDzn13Tl2pQ0tqshIxI4ZqC+fyQ59Tzp0om2obPmRU7c+VDRi8TfK6OU0+Wpk1ZG8QbXCLELJHu2rjVTtSJbRNqkTFrvW4xP2gR5KpmNbxtBbXzSPgQgaspyO2JdOv3s6N5rSSsnpDmegkL70OSrjRdteVh5kB1a2mT/ocrI+FhXI7YR3MNLa3t1T2oOKfIhKneJSv1c6RaXlYvciBTxtleTUZxxR9ii1cAr52Jd5sT5QoF/rM2eWFc4qKSBvH5gDKDxDolPeelBeJ50QUGTU8TS/jvCb0Q5KyVu4TIMWZiI2Rf3KtDDDSrOp6xJyMRMVh9WKleFu1/KXPtHKPAdMtT7LiuaiwgPmehThsLdSIWJhpN/tr1fb4cXyW0lZAYEi05YdyWSUU7WV8rN5iGSmquO75aIWLLvS8iFRHROqUsl44DvD+3TqBE0oIWK1ZwATRIzu+6FcRN9hsK5FgCaWnsUxXpS/sNPzOqezzdXtljqEIQDVbZ5Szwrb6HcVqmdLupSULZBlUDt7KmZQhEGI5nL68i2PdxvdiFYYARIoIGRjRKGv6AdLiK4GG5zCRSOckXRUnR1Uz5jVbMnQi1kDUrqHRIzKFnKPMMoAZhCRCL7Z3mhFaEPez7OQ1edovWm/sKOowzuDdkpBo0hLUCmlnx7cD6CoMOEUJ07fMdwF6yGuhBEe+70DJyvSHH4Z/05qvE8usWcSr1Mq+z2D7Icl2YNWdE+oDAZGg2M0Yyw7meOC62DowUrNfgqLu3uWDL98pt0QKzCjTdDyq6Wtsi+Rto58YSeKXc5Q4H/j7uM7jRciRgAAAABJRU5ErkJggg==\" id=\"imagedecefe9fa0\" transform=\"matrix(1.75 0 0 1.75 194.88 6.92)\" style=\"image-rendering:crisp-edges;image-rendering:pixelated\" width=\"100\" height=\"100\"/>\n",
       "   </g>\n",
       "  </g>\n",
       "  <g id=\"axes_3\">\n",
       "   <g clip-path=\"url(#pc5bb25c81e)\">\n",
       "    <image xlink:href=\"data:image/png;base64,\n",
       "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\" id=\"image5a2c5b5dc3\" transform=\"matrix(1.75 0 0 1.75 382.56 6.92)\" style=\"image-rendering:crisp-edges;image-rendering:pixelated\" width=\"100\" height=\"100\"/>\n",
       "   </g>\n",
       "  </g>\n",
       " </g>\n",
       " <defs>\n",
       "  <clipPath id=\"pfea01883b8\">\n",
       "   <rect x=\"7.2\" y=\"7.2\" width=\"174.72\" height=\"174.72\"/>\n",
       "  </clipPath>\n",
       "  <clipPath id=\"pc3a790ffe5\">\n",
       "   <rect x=\"194.88\" y=\"7.2\" width=\"174.72\" height=\"174.72\"/>\n",
       "  </clipPath>\n",
       "  <clipPath id=\"pc5bb25c81e\">\n",
       "   <rect x=\"382.56\" y=\"7.2\" width=\"174.72\" height=\"174.72\"/>\n",
       "  </clipPath>\n",
       " </defs>\n",
       "</svg>\n"
      ],
      "text/plain": [
       "<Figure size 576x288 with 3 Axes>"
      ]
     },
     "metadata": {
      "needs_background": "light"
     },
     "output_type": "display_data"
    }
   ],
   "source": [
    "im1,im2,im3 = ps.tools.get_planes(im=im, squeeze=True)\n",
    "fig, ax = plt.subplots(1, 3, figsize=[8, 4]);\n",
    "ax[0].axis(False)\n",
    "ax[0].imshow(im1)\n",
    "ax[1].axis(False)\n",
    "ax[1].imshow(im2)\n",
    "ax[2].axis(False)\n",
    "ax[2].imshow(im3);"
   ]
  }
 ],
 "metadata": {
  "kernelspec": {
   "display_name": "Python 3",
   "language": "python",
   "name": "python3"
  },
  "language_info": {
   "codemirror_mode": {
    "name": "ipython",
    "version": 3
   },
   "file_extension": ".py",
   "mimetype": "text/x-python",
   "name": "python",
   "nbconvert_exporter": "python",
   "pygments_lexer": "ipython3",
   "version": "3.8.13"
  }
 },
 "nbformat": 4,
 "nbformat_minor": 5
}
