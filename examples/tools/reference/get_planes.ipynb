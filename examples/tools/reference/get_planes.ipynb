{
 "cells": [
  {
   "cell_type": "markdown",
   "id": "august-ranking",
   "metadata": {},
   "source": [
    "# `get_planes`"
   ]
  },
  {
   "cell_type": "markdown",
   "id": "otherwise-blame",
   "metadata": {},
   "source": [
    "## Import packages"
   ]
  },
  {
   "cell_type": "code",
   "execution_count": 1,
   "id": "chicken-dodge",
   "metadata": {
    "execution": {
     "iopub.execute_input": "2022-06-22T19:36:46.317492Z",
     "iopub.status.busy": "2022-06-22T19:36:46.317214Z",
     "iopub.status.idle": "2022-06-22T19:36:48.206640Z",
     "shell.execute_reply": "2022-06-22T19:36:48.205830Z"
    }
   },
   "outputs": [],
   "source": [
    "import numpy as np\n",
    "import porespy as ps\n",
    "import scipy.ndimage as spim\n",
    "import matplotlib.pyplot as plt\n",
    "import skimage\n",
    "\n",
    "ps.visualization.set_mpl_style()"
   ]
  },
  {
   "cell_type": "markdown",
   "id": "sized-wonder",
   "metadata": {},
   "source": [
    "## Generate image for testing"
   ]
  },
  {
   "cell_type": "code",
   "execution_count": 2,
   "id": "finnish-canvas",
   "metadata": {
    "execution": {
     "iopub.execute_input": "2022-06-22T19:36:48.211421Z",
     "iopub.status.busy": "2022-06-22T19:36:48.210744Z",
     "iopub.status.idle": "2022-06-22T19:36:48.328428Z",
     "shell.execute_reply": "2022-06-22T19:36:48.327879Z"
    }
   },
   "outputs": [
    {
     "data": {
      "image/svg+xml": [
       "<?xml version=\"1.0\" encoding=\"utf-8\" standalone=\"no\"?>\n",
       "<!DOCTYPE svg PUBLIC \"-//W3C//DTD SVG 1.1//EN\"\n",
       "  \"http://www.w3.org/Graphics/SVG/1.1/DTD/svg11.dtd\">\n",
       "<svg xmlns:xlink=\"http://www.w3.org/1999/xlink\" width=\"280.8pt\" height=\"280.8pt\" viewBox=\"0 0 280.8 280.8\" xmlns=\"http://www.w3.org/2000/svg\" version=\"1.1\">\n",
       " <metadata>\n",
       "  <rdf:RDF xmlns:dc=\"http://purl.org/dc/elements/1.1/\" xmlns:cc=\"http://creativecommons.org/ns#\" xmlns:rdf=\"http://www.w3.org/1999/02/22-rdf-syntax-ns#\">\n",
       "   <cc:Work>\n",
       "    <dc:type rdf:resource=\"http://purl.org/dc/dcmitype/StillImage\"/>\n",
       "    <dc:date>2022-06-22T19:36:48.318103</dc:date>\n",
       "    <dc:format>image/svg+xml</dc:format>\n",
       "    <dc:creator>\n",
       "     <cc:Agent>\n",
       "      <dc:title>Matplotlib v3.5.2, https://matplotlib.org/</dc:title>\n",
       "     </cc:Agent>\n",
       "    </dc:creator>\n",
       "   </cc:Work>\n",
       "  </rdf:RDF>\n",
       " </metadata>\n",
       " <defs>\n",
       "  <style type=\"text/css\">*{stroke-linejoin: round; stroke-linecap: butt}</style>\n",
       " </defs>\n",
       " <g id=\"figure_1\">\n",
       "  <g id=\"patch_1\">\n",
       "   <path d=\"M 0 280.8 \n",
       "L 280.8 280.8 \n",
       "L 280.8 0 \n",
       "L 0 0 \n",
       "L 0 280.8 \n",
       "z\n",
       "\" style=\"fill: none\"/>\n",
       "  </g>\n",
       "  <g id=\"axes_1\">\n",
       "   <g clip-path=\"url(#pd9cbbce790)\">\n",
       "    <image xlink:href=\"data:image/png;base64,\n",
       "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\" id=\"image739a8be009\" transform=\"matrix(2.67 0 0 2.67 7.2 6.6)\" style=\"image-rendering:crisp-edges;image-rendering:pixelated\" width=\"100\" height=\"100\"/>\n",
       "   </g>\n",
       "  </g>\n",
       " </g>\n",
       " <defs>\n",
       "  <clipPath id=\"pd9cbbce790\">\n",
       "   <rect x=\"7.2\" y=\"7.2\" width=\"266.4\" height=\"266.4\"/>\n",
       "  </clipPath>\n",
       " </defs>\n",
       "</svg>\n"
      ],
      "text/plain": [
       "<Figure size 288x288 with 1 Axes>"
      ]
     },
     "metadata": {
      "needs_background": "light"
     },
     "output_type": "display_data"
    }
   ],
   "source": [
    "im = ps.generators.blobs([100, 100, 100], blobiness=[1, 2, 3])\n",
    "\n",
    "fig, ax = plt.subplots(figsize=[4, 4]);\n",
    "ax.imshow(im[50, ...])\n",
    "ax.axis(False);"
   ]
  },
  {
   "cell_type": "markdown",
   "id": "scenic-midnight",
   "metadata": {},
   "source": [
    "## Demonstrate function"
   ]
  },
  {
   "cell_type": "code",
   "execution_count": 3,
   "id": "fuzzy-decision",
   "metadata": {
    "execution": {
     "iopub.execute_input": "2022-06-22T19:36:48.331544Z",
     "iopub.status.busy": "2022-06-22T19:36:48.331163Z",
     "iopub.status.idle": "2022-06-22T19:36:48.414003Z",
     "shell.execute_reply": "2022-06-22T19:36:48.413463Z"
    }
   },
   "outputs": [
    {
     "data": {
      "image/svg+xml": [
       "<?xml version=\"1.0\" encoding=\"utf-8\" standalone=\"no\"?>\n",
       "<!DOCTYPE svg PUBLIC \"-//W3C//DTD SVG 1.1//EN\"\n",
       "  \"http://www.w3.org/Graphics/SVG/1.1/DTD/svg11.dtd\">\n",
       "<svg xmlns:xlink=\"http://www.w3.org/1999/xlink\" width=\"568.8pt\" height=\"192pt\" viewBox=\"0 0 568.8 192\" xmlns=\"http://www.w3.org/2000/svg\" version=\"1.1\">\n",
       " <metadata>\n",
       "  <rdf:RDF xmlns:dc=\"http://purl.org/dc/elements/1.1/\" xmlns:cc=\"http://creativecommons.org/ns#\" xmlns:rdf=\"http://www.w3.org/1999/02/22-rdf-syntax-ns#\">\n",
       "   <cc:Work>\n",
       "    <dc:type rdf:resource=\"http://purl.org/dc/dcmitype/StillImage\"/>\n",
       "    <dc:date>2022-06-22T19:36:48.402908</dc:date>\n",
       "    <dc:format>image/svg+xml</dc:format>\n",
       "    <dc:creator>\n",
       "     <cc:Agent>\n",
       "      <dc:title>Matplotlib v3.5.2, https://matplotlib.org/</dc:title>\n",
       "     </cc:Agent>\n",
       "    </dc:creator>\n",
       "   </cc:Work>\n",
       "  </rdf:RDF>\n",
       " </metadata>\n",
       " <defs>\n",
       "  <style type=\"text/css\">*{stroke-linejoin: round; stroke-linecap: butt}</style>\n",
       " </defs>\n",
       " <g id=\"figure_1\">\n",
       "  <g id=\"patch_1\">\n",
       "   <path d=\"M 0 192 \n",
       "L 568.8 192 \n",
       "L 568.8 0 \n",
       "L 0 0 \n",
       "L 0 192 \n",
       "z\n",
       "\" style=\"fill: none\"/>\n",
       "  </g>\n",
       "  <g id=\"axes_1\">\n",
       "   <g clip-path=\"url(#p260e9513de)\">\n",
       "    <image xlink:href=\"data:image/png;base64,\n",
       "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\" id=\"imagec840b1cafa\" transform=\"matrix(1.78 0 0 1.78 7.2 6.8)\" style=\"image-rendering:crisp-edges;image-rendering:pixelated\" width=\"100\" height=\"100\"/>\n",
       "   </g>\n",
       "  </g>\n",
       "  <g id=\"axes_2\">\n",
       "   <g clip-path=\"url(#p6fd7a4ea6d)\">\n",
       "    <image xlink:href=\"data:image/png;base64,\n",
       "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\" id=\"imagea41390a3b2\" transform=\"matrix(1.78 0 0 1.78 195.6 6.8)\" style=\"image-rendering:crisp-edges;image-rendering:pixelated\" width=\"100\" height=\"100\"/>\n",
       "   </g>\n",
       "  </g>\n",
       "  <g id=\"axes_3\">\n",
       "   <g clip-path=\"url(#p2166d7b54a)\">\n",
       "    <image xlink:href=\"data:image/png;base64,\n",
       "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\" id=\"imagef9a2f94ff4\" transform=\"matrix(1.78 0 0 1.78 384 6.8)\" style=\"image-rendering:crisp-edges;image-rendering:pixelated\" width=\"100\" height=\"100\"/>\n",
       "   </g>\n",
       "  </g>\n",
       " </g>\n",
       " <defs>\n",
       "  <clipPath id=\"p260e9513de\">\n",
       "   <rect x=\"7.2\" y=\"7.2\" width=\"177.6\" height=\"177.6\"/>\n",
       "  </clipPath>\n",
       "  <clipPath id=\"p6fd7a4ea6d\">\n",
       "   <rect x=\"195.6\" y=\"7.2\" width=\"177.6\" height=\"177.6\"/>\n",
       "  </clipPath>\n",
       "  <clipPath id=\"p2166d7b54a\">\n",
       "   <rect x=\"384\" y=\"7.2\" width=\"177.6\" height=\"177.6\"/>\n",
       "  </clipPath>\n",
       " </defs>\n",
       "</svg>\n"
      ],
      "text/plain": [
       "<Figure size 576x288 with 3 Axes>"
      ]
     },
     "metadata": {
      "needs_background": "light"
     },
     "output_type": "display_data"
    }
   ],
   "source": [
    "im1,im2,im3 = ps.tools.get_planes(im=im, squeeze=True)\n",
    "fig, ax = plt.subplots(1, 3, figsize=[8, 4]);\n",
    "ax[0].axis(False)\n",
    "ax[0].imshow(im1)\n",
    "ax[1].axis(False)\n",
    "ax[1].imshow(im2)\n",
    "ax[2].axis(False)\n",
    "ax[2].imshow(im3);"
   ]
  }
 ],
 "metadata": {
  "kernelspec": {
   "display_name": "Python 3 (ipykernel)",
   "language": "python",
   "name": "python3"
  },
  "language_info": {
   "codemirror_mode": {
    "name": "ipython",
    "version": 3
   },
   "file_extension": ".py",
   "mimetype": "text/x-python",
   "name": "python",
   "nbconvert_exporter": "python",
   "pygments_lexer": "ipython3",
   "version": "3.8.13"
  }
 },
 "nbformat": 4,
 "nbformat_minor": 5
}
