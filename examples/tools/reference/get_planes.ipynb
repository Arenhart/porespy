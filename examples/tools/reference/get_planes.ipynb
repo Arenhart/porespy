{
 "cells": [
  {
   "cell_type": "markdown",
   "id": "august-ranking",
   "metadata": {},
   "source": [
    "# get_planes"
   ]
  },
  {
   "cell_type": "markdown",
   "id": "otherwise-blame",
   "metadata": {},
   "source": [
    "## Import packages"
   ]
  },
  {
   "cell_type": "code",
   "execution_count": 1,
   "id": "chicken-dodge",
   "metadata": {
    "execution": {
     "iopub.execute_input": "2022-04-01T17:08:04.809705Z",
     "iopub.status.busy": "2022-04-01T17:08:04.809462Z",
     "iopub.status.idle": "2022-04-01T17:08:07.046126Z",
     "shell.execute_reply": "2022-04-01T17:08:07.045471Z"
    }
   },
   "outputs": [],
   "source": [
    "import numpy as np\n",
    "import porespy as ps\n",
    "import scipy.ndimage as spim\n",
    "import matplotlib.pyplot as plt\n",
    "import skimage\n",
    "\n",
    "ps.visualization.set_mpl_style()"
   ]
  },
  {
   "cell_type": "markdown",
   "id": "sized-wonder",
   "metadata": {},
   "source": [
    "## Generate image for testing"
   ]
  },
  {
   "cell_type": "code",
   "execution_count": 2,
   "id": "finnish-canvas",
   "metadata": {
    "execution": {
     "iopub.execute_input": "2022-04-01T17:08:07.049749Z",
     "iopub.status.busy": "2022-04-01T17:08:07.049384Z",
     "iopub.status.idle": "2022-04-01T17:08:07.187871Z",
     "shell.execute_reply": "2022-04-01T17:08:07.187388Z"
    }
   },
   "outputs": [
    {
     "data": {
      "image/svg+xml": [
       "<?xml version=\"1.0\" encoding=\"utf-8\" standalone=\"no\"?>\n",
       "<!DOCTYPE svg PUBLIC \"-//W3C//DTD SVG 1.1//EN\"\n",
       "  \"http://www.w3.org/Graphics/SVG/1.1/DTD/svg11.dtd\">\n",
       "<svg xmlns:xlink=\"http://www.w3.org/1999/xlink\" width=\"276.48pt\" height=\"276.48pt\" viewBox=\"0 0 276.48 276.48\" xmlns=\"http://www.w3.org/2000/svg\" version=\"1.1\">\n",
       " <metadata>\n",
       "  <rdf:RDF xmlns:dc=\"http://purl.org/dc/elements/1.1/\" xmlns:cc=\"http://creativecommons.org/ns#\" xmlns:rdf=\"http://www.w3.org/1999/02/22-rdf-syntax-ns#\">\n",
       "   <cc:Work>\n",
       "    <dc:type rdf:resource=\"http://purl.org/dc/dcmitype/StillImage\"/>\n",
       "    <dc:date>2022-04-01T17:08:07.176067</dc:date>\n",
       "    <dc:format>image/svg+xml</dc:format>\n",
       "    <dc:creator>\n",
       "     <cc:Agent>\n",
       "      <dc:title>Matplotlib v3.5.1, https://matplotlib.org/</dc:title>\n",
       "     </cc:Agent>\n",
       "    </dc:creator>\n",
       "   </cc:Work>\n",
       "  </rdf:RDF>\n",
       " </metadata>\n",
       " <defs>\n",
       "  <style type=\"text/css\">*{stroke-linejoin: round; stroke-linecap: butt}</style>\n",
       " </defs>\n",
       " <g id=\"figure_1\">\n",
       "  <g id=\"patch_1\">\n",
       "   <path d=\"M 0 276.48 \n",
       "L 276.48 276.48 \n",
       "L 276.48 0 \n",
       "L 0 0 \n",
       "L 0 276.48 \n",
       "z\n",
       "\" style=\"fill: none\"/>\n",
       "  </g>\n",
       "  <g id=\"axes_1\">\n",
       "   <g clip-path=\"url(#p26aa7058da)\">\n",
       "    <image xlink:href=\"data:image/png;base64,\n",
       "iVBORw0KGgoAAAANSUhEUgAAAGQAAABkCAYAAABw4pVUAAAJVUlEQVR4nM1d25EjNwycU20U+nYAykIxKwtFoYvCZf+YNoTBoxsAJXfV1e3OkCA4xKMBPfbXn7//+OswcL/ejsfraV5fyO4jeLyepzlLrqcDA1T2GifvW3P0tWg9a966LteX9y+WoPXz/XqjHzALT/6udeWemDXQsZkBaSPQcn+YRaP7uw8uAmK57FzpucjetIdJeNcsuZfTlWCxbBF9X/5jUQ2Hlqd78jqIPLu65+M4jgtq2dnmtHVZc7WiiNKV8OLptvNQopxihSYrrzxez/88pGPNEbTFehZsoaNLJHtir0hosg4hizZQyOqgsunI8iyLs8KjxaAifdDYH+mKzMnumwfCuvgUA4nkTnuulMvKzjwBmecZjOsh0aFIK7VifBYuEHi5I9Mrk9dBdngRoUD3DYWsbtjpQlPK7KFEDIitrXblVo2lk3kgUwXhNze/o+iTYyulQPY87tfb+UCqB4E+yEprZXpsFu6y7oF1P3vQaEinKnUPeoNeFcowEqRe8fpRcg6zpvXQdoWqpbvWL03qGawHghws0pzzgBRa1jpVduTNz65XcPEsCbWsbq7xmpreWLTYQuB5MitD/m/dZw4sZFnVzaLFUdRVZqt6DTTOI2HTY2c7wtlb68RDpQscWQxz0B0LRtfRFT5i1V7usmQye7jICdMnzuShjkGw6yI9JUaelInmNg8XGTayxSfa6EybYaptPyF7R3jSLPE4BO3VbMQanKGaJLNWS8agOqwORSeHZXrKPV7khEyJysarOSCbl73+gIz9P2HpmPayJntSWoFOZV2VpYHWPSiYkG+NfUvqngIsK7LcVf6OVOEMHUXmSP2QayjY9bO6Be5ldV4jqTCoag2C0FarAJUsacojkPtap7e3AVXiNhsuomIQXZctGneF3Wid6LlEz4t+PYTZnOclGavyrkebZHNBRYdPgH5N3Yv/U+xmlzVP0/Fdem5/k4OEldC71lj1XmT9rK7SxfSEZ12YJCjRWRxlWqgunXHW+ighmaLa8nfaQyLaqB80wqC+ic6D35FnHq/n+yuG1QU7Fp6FBKuO8ZJzpbsq1+i+PoI2aaMDhj0Epand+gOZi8R+BmyL3pqDdJgj2QvmxxFYdAqqzkYqyHImc9hMSPa6CxolllUpeHSe6bxINdXCn2B5S58KRbaun95svX72kHVzrU1arYouspcHKi0e9j6bO63cp+Wfkrq1CNKQm6jmLV2iw2RYkpRjJX+2SahlVWAZbqswRGoYVil9DZGfdQxYaCOIGq5ZOGLD8kcrdQ+f6B11u9XdthDKOLe8DaiDqf6Xx/w8BlSpuyqtGu/nUx2CtrQ77Egrh7ZPVqxmWBz6gFEdJj0iwpuHVPtLEpFFVirYTqiwuH+1mu9ECkTnf3NI5NbRAVmJdDq8ZR6LbDQzMvQ1knXfS9ZWJe+xsEhv9yVctC/jocO+tEVbxrCbCFTXiFosiMHCrxhmocfbwDQlPg6umOu2c6LIgALNz8fxT2HIxNXdlhkVW8hBWHthurid/VWiitbr4k1mwwSSzJE80215REUcKkvmxEoFj44Ne1lSyBTD6o6ryvlEoWmtV6HyGqev1vjkZnYVnWzoreSJXc/JfOfiAkplqzEfHfMNVA+FCXNpyIoGo7UGUynvoK+VbrW3VwtIC927Fum4AH3o02IsiCWghOHTqHglw9SitaI8/Xg9/Q99VlBx825YtMZIL+3URpEMj0Vq+Wh/7NRcjBSKBHlKstiZS6Y8skvJkflp+90TxPJs63CR1vguIAnZ814kaVeN4K1StxaVfBnxjB01hlxfGkknpjOEwqoZUCNldTzVIZ5V7AhTKCNDE+MnPKzTdNRIae9Ei7uLigXLsTu6BTsapB5+jgN/EUjnFM0SvHi77smHVu0LZaEjskR0X/LaBJi9XrQldq2hGke7DEbKmHixDO3reY3IDN5YiGVFP1vQuaFa63iVMNPqidbMHiKb25A19X1txOZ3nUhFEeHRxqzEW92ote6ngHjBBPFxP45QWUQ/bLZyjeAdJELLO+t2wXrs29uAsj7LlFLIGLZh54FpdKJrICE7+j3Sy2RZHXyjnY6yNjS2syxQz9eMM2N5Ej/eYO9Uuw88aspliMZHD9Gi9d16JQs9DOT4U2H4jUTJAqWkaw1rbmVNq0Rgw3u2/sgnqLyFK1X+VPJlGZGXw5D4P0UmHi/jQ5+ZAMTdEQURduSFKD3XY3cdMMyw2nKyxrrv7a0IY8ZW52W/T1ToVlKeqvwlcUibi9PodoJ3rDfR3vBQySka7reSouyCYSGTB8QUXB0g+2A70xHMz4dUezRywU4bYaK1kmGiuItks564/qWtEw/VVjoCKZOpUdDDnpYpoXMPQnAkMXHfSvrt3k+FyU2FDXYs0niU4yy56/fRLw7QiyPjq+FnIkdZhofkJpTVVYza/N5eC2iLBamMl3ui3pDp1J1nUVJrDlpfZYjk/EwnUE8xr+E2ubalC+qpCJgmIaKPlnscX/hGuW/B81Tr5ykgFbweQ/3JI0sY2tLOZEZEokMyrLk6B0weBqun3r/7R8GyBSosCI2vTMWb9cHk2sz6mS4a1WJR5y2zucgWhp3YKhXqWNeUbp4cZn7GKiMCYLbfdxR6yEYRhsZYbYYJOZb+mXF4z+N+vdkvUO3qC2l8okVirdOl2zsBs6yKZSK83Rs3xYCqTckpiswC+htUiHJockXAVuHoeB2W2YYhc90Csma5dbKrpqh0SZdOC1bSRDxB7mtnjSKjjY48p48jWGDdukKJu2A8CKXPSI015WkL1KdwUUSFWKX4yzaM0MyOfCkL0SE7pMjAwzfKMbVBNLbbA7JqFS0TbVZWdJBrVuolNMe5lXqmkCXUc3k2FiNUeCK+d/KC1GGSQt+vt/PnQ6LF9fXjmEnwuv7Z3YSsPsRqzkRlmh7CxNmM4yOYCi8sLd4Jy4OO42y8MtwuUN9sXe01eUC4/ZS3SC+0kjzqNVUjQYjN/Uq8yQEJJwgbYuuMDJ0D6zBJvX7F0y2CANUhWgiDqVaLHGNZOGu50/kqor1MOIX+sKS3MIqJGmBnd0DKZ2sIK9R1ctap/c4cxu5kOdVij8DWWsx1z0siB3ijvehhoAeB1Az6/vQhV5K0F852hTcJ+g9LZte1p3U3sTtUVYGEtzUuumfmEAbIg56w8on2hCUTPeCJYrci/2/GCsGVz1uI1gAAAABJRU5ErkJggg==\" id=\"image38f91c0260\" transform=\"matrix(2.63 0 0 2.63 7.2 6.28)\" style=\"image-rendering:crisp-edges;image-rendering:pixelated\" width=\"100\" height=\"100\"/>\n",
       "   </g>\n",
       "  </g>\n",
       " </g>\n",
       " <defs>\n",
       "  <clipPath id=\"p26aa7058da\">\n",
       "   <rect x=\"7.2\" y=\"7.2\" width=\"262.08\" height=\"262.08\"/>\n",
       "  </clipPath>\n",
       " </defs>\n",
       "</svg>\n"
      ],
      "text/plain": [
       "<Figure size 288x288 with 1 Axes>"
      ]
     },
     "metadata": {
      "needs_background": "light"
     },
     "output_type": "display_data"
    }
   ],
   "source": [
    "im = ps.generators.blobs([100, 100, 100], blobiness=[1, 2, 3])\n",
    "\n",
    "fig, ax = plt.subplots(figsize=[4, 4]);\n",
    "ax.imshow(im[50, ...])\n",
    "ax.axis(False);"
   ]
  },
  {
   "cell_type": "markdown",
   "id": "scenic-midnight",
   "metadata": {},
   "source": [
    "## Demonstrate function"
   ]
  },
  {
   "cell_type": "code",
   "execution_count": 3,
   "id": "fuzzy-decision",
   "metadata": {
    "execution": {
     "iopub.execute_input": "2022-04-01T17:08:07.191768Z",
     "iopub.status.busy": "2022-04-01T17:08:07.190665Z",
     "iopub.status.idle": "2022-04-01T17:08:07.290128Z",
     "shell.execute_reply": "2022-04-01T17:08:07.289625Z"
    }
   },
   "outputs": [
    {
     "data": {
      "image/svg+xml": [
       "<?xml version=\"1.0\" encoding=\"utf-8\" standalone=\"no\"?>\n",
       "<!DOCTYPE svg PUBLIC \"-//W3C//DTD SVG 1.1//EN\"\n",
       "  \"http://www.w3.org/Graphics/SVG/1.1/DTD/svg11.dtd\">\n",
       "<svg xmlns:xlink=\"http://www.w3.org/1999/xlink\" width=\"564.48pt\" height=\"189.12pt\" viewBox=\"0 0 564.48 189.12\" xmlns=\"http://www.w3.org/2000/svg\" version=\"1.1\">\n",
       " <metadata>\n",
       "  <rdf:RDF xmlns:dc=\"http://purl.org/dc/elements/1.1/\" xmlns:cc=\"http://creativecommons.org/ns#\" xmlns:rdf=\"http://www.w3.org/1999/02/22-rdf-syntax-ns#\">\n",
       "   <cc:Work>\n",
       "    <dc:type rdf:resource=\"http://purl.org/dc/dcmitype/StillImage\"/>\n",
       "    <dc:date>2022-04-01T17:08:07.276036</dc:date>\n",
       "    <dc:format>image/svg+xml</dc:format>\n",
       "    <dc:creator>\n",
       "     <cc:Agent>\n",
       "      <dc:title>Matplotlib v3.5.1, https://matplotlib.org/</dc:title>\n",
       "     </cc:Agent>\n",
       "    </dc:creator>\n",
       "   </cc:Work>\n",
       "  </rdf:RDF>\n",
       " </metadata>\n",
       " <defs>\n",
       "  <style type=\"text/css\">*{stroke-linejoin: round; stroke-linecap: butt}</style>\n",
       " </defs>\n",
       " <g id=\"figure_1\">\n",
       "  <g id=\"patch_1\">\n",
       "   <path d=\"M 0 189.12 \n",
       "L 564.48 189.12 \n",
       "L 564.48 0 \n",
       "L 0 0 \n",
       "L 0 189.12 \n",
       "z\n",
       "\" style=\"fill: none\"/>\n",
       "  </g>\n",
       "  <g id=\"axes_1\">\n",
       "   <g clip-path=\"url(#p0eaaae5933)\">\n",
       "    <image xlink:href=\"data:image/png;base64,\n",
       "iVBORw0KGgoAAAANSUhEUgAAAGQAAABkCAYAAABw4pVUAAAJVUlEQVR4nM1d25EjNwycU20U+nYAykIxKwtFoYvCZf+YNoTBoxsAJXfV1e3OkCA4xKMBPfbXn7//+OswcL/ejsfraV5fyO4jeLyepzlLrqcDA1T2GifvW3P0tWg9a966LteX9y+WoPXz/XqjHzALT/6udeWemDXQsZkBaSPQcn+YRaP7uw8uAmK57FzpucjetIdJeNcsuZfTlWCxbBF9X/5jUQ2Hlqd78jqIPLu65+M4jgtq2dnmtHVZc7WiiNKV8OLptvNQopxihSYrrzxez/88pGPNEbTFehZsoaNLJHtir0hosg4hizZQyOqgsunI8iyLs8KjxaAifdDYH+mKzMnumwfCuvgUA4nkTnuulMvKzjwBmecZjOsh0aFIK7VifBYuEHi5I9Mrk9dBdngRoUD3DYWsbtjpQlPK7KFEDIitrXblVo2lk3kgUwXhNze/o+iTYyulQPY87tfb+UCqB4E+yEprZXpsFu6y7oF1P3vQaEinKnUPeoNeFcowEqRe8fpRcg6zpvXQdoWqpbvWL03qGawHghws0pzzgBRa1jpVduTNz65XcPEsCbWsbq7xmpreWLTYQuB5MitD/m/dZw4sZFnVzaLFUdRVZqt6DTTOI2HTY2c7wtlb68RDpQscWQxz0B0LRtfRFT5i1V7usmQye7jICdMnzuShjkGw6yI9JUaelInmNg8XGTayxSfa6EybYaptPyF7R3jSLPE4BO3VbMQanKGaJLNWS8agOqwORSeHZXrKPV7khEyJysarOSCbl73+gIz9P2HpmPayJntSWoFOZV2VpYHWPSiYkG+NfUvqngIsK7LcVf6OVOEMHUXmSP2QayjY9bO6Be5ldV4jqTCoag2C0FarAJUsacojkPtap7e3AVXiNhsuomIQXZctGneF3Wid6LlEz4t+PYTZnOclGavyrkebZHNBRYdPgH5N3Yv/U+xmlzVP0/Fdem5/k4OEldC71lj1XmT9rK7SxfSEZ12YJCjRWRxlWqgunXHW+ighmaLa8nfaQyLaqB80wqC+ic6D35FnHq/n+yuG1QU7Fp6FBKuO8ZJzpbsq1+i+PoI2aaMDhj0Epand+gOZi8R+BmyL3pqDdJgj2QvmxxFYdAqqzkYqyHImc9hMSPa6CxolllUpeHSe6bxINdXCn2B5S58KRbaun95svX72kHVzrU1arYouspcHKi0e9j6bO63cp+Wfkrq1CNKQm6jmLV2iw2RYkpRjJX+2SahlVWAZbqswRGoYVil9DZGfdQxYaCOIGq5ZOGLD8kcrdQ+f6B11u9XdthDKOLe8DaiDqf6Xx/w8BlSpuyqtGu/nUx2CtrQ77Egrh7ZPVqxmWBz6gFEdJj0iwpuHVPtLEpFFVirYTqiwuH+1mu9ECkTnf3NI5NbRAVmJdDq8ZR6LbDQzMvQ1knXfS9ZWJe+xsEhv9yVctC/jocO+tEVbxrCbCFTXiFosiMHCrxhmocfbwDQlPg6umOu2c6LIgALNz8fxT2HIxNXdlhkVW8hBWHthurid/VWiitbr4k1mwwSSzJE80215REUcKkvmxEoFj44Ne1lSyBTD6o6ryvlEoWmtV6HyGqev1vjkZnYVnWzoreSJXc/JfOfiAkplqzEfHfMNVA+FCXNpyIoGo7UGUynvoK+VbrW3VwtIC927Fum4AH3o02IsiCWghOHTqHglw9SitaI8/Xg9/Q99VlBx825YtMZIL+3URpEMj0Vq+Wh/7NRcjBSKBHlKstiZS6Y8skvJkflp+90TxPJs63CR1vguIAnZ814kaVeN4K1StxaVfBnxjB01hlxfGkknpjOEwqoZUCNldTzVIZ5V7AhTKCNDE+MnPKzTdNRIae9Ei7uLigXLsTu6BTsapB5+jgN/EUjnFM0SvHi77smHVu0LZaEjskR0X/LaBJi9XrQldq2hGke7DEbKmHixDO3reY3IDN5YiGVFP1vQuaFa63iVMNPqidbMHiKb25A19X1txOZ3nUhFEeHRxqzEW92ote6ngHjBBPFxP45QWUQ/bLZyjeAdJELLO+t2wXrs29uAsj7LlFLIGLZh54FpdKJrICE7+j3Sy2RZHXyjnY6yNjS2syxQz9eMM2N5Ej/eYO9Uuw88aspliMZHD9Gi9d16JQs9DOT4U2H4jUTJAqWkaw1rbmVNq0Rgw3u2/sgnqLyFK1X+VPJlGZGXw5D4P0UmHi/jQ5+ZAMTdEQURduSFKD3XY3cdMMyw2nKyxrrv7a0IY8ZW52W/T1ToVlKeqvwlcUibi9PodoJ3rDfR3vBQySka7reSouyCYSGTB8QUXB0g+2A70xHMz4dUezRywU4bYaK1kmGiuItks564/qWtEw/VVjoCKZOpUdDDnpYpoXMPQnAkMXHfSvrt3k+FyU2FDXYs0niU4yy56/fRLw7QiyPjq+FnIkdZhofkJpTVVYza/N5eC2iLBamMl3ui3pDp1J1nUVJrDlpfZYjk/EwnUE8xr+E2ubalC+qpCJgmIaKPlnscX/hGuW/B81Tr5ykgFbweQ/3JI0sY2tLOZEZEokMyrLk6B0weBqun3r/7R8GyBSosCI2vTMWb9cHk2sz6mS4a1WJR5y2zucgWhp3YKhXqWNeUbp4cZn7GKiMCYLbfdxR6yEYRhsZYbYYJOZb+mXF4z+N+vdkvUO3qC2l8okVirdOl2zsBs6yKZSK83Rs3xYCqTckpiswC+htUiHJockXAVuHoeB2W2YYhc90Csma5dbKrpqh0SZdOC1bSRDxB7mtnjSKjjY48p48jWGDdukKJu2A8CKXPSI015WkL1KdwUUSFWKX4yzaM0MyOfCkL0SE7pMjAwzfKMbVBNLbbA7JqFS0TbVZWdJBrVuolNMe5lXqmkCXUc3k2FiNUeCK+d/KC1GGSQt+vt/PnQ6LF9fXjmEnwuv7Z3YSsPsRqzkRlmh7CxNmM4yOYCi8sLd4Jy4OO42y8MtwuUN9sXe01eUC4/ZS3SC+0kjzqNVUjQYjN/Uq8yQEJJwgbYuuMDJ0D6zBJvX7F0y2CANUhWgiDqVaLHGNZOGu50/kqor1MOIX+sKS3MIqJGmBnd0DKZ2sIK9R1ctap/c4cxu5kOdVij8DWWsx1z0siB3ijvehhoAeB1Az6/vQhV5K0F852hTcJ+g9LZte1p3U3sTtUVYGEtzUuumfmEAbIg56w8on2hCUTPeCJYrci/2/GCsGVz1uI1gAAAABJRU5ErkJggg==\" id=\"imaged67b678868\" transform=\"matrix(1.75 0 0 1.75 7.2 6.92)\" style=\"image-rendering:crisp-edges;image-rendering:pixelated\" width=\"100\" height=\"100\"/>\n",
       "   </g>\n",
       "  </g>\n",
       "  <g id=\"axes_2\">\n",
       "   <g clip-path=\"url(#peab7f55a9d)\">\n",
       "    <image xlink:href=\"data:image/png;base64,\n",
       "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\" id=\"imageede74273d5\" transform=\"matrix(1.75 0 0 1.75 194.88 6.92)\" style=\"image-rendering:crisp-edges;image-rendering:pixelated\" width=\"100\" height=\"100\"/>\n",
       "   </g>\n",
       "  </g>\n",
       "  <g id=\"axes_3\">\n",
       "   <g clip-path=\"url(#pf3e33bac27)\">\n",
       "    <image xlink:href=\"data:image/png;base64,\n",
       "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\" id=\"image80c03f12ba\" transform=\"matrix(1.75 0 0 1.75 382.56 6.92)\" style=\"image-rendering:crisp-edges;image-rendering:pixelated\" width=\"100\" height=\"100\"/>\n",
       "   </g>\n",
       "  </g>\n",
       " </g>\n",
       " <defs>\n",
       "  <clipPath id=\"p0eaaae5933\">\n",
       "   <rect x=\"7.2\" y=\"7.2\" width=\"174.72\" height=\"174.72\"/>\n",
       "  </clipPath>\n",
       "  <clipPath id=\"peab7f55a9d\">\n",
       "   <rect x=\"194.88\" y=\"7.2\" width=\"174.72\" height=\"174.72\"/>\n",
       "  </clipPath>\n",
       "  <clipPath id=\"pf3e33bac27\">\n",
       "   <rect x=\"382.56\" y=\"7.2\" width=\"174.72\" height=\"174.72\"/>\n",
       "  </clipPath>\n",
       " </defs>\n",
       "</svg>\n"
      ],
      "text/plain": [
       "<Figure size 576x288 with 3 Axes>"
      ]
     },
     "metadata": {
      "needs_background": "light"
     },
     "output_type": "display_data"
    }
   ],
   "source": [
    "im1,im2,im3 = ps.tools.get_planes(im=im, squeeze=True)\n",
    "fig, ax = plt.subplots(1, 3, figsize=[8, 4]);\n",
    "ax[0].axis(False)\n",
    "ax[0].imshow(im1)\n",
    "ax[1].axis(False)\n",
    "ax[1].imshow(im2)\n",
    "ax[2].axis(False)\n",
    "ax[2].imshow(im3);"
   ]
  }
 ],
 "metadata": {
  "kernelspec": {
   "display_name": "Python 3",
   "language": "python",
   "name": "python3"
  },
  "language_info": {
   "codemirror_mode": {
    "name": "ipython",
    "version": 3
   },
   "file_extension": ".py",
   "mimetype": "text/x-python",
   "name": "python",
   "nbconvert_exporter": "python",
   "pygments_lexer": "ipython3",
   "version": "3.8.13"
  }
 },
 "nbformat": 4,
 "nbformat_minor": 5
}
