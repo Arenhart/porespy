{
 "cells": [
  {
   "cell_type": "markdown",
   "id": "august-ranking",
   "metadata": {},
   "source": [
    "# get_planes"
   ]
  },
  {
   "cell_type": "markdown",
   "id": "otherwise-blame",
   "metadata": {},
   "source": [
    "## Import packages"
   ]
  },
  {
   "cell_type": "code",
   "execution_count": 1,
   "id": "chicken-dodge",
   "metadata": {
    "execution": {
     "iopub.execute_input": "2022-03-30T14:11:08.609763Z",
     "iopub.status.busy": "2022-03-30T14:11:08.609315Z",
     "iopub.status.idle": "2022-03-30T14:11:10.733976Z",
     "shell.execute_reply": "2022-03-30T14:11:10.733283Z"
    }
   },
   "outputs": [],
   "source": [
    "import numpy as np\n",
    "import porespy as ps\n",
    "import scipy.ndimage as spim\n",
    "import matplotlib.pyplot as plt\n",
    "import skimage\n",
    "\n",
    "ps.visualization.set_mpl_style()"
   ]
  },
  {
   "cell_type": "markdown",
   "id": "sized-wonder",
   "metadata": {},
   "source": [
    "## Generate image for testing"
   ]
  },
  {
   "cell_type": "code",
   "execution_count": 2,
   "id": "finnish-canvas",
   "metadata": {
    "execution": {
     "iopub.execute_input": "2022-03-30T14:11:10.737542Z",
     "iopub.status.busy": "2022-03-30T14:11:10.737126Z",
     "iopub.status.idle": "2022-03-30T14:11:10.870443Z",
     "shell.execute_reply": "2022-03-30T14:11:10.869984Z"
    }
   },
   "outputs": [
    {
     "data": {
      "image/svg+xml": [
       "<?xml version=\"1.0\" encoding=\"utf-8\" standalone=\"no\"?>\n",
       "<!DOCTYPE svg PUBLIC \"-//W3C//DTD SVG 1.1//EN\"\n",
       "  \"http://www.w3.org/Graphics/SVG/1.1/DTD/svg11.dtd\">\n",
       "<svg xmlns:xlink=\"http://www.w3.org/1999/xlink\" width=\"276.48pt\" height=\"276.48pt\" viewBox=\"0 0 276.48 276.48\" xmlns=\"http://www.w3.org/2000/svg\" version=\"1.1\">\n",
       " <metadata>\n",
       "  <rdf:RDF xmlns:dc=\"http://purl.org/dc/elements/1.1/\" xmlns:cc=\"http://creativecommons.org/ns#\" xmlns:rdf=\"http://www.w3.org/1999/02/22-rdf-syntax-ns#\">\n",
       "   <cc:Work>\n",
       "    <dc:type rdf:resource=\"http://purl.org/dc/dcmitype/StillImage\"/>\n",
       "    <dc:date>2022-03-30T14:11:10.858401</dc:date>\n",
       "    <dc:format>image/svg+xml</dc:format>\n",
       "    <dc:creator>\n",
       "     <cc:Agent>\n",
       "      <dc:title>Matplotlib v3.5.1, https://matplotlib.org/</dc:title>\n",
       "     </cc:Agent>\n",
       "    </dc:creator>\n",
       "   </cc:Work>\n",
       "  </rdf:RDF>\n",
       " </metadata>\n",
       " <defs>\n",
       "  <style type=\"text/css\">*{stroke-linejoin: round; stroke-linecap: butt}</style>\n",
       " </defs>\n",
       " <g id=\"figure_1\">\n",
       "  <g id=\"patch_1\">\n",
       "   <path d=\"M 0 276.48 \n",
       "L 276.48 276.48 \n",
       "L 276.48 0 \n",
       "L 0 0 \n",
       "L 0 276.48 \n",
       "z\n",
       "\" style=\"fill: none\"/>\n",
       "  </g>\n",
       "  <g id=\"axes_1\">\n",
       "   <g clip-path=\"url(#p3005de4b1c)\">\n",
       "    <image xlink:href=\"data:image/png;base64,\n",
       "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\" id=\"image398bad011d\" transform=\"matrix(2.63 0 0 2.63 7.2 6.28)\" style=\"image-rendering:crisp-edges;image-rendering:pixelated\" width=\"100\" height=\"100\"/>\n",
       "   </g>\n",
       "  </g>\n",
       " </g>\n",
       " <defs>\n",
       "  <clipPath id=\"p3005de4b1c\">\n",
       "   <rect x=\"7.2\" y=\"7.2\" width=\"262.08\" height=\"262.08\"/>\n",
       "  </clipPath>\n",
       " </defs>\n",
       "</svg>\n"
      ],
      "text/plain": [
       "<Figure size 288x288 with 1 Axes>"
      ]
     },
     "metadata": {
      "needs_background": "light"
     },
     "output_type": "display_data"
    }
   ],
   "source": [
    "im = ps.generators.blobs([100, 100, 100], blobiness=[1, 2, 3])\n",
    "\n",
    "fig, ax = plt.subplots(figsize=[4, 4]);\n",
    "ax.imshow(im[50, ...])\n",
    "ax.axis(False);"
   ]
  },
  {
   "cell_type": "markdown",
   "id": "scenic-midnight",
   "metadata": {},
   "source": [
    "## Demonstrate function"
   ]
  },
  {
   "cell_type": "code",
   "execution_count": 3,
   "id": "fuzzy-decision",
   "metadata": {
    "execution": {
     "iopub.execute_input": "2022-03-30T14:11:10.873608Z",
     "iopub.status.busy": "2022-03-30T14:11:10.873259Z",
     "iopub.status.idle": "2022-03-30T14:11:10.968749Z",
     "shell.execute_reply": "2022-03-30T14:11:10.968288Z"
    }
   },
   "outputs": [
    {
     "data": {
      "image/svg+xml": [
       "<?xml version=\"1.0\" encoding=\"utf-8\" standalone=\"no\"?>\n",
       "<!DOCTYPE svg PUBLIC \"-//W3C//DTD SVG 1.1//EN\"\n",
       "  \"http://www.w3.org/Graphics/SVG/1.1/DTD/svg11.dtd\">\n",
       "<svg xmlns:xlink=\"http://www.w3.org/1999/xlink\" width=\"564.48pt\" height=\"189.12pt\" viewBox=\"0 0 564.48 189.12\" xmlns=\"http://www.w3.org/2000/svg\" version=\"1.1\">\n",
       " <metadata>\n",
       "  <rdf:RDF xmlns:dc=\"http://purl.org/dc/elements/1.1/\" xmlns:cc=\"http://creativecommons.org/ns#\" xmlns:rdf=\"http://www.w3.org/1999/02/22-rdf-syntax-ns#\">\n",
       "   <cc:Work>\n",
       "    <dc:type rdf:resource=\"http://purl.org/dc/dcmitype/StillImage\"/>\n",
       "    <dc:date>2022-03-30T14:11:10.954087</dc:date>\n",
       "    <dc:format>image/svg+xml</dc:format>\n",
       "    <dc:creator>\n",
       "     <cc:Agent>\n",
       "      <dc:title>Matplotlib v3.5.1, https://matplotlib.org/</dc:title>\n",
       "     </cc:Agent>\n",
       "    </dc:creator>\n",
       "   </cc:Work>\n",
       "  </rdf:RDF>\n",
       " </metadata>\n",
       " <defs>\n",
       "  <style type=\"text/css\">*{stroke-linejoin: round; stroke-linecap: butt}</style>\n",
       " </defs>\n",
       " <g id=\"figure_1\">\n",
       "  <g id=\"patch_1\">\n",
       "   <path d=\"M 0 189.12 \n",
       "L 564.48 189.12 \n",
       "L 564.48 0 \n",
       "L 0 0 \n",
       "L 0 189.12 \n",
       "z\n",
       "\" style=\"fill: none\"/>\n",
       "  </g>\n",
       "  <g id=\"axes_1\">\n",
       "   <g clip-path=\"url(#p1ba75eeb5f)\">\n",
       "    <image xlink:href=\"data:image/png;base64,\n",
       "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\" id=\"image08179133c6\" transform=\"matrix(1.75 0 0 1.75 7.2 6.92)\" style=\"image-rendering:crisp-edges;image-rendering:pixelated\" width=\"100\" height=\"100\"/>\n",
       "   </g>\n",
       "  </g>\n",
       "  <g id=\"axes_2\">\n",
       "   <g clip-path=\"url(#p83d12a5265)\">\n",
       "    <image xlink:href=\"data:image/png;base64,\n",
       "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\" id=\"image48f4dcfaf2\" transform=\"matrix(1.75 0 0 1.75 194.88 6.92)\" style=\"image-rendering:crisp-edges;image-rendering:pixelated\" width=\"100\" height=\"100\"/>\n",
       "   </g>\n",
       "  </g>\n",
       "  <g id=\"axes_3\">\n",
       "   <g clip-path=\"url(#p45d828288b)\">\n",
       "    <image xlink:href=\"data:image/png;base64,\n",
       "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\" id=\"imagea79ad0c00b\" transform=\"matrix(1.75 0 0 1.75 382.56 6.92)\" style=\"image-rendering:crisp-edges;image-rendering:pixelated\" width=\"100\" height=\"100\"/>\n",
       "   </g>\n",
       "  </g>\n",
       " </g>\n",
       " <defs>\n",
       "  <clipPath id=\"p1ba75eeb5f\">\n",
       "   <rect x=\"7.2\" y=\"7.2\" width=\"174.72\" height=\"174.72\"/>\n",
       "  </clipPath>\n",
       "  <clipPath id=\"p83d12a5265\">\n",
       "   <rect x=\"194.88\" y=\"7.2\" width=\"174.72\" height=\"174.72\"/>\n",
       "  </clipPath>\n",
       "  <clipPath id=\"p45d828288b\">\n",
       "   <rect x=\"382.56\" y=\"7.2\" width=\"174.72\" height=\"174.72\"/>\n",
       "  </clipPath>\n",
       " </defs>\n",
       "</svg>\n"
      ],
      "text/plain": [
       "<Figure size 576x288 with 3 Axes>"
      ]
     },
     "metadata": {
      "needs_background": "light"
     },
     "output_type": "display_data"
    }
   ],
   "source": [
    "im1,im2,im3 = ps.tools.get_planes(im=im, squeeze=True)\n",
    "fig, ax = plt.subplots(1, 3, figsize=[8, 4]);\n",
    "ax[0].axis(False)\n",
    "ax[0].imshow(im1)\n",
    "ax[1].axis(False)\n",
    "ax[1].imshow(im2)\n",
    "ax[2].axis(False)\n",
    "ax[2].imshow(im3);"
   ]
  }
 ],
 "metadata": {
  "kernelspec": {
   "display_name": "Python 3",
   "language": "python",
   "name": "python3"
  },
  "language_info": {
   "codemirror_mode": {
    "name": "ipython",
    "version": 3
   },
   "file_extension": ".py",
   "mimetype": "text/x-python",
   "name": "python",
   "nbconvert_exporter": "python",
   "pygments_lexer": "ipython3",
   "version": "3.8.13"
  }
 },
 "nbformat": 4,
 "nbformat_minor": 5
}
