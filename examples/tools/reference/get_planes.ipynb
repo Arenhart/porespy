{
 "cells": [
  {
   "cell_type": "markdown",
   "id": "august-ranking",
   "metadata": {},
   "source": [
    "# `get_planes`"
   ]
  },
  {
   "cell_type": "markdown",
   "id": "otherwise-blame",
   "metadata": {},
   "source": [
    "## Import packages"
   ]
  },
  {
   "cell_type": "code",
   "execution_count": 1,
   "id": "chicken-dodge",
   "metadata": {
    "execution": {
     "iopub.execute_input": "2022-04-20T14:23:46.864666Z",
     "iopub.status.busy": "2022-04-20T14:23:46.862386Z",
     "iopub.status.idle": "2022-04-20T14:23:48.927191Z",
     "shell.execute_reply": "2022-04-20T14:23:48.926465Z"
    }
   },
   "outputs": [],
   "source": [
    "import numpy as np\n",
    "import porespy as ps\n",
    "import scipy.ndimage as spim\n",
    "import matplotlib.pyplot as plt\n",
    "import skimage\n",
    "\n",
    "ps.visualization.set_mpl_style()"
   ]
  },
  {
   "cell_type": "markdown",
   "id": "sized-wonder",
   "metadata": {},
   "source": [
    "## Generate image for testing"
   ]
  },
  {
   "cell_type": "code",
   "execution_count": 2,
   "id": "finnish-canvas",
   "metadata": {
    "execution": {
     "iopub.execute_input": "2022-04-20T14:23:48.931798Z",
     "iopub.status.busy": "2022-04-20T14:23:48.930823Z",
     "iopub.status.idle": "2022-04-20T14:23:49.089310Z",
     "shell.execute_reply": "2022-04-20T14:23:49.088847Z"
    }
   },
   "outputs": [
    {
     "data": {
      "image/svg+xml": [
       "<?xml version=\"1.0\" encoding=\"utf-8\" standalone=\"no\"?>\n",
       "<!DOCTYPE svg PUBLIC \"-//W3C//DTD SVG 1.1//EN\"\n",
       "  \"http://www.w3.org/Graphics/SVG/1.1/DTD/svg11.dtd\">\n",
       "<svg xmlns:xlink=\"http://www.w3.org/1999/xlink\" width=\"276.48pt\" height=\"276.48pt\" viewBox=\"0 0 276.48 276.48\" xmlns=\"http://www.w3.org/2000/svg\" version=\"1.1\">\n",
       " <metadata>\n",
       "  <rdf:RDF xmlns:dc=\"http://purl.org/dc/elements/1.1/\" xmlns:cc=\"http://creativecommons.org/ns#\" xmlns:rdf=\"http://www.w3.org/1999/02/22-rdf-syntax-ns#\">\n",
       "   <cc:Work>\n",
       "    <dc:type rdf:resource=\"http://purl.org/dc/dcmitype/StillImage\"/>\n",
       "    <dc:date>2022-04-20T14:23:49.063387</dc:date>\n",
       "    <dc:format>image/svg+xml</dc:format>\n",
       "    <dc:creator>\n",
       "     <cc:Agent>\n",
       "      <dc:title>Matplotlib v3.5.1, https://matplotlib.org/</dc:title>\n",
       "     </cc:Agent>\n",
       "    </dc:creator>\n",
       "   </cc:Work>\n",
       "  </rdf:RDF>\n",
       " </metadata>\n",
       " <defs>\n",
       "  <style type=\"text/css\">*{stroke-linejoin: round; stroke-linecap: butt}</style>\n",
       " </defs>\n",
       " <g id=\"figure_1\">\n",
       "  <g id=\"patch_1\">\n",
       "   <path d=\"M 0 276.48 \n",
       "L 276.48 276.48 \n",
       "L 276.48 0 \n",
       "L 0 0 \n",
       "L 0 276.48 \n",
       "z\n",
       "\" style=\"fill: none\"/>\n",
       "  </g>\n",
       "  <g id=\"axes_1\">\n",
       "   <g clip-path=\"url(#pe582ec9f40)\">\n",
       "    <image xlink:href=\"data:image/png;base64,\n",
       "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\" id=\"image35263f9157\" transform=\"matrix(2.63 0 0 2.63 7.2 6.28)\" style=\"image-rendering:crisp-edges;image-rendering:pixelated\" width=\"100\" height=\"100\"/>\n",
       "   </g>\n",
       "  </g>\n",
       " </g>\n",
       " <defs>\n",
       "  <clipPath id=\"pe582ec9f40\">\n",
       "   <rect x=\"7.2\" y=\"7.2\" width=\"262.08\" height=\"262.08\"/>\n",
       "  </clipPath>\n",
       " </defs>\n",
       "</svg>\n"
      ],
      "text/plain": [
       "<Figure size 288x288 with 1 Axes>"
      ]
     },
     "metadata": {
      "needs_background": "light"
     },
     "output_type": "display_data"
    }
   ],
   "source": [
    "im = ps.generators.blobs([100, 100, 100], blobiness=[1, 2, 3])\n",
    "\n",
    "fig, ax = plt.subplots(figsize=[4, 4]);\n",
    "ax.imshow(im[50, ...])\n",
    "ax.axis(False);"
   ]
  },
  {
   "cell_type": "markdown",
   "id": "scenic-midnight",
   "metadata": {},
   "source": [
    "## Demonstrate function"
   ]
  },
  {
   "cell_type": "code",
   "execution_count": 3,
   "id": "fuzzy-decision",
   "metadata": {
    "execution": {
     "iopub.execute_input": "2022-04-20T14:23:49.094297Z",
     "iopub.status.busy": "2022-04-20T14:23:49.092849Z",
     "iopub.status.idle": "2022-04-20T14:23:49.199757Z",
     "shell.execute_reply": "2022-04-20T14:23:49.199208Z"
    }
   },
   "outputs": [
    {
     "data": {
      "image/svg+xml": [
       "<?xml version=\"1.0\" encoding=\"utf-8\" standalone=\"no\"?>\n",
       "<!DOCTYPE svg PUBLIC \"-//W3C//DTD SVG 1.1//EN\"\n",
       "  \"http://www.w3.org/Graphics/SVG/1.1/DTD/svg11.dtd\">\n",
       "<svg xmlns:xlink=\"http://www.w3.org/1999/xlink\" width=\"564.48pt\" height=\"189.12pt\" viewBox=\"0 0 564.48 189.12\" xmlns=\"http://www.w3.org/2000/svg\" version=\"1.1\">\n",
       " <metadata>\n",
       "  <rdf:RDF xmlns:dc=\"http://purl.org/dc/elements/1.1/\" xmlns:cc=\"http://creativecommons.org/ns#\" xmlns:rdf=\"http://www.w3.org/1999/02/22-rdf-syntax-ns#\">\n",
       "   <cc:Work>\n",
       "    <dc:type rdf:resource=\"http://purl.org/dc/dcmitype/StillImage\"/>\n",
       "    <dc:date>2022-04-20T14:23:49.174595</dc:date>\n",
       "    <dc:format>image/svg+xml</dc:format>\n",
       "    <dc:creator>\n",
       "     <cc:Agent>\n",
       "      <dc:title>Matplotlib v3.5.1, https://matplotlib.org/</dc:title>\n",
       "     </cc:Agent>\n",
       "    </dc:creator>\n",
       "   </cc:Work>\n",
       "  </rdf:RDF>\n",
       " </metadata>\n",
       " <defs>\n",
       "  <style type=\"text/css\">*{stroke-linejoin: round; stroke-linecap: butt}</style>\n",
       " </defs>\n",
       " <g id=\"figure_1\">\n",
       "  <g id=\"patch_1\">\n",
       "   <path d=\"M 0 189.12 \n",
       "L 564.48 189.12 \n",
       "L 564.48 0 \n",
       "L 0 0 \n",
       "L 0 189.12 \n",
       "z\n",
       "\" style=\"fill: none\"/>\n",
       "  </g>\n",
       "  <g id=\"axes_1\">\n",
       "   <g clip-path=\"url(#pb8fc4da2e1)\">\n",
       "    <image xlink:href=\"data:image/png;base64,\n",
       "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\" id=\"imagea56af428ea\" transform=\"matrix(1.75 0 0 1.75 7.2 6.92)\" style=\"image-rendering:crisp-edges;image-rendering:pixelated\" width=\"100\" height=\"100\"/>\n",
       "   </g>\n",
       "  </g>\n",
       "  <g id=\"axes_2\">\n",
       "   <g clip-path=\"url(#p28411f6bdf)\">\n",
       "    <image xlink:href=\"data:image/png;base64,\n",
       "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\" id=\"image18fe77331d\" transform=\"matrix(1.75 0 0 1.75 194.88 6.92)\" style=\"image-rendering:crisp-edges;image-rendering:pixelated\" width=\"100\" height=\"100\"/>\n",
       "   </g>\n",
       "  </g>\n",
       "  <g id=\"axes_3\">\n",
       "   <g clip-path=\"url(#p1d4cfd7dc7)\">\n",
       "    <image xlink:href=\"data:image/png;base64,\n",
       "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\" id=\"image731af57b27\" transform=\"matrix(1.75 0 0 1.75 382.56 6.92)\" style=\"image-rendering:crisp-edges;image-rendering:pixelated\" width=\"100\" height=\"100\"/>\n",
       "   </g>\n",
       "  </g>\n",
       " </g>\n",
       " <defs>\n",
       "  <clipPath id=\"pb8fc4da2e1\">\n",
       "   <rect x=\"7.2\" y=\"7.2\" width=\"174.72\" height=\"174.72\"/>\n",
       "  </clipPath>\n",
       "  <clipPath id=\"p28411f6bdf\">\n",
       "   <rect x=\"194.88\" y=\"7.2\" width=\"174.72\" height=\"174.72\"/>\n",
       "  </clipPath>\n",
       "  <clipPath id=\"p1d4cfd7dc7\">\n",
       "   <rect x=\"382.56\" y=\"7.2\" width=\"174.72\" height=\"174.72\"/>\n",
       "  </clipPath>\n",
       " </defs>\n",
       "</svg>\n"
      ],
      "text/plain": [
       "<Figure size 576x288 with 3 Axes>"
      ]
     },
     "metadata": {
      "needs_background": "light"
     },
     "output_type": "display_data"
    }
   ],
   "source": [
    "im1,im2,im3 = ps.tools.get_planes(im=im, squeeze=True)\n",
    "fig, ax = plt.subplots(1, 3, figsize=[8, 4]);\n",
    "ax[0].axis(False)\n",
    "ax[0].imshow(im1)\n",
    "ax[1].axis(False)\n",
    "ax[1].imshow(im2)\n",
    "ax[2].axis(False)\n",
    "ax[2].imshow(im3);"
   ]
  }
 ],
 "metadata": {
  "kernelspec": {
   "display_name": "Python 3 (ipykernel)",
   "language": "python",
   "name": "python3"
  },
  "language_info": {
   "codemirror_mode": {
    "name": "ipython",
    "version": 3
   },
   "file_extension": ".py",
   "mimetype": "text/x-python",
   "name": "python",
   "nbconvert_exporter": "python",
   "pygments_lexer": "ipython3",
   "version": "3.8.13"
  }
 },
 "nbformat": 4,
 "nbformat_minor": 5
}
