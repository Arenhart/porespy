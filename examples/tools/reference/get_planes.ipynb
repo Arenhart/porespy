{
 "cells": [
  {
   "cell_type": "markdown",
   "id": "august-ranking",
   "metadata": {},
   "source": [
    "# `get_planes`"
   ]
  },
  {
   "cell_type": "markdown",
   "id": "otherwise-blame",
   "metadata": {},
   "source": [
    "## Import packages"
   ]
  },
  {
   "cell_type": "code",
   "execution_count": 1,
   "id": "chicken-dodge",
   "metadata": {
    "execution": {
     "iopub.execute_input": "2022-05-25T19:30:31.983413Z",
     "iopub.status.busy": "2022-05-25T19:30:31.983123Z",
     "iopub.status.idle": "2022-05-25T19:30:34.362669Z",
     "shell.execute_reply": "2022-05-25T19:30:34.361587Z"
    }
   },
   "outputs": [],
   "source": [
    "import numpy as np\n",
    "import porespy as ps\n",
    "import scipy.ndimage as spim\n",
    "import matplotlib.pyplot as plt\n",
    "import skimage\n",
    "\n",
    "ps.visualization.set_mpl_style()"
   ]
  },
  {
   "cell_type": "markdown",
   "id": "sized-wonder",
   "metadata": {},
   "source": [
    "## Generate image for testing"
   ]
  },
  {
   "cell_type": "code",
   "execution_count": 2,
   "id": "finnish-canvas",
   "metadata": {
    "execution": {
     "iopub.execute_input": "2022-05-25T19:30:34.367235Z",
     "iopub.status.busy": "2022-05-25T19:30:34.366710Z",
     "iopub.status.idle": "2022-05-25T19:30:34.522336Z",
     "shell.execute_reply": "2022-05-25T19:30:34.521384Z"
    }
   },
   "outputs": [
    {
     "data": {
      "image/svg+xml": [
       "<?xml version=\"1.0\" encoding=\"utf-8\" standalone=\"no\"?>\n",
       "<!DOCTYPE svg PUBLIC \"-//W3C//DTD SVG 1.1//EN\"\n",
       "  \"http://www.w3.org/Graphics/SVG/1.1/DTD/svg11.dtd\">\n",
       "<svg xmlns:xlink=\"http://www.w3.org/1999/xlink\" width=\"280.8pt\" height=\"280.8pt\" viewBox=\"0 0 280.8 280.8\" xmlns=\"http://www.w3.org/2000/svg\" version=\"1.1\">\n",
       " <metadata>\n",
       "  <rdf:RDF xmlns:dc=\"http://purl.org/dc/elements/1.1/\" xmlns:cc=\"http://creativecommons.org/ns#\" xmlns:rdf=\"http://www.w3.org/1999/02/22-rdf-syntax-ns#\">\n",
       "   <cc:Work>\n",
       "    <dc:type rdf:resource=\"http://purl.org/dc/dcmitype/StillImage\"/>\n",
       "    <dc:date>2022-05-25T19:30:34.508241</dc:date>\n",
       "    <dc:format>image/svg+xml</dc:format>\n",
       "    <dc:creator>\n",
       "     <cc:Agent>\n",
       "      <dc:title>Matplotlib v3.5.2, https://matplotlib.org/</dc:title>\n",
       "     </cc:Agent>\n",
       "    </dc:creator>\n",
       "   </cc:Work>\n",
       "  </rdf:RDF>\n",
       " </metadata>\n",
       " <defs>\n",
       "  <style type=\"text/css\">*{stroke-linejoin: round; stroke-linecap: butt}</style>\n",
       " </defs>\n",
       " <g id=\"figure_1\">\n",
       "  <g id=\"patch_1\">\n",
       "   <path d=\"M 0 280.8 \n",
       "L 280.8 280.8 \n",
       "L 280.8 0 \n",
       "L 0 0 \n",
       "L 0 280.8 \n",
       "z\n",
       "\" style=\"fill: none\"/>\n",
       "  </g>\n",
       "  <g id=\"axes_1\">\n",
       "   <g clip-path=\"url(#p1d7ea38244)\">\n",
       "    <image xlink:href=\"data:image/png;base64,\n",
       "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\" id=\"image77f5e53196\" transform=\"matrix(2.67 0 0 2.67 7.2 6.6)\" style=\"image-rendering:crisp-edges;image-rendering:pixelated\" width=\"100\" height=\"100\"/>\n",
       "   </g>\n",
       "  </g>\n",
       " </g>\n",
       " <defs>\n",
       "  <clipPath id=\"p1d7ea38244\">\n",
       "   <rect x=\"7.2\" y=\"7.2\" width=\"266.4\" height=\"266.4\"/>\n",
       "  </clipPath>\n",
       " </defs>\n",
       "</svg>\n"
      ],
      "text/plain": [
       "<Figure size 288x288 with 1 Axes>"
      ]
     },
     "metadata": {
      "needs_background": "light"
     },
     "output_type": "display_data"
    }
   ],
   "source": [
    "im = ps.generators.blobs([100, 100, 100], blobiness=[1, 2, 3])\n",
    "\n",
    "fig, ax = plt.subplots(figsize=[4, 4]);\n",
    "ax.imshow(im[50, ...])\n",
    "ax.axis(False);"
   ]
  },
  {
   "cell_type": "markdown",
   "id": "scenic-midnight",
   "metadata": {},
   "source": [
    "## Demonstrate function"
   ]
  },
  {
   "cell_type": "code",
   "execution_count": 3,
   "id": "fuzzy-decision",
   "metadata": {
    "execution": {
     "iopub.execute_input": "2022-05-25T19:30:34.526423Z",
     "iopub.status.busy": "2022-05-25T19:30:34.525926Z",
     "iopub.status.idle": "2022-05-25T19:30:34.652182Z",
     "shell.execute_reply": "2022-05-25T19:30:34.651466Z"
    }
   },
   "outputs": [
    {
     "data": {
      "image/svg+xml": [
       "<?xml version=\"1.0\" encoding=\"utf-8\" standalone=\"no\"?>\n",
       "<!DOCTYPE svg PUBLIC \"-//W3C//DTD SVG 1.1//EN\"\n",
       "  \"http://www.w3.org/Graphics/SVG/1.1/DTD/svg11.dtd\">\n",
       "<svg xmlns:xlink=\"http://www.w3.org/1999/xlink\" width=\"568.8pt\" height=\"192pt\" viewBox=\"0 0 568.8 192\" xmlns=\"http://www.w3.org/2000/svg\" version=\"1.1\">\n",
       " <metadata>\n",
       "  <rdf:RDF xmlns:dc=\"http://purl.org/dc/elements/1.1/\" xmlns:cc=\"http://creativecommons.org/ns#\" xmlns:rdf=\"http://www.w3.org/1999/02/22-rdf-syntax-ns#\">\n",
       "   <cc:Work>\n",
       "    <dc:type rdf:resource=\"http://purl.org/dc/dcmitype/StillImage\"/>\n",
       "    <dc:date>2022-05-25T19:30:34.636299</dc:date>\n",
       "    <dc:format>image/svg+xml</dc:format>\n",
       "    <dc:creator>\n",
       "     <cc:Agent>\n",
       "      <dc:title>Matplotlib v3.5.2, https://matplotlib.org/</dc:title>\n",
       "     </cc:Agent>\n",
       "    </dc:creator>\n",
       "   </cc:Work>\n",
       "  </rdf:RDF>\n",
       " </metadata>\n",
       " <defs>\n",
       "  <style type=\"text/css\">*{stroke-linejoin: round; stroke-linecap: butt}</style>\n",
       " </defs>\n",
       " <g id=\"figure_1\">\n",
       "  <g id=\"patch_1\">\n",
       "   <path d=\"M 0 192 \n",
       "L 568.8 192 \n",
       "L 568.8 0 \n",
       "L 0 0 \n",
       "L 0 192 \n",
       "z\n",
       "\" style=\"fill: none\"/>\n",
       "  </g>\n",
       "  <g id=\"axes_1\">\n",
       "   <g clip-path=\"url(#pd41bd9d69a)\">\n",
       "    <image xlink:href=\"data:image/png;base64,\n",
       "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\" id=\"image3270fb4f9f\" transform=\"matrix(1.78 0 0 1.78 7.2 6.8)\" style=\"image-rendering:crisp-edges;image-rendering:pixelated\" width=\"100\" height=\"100\"/>\n",
       "   </g>\n",
       "  </g>\n",
       "  <g id=\"axes_2\">\n",
       "   <g clip-path=\"url(#pfd5b9efa92)\">\n",
       "    <image xlink:href=\"data:image/png;base64,\n",
       "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\" id=\"imagee71c4c3d0c\" transform=\"matrix(1.78 0 0 1.78 195.6 6.8)\" style=\"image-rendering:crisp-edges;image-rendering:pixelated\" width=\"100\" height=\"100\"/>\n",
       "   </g>\n",
       "  </g>\n",
       "  <g id=\"axes_3\">\n",
       "   <g clip-path=\"url(#pfae287027a)\">\n",
       "    <image xlink:href=\"data:image/png;base64,\n",
       "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\" id=\"image3d282b1537\" transform=\"matrix(1.78 0 0 1.78 384 6.8)\" style=\"image-rendering:crisp-edges;image-rendering:pixelated\" width=\"100\" height=\"100\"/>\n",
       "   </g>\n",
       "  </g>\n",
       " </g>\n",
       " <defs>\n",
       "  <clipPath id=\"pd41bd9d69a\">\n",
       "   <rect x=\"7.2\" y=\"7.2\" width=\"177.6\" height=\"177.6\"/>\n",
       "  </clipPath>\n",
       "  <clipPath id=\"pfd5b9efa92\">\n",
       "   <rect x=\"195.6\" y=\"7.2\" width=\"177.6\" height=\"177.6\"/>\n",
       "  </clipPath>\n",
       "  <clipPath id=\"pfae287027a\">\n",
       "   <rect x=\"384\" y=\"7.2\" width=\"177.6\" height=\"177.6\"/>\n",
       "  </clipPath>\n",
       " </defs>\n",
       "</svg>\n"
      ],
      "text/plain": [
       "<Figure size 576x288 with 3 Axes>"
      ]
     },
     "metadata": {
      "needs_background": "light"
     },
     "output_type": "display_data"
    }
   ],
   "source": [
    "im1,im2,im3 = ps.tools.get_planes(im=im, squeeze=True)\n",
    "fig, ax = plt.subplots(1, 3, figsize=[8, 4]);\n",
    "ax[0].axis(False)\n",
    "ax[0].imshow(im1)\n",
    "ax[1].axis(False)\n",
    "ax[1].imshow(im2)\n",
    "ax[2].axis(False)\n",
    "ax[2].imshow(im3);"
   ]
  }
 ],
 "metadata": {
  "kernelspec": {
   "display_name": "Python 3 (ipykernel)",
   "language": "python",
   "name": "python3"
  },
  "language_info": {
   "codemirror_mode": {
    "name": "ipython",
    "version": 3
   },
   "file_extension": ".py",
   "mimetype": "text/x-python",
   "name": "python",
   "nbconvert_exporter": "python",
   "pygments_lexer": "ipython3",
   "version": "3.8.13"
  }
 },
 "nbformat": 4,
 "nbformat_minor": 5
}
