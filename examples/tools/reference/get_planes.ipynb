{
 "cells": [
  {
   "cell_type": "markdown",
   "id": "august-ranking",
   "metadata": {},
   "source": [
    "# `get_planes`"
   ]
  },
  {
   "cell_type": "markdown",
   "id": "otherwise-blame",
   "metadata": {},
   "source": [
    "## Import packages"
   ]
  },
  {
   "cell_type": "code",
   "execution_count": 2,
   "id": "chicken-dodge",
   "metadata": {},
   "outputs": [],
   "source": [
    "import numpy as np\n",
    "import porespy as ps\n",
    "import scipy.ndimage as spim\n",
    "import matplotlib.pyplot as plt\n",
    "import skimage\n",
    "\n",
    "ps.visualization.set_mpl_style()"
   ]
  },
  {
   "cell_type": "markdown",
   "id": "sized-wonder",
   "metadata": {},
   "source": [
    "## Generate image for testing"
   ]
  },
  {
   "cell_type": "code",
   "execution_count": 7,
   "id": "finnish-canvas",
   "metadata": {},
   "outputs": [
    {
     "data": {
      "image/svg+xml": [
       "<?xml version=\"1.0\" encoding=\"utf-8\" standalone=\"no\"?>\n",
       "<!DOCTYPE svg PUBLIC \"-//W3C//DTD SVG 1.1//EN\"\n",
       "  \"http://www.w3.org/Graphics/SVG/1.1/DTD/svg11.dtd\">\n",
       "<!-- Created with matplotlib (https://matplotlib.org/) -->\n",
       "<svg height=\"276.48pt\" version=\"1.1\" viewBox=\"0 0 276.48 276.48\" width=\"276.48pt\" xmlns=\"http://www.w3.org/2000/svg\" xmlns:xlink=\"http://www.w3.org/1999/xlink\">\n",
       " <metadata>\n",
       "  <rdf:RDF xmlns:cc=\"http://creativecommons.org/ns#\" xmlns:dc=\"http://purl.org/dc/elements/1.1/\" xmlns:rdf=\"http://www.w3.org/1999/02/22-rdf-syntax-ns#\">\n",
       "   <cc:Work>\n",
       "    <dc:type rdf:resource=\"http://purl.org/dc/dcmitype/StillImage\"/>\n",
       "    <dc:date>2021-04-20T14:51:37.073190</dc:date>\n",
       "    <dc:format>image/svg+xml</dc:format>\n",
       "    <dc:creator>\n",
       "     <cc:Agent>\n",
       "      <dc:title>Matplotlib v3.3.4, https://matplotlib.org/</dc:title>\n",
       "     </cc:Agent>\n",
       "    </dc:creator>\n",
       "   </cc:Work>\n",
       "  </rdf:RDF>\n",
       " </metadata>\n",
       " <defs>\n",
       "  <style type=\"text/css\">*{stroke-linecap:butt;stroke-linejoin:round;}</style>\n",
       " </defs>\n",
       " <g id=\"figure_1\">\n",
       "  <g id=\"patch_1\">\n",
       "   <path d=\"M 0 276.48 \n",
       "L 276.48 276.48 \n",
       "L 276.48 0 \n",
       "L 0 0 \n",
       "z\n",
       "\" style=\"fill:none;\"/>\n",
       "  </g>\n",
       "  <g id=\"axes_1\">\n",
       "   <g clip-path=\"url(#pd03d8e76e8)\">\n",
       "    <image height=\"100\" id=\"imagec4694cdf90\" style=\"image-rendering:crisp-edges;image-rendering:pixelated\" transform=\"matrix(2.63 0 0 2.63 7.2 6.28)\" width=\"100\" xlink:href=\"data:image/png;base64,\n",
       "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\"/>\n",
       "   </g>\n",
       "  </g>\n",
       " </g>\n",
       " <defs>\n",
       "  <clipPath id=\"pd03d8e76e8\">\n",
       "   <rect height=\"262.08\" width=\"262.08\" x=\"7.2\" y=\"7.2\"/>\n",
       "  </clipPath>\n",
       " </defs>\n",
       "</svg>\n"
      ],
      "text/plain": [
       "<Figure size 288x288 with 1 Axes>"
      ]
     },
     "metadata": {
      "needs_background": "light"
     },
     "output_type": "display_data"
    }
   ],
   "source": [
    "im = ps.generators.blobs([100, 100, 100], blobiness=[1, 2, 3])\n",
    "\n",
    "fig, ax = plt.subplots(figsize=[4, 4]);\n",
    "ax.imshow(im[50, ...])\n",
    "ax.axis(False);"
   ]
  },
  {
   "cell_type": "markdown",
   "id": "scenic-midnight",
   "metadata": {},
   "source": [
    "## Demonstrate function"
   ]
  },
  {
   "cell_type": "code",
   "execution_count": 8,
   "id": "fuzzy-decision",
   "metadata": {},
   "outputs": [
    {
     "data": {
      "image/svg+xml": [
       "<?xml version=\"1.0\" encoding=\"utf-8\" standalone=\"no\"?>\n",
       "<!DOCTYPE svg PUBLIC \"-//W3C//DTD SVG 1.1//EN\"\n",
       "  \"http://www.w3.org/Graphics/SVG/1.1/DTD/svg11.dtd\">\n",
       "<!-- Created with matplotlib (https://matplotlib.org/) -->\n",
       "<svg height=\"189.12pt\" version=\"1.1\" viewBox=\"0 0 564.48 189.12\" width=\"564.48pt\" xmlns=\"http://www.w3.org/2000/svg\" xmlns:xlink=\"http://www.w3.org/1999/xlink\">\n",
       " <metadata>\n",
       "  <rdf:RDF xmlns:cc=\"http://creativecommons.org/ns#\" xmlns:dc=\"http://purl.org/dc/elements/1.1/\" xmlns:rdf=\"http://www.w3.org/1999/02/22-rdf-syntax-ns#\">\n",
       "   <cc:Work>\n",
       "    <dc:type rdf:resource=\"http://purl.org/dc/dcmitype/StillImage\"/>\n",
       "    <dc:date>2021-04-20T14:51:43.835184</dc:date>\n",
       "    <dc:format>image/svg+xml</dc:format>\n",
       "    <dc:creator>\n",
       "     <cc:Agent>\n",
       "      <dc:title>Matplotlib v3.3.4, https://matplotlib.org/</dc:title>\n",
       "     </cc:Agent>\n",
       "    </dc:creator>\n",
       "   </cc:Work>\n",
       "  </rdf:RDF>\n",
       " </metadata>\n",
       " <defs>\n",
       "  <style type=\"text/css\">*{stroke-linecap:butt;stroke-linejoin:round;}</style>\n",
       " </defs>\n",
       " <g id=\"figure_1\">\n",
       "  <g id=\"patch_1\">\n",
       "   <path d=\"M 0 189.12 \n",
       "L 564.48 189.12 \n",
       "L 564.48 0 \n",
       "L 0 0 \n",
       "z\n",
       "\" style=\"fill:none;\"/>\n",
       "  </g>\n",
       "  <g id=\"axes_1\">\n",
       "   <g clip-path=\"url(#p9f92fe6a15)\">\n",
       "    <image height=\"100\" id=\"imagec354c5ea7d\" style=\"image-rendering:crisp-edges;image-rendering:pixelated\" transform=\"matrix(1.75 0 0 1.75 7.2 6.92)\" width=\"100\" xlink:href=\"data:image/png;base64,\n",
       "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\"/>\n",
       "   </g>\n",
       "  </g>\n",
       "  <g id=\"axes_2\">\n",
       "   <g clip-path=\"url(#pf816a614fd)\">\n",
       "    <image height=\"100\" id=\"imaged290d85f85\" style=\"image-rendering:crisp-edges;image-rendering:pixelated\" transform=\"matrix(1.75 0 0 1.75 194.88 6.92)\" width=\"100\" xlink:href=\"data:image/png;base64,\n",
       "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\"/>\n",
       "   </g>\n",
       "  </g>\n",
       "  <g id=\"axes_3\">\n",
       "   <g clip-path=\"url(#pa149282fe5)\">\n",
       "    <image height=\"100\" id=\"image86ed32de81\" style=\"image-rendering:crisp-edges;image-rendering:pixelated\" transform=\"matrix(1.75 0 0 1.75 382.56 6.92)\" width=\"100\" xlink:href=\"data:image/png;base64,\n",
       "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\"/>\n",
       "   </g>\n",
       "  </g>\n",
       " </g>\n",
       " <defs>\n",
       "  <clipPath id=\"p9f92fe6a15\">\n",
       "   <rect height=\"174.72\" width=\"174.72\" x=\"7.2\" y=\"7.2\"/>\n",
       "  </clipPath>\n",
       "  <clipPath id=\"pf816a614fd\">\n",
       "   <rect height=\"174.72\" width=\"174.72\" x=\"194.88\" y=\"7.2\"/>\n",
       "  </clipPath>\n",
       "  <clipPath id=\"pa149282fe5\">\n",
       "   <rect height=\"174.72\" width=\"174.72\" x=\"382.56\" y=\"7.2\"/>\n",
       "  </clipPath>\n",
       " </defs>\n",
       "</svg>\n"
      ],
      "text/plain": [
       "<Figure size 576x288 with 3 Axes>"
      ]
     },
     "metadata": {
      "needs_background": "light"
     },
     "output_type": "display_data"
    }
   ],
   "source": [
    "im1,im2,im3 = ps.tools.get_planes(im=im, squeeze=True)\n",
    "fig, ax = plt.subplots(1, 3, figsize=[8, 4]);\n",
    "ax[0].axis(False)\n",
    "ax[0].imshow(im1)\n",
    "ax[1].axis(False)\n",
    "ax[1].imshow(im2)\n",
    "ax[2].axis(False)\n",
    "ax[2].imshow(im3);"
   ]
  }
 ],
 "metadata": {
  "kernelspec": {
   "display_name": "Python 3 (ipykernel)",
   "language": "python",
   "name": "python3"
  },
  "language_info": {
   "codemirror_mode": {
    "name": "ipython",
    "version": 3
   },
   "file_extension": ".py",
   "mimetype": "text/x-python",
   "name": "python",
   "nbconvert_exporter": "python",
   "pygments_lexer": "ipython3",
   "version": "3.9.7"
  }
 },
 "nbformat": 4,
 "nbformat_minor": 5
}
