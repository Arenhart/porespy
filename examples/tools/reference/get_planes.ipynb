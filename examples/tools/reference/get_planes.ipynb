{
 "cells": [
  {
   "cell_type": "markdown",
   "id": "august-ranking",
   "metadata": {},
   "source": [
    "# `get_planes`"
   ]
  },
  {
   "cell_type": "markdown",
   "id": "otherwise-blame",
   "metadata": {},
   "source": [
    "## Import packages"
   ]
  },
  {
   "cell_type": "code",
   "execution_count": 1,
   "id": "chicken-dodge",
   "metadata": {
    "execution": {
     "iopub.execute_input": "2022-05-25T17:22:48.197914Z",
     "iopub.status.busy": "2022-05-25T17:22:48.197513Z",
     "iopub.status.idle": "2022-05-25T17:22:50.013630Z",
     "shell.execute_reply": "2022-05-25T17:22:50.012535Z"
    }
   },
   "outputs": [],
   "source": [
    "import numpy as np\n",
    "import porespy as ps\n",
    "import scipy.ndimage as spim\n",
    "import matplotlib.pyplot as plt\n",
    "import skimage\n",
    "\n",
    "ps.visualization.set_mpl_style()"
   ]
  },
  {
   "cell_type": "markdown",
   "id": "sized-wonder",
   "metadata": {},
   "source": [
    "## Generate image for testing"
   ]
  },
  {
   "cell_type": "code",
   "execution_count": 2,
   "id": "finnish-canvas",
   "metadata": {
    "execution": {
     "iopub.execute_input": "2022-05-25T17:22:50.017621Z",
     "iopub.status.busy": "2022-05-25T17:22:50.017080Z",
     "iopub.status.idle": "2022-05-25T17:22:50.130039Z",
     "shell.execute_reply": "2022-05-25T17:22:50.129384Z"
    }
   },
   "outputs": [
    {
     "data": {
      "image/svg+xml": [
       "<?xml version=\"1.0\" encoding=\"utf-8\" standalone=\"no\"?>\n",
       "<!DOCTYPE svg PUBLIC \"-//W3C//DTD SVG 1.1//EN\"\n",
       "  \"http://www.w3.org/Graphics/SVG/1.1/DTD/svg11.dtd\">\n",
       "<svg xmlns:xlink=\"http://www.w3.org/1999/xlink\" width=\"280.8pt\" height=\"280.8pt\" viewBox=\"0 0 280.8 280.8\" xmlns=\"http://www.w3.org/2000/svg\" version=\"1.1\">\n",
       " <metadata>\n",
       "  <rdf:RDF xmlns:dc=\"http://purl.org/dc/elements/1.1/\" xmlns:cc=\"http://creativecommons.org/ns#\" xmlns:rdf=\"http://www.w3.org/1999/02/22-rdf-syntax-ns#\">\n",
       "   <cc:Work>\n",
       "    <dc:type rdf:resource=\"http://purl.org/dc/dcmitype/StillImage\"/>\n",
       "    <dc:date>2022-05-25T17:22:50.120125</dc:date>\n",
       "    <dc:format>image/svg+xml</dc:format>\n",
       "    <dc:creator>\n",
       "     <cc:Agent>\n",
       "      <dc:title>Matplotlib v3.5.2, https://matplotlib.org/</dc:title>\n",
       "     </cc:Agent>\n",
       "    </dc:creator>\n",
       "   </cc:Work>\n",
       "  </rdf:RDF>\n",
       " </metadata>\n",
       " <defs>\n",
       "  <style type=\"text/css\">*{stroke-linejoin: round; stroke-linecap: butt}</style>\n",
       " </defs>\n",
       " <g id=\"figure_1\">\n",
       "  <g id=\"patch_1\">\n",
       "   <path d=\"M 0 280.8 \n",
       "L 280.8 280.8 \n",
       "L 280.8 0 \n",
       "L 0 0 \n",
       "L 0 280.8 \n",
       "z\n",
       "\" style=\"fill: none\"/>\n",
       "  </g>\n",
       "  <g id=\"axes_1\">\n",
       "   <g clip-path=\"url(#pf0aa53d360)\">\n",
       "    <image xlink:href=\"data:image/png;base64,\n",
       "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\" id=\"imagee492b9dc37\" transform=\"matrix(2.67 0 0 2.67 7.2 6.6)\" style=\"image-rendering:crisp-edges;image-rendering:pixelated\" width=\"100\" height=\"100\"/>\n",
       "   </g>\n",
       "  </g>\n",
       " </g>\n",
       " <defs>\n",
       "  <clipPath id=\"pf0aa53d360\">\n",
       "   <rect x=\"7.2\" y=\"7.2\" width=\"266.4\" height=\"266.4\"/>\n",
       "  </clipPath>\n",
       " </defs>\n",
       "</svg>\n"
      ],
      "text/plain": [
       "<Figure size 288x288 with 1 Axes>"
      ]
     },
     "metadata": {
      "needs_background": "light"
     },
     "output_type": "display_data"
    }
   ],
   "source": [
    "im = ps.generators.blobs([100, 100, 100], blobiness=[1, 2, 3])\n",
    "\n",
    "fig, ax = plt.subplots(figsize=[4, 4]);\n",
    "ax.imshow(im[50, ...])\n",
    "ax.axis(False);"
   ]
  },
  {
   "cell_type": "markdown",
   "id": "scenic-midnight",
   "metadata": {},
   "source": [
    "## Demonstrate function"
   ]
  },
  {
   "cell_type": "code",
   "execution_count": 3,
   "id": "fuzzy-decision",
   "metadata": {
    "execution": {
     "iopub.execute_input": "2022-05-25T17:22:50.134346Z",
     "iopub.status.busy": "2022-05-25T17:22:50.133305Z",
     "iopub.status.idle": "2022-05-25T17:22:50.216601Z",
     "shell.execute_reply": "2022-05-25T17:22:50.216080Z"
    }
   },
   "outputs": [
    {
     "data": {
      "image/svg+xml": [
       "<?xml version=\"1.0\" encoding=\"utf-8\" standalone=\"no\"?>\n",
       "<!DOCTYPE svg PUBLIC \"-//W3C//DTD SVG 1.1//EN\"\n",
       "  \"http://www.w3.org/Graphics/SVG/1.1/DTD/svg11.dtd\">\n",
       "<svg xmlns:xlink=\"http://www.w3.org/1999/xlink\" width=\"568.8pt\" height=\"192pt\" viewBox=\"0 0 568.8 192\" xmlns=\"http://www.w3.org/2000/svg\" version=\"1.1\">\n",
       " <metadata>\n",
       "  <rdf:RDF xmlns:dc=\"http://purl.org/dc/elements/1.1/\" xmlns:cc=\"http://creativecommons.org/ns#\" xmlns:rdf=\"http://www.w3.org/1999/02/22-rdf-syntax-ns#\">\n",
       "   <cc:Work>\n",
       "    <dc:type rdf:resource=\"http://purl.org/dc/dcmitype/StillImage\"/>\n",
       "    <dc:date>2022-05-25T17:22:50.204659</dc:date>\n",
       "    <dc:format>image/svg+xml</dc:format>\n",
       "    <dc:creator>\n",
       "     <cc:Agent>\n",
       "      <dc:title>Matplotlib v3.5.2, https://matplotlib.org/</dc:title>\n",
       "     </cc:Agent>\n",
       "    </dc:creator>\n",
       "   </cc:Work>\n",
       "  </rdf:RDF>\n",
       " </metadata>\n",
       " <defs>\n",
       "  <style type=\"text/css\">*{stroke-linejoin: round; stroke-linecap: butt}</style>\n",
       " </defs>\n",
       " <g id=\"figure_1\">\n",
       "  <g id=\"patch_1\">\n",
       "   <path d=\"M 0 192 \n",
       "L 568.8 192 \n",
       "L 568.8 0 \n",
       "L 0 0 \n",
       "L 0 192 \n",
       "z\n",
       "\" style=\"fill: none\"/>\n",
       "  </g>\n",
       "  <g id=\"axes_1\">\n",
       "   <g clip-path=\"url(#pc953aba8e9)\">\n",
       "    <image xlink:href=\"data:image/png;base64,\n",
       "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\" id=\"imageb7e68a940c\" transform=\"matrix(1.78 0 0 1.78 7.2 6.8)\" style=\"image-rendering:crisp-edges;image-rendering:pixelated\" width=\"100\" height=\"100\"/>\n",
       "   </g>\n",
       "  </g>\n",
       "  <g id=\"axes_2\">\n",
       "   <g clip-path=\"url(#p67e1c1b68d)\">\n",
       "    <image xlink:href=\"data:image/png;base64,\n",
       "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\" id=\"imageea4d570fa9\" transform=\"matrix(1.78 0 0 1.78 195.6 6.8)\" style=\"image-rendering:crisp-edges;image-rendering:pixelated\" width=\"100\" height=\"100\"/>\n",
       "   </g>\n",
       "  </g>\n",
       "  <g id=\"axes_3\">\n",
       "   <g clip-path=\"url(#p34661b1d1b)\">\n",
       "    <image xlink:href=\"data:image/png;base64,\n",
       "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\" id=\"imagebc1994e2e5\" transform=\"matrix(1.78 0 0 1.78 384 6.8)\" style=\"image-rendering:crisp-edges;image-rendering:pixelated\" width=\"100\" height=\"100\"/>\n",
       "   </g>\n",
       "  </g>\n",
       " </g>\n",
       " <defs>\n",
       "  <clipPath id=\"pc953aba8e9\">\n",
       "   <rect x=\"7.2\" y=\"7.2\" width=\"177.6\" height=\"177.6\"/>\n",
       "  </clipPath>\n",
       "  <clipPath id=\"p67e1c1b68d\">\n",
       "   <rect x=\"195.6\" y=\"7.2\" width=\"177.6\" height=\"177.6\"/>\n",
       "  </clipPath>\n",
       "  <clipPath id=\"p34661b1d1b\">\n",
       "   <rect x=\"384\" y=\"7.2\" width=\"177.6\" height=\"177.6\"/>\n",
       "  </clipPath>\n",
       " </defs>\n",
       "</svg>\n"
      ],
      "text/plain": [
       "<Figure size 576x288 with 3 Axes>"
      ]
     },
     "metadata": {
      "needs_background": "light"
     },
     "output_type": "display_data"
    }
   ],
   "source": [
    "im1,im2,im3 = ps.tools.get_planes(im=im, squeeze=True)\n",
    "fig, ax = plt.subplots(1, 3, figsize=[8, 4]);\n",
    "ax[0].axis(False)\n",
    "ax[0].imshow(im1)\n",
    "ax[1].axis(False)\n",
    "ax[1].imshow(im2)\n",
    "ax[2].axis(False)\n",
    "ax[2].imshow(im3);"
   ]
  }
 ],
 "metadata": {
  "kernelspec": {
   "display_name": "Python 3 (ipykernel)",
   "language": "python",
   "name": "python3"
  },
  "language_info": {
   "codemirror_mode": {
    "name": "ipython",
    "version": 3
   },
   "file_extension": ".py",
   "mimetype": "text/x-python",
   "name": "python",
   "nbconvert_exporter": "python",
   "pygments_lexer": "ipython3",
   "version": "3.8.13"
  }
 },
 "nbformat": 4,
 "nbformat_minor": 5
}
