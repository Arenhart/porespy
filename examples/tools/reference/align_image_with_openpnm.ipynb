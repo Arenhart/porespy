{
 "cells": [
  {
   "cell_type": "markdown",
   "id": "thrown-midwest",
   "metadata": {},
   "source": [
    "# `align_image_with_openpnm`"
   ]
  },
  {
   "cell_type": "markdown",
   "id": "affected-stack",
   "metadata": {},
   "source": [
    "## Import packages"
   ]
  },
  {
   "cell_type": "code",
   "execution_count": 1,
   "id": "hispanic-beverage",
   "metadata": {
    "execution": {
     "iopub.execute_input": "2022-04-20T14:23:17.869151Z",
     "iopub.status.busy": "2022-04-20T14:23:17.868956Z",
     "iopub.status.idle": "2022-04-20T14:23:19.808197Z",
     "shell.execute_reply": "2022-04-20T14:23:19.807676Z"
    }
   },
   "outputs": [],
   "source": [
    "import numpy as np\n",
    "import porespy as ps\n",
    "import scipy.ndimage as spim\n",
    "import matplotlib.pyplot as plt\n",
    "import skimage\n",
    "ps.visualization.set_mpl_style()"
   ]
  },
  {
   "cell_type": "markdown",
   "id": "arbitrary-beauty",
   "metadata": {},
   "source": [
    "## Create image and variables"
   ]
  },
  {
   "cell_type": "code",
   "execution_count": 2,
   "id": "express-dallas",
   "metadata": {
    "execution": {
     "iopub.execute_input": "2022-04-20T14:23:19.812751Z",
     "iopub.status.busy": "2022-04-20T14:23:19.811832Z",
     "iopub.status.idle": "2022-04-20T14:23:19.949529Z",
     "shell.execute_reply": "2022-04-20T14:23:19.949101Z"
    }
   },
   "outputs": [
    {
     "data": {
      "image/svg+xml": [
       "<?xml version=\"1.0\" encoding=\"utf-8\" standalone=\"no\"?>\n",
       "<!DOCTYPE svg PUBLIC \"-//W3C//DTD SVG 1.1//EN\"\n",
       "  \"http://www.w3.org/Graphics/SVG/1.1/DTD/svg11.dtd\">\n",
       "<svg xmlns:xlink=\"http://www.w3.org/1999/xlink\" width=\"492.48pt\" height=\"492.48pt\" viewBox=\"0 0 492.48 492.48\" xmlns=\"http://www.w3.org/2000/svg\" version=\"1.1\">\n",
       " <metadata>\n",
       "  <rdf:RDF xmlns:dc=\"http://purl.org/dc/elements/1.1/\" xmlns:cc=\"http://creativecommons.org/ns#\" xmlns:rdf=\"http://www.w3.org/1999/02/22-rdf-syntax-ns#\">\n",
       "   <cc:Work>\n",
       "    <dc:type rdf:resource=\"http://purl.org/dc/dcmitype/StillImage\"/>\n",
       "    <dc:date>2022-04-20T14:23:19.915277</dc:date>\n",
       "    <dc:format>image/svg+xml</dc:format>\n",
       "    <dc:creator>\n",
       "     <cc:Agent>\n",
       "      <dc:title>Matplotlib v3.5.1, https://matplotlib.org/</dc:title>\n",
       "     </cc:Agent>\n",
       "    </dc:creator>\n",
       "   </cc:Work>\n",
       "  </rdf:RDF>\n",
       " </metadata>\n",
       " <defs>\n",
       "  <style type=\"text/css\">*{stroke-linejoin: round; stroke-linecap: butt}</style>\n",
       " </defs>\n",
       " <g id=\"figure_1\">\n",
       "  <g id=\"patch_1\">\n",
       "   <path d=\"M 0 492.48 \n",
       "L 492.48 492.48 \n",
       "L 492.48 0 \n",
       "L 0 0 \n",
       "L 0 492.48 \n",
       "z\n",
       "\" style=\"fill: none\"/>\n",
       "  </g>\n",
       "  <g id=\"axes_1\">\n",
       "   <g clip-path=\"url(#p7b0b5c33d1)\">\n",
       "    <image xlink:href=\"data:image/png;base64,\n",
       "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\" id=\"image1e080c8826\" transform=\"matrix(0.958 0 0 0.958 7.2 6.28)\" style=\"image-rendering:crisp-edges;image-rendering:pixelated\" width=\"500\" height=\"500\"/>\n",
       "   </g>\n",
       "  </g>\n",
       " </g>\n",
       " <defs>\n",
       "  <clipPath id=\"p7b0b5c33d1\">\n",
       "   <rect x=\"7.2\" y=\"7.2\" width=\"478.08\" height=\"478.08\"/>\n",
       "  </clipPath>\n",
       " </defs>\n",
       "</svg>\n"
      ],
      "text/plain": [
       "<Figure size 504x504 with 1 Axes>"
      ]
     },
     "metadata": {
      "needs_background": "light"
     },
     "output_type": "display_data"
    }
   ],
   "source": [
    "im = ps.generators.blobs([500, 500])\n",
    "plt.figure(figsize=[7, 7])\n",
    "plt.axis(False)\n",
    "plt.imshow(im);"
   ]
  },
  {
   "cell_type": "markdown",
   "id": "clean-employer",
   "metadata": {},
   "source": [
    "## Apply tool"
   ]
  },
  {
   "cell_type": "code",
   "execution_count": 3,
   "id": "accessible-pasta",
   "metadata": {
    "execution": {
     "iopub.execute_input": "2022-04-20T14:23:19.953432Z",
     "iopub.status.busy": "2022-04-20T14:23:19.952549Z",
     "iopub.status.idle": "2022-04-20T14:23:20.007347Z",
     "shell.execute_reply": "2022-04-20T14:23:20.006905Z"
    }
   },
   "outputs": [
    {
     "data": {
      "image/svg+xml": [
       "<?xml version=\"1.0\" encoding=\"utf-8\" standalone=\"no\"?>\n",
       "<!DOCTYPE svg PUBLIC \"-//W3C//DTD SVG 1.1//EN\"\n",
       "  \"http://www.w3.org/Graphics/SVG/1.1/DTD/svg11.dtd\">\n",
       "<svg xmlns:xlink=\"http://www.w3.org/1999/xlink\" width=\"492.48pt\" height=\"492.48pt\" viewBox=\"0 0 492.48 492.48\" xmlns=\"http://www.w3.org/2000/svg\" version=\"1.1\">\n",
       " <metadata>\n",
       "  <rdf:RDF xmlns:dc=\"http://purl.org/dc/elements/1.1/\" xmlns:cc=\"http://creativecommons.org/ns#\" xmlns:rdf=\"http://www.w3.org/1999/02/22-rdf-syntax-ns#\">\n",
       "   <cc:Work>\n",
       "    <dc:type rdf:resource=\"http://purl.org/dc/dcmitype/StillImage\"/>\n",
       "    <dc:date>2022-04-20T14:23:19.986934</dc:date>\n",
       "    <dc:format>image/svg+xml</dc:format>\n",
       "    <dc:creator>\n",
       "     <cc:Agent>\n",
       "      <dc:title>Matplotlib v3.5.1, https://matplotlib.org/</dc:title>\n",
       "     </cc:Agent>\n",
       "    </dc:creator>\n",
       "   </cc:Work>\n",
       "  </rdf:RDF>\n",
       " </metadata>\n",
       " <defs>\n",
       "  <style type=\"text/css\">*{stroke-linejoin: round; stroke-linecap: butt}</style>\n",
       " </defs>\n",
       " <g id=\"figure_1\">\n",
       "  <g id=\"patch_1\">\n",
       "   <path d=\"M 0 492.48 \n",
       "L 492.48 492.48 \n",
       "L 492.48 0 \n",
       "L 0 0 \n",
       "L 0 492.48 \n",
       "z\n",
       "\" style=\"fill: none\"/>\n",
       "  </g>\n",
       "  <g id=\"axes_1\">\n",
       "   <g clip-path=\"url(#p43fdae5042)\">\n",
       "    <image xlink:href=\"data:image/png;base64,\n",
       "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\" id=\"imagecbe6925d09\" transform=\"matrix(0.958 0 0 0.958 7.2 6.28)\" style=\"image-rendering:crisp-edges;image-rendering:pixelated\" width=\"500\" height=\"500\"/>\n",
       "   </g>\n",
       "  </g>\n",
       " </g>\n",
       " <defs>\n",
       "  <clipPath id=\"p43fdae5042\">\n",
       "   <rect x=\"7.2\" y=\"7.2\" width=\"478.08\" height=\"478.08\"/>\n",
       "  </clipPath>\n",
       " </defs>\n",
       "</svg>\n"
      ],
      "text/plain": [
       "<Figure size 504x504 with 1 Axes>"
      ]
     },
     "metadata": {
      "needs_background": "light"
     },
     "output_type": "display_data"
    }
   ],
   "source": [
    "im = ps.tools.align_image_with_openpnm(im = im)\n",
    "plt.figure(figsize=[7, 7])\n",
    "plt.axis(False)\n",
    "plt.imshow(im);"
   ]
  }
 ],
 "metadata": {
  "kernelspec": {
   "display_name": "Python 3 (ipykernel)",
   "language": "python",
   "name": "python3"
  },
  "language_info": {
   "codemirror_mode": {
    "name": "ipython",
    "version": 3
   },
   "file_extension": ".py",
   "mimetype": "text/x-python",
   "name": "python",
   "nbconvert_exporter": "python",
   "pygments_lexer": "ipython3",
   "version": "3.8.13"
  }
 },
 "nbformat": 4,
 "nbformat_minor": 5
}
