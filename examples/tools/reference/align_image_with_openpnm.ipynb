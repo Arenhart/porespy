{
 "cells": [
  {
   "cell_type": "markdown",
   "id": "thrown-midwest",
   "metadata": {},
   "source": [
    "# `align_image_with_openpnm`"
   ]
  },
  {
   "cell_type": "markdown",
   "id": "affected-stack",
   "metadata": {},
   "source": [
    "## Import packages"
   ]
  },
  {
   "cell_type": "code",
   "execution_count": 1,
   "id": "hispanic-beverage",
   "metadata": {
    "execution": {
     "iopub.execute_input": "2022-06-22T19:29:36.782224Z",
     "iopub.status.busy": "2022-06-22T19:29:36.781896Z",
     "iopub.status.idle": "2022-06-22T19:29:38.990576Z",
     "shell.execute_reply": "2022-06-22T19:29:38.989651Z"
    }
   },
   "outputs": [],
   "source": [
    "import numpy as np\n",
    "import porespy as ps\n",
    "import scipy.ndimage as spim\n",
    "import matplotlib.pyplot as plt\n",
    "import skimage\n",
    "ps.visualization.set_mpl_style()"
   ]
  },
  {
   "cell_type": "markdown",
   "id": "arbitrary-beauty",
   "metadata": {},
   "source": [
    "## Create image and variables"
   ]
  },
  {
   "cell_type": "code",
   "execution_count": 2,
   "id": "express-dallas",
   "metadata": {
    "execution": {
     "iopub.execute_input": "2022-06-22T19:29:38.995476Z",
     "iopub.status.busy": "2022-06-22T19:29:38.994926Z",
     "iopub.status.idle": "2022-06-22T19:29:39.115096Z",
     "shell.execute_reply": "2022-06-22T19:29:39.114479Z"
    }
   },
   "outputs": [
    {
     "data": {
      "image/svg+xml": [
       "<?xml version=\"1.0\" encoding=\"utf-8\" standalone=\"no\"?>\n",
       "<!DOCTYPE svg PUBLIC \"-//W3C//DTD SVG 1.1//EN\"\n",
       "  \"http://www.w3.org/Graphics/SVG/1.1/DTD/svg11.dtd\">\n",
       "<svg xmlns:xlink=\"http://www.w3.org/1999/xlink\" width=\"496.8pt\" height=\"496.8pt\" viewBox=\"0 0 496.8 496.8\" xmlns=\"http://www.w3.org/2000/svg\" version=\"1.1\">\n",
       " <metadata>\n",
       "  <rdf:RDF xmlns:dc=\"http://purl.org/dc/elements/1.1/\" xmlns:cc=\"http://creativecommons.org/ns#\" xmlns:rdf=\"http://www.w3.org/1999/02/22-rdf-syntax-ns#\">\n",
       "   <cc:Work>\n",
       "    <dc:type rdf:resource=\"http://purl.org/dc/dcmitype/StillImage\"/>\n",
       "    <dc:date>2022-06-22T19:29:39.086307</dc:date>\n",
       "    <dc:format>image/svg+xml</dc:format>\n",
       "    <dc:creator>\n",
       "     <cc:Agent>\n",
       "      <dc:title>Matplotlib v3.5.2, https://matplotlib.org/</dc:title>\n",
       "     </cc:Agent>\n",
       "    </dc:creator>\n",
       "   </cc:Work>\n",
       "  </rdf:RDF>\n",
       " </metadata>\n",
       " <defs>\n",
       "  <style type=\"text/css\">*{stroke-linejoin: round; stroke-linecap: butt}</style>\n",
       " </defs>\n",
       " <g id=\"figure_1\">\n",
       "  <g id=\"patch_1\">\n",
       "   <path d=\"M 0 496.8 \n",
       "L 496.8 496.8 \n",
       "L 496.8 0 \n",
       "L 0 0 \n",
       "L 0 496.8 \n",
       "z\n",
       "\" style=\"fill: none\"/>\n",
       "  </g>\n",
       "  <g id=\"axes_1\">\n",
       "   <g clip-path=\"url(#p3ddcc9e5d7)\">\n",
       "    <image xlink:href=\"data:image/png;base64,\n",
       "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\" id=\"image94f100f107\" transform=\"matrix(0.966 0 0 0.966 7.2 6.6)\" style=\"image-rendering:crisp-edges;image-rendering:pixelated\" width=\"500\" height=\"500\"/>\n",
       "   </g>\n",
       "  </g>\n",
       " </g>\n",
       " <defs>\n",
       "  <clipPath id=\"p3ddcc9e5d7\">\n",
       "   <rect x=\"7.2\" y=\"7.2\" width=\"482.4\" height=\"482.4\"/>\n",
       "  </clipPath>\n",
       " </defs>\n",
       "</svg>\n"
      ],
      "text/plain": [
       "<Figure size 504x504 with 1 Axes>"
      ]
     },
     "metadata": {
      "needs_background": "light"
     },
     "output_type": "display_data"
    }
   ],
   "source": [
    "im = ps.generators.blobs([500, 500])\n",
    "plt.figure(figsize=[7, 7])\n",
    "plt.axis(False)\n",
    "plt.imshow(im);"
   ]
  },
  {
   "cell_type": "markdown",
   "id": "clean-employer",
   "metadata": {},
   "source": [
    "## Apply tool"
   ]
  },
  {
   "cell_type": "code",
   "execution_count": 3,
   "id": "accessible-pasta",
   "metadata": {
    "execution": {
     "iopub.execute_input": "2022-06-22T19:29:39.119525Z",
     "iopub.status.busy": "2022-06-22T19:29:39.118895Z",
     "iopub.status.idle": "2022-06-22T19:29:39.183980Z",
     "shell.execute_reply": "2022-06-22T19:29:39.183343Z"
    }
   },
   "outputs": [
    {
     "data": {
      "image/svg+xml": [
       "<?xml version=\"1.0\" encoding=\"utf-8\" standalone=\"no\"?>\n",
       "<!DOCTYPE svg PUBLIC \"-//W3C//DTD SVG 1.1//EN\"\n",
       "  \"http://www.w3.org/Graphics/SVG/1.1/DTD/svg11.dtd\">\n",
       "<svg xmlns:xlink=\"http://www.w3.org/1999/xlink\" width=\"496.8pt\" height=\"496.8pt\" viewBox=\"0 0 496.8 496.8\" xmlns=\"http://www.w3.org/2000/svg\" version=\"1.1\">\n",
       " <metadata>\n",
       "  <rdf:RDF xmlns:dc=\"http://purl.org/dc/elements/1.1/\" xmlns:cc=\"http://creativecommons.org/ns#\" xmlns:rdf=\"http://www.w3.org/1999/02/22-rdf-syntax-ns#\">\n",
       "   <cc:Work>\n",
       "    <dc:type rdf:resource=\"http://purl.org/dc/dcmitype/StillImage\"/>\n",
       "    <dc:date>2022-06-22T19:29:39.158063</dc:date>\n",
       "    <dc:format>image/svg+xml</dc:format>\n",
       "    <dc:creator>\n",
       "     <cc:Agent>\n",
       "      <dc:title>Matplotlib v3.5.2, https://matplotlib.org/</dc:title>\n",
       "     </cc:Agent>\n",
       "    </dc:creator>\n",
       "   </cc:Work>\n",
       "  </rdf:RDF>\n",
       " </metadata>\n",
       " <defs>\n",
       "  <style type=\"text/css\">*{stroke-linejoin: round; stroke-linecap: butt}</style>\n",
       " </defs>\n",
       " <g id=\"figure_1\">\n",
       "  <g id=\"patch_1\">\n",
       "   <path d=\"M 0 496.8 \n",
       "L 496.8 496.8 \n",
       "L 496.8 0 \n",
       "L 0 0 \n",
       "L 0 496.8 \n",
       "z\n",
       "\" style=\"fill: none\"/>\n",
       "  </g>\n",
       "  <g id=\"axes_1\">\n",
       "   <g clip-path=\"url(#p40ca9b40a9)\">\n",
       "    <image xlink:href=\"data:image/png;base64,\n",
       "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\" id=\"image63cedf5464\" transform=\"matrix(0.966 0 0 0.966 7.2 6.6)\" style=\"image-rendering:crisp-edges;image-rendering:pixelated\" width=\"500\" height=\"500\"/>\n",
       "   </g>\n",
       "  </g>\n",
       " </g>\n",
       " <defs>\n",
       "  <clipPath id=\"p40ca9b40a9\">\n",
       "   <rect x=\"7.2\" y=\"7.2\" width=\"482.4\" height=\"482.4\"/>\n",
       "  </clipPath>\n",
       " </defs>\n",
       "</svg>\n"
      ],
      "text/plain": [
       "<Figure size 504x504 with 1 Axes>"
      ]
     },
     "metadata": {
      "needs_background": "light"
     },
     "output_type": "display_data"
    }
   ],
   "source": [
    "im = ps.tools.align_image_with_openpnm(im = im)\n",
    "plt.figure(figsize=[7, 7])\n",
    "plt.axis(False)\n",
    "plt.imshow(im);"
   ]
  }
 ],
 "metadata": {
  "kernelspec": {
   "display_name": "Python 3 (ipykernel)",
   "language": "python",
   "name": "python3"
  },
  "language_info": {
   "codemirror_mode": {
    "name": "ipython",
    "version": 3
   },
   "file_extension": ".py",
   "mimetype": "text/x-python",
   "name": "python",
   "nbconvert_exporter": "python",
   "pygments_lexer": "ipython3",
   "version": "3.8.13"
  }
 },
 "nbformat": 4,
 "nbformat_minor": 5
}
