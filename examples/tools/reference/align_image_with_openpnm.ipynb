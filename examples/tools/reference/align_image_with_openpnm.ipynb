{
 "cells": [
  {
   "cell_type": "markdown",
   "id": "thrown-midwest",
   "metadata": {},
   "source": [
    "# align_image_with_openpnm"
   ]
  },
  {
   "cell_type": "markdown",
   "id": "affected-stack",
   "metadata": {},
   "source": [
    "## Import packages"
   ]
  },
  {
   "cell_type": "code",
   "execution_count": 1,
   "id": "hispanic-beverage",
   "metadata": {
    "execution": {
     "iopub.execute_input": "2022-03-29T23:56:17.915637Z",
     "iopub.status.busy": "2022-03-29T23:56:17.915415Z",
     "iopub.status.idle": "2022-03-29T23:56:19.745310Z",
     "shell.execute_reply": "2022-03-29T23:56:19.744719Z"
    }
   },
   "outputs": [],
   "source": [
    "import numpy as np\n",
    "import porespy as ps\n",
    "import scipy.ndimage as spim\n",
    "import matplotlib.pyplot as plt\n",
    "import skimage\n",
    "ps.visualization.set_mpl_style()"
   ]
  },
  {
   "cell_type": "markdown",
   "id": "arbitrary-beauty",
   "metadata": {},
   "source": [
    "## Create image and variables"
   ]
  },
  {
   "cell_type": "code",
   "execution_count": 2,
   "id": "express-dallas",
   "metadata": {
    "execution": {
     "iopub.execute_input": "2022-03-29T23:56:19.749108Z",
     "iopub.status.busy": "2022-03-29T23:56:19.748745Z",
     "iopub.status.idle": "2022-03-29T23:56:19.865570Z",
     "shell.execute_reply": "2022-03-29T23:56:19.865053Z"
    }
   },
   "outputs": [
    {
     "data": {
      "image/svg+xml": [
       "<?xml version=\"1.0\" encoding=\"utf-8\" standalone=\"no\"?>\n",
       "<!DOCTYPE svg PUBLIC \"-//W3C//DTD SVG 1.1//EN\"\n",
       "  \"http://www.w3.org/Graphics/SVG/1.1/DTD/svg11.dtd\">\n",
       "<svg xmlns:xlink=\"http://www.w3.org/1999/xlink\" width=\"492.48pt\" height=\"492.48pt\" viewBox=\"0 0 492.48 492.48\" xmlns=\"http://www.w3.org/2000/svg\" version=\"1.1\">\n",
       " <metadata>\n",
       "  <rdf:RDF xmlns:dc=\"http://purl.org/dc/elements/1.1/\" xmlns:cc=\"http://creativecommons.org/ns#\" xmlns:rdf=\"http://www.w3.org/1999/02/22-rdf-syntax-ns#\">\n",
       "   <cc:Work>\n",
       "    <dc:type rdf:resource=\"http://purl.org/dc/dcmitype/StillImage\"/>\n",
       "    <dc:date>2022-03-29T23:56:19.827702</dc:date>\n",
       "    <dc:format>image/svg+xml</dc:format>\n",
       "    <dc:creator>\n",
       "     <cc:Agent>\n",
       "      <dc:title>Matplotlib v3.5.1, https://matplotlib.org/</dc:title>\n",
       "     </cc:Agent>\n",
       "    </dc:creator>\n",
       "   </cc:Work>\n",
       "  </rdf:RDF>\n",
       " </metadata>\n",
       " <defs>\n",
       "  <style type=\"text/css\">*{stroke-linejoin: round; stroke-linecap: butt}</style>\n",
       " </defs>\n",
       " <g id=\"figure_1\">\n",
       "  <g id=\"patch_1\">\n",
       "   <path d=\"M 0 492.48 \n",
       "L 492.48 492.48 \n",
       "L 492.48 0 \n",
       "L 0 0 \n",
       "L 0 492.48 \n",
       "z\n",
       "\" style=\"fill: none\"/>\n",
       "  </g>\n",
       "  <g id=\"axes_1\">\n",
       "   <g clip-path=\"url(#pccfe0aeacc)\">\n",
       "    <image xlink:href=\"data:image/png;base64,\n",
       "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\" id=\"image76663631af\" transform=\"matrix(0.958 0 0 0.958 7.2 6.28)\" style=\"image-rendering:crisp-edges;image-rendering:pixelated\" width=\"500\" height=\"500\"/>\n",
       "   </g>\n",
       "  </g>\n",
       " </g>\n",
       " <defs>\n",
       "  <clipPath id=\"pccfe0aeacc\">\n",
       "   <rect x=\"7.2\" y=\"7.2\" width=\"478.08\" height=\"478.08\"/>\n",
       "  </clipPath>\n",
       " </defs>\n",
       "</svg>\n"
      ],
      "text/plain": [
       "<Figure size 504x504 with 1 Axes>"
      ]
     },
     "metadata": {
      "needs_background": "light"
     },
     "output_type": "display_data"
    }
   ],
   "source": [
    "im = ps.generators.blobs([500, 500])\n",
    "plt.figure(figsize=[7, 7])\n",
    "plt.axis(False)\n",
    "plt.imshow(im);"
   ]
  },
  {
   "cell_type": "markdown",
   "id": "clean-employer",
   "metadata": {},
   "source": [
    "## Apply tool"
   ]
  },
  {
   "cell_type": "code",
   "execution_count": 3,
   "id": "accessible-pasta",
   "metadata": {
    "execution": {
     "iopub.execute_input": "2022-03-29T23:56:19.868659Z",
     "iopub.status.busy": "2022-03-29T23:56:19.868376Z",
     "iopub.status.idle": "2022-03-29T23:56:19.934430Z",
     "shell.execute_reply": "2022-03-29T23:56:19.934035Z"
    }
   },
   "outputs": [
    {
     "data": {
      "image/svg+xml": [
       "<?xml version=\"1.0\" encoding=\"utf-8\" standalone=\"no\"?>\n",
       "<!DOCTYPE svg PUBLIC \"-//W3C//DTD SVG 1.1//EN\"\n",
       "  \"http://www.w3.org/Graphics/SVG/1.1/DTD/svg11.dtd\">\n",
       "<svg xmlns:xlink=\"http://www.w3.org/1999/xlink\" width=\"492.48pt\" height=\"492.48pt\" viewBox=\"0 0 492.48 492.48\" xmlns=\"http://www.w3.org/2000/svg\" version=\"1.1\">\n",
       " <metadata>\n",
       "  <rdf:RDF xmlns:dc=\"http://purl.org/dc/elements/1.1/\" xmlns:cc=\"http://creativecommons.org/ns#\" xmlns:rdf=\"http://www.w3.org/1999/02/22-rdf-syntax-ns#\">\n",
       "   <cc:Work>\n",
       "    <dc:type rdf:resource=\"http://purl.org/dc/dcmitype/StillImage\"/>\n",
       "    <dc:date>2022-03-29T23:56:19.901733</dc:date>\n",
       "    <dc:format>image/svg+xml</dc:format>\n",
       "    <dc:creator>\n",
       "     <cc:Agent>\n",
       "      <dc:title>Matplotlib v3.5.1, https://matplotlib.org/</dc:title>\n",
       "     </cc:Agent>\n",
       "    </dc:creator>\n",
       "   </cc:Work>\n",
       "  </rdf:RDF>\n",
       " </metadata>\n",
       " <defs>\n",
       "  <style type=\"text/css\">*{stroke-linejoin: round; stroke-linecap: butt}</style>\n",
       " </defs>\n",
       " <g id=\"figure_1\">\n",
       "  <g id=\"patch_1\">\n",
       "   <path d=\"M 0 492.48 \n",
       "L 492.48 492.48 \n",
       "L 492.48 0 \n",
       "L 0 0 \n",
       "L 0 492.48 \n",
       "z\n",
       "\" style=\"fill: none\"/>\n",
       "  </g>\n",
       "  <g id=\"axes_1\">\n",
       "   <g clip-path=\"url(#p04fa87bbc5)\">\n",
       "    <image xlink:href=\"data:image/png;base64,\n",
       "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\" id=\"image02fdf92a6b\" transform=\"matrix(0.958 0 0 0.958 7.2 6.28)\" style=\"image-rendering:crisp-edges;image-rendering:pixelated\" width=\"500\" height=\"500\"/>\n",
       "   </g>\n",
       "  </g>\n",
       " </g>\n",
       " <defs>\n",
       "  <clipPath id=\"p04fa87bbc5\">\n",
       "   <rect x=\"7.2\" y=\"7.2\" width=\"478.08\" height=\"478.08\"/>\n",
       "  </clipPath>\n",
       " </defs>\n",
       "</svg>\n"
      ],
      "text/plain": [
       "<Figure size 504x504 with 1 Axes>"
      ]
     },
     "metadata": {
      "needs_background": "light"
     },
     "output_type": "display_data"
    }
   ],
   "source": [
    "im = ps.tools.align_image_with_openpnm(im = im)\n",
    "plt.figure(figsize=[7, 7])\n",
    "plt.axis(False)\n",
    "plt.imshow(im);"
   ]
  }
 ],
 "metadata": {
  "kernelspec": {
   "display_name": "Python 3",
   "language": "python",
   "name": "python3"
  },
  "language_info": {
   "codemirror_mode": {
    "name": "ipython",
    "version": 3
   },
   "file_extension": ".py",
   "mimetype": "text/x-python",
   "name": "python",
   "nbconvert_exporter": "python",
   "pygments_lexer": "ipython3",
   "version": "3.8.13"
  }
 },
 "nbformat": 4,
 "nbformat_minor": 5
}
