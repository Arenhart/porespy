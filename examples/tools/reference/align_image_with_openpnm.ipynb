{
 "cells": [
  {
   "cell_type": "markdown",
   "id": "thrown-midwest",
   "metadata": {},
   "source": [
    "# `align_image_with_openpnm`"
   ]
  },
  {
   "cell_type": "markdown",
   "id": "affected-stack",
   "metadata": {},
   "source": [
    "## Import packages"
   ]
  },
  {
   "cell_type": "code",
   "execution_count": 1,
   "id": "hispanic-beverage",
   "metadata": {
    "execution": {
     "iopub.execute_input": "2022-05-25T19:30:00.999378Z",
     "iopub.status.busy": "2022-05-25T19:30:00.999088Z",
     "iopub.status.idle": "2022-05-25T19:30:03.377974Z",
     "shell.execute_reply": "2022-05-25T19:30:03.376893Z"
    }
   },
   "outputs": [],
   "source": [
    "import numpy as np\n",
    "import porespy as ps\n",
    "import scipy.ndimage as spim\n",
    "import matplotlib.pyplot as plt\n",
    "import skimage\n",
    "ps.visualization.set_mpl_style()"
   ]
  },
  {
   "cell_type": "markdown",
   "id": "arbitrary-beauty",
   "metadata": {},
   "source": [
    "## Create image and variables"
   ]
  },
  {
   "cell_type": "code",
   "execution_count": 2,
   "id": "express-dallas",
   "metadata": {
    "execution": {
     "iopub.execute_input": "2022-05-25T19:30:03.382611Z",
     "iopub.status.busy": "2022-05-25T19:30:03.381952Z",
     "iopub.status.idle": "2022-05-25T19:30:03.510126Z",
     "shell.execute_reply": "2022-05-25T19:30:03.509430Z"
    }
   },
   "outputs": [
    {
     "data": {
      "image/svg+xml": [
       "<?xml version=\"1.0\" encoding=\"utf-8\" standalone=\"no\"?>\n",
       "<!DOCTYPE svg PUBLIC \"-//W3C//DTD SVG 1.1//EN\"\n",
       "  \"http://www.w3.org/Graphics/SVG/1.1/DTD/svg11.dtd\">\n",
       "<svg xmlns:xlink=\"http://www.w3.org/1999/xlink\" width=\"496.8pt\" height=\"496.8pt\" viewBox=\"0 0 496.8 496.8\" xmlns=\"http://www.w3.org/2000/svg\" version=\"1.1\">\n",
       " <metadata>\n",
       "  <rdf:RDF xmlns:dc=\"http://purl.org/dc/elements/1.1/\" xmlns:cc=\"http://creativecommons.org/ns#\" xmlns:rdf=\"http://www.w3.org/1999/02/22-rdf-syntax-ns#\">\n",
       "   <cc:Work>\n",
       "    <dc:type rdf:resource=\"http://purl.org/dc/dcmitype/StillImage\"/>\n",
       "    <dc:date>2022-05-25T19:30:03.483699</dc:date>\n",
       "    <dc:format>image/svg+xml</dc:format>\n",
       "    <dc:creator>\n",
       "     <cc:Agent>\n",
       "      <dc:title>Matplotlib v3.5.2, https://matplotlib.org/</dc:title>\n",
       "     </cc:Agent>\n",
       "    </dc:creator>\n",
       "   </cc:Work>\n",
       "  </rdf:RDF>\n",
       " </metadata>\n",
       " <defs>\n",
       "  <style type=\"text/css\">*{stroke-linejoin: round; stroke-linecap: butt}</style>\n",
       " </defs>\n",
       " <g id=\"figure_1\">\n",
       "  <g id=\"patch_1\">\n",
       "   <path d=\"M 0 496.8 \n",
       "L 496.8 496.8 \n",
       "L 496.8 0 \n",
       "L 0 0 \n",
       "L 0 496.8 \n",
       "z\n",
       "\" style=\"fill: none\"/>\n",
       "  </g>\n",
       "  <g id=\"axes_1\">\n",
       "   <g clip-path=\"url(#p0c95208a3a)\">\n",
       "    <image xlink:href=\"data:image/png;base64,\n",
       "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\" id=\"image26bf4c8e1a\" transform=\"matrix(0.966 0 0 0.966 7.2 6.6)\" style=\"image-rendering:crisp-edges;image-rendering:pixelated\" width=\"500\" height=\"500\"/>\n",
       "   </g>\n",
       "  </g>\n",
       " </g>\n",
       " <defs>\n",
       "  <clipPath id=\"p0c95208a3a\">\n",
       "   <rect x=\"7.2\" y=\"7.2\" width=\"482.4\" height=\"482.4\"/>\n",
       "  </clipPath>\n",
       " </defs>\n",
       "</svg>\n"
      ],
      "text/plain": [
       "<Figure size 504x504 with 1 Axes>"
      ]
     },
     "metadata": {
      "needs_background": "light"
     },
     "output_type": "display_data"
    }
   ],
   "source": [
    "im = ps.generators.blobs([500, 500])\n",
    "plt.figure(figsize=[7, 7])\n",
    "plt.axis(False)\n",
    "plt.imshow(im);"
   ]
  },
  {
   "cell_type": "markdown",
   "id": "clean-employer",
   "metadata": {},
   "source": [
    "## Apply tool"
   ]
  },
  {
   "cell_type": "code",
   "execution_count": 3,
   "id": "accessible-pasta",
   "metadata": {
    "execution": {
     "iopub.execute_input": "2022-05-25T19:30:03.514996Z",
     "iopub.status.busy": "2022-05-25T19:30:03.513357Z",
     "iopub.status.idle": "2022-05-25T19:30:03.592196Z",
     "shell.execute_reply": "2022-05-25T19:30:03.591280Z"
    }
   },
   "outputs": [
    {
     "data": {
      "image/svg+xml": [
       "<?xml version=\"1.0\" encoding=\"utf-8\" standalone=\"no\"?>\n",
       "<!DOCTYPE svg PUBLIC \"-//W3C//DTD SVG 1.1//EN\"\n",
       "  \"http://www.w3.org/Graphics/SVG/1.1/DTD/svg11.dtd\">\n",
       "<svg xmlns:xlink=\"http://www.w3.org/1999/xlink\" width=\"496.8pt\" height=\"496.8pt\" viewBox=\"0 0 496.8 496.8\" xmlns=\"http://www.w3.org/2000/svg\" version=\"1.1\">\n",
       " <metadata>\n",
       "  <rdf:RDF xmlns:dc=\"http://purl.org/dc/elements/1.1/\" xmlns:cc=\"http://creativecommons.org/ns#\" xmlns:rdf=\"http://www.w3.org/1999/02/22-rdf-syntax-ns#\">\n",
       "   <cc:Work>\n",
       "    <dc:type rdf:resource=\"http://purl.org/dc/dcmitype/StillImage\"/>\n",
       "    <dc:date>2022-05-25T19:30:03.565405</dc:date>\n",
       "    <dc:format>image/svg+xml</dc:format>\n",
       "    <dc:creator>\n",
       "     <cc:Agent>\n",
       "      <dc:title>Matplotlib v3.5.2, https://matplotlib.org/</dc:title>\n",
       "     </cc:Agent>\n",
       "    </dc:creator>\n",
       "   </cc:Work>\n",
       "  </rdf:RDF>\n",
       " </metadata>\n",
       " <defs>\n",
       "  <style type=\"text/css\">*{stroke-linejoin: round; stroke-linecap: butt}</style>\n",
       " </defs>\n",
       " <g id=\"figure_1\">\n",
       "  <g id=\"patch_1\">\n",
       "   <path d=\"M 0 496.8 \n",
       "L 496.8 496.8 \n",
       "L 496.8 0 \n",
       "L 0 0 \n",
       "L 0 496.8 \n",
       "z\n",
       "\" style=\"fill: none\"/>\n",
       "  </g>\n",
       "  <g id=\"axes_1\">\n",
       "   <g clip-path=\"url(#pf046b9e30c)\">\n",
       "    <image xlink:href=\"data:image/png;base64,\n",
       "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\" id=\"image8c93632ded\" transform=\"matrix(0.966 0 0 0.966 7.2 6.6)\" style=\"image-rendering:crisp-edges;image-rendering:pixelated\" width=\"500\" height=\"500\"/>\n",
       "   </g>\n",
       "  </g>\n",
       " </g>\n",
       " <defs>\n",
       "  <clipPath id=\"pf046b9e30c\">\n",
       "   <rect x=\"7.2\" y=\"7.2\" width=\"482.4\" height=\"482.4\"/>\n",
       "  </clipPath>\n",
       " </defs>\n",
       "</svg>\n"
      ],
      "text/plain": [
       "<Figure size 504x504 with 1 Axes>"
      ]
     },
     "metadata": {
      "needs_background": "light"
     },
     "output_type": "display_data"
    }
   ],
   "source": [
    "im = ps.tools.align_image_with_openpnm(im = im)\n",
    "plt.figure(figsize=[7, 7])\n",
    "plt.axis(False)\n",
    "plt.imshow(im);"
   ]
  }
 ],
 "metadata": {
  "kernelspec": {
   "display_name": "Python 3 (ipykernel)",
   "language": "python",
   "name": "python3"
  },
  "language_info": {
   "codemirror_mode": {
    "name": "ipython",
    "version": 3
   },
   "file_extension": ".py",
   "mimetype": "text/x-python",
   "name": "python",
   "nbconvert_exporter": "python",
   "pygments_lexer": "ipython3",
   "version": "3.8.13"
  }
 },
 "nbformat": 4,
 "nbformat_minor": 5
}
