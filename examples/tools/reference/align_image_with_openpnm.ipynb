{
 "cells": [
  {
   "cell_type": "markdown",
   "id": "thrown-midwest",
   "metadata": {},
   "source": [
    "# align_image_with_openpnm"
   ]
  },
  {
   "cell_type": "markdown",
   "id": "affected-stack",
   "metadata": {},
   "source": [
    "## Import packages"
   ]
  },
  {
   "cell_type": "code",
   "execution_count": 1,
   "id": "hispanic-beverage",
   "metadata": {
    "execution": {
     "iopub.execute_input": "2022-04-01T17:07:37.824473Z",
     "iopub.status.busy": "2022-04-01T17:07:37.824069Z",
     "iopub.status.idle": "2022-04-01T17:07:40.036875Z",
     "shell.execute_reply": "2022-04-01T17:07:40.036068Z"
    }
   },
   "outputs": [],
   "source": [
    "import numpy as np\n",
    "import porespy as ps\n",
    "import scipy.ndimage as spim\n",
    "import matplotlib.pyplot as plt\n",
    "import skimage\n",
    "ps.visualization.set_mpl_style()"
   ]
  },
  {
   "cell_type": "markdown",
   "id": "arbitrary-beauty",
   "metadata": {},
   "source": [
    "## Create image and variables"
   ]
  },
  {
   "cell_type": "code",
   "execution_count": 2,
   "id": "express-dallas",
   "metadata": {
    "execution": {
     "iopub.execute_input": "2022-04-01T17:07:40.040547Z",
     "iopub.status.busy": "2022-04-01T17:07:40.040189Z",
     "iopub.status.idle": "2022-04-01T17:07:40.160492Z",
     "shell.execute_reply": "2022-04-01T17:07:40.160028Z"
    }
   },
   "outputs": [
    {
     "data": {
      "image/svg+xml": [
       "<?xml version=\"1.0\" encoding=\"utf-8\" standalone=\"no\"?>\n",
       "<!DOCTYPE svg PUBLIC \"-//W3C//DTD SVG 1.1//EN\"\n",
       "  \"http://www.w3.org/Graphics/SVG/1.1/DTD/svg11.dtd\">\n",
       "<svg xmlns:xlink=\"http://www.w3.org/1999/xlink\" width=\"492.48pt\" height=\"492.48pt\" viewBox=\"0 0 492.48 492.48\" xmlns=\"http://www.w3.org/2000/svg\" version=\"1.1\">\n",
       " <metadata>\n",
       "  <rdf:RDF xmlns:dc=\"http://purl.org/dc/elements/1.1/\" xmlns:cc=\"http://creativecommons.org/ns#\" xmlns:rdf=\"http://www.w3.org/1999/02/22-rdf-syntax-ns#\">\n",
       "   <cc:Work>\n",
       "    <dc:type rdf:resource=\"http://purl.org/dc/dcmitype/StillImage\"/>\n",
       "    <dc:date>2022-04-01T17:07:40.133815</dc:date>\n",
       "    <dc:format>image/svg+xml</dc:format>\n",
       "    <dc:creator>\n",
       "     <cc:Agent>\n",
       "      <dc:title>Matplotlib v3.5.1, https://matplotlib.org/</dc:title>\n",
       "     </cc:Agent>\n",
       "    </dc:creator>\n",
       "   </cc:Work>\n",
       "  </rdf:RDF>\n",
       " </metadata>\n",
       " <defs>\n",
       "  <style type=\"text/css\">*{stroke-linejoin: round; stroke-linecap: butt}</style>\n",
       " </defs>\n",
       " <g id=\"figure_1\">\n",
       "  <g id=\"patch_1\">\n",
       "   <path d=\"M 0 492.48 \n",
       "L 492.48 492.48 \n",
       "L 492.48 0 \n",
       "L 0 0 \n",
       "L 0 492.48 \n",
       "z\n",
       "\" style=\"fill: none\"/>\n",
       "  </g>\n",
       "  <g id=\"axes_1\">\n",
       "   <g clip-path=\"url(#p2d71048f93)\">\n",
       "    <image xlink:href=\"data:image/png;base64,\n",
       "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\" id=\"image89d119d679\" transform=\"matrix(0.958 0 0 0.958 7.2 6.28)\" style=\"image-rendering:crisp-edges;image-rendering:pixelated\" width=\"500\" height=\"500\"/>\n",
       "   </g>\n",
       "  </g>\n",
       " </g>\n",
       " <defs>\n",
       "  <clipPath id=\"p2d71048f93\">\n",
       "   <rect x=\"7.2\" y=\"7.2\" width=\"478.08\" height=\"478.08\"/>\n",
       "  </clipPath>\n",
       " </defs>\n",
       "</svg>\n"
      ],
      "text/plain": [
       "<Figure size 504x504 with 1 Axes>"
      ]
     },
     "metadata": {
      "needs_background": "light"
     },
     "output_type": "display_data"
    }
   ],
   "source": [
    "im = ps.generators.blobs([500, 500])\n",
    "plt.figure(figsize=[7, 7])\n",
    "plt.axis(False)\n",
    "plt.imshow(im);"
   ]
  },
  {
   "cell_type": "markdown",
   "id": "clean-employer",
   "metadata": {},
   "source": [
    "## Apply tool"
   ]
  },
  {
   "cell_type": "code",
   "execution_count": 3,
   "id": "accessible-pasta",
   "metadata": {
    "execution": {
     "iopub.execute_input": "2022-04-01T17:07:40.163452Z",
     "iopub.status.busy": "2022-04-01T17:07:40.163079Z",
     "iopub.status.idle": "2022-04-01T17:07:40.222698Z",
     "shell.execute_reply": "2022-04-01T17:07:40.222234Z"
    }
   },
   "outputs": [
    {
     "data": {
      "image/svg+xml": [
       "<?xml version=\"1.0\" encoding=\"utf-8\" standalone=\"no\"?>\n",
       "<!DOCTYPE svg PUBLIC \"-//W3C//DTD SVG 1.1//EN\"\n",
       "  \"http://www.w3.org/Graphics/SVG/1.1/DTD/svg11.dtd\">\n",
       "<svg xmlns:xlink=\"http://www.w3.org/1999/xlink\" width=\"492.48pt\" height=\"492.48pt\" viewBox=\"0 0 492.48 492.48\" xmlns=\"http://www.w3.org/2000/svg\" version=\"1.1\">\n",
       " <metadata>\n",
       "  <rdf:RDF xmlns:dc=\"http://purl.org/dc/elements/1.1/\" xmlns:cc=\"http://creativecommons.org/ns#\" xmlns:rdf=\"http://www.w3.org/1999/02/22-rdf-syntax-ns#\">\n",
       "   <cc:Work>\n",
       "    <dc:type rdf:resource=\"http://purl.org/dc/dcmitype/StillImage\"/>\n",
       "    <dc:date>2022-04-01T17:07:40.200796</dc:date>\n",
       "    <dc:format>image/svg+xml</dc:format>\n",
       "    <dc:creator>\n",
       "     <cc:Agent>\n",
       "      <dc:title>Matplotlib v3.5.1, https://matplotlib.org/</dc:title>\n",
       "     </cc:Agent>\n",
       "    </dc:creator>\n",
       "   </cc:Work>\n",
       "  </rdf:RDF>\n",
       " </metadata>\n",
       " <defs>\n",
       "  <style type=\"text/css\">*{stroke-linejoin: round; stroke-linecap: butt}</style>\n",
       " </defs>\n",
       " <g id=\"figure_1\">\n",
       "  <g id=\"patch_1\">\n",
       "   <path d=\"M 0 492.48 \n",
       "L 492.48 492.48 \n",
       "L 492.48 0 \n",
       "L 0 0 \n",
       "L 0 492.48 \n",
       "z\n",
       "\" style=\"fill: none\"/>\n",
       "  </g>\n",
       "  <g id=\"axes_1\">\n",
       "   <g clip-path=\"url(#pdf8350957e)\">\n",
       "    <image xlink:href=\"data:image/png;base64,\n",
       "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\" id=\"imagee3df657223\" transform=\"matrix(0.958 0 0 0.958 7.2 6.28)\" style=\"image-rendering:crisp-edges;image-rendering:pixelated\" width=\"500\" height=\"500\"/>\n",
       "   </g>\n",
       "  </g>\n",
       " </g>\n",
       " <defs>\n",
       "  <clipPath id=\"pdf8350957e\">\n",
       "   <rect x=\"7.2\" y=\"7.2\" width=\"478.08\" height=\"478.08\"/>\n",
       "  </clipPath>\n",
       " </defs>\n",
       "</svg>\n"
      ],
      "text/plain": [
       "<Figure size 504x504 with 1 Axes>"
      ]
     },
     "metadata": {
      "needs_background": "light"
     },
     "output_type": "display_data"
    }
   ],
   "source": [
    "im = ps.tools.align_image_with_openpnm(im = im)\n",
    "plt.figure(figsize=[7, 7])\n",
    "plt.axis(False)\n",
    "plt.imshow(im);"
   ]
  }
 ],
 "metadata": {
  "kernelspec": {
   "display_name": "Python 3",
   "language": "python",
   "name": "python3"
  },
  "language_info": {
   "codemirror_mode": {
    "name": "ipython",
    "version": 3
   },
   "file_extension": ".py",
   "mimetype": "text/x-python",
   "name": "python",
   "nbconvert_exporter": "python",
   "pygments_lexer": "ipython3",
   "version": "3.8.13"
  }
 },
 "nbformat": 4,
 "nbformat_minor": 5
}
