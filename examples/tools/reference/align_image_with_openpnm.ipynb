{
 "cells": [
  {
   "cell_type": "markdown",
   "id": "thrown-midwest",
   "metadata": {},
   "source": [
    "# `align_image_with_openpnm`"
   ]
  },
  {
   "cell_type": "markdown",
   "id": "affected-stack",
   "metadata": {},
   "source": [
    "## Import packages"
   ]
  },
  {
   "cell_type": "code",
   "execution_count": 1,
   "id": "hispanic-beverage",
   "metadata": {
    "execution": {
     "iopub.execute_input": "2022-04-26T09:11:54.530514Z",
     "iopub.status.busy": "2022-04-26T09:11:54.530075Z",
     "iopub.status.idle": "2022-04-26T09:11:56.544557Z",
     "shell.execute_reply": "2022-04-26T09:11:56.543802Z"
    }
   },
   "outputs": [],
   "source": [
    "import numpy as np\n",
    "import porespy as ps\n",
    "import scipy.ndimage as spim\n",
    "import matplotlib.pyplot as plt\n",
    "import skimage\n",
    "ps.visualization.set_mpl_style()"
   ]
  },
  {
   "cell_type": "markdown",
   "id": "arbitrary-beauty",
   "metadata": {},
   "source": [
    "## Create image and variables"
   ]
  },
  {
   "cell_type": "code",
   "execution_count": 2,
   "id": "express-dallas",
   "metadata": {
    "execution": {
     "iopub.execute_input": "2022-04-26T09:11:56.548302Z",
     "iopub.status.busy": "2022-04-26T09:11:56.548090Z",
     "iopub.status.idle": "2022-04-26T09:11:56.667181Z",
     "shell.execute_reply": "2022-04-26T09:11:56.666696Z"
    }
   },
   "outputs": [
    {
     "data": {
      "image/svg+xml": [
       "<?xml version=\"1.0\" encoding=\"utf-8\" standalone=\"no\"?>\n",
       "<!DOCTYPE svg PUBLIC \"-//W3C//DTD SVG 1.1//EN\"\n",
       "  \"http://www.w3.org/Graphics/SVG/1.1/DTD/svg11.dtd\">\n",
       "<svg xmlns:xlink=\"http://www.w3.org/1999/xlink\" width=\"492.48pt\" height=\"492.48pt\" viewBox=\"0 0 492.48 492.48\" xmlns=\"http://www.w3.org/2000/svg\" version=\"1.1\">\n",
       " <metadata>\n",
       "  <rdf:RDF xmlns:dc=\"http://purl.org/dc/elements/1.1/\" xmlns:cc=\"http://creativecommons.org/ns#\" xmlns:rdf=\"http://www.w3.org/1999/02/22-rdf-syntax-ns#\">\n",
       "   <cc:Work>\n",
       "    <dc:type rdf:resource=\"http://purl.org/dc/dcmitype/StillImage\"/>\n",
       "    <dc:date>2022-04-26T09:11:56.640049</dc:date>\n",
       "    <dc:format>image/svg+xml</dc:format>\n",
       "    <dc:creator>\n",
       "     <cc:Agent>\n",
       "      <dc:title>Matplotlib v3.5.1, https://matplotlib.org/</dc:title>\n",
       "     </cc:Agent>\n",
       "    </dc:creator>\n",
       "   </cc:Work>\n",
       "  </rdf:RDF>\n",
       " </metadata>\n",
       " <defs>\n",
       "  <style type=\"text/css\">*{stroke-linejoin: round; stroke-linecap: butt}</style>\n",
       " </defs>\n",
       " <g id=\"figure_1\">\n",
       "  <g id=\"patch_1\">\n",
       "   <path d=\"M 0 492.48 \n",
       "L 492.48 492.48 \n",
       "L 492.48 0 \n",
       "L 0 0 \n",
       "L 0 492.48 \n",
       "z\n",
       "\" style=\"fill: none\"/>\n",
       "  </g>\n",
       "  <g id=\"axes_1\">\n",
       "   <g clip-path=\"url(#p9e090f68ff)\">\n",
       "    <image xlink:href=\"data:image/png;base64,\n",
       "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\" id=\"image889ae9cca4\" transform=\"matrix(0.958 0 0 0.958 7.2 6.28)\" style=\"image-rendering:crisp-edges;image-rendering:pixelated\" width=\"500\" height=\"500\"/>\n",
       "   </g>\n",
       "  </g>\n",
       " </g>\n",
       " <defs>\n",
       "  <clipPath id=\"p9e090f68ff\">\n",
       "   <rect x=\"7.2\" y=\"7.2\" width=\"478.08\" height=\"478.08\"/>\n",
       "  </clipPath>\n",
       " </defs>\n",
       "</svg>\n"
      ],
      "text/plain": [
       "<Figure size 504x504 with 1 Axes>"
      ]
     },
     "metadata": {
      "needs_background": "light"
     },
     "output_type": "display_data"
    }
   ],
   "source": [
    "im = ps.generators.blobs([500, 500])\n",
    "plt.figure(figsize=[7, 7])\n",
    "plt.axis(False)\n",
    "plt.imshow(im);"
   ]
  },
  {
   "cell_type": "markdown",
   "id": "clean-employer",
   "metadata": {},
   "source": [
    "## Apply tool"
   ]
  },
  {
   "cell_type": "code",
   "execution_count": 3,
   "id": "accessible-pasta",
   "metadata": {
    "execution": {
     "iopub.execute_input": "2022-04-26T09:11:56.671599Z",
     "iopub.status.busy": "2022-04-26T09:11:56.670596Z",
     "iopub.status.idle": "2022-04-26T09:11:56.731256Z",
     "shell.execute_reply": "2022-04-26T09:11:56.730818Z"
    }
   },
   "outputs": [
    {
     "data": {
      "image/svg+xml": [
       "<?xml version=\"1.0\" encoding=\"utf-8\" standalone=\"no\"?>\n",
       "<!DOCTYPE svg PUBLIC \"-//W3C//DTD SVG 1.1//EN\"\n",
       "  \"http://www.w3.org/Graphics/SVG/1.1/DTD/svg11.dtd\">\n",
       "<svg xmlns:xlink=\"http://www.w3.org/1999/xlink\" width=\"492.48pt\" height=\"492.48pt\" viewBox=\"0 0 492.48 492.48\" xmlns=\"http://www.w3.org/2000/svg\" version=\"1.1\">\n",
       " <metadata>\n",
       "  <rdf:RDF xmlns:dc=\"http://purl.org/dc/elements/1.1/\" xmlns:cc=\"http://creativecommons.org/ns#\" xmlns:rdf=\"http://www.w3.org/1999/02/22-rdf-syntax-ns#\">\n",
       "   <cc:Work>\n",
       "    <dc:type rdf:resource=\"http://purl.org/dc/dcmitype/StillImage\"/>\n",
       "    <dc:date>2022-04-26T09:11:56.709116</dc:date>\n",
       "    <dc:format>image/svg+xml</dc:format>\n",
       "    <dc:creator>\n",
       "     <cc:Agent>\n",
       "      <dc:title>Matplotlib v3.5.1, https://matplotlib.org/</dc:title>\n",
       "     </cc:Agent>\n",
       "    </dc:creator>\n",
       "   </cc:Work>\n",
       "  </rdf:RDF>\n",
       " </metadata>\n",
       " <defs>\n",
       "  <style type=\"text/css\">*{stroke-linejoin: round; stroke-linecap: butt}</style>\n",
       " </defs>\n",
       " <g id=\"figure_1\">\n",
       "  <g id=\"patch_1\">\n",
       "   <path d=\"M 0 492.48 \n",
       "L 492.48 492.48 \n",
       "L 492.48 0 \n",
       "L 0 0 \n",
       "L 0 492.48 \n",
       "z\n",
       "\" style=\"fill: none\"/>\n",
       "  </g>\n",
       "  <g id=\"axes_1\">\n",
       "   <g clip-path=\"url(#pd245e8daa4)\">\n",
       "    <image xlink:href=\"data:image/png;base64,\n",
       "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\" id=\"imagef6371f78fa\" transform=\"matrix(0.958 0 0 0.958 7.2 6.28)\" style=\"image-rendering:crisp-edges;image-rendering:pixelated\" width=\"500\" height=\"500\"/>\n",
       "   </g>\n",
       "  </g>\n",
       " </g>\n",
       " <defs>\n",
       "  <clipPath id=\"pd245e8daa4\">\n",
       "   <rect x=\"7.2\" y=\"7.2\" width=\"478.08\" height=\"478.08\"/>\n",
       "  </clipPath>\n",
       " </defs>\n",
       "</svg>\n"
      ],
      "text/plain": [
       "<Figure size 504x504 with 1 Axes>"
      ]
     },
     "metadata": {
      "needs_background": "light"
     },
     "output_type": "display_data"
    }
   ],
   "source": [
    "im = ps.tools.align_image_with_openpnm(im = im)\n",
    "plt.figure(figsize=[7, 7])\n",
    "plt.axis(False)\n",
    "plt.imshow(im);"
   ]
  }
 ],
 "metadata": {
  "kernelspec": {
   "display_name": "Python 3 (ipykernel)",
   "language": "python",
   "name": "python3"
  },
  "language_info": {
   "codemirror_mode": {
    "name": "ipython",
    "version": 3
   },
   "file_extension": ".py",
   "mimetype": "text/x-python",
   "name": "python",
   "nbconvert_exporter": "python",
   "pygments_lexer": "ipython3",
   "version": "3.8.13"
  }
 },
 "nbformat": 4,
 "nbformat_minor": 5
}
