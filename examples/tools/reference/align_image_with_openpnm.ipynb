{
 "cells": [
  {
   "cell_type": "markdown",
   "id": "thrown-midwest",
   "metadata": {},
   "source": [
    "# `align_image_with_openpnm`"
   ]
  },
  {
   "cell_type": "markdown",
   "id": "affected-stack",
   "metadata": {},
   "source": [
    "## Import packages"
   ]
  },
  {
   "cell_type": "code",
   "execution_count": 1,
   "id": "hispanic-beverage",
   "metadata": {
    "execution": {
     "iopub.execute_input": "2022-06-22T19:36:17.795289Z",
     "iopub.status.busy": "2022-06-22T19:36:17.794945Z",
     "iopub.status.idle": "2022-06-22T19:36:19.821380Z",
     "shell.execute_reply": "2022-06-22T19:36:19.820470Z"
    }
   },
   "outputs": [],
   "source": [
    "import numpy as np\n",
    "import porespy as ps\n",
    "import scipy.ndimage as spim\n",
    "import matplotlib.pyplot as plt\n",
    "import skimage\n",
    "ps.visualization.set_mpl_style()"
   ]
  },
  {
   "cell_type": "markdown",
   "id": "arbitrary-beauty",
   "metadata": {},
   "source": [
    "## Create image and variables"
   ]
  },
  {
   "cell_type": "code",
   "execution_count": 2,
   "id": "express-dallas",
   "metadata": {
    "execution": {
     "iopub.execute_input": "2022-06-22T19:36:19.826837Z",
     "iopub.status.busy": "2022-06-22T19:36:19.825663Z",
     "iopub.status.idle": "2022-06-22T19:36:19.938672Z",
     "shell.execute_reply": "2022-06-22T19:36:19.938060Z"
    }
   },
   "outputs": [
    {
     "data": {
      "image/svg+xml": [
       "<?xml version=\"1.0\" encoding=\"utf-8\" standalone=\"no\"?>\n",
       "<!DOCTYPE svg PUBLIC \"-//W3C//DTD SVG 1.1//EN\"\n",
       "  \"http://www.w3.org/Graphics/SVG/1.1/DTD/svg11.dtd\">\n",
       "<svg xmlns:xlink=\"http://www.w3.org/1999/xlink\" width=\"496.8pt\" height=\"496.8pt\" viewBox=\"0 0 496.8 496.8\" xmlns=\"http://www.w3.org/2000/svg\" version=\"1.1\">\n",
       " <metadata>\n",
       "  <rdf:RDF xmlns:dc=\"http://purl.org/dc/elements/1.1/\" xmlns:cc=\"http://creativecommons.org/ns#\" xmlns:rdf=\"http://www.w3.org/1999/02/22-rdf-syntax-ns#\">\n",
       "   <cc:Work>\n",
       "    <dc:type rdf:resource=\"http://purl.org/dc/dcmitype/StillImage\"/>\n",
       "    <dc:date>2022-06-22T19:36:19.912490</dc:date>\n",
       "    <dc:format>image/svg+xml</dc:format>\n",
       "    <dc:creator>\n",
       "     <cc:Agent>\n",
       "      <dc:title>Matplotlib v3.5.2, https://matplotlib.org/</dc:title>\n",
       "     </cc:Agent>\n",
       "    </dc:creator>\n",
       "   </cc:Work>\n",
       "  </rdf:RDF>\n",
       " </metadata>\n",
       " <defs>\n",
       "  <style type=\"text/css\">*{stroke-linejoin: round; stroke-linecap: butt}</style>\n",
       " </defs>\n",
       " <g id=\"figure_1\">\n",
       "  <g id=\"patch_1\">\n",
       "   <path d=\"M 0 496.8 \n",
       "L 496.8 496.8 \n",
       "L 496.8 0 \n",
       "L 0 0 \n",
       "L 0 496.8 \n",
       "z\n",
       "\" style=\"fill: none\"/>\n",
       "  </g>\n",
       "  <g id=\"axes_1\">\n",
       "   <g clip-path=\"url(#pbfd12ffadb)\">\n",
       "    <image xlink:href=\"data:image/png;base64,\n",
       "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\" id=\"imagef12bdc7788\" transform=\"matrix(0.966 0 0 0.966 7.2 6.6)\" style=\"image-rendering:crisp-edges;image-rendering:pixelated\" width=\"500\" height=\"500\"/>\n",
       "   </g>\n",
       "  </g>\n",
       " </g>\n",
       " <defs>\n",
       "  <clipPath id=\"pbfd12ffadb\">\n",
       "   <rect x=\"7.2\" y=\"7.2\" width=\"482.4\" height=\"482.4\"/>\n",
       "  </clipPath>\n",
       " </defs>\n",
       "</svg>\n"
      ],
      "text/plain": [
       "<Figure size 504x504 with 1 Axes>"
      ]
     },
     "metadata": {
      "needs_background": "light"
     },
     "output_type": "display_data"
    }
   ],
   "source": [
    "im = ps.generators.blobs([500, 500])\n",
    "plt.figure(figsize=[7, 7])\n",
    "plt.axis(False)\n",
    "plt.imshow(im);"
   ]
  },
  {
   "cell_type": "markdown",
   "id": "clean-employer",
   "metadata": {},
   "source": [
    "## Apply tool"
   ]
  },
  {
   "cell_type": "code",
   "execution_count": 3,
   "id": "accessible-pasta",
   "metadata": {
    "execution": {
     "iopub.execute_input": "2022-06-22T19:36:19.942839Z",
     "iopub.status.busy": "2022-06-22T19:36:19.941608Z",
     "iopub.status.idle": "2022-06-22T19:36:20.000286Z",
     "shell.execute_reply": "2022-06-22T19:36:19.999669Z"
    }
   },
   "outputs": [
    {
     "data": {
      "image/svg+xml": [
       "<?xml version=\"1.0\" encoding=\"utf-8\" standalone=\"no\"?>\n",
       "<!DOCTYPE svg PUBLIC \"-//W3C//DTD SVG 1.1//EN\"\n",
       "  \"http://www.w3.org/Graphics/SVG/1.1/DTD/svg11.dtd\">\n",
       "<svg xmlns:xlink=\"http://www.w3.org/1999/xlink\" width=\"496.8pt\" height=\"496.8pt\" viewBox=\"0 0 496.8 496.8\" xmlns=\"http://www.w3.org/2000/svg\" version=\"1.1\">\n",
       " <metadata>\n",
       "  <rdf:RDF xmlns:dc=\"http://purl.org/dc/elements/1.1/\" xmlns:cc=\"http://creativecommons.org/ns#\" xmlns:rdf=\"http://www.w3.org/1999/02/22-rdf-syntax-ns#\">\n",
       "   <cc:Work>\n",
       "    <dc:type rdf:resource=\"http://purl.org/dc/dcmitype/StillImage\"/>\n",
       "    <dc:date>2022-06-22T19:36:19.977140</dc:date>\n",
       "    <dc:format>image/svg+xml</dc:format>\n",
       "    <dc:creator>\n",
       "     <cc:Agent>\n",
       "      <dc:title>Matplotlib v3.5.2, https://matplotlib.org/</dc:title>\n",
       "     </cc:Agent>\n",
       "    </dc:creator>\n",
       "   </cc:Work>\n",
       "  </rdf:RDF>\n",
       " </metadata>\n",
       " <defs>\n",
       "  <style type=\"text/css\">*{stroke-linejoin: round; stroke-linecap: butt}</style>\n",
       " </defs>\n",
       " <g id=\"figure_1\">\n",
       "  <g id=\"patch_1\">\n",
       "   <path d=\"M 0 496.8 \n",
       "L 496.8 496.8 \n",
       "L 496.8 0 \n",
       "L 0 0 \n",
       "L 0 496.8 \n",
       "z\n",
       "\" style=\"fill: none\"/>\n",
       "  </g>\n",
       "  <g id=\"axes_1\">\n",
       "   <g clip-path=\"url(#p83574ecb29)\">\n",
       "    <image xlink:href=\"data:image/png;base64,\n",
       "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\" id=\"image5f0184db40\" transform=\"matrix(0.966 0 0 0.966 7.2 6.6)\" style=\"image-rendering:crisp-edges;image-rendering:pixelated\" width=\"500\" height=\"500\"/>\n",
       "   </g>\n",
       "  </g>\n",
       " </g>\n",
       " <defs>\n",
       "  <clipPath id=\"p83574ecb29\">\n",
       "   <rect x=\"7.2\" y=\"7.2\" width=\"482.4\" height=\"482.4\"/>\n",
       "  </clipPath>\n",
       " </defs>\n",
       "</svg>\n"
      ],
      "text/plain": [
       "<Figure size 504x504 with 1 Axes>"
      ]
     },
     "metadata": {
      "needs_background": "light"
     },
     "output_type": "display_data"
    }
   ],
   "source": [
    "im = ps.tools.align_image_with_openpnm(im = im)\n",
    "plt.figure(figsize=[7, 7])\n",
    "plt.axis(False)\n",
    "plt.imshow(im);"
   ]
  }
 ],
 "metadata": {
  "kernelspec": {
   "display_name": "Python 3 (ipykernel)",
   "language": "python",
   "name": "python3"
  },
  "language_info": {
   "codemirror_mode": {
    "name": "ipython",
    "version": 3
   },
   "file_extension": ".py",
   "mimetype": "text/x-python",
   "name": "python",
   "nbconvert_exporter": "python",
   "pygments_lexer": "ipython3",
   "version": "3.8.13"
  }
 },
 "nbformat": 4,
 "nbformat_minor": 5
}
