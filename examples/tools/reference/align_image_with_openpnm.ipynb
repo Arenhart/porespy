{
 "cells": [
  {
   "cell_type": "markdown",
   "id": "thrown-midwest",
   "metadata": {},
   "source": [
    "# align_image_with_openpnm"
   ]
  },
  {
   "cell_type": "markdown",
   "id": "affected-stack",
   "metadata": {},
   "source": [
    "## Import packages"
   ]
  },
  {
   "cell_type": "code",
   "execution_count": 1,
   "id": "hispanic-beverage",
   "metadata": {
    "execution": {
     "iopub.execute_input": "2022-03-30T14:10:42.161010Z",
     "iopub.status.busy": "2022-03-30T14:10:42.160317Z",
     "iopub.status.idle": "2022-03-30T14:10:44.303858Z",
     "shell.execute_reply": "2022-03-30T14:10:44.303233Z"
    }
   },
   "outputs": [],
   "source": [
    "import numpy as np\n",
    "import porespy as ps\n",
    "import scipy.ndimage as spim\n",
    "import matplotlib.pyplot as plt\n",
    "import skimage\n",
    "ps.visualization.set_mpl_style()"
   ]
  },
  {
   "cell_type": "markdown",
   "id": "arbitrary-beauty",
   "metadata": {},
   "source": [
    "## Create image and variables"
   ]
  },
  {
   "cell_type": "code",
   "execution_count": 2,
   "id": "express-dallas",
   "metadata": {
    "execution": {
     "iopub.execute_input": "2022-03-30T14:10:44.307582Z",
     "iopub.status.busy": "2022-03-30T14:10:44.307139Z",
     "iopub.status.idle": "2022-03-30T14:10:44.444052Z",
     "shell.execute_reply": "2022-03-30T14:10:44.443478Z"
    }
   },
   "outputs": [
    {
     "data": {
      "image/svg+xml": [
       "<?xml version=\"1.0\" encoding=\"utf-8\" standalone=\"no\"?>\n",
       "<!DOCTYPE svg PUBLIC \"-//W3C//DTD SVG 1.1//EN\"\n",
       "  \"http://www.w3.org/Graphics/SVG/1.1/DTD/svg11.dtd\">\n",
       "<svg xmlns:xlink=\"http://www.w3.org/1999/xlink\" width=\"492.48pt\" height=\"492.48pt\" viewBox=\"0 0 492.48 492.48\" xmlns=\"http://www.w3.org/2000/svg\" version=\"1.1\">\n",
       " <metadata>\n",
       "  <rdf:RDF xmlns:dc=\"http://purl.org/dc/elements/1.1/\" xmlns:cc=\"http://creativecommons.org/ns#\" xmlns:rdf=\"http://www.w3.org/1999/02/22-rdf-syntax-ns#\">\n",
       "   <cc:Work>\n",
       "    <dc:type rdf:resource=\"http://purl.org/dc/dcmitype/StillImage\"/>\n",
       "    <dc:date>2022-03-30T14:10:44.398673</dc:date>\n",
       "    <dc:format>image/svg+xml</dc:format>\n",
       "    <dc:creator>\n",
       "     <cc:Agent>\n",
       "      <dc:title>Matplotlib v3.5.1, https://matplotlib.org/</dc:title>\n",
       "     </cc:Agent>\n",
       "    </dc:creator>\n",
       "   </cc:Work>\n",
       "  </rdf:RDF>\n",
       " </metadata>\n",
       " <defs>\n",
       "  <style type=\"text/css\">*{stroke-linejoin: round; stroke-linecap: butt}</style>\n",
       " </defs>\n",
       " <g id=\"figure_1\">\n",
       "  <g id=\"patch_1\">\n",
       "   <path d=\"M 0 492.48 \n",
       "L 492.48 492.48 \n",
       "L 492.48 0 \n",
       "L 0 0 \n",
       "L 0 492.48 \n",
       "z\n",
       "\" style=\"fill: none\"/>\n",
       "  </g>\n",
       "  <g id=\"axes_1\">\n",
       "   <g clip-path=\"url(#pd34a1e7c06)\">\n",
       "    <image xlink:href=\"data:image/png;base64,\n",
       "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\" id=\"imagef13b575f46\" transform=\"matrix(0.958 0 0 0.958 7.2 6.28)\" style=\"image-rendering:crisp-edges;image-rendering:pixelated\" width=\"500\" height=\"500\"/>\n",
       "   </g>\n",
       "  </g>\n",
       " </g>\n",
       " <defs>\n",
       "  <clipPath id=\"pd34a1e7c06\">\n",
       "   <rect x=\"7.2\" y=\"7.2\" width=\"478.08\" height=\"478.08\"/>\n",
       "  </clipPath>\n",
       " </defs>\n",
       "</svg>\n"
      ],
      "text/plain": [
       "<Figure size 504x504 with 1 Axes>"
      ]
     },
     "metadata": {
      "needs_background": "light"
     },
     "output_type": "display_data"
    }
   ],
   "source": [
    "im = ps.generators.blobs([500, 500])\n",
    "plt.figure(figsize=[7, 7])\n",
    "plt.axis(False)\n",
    "plt.imshow(im);"
   ]
  },
  {
   "cell_type": "markdown",
   "id": "clean-employer",
   "metadata": {},
   "source": [
    "## Apply tool"
   ]
  },
  {
   "cell_type": "code",
   "execution_count": 3,
   "id": "accessible-pasta",
   "metadata": {
    "execution": {
     "iopub.execute_input": "2022-03-30T14:10:44.447868Z",
     "iopub.status.busy": "2022-03-30T14:10:44.447369Z",
     "iopub.status.idle": "2022-03-30T14:10:44.526851Z",
     "shell.execute_reply": "2022-03-30T14:10:44.526364Z"
    }
   },
   "outputs": [
    {
     "data": {
      "image/svg+xml": [
       "<?xml version=\"1.0\" encoding=\"utf-8\" standalone=\"no\"?>\n",
       "<!DOCTYPE svg PUBLIC \"-//W3C//DTD SVG 1.1//EN\"\n",
       "  \"http://www.w3.org/Graphics/SVG/1.1/DTD/svg11.dtd\">\n",
       "<svg xmlns:xlink=\"http://www.w3.org/1999/xlink\" width=\"492.48pt\" height=\"492.48pt\" viewBox=\"0 0 492.48 492.48\" xmlns=\"http://www.w3.org/2000/svg\" version=\"1.1\">\n",
       " <metadata>\n",
       "  <rdf:RDF xmlns:dc=\"http://purl.org/dc/elements/1.1/\" xmlns:cc=\"http://creativecommons.org/ns#\" xmlns:rdf=\"http://www.w3.org/1999/02/22-rdf-syntax-ns#\">\n",
       "   <cc:Work>\n",
       "    <dc:type rdf:resource=\"http://purl.org/dc/dcmitype/StillImage\"/>\n",
       "    <dc:date>2022-03-30T14:10:44.486585</dc:date>\n",
       "    <dc:format>image/svg+xml</dc:format>\n",
       "    <dc:creator>\n",
       "     <cc:Agent>\n",
       "      <dc:title>Matplotlib v3.5.1, https://matplotlib.org/</dc:title>\n",
       "     </cc:Agent>\n",
       "    </dc:creator>\n",
       "   </cc:Work>\n",
       "  </rdf:RDF>\n",
       " </metadata>\n",
       " <defs>\n",
       "  <style type=\"text/css\">*{stroke-linejoin: round; stroke-linecap: butt}</style>\n",
       " </defs>\n",
       " <g id=\"figure_1\">\n",
       "  <g id=\"patch_1\">\n",
       "   <path d=\"M 0 492.48 \n",
       "L 492.48 492.48 \n",
       "L 492.48 0 \n",
       "L 0 0 \n",
       "L 0 492.48 \n",
       "z\n",
       "\" style=\"fill: none\"/>\n",
       "  </g>\n",
       "  <g id=\"axes_1\">\n",
       "   <g clip-path=\"url(#p8eb150a22f)\">\n",
       "    <image xlink:href=\"data:image/png;base64,\n",
       "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\" id=\"imagec189f8fc8d\" transform=\"matrix(0.958 0 0 0.958 7.2 6.28)\" style=\"image-rendering:crisp-edges;image-rendering:pixelated\" width=\"500\" height=\"500\"/>\n",
       "   </g>\n",
       "  </g>\n",
       " </g>\n",
       " <defs>\n",
       "  <clipPath id=\"p8eb150a22f\">\n",
       "   <rect x=\"7.2\" y=\"7.2\" width=\"478.08\" height=\"478.08\"/>\n",
       "  </clipPath>\n",
       " </defs>\n",
       "</svg>\n"
      ],
      "text/plain": [
       "<Figure size 504x504 with 1 Axes>"
      ]
     },
     "metadata": {
      "needs_background": "light"
     },
     "output_type": "display_data"
    }
   ],
   "source": [
    "im = ps.tools.align_image_with_openpnm(im = im)\n",
    "plt.figure(figsize=[7, 7])\n",
    "plt.axis(False)\n",
    "plt.imshow(im);"
   ]
  }
 ],
 "metadata": {
  "kernelspec": {
   "display_name": "Python 3",
   "language": "python",
   "name": "python3"
  },
  "language_info": {
   "codemirror_mode": {
    "name": "ipython",
    "version": 3
   },
   "file_extension": ".py",
   "mimetype": "text/x-python",
   "name": "python",
   "nbconvert_exporter": "python",
   "pygments_lexer": "ipython3",
   "version": "3.8.13"
  }
 },
 "nbformat": 4,
 "nbformat_minor": 5
}
