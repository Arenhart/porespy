{
 "cells": [
  {
   "cell_type": "markdown",
   "id": "thrown-midwest",
   "metadata": {},
   "source": [
    "# align_image_with_openpnm"
   ]
  },
  {
   "cell_type": "markdown",
   "id": "affected-stack",
   "metadata": {},
   "source": [
    "## Import packages"
   ]
  },
  {
   "cell_type": "code",
   "execution_count": 1,
   "id": "hispanic-beverage",
   "metadata": {
    "execution": {
     "iopub.execute_input": "2022-03-30T13:44:33.784283Z",
     "iopub.status.busy": "2022-03-30T13:44:33.783883Z",
     "iopub.status.idle": "2022-03-30T13:44:35.694304Z",
     "shell.execute_reply": "2022-03-30T13:44:35.693718Z"
    }
   },
   "outputs": [],
   "source": [
    "import numpy as np\n",
    "import porespy as ps\n",
    "import scipy.ndimage as spim\n",
    "import matplotlib.pyplot as plt\n",
    "import skimage\n",
    "ps.visualization.set_mpl_style()"
   ]
  },
  {
   "cell_type": "markdown",
   "id": "arbitrary-beauty",
   "metadata": {},
   "source": [
    "## Create image and variables"
   ]
  },
  {
   "cell_type": "code",
   "execution_count": 2,
   "id": "express-dallas",
   "metadata": {
    "execution": {
     "iopub.execute_input": "2022-03-30T13:44:35.698024Z",
     "iopub.status.busy": "2022-03-30T13:44:35.697698Z",
     "iopub.status.idle": "2022-03-30T13:44:35.816552Z",
     "shell.execute_reply": "2022-03-30T13:44:35.816120Z"
    }
   },
   "outputs": [
    {
     "data": {
      "image/svg+xml": [
       "<?xml version=\"1.0\" encoding=\"utf-8\" standalone=\"no\"?>\n",
       "<!DOCTYPE svg PUBLIC \"-//W3C//DTD SVG 1.1//EN\"\n",
       "  \"http://www.w3.org/Graphics/SVG/1.1/DTD/svg11.dtd\">\n",
       "<svg xmlns:xlink=\"http://www.w3.org/1999/xlink\" width=\"492.48pt\" height=\"492.48pt\" viewBox=\"0 0 492.48 492.48\" xmlns=\"http://www.w3.org/2000/svg\" version=\"1.1\">\n",
       " <metadata>\n",
       "  <rdf:RDF xmlns:dc=\"http://purl.org/dc/elements/1.1/\" xmlns:cc=\"http://creativecommons.org/ns#\" xmlns:rdf=\"http://www.w3.org/1999/02/22-rdf-syntax-ns#\">\n",
       "   <cc:Work>\n",
       "    <dc:type rdf:resource=\"http://purl.org/dc/dcmitype/StillImage\"/>\n",
       "    <dc:date>2022-03-30T13:44:35.779368</dc:date>\n",
       "    <dc:format>image/svg+xml</dc:format>\n",
       "    <dc:creator>\n",
       "     <cc:Agent>\n",
       "      <dc:title>Matplotlib v3.5.1, https://matplotlib.org/</dc:title>\n",
       "     </cc:Agent>\n",
       "    </dc:creator>\n",
       "   </cc:Work>\n",
       "  </rdf:RDF>\n",
       " </metadata>\n",
       " <defs>\n",
       "  <style type=\"text/css\">*{stroke-linejoin: round; stroke-linecap: butt}</style>\n",
       " </defs>\n",
       " <g id=\"figure_1\">\n",
       "  <g id=\"patch_1\">\n",
       "   <path d=\"M 0 492.48 \n",
       "L 492.48 492.48 \n",
       "L 492.48 0 \n",
       "L 0 0 \n",
       "L 0 492.48 \n",
       "z\n",
       "\" style=\"fill: none\"/>\n",
       "  </g>\n",
       "  <g id=\"axes_1\">\n",
       "   <g clip-path=\"url(#pce2676d454)\">\n",
       "    <image xlink:href=\"data:image/png;base64,\n",
       "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\" id=\"image04ff2756b0\" transform=\"matrix(0.958 0 0 0.958 7.2 6.28)\" style=\"image-rendering:crisp-edges;image-rendering:pixelated\" width=\"500\" height=\"500\"/>\n",
       "   </g>\n",
       "  </g>\n",
       " </g>\n",
       " <defs>\n",
       "  <clipPath id=\"pce2676d454\">\n",
       "   <rect x=\"7.2\" y=\"7.2\" width=\"478.08\" height=\"478.08\"/>\n",
       "  </clipPath>\n",
       " </defs>\n",
       "</svg>\n"
      ],
      "text/plain": [
       "<Figure size 504x504 with 1 Axes>"
      ]
     },
     "metadata": {
      "needs_background": "light"
     },
     "output_type": "display_data"
    }
   ],
   "source": [
    "im = ps.generators.blobs([500, 500])\n",
    "plt.figure(figsize=[7, 7])\n",
    "plt.axis(False)\n",
    "plt.imshow(im);"
   ]
  },
  {
   "cell_type": "markdown",
   "id": "clean-employer",
   "metadata": {},
   "source": [
    "## Apply tool"
   ]
  },
  {
   "cell_type": "code",
   "execution_count": 3,
   "id": "accessible-pasta",
   "metadata": {
    "execution": {
     "iopub.execute_input": "2022-03-30T13:44:35.819329Z",
     "iopub.status.busy": "2022-03-30T13:44:35.818980Z",
     "iopub.status.idle": "2022-03-30T13:44:35.885298Z",
     "shell.execute_reply": "2022-03-30T13:44:35.884867Z"
    }
   },
   "outputs": [
    {
     "data": {
      "image/svg+xml": [
       "<?xml version=\"1.0\" encoding=\"utf-8\" standalone=\"no\"?>\n",
       "<!DOCTYPE svg PUBLIC \"-//W3C//DTD SVG 1.1//EN\"\n",
       "  \"http://www.w3.org/Graphics/SVG/1.1/DTD/svg11.dtd\">\n",
       "<svg xmlns:xlink=\"http://www.w3.org/1999/xlink\" width=\"492.48pt\" height=\"492.48pt\" viewBox=\"0 0 492.48 492.48\" xmlns=\"http://www.w3.org/2000/svg\" version=\"1.1\">\n",
       " <metadata>\n",
       "  <rdf:RDF xmlns:dc=\"http://purl.org/dc/elements/1.1/\" xmlns:cc=\"http://creativecommons.org/ns#\" xmlns:rdf=\"http://www.w3.org/1999/02/22-rdf-syntax-ns#\">\n",
       "   <cc:Work>\n",
       "    <dc:type rdf:resource=\"http://purl.org/dc/dcmitype/StillImage\"/>\n",
       "    <dc:date>2022-03-30T13:44:35.852248</dc:date>\n",
       "    <dc:format>image/svg+xml</dc:format>\n",
       "    <dc:creator>\n",
       "     <cc:Agent>\n",
       "      <dc:title>Matplotlib v3.5.1, https://matplotlib.org/</dc:title>\n",
       "     </cc:Agent>\n",
       "    </dc:creator>\n",
       "   </cc:Work>\n",
       "  </rdf:RDF>\n",
       " </metadata>\n",
       " <defs>\n",
       "  <style type=\"text/css\">*{stroke-linejoin: round; stroke-linecap: butt}</style>\n",
       " </defs>\n",
       " <g id=\"figure_1\">\n",
       "  <g id=\"patch_1\">\n",
       "   <path d=\"M 0 492.48 \n",
       "L 492.48 492.48 \n",
       "L 492.48 0 \n",
       "L 0 0 \n",
       "L 0 492.48 \n",
       "z\n",
       "\" style=\"fill: none\"/>\n",
       "  </g>\n",
       "  <g id=\"axes_1\">\n",
       "   <g clip-path=\"url(#p4733601d3c)\">\n",
       "    <image xlink:href=\"data:image/png;base64,\n",
       "iVBORw0KGgoAAAANSUhEUgAAAfQAAAH0CAYAAADL1t+KAAAqHklEQVR4nO3dUXLjSK6FYXqiVuHnXoAXURHeQG+2dlGrqF5FR82DR2NZJYlMJpA4AP4vYl7unSmTmUgcJkVRL//+89fvDdPeX9+iD+GLH79+Rh9COLU5wXmV6pm6jFepnq79J/oAAADAPAIdZVW9Cu+IXS2wj0AHAKAAAh0AFuLOEbwQ6Aa4HQj4Y50BzxHoAIBWql4cEugojdubtVRtxIAFAn0SDQZYizUH3Eegozx26fW8v74R7JhSsX6+RR/AjGcTsqKJVywIIJPLGuSiDdi2l6yvfh0JU4/Frh7mNLg/qc8Z5mWqe+pRQ6aa2ZNuh35mEXAVD/Rw3R9Y7zji/fWtTK2k2qFbXdHOTl6GK+sqBWotw9zBnuJ6oBa1KNbIqHQ7dAtnd+wsQCCn27VboXnDVoWdepod+oowfTSZGYM8e2F6yjif8BWxXqhDTZl7Z4pAp/DHKRflkfn0Pn5qCo+sXDvUoSbl/vlMy1vuiDHSvHi4CVF4iBZZa0B+h84V7DjFIrSYR+vzorZwhOd6ogb1KfbTR3hTHNxZNS3rt4NlWqiIw1vpess099KBnmkgVaiFlMcc0mARgZrrK0vPkQ505Oa9ACwWmdoFELRlaOrwoz7/soGuPnCKlMJp5fwR6liJj316U84m2YfilAdNlUpziJq7Dm8AhA6r9Ubdfcr0LhCVfntNdoeOMSrFFbnw2KljJcWQyerHr59P15/i2lScf8lAVxwoZYrFHsUi1BlPHEWvmjOy3liX+yQDHccpFblKc7P6zrvS2EKXSt1nc2Z9qa1JtbmX/AxdbZAUUdj7PMZo7zyP/E3FscK8s/XWsR5m1qbieKn0Y179mpBK8XRkMfa3/4ZigwK80L/8yN1yp7k9p7gYVOdM9bhucXu/hiz1Fsnjghif5AId96k2fZqYHcX5xRjWw2OV61tl3rnlnkDlhYCvLnOt0iBu8YzAvvfXN9YsQkgFevdGcEu9KTBffn78+hkyvjwjAA/qvawKqUDHJ/UFQJP2tyLUV9SZ+l0HD+zSPzEO6xDogtQXQJbGrD6OR3iFesTYdAv2bKF+5lifzWWmc69CJtC7LPI96ouAeVrPMtQV6ivq4wT8abYeFOoJn3jKXQiLA49YNF6l+lI6Fk+KFy6XWugyB6sozLVEoCsMRLQMiyvTPGUYz1FnX5WpOhaqx2VNZd0o18IIlfFUJBHo3WVYZCwiDSO1kqGuMhxjBYxzD+GfoRMU+rLNUfXm9ezhsozn3uEz9agH5DLWA877dr2QmPz11Me8eqPNTL128NXqUK9YH/Sj577s0G8Hy7sgmBxtGeenYhProMMufRW1NXCZ19njoj72Pb3lbjURz/7tztQWHhCpQ6h779KVesrtXM5sGKvXhZWX7y9/H/49dKtiYXI+KC2+WxnnSHk8cVzG2hvl8ZIdpfo/e17X55C1DiLnYeihOIvP27NOUifMEeDLeo1VCPPZ/y0mvrb2/vr2//+M/G8A4BmlcMpAabzo8bFjYPK1NSZxnNIivJZ1LlXHEwBW4cUyAORwgXaM0jhl3Qx4iBqL8BfLQAcLEko6PPVeRaZ5uncR5HH8ES8TItABIKlsP9Ea4cj4eD1dv3p+uOUOACjn7I/RWP+Izcq7FwQ6AFnsPvUp3m63qJuMoU6gY9s2zUUJAKMsgzhbqBPoAdh12OOCBF1R+588emumUCfQAUjjAhhHZHlHvmeoE+gog50K0NOKi74MoU6gAwDSynoHxyPUCXSUwi4dHXWt+9Vhrn7xwItlUI7iyzZGGq7asUNfZM1EvdEv6pwtz9e6VxHoi9Gs14gKdYuFrnhBAqhQWBuqryUm0CFZmBa8g9Fz3Ah1ZLIq4KqtCevzIdAXqlaMGXgEY9ULIGDGZZ1Zrw/Vvqm4SyfQUZ5lqKstYEAt8M4Gu9p5HDET6h7nS6AvkrFYK7EIdcIcapT7ivKxWRq9gPEcFwL9xtHB5qnlfC5zxnygAupYy16wr5ivl+8vf/92/ysJeOzeMiy4rrvOs3Ozarwy1M5KXev0EeoD97TfoVstDBZYLmd367f/fYIGq9Fr8EjrQO++MAij+c/WrQO+e03iMWoDe9oGOosDHu7V1ZGQpx5xD3WBES0DnUXC7nwl6g1HUSuY0S7QWTC4Rj0gCrUHa60CnQX0gd05sA59B6u0CXQWFW5RE/BAXSFKi0BngX1id/6BmoAl6gkKygc6C+0TYf6BmoAF6ghqSgc6Cw63qIl81C5EqSGoKhvoLLqv1JriatQDZlFDUFcy0Fl4XxHmP6MPAYlRP8iiZKDjU+cwpxHnF12/1BAyKRfoLEBsG3WAOdQPMioT6CzAP0XvbiJQB3VE1S81hKxKBDoL8E/dwpwaqIUwB8alD3QWIKiBGqIvQqkjZJc20Fl8j0U3xlWogbzUapRaQgUpA53F1xvzn4taeANVpQp0Gvm+ys2T+c+jch0CquQDnSZ+XNUmSg3kUbUGgQxkA50mjm2jDjIhzIFYUoFO8z6vWjOlFnKpVn9ARhKBTvOeU62ZUg+5VKs/IKvQQKdxz6vUTKmHfKrU3/vr2+H62ztn6hhRQgKdgrdRpZluGzWBeM9CfWStXf671DRWe/n+8vfvlX+QIrdBmCNapRr0RH1jlf+s+kM/fv2ksI1UaqTUBKqrtF6hbUmg07TtVGoO1EVelepwBcYLK7gHOk3bTqWmQF2gm0rrF5pcA52mjXuoi9wIpvPeX98YP7hxC3Sati2aAFAH6xkezAOdh9/wDLUBfCDUYc000GnWeIb6yI8QAnSZBDq7cgAYxwUSLE0FOkGOo6gT4D5CHVZe/v3nr6VvisO47AueMK8hex2qY51glsSvrQGAhdFQ5CIFlSx79St6YtcBb5eP/s7UmlJ9cnGBWQQ63Cg1S9RT8RkeQh0zCHQAqVgHebWLAvRFoMMFTbIWlZ0jdQU8RqADSMEzzJUuFFQunvDY5Z38anPFU+4wp9Qcq3rWSKqNf7XzQV731t3l/6ZQp3wPPQm1K8FnFAq7ojM1YDkXETW4spaU1hhrSMtIbUTOHbfcYYpGZGv21p7ibcGjOtdS1jmraHQuIueOW+6AGI+G8P76liogMx0rappZh1HrjR06IGDFQzaz//aqBkWYI5rFOozYqfMZehIZbsHRiI+LnM/ZefI69uj6UVxj0WPSkXUdrJxDAj2RFQ3nuvhG/x7N5zmlwLCYK8vzUagdpfm5UBiXTrJfrPIZOrZtu19wl/+bYqPLQnXsLD7j+/HrZ5rb+MAzqut0FDv0ZKJuB+39XRrzVxkahPWcZflqzyOqc6Y4VpWsmvcV88gOPRmLXdH1vxXxdyvrPEb36knppRvArZXrdcWT7zzlnpBFUWT/qUlFncP8kYq/iIYaItar998k0JM62yRnG+yzz9o7I8zhhdqyV3VMueWe2MgT6dY/N1l1QQCdXa9rLtR9eN5656G4AUdDjIXQS8aLG2r0T+rz6DVnR867Ur2ozLPHmLJDf2Lm/dkXlRYC/qTSHFCf9c5upHarPNxYfb0S6DesJ7zKQkAd1GJvGd9RbkEtzD3Gkofithzv0YYe5rSWDEE1W3NZ31GOY1ru0KMKMvPVLWqg/vI700e6h7Dq+VtnQvmH4tQmkoZag1pdHUHtHZNlbo/Mp+e5ZKkn9fkk0G+oT9itLAsBj1FztWWa32dv6Fv9dxVlmEursUwT6Bkm5agsCwH3ZatF6u2cbPMcQb22ssyh1ThKfYaeZfCBLNQbrjJ+bRCrWH2WvmSHzoL4E402p0y1TI3ZyjT3K6nWWbb5shhH8x16tkEEKlJtspndjim9TlfXuTEJ9K6Dh16oc1wb+S0FYIXTgU4BA5rYna/Xefeu9n6NTmN/ayjQOw8UkIFSY+2M3XuM7mP9NNC7Dw6QCWGuiXDHKt8oMGAf6wQWOt+a95Z5LK0uxvlxFqAAduc5/fj18///ySw6TKP/vgqpF8sAQFfs3s/JPk6WF3MEOpBc9t0d7uOz9/r4PfQCaMAARtAz7st6oeP1MQuBDiRGo+9Dfa5Xh2vmMPdCoANAEuqhvgphfh+BDiRFc++p+7wT5o8R6AAAE95hS5g/R6Av1v3qOiu1eVM7HgD3rVyrBDoAJNPxgi7r7nwlAn2hjouwEpX5UzkO4B6P4M0a5qvXKoEOAJCVNcwjEOiLsKuqIXoeo/8+cIRVCGcO84i1SqAvQBOupft8vr++ffkPcM9sbVBb4wh0Z92bf1UR8xpdS48CnGBfr/p4Vz8/LwS6o+gGDF+d5vdIg6UJ49aZmqCOzmv/a2seP1nYqdF39+PXzyUNKLKmRs7v8t9lDeDi/fXtcD0Q5nNevr/8/Tv6IFY622ieFRrNC96NKKrGZs6LdeEna/A9qoms57Nn9RpoE+g0F3jzakpZduf3sO7sVQ2/ilbX/6lb7kcOUqnoaCpY4VJnSrU/w+I8Rm63AtWsrv9DgX7mgFZ9tnjkOICVLIO9Qv0S6sAad2+5Wy6+6FCnkSBaxs+hPdYta3FedD/FOatq/5v3H1LZqQNRzu7YCUCghlV3qfgeOrDIj18/Dy/qimHOhf0cxg97Xv79568lT7lHFWPFxoh9R+tN9Qny6Lr1XK/R55YRYV6Dd+23f7FMJY8WfbcGmuVFKPduxXeYKx6SQ1fetU+gF7AXYJ0a6NmdjEKwA/ewO6/Fsx+X/wy9+mI4en7Vx2Hb7L433WGsojHGxzBONXnN65JAjy7K6L/vZfS8qo7DttmfW+WxQg7UIEaV36FfVFscs7eWK/E6J3briELd1ecxx20CfdvqLJIq55EF4+2DcUV31mvAPdDVFi27rlpWzeWKurn8DYX65EG9OArzj5xa7dCvqTTOURmPuRKP8b9Xi8xzT8x7P5Zz7hroGYoza7AjjmXNPPt3qMs+6EOw0HaHfkvpducjysfW0Uy9HP3fRs45t93XYF3DqgbcXiyTuUi7vbkrK5UaG3kpjcoxQwP1YPtzw925vMu94sREB7vlmEafi5WKdfaI6jvnZ1WpxTM61e8tLn7vm10PvPr1oMhXgwKopWNYbdtY/2TnPs78M/Tqgx/xOXv1McW+ip+ld7047rieR346+N7/FsfwUNxJK7//DCA/9YdurV1C3CKQu4T6bH2Y3nLvVKzbxm14rBX5q3k/fv1st74tZRm7Z/W1dw7etckt+H2mD8V1HmiPYvYazyoXIF3rrcIDcmo1+Oi8Zo8zQ42qzcURGcb1rJn5MNuhVx7gI6x3693HE1Bw9iusWdZvxjDfNu4YPWK2Q2dwP6lf1WddxPd0rbvMu3TF+hs9p9tzyFiHivMwKuO475mZF5OH4ioO6oyZ8WAscUTWp94rhMi2fX2zZMY1W2UeqpyHFZ5yd3JmkWdsDOiJRgromQ50Qmhe1qt8xIqumdFQV74IUD42a9XOtdr5zGCHjtS6L+YsoZ5hnjIcI+5j7j4Q6MGiGzLyi66hvZeHZGq2mY4V9czW31SgRzcSZTQGrKSwFu8Fe8Z1kPGYwbxt2+TX1hSaiKIM31etVvzU4qdqcxupWl1Vr43M82UxN9xyN2T13mJgRuampob1jEwIdCP8khCU8M0JO1yo55F1nqyOO3WgW/6az+wxZFOt2WecgxWqzXMkagweLOvK9NfWVnh08tf/9xVNzHISeC8xPPGrgHYyr1XmX4/1nKR5KO7MiVsfn+eC4OE4G1mb7Sor5/t2LirVWsY6qzT+z2SZG4/5SBHo0T92smohEOrzsizmaJEXp1XqLVutVRn3PRnmxWsu5D9DtzjxM59zK3w+j3HM1zFeTe/Iv1vlgT1qDWd41o30Z+jWJ66+AKM+n3t/fZMfG9iznvfR2uWzfXSyos6nduieB8giX6vCjgnjrHbLXX8ymD6lRbWWVtWJ5C33zosk8txVF8OozvVzVnQgZ669DPWW4RgrWv2x7XSgd7stXl3mxor1LOulymfriKFWOxFZJrVDJ8w/RI8DjbWns5+BRx+Hgug1251azUTVg0mgU8w1qS2SEdTkOUfnPHNtoBa1WozsPWY79NmToAF/pTIeaotFyfVXG1Xmy8LenK+oiYx1V6kGsshYJ55Mb7lT0DWxaP50r9YrBfu9OV/9UQx1h0dUPxaMXv/mn6FHn1AlSmOpuHii7M2L0rzNuDRN1eapqMrcq6IWn3N5KI6iromFdBxrwAY119ftBSW1sM/tTXGjbz3jrVE5dH+r3Mi5Z/5lLpzHvI9hrOy4vvr10vzOBPv1/74zxebQPdQBzFHraVVIv8u9y682ZUSoH6N4QQZ/zPt91cckui8uCXSv4n70bxI0a0QXbxY0d6B+mCuQelOcFR6gWIdxPoYLn36Y80+d+kTkuZYM9Isqwa7eGBTHWPG1pJW+pw4cpdgfqiod6BcUFJQQ6n10n+uuvTfqvFsE+rb1LaxVGN8x3Rs9AHttAn3bCB1vKuOrchx7uAW/j/GxEbEmsqxDLxHn3yrQt40i88b4jiO0aus4v/SBGEsCXW1y1Y6nGsZ3HLt1oJ7VvbDdDv0iW+jQ7I/JNq+3CPZPjIOtVWsj+xrMrG2gwxeLeg5hVgvz2dfKXtg60AkdX4zvHHbryIY1H6t1oMPfygVetZl0DPZu5wtYaB/oVUNACWNsg5DDLNZijFXj3j7QUUOXRtUh1DucY0Vd1qAyAh1LsNjtVA68yucGeCPQtzxhk73ZKf5gCtDNyp+yxqcVY+Qe6Ew0rlEPeCT7BSsQjR06lrMM9dUXCIQOAFUE+v+wc1yL8QbisP5qItARZrap0JTqqH7no3KtVj43a95jRaAj1NkCp4kAwFeugZ6t6WY43oo7mdFxzzBPnrqffzaq86V6XDjvW/QBANv22VyeXbBEN6CKF1NANY/WaXT/uHh/fXPrJQQ6pNwLdpWFqICxyIX5WuNIQF7+O5XnxO2We9ZBy3rc1by/vv3/P0BGGWo3wzE+c+aHixTutHmNu0ugZy+S7MePmqjLPJgrP5cQnwnmqqH+beQfPTIIFDKAUZ6fK65GD/RhXR8/fv0Mn6uzdf/ouIc+Q48++ZWOPKQFrNJp7WXWcZ68g7F6D7YcO76HvkNxgVYvcEWMuT/FtTYi+/HP8Ng9z95W74in3A9gt45InYMiA+bnw+xOnf46j0AfcF2sFB9gL9tn6YT5V0e/bpppjjMh0E8i3AEfWUKdMH9OfQ4rzh+foRvg+9JAL1XWu3roYgyBboiXoQA2lNeQ8rGN6BzmVebwFoHuhGAH5rB+/HQO88oIdGc0pRqYR2xbjTroHuYV5vARAn0B6wKqXJDANaVaVzqWM/hed30E+iLZmwHi0IQxixr6UL0PE+gLVS+myqIbYvTfj8S6OY9deS8EOpAEjRlHEeR/6nBhSKAv1qGo4IcmHSPTuqVG+iLQgWQ6NuzoQM0y5lmOc7Xo+lmFQAcSonHjGrfYsW0EOpAWDRzbRh3s6bI73zYCPZ1OxYl97MzWURxnxWNCnCW/tvao6AincbO/OYxxGZpm9brIMAerMSb7Kq+Je1wDfa/gjv52LoB91UNdwaVnRY8zYY573G65jxZclwLtcp6IQX2tETnOzPEx0RddEcx36DPFpnL1C2TGTn2NiDuMhDmeMQ10q2Kr2pBYjMC4DOvm9hit+1eGMUA8s0C3Ljh261Dx/vqWrqFWvSjO4l69nJmPbHWnomvtmwS6Z9FVaUyWY1RlTIBOCGd4m3oobtV3YLMvhOzHj75X/ADyOBXovMwCHRHqAJQNBXpkkGe9gPA67qzjkR2hDujr2h93P0NXGhg+O4YC9YfkWCNAT9+UG9M9mUI929jiuEsNRs1xljUAYJ2Xf//563f0QYzK0sxWNPssY1Gd51wzx1wc45xua2fJj7NYy7BLpwH1YrljV69tAJpS7tAvlBvfykBXHod7Ov363tE6qHju1rhIxhmd1lbKHTry6taUOzUTQFGGO7pW3H5tbYVu4ZDdyM/pAre6NGXgrNSBvm2EwLblGIOjx5jhXBCHUMcZXfpK+kCHvi6LCWsQ6jijQx8qEegdJior5gYeCHXgTyUCHQCAPdU3GGUCXW2iVu8g1M5/284fk+K5QA+7dOCrMoG+bQQB0A2hjlGVc6JUoKuh2QD+WGfAh3KBXvnqKxPmAQDWKhfoatg9AP5YZ0DRQGd3CPRDqKO7koGuhkYzhvEC4Knqpq9soKtNGCEFABqq9uOyga6oahEBKlhj6Kz0z6cq/mze++ub3N0DANhztJfS3+KUDnRVhPpjahdgQGdn1uP1/4Y+txaBHoRQB6DI8qL68m/R69bgM/RAlXejs1f2wBkEx3nvr29ua1BpbSsdizUCPVjl4gKgzzPII/5OZy///vPX7+iD8JahiGZ3FqrnePS8VI8fObAzPydq3UXNV/U+ww5dRNVCO3JeVc8d/n78+kmYnxS57ljzPtihCzrToNTP8d45qR8z9BDeNpTW3qo5VTpnLwS6qNEiz3iOqI3w1aTYK7xrRfGcPZS/5Z51IkeOO+s5oiZug2MUD8zZKB/omVHgyIQg16feUzyCXf2cLfFiGXG8gAYZVK/RCq89zRRsFn0v0/laKR3oVSaUUAfWOts77v3vWLvnzLxCtkrvH7X8obi9gbYq/moT+mhcqp0n8qkUWJ7rKXKcKvUJeuFjSwP9zIBX/ArXWXz1C4oqBPrqdbR6zOgTPSy75W55C2vbvi4IihXAWRH9Y+XHaPTHPpbt0CkqG+zSoSbzDl1h7fAdbFjha2sAEKjLr5zBH4GeSOadEKBGLez4/jVmLfkMncLy9ePXT8YYGKC6Xma+qnXv30Avpb+HDsAf70nwQTBjFLfci6ChAscQlKiKQE+CwIayLCGZ5TiBEZffUeCWOwAABjyeexj5N5d8D52r4jkjE8pYI5LynSTWBryo1D233AGUR5jDi0qYbxuBLm+0WJSKC/0QnOhErd/yGTog6rZZZAlLta+xZRk35KJU4xfs0IUpFgz8XZ5Yvfd/z0IlRFWOA7WorkUCvSDVYsO+vbnLNLee7yhX/ttAFPdb7iyqczI1bsyrPN8WrzMd/TuAF+W1ymfogpQLBvbOPPiYNbyyHjeQAYEOBOLiDZjHuzo+uAZ65YHzYtXgM+/iuiDMgfPOrp/L/65if2SHLoQG3wdzDYyzXDcVg51AF0GD74O5BvatWieV7ma6BXqVAVqBBt8D8wxoroORUFd7cdI1tx9nIdCP4Ws8PXjMM/NbR5VdomrQHTUyB4rn+u3RCcwcbIXCXEGxIKJUaWj3MM+457Yu7tXJzJqw7OFdajh7H3r5/vL34R363qRmHojVViwQ5fnoUEvec1xhjLrqEpAZZd6lD32GTgOZp1YAEY6MQfYrZeYZj1Abdah9ns5T7osoTXqUDm9EY54BROHHWRbo3uQf/XpYNavPscOYVsOc1aO06SDQnXVewF2CfNt6zzPQnUqoE+iOujb5TkG+bbHz3Gmcs2Ou4I1ALyrqirFb01I4X4VjALpT2KUT6DDhsStXWCDPKAWp0rEAWc32nOieRaA7iprclX/X6/Z69MLYoxigiseED8wNViDQcZpXkyLMz1M+NqCDyP4V/j10ywakGASrXzywagw67sqzqPizkAD2Db361ULnV55WeRVot8/Kr2XcAWca36oy1k1HlmslYs6XBXrEySk2sgq3qa3OQXF+9mRuzBnHu4LMNdOJx/pYPfdLPkOPKmjF70O/v76ZFw5hjiMU1wMAO+6BrtBAFI7hllWgZQtGjwuaVRTr6Iwq5wGoW93rXANdqXEoHcvFJdzOTnq2YMx2vJWxWwfWWNn3Wn1tTbmBjQR75C73zN/NvCuvTnlNABjj9rU1GsU51YKv2vlUlPFnagFL3vW/6uvLrXbo28aFhoWROwnIgXUB+FrRD1126DSH3ioGOTUN2NrrExXXnPdOvd0OfdtqFspq9z4X57Py3FgXWOFon6jaSzzPyzzQaQq9zD6pDy2sX3ga7RNV+4rXebXcoQOjqjaWewh1eOjy9dyjPDZCBDqAPxDqsJT9d8Y9WQa7aaBnagKZjhWIwBqBhcphbOn648uzYxb+86kAUFX3iyLLMF/9U9TRzowdt9wBPNSpgQLZme3QWfhATbxJLs6ZcacX98Utd+Cgbrf8rl3Om2D3Z/kAWWS9Uivrtb7l3rU5A2exZo47M1bWIVjtHRGVzsVD60AHRtFQCHUvnrVVJdipvedMAp1BBnrh99SfGx2bVWG7MtSpj/Xa79ApOoyqsNOxcgl21tF5q+uJ+v1TlfptH+gAbBDuHzKcP6FeE4G+5ViA0EJDfO463FlffTH3a/G1tf/hu7bjHi3WLuPY+Wtso67HqXJ9UA9+vMe2QgZM79ArFXClc/G0t+vqtCvL3gAidKmNIyLrZ9XfZr7X4Zb7DYrvuZHx6RLshPq4inVx5pwqjsM9s+e5apyyzwe33O/I+Fas20K0PvaZQu9wu5Xb7+Mq3OLEcWfnm3V13Mv3l79/z/wD1QdbueGs+K6r1/xajOvRY1s9h9XXhCXl9TViZs4jxyCiVkfON2otZa1L2UBX2/EoTbDluNyel+oCsjguXqqhSWltnUWgjzlyzryHfpxUoD8bRJUGGT3RKuOQGcGuJXpNWSDQz7l37tHHdJGxLmU+Q98bPJUde+Tn6wrnX8HKz24vf4e5q4u5PY+xszX1lPvqyVC6Ylr5BHeXp8VXiqhdpfpV0r22u5+/qozzkupra4oD7P02LMVzriLqgSDCHcghW/+VueVe4Sssll/PylZIGMft+Pwyz13mY8d9MoG+bc9DPVvx3Tte9Sc7EYNgR4UNTVWZ5kYq0LetdlOrfG6Yd900utVKpqaJfrLUZ6rP0AFrqsGZoXnAlmotIg8CHRDFw3PaCOBeMsw3gQ6I6xLqGRqmN36EBDOmAr1LowGisdaAeOoXQuzQ0VqmoMx0rGepN8wVGAOcRaADiXQI9Qy8Q9fz3+eCoS4CHQCAAqYDnR0DsFb1NccO8gPjgFHs0AFAlHWoc5FQm0mgV98xoKbMdZv52DGGEMZR7NAByFEPsdUXVBbjoT6mmGcW6OwYgLVYc714/kwzjlFfc3I/zgKsoL4woe/99S0kYM/8UIjKhcCz41Y5xsxMb7nTJAFYydDgo3re0d26yq7+yO8S8NsF816+v/z92/ofVSgg4JlKjaPyerOep72xOvv3VOYg6q7BPTNzp3IO1zL0DJeH4jKcOIAeLrvUozvaM1R6nkIQWuy0VcYzG7en3JkQqKI2+1gZcN3ryvqWudJ4Kh3LM65fW8syCEBmVdfZ7C1bhd1qB56ffVetbS/u30PnQQcAK0UGeadet6q3dxrTWcteLMOkADiKfqErYpMWWQ+ZanHpm+IyDQxqqlqDVc9rNYtxrDoX0Xdbo/9+Bstf/cqEAHiGHqFHaU5WHovSeR8R8i73bIOEGqg7fVXmqNJ5KJ6L6nFFC/txFiYDsJV9TUUff/TfV5NhPAj2r0Lf5a70ViNoebRIs7/4A/cxP5hxqZ/ueeLy6tdR3ScBHzxeFdktKLKtJa/5GR0Hj+PINhfXsq8bi7HPOAb82hrC8WSxnUx3vZgzeOm6Yw/7DP0aC7snPv/qacW8j/z71OBXlcajW4+RCPRtq1VE2Md897O6uR75W9RhD2dqL+PuXibQ0QdNtJ+oOY9+EQq0VJ8TqUCvPthgjrtRuOX56O9HHxdijMx7tl06D8VhGRpoH2pzrXY8yOPHr59p6kdqh466siyICqLHOvrvA9ay7NQJdKAYfj4UM7KE12oZxkUu0GkI9TCnPTDPqE491OUCHbXQ5AEomQ1l5VAn0AFM48LtPsalJtVQJ9DhhmYG5KQaWLMsz+vHr59y48TX1oA77i1ULlBwRqb362Oc0tfa2KHDhUqBj3p21a14RX5L/fi6yrgeqtWS5/mojJVcoKsMDPo5WnsZgh16MoZ6FSvWq0JPkAt05NelcSksYOSi8CrcEdT4mOjx4jN0YDu/EJU+P4tuJjhur2aYSzurxzKyJ7BDBybRfBkDa5edvMKOPvPcRh171MdyUoGeuXDwIbr5ABWxrsYp5MnqY5AKdCCr6OYR/fdVjqGyyFDPNrdKx7tyt06gwwy7CMAXob5P9Tg9jutysXD5j0ygq04CgONYx/64cH5Mvf4sduvXAX6Lp9wXeLQA1YsPY6KebqWO+ol6+5zStzoyu567I+N5dK4JdCdHJun6v5O9KbPIcUHTX4NQ/yprD7U8bplb7lWc/ZqJ4gKBvqxNDLDEOvhAoBuaDWWF75wCFmiwa0T1C6X5VTqWaAS6Aesgzhbq2Y7X08rmQiNDJIX6UzgGJQS6KEIS2dFs64ucY+rrTwT6JM/gzRDqGY4RcRSa7rOv+VQQvQajHszDn3jKXVzUk6xHRDeSzlRrQsWz37S/oH5zovYfY4c+YVVDUGw8isc0o9r5KFnVgEd34pV37aut+r1x5us5Aj0JAgcXNLWvZhs942nDcxyZo2MI9ERUQl3lOJCH53usrf4tzPOaZxzDZ+jJXMI0qsgJc0Tzqv3Lv0uNz7EcR8J8DDv0pFY3HV56oyFzg7M49lWf1WKexY+QYAyBnljnh/JUMVbPnW3Sqx+IIkxsnBlHHn47j0BPzjtAOgWU+rl2bXJR5911vK0dDWiCfB6foRfg8V119XBDXkd/rUuhuav+slhGCvNZHTv0CUoF2vld8h0o1ZqFvfNROl+lYwGeIdAL4dfeYjF2NhQDVPGYgFsEejFnQpkg11Y1TO6dl/K5Kh8bsG18hl7Wke+rE+JAflxo4IJAL47QXsNrnKs36+uHzjKcKw/JQRmBDojKEHAWupynB8YO1yQ+Q6cokZnHjq3Tmsi24+00N8hFItABBWcaNWFuI1uoK+hYJ3guPNCzF2X244eWbvV0HeSEOjAnPNABBQq7885hnk30XEX/fWgKDXSKEgqiw5x3WH/KHPJAtLCn3GlgUBBZh53XAMF9Xue6wXMhgU5BItpMDc6GEfX/nMePDVnjggSKlge6+kJFffwcZyzC8DxqCM8s+wydzwmhYLYGz4YRtT+G0AfGLQn06s2s+vlVETFPXMh+VSGoo86BOsIe11vuFCBURIU5AKzitkOnmUEFYa6hwu4cUOayQ6eZabieB5opMI91BGWmgU6Qx3s0B4/+79UbFLtzDdXrzBs1hSPMAr17wUX/TvLZ8WcXfxzjc06VcatyHqjL5DP07mEezWr8eSJ7HuP3FSEIrMOPsyTnESBVQqnKeWQ1E+Zqc8eFCTKYDnS1hQcbzCtmEIDAelOfodP0v4r+HN1atfPBY6PzfLv2rX99Dl9leL/9tu3XQYZzyOx0oDMxwFdZ1oRF+Hpd6GUZQ3waqYXLf5d59hH286lAJhXuVKifA00+l5l6ynLHIZtTgc5E6GBhYA9BXoPCWresJYXzqWb4oTgmQI96w0aM99c36drga5LjoubTq5aU6zMjvrZWBIvNz9FxUBovpWO5RZDnseKiULlWsyHQC7FcfBUWWYVzGJVhV445KwJ2dR0p12wmQ5+hsxhzuF0cI/PGwspLee6y9w61r3B6PC0efX58pj6Pp9wbiF6omWUZO+XjpEn7mQ1Btboh1OccDnQGGRnNNAi1ZveI8nFW6htqu/SL62PaG2/F44edl+8vf/8+8l+stDC9sFh0jdZvhveQq9dbxZ6hPuZVVKydFXgoDi2ceZuVKvUH37aNhow56vWtih26EQowj0e1rPw+8kz1Vb1XZJqL7KrXkjUeipvAws5pxbxVe1gJiMBDcmPYoQ+gyeKMZ2unWk116RPV5i2DLrU1gx36DhYuZnWpIRouPLFb38dDcU90acTALBotVqAnP0egP0DhAHiEC5g4Gb7lEYVAv4NiAY4j3BCBYP8TgX6DAgGOI8wRjWD/xENxjlZ83xmIQphDycgrcKu4zRIC3cmzgrr8/wh2ZNWlYSKnyuH+LDcI9CtWAXu0gAh2ZFStQaI2j5+ajXAkJwh0Y2eKhmBHFtmbIvrKGuwjuXD4oTjCZt9sofz49TNdsaEHahNVZMqy0WPlKXdBNE4ooR5RTYZQP3OMBLoR66ZHE0U0duWoTDnUzx4bgS6MhooI1N0+5TDAcYrzOHNMBLoB7+ZHc8UKBDk6Ugr12WMh0K/MPKHujUYLLwT5GKUAQB0WdTUU6BRyLJourFFTY+iBNUXPq9XfZ4c+IaIZ0oBhhVoCPkWFuuXfJdBvjL7lDciI+h0XvYtDPdY1RaAnRDMG1iLMe8g+z7z69QQCFZlRv2OyN/mK7tVwtnnyOF526Hcc+aW0aCrHAVSWLSQ6eNT76IkE+kMUB9AbYa5nry9b9O0V8+71Nwj0AYQ80ANhjowI9CeuA1wxzBWPCQDwmOfFIoG+g7doAb2wO9fEV4r3EegAABTwXzzy2LgBEk+0AAAAAElFTkSuQmCC\" id=\"image8a7b19d544\" transform=\"matrix(0.958 0 0 0.958 7.2 6.28)\" style=\"image-rendering:crisp-edges;image-rendering:pixelated\" width=\"500\" height=\"500\"/>\n",
       "   </g>\n",
       "  </g>\n",
       " </g>\n",
       " <defs>\n",
       "  <clipPath id=\"p4733601d3c\">\n",
       "   <rect x=\"7.2\" y=\"7.2\" width=\"478.08\" height=\"478.08\"/>\n",
       "  </clipPath>\n",
       " </defs>\n",
       "</svg>\n"
      ],
      "text/plain": [
       "<Figure size 504x504 with 1 Axes>"
      ]
     },
     "metadata": {
      "needs_background": "light"
     },
     "output_type": "display_data"
    }
   ],
   "source": [
    "im = ps.tools.align_image_with_openpnm(im = im)\n",
    "plt.figure(figsize=[7, 7])\n",
    "plt.axis(False)\n",
    "plt.imshow(im);"
   ]
  }
 ],
 "metadata": {
  "kernelspec": {
   "display_name": "Python 3",
   "language": "python",
   "name": "python3"
  },
  "language_info": {
   "codemirror_mode": {
    "name": "ipython",
    "version": 3
   },
   "file_extension": ".py",
   "mimetype": "text/x-python",
   "name": "python",
   "nbconvert_exporter": "python",
   "pygments_lexer": "ipython3",
   "version": "3.8.13"
  }
 },
 "nbformat": 4,
 "nbformat_minor": 5
}
