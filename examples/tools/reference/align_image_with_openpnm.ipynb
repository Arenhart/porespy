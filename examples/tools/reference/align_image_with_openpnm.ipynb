{
 "cells": [
  {
   "cell_type": "markdown",
   "id": "thrown-midwest",
   "metadata": {},
   "source": [
    "# `align_image_with_openpnm`"
   ]
  },
  {
   "cell_type": "markdown",
   "id": "affected-stack",
   "metadata": {},
   "source": [
    "## Import packages"
   ]
  },
  {
   "cell_type": "code",
   "execution_count": 1,
   "id": "hispanic-beverage",
   "metadata": {
    "execution": {
     "iopub.execute_input": "2022-05-25T17:22:23.155036Z",
     "iopub.status.busy": "2022-05-25T17:22:23.154727Z",
     "iopub.status.idle": "2022-05-25T17:22:24.970324Z",
     "shell.execute_reply": "2022-05-25T17:22:24.968864Z"
    }
   },
   "outputs": [],
   "source": [
    "import numpy as np\n",
    "import porespy as ps\n",
    "import scipy.ndimage as spim\n",
    "import matplotlib.pyplot as plt\n",
    "import skimage\n",
    "ps.visualization.set_mpl_style()"
   ]
  },
  {
   "cell_type": "markdown",
   "id": "arbitrary-beauty",
   "metadata": {},
   "source": [
    "## Create image and variables"
   ]
  },
  {
   "cell_type": "code",
   "execution_count": 2,
   "id": "express-dallas",
   "metadata": {
    "execution": {
     "iopub.execute_input": "2022-05-25T17:22:24.974092Z",
     "iopub.status.busy": "2022-05-25T17:22:24.973557Z",
     "iopub.status.idle": "2022-05-25T17:22:25.073805Z",
     "shell.execute_reply": "2022-05-25T17:22:25.073168Z"
    }
   },
   "outputs": [
    {
     "data": {
      "image/svg+xml": [
       "<?xml version=\"1.0\" encoding=\"utf-8\" standalone=\"no\"?>\n",
       "<!DOCTYPE svg PUBLIC \"-//W3C//DTD SVG 1.1//EN\"\n",
       "  \"http://www.w3.org/Graphics/SVG/1.1/DTD/svg11.dtd\">\n",
       "<svg xmlns:xlink=\"http://www.w3.org/1999/xlink\" width=\"496.8pt\" height=\"496.8pt\" viewBox=\"0 0 496.8 496.8\" xmlns=\"http://www.w3.org/2000/svg\" version=\"1.1\">\n",
       " <metadata>\n",
       "  <rdf:RDF xmlns:dc=\"http://purl.org/dc/elements/1.1/\" xmlns:cc=\"http://creativecommons.org/ns#\" xmlns:rdf=\"http://www.w3.org/1999/02/22-rdf-syntax-ns#\">\n",
       "   <cc:Work>\n",
       "    <dc:type rdf:resource=\"http://purl.org/dc/dcmitype/StillImage\"/>\n",
       "    <dc:date>2022-05-25T17:22:25.048725</dc:date>\n",
       "    <dc:format>image/svg+xml</dc:format>\n",
       "    <dc:creator>\n",
       "     <cc:Agent>\n",
       "      <dc:title>Matplotlib v3.5.2, https://matplotlib.org/</dc:title>\n",
       "     </cc:Agent>\n",
       "    </dc:creator>\n",
       "   </cc:Work>\n",
       "  </rdf:RDF>\n",
       " </metadata>\n",
       " <defs>\n",
       "  <style type=\"text/css\">*{stroke-linejoin: round; stroke-linecap: butt}</style>\n",
       " </defs>\n",
       " <g id=\"figure_1\">\n",
       "  <g id=\"patch_1\">\n",
       "   <path d=\"M 0 496.8 \n",
       "L 496.8 496.8 \n",
       "L 496.8 0 \n",
       "L 0 0 \n",
       "L 0 496.8 \n",
       "z\n",
       "\" style=\"fill: none\"/>\n",
       "  </g>\n",
       "  <g id=\"axes_1\">\n",
       "   <g clip-path=\"url(#pcf5f647d99)\">\n",
       "    <image xlink:href=\"data:image/png;base64,\n",
       "iVBORw0KGgoAAAANSUhEUgAAAfQAAAH0CAYAAADL1t+KAAAo9UlEQVR4nO3dUXLbOtKGYfqvrMLXWYAXkSpvIJv1LrwKn1Wcylzk57EsUxJANNBfd79P1dzMTBISaPRHUBT19Ovp958tmLeP9+n/xuvzy/R/w4rFeEQ6X3y1Yj1YuFdjUc6hxey1lGmsFEXuhf/nfQAYF7kAgUxYi/AULtC5OgUA4LtwgY45uFACgNgIdAAwsOp2O7f1cQuBDmC6RyEUPaSiHz9yCBXo3BYGvmJNANiFCvSVaJQAWnjszrkjMEf0cQ0T6AQsEFP0JnlP5nNDPGECHffRWOrhItcXaw5qQgQ6jQuAEoUwVzgGaAkR6ABiInQQRYZalQ90dufAd6wLP0qNX+lY4E8+0NGOxQ0l1COwlnSgswsBvouwLgjzdRjrcVnGUDrQsU6Wgs4uQphjPdYvtk040Glc57Cw4Y0aBHxIBrpCmNOUoEZhXTzCuvHD2J+TadwkAx1jegs0U0FnRZijBXNQm1ygR2hcEbCw84iwJqg3RJStbuUCHXZaijVbQWfy9vEuH+avzy8mNaR+npfUj5U1XZdUoKsslEwL4t65ZDrPbFTWwj3Ujy7m5rGMY/TD+wAwX8bCzSpCkG8bNfX28S4/Bq/PL2HqCTZkAl2l8NQXKXJSqf9HWB+fooT6tsWpL4yRCXRg2742HvVmOSJig808H9ldzl3E2rOWtZYJ9AtZJ1ndrQaTJdwzNNDI4z9ThF36NcI9r6dfT7//eB+EQlFFW5QZnJn3CPOkUM+WVox59DGLUJctos9DiyxzdYQd+pZ7glWdbRzKO6JszVB1nBUp12WP63OgpmMpH+jZJ1iNRYNQbJ7ZGt9KWcZuPw+12hxxdC5Z5isj91vunsWRaeFFYD3XKvOXscGtHFvGL74Ic1hhTsru0CtMbnYKO/UIjayX95hmoFCbK906V5X1UWUuSgZ6lclVMmthV2uciCPjLfhe2T+TV1Mu0CsvLi9ZF3HG82J92CPYP3l8Za7SuEu9y322ShOrYsWizRisyCfCj+2stP+wz8y+XK3nl9mhV5tYIIpq7xw/u2M/GqMsfW3GK2qzjE2P9IFecVJVrGzSfJY+jvFby+ornLsM82d1Sz7DWJyROtCrTqqCSjsuQEG2i9oz4Z7p/M9wD/RZt9uqT2xF2Roa0CvrGsh4TjOkfCiOyfdVZXdOnUFRlfWH79x36Ntmt0unwfrzbiZZdyhAD9ZBDr39VGaHPlp8FC88UHcArJ39iqNMoG/b5/cSZ/8ZzOG9O9+tPg7qD4pU1iP6jMybxC33a/eebqR5aqrePKp9lxoxcOu9FslAv0Qx6iPI/prxcgwAdYz2Dqlb7ohHNbz4Wd5+qnOJMcxrHQQ6TqNR3BY11JETa7UGAh2n0CAe44FNKGHN5vf07z8//5z9wzSrmiI1BpUajTJmXuMVZXwyUFkT+G50HQw9FHfrH6dgdFg+5UrTPY+n4KGC32fPa2iH3oKiWWM0LG7NU/QQUqq/KGPpMWZRxmbEo3H1GAOl9YG/RupgeqDvKBx7FZqgBaXaizBnBLqNkXHk5Uh1hQj0baNorGRsfjOp1Z36/K0eL/Xx6GE5duzYa3s0/0dztTTQbx0E2mRqfCup1VyEeVw5ZhHG457ZY0Wwo9Xyr61FX7xeGLc8aJY5rPpaotdHIPSceFy+h06h9GG8xjB+uiLOjcf7Bfg6IVq4vViGQmnDOMEDdfed94uCCHU8wpvihLGQkFmk+q7+MQm34GNwDXQKBNDF+vxLKcyVjgV62KGLopkiM+o7JuZN2/KvrR3hqvMrFo09tRqLNMfWY1f53K14j6HquKhpmSfLsRx6lzuA/Pg9AOCxs7Vtub4kAt3yhKKj4QEa6Em3Ve/Z1n3aajwlAn3bKBDMo1ZXES/aRtdnxHMGotWtTKAjXvGgX+Q5Phvqkc8ZOSnWpMWmVuopd8VBRmxKu/MM9d17DlHPWaluYGP/Ln3UmmzBDl1E5iJDrvndz+VW6GU6V9wW5WPSSPU4OqZygR6lSKDPu44iNZIzsp8f4otYoyMZKBfogAXee43MXp9f3GvN+4L5Ee/x8SAZ6NV26RULb6YVtcOcAbqir8+zGSgZ6NtWL9Rhw7JmojcFnEPfiS3Luj2TgbKBDvTibWYAMnn0AOo1qa+tXavQWCucYyTMB/CY6l2MrOu39et28jt0br2jhUWNZG0GgCXVflxh/T46R/lAx3y9CzTjwsl4TgBqCRHoWXfpXiEyOpb7nycEAT8eX13L2IczCRHo25Y31FeYNW4K34UFLNFjblMeG/rQX2ECfdsI9VYrx4hQB/Kj78Yg/ZT7EcLj2Ovzy3//AVDDivVOT4kj1A4dn5QWGbt0ZKC0plQwJrGE26FvW91dOrtwANfoB9iF3aFX+Ty9wjl6q3qBCNxD74knbKBvW/xQP/r6V+TzAaJi3X3FeMQU8pb7pQy7K26lj8tQB8BZ1XtH9fPfhQ90+CNMERlhgCx+PCrmCM06+q132KAO0It6QSYPP0M/KnjFkKeZ+1CsBaAF/SIXvj578qG4y4WgNICEOqiBc6JcuFuhRpDR8GfoPMxVV+aGX8W99Zt1XWc9LzC3Zg/FqQwkIQNq4LGKF+IVzxm1mD7lrrJYaOjzqY+x+vF5qRpqFc+5qspzbf5iGR5MADRVbHQVzxkaPJ5Lefr19PvPjL9YIdRZzHMozG2rlhqIdD5nnV0LUcem4tq3nqvoY7iydnvHataxTXv1Kzv1nKLNKU+9x2/MPSqdK3yN1NrRa78tTH1TnPfiihY+mIM6OCfKuPHqZKxkWWvWNTv91a8ssjyiNPgjkY99RNb1R4jPV3XNHJlZb5Z/J+9yR5MMizvDOayiOlaEOFpZ1MmqerP6N5b8fCqfp0PFXoezPsPKQG1MCPDH1OZMweiYRKy79Dt0Cn1cxjF8+3hPeV6XIjakS+zG4cWj7iz+zWWBzsIE9Clc5BDkGDVSx561N/pvL92hs0gBXSphDuCcJZ+hIy6FJo+5VOaYMMcolVoeMfLM2fLP0Fm0UHP5lZRM9dnSFFQaYKZxhw+VWvaU/qE4oFe2YL9FpQFWGOvZqo+hSi1bOTufLoFevfiiyLZIemUI9qM5VHrCP/r4wteMWo68Ntw+Q+e76Ygi+nfWox43cAs1fYxb7kAjdpNQZl2favW+78ZXhLnKBUPvHLgG+qqCUZkc6OmtwQy34VUwjmjh9RGRSm70rBP3HTqhjogIIyhS/RWwXit344+OIxL3QN82Ql2V96JWx/hA0Whdeta1Qograp0TiUDftrWhTsHACrfgoehMTXrWsnJfVjmulrmRCfRtW3tlqFxAiIdQh5rWmiTIH1M5xkfz9PTr6fefNYfSbvXg0YxvUynkWaznPvt4WWLd1RZxrSjV7NH4Se3Qd6sHLcpVogelAgaQQ9R+q3TcR3dWJHfoO6/BI8S+UipiS7PmOet4WWOd1ZRhfajWruQO3Rs79q9Ui1cV49WGNVYPcz6XdKB7N0aC/ZP3XETDeLVhfSEi1bqVDnQVqpMHbYQ6kJdiLsgHukpTZLeuMxfIhbVVQ8Y5Vjsn+UBXQ/PJYdXFCRdB7VhXiEipbgn0k6oGOwHVjzFrV3VdITaVmiXQB1VsQARUP8asT8V1lR1rYD4C3QgNKI6MjSXjOW0b6wpxKNQpgW6sSgPKGiAzzRizy7dFZZ6TKusKsXnXKIE+CQ0IRyxDN3OA38K6gjrP+iTQJ8vcfCIGisIxWxyDwnl4IthjqlK3XrVJoC9A88G1kcZWpSm2YF1BlUdtEugLZWw+kcJF7VjPHM+9P5OxvlpUPW/oW12bBPpiNB9c6gl1tQsSJayrOKrV8cra/LHsX8J/3j7eUxX16/OLfENVHu+W8Xt0/Orjv4LiumqZF7VjRlzSv4e+bbkbVaaFrD5PUcb6aBwJ8z4Kc312ThSOfZVqdbtibgl0Z1kWsPI8ZRnjI8rj7slzzi3mJHPN7irW7ux55TN0Z1mKWrUBqR7XKL45kVuF+c26Nu+ZPafSgZ69oIFeFRq9Ba8xsv53mW/0kA70Kliwc2TaAdDYa8s6/5nWaKuZ8ygb6BmL955q5ztbpkZBbZyTcdwynhPsyAZ6RdEXa6YQBVRl263TN+xIBnqmYu1V+dytZGoQ1ANuyRbsGCcX6BQoYzAiU5hj3Mq1lOVBPA+sWxtSgZ6hMK1EHAvvY6YpoCp269g2sUDHVyzQdoQ5ELtnsIbHyQR65EKciXF5jEYAfKJnaJvZryQCnQK8L8L4eB0jYQ58F6FnHGE9j3EP9KiFt5ryZ2SEOZSprpvZqp53i9fnF5f+MfvfdP35VAqu3z5mKmHmMYcq5w7AnvXPMd/rF7f+txl9bUXfcgt0wnyMQrAT5oA2xd+Ib2ER6iPnfflnPY+jl0ugE+Z2LsdyReF4zl3ExgRgLes+cTbcPfrV8kAnzOc5GtuRolKaK8IcOKfSLn32eR79/Qp3S3dLA10pIKqIPuYKi8ST9eeJQCSt9e/ZJ5R61LKn3GlK6KW0UBBX9o+iWqgf3z2P5o8+8WlJoEcuJvhgkQLYHfUDr6+eKZt+y50wRy8WKYBr9IXH3F8sA+A+Gtl5jB0qmbpDZ3eOXjTg+Fa+rAPAp2mBzuJFL8I8ptZ5u/7/ze4R1NMnxqIG11e/Ajsazn1qX1+zmC/Lt3Hd+7uBKqYEulLjAW65rlNC4LFZY7T/vRa9g3n8xFjUwg4d7lY3nVuhQcDft2I8RoOdOWMMKjMPdHbnUNVbm0qvdNw2v9vuXj8zqfbaTwUVzhHnsUOHqwgNSi3Yq2jdrWeel8znBnumgc7uHD1WNiuL2oz6IxcjFM736OE5heOaKfv5YQ5eLAN0qHTRqhgqqq/7tDom1fNDDNxyb2T5FC7i7c6rIVTWYrxhwSzQMzbNWz8IsMt4zivQvIBPrAdYYYd+oPfNVwR7O5qXPubonN4n8xlnWOMz9CtnFhkLE0APegZmYIf+/0YXGLv1x2hiyK5ll846sHNvrCuOs0mgRw4x60kn2I9VXFwRMU9zMb52HvXYy/+9yriXvuU+c5L5+sknxgGV3Kp31oGft4/3//6TWblb7qsXVfUde7Ymlu18LmU+t9Uub70zrvZG+mnmnftwoEcJKu+JW/1b0N68xzuj7DWTDWtAX7ZwT7tDV5+czN9nVx/7s7KeFwC7PuzZJ1IEevRGmynco89FVcwbolDvkZ4/wxw20LM2oKifuWedj1328wMwx8pnKYaecvcKnQrNNdJT8urHqX583hgfYL4VT9mH2qFXbDzKO/Yq81HlPAHMN/NnmMN8D716U1U7f7XjAZCf4sbmjFnnESLQCY+/FMYh0kcBFrKfa/bzA1TNCPXTt9xXXSnRcL7q/UUn638bwG1Ha5N1g1usb79L79BZCMc8xiX6XPAret9lP7+V7j3wlOU2sTfG8THZQKfZwBP1h1YtQUMY4RbL2jgV6LOLk2aqhfnIhzm10dMLCXXcYlUbcjt0Gk0bxmke1bFVPa6Kzn6nmFDHLRa10R3oFKQGHkrEWczpmNG1Rw/tx5i16XrKnVvtiKzlGwLqNej5LYfZ7p2XwrxYjvvMl4sgrtG6aNqhr3hlHcWtKWt4HKlQg4rn2NJfvOtwxr/vfU7QNFIXNwN9X2Qrik6xySijEdiLVINnj1XxHNUfKpvdA1nLOHK2Lp7+/efnH9tDaafYYNTxUplxnj9vaKm3FtTO82wtrzqPlWtNbW6UVL7o6a0Lt0CngM8h0HGptR7U5m+0jmeej2eAqM2TgsqBvmutC5evrVG053gWNotKU8taUltvyrXkfWze/z40tdbF8h26WnOJQmWhM3+6InyUYFnHluensr52inPnRW1uvN2rjaWBTpH2Uyxm5hFnzKjl0VpUXF871tlfynOk4LJOlgV6luJc+V1Z5ULOMp9YRy3QldfXrvo6izBHSgj0Rj2FZXGuUQo5+rxijZn13FuDUdbWrvIaizZX3pY8FBe9IHuLqtKrISMdK3JqrcFV79WwFvGY4aPr1a8VnV1M+5/ruZiJunDPnCvq8K5r73/fAq+KRYvpO/TIRWjRCHp2D9FF3QEhvqO6ox5RzfTP0KMG+qoHeDI3nKhzDzuZ69tDtTVF/fThlvuBWUVUrTj5iVfAFrfecQ+BjvAivFClomoXsIA3l1e/KqMJxcccAqiIQEdKhLovxn8exha3EOgXWChAPK/PL3zMAmwE+n8Ic8DGyochL4O8UqjTr3BkeqBTePBC7eV1K7wrhTpwjR36RuMHomi5vU6oo6rygU6YA3aUfoQluwq9iznvUzrQKywIIIPexk4QoKKygU6Y18A8x0c430Z949KSQFcrOrXjAXBsJMyrXAjQz7Ar9epXCh+Io0ogA1ZK3HLnZxSBWAjzPvQ3bNvCQF9dcHuIU+hALJZhXunCgF6HVLfcKWggtkoBDFgLf8udnTgeoTZiIMzHUeu1LQ10q2IjxAG0qnahQF+sa/kO/WyxEeJAXtVCF+2ojXYut9xbQ5kQB4B+9Mya3B6K2wvu8uqLIgQAG28f72l2t6/PL+RDA/en3JkkZDJaz1kaMDRkCnU85h7oQGTWF6SXfx+NGPjELv2x8F9bAzyseLaj0vMjVc7TQ6axfX1+4UL3DgIdQ6otLo+QrRTsmCNb/ezBXq3/PMItd5xyuZAqPNiocF7ZPw/Nfn6Y42zNKKxpa+zQ0aXiVbHSwlc6lmsWx6Z8ftExtl9l3OUT6GjWUviZFofqrW7FY7I080HD6hiLY1n6FoGOJj0Fn2FxqDc+teObEcJq54jcMvQtAh0PZSj0HlGCJMpxjhgN9gpj1IsxuS16ryPQUUJLE2NXeM6KMTszN8zlbYxNTjzlbqznCi/Coop+xdoqwlwc8X4y3OMrfLtb5x11Llfzrh3YI9CNnFkYFb7upeT69wMY8zHe4+f972dAqOdCoBuwWBCZQkb9HNSPLwLGMI+jH8pCTHyGPsh6EWT7XiTyIcxzYl7jj8HTv//8/ON9EFGtCF7vAus9R+/jrWrVRSDzW0fFjUX0+ibQT1pd7F6F1nqe0RdCZIQ5Vsoa9Bnqm0A/yaOoPQuOJ4p1VbhTBG3RQz5LfRPoJ3gXb5big43Z9Ui9oZV3bzwjU33zUFxAERcNYsrU7DBfpHrJ+CIpAr2TSpiqHAd8UQdQox6SGYN8x/fQA3t9fklbmPBHbSGLKrVMoAdHqNc1c3dOTSG6ijVMoHdQvb1JqMNS1lpqWb9Zz72aqvM4PdD5uhNgT/XiUlHPWPH7CjY83xEfZd5mbMSmfG3tzERGmAT1JhphDDGOW+1tLMcp07isUu1dHfeseuOm6Q59ZAIz/TgJAF8zfmNh2+hPaGeRh9vWV3NmO3TrBaS4cNR36NumOW6ww+78Pl6Dq6PK67GvzTrvlvMb3qHPOniuiAH0WBkgfNaOa7PrryUTh3boKxeQwqKJsEPfNo2xgj1e8XqbwtqMPH4zVMkHz9q7Pu9TO3SPE2DHDuCaQpDv6FE1KNbcrivQFU6E71w/xhihAoV+dITb8TGp1lOPpkBXO1GuhFENt9u/UutJt9Cr5hsd2yi11OJmoEc4SXaiQD0RetM1du16ItbRIz+in9TKUPd8+xFQXZa1R7jbOTt+WWrpWoqfT806OSMYE2SStZ5fn1/SnttsXAx9lyLQty3vggeqq7C2Mwa7auBmG+dLaQJ9FdUiBTLK3HyPZAz2GejDx1IFOgsBOEdx7Sge0yoE+20jYZ59TFMF+rblnzAgO8LsE+PwFTvz+9IF+goUFbJRqWkC7DvG5C+VGlWWMtBZABQ/4mHd3lb9rgX9rE3KQF+BAgPsVA6rHhXHiV7bLm2gVyz8HQsAUVTfeZ5RZbzePt7pZZ3SBvoKisWmeEzAkSrBNEP2saOPnUOgD1IqPKVjQRyr64ZduY2MY8iufEzqQF9V8AoFqHAMmCfL/GYMIU/K49l7bFlq3FPX76HjNo8fbmEBYNSqGlIOHtjrme+VfSz7D2wR6IYIWESyol4zN08VKj8jfWauFY47k/SBrlLsgAqCPB/PPsdc60gf6AA+zW76NPcaLObZ6wIk8213Ah0ogCDPb/YunTnWl/op9x2FiOhGapgwxwi+ZhgHO/ROtwqbz+mhhs/K67Hapa+YV8/P/bPedifQG7RMPA/fQQlhXtdIL2JOYytxy/2s3ltNLAbMoPiCDmo9l4q31TNuwNihHxgpbHbq59wb88rjqRjm0Nfah6qFeHYE+gWKe63W8d7/f9XCinrEiHuhrlJb3hugbJ+lP/16+v3H+yBWuVc41pNaLXx6KD+xrUL5rVuZGiD8ea/pTPVc/jP0WZ8dZSoSKxZjnf2zvuznB1zzrnfvCwpLpW+5zy4k79tJKrwXbBSME4BbWrKkbKDTPNeYNc7ZLpaoR1SWbT1bODMeJQN9ZfOsWqjZX0xhhSAHarPsYWUeitsHzauBRg+eHvwufJsZ48R30GNY+YBuJJl/MW7FuZXcoWOOyo2oB+NUU2tD9958VJPpG04lnnJX2MFlX5ye5xdpbCMdK2y8fbyf6kFn/1xkq9eH5b+nMF/pA917gC9lbeZZz8sSX0erx6rBK/WwFVatE6t/RyHId+kDHXOphJTKcRxZ/RAmfCk1+KhWfKU4o9SBrrioMhVSpnOZhTGqgyC3NeuFX9a32ZWkDXS1gb6UockrnoPaMakdD+ZR7jeRWayhPcQrrMeUgc7imkt5YagcGw8J5rfvyFf0m8o97Ww9VwnxS3xtzUmGl6LgWLUmUg3rdr3LNaX0C3JqfTxdoCsNbkYRwspzkUUYn2x655rfmI+NNXZbqkCPtvDUru4wRqnRzKotpXM8e36sOWSV5jN0FikuKQUPbPE0OXAsTaBHFSl4Ih3rtvH974wIcqhRWvspAp1FDnyn1GgAzJci0KOj8c7D2ObBhTtwX/hAZ5HjkcqvkbQ8Ns/zZJ1DmUoPCB3oLHLgMZVmA2Cu0IGeCU13LsZ3DLtzQF/YQD+zyGnq5zF2sTF/QH4hAz3rFTtNFzONvBPbS9a1fgZjoU2hf4cLdIoaZyksOG+9Y8CYAXGECvQKYU4DxWytv0JFLQKxhHmX+2iY05wwy9vHe8j6Uj/mChfwvaLWGtYIsUOvtrBZsACAXvI7dIswJyCBWKpdxPdYtUs/Owf0Wz+ygV59QfPTqgBWs+g5139HpYD37tuygW6lUjHhPi6QYmCeHrPepc8c88u/m348l+Rn6Fa32aMXT/Tjr4QQwmpWu+mVtctv2c8lF+h8Zv5VpnMBYOtsv/QOVu9/Pyu5QB+VMQAVzonFhxWos3494agWpErHkoHUZ+hMLiLjO8JxXc5b1D509Fl1hHNh3diRCvTZHhW3clF5Pz0JZHS05iOF4S3Rjn0/XuUeHEG6QL++2uspbPWvWxDqyGx1bT9a3xmCPRp262NkPkO3XDT750Sjf6fa503bpneRAUTUs45Yc2up9dxIZAJdmdUFghWvBqNy/soYI31n1g+hvhbr6BwCvZNKsNNg+jFmGEH9QB2BfpJKqNNkgHaj64X1to5Cjz1jVY3s/f/yPwT6gIq7dYXzBTwR6uvQb767t5Ej0A0oFB2hroPxyY9QX4f19FfLHVmJQGfCbNBkACCf1t4uEegZqFyUrAp1lfPtxUVPXdZzTy2tE63fWNZGz99FoBtSKTpC3R9jUwOhjpl664tAT2plqBNesBA1HKMedzTR+sxIXZz9BhOBnhgPygHIpEKfGenbEoHOFW4OUXbrfCQBa/QwHOnZaVu8V0Qi0DGPR6MhyFARoY5b7oW15QvCnn49/f5j8jcNyhICqovaa3xVx2Pb1o2J8hgomjUv3JnJgzV1jB06pqK5MQbVEDbw8vTvPz9v7tB5qKqP+kL2HGPVsVH7DW78ZT0vfPSUD2vpux/3/sfrgpw5gK/PLyyAxN4+3lmA29c1xXjkts8vfQ2r3N2h3zKrEUUu/AjNWWF8FcepZVxajnt0fBXHxpNlvSqMrcL6y0ZhXpXc3aHfshfmjFcpUvRY7Wgndaa2R3dkj/4czSu2y/mjz2GGUzv0a5aNJmKhR2m0KmMbZbzO8h7nTONrNZbKY+JdL9Epz+1qp3bo1yx37OzSgTErn32JQP382bnDiunX1ipcTV+LdKwqsjcttZqI8ga/I2pjOZvlS0aqiFrbM5h/D92qeVDYgK2owT76IxcRRT1u+Jr2YpkKu3XlYwNuqRbqUVU857Mi1vQMU98UZxnqFPcYCh6XItZDbw/I0DMynAPWmf7qV+vvkqoUuMpxQE/EsIyipQco9QkLmc5lJtad0dfWWlgXJa8x7aNW7BHHsJXaWN+TeR6yiVRXnirX9LIfZ5nxbmaPiatcLMiHkIiD3tOmck0v/bW1GQOd7fYaAABnpPn51BXBzoWDjczjWHl3gPkyrx1LVdfh8kCfPdCzCp6FhKyqNr+o6EVtKta1yw59RahbFT239G0xlgBWifoypbOWPeV+bXVj753UjMHDNwPmi9o8qsxPJlFrzUuFGncL9G3zHeCjxZB9wlc3gOzjeS1yg602V1lErjlPWeu9bKBXNbMBVJ/P6M21+vydcWvOV41l9JpT0TtfZ8d9dl24Bvq20US8WP2ADj5Fb67MZ7ueuZ49rtHrrqJZNUGgF9faDJin+zI0Veb4sdF5njXGGeqvIut6INABAxkaKmvxvhlvu7Q2cozXx5OhpiOwrIMfZn/TSW8f7zQSAOXsgWnZ//a/qyWMW37kpvXvggb3QAcAdTND7fLvtnx/BmKw3NSmefUr4IUdDKzsL0Khpmqxmm8CHQAEEezoJRHoFC2ionYxm2ewU9+xSAQ6AOC+1cFOmK9lMd4EOnASDa8OpYfMVtQdtR0TT7kDJ9Dw4GnGV96o6fgIdKADTQ9KzgY7daxp9CtsMoHOC2agjAYIZdQnto3P0IG7+OoQdmw4oI5ABw4Q5AA8jPQdAh24QpADiEjmM3TAG0EOIDKpHToNFV6oPbTgc3SscLYfSQU64IEwB6DmTF8i0FEaYQ5AVW9/4jN0uDsq2hW3NglzAOp6Xh709O8/P//MPZx+fE5Vw6NAnVkHhPl3rLs21A4UHK1XduhYrrUh8vbAdRhnIJajPir5GTpXwDmdeVnLjFqgvgBkJBnoyGX0rWuWAawQ5q/PL+yIg1KoH+AWyc/QdzS9+Cwb4Gg9eDfje8evfGz45D1PwD18ho4p1Bqf9/E8Csz9f/c+TgBxSd9yp7nFNGveKtQDt+OBmPa167mGpQN922o08SxW/ELZmb8/Yg0R7EBsHutXPtC3LWZDrmblHPV87S167axoClw4tIleS1hv9doKEejbxmJS5jE3j8I6U72wWwf0KfQc6afcj9DYtCgUcQRWdTtjvFlTbah1tLhcT6trJlyg72hCGmhybazr1WrcWUdtqHNEEOaW+7UMn49Gx/j74TY8gGvhv4d+GSo0uHUIcw0j319nvQC5/Dha1FGbNeGOqno+t2Nt9InaD1HP4Q49w1uren5DFsiEmgdqunvLPVOwbxuNzkrkegCArJoeisvyAA5BBKAHPQORdD3lniXUWaRYjZoDMFv319YyhPq20WABALmc+h56llAHgFu46Ec0p18sk+FzdRYsACCL4TfFEeoAAPgzefVr9FAHVuDiMQ7mChGZvcudUAcAwI/pj7MQ6gAA+DD/tTVCHQCA9ab8fCqhnhvzCwB6pv0eeqSmzwMwAIDopgX6tsUKdfRhbgFAy9RA37YcL6ABAEDd3Z9PtZThp1jx1evzC/OJlKjtGI42i5XnbfoO/Ro79lyYSwCr3cuRyhmzPNB3lQc9G+axDeMUC/OlqXVeKmaMW6Dv9kGvNvDZMH/IiLrWcmY+Ks2he6Bf8gz2yp+7WOHCDBlR0/FV6U1Sgb5j1x4b8/YdYxIb8+fPYg6yz6NkoF9aGezs0u1wQYZsqOkcMs/h06+n33+8D6LVqsDNPOEeuFCipjJ6VNeP5px10WfGGso2B6ECfdvWTADNd45si6cV9YRbqq6JXjPXUKY5kL/lfm1Fc8w0wUoINuAr1oS/THMQLtC3jVCPLNPiASywJvxlmYOQgb4KoT5HlsUDII8MfYlAf4BQnyPD4mlR5TwB+CPQGxDqAJBf9AtwAr0RoW4v+uIBACXLfj41g7ePd4kQGv3+KwBEsrL3Rv7pXHbonbwm+u3j/b//tPx/o+DiAwBsEOgnrAzM1hA/+nMAgPz21xJzy/2k2beALAJZ5SOCypgDPMLFN3rc6ychA11lAezHYdmwrc+NQAF0qfQyfKX2OXprD+eWuwGr3bRSAQGAkqr9sWdDFm6HrjqpZ3bCq86FXTqgRbWPQUtv3w4X6MouF+nRRLCIa+KCCjt6AFqd6RmhAj3SYlA7VkIF8KHWC6DvbK8OE+gsCkTGBVUt9CucNdInwgQ6AKgjyDFi9KI/xFPuLJK8Ks1tpXOtiPnNZfUdNYt/jx06sBC33vvcCkm1MSTM51Obc0XyO3QWSl5V57bqefd49F4G3ttQi1eYr/xBGAvSgc6CRVYE0rHecVEYR+9/Pzvvnfnsf9/y7+eWO1zQBP969O6CSkZqwuujDOp4DrW1sB+P9Xxbn6dsoLNQUM1ozas1wR5Wr0/ettjjENmjcc9w8WoV7LPO/+nX0+8/U/7mAYT5HCqLiPldT2Xuj8yohxXnSx3/pVxbK/TUweyxkt2hIyeaoI+jcVdoxLPqIcLPG0enUD8KlMZBLtBZKMAaqiFvZVao06OgSi7QkReNUN/1HEXf5Vp/rk4N/5Xpwi8TqUBnsQBaVgb8TBa7dfrTX1FroAKZh+JYLHN5L0LmN5+RmvKshzPHTf3+5d1HcJ/UDh1AHFG/htRz3AQ5IpEIdBZNbsxvflG/A05ttos2txVJv/oVQCwEJODHPdBpAEAuLWua3V4szFcM7oGO+TwXIxdsNRHqwHqugU6zB2oj1PUxR3G4BTphDmDbCAzAikugE+Y1MM919Yb06/MLwQ4MWh7oNHkAtxDqWpiPWJYGOmG+HgsS0VCzwDnLAp0wr4X5xghCHeg3/U1xNHagFsIY8DFth/728U6YAziNCwNfjH885jt0QhzUAACs92Pk945p3AAuWe/qXp9f6DNAo287dBZPLm8f70tvnVE/AOCDd7nDDGFe26wLRz7LBdpI/B465lqxSyfM2zyaB8YRKlbf3cM4Ar2IWYuTAHqsZ9yv/7+ML4BWBHohlqFO0LQZHe/LP6885uzkAH8EejGXoXCmCSuHipIZAbf/ncwBgCNP//7z84/3QQCZrNqtKgX7inNWOt8quPMSC0+5A0GpNFuV44A9LqJiIdABQ6vDjTAFsCPQASNe4UqoYyZ26XEQ6EACXEwAINCBJAhXzMIuPQYCHTCgEqYqx4F8CHV9BDqAU3gAsB5CXRuBDiRD8Ol4fX758p8MCHVdvCkOAAzdC+4s7+rnh1s0sUMHEprdbGnmx3rHJfLO/e3jPewFSVYEOpBU1KC4R/mcRo5N+bweIdR1EOgAukQOn1ksxiTyuLJb10CgA4lFDolbMp7TLvq5Eey+CHQgOcuQUAkclePAMYLdB4EOGKB5rUeo6yPY1yLQgQKyfsarckyE1n2MzxoEOlBE1qewlY8Nn9itz/f07z8//3gfBJBBpGBpbayRzmnb/HeCFuPlfQ4rRKurKAh0wEjEJnUrPCKeyyXPUBwZuwphfil6nakh0AFDNCgd0UK9WpjvWDN2+AwdQEqer1XtDeeqYb5ttc/dGjt0wBC7DU3eoXGrLryPSw3rZwyBDhiiIekiPGNgDZ3HLXfAEKGhi6CIgTV0HoEOAJBCqJ9DoAMog116HIR6PwIdAIAECHQAgCR26X0IdMAYTQiww3pqR6ADAJAAgQ4AkMYuvQ2BDgBAAgQ6AEAeu/THCHQAABL44X0AwCPXLwOJcKX+9vHOS0wALEWgQ9atQNz/+wjBDgCrcMsdklp2t+yAgVq4iL+PQEdohDoA/EWgQw4hDQD9wgQ6TR4AgNv+B8wew3MS/QGMAAAAAElFTkSuQmCC\" id=\"imagea5c96d6113\" transform=\"matrix(0.966 0 0 0.966 7.2 6.6)\" style=\"image-rendering:crisp-edges;image-rendering:pixelated\" width=\"500\" height=\"500\"/>\n",
       "   </g>\n",
       "  </g>\n",
       " </g>\n",
       " <defs>\n",
       "  <clipPath id=\"pcf5f647d99\">\n",
       "   <rect x=\"7.2\" y=\"7.2\" width=\"482.4\" height=\"482.4\"/>\n",
       "  </clipPath>\n",
       " </defs>\n",
       "</svg>\n"
      ],
      "text/plain": [
       "<Figure size 504x504 with 1 Axes>"
      ]
     },
     "metadata": {
      "needs_background": "light"
     },
     "output_type": "display_data"
    }
   ],
   "source": [
    "im = ps.generators.blobs([500, 500])\n",
    "plt.figure(figsize=[7, 7])\n",
    "plt.axis(False)\n",
    "plt.imshow(im);"
   ]
  },
  {
   "cell_type": "markdown",
   "id": "clean-employer",
   "metadata": {},
   "source": [
    "## Apply tool"
   ]
  },
  {
   "cell_type": "code",
   "execution_count": 3,
   "id": "accessible-pasta",
   "metadata": {
    "execution": {
     "iopub.execute_input": "2022-05-25T17:22:25.077033Z",
     "iopub.status.busy": "2022-05-25T17:22:25.076486Z",
     "iopub.status.idle": "2022-05-25T17:22:25.127044Z",
     "shell.execute_reply": "2022-05-25T17:22:25.126556Z"
    }
   },
   "outputs": [
    {
     "data": {
      "image/svg+xml": [
       "<?xml version=\"1.0\" encoding=\"utf-8\" standalone=\"no\"?>\n",
       "<!DOCTYPE svg PUBLIC \"-//W3C//DTD SVG 1.1//EN\"\n",
       "  \"http://www.w3.org/Graphics/SVG/1.1/DTD/svg11.dtd\">\n",
       "<svg xmlns:xlink=\"http://www.w3.org/1999/xlink\" width=\"496.8pt\" height=\"496.8pt\" viewBox=\"0 0 496.8 496.8\" xmlns=\"http://www.w3.org/2000/svg\" version=\"1.1\">\n",
       " <metadata>\n",
       "  <rdf:RDF xmlns:dc=\"http://purl.org/dc/elements/1.1/\" xmlns:cc=\"http://creativecommons.org/ns#\" xmlns:rdf=\"http://www.w3.org/1999/02/22-rdf-syntax-ns#\">\n",
       "   <cc:Work>\n",
       "    <dc:type rdf:resource=\"http://purl.org/dc/dcmitype/StillImage\"/>\n",
       "    <dc:date>2022-05-25T17:22:25.108190</dc:date>\n",
       "    <dc:format>image/svg+xml</dc:format>\n",
       "    <dc:creator>\n",
       "     <cc:Agent>\n",
       "      <dc:title>Matplotlib v3.5.2, https://matplotlib.org/</dc:title>\n",
       "     </cc:Agent>\n",
       "    </dc:creator>\n",
       "   </cc:Work>\n",
       "  </rdf:RDF>\n",
       " </metadata>\n",
       " <defs>\n",
       "  <style type=\"text/css\">*{stroke-linejoin: round; stroke-linecap: butt}</style>\n",
       " </defs>\n",
       " <g id=\"figure_1\">\n",
       "  <g id=\"patch_1\">\n",
       "   <path d=\"M 0 496.8 \n",
       "L 496.8 496.8 \n",
       "L 496.8 0 \n",
       "L 0 0 \n",
       "L 0 496.8 \n",
       "z\n",
       "\" style=\"fill: none\"/>\n",
       "  </g>\n",
       "  <g id=\"axes_1\">\n",
       "   <g clip-path=\"url(#pcbba2b71a1)\">\n",
       "    <image xlink:href=\"data:image/png;base64,\n",
       "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\" id=\"image733b1a4b8e\" transform=\"matrix(0.966 0 0 0.966 7.2 6.6)\" style=\"image-rendering:crisp-edges;image-rendering:pixelated\" width=\"500\" height=\"500\"/>\n",
       "   </g>\n",
       "  </g>\n",
       " </g>\n",
       " <defs>\n",
       "  <clipPath id=\"pcbba2b71a1\">\n",
       "   <rect x=\"7.2\" y=\"7.2\" width=\"482.4\" height=\"482.4\"/>\n",
       "  </clipPath>\n",
       " </defs>\n",
       "</svg>\n"
      ],
      "text/plain": [
       "<Figure size 504x504 with 1 Axes>"
      ]
     },
     "metadata": {
      "needs_background": "light"
     },
     "output_type": "display_data"
    }
   ],
   "source": [
    "im = ps.tools.align_image_with_openpnm(im = im)\n",
    "plt.figure(figsize=[7, 7])\n",
    "plt.axis(False)\n",
    "plt.imshow(im);"
   ]
  }
 ],
 "metadata": {
  "kernelspec": {
   "display_name": "Python 3 (ipykernel)",
   "language": "python",
   "name": "python3"
  },
  "language_info": {
   "codemirror_mode": {
    "name": "ipython",
    "version": 3
   },
   "file_extension": ".py",
   "mimetype": "text/x-python",
   "name": "python",
   "nbconvert_exporter": "python",
   "pygments_lexer": "ipython3",
   "version": "3.8.13"
  }
 },
 "nbformat": 4,
 "nbformat_minor": 5
}
