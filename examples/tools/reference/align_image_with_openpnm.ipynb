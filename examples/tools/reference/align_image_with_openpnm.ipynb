{
 "cells": [
  {
   "cell_type": "markdown",
   "id": "thrown-midwest",
   "metadata": {},
   "source": [
    "# align_image_with_openpnm"
   ]
  },
  {
   "cell_type": "markdown",
   "id": "affected-stack",
   "metadata": {},
   "source": [
    "## Import packages"
   ]
  },
  {
   "cell_type": "code",
   "execution_count": 1,
   "id": "hispanic-beverage",
   "metadata": {
    "execution": {
     "iopub.execute_input": "2022-03-30T13:47:49.146809Z",
     "iopub.status.busy": "2022-03-30T13:47:49.146416Z",
     "iopub.status.idle": "2022-03-30T13:47:51.344128Z",
     "shell.execute_reply": "2022-03-30T13:47:51.343112Z"
    }
   },
   "outputs": [],
   "source": [
    "import numpy as np\n",
    "import porespy as ps\n",
    "import scipy.ndimage as spim\n",
    "import matplotlib.pyplot as plt\n",
    "import skimage\n",
    "ps.visualization.set_mpl_style()"
   ]
  },
  {
   "cell_type": "markdown",
   "id": "arbitrary-beauty",
   "metadata": {},
   "source": [
    "## Create image and variables"
   ]
  },
  {
   "cell_type": "code",
   "execution_count": 2,
   "id": "express-dallas",
   "metadata": {
    "execution": {
     "iopub.execute_input": "2022-03-30T13:47:51.347831Z",
     "iopub.status.busy": "2022-03-30T13:47:51.347632Z",
     "iopub.status.idle": "2022-03-30T13:47:51.487562Z",
     "shell.execute_reply": "2022-03-30T13:47:51.487086Z"
    }
   },
   "outputs": [
    {
     "data": {
      "image/svg+xml": [
       "<?xml version=\"1.0\" encoding=\"utf-8\" standalone=\"no\"?>\n",
       "<!DOCTYPE svg PUBLIC \"-//W3C//DTD SVG 1.1//EN\"\n",
       "  \"http://www.w3.org/Graphics/SVG/1.1/DTD/svg11.dtd\">\n",
       "<svg xmlns:xlink=\"http://www.w3.org/1999/xlink\" width=\"492.48pt\" height=\"492.48pt\" viewBox=\"0 0 492.48 492.48\" xmlns=\"http://www.w3.org/2000/svg\" version=\"1.1\">\n",
       " <metadata>\n",
       "  <rdf:RDF xmlns:dc=\"http://purl.org/dc/elements/1.1/\" xmlns:cc=\"http://creativecommons.org/ns#\" xmlns:rdf=\"http://www.w3.org/1999/02/22-rdf-syntax-ns#\">\n",
       "   <cc:Work>\n",
       "    <dc:type rdf:resource=\"http://purl.org/dc/dcmitype/StillImage\"/>\n",
       "    <dc:date>2022-03-30T13:47:51.443034</dc:date>\n",
       "    <dc:format>image/svg+xml</dc:format>\n",
       "    <dc:creator>\n",
       "     <cc:Agent>\n",
       "      <dc:title>Matplotlib v3.5.1, https://matplotlib.org/</dc:title>\n",
       "     </cc:Agent>\n",
       "    </dc:creator>\n",
       "   </cc:Work>\n",
       "  </rdf:RDF>\n",
       " </metadata>\n",
       " <defs>\n",
       "  <style type=\"text/css\">*{stroke-linejoin: round; stroke-linecap: butt}</style>\n",
       " </defs>\n",
       " <g id=\"figure_1\">\n",
       "  <g id=\"patch_1\">\n",
       "   <path d=\"M 0 492.48 \n",
       "L 492.48 492.48 \n",
       "L 492.48 0 \n",
       "L 0 0 \n",
       "L 0 492.48 \n",
       "z\n",
       "\" style=\"fill: none\"/>\n",
       "  </g>\n",
       "  <g id=\"axes_1\">\n",
       "   <g clip-path=\"url(#p318eaf6511)\">\n",
       "    <image xlink:href=\"data:image/png;base64,\n",
       "iVBORw0KGgoAAAANSUhEUgAAAfQAAAH0CAYAAADL1t+KAAAqKUlEQVR4nO3d25HcxrKFYYyCVvBZBtAIRdABOTtejBUjKxTcD7Mh9vT0BYXKqlor8/8i9HCOtkggKy8oNBr98u8/f/7akvv5/cfqQ5jq9f1t9SFMU21t0e+yPlTzp1INRzm6li6xPZObf8QfBgAA6HHmwoOBDgBAAgx0AGW53H4FjmCgA4AQLjLGyR5bBjoAAIJaL0AY6LCl+oQydN1qkNl3bajj2+oDQCyaE+BLqX7vXTArHWMFr+9vhzcv7NABlKF8V0dpUD6K08/vP/77x4lSfFsdPXYGOiy5NRNoc2720VpqS2WwKxzDaEdylIGeCE0J8KRSu2cHo8pgz+71/e1hrjDQAWAh92Ee/WeMoBLjKPtgvz6vlwrvct823USLki1hH8m+lhjrUa3Mzi2luo0+91nnduS4leI8Ejv0BKokKxBB5YJQqW5HxETlNrxSnEdjoJurlKzbptOM4W11HlWq25GDffU6qmGgG6vUFIBo18NgxnB49lBTZtGDnVvtX/FiGUPVkhQYZeYOj7r9cBnzMzHJ9rvnkRjoZiom6Y7ba3BUuWafaRnu1P9zZQZ6y+vzFNEUAC/UbJvI/lw19mUGuquqiQm4omaxCgNdGI0B8EG9aqi8DjzlLqpyUt7i/HEJ8qNeoaDMDt1lINAYAC/UrI7qa8EOXUj1ZATcULM6WAsGugySEQDQo8Qtd5fb7biN9QPwSMUN0a2+WGKgq6uYjACAY45uatIPdPXdHcMcwGrOL97K2EPPrkXqz9BdExR1ZWxOwCjZ6qX3B2y+Xf/H2QIEb1kvyh7V2aN/lzUeQKtMsyqqrr/ccu/9JRwVDo3POb44p3fNr/97hzwHcFt0/T78DP3n9x+WQ4cmBzWj6ujon0tNjOHaI91liPmImnz6UNz+l7oEkMaVR5a1VKidy2PIElfUpFBPvUbV4OGH4hyagMMxohbF5vP6/iZ5XMAzGfJ25JxqespdeWAqHxvqcRia6scHZDN6TqX42prrMHc9bjzmNCidjhW1uefqjH7fPNDVhpDa8SCG67o6Nh3HY0Ys9XojR49JsUMHAOSUYZjPumCyHujqV5VHZDgHfHBuPM7Hjj7KPYi8bJP+Xe7wo9xg7qHxwI16nWWpqZlxth3o6snYgpdTeGPt4MKlb1JT59gOdOTk0nB2mRqP8y9u4TbH9cxUU7Mx0EWwSwdwluPgvkb/69c80An6ONWHultTqrxWmM+tPo6ijuKwQwfwH267txk5jLKvQ4VBPnsNmwZ6hQVYreou3a15VVwjjOdWB62om7EOD3QWYp6qQx1wElmjmQY5vWudQwOdBcJIbs0sez1w2/256sM8ew24evqmOBZuDcciB9DGsc6ZCbru7tBZNMzg2NBQW1RvdMx95oK2LwPdZcEq3Bbks/T8buWwwppXqK8zFNYGHlbUzzcSVFvmoe44MGbszi7/Xda1d8RaQJ31r60Bbn5+/9F0IbPyoocB9lt0LBwvZqHPeqBXaTgUfw5n15H1X6tKn4E/64EOX45Dqqex957vqnhVH2bVzx/nrKpX+4FepeAcByA+RK0dQ32uqucNX/YDHZjhbHPPciFWbbiNPt9q8axkZc0z0I1kGQ5u56HUfHlIbrwq54l8Ugx0ChCjKOYWQ32c7OfXy+1ifLbV8Ukx0CtZnTCV9Db3rGvF0ItBHBGNgY6pXIYczfax1/e3dDHKdj6YS6G3MdANKSROZg6NXSUHMg72mYhdDir1mGagUxiIQB6d4z7YnY8da6kM821LNNCrUUqiLNyaumIO7IOdWB7nFivoYqAbU2zorkY01eqN2m24M9TRSq0H3/09dCCaWvJjnuuBpZoLrccVOYhdfrI28y9AtlBcq5d///nz1+qDiKIY4Blcikt1fUbGb8Y5u6z/Pap50SpyHdRj4p5zvVTXh1vuCagmlwNe8bme0235R1p/GveRDPHISrnfMtCTUE4yVTRNLVnWI2qwq17oKB7TLOp9loGeiHqyYYxM6646xM6I3K1niYkzhzpjoCejmnRqxzWzQdKM22WJWWTeM9jXUetf9zDQE3JJPuCRLMMruh4Z7HM59VMGelJOSQhkN6IeVwx2LiS0MdATY6jftqIp0QjPIW7PzXqBT8W1cOuhDPTk3BISyGrWOwlGDHeGuYc0A90x+LMQGzjLNExm1uLlcO+JYab4H+XaM3n1axErX9foWhzRXF7tiZxu1f+9fKw4xHfONcpAL2RP1MrFWvncoUHpXegqx6HCeZhvW6Jb7iTmce5Ji3qob+C5NAMdbRjqazCYAE0ZeiIDvbAMCQwuEhxRe1qyrEeqgc4blAAALbIM821LNtB3s160kEGmZHYRmZeVcjzbuVJ762Vbg/RPuZ9pAtkW+Rmlp25xHGsGnJexz6cf6Ge0fF8zC4Y6gCqy9vOUt9xH4Db+OVkLp1dvHlXNw6rnjTiZexI79BP2ppItMdil62N9jrmOk2qtUnOIxEDvcFmIqg0DulpfBUvjf+xRfLJehKNN9vXnlnuQLLfksye8owx5NdrR+BBHZMZAH4AGjAjk0TGtMVKLKRfRc1SIM7fcB6p+S77iObe6ddtdbeAoIaeA+xjok/AZHu5hgB8TWTv8lG0tVdaaW+6TcRt1rSqFncnP7z+GrJtSHZKXiMBAXyT7YKdBIcKRPMqSa1nOA+sw0BfLPNSBHjMGnFr9MdTRg4EuQK2pYJz99vGo28hZtMamJ5Zq9Udu4KyXf//589fqg8BvCoXc2+AUzuGRWQ38aBzUBspqq4azct6SI32U1zbS4afcnwWEhIux+ulb1vG8Kk1jpN4Y9rxKVfmbKJfHRI3inps79N6EJuH6rWoq2Xfn2xaXn9Ffo6pOLZ7quUzOHKe+li0erfu3ESfKDw70W71Tx2esxViK8VX/GeX9WOi1ubWsLy+WwX8qNIYj56jUtCtw2lS0/pkzconBnkvPOr789fL3sIfiSLB+M4dL1tuULkO8ar2MjL1KTN3qOBuF+r4ncr2G7tC59d6PW+/nuQxyjFOxB7Fj1zV6TbjlbmDGUM+yO3duYpWHz+i/o1pct63ueatYEXteLGOCwnyOGOEehYvNFaqe90orX+vNQDcyKkmi/tyVAzXLMKcBIxo5Nac/KPw+x/CBTjLFWp0wiogJjljVixR6oMIxZKbSg9ihG1JJHgUZY0HzxQjk1RhKPYiBbirDbfJezseOD7PXcPZQY4jmptaDGOjG1JJp2zSPyRGDYJxZsVVcQ8VjcqXY6xjo5nqSSjEhj3I+9qOqNN+Ma1ll7VxUWY8pA71KMFc50xBHNlGnBq1+rFVqJ9Otd/U1Uz8+B6p9gx16Ei1fmZj1FQ7EqNKA3Yf6z+8/yqwVNDHQk3k22Gc2TfXvzTupMihmf5d3H8I98WWQ16Lcf4b+OMsl5SBgrOhmF51Lbs24Ui25rY0T8qidesymvcud9wrXpfwDM6rH9Ujkj2/cO3+VWlX/TXLoq5Qv/DgLplAc6mrH0+r6+B8N4dZzVf7FLsXfJEd+irVwjYGOaZSGuspxRBpxTsqD/aj92DOuOXBp6kNxFBRW/oBBxANQVWWImfNFCc7JkLct2KFjidG7pmqFPEOG52CU7hLBh0veTx/oGZoC4lzmwplGS3OeK0P9MtSRFTt0yDg6KGjGAJ6p8lW1S0teLENDBnxlqF+nJg0ctexNcRmaAgBflYd65XNv4RYnXv0KoBkX5FBWNT+XDvSqQQegwW0HBjyyfIfOUAc8ZandakO92vme5Rin5QN92/I0BgCeHJv3GRXOs/I8kRjo28ZPEAKOMtVs9mGX/fwiucZKZqDvGOwAVnFt5I+sfN0y5pJ9sczlUCcZAcyy8sdc6HXrOa+B7EC/1FtYzgsEqMvwOthbWgd7xhjAi8VA73WvIClAAM/QJ+CixEC/59agp3gBoCb3/l96oN/y6Paa+2IDo2S97Q44YaA3uB72NDAAyCFDP5f72poTvl4HAFDBQO/EUAcAKGCgB2CoA8B6Z3txhtvt28ZABwAgBR6KC8JTvkBuvL0Sqz27A8FAB4A77jVQhrue7B99Hjk/BjoAXGkZDvv/lsG+DsP8A5+hw0r2wnWVaZidzTFycz5+nfMzBjoA/F/vcGC4zEOsv+KWO2xQwJoy7M4jc4sHZMeiD9zHDj0QiTYOsdWUYXCNyC3yNdZ+a71qXI/WGQMd8qoWsTqG+bo/u4rKQ/za6/vb05p7+evl719zDqeGDE1OBYWsK0Oez8qvDLGaaVXdZ1gnPkOHFIa4rgwNbzczz/hM/TnqPgYDHctRzLoYRDEY6rdR+7EY6FiCQtZUYeisyj2G+m/U/xgMdExDEeupNmDIwbWI/1gMdAxHEWupNsR3CnlYeZeuEP/sGOgYguLVUnWI7JTyUWmo34pL9LEpxT47BnowpWJdgeLVUDkHr5GTXz2KSeSPzRD7uRjo6EbRrsPgfkw1Nx0u/HuPUTX2mUkN9MvkIRn0sCax1Bu6O/V8XTXUW38atvUY1eOe2bI3xWVPkizN2i3uDrLkhjKXvJ2dCz1xOXKsLnG/lqUmp+3QewO2//euCeOGOI+RpXEoc8pdh1vvu3ufrTvF+xaX+B8xbKCPCtLr+5tFAjkV6jWH+LpxzQUn5O1jUfEhzrpCB/qspsVufRxiCkfOeTvj4t85PqNkvMjuHugrg6K+W3fbpSvH0plTDjghX3HWqpq8zNkRx3B6oKs0KfXduttQRyzWPo5qjasjbh/UvlFw/e8ijq/5KXf1BqWavMStHvU1V1U1F0flS9V47py+SbA7e8yHd+guzUl1x85OHbhPrV6zqBjXlX02+sHD1nM5NNAdB5HiS2oiX6kIbazxMSq1CW8K9TYil1tnxtOBrhCoXmrfm2S3Dqyvw+wyx1etf46O9dHB/nCgqwUtisKAV9utq39jwInKmioj19CCmvrw7EG6uwO9UgBXDnh266iGYT5elhg79MaVsb7+u/9YcxjaXt/fpibSz+8/JArQoXjUEcPHFPIc+mb34CwY6A84ft0BUEV+38fw+sAg78NAf6Labp1iAuaKrjnXCyd6T7+7A901KUZht45naEj3kc94hNqJwQ69QZWhTnEBc1BrxCDSw4HOVfVXDHXcQrzuo498xWfFH4hBrKc7dIrxqypJWOU8gZmoqw/EIR633A1wUQVX5O5nM4YYg7KuQwOdovyqStFUOU9gJG6xf0YsxmCH3qFKUlY5z7OID+5hkGOmwwOdXfptVYq1ynkiTvWesbJmqNea2KEHoHgA7NiVP5YtNkrn0zTQq19xV6eUuM/sTZXmukbFXqGWa0rHgjme/h46jhn586NKhan4M6tH4nPrf6N2HvCkVJ+orXmg83Of9ykOuxEUzjMiBy//jNXnAy8uPVChVjEPn6EHcyn0XqvOc9RtTbXbpc4yDxDHPHE7XpzHQB8gsoCUi3H2sc16KUfr35N5gOHz8xiAslMDnQaGneqQnY2a+JAlDtmGuMp5qBxHVuzQB4n+jFfZyONceWu/VZZhVlmmIX4t63nht9MDneb1XKUCGvW5tpvKdeF87pkHOepghy7KsblEHbN7c/35/Yf1cKvGOddaVTrXWZRqne+hD1btayO955up4cz+iueRuI86Htccz5RvQNdA5zvpuGXPiZYmnzWPLmMQeY5nB+j1fxdxTK7DvKpqm4xK2KFP0FpAWYbbkRe3ZDnXI84O95HNt3fAOw+GSrmHMdTyv3ugs0vHEW45MrpQ1RrBruWiQ/Uc8By79H6K8WOHDuAmxYYF4L6Qp9wp/OeO7lDddrIZkc8AHlHtEWFfW1M9QQDAV2wezlGedaHfQ+f7t3BH/gK4R70/DHmxDIMdgDp6FFo45MvQh+JuBYDbPFDlULCIta85fWkOx29FOfWF6U+5Vx3yK9/iBeAx3pOAW5yG+baJfG1t1Nu0gKPcChdzMOjrcuwJEgP9kuMtGXhzLFysNeIVutDh2hMkf23NNZg9aAhrVMw1xNsfBHbKJ6djnck5LpIDHZjBuXChy22w4zf3dWOgC2B3Pp974UIfg/021ZioHlcL2YGeIbhHMMznosliNnIOs8gO9AoY5vPQVLGaUv4pHYuCLPGQe8o9K4b3fFmKFHnwIpsPSt9mytQnGOhIJVNxAiNQI3kx0GGN5gRHSjvUVRRikK1/SH+Gni3YiMNn4nBH/q6VMf7SAx24xiAH8qCWYzHQYYPiB/oo1tCKY1KMQwQGOuSxKwdyo75jMNAhjUJHZuT3b7Mu3DPHnKfcgU63ntTN3DSAkUY+/Z69LhnokKVcfM8azvW/Vz4XQM1lvUQN9wo1yECHJNXiO9tcLv871XNDfq/vb3b5F/F2PbdzPouBDjmKxRd5C5DhDrS7rpUjNVmtvhjonXg3c34j15bhXht94zzq5Suecu9wmVAkV4zKcXx9f/vvH2AU8isv+R26wvt+j3I6VkWKw3zVevIgEIBW7NBPutcoaaB5ZLg4Y9ePW8iHnBjoAzDU2xGz8RjsuEQ+5CN/y90VD8sdxzCfa89J4o5t6+9R5JEOduiD8R5yTxUuxCqcI8bjYx0d7NAnGfHmowy42FnL8UUjM7TWKDH8wN2ftV7+evn71+qDeEZxAEYlrOK5zaJc9BXXRXk9Zhi55s9imzXfqufUbOzQF2PnDhVVd+sz6u7ZC4Ru/f8y9IMMOXVmHVadMzv0k0YvmOI5R1Iv8uzxf0R9bSKtWuezMXbNS8eccnwXBDt0UTwlj1Uy7KqOcKyte+uifi5OORUdy5nnzkAXl3GwuxR2ZU4N+IxM9bRtHoM+e049MuthQb62ZiLL198ynEMVSsMgUtbzumXvGyp1px770cc3+s9noJ+08rM3leLMjBh/UG/ArRTOZ1VuqfQOhTVYaeT5M9BNKRRmK8djRp4GnOU8elGH643KRQa6MZUr7qyI7W8Mw1xW57ZqPs2My4i36zHQE3AY7OrHh+dUm/ARzseeFWvyITIOQwd61BUIw+AYh8Huhnh+5tiEHY95BnJbR1SOhr9Y5siBZXmpgnpBqMRLPU5HqcRTgcuaKq6ZWuxWx0gtHtvm98KhXegO/WgQzgaLHWgb4hWLeP62eggc4XCM0LSqznvvaocN9JnFo9JUXRoGgyjW5Xd7iS3ckb96zg72sFvuq35ucPVQdS2GihdgK63O01FU11Y53sTsK2Ly2NH4LHn1a+TiZXw16gzXa0D8xsr6q3pqr/PMFFus9/P7D4mcuj6GezUX+lDcyAfiov7+aErNLEp0HDPGqJdCk4iisr4uMVWJ1y2uD4ON5pJbU7+HPnrR1JPCBXEcjxjHcmm46sjL21ziEjrQbz0gNPvBIZfAq+Nhr/GyxHflMB3xti3gFod6Df8eugoe+orDy4HGyjCQZr8y05lDLcyOsUNMdsr5l/bVr04JgtrI1ef2nbhyM82EnLxPOTZpBzriKCcwcmOIr8PHpPepHnPqga4adOAaufobu3Ed5OV9irFJPdC3bU7QaTzPESMcUSFP3M5RcXCpUItN+oGOGGqJm5FrjLO89RH3jcpN15y/pHQOJQa6UsABwFH0V1kz9WWVcykx0GdgdwHgKOd+ETHYVQZgJIVzKjPQFYINPOOWp27HizhnXhrGC6vGWvLjLPCk8kMFALQwpD+s7pFldujbRtKtROzzYU37cHGMaKUG+mgUKCJUHZRVzxu5rMxjBjqanElWGnU+rCmgp9xApxHBQdU8rXbe3NVDJB6KC/b6/pa+KbU8+KEUC8djVjQ6PqsfLAJclduhI8aRpq4wGM+8F5z3iK+nkDuAm5IDnWYR414cFb5rGjGUVw/21TG8ZeYxKZ4/8MzKnsEtd3RRa7ojiqnCxyiquP0OHMdARwqjm/6qoa400FZd1Ox/r0ockJ9rrpW85b5tejtLnDer+FYVObn6QeGjHOR15nkbNWUHOnKYXXzOxd5DaZBmGuxZzsOZ+xC/xECHrVVFuOLvpfF/debHQYBLWQb57uWvl79/rT6IlUYsKA1mPIVCXLHOXEw8p5AbR7jFNROXHGnFDh12VIpR5TjwmcPOXfnYsstct+UHOoXlRa0YZx/P7Hx1rw/Fwa52PJWo9Y9o5Qc64GbWQMg0eFQGu8IxVJV9mG8bA33bttgio2DHUS3IjJ9rZ83jleeVNaYOVHtHNAb6/1Fs6JFpqGevhRUfW2SPqbIqw3zbGOif9BYdRTuOQ1GuGurcYWrHxxbI6O6rX+81p+wJevY1k9njAm0Rr4itlsMjX6tbLZaqHDYCkb58D/1IAKol67OYVIvHbG5FqZAP/Pb7cdH5RUx1uPWOXi9/vfz96+xJk7iYwbEoqQ0vUTmmtu6VN2iOfaPXy7///Nn1prisyQANzkVJbXjpyTW1tWaT5t07zup+KK5i0ADkc2aYKT7B3tOTs/xQSYZzOIOn3CHLvSjdj7+ilgGtNsi3LS7nsgz2arpvue8UkxvesjQUasPXdQ4qr+XIelE+72tZ+sYZYQN927wWHdqyFSW1gdFG14xLDmfrHS1Cb7lXDiQAZObQ3x2OcaTwz9CrBxT9MuZQxnNCPcqfrase10xDHoojsMBX1AWyIJc1DXvKnQUHgLyUerzSsazE19YgJXthZj8/1KKQzwrHoGLoQCfQwFfUBTJZ+bk6tfTZ8B06AQeA8VZ/rWxmr1d+OG+lKbfcCTzwGTWBjEbnNYP8sdAXyzyz+goS2qoVKvWAEVTqKCq/Vc7HwbfVBwBU9fr+xlBHWvsgbslxhnefqTv0bWNXgvsqFjP1gBEq1hIWfG2NRAN+ox4AROF76ACQDHd+amKgA4uxSwcQYclAp4HhGjkBxGKXXg87dEAAFzQAejHQASApdum1LBnoJBkusTv9QBwwAv22DnboAJAcQ70GBjqWYlf6GfEAcBZvisMyDK/7qBOM0lt3R3NzZn0rHtMKDHQskb2welEnGKml/npzcUSt9xxT5t7Dr61huswFFYl6QSYRdc8vuH24Fwd+bQ1TuRfSTPwaGzLZc3nm3YEMWmLAQMcUDPJzGOrI5lY+k+efnY0FT7ljqNf3N4Y5gIdmD3Pli4eeY2OgYxgGeQziCNTQe6HBLXeEYwABQJuIuwbs0BGG2+vjEFcgr6iPAKYOdJpSXqwtAKw1fYdO48+FXfkcyg/xADgvsraX3HJnAPhjkAOAlmUPxe3DgJ2HF4b4fNQIgCOWP+XOYPeQfZBf55/K+VIXAI6a/uMsz9DAtKgMthGUf6GJOgDGUeprkbW+fId+jR27BqWEH6Elvy7/t6PjQt4DOEtuoO8Y7PNlH+K7npw68wMTrX82AJwhO9B3DPaxqgzxaJGDndwGEEHuM/RnaH4xKg/yETnUGs9KeXwm1yrFB/Op9b+ofLcb6DsK/hy1RJ5tVt5cx7livkbmWsX4YRy1PhiV3/K33O/hVnw7tSTOrHJejsgzLpCA52wH+o7B/hyDHNn0DvhHNUEvwWyv728heWc/0HcMdmC9VRePkX8vveS+o3EmdmukGei7qCudLNidYxZyLZ+za8pFUbuI2ZVuoG9be2B6GpFywtJggfOqbg6i73ZUjOEqKQf6tj2+QuT2HAB8NmoDwFA/rjdWaQf6btYulcEOwBV383T0DPU/fn7/se3/oB+FgYrIe0+v729T1k4tP9Tn3dl4/XH5f6ifJADMkr0fqg1Z9Pvj+v+RKYlX3XmgUAAoW9Gj1Pqi+qw7E68vA33b9E/0kVsfIfCRAgB8UBusK6nPhda1ujnQt03/RK8dGdozz4miQRXkug/W6iv1WdeyZncH+rbpnygP9KEVDQ1H0FNqUV/vow8vPhzoqnqGuPrCAcAIXMw+5rA5fLaGTwe60gk6BBwA4Et9xuy79VvD/eWvl78P/R76yqu7EQGedT6rk4Or8tt61+VWXFev9SrZcizjOqqskVtsVeJ21OE3xf38/mP6ybktPnwceRtTa75X/M1ut4YHtNhr2CXPm179OmOoz2qCKy5QoGX0+vM6YJwRffeHPtfPZbA3PxQ3qjnx+fgYxHS9Wa/XRL/V9XIvT8gfDepz6tSPs0RerawMDrv0WEfWsnK8s+3YK6/lCM/i6f6rZc7Hfk11x971a2tnTyrTwj7jXoRHHT3H6/+dWkHMUCUngOzUBnvIz6deNiee/tUz+k5Ez/pWHfDZdusZrFyLo3nPxaAmlcEe/nvobsnGbfc+0es9Mn8U19m1QSvG0lWFWDrm+Bmr54nlm+LcKBTsiIJyK1LV4+WhubrOrDu5om1ln2GgoxTVob5tDPZqqqy1cs2NsuqcGeiTKBRvZJJVLNJZFHLlEfXjO2N2Ps+MIbW6xoq4M9C3eYHP0gjdG4TD8WfJFXxVaW0dam2k2efPQC+meoE5qdT4V5p5Qb9qTan7dWbGnoE+mUKTjvyamSuX81DIl0tqx+OiYtxcamyGWbFgoC+gUNxnEowCXUMhXzKa8RpPpQcdZ9YvvWINBvoiCoXeUnQZCzTjOY20Ol8j7EO80iCHhhn95vDvoVdQ9fOtZ+e9+vhGc2m8q9fBJU6XZsbM5cn1LL+Y6Wh07MPfFId2q98Wduu1hRQlLjkN86xD/PrvVaxRxWNSMvpNcgx0EQoFuvrvX2X16xoRY0b+kidQxmfoQmgW61S9mMli9G8AZPpMfFSsqKH1GOhiMjUONzSk25TzcfQDbsrnroTaOW5krLjlLkrhFnxFR26/Kz+QVAW314GvGOjCGOprjIz52d9/Jw9+Ixb9Ip8bYT10cMtdHLfgczvyveiVDVMt9xgeH1TioHIcbkbFjR26CXbr+bG+9xEb4Dl26EbYraMihrkm1qXPiPgx0P/PaVAy2FGFwguXgFGic4xb7sZ4sxsyI6d1sTaaGOhJtOzYKUaoI0dRReQ3DiwG+uiv9lS7fV39x1igSy33FF8LHBEjtXOqLirPpAd66wmeuQVNYn/FrXzsZg40cs0D6zTGrR/JaiU70HubyPV/fysJGebP7TGiiDES+XUMccqvZ7BL/h46g1YXDaWmUTXpkk8KPSkyVj3n47JmFfG1NTThK3M1RTfx0T+qAlQkN9AZFh4Y7PVEDGDXQb76mFf//fAg+xk6PPAZey2X63zkgo686EP80IKBjhAM9nqqrfXsr7BViy/6Sd1y5xauP27FI7NZQ5ZhjjO+8Z1jjMCvwwHtqBn0+LRDZ3eFSOQSMhoxdGc/LMiFQ043b7kz2BGFPEJGUQPR9al/aHr4GTqDHRHIIWTUO4hXD3J++yKfl3//+fPQm+JGJx9Jkt/qBgaMMvoHpEY523fVzgMfDg/03aiFZKDXQCNAZrf6mHrOn+m96udUVfNA37Yxi8lAr4NmAGhhqOdw6nvofLYOAHkwnHPoerEMgx1nkDOAP+pYz6lb7vfw1CSOYkcA6OEhOW+hr35lxw4Avno2ZfT+9UJ36NeOJAdJUBNX9Mc9qhHiiBF6+zJ5ucbQgX6t9acX3TxK4ozn20Ot4BV/06A1Z1SOG/6i+xW5OcfUgZ7V0WRlqP+mUOCqv+fN7girje5V5OgYDPROrYnJUP+wuqAVd7+RubE6vvA3u1eRs/2+rT4AZySgn7NNav/vXF6qxM/Xwo3qHTMn7NBP6kms6rv0VUWptgOekQc0QJzl2Keq5zsD/YTepHEslCiOn0k/o/6xS/Umh3My9Klquc9AbxSVIBmKpdXs4qoY43uqNTb0y1Y/FWqAz9APqpAMI82MX7ZGFIHP1FGd4ldTozHQn8i68DPNiiGDHIiRvZauzy9Ln2egX5i5qD+//0hfNAxyAA6y7N5LDXTnhXLCINfEbXfgOefdu/1Adwp2ZnxGDiAjpwFv+ZS7ckBbOQ+njF9Byy5T7WAMaqyNUk3Z7dCVglfRyvjTaACoGfkWyVZWO3SFgI2gPqhWx109Pk5WryW0UWv9VtaY3Q4d49H0AeCclTv2P6b/jfhCYYD+/P7jv3+UsGMA5qDWYq2IJwNdxIpBqjrEdzQYAM5m9zAGupBZg1V5iAOYj4vncWbGloEuZuSgdRrkNJh4LmsPZDOrn/FQnKDo18LSyAEPK15iwsVzHgx0URFD3XWQ02BQyaN8Hz3gqbVcuOUu7GzxOt1axxzkg6bWgfr6/hY2hBnm+VgN9IoJ2NqIady4Rk5o6ulnkYMdeXDL3cDekB8VcJamTZOKlSUvsoneZbesMzWWFwPdyK3BTsPGPeRGHUcHO8M8Nwa6IRo1niFHdI0cqrcu9hniddgN9Nf3N5oVcAe1gR2DXMesurQb6AA+Y4gD2DbTgc4uPSd2FG2oAWR2md/0hmMsBzpQGYMcWd3LbefnAWbWq+1AZ5eOSsh1ZHY0v6Nfi52N1YtlgIoY5siMl2fFsR7oXKkhM17hi+x6Xm+Nr17+/efPX6sPoheLmwMXaORyFeR6TK6rx3F2Pdt+hn6Jz9PhjNwFECHFQN82hjrmIMcQofrDXdTRGNafoV/jF4gwCp9nIxr5hGipBvqOoY5INF6MUjG3Kp7zLGluuV8787OCwLXK+dNyYVw5Tr2q337PbPZHwWkH+o7BjrOq5UzPUOEZlj4MdURIP9B3DHZtas2sSp5Exp2h3sf59abQkOJ76GfQeLQoNbEKuTEy3hXiN4NSTUSKyg+n+MyqiZQPxR3hlAxAFL4J4oMLozxm1VzZgb5tDHXUwSD3lHGo9+ahay7POOayt9wvZSwaJ0rFmTEXVsQ3YxxXUqqRKC05kun8R9ZG6R36LlOyADvXnQy+yniB9Cw39/zNlsMjz4cd+oWMRaNOrVgz5IBCTDPEUZHC2iJOdJ2wQwcSUWn4KscBKIuukzLfQz+C79HORdOPQyyBz+71crVaiZw7DHQsoVZUrogj8Nmz4Xj571XqJ2qoc8sd06kU0S3Kx3ZN/VjVj88RdxAfa42PUjwjHgBkoF+hCY1FfPtlfPIXx7Du950dzkpDfdv61phb7piGZtTPLYaznks5Ehe1xg0daj+Oc7ZuGOgYTqlQnBHHr1piwg805RWxpopDfdvazo1b7hjG9daw2jG7xnE36tjP/rnOscRX2S/QWvKVF8vckT1JRsnSLFXWn3jeFhEXlTVukSUfIoxaP+UYPztnBvodjsU+m3LiR1idA9niq/izmavXuFW2nDhj9Jq5xPhWHPgMvQiXJEXetYp4QC46Nk4vk8qSF4/ifX2OLmuzwq18YId+R5ZEytIEVpmdBxXW62xMR8bGod7dcsMhpre4xfkSO/TEnBOzoirrdWZXXCU2zlwHeCYM9KRogDFm3JKtuFYtca0YHwcMcD18be0O5ybifOzVVF6rI+c+Kz7q66ByfD+///jvH+hhoCejUviZjIip+3fLozyKAfHRwRD3wC33RGiA40TdemeNviImuhjiXtihJ0FT1Mca4YxVecMw98NAf4AGjEs9rxoll+CEYe6JW+4JMCzmOfqDCawJXFUe5u51y0B/Qv1NUu4J6OrWYGctEG12Tin3OjzHQDfGAFmPNQCggs/QD1Bs2orHBMAXu3N/DPSDVAYoD1gB8RSHGXWOVgz0BqsLbPXfDwDQxa+tnTDzap4hDozF7lwzBrNl6LU8FHfC0a8u9f75AAAcxUDvcDl4FX/jGcBj7EyRCQM9CIMZ8KI6zOklOIuH4gCUozrMgR4MdAClKA9zdufo8e06uUkoAFkxzHFLlth/+Qx9T/gsJwgAyoMciHL3lvvP7z8oAgDWXPrY6g3U6r8fMZ4+5f7z+w8WG4A0h6F9D/0VUQ59bY2hDkCJ8wC/RF9FpMNPuWcpIAC+XG6hH6E2zNWOB+1Kv1jmXmMgsQE9WQb5ttFjlGRai5ID/Vlj4El/AKPQVzBKuYHecpXPswOAhgy7c4de8vr+liLWWbSuxeGB7pCMj5xNUob6eNwRQWbkNY7qvZh6OtAzJGNvkBjqse6tx+X/n3jDHTmMIyLviLz8+8+fv8L+NEGRwaJA+5xZC2KObfO65Z4hZ53i3WP1WkXHOfVn6NHBYqd+Ts86cDseLsOFHEWLEXmd9tfWRjUBl+aiIipexB3KGOZoMaqfpRzoo5s/w+W5ES8AIe5Q8/r+xjBHk5F9LN1Ap+mvN3INMr0pDN4yD/LM57bS6N6VaqDPbPQMldtmxUUx/vvFBhcd+THw/GVcwzQDnQa63uw1UFnzewOcwZ5TxkGAHNIM9BVo1r+tioXDGjDY82CY46wZPSDFQF/ZLGnU62Pgsv6r44Q+DPM8sq5lioGOdVSG1IrjOPN3slsHMIr9QKc5rqMWe7XjecTpWJF3R4dc7Ae6gorNWfWcVY/rFqdjBbLIfHHGQAdOYBjXkXkAIBfrgU5TXUM97urHd8npWAFosx7oSmjMWpzWw+lYAehioKMJwweVcLs9l+zryUBHWk6/uMeFEoBeDHQcxtDBCtl3VUAUBjpS4yIEQBUMdEAEFx8AevwP6xaudDLLL0kAAAAASUVORK5CYII=\" id=\"image4a7d7bb28d\" transform=\"matrix(0.958 0 0 0.958 7.2 6.28)\" style=\"image-rendering:crisp-edges;image-rendering:pixelated\" width=\"500\" height=\"500\"/>\n",
       "   </g>\n",
       "  </g>\n",
       " </g>\n",
       " <defs>\n",
       "  <clipPath id=\"p318eaf6511\">\n",
       "   <rect x=\"7.2\" y=\"7.2\" width=\"478.08\" height=\"478.08\"/>\n",
       "  </clipPath>\n",
       " </defs>\n",
       "</svg>\n"
      ],
      "text/plain": [
       "<Figure size 504x504 with 1 Axes>"
      ]
     },
     "metadata": {
      "needs_background": "light"
     },
     "output_type": "display_data"
    }
   ],
   "source": [
    "im = ps.generators.blobs([500, 500])\n",
    "plt.figure(figsize=[7, 7])\n",
    "plt.axis(False)\n",
    "plt.imshow(im);"
   ]
  },
  {
   "cell_type": "markdown",
   "id": "clean-employer",
   "metadata": {},
   "source": [
    "## Apply tool"
   ]
  },
  {
   "cell_type": "code",
   "execution_count": 3,
   "id": "accessible-pasta",
   "metadata": {
    "execution": {
     "iopub.execute_input": "2022-03-30T13:47:51.490622Z",
     "iopub.status.busy": "2022-03-30T13:47:51.490259Z",
     "iopub.status.idle": "2022-03-30T13:47:51.571459Z",
     "shell.execute_reply": "2022-03-30T13:47:51.570987Z"
    }
   },
   "outputs": [
    {
     "data": {
      "image/svg+xml": [
       "<?xml version=\"1.0\" encoding=\"utf-8\" standalone=\"no\"?>\n",
       "<!DOCTYPE svg PUBLIC \"-//W3C//DTD SVG 1.1//EN\"\n",
       "  \"http://www.w3.org/Graphics/SVG/1.1/DTD/svg11.dtd\">\n",
       "<svg xmlns:xlink=\"http://www.w3.org/1999/xlink\" width=\"492.48pt\" height=\"492.48pt\" viewBox=\"0 0 492.48 492.48\" xmlns=\"http://www.w3.org/2000/svg\" version=\"1.1\">\n",
       " <metadata>\n",
       "  <rdf:RDF xmlns:dc=\"http://purl.org/dc/elements/1.1/\" xmlns:cc=\"http://creativecommons.org/ns#\" xmlns:rdf=\"http://www.w3.org/1999/02/22-rdf-syntax-ns#\">\n",
       "   <cc:Work>\n",
       "    <dc:type rdf:resource=\"http://purl.org/dc/dcmitype/StillImage\"/>\n",
       "    <dc:date>2022-03-30T13:47:51.531456</dc:date>\n",
       "    <dc:format>image/svg+xml</dc:format>\n",
       "    <dc:creator>\n",
       "     <cc:Agent>\n",
       "      <dc:title>Matplotlib v3.5.1, https://matplotlib.org/</dc:title>\n",
       "     </cc:Agent>\n",
       "    </dc:creator>\n",
       "   </cc:Work>\n",
       "  </rdf:RDF>\n",
       " </metadata>\n",
       " <defs>\n",
       "  <style type=\"text/css\">*{stroke-linejoin: round; stroke-linecap: butt}</style>\n",
       " </defs>\n",
       " <g id=\"figure_1\">\n",
       "  <g id=\"patch_1\">\n",
       "   <path d=\"M 0 492.48 \n",
       "L 492.48 492.48 \n",
       "L 492.48 0 \n",
       "L 0 0 \n",
       "L 0 492.48 \n",
       "z\n",
       "\" style=\"fill: none\"/>\n",
       "  </g>\n",
       "  <g id=\"axes_1\">\n",
       "   <g clip-path=\"url(#p3058080d26)\">\n",
       "    <image xlink:href=\"data:image/png;base64,\n",
       "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\" id=\"image896be37a56\" transform=\"matrix(0.958 0 0 0.958 7.2 6.28)\" style=\"image-rendering:crisp-edges;image-rendering:pixelated\" width=\"500\" height=\"500\"/>\n",
       "   </g>\n",
       "  </g>\n",
       " </g>\n",
       " <defs>\n",
       "  <clipPath id=\"p3058080d26\">\n",
       "   <rect x=\"7.2\" y=\"7.2\" width=\"478.08\" height=\"478.08\"/>\n",
       "  </clipPath>\n",
       " </defs>\n",
       "</svg>\n"
      ],
      "text/plain": [
       "<Figure size 504x504 with 1 Axes>"
      ]
     },
     "metadata": {
      "needs_background": "light"
     },
     "output_type": "display_data"
    }
   ],
   "source": [
    "im = ps.tools.align_image_with_openpnm(im = im)\n",
    "plt.figure(figsize=[7, 7])\n",
    "plt.axis(False)\n",
    "plt.imshow(im);"
   ]
  }
 ],
 "metadata": {
  "kernelspec": {
   "display_name": "Python 3",
   "language": "python",
   "name": "python3"
  },
  "language_info": {
   "codemirror_mode": {
    "name": "ipython",
    "version": 3
   },
   "file_extension": ".py",
   "mimetype": "text/x-python",
   "name": "python",
   "nbconvert_exporter": "python",
   "pygments_lexer": "ipython3",
   "version": "3.8.13"
  }
 },
 "nbformat": 4,
 "nbformat_minor": 5
}
