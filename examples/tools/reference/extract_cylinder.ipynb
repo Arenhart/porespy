{
 "cells": [
  {
   "cell_type": "markdown",
   "id": "central-afghanistan",
   "metadata": {},
   "source": [
    "# `extract_cylinder`"
   ]
  },
  {
   "cell_type": "markdown",
   "id": "after-error",
   "metadata": {},
   "source": [
    "## Import Packages"
   ]
  },
  {
   "cell_type": "code",
   "execution_count": 1,
   "id": "educational-creator",
   "metadata": {
    "execution": {
     "iopub.execute_input": "2022-04-26T09:12:04.794542Z",
     "iopub.status.busy": "2022-04-26T09:12:04.794037Z",
     "iopub.status.idle": "2022-04-26T09:12:06.954724Z",
     "shell.execute_reply": "2022-04-26T09:12:06.953914Z"
    }
   },
   "outputs": [],
   "source": [
    "import numpy as np\n",
    "import porespy as ps\n",
    "import scipy.ndimage as spim\n",
    "import matplotlib.pyplot as plt\n",
    "import skimage\n",
    "ps.visualization.set_mpl_style()"
   ]
  },
  {
   "cell_type": "markdown",
   "id": "irish-pixel",
   "metadata": {},
   "source": [
    "## Generate Image for Testing"
   ]
  },
  {
   "cell_type": "code",
   "execution_count": 2,
   "id": "surgical-playback",
   "metadata": {
    "execution": {
     "iopub.execute_input": "2022-04-26T09:12:06.958730Z",
     "iopub.status.busy": "2022-04-26T09:12:06.958281Z",
     "iopub.status.idle": "2022-04-26T09:12:07.053621Z",
     "shell.execute_reply": "2022-04-26T09:12:07.052870Z"
    }
   },
   "outputs": [],
   "source": [
    "im = ps.generators.blobs([100, 100, 100])"
   ]
  },
  {
   "cell_type": "markdown",
   "id": "engaged-aluminum",
   "metadata": {},
   "source": [
    "## Apply tool and visualize\n",
    "This tool is useful for extracting a cylindrical core from an otherwise cubic image.  This might be helpful if a cylindrical domain is needed, or to test a workflow on a tomogram that has has not been cropped yet."
   ]
  },
  {
   "cell_type": "code",
   "execution_count": 3,
   "id": "fancy-instruction",
   "metadata": {
    "execution": {
     "iopub.execute_input": "2022-04-26T09:12:07.058219Z",
     "iopub.status.busy": "2022-04-26T09:12:07.057818Z",
     "iopub.status.idle": "2022-04-26T09:12:07.144203Z",
     "shell.execute_reply": "2022-04-26T09:12:07.143778Z"
    }
   },
   "outputs": [
    {
     "data": {
      "image/svg+xml": [
       "<?xml version=\"1.0\" encoding=\"utf-8\" standalone=\"no\"?>\n",
       "<!DOCTYPE svg PUBLIC \"-//W3C//DTD SVG 1.1//EN\"\n",
       "  \"http://www.w3.org/Graphics/SVG/1.1/DTD/svg11.dtd\">\n",
       "<svg xmlns:xlink=\"http://www.w3.org/1999/xlink\" width=\"558pt\" height=\"276.48pt\" viewBox=\"0 0 558 276.48\" xmlns=\"http://www.w3.org/2000/svg\" version=\"1.1\">\n",
       " <metadata>\n",
       "  <rdf:RDF xmlns:dc=\"http://purl.org/dc/elements/1.1/\" xmlns:cc=\"http://creativecommons.org/ns#\" xmlns:rdf=\"http://www.w3.org/1999/02/22-rdf-syntax-ns#\">\n",
       "   <cc:Work>\n",
       "    <dc:type rdf:resource=\"http://purl.org/dc/dcmitype/StillImage\"/>\n",
       "    <dc:date>2022-04-26T09:12:07.132130</dc:date>\n",
       "    <dc:format>image/svg+xml</dc:format>\n",
       "    <dc:creator>\n",
       "     <cc:Agent>\n",
       "      <dc:title>Matplotlib v3.5.1, https://matplotlib.org/</dc:title>\n",
       "     </cc:Agent>\n",
       "    </dc:creator>\n",
       "   </cc:Work>\n",
       "  </rdf:RDF>\n",
       " </metadata>\n",
       " <defs>\n",
       "  <style type=\"text/css\">*{stroke-linejoin: round; stroke-linecap: butt}</style>\n",
       " </defs>\n",
       " <g id=\"figure_1\">\n",
       "  <g id=\"patch_1\">\n",
       "   <path d=\"M 0 276.48 \n",
       "L 558 276.48 \n",
       "L 558 0 \n",
       "L 0 0 \n",
       "L 0 276.48 \n",
       "z\n",
       "\" style=\"fill: none\"/>\n",
       "  </g>\n",
       "  <g id=\"axes_1\">\n",
       "   <g clip-path=\"url(#p992fd1cd59)\">\n",
       "    <image xlink:href=\"data:image/png;base64,\n",
       "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\" id=\"image24ad83eeaf\" transform=\"matrix(2.63 0 0 2.63 7.2 6.28)\" style=\"image-rendering:crisp-edges;image-rendering:pixelated\" width=\"100\" height=\"100\"/>\n",
       "   </g>\n",
       "  </g>\n",
       "  <g id=\"axes_2\">\n",
       "   <g clip-path=\"url(#p0f9fc4c326)\">\n",
       "    <image xlink:href=\"data:image/png;base64,\n",
       "iVBORw0KGgoAAAANSUhEUgAAAGQAAABkCAYAAABw4pVUAAAEUklEQVR4nO2c3ZHbMAyE5UyqcBVXRGbcQJp1F67CbSQv4ZyioUgCWABLmd/T3dyZP1hBBEHQt1+333+2BQ0/sgew+J8lCBlLEDKWIGQsQchYgpCxBCFjCULGEoSMJQgZP7MHMMrz/VJ97nH/go7Dm9tMuSytKNv2Lcy+DUaxphKkhUWsbeMRZ60h/3i+X2ZREVxGENQTni3MZQRBkyXMEqRDtCihgmS/DrREjjlkH+I9oQiDlT68ozF3D5nRI1p4z8d1H9IaPDIq6lHri3Xf4uYhka+RFmeGsxrUa34fHWUxiuImiPfihzIGmyiuHtKarCUERhvhcf8yCYMcT/orSyqM59pkFQYBzXlIVJw/giYqe75fkLHTCFJg3becGXs/XoQo7oI87l+0Ri4cxycxKtqjQ9YQhtfQGbWHZer0e1mUe4szoyit8WaJYhJEOmipKFYRGR+CHmpBzsToiTRiJIbwc9tyvCRlH8JgbFZUgiDWiiVKnfSdehYsaZsjUEEQTz3Kc3p5NE0b5XOj6R6NeGJBap2gFuFaG5p2W7tq5BM+EjZL+6N5ZWkNP/o5rxAdvbE0p060noE8Qu2NwXu/hPQ6kyASQ+z/15I7kqJdL7IQCWI5t4jaZGmq2yX/p5mHJAsMz/aiDW9pz1IEkYVJkNkL4LSBhOe4KKIszxR4LRKzhumeuTaaE0OkALXjYIkBz/Zarb5QhAhSu06GaE/79zNGNno1b5O21SLkCHf/M2sJp0dpkQaKNWQUtojIg7RCucy2mDELEmGoq/QxgkmQMgnPybAYKgrRon514zDUkIk8RDrY7MlpGEmYTr1TP05gBi8b2Yl7iRK2U9dMoFf0nC0uqsB6D+QIF81orogh+UiZOkF8S4+170xvQXqKyEPQGz1kex7eMmXloua82pr6Ro3lrA1NJIUSz3VR93qNtPYLtdfHyGsNJWb4hZ3RYmlveqJI8Hw1SUWC5LL2KRTkWQTT+bwWqT1ovuJPe43BWnOFFKlW6iQVZKrzEATHS5ooWnVnEmgEYbmkowH5fSo0ghQiREFtJmsPkdXraKpOWqALCWptS9oaGY9WbHOhHOKJPjOG5SqCdrFv1R235otaj8xRllUUixi9om2k0JKxWNqHrCHo62GaImnUZZ9spihy6PXfGkPvTMVjPBYgHqIdROZTfdyPII5mEWOn2al7g4iiIqDbhzCQWZwR7iEeZ+KjbSLuGnqf6ad6COoMYrRNaXqmts6M9qUl1EPQ+wJrewyL+JEwDxm5e7H/vRf5INMm0Z9t4Z7LGjWc5rJMIToq8uwv5JWFPndALayMoXDYdy4iJjR6nWwERjG2LTnslaCpJEH0K+kDQfh5yFm1iHTSUUaKXp8+JnVSYP/ukylODJH0DrCys9cfJ0gh2/BnXCa5OONtrRqX8JAiBiJYyOYSgsxm9BaXeWVdhSUIGUsQMpYgZCxByFiCkLEEIWMJQsYShIy/EsaDns3MFhAAAAAASUVORK5CYII=\" id=\"image276427144e\" transform=\"matrix(2.63 0 0 2.63 288.72 6.28)\" style=\"image-rendering:crisp-edges;image-rendering:pixelated\" width=\"100\" height=\"100\"/>\n",
       "   </g>\n",
       "  </g>\n",
       " </g>\n",
       " <defs>\n",
       "  <clipPath id=\"p992fd1cd59\">\n",
       "   <rect x=\"7.2\" y=\"7.2\" width=\"262.08\" height=\"262.08\"/>\n",
       "  </clipPath>\n",
       "  <clipPath id=\"p0f9fc4c326\">\n",
       "   <rect x=\"288.72\" y=\"7.2\" width=\"262.08\" height=\"262.08\"/>\n",
       "  </clipPath>\n",
       " </defs>\n",
       "</svg>\n"
      ],
      "text/plain": [
       "<Figure size 576x288 with 2 Axes>"
      ]
     },
     "metadata": {
      "needs_background": "light"
     },
     "output_type": "display_data"
    }
   ],
   "source": [
    "cyl = ps.tools.extract_cylinder(im=im, r=40, axis=2)\n",
    "\n",
    "fig, ax = plt.subplots(1, 2, figsize=[8, 4]);\n",
    "ax[0].imshow(im[..., 50]);\n",
    "ax[0].axis(False)\n",
    "ax[1].imshow(cyl[..., 50]);\n",
    "ax[1].axis(False);"
   ]
  }
 ],
 "metadata": {
  "kernelspec": {
   "display_name": "Python 3 (ipykernel)",
   "language": "python",
   "name": "python3"
  },
  "language_info": {
   "codemirror_mode": {
    "name": "ipython",
    "version": 3
   },
   "file_extension": ".py",
   "mimetype": "text/x-python",
   "name": "python",
   "nbconvert_exporter": "python",
   "pygments_lexer": "ipython3",
   "version": "3.8.13"
  }
 },
 "nbformat": 4,
 "nbformat_minor": 5
}
