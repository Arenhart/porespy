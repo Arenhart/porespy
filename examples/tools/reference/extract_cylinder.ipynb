{
 "cells": [
  {
   "cell_type": "markdown",
   "id": "central-afghanistan",
   "metadata": {},
   "source": [
    "# `extract_cylinder`"
   ]
  },
  {
   "cell_type": "markdown",
   "id": "after-error",
   "metadata": {},
   "source": [
    "## Import Packages"
   ]
  },
  {
   "cell_type": "code",
   "execution_count": 1,
   "id": "educational-creator",
   "metadata": {
    "execution": {
     "iopub.execute_input": "2022-05-25T17:22:32.531184Z",
     "iopub.status.busy": "2022-05-25T17:22:32.530550Z",
     "iopub.status.idle": "2022-05-25T17:22:34.372235Z",
     "shell.execute_reply": "2022-05-25T17:22:34.371517Z"
    }
   },
   "outputs": [],
   "source": [
    "import numpy as np\n",
    "import porespy as ps\n",
    "import scipy.ndimage as spim\n",
    "import matplotlib.pyplot as plt\n",
    "import skimage\n",
    "ps.visualization.set_mpl_style()"
   ]
  },
  {
   "cell_type": "markdown",
   "id": "irish-pixel",
   "metadata": {},
   "source": [
    "## Generate Image for Testing"
   ]
  },
  {
   "cell_type": "code",
   "execution_count": 2,
   "id": "surgical-playback",
   "metadata": {
    "execution": {
     "iopub.execute_input": "2022-05-25T17:22:34.377213Z",
     "iopub.status.busy": "2022-05-25T17:22:34.376573Z",
     "iopub.status.idle": "2022-05-25T17:22:34.455648Z",
     "shell.execute_reply": "2022-05-25T17:22:34.454944Z"
    }
   },
   "outputs": [],
   "source": [
    "im = ps.generators.blobs([100, 100, 100])"
   ]
  },
  {
   "cell_type": "markdown",
   "id": "engaged-aluminum",
   "metadata": {},
   "source": [
    "## Apply tool and visualize\n",
    "This tool is useful for extracting a cylindrical core from an otherwise cubic image.  This might be helpful if a cylindrical domain is needed, or to test a workflow on a tomogram that has has not been cropped yet."
   ]
  },
  {
   "cell_type": "code",
   "execution_count": 3,
   "id": "fancy-instruction",
   "metadata": {
    "execution": {
     "iopub.execute_input": "2022-05-25T17:22:34.459306Z",
     "iopub.status.busy": "2022-05-25T17:22:34.458778Z",
     "iopub.status.idle": "2022-05-25T17:22:34.535005Z",
     "shell.execute_reply": "2022-05-25T17:22:34.534499Z"
    }
   },
   "outputs": [
    {
     "data": {
      "image/svg+xml": [
       "<?xml version=\"1.0\" encoding=\"utf-8\" standalone=\"no\"?>\n",
       "<!DOCTYPE svg PUBLIC \"-//W3C//DTD SVG 1.1//EN\"\n",
       "  \"http://www.w3.org/Graphics/SVG/1.1/DTD/svg11.dtd\">\n",
       "<svg xmlns:xlink=\"http://www.w3.org/1999/xlink\" width=\"563.4pt\" height=\"280.8pt\" viewBox=\"0 0 563.4 280.8\" xmlns=\"http://www.w3.org/2000/svg\" version=\"1.1\">\n",
       " <metadata>\n",
       "  <rdf:RDF xmlns:dc=\"http://purl.org/dc/elements/1.1/\" xmlns:cc=\"http://creativecommons.org/ns#\" xmlns:rdf=\"http://www.w3.org/1999/02/22-rdf-syntax-ns#\">\n",
       "   <cc:Work>\n",
       "    <dc:type rdf:resource=\"http://purl.org/dc/dcmitype/StillImage\"/>\n",
       "    <dc:date>2022-05-25T17:22:34.524145</dc:date>\n",
       "    <dc:format>image/svg+xml</dc:format>\n",
       "    <dc:creator>\n",
       "     <cc:Agent>\n",
       "      <dc:title>Matplotlib v3.5.2, https://matplotlib.org/</dc:title>\n",
       "     </cc:Agent>\n",
       "    </dc:creator>\n",
       "   </cc:Work>\n",
       "  </rdf:RDF>\n",
       " </metadata>\n",
       " <defs>\n",
       "  <style type=\"text/css\">*{stroke-linejoin: round; stroke-linecap: butt}</style>\n",
       " </defs>\n",
       " <g id=\"figure_1\">\n",
       "  <g id=\"patch_1\">\n",
       "   <path d=\"M 0 280.8 \n",
       "L 563.4 280.8 \n",
       "L 563.4 0 \n",
       "L 0 0 \n",
       "L 0 280.8 \n",
       "z\n",
       "\" style=\"fill: none\"/>\n",
       "  </g>\n",
       "  <g id=\"axes_1\">\n",
       "   <g clip-path=\"url(#p0fd7c65628)\">\n",
       "    <image xlink:href=\"data:image/png;base64,\n",
       "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\" id=\"imagead613314c5\" transform=\"matrix(2.67 0 0 2.67 7.2 6.6)\" style=\"image-rendering:crisp-edges;image-rendering:pixelated\" width=\"100\" height=\"100\"/>\n",
       "   </g>\n",
       "  </g>\n",
       "  <g id=\"axes_2\">\n",
       "   <g clip-path=\"url(#p4decbefa16)\">\n",
       "    <image xlink:href=\"data:image/png;base64,\n",
       "iVBORw0KGgoAAAANSUhEUgAAAGQAAABkCAYAAABw4pVUAAAECUlEQVR4nO2c0bHUMAxFswxVUAVFMEMDNLtdbBXbBvxgxmSSWJaupOuNzhfDey+2dWPLkuU8fjx+/d4KGr5kd6D4nxKEjBKEjBKEjBKEjBKEjBKEjBKEjBKEjBKEjK/ZHfDm+X79+/fPb9/T+iHlcYdcVi9KD6NAtxCkcSbMtvGIQyPIlbEaCKON2skWZikfstLSo4Vml2Ux6vP9Es2wUTv7n0mfiYRGEAS9AZtIR0adET9aFCpBUD5C44+O2m7/FykKlSDMzCyLFm4ryN64UmN7i0IniMeOSWv8bZMtbUho4pA9s85YEl9ExToWaAXRYl1SsgUJCQz3Rsoe9BXP9yu1fymRuiYDu1rWVku6U5csMRkRcxbugtzF4KgxpM+QhjQ1zrhctb4jRKHK9l45VJQQo+dYjWrdFNDMkAgkhsqegXSC3N2f0AmybT6JPM83H/lsV0EQ6zFCmIxlSNtvN0GQb7glGRgFql2XXJaXH8h2uG1cM0nO2T5Dt72f4JCPkKTvm+Gtp4wwQVYQw7MuC5WUnF6yjhrWiKF5hnbAlpelb3O2pkuyxO1JidTPCgo8ZhnymSNxEG2Zd1leA0aA6Ft0cR5lYHjErAFW8GlHTAmCGiSrsbwK6GZ+V+VDvI45kcuDtqjhyDH346UtA0KkRZDP0zA7I0bb5vBt71lAFGFM5JYX6Y+OnmVpE+LUUW/HFVfF01eskuVtQOOQqHV2Nl/Uz+LsfNgIkyBXx62RPkFSIsQuRMMtDlnFACMQaaEZpmbIpxiZGddInUlAzabAmpTUjJ+qDMjKmQFGMY/n3cLUAyoN0RuAI7Lb70ktctifslmIXh4psr3I8hwm/zKLZ99VMwQ9xZmWjGzSkosoJLsZ5BvtPbMpDqi0g1x52TtjShCmRN0nirFtJDOEibYESmMaNG5xiKYGKiMmGX2MZqa6BDFrXQRhcfhXeB9Ba58/vWR5T+lP8Q23KiW1HsFqrmJHAXPqEce4rZ2Iv8+a6fBdlkSYqE8dZUF56VPSKa/62P5Zq30BAiKIZRvYHxwhPzKw0vdVemDF1kcGlRrP2/9oKx+1WGY5PA6x3Af0CAwthtWWNYUVOUQgEUVaW+z99QePjYl5yfJYalY5QTy7eGQBVkqK/ptVnHDfT0SfoYHhDNKrAqNUDQuo/tH5kCvYRUEADQxXNtgoDvK8Ut3jkjqxor16YGkP+XsW3D4Tm307V3r9gC2iX6L63SLuaklMV6eeWSaqTW5m417ksEqQx0LItjcjJ7QqH/ftdylR29hZqi6LjFsKIskmZ7FU6iSCbL9VgvwlW4jGrQVhEaFneUE0qQ9GIRrLC8JsXA233GUxU4KQUYKQUYKQUYKQUYKQUYKQUYKQUYKQ8QfY3TAiNwocjgAAAABJRU5ErkJggg==\" id=\"image6c9e3168c6\" transform=\"matrix(2.67 0 0 2.67 289.8 6.6)\" style=\"image-rendering:crisp-edges;image-rendering:pixelated\" width=\"100\" height=\"100\"/>\n",
       "   </g>\n",
       "  </g>\n",
       " </g>\n",
       " <defs>\n",
       "  <clipPath id=\"p0fd7c65628\">\n",
       "   <rect x=\"7.2\" y=\"7.2\" width=\"266.4\" height=\"266.4\"/>\n",
       "  </clipPath>\n",
       "  <clipPath id=\"p4decbefa16\">\n",
       "   <rect x=\"289.8\" y=\"7.2\" width=\"266.4\" height=\"266.4\"/>\n",
       "  </clipPath>\n",
       " </defs>\n",
       "</svg>\n"
      ],
      "text/plain": [
       "<Figure size 576x288 with 2 Axes>"
      ]
     },
     "metadata": {
      "needs_background": "light"
     },
     "output_type": "display_data"
    }
   ],
   "source": [
    "cyl = ps.tools.extract_cylinder(im=im, r=40, axis=2)\n",
    "\n",
    "fig, ax = plt.subplots(1, 2, figsize=[8, 4]);\n",
    "ax[0].imshow(im[..., 50]);\n",
    "ax[0].axis(False)\n",
    "ax[1].imshow(cyl[..., 50]);\n",
    "ax[1].axis(False);"
   ]
  }
 ],
 "metadata": {
  "kernelspec": {
   "display_name": "Python 3 (ipykernel)",
   "language": "python",
   "name": "python3"
  },
  "language_info": {
   "codemirror_mode": {
    "name": "ipython",
    "version": 3
   },
   "file_extension": ".py",
   "mimetype": "text/x-python",
   "name": "python",
   "nbconvert_exporter": "python",
   "pygments_lexer": "ipython3",
   "version": "3.8.13"
  }
 },
 "nbformat": 4,
 "nbformat_minor": 5
}
