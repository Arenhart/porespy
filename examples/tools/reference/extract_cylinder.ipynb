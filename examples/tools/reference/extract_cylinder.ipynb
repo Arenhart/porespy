{
 "cells": [
  {
   "cell_type": "markdown",
   "id": "central-afghanistan",
   "metadata": {},
   "source": [
    "# extract_cylinder"
   ]
  },
  {
   "cell_type": "markdown",
   "id": "after-error",
   "metadata": {},
   "source": [
    "## Import Packages"
   ]
  },
  {
   "cell_type": "code",
   "execution_count": 1,
   "id": "educational-creator",
   "metadata": {
    "execution": {
     "iopub.execute_input": "2022-03-30T13:44:42.033106Z",
     "iopub.status.busy": "2022-03-30T13:44:42.032877Z",
     "iopub.status.idle": "2022-03-30T13:44:43.877421Z",
     "shell.execute_reply": "2022-03-30T13:44:43.876837Z"
    }
   },
   "outputs": [],
   "source": [
    "import numpy as np\n",
    "import porespy as ps\n",
    "import scipy.ndimage as spim\n",
    "import matplotlib.pyplot as plt\n",
    "import skimage\n",
    "ps.visualization.set_mpl_style()"
   ]
  },
  {
   "cell_type": "markdown",
   "id": "irish-pixel",
   "metadata": {},
   "source": [
    "## Generate Image for Testing"
   ]
  },
  {
   "cell_type": "code",
   "execution_count": 2,
   "id": "surgical-playback",
   "metadata": {
    "execution": {
     "iopub.execute_input": "2022-03-30T13:44:43.880731Z",
     "iopub.status.busy": "2022-03-30T13:44:43.880491Z",
     "iopub.status.idle": "2022-03-30T13:44:43.958149Z",
     "shell.execute_reply": "2022-03-30T13:44:43.957509Z"
    }
   },
   "outputs": [],
   "source": [
    "im = ps.generators.blobs([100, 100, 100])"
   ]
  },
  {
   "cell_type": "markdown",
   "id": "engaged-aluminum",
   "metadata": {},
   "source": [
    "## Apply tool and visualize\n",
    "This tool is useful for extracting a cylindrical core from an otherwise cubic image.  This might be helpful if a cylindrical domain is needed, or to test a workflow on a tomogram that has has not been cropped yet."
   ]
  },
  {
   "cell_type": "code",
   "execution_count": 3,
   "id": "fancy-instruction",
   "metadata": {
    "execution": {
     "iopub.execute_input": "2022-03-30T13:44:43.961562Z",
     "iopub.status.busy": "2022-03-30T13:44:43.961238Z",
     "iopub.status.idle": "2022-03-30T13:44:44.035576Z",
     "shell.execute_reply": "2022-03-30T13:44:44.034923Z"
    }
   },
   "outputs": [
    {
     "data": {
      "image/svg+xml": [
       "<?xml version=\"1.0\" encoding=\"utf-8\" standalone=\"no\"?>\n",
       "<!DOCTYPE svg PUBLIC \"-//W3C//DTD SVG 1.1//EN\"\n",
       "  \"http://www.w3.org/Graphics/SVG/1.1/DTD/svg11.dtd\">\n",
       "<svg xmlns:xlink=\"http://www.w3.org/1999/xlink\" width=\"558pt\" height=\"276.48pt\" viewBox=\"0 0 558 276.48\" xmlns=\"http://www.w3.org/2000/svg\" version=\"1.1\">\n",
       " <metadata>\n",
       "  <rdf:RDF xmlns:dc=\"http://purl.org/dc/elements/1.1/\" xmlns:cc=\"http://creativecommons.org/ns#\" xmlns:rdf=\"http://www.w3.org/1999/02/22-rdf-syntax-ns#\">\n",
       "   <cc:Work>\n",
       "    <dc:type rdf:resource=\"http://purl.org/dc/dcmitype/StillImage\"/>\n",
       "    <dc:date>2022-03-30T13:44:44.022535</dc:date>\n",
       "    <dc:format>image/svg+xml</dc:format>\n",
       "    <dc:creator>\n",
       "     <cc:Agent>\n",
       "      <dc:title>Matplotlib v3.5.1, https://matplotlib.org/</dc:title>\n",
       "     </cc:Agent>\n",
       "    </dc:creator>\n",
       "   </cc:Work>\n",
       "  </rdf:RDF>\n",
       " </metadata>\n",
       " <defs>\n",
       "  <style type=\"text/css\">*{stroke-linejoin: round; stroke-linecap: butt}</style>\n",
       " </defs>\n",
       " <g id=\"figure_1\">\n",
       "  <g id=\"patch_1\">\n",
       "   <path d=\"M 0 276.48 \n",
       "L 558 276.48 \n",
       "L 558 0 \n",
       "L 0 0 \n",
       "L 0 276.48 \n",
       "z\n",
       "\" style=\"fill: none\"/>\n",
       "  </g>\n",
       "  <g id=\"axes_1\">\n",
       "   <g clip-path=\"url(#p430b5d44c7)\">\n",
       "    <image xlink:href=\"data:image/png;base64,\n",
       "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\" id=\"image8d978e5354\" transform=\"matrix(2.63 0 0 2.63 7.2 6.28)\" style=\"image-rendering:crisp-edges;image-rendering:pixelated\" width=\"100\" height=\"100\"/>\n",
       "   </g>\n",
       "  </g>\n",
       "  <g id=\"axes_2\">\n",
       "   <g clip-path=\"url(#p6aa499a466)\">\n",
       "    <image xlink:href=\"data:image/png;base64,\n",
       "iVBORw0KGgoAAAANSUhEUgAAAGQAAABkCAYAAABw4pVUAAAD+UlEQVR4nO2d/Y3cIBDF2VOq2Cq2iJO2gTS7XWwV20byl08+yzbMx5t5YH7SSTnFAcxjBmYA5/Z9+/uvTGj4ym7A5DdTEDKmIGRMQciYgpAxBSFjCkLGFISMKQgZUxAyLiHI6/Mur887uxlN3K6Sy9oT5Hl/hLejxiUsZA9GMUq5kCBrAVjFKKWUP5mVL25kr4PWLsarA1vLeX3eaaKlzCE1f87g788GC5JwQSyrnajO2bYxUpTQOaSXpeeWyHaHWIjnC6FHa62t6PpDLCR6UtbSMnDQ1pK6yspE27FDWAgbllE+LSSA2pJ7CyJGWgixEKbVVW1JK+1g73eDC8IkBgrPd4QK4i2GtbweBkdXc4jFXx+J0SJSyxzjlf+CWQjLaLRuTknmGI937mbZqxl91g46qhMpilkQFkvYAxnEoco2CbKIgRbF8vLP++Pnx7vOo2cs/RE+qUuDMPa6n/cHx7L3LFo9aqA0CNOM7FYYEpV7mCykRx/NjtpCEP5zKZdBDMl7ePaF67IXtcxE1c8g/Ba3SV270+bZKd4dnHH6xMVCsrc9z6hF6rW2tVqdl9vqKpclRdqZmadNFsyCMEfqa1rcD8OcAs9lMbxkT3STXPQgy5ol9UIFYbQOdhfrPqkjlp5n5R6dA47ueK/6TIIgVyXbsveE0ewCerURJbhaEI0YLfFK7ZkeDmtbUAmCGh1INyMJAL2CRQ2XWGVJOzgz8yC2EPZVypoeXNQWkYWcicEmVI9ilEKWft+i7VTr/rllP92KexyiSVmfPS+NKSwiZl72XIBM6nsdeBTAMe2HZItRCjD9nnmipGdcDzkgXIv3FWnP686t6RxJXa4ua5RRasXiiofeMcxGI4rLUVIk1htOLWUyIb6n7iECc4dkc4lcVk/A5xBNWh5hQcibs55ABdHukXhEzLW8G6soYpeF3BVs/TtLuetn2BKipQy27EXe+o2yqNRJ3XNnDn0FO8qaVIJEJgQzt3Vb8XR/XX04ILIe7a3f9Y8G9ws7UjL3rxmtL3UOqZ2f8jhaZG3D3p+RmARhXctv0V6NXv/b2jNnv0uAWYglBW3ZK9GUxRSPmOOQXqwkCmt/0MUhWQKzZLG7/98RNKs05juRw6ffNSNfGktQfFqDhYhPZERmjuGROsMKxqMNe++CSOOHfFHOmk6okeXzEfVC4xBWmNs2zKXP2vlgyfNnoF3w8PfUpUJZyvMgZMdwBB/fRXKRmdYOzLwLssdQgiwd16NlLHSfOvGC4UtApQx26sSD7EXIUC6rFP2ylOVbj8MIss4EMKRrtAwhSOudxh4YYg5hcDVeDGEhIzEFIWMKQsYUhIwpCBlTEDKmIGRMQciYgpDxH4kvCr9gyztlAAAAAElFTkSuQmCC\" id=\"image525d2cbe6f\" transform=\"matrix(2.63 0 0 2.63 288.72 6.28)\" style=\"image-rendering:crisp-edges;image-rendering:pixelated\" width=\"100\" height=\"100\"/>\n",
       "   </g>\n",
       "  </g>\n",
       " </g>\n",
       " <defs>\n",
       "  <clipPath id=\"p430b5d44c7\">\n",
       "   <rect x=\"7.2\" y=\"7.2\" width=\"262.08\" height=\"262.08\"/>\n",
       "  </clipPath>\n",
       "  <clipPath id=\"p6aa499a466\">\n",
       "   <rect x=\"288.72\" y=\"7.2\" width=\"262.08\" height=\"262.08\"/>\n",
       "  </clipPath>\n",
       " </defs>\n",
       "</svg>\n"
      ],
      "text/plain": [
       "<Figure size 576x288 with 2 Axes>"
      ]
     },
     "metadata": {
      "needs_background": "light"
     },
     "output_type": "display_data"
    }
   ],
   "source": [
    "cyl = ps.tools.extract_cylinder(im=im, r=40, axis=2)\n",
    "\n",
    "fig, ax = plt.subplots(1, 2, figsize=[8, 4]);\n",
    "ax[0].imshow(im[..., 50]);\n",
    "ax[0].axis(False)\n",
    "ax[1].imshow(cyl[..., 50]);\n",
    "ax[1].axis(False);"
   ]
  }
 ],
 "metadata": {
  "kernelspec": {
   "display_name": "Python 3",
   "language": "python",
   "name": "python3"
  },
  "language_info": {
   "codemirror_mode": {
    "name": "ipython",
    "version": 3
   },
   "file_extension": ".py",
   "mimetype": "text/x-python",
   "name": "python",
   "nbconvert_exporter": "python",
   "pygments_lexer": "ipython3",
   "version": "3.8.13"
  }
 },
 "nbformat": 4,
 "nbformat_minor": 5
}
