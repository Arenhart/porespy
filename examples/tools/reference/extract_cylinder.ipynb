{
 "cells": [
  {
   "cell_type": "markdown",
   "id": "central-afghanistan",
   "metadata": {},
   "source": [
    "# `extract_cylinder`"
   ]
  },
  {
   "cell_type": "markdown",
   "id": "after-error",
   "metadata": {},
   "source": [
    "## Import Packages"
   ]
  },
  {
   "cell_type": "code",
   "execution_count": 1,
   "id": "educational-creator",
   "metadata": {
    "execution": {
     "iopub.execute_input": "2022-05-25T19:30:12.461640Z",
     "iopub.status.busy": "2022-05-25T19:30:12.461245Z",
     "iopub.status.idle": "2022-05-25T19:30:14.673863Z",
     "shell.execute_reply": "2022-05-25T19:30:14.672890Z"
    }
   },
   "outputs": [],
   "source": [
    "import numpy as np\n",
    "import porespy as ps\n",
    "import scipy.ndimage as spim\n",
    "import matplotlib.pyplot as plt\n",
    "import skimage\n",
    "ps.visualization.set_mpl_style()"
   ]
  },
  {
   "cell_type": "markdown",
   "id": "irish-pixel",
   "metadata": {},
   "source": [
    "## Generate Image for Testing"
   ]
  },
  {
   "cell_type": "code",
   "execution_count": 2,
   "id": "surgical-playback",
   "metadata": {
    "execution": {
     "iopub.execute_input": "2022-05-25T19:30:14.679121Z",
     "iopub.status.busy": "2022-05-25T19:30:14.678130Z",
     "iopub.status.idle": "2022-05-25T19:30:14.763174Z",
     "shell.execute_reply": "2022-05-25T19:30:14.762323Z"
    }
   },
   "outputs": [],
   "source": [
    "im = ps.generators.blobs([100, 100, 100])"
   ]
  },
  {
   "cell_type": "markdown",
   "id": "engaged-aluminum",
   "metadata": {},
   "source": [
    "## Apply tool and visualize\n",
    "This tool is useful for extracting a cylindrical core from an otherwise cubic image.  This might be helpful if a cylindrical domain is needed, or to test a workflow on a tomogram that has has not been cropped yet."
   ]
  },
  {
   "cell_type": "code",
   "execution_count": 3,
   "id": "fancy-instruction",
   "metadata": {
    "execution": {
     "iopub.execute_input": "2022-05-25T19:30:14.767456Z",
     "iopub.status.busy": "2022-05-25T19:30:14.766630Z",
     "iopub.status.idle": "2022-05-25T19:30:14.879737Z",
     "shell.execute_reply": "2022-05-25T19:30:14.879101Z"
    }
   },
   "outputs": [
    {
     "data": {
      "image/svg+xml": [
       "<?xml version=\"1.0\" encoding=\"utf-8\" standalone=\"no\"?>\n",
       "<!DOCTYPE svg PUBLIC \"-//W3C//DTD SVG 1.1//EN\"\n",
       "  \"http://www.w3.org/Graphics/SVG/1.1/DTD/svg11.dtd\">\n",
       "<svg xmlns:xlink=\"http://www.w3.org/1999/xlink\" width=\"563.4pt\" height=\"280.8pt\" viewBox=\"0 0 563.4 280.8\" xmlns=\"http://www.w3.org/2000/svg\" version=\"1.1\">\n",
       " <metadata>\n",
       "  <rdf:RDF xmlns:dc=\"http://purl.org/dc/elements/1.1/\" xmlns:cc=\"http://creativecommons.org/ns#\" xmlns:rdf=\"http://www.w3.org/1999/02/22-rdf-syntax-ns#\">\n",
       "   <cc:Work>\n",
       "    <dc:type rdf:resource=\"http://purl.org/dc/dcmitype/StillImage\"/>\n",
       "    <dc:date>2022-05-25T19:30:14.859519</dc:date>\n",
       "    <dc:format>image/svg+xml</dc:format>\n",
       "    <dc:creator>\n",
       "     <cc:Agent>\n",
       "      <dc:title>Matplotlib v3.5.2, https://matplotlib.org/</dc:title>\n",
       "     </cc:Agent>\n",
       "    </dc:creator>\n",
       "   </cc:Work>\n",
       "  </rdf:RDF>\n",
       " </metadata>\n",
       " <defs>\n",
       "  <style type=\"text/css\">*{stroke-linejoin: round; stroke-linecap: butt}</style>\n",
       " </defs>\n",
       " <g id=\"figure_1\">\n",
       "  <g id=\"patch_1\">\n",
       "   <path d=\"M 0 280.8 \n",
       "L 563.4 280.8 \n",
       "L 563.4 0 \n",
       "L 0 0 \n",
       "L 0 280.8 \n",
       "z\n",
       "\" style=\"fill: none\"/>\n",
       "  </g>\n",
       "  <g id=\"axes_1\">\n",
       "   <g clip-path=\"url(#p0a44e09c42)\">\n",
       "    <image xlink:href=\"data:image/png;base64,\n",
       "iVBORw0KGgoAAAANSUhEUgAAAGQAAABkCAYAAABw4pVUAAAFcElEQVR4nO1d2Y0bMQwdG67C3ynARQRwA2nWXbgKp4og+ZIx0erg8XhovA/wx3olSiKHpEhR49PP06+/mxKP13Pa5n69dduW/3Ho9fpywRnLYvwaZyi1DvaTRi/gaDAXiLUAtE94NkAEEm02Hq/n++M5rgXOkoXUyLQw1Fzu19v7M2qDhosPqTFbSLTGRUItkNnipcyJdP6Usa3md5ESpzI6irGP13M4tkaLUPxq0blYCmM1ZNiSm/kQjkP0ZgT1ae21RYzX+/5CIVJP9n69fSEmYWrEE8lhMEdwiPG2rSOQmkjLHn8HfHNI1kAyWRls61FRhFbiwa7JisIRNIOL/ZqbGlI0YuaYswPhAyg0Ne1qdE1WdocrpUkV0mgullqczmRZYCUzGJLLOgKshJxKIFE+S8Jcq7TM6c/vH90j3CwOXXOkq8m59frO+KIRiJkPQUTyqL4UBs2SkVRoTdlQQ7aNx4zZZKQLLnQ1DEMeXFmOI/Ihra0k9SnkjrPvo02ZZzHBI7B9COJJozBmNE70ieKSPmQErX+ROmqU2UL5mxa6AvFUb6sFrhQQFpyz2taMc9rDPDC0Um8NsgulBS3fhj5kFBhxB94zlxvoZXg4vPDWEA2DEW0/iekjsCsXucUJK5idTH7UPbmYTROyVOaXh8IsDsm4SajREoCnz2oWylkQrYGKjNGMsoh/ZgKdjWdusrR1UHtksvUj9DSPMvd3YEgpv9+2nKYHCcQD1PqeSndYdcKdCAKUXR9SS5D5LcRdm7RX2hCL8wBnnpR2qcqAOMg+vx5mQhFriMfV5VWZPsOId12BrGAuogSGOntvmbvmiSEnOEKeuUvpcmlrwE2Scts3NQQZO3ghm3lrhRCUsAKyy5IWmo0miCpeo8ZXElj4Rlgui1Kq4/EUU8a31mrNOuFxCDJ+sGIc8sHQaEmrr0ogVvWtFnRqWAmFS7cWzLRykTIJaQ3srD9lbA0yvtTg7UM4ztU7Zf1JmL44wGs7eSShSJKjpY9pcjHKFGXHqGaZvO1tvUjAoszfqp4YRdM69U8SCOXiJKe/ZCdCHXcWD2XXWlGhnBYtbZP0H+30as1cxT9desxBX3DxNjuRwtBsUP7TEPTEWwGTdAzvflEwfT0Too3V2FlhIpDIBKP3vRZtlqIGXCCcipXshQzUXB1yHSleHIBaUHQWF7EG1zuGswlrt8Pc8WqgxtTQcROINJhc0ecscQtXujfPeB5i6fcO9XombhWI1RhS3K+3dvrd8qmM3FVlFkaBqNhagxWDNs/t+bC2d0XmrYzH6zmPQ7JWEB4VJoHht1DkMHuRckahZJxTDfMz9V7VimWJpxToRKEELnHILJ2wQomnhK5kPSmSiwUr1AVz+3ALPNx/x1DStnyHrqOV0Bn9Te03apMydbKP6Dklq+hs8WgsNMrcT9SfXo2uY/IoabXGbA2kwDADjiCMFlom0NRkHYFpSFD44e5DJFWMdZb4yIIOd+rUSvGsQkAHkyKBeAVyZQzr0z0p/RFtaT0zyan3zAV3f79CLskK1LWzNGQWrWqr5FeC1dqmAuG+fSGbEDzNK2UeLYgu7ESi50e0905m9HttkajpkQPD6F0OxRxqmMW5DMQFh3fD1In0CeRsBS2vQEjGQKbSJTRJP06MmkCvLVIo2ptTnKSmBVg+RBsTeAHBQGsh9OirX8+EwApC9sISu6wMQJqwUf8vGhK1X19JS6QZilkF5JcjXMutnwW8r6959Bf/bN7+EwnteT0HHmt9xyFZrpRZLNqzwl+Kd5FDtomhMUqIZlh7Pb8lztStEL2RaI3/8dveminRWnOOfkr2iGbGtvlpTW+cy/6fkQzJIIyCPT+8c1r/AOXToAQArPR5AAAAAElFTkSuQmCC\" id=\"imagef40107520f\" transform=\"matrix(2.67 0 0 2.67 7.2 6.6)\" style=\"image-rendering:crisp-edges;image-rendering:pixelated\" width=\"100\" height=\"100\"/>\n",
       "   </g>\n",
       "  </g>\n",
       "  <g id=\"axes_2\">\n",
       "   <g clip-path=\"url(#p97a65df120)\">\n",
       "    <image xlink:href=\"data:image/png;base64,\n",
       "iVBORw0KGgoAAAANSUhEUgAAAGQAAABkCAYAAABw4pVUAAAEEklEQVR4nO2d3Y3jMAyEncNVkSpSxAHbwDWbLlJF2rh7MuAVHFskZ8iRV9/jIpYljn5Jynv7c/v7b5nI8Ku6ApPvTEHEmIKIMQURYwoixhREjCmIGFMQMaYgYkxBxPhdXYFenu+X+Zmv+wNeDzaygngEsJarKJicICwhzt6lIs6l15A9cVUM/wkpQRijoy1TXSS5KYuBR+j1mWyxpEaIIplr2rKICfJ1f5RMH2dGzxTlNkII12KQVtDeZ/c6QsV6Qxekai7eq8MZvWIy20IVpG2QtyEIUVHTDrtj0daQPQNYjfJ8v749EzFq1fpkhSLIkeF6jfrpd9GeHhWFvcDDpyyUExDRcO8C7ykbBfRg6G3w8/2iNDD7DIFA6hyyRX2+Z4kNE4RRQXVRGEAE6RFj3eVYjfzTRAkL0isGopwRiLaDvoaM0MOVzijpi7raSNgKgRIl0kZaPIR5BkCxJ8DX/VFa1xRvb8Tj6inHQuRQ+qm+Ed8bfcqyGPHst0pz/RGROsoeDKtAdKD1754R7RKEOce2Ht49kKME1Za13pfd9iIalwG6nmZBVIw0wlqyLHZ7uUdIJM7Nfm5khl7UqwSTiqlH4uTMUZU1lW7rhfLjbTGNEEScnIXa9OY9M6W531vO3PGoULDX7e99XxSYL6vHXZDRi3vezx7VUid15L6cZThkx0B3spAgR5X5qaJEy3VPWeuLM9zVqAxIBJ8yZFB1co0QtEHUdkiVmEYI03DVgSEkkax56kndauA5UowjpN3a9hjcmpXISitFlcnuNK5F3ZPFvsWbm9XbAY7eoT5qSy59Ru+H7xl977at1e+kAF0Q5un4qMxKMSIbFOqi3h6YKm5AjTIyVmiC9BifNT+PvFujCFLpYMwU48hv560HXBBLspt6IkOvrw7ZDpMgrN6HalC1FxcxWlK3vZYvJiCMW3HmiF7PSxPEe5gccc2RzH5v8e7NFeMhzHXPLIiyV5aRBeJ5R+R9qXlZ1ecD9Y8GLEtBoly1KB4yt+cSEcOrInFhR3V9GQW3IBkZJyMj4zpZURRFsU4t4UufiK1mpqHORjYi0ih/Uj9zJ4yQ4plVbnjKynLoqeQFW57xAFlDzioVzTrZZkl6QGW/t2UwOgn0wwHIYE1PIkNbPtpbXEFakkP0uZ5swFFF2ALd9jIDWFnvqoYawr2q0ZikJzlsv3jg/cjLlYVO//a7eipnNfL/PyQao84IWiFJjYeM4EuqZugvOVyRy4dwWXfUWQwRwj36UBjiO1VKU2nJlOXptXv3P85+Eym/Col/eYQ0RvRKXPX0JiHICkoYz2WdaiFWpATZkjGFqIiwRfZg2OPtjZapiKwgLSMYE8E8GIoxBRFjCiLGFESMKYgYUxAxpiBiTEHEmIKI8R/Y0T1os7C/TQAAAABJRU5ErkJggg==\" id=\"image907e6f4126\" transform=\"matrix(2.67 0 0 2.67 289.8 6.6)\" style=\"image-rendering:crisp-edges;image-rendering:pixelated\" width=\"100\" height=\"100\"/>\n",
       "   </g>\n",
       "  </g>\n",
       " </g>\n",
       " <defs>\n",
       "  <clipPath id=\"p0a44e09c42\">\n",
       "   <rect x=\"7.2\" y=\"7.2\" width=\"266.4\" height=\"266.4\"/>\n",
       "  </clipPath>\n",
       "  <clipPath id=\"p97a65df120\">\n",
       "   <rect x=\"289.8\" y=\"7.2\" width=\"266.4\" height=\"266.4\"/>\n",
       "  </clipPath>\n",
       " </defs>\n",
       "</svg>\n"
      ],
      "text/plain": [
       "<Figure size 576x288 with 2 Axes>"
      ]
     },
     "metadata": {
      "needs_background": "light"
     },
     "output_type": "display_data"
    }
   ],
   "source": [
    "cyl = ps.tools.extract_cylinder(im=im, r=40, axis=2)\n",
    "\n",
    "fig, ax = plt.subplots(1, 2, figsize=[8, 4]);\n",
    "ax[0].imshow(im[..., 50]);\n",
    "ax[0].axis(False)\n",
    "ax[1].imshow(cyl[..., 50]);\n",
    "ax[1].axis(False);"
   ]
  }
 ],
 "metadata": {
  "kernelspec": {
   "display_name": "Python 3 (ipykernel)",
   "language": "python",
   "name": "python3"
  },
  "language_info": {
   "codemirror_mode": {
    "name": "ipython",
    "version": 3
   },
   "file_extension": ".py",
   "mimetype": "text/x-python",
   "name": "python",
   "nbconvert_exporter": "python",
   "pygments_lexer": "ipython3",
   "version": "3.8.13"
  }
 },
 "nbformat": 4,
 "nbformat_minor": 5
}
