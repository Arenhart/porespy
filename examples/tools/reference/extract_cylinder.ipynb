{
 "cells": [
  {
   "cell_type": "markdown",
   "id": "central-afghanistan",
   "metadata": {},
   "source": [
    "# `extract_cylinder`"
   ]
  },
  {
   "cell_type": "markdown",
   "id": "after-error",
   "metadata": {},
   "source": [
    "## Import Packages"
   ]
  },
  {
   "cell_type": "code",
   "execution_count": 1,
   "id": "educational-creator",
   "metadata": {
    "execution": {
     "iopub.execute_input": "2022-06-22T19:36:28.458598Z",
     "iopub.status.busy": "2022-06-22T19:36:28.458265Z",
     "iopub.status.idle": "2022-06-22T19:36:30.518116Z",
     "shell.execute_reply": "2022-06-22T19:36:30.517298Z"
    }
   },
   "outputs": [],
   "source": [
    "import numpy as np\n",
    "import porespy as ps\n",
    "import scipy.ndimage as spim\n",
    "import matplotlib.pyplot as plt\n",
    "import skimage\n",
    "ps.visualization.set_mpl_style()"
   ]
  },
  {
   "cell_type": "markdown",
   "id": "irish-pixel",
   "metadata": {},
   "source": [
    "## Generate Image for Testing"
   ]
  },
  {
   "cell_type": "code",
   "execution_count": 2,
   "id": "surgical-playback",
   "metadata": {
    "execution": {
     "iopub.execute_input": "2022-06-22T19:36:30.522553Z",
     "iopub.status.busy": "2022-06-22T19:36:30.521738Z",
     "iopub.status.idle": "2022-06-22T19:36:30.611350Z",
     "shell.execute_reply": "2022-06-22T19:36:30.610562Z"
    }
   },
   "outputs": [],
   "source": [
    "im = ps.generators.blobs([100, 100, 100])"
   ]
  },
  {
   "cell_type": "markdown",
   "id": "engaged-aluminum",
   "metadata": {},
   "source": [
    "## Apply tool and visualize\n",
    "This tool is useful for extracting a cylindrical core from an otherwise cubic image.  This might be helpful if a cylindrical domain is needed, or to test a workflow on a tomogram that has has not been cropped yet."
   ]
  },
  {
   "cell_type": "code",
   "execution_count": 3,
   "id": "fancy-instruction",
   "metadata": {
    "execution": {
     "iopub.execute_input": "2022-06-22T19:36:30.616266Z",
     "iopub.status.busy": "2022-06-22T19:36:30.615786Z",
     "iopub.status.idle": "2022-06-22T19:36:30.702767Z",
     "shell.execute_reply": "2022-06-22T19:36:30.702091Z"
    }
   },
   "outputs": [
    {
     "data": {
      "image/svg+xml": [
       "<?xml version=\"1.0\" encoding=\"utf-8\" standalone=\"no\"?>\n",
       "<!DOCTYPE svg PUBLIC \"-//W3C//DTD SVG 1.1//EN\"\n",
       "  \"http://www.w3.org/Graphics/SVG/1.1/DTD/svg11.dtd\">\n",
       "<svg xmlns:xlink=\"http://www.w3.org/1999/xlink\" width=\"563.4pt\" height=\"280.8pt\" viewBox=\"0 0 563.4 280.8\" xmlns=\"http://www.w3.org/2000/svg\" version=\"1.1\">\n",
       " <metadata>\n",
       "  <rdf:RDF xmlns:dc=\"http://purl.org/dc/elements/1.1/\" xmlns:cc=\"http://creativecommons.org/ns#\" xmlns:rdf=\"http://www.w3.org/1999/02/22-rdf-syntax-ns#\">\n",
       "   <cc:Work>\n",
       "    <dc:type rdf:resource=\"http://purl.org/dc/dcmitype/StillImage\"/>\n",
       "    <dc:date>2022-06-22T19:36:30.688517</dc:date>\n",
       "    <dc:format>image/svg+xml</dc:format>\n",
       "    <dc:creator>\n",
       "     <cc:Agent>\n",
       "      <dc:title>Matplotlib v3.5.2, https://matplotlib.org/</dc:title>\n",
       "     </cc:Agent>\n",
       "    </dc:creator>\n",
       "   </cc:Work>\n",
       "  </rdf:RDF>\n",
       " </metadata>\n",
       " <defs>\n",
       "  <style type=\"text/css\">*{stroke-linejoin: round; stroke-linecap: butt}</style>\n",
       " </defs>\n",
       " <g id=\"figure_1\">\n",
       "  <g id=\"patch_1\">\n",
       "   <path d=\"M 0 280.8 \n",
       "L 563.4 280.8 \n",
       "L 563.4 0 \n",
       "L 0 0 \n",
       "L 0 280.8 \n",
       "z\n",
       "\" style=\"fill: none\"/>\n",
       "  </g>\n",
       "  <g id=\"axes_1\">\n",
       "   <g clip-path=\"url(#p04d6239702)\">\n",
       "    <image xlink:href=\"data:image/png;base64,\n",
       "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\" id=\"image9f2227bad6\" transform=\"matrix(2.67 0 0 2.67 7.2 6.6)\" style=\"image-rendering:crisp-edges;image-rendering:pixelated\" width=\"100\" height=\"100\"/>\n",
       "   </g>\n",
       "  </g>\n",
       "  <g id=\"axes_2\">\n",
       "   <g clip-path=\"url(#p2848417102)\">\n",
       "    <image xlink:href=\"data:image/png;base64,\n",
       "iVBORw0KGgoAAAANSUhEUgAAAGQAAABkCAYAAABw4pVUAAAEJklEQVR4nO2d640bMQyE18FV4SpcRAA3cM26C1fhNpJfCygbrSQ+hhzt6QOCAy62lsvRixKlu/2+ff/ZFjT8yjZg8S9LEDKWIGQsQchYgpCxBCFjCULGEoSMJQgZSxAyvrINGOX1ef/3u+f9EW4HmilaSE2M1u9nZgpBWlxNFApBXp/35RyrJXUMOYrw+rxTx4XSniw7bhn7Ib3WcOYMr4G95vgzm6KFCRdktGvqOaLWmkZquKZrjBQldAzxHCdaYng/K3J8CxFEM2iPfr5VNlIkFCGD+vP+mMIZvVYXAcW0twZDFP68P6qDPlKoMEEkDkZ91krZPaJEoWsh3g62OrD1PYQooYL0nI2q7QgxrGWfEd5CzpyuFYNhsuBpQ8rSCcOA3SNLaLoxRAIy0JTiZcu0gjB0VUc8bHIRxGv5XBKde+IZEFptM48htYBptPnXjO+VIXnhsgxU9+ZdOUyrvS1jPGpdTRTrarF1RXjUJu2YRJ3kUC6xa1uG5P/Kz0w3y4oyWDo+oafU6HFOLYj0xdGOKhcCZ8Y0y2JwAEoIjxUFTSsxT3trBnovj0iejSTivWjWstg4zsai7HYRJMPJUc8cfY6XPZAWgpqB7TWVZSY18h1pWeFdllasqBaRvUYGE6S1LCIlQgyWdFY3Qc6WFMp/XuUen2EFLYSkfOrl91ExGGo39aDuAcv0WLpsY7XbVRCvGRDT/rrGFosPIC2knJ5G1/TsrmtH+94hXRZr4luPDFsoMxejYbKNKlFu2/L21Y9kiUQ5y+qlb7KMEz00ooq2cLPP4Glbjya4lJbhBe0Wrudhmxmi+R1TlxUlSi8LZGSKnXX5gLRlueRlSQdrSXqPNCVn1IZIJHaGpAGNOEKTx5V9rh1BeGDIsg+eVU6PsES5rMM4Xt1UVGukjEN+MiJBPG9HmI3LdVkS2AS2zOak371Ul+W93K8pzxrQUrYQKZGppGd4tWqxIOhUfU3M4o1n/m54pB4NSyCIqpQqQVicUsPqqOx3M7UQ61EuqfOicrQyo3u1IL3FwKvHLKixFHboE0WE0B4zLOqsEzTeFUPTlVJkLjJv42aw+4MuUS4SZoE0QM4YokHf6mYpmyK3N3vufiXcIvXeNNBzmshymgphR9g1seXPbRvPe8rKjxoBkafmKoikFZR3mFjvJsmG+pw625UbGjKz9WGX8UvvztKW74VmBQDxbrA4hLHm1+hF2VHXhOxAA0PU6mx0MHh8D2RlS9mgmkWIGuiWT/EHXTwP8mhg6l6n2ML1ulGutYfDIgrF9UxREXxrAGfoDrctabUXcVxaGjuwtIgjqcvv2Y7RHIFAQ7EfwiBKduXYoRCkB3oWxiDEzhSzrFHORGFyeI9pBJnJqRam6LJ+EksQMpYgZCxByFiCkLEEIWMJQsYShIwlCBl/AR5FQ9mPvfJEAAAAAElFTkSuQmCC\" id=\"imagee45595d942\" transform=\"matrix(2.67 0 0 2.67 289.8 6.6)\" style=\"image-rendering:crisp-edges;image-rendering:pixelated\" width=\"100\" height=\"100\"/>\n",
       "   </g>\n",
       "  </g>\n",
       " </g>\n",
       " <defs>\n",
       "  <clipPath id=\"p04d6239702\">\n",
       "   <rect x=\"7.2\" y=\"7.2\" width=\"266.4\" height=\"266.4\"/>\n",
       "  </clipPath>\n",
       "  <clipPath id=\"p2848417102\">\n",
       "   <rect x=\"289.8\" y=\"7.2\" width=\"266.4\" height=\"266.4\"/>\n",
       "  </clipPath>\n",
       " </defs>\n",
       "</svg>\n"
      ],
      "text/plain": [
       "<Figure size 576x288 with 2 Axes>"
      ]
     },
     "metadata": {
      "needs_background": "light"
     },
     "output_type": "display_data"
    }
   ],
   "source": [
    "cyl = ps.tools.extract_cylinder(im=im, r=40, axis=2)\n",
    "\n",
    "fig, ax = plt.subplots(1, 2, figsize=[8, 4]);\n",
    "ax[0].imshow(im[..., 50]);\n",
    "ax[0].axis(False)\n",
    "ax[1].imshow(cyl[..., 50]);\n",
    "ax[1].axis(False);"
   ]
  }
 ],
 "metadata": {
  "kernelspec": {
   "display_name": "Python 3 (ipykernel)",
   "language": "python",
   "name": "python3"
  },
  "language_info": {
   "codemirror_mode": {
    "name": "ipython",
    "version": 3
   },
   "file_extension": ".py",
   "mimetype": "text/x-python",
   "name": "python",
   "nbconvert_exporter": "python",
   "pygments_lexer": "ipython3",
   "version": "3.8.13"
  }
 },
 "nbformat": 4,
 "nbformat_minor": 5
}
