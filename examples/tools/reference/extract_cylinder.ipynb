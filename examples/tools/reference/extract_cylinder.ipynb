{
 "cells": [
  {
   "cell_type": "markdown",
   "id": "central-afghanistan",
   "metadata": {},
   "source": [
    "# extract_cylinder"
   ]
  },
  {
   "cell_type": "markdown",
   "id": "after-error",
   "metadata": {},
   "source": [
    "## Import Packages"
   ]
  },
  {
   "cell_type": "code",
   "execution_count": 1,
   "id": "educational-creator",
   "metadata": {
    "execution": {
     "iopub.execute_input": "2022-03-30T14:10:50.852012Z",
     "iopub.status.busy": "2022-03-30T14:10:50.851431Z",
     "iopub.status.idle": "2022-03-30T14:10:52.977030Z",
     "shell.execute_reply": "2022-03-30T14:10:52.976188Z"
    }
   },
   "outputs": [],
   "source": [
    "import numpy as np\n",
    "import porespy as ps\n",
    "import scipy.ndimage as spim\n",
    "import matplotlib.pyplot as plt\n",
    "import skimage\n",
    "ps.visualization.set_mpl_style()"
   ]
  },
  {
   "cell_type": "markdown",
   "id": "irish-pixel",
   "metadata": {},
   "source": [
    "## Generate Image for Testing"
   ]
  },
  {
   "cell_type": "code",
   "execution_count": 2,
   "id": "surgical-playback",
   "metadata": {
    "execution": {
     "iopub.execute_input": "2022-03-30T14:10:52.981627Z",
     "iopub.status.busy": "2022-03-30T14:10:52.981416Z",
     "iopub.status.idle": "2022-03-30T14:10:53.075892Z",
     "shell.execute_reply": "2022-03-30T14:10:53.074888Z"
    }
   },
   "outputs": [],
   "source": [
    "im = ps.generators.blobs([100, 100, 100])"
   ]
  },
  {
   "cell_type": "markdown",
   "id": "engaged-aluminum",
   "metadata": {},
   "source": [
    "## Apply tool and visualize\n",
    "This tool is useful for extracting a cylindrical core from an otherwise cubic image.  This might be helpful if a cylindrical domain is needed, or to test a workflow on a tomogram that has has not been cropped yet."
   ]
  },
  {
   "cell_type": "code",
   "execution_count": 3,
   "id": "fancy-instruction",
   "metadata": {
    "execution": {
     "iopub.execute_input": "2022-03-30T14:10:53.080077Z",
     "iopub.status.busy": "2022-03-30T14:10:53.079866Z",
     "iopub.status.idle": "2022-03-30T14:10:53.170555Z",
     "shell.execute_reply": "2022-03-30T14:10:53.169965Z"
    }
   },
   "outputs": [
    {
     "data": {
      "image/svg+xml": [
       "<?xml version=\"1.0\" encoding=\"utf-8\" standalone=\"no\"?>\n",
       "<!DOCTYPE svg PUBLIC \"-//W3C//DTD SVG 1.1//EN\"\n",
       "  \"http://www.w3.org/Graphics/SVG/1.1/DTD/svg11.dtd\">\n",
       "<svg xmlns:xlink=\"http://www.w3.org/1999/xlink\" width=\"558pt\" height=\"276.48pt\" viewBox=\"0 0 558 276.48\" xmlns=\"http://www.w3.org/2000/svg\" version=\"1.1\">\n",
       " <metadata>\n",
       "  <rdf:RDF xmlns:dc=\"http://purl.org/dc/elements/1.1/\" xmlns:cc=\"http://creativecommons.org/ns#\" xmlns:rdf=\"http://www.w3.org/1999/02/22-rdf-syntax-ns#\">\n",
       "   <cc:Work>\n",
       "    <dc:type rdf:resource=\"http://purl.org/dc/dcmitype/StillImage\"/>\n",
       "    <dc:date>2022-03-30T14:10:53.155278</dc:date>\n",
       "    <dc:format>image/svg+xml</dc:format>\n",
       "    <dc:creator>\n",
       "     <cc:Agent>\n",
       "      <dc:title>Matplotlib v3.5.1, https://matplotlib.org/</dc:title>\n",
       "     </cc:Agent>\n",
       "    </dc:creator>\n",
       "   </cc:Work>\n",
       "  </rdf:RDF>\n",
       " </metadata>\n",
       " <defs>\n",
       "  <style type=\"text/css\">*{stroke-linejoin: round; stroke-linecap: butt}</style>\n",
       " </defs>\n",
       " <g id=\"figure_1\">\n",
       "  <g id=\"patch_1\">\n",
       "   <path d=\"M 0 276.48 \n",
       "L 558 276.48 \n",
       "L 558 0 \n",
       "L 0 0 \n",
       "L 0 276.48 \n",
       "z\n",
       "\" style=\"fill: none\"/>\n",
       "  </g>\n",
       "  <g id=\"axes_1\">\n",
       "   <g clip-path=\"url(#p6d955dbc00)\">\n",
       "    <image xlink:href=\"data:image/png;base64,\n",
       "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\" id=\"image22d7b5d7e9\" transform=\"matrix(2.63 0 0 2.63 7.2 6.28)\" style=\"image-rendering:crisp-edges;image-rendering:pixelated\" width=\"100\" height=\"100\"/>\n",
       "   </g>\n",
       "  </g>\n",
       "  <g id=\"axes_2\">\n",
       "   <g clip-path=\"url(#pf9d2d2248d)\">\n",
       "    <image xlink:href=\"data:image/png;base64,\n",
       "iVBORw0KGgoAAAANSUhEUgAAAGQAAABkCAYAAABw4pVUAAAEFElEQVR4nO2d2XHjQAxEqS1HoSgUxFYpASerLBSF0tj9opfL0hw4GmhSeFX+scUBOD0YzClffl++/ywFDb+yHSj+pwQhowQhowQhowQhowQhowQhowQhowQhowQh4yvbAQuP11P0+fv1BvHDk8MJIhWh9yyjQFSCjCrMIsbIHos4F4bV3l5Fo0UZ2YsmNak/Xk+RGBZmyxr5hOZwoyyNSOszkmezhDmcIFakgkaLkipIr3KQfTmzKCFJvTea0Q5FPeYgmopGJ334sHf/0u8qIXtkI+HxekL9hQtyv97CQr4XBeiK9CI8QhCgurleOShxqWbqErJbO0oUimFvr+Wu8wFN60ZHJ6J8CkFmkVRAVN7ytkPfZWm6hcylDysUEeLVF2ctd3jahEbIyNHsxPyO6NXlPeFdFkoEVMXNzqPWz1jfj6LLOhPWhlGCbPDMZVpggrScQnYtZyAlQhiHpS1Btb5qn4Mk9cgkKLHpWebWb0/bqv2QVmVaHLMIIx1ez+7BtMqV7K1I38sUIZ4tQ7JYJ7H7rsz1d9F5bgbTjiHC8Z4o6JOKs+VLIkrqgympa7uZ+/X287Mnq9VaxbCWu2IeZUkcbImwZ2bbd8ZWNB42XUZZiBFHdD/utdUcvnQSedqQjV7u8FppFgmyNagRJWp/3ZLbNH/zxDzsRSQ5yfzGu6KyD9FR7BiOKqHVv5+xe0xf7Z2tVMbKR3TB5gjZL6NYZ9FS2xFCSQ9XWHxyi5DsexUooo8fpXdZVpCNwHqfUfN8WlKPHs1I7xN6T3Bn3/fwETKDdCnm4660RUaH9NnsPEgxD9kTvW3KBF2XpR3VeImRPd+hEySC7Erv8ZGCMEORQ7ZDw9kZ/8znWCJB4ke6IKPTGppbuixCLAv41InXrppk5Va6RcyExh9xhLxruZY74NZK9BZBul9Dsx8ys4exMrpDKD36kxkJaNvh3+TQQtvqMiJEgtQ/GkEsMJ8PXhaZf6eYhzDvxYSe7WXDkm9YBIVHSPaLZtuXQhUhqBuwWV88EzIPWfG4cMM0kfP6Pi0r7tcRPCvZs0K0fml90No7xSjrTKTcDzkSmusWFOeyEHgJHtFwvGyEXtjJwON0JNrGFpcIQYqCKJt5D96ty2KMlJFPVlEQ7+w+McyahG1B20eW7yqI146ixb7n57yfnQGy/O4ZJV7fkDBjIzuylwU07J09zDxKrhFizNiLJGVx0eMeOorsHEg9MUTTitCPO/2ezcw8JEsUqv0QNExdYwsKQdB7EUcQYoVCkHf0REJ9t9bIfgRpN6jWF9YeFZ2p6KOJsSzE/4Mqi2yfDj3K0kwqW1g3lrygzSERMAiw56MEYRRgD8X/wi3+cegcckZKEDJKEDJKEDJKEDJKEDJKEDJKEDJKEDL+AiFdRiONfRyKAAAAAElFTkSuQmCC\" id=\"image8e06741f7d\" transform=\"matrix(2.63 0 0 2.63 288.72 6.28)\" style=\"image-rendering:crisp-edges;image-rendering:pixelated\" width=\"100\" height=\"100\"/>\n",
       "   </g>\n",
       "  </g>\n",
       " </g>\n",
       " <defs>\n",
       "  <clipPath id=\"p6d955dbc00\">\n",
       "   <rect x=\"7.2\" y=\"7.2\" width=\"262.08\" height=\"262.08\"/>\n",
       "  </clipPath>\n",
       "  <clipPath id=\"pf9d2d2248d\">\n",
       "   <rect x=\"288.72\" y=\"7.2\" width=\"262.08\" height=\"262.08\"/>\n",
       "  </clipPath>\n",
       " </defs>\n",
       "</svg>\n"
      ],
      "text/plain": [
       "<Figure size 576x288 with 2 Axes>"
      ]
     },
     "metadata": {
      "needs_background": "light"
     },
     "output_type": "display_data"
    }
   ],
   "source": [
    "cyl = ps.tools.extract_cylinder(im=im, r=40, axis=2)\n",
    "\n",
    "fig, ax = plt.subplots(1, 2, figsize=[8, 4]);\n",
    "ax[0].imshow(im[..., 50]);\n",
    "ax[0].axis(False)\n",
    "ax[1].imshow(cyl[..., 50]);\n",
    "ax[1].axis(False);"
   ]
  }
 ],
 "metadata": {
  "kernelspec": {
   "display_name": "Python 3",
   "language": "python",
   "name": "python3"
  },
  "language_info": {
   "codemirror_mode": {
    "name": "ipython",
    "version": 3
   },
   "file_extension": ".py",
   "mimetype": "text/x-python",
   "name": "python",
   "nbconvert_exporter": "python",
   "pygments_lexer": "ipython3",
   "version": "3.8.13"
  }
 },
 "nbformat": 4,
 "nbformat_minor": 5
}
