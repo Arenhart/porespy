{
 "cells": [
  {
   "cell_type": "markdown",
   "id": "central-afghanistan",
   "metadata": {},
   "source": [
    "# extract_cylinder"
   ]
  },
  {
   "cell_type": "markdown",
   "id": "after-error",
   "metadata": {},
   "source": [
    "## Import Packages"
   ]
  },
  {
   "cell_type": "code",
   "execution_count": 1,
   "id": "educational-creator",
   "metadata": {
    "execution": {
     "iopub.execute_input": "2022-03-29T23:56:25.810438Z",
     "iopub.status.busy": "2022-03-29T23:56:25.809976Z",
     "iopub.status.idle": "2022-03-29T23:56:27.624606Z",
     "shell.execute_reply": "2022-03-29T23:56:27.623308Z"
    }
   },
   "outputs": [],
   "source": [
    "import numpy as np\n",
    "import porespy as ps\n",
    "import scipy.ndimage as spim\n",
    "import matplotlib.pyplot as plt\n",
    "import skimage\n",
    "ps.visualization.set_mpl_style()"
   ]
  },
  {
   "cell_type": "markdown",
   "id": "irish-pixel",
   "metadata": {},
   "source": [
    "## Generate Image for Testing"
   ]
  },
  {
   "cell_type": "code",
   "execution_count": 2,
   "id": "surgical-playback",
   "metadata": {
    "execution": {
     "iopub.execute_input": "2022-03-29T23:56:27.627847Z",
     "iopub.status.busy": "2022-03-29T23:56:27.627532Z",
     "iopub.status.idle": "2022-03-29T23:56:27.706340Z",
     "shell.execute_reply": "2022-03-29T23:56:27.705735Z"
    }
   },
   "outputs": [],
   "source": [
    "im = ps.generators.blobs([100, 100, 100])"
   ]
  },
  {
   "cell_type": "markdown",
   "id": "engaged-aluminum",
   "metadata": {},
   "source": [
    "## Apply tool and visualize\n",
    "This tool is useful for extracting a cylindrical core from an otherwise cubic image.  This might be helpful if a cylindrical domain is needed, or to test a workflow on a tomogram that has has not been cropped yet."
   ]
  },
  {
   "cell_type": "code",
   "execution_count": 3,
   "id": "fancy-instruction",
   "metadata": {
    "execution": {
     "iopub.execute_input": "2022-03-29T23:56:27.709558Z",
     "iopub.status.busy": "2022-03-29T23:56:27.709252Z",
     "iopub.status.idle": "2022-03-29T23:56:27.785421Z",
     "shell.execute_reply": "2022-03-29T23:56:27.785033Z"
    }
   },
   "outputs": [
    {
     "data": {
      "image/svg+xml": [
       "<?xml version=\"1.0\" encoding=\"utf-8\" standalone=\"no\"?>\n",
       "<!DOCTYPE svg PUBLIC \"-//W3C//DTD SVG 1.1//EN\"\n",
       "  \"http://www.w3.org/Graphics/SVG/1.1/DTD/svg11.dtd\">\n",
       "<svg xmlns:xlink=\"http://www.w3.org/1999/xlink\" width=\"558pt\" height=\"276.48pt\" viewBox=\"0 0 558 276.48\" xmlns=\"http://www.w3.org/2000/svg\" version=\"1.1\">\n",
       " <metadata>\n",
       "  <rdf:RDF xmlns:dc=\"http://purl.org/dc/elements/1.1/\" xmlns:cc=\"http://creativecommons.org/ns#\" xmlns:rdf=\"http://www.w3.org/1999/02/22-rdf-syntax-ns#\">\n",
       "   <cc:Work>\n",
       "    <dc:type rdf:resource=\"http://purl.org/dc/dcmitype/StillImage\"/>\n",
       "    <dc:date>2022-03-29T23:56:27.773942</dc:date>\n",
       "    <dc:format>image/svg+xml</dc:format>\n",
       "    <dc:creator>\n",
       "     <cc:Agent>\n",
       "      <dc:title>Matplotlib v3.5.1, https://matplotlib.org/</dc:title>\n",
       "     </cc:Agent>\n",
       "    </dc:creator>\n",
       "   </cc:Work>\n",
       "  </rdf:RDF>\n",
       " </metadata>\n",
       " <defs>\n",
       "  <style type=\"text/css\">*{stroke-linejoin: round; stroke-linecap: butt}</style>\n",
       " </defs>\n",
       " <g id=\"figure_1\">\n",
       "  <g id=\"patch_1\">\n",
       "   <path d=\"M 0 276.48 \n",
       "L 558 276.48 \n",
       "L 558 0 \n",
       "L 0 0 \n",
       "L 0 276.48 \n",
       "z\n",
       "\" style=\"fill: none\"/>\n",
       "  </g>\n",
       "  <g id=\"axes_1\">\n",
       "   <g clip-path=\"url(#p11edacf0ef)\">\n",
       "    <image xlink:href=\"data:image/png;base64,\n",
       "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\" id=\"image38b1da89a6\" transform=\"matrix(2.63 0 0 2.63 7.2 6.28)\" style=\"image-rendering:crisp-edges;image-rendering:pixelated\" width=\"100\" height=\"100\"/>\n",
       "   </g>\n",
       "  </g>\n",
       "  <g id=\"axes_2\">\n",
       "   <g clip-path=\"url(#pbedf3b5321)\">\n",
       "    <image xlink:href=\"data:image/png;base64,\n",
       "iVBORw0KGgoAAAANSUhEUgAAAGQAAABkCAYAAABw4pVUAAAEDUlEQVR4nO2d3XErIQyF8Z1bRapIEXcmDdxm3YWrcBvJk2fIDiwIHUmHtb63xPHCcpDEjyC3f7f/3yWh4U90BZLfpCBkpCBkpCBkpCBkpCBkpCBkpCBkpCBkpCBk/I2ugJT789H8/dfHp2s9rKAV5Njwrwb/+vjsfjZ61g6i0bms+/MxbPD65x0aWcKNcbW3FuRqDT4i1EJa1lDKb/f0boTEkF5grnlHMUoJEKQlhjRIe3J/Plzr4+qyZizD4u+0eJVTipMgvVgx+s7M556ieJRlLojFSxyf6dmDrcuim4fUnI3Cjn79KqK4zUPOhrfMo66zulnUKcxCJC/DNOqqsbAUapfFQMs91qBFcRPkbP3p7IVZrMNLFBoLYWn4aNwEWelFO4mEshKq/ZB61OUlBmrZBlVftSAzjSftPR5i9Oq0svSPrC+VhbDhOdl8oZoYMmwknU04Jd9ZBf3eUAtZaRx0eZ5QzdRnF/isGu2q2Sc08xAJGpFRHcTKLS4Jgt7bQD1rNJv2EqMuU4rrxDDK50fHGgnuLksrTK93ssWO0aJkD7EgrL2tlzzBWt8ephbi3WvrfXZLIc5GlNpyxYJIG7lluhqhZpMfrLHa11+eqc9WwMJK2N2Q5p3N17K8kuBaWfFeSHIDRphbSAvr2OIpDPpdtpypj2AbAksIEYQ9BkQijiEzK7rv1ODo3U2ToD4T5EbHzDSruYgOETVIEAsiqejM364sVHrFiAhRlmLIlc/4vYg6KGqa22vVuzwzCevyPPJ8M8lhAk+3ZWYhEdZxhkejIqzEZB7CJob2u57Ph7ssTVKcdeICcs2p9VwEVDHEczhbCm6+giR0LSt6yLy6zWrJJRcXpUQnWNdABZG4gJWX2XGPXAoshkSfgtX21sgNrhqIhUQcNzj6f4bGRACZGFq7qtnyewJJyow+y6IWJFqMGtRa06q1Id5vKYawugdUHFidpyBi2+WGvUgrjJinUM3UUf77aCk7jcCWBLGoIPP60ut5M2tt2o4QcpMD4/NWoTljONtjLGARo8WrXVbrCI8hmnUh76uQtFicVVEJYh3sGEWwhnbYy57/a1U/tcs6Wsmq/4w41zGq63Y3OdRIjh1EnC2ZjU/R1w3CXJbFUWFUD53NnmRYEjKJIdJ8XQZY6gYd9qKFyFGWAVcUw9KaaIe974qpICzWcfY8tlSgS10coEFS1y2GvT1WLhpgxrp+LjFk1i1Y3UGF2tb16Czu/xQMdUciciLKtNLsPsqS3nvicXscixilBA17EeZvfQlN1OgrNMnB+4Vb5XndxTLL1hNDZJIey3yEKg0IBVM2pRTKf73agvn2ISTbWMhOjaph6xhyRVIQMlIQMlIQMlIQMlIQMlIQMlIQMlIQMn4Ayt9AnRHWP1EAAAAASUVORK5CYII=\" id=\"image9891992066\" transform=\"matrix(2.63 0 0 2.63 288.72 6.28)\" style=\"image-rendering:crisp-edges;image-rendering:pixelated\" width=\"100\" height=\"100\"/>\n",
       "   </g>\n",
       "  </g>\n",
       " </g>\n",
       " <defs>\n",
       "  <clipPath id=\"p11edacf0ef\">\n",
       "   <rect x=\"7.2\" y=\"7.2\" width=\"262.08\" height=\"262.08\"/>\n",
       "  </clipPath>\n",
       "  <clipPath id=\"pbedf3b5321\">\n",
       "   <rect x=\"288.72\" y=\"7.2\" width=\"262.08\" height=\"262.08\"/>\n",
       "  </clipPath>\n",
       " </defs>\n",
       "</svg>\n"
      ],
      "text/plain": [
       "<Figure size 576x288 with 2 Axes>"
      ]
     },
     "metadata": {
      "needs_background": "light"
     },
     "output_type": "display_data"
    }
   ],
   "source": [
    "cyl = ps.tools.extract_cylinder(im=im, r=40, axis=2)\n",
    "\n",
    "fig, ax = plt.subplots(1, 2, figsize=[8, 4]);\n",
    "ax[0].imshow(im[..., 50]);\n",
    "ax[0].axis(False)\n",
    "ax[1].imshow(cyl[..., 50]);\n",
    "ax[1].axis(False);"
   ]
  }
 ],
 "metadata": {
  "kernelspec": {
   "display_name": "Python 3",
   "language": "python",
   "name": "python3"
  },
  "language_info": {
   "codemirror_mode": {
    "name": "ipython",
    "version": 3
   },
   "file_extension": ".py",
   "mimetype": "text/x-python",
   "name": "python",
   "nbconvert_exporter": "python",
   "pygments_lexer": "ipython3",
   "version": "3.8.13"
  }
 },
 "nbformat": 4,
 "nbformat_minor": 5
}
