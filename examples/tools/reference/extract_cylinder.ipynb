{
 "cells": [
  {
   "cell_type": "markdown",
   "id": "central-afghanistan",
   "metadata": {},
   "source": [
    "# extract_cylinder"
   ]
  },
  {
   "cell_type": "markdown",
   "id": "after-error",
   "metadata": {},
   "source": [
    "## Import Packages"
   ]
  },
  {
   "cell_type": "code",
   "execution_count": 1,
   "id": "educational-creator",
   "metadata": {
    "execution": {
     "iopub.execute_input": "2022-04-01T17:07:46.585469Z",
     "iopub.status.busy": "2022-04-01T17:07:46.584915Z",
     "iopub.status.idle": "2022-04-01T17:07:48.835550Z",
     "shell.execute_reply": "2022-04-01T17:07:48.834870Z"
    }
   },
   "outputs": [],
   "source": [
    "import numpy as np\n",
    "import porespy as ps\n",
    "import scipy.ndimage as spim\n",
    "import matplotlib.pyplot as plt\n",
    "import skimage\n",
    "ps.visualization.set_mpl_style()"
   ]
  },
  {
   "cell_type": "markdown",
   "id": "irish-pixel",
   "metadata": {},
   "source": [
    "## Generate Image for Testing"
   ]
  },
  {
   "cell_type": "code",
   "execution_count": 2,
   "id": "surgical-playback",
   "metadata": {
    "execution": {
     "iopub.execute_input": "2022-04-01T17:07:48.839687Z",
     "iopub.status.busy": "2022-04-01T17:07:48.839228Z",
     "iopub.status.idle": "2022-04-01T17:07:48.931342Z",
     "shell.execute_reply": "2022-04-01T17:07:48.930562Z"
    }
   },
   "outputs": [],
   "source": [
    "im = ps.generators.blobs([100, 100, 100])"
   ]
  },
  {
   "cell_type": "markdown",
   "id": "engaged-aluminum",
   "metadata": {},
   "source": [
    "## Apply tool and visualize\n",
    "This tool is useful for extracting a cylindrical core from an otherwise cubic image.  This might be helpful if a cylindrical domain is needed, or to test a workflow on a tomogram that has has not been cropped yet."
   ]
  },
  {
   "cell_type": "code",
   "execution_count": 3,
   "id": "fancy-instruction",
   "metadata": {
    "execution": {
     "iopub.execute_input": "2022-04-01T17:07:48.934888Z",
     "iopub.status.busy": "2022-04-01T17:07:48.934495Z",
     "iopub.status.idle": "2022-04-01T17:07:49.025607Z",
     "shell.execute_reply": "2022-04-01T17:07:49.024810Z"
    }
   },
   "outputs": [
    {
     "data": {
      "image/svg+xml": [
       "<?xml version=\"1.0\" encoding=\"utf-8\" standalone=\"no\"?>\n",
       "<!DOCTYPE svg PUBLIC \"-//W3C//DTD SVG 1.1//EN\"\n",
       "  \"http://www.w3.org/Graphics/SVG/1.1/DTD/svg11.dtd\">\n",
       "<svg xmlns:xlink=\"http://www.w3.org/1999/xlink\" width=\"558pt\" height=\"276.48pt\" viewBox=\"0 0 558 276.48\" xmlns=\"http://www.w3.org/2000/svg\" version=\"1.1\">\n",
       " <metadata>\n",
       "  <rdf:RDF xmlns:dc=\"http://purl.org/dc/elements/1.1/\" xmlns:cc=\"http://creativecommons.org/ns#\" xmlns:rdf=\"http://www.w3.org/1999/02/22-rdf-syntax-ns#\">\n",
       "   <cc:Work>\n",
       "    <dc:type rdf:resource=\"http://purl.org/dc/dcmitype/StillImage\"/>\n",
       "    <dc:date>2022-04-01T17:07:49.010843</dc:date>\n",
       "    <dc:format>image/svg+xml</dc:format>\n",
       "    <dc:creator>\n",
       "     <cc:Agent>\n",
       "      <dc:title>Matplotlib v3.5.1, https://matplotlib.org/</dc:title>\n",
       "     </cc:Agent>\n",
       "    </dc:creator>\n",
       "   </cc:Work>\n",
       "  </rdf:RDF>\n",
       " </metadata>\n",
       " <defs>\n",
       "  <style type=\"text/css\">*{stroke-linejoin: round; stroke-linecap: butt}</style>\n",
       " </defs>\n",
       " <g id=\"figure_1\">\n",
       "  <g id=\"patch_1\">\n",
       "   <path d=\"M 0 276.48 \n",
       "L 558 276.48 \n",
       "L 558 0 \n",
       "L 0 0 \n",
       "L 0 276.48 \n",
       "z\n",
       "\" style=\"fill: none\"/>\n",
       "  </g>\n",
       "  <g id=\"axes_1\">\n",
       "   <g clip-path=\"url(#p10860f96c4)\">\n",
       "    <image xlink:href=\"data:image/png;base64,\n",
       "iVBORw0KGgoAAAANSUhEUgAAAGQAAABkCAYAAABw4pVUAAAFvklEQVR4nO1d200sMQydWW0VfFMARSDRAM3SBVVAFYj7ldHsrJP4cfyYvRwJ6T4mjhPHjmM7YX1d33+XHT6+Prc/vz29LBT230Sgx4cUM745/XDGfqQj6fcypf6HDRphSCEWSLR2ZPV57N/Cg0RIdwJBmQcO3p5etp8KoCYdtRi4Y7xaGleGdiI/vj7dxv/29NIVeutTZLK8TAearpXe0bFBCmjmKKVv6tn7AwVq0rjmlbPfjITCFgh64jzNorfJRbnHFNgC8VJbDt2Ke5pVKL324SZLOrlaYViEyF3dHgslVCC9AUj/XdJfRe1qoHgj3d4K8PZsqjgTR97SvayG6JVcVXtEAonwXqInqkoAtaGMhmTCsgA45xIJxAKJ8F7OhplmS8at2tQrb5LZaHNznI/299mChpkslO23hrq1QIREJPR6WI8ZQwQ0sRyqTbQXhD4Q9uiN2l8zJoI7cK6aI1DF5K4/38+khlTcvCn7jDKTsz6RtEc0yT2kojAa7eiVbO1POpfm0EkVVdcigv+9Zs8EdCMQ62aVAc+UKxocPq/VBqM541BCQQpKS0vjMJUqA0KF4RuPWWeaPQ9SwMPvvZMqt50Wo/7OZNZgVSfHk7rk5B6Rxo0qdLOCJZCZ6ntGS1H9LIvOhEWnkE8Xfkev1hG9yL4aUlO4ltU3Oq1rvDIUb1YaLA2JMklSur19ylLZkp3a3YKLkhVT4WBoCTwihOiFTUM8Y/1VBnsGqDd1qcZ4CaWCtiJxOi/riEdLJ29eljY8kYWMElMJtIk/UfX7/ofDAIfmI6I3Ls54WZt6RlLIEhjMciIQwcyphngLY0+fGhBSKJ6CQs3TjUBQk9HDqJCskoZS/aPNdQ93GmI1F1JYTsYzXrkXg6SLwXNuulUnGkhvFVnOMhIvppdR1PRhAWd+QgViCQju20lTAdkmb1n4ixV6MIzYBziRXGu/6ACjhBZUQyTQaoiEPjIZFeWClxDIWUzKsvhfCIUkqCJvIWlWPocmqn+rqWMLRJt3QE5e48FDKAhIvUyq7VQgVomjJu/Ih5Qu0vvSjInrjKhKSdHQCo3bblSAdzxYekSRJWPb3N6ql2OiwY1SIKIAFG68rMzg26ji0TJgyWFV034GqUBuTJY2qYJAC28g3WEE75YyVA3/rPC7x6bMbVOhQCLSvMIL5c6WVKrmQsMeMJNshpQL64HsidaMK/RKG9cziYbn6Vu6J5qivdkrEOkhjc4qKLCKrasF+TJRQWtvNOSRSkSr8jbjK/VlawtGQbrqYxjx2H3rhJNznn07a6dF5gHWC2RwsSo88w/VQHpZ0tz4aFKsJuR/EsayEIVyHPMzE8rodlMlVPQqN5MVHa9C5CAQ4AYPo/atS2SV4h77dGxljObHo7QpvHJRCs98RaNtLdJAVqyEFcpVBGqf0+67FE7h9p4BPW0zZQwbLPEtS4YNjQzHAX5hJypXwcXsjNOD912X1j96flgmq1pWbVl86nA5NLwXqNt7WShkxK0yY2WiMiDvkhlOf1oeEWWekjZaiDRkZLoiS2VGoHi0CMP6rRTrz/fzr3QyNQOe0ZAgQhN7fXG01lIUaH6V1CpMDWYn7GxwqzAp/sVvLlom1ONqghWe5kdzhAj7xZKogWeH9b3rDtiPYFZAtCAyBH+a55kq7RfaeJV7tBcZdkb0gwbKFZbwf4muGHkEeN59v1IdcBpGCSl7MXhfgz6CPKlTIfT9CVibO0fDGnOq4qzs0Q2d9IRSBdI8tyfvSNp/GUNHaBJkQy8r6yrbDMhDZjWEPPGHrFysaPc54PK9vq7vv1Gub9ZkWvM8lj6kZuvC/RCBDBNR0SyNcPOQ8hnNwWhlRgqD6k8zn3dvnZzp7oW2ImUP5CJE0HJ/DcgLGXua9rKSBHcC0Z7ItYgYJAXtdW7q/5D8dn8XbsT5oddHJa2M5iUsH/JIDoP2u/Dqdwlmg6ikJZH4B4Sw6iCxD2HNAAAAAElFTkSuQmCC\" id=\"image4499ade3cc\" transform=\"matrix(2.63 0 0 2.63 7.2 6.28)\" style=\"image-rendering:crisp-edges;image-rendering:pixelated\" width=\"100\" height=\"100\"/>\n",
       "   </g>\n",
       "  </g>\n",
       "  <g id=\"axes_2\">\n",
       "   <g clip-path=\"url(#pb3cbcd368e)\">\n",
       "    <image xlink:href=\"data:image/png;base64,\n",
       "iVBORw0KGgoAAAANSUhEUgAAAGQAAABkCAYAAABw4pVUAAAEPklEQVR4nO2c0W3kMAxEmcNVkSpSxAFp4JpNF1vFtnH35cAxbEkkh+Q44QPylbVFaUxKomi//Hn5+08aGn5VG9B8pQUhowUhowUhowUhowUhowUhowUhowUhowUhowUhowUhowURkY/no9qET1oQEXl/fZOP54NCmBbkQLUwLcgFVaLQCVL1hL6/vqW3ecbvzMa2gT7r/FGEj+ejfJD2NmXZ8pJxhOt94jMGY9XGaFvCPQQRfo6ehX5yRzZme2noHIKeCyrml+z2wgRhWNOvwGZniCCZnWQbUC9wQRAT+PHP0iZSqEzRoYJEraa0E+tmR/Wu2wJ8lXW2EtJcZ2XUHsOeZhWoh+w7vRpujtd5fjPC4ymZYpanTjSdRYiS7bla3IJkx2j0AI3uVxHmSj3E2uHjdYhVGco2Ly5BKjs2EkDbpnXuiyA124tklDmegRAxCrOHaOYOls7eAbMg+0GuDF132/jNKF/2elk57LoT5jmkutOoFVoU1jnO5CGoZF61qFF4+qUWJGMQtx21ta2qRcSZzdo+lM8he4MRHdrIXtqiHtTUfchWIXhk1pnqbO3RvqMtyKhR7iGenfEstB134KP7aP4XGbZVZUAzQ7R5JM9e5uz3V+2fediKiMiBX33oSgrlRGzxfBvYq4EahbbVwa1e+aUd4aI6ujLfeNtFJxg194J7SPUTttkw8qQrztL6+3ta0ApLke2NEBF9MqitFbB6GEQQb9zWtoW+r/YYObL0VCWI5eAnYqUSIQoCxLwTvg9BTY6j+L56vfaod9UWJOUbQ5H4zO2sAM+bO5vZorlvmSCMIUdkvVQIkQU4I2WVtZLDGq1iKsLLynlGROiiCFkiXwcAtTGLfpkn4to0QazVIQwFEpnhlWanXjXwbEtomIdoJkPvElZjUyWWfrk9xFqfxRCKNiJ33ylFDhvVTyDifGb22+wHhyK5yAKD17o8hKEDVzDbNuK2HrJyBHtH3Kss5Gtrq1zt5u8uhshNPITp0xfRQPYhs3yPZ9B+khgiwNres7eQ2Aesetl+hilkIdbsFd+iurLD+l7it8r27o9jmRmlhCI8zL1T95y2ecWIDjkr90fbQPWtk2xQ8xxNsTV7uMkE9aEbus8zIUEUL1ja9JC2U4+4v6a4IKpoD322A6tcZPrmCcIWS66MqlAuahmbtf5faTOjAgWay2IQw5MFtlyLjgzlycWIwunZO4FeOyz3XyXly9ZnRJVtWtAkMCPFECnwEOSEW70Pun0uq+IlyhlsdWRpHoIS4zt6xR6a2t4VssWoEJ+6thd5/V1I9ZDoF3PQVOTl0kPWT3nSrZRsDDWvGFdWxVdQulPXvvt9xJvnqsiTzShPnYjYhNGec88GulqIDQpBNvaDkjGhsoiwh0qQPZkZViZoBRnB+GSjuNVO/SfQgpDRgpDRgpDRgpDRgpDRgpDRgpDRgpDxHwE0WcigaYI2AAAAAElFTkSuQmCC\" id=\"image3c29c638f9\" transform=\"matrix(2.63 0 0 2.63 288.72 6.28)\" style=\"image-rendering:crisp-edges;image-rendering:pixelated\" width=\"100\" height=\"100\"/>\n",
       "   </g>\n",
       "  </g>\n",
       " </g>\n",
       " <defs>\n",
       "  <clipPath id=\"p10860f96c4\">\n",
       "   <rect x=\"7.2\" y=\"7.2\" width=\"262.08\" height=\"262.08\"/>\n",
       "  </clipPath>\n",
       "  <clipPath id=\"pb3cbcd368e\">\n",
       "   <rect x=\"288.72\" y=\"7.2\" width=\"262.08\" height=\"262.08\"/>\n",
       "  </clipPath>\n",
       " </defs>\n",
       "</svg>\n"
      ],
      "text/plain": [
       "<Figure size 576x288 with 2 Axes>"
      ]
     },
     "metadata": {
      "needs_background": "light"
     },
     "output_type": "display_data"
    }
   ],
   "source": [
    "cyl = ps.tools.extract_cylinder(im=im, r=40, axis=2)\n",
    "\n",
    "fig, ax = plt.subplots(1, 2, figsize=[8, 4]);\n",
    "ax[0].imshow(im[..., 50]);\n",
    "ax[0].axis(False)\n",
    "ax[1].imshow(cyl[..., 50]);\n",
    "ax[1].axis(False);"
   ]
  }
 ],
 "metadata": {
  "kernelspec": {
   "display_name": "Python 3",
   "language": "python",
   "name": "python3"
  },
  "language_info": {
   "codemirror_mode": {
    "name": "ipython",
    "version": 3
   },
   "file_extension": ".py",
   "mimetype": "text/x-python",
   "name": "python",
   "nbconvert_exporter": "python",
   "pygments_lexer": "ipython3",
   "version": "3.8.13"
  }
 },
 "nbformat": 4,
 "nbformat_minor": 5
}
