{
 "cells": [
  {
   "cell_type": "markdown",
   "id": "central-afghanistan",
   "metadata": {},
   "source": [
    "# `extract_cylinder`"
   ]
  },
  {
   "cell_type": "markdown",
   "id": "after-error",
   "metadata": {},
   "source": [
    "## Import Packages"
   ]
  },
  {
   "cell_type": "code",
   "execution_count": 1,
   "id": "educational-creator",
   "metadata": {
    "execution": {
     "iopub.execute_input": "2022-06-22T19:29:47.556386Z",
     "iopub.status.busy": "2022-06-22T19:29:47.555925Z",
     "iopub.status.idle": "2022-06-22T19:29:49.748831Z",
     "shell.execute_reply": "2022-06-22T19:29:49.747967Z"
    }
   },
   "outputs": [],
   "source": [
    "import numpy as np\n",
    "import porespy as ps\n",
    "import scipy.ndimage as spim\n",
    "import matplotlib.pyplot as plt\n",
    "import skimage\n",
    "ps.visualization.set_mpl_style()"
   ]
  },
  {
   "cell_type": "markdown",
   "id": "irish-pixel",
   "metadata": {},
   "source": [
    "## Generate Image for Testing"
   ]
  },
  {
   "cell_type": "code",
   "execution_count": 2,
   "id": "surgical-playback",
   "metadata": {
    "execution": {
     "iopub.execute_input": "2022-06-22T19:29:49.753407Z",
     "iopub.status.busy": "2022-06-22T19:29:49.752597Z",
     "iopub.status.idle": "2022-06-22T19:29:49.848894Z",
     "shell.execute_reply": "2022-06-22T19:29:49.848075Z"
    }
   },
   "outputs": [],
   "source": [
    "im = ps.generators.blobs([100, 100, 100])"
   ]
  },
  {
   "cell_type": "markdown",
   "id": "engaged-aluminum",
   "metadata": {},
   "source": [
    "## Apply tool and visualize\n",
    "This tool is useful for extracting a cylindrical core from an otherwise cubic image.  This might be helpful if a cylindrical domain is needed, or to test a workflow on a tomogram that has has not been cropped yet."
   ]
  },
  {
   "cell_type": "code",
   "execution_count": 3,
   "id": "fancy-instruction",
   "metadata": {
    "execution": {
     "iopub.execute_input": "2022-06-22T19:29:49.852857Z",
     "iopub.status.busy": "2022-06-22T19:29:49.852564Z",
     "iopub.status.idle": "2022-06-22T19:29:49.955522Z",
     "shell.execute_reply": "2022-06-22T19:29:49.954833Z"
    }
   },
   "outputs": [
    {
     "data": {
      "image/svg+xml": [
       "<?xml version=\"1.0\" encoding=\"utf-8\" standalone=\"no\"?>\n",
       "<!DOCTYPE svg PUBLIC \"-//W3C//DTD SVG 1.1//EN\"\n",
       "  \"http://www.w3.org/Graphics/SVG/1.1/DTD/svg11.dtd\">\n",
       "<svg xmlns:xlink=\"http://www.w3.org/1999/xlink\" width=\"563.4pt\" height=\"280.8pt\" viewBox=\"0 0 563.4 280.8\" xmlns=\"http://www.w3.org/2000/svg\" version=\"1.1\">\n",
       " <metadata>\n",
       "  <rdf:RDF xmlns:dc=\"http://purl.org/dc/elements/1.1/\" xmlns:cc=\"http://creativecommons.org/ns#\" xmlns:rdf=\"http://www.w3.org/1999/02/22-rdf-syntax-ns#\">\n",
       "   <cc:Work>\n",
       "    <dc:type rdf:resource=\"http://purl.org/dc/dcmitype/StillImage\"/>\n",
       "    <dc:date>2022-06-22T19:29:49.941677</dc:date>\n",
       "    <dc:format>image/svg+xml</dc:format>\n",
       "    <dc:creator>\n",
       "     <cc:Agent>\n",
       "      <dc:title>Matplotlib v3.5.2, https://matplotlib.org/</dc:title>\n",
       "     </cc:Agent>\n",
       "    </dc:creator>\n",
       "   </cc:Work>\n",
       "  </rdf:RDF>\n",
       " </metadata>\n",
       " <defs>\n",
       "  <style type=\"text/css\">*{stroke-linejoin: round; stroke-linecap: butt}</style>\n",
       " </defs>\n",
       " <g id=\"figure_1\">\n",
       "  <g id=\"patch_1\">\n",
       "   <path d=\"M 0 280.8 \n",
       "L 563.4 280.8 \n",
       "L 563.4 0 \n",
       "L 0 0 \n",
       "L 0 280.8 \n",
       "z\n",
       "\" style=\"fill: none\"/>\n",
       "  </g>\n",
       "  <g id=\"axes_1\">\n",
       "   <g clip-path=\"url(#p742bf568a6)\">\n",
       "    <image xlink:href=\"data:image/png;base64,\n",
       "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\" id=\"image49939adf12\" transform=\"matrix(2.67 0 0 2.67 7.2 6.6)\" style=\"image-rendering:crisp-edges;image-rendering:pixelated\" width=\"100\" height=\"100\"/>\n",
       "   </g>\n",
       "  </g>\n",
       "  <g id=\"axes_2\">\n",
       "   <g clip-path=\"url(#p07ba216cea)\">\n",
       "    <image xlink:href=\"data:image/png;base64,\n",
       "iVBORw0KGgoAAAANSUhEUgAAAGQAAABkCAYAAABw4pVUAAAEI0lEQVR4nO2c3Y3jMAyEncVVkSpSxAJp4JpNF6kibdw9Ges1LFn8GXKY6HuNY8scUaQoyZfvy99/y4SGr+wGTH4zBSFjCkLGFISMKQgZUxAypiBkTEHImIKQMQUh4092A0Z5vJ7me9yvN/M90NAK4iHA2T0ZBaISBCHC6PNYxKEQJFIIFsO3SBUkSgh2EbakCRIhRiUhVtLS3vv1BjVYRTGWhSCG7A0XHdjZSBdkzypQS5h3F7DUTP1oGKo6NLUoI0jP8Ee/VfWcEoK8mxf0gAvyeD3FvdWrd2uenU2Yh5wZZjVeRA2LmdAh68gwHiKM/L+KKOExZGuYUSO1rqs4JJ2ROg+5X29mUSQ8Xk+XBGF0jqQhXJB9oyWiRKJpk4fgFGlv6yXWehe67iVp0xnWzhXqIdLJnfQab0/L8F6oh0SvyLFMIC0imj2kt04tNZBX0G3BIlgPk4d4zivW/1h6F1NyoG2LWhBkecMiaAutd0R7lWrIGp0Zo19mVLhWO0a3BWmDu8YG8KDeG8J6L+nlgRKD9Noa5SmhxcXoMf7MiFIjR4hykZ7C9d7S2btfhAE0HiG1geQ9UmpZ27E1OxVlK92klE6yRdhzVF+TXO+JWBA2Y7IDz7KY3NsTaTYmuVZyffiQVd3D0B2SovxehYjRQSSItUFVvKNVo4vgYzzEshUpMm6GzUNG6kkID9obFhW8vQgRZLS4511HyjgQZH0mdMjqrYVLU0dWvL0aJoh3Q6X5PLOIPcoFdSZDI86qpG2UswxlI8EZWTREHn+gPUG10lvcyioCIr1UNGRlpIxniQHTEOaBqto7KkyUsd5JlJADOxG8y8dp1DFkNGhaXzJjHV4yQfVuH11QXxbdS3r2bsm9vLO5j/jWCZozUWg2OSB3bjB9WinVQ7xOMlnJFgGFyUM0Vc7s+OCN97DrtusEdcqJWYwRQvf2HvWOsw1w0gzm04AEdashKwnR+3qR5j1UgrBtv5SAOibhdU+XI22Z69Qjz28tFUuWAKK8Flo6iaxjadZX9v+TXIsCNjGMHtK0BtMuC6PEMWVZbME3shOgnmUuvx+VNCyN9awOV0w83IYspm2mo8OXdT8VIq5Q7DpB71g8ep70kI7mORrcBMmIJ951MYaYSOEhEYzW2tCZ2hmugkT2MIkR0O3yvL+7h1h62PZDAxkfDmC4P2TIynb7qHYgxC6z2TqCbDGWJeA4wsg1rYDLOvOmOqcuxZpmakVBVaDRnh+S9lpTzn2Q9/QcySeeIobh0HmIR50qoz4VGQ9TvtuLTGk9BctITFJ2Lm7XobUFPq+DlkcdJDNDFH8vCwHLHIQBiloWImBWXAtZFrLd757nvatCJcgWxAnXCtAKsqdqTJBCEUMmP0xByJiCkDEFIWMKQsYUhIwpCBlTEDKmIGT8B4huWEhcz7+uAAAAAElFTkSuQmCC\" id=\"image298384579a\" transform=\"matrix(2.67 0 0 2.67 289.8 6.6)\" style=\"image-rendering:crisp-edges;image-rendering:pixelated\" width=\"100\" height=\"100\"/>\n",
       "   </g>\n",
       "  </g>\n",
       " </g>\n",
       " <defs>\n",
       "  <clipPath id=\"p742bf568a6\">\n",
       "   <rect x=\"7.2\" y=\"7.2\" width=\"266.4\" height=\"266.4\"/>\n",
       "  </clipPath>\n",
       "  <clipPath id=\"p07ba216cea\">\n",
       "   <rect x=\"289.8\" y=\"7.2\" width=\"266.4\" height=\"266.4\"/>\n",
       "  </clipPath>\n",
       " </defs>\n",
       "</svg>\n"
      ],
      "text/plain": [
       "<Figure size 576x288 with 2 Axes>"
      ]
     },
     "metadata": {
      "needs_background": "light"
     },
     "output_type": "display_data"
    }
   ],
   "source": [
    "cyl = ps.tools.extract_cylinder(im=im, r=40, axis=2)\n",
    "\n",
    "fig, ax = plt.subplots(1, 2, figsize=[8, 4]);\n",
    "ax[0].imshow(im[..., 50]);\n",
    "ax[0].axis(False)\n",
    "ax[1].imshow(cyl[..., 50]);\n",
    "ax[1].axis(False);"
   ]
  }
 ],
 "metadata": {
  "kernelspec": {
   "display_name": "Python 3 (ipykernel)",
   "language": "python",
   "name": "python3"
  },
  "language_info": {
   "codemirror_mode": {
    "name": "ipython",
    "version": 3
   },
   "file_extension": ".py",
   "mimetype": "text/x-python",
   "name": "python",
   "nbconvert_exporter": "python",
   "pygments_lexer": "ipython3",
   "version": "3.8.13"
  }
 },
 "nbformat": 4,
 "nbformat_minor": 5
}
