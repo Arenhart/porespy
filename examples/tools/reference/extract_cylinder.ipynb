{
 "cells": [
  {
   "cell_type": "markdown",
   "id": "central-afghanistan",
   "metadata": {},
   "source": [
    "# `extract_cylinder`"
   ]
  },
  {
   "cell_type": "markdown",
   "id": "after-error",
   "metadata": {},
   "source": [
    "## Import Packages"
   ]
  },
  {
   "cell_type": "code",
   "execution_count": 1,
   "id": "educational-creator",
   "metadata": {
    "execution": {
     "iopub.execute_input": "2022-04-20T14:23:27.987877Z",
     "iopub.status.busy": "2022-04-20T14:23:27.987693Z",
     "iopub.status.idle": "2022-04-20T14:23:29.915272Z",
     "shell.execute_reply": "2022-04-20T14:23:29.914752Z"
    }
   },
   "outputs": [],
   "source": [
    "import numpy as np\n",
    "import porespy as ps\n",
    "import scipy.ndimage as spim\n",
    "import matplotlib.pyplot as plt\n",
    "import skimage\n",
    "ps.visualization.set_mpl_style()"
   ]
  },
  {
   "cell_type": "markdown",
   "id": "irish-pixel",
   "metadata": {},
   "source": [
    "## Generate Image for Testing"
   ]
  },
  {
   "cell_type": "code",
   "execution_count": 2,
   "id": "surgical-playback",
   "metadata": {
    "execution": {
     "iopub.execute_input": "2022-04-20T14:23:29.919680Z",
     "iopub.status.busy": "2022-04-20T14:23:29.918650Z",
     "iopub.status.idle": "2022-04-20T14:23:30.008834Z",
     "shell.execute_reply": "2022-04-20T14:23:30.008346Z"
    }
   },
   "outputs": [],
   "source": [
    "im = ps.generators.blobs([100, 100, 100])"
   ]
  },
  {
   "cell_type": "markdown",
   "id": "engaged-aluminum",
   "metadata": {},
   "source": [
    "## Apply tool and visualize\n",
    "This tool is useful for extracting a cylindrical core from an otherwise cubic image.  This might be helpful if a cylindrical domain is needed, or to test a workflow on a tomogram that has has not been cropped yet."
   ]
  },
  {
   "cell_type": "code",
   "execution_count": 3,
   "id": "fancy-instruction",
   "metadata": {
    "execution": {
     "iopub.execute_input": "2022-04-20T14:23:30.013512Z",
     "iopub.status.busy": "2022-04-20T14:23:30.012482Z",
     "iopub.status.idle": "2022-04-20T14:23:30.144156Z",
     "shell.execute_reply": "2022-04-20T14:23:30.143695Z"
    }
   },
   "outputs": [
    {
     "data": {
      "image/svg+xml": [
       "<?xml version=\"1.0\" encoding=\"utf-8\" standalone=\"no\"?>\n",
       "<!DOCTYPE svg PUBLIC \"-//W3C//DTD SVG 1.1//EN\"\n",
       "  \"http://www.w3.org/Graphics/SVG/1.1/DTD/svg11.dtd\">\n",
       "<svg xmlns:xlink=\"http://www.w3.org/1999/xlink\" width=\"558pt\" height=\"276.48pt\" viewBox=\"0 0 558 276.48\" xmlns=\"http://www.w3.org/2000/svg\" version=\"1.1\">\n",
       " <metadata>\n",
       "  <rdf:RDF xmlns:dc=\"http://purl.org/dc/elements/1.1/\" xmlns:cc=\"http://creativecommons.org/ns#\" xmlns:rdf=\"http://www.w3.org/1999/02/22-rdf-syntax-ns#\">\n",
       "   <cc:Work>\n",
       "    <dc:type rdf:resource=\"http://purl.org/dc/dcmitype/StillImage\"/>\n",
       "    <dc:date>2022-04-20T14:23:30.113500</dc:date>\n",
       "    <dc:format>image/svg+xml</dc:format>\n",
       "    <dc:creator>\n",
       "     <cc:Agent>\n",
       "      <dc:title>Matplotlib v3.5.1, https://matplotlib.org/</dc:title>\n",
       "     </cc:Agent>\n",
       "    </dc:creator>\n",
       "   </cc:Work>\n",
       "  </rdf:RDF>\n",
       " </metadata>\n",
       " <defs>\n",
       "  <style type=\"text/css\">*{stroke-linejoin: round; stroke-linecap: butt}</style>\n",
       " </defs>\n",
       " <g id=\"figure_1\">\n",
       "  <g id=\"patch_1\">\n",
       "   <path d=\"M 0 276.48 \n",
       "L 558 276.48 \n",
       "L 558 0 \n",
       "L 0 0 \n",
       "L 0 276.48 \n",
       "z\n",
       "\" style=\"fill: none\"/>\n",
       "  </g>\n",
       "  <g id=\"axes_1\">\n",
       "   <g clip-path=\"url(#pd62b0144e2)\">\n",
       "    <image xlink:href=\"data:image/png;base64,\n",
       "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\" id=\"image31da0b0bcd\" transform=\"matrix(2.63 0 0 2.63 7.2 6.28)\" style=\"image-rendering:crisp-edges;image-rendering:pixelated\" width=\"100\" height=\"100\"/>\n",
       "   </g>\n",
       "  </g>\n",
       "  <g id=\"axes_2\">\n",
       "   <g clip-path=\"url(#pc5a62af548)\">\n",
       "    <image xlink:href=\"data:image/png;base64,\n",
       "iVBORw0KGgoAAAANSUhEUgAAAGQAAABkCAYAAABw4pVUAAAEKklEQVR4nO2d3XHcMAyEeZlU4SpcRGbcQJq9Lq6Ka8N+4oysESniZ4GlxO8pTiyJ4goECAHK49/j/3dZ0PAnewCL3yxByFiCkLEEIWMJQsYShIwlCBlLEDKWIGQsQci4jSDP9yt7CEP8zR5Ai+f7Vb4+Ps3n6P1sPT8CKkE0T7FlkrfHsojzYMj29oQ4mqgz4eoxGoGzhUkVBLWutyZVcr0sYVIEiXCwHqL0zoPiNlFWRTrB0dHZZQWR+iXtuby5rCCl+E7k8/0KESZckOgl4GgiLWNAj59qH4JkdCLPQma0k7+NIFKywt7wJSt748XOpZ26FIaHJUUQhhtnBepDesm77c8jDnd/vNRJa45tgcwah1mIZaPmbVFfH59u5/QeG1QQyWBbvyv9ewlaq0MCtxCkv0CJcrYrrxaGuLeQJQs1+Hpu1DkyLIYm7G3dvLcDZgcWZR1NBNJKEBOfEZ67W0hUVnQP097GMgdugowMQjvIWZYdj4eRIrnoNeH7TK3FarTVK1ZUguxrptBPsHRiLW8Es98mUlhIyykj/YLH9TxfE1fEPsRyI73f6+W6PPEKOlCrgsqpH02W1wYNuYn0CjqQS7Rr2NvLOzGFpWgs9yr2IdGZ2RZSRzxL6EyTOmEhW7hpBWFdAq3jchHEO10ykgIvhVcUC+Z9yHbSrE022vYBj5350fHTpd+PBpy5BresasTSWKyNYqdeik3I/U7fUgCRjVqQ3k1Lli6vkk1p1xSjGKUYkotWULWzqJdVUYgEQT99Hk+tpsbLA69zTrsPYYK+UE6TxGO0Dq+JliyhMAvJaMw5I8uRS65rFqSXMpeIYnnfjhTj8l24XpYTWd0SKYpZkLO8E0MIip5Qz3u8fJTFWuXegkoQBmvq0RPFa+wiQSKeEmTB3QyEJBctn11izTmhoMn2tmD8phUSCh8y+j6iLmdZwiAK4/aIBUH0+23/7FF0t8Vz32MdywgUFiJhL+AIyKYf7wc01YdEJvq0rcxTfC8LvYZL6ny178M9Ui/TNn1qkfoUrTCaf0OhFiTaSiTH1WOzun8tQlJbiIVR5+/ZEp3e0lYLCs66qTQOFBFeI5cgr7Gboyxto01Wpy7iuuk9hhGgduSe50TUBqT4kCtka1GFGqGCSJ1elnDaom8PLhtlzQrFB8w8j7OGnpq8ladfCvsY/2gtr6WkR7qua0tjkeE53ZKlbeCUVL1IrEizqbRAGfZq9gu9YxDBASolQ/tOPfJbKhLQbywpLWRPZs+H9j2KlvRvLnr1nER8kSjiXX74f3mEeOJG26e1ok1V2yvF++Ykk6y5dnSFS4oPyWiEkZJVajSFU/eCuamnQrcxRDAqRLYYpdzIQqLDVy23EaQUXhG2TC3IDBMs5RY+ZCaWIGQsQchYgpCxBCFjCULGEoSMJQgZSxAyfgDKgE/EoQGz3wAAAABJRU5ErkJggg==\" id=\"image73d9cb1db5\" transform=\"matrix(2.63 0 0 2.63 288.72 6.28)\" style=\"image-rendering:crisp-edges;image-rendering:pixelated\" width=\"100\" height=\"100\"/>\n",
       "   </g>\n",
       "  </g>\n",
       " </g>\n",
       " <defs>\n",
       "  <clipPath id=\"pd62b0144e2\">\n",
       "   <rect x=\"7.2\" y=\"7.2\" width=\"262.08\" height=\"262.08\"/>\n",
       "  </clipPath>\n",
       "  <clipPath id=\"pc5a62af548\">\n",
       "   <rect x=\"288.72\" y=\"7.2\" width=\"262.08\" height=\"262.08\"/>\n",
       "  </clipPath>\n",
       " </defs>\n",
       "</svg>\n"
      ],
      "text/plain": [
       "<Figure size 576x288 with 2 Axes>"
      ]
     },
     "metadata": {
      "needs_background": "light"
     },
     "output_type": "display_data"
    }
   ],
   "source": [
    "cyl = ps.tools.extract_cylinder(im=im, r=40, axis=2)\n",
    "\n",
    "fig, ax = plt.subplots(1, 2, figsize=[8, 4]);\n",
    "ax[0].imshow(im[..., 50]);\n",
    "ax[0].axis(False)\n",
    "ax[1].imshow(cyl[..., 50]);\n",
    "ax[1].axis(False);"
   ]
  }
 ],
 "metadata": {
  "kernelspec": {
   "display_name": "Python 3 (ipykernel)",
   "language": "python",
   "name": "python3"
  },
  "language_info": {
   "codemirror_mode": {
    "name": "ipython",
    "version": 3
   },
   "file_extension": ".py",
   "mimetype": "text/x-python",
   "name": "python",
   "nbconvert_exporter": "python",
   "pygments_lexer": "ipython3",
   "version": "3.8.13"
  }
 },
 "nbformat": 4,
 "nbformat_minor": 5
}
