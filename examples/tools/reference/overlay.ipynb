{
 "cells": [
  {
   "cell_type": "markdown",
   "id": "4bd55bf8",
   "metadata": {},
   "source": [
    "# `overlay`"
   ]
  },
  {
   "cell_type": "markdown",
   "id": "a71579c9",
   "metadata": {},
   "source": [
    "## Import packages"
   ]
  },
  {
   "cell_type": "code",
   "execution_count": 1,
   "id": "2540ba84",
   "metadata": {
    "execution": {
     "iopub.execute_input": "2022-05-25T17:18:11.164254Z",
     "iopub.status.busy": "2022-05-25T17:18:11.161628Z",
     "iopub.status.idle": "2022-05-25T17:18:13.050339Z",
     "shell.execute_reply": "2022-05-25T17:18:13.049689Z"
    }
   },
   "outputs": [],
   "source": [
    "import numpy as np\n",
    "import porespy as ps\n",
    "import scipy.ndimage as spim\n",
    "import matplotlib.pyplot as plt\n",
    "import skimage\n",
    "ps.visualization.set_mpl_style()"
   ]
  },
  {
   "cell_type": "markdown",
   "id": "24f1086e",
   "metadata": {},
   "source": [
    "## Create image and variables"
   ]
  },
  {
   "cell_type": "code",
   "execution_count": 2,
   "id": "df980fdd",
   "metadata": {
    "execution": {
     "iopub.execute_input": "2022-05-25T17:18:13.054502Z",
     "iopub.status.busy": "2022-05-25T17:18:13.053807Z",
     "iopub.status.idle": "2022-05-25T17:18:14.051157Z",
     "shell.execute_reply": "2022-05-25T17:18:14.050557Z"
    }
   },
   "outputs": [
    {
     "name": "stderr",
     "output_type": "stream",
     "text": [
      "/tmp/ipykernel_10411/2366592848.py:3: DeprecationWarning: Call to deprecated function (or staticmethod) RSA. (This function has been renamed to rsa (lowercase to meet pep8)\n",
      "  im1 = ps.generators.RSA(im1, r=25, volume_fraction=0.5)\n"
     ]
    },
    {
     "name": "stderr",
     "output_type": "stream",
     "text": [
      "/tmp/ipykernel_10411/2366592848.py:4: DeprecationWarning: Call to deprecated function (or staticmethod) RSA. (This function has been renamed to rsa (lowercase to meet pep8)\n",
      "  im2 = ps.generators.RSA(im2, r=5, volume_fraction=0.5)\n"
     ]
    },
    {
     "data": {
      "image/svg+xml": [
       "<?xml version=\"1.0\" encoding=\"utf-8\" standalone=\"no\"?>\n",
       "<!DOCTYPE svg PUBLIC \"-//W3C//DTD SVG 1.1//EN\"\n",
       "  \"http://www.w3.org/Graphics/SVG/1.1/DTD/svg11.dtd\">\n",
       "<svg xmlns:xlink=\"http://www.w3.org/1999/xlink\" width=\"280.8pt\" height=\"280.8pt\" viewBox=\"0 0 280.8 280.8\" xmlns=\"http://www.w3.org/2000/svg\" version=\"1.1\">\n",
       " <metadata>\n",
       "  <rdf:RDF xmlns:dc=\"http://purl.org/dc/elements/1.1/\" xmlns:cc=\"http://creativecommons.org/ns#\" xmlns:rdf=\"http://www.w3.org/1999/02/22-rdf-syntax-ns#\">\n",
       "   <cc:Work>\n",
       "    <dc:type rdf:resource=\"http://purl.org/dc/dcmitype/StillImage\"/>\n",
       "    <dc:date>2022-05-25T17:18:13.995670</dc:date>\n",
       "    <dc:format>image/svg+xml</dc:format>\n",
       "    <dc:creator>\n",
       "     <cc:Agent>\n",
       "      <dc:title>Matplotlib v3.5.2, https://matplotlib.org/</dc:title>\n",
       "     </cc:Agent>\n",
       "    </dc:creator>\n",
       "   </cc:Work>\n",
       "  </rdf:RDF>\n",
       " </metadata>\n",
       " <defs>\n",
       "  <style type=\"text/css\">*{stroke-linejoin: round; stroke-linecap: butt}</style>\n",
       " </defs>\n",
       " <g id=\"figure_1\">\n",
       "  <g id=\"patch_1\">\n",
       "   <path d=\"M 0 280.8 \n",
       "L 280.8 280.8 \n",
       "L 280.8 0 \n",
       "L 0 0 \n",
       "L 0 280.8 \n",
       "z\n",
       "\" style=\"fill: none\"/>\n",
       "  </g>\n",
       "  <g id=\"axes_1\">\n",
       "   <g clip-path=\"url(#p770cd823d9)\">\n",
       "    <image xlink:href=\"data:image/png;base64,\n",
       "iVBORw0KGgoAAAANSUhEUgAAAGQAAABkCAYAAABw4pVUAAACPklEQVR4nO2b2XHDMAwF6UxKSwkpMyW4N+crE48PHRSOB2H32yFhLAE6EjkGAADAHBfLwb4u37etn73efkznPguHk7JHwjuQ8890IixEPIKYMT5m/shDhue4ldi1IiMT1rVaNldI9OrtWi2bhGQlp6OUVSHZScmeP5qpTR38WBSisjpV4ojgrRC1JKjF4wUtS4yXQlRXo2pclnxmB6DMqwXg/Q8rQu7YUoGPn7EW9DRYhbZgnQSlJ9btN3WrBWg1Tmsh1t3AYry2QlRfIbQU4r1PHhm/nZCoHy2z87QSUuGdTishFWgjpMpLtjZCqoAQMZ6EqJ/2UI/vKC0qJPv53J75WwipxEshqm1BNS5LqBAx3gpRW41q8XixWCEqSTgaR/b32DM/LUuMVSGVVtcZ2FQhWUnpJmOMHS0rOjnW81VZVLuOAf0N7vmfb8equGdqU/dKmreMClXe8hZuxLOt2e/U9p66atuV6NdLyfEUp3i1O03ITDI85FhKsYgvXIjinqMUU5gQxfbwiELVhghR3UDXyLgf4i5E+SemIq5Pe9WPbSriJqTCsU1FeB8ihouQKsc2FaFCxDAXkr1Ks+c/ChUiBkLEMBWi0i5U4piBChEDIWIgRAyEiIEQMRAihqkQlfcSKnHMQIWIgRAxzIVkt4vs+Y9ChYjhIqTK0X9FqBAx3IRUOPqviGuFRCXpLDLGCGhZZ7uE403IHlL1xlUGnH4Xo/39EDUkvmDWDSoAAAAAAAAAAAAAAAAAAACowy8w9gb+bVW5zAAAAABJRU5ErkJggg==\" id=\"image78be48ab13\" transform=\"matrix(2.67 0 0 -2.67 7.2 273.6)\" style=\"image-rendering:crisp-edges;image-rendering:pixelated\" width=\"100\" height=\"100\"/>\n",
       "   </g>\n",
       "  </g>\n",
       " </g>\n",
       " <defs>\n",
       "  <clipPath id=\"p770cd823d9\">\n",
       "   <rect x=\"7.2\" y=\"7.2\" width=\"266.4\" height=\"266.4\"/>\n",
       "  </clipPath>\n",
       " </defs>\n",
       "</svg>\n"
      ],
      "text/plain": [
       "<Figure size 288x288 with 1 Axes>"
      ]
     },
     "metadata": {
      "needs_background": "light"
     },
     "output_type": "display_data"
    },
    {
     "data": {
      "image/svg+xml": [
       "<?xml version=\"1.0\" encoding=\"utf-8\" standalone=\"no\"?>\n",
       "<!DOCTYPE svg PUBLIC \"-//W3C//DTD SVG 1.1//EN\"\n",
       "  \"http://www.w3.org/Graphics/SVG/1.1/DTD/svg11.dtd\">\n",
       "<svg xmlns:xlink=\"http://www.w3.org/1999/xlink\" width=\"280.8pt\" height=\"280.8pt\" viewBox=\"0 0 280.8 280.8\" xmlns=\"http://www.w3.org/2000/svg\" version=\"1.1\">\n",
       " <metadata>\n",
       "  <rdf:RDF xmlns:dc=\"http://purl.org/dc/elements/1.1/\" xmlns:cc=\"http://creativecommons.org/ns#\" xmlns:rdf=\"http://www.w3.org/1999/02/22-rdf-syntax-ns#\">\n",
       "   <cc:Work>\n",
       "    <dc:type rdf:resource=\"http://purl.org/dc/dcmitype/StillImage\"/>\n",
       "    <dc:date>2022-05-25T17:18:14.040492</dc:date>\n",
       "    <dc:format>image/svg+xml</dc:format>\n",
       "    <dc:creator>\n",
       "     <cc:Agent>\n",
       "      <dc:title>Matplotlib v3.5.2, https://matplotlib.org/</dc:title>\n",
       "     </cc:Agent>\n",
       "    </dc:creator>\n",
       "   </cc:Work>\n",
       "  </rdf:RDF>\n",
       " </metadata>\n",
       " <defs>\n",
       "  <style type=\"text/css\">*{stroke-linejoin: round; stroke-linecap: butt}</style>\n",
       " </defs>\n",
       " <g id=\"figure_1\">\n",
       "  <g id=\"patch_1\">\n",
       "   <path d=\"M 0 280.8 \n",
       "L 280.8 280.8 \n",
       "L 280.8 0 \n",
       "L 0 0 \n",
       "L 0 280.8 \n",
       "z\n",
       "\" style=\"fill: none\"/>\n",
       "  </g>\n",
       "  <g id=\"axes_1\">\n",
       "   <g clip-path=\"url(#p355308f39e)\">\n",
       "    <image xlink:href=\"data:image/png;base64,\n",
       "iVBORw0KGgoAAAANSUhEUgAAADMAAAAzCAYAAAA6oTAqAAABQUlEQVR4nO2ZWxKCMAxFU4eluQSX6RLcG344MihtkyaxucWeTxjI+1EgmmCSLA9f0239vvZY76Z3WmRcPIXUrveQofKiROGc91q8rJGhjgwi0xhUTmWMuo3WCtSrPbfKUEempLDnnGmVwQruMRi9OFXNLNEK7LFmAUxkPNYjCGM4haUGsWmGWuw5flIzUR3QPc16HA1KfERmpJmSY4tMpEc5h0kdmoj0h60clp2NywzuPtTQrBlby5z3c+4NoMcCWsIcGaSmAbEBeLEQvTzZ47BVwyPCW2Qic10yFiT6LaUbiHD6mRuAZf54Oy9rDFKHauFgjGQ4RSBxMERr5opbujfCrDPaD+j7jOlmzJCHs0gOxkQOTyvZNBtB8RzwadZyCoU3hmjs1FcD/+u8Behf560MUTNSpjGoTGOI/rT3TyZETxOC0IH3b50MAAAAAElFTkSuQmCC\" id=\"imagee543cd0480\" transform=\"matrix(5.235294 0 0 -5.235294 7.2 273.6)\" style=\"image-rendering:crisp-edges;image-rendering:pixelated\" width=\"51\" height=\"51\"/>\n",
       "   </g>\n",
       "  </g>\n",
       " </g>\n",
       " <defs>\n",
       "  <clipPath id=\"p355308f39e\">\n",
       "   <rect x=\"7.2\" y=\"7.2\" width=\"266.4\" height=\"266.4\"/>\n",
       "  </clipPath>\n",
       " </defs>\n",
       "</svg>\n"
      ],
      "text/plain": [
       "<Figure size 288x288 with 1 Axes>"
      ]
     },
     "metadata": {
      "needs_background": "light"
     },
     "output_type": "display_data"
    }
   ],
   "source": [
    "im1 = np.zeros([100, 100,100])\n",
    "im2 = np.zeros([51, 51,51])\n",
    "im1 = ps.generators.RSA(im1, r=25, volume_fraction=0.5)\n",
    "im2 = ps.generators.RSA(im2, r=5, volume_fraction=0.5)\n",
    "im3 = im1.copy()\n",
    "\n",
    "fig, ax = plt.subplots(figsize=[4, 4]);\n",
    "ps.visualization.imshow(im1);\n",
    "plt.axis(False)\n",
    "fig, ax = plt.subplots(figsize=[4, 4]);\n",
    "ps.visualization.imshow(im2);\n",
    "plt.axis(False);\n",
    "\n",
    "#default values:\n",
    "c = [26,26,26]"
   ]
  },
  {
   "cell_type": "markdown",
   "id": "81a1dc0b",
   "metadata": {},
   "source": [
    "## Apply tool"
   ]
  },
  {
   "cell_type": "code",
   "execution_count": 3,
   "id": "a8f3e5aa",
   "metadata": {
    "execution": {
     "iopub.execute_input": "2022-05-25T17:18:14.054095Z",
     "iopub.status.busy": "2022-05-25T17:18:14.053871Z",
     "iopub.status.idle": "2022-05-25T17:18:14.120745Z",
     "shell.execute_reply": "2022-05-25T17:18:14.120160Z"
    }
   },
   "outputs": [
    {
     "data": {
      "image/svg+xml": [
       "<?xml version=\"1.0\" encoding=\"utf-8\" standalone=\"no\"?>\n",
       "<!DOCTYPE svg PUBLIC \"-//W3C//DTD SVG 1.1//EN\"\n",
       "  \"http://www.w3.org/Graphics/SVG/1.1/DTD/svg11.dtd\">\n",
       "<svg xmlns:xlink=\"http://www.w3.org/1999/xlink\" width=\"280.8pt\" height=\"280.8pt\" viewBox=\"0 0 280.8 280.8\" xmlns=\"http://www.w3.org/2000/svg\" version=\"1.1\">\n",
       " <metadata>\n",
       "  <rdf:RDF xmlns:dc=\"http://purl.org/dc/elements/1.1/\" xmlns:cc=\"http://creativecommons.org/ns#\" xmlns:rdf=\"http://www.w3.org/1999/02/22-rdf-syntax-ns#\">\n",
       "   <cc:Work>\n",
       "    <dc:type rdf:resource=\"http://purl.org/dc/dcmitype/StillImage\"/>\n",
       "    <dc:date>2022-05-25T17:18:14.108052</dc:date>\n",
       "    <dc:format>image/svg+xml</dc:format>\n",
       "    <dc:creator>\n",
       "     <cc:Agent>\n",
       "      <dc:title>Matplotlib v3.5.2, https://matplotlib.org/</dc:title>\n",
       "     </cc:Agent>\n",
       "    </dc:creator>\n",
       "   </cc:Work>\n",
       "  </rdf:RDF>\n",
       " </metadata>\n",
       " <defs>\n",
       "  <style type=\"text/css\">*{stroke-linejoin: round; stroke-linecap: butt}</style>\n",
       " </defs>\n",
       " <g id=\"figure_1\">\n",
       "  <g id=\"patch_1\">\n",
       "   <path d=\"M 0 280.8 \n",
       "L 280.8 280.8 \n",
       "L 280.8 0 \n",
       "L 0 0 \n",
       "L 0 280.8 \n",
       "z\n",
       "\" style=\"fill: none\"/>\n",
       "  </g>\n",
       "  <g id=\"axes_1\">\n",
       "   <g clip-path=\"url(#p1ffb288d41)\">\n",
       "    <image xlink:href=\"data:image/png;base64,\n",
       "iVBORw0KGgoAAAANSUhEUgAAAGQAAABkCAYAAABw4pVUAAACcElEQVR4nO2bUXLDIAwFcadH6xF6zBwhd0u/PMk4thtAQov19jPTGsEigW1cihDimCU6gD1+lt/H9rf744aM1Zqv6AC27Mk4+/1qfFterHbQssz6GrqF9Mzc9X8l5kmzEMsSIjFPmtYQr3qeZZ0443BG0gYnS/aYLurWZJHwCm7b+wotS0eAFlJKPil4Idk4FEKq35my5FAIbRBo8XihkgVjVwh1NlLjsgR9HxJNxGsACXnhkwzc/o21oLeLzVQWrAbDos9WsaRf1K0moNV1UguxrgYW10srhPoKIaUQ73Wy5/pTCrk/bkvrIjpq09LazpRCWhm9g2xpL5WQGUgjJOr+qrbdNEJmQUJgvAkhvZjagx5fLykyJPr5XE37KYTMxK4QalmgxmWJMgTGFKdOSuHF48VphlAGoTeO6H7UtK+SBeNUSPR2sZT42T0adIZkk1EKWIi1jCi5te3ijgF90oErfzaNyhDvQR0traW9pm3v+grVqoOW1/qkLXI7psHV7Mp6BsaiZHnuIHv6hqi7Z4Oz1zmrNcRDSm8GhglpGQyPcmMpxSK+4UJI52hXSDENE0IsD1sIWTtECHUB/Y+I+x13ISOeh13lprAU5xtD+rFNIm5CZji2SQT16EQ4CZnl2CYRZQgMcyHRszS6/V6UITAkBIapEEq5oMTRgjIEhoTAkBAYEgJDQmBICAxTIZT3EpQ4WlCGwJAQGOZCostFdPu9KENguAiZ5eg/EWUIDDchMxz9J+KaIfSj/0TcS9bVPsLxZsga4jVoV5NRik6/40j/fQgNRAdrv6ASQgghhBBCCCGEEEIIIYQQQgghRD7+ACMZHk2YBWvdAAAAAElFTkSuQmCC\" id=\"imaged53b56ffdf\" transform=\"matrix(2.67 0 0 -2.67 7.2 273.6)\" style=\"image-rendering:crisp-edges;image-rendering:pixelated\" width=\"100\" height=\"100\"/>\n",
       "   </g>\n",
       "  </g>\n",
       " </g>\n",
       " <defs>\n",
       "  <clipPath id=\"p1ffb288d41\">\n",
       "   <rect x=\"7.2\" y=\"7.2\" width=\"266.4\" height=\"266.4\"/>\n",
       "  </clipPath>\n",
       " </defs>\n",
       "</svg>\n"
      ],
      "text/plain": [
       "<Figure size 288x288 with 1 Axes>"
      ]
     },
     "metadata": {
      "needs_background": "light"
     },
     "output_type": "display_data"
    }
   ],
   "source": [
    "im = ps.tools.overlay(im1=im1,im2=im2, c=c)\n",
    "fig, ax = plt.subplots(figsize=[4, 4]);\n",
    "ps.visualization.imshow(im);\n",
    "plt.axis(False);"
   ]
  },
  {
   "cell_type": "code",
   "execution_count": 4,
   "id": "8e89b639",
   "metadata": {
    "execution": {
     "iopub.execute_input": "2022-05-25T17:18:14.123610Z",
     "iopub.status.busy": "2022-05-25T17:18:14.123391Z",
     "iopub.status.idle": "2022-05-25T17:18:14.186851Z",
     "shell.execute_reply": "2022-05-25T17:18:14.186348Z"
    }
   },
   "outputs": [
    {
     "data": {
      "image/svg+xml": [
       "<?xml version=\"1.0\" encoding=\"utf-8\" standalone=\"no\"?>\n",
       "<!DOCTYPE svg PUBLIC \"-//W3C//DTD SVG 1.1//EN\"\n",
       "  \"http://www.w3.org/Graphics/SVG/1.1/DTD/svg11.dtd\">\n",
       "<svg xmlns:xlink=\"http://www.w3.org/1999/xlink\" width=\"280.8pt\" height=\"280.8pt\" viewBox=\"0 0 280.8 280.8\" xmlns=\"http://www.w3.org/2000/svg\" version=\"1.1\">\n",
       " <metadata>\n",
       "  <rdf:RDF xmlns:dc=\"http://purl.org/dc/elements/1.1/\" xmlns:cc=\"http://creativecommons.org/ns#\" xmlns:rdf=\"http://www.w3.org/1999/02/22-rdf-syntax-ns#\">\n",
       "   <cc:Work>\n",
       "    <dc:type rdf:resource=\"http://purl.org/dc/dcmitype/StillImage\"/>\n",
       "    <dc:date>2022-05-25T17:18:14.175442</dc:date>\n",
       "    <dc:format>image/svg+xml</dc:format>\n",
       "    <dc:creator>\n",
       "     <cc:Agent>\n",
       "      <dc:title>Matplotlib v3.5.2, https://matplotlib.org/</dc:title>\n",
       "     </cc:Agent>\n",
       "    </dc:creator>\n",
       "   </cc:Work>\n",
       "  </rdf:RDF>\n",
       " </metadata>\n",
       " <defs>\n",
       "  <style type=\"text/css\">*{stroke-linejoin: round; stroke-linecap: butt}</style>\n",
       " </defs>\n",
       " <g id=\"figure_1\">\n",
       "  <g id=\"patch_1\">\n",
       "   <path d=\"M 0 280.8 \n",
       "L 280.8 280.8 \n",
       "L 280.8 0 \n",
       "L 0 0 \n",
       "L 0 280.8 \n",
       "z\n",
       "\" style=\"fill: none\"/>\n",
       "  </g>\n",
       "  <g id=\"axes_1\">\n",
       "   <g clip-path=\"url(#p9ef69d5870)\">\n",
       "    <image xlink:href=\"data:image/png;base64,\n",
       "iVBORw0KGgoAAAANSUhEUgAAAGQAAABkCAYAAABw4pVUAAACjElEQVR4nO2dW3LCMAxFQ6dL6xK6zC6he6NfTBkgDzt6HKF7PhkaGx1LThx7uixCCCHEHBfLi31dvq9Hv/t7/TFt+104HZQRCWtIzj/TgbAQ8YjELMvHzB95yPC8biWGRmRkwLpmy+EMiR69XbPlkJCs4HSUsiskOyjZ7UczNakLPzaFUEYnpR8RrAqhBYHWHy9UsmC8FEIdjdR+WfKZ3QEyrwaA9wOrhNxxJAMfv2Mt6OliFcqCdRBIK9btJ3WrAWh1ndZCrKuBxfXaCqG+QmgpxHuePHP9dkKiblpm22klpMI7nVZCKtBGSJWXbG2EVEFCYDwJoe/2oPfvLC0yJHt9bqT9FkIq8VIItSxQ+2WJMgTGqhDaaKT1x4vNDKEE4Ww/sn/HSPsqWTB2hVQaXe/AoQzJCko3GcsyULKig2PdXpVBNbQN6HZxzyffjllxz9Sk7hU0bxkVsrzlKdyIta3Z39T2nDq17CLq9VZwPMURj3anCZkJhoccSykW/QsXQpxzSH0KE0IsD48QsjZECHUC3SPjfIi7EPItJhHX1V76tk0ibkIqbNskovchMFyEVNm2SUQZAsNcSPYozW7/LDoWncDW841KVjBrGXz73FQIpVxQ+jGDMgSGhMCQEBgSEszaQujtc932JrC1Oq0MgWEqhPJegtKPGZQhMDSHJBC6dJJdLrLbP4tKFgwXIVW2/hNRhsBwHVH6BzDjaF/WIN6b59xL1rsdwvEmZA6peuIqg7AHQ8vziaMiMvbozvL250OsDwONyh39ftrSyX2nsk5QzdDivyPQgp6JHgxhSAiMFqWi0l2WEEIUQnU0Ae1+BxG6+12cR0JgSAgMCYEhIcHs7X4XQgghhBAe/AFgPUWGeMheIQAAAABJRU5ErkJggg==\" id=\"image6df77cf9b1\" transform=\"matrix(2.67 0 0 -2.67 7.2 273.6)\" style=\"image-rendering:crisp-edges;image-rendering:pixelated\" width=\"100\" height=\"100\"/>\n",
       "   </g>\n",
       "  </g>\n",
       " </g>\n",
       " <defs>\n",
       "  <clipPath id=\"p9ef69d5870\">\n",
       "   <rect x=\"7.2\" y=\"7.2\" width=\"266.4\" height=\"266.4\"/>\n",
       "  </clipPath>\n",
       " </defs>\n",
       "</svg>\n"
      ],
      "text/plain": [
       "<Figure size 288x288 with 1 Axes>"
      ]
     },
     "metadata": {
      "needs_background": "light"
     },
     "output_type": "display_data"
    }
   ],
   "source": [
    "im = ps.tools.overlay(im1=im3, im2=im2, c=[74, 74, 74])\n",
    "fig, ax = plt.subplots(figsize=[4, 4]);\n",
    "ps.visualization.imshow(im);\n",
    "plt.axis(False);"
   ]
  }
 ],
 "metadata": {
  "kernelspec": {
   "display_name": "Python 3 (ipykernel)",
   "language": "python",
   "name": "python3"
  },
  "language_info": {
   "codemirror_mode": {
    "name": "ipython",
    "version": 3
   },
   "file_extension": ".py",
   "mimetype": "text/x-python",
   "name": "python",
   "nbconvert_exporter": "python",
   "pygments_lexer": "ipython3",
   "version": "3.8.13"
  }
 },
 "nbformat": 4,
 "nbformat_minor": 5
}
