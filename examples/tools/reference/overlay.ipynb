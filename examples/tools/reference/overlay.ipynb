{
 "cells": [
  {
   "cell_type": "markdown",
   "id": "4bd55bf8",
   "metadata": {},
   "source": [
    "# `overlay`"
   ]
  },
  {
   "cell_type": "markdown",
   "id": "a71579c9",
   "metadata": {},
   "source": [
    "## Import packages"
   ]
  },
  {
   "cell_type": "code",
   "execution_count": 1,
   "id": "2540ba84",
   "metadata": {
    "execution": {
     "iopub.execute_input": "2022-04-20T14:18:35.116502Z",
     "iopub.status.busy": "2022-04-20T14:18:35.116304Z",
     "iopub.status.idle": "2022-04-20T14:18:37.167417Z",
     "shell.execute_reply": "2022-04-20T14:18:37.166692Z"
    }
   },
   "outputs": [],
   "source": [
    "import numpy as np\n",
    "import porespy as ps\n",
    "import scipy.ndimage as spim\n",
    "import matplotlib.pyplot as plt\n",
    "import skimage\n",
    "ps.visualization.set_mpl_style()"
   ]
  },
  {
   "cell_type": "markdown",
   "id": "24f1086e",
   "metadata": {},
   "source": [
    "## Create image and variables"
   ]
  },
  {
   "cell_type": "code",
   "execution_count": 2,
   "id": "df980fdd",
   "metadata": {
    "execution": {
     "iopub.execute_input": "2022-04-20T14:18:37.171171Z",
     "iopub.status.busy": "2022-04-20T14:18:37.170886Z",
     "iopub.status.idle": "2022-04-20T14:18:38.274134Z",
     "shell.execute_reply": "2022-04-20T14:18:38.273676Z"
    }
   },
   "outputs": [
    {
     "name": "stderr",
     "output_type": "stream",
     "text": [
      "/tmp/ipykernel_10220/2366592848.py:3: DeprecationWarning: Call to deprecated function (or staticmethod) RSA. (This function has been renamed to rsa (lowercase to meet pep8)\n",
      "  im1 = ps.generators.RSA(im1, r=25, volume_fraction=0.5)\n"
     ]
    },
    {
     "name": "stderr",
     "output_type": "stream",
     "text": [
      "/tmp/ipykernel_10220/2366592848.py:4: DeprecationWarning: Call to deprecated function (or staticmethod) RSA. (This function has been renamed to rsa (lowercase to meet pep8)\n",
      "  im2 = ps.generators.RSA(im2, r=5, volume_fraction=0.5)\n"
     ]
    },
    {
     "data": {
      "image/svg+xml": [
       "<?xml version=\"1.0\" encoding=\"utf-8\" standalone=\"no\"?>\n",
       "<!DOCTYPE svg PUBLIC \"-//W3C//DTD SVG 1.1//EN\"\n",
       "  \"http://www.w3.org/Graphics/SVG/1.1/DTD/svg11.dtd\">\n",
       "<svg xmlns:xlink=\"http://www.w3.org/1999/xlink\" width=\"276.48pt\" height=\"276.48pt\" viewBox=\"0 0 276.48 276.48\" xmlns=\"http://www.w3.org/2000/svg\" version=\"1.1\">\n",
       " <metadata>\n",
       "  <rdf:RDF xmlns:dc=\"http://purl.org/dc/elements/1.1/\" xmlns:cc=\"http://creativecommons.org/ns#\" xmlns:rdf=\"http://www.w3.org/1999/02/22-rdf-syntax-ns#\">\n",
       "   <cc:Work>\n",
       "    <dc:type rdf:resource=\"http://purl.org/dc/dcmitype/StillImage\"/>\n",
       "    <dc:date>2022-04-20T14:18:38.206261</dc:date>\n",
       "    <dc:format>image/svg+xml</dc:format>\n",
       "    <dc:creator>\n",
       "     <cc:Agent>\n",
       "      <dc:title>Matplotlib v3.5.1, https://matplotlib.org/</dc:title>\n",
       "     </cc:Agent>\n",
       "    </dc:creator>\n",
       "   </cc:Work>\n",
       "  </rdf:RDF>\n",
       " </metadata>\n",
       " <defs>\n",
       "  <style type=\"text/css\">*{stroke-linejoin: round; stroke-linecap: butt}</style>\n",
       " </defs>\n",
       " <g id=\"figure_1\">\n",
       "  <g id=\"patch_1\">\n",
       "   <path d=\"M 0 276.48 \n",
       "L 276.48 276.48 \n",
       "L 276.48 0 \n",
       "L 0 0 \n",
       "L 0 276.48 \n",
       "z\n",
       "\" style=\"fill: none\"/>\n",
       "  </g>\n",
       "  <g id=\"axes_1\">\n",
       "   <g clip-path=\"url(#p3f6ba99206)\">\n",
       "    <image xlink:href=\"data:image/png;base64,\n",
       "iVBORw0KGgoAAAANSUhEUgAAAGQAAABkCAYAAABw4pVUAAACXUlEQVR4nO2cXXLCMAwGRYej9Qg9JkfgbvSB8RAyhPzJ9id597XTImklN03UmAEAAAAAAAAAAAAc4NI7gK38Xv4eS1+7P25h8lhDOpFvEpaILuendwBLHJFx5vtUkOsmz4JGnBapCfHu7ojTIiUEhITU6uZoUyIhpHbRIkmREAIvECJGdyGtjpMox1Z3IfAOQsRAiBgIEQMhYiBEjO5CWt2RjXLnt7sQeAchYkgIqX2cRDmuzESEmNUrWiQZZkJC4ImUEO9ujjYdZoJLDoUzd2cjiihITciUo0WNLMOswYRs6fQtRWRz8SQjbh16UKUA0c//ns3knrzHo9IeUlQ2Jl0TV0lqDzWftR/JwS3pGonVlNJy6WFPHrKXvTVpvYGy5/NcOlBt7JdQWAVay2eYCVGQYbYexxBCVGQUvsWTXoiajMJSXOmFRCO1ENXpKHyKL60QdRmFeZxphUQlpZAo01GYxusihAUFP9JNSLTpKJS43YSwoOCD64R4FXFUGWbJnhhGPa6mVPkdMurGiAdhtk68PkudVB2ZQUi6y97oXGv94FEW27zpugbkLYYja8begmQooDduQkZ9R6I3LkLOFhUpL7jKEuO0EK/uZkqeMCFipBIS/e+b++N2SSUkAwgRI52QqMdWiTudkOicFqL42DbalEzjZULEkNjLqtHRUaZkHmf3NaCahVOX8im+rmtA6gXrQZf/cm0tQvE+2VINhulQJSnfGnKYqyyV43EtDokgW9NjWrY2xDATMqX1tOz5vCEnZIraSw+GF1JQeXEOQj7Ay9cAAAAAAAAA4Mk/JVsNZxMqHDkAAAAASUVORK5CYII=\" id=\"image78b811520f\" transform=\"matrix(2.63 0 0 -2.63 7.2 269.28)\" style=\"image-rendering:crisp-edges;image-rendering:pixelated\" width=\"100\" height=\"100\"/>\n",
       "   </g>\n",
       "  </g>\n",
       " </g>\n",
       " <defs>\n",
       "  <clipPath id=\"p3f6ba99206\">\n",
       "   <rect x=\"7.2\" y=\"7.2\" width=\"262.08\" height=\"262.08\"/>\n",
       "  </clipPath>\n",
       " </defs>\n",
       "</svg>\n"
      ],
      "text/plain": [
       "<Figure size 288x288 with 1 Axes>"
      ]
     },
     "metadata": {
      "needs_background": "light"
     },
     "output_type": "display_data"
    },
    {
     "data": {
      "image/svg+xml": [
       "<?xml version=\"1.0\" encoding=\"utf-8\" standalone=\"no\"?>\n",
       "<!DOCTYPE svg PUBLIC \"-//W3C//DTD SVG 1.1//EN\"\n",
       "  \"http://www.w3.org/Graphics/SVG/1.1/DTD/svg11.dtd\">\n",
       "<svg xmlns:xlink=\"http://www.w3.org/1999/xlink\" width=\"276.48pt\" height=\"276.48pt\" viewBox=\"0 0 276.48 276.48\" xmlns=\"http://www.w3.org/2000/svg\" version=\"1.1\">\n",
       " <metadata>\n",
       "  <rdf:RDF xmlns:dc=\"http://purl.org/dc/elements/1.1/\" xmlns:cc=\"http://creativecommons.org/ns#\" xmlns:rdf=\"http://www.w3.org/1999/02/22-rdf-syntax-ns#\">\n",
       "   <cc:Work>\n",
       "    <dc:type rdf:resource=\"http://purl.org/dc/dcmitype/StillImage\"/>\n",
       "    <dc:date>2022-04-20T14:18:38.260144</dc:date>\n",
       "    <dc:format>image/svg+xml</dc:format>\n",
       "    <dc:creator>\n",
       "     <cc:Agent>\n",
       "      <dc:title>Matplotlib v3.5.1, https://matplotlib.org/</dc:title>\n",
       "     </cc:Agent>\n",
       "    </dc:creator>\n",
       "   </cc:Work>\n",
       "  </rdf:RDF>\n",
       " </metadata>\n",
       " <defs>\n",
       "  <style type=\"text/css\">*{stroke-linejoin: round; stroke-linecap: butt}</style>\n",
       " </defs>\n",
       " <g id=\"figure_1\">\n",
       "  <g id=\"patch_1\">\n",
       "   <path d=\"M 0 276.48 \n",
       "L 276.48 276.48 \n",
       "L 276.48 0 \n",
       "L 0 0 \n",
       "L 0 276.48 \n",
       "z\n",
       "\" style=\"fill: none\"/>\n",
       "  </g>\n",
       "  <g id=\"axes_1\">\n",
       "   <g clip-path=\"url(#pe2d9affaf4)\">\n",
       "    <image xlink:href=\"data:image/png;base64,\n",
       "iVBORw0KGgoAAAANSUhEUgAAADMAAAAzCAYAAAA6oTAqAAABZUlEQVR4nO1aQRLDIAg0Tp/WJ/SZfUL/lp6aQ8agLOASp3tME2UFFtRuBcRze+3nZ5/9vaHjeaAiH7WISM9nQU2mZzCT0IM18Sg04RxOxpJbUji3xoByZhSW3ELCOYwMI7fEMLsKEckQpjxfekYbr6Xw60zTMyMhwja8hVABsKC3WK3fmx+MJOdvMEl6PXJLI+0mMiPGzuzhYDIjmJ1Xl5P1Vl0TihI0nuu9eykAM+RX0yGMvCsWzcgwiZD/tNKMACaD1IFomDyTra2htSSIGvbUjNpfeXffxwes0xbPed16qAxwq+SeQL2Vrs5Yzg3SkbHgTyYrasa2BEV4nUHGRW25VVHsYa2cYRvgifRXGmdIYRtOZqYapvGMh1AslTNLkTGFGWNDJ41/kNEahtzfRAPeabJ2p9Ki18z3+lrQpDki3yhqFvV3FffjWeb+xxRmDMOlOZfaadZScoYMglQH53dbvFB8AetdCUbwBGy/AAAAAElFTkSuQmCC\" id=\"image331d2f87ce\" transform=\"matrix(5.156863 0 0 -5.156863 7.2 269.28)\" style=\"image-rendering:crisp-edges;image-rendering:pixelated\" width=\"51\" height=\"51\"/>\n",
       "   </g>\n",
       "  </g>\n",
       " </g>\n",
       " <defs>\n",
       "  <clipPath id=\"pe2d9affaf4\">\n",
       "   <rect x=\"7.2\" y=\"7.2\" width=\"262.08\" height=\"262.08\"/>\n",
       "  </clipPath>\n",
       " </defs>\n",
       "</svg>\n"
      ],
      "text/plain": [
       "<Figure size 288x288 with 1 Axes>"
      ]
     },
     "metadata": {
      "needs_background": "light"
     },
     "output_type": "display_data"
    }
   ],
   "source": [
    "im1 = np.zeros([100, 100,100])\n",
    "im2 = np.zeros([51, 51,51])\n",
    "im1 = ps.generators.RSA(im1, r=25, volume_fraction=0.5)\n",
    "im2 = ps.generators.RSA(im2, r=5, volume_fraction=0.5)\n",
    "im3 = im1.copy()\n",
    "\n",
    "fig, ax = plt.subplots(figsize=[4, 4]);\n",
    "ps.visualization.imshow(im1);\n",
    "plt.axis(False)\n",
    "fig, ax = plt.subplots(figsize=[4, 4]);\n",
    "ps.visualization.imshow(im2);\n",
    "plt.axis(False);\n",
    "\n",
    "#default values:\n",
    "c = [26,26,26]"
   ]
  },
  {
   "cell_type": "markdown",
   "id": "81a1dc0b",
   "metadata": {},
   "source": [
    "## Apply tool"
   ]
  },
  {
   "cell_type": "code",
   "execution_count": 3,
   "id": "a8f3e5aa",
   "metadata": {
    "execution": {
     "iopub.execute_input": "2022-04-20T14:18:38.278874Z",
     "iopub.status.busy": "2022-04-20T14:18:38.277468Z",
     "iopub.status.idle": "2022-04-20T14:18:38.353443Z",
     "shell.execute_reply": "2022-04-20T14:18:38.353002Z"
    }
   },
   "outputs": [
    {
     "data": {
      "image/svg+xml": [
       "<?xml version=\"1.0\" encoding=\"utf-8\" standalone=\"no\"?>\n",
       "<!DOCTYPE svg PUBLIC \"-//W3C//DTD SVG 1.1//EN\"\n",
       "  \"http://www.w3.org/Graphics/SVG/1.1/DTD/svg11.dtd\">\n",
       "<svg xmlns:xlink=\"http://www.w3.org/1999/xlink\" width=\"276.48pt\" height=\"276.48pt\" viewBox=\"0 0 276.48 276.48\" xmlns=\"http://www.w3.org/2000/svg\" version=\"1.1\">\n",
       " <metadata>\n",
       "  <rdf:RDF xmlns:dc=\"http://purl.org/dc/elements/1.1/\" xmlns:cc=\"http://creativecommons.org/ns#\" xmlns:rdf=\"http://www.w3.org/1999/02/22-rdf-syntax-ns#\">\n",
       "   <cc:Work>\n",
       "    <dc:type rdf:resource=\"http://purl.org/dc/dcmitype/StillImage\"/>\n",
       "    <dc:date>2022-04-20T14:18:38.339874</dc:date>\n",
       "    <dc:format>image/svg+xml</dc:format>\n",
       "    <dc:creator>\n",
       "     <cc:Agent>\n",
       "      <dc:title>Matplotlib v3.5.1, https://matplotlib.org/</dc:title>\n",
       "     </cc:Agent>\n",
       "    </dc:creator>\n",
       "   </cc:Work>\n",
       "  </rdf:RDF>\n",
       " </metadata>\n",
       " <defs>\n",
       "  <style type=\"text/css\">*{stroke-linejoin: round; stroke-linecap: butt}</style>\n",
       " </defs>\n",
       " <g id=\"figure_1\">\n",
       "  <g id=\"patch_1\">\n",
       "   <path d=\"M 0 276.48 \n",
       "L 276.48 276.48 \n",
       "L 276.48 0 \n",
       "L 0 0 \n",
       "L 0 276.48 \n",
       "z\n",
       "\" style=\"fill: none\"/>\n",
       "  </g>\n",
       "  <g id=\"axes_1\">\n",
       "   <g clip-path=\"url(#p966b14a110)\">\n",
       "    <image xlink:href=\"data:image/png;base64,\n",
       "iVBORw0KGgoAAAANSUhEUgAAAGQAAABkCAYAAABw4pVUAAACuUlEQVR4nO2cQXKDMAxFRadHyxFyzB4hd6OLjCckYwLGkvwl/7fMNGD0LOEYFRFCyD5L6xduy339/Oyx/jUfh9T5afnjmoxvn5N2moQQeygEDAoBg0LAaBKyt5riKosQ4kO11PDH3zh4UwfjV+MgHhn1bTcgU/Z2lyzLQF3ZkokuRyVDetHcC7st9zWylKqQyBck8hIc8TpS39Qj7kKnFhKRbiHo2ynRsmSaoKFMkCNYssBwXfZyS+YYt2Ag1PII8lmywLhcslh+bLiUIWwHsoMlCww3ISxn53Bd9taksMy9M7xkeWVOlAy9JAR9/yoyl0sWg2/D8JIlYi830uSBECJiF7RIMkSAhJAnUEK0Z3O07BABeUBVo+f3SUQRBagM2XI1qJFliDhkyJmZfiaIU3cuajBj16EGpwOg1V56BIKUkZNJXYjGZuEIKZqbnD3jV72pa12U5w7wbbmv2ufrOaaaEIuL0jxe7fiI54Bd9lri/Qym5XwqtdryAjXvJwgPw46uZ5oMQZAhcjyOKYSgyCh8G096IWgyCnvjSi8kGqmFoGZHoTa+tELQZRQ+x5lWSFRSComSHYXteFWEsEFBj3QZEi07CmXcakLYoKCDaoZoBXFWGSJGj3BHPTGMWq62mNxDZu0Y0SBM14nWudBJNSMzCEm37I2O2b+0zdLYpo16YFrKhud7GaMwtA0oQwC1Gd4GRCnvqAjpDSqlvOAqC4xuIRHbR5FhhoCRSkj03zeP9W9JJSQDFAJGOiFRy1YZdzoh0TF7s/Wo42gfy4PteJkhYED0ZVnM6ChZ8jnO4W1AloFDl1Ib39A2IPSAjWDImxy8RSDuk+3FYJoZiiTl24ScZpWFUh6PxgExSG9GZMvZCTFNhmzxzpaW802ZIVvQXnowvZACytuAKKQCX75GCCGEEEIIIYSQJ/8JwFWHCZV8hgAAAABJRU5ErkJggg==\" id=\"image591cf369ff\" transform=\"matrix(2.63 0 0 -2.63 7.2 269.28)\" style=\"image-rendering:crisp-edges;image-rendering:pixelated\" width=\"100\" height=\"100\"/>\n",
       "   </g>\n",
       "  </g>\n",
       " </g>\n",
       " <defs>\n",
       "  <clipPath id=\"p966b14a110\">\n",
       "   <rect x=\"7.2\" y=\"7.2\" width=\"262.08\" height=\"262.08\"/>\n",
       "  </clipPath>\n",
       " </defs>\n",
       "</svg>\n"
      ],
      "text/plain": [
       "<Figure size 288x288 with 1 Axes>"
      ]
     },
     "metadata": {
      "needs_background": "light"
     },
     "output_type": "display_data"
    }
   ],
   "source": [
    "im = ps.tools.overlay(im1=im1,im2=im2, c=c)\n",
    "fig, ax = plt.subplots(figsize=[4, 4]);\n",
    "ps.visualization.imshow(im);\n",
    "plt.axis(False);"
   ]
  },
  {
   "cell_type": "code",
   "execution_count": 4,
   "id": "8e89b639",
   "metadata": {
    "execution": {
     "iopub.execute_input": "2022-04-20T14:18:38.358102Z",
     "iopub.status.busy": "2022-04-20T14:18:38.356727Z",
     "iopub.status.idle": "2022-04-20T14:18:38.433532Z",
     "shell.execute_reply": "2022-04-20T14:18:38.433044Z"
    }
   },
   "outputs": [
    {
     "data": {
      "image/svg+xml": [
       "<?xml version=\"1.0\" encoding=\"utf-8\" standalone=\"no\"?>\n",
       "<!DOCTYPE svg PUBLIC \"-//W3C//DTD SVG 1.1//EN\"\n",
       "  \"http://www.w3.org/Graphics/SVG/1.1/DTD/svg11.dtd\">\n",
       "<svg xmlns:xlink=\"http://www.w3.org/1999/xlink\" width=\"276.48pt\" height=\"276.48pt\" viewBox=\"0 0 276.48 276.48\" xmlns=\"http://www.w3.org/2000/svg\" version=\"1.1\">\n",
       " <metadata>\n",
       "  <rdf:RDF xmlns:dc=\"http://purl.org/dc/elements/1.1/\" xmlns:cc=\"http://creativecommons.org/ns#\" xmlns:rdf=\"http://www.w3.org/1999/02/22-rdf-syntax-ns#\">\n",
       "   <cc:Work>\n",
       "    <dc:type rdf:resource=\"http://purl.org/dc/dcmitype/StillImage\"/>\n",
       "    <dc:date>2022-04-20T14:18:38.421144</dc:date>\n",
       "    <dc:format>image/svg+xml</dc:format>\n",
       "    <dc:creator>\n",
       "     <cc:Agent>\n",
       "      <dc:title>Matplotlib v3.5.1, https://matplotlib.org/</dc:title>\n",
       "     </cc:Agent>\n",
       "    </dc:creator>\n",
       "   </cc:Work>\n",
       "  </rdf:RDF>\n",
       " </metadata>\n",
       " <defs>\n",
       "  <style type=\"text/css\">*{stroke-linejoin: round; stroke-linecap: butt}</style>\n",
       " </defs>\n",
       " <g id=\"figure_1\">\n",
       "  <g id=\"patch_1\">\n",
       "   <path d=\"M 0 276.48 \n",
       "L 276.48 276.48 \n",
       "L 276.48 0 \n",
       "L 0 0 \n",
       "L 0 276.48 \n",
       "z\n",
       "\" style=\"fill: none\"/>\n",
       "  </g>\n",
       "  <g id=\"axes_1\">\n",
       "   <g clip-path=\"url(#pffe8dbc2a2)\">\n",
       "    <image xlink:href=\"data:image/png;base64,\n",
       "iVBORw0KGgoAAAANSUhEUgAAAGQAAABkCAYAAABw4pVUAAACX0lEQVR4nO2cXXLCMAwGRYej9Qg9JkfgbvSB8QCZhPzJ9id597XTiayVjElEzAAAAAAAAAAAAAAOcOkdwFZ+L3+Ppb/dH7cw61hDeiHfJCwRXc5P7wCWOCLjzP+pIFdNngmN2C1SHeJd3RG7RUoICAmpVc3RukRCSO2kRZIiIQReIESM7kJabSdRtq3uQuAThIiBEDEQIgZCxECIGN2FtLojG+XOb3ch8AlCxJAQUns7ibJdmYkIMauXtEgyzISEwBMpId7VHK07zASHHApn7s5GFFGQ6pB3jiY1sgyzBh2ypdK3JJHJxZOMOHXoQZUERN//exaT++I9HpX2kKIyMem6cJVF7aHms/Yja3BbdI2F1ZTScuhhzzpkj701aT2Bsud6LhWo1vZLKIwCra1nmA5RkGG2HscQQlRkFL7Fk16ImozCUlzX1oHURDX5e0jTIRFlzMWcRkhUplIQIgZCBHjvEhchDCj4kaZDossrXeImRGFAIboUM+cO8UpIhsQeJdUTw4jfRaZU+QwZdWLEgzBTJ17XUidVRWYQkubYm4Vqd3tHGWzzpusYkLcYtqwJexOSIYHeuAkZ9R2J3rgIOZtUpLzglCXGaSFe1U2XPKFDxEglJPr3m/vjdkklJAMIESOdkKjbVok7nZDonBai+Ng2Wpe8x0uHiCExl1WjoqN0yTTO7mNANROnLmUuvq5jQOoJ60GXX7m2EKF+b2wpB2krVFnIt4LklNWYtd0h1U/a1ijJ6NE9W7fpITuk9WFiz/XSfoZsRe2lB8MLKai8OAchM/DyNQAAAAAAAAB48g+sfA8MB3driQAAAABJRU5ErkJggg==\" id=\"image34ce29ee44\" transform=\"matrix(2.63 0 0 -2.63 7.2 269.28)\" style=\"image-rendering:crisp-edges;image-rendering:pixelated\" width=\"100\" height=\"100\"/>\n",
       "   </g>\n",
       "  </g>\n",
       " </g>\n",
       " <defs>\n",
       "  <clipPath id=\"pffe8dbc2a2\">\n",
       "   <rect x=\"7.2\" y=\"7.2\" width=\"262.08\" height=\"262.08\"/>\n",
       "  </clipPath>\n",
       " </defs>\n",
       "</svg>\n"
      ],
      "text/plain": [
       "<Figure size 288x288 with 1 Axes>"
      ]
     },
     "metadata": {
      "needs_background": "light"
     },
     "output_type": "display_data"
    }
   ],
   "source": [
    "im = ps.tools.overlay(im1=im3, im2=im2, c=[74, 74, 74])\n",
    "fig, ax = plt.subplots(figsize=[4, 4]);\n",
    "ps.visualization.imshow(im);\n",
    "plt.axis(False);"
   ]
  }
 ],
 "metadata": {
  "kernelspec": {
   "display_name": "Python 3 (ipykernel)",
   "language": "python",
   "name": "python3"
  },
  "language_info": {
   "codemirror_mode": {
    "name": "ipython",
    "version": 3
   },
   "file_extension": ".py",
   "mimetype": "text/x-python",
   "name": "python",
   "nbconvert_exporter": "python",
   "pygments_lexer": "ipython3",
   "version": "3.8.13"
  }
 },
 "nbformat": 4,
 "nbformat_minor": 5
}
