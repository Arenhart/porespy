{
 "cells": [
  {
   "cell_type": "markdown",
   "id": "3ad4f391",
   "metadata": {},
   "source": [
    "# overlay"
   ]
  },
  {
   "cell_type": "markdown",
   "id": "576b676f",
   "metadata": {},
   "source": [
    "## Import packages"
   ]
  },
  {
   "cell_type": "code",
   "execution_count": 1,
   "id": "c014c256",
   "metadata": {
    "execution": {
     "iopub.execute_input": "2022-03-30T14:06:27.712372Z",
     "iopub.status.busy": "2022-03-30T14:06:27.711978Z",
     "iopub.status.idle": "2022-03-30T14:06:29.962961Z",
     "shell.execute_reply": "2022-03-30T14:06:29.962386Z"
    }
   },
   "outputs": [],
   "source": [
    "import numpy as np\n",
    "import porespy as ps\n",
    "import scipy.ndimage as spim\n",
    "import matplotlib.pyplot as plt\n",
    "import skimage\n",
    "ps.visualization.set_mpl_style()"
   ]
  },
  {
   "cell_type": "markdown",
   "id": "baec4d85",
   "metadata": {},
   "source": [
    "## Create image and variables"
   ]
  },
  {
   "cell_type": "code",
   "execution_count": 2,
   "id": "fa63c237",
   "metadata": {
    "execution": {
     "iopub.execute_input": "2022-03-30T14:06:29.967886Z",
     "iopub.status.busy": "2022-03-30T14:06:29.966844Z",
     "iopub.status.idle": "2022-03-30T14:06:31.136051Z",
     "shell.execute_reply": "2022-03-30T14:06:31.135432Z"
    }
   },
   "outputs": [
    {
     "name": "stderr",
     "output_type": "stream",
     "text": [
      "/tmp/ipykernel_9796/2366592848.py:3: DeprecationWarning: Call to deprecated function (or staticmethod) RSA. (This function has been renamed to rsa (lowercase to meet pep8)\n",
      "  im1 = ps.generators.RSA(im1, r=25, volume_fraction=0.5)\n"
     ]
    },
    {
     "name": "stderr",
     "output_type": "stream",
     "text": [
      "/tmp/ipykernel_9796/2366592848.py:4: DeprecationWarning: Call to deprecated function (or staticmethod) RSA. (This function has been renamed to rsa (lowercase to meet pep8)\n",
      "  im2 = ps.generators.RSA(im2, r=5, volume_fraction=0.5)\n"
     ]
    },
    {
     "data": {
      "image/svg+xml": [
       "<?xml version=\"1.0\" encoding=\"utf-8\" standalone=\"no\"?>\n",
       "<!DOCTYPE svg PUBLIC \"-//W3C//DTD SVG 1.1//EN\"\n",
       "  \"http://www.w3.org/Graphics/SVG/1.1/DTD/svg11.dtd\">\n",
       "<svg xmlns:xlink=\"http://www.w3.org/1999/xlink\" width=\"276.48pt\" height=\"276.48pt\" viewBox=\"0 0 276.48 276.48\" xmlns=\"http://www.w3.org/2000/svg\" version=\"1.1\">\n",
       " <metadata>\n",
       "  <rdf:RDF xmlns:dc=\"http://purl.org/dc/elements/1.1/\" xmlns:cc=\"http://creativecommons.org/ns#\" xmlns:rdf=\"http://www.w3.org/1999/02/22-rdf-syntax-ns#\">\n",
       "   <cc:Work>\n",
       "    <dc:type rdf:resource=\"http://purl.org/dc/dcmitype/StillImage\"/>\n",
       "    <dc:date>2022-03-30T14:06:31.055337</dc:date>\n",
       "    <dc:format>image/svg+xml</dc:format>\n",
       "    <dc:creator>\n",
       "     <cc:Agent>\n",
       "      <dc:title>Matplotlib v3.5.1, https://matplotlib.org/</dc:title>\n",
       "     </cc:Agent>\n",
       "    </dc:creator>\n",
       "   </cc:Work>\n",
       "  </rdf:RDF>\n",
       " </metadata>\n",
       " <defs>\n",
       "  <style type=\"text/css\">*{stroke-linejoin: round; stroke-linecap: butt}</style>\n",
       " </defs>\n",
       " <g id=\"figure_1\">\n",
       "  <g id=\"patch_1\">\n",
       "   <path d=\"M 0 276.48 \n",
       "L 276.48 276.48 \n",
       "L 276.48 0 \n",
       "L 0 0 \n",
       "L 0 276.48 \n",
       "z\n",
       "\" style=\"fill: none\"/>\n",
       "  </g>\n",
       "  <g id=\"axes_1\">\n",
       "   <g clip-path=\"url(#p3886a80ff6)\">\n",
       "    <image xlink:href=\"data:image/png;base64,\n",
       "iVBORw0KGgoAAAANSUhEUgAAAGQAAABkCAYAAABw4pVUAAACSklEQVR4nO2c23HDIAAEcSalpYSU6RLcm/NFRpYfAsTjDnb/ZU4sJ8mMRiEAANhwqf2DP5ffe+4xt/u1eg5XqkxEiYR3rC7n1MnXFLFnVTFFJ91SxJ7VxHzlHtBTxojxRpO8+hQmZoW2JDVEQUYIOjlacihEbRLU8tTmoxDVk1fNVYPsmzq05a0Q9VWonq+Ul0JcTtYlZw5cssR4EuK26tzyHkFDxHgQ4rraXHO/goaIgRAx/oW41949f4SGiIEQMRAiBkLEQIgYCBEDIWIgRAyEiIEQMb5HBxhJynZL73fBlhJSst+1P6a1oIcfd96g+zRRLc6rlZipG9JygcXfri1mSiE9m15bzMNTluvLzNvcoy67tcad6rF39D2wxvhPQtxaEvOOlhE5m2OKhqjIiJzJ81KIS0tu9+tFTUakNNfbhqhLUZYRKck3xSVrJj4KUW2JQzsiuTkPG6ImRS1PbZIuWSqToPaIm0pO3uStk5GTobIgepB9U+89Ofvx3NoRSc1dtLnYoy0rtWLLqd3eFmJWFRGpsv1+drd1dQlbrCbC9f6x5Wjx8U9dDISIgRAxECIGQsRAiBgIEQMhYlgJcf9Hn5LfSsgKIEQMhIhhJ8T1PpKa207I7FgKcWtJTl5LITNjK8SlJbk5bYXMirUQ9ZaU5LMWEoKulNJc9kJC0JNyJs8UQkLQkXI2xzRCQhgvpcb4UwkJYZyUWuNK1LwVPV6sq70AphYScfrWyRJCIjXEdP0a0Goofi8LAAAAAAAAAAAAAAAAAABk+AOHxO8KA9je/AAAAABJRU5ErkJggg==\" id=\"image4bf542a067\" transform=\"matrix(2.63 0 0 -2.63 7.2 269.28)\" style=\"image-rendering:crisp-edges;image-rendering:pixelated\" width=\"100\" height=\"100\"/>\n",
       "   </g>\n",
       "  </g>\n",
       " </g>\n",
       " <defs>\n",
       "  <clipPath id=\"p3886a80ff6\">\n",
       "   <rect x=\"7.2\" y=\"7.2\" width=\"262.08\" height=\"262.08\"/>\n",
       "  </clipPath>\n",
       " </defs>\n",
       "</svg>\n"
      ],
      "text/plain": [
       "<Figure size 288x288 with 1 Axes>"
      ]
     },
     "metadata": {
      "needs_background": "light"
     },
     "output_type": "display_data"
    },
    {
     "data": {
      "image/svg+xml": [
       "<?xml version=\"1.0\" encoding=\"utf-8\" standalone=\"no\"?>\n",
       "<!DOCTYPE svg PUBLIC \"-//W3C//DTD SVG 1.1//EN\"\n",
       "  \"http://www.w3.org/Graphics/SVG/1.1/DTD/svg11.dtd\">\n",
       "<svg xmlns:xlink=\"http://www.w3.org/1999/xlink\" width=\"276.48pt\" height=\"276.48pt\" viewBox=\"0 0 276.48 276.48\" xmlns=\"http://www.w3.org/2000/svg\" version=\"1.1\">\n",
       " <metadata>\n",
       "  <rdf:RDF xmlns:dc=\"http://purl.org/dc/elements/1.1/\" xmlns:cc=\"http://creativecommons.org/ns#\" xmlns:rdf=\"http://www.w3.org/1999/02/22-rdf-syntax-ns#\">\n",
       "   <cc:Work>\n",
       "    <dc:type rdf:resource=\"http://purl.org/dc/dcmitype/StillImage\"/>\n",
       "    <dc:date>2022-03-30T14:06:31.120321</dc:date>\n",
       "    <dc:format>image/svg+xml</dc:format>\n",
       "    <dc:creator>\n",
       "     <cc:Agent>\n",
       "      <dc:title>Matplotlib v3.5.1, https://matplotlib.org/</dc:title>\n",
       "     </cc:Agent>\n",
       "    </dc:creator>\n",
       "   </cc:Work>\n",
       "  </rdf:RDF>\n",
       " </metadata>\n",
       " <defs>\n",
       "  <style type=\"text/css\">*{stroke-linejoin: round; stroke-linecap: butt}</style>\n",
       " </defs>\n",
       " <g id=\"figure_1\">\n",
       "  <g id=\"patch_1\">\n",
       "   <path d=\"M 0 276.48 \n",
       "L 276.48 276.48 \n",
       "L 276.48 0 \n",
       "L 0 0 \n",
       "L 0 276.48 \n",
       "z\n",
       "\" style=\"fill: none\"/>\n",
       "  </g>\n",
       "  <g id=\"axes_1\">\n",
       "   <g clip-path=\"url(#pf1421e768c)\">\n",
       "    <image xlink:href=\"data:image/png;base64,\n",
       "iVBORw0KGgoAAAANSUhEUgAAADMAAAAzCAYAAAA6oTAqAAABOUlEQVR4nO2ZWxKDIAxF0XFpXUKX2SV0b/arHYZBzONqbpmcTxkwV8gDU8pELJEvfyzPvX323l9mm8wTvYb05lvWqVktk44MGRl4B2oxZwZHCjLtDCtbtAEjtH6pdjTJMapfODJIO9Zbv+ZSMdaIpf1gX9Q+cxY2JUIk4xZMAeBIkCfhITAHgGjDe0wVminFSP2y5TIxVoPOxqF5Rgu6Mk7+Eart9h5JUQ11B4jL2jpa6K67Car02SQLaYvCqGjlyjPRO9pCWQFYSTFovKXPlxW1kBfEHcmdZ5iiWZIkyRzQhFBEiFf9N2PPKeJyhq1C7kFRm6GA92cijyK0oXpF01UD7Jgx9DrFYljbGDUqn2EyvMdPDHsOkbCVMs4hEYKsHxYWABiu39CkGR0k4Ekz0s+mKmdougBJwwfESskyPxWivwAAAABJRU5ErkJggg==\" id=\"image8c130e875a\" transform=\"matrix(5.156863 0 0 -5.156863 7.2 269.28)\" style=\"image-rendering:crisp-edges;image-rendering:pixelated\" width=\"51\" height=\"51\"/>\n",
       "   </g>\n",
       "  </g>\n",
       " </g>\n",
       " <defs>\n",
       "  <clipPath id=\"pf1421e768c\">\n",
       "   <rect x=\"7.2\" y=\"7.2\" width=\"262.08\" height=\"262.08\"/>\n",
       "  </clipPath>\n",
       " </defs>\n",
       "</svg>\n"
      ],
      "text/plain": [
       "<Figure size 288x288 with 1 Axes>"
      ]
     },
     "metadata": {
      "needs_background": "light"
     },
     "output_type": "display_data"
    }
   ],
   "source": [
    "im1 = np.zeros([100, 100,100])\n",
    "im2 = np.zeros([51, 51,51])\n",
    "im1 = ps.generators.RSA(im1, r=25, volume_fraction=0.5)\n",
    "im2 = ps.generators.RSA(im2, r=5, volume_fraction=0.5)\n",
    "im3 = im1.copy()\n",
    "\n",
    "fig, ax = plt.subplots(figsize=[4, 4]);\n",
    "ps.visualization.imshow(im1);\n",
    "plt.axis(False)\n",
    "fig, ax = plt.subplots(figsize=[4, 4]);\n",
    "ps.visualization.imshow(im2);\n",
    "plt.axis(False);\n",
    "\n",
    "#default values:\n",
    "c = [26,26,26]"
   ]
  },
  {
   "cell_type": "markdown",
   "id": "1f709967",
   "metadata": {},
   "source": [
    "## Apply tool"
   ]
  },
  {
   "cell_type": "code",
   "execution_count": 3,
   "id": "4b2a6362",
   "metadata": {
    "execution": {
     "iopub.execute_input": "2022-03-30T14:06:31.139085Z",
     "iopub.status.busy": "2022-03-30T14:06:31.138774Z",
     "iopub.status.idle": "2022-03-30T14:06:31.226675Z",
     "shell.execute_reply": "2022-03-30T14:06:31.218858Z"
    }
   },
   "outputs": [
    {
     "data": {
      "image/svg+xml": [
       "<?xml version=\"1.0\" encoding=\"utf-8\" standalone=\"no\"?>\n",
       "<!DOCTYPE svg PUBLIC \"-//W3C//DTD SVG 1.1//EN\"\n",
       "  \"http://www.w3.org/Graphics/SVG/1.1/DTD/svg11.dtd\">\n",
       "<svg xmlns:xlink=\"http://www.w3.org/1999/xlink\" width=\"276.48pt\" height=\"276.48pt\" viewBox=\"0 0 276.48 276.48\" xmlns=\"http://www.w3.org/2000/svg\" version=\"1.1\">\n",
       " <metadata>\n",
       "  <rdf:RDF xmlns:dc=\"http://purl.org/dc/elements/1.1/\" xmlns:cc=\"http://creativecommons.org/ns#\" xmlns:rdf=\"http://www.w3.org/1999/02/22-rdf-syntax-ns#\">\n",
       "   <cc:Work>\n",
       "    <dc:type rdf:resource=\"http://purl.org/dc/dcmitype/StillImage\"/>\n",
       "    <dc:date>2022-03-30T14:06:31.207736</dc:date>\n",
       "    <dc:format>image/svg+xml</dc:format>\n",
       "    <dc:creator>\n",
       "     <cc:Agent>\n",
       "      <dc:title>Matplotlib v3.5.1, https://matplotlib.org/</dc:title>\n",
       "     </cc:Agent>\n",
       "    </dc:creator>\n",
       "   </cc:Work>\n",
       "  </rdf:RDF>\n",
       " </metadata>\n",
       " <defs>\n",
       "  <style type=\"text/css\">*{stroke-linejoin: round; stroke-linecap: butt}</style>\n",
       " </defs>\n",
       " <g id=\"figure_1\">\n",
       "  <g id=\"patch_1\">\n",
       "   <path d=\"M 0 276.48 \n",
       "L 276.48 276.48 \n",
       "L 276.48 0 \n",
       "L 0 0 \n",
       "L 0 276.48 \n",
       "z\n",
       "\" style=\"fill: none\"/>\n",
       "  </g>\n",
       "  <g id=\"axes_1\">\n",
       "   <g clip-path=\"url(#p18aafedf75)\">\n",
       "    <image xlink:href=\"data:image/png;base64,\n",
       "iVBORw0KGgoAAAANSUhEUgAAAGQAAABkCAYAAABw4pVUAAACRUlEQVR4nO2cUXaDIBBFJz1dWpfQZXYJ3Vv6ZU/aGAVEeG+899/w5DKgRI0AALDh1vsHP26f99pjvu9f3XO40qUjWiS84upyVk9+rYPXOqqniL32SjO5U9XJSwecKWKtzZJMWXirPWCkjBntzaZKyNU6ZwbVFQLnghAxnoQ4LZJOWUvZPCHlNSOjjIiNKUtZRoR+vlZWhbicrEvOGljUxXgS4jbq3PLuQYWI8UeI62hzzb0GFSIGQsT4FeJe9u75F6gQMRAiBkLEQIgYCBEDIWIgRAyEiIEQMRAixvvsADMp2W4Z/d/9pYS07Hf9P+ZsQbsPNLuw1VFnnNdZYlJXyJkDbPnt3mJSChlZ6b3F/LnKcn347DH3rGm3V7upLntnr4E92rd+tjdizktEWxzNkaJCVGQsHMmzKsSlSvZed5tJa66XFaIuRVnGQku+FFNWJnarQH0UOlAz2+xWiPrUlY2iKUtFikqOWmpmmeKtk5nX+64iWqhe1Ed3ThYZpQO5aXNxRLVkEVHLod3eM8RcVcRCl+33o7utV5fwiFVHZLgn2ht83KmLgRAxECIGQsRAiBgIEQMhYiBEDCsh7nf0JfmthFwBhIiBEDHshLiuI6W57YRkx1KIW5V0fQwIxmIrxKVKanPaCsmKtRD1KmnJZy0kQldKay57IRF6Uo7kSSEkQkfK0RxphETMl9Kj/VRCIuZJ6dWuRJmfxYgH63oPgNRCFpy+dXIJIQs9xAz9GtDVUPxeFgAAAAAAAAAAAAAAAAAAyPADH3bySdaGjZ0AAAAASUVORK5CYII=\" id=\"image7c960cb557\" transform=\"matrix(2.63 0 0 -2.63 7.2 269.28)\" style=\"image-rendering:crisp-edges;image-rendering:pixelated\" width=\"100\" height=\"100\"/>\n",
       "   </g>\n",
       "  </g>\n",
       " </g>\n",
       " <defs>\n",
       "  <clipPath id=\"p18aafedf75\">\n",
       "   <rect x=\"7.2\" y=\"7.2\" width=\"262.08\" height=\"262.08\"/>\n",
       "  </clipPath>\n",
       " </defs>\n",
       "</svg>\n"
      ],
      "text/plain": [
       "<Figure size 288x288 with 1 Axes>"
      ]
     },
     "metadata": {
      "needs_background": "light"
     },
     "output_type": "display_data"
    }
   ],
   "source": [
    "im = ps.tools.overlay(im1=im1,im2=im2, c=c)\n",
    "fig, ax = plt.subplots(figsize=[4, 4]);\n",
    "ps.visualization.imshow(im);\n",
    "plt.axis(False);"
   ]
  },
  {
   "cell_type": "code",
   "execution_count": 4,
   "id": "9f064c83",
   "metadata": {
    "execution": {
     "iopub.execute_input": "2022-03-30T14:06:31.229920Z",
     "iopub.status.busy": "2022-03-30T14:06:31.229604Z",
     "iopub.status.idle": "2022-03-30T14:06:31.310335Z",
     "shell.execute_reply": "2022-03-30T14:06:31.309875Z"
    }
   },
   "outputs": [
    {
     "data": {
      "image/svg+xml": [
       "<?xml version=\"1.0\" encoding=\"utf-8\" standalone=\"no\"?>\n",
       "<!DOCTYPE svg PUBLIC \"-//W3C//DTD SVG 1.1//EN\"\n",
       "  \"http://www.w3.org/Graphics/SVG/1.1/DTD/svg11.dtd\">\n",
       "<svg xmlns:xlink=\"http://www.w3.org/1999/xlink\" width=\"276.48pt\" height=\"276.48pt\" viewBox=\"0 0 276.48 276.48\" xmlns=\"http://www.w3.org/2000/svg\" version=\"1.1\">\n",
       " <metadata>\n",
       "  <rdf:RDF xmlns:dc=\"http://purl.org/dc/elements/1.1/\" xmlns:cc=\"http://creativecommons.org/ns#\" xmlns:rdf=\"http://www.w3.org/1999/02/22-rdf-syntax-ns#\">\n",
       "   <cc:Work>\n",
       "    <dc:type rdf:resource=\"http://purl.org/dc/dcmitype/StillImage\"/>\n",
       "    <dc:date>2022-03-30T14:06:31.298124</dc:date>\n",
       "    <dc:format>image/svg+xml</dc:format>\n",
       "    <dc:creator>\n",
       "     <cc:Agent>\n",
       "      <dc:title>Matplotlib v3.5.1, https://matplotlib.org/</dc:title>\n",
       "     </cc:Agent>\n",
       "    </dc:creator>\n",
       "   </cc:Work>\n",
       "  </rdf:RDF>\n",
       " </metadata>\n",
       " <defs>\n",
       "  <style type=\"text/css\">*{stroke-linejoin: round; stroke-linecap: butt}</style>\n",
       " </defs>\n",
       " <g id=\"figure_1\">\n",
       "  <g id=\"patch_1\">\n",
       "   <path d=\"M 0 276.48 \n",
       "L 276.48 276.48 \n",
       "L 276.48 0 \n",
       "L 0 0 \n",
       "L 0 276.48 \n",
       "z\n",
       "\" style=\"fill: none\"/>\n",
       "  </g>\n",
       "  <g id=\"axes_1\">\n",
       "   <g clip-path=\"url(#p8a34abc944)\">\n",
       "    <image xlink:href=\"data:image/png;base64,\n",
       "iVBORw0KGgoAAAANSUhEUgAAAGQAAABkCAYAAABw4pVUAAACkklEQVR4nO2cW3LCMBAERSpHyxFyTI7A3ciXUsbYWI+VNLM7/Q8eqzWWrTKkJIQQNNysv/Dn9vus/czjeTfPwYrJQLRIOCO6nK6TtxSxJ6qYppMeKWJPNDFftR+YKWPF8VZTPPsQBiZCW4oagiAjJZwcI7kUgjYIaHms+SgE9eRRc1lQvaiLsZwKQZ+F6PlaORTCcrIsOWvQJQuMNyFss44t7xVqCBgvQlhnG2vuI9QQMCQEjH8h7LVnz59RQ8CQEDAkBAwJAUNCwJAQMCQEDAkBQ0LAkBAwvlcHWEnJdsvsd8FCCWnZ79p/ZrSgly9n3qD7NFAjzmuUGNcNGTnB8ndbi3EpZGbTrcW83GWxvsy8zb3qsmt1XFe3vavXQIvjvwlha0nOu1pGpjeHi4agyMj05DkUwtKSx/N+Q5ORac112hB0KcgyMi35XFyyPPFRCGpLGNqRqc152RA0KWh5rCm6ZKEMAtotbik1eYu3TlYOBsqEmEH1oj57cPbHY2tHpjR30+bijLZEasWWrt3eEWKiisiYbL/37rZGl7CFaiBY148tV5NPT+pgSAgYEgKG1pCFHK0nashCjiaYhIAhIWBICBhUQiI80VMJ8cbRBHP5KikqJQ1XQ8CgE8K6jpTmphPiHUohbC2pyUspxDO0QlhaUpuTVohXqIWgt6QlH7WQlHCltOaiF5ISnpSePC6EpIQjpTeHGyEprZdicXxXQlJaJ8XquBA1H8WMlyKsJ4BrIRmm/zoJISRjIWbqvwFFA/H/sgQYru0fNQB9xru77WVHQsCQEDAkRAghRCvQ9+RIzHqm0aIORqiXrRme3MM05GwjEe2HpGGEsBDqktXDrEubGgKGhIARRsjZJQftLkuA8QcWfA2gUmXp4QAAAABJRU5ErkJggg==\" id=\"image1521ad1e01\" transform=\"matrix(2.63 0 0 -2.63 7.2 269.28)\" style=\"image-rendering:crisp-edges;image-rendering:pixelated\" width=\"100\" height=\"100\"/>\n",
       "   </g>\n",
       "  </g>\n",
       " </g>\n",
       " <defs>\n",
       "  <clipPath id=\"p8a34abc944\">\n",
       "   <rect x=\"7.2\" y=\"7.2\" width=\"262.08\" height=\"262.08\"/>\n",
       "  </clipPath>\n",
       " </defs>\n",
       "</svg>\n"
      ],
      "text/plain": [
       "<Figure size 288x288 with 1 Axes>"
      ]
     },
     "metadata": {
      "needs_background": "light"
     },
     "output_type": "display_data"
    }
   ],
   "source": [
    "im = ps.tools.overlay(im1=im3, im2=im2, c=[74, 74, 74])\n",
    "fig, ax = plt.subplots(figsize=[4, 4]);\n",
    "ps.visualization.imshow(im);\n",
    "plt.axis(False);"
   ]
  }
 ],
 "metadata": {
  "kernelspec": {
   "display_name": "Python 3",
   "language": "python",
   "name": "python3"
  },
  "language_info": {
   "codemirror_mode": {
    "name": "ipython",
    "version": 3
   },
   "file_extension": ".py",
   "mimetype": "text/x-python",
   "name": "python",
   "nbconvert_exporter": "python",
   "pygments_lexer": "ipython3",
   "version": "3.8.13"
  }
 },
 "nbformat": 4,
 "nbformat_minor": 5
}
