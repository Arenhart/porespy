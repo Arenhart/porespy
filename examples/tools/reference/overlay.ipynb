{
 "cells": [
  {
   "cell_type": "markdown",
   "id": "4bd55bf8",
   "metadata": {},
   "source": [
    "# `overlay`"
   ]
  },
  {
   "cell_type": "markdown",
   "id": "a71579c9",
   "metadata": {},
   "source": [
    "## Import packages"
   ]
  },
  {
   "cell_type": "code",
   "execution_count": 1,
   "id": "2540ba84",
   "metadata": {
    "execution": {
     "iopub.execute_input": "2022-06-22T19:31:32.230460Z",
     "iopub.status.busy": "2022-06-22T19:31:32.229825Z",
     "iopub.status.idle": "2022-06-22T19:31:34.212089Z",
     "shell.execute_reply": "2022-06-22T19:31:34.211350Z"
    }
   },
   "outputs": [],
   "source": [
    "import numpy as np\n",
    "import porespy as ps\n",
    "import scipy.ndimage as spim\n",
    "import matplotlib.pyplot as plt\n",
    "import skimage\n",
    "ps.visualization.set_mpl_style()"
   ]
  },
  {
   "cell_type": "markdown",
   "id": "24f1086e",
   "metadata": {},
   "source": [
    "## Create image and variables"
   ]
  },
  {
   "cell_type": "code",
   "execution_count": 2,
   "id": "df980fdd",
   "metadata": {
    "execution": {
     "iopub.execute_input": "2022-06-22T19:31:34.220014Z",
     "iopub.status.busy": "2022-06-22T19:31:34.218030Z",
     "iopub.status.idle": "2022-06-22T19:31:35.295882Z",
     "shell.execute_reply": "2022-06-22T19:31:35.295126Z"
    }
   },
   "outputs": [
    {
     "name": "stderr",
     "output_type": "stream",
     "text": [
      "/tmp/ipykernel_10183/2366592848.py:3: DeprecationWarning: Call to deprecated function (or staticmethod) RSA. (This function has been renamed to rsa (lowercase to meet pep8)\n",
      "  im1 = ps.generators.RSA(im1, r=25, volume_fraction=0.5)\n"
     ]
    },
    {
     "name": "stderr",
     "output_type": "stream",
     "text": [
      "/tmp/ipykernel_10183/2366592848.py:4: DeprecationWarning: Call to deprecated function (or staticmethod) RSA. (This function has been renamed to rsa (lowercase to meet pep8)\n",
      "  im2 = ps.generators.RSA(im2, r=5, volume_fraction=0.5)\n"
     ]
    },
    {
     "data": {
      "image/svg+xml": [
       "<?xml version=\"1.0\" encoding=\"utf-8\" standalone=\"no\"?>\n",
       "<!DOCTYPE svg PUBLIC \"-//W3C//DTD SVG 1.1//EN\"\n",
       "  \"http://www.w3.org/Graphics/SVG/1.1/DTD/svg11.dtd\">\n",
       "<svg xmlns:xlink=\"http://www.w3.org/1999/xlink\" width=\"280.8pt\" height=\"280.8pt\" viewBox=\"0 0 280.8 280.8\" xmlns=\"http://www.w3.org/2000/svg\" version=\"1.1\">\n",
       " <metadata>\n",
       "  <rdf:RDF xmlns:dc=\"http://purl.org/dc/elements/1.1/\" xmlns:cc=\"http://creativecommons.org/ns#\" xmlns:rdf=\"http://www.w3.org/1999/02/22-rdf-syntax-ns#\">\n",
       "   <cc:Work>\n",
       "    <dc:type rdf:resource=\"http://purl.org/dc/dcmitype/StillImage\"/>\n",
       "    <dc:date>2022-06-22T19:31:35.242316</dc:date>\n",
       "    <dc:format>image/svg+xml</dc:format>\n",
       "    <dc:creator>\n",
       "     <cc:Agent>\n",
       "      <dc:title>Matplotlib v3.5.2, https://matplotlib.org/</dc:title>\n",
       "     </cc:Agent>\n",
       "    </dc:creator>\n",
       "   </cc:Work>\n",
       "  </rdf:RDF>\n",
       " </metadata>\n",
       " <defs>\n",
       "  <style type=\"text/css\">*{stroke-linejoin: round; stroke-linecap: butt}</style>\n",
       " </defs>\n",
       " <g id=\"figure_1\">\n",
       "  <g id=\"patch_1\">\n",
       "   <path d=\"M 0 280.8 \n",
       "L 280.8 280.8 \n",
       "L 280.8 0 \n",
       "L 0 0 \n",
       "L 0 280.8 \n",
       "z\n",
       "\" style=\"fill: none\"/>\n",
       "  </g>\n",
       "  <g id=\"axes_1\">\n",
       "   <g clip-path=\"url(#p985d8d94df)\">\n",
       "    <image xlink:href=\"data:image/png;base64,\n",
       "iVBORw0KGgoAAAANSUhEUgAAAGQAAABkCAYAAABw4pVUAAACbklEQVR4nO2cXVbsIBAG0ePSXILLdAnuTV/MOXPGZIYATRem6l346KLJnZufUkREluElO8AR7y8f32f/5uv7E7ueWlALaJFwxKpyEKFHirhnNTGpYSNF3LOKmNesiWfKyJivlem7hlAYcrdM7RCCjFI4OfaYJoRWBFqejSlCqIsn5kq7qMs+4UKIu/AWWr5QIbTFHkHK6ZEFI0wIadfVQMlrh8AIEULZbWch5LZDYCgExnAhhLbvITu/HQJDITAUAkMhMBQCQyEwFAJDITAUAkMhMBQCQyEwhgshPxVYQ3Z+OwSGQmCECMlu+1YIue0QGGFCCLvtDJS8dgiMUCGUXfcMUs7wDiEtdg9aPo8sGFOE0HbhBjHXtA6hLZ6WZ2PqkUUpAiXHHmnBMp4QJIvYSLuozy7OCjJK8VsnOFBh/RpQoJBHxa0plt/L6qRnd/+HQo6iuxAeM2NpLsAVLsQ1axydtWmwGb8hMqVkXr9ODXKFH3PZ18LqH4ZZ797NnLd3rhFZq4Rkvwg5Y/5Rc/SO4/2QMl54z3hPhWR3xwYlRzQPhdCKEJEnao2t43pkwTgUQuuODWquUdghMHaF0HchPV8PdggMhcBQCIw/QlY5n1fJeZbLd0jU/ya3jnt5ITQUUsZ3Sc94CvlllJTecRRyQ28xp94xvAqtRQ29p77CPyln3GvPeOrkbeRg/42MJ188smAoBMauEMqTg0fQ8/Vgh8A4FELdhdRco7BDYDwUQtuNtDwRPO0QShEoOaLxyIJRJSR7d2bPP5PqDskqypVklOIbVDiariHRxbqqjFJ8CxeH76nDwH7JQURERERkHD9W2wftC0BzZgAAAABJRU5ErkJggg==\" id=\"image85885636e0\" transform=\"matrix(2.67 0 0 -2.67 7.2 273.6)\" style=\"image-rendering:crisp-edges;image-rendering:pixelated\" width=\"100\" height=\"100\"/>\n",
       "   </g>\n",
       "  </g>\n",
       " </g>\n",
       " <defs>\n",
       "  <clipPath id=\"p985d8d94df\">\n",
       "   <rect x=\"7.2\" y=\"7.2\" width=\"266.4\" height=\"266.4\"/>\n",
       "  </clipPath>\n",
       " </defs>\n",
       "</svg>\n"
      ],
      "text/plain": [
       "<Figure size 288x288 with 1 Axes>"
      ]
     },
     "metadata": {
      "needs_background": "light"
     },
     "output_type": "display_data"
    },
    {
     "data": {
      "image/svg+xml": [
       "<?xml version=\"1.0\" encoding=\"utf-8\" standalone=\"no\"?>\n",
       "<!DOCTYPE svg PUBLIC \"-//W3C//DTD SVG 1.1//EN\"\n",
       "  \"http://www.w3.org/Graphics/SVG/1.1/DTD/svg11.dtd\">\n",
       "<svg xmlns:xlink=\"http://www.w3.org/1999/xlink\" width=\"280.8pt\" height=\"280.8pt\" viewBox=\"0 0 280.8 280.8\" xmlns=\"http://www.w3.org/2000/svg\" version=\"1.1\">\n",
       " <metadata>\n",
       "  <rdf:RDF xmlns:dc=\"http://purl.org/dc/elements/1.1/\" xmlns:cc=\"http://creativecommons.org/ns#\" xmlns:rdf=\"http://www.w3.org/1999/02/22-rdf-syntax-ns#\">\n",
       "   <cc:Work>\n",
       "    <dc:type rdf:resource=\"http://purl.org/dc/dcmitype/StillImage\"/>\n",
       "    <dc:date>2022-06-22T19:31:35.282304</dc:date>\n",
       "    <dc:format>image/svg+xml</dc:format>\n",
       "    <dc:creator>\n",
       "     <cc:Agent>\n",
       "      <dc:title>Matplotlib v3.5.2, https://matplotlib.org/</dc:title>\n",
       "     </cc:Agent>\n",
       "    </dc:creator>\n",
       "   </cc:Work>\n",
       "  </rdf:RDF>\n",
       " </metadata>\n",
       " <defs>\n",
       "  <style type=\"text/css\">*{stroke-linejoin: round; stroke-linecap: butt}</style>\n",
       " </defs>\n",
       " <g id=\"figure_1\">\n",
       "  <g id=\"patch_1\">\n",
       "   <path d=\"M 0 280.8 \n",
       "L 280.8 280.8 \n",
       "L 280.8 0 \n",
       "L 0 0 \n",
       "L 0 280.8 \n",
       "z\n",
       "\" style=\"fill: none\"/>\n",
       "  </g>\n",
       "  <g id=\"axes_1\">\n",
       "   <g clip-path=\"url(#pcc63ed8159)\">\n",
       "    <image xlink:href=\"data:image/png;base64,\n",
       "iVBORw0KGgoAAAANSUhEUgAAADMAAAAzCAYAAAA6oTAqAAABSUlEQVR4nO1ZWxKDIAxEhqP1CD2mR/Bu+kWnoxIiJJvIsF8d2yGb1ybYECYmJp5gsSZQwmf57udn276SfKMeHTxS/tASCW9IIdw7kp9TDnkLQCw5klH73hNS/Sc2aMnwUAIwlDNdZeZN7WKNkDfCFH5EvclsCRRPEbKoQFBjYtvXpdtgzUDv+Rw7GVVjVNQ5BqQc4tiCD03NkoTOGWoHlDgf5gxiB3zNBsCZh91zhqtmUmJRnTO98soJBEL5RNTMy6YA6xnEDggVgBJhqczCh6ZmSUbKgJde4KKZrMcrQ5Nx1KbMsftv7zUbAAfTGa8YyhlTNZNWRDMp1VDE2w3A4wzh4NIz2ldbTQwlACqLplWZimeGW6Yay63pn01PiHOyfcmMx+sAN9vwl9uS553PHUrNxJ2xLFMVAbDqr1lmSDx53+bemRD4fXgAS+bO4UFFLGsAAAAASUVORK5CYII=\" id=\"image2832be277a\" transform=\"matrix(5.235294 0 0 -5.235294 7.2 273.6)\" style=\"image-rendering:crisp-edges;image-rendering:pixelated\" width=\"51\" height=\"51\"/>\n",
       "   </g>\n",
       "  </g>\n",
       " </g>\n",
       " <defs>\n",
       "  <clipPath id=\"pcc63ed8159\">\n",
       "   <rect x=\"7.2\" y=\"7.2\" width=\"266.4\" height=\"266.4\"/>\n",
       "  </clipPath>\n",
       " </defs>\n",
       "</svg>\n"
      ],
      "text/plain": [
       "<Figure size 288x288 with 1 Axes>"
      ]
     },
     "metadata": {
      "needs_background": "light"
     },
     "output_type": "display_data"
    }
   ],
   "source": [
    "im1 = np.zeros([100, 100,100])\n",
    "im2 = np.zeros([51, 51,51])\n",
    "im1 = ps.generators.RSA(im1, r=25, volume_fraction=0.5)\n",
    "im2 = ps.generators.RSA(im2, r=5, volume_fraction=0.5)\n",
    "im3 = im1.copy()\n",
    "\n",
    "fig, ax = plt.subplots(figsize=[4, 4]);\n",
    "ps.visualization.imshow(im1);\n",
    "plt.axis(False)\n",
    "fig, ax = plt.subplots(figsize=[4, 4]);\n",
    "ps.visualization.imshow(im2);\n",
    "plt.axis(False);\n",
    "\n",
    "#default values:\n",
    "c = [26,26,26]"
   ]
  },
  {
   "cell_type": "markdown",
   "id": "81a1dc0b",
   "metadata": {},
   "source": [
    "## Apply tool"
   ]
  },
  {
   "cell_type": "code",
   "execution_count": 3,
   "id": "a8f3e5aa",
   "metadata": {
    "execution": {
     "iopub.execute_input": "2022-06-22T19:31:35.301870Z",
     "iopub.status.busy": "2022-06-22T19:31:35.300179Z",
     "iopub.status.idle": "2022-06-22T19:31:35.380026Z",
     "shell.execute_reply": "2022-06-22T19:31:35.379417Z"
    }
   },
   "outputs": [
    {
     "data": {
      "image/svg+xml": [
       "<?xml version=\"1.0\" encoding=\"utf-8\" standalone=\"no\"?>\n",
       "<!DOCTYPE svg PUBLIC \"-//W3C//DTD SVG 1.1//EN\"\n",
       "  \"http://www.w3.org/Graphics/SVG/1.1/DTD/svg11.dtd\">\n",
       "<svg xmlns:xlink=\"http://www.w3.org/1999/xlink\" width=\"280.8pt\" height=\"280.8pt\" viewBox=\"0 0 280.8 280.8\" xmlns=\"http://www.w3.org/2000/svg\" version=\"1.1\">\n",
       " <metadata>\n",
       "  <rdf:RDF xmlns:dc=\"http://purl.org/dc/elements/1.1/\" xmlns:cc=\"http://creativecommons.org/ns#\" xmlns:rdf=\"http://www.w3.org/1999/02/22-rdf-syntax-ns#\">\n",
       "   <cc:Work>\n",
       "    <dc:type rdf:resource=\"http://purl.org/dc/dcmitype/StillImage\"/>\n",
       "    <dc:date>2022-06-22T19:31:35.364828</dc:date>\n",
       "    <dc:format>image/svg+xml</dc:format>\n",
       "    <dc:creator>\n",
       "     <cc:Agent>\n",
       "      <dc:title>Matplotlib v3.5.2, https://matplotlib.org/</dc:title>\n",
       "     </cc:Agent>\n",
       "    </dc:creator>\n",
       "   </cc:Work>\n",
       "  </rdf:RDF>\n",
       " </metadata>\n",
       " <defs>\n",
       "  <style type=\"text/css\">*{stroke-linejoin: round; stroke-linecap: butt}</style>\n",
       " </defs>\n",
       " <g id=\"figure_1\">\n",
       "  <g id=\"patch_1\">\n",
       "   <path d=\"M 0 280.8 \n",
       "L 280.8 280.8 \n",
       "L 280.8 0 \n",
       "L 0 0 \n",
       "L 0 280.8 \n",
       "z\n",
       "\" style=\"fill: none\"/>\n",
       "  </g>\n",
       "  <g id=\"axes_1\">\n",
       "   <g clip-path=\"url(#p604c1334ff)\">\n",
       "    <image xlink:href=\"data:image/png;base64,\n",
       "iVBORw0KGgoAAAANSUhEUgAAAGQAAABkCAYAAABw4pVUAAACqElEQVR4nO2cUXbrIAwFSU+WliVkmV1C95b+lDRJIcYgoaG+8/fOecVCg+QkBqckhBDLcIoOoMbldL3t/Zuv2yd2Pq2gJtAjocaqchBBW4p4ZTUxocF6inhlFTEfUReeKSPier1MXzWExJCrZWqFEGSkxImjxDQhtCTQ4skMlW5pUqV2QJ18Srz21V0htSSTk78C7i2LLogW3/nxH60tqBXaZGtcTtcbpXXdK0QtiIFby1pNJCXebiG1EqeU/qrck/duhexNMmW19RC9oMJ+yxJl7kLUghiYJ3vldpWJXIRqWTAkBIaEwJAQGBICQ0JgSAgMCYEhITAkBIaEwJAQGOZCVv91ODp+VQgMCYHhIiS67HshxK0KgeEmhLDa9kCJVxUCw1UIZdVtQYrTvUJIky1Bi++8/V+esd6QLZ7ZVSG9G7KpwohxTbup0yZPiycz9VMWJQmUOErsvoeMkpMRscORLCIT9j1kdnJWkJFSx95ej09ZetfJL6hg9TYgRyGjB4D0vqxBRlb3f0ikFcOJUJuxBXkGnSKmZY7WsXYNNuM7RKSUyPsX/nTtbDHR98LmL4ZRZwdnXnf0WhaxNgmJPsg54/pW1xgdR49wk73wkfE2hURXR4YShzdvhdCS4BGP1xx7x1XLglEVQquODDUuK1QhMIpC6KuQHt8IqhAYEgJDQmD8EbJKf14lzr0cvkK8fk3uHffwQmhISLKvkpHxJOQHKymj40jIA6PJnPrE8Cj0JtX1mfoKHylnPGuP2HUyfff7SkTsfFHLgiEhMIpCKDsHa9DjG0EVAqMqhLoKqXFZoQqB8VYIbTXS4vFgs0IoSaDE4Y1aFowmIdGrM/r6M2mukKikHElGSjpBhaPrHuKdrKPKSEmncHHonDoM7JschBBCCCGEsOMbKWg2YXoMrBMAAAAASUVORK5CYII=\" id=\"image423bb83039\" transform=\"matrix(2.67 0 0 -2.67 7.2 273.6)\" style=\"image-rendering:crisp-edges;image-rendering:pixelated\" width=\"100\" height=\"100\"/>\n",
       "   </g>\n",
       "  </g>\n",
       " </g>\n",
       " <defs>\n",
       "  <clipPath id=\"p604c1334ff\">\n",
       "   <rect x=\"7.2\" y=\"7.2\" width=\"266.4\" height=\"266.4\"/>\n",
       "  </clipPath>\n",
       " </defs>\n",
       "</svg>\n"
      ],
      "text/plain": [
       "<Figure size 288x288 with 1 Axes>"
      ]
     },
     "metadata": {
      "needs_background": "light"
     },
     "output_type": "display_data"
    }
   ],
   "source": [
    "im = ps.tools.overlay(im1=im1,im2=im2, c=c)\n",
    "fig, ax = plt.subplots(figsize=[4, 4]);\n",
    "ps.visualization.imshow(im);\n",
    "plt.axis(False);"
   ]
  },
  {
   "cell_type": "code",
   "execution_count": 4,
   "id": "8e89b639",
   "metadata": {
    "execution": {
     "iopub.execute_input": "2022-06-22T19:31:35.386197Z",
     "iopub.status.busy": "2022-06-22T19:31:35.384420Z",
     "iopub.status.idle": "2022-06-22T19:31:35.473584Z",
     "shell.execute_reply": "2022-06-22T19:31:35.472774Z"
    }
   },
   "outputs": [
    {
     "data": {
      "image/svg+xml": [
       "<?xml version=\"1.0\" encoding=\"utf-8\" standalone=\"no\"?>\n",
       "<!DOCTYPE svg PUBLIC \"-//W3C//DTD SVG 1.1//EN\"\n",
       "  \"http://www.w3.org/Graphics/SVG/1.1/DTD/svg11.dtd\">\n",
       "<svg xmlns:xlink=\"http://www.w3.org/1999/xlink\" width=\"280.8pt\" height=\"280.8pt\" viewBox=\"0 0 280.8 280.8\" xmlns=\"http://www.w3.org/2000/svg\" version=\"1.1\">\n",
       " <metadata>\n",
       "  <rdf:RDF xmlns:dc=\"http://purl.org/dc/elements/1.1/\" xmlns:cc=\"http://creativecommons.org/ns#\" xmlns:rdf=\"http://www.w3.org/1999/02/22-rdf-syntax-ns#\">\n",
       "   <cc:Work>\n",
       "    <dc:type rdf:resource=\"http://purl.org/dc/dcmitype/StillImage\"/>\n",
       "    <dc:date>2022-06-22T19:31:35.447333</dc:date>\n",
       "    <dc:format>image/svg+xml</dc:format>\n",
       "    <dc:creator>\n",
       "     <cc:Agent>\n",
       "      <dc:title>Matplotlib v3.5.2, https://matplotlib.org/</dc:title>\n",
       "     </cc:Agent>\n",
       "    </dc:creator>\n",
       "   </cc:Work>\n",
       "  </rdf:RDF>\n",
       " </metadata>\n",
       " <defs>\n",
       "  <style type=\"text/css\">*{stroke-linejoin: round; stroke-linecap: butt}</style>\n",
       " </defs>\n",
       " <g id=\"figure_1\">\n",
       "  <g id=\"patch_1\">\n",
       "   <path d=\"M 0 280.8 \n",
       "L 280.8 280.8 \n",
       "L 280.8 0 \n",
       "L 0 0 \n",
       "L 0 280.8 \n",
       "z\n",
       "\" style=\"fill: none\"/>\n",
       "  </g>\n",
       "  <g id=\"axes_1\">\n",
       "   <g clip-path=\"url(#p96e936a954)\">\n",
       "    <image xlink:href=\"data:image/png;base64,\n",
       "iVBORw0KGgoAAAANSUhEUgAAAGQAAABkCAYAAABw4pVUAAAC1ElEQVR4nO2c2XHkMAxEMS6H5hAcpkNwbrM/qyqXTMk8cDyN+v0P2UQDoDg6zIQQ4jI8qgUc8fH4fI7+5vv5hV1PL6gFzJhwxFXNQYj2NGLP1YwpFRtpxJ6rGPNWNXGmGRXzzZKeNYTAkKsltUIIZphxdLRIM4QWBJqejRRDqIsn6irb1EWbcEOIWfgTmr5QQ2iLPYKkUy0LRpghpKzrgaJXFQIjxBBKto1C0K0KgSFDYLgbQij7Far1q0JgyBAYMgSGDIEhQ2DIEBgyBIYMgSFDYMgQGDIEhgyB4W4I+anAHqr1q0JgyBAYIYZUl/0sBN2qEBhhhhCybQSKXlUIjFBDKFn3FySd4RVCWmwLmj61LBgphtCycIOoK61CaIun6dlIbVmUIFB0tCgTVvGEINmIjbJNPTs4VzDDTN86wYESq68BBRpyFtyeYOl7WYusZPcrBNKL5UCozfgyHYA7bMQ9a/TWOjVYxhmi0pSI/as1Zus3Q+eQj8fnM+tAlznXft7M3+3pNqTq3bvMeVfn8tDaZUj1i5AZ83vNsTqO7oeYv+Er44Uc0KKI2ugj1jir9bRCSGaYxeiJWuPsuGpZMA7LilYdP/FsXVnr7NWsCkmi1/imIeTqMOPrW0EVAkOGwJAhMH4ZcpX+fBWdG71XWe/RQuh8P78epJP67Q2p4OzeiPYQ8/+PbGU8GfIfL1NWx7llyzpqGav7iYepqpAds0H1qrDmIFe4pFwJQO8DBxVPndyyZfVS8eSLWhaMW1YI5UG8Fs0KIQs24+tb4ZYVkk3vRYTZyR5CzUKqLi+0qcM4NYSWjTQ9EfxZIZQgUHREo009gZFk6tpDqrOzev5MhhZ6t5f9Ry5XvRhqWZuYV3+DqpKpy97oYN3VDLOFTT2iWl7BiNU2t3ww3O60VY9B4Cg5R5IW+yWHK+Kx5rBzyKsGPRr9lwVDhsCQIY4ctWm1byG8+AdNS1NAgEZxyQAAAABJRU5ErkJggg==\" id=\"imagecff7f6562e\" transform=\"matrix(2.67 0 0 -2.67 7.2 273.6)\" style=\"image-rendering:crisp-edges;image-rendering:pixelated\" width=\"100\" height=\"100\"/>\n",
       "   </g>\n",
       "  </g>\n",
       " </g>\n",
       " <defs>\n",
       "  <clipPath id=\"p96e936a954\">\n",
       "   <rect x=\"7.2\" y=\"7.2\" width=\"266.4\" height=\"266.4\"/>\n",
       "  </clipPath>\n",
       " </defs>\n",
       "</svg>\n"
      ],
      "text/plain": [
       "<Figure size 288x288 with 1 Axes>"
      ]
     },
     "metadata": {
      "needs_background": "light"
     },
     "output_type": "display_data"
    }
   ],
   "source": [
    "im = ps.tools.overlay(im1=im3, im2=im2, c=[74, 74, 74])\n",
    "fig, ax = plt.subplots(figsize=[4, 4]);\n",
    "ps.visualization.imshow(im);\n",
    "plt.axis(False);"
   ]
  }
 ],
 "metadata": {
  "kernelspec": {
   "display_name": "Python 3 (ipykernel)",
   "language": "python",
   "name": "python3"
  },
  "language_info": {
   "codemirror_mode": {
    "name": "ipython",
    "version": 3
   },
   "file_extension": ".py",
   "mimetype": "text/x-python",
   "name": "python",
   "nbconvert_exporter": "python",
   "pygments_lexer": "ipython3",
   "version": "3.8.13"
  }
 },
 "nbformat": 4,
 "nbformat_minor": 5
}
