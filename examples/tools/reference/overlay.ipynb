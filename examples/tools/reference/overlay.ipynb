{
 "cells": [
  {
   "cell_type": "markdown",
   "id": "4bd55bf8",
   "metadata": {},
   "source": [
    "# `overlay`"
   ]
  },
  {
   "cell_type": "markdown",
   "id": "a71579c9",
   "metadata": {},
   "source": [
    "## Import packages"
   ]
  },
  {
   "cell_type": "code",
   "execution_count": 1,
   "id": "2540ba84",
   "metadata": {
    "execution": {
     "iopub.execute_input": "2022-04-26T09:07:22.941284Z",
     "iopub.status.busy": "2022-04-26T09:07:22.939130Z",
     "iopub.status.idle": "2022-04-26T09:07:25.126202Z",
     "shell.execute_reply": "2022-04-26T09:07:25.125611Z"
    }
   },
   "outputs": [],
   "source": [
    "import numpy as np\n",
    "import porespy as ps\n",
    "import scipy.ndimage as spim\n",
    "import matplotlib.pyplot as plt\n",
    "import skimage\n",
    "ps.visualization.set_mpl_style()"
   ]
  },
  {
   "cell_type": "markdown",
   "id": "24f1086e",
   "metadata": {},
   "source": [
    "## Create image and variables"
   ]
  },
  {
   "cell_type": "code",
   "execution_count": 2,
   "id": "df980fdd",
   "metadata": {
    "execution": {
     "iopub.execute_input": "2022-04-26T09:07:25.131293Z",
     "iopub.status.busy": "2022-04-26T09:07:25.130225Z",
     "iopub.status.idle": "2022-04-26T09:07:26.292224Z",
     "shell.execute_reply": "2022-04-26T09:07:26.291711Z"
    }
   },
   "outputs": [
    {
     "name": "stderr",
     "output_type": "stream",
     "text": [
      "/tmp/ipykernel_10044/2366592848.py:3: DeprecationWarning: Call to deprecated function (or staticmethod) RSA. (This function has been renamed to rsa (lowercase to meet pep8)\n",
      "  im1 = ps.generators.RSA(im1, r=25, volume_fraction=0.5)\n"
     ]
    },
    {
     "name": "stderr",
     "output_type": "stream",
     "text": [
      "/tmp/ipykernel_10044/2366592848.py:4: DeprecationWarning: Call to deprecated function (or staticmethod) RSA. (This function has been renamed to rsa (lowercase to meet pep8)\n",
      "  im2 = ps.generators.RSA(im2, r=5, volume_fraction=0.5)\n"
     ]
    },
    {
     "data": {
      "image/svg+xml": [
       "<?xml version=\"1.0\" encoding=\"utf-8\" standalone=\"no\"?>\n",
       "<!DOCTYPE svg PUBLIC \"-//W3C//DTD SVG 1.1//EN\"\n",
       "  \"http://www.w3.org/Graphics/SVG/1.1/DTD/svg11.dtd\">\n",
       "<svg xmlns:xlink=\"http://www.w3.org/1999/xlink\" width=\"276.48pt\" height=\"276.48pt\" viewBox=\"0 0 276.48 276.48\" xmlns=\"http://www.w3.org/2000/svg\" version=\"1.1\">\n",
       " <metadata>\n",
       "  <rdf:RDF xmlns:dc=\"http://purl.org/dc/elements/1.1/\" xmlns:cc=\"http://creativecommons.org/ns#\" xmlns:rdf=\"http://www.w3.org/1999/02/22-rdf-syntax-ns#\">\n",
       "   <cc:Work>\n",
       "    <dc:type rdf:resource=\"http://purl.org/dc/dcmitype/StillImage\"/>\n",
       "    <dc:date>2022-04-26T09:07:26.224469</dc:date>\n",
       "    <dc:format>image/svg+xml</dc:format>\n",
       "    <dc:creator>\n",
       "     <cc:Agent>\n",
       "      <dc:title>Matplotlib v3.5.1, https://matplotlib.org/</dc:title>\n",
       "     </cc:Agent>\n",
       "    </dc:creator>\n",
       "   </cc:Work>\n",
       "  </rdf:RDF>\n",
       " </metadata>\n",
       " <defs>\n",
       "  <style type=\"text/css\">*{stroke-linejoin: round; stroke-linecap: butt}</style>\n",
       " </defs>\n",
       " <g id=\"figure_1\">\n",
       "  <g id=\"patch_1\">\n",
       "   <path d=\"M 0 276.48 \n",
       "L 276.48 276.48 \n",
       "L 276.48 0 \n",
       "L 0 0 \n",
       "L 0 276.48 \n",
       "z\n",
       "\" style=\"fill: none\"/>\n",
       "  </g>\n",
       "  <g id=\"axes_1\">\n",
       "   <g clip-path=\"url(#p30cd9dbfe7)\">\n",
       "    <image xlink:href=\"data:image/png;base64,\n",
       "iVBORw0KGgoAAAANSUhEUgAAAGQAAABkCAYAAABw4pVUAAACjUlEQVR4nO2cW27DIBBFSdWldQldZpfQvaVfSJZVOzAPuDdzz28kZuB4MI4NrQkhhBBCCPH2PHYngMrX4/t59dvv8ydt3CTkwJ2EK6LlSEiziTgTJaa0kAgRZ7xiPqISYSNDRkS7JYVkyYhov5yQbBneOKWErJLhifeZkcgVu9b2TKQOgueKjBa0ujqOzPQlvEKiOn5sp1L1hN5DUJeSO6tjNn5IhazocI/x7tXirhCGlQsTLiG7BmcmLorA0TzMQnZ3dHf8LExCUAYDJY9IpoWgDQJaPl6mhKB2HjUvC6X+y2JgWAj6VYie3yhDQlg6+1+eKA+So3loygJDQsB4KYRluuogTlsz8VUhYJQRsqtKZuOWEcLCrRC2+0fnKu/VVWKJV65CVkmxxiknpLV8KZ72SwppLU+Kt92l32Wh0QcP6ev30kI6HjHRlSYhB46DC7uDinHpu/uvEg9lb+qoSAgYEgLGSyFs8zFbvmdUIWBICBhDQlimAZY87xiuEPTOouc3iqYsMKaEoF6FqHlZmK4QtM6j5ePFNGWhDAJKHpG4OsSw1Zhtb7w7oR1SXg0kwnsNKyFJrJRyN3BIb/6s0JyWkC1iJl4moc8hOz4cQD2swAr1WScrBm11pSwNFrniQblvRQOxspgFcWUXBd1/WQynR3igE/LuUAnZ/UnSivhUQipAI2R3dXSy86ARUgUJAYNCCMp01cnMh0JIJSQEDAkBQ0LAkBAwJAQMCiG733OfycyHQkglJAQMGiEo01Z2HjRCqkAlZHeVrIhPJaQCdEJYjuqzQiekNY6T4axQCmkN/2Q4K7RCWsM+Gc4KtZDWcE+GswLxsBWF9oeAUn4HFTJsewyFEEIIIYQQYjV/07EvHtXDr1gAAAAASUVORK5CYII=\" id=\"image610f063efa\" transform=\"matrix(2.63 0 0 -2.63 7.2 269.28)\" style=\"image-rendering:crisp-edges;image-rendering:pixelated\" width=\"100\" height=\"100\"/>\n",
       "   </g>\n",
       "  </g>\n",
       " </g>\n",
       " <defs>\n",
       "  <clipPath id=\"p30cd9dbfe7\">\n",
       "   <rect x=\"7.2\" y=\"7.2\" width=\"262.08\" height=\"262.08\"/>\n",
       "  </clipPath>\n",
       " </defs>\n",
       "</svg>\n"
      ],
      "text/plain": [
       "<Figure size 288x288 with 1 Axes>"
      ]
     },
     "metadata": {
      "needs_background": "light"
     },
     "output_type": "display_data"
    },
    {
     "data": {
      "image/svg+xml": [
       "<?xml version=\"1.0\" encoding=\"utf-8\" standalone=\"no\"?>\n",
       "<!DOCTYPE svg PUBLIC \"-//W3C//DTD SVG 1.1//EN\"\n",
       "  \"http://www.w3.org/Graphics/SVG/1.1/DTD/svg11.dtd\">\n",
       "<svg xmlns:xlink=\"http://www.w3.org/1999/xlink\" width=\"276.48pt\" height=\"276.48pt\" viewBox=\"0 0 276.48 276.48\" xmlns=\"http://www.w3.org/2000/svg\" version=\"1.1\">\n",
       " <metadata>\n",
       "  <rdf:RDF xmlns:dc=\"http://purl.org/dc/elements/1.1/\" xmlns:cc=\"http://creativecommons.org/ns#\" xmlns:rdf=\"http://www.w3.org/1999/02/22-rdf-syntax-ns#\">\n",
       "   <cc:Work>\n",
       "    <dc:type rdf:resource=\"http://purl.org/dc/dcmitype/StillImage\"/>\n",
       "    <dc:date>2022-04-26T09:07:26.278057</dc:date>\n",
       "    <dc:format>image/svg+xml</dc:format>\n",
       "    <dc:creator>\n",
       "     <cc:Agent>\n",
       "      <dc:title>Matplotlib v3.5.1, https://matplotlib.org/</dc:title>\n",
       "     </cc:Agent>\n",
       "    </dc:creator>\n",
       "   </cc:Work>\n",
       "  </rdf:RDF>\n",
       " </metadata>\n",
       " <defs>\n",
       "  <style type=\"text/css\">*{stroke-linejoin: round; stroke-linecap: butt}</style>\n",
       " </defs>\n",
       " <g id=\"figure_1\">\n",
       "  <g id=\"patch_1\">\n",
       "   <path d=\"M 0 276.48 \n",
       "L 276.48 276.48 \n",
       "L 276.48 0 \n",
       "L 0 0 \n",
       "L 0 276.48 \n",
       "z\n",
       "\" style=\"fill: none\"/>\n",
       "  </g>\n",
       "  <g id=\"axes_1\">\n",
       "   <g clip-path=\"url(#p7bef4658af)\">\n",
       "    <image xlink:href=\"data:image/png;base64,\n",
       "iVBORw0KGgoAAAANSUhEUgAAADMAAAAzCAYAAAA6oTAqAAABWklEQVR4nO2ZWxKCMAxFW8aluQSXyRLYG37ZQYfmnbRBzmdlSm6bJ9aSjGd97b9r277WUkpZ4s2RcybkuF5jzZHTE3Ik1c1gXErMw3IzKDglz3FpYrxewEVjx9LbAFr3ArIDE7Tta00VMz1Bn3XTmIkAuiFTMVTf9orFVG6G0U4oKpth79HYEZp6oexocXBhboaleYsycKmYuZSYdHXmHs4ijSkFz2bTDWdYb6VFtAmlsFkXYZebmWVcOIMlJqLwaUiTzf5uOGMFJMWNpEFukTC+OoBZPmpAmHUAFL/lmcYDy6TsmPEufD0omVTUaFIMH+GyLl2z5PuX6RdNbMMMySFVncFII+buAHpwY2ZEjLnOINE0N5t5TqEirjMz3qJIjOZPIWgP7WGYjc3U36FntC4dnpo9R+8mZlQ3bAm5N8tAqg4Aw2w4o/7uiehmNPHleRjDTnHGonvjxRsVru1BEfRRewAAAABJRU5ErkJggg==\" id=\"imageefec3d7ddd\" transform=\"matrix(5.156863 0 0 -5.156863 7.2 269.28)\" style=\"image-rendering:crisp-edges;image-rendering:pixelated\" width=\"51\" height=\"51\"/>\n",
       "   </g>\n",
       "  </g>\n",
       " </g>\n",
       " <defs>\n",
       "  <clipPath id=\"p7bef4658af\">\n",
       "   <rect x=\"7.2\" y=\"7.2\" width=\"262.08\" height=\"262.08\"/>\n",
       "  </clipPath>\n",
       " </defs>\n",
       "</svg>\n"
      ],
      "text/plain": [
       "<Figure size 288x288 with 1 Axes>"
      ]
     },
     "metadata": {
      "needs_background": "light"
     },
     "output_type": "display_data"
    }
   ],
   "source": [
    "im1 = np.zeros([100, 100,100])\n",
    "im2 = np.zeros([51, 51,51])\n",
    "im1 = ps.generators.RSA(im1, r=25, volume_fraction=0.5)\n",
    "im2 = ps.generators.RSA(im2, r=5, volume_fraction=0.5)\n",
    "im3 = im1.copy()\n",
    "\n",
    "fig, ax = plt.subplots(figsize=[4, 4]);\n",
    "ps.visualization.imshow(im1);\n",
    "plt.axis(False)\n",
    "fig, ax = plt.subplots(figsize=[4, 4]);\n",
    "ps.visualization.imshow(im2);\n",
    "plt.axis(False);\n",
    "\n",
    "#default values:\n",
    "c = [26,26,26]"
   ]
  },
  {
   "cell_type": "markdown",
   "id": "81a1dc0b",
   "metadata": {},
   "source": [
    "## Apply tool"
   ]
  },
  {
   "cell_type": "code",
   "execution_count": 3,
   "id": "a8f3e5aa",
   "metadata": {
    "execution": {
     "iopub.execute_input": "2022-04-26T09:07:26.297504Z",
     "iopub.status.busy": "2022-04-26T09:07:26.295897Z",
     "iopub.status.idle": "2022-04-26T09:07:26.376847Z",
     "shell.execute_reply": "2022-04-26T09:07:26.376371Z"
    }
   },
   "outputs": [
    {
     "data": {
      "image/svg+xml": [
       "<?xml version=\"1.0\" encoding=\"utf-8\" standalone=\"no\"?>\n",
       "<!DOCTYPE svg PUBLIC \"-//W3C//DTD SVG 1.1//EN\"\n",
       "  \"http://www.w3.org/Graphics/SVG/1.1/DTD/svg11.dtd\">\n",
       "<svg xmlns:xlink=\"http://www.w3.org/1999/xlink\" width=\"276.48pt\" height=\"276.48pt\" viewBox=\"0 0 276.48 276.48\" xmlns=\"http://www.w3.org/2000/svg\" version=\"1.1\">\n",
       " <metadata>\n",
       "  <rdf:RDF xmlns:dc=\"http://purl.org/dc/elements/1.1/\" xmlns:cc=\"http://creativecommons.org/ns#\" xmlns:rdf=\"http://www.w3.org/1999/02/22-rdf-syntax-ns#\">\n",
       "   <cc:Work>\n",
       "    <dc:type rdf:resource=\"http://purl.org/dc/dcmitype/StillImage\"/>\n",
       "    <dc:date>2022-04-26T09:07:26.363080</dc:date>\n",
       "    <dc:format>image/svg+xml</dc:format>\n",
       "    <dc:creator>\n",
       "     <cc:Agent>\n",
       "      <dc:title>Matplotlib v3.5.1, https://matplotlib.org/</dc:title>\n",
       "     </cc:Agent>\n",
       "    </dc:creator>\n",
       "   </cc:Work>\n",
       "  </rdf:RDF>\n",
       " </metadata>\n",
       " <defs>\n",
       "  <style type=\"text/css\">*{stroke-linejoin: round; stroke-linecap: butt}</style>\n",
       " </defs>\n",
       " <g id=\"figure_1\">\n",
       "  <g id=\"patch_1\">\n",
       "   <path d=\"M 0 276.48 \n",
       "L 276.48 276.48 \n",
       "L 276.48 0 \n",
       "L 0 0 \n",
       "L 0 276.48 \n",
       "z\n",
       "\" style=\"fill: none\"/>\n",
       "  </g>\n",
       "  <g id=\"axes_1\">\n",
       "   <g clip-path=\"url(#p50b59127a2)\">\n",
       "    <image xlink:href=\"data:image/png;base64,\n",
       "iVBORw0KGgoAAAANSUhEUgAAAGQAAABkCAYAAABw4pVUAAACnklEQVR4nO2cW3KEMAwEvakcLUfIMXOE3G3zxRahFvBDsmas6c9UBcluZJsFuxQhhKDhYX3Br8f38/i33+ePeZxV+YhOQPxHQsCQEDA+oxNA5d1cuOE5J2qy3XEl4QxrORJS+kQcsRKTWoiFiCOjYtJO6h4yLK6bUoiXDIvrpxPiLWM0Tiohs2SMxJv6HBK1tmfCtRNG7khrQbOrY09LW8wrxKrh++tkqh7TOQR1KRlZHa3xTSpkRoO3GKtXS7WQsxdPESuXlaVUNSy65Gs4k4SUe82NtMxzCFLHj7CMkFWQEDAkBIwqISuvatBQhYBRJYRlBYP8kV5tHqoQMCQEjFshLMPVBuKw1RJfFQJGGiFRVdIaN40QFi6FsM0fG2d5z66SnnjpKmSWlN44//6JtSLecdchnm0dkf6qkJVk1OBVKaPXTb0/ZOs8pK/fUwvZGBFjXWkSsmPfueE7qFaaQ6J/KhnhNakzN2IlbiUwVg7zzZXuwRCdWyFsdxtbvkdUIWBICBhLfQbEkucV1RWC3lj0/GrRkAVGkxDUuxA1rx6aKwSt8Wj5jNI1ZKF0Akoelgw1iGGrMdve+OGEIqR4vJ5FkWOSxEwpVx2H9OavF5rTErxFtMTzxPQ5JOLDAdTDCnqhPutkRqfNrpSpwSxXPCjzljUQK4tWEFd2VtD9lhU1ts+KSydkdaiERH9wMSM+lZAM0AiJro4N7zxohGRBQsCgEIIyXG145kMhJBMSAoaEgCEhYEgIGBICBoWQ6PfcRzzzoRCSCQkBg0YIyrDlnQeNkCxQCYmukhnxqYRkgE4Iy1F9vdAJKYXjZLheKIWUgn8yXC+0Qkrx76yI4ZFaSCm4J8P1AvGwZYX2h4CSfgcVMmx7DIUQQgghhBBiNn9DXDpv9bS5/QAAAABJRU5ErkJggg==\" id=\"image6c08846053\" transform=\"matrix(2.63 0 0 -2.63 7.2 269.28)\" style=\"image-rendering:crisp-edges;image-rendering:pixelated\" width=\"100\" height=\"100\"/>\n",
       "   </g>\n",
       "  </g>\n",
       " </g>\n",
       " <defs>\n",
       "  <clipPath id=\"p50b59127a2\">\n",
       "   <rect x=\"7.2\" y=\"7.2\" width=\"262.08\" height=\"262.08\"/>\n",
       "  </clipPath>\n",
       " </defs>\n",
       "</svg>\n"
      ],
      "text/plain": [
       "<Figure size 288x288 with 1 Axes>"
      ]
     },
     "metadata": {
      "needs_background": "light"
     },
     "output_type": "display_data"
    }
   ],
   "source": [
    "im = ps.tools.overlay(im1=im1,im2=im2, c=c)\n",
    "fig, ax = plt.subplots(figsize=[4, 4]);\n",
    "ps.visualization.imshow(im);\n",
    "plt.axis(False);"
   ]
  },
  {
   "cell_type": "code",
   "execution_count": 4,
   "id": "8e89b639",
   "metadata": {
    "execution": {
     "iopub.execute_input": "2022-04-26T09:07:26.381992Z",
     "iopub.status.busy": "2022-04-26T09:07:26.380394Z",
     "iopub.status.idle": "2022-04-26T09:07:26.457365Z",
     "shell.execute_reply": "2022-04-26T09:07:26.456872Z"
    }
   },
   "outputs": [
    {
     "data": {
      "image/svg+xml": [
       "<?xml version=\"1.0\" encoding=\"utf-8\" standalone=\"no\"?>\n",
       "<!DOCTYPE svg PUBLIC \"-//W3C//DTD SVG 1.1//EN\"\n",
       "  \"http://www.w3.org/Graphics/SVG/1.1/DTD/svg11.dtd\">\n",
       "<svg xmlns:xlink=\"http://www.w3.org/1999/xlink\" width=\"276.48pt\" height=\"276.48pt\" viewBox=\"0 0 276.48 276.48\" xmlns=\"http://www.w3.org/2000/svg\" version=\"1.1\">\n",
       " <metadata>\n",
       "  <rdf:RDF xmlns:dc=\"http://purl.org/dc/elements/1.1/\" xmlns:cc=\"http://creativecommons.org/ns#\" xmlns:rdf=\"http://www.w3.org/1999/02/22-rdf-syntax-ns#\">\n",
       "   <cc:Work>\n",
       "    <dc:type rdf:resource=\"http://purl.org/dc/dcmitype/StillImage\"/>\n",
       "    <dc:date>2022-04-26T09:07:26.443553</dc:date>\n",
       "    <dc:format>image/svg+xml</dc:format>\n",
       "    <dc:creator>\n",
       "     <cc:Agent>\n",
       "      <dc:title>Matplotlib v3.5.1, https://matplotlib.org/</dc:title>\n",
       "     </cc:Agent>\n",
       "    </dc:creator>\n",
       "   </cc:Work>\n",
       "  </rdf:RDF>\n",
       " </metadata>\n",
       " <defs>\n",
       "  <style type=\"text/css\">*{stroke-linejoin: round; stroke-linecap: butt}</style>\n",
       " </defs>\n",
       " <g id=\"figure_1\">\n",
       "  <g id=\"patch_1\">\n",
       "   <path d=\"M 0 276.48 \n",
       "L 276.48 276.48 \n",
       "L 276.48 0 \n",
       "L 0 0 \n",
       "L 0 276.48 \n",
       "z\n",
       "\" style=\"fill: none\"/>\n",
       "  </g>\n",
       "  <g id=\"axes_1\">\n",
       "   <g clip-path=\"url(#p2b4490e1a8)\">\n",
       "    <image xlink:href=\"data:image/png;base64,\n",
       "iVBORw0KGgoAAAANSUhEUgAAAGQAAABkCAYAAABw4pVUAAAC1klEQVR4nO2dUW6EMAxEs1WP1iP0mHuEvdv2CwmhsiSxHc/geZ9biTh5OJgAaWtCCCGEEELcnkd2AKj8PH7fZ397vZ9h4yYhOz5JOMNbjoS0ORFHvMSUFuIh4ohVzJdXIGxEyPA4bkkhUTI8jl9OSLQMazulhKySYWnvOyKQM7JqeyZCB8FyRnoLWp0de0b64p4hXh3fH6dS9rheQ1BLyczsGG3fJUNWdHhr4+7ZYs4QhsqFCZOQrMEZaRdFYG8c00KyO5rdfhRTQlAGAyUOT4aFoA0CWjxWhoSgdh41rhlKrWUx0C0E/SxEj6+XLiEsnf0vTpQbyd44NGWBISFgXAphma42EKetkfaVIWCUEZKVJaPtlhHCwkchbNePjbO4V2fJTHvlMmSVlNl2yglpLV6K5fglhbQWJ8V63KXvZaGxDR7S2++lhWxYxHhnmoTs2A8u7BdUjKVv9lKJhbIXdVQkBAwJAeNSCNt8zBbvEWUIGBICRpcQlmmAJc5PdGcIemfR4+tFUxYYQ0JQz0LUuGYYzhC0zqPFY2VqykIZBJQ4PDF1iOFTY7Zv480BZUi5GkiE5xqzuASxUsqngUN68jcLzW4J0SJG2ovE9T4k48UB1M0KZqHe62TFoK3OlKWNeVY8KNctbyAqi1EQKzsv6NayGHaPsEAn5O5QTVkIryRZp66rL7yUIQs5O6H2v9MIQciO1uLjoBFSBQkBg0IIynS1ERkPhZC7cFah7X/X5whO9G5YcFU2K0Mc6Clne5EQMCQEDAkBg0JI9nPuI5HxUAhBp6ec7UVlrxNeWUOTISjTVnQcNEKqQCUkO0tWtE8lpAJ0Qli26puFTkhrHDvDzUIppDX8neFmgSglLWS94N0TR8k9FxF2htPy+4HX+/mI+EeUGY+ObyFkI0qM5/GuuOVa1szOcCgvUtxSyJ7su/tRbjVlZaHld0DKLb9H43mWCyGEEBn8AToXbAn0aprfAAAAAElFTkSuQmCC\" id=\"image38ad177e2c\" transform=\"matrix(2.63 0 0 -2.63 7.2 269.28)\" style=\"image-rendering:crisp-edges;image-rendering:pixelated\" width=\"100\" height=\"100\"/>\n",
       "   </g>\n",
       "  </g>\n",
       " </g>\n",
       " <defs>\n",
       "  <clipPath id=\"p2b4490e1a8\">\n",
       "   <rect x=\"7.2\" y=\"7.2\" width=\"262.08\" height=\"262.08\"/>\n",
       "  </clipPath>\n",
       " </defs>\n",
       "</svg>\n"
      ],
      "text/plain": [
       "<Figure size 288x288 with 1 Axes>"
      ]
     },
     "metadata": {
      "needs_background": "light"
     },
     "output_type": "display_data"
    }
   ],
   "source": [
    "im = ps.tools.overlay(im1=im3, im2=im2, c=[74, 74, 74])\n",
    "fig, ax = plt.subplots(figsize=[4, 4]);\n",
    "ps.visualization.imshow(im);\n",
    "plt.axis(False);"
   ]
  }
 ],
 "metadata": {
  "kernelspec": {
   "display_name": "Python 3 (ipykernel)",
   "language": "python",
   "name": "python3"
  },
  "language_info": {
   "codemirror_mode": {
    "name": "ipython",
    "version": 3
   },
   "file_extension": ".py",
   "mimetype": "text/x-python",
   "name": "python",
   "nbconvert_exporter": "python",
   "pygments_lexer": "ipython3",
   "version": "3.8.13"
  }
 },
 "nbformat": 4,
 "nbformat_minor": 5
}
