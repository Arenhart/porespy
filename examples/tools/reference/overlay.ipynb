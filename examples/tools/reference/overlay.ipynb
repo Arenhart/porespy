{
 "cells": [
  {
   "cell_type": "markdown",
   "id": "5aa28ad9",
   "metadata": {},
   "source": [
    "# overlay"
   ]
  },
  {
   "cell_type": "markdown",
   "id": "78f18e39",
   "metadata": {},
   "source": [
    "## Import packages"
   ]
  },
  {
   "cell_type": "code",
   "execution_count": 1,
   "id": "33e6a247",
   "metadata": {
    "execution": {
     "iopub.execute_input": "2022-03-30T13:40:39.803396Z",
     "iopub.status.busy": "2022-03-30T13:40:39.801806Z",
     "iopub.status.idle": "2022-03-30T13:40:41.831733Z",
     "shell.execute_reply": "2022-03-30T13:40:41.831157Z"
    }
   },
   "outputs": [],
   "source": [
    "import numpy as np\n",
    "import porespy as ps\n",
    "import scipy.ndimage as spim\n",
    "import matplotlib.pyplot as plt\n",
    "import skimage\n",
    "ps.visualization.set_mpl_style()"
   ]
  },
  {
   "cell_type": "markdown",
   "id": "e6b40716",
   "metadata": {},
   "source": [
    "## Create image and variables"
   ]
  },
  {
   "cell_type": "code",
   "execution_count": 2,
   "id": "ac93480d",
   "metadata": {
    "execution": {
     "iopub.execute_input": "2022-03-30T13:40:41.835857Z",
     "iopub.status.busy": "2022-03-30T13:40:41.834844Z",
     "iopub.status.idle": "2022-03-30T13:40:42.913391Z",
     "shell.execute_reply": "2022-03-30T13:40:42.912922Z"
    }
   },
   "outputs": [
    {
     "name": "stderr",
     "output_type": "stream",
     "text": [
      "/tmp/ipykernel_9888/2366592848.py:3: DeprecationWarning: Call to deprecated function (or staticmethod) RSA. (This function has been renamed to rsa (lowercase to meet pep8)\n",
      "  im1 = ps.generators.RSA(im1, r=25, volume_fraction=0.5)\n"
     ]
    },
    {
     "name": "stderr",
     "output_type": "stream",
     "text": [
      "/tmp/ipykernel_9888/2366592848.py:4: DeprecationWarning: Call to deprecated function (or staticmethod) RSA. (This function has been renamed to rsa (lowercase to meet pep8)\n",
      "  im2 = ps.generators.RSA(im2, r=5, volume_fraction=0.5)\n"
     ]
    },
    {
     "data": {
      "image/svg+xml": [
       "<?xml version=\"1.0\" encoding=\"utf-8\" standalone=\"no\"?>\n",
       "<!DOCTYPE svg PUBLIC \"-//W3C//DTD SVG 1.1//EN\"\n",
       "  \"http://www.w3.org/Graphics/SVG/1.1/DTD/svg11.dtd\">\n",
       "<svg xmlns:xlink=\"http://www.w3.org/1999/xlink\" width=\"276.48pt\" height=\"276.48pt\" viewBox=\"0 0 276.48 276.48\" xmlns=\"http://www.w3.org/2000/svg\" version=\"1.1\">\n",
       " <metadata>\n",
       "  <rdf:RDF xmlns:dc=\"http://purl.org/dc/elements/1.1/\" xmlns:cc=\"http://creativecommons.org/ns#\" xmlns:rdf=\"http://www.w3.org/1999/02/22-rdf-syntax-ns#\">\n",
       "   <cc:Work>\n",
       "    <dc:type rdf:resource=\"http://purl.org/dc/dcmitype/StillImage\"/>\n",
       "    <dc:date>2022-03-30T13:40:42.850459</dc:date>\n",
       "    <dc:format>image/svg+xml</dc:format>\n",
       "    <dc:creator>\n",
       "     <cc:Agent>\n",
       "      <dc:title>Matplotlib v3.5.1, https://matplotlib.org/</dc:title>\n",
       "     </cc:Agent>\n",
       "    </dc:creator>\n",
       "   </cc:Work>\n",
       "  </rdf:RDF>\n",
       " </metadata>\n",
       " <defs>\n",
       "  <style type=\"text/css\">*{stroke-linejoin: round; stroke-linecap: butt}</style>\n",
       " </defs>\n",
       " <g id=\"figure_1\">\n",
       "  <g id=\"patch_1\">\n",
       "   <path d=\"M 0 276.48 \n",
       "L 276.48 276.48 \n",
       "L 276.48 0 \n",
       "L 0 0 \n",
       "L 0 276.48 \n",
       "z\n",
       "\" style=\"fill: none\"/>\n",
       "  </g>\n",
       "  <g id=\"axes_1\">\n",
       "   <g clip-path=\"url(#pa6a300d1d7)\">\n",
       "    <image xlink:href=\"data:image/png;base64,\n",
       "iVBORw0KGgoAAAANSUhEUgAAAGQAAABkCAYAAABw4pVUAAABbUlEQVR4nO3aUU4CMRSG0cG4NJfgMl2Ce8MH08QYETrQ3r/MOe/Y0q8XSMZtAwAAAAAAAI7rVL2BR3k7vZ97X/N5/oh7/3Eb6rUnxG9JYWI20usRIX5LCPNSvYE9RsQY+Xd7lN+IHjMPrGpalpmQ2be3alqWCFJ1OBXrLhHkSOKDVH/Rzl4/Okh1jGbmPqKDHFFskJTpaGbtJzbIUUUGSZuOZsa+IoMcmSBhBAkjSBhBwggSRpAwgoQRJIwgYQQJI0iYyCAJ/x/1lxn7igxyZLFB0qZk1n5igxxVdJCUKZm5j2kL/fe07dobrnyCOPtSTJmQawea+si2wvAgtx72PRM0SsW6Q4P03vykKFWX4LVi0b3aIY38iKv+IRH9K+uSUYdWHWPbFpuQnx45LQkhmmWDNPeESQrRLB+kSTzcPZb8DnlmQ4P03tpnueX3GD4htx6yGN+mfGRdO2wxAAAAAAAAAAAAAAAAAACAy74Av3B5LEdL06MAAAAASUVORK5CYII=\" id=\"imagea468aa85f4\" transform=\"matrix(2.63 0 0 -2.63 7.2 269.28)\" style=\"image-rendering:crisp-edges;image-rendering:pixelated\" width=\"100\" height=\"100\"/>\n",
       "   </g>\n",
       "  </g>\n",
       " </g>\n",
       " <defs>\n",
       "  <clipPath id=\"pa6a300d1d7\">\n",
       "   <rect x=\"7.2\" y=\"7.2\" width=\"262.08\" height=\"262.08\"/>\n",
       "  </clipPath>\n",
       " </defs>\n",
       "</svg>\n"
      ],
      "text/plain": [
       "<Figure size 288x288 with 1 Axes>"
      ]
     },
     "metadata": {
      "needs_background": "light"
     },
     "output_type": "display_data"
    },
    {
     "data": {
      "image/svg+xml": [
       "<?xml version=\"1.0\" encoding=\"utf-8\" standalone=\"no\"?>\n",
       "<!DOCTYPE svg PUBLIC \"-//W3C//DTD SVG 1.1//EN\"\n",
       "  \"http://www.w3.org/Graphics/SVG/1.1/DTD/svg11.dtd\">\n",
       "<svg xmlns:xlink=\"http://www.w3.org/1999/xlink\" width=\"276.48pt\" height=\"276.48pt\" viewBox=\"0 0 276.48 276.48\" xmlns=\"http://www.w3.org/2000/svg\" version=\"1.1\">\n",
       " <metadata>\n",
       "  <rdf:RDF xmlns:dc=\"http://purl.org/dc/elements/1.1/\" xmlns:cc=\"http://creativecommons.org/ns#\" xmlns:rdf=\"http://www.w3.org/1999/02/22-rdf-syntax-ns#\">\n",
       "   <cc:Work>\n",
       "    <dc:type rdf:resource=\"http://purl.org/dc/dcmitype/StillImage\"/>\n",
       "    <dc:date>2022-03-30T13:40:42.906379</dc:date>\n",
       "    <dc:format>image/svg+xml</dc:format>\n",
       "    <dc:creator>\n",
       "     <cc:Agent>\n",
       "      <dc:title>Matplotlib v3.5.1, https://matplotlib.org/</dc:title>\n",
       "     </cc:Agent>\n",
       "    </dc:creator>\n",
       "   </cc:Work>\n",
       "  </rdf:RDF>\n",
       " </metadata>\n",
       " <defs>\n",
       "  <style type=\"text/css\">*{stroke-linejoin: round; stroke-linecap: butt}</style>\n",
       " </defs>\n",
       " <g id=\"figure_1\">\n",
       "  <g id=\"patch_1\">\n",
       "   <path d=\"M 0 276.48 \n",
       "L 276.48 276.48 \n",
       "L 276.48 0 \n",
       "L 0 0 \n",
       "L 0 276.48 \n",
       "z\n",
       "\" style=\"fill: none\"/>\n",
       "  </g>\n",
       "  <g id=\"axes_1\">\n",
       "   <g clip-path=\"url(#pf2d80f71b4)\">\n",
       "    <image xlink:href=\"data:image/png;base64,\n",
       "iVBORw0KGgoAAAANSUhEUgAAADMAAAAzCAYAAAA6oTAqAAABbUlEQVR4nO1ZWw7DMAgjVY+2I+yYPULv1v1sUlXlAQQDrebPbSKYBONkhb54lfdBF+zHVq6fZUYhqhP5IZKQtMBLj0groAda6/byWXDp6KEt8IpJJ6YHU+6MFs8iM9r6O8nzQtROOIqItsChVR+JhFREYGQ0idZ+J4kLEQDNwLOIa04G5Sg4cZ8lzdEJWCKMDGIcTHmz2Ya2nmPmO4NyFJy4kGOGchSjuFPBs121YfcZS3CLBqmi5Y5JbI+bA9Aon9RNrK0viOTV5CyO7Clxz2Rr+jNExwzlhq3AJpP1fe2M1EZT6ibYZ51T+f3YCuKp13zOcMlIFrcGxAFEqRu7Z+7wviYSgGzva1d0k8g8IGto7kz2AVlD6jkjhft9Bnl0XXcGfXTdyHh4uyaZ7DJcQ7dnohLX9lU6NZvpq1RkZvtK/S+VBqPrgcSZ17D0FrGe9mhRcR+aSFFJ1TOzSEVm9s6UigzRXF+5qtkfAnwAUqT7nK5zBH8AAAAASUVORK5CYII=\" id=\"image712f156fc1\" transform=\"matrix(5.156863 0 0 -5.156863 7.2 269.28)\" style=\"image-rendering:crisp-edges;image-rendering:pixelated\" width=\"51\" height=\"51\"/>\n",
       "   </g>\n",
       "  </g>\n",
       " </g>\n",
       " <defs>\n",
       "  <clipPath id=\"pf2d80f71b4\">\n",
       "   <rect x=\"7.2\" y=\"7.2\" width=\"262.08\" height=\"262.08\"/>\n",
       "  </clipPath>\n",
       " </defs>\n",
       "</svg>\n"
      ],
      "text/plain": [
       "<Figure size 288x288 with 1 Axes>"
      ]
     },
     "metadata": {
      "needs_background": "light"
     },
     "output_type": "display_data"
    }
   ],
   "source": [
    "im1 = np.zeros([100, 100,100])\n",
    "im2 = np.zeros([51, 51,51])\n",
    "im1 = ps.generators.RSA(im1, r=25, volume_fraction=0.5)\n",
    "im2 = ps.generators.RSA(im2, r=5, volume_fraction=0.5)\n",
    "im3 = im1.copy()\n",
    "\n",
    "fig, ax = plt.subplots(figsize=[4, 4]);\n",
    "ps.visualization.imshow(im1);\n",
    "plt.axis(False)\n",
    "fig, ax = plt.subplots(figsize=[4, 4]);\n",
    "ps.visualization.imshow(im2);\n",
    "plt.axis(False);\n",
    "\n",
    "#default values:\n",
    "c = [26,26,26]"
   ]
  },
  {
   "cell_type": "markdown",
   "id": "e40782a9",
   "metadata": {},
   "source": [
    "## Apply tool"
   ]
  },
  {
   "cell_type": "code",
   "execution_count": 3,
   "id": "2f693d62",
   "metadata": {
    "execution": {
     "iopub.execute_input": "2022-03-30T13:40:42.917498Z",
     "iopub.status.busy": "2022-03-30T13:40:42.916568Z",
     "iopub.status.idle": "2022-03-30T13:40:42.991577Z",
     "shell.execute_reply": "2022-03-30T13:40:42.991121Z"
    }
   },
   "outputs": [
    {
     "data": {
      "image/svg+xml": [
       "<?xml version=\"1.0\" encoding=\"utf-8\" standalone=\"no\"?>\n",
       "<!DOCTYPE svg PUBLIC \"-//W3C//DTD SVG 1.1//EN\"\n",
       "  \"http://www.w3.org/Graphics/SVG/1.1/DTD/svg11.dtd\">\n",
       "<svg xmlns:xlink=\"http://www.w3.org/1999/xlink\" width=\"276.48pt\" height=\"276.48pt\" viewBox=\"0 0 276.48 276.48\" xmlns=\"http://www.w3.org/2000/svg\" version=\"1.1\">\n",
       " <metadata>\n",
       "  <rdf:RDF xmlns:dc=\"http://purl.org/dc/elements/1.1/\" xmlns:cc=\"http://creativecommons.org/ns#\" xmlns:rdf=\"http://www.w3.org/1999/02/22-rdf-syntax-ns#\">\n",
       "   <cc:Work>\n",
       "    <dc:type rdf:resource=\"http://purl.org/dc/dcmitype/StillImage\"/>\n",
       "    <dc:date>2022-03-30T13:40:42.977571</dc:date>\n",
       "    <dc:format>image/svg+xml</dc:format>\n",
       "    <dc:creator>\n",
       "     <cc:Agent>\n",
       "      <dc:title>Matplotlib v3.5.1, https://matplotlib.org/</dc:title>\n",
       "     </cc:Agent>\n",
       "    </dc:creator>\n",
       "   </cc:Work>\n",
       "  </rdf:RDF>\n",
       " </metadata>\n",
       " <defs>\n",
       "  <style type=\"text/css\">*{stroke-linejoin: round; stroke-linecap: butt}</style>\n",
       " </defs>\n",
       " <g id=\"figure_1\">\n",
       "  <g id=\"patch_1\">\n",
       "   <path d=\"M 0 276.48 \n",
       "L 276.48 276.48 \n",
       "L 276.48 0 \n",
       "L 0 0 \n",
       "L 0 276.48 \n",
       "z\n",
       "\" style=\"fill: none\"/>\n",
       "  </g>\n",
       "  <g id=\"axes_1\">\n",
       "   <g clip-path=\"url(#pbda938a9b8)\">\n",
       "    <image xlink:href=\"data:image/png;base64,\n",
       "iVBORw0KGgoAAAANSUhEUgAAAGQAAABkCAYAAABw4pVUAAAB6ElEQVR4nO3cQXKDMAyFYej0aD1Cj5kj5G500XEndDDY2Jae4v9bdlE8ehZyoOmyAEAYq/cCznyt39v/nz23h/SaW314LwB7BCKGQMQQCIBAuh4hZzym9tZthhyFcfZzHPv0XkDOrN0mecqaudskA5kZgYjpFkju/j7Dfb+nrkOd4reTLWDtKevOwFfcQHILqtXj5KUUjMxCao04AisEE/KUNerziMLnHPcdUcOyYF7dEqZDrHevV7eECMSrOB7XDRHITNxmSOnnDIVBazlPdheyeuR9VuTX6ymEkViF8nfLmvmRtxLZGaK2EazWIxvIrCQDUeuOxGJdLoHw7iTP5ZR1RbVDlmV8PXYvqNih/iRnyMwIRAyBiCEQMQQiZvjf9qocpaOgQ8QQiBgCEVM8QyxnwXN7rIqPTyxmX9EFSt/w9TRrILK3LLWTmPkrXGiQDkSlSyzXYfalz7tzyHvAW2+Kog5pfcN3VVDFAe5lePo1xe79hZxWHrfMoTOktogex2uV6yWy/zjgSCrSyG7xPkhIn7JyRj4hGPF7a4TqkFc9u0UhiCRsIElLMEpBJOEDSRSLe0fIGfLOhgZSu2vfZZe3GN4hpUUmjF8mt6yrYhMGAAAAAAAAAAAAAAAAAAAAAAAAAAAAgLwf9/jPvOPr3VEAAAAASUVORK5CYII=\" id=\"image34fd3b11e5\" transform=\"matrix(2.63 0 0 -2.63 7.2 269.28)\" style=\"image-rendering:crisp-edges;image-rendering:pixelated\" width=\"100\" height=\"100\"/>\n",
       "   </g>\n",
       "  </g>\n",
       " </g>\n",
       " <defs>\n",
       "  <clipPath id=\"pbda938a9b8\">\n",
       "   <rect x=\"7.2\" y=\"7.2\" width=\"262.08\" height=\"262.08\"/>\n",
       "  </clipPath>\n",
       " </defs>\n",
       "</svg>\n"
      ],
      "text/plain": [
       "<Figure size 288x288 with 1 Axes>"
      ]
     },
     "metadata": {
      "needs_background": "light"
     },
     "output_type": "display_data"
    }
   ],
   "source": [
    "im = ps.tools.overlay(im1=im1,im2=im2, c=c)\n",
    "fig, ax = plt.subplots(figsize=[4, 4]);\n",
    "ps.visualization.imshow(im);\n",
    "plt.axis(False);"
   ]
  },
  {
   "cell_type": "code",
   "execution_count": 4,
   "id": "3c955ef6",
   "metadata": {
    "execution": {
     "iopub.execute_input": "2022-03-30T13:40:42.996230Z",
     "iopub.status.busy": "2022-03-30T13:40:42.994809Z",
     "iopub.status.idle": "2022-03-30T13:40:43.070782Z",
     "shell.execute_reply": "2022-03-30T13:40:43.070336Z"
    }
   },
   "outputs": [
    {
     "data": {
      "image/svg+xml": [
       "<?xml version=\"1.0\" encoding=\"utf-8\" standalone=\"no\"?>\n",
       "<!DOCTYPE svg PUBLIC \"-//W3C//DTD SVG 1.1//EN\"\n",
       "  \"http://www.w3.org/Graphics/SVG/1.1/DTD/svg11.dtd\">\n",
       "<svg xmlns:xlink=\"http://www.w3.org/1999/xlink\" width=\"276.48pt\" height=\"276.48pt\" viewBox=\"0 0 276.48 276.48\" xmlns=\"http://www.w3.org/2000/svg\" version=\"1.1\">\n",
       " <metadata>\n",
       "  <rdf:RDF xmlns:dc=\"http://purl.org/dc/elements/1.1/\" xmlns:cc=\"http://creativecommons.org/ns#\" xmlns:rdf=\"http://www.w3.org/1999/02/22-rdf-syntax-ns#\">\n",
       "   <cc:Work>\n",
       "    <dc:type rdf:resource=\"http://purl.org/dc/dcmitype/StillImage\"/>\n",
       "    <dc:date>2022-03-30T13:40:43.055708</dc:date>\n",
       "    <dc:format>image/svg+xml</dc:format>\n",
       "    <dc:creator>\n",
       "     <cc:Agent>\n",
       "      <dc:title>Matplotlib v3.5.1, https://matplotlib.org/</dc:title>\n",
       "     </cc:Agent>\n",
       "    </dc:creator>\n",
       "   </cc:Work>\n",
       "  </rdf:RDF>\n",
       " </metadata>\n",
       " <defs>\n",
       "  <style type=\"text/css\">*{stroke-linejoin: round; stroke-linecap: butt}</style>\n",
       " </defs>\n",
       " <g id=\"figure_1\">\n",
       "  <g id=\"patch_1\">\n",
       "   <path d=\"M 0 276.48 \n",
       "L 276.48 276.48 \n",
       "L 276.48 0 \n",
       "L 0 0 \n",
       "L 0 276.48 \n",
       "z\n",
       "\" style=\"fill: none\"/>\n",
       "  </g>\n",
       "  <g id=\"axes_1\">\n",
       "   <g clip-path=\"url(#pebde48661e)\">\n",
       "    <image xlink:href=\"data:image/png;base64,\n",
       "iVBORw0KGgoAAAANSUhEUgAAAGQAAABkCAYAAABw4pVUAAAB+ElEQVR4nO3b0W3DMAxFUbvIaB2hY2aE7OZ+GS0Mx5YUiXyk7vkMUJvRE60oapYFAAAAAAAAAAAAwLxW7wJ6+V5/ttq/eW1PufcvV1CtliCOlIKRKaRWjyCOFIL58i6gxYgwRl63hvuMqGE5YF7dEqZDrGevV7eECMRrcDzuGyKQmcgH4r3QWt9fOhDvMHaWdUgHMiPZQFS6Y2dVj2wgs5IMRK07dhZ1SQYyMwIRQyBiCEQMgYghEDEEIoZAxBCIGAIRQyBiCESMZCAK/x91xqIuyUBmJhuIWpdY1SMbyKykA1HpEss6zG50ddp294Y9TxCtJ4VJh9wNqOqRrYfhgZQO9icdNIrHfYfesPevmrw6qVcwZ/Ufry29qB+9tufqMWt7TIR31zi+HiqQncqnrxFCBrIsfbvFq/POPLwL+NQ+kFl+hRs+kJ334JYs2CXCPrJGeDeArRvX/6+XXnv4rKp5lHjP8lY991DDO6S0oKhh9GbyyLobbML4Y7aoRx30Xot1KRb1C6W769YPA2fSfOz11qtr6BAxBCKGQMQQyIWeizUAJJTqWWi9qx4hzaJeuqtWlyaQLAhEDN9l3eDb3smlCSTLrjrVIyva4J9J0yEAAAAAgDbhd7ZnIh9UpdupRz+oShdIdAQihkDEEIiYdIFkOagCAKDWL8GTyWJJZkSWAAAAAElFTkSuQmCC\" id=\"imagec9bd7db351\" transform=\"matrix(2.63 0 0 -2.63 7.2 269.28)\" style=\"image-rendering:crisp-edges;image-rendering:pixelated\" width=\"100\" height=\"100\"/>\n",
       "   </g>\n",
       "  </g>\n",
       " </g>\n",
       " <defs>\n",
       "  <clipPath id=\"pebde48661e\">\n",
       "   <rect x=\"7.2\" y=\"7.2\" width=\"262.08\" height=\"262.08\"/>\n",
       "  </clipPath>\n",
       " </defs>\n",
       "</svg>\n"
      ],
      "text/plain": [
       "<Figure size 288x288 with 1 Axes>"
      ]
     },
     "metadata": {
      "needs_background": "light"
     },
     "output_type": "display_data"
    }
   ],
   "source": [
    "im = ps.tools.overlay(im1=im3, im2=im2, c=[74, 74, 74])\n",
    "fig, ax = plt.subplots(figsize=[4, 4]);\n",
    "ps.visualization.imshow(im);\n",
    "plt.axis(False);"
   ]
  }
 ],
 "metadata": {
  "kernelspec": {
   "display_name": "Python 3",
   "language": "python",
   "name": "python3"
  },
  "language_info": {
   "codemirror_mode": {
    "name": "ipython",
    "version": 3
   },
   "file_extension": ".py",
   "mimetype": "text/x-python",
   "name": "python",
   "nbconvert_exporter": "python",
   "pygments_lexer": "ipython3",
   "version": "3.8.13"
  }
 },
 "nbformat": 4,
 "nbformat_minor": 5
}
