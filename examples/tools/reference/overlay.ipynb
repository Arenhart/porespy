{
 "cells": [
  {
   "cell_type": "markdown",
   "id": "4bd55bf8",
   "metadata": {},
   "source": [
    "# `overlay`"
   ]
  },
  {
   "cell_type": "markdown",
   "id": "a71579c9",
   "metadata": {},
   "source": [
    "## Import packages"
   ]
  },
  {
   "cell_type": "code",
   "execution_count": 1,
   "id": "2540ba84",
   "metadata": {
    "execution": {
     "iopub.execute_input": "2022-06-22T19:24:20.783877Z",
     "iopub.status.busy": "2022-06-22T19:24:20.783368Z",
     "iopub.status.idle": "2022-06-22T19:24:23.049722Z",
     "shell.execute_reply": "2022-06-22T19:24:23.048951Z"
    }
   },
   "outputs": [],
   "source": [
    "import numpy as np\n",
    "import porespy as ps\n",
    "import scipy.ndimage as spim\n",
    "import matplotlib.pyplot as plt\n",
    "import skimage\n",
    "ps.visualization.set_mpl_style()"
   ]
  },
  {
   "cell_type": "markdown",
   "id": "24f1086e",
   "metadata": {},
   "source": [
    "## Create image and variables"
   ]
  },
  {
   "cell_type": "code",
   "execution_count": 2,
   "id": "df980fdd",
   "metadata": {
    "execution": {
     "iopub.execute_input": "2022-06-22T19:24:23.054723Z",
     "iopub.status.busy": "2022-06-22T19:24:23.054188Z",
     "iopub.status.idle": "2022-06-22T19:24:24.364143Z",
     "shell.execute_reply": "2022-06-22T19:24:24.363397Z"
    }
   },
   "outputs": [
    {
     "name": "stderr",
     "output_type": "stream",
     "text": [
      "/tmp/ipykernel_10178/2366592848.py:3: DeprecationWarning: Call to deprecated function (or staticmethod) RSA. (This function has been renamed to rsa (lowercase to meet pep8)\n",
      "  im1 = ps.generators.RSA(im1, r=25, volume_fraction=0.5)\n"
     ]
    },
    {
     "name": "stderr",
     "output_type": "stream",
     "text": [
      "/tmp/ipykernel_10178/2366592848.py:4: DeprecationWarning: Call to deprecated function (or staticmethod) RSA. (This function has been renamed to rsa (lowercase to meet pep8)\n",
      "  im2 = ps.generators.RSA(im2, r=5, volume_fraction=0.5)\n"
     ]
    },
    {
     "data": {
      "image/svg+xml": [
       "<?xml version=\"1.0\" encoding=\"utf-8\" standalone=\"no\"?>\n",
       "<!DOCTYPE svg PUBLIC \"-//W3C//DTD SVG 1.1//EN\"\n",
       "  \"http://www.w3.org/Graphics/SVG/1.1/DTD/svg11.dtd\">\n",
       "<svg xmlns:xlink=\"http://www.w3.org/1999/xlink\" width=\"280.8pt\" height=\"280.8pt\" viewBox=\"0 0 280.8 280.8\" xmlns=\"http://www.w3.org/2000/svg\" version=\"1.1\">\n",
       " <metadata>\n",
       "  <rdf:RDF xmlns:dc=\"http://purl.org/dc/elements/1.1/\" xmlns:cc=\"http://creativecommons.org/ns#\" xmlns:rdf=\"http://www.w3.org/1999/02/22-rdf-syntax-ns#\">\n",
       "   <cc:Work>\n",
       "    <dc:type rdf:resource=\"http://purl.org/dc/dcmitype/StillImage\"/>\n",
       "    <dc:date>2022-06-22T19:24:24.296698</dc:date>\n",
       "    <dc:format>image/svg+xml</dc:format>\n",
       "    <dc:creator>\n",
       "     <cc:Agent>\n",
       "      <dc:title>Matplotlib v3.5.2, https://matplotlib.org/</dc:title>\n",
       "     </cc:Agent>\n",
       "    </dc:creator>\n",
       "   </cc:Work>\n",
       "  </rdf:RDF>\n",
       " </metadata>\n",
       " <defs>\n",
       "  <style type=\"text/css\">*{stroke-linejoin: round; stroke-linecap: butt}</style>\n",
       " </defs>\n",
       " <g id=\"figure_1\">\n",
       "  <g id=\"patch_1\">\n",
       "   <path d=\"M 0 280.8 \n",
       "L 280.8 280.8 \n",
       "L 280.8 0 \n",
       "L 0 0 \n",
       "L 0 280.8 \n",
       "z\n",
       "\" style=\"fill: none\"/>\n",
       "  </g>\n",
       "  <g id=\"axes_1\">\n",
       "   <g clip-path=\"url(#pa7b9dda462)\">\n",
       "    <image xlink:href=\"data:image/png;base64,\n",
       "iVBORw0KGgoAAAANSUhEUgAAAGQAAABkCAYAAABw4pVUAAACIElEQVR4nO3cQXKDMAyFYdLp0XqEHrNHyN3SRcM042EAW5L1iP5v2QXYfhYB7LIsAAAAAAAAAAAAwES37Aao+7p9P9q/3R8/YeNGII2tAI54BkQgTyNBtDyCKR+IRxAtSzAfng25mogwrMctWSFRQWzprZZyFTIzjJHzfc5uROQt4ztwHZye2ZARzOzqeHW2v26XrN7Oql86ss7vEshoZ7MHSZE5EOugzghFJfgz7Sh3l6XOFIjXzIucwSrVsTpqDxUihkDEEIiYtw5E7fdjtdeutw7kighEjCkQr/dRvHD8R4WIMQdind2R1aFaeXvtcqmQ0Y6rDlgmt0tW7+ASxjbXFcN1kFkxHFdicJQeEI8mZMiaeuvMgFA5f0IHIXtbprUt3s70Lew5hGXdMSGBKC7rZl8Sp+86WSmvImaF0nNe10C8B7Hi5avcu6zZVdJ7PrfGRc7mK955jba5XIW8igractwpD4bKzrzu6T2WRflAVpZgPCuNQBrt4M7+L1wCOTD7rqz0j7oiAhFDIGLSlnCzj6uKChHjGoj3bK5WHcsSUCHsZrQJ67TlVYRKGBl7AcqsqffIbPeUzl9p10l2ZUsMggqFN77c9j6p7AUgkEVrLwCBiCkfiNpX5coHooZAxBCIGAIRQyBiCEQMgYghEDHlA1HbC1A+EDUEsmjtBSCQJ5W9AATyQuFDOgTSyP6QDku4O660FwAAAAAAAABAcb8kYvyVws0TGAAAAABJRU5ErkJggg==\" id=\"imagefa320aba58\" transform=\"matrix(2.67 0 0 -2.67 7.2 273.6)\" style=\"image-rendering:crisp-edges;image-rendering:pixelated\" width=\"100\" height=\"100\"/>\n",
       "   </g>\n",
       "  </g>\n",
       " </g>\n",
       " <defs>\n",
       "  <clipPath id=\"pa7b9dda462\">\n",
       "   <rect x=\"7.2\" y=\"7.2\" width=\"266.4\" height=\"266.4\"/>\n",
       "  </clipPath>\n",
       " </defs>\n",
       "</svg>\n"
      ],
      "text/plain": [
       "<Figure size 288x288 with 1 Axes>"
      ]
     },
     "metadata": {
      "needs_background": "light"
     },
     "output_type": "display_data"
    },
    {
     "data": {
      "image/svg+xml": [
       "<?xml version=\"1.0\" encoding=\"utf-8\" standalone=\"no\"?>\n",
       "<!DOCTYPE svg PUBLIC \"-//W3C//DTD SVG 1.1//EN\"\n",
       "  \"http://www.w3.org/Graphics/SVG/1.1/DTD/svg11.dtd\">\n",
       "<svg xmlns:xlink=\"http://www.w3.org/1999/xlink\" width=\"280.8pt\" height=\"280.8pt\" viewBox=\"0 0 280.8 280.8\" xmlns=\"http://www.w3.org/2000/svg\" version=\"1.1\">\n",
       " <metadata>\n",
       "  <rdf:RDF xmlns:dc=\"http://purl.org/dc/elements/1.1/\" xmlns:cc=\"http://creativecommons.org/ns#\" xmlns:rdf=\"http://www.w3.org/1999/02/22-rdf-syntax-ns#\">\n",
       "   <cc:Work>\n",
       "    <dc:type rdf:resource=\"http://purl.org/dc/dcmitype/StillImage\"/>\n",
       "    <dc:date>2022-06-22T19:24:24.351295</dc:date>\n",
       "    <dc:format>image/svg+xml</dc:format>\n",
       "    <dc:creator>\n",
       "     <cc:Agent>\n",
       "      <dc:title>Matplotlib v3.5.2, https://matplotlib.org/</dc:title>\n",
       "     </cc:Agent>\n",
       "    </dc:creator>\n",
       "   </cc:Work>\n",
       "  </rdf:RDF>\n",
       " </metadata>\n",
       " <defs>\n",
       "  <style type=\"text/css\">*{stroke-linejoin: round; stroke-linecap: butt}</style>\n",
       " </defs>\n",
       " <g id=\"figure_1\">\n",
       "  <g id=\"patch_1\">\n",
       "   <path d=\"M 0 280.8 \n",
       "L 280.8 280.8 \n",
       "L 280.8 0 \n",
       "L 0 0 \n",
       "L 0 280.8 \n",
       "z\n",
       "\" style=\"fill: none\"/>\n",
       "  </g>\n",
       "  <g id=\"axes_1\">\n",
       "   <g clip-path=\"url(#p39ad791ace)\">\n",
       "    <image xlink:href=\"data:image/png;base64,\n",
       "iVBORw0KGgoAAAANSUhEUgAAADMAAAAzCAYAAAA6oTAqAAABMUlEQVR4nO2Zyw3DMAxDnaCjdYSOmRGyW3rLofnIoulQNfSOAYpSNvWxXcpATGoB7+mz/X5btwXSNbfLwTkL5O67hSwYSzAS0IspBrUHCyiYO3v0DMhaQLfNetiDhbQAsJEFY9kRsat0Z64Eo3nn/lFNTqiqmntnetiDBWQztj1YSP+c3XjDjTMtfcpchR5jS68iAs9mZ6jntZwAojJUMFQ/e3Lmrgg8Ns4wUReMJEmSJPGwN6gRGthcSp+DkoKhBk3q4aw39LtmFTWp8DfB1DCXEvcezMueMyzhyhJPtZm6xF+umHeFn7hQtzTRzucRXgcONov8zGcRuml6rR62zyDF5BBli/drc81acVQDdWfUzfeQM+u2TC23jeGeAdUrjHJZzaILPyOsYMTqYUszYvUvzrq6wpgMIzkAAAAASUVORK5CYII=\" id=\"imagedaf7520602\" transform=\"matrix(5.235294 0 0 -5.235294 7.2 273.6)\" style=\"image-rendering:crisp-edges;image-rendering:pixelated\" width=\"51\" height=\"51\"/>\n",
       "   </g>\n",
       "  </g>\n",
       " </g>\n",
       " <defs>\n",
       "  <clipPath id=\"p39ad791ace\">\n",
       "   <rect x=\"7.2\" y=\"7.2\" width=\"266.4\" height=\"266.4\"/>\n",
       "  </clipPath>\n",
       " </defs>\n",
       "</svg>\n"
      ],
      "text/plain": [
       "<Figure size 288x288 with 1 Axes>"
      ]
     },
     "metadata": {
      "needs_background": "light"
     },
     "output_type": "display_data"
    }
   ],
   "source": [
    "im1 = np.zeros([100, 100,100])\n",
    "im2 = np.zeros([51, 51,51])\n",
    "im1 = ps.generators.RSA(im1, r=25, volume_fraction=0.5)\n",
    "im2 = ps.generators.RSA(im2, r=5, volume_fraction=0.5)\n",
    "im3 = im1.copy()\n",
    "\n",
    "fig, ax = plt.subplots(figsize=[4, 4]);\n",
    "ps.visualization.imshow(im1);\n",
    "plt.axis(False)\n",
    "fig, ax = plt.subplots(figsize=[4, 4]);\n",
    "ps.visualization.imshow(im2);\n",
    "plt.axis(False);\n",
    "\n",
    "#default values:\n",
    "c = [26,26,26]"
   ]
  },
  {
   "cell_type": "markdown",
   "id": "81a1dc0b",
   "metadata": {},
   "source": [
    "## Apply tool"
   ]
  },
  {
   "cell_type": "code",
   "execution_count": 3,
   "id": "a8f3e5aa",
   "metadata": {
    "execution": {
     "iopub.execute_input": "2022-06-22T19:24:24.368150Z",
     "iopub.status.busy": "2022-06-22T19:24:24.367795Z",
     "iopub.status.idle": "2022-06-22T19:24:24.444558Z",
     "shell.execute_reply": "2022-06-22T19:24:24.443851Z"
    }
   },
   "outputs": [
    {
     "data": {
      "image/svg+xml": [
       "<?xml version=\"1.0\" encoding=\"utf-8\" standalone=\"no\"?>\n",
       "<!DOCTYPE svg PUBLIC \"-//W3C//DTD SVG 1.1//EN\"\n",
       "  \"http://www.w3.org/Graphics/SVG/1.1/DTD/svg11.dtd\">\n",
       "<svg xmlns:xlink=\"http://www.w3.org/1999/xlink\" width=\"280.8pt\" height=\"280.8pt\" viewBox=\"0 0 280.8 280.8\" xmlns=\"http://www.w3.org/2000/svg\" version=\"1.1\">\n",
       " <metadata>\n",
       "  <rdf:RDF xmlns:dc=\"http://purl.org/dc/elements/1.1/\" xmlns:cc=\"http://creativecommons.org/ns#\" xmlns:rdf=\"http://www.w3.org/1999/02/22-rdf-syntax-ns#\">\n",
       "   <cc:Work>\n",
       "    <dc:type rdf:resource=\"http://purl.org/dc/dcmitype/StillImage\"/>\n",
       "    <dc:date>2022-06-22T19:24:24.430809</dc:date>\n",
       "    <dc:format>image/svg+xml</dc:format>\n",
       "    <dc:creator>\n",
       "     <cc:Agent>\n",
       "      <dc:title>Matplotlib v3.5.2, https://matplotlib.org/</dc:title>\n",
       "     </cc:Agent>\n",
       "    </dc:creator>\n",
       "   </cc:Work>\n",
       "  </rdf:RDF>\n",
       " </metadata>\n",
       " <defs>\n",
       "  <style type=\"text/css\">*{stroke-linejoin: round; stroke-linecap: butt}</style>\n",
       " </defs>\n",
       " <g id=\"figure_1\">\n",
       "  <g id=\"patch_1\">\n",
       "   <path d=\"M 0 280.8 \n",
       "L 280.8 280.8 \n",
       "L 280.8 0 \n",
       "L 0 0 \n",
       "L 0 280.8 \n",
       "z\n",
       "\" style=\"fill: none\"/>\n",
       "  </g>\n",
       "  <g id=\"axes_1\">\n",
       "   <g clip-path=\"url(#pab3949ce44)\">\n",
       "    <image xlink:href=\"data:image/png;base64,\n",
       "iVBORw0KGgoAAAANSUhEUgAAAGQAAABkCAYAAABw4pVUAAACe0lEQVR4nO2cUZKDIBAFcWuPliPkmDmCd3N/klrLigoyAw+n+9NKKUMzSEY0JQAAAACA2zP1bsCHx/Rctsfm5SXTvlb89G5ASt9lHB2/MxJC4B+EiIEQMRAihswq5myVFWUVNkRAR6utu0lhyhIDIWL89m6AOq3vXQjZkFMd2P7GUtAwN0TvkWpRprFozzBCvPCol9WICX1T9ype1pw3ZIa0rCKXZku4DGld0i+9nssqK9I/a2tMO6dkNPQQ0/OBV268ZlNWabDqU0ev65tMWVeDfUzP5TNyolRzz6gO2HvkWUjpnR1rzuIJt8pSp0qI0sjbQ62NZ+0hQ8RAiBjSQlhlFWI5P3t0vtr9Y81evNIZEhGEiFElxGqaiXiv2IMMEaNaSO3o9swO1cw7apdJhlwNXLXDelJU7T2qyM7La1J/HjIC2RmS85bTvLyms47O+U1ksjtm5MeySn8Qz/qqyc7FnA5Rl9oK12XvY3ouuaOz5LelqMjOaYebkJrHutZtGYlsIXt2vx2v7VS17Z0try9dYb1LBbgkDtMpyzrYiNNXuFpW66mr9HpS71fs4dWJim0OlyFrvETXnDf8K21HOyevnquG8EI+1IixzDSEbNh2Lm/hitF6VRb6pq4IQsRAiBhmQhTX9CNChohhKsR6NEfLjpQcMoTdjHW4BV1TilCR0WMvgGvgvcsQV+nZ7ibBj7TrpHdmS3SCCgoVX5a9b6weVtWeByFJay8AQsQIL0Ttq3LhhaiBEDEQIgZCxECIGAgRAyFiIESM8ELU9gKEF6IGQpLWXgCEvFHZC4CQFQof0kHIht4f0uER7gEj7QUAAAAAAAAAAACA4PwB1rE7K5L8rScAAAAASUVORK5CYII=\" id=\"imagef9aaa6eb6c\" transform=\"matrix(2.67 0 0 -2.67 7.2 273.6)\" style=\"image-rendering:crisp-edges;image-rendering:pixelated\" width=\"100\" height=\"100\"/>\n",
       "   </g>\n",
       "  </g>\n",
       " </g>\n",
       " <defs>\n",
       "  <clipPath id=\"pab3949ce44\">\n",
       "   <rect x=\"7.2\" y=\"7.2\" width=\"266.4\" height=\"266.4\"/>\n",
       "  </clipPath>\n",
       " </defs>\n",
       "</svg>\n"
      ],
      "text/plain": [
       "<Figure size 288x288 with 1 Axes>"
      ]
     },
     "metadata": {
      "needs_background": "light"
     },
     "output_type": "display_data"
    }
   ],
   "source": [
    "im = ps.tools.overlay(im1=im1,im2=im2, c=c)\n",
    "fig, ax = plt.subplots(figsize=[4, 4]);\n",
    "ps.visualization.imshow(im);\n",
    "plt.axis(False);"
   ]
  },
  {
   "cell_type": "code",
   "execution_count": 4,
   "id": "8e89b639",
   "metadata": {
    "execution": {
     "iopub.execute_input": "2022-06-22T19:24:24.448237Z",
     "iopub.status.busy": "2022-06-22T19:24:24.447907Z",
     "iopub.status.idle": "2022-06-22T19:24:24.524702Z",
     "shell.execute_reply": "2022-06-22T19:24:24.523994Z"
    }
   },
   "outputs": [
    {
     "data": {
      "image/svg+xml": [
       "<?xml version=\"1.0\" encoding=\"utf-8\" standalone=\"no\"?>\n",
       "<!DOCTYPE svg PUBLIC \"-//W3C//DTD SVG 1.1//EN\"\n",
       "  \"http://www.w3.org/Graphics/SVG/1.1/DTD/svg11.dtd\">\n",
       "<svg xmlns:xlink=\"http://www.w3.org/1999/xlink\" width=\"280.8pt\" height=\"280.8pt\" viewBox=\"0 0 280.8 280.8\" xmlns=\"http://www.w3.org/2000/svg\" version=\"1.1\">\n",
       " <metadata>\n",
       "  <rdf:RDF xmlns:dc=\"http://purl.org/dc/elements/1.1/\" xmlns:cc=\"http://creativecommons.org/ns#\" xmlns:rdf=\"http://www.w3.org/1999/02/22-rdf-syntax-ns#\">\n",
       "   <cc:Work>\n",
       "    <dc:type rdf:resource=\"http://purl.org/dc/dcmitype/StillImage\"/>\n",
       "    <dc:date>2022-06-22T19:24:24.511350</dc:date>\n",
       "    <dc:format>image/svg+xml</dc:format>\n",
       "    <dc:creator>\n",
       "     <cc:Agent>\n",
       "      <dc:title>Matplotlib v3.5.2, https://matplotlib.org/</dc:title>\n",
       "     </cc:Agent>\n",
       "    </dc:creator>\n",
       "   </cc:Work>\n",
       "  </rdf:RDF>\n",
       " </metadata>\n",
       " <defs>\n",
       "  <style type=\"text/css\">*{stroke-linejoin: round; stroke-linecap: butt}</style>\n",
       " </defs>\n",
       " <g id=\"figure_1\">\n",
       "  <g id=\"patch_1\">\n",
       "   <path d=\"M 0 280.8 \n",
       "L 280.8 280.8 \n",
       "L 280.8 0 \n",
       "L 0 0 \n",
       "L 0 280.8 \n",
       "z\n",
       "\" style=\"fill: none\"/>\n",
       "  </g>\n",
       "  <g id=\"axes_1\">\n",
       "   <g clip-path=\"url(#pfde98c085f)\">\n",
       "    <image xlink:href=\"data:image/png;base64,\n",
       "iVBORw0KGgoAAAANSUhEUgAAAGQAAABkCAYAAABw4pVUAAACeElEQVR4nO2dXZLCIBAG49YezSN4zD2Cd3Mf1tRalCb8zDAf0P3oQwLTDJAM6rYBAAAAAAAAAAAAAAAAdOQS3QB1rpfbI/3s/vhxixtCEt4JOMNSEEKe1IhIsRCzvBALESktYr4sGzIaHjJar7tkhniJeEdptiyXIT1l1Nzvu3cjPLeMM2AanJLRECGmd3a8kttfsymrtLPqU0fU/U2E1HY2OkiKNAtpDWoPKSric9qx3C5LnSYhViPPcwSrZMfOWXvIEDEQIgZCxJhaiNr6sXPUrqmFjAhCxGgSYvU+iheO/5AhYjQLaR3dntmhmnlH7TLJkNqOqwYsErMpqzS4yHiPacVwDzIVw3qWCI7SA+LZgHSpqafkBITM+cM1CNHHMlvbYk1O39yeQyjr1uEiRLGsGz0ldj91sqNcRYySUnJfUyHWQVxx+lruXVbvLCm9n1njPEfziDuv2jYvlyGveIluuW6XB0Nlcl73lF6rheWF7LSIscw0hCSkwe39Ldyl15AzesvYNoTIgRAxECJGWAk3+rqqsMs6IGIwmE5Z1h1YLTu2zaliqPLU64Xndtit0y1SVGSU9sGi3W67rJEPz10vt0dULaZL50c6dRKd2RJBUEFh7ePB8InKWQCEbFpnAZZ/MIxYvI+2zWSIE7WiESIGQsRAiBhTL+oRJdgc3L9jqMinRVX9eOq0QkYFIWIgRIzlhaidBZhWyKeAKOyyjpBuXE8sd1/8O4IBKr9shJAXFH5IByEJ0WcBWEMOGOksAABAAMx/zpSWANhliTFdgSp3RKoWr6bKkNyilHLxaiohMzDdlKUGfyw5OAgRYyohuUWpUYtXEMAv8FAz7P6ACe0AAAAASUVORK5CYII=\" id=\"image8b3fec6e48\" transform=\"matrix(2.67 0 0 -2.67 7.2 273.6)\" style=\"image-rendering:crisp-edges;image-rendering:pixelated\" width=\"100\" height=\"100\"/>\n",
       "   </g>\n",
       "  </g>\n",
       " </g>\n",
       " <defs>\n",
       "  <clipPath id=\"pfde98c085f\">\n",
       "   <rect x=\"7.2\" y=\"7.2\" width=\"266.4\" height=\"266.4\"/>\n",
       "  </clipPath>\n",
       " </defs>\n",
       "</svg>\n"
      ],
      "text/plain": [
       "<Figure size 288x288 with 1 Axes>"
      ]
     },
     "metadata": {
      "needs_background": "light"
     },
     "output_type": "display_data"
    }
   ],
   "source": [
    "im = ps.tools.overlay(im1=im3, im2=im2, c=[74, 74, 74])\n",
    "fig, ax = plt.subplots(figsize=[4, 4]);\n",
    "ps.visualization.imshow(im);\n",
    "plt.axis(False);"
   ]
  }
 ],
 "metadata": {
  "kernelspec": {
   "display_name": "Python 3 (ipykernel)",
   "language": "python",
   "name": "python3"
  },
  "language_info": {
   "codemirror_mode": {
    "name": "ipython",
    "version": 3
   },
   "file_extension": ".py",
   "mimetype": "text/x-python",
   "name": "python",
   "nbconvert_exporter": "python",
   "pygments_lexer": "ipython3",
   "version": "3.8.13"
  }
 },
 "nbformat": 4,
 "nbformat_minor": 5
}
