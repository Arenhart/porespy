{
 "cells": [
  {
   "cell_type": "markdown",
   "id": "12dfce1a",
   "metadata": {},
   "source": [
    "# overlay"
   ]
  },
  {
   "cell_type": "markdown",
   "id": "a0a841b4",
   "metadata": {},
   "source": [
    "## Import packages"
   ]
  },
  {
   "cell_type": "code",
   "execution_count": 1,
   "id": "cf91769a",
   "metadata": {
    "execution": {
     "iopub.execute_input": "2022-04-01T17:03:14.158674Z",
     "iopub.status.busy": "2022-04-01T17:03:14.158124Z",
     "iopub.status.idle": "2022-04-01T17:03:16.533745Z",
     "shell.execute_reply": "2022-04-01T17:03:16.533167Z"
    }
   },
   "outputs": [],
   "source": [
    "import numpy as np\n",
    "import porespy as ps\n",
    "import scipy.ndimage as spim\n",
    "import matplotlib.pyplot as plt\n",
    "import skimage\n",
    "ps.visualization.set_mpl_style()"
   ]
  },
  {
   "cell_type": "markdown",
   "id": "c078fe62",
   "metadata": {},
   "source": [
    "## Create image and variables"
   ]
  },
  {
   "cell_type": "code",
   "execution_count": 2,
   "id": "d22b0572",
   "metadata": {
    "execution": {
     "iopub.execute_input": "2022-04-01T17:03:16.538742Z",
     "iopub.status.busy": "2022-04-01T17:03:16.537652Z",
     "iopub.status.idle": "2022-04-01T17:03:17.726443Z",
     "shell.execute_reply": "2022-04-01T17:03:17.725953Z"
    }
   },
   "outputs": [
    {
     "name": "stderr",
     "output_type": "stream",
     "text": [
      "/tmp/ipykernel_9949/2366592848.py:3: DeprecationWarning: Call to deprecated function (or staticmethod) RSA. (This function has been renamed to rsa (lowercase to meet pep8)\n",
      "  im1 = ps.generators.RSA(im1, r=25, volume_fraction=0.5)\n"
     ]
    },
    {
     "name": "stderr",
     "output_type": "stream",
     "text": [
      "/tmp/ipykernel_9949/2366592848.py:4: DeprecationWarning: Call to deprecated function (or staticmethod) RSA. (This function has been renamed to rsa (lowercase to meet pep8)\n",
      "  im2 = ps.generators.RSA(im2, r=5, volume_fraction=0.5)\n"
     ]
    },
    {
     "data": {
      "image/svg+xml": [
       "<?xml version=\"1.0\" encoding=\"utf-8\" standalone=\"no\"?>\n",
       "<!DOCTYPE svg PUBLIC \"-//W3C//DTD SVG 1.1//EN\"\n",
       "  \"http://www.w3.org/Graphics/SVG/1.1/DTD/svg11.dtd\">\n",
       "<svg xmlns:xlink=\"http://www.w3.org/1999/xlink\" width=\"276.48pt\" height=\"276.48pt\" viewBox=\"0 0 276.48 276.48\" xmlns=\"http://www.w3.org/2000/svg\" version=\"1.1\">\n",
       " <metadata>\n",
       "  <rdf:RDF xmlns:dc=\"http://purl.org/dc/elements/1.1/\" xmlns:cc=\"http://creativecommons.org/ns#\" xmlns:rdf=\"http://www.w3.org/1999/02/22-rdf-syntax-ns#\">\n",
       "   <cc:Work>\n",
       "    <dc:type rdf:resource=\"http://purl.org/dc/dcmitype/StillImage\"/>\n",
       "    <dc:date>2022-04-01T17:03:17.675684</dc:date>\n",
       "    <dc:format>image/svg+xml</dc:format>\n",
       "    <dc:creator>\n",
       "     <cc:Agent>\n",
       "      <dc:title>Matplotlib v3.5.1, https://matplotlib.org/</dc:title>\n",
       "     </cc:Agent>\n",
       "    </dc:creator>\n",
       "   </cc:Work>\n",
       "  </rdf:RDF>\n",
       " </metadata>\n",
       " <defs>\n",
       "  <style type=\"text/css\">*{stroke-linejoin: round; stroke-linecap: butt}</style>\n",
       " </defs>\n",
       " <g id=\"figure_1\">\n",
       "  <g id=\"patch_1\">\n",
       "   <path d=\"M 0 276.48 \n",
       "L 276.48 276.48 \n",
       "L 276.48 0 \n",
       "L 0 0 \n",
       "L 0 276.48 \n",
       "z\n",
       "\" style=\"fill: none\"/>\n",
       "  </g>\n",
       "  <g id=\"axes_1\">\n",
       "   <g clip-path=\"url(#pffabf473fc)\">\n",
       "    <image xlink:href=\"data:image/png;base64,\n",
       "iVBORw0KGgoAAAANSUhEUgAAAGQAAABkCAYAAABw4pVUAAAB+ElEQVR4nO3cXU7DMBAAYZezcQSOyRG4W3khUlWlrZ3Gu2N2vmdUbzIx4Sdta5IkSZIkSZIk6WSX7AGe+bx8XXu/9uf6jT6WXriDGInwyMpxMIOfEeLeimHSB54R4t5KYdIGjQhxb4UwHxmLZsTIXHdEeJDsk5K9/iuhQSgngzLHnrAgtJNAm2cTEoR68MS5Um7qemx6EOJVeIs2nzsEZmoQ2tX3CGlOdwjMtCCkq64HZV53CIxBYKYEoWz/UYS53SEwBoExCIxBYAwCYxAYg8AYBMYgMAaBmRJkhQfS9hDmdofAGARmWhDC9h9BmdcdAjM1COWqe4U0pzsEZnoQ0tW3hzafOwQmJAjtKtwQ5wrbIbSDp82zCf2WRTkJlDn2hN9Dsk9G9vqv+C7cDnuzzgqbfrUQ36d+ZKazAqUH2RA+yYHwsR6YIJusk3LmBfFOFFyQW1GfBkTYnRt0kAgz72FHopT+08nsHyiOvH7ZIFE/do+uUzJI9O9AI+uVDEJWLgj9o6HKBaEzCIxBYEoFyX6Xbc/6pYKswCAwBoExCEypINn/T+9Zv1SQFRgExiAw5YJk3Ud61y0XhK5kkOhdMrJeySCtxUUZXadskNbmR/GpkwNmRTn6uuWDtHZ+lHdezyB/zory757tJfDpd7jI94dIkiRJkiSSX8Ovwirkg1WaAAAAAElFTkSuQmCC\" id=\"imaged463b9c41b\" transform=\"matrix(2.63 0 0 -2.63 7.2 269.28)\" style=\"image-rendering:crisp-edges;image-rendering:pixelated\" width=\"100\" height=\"100\"/>\n",
       "   </g>\n",
       "  </g>\n",
       " </g>\n",
       " <defs>\n",
       "  <clipPath id=\"pffabf473fc\">\n",
       "   <rect x=\"7.2\" y=\"7.2\" width=\"262.08\" height=\"262.08\"/>\n",
       "  </clipPath>\n",
       " </defs>\n",
       "</svg>\n"
      ],
      "text/plain": [
       "<Figure size 288x288 with 1 Axes>"
      ]
     },
     "metadata": {
      "needs_background": "light"
     },
     "output_type": "display_data"
    },
    {
     "data": {
      "image/svg+xml": [
       "<?xml version=\"1.0\" encoding=\"utf-8\" standalone=\"no\"?>\n",
       "<!DOCTYPE svg PUBLIC \"-//W3C//DTD SVG 1.1//EN\"\n",
       "  \"http://www.w3.org/Graphics/SVG/1.1/DTD/svg11.dtd\">\n",
       "<svg xmlns:xlink=\"http://www.w3.org/1999/xlink\" width=\"276.48pt\" height=\"276.48pt\" viewBox=\"0 0 276.48 276.48\" xmlns=\"http://www.w3.org/2000/svg\" version=\"1.1\">\n",
       " <metadata>\n",
       "  <rdf:RDF xmlns:dc=\"http://purl.org/dc/elements/1.1/\" xmlns:cc=\"http://creativecommons.org/ns#\" xmlns:rdf=\"http://www.w3.org/1999/02/22-rdf-syntax-ns#\">\n",
       "   <cc:Work>\n",
       "    <dc:type rdf:resource=\"http://purl.org/dc/dcmitype/StillImage\"/>\n",
       "    <dc:date>2022-04-01T17:03:17.720652</dc:date>\n",
       "    <dc:format>image/svg+xml</dc:format>\n",
       "    <dc:creator>\n",
       "     <cc:Agent>\n",
       "      <dc:title>Matplotlib v3.5.1, https://matplotlib.org/</dc:title>\n",
       "     </cc:Agent>\n",
       "    </dc:creator>\n",
       "   </cc:Work>\n",
       "  </rdf:RDF>\n",
       " </metadata>\n",
       " <defs>\n",
       "  <style type=\"text/css\">*{stroke-linejoin: round; stroke-linecap: butt}</style>\n",
       " </defs>\n",
       " <g id=\"figure_1\">\n",
       "  <g id=\"patch_1\">\n",
       "   <path d=\"M 0 276.48 \n",
       "L 276.48 276.48 \n",
       "L 276.48 0 \n",
       "L 0 0 \n",
       "L 0 276.48 \n",
       "z\n",
       "\" style=\"fill: none\"/>\n",
       "  </g>\n",
       "  <g id=\"axes_1\">\n",
       "   <g clip-path=\"url(#p9a453d9bbd)\">\n",
       "    <image xlink:href=\"data:image/png;base64,\n",
       "iVBORw0KGgoAAAANSUhEUgAAADMAAAAzCAYAAAA6oTAqAAABdElEQVR4nO2ZUQ6EIAxExXg0j+AxPYJ3Y780GyNlBlqohvfJmtJSOtbuNH2IYGl8DVu8rx1xL94zZ28uNVyysbSuYW/RMvx/QjmH17DFmgyloDOjfeKaUMEgJ17nTh1mNdODopqxQqrFI+4hV6tUESLX6DQuPftU/OzzT5hds5QDbCDI7ye0PGqcIGOTsU1nhjnx1hQJgAfHnzBXM+3+TML0PYN2C7ng0ODFfkq7w83ZT/mA+lb0TkDQUijGt9lzv8X6RgtAy4JmUemae3fLJ3AwbMq1FIrBVJpbdwuwmmmpEwulZpITHgqb8Q12tldmGOCa6VHQLJQAeL6OA89UXY8erY20JzRcsJqmsOT2fM0QEGmnXhMMwgjGK6Zqpql2SDtlJqOt5wpmamY1V8i1U67+0kCQsvopARjBeAUaj97XkOc01Qz168oMOhOrHYZrBJJapyYvPeYA9HTmK4xgvOI+mKIhIFpoPT6XUa7MoCfgeXb2AzYgJgY1mp/EAAAAAElFTkSuQmCC\" id=\"image3ee489eaf4\" transform=\"matrix(5.156863 0 0 -5.156863 7.2 269.28)\" style=\"image-rendering:crisp-edges;image-rendering:pixelated\" width=\"51\" height=\"51\"/>\n",
       "   </g>\n",
       "  </g>\n",
       " </g>\n",
       " <defs>\n",
       "  <clipPath id=\"p9a453d9bbd\">\n",
       "   <rect x=\"7.2\" y=\"7.2\" width=\"262.08\" height=\"262.08\"/>\n",
       "  </clipPath>\n",
       " </defs>\n",
       "</svg>\n"
      ],
      "text/plain": [
       "<Figure size 288x288 with 1 Axes>"
      ]
     },
     "metadata": {
      "needs_background": "light"
     },
     "output_type": "display_data"
    }
   ],
   "source": [
    "im1 = np.zeros([100, 100,100])\n",
    "im2 = np.zeros([51, 51,51])\n",
    "im1 = ps.generators.RSA(im1, r=25, volume_fraction=0.5)\n",
    "im2 = ps.generators.RSA(im2, r=5, volume_fraction=0.5)\n",
    "im3 = im1.copy()\n",
    "\n",
    "fig, ax = plt.subplots(figsize=[4, 4]);\n",
    "ps.visualization.imshow(im1);\n",
    "plt.axis(False)\n",
    "fig, ax = plt.subplots(figsize=[4, 4]);\n",
    "ps.visualization.imshow(im2);\n",
    "plt.axis(False);\n",
    "\n",
    "#default values:\n",
    "c = [26,26,26]"
   ]
  },
  {
   "cell_type": "markdown",
   "id": "5c547e0b",
   "metadata": {},
   "source": [
    "## Apply tool"
   ]
  },
  {
   "cell_type": "code",
   "execution_count": 3,
   "id": "a5bdc79d",
   "metadata": {
    "execution": {
     "iopub.execute_input": "2022-04-01T17:03:17.729681Z",
     "iopub.status.busy": "2022-04-01T17:03:17.729321Z",
     "iopub.status.idle": "2022-04-01T17:03:17.810902Z",
     "shell.execute_reply": "2022-04-01T17:03:17.810435Z"
    }
   },
   "outputs": [
    {
     "data": {
      "image/svg+xml": [
       "<?xml version=\"1.0\" encoding=\"utf-8\" standalone=\"no\"?>\n",
       "<!DOCTYPE svg PUBLIC \"-//W3C//DTD SVG 1.1//EN\"\n",
       "  \"http://www.w3.org/Graphics/SVG/1.1/DTD/svg11.dtd\">\n",
       "<svg xmlns:xlink=\"http://www.w3.org/1999/xlink\" width=\"276.48pt\" height=\"276.48pt\" viewBox=\"0 0 276.48 276.48\" xmlns=\"http://www.w3.org/2000/svg\" version=\"1.1\">\n",
       " <metadata>\n",
       "  <rdf:RDF xmlns:dc=\"http://purl.org/dc/elements/1.1/\" xmlns:cc=\"http://creativecommons.org/ns#\" xmlns:rdf=\"http://www.w3.org/1999/02/22-rdf-syntax-ns#\">\n",
       "   <cc:Work>\n",
       "    <dc:type rdf:resource=\"http://purl.org/dc/dcmitype/StillImage\"/>\n",
       "    <dc:date>2022-04-01T17:03:17.797271</dc:date>\n",
       "    <dc:format>image/svg+xml</dc:format>\n",
       "    <dc:creator>\n",
       "     <cc:Agent>\n",
       "      <dc:title>Matplotlib v3.5.1, https://matplotlib.org/</dc:title>\n",
       "     </cc:Agent>\n",
       "    </dc:creator>\n",
       "   </cc:Work>\n",
       "  </rdf:RDF>\n",
       " </metadata>\n",
       " <defs>\n",
       "  <style type=\"text/css\">*{stroke-linejoin: round; stroke-linecap: butt}</style>\n",
       " </defs>\n",
       " <g id=\"figure_1\">\n",
       "  <g id=\"patch_1\">\n",
       "   <path d=\"M 0 276.48 \n",
       "L 276.48 276.48 \n",
       "L 276.48 0 \n",
       "L 0 0 \n",
       "L 0 276.48 \n",
       "z\n",
       "\" style=\"fill: none\"/>\n",
       "  </g>\n",
       "  <g id=\"axes_1\">\n",
       "   <g clip-path=\"url(#p20bb39d6ff)\">\n",
       "    <image xlink:href=\"data:image/png;base64,\n",
       "iVBORw0KGgoAAAANSUhEUgAAAGQAAABkCAYAAABw4pVUAAACTElEQVR4nO2d21HDMBAAFYbSKIEyKYHewg8aSHDwIzrdytr9SyZjnbU6ybo4TikiIsNw+f3i7fJ+vf/A5/Xjcv+exPGSHYDc8hp1YLPtGCEZsiTjv/flB6csGDdTllNKPmYIDIXACBHyaOpzShQRORXoOX3PRvIs6xPuJFrs5keW8yfwrBpURFllRDGr5fdK1Mn1qG+NJCas2rtGz0JjbWsEMSk79ayq7wjV5u5Csjslu/01ugqhdAYljiVuhETWoGidQIun0mWRo558KbyF3vI7jHAh5OwohRefGQIjVAht9D2CFKcZAiNMCGnUbYESrxkCQyEwQu5+p6T/EbI3imYIDIXAUAiMpt8Yjrx2UGi2gJ1Fhou63KAQGAqBoRAYzYRkL4ZnIawTR7zqIgwqpywYCoERJoSQ/nugxGuGwAgVQhl1a5DiNENghAshjb4laPGZITC6CKGNwgoxrm4ZQjt5WjyVrlMWpRMocSzRfQ3J7ozs9tdICy6j+HhURs/f7qePFuLv1I/E1EpQupAK4UkOhMd6YIRUsjql5YB4RgpOyG96PQ2IkJ0VtJAeRK5hR6RMXTqJvqA4cvxphfS67N7bzpRCeu+B9rQ3pRAy0wmhPxpqOiF0FAJDITCmEpJ9e+uW9qcSMgIKgaEQGAqBMZWQ7O/Tt7Q/lZARUAgMhcCYTkjWOrK13emE0JlSSO8s2dPelEJK6SdlbzvTCiklXop3nRwgSsrR404vpJT2Up45nkK+aSXldPf2EvDudzhZ/+0oIiIiIiIiItl8AQ007+B6w785AAAAAElFTkSuQmCC\" id=\"image2b1d6bb3ff\" transform=\"matrix(2.63 0 0 -2.63 7.2 269.28)\" style=\"image-rendering:crisp-edges;image-rendering:pixelated\" width=\"100\" height=\"100\"/>\n",
       "   </g>\n",
       "  </g>\n",
       " </g>\n",
       " <defs>\n",
       "  <clipPath id=\"p20bb39d6ff\">\n",
       "   <rect x=\"7.2\" y=\"7.2\" width=\"262.08\" height=\"262.08\"/>\n",
       "  </clipPath>\n",
       " </defs>\n",
       "</svg>\n"
      ],
      "text/plain": [
       "<Figure size 288x288 with 1 Axes>"
      ]
     },
     "metadata": {
      "needs_background": "light"
     },
     "output_type": "display_data"
    }
   ],
   "source": [
    "im = ps.tools.overlay(im1=im1,im2=im2, c=c)\n",
    "fig, ax = plt.subplots(figsize=[4, 4]);\n",
    "ps.visualization.imshow(im);\n",
    "plt.axis(False);"
   ]
  },
  {
   "cell_type": "code",
   "execution_count": 4,
   "id": "01677869",
   "metadata": {
    "execution": {
     "iopub.execute_input": "2022-04-01T17:03:17.814027Z",
     "iopub.status.busy": "2022-04-01T17:03:17.813732Z",
     "iopub.status.idle": "2022-04-01T17:03:17.896218Z",
     "shell.execute_reply": "2022-04-01T17:03:17.895726Z"
    }
   },
   "outputs": [
    {
     "data": {
      "image/svg+xml": [
       "<?xml version=\"1.0\" encoding=\"utf-8\" standalone=\"no\"?>\n",
       "<!DOCTYPE svg PUBLIC \"-//W3C//DTD SVG 1.1//EN\"\n",
       "  \"http://www.w3.org/Graphics/SVG/1.1/DTD/svg11.dtd\">\n",
       "<svg xmlns:xlink=\"http://www.w3.org/1999/xlink\" width=\"276.48pt\" height=\"276.48pt\" viewBox=\"0 0 276.48 276.48\" xmlns=\"http://www.w3.org/2000/svg\" version=\"1.1\">\n",
       " <metadata>\n",
       "  <rdf:RDF xmlns:dc=\"http://purl.org/dc/elements/1.1/\" xmlns:cc=\"http://creativecommons.org/ns#\" xmlns:rdf=\"http://www.w3.org/1999/02/22-rdf-syntax-ns#\">\n",
       "   <cc:Work>\n",
       "    <dc:type rdf:resource=\"http://purl.org/dc/dcmitype/StillImage\"/>\n",
       "    <dc:date>2022-04-01T17:03:17.884451</dc:date>\n",
       "    <dc:format>image/svg+xml</dc:format>\n",
       "    <dc:creator>\n",
       "     <cc:Agent>\n",
       "      <dc:title>Matplotlib v3.5.1, https://matplotlib.org/</dc:title>\n",
       "     </cc:Agent>\n",
       "    </dc:creator>\n",
       "   </cc:Work>\n",
       "  </rdf:RDF>\n",
       " </metadata>\n",
       " <defs>\n",
       "  <style type=\"text/css\">*{stroke-linejoin: round; stroke-linecap: butt}</style>\n",
       " </defs>\n",
       " <g id=\"figure_1\">\n",
       "  <g id=\"patch_1\">\n",
       "   <path d=\"M 0 276.48 \n",
       "L 276.48 276.48 \n",
       "L 276.48 0 \n",
       "L 0 0 \n",
       "L 0 276.48 \n",
       "z\n",
       "\" style=\"fill: none\"/>\n",
       "  </g>\n",
       "  <g id=\"axes_1\">\n",
       "   <g clip-path=\"url(#p451447b4e0)\">\n",
       "    <image xlink:href=\"data:image/png;base64,\n",
       "iVBORw0KGgoAAAANSUhEUgAAAGQAAABkCAYAAABw4pVUAAACN0lEQVR4nO2cUW6DMBAFTdWj5Qg9Zo6Qu9GfIlURJIbYu2N55ru1H4yXBcVQioiIiIiIiIiIiIiINGbJDvCK2/Kz1v7tY72jj6UW3EGckXDEyHIwwVuIeGZEMemBe4h4ZiQxaUEjRDwzgpivjEkzZGTOe4ZwIdknJXv+d4QKoZwMSo49woTQTgItz0aIEOrBE3OlNHU5prsQ4ir8Dy2fFQKjqxDa6juClNMKgdFNCGnV1UDJa4XAUAiMLkIo5X8WQm4rBIZCYCgEhkJgKASGQmAoBIZCYCgEhkJgdBEywoa0PQi5rRAYCoHRTQih/M9AyWuFwOgqhLLq3kHKaYXA6C6EtPr2oOX7zg5AYO+n2yxRIZcs2ircIOYK6yG0g6fl2Qht6pSTQMmxR3gPeaz3JXO7TaaMml6FCtebqzJaNP1Xx/t/rPTSJb6nfiXTuzmGEbJB+JJDz8961ArBPKk/1vvS6vp+ZaxWC+LTcTAVskfU14AiqnO4S1YWPXtYjRTMXRYB4g0FpodEE3XbfXaeKYVEPwOdmW9KIWSmE0L/NNR0QugoBIZCYEwlJPst25r5pxIyAgqBoZBgbsvP+urSpZAkjqRMJYS8uWFjKiEjoBAYCoExnRBKHznK4WbrIGoXwnQVUkp8lZyZb0ohpcRJ8Tf1E/SWcmX8qYWU0k/K1XGnF1JKeymfjKeQP1puY/3k/xH35K1o9a5gj93vtfgcssOVLaCtUEgFkc8t9hAYChERERERkWh+AaZe8wsTtNEGAAAAAElFTkSuQmCC\" id=\"image583000c783\" transform=\"matrix(2.63 0 0 -2.63 7.2 269.28)\" style=\"image-rendering:crisp-edges;image-rendering:pixelated\" width=\"100\" height=\"100\"/>\n",
       "   </g>\n",
       "  </g>\n",
       " </g>\n",
       " <defs>\n",
       "  <clipPath id=\"p451447b4e0\">\n",
       "   <rect x=\"7.2\" y=\"7.2\" width=\"262.08\" height=\"262.08\"/>\n",
       "  </clipPath>\n",
       " </defs>\n",
       "</svg>\n"
      ],
      "text/plain": [
       "<Figure size 288x288 with 1 Axes>"
      ]
     },
     "metadata": {
      "needs_background": "light"
     },
     "output_type": "display_data"
    }
   ],
   "source": [
    "im = ps.tools.overlay(im1=im3, im2=im2, c=[74, 74, 74])\n",
    "fig, ax = plt.subplots(figsize=[4, 4]);\n",
    "ps.visualization.imshow(im);\n",
    "plt.axis(False);"
   ]
  }
 ],
 "metadata": {
  "kernelspec": {
   "display_name": "Python 3",
   "language": "python",
   "name": "python3"
  },
  "language_info": {
   "codemirror_mode": {
    "name": "ipython",
    "version": 3
   },
   "file_extension": ".py",
   "mimetype": "text/x-python",
   "name": "python",
   "nbconvert_exporter": "python",
   "pygments_lexer": "ipython3",
   "version": "3.8.13"
  }
 },
 "nbformat": 4,
 "nbformat_minor": 5
}
