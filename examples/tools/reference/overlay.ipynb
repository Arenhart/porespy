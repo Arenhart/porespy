{
 "cells": [
  {
   "cell_type": "markdown",
   "id": "4bd55bf8",
   "metadata": {},
   "source": [
    "# `overlay`"
   ]
  },
  {
   "cell_type": "markdown",
   "id": "a71579c9",
   "metadata": {},
   "source": [
    "## Import packages"
   ]
  },
  {
   "cell_type": "code",
   "execution_count": 1,
   "id": "2540ba84",
   "metadata": {
    "execution": {
     "iopub.execute_input": "2022-05-25T19:24:21.866673Z",
     "iopub.status.busy": "2022-05-25T19:24:21.866167Z",
     "iopub.status.idle": "2022-05-25T19:24:24.268865Z",
     "shell.execute_reply": "2022-05-25T19:24:24.268073Z"
    }
   },
   "outputs": [],
   "source": [
    "import numpy as np\n",
    "import porespy as ps\n",
    "import scipy.ndimage as spim\n",
    "import matplotlib.pyplot as plt\n",
    "import skimage\n",
    "ps.visualization.set_mpl_style()"
   ]
  },
  {
   "cell_type": "markdown",
   "id": "24f1086e",
   "metadata": {},
   "source": [
    "## Create image and variables"
   ]
  },
  {
   "cell_type": "code",
   "execution_count": 2,
   "id": "df980fdd",
   "metadata": {
    "execution": {
     "iopub.execute_input": "2022-05-25T19:24:24.274354Z",
     "iopub.status.busy": "2022-05-25T19:24:24.272990Z",
     "iopub.status.idle": "2022-05-25T19:24:25.579460Z",
     "shell.execute_reply": "2022-05-25T19:24:25.578542Z"
    }
   },
   "outputs": [
    {
     "name": "stderr",
     "output_type": "stream",
     "text": [
      "/tmp/ipykernel_10056/2366592848.py:3: DeprecationWarning: Call to deprecated function (or staticmethod) RSA. (This function has been renamed to rsa (lowercase to meet pep8)\n",
      "  im1 = ps.generators.RSA(im1, r=25, volume_fraction=0.5)\n"
     ]
    },
    {
     "name": "stderr",
     "output_type": "stream",
     "text": [
      "/tmp/ipykernel_10056/2366592848.py:4: DeprecationWarning: Call to deprecated function (or staticmethod) RSA. (This function has been renamed to rsa (lowercase to meet pep8)\n",
      "  im2 = ps.generators.RSA(im2, r=5, volume_fraction=0.5)\n"
     ]
    },
    {
     "data": {
      "image/svg+xml": [
       "<?xml version=\"1.0\" encoding=\"utf-8\" standalone=\"no\"?>\n",
       "<!DOCTYPE svg PUBLIC \"-//W3C//DTD SVG 1.1//EN\"\n",
       "  \"http://www.w3.org/Graphics/SVG/1.1/DTD/svg11.dtd\">\n",
       "<svg xmlns:xlink=\"http://www.w3.org/1999/xlink\" width=\"280.8pt\" height=\"280.8pt\" viewBox=\"0 0 280.8 280.8\" xmlns=\"http://www.w3.org/2000/svg\" version=\"1.1\">\n",
       " <metadata>\n",
       "  <rdf:RDF xmlns:dc=\"http://purl.org/dc/elements/1.1/\" xmlns:cc=\"http://creativecommons.org/ns#\" xmlns:rdf=\"http://www.w3.org/1999/02/22-rdf-syntax-ns#\">\n",
       "   <cc:Work>\n",
       "    <dc:type rdf:resource=\"http://purl.org/dc/dcmitype/StillImage\"/>\n",
       "    <dc:date>2022-05-25T19:24:25.485322</dc:date>\n",
       "    <dc:format>image/svg+xml</dc:format>\n",
       "    <dc:creator>\n",
       "     <cc:Agent>\n",
       "      <dc:title>Matplotlib v3.5.2, https://matplotlib.org/</dc:title>\n",
       "     </cc:Agent>\n",
       "    </dc:creator>\n",
       "   </cc:Work>\n",
       "  </rdf:RDF>\n",
       " </metadata>\n",
       " <defs>\n",
       "  <style type=\"text/css\">*{stroke-linejoin: round; stroke-linecap: butt}</style>\n",
       " </defs>\n",
       " <g id=\"figure_1\">\n",
       "  <g id=\"patch_1\">\n",
       "   <path d=\"M 0 280.8 \n",
       "L 280.8 280.8 \n",
       "L 280.8 0 \n",
       "L 0 0 \n",
       "L 0 280.8 \n",
       "z\n",
       "\" style=\"fill: none\"/>\n",
       "  </g>\n",
       "  <g id=\"axes_1\">\n",
       "   <g clip-path=\"url(#p77b2203cf0)\">\n",
       "    <image xlink:href=\"data:image/png;base64,\n",
       "iVBORw0KGgoAAAANSUhEUgAAAGQAAABkCAYAAABw4pVUAAACRElEQVR4nO2cUVLDMAxEXYajcQSOyRG4W/nyTBqaxHYsa1fa9w/Z6rEemjguRQghhBjj4R3Ak6/H97P3Z36fP6YzSydkRMIRFnLSCJkpYs9MMeGFWIrYM0PMx4wgqKyUMet6IRuyWsQ7RtsSriEIMkoZzxFKCIqMykieMELQZFR6c4UREoUQQlDbUenJRy8EXUalNSe9kGhQC2FpR6UlL7WQiNAKYWtH5So3rZCoSAgYlEJYl6vKWX5KIZGREDAkBAwJAUNCwJAQMCQEDAkBQ0LAkBAwJAQMCQGDUoj1KwHWnOWnFBIZCQGDVgjrsnWVm1ZIVKiFsLWkJS+1kIjQC2FpSWtOeiGl4EvpyRdCSCTCCEFtSW+upR/ibD/SrIEi7dka+UzLGnI1qFmDRGnKaI4l4XuGPXOgHm25m9+8Ib1DQT+LxPp6nzOCIFOHxHLWSXghFQsxFg1MI6SyHSLieVnphGxB+Y9sS5gvhlGQEDDMhfQuC4jLyEqWNKR1yNlllLJwyboatmQISPRXeYDX/TcJ2XHnm/wMMRBCVjwnuZujlbt53YW0DMFaisWNR8pTSVsHYXmn1up3051K6vmcBJnUt06sJac+JraXVY3TMbHkpBSCfEh/SiHISAgYbkL0nOQ9rg3Rc5L/uC9Zek7yCsSuk2xDP8O9IeIVCQFDQsCQEDBSCkF+TSGlEGTSClnVkt7rpBVSir0U6Jc+RRvphVi1BPotXBYQ9mWlb8iWu8MMs3MREa+9vUIIIYQQQgghhBDikD8RkO5Owva4XgAAAABJRU5ErkJggg==\" id=\"image6d3f76f51e\" transform=\"matrix(2.67 0 0 -2.67 7.2 273.6)\" style=\"image-rendering:crisp-edges;image-rendering:pixelated\" width=\"100\" height=\"100\"/>\n",
       "   </g>\n",
       "  </g>\n",
       " </g>\n",
       " <defs>\n",
       "  <clipPath id=\"p77b2203cf0\">\n",
       "   <rect x=\"7.2\" y=\"7.2\" width=\"266.4\" height=\"266.4\"/>\n",
       "  </clipPath>\n",
       " </defs>\n",
       "</svg>\n"
      ],
      "text/plain": [
       "<Figure size 288x288 with 1 Axes>"
      ]
     },
     "metadata": {
      "needs_background": "light"
     },
     "output_type": "display_data"
    },
    {
     "data": {
      "image/svg+xml": [
       "<?xml version=\"1.0\" encoding=\"utf-8\" standalone=\"no\"?>\n",
       "<!DOCTYPE svg PUBLIC \"-//W3C//DTD SVG 1.1//EN\"\n",
       "  \"http://www.w3.org/Graphics/SVG/1.1/DTD/svg11.dtd\">\n",
       "<svg xmlns:xlink=\"http://www.w3.org/1999/xlink\" width=\"280.8pt\" height=\"280.8pt\" viewBox=\"0 0 280.8 280.8\" xmlns=\"http://www.w3.org/2000/svg\" version=\"1.1\">\n",
       " <metadata>\n",
       "  <rdf:RDF xmlns:dc=\"http://purl.org/dc/elements/1.1/\" xmlns:cc=\"http://creativecommons.org/ns#\" xmlns:rdf=\"http://www.w3.org/1999/02/22-rdf-syntax-ns#\">\n",
       "   <cc:Work>\n",
       "    <dc:type rdf:resource=\"http://purl.org/dc/dcmitype/StillImage\"/>\n",
       "    <dc:date>2022-05-25T19:24:25.560972</dc:date>\n",
       "    <dc:format>image/svg+xml</dc:format>\n",
       "    <dc:creator>\n",
       "     <cc:Agent>\n",
       "      <dc:title>Matplotlib v3.5.2, https://matplotlib.org/</dc:title>\n",
       "     </cc:Agent>\n",
       "    </dc:creator>\n",
       "   </cc:Work>\n",
       "  </rdf:RDF>\n",
       " </metadata>\n",
       " <defs>\n",
       "  <style type=\"text/css\">*{stroke-linejoin: round; stroke-linecap: butt}</style>\n",
       " </defs>\n",
       " <g id=\"figure_1\">\n",
       "  <g id=\"patch_1\">\n",
       "   <path d=\"M 0 280.8 \n",
       "L 280.8 280.8 \n",
       "L 280.8 0 \n",
       "L 0 0 \n",
       "L 0 280.8 \n",
       "z\n",
       "\" style=\"fill: none\"/>\n",
       "  </g>\n",
       "  <g id=\"axes_1\">\n",
       "   <g clip-path=\"url(#p3d2919f1cb)\">\n",
       "    <image xlink:href=\"data:image/png;base64,\n",
       "iVBORw0KGgoAAAANSUhEUgAAADMAAAAzCAYAAAA6oTAqAAABV0lEQVR4nO2ZXRKDIAyEgenReoQe0yN4N/rUTutA2PATF/R7ZEQTkiwEvTPi6V/xOLbHzff8Ruj5shwpR6TxWppWBlltxOBeETKJjBWP44BFbpeoteEvMla5PYq100wDEvo9bl6KbM8UNolMzuDetQjLqLUI5JDEIaQGcw+fTUmgKIxEQBR1KTW7nWFF3GcYjjYaspFhO9qUFnGPm286AbRQE/XcaeIzLzt55AY66t3mAlBK05Y0voaalfJT4iwVFAWAWYZTqNWMee9R1UyPvQeRX41Nv8DO9FShUa0GPNny/quWa0gzG4jwTBEZVHhgZ0aqkIRGeFSRYb/wUNcMi+EppqgZlKWc+aYM85kLbeaC9DDLrwxUeMQb+tLL2FiqZpZy5m7O0HFrvHOY9DEIRSkrgmQES/o4h2XFFJ0m+u2l1OyazpzVnGlYqjmjMAIB2T6mqRkkK95mveB4ZgLE1QAAAABJRU5ErkJggg==\" id=\"image030bbdbb25\" transform=\"matrix(5.235294 0 0 -5.235294 7.2 273.6)\" style=\"image-rendering:crisp-edges;image-rendering:pixelated\" width=\"51\" height=\"51\"/>\n",
       "   </g>\n",
       "  </g>\n",
       " </g>\n",
       " <defs>\n",
       "  <clipPath id=\"p3d2919f1cb\">\n",
       "   <rect x=\"7.2\" y=\"7.2\" width=\"266.4\" height=\"266.4\"/>\n",
       "  </clipPath>\n",
       " </defs>\n",
       "</svg>\n"
      ],
      "text/plain": [
       "<Figure size 288x288 with 1 Axes>"
      ]
     },
     "metadata": {
      "needs_background": "light"
     },
     "output_type": "display_data"
    }
   ],
   "source": [
    "im1 = np.zeros([100, 100,100])\n",
    "im2 = np.zeros([51, 51,51])\n",
    "im1 = ps.generators.RSA(im1, r=25, volume_fraction=0.5)\n",
    "im2 = ps.generators.RSA(im2, r=5, volume_fraction=0.5)\n",
    "im3 = im1.copy()\n",
    "\n",
    "fig, ax = plt.subplots(figsize=[4, 4]);\n",
    "ps.visualization.imshow(im1);\n",
    "plt.axis(False)\n",
    "fig, ax = plt.subplots(figsize=[4, 4]);\n",
    "ps.visualization.imshow(im2);\n",
    "plt.axis(False);\n",
    "\n",
    "#default values:\n",
    "c = [26,26,26]"
   ]
  },
  {
   "cell_type": "markdown",
   "id": "81a1dc0b",
   "metadata": {},
   "source": [
    "## Apply tool"
   ]
  },
  {
   "cell_type": "code",
   "execution_count": 3,
   "id": "a8f3e5aa",
   "metadata": {
    "execution": {
     "iopub.execute_input": "2022-05-25T19:24:25.583463Z",
     "iopub.status.busy": "2022-05-25T19:24:25.582900Z",
     "iopub.status.idle": "2022-05-25T19:24:25.699255Z",
     "shell.execute_reply": "2022-05-25T19:24:25.698472Z"
    }
   },
   "outputs": [
    {
     "data": {
      "image/svg+xml": [
       "<?xml version=\"1.0\" encoding=\"utf-8\" standalone=\"no\"?>\n",
       "<!DOCTYPE svg PUBLIC \"-//W3C//DTD SVG 1.1//EN\"\n",
       "  \"http://www.w3.org/Graphics/SVG/1.1/DTD/svg11.dtd\">\n",
       "<svg xmlns:xlink=\"http://www.w3.org/1999/xlink\" width=\"280.8pt\" height=\"280.8pt\" viewBox=\"0 0 280.8 280.8\" xmlns=\"http://www.w3.org/2000/svg\" version=\"1.1\">\n",
       " <metadata>\n",
       "  <rdf:RDF xmlns:dc=\"http://purl.org/dc/elements/1.1/\" xmlns:cc=\"http://creativecommons.org/ns#\" xmlns:rdf=\"http://www.w3.org/1999/02/22-rdf-syntax-ns#\">\n",
       "   <cc:Work>\n",
       "    <dc:type rdf:resource=\"http://purl.org/dc/dcmitype/StillImage\"/>\n",
       "    <dc:date>2022-05-25T19:24:25.680284</dc:date>\n",
       "    <dc:format>image/svg+xml</dc:format>\n",
       "    <dc:creator>\n",
       "     <cc:Agent>\n",
       "      <dc:title>Matplotlib v3.5.2, https://matplotlib.org/</dc:title>\n",
       "     </cc:Agent>\n",
       "    </dc:creator>\n",
       "   </cc:Work>\n",
       "  </rdf:RDF>\n",
       " </metadata>\n",
       " <defs>\n",
       "  <style type=\"text/css\">*{stroke-linejoin: round; stroke-linecap: butt}</style>\n",
       " </defs>\n",
       " <g id=\"figure_1\">\n",
       "  <g id=\"patch_1\">\n",
       "   <path d=\"M 0 280.8 \n",
       "L 280.8 280.8 \n",
       "L 280.8 0 \n",
       "L 0 0 \n",
       "L 0 280.8 \n",
       "z\n",
       "\" style=\"fill: none\"/>\n",
       "  </g>\n",
       "  <g id=\"axes_1\">\n",
       "   <g clip-path=\"url(#pc6994d8069)\">\n",
       "    <image xlink:href=\"data:image/png;base64,\n",
       "iVBORw0KGgoAAAANSUhEUgAAAGQAAABkCAYAAABw4pVUAAACu0lEQVR4nO2d25GDMAxFzU5KSwkpMyWkN/aLDGQwIGNJV9Y9nzsbbHSQn8QphRBCCGlj8q6AJ8/pNUs/85nfqjFLJ6RFQg0NOWmE9BTxS08xwwvRFPFLDzFhhOwF9iwAljIW7koJIeQosHsB8BDxS6uYv94V8QZBRint9XhIL6o97LsDioyF5/SapfGqZkjt5tBuemGUeg3XZEUnhJBa2i9/R82OBUn9qu2bdGTjBbqMNVfiFiJDMiGeWPXOjjtlRMqOhbN76xbc3jPpK1JGFNKlyfIYIkeUUcp5vdmHgEEhYIQUErW5Wjiqv6uQswlfRlxHWT3LikYtNoervT0KIDI2QqItt4/Itw+Jttw+Kt2arFYkWZnh4XAdZUmyMoOMUoLOQ0aGQsD4CuEkDYNNp46015EVtSbrSoctycosItVuUntPPvKo6+j+2amDQSFghBUStU8x2VOXFBw1kFaED06kzp0vygUkvJAoTeDVeoYXUgq+FEn9mvdD7i6LcFlln6YMQdxdRJUprZfpjqG2sM/8npBGXS0PiVkfYhUolEyB/hbuVRm9pH3m9+Ql5m7Z6kKkQUY/i0S7vCYhkZZFLLKlZxnqAUQ7Agk9A93fy7JmHUS0h6WUhELWIDaxQyydjASFgKEuRNosIDYjlphkyNUgZ5dRimGTdRZsyiCQ8KmsIJmj8FRSRe7M5Ic5lRTlKKgeyyrhTyW9EgRtKRp7NdD7ITWs90ksr916XTchnvskyKReOtGW3HL9tEKsMo7HxAYnpRDr/khSXkohyFAIGG5CuE+yD+SJcq3/NwLuTRb3SbZAvHWSLehHuGcI2UIhYFAIGBQCRkohyF9TSCkEmbRCrLKk28/mZcDiizzSz6QWgkh6IVpZ0npdLlmsQHgvK32GrLkbzGHeXETE691eQgghhBBCCCGEEFLlH022eAnwjqkGAAAAAElFTkSuQmCC\" id=\"imagefd90ff5b4b\" transform=\"matrix(2.67 0 0 -2.67 7.2 273.6)\" style=\"image-rendering:crisp-edges;image-rendering:pixelated\" width=\"100\" height=\"100\"/>\n",
       "   </g>\n",
       "  </g>\n",
       " </g>\n",
       " <defs>\n",
       "  <clipPath id=\"pc6994d8069\">\n",
       "   <rect x=\"7.2\" y=\"7.2\" width=\"266.4\" height=\"266.4\"/>\n",
       "  </clipPath>\n",
       " </defs>\n",
       "</svg>\n"
      ],
      "text/plain": [
       "<Figure size 288x288 with 1 Axes>"
      ]
     },
     "metadata": {
      "needs_background": "light"
     },
     "output_type": "display_data"
    }
   ],
   "source": [
    "im = ps.tools.overlay(im1=im1,im2=im2, c=c)\n",
    "fig, ax = plt.subplots(figsize=[4, 4]);\n",
    "ps.visualization.imshow(im);\n",
    "plt.axis(False);"
   ]
  },
  {
   "cell_type": "code",
   "execution_count": 4,
   "id": "8e89b639",
   "metadata": {
    "execution": {
     "iopub.execute_input": "2022-05-25T19:24:25.706579Z",
     "iopub.status.busy": "2022-05-25T19:24:25.704140Z",
     "iopub.status.idle": "2022-05-25T19:24:25.774625Z",
     "shell.execute_reply": "2022-05-25T19:24:25.773595Z"
    }
   },
   "outputs": [
    {
     "data": {
      "image/svg+xml": [
       "<?xml version=\"1.0\" encoding=\"utf-8\" standalone=\"no\"?>\n",
       "<!DOCTYPE svg PUBLIC \"-//W3C//DTD SVG 1.1//EN\"\n",
       "  \"http://www.w3.org/Graphics/SVG/1.1/DTD/svg11.dtd\">\n",
       "<svg xmlns:xlink=\"http://www.w3.org/1999/xlink\" width=\"280.8pt\" height=\"280.8pt\" viewBox=\"0 0 280.8 280.8\" xmlns=\"http://www.w3.org/2000/svg\" version=\"1.1\">\n",
       " <metadata>\n",
       "  <rdf:RDF xmlns:dc=\"http://purl.org/dc/elements/1.1/\" xmlns:cc=\"http://creativecommons.org/ns#\" xmlns:rdf=\"http://www.w3.org/1999/02/22-rdf-syntax-ns#\">\n",
       "   <cc:Work>\n",
       "    <dc:type rdf:resource=\"http://purl.org/dc/dcmitype/StillImage\"/>\n",
       "    <dc:date>2022-05-25T19:24:25.764903</dc:date>\n",
       "    <dc:format>image/svg+xml</dc:format>\n",
       "    <dc:creator>\n",
       "     <cc:Agent>\n",
       "      <dc:title>Matplotlib v3.5.2, https://matplotlib.org/</dc:title>\n",
       "     </cc:Agent>\n",
       "    </dc:creator>\n",
       "   </cc:Work>\n",
       "  </rdf:RDF>\n",
       " </metadata>\n",
       " <defs>\n",
       "  <style type=\"text/css\">*{stroke-linejoin: round; stroke-linecap: butt}</style>\n",
       " </defs>\n",
       " <g id=\"figure_1\">\n",
       "  <g id=\"patch_1\">\n",
       "   <path d=\"M 0 280.8 \n",
       "L 280.8 280.8 \n",
       "L 280.8 0 \n",
       "L 0 0 \n",
       "L 0 280.8 \n",
       "z\n",
       "\" style=\"fill: none\"/>\n",
       "  </g>\n",
       "  <g id=\"axes_1\">\n",
       "   <g clip-path=\"url(#pf29a87308d)\">\n",
       "    <image xlink:href=\"data:image/png;base64,\n",
       "iVBORw0KGgoAAAANSUhEUgAAAGQAAABkCAYAAABw4pVUAAAClklEQVR4nO2cUZKrIBREceotLUvIMmcJszffF1VWKiogF7qbPv+J13tsokRIyRhjjGljm13ATF7be6/9zN/+G9qz5YS0SDgjQs4yQnqK+KSnGHkhkSI+6SHmp0chqIyU0et4kgkZLeIbrWmRSwiCjJTa65ASgiIj01KPjBA0GZnaumSEqCAhBDUdmZr66IWgy8iU1kkvRA1qISzpyJTUSy1EEVohbOnI3NVNK0QVCwGDUgjrcJW5qp9SiDIWAoaFgGEhYFgIGBYChoWAYSFgWAgYFgKGhYBhIWBQColeEhDNVf2UQpSxEDBohbAOW3d10wpRhVoIW0pK6qUWogi9EJaUlNZJLyQlfCk19UkIUUJGCGpKausaehJX7yP1aijSO1st5zQsIXeN6tVIlKS01jGk+Jpm92zojLQ8rT88IbVNQd+LJPp44QWj7LgTvdfJt+9vOY9/fUrCJHrIyg0/O85re++1UqSFfOPYIJT0HllOyBGUO7IjMg+GKlgIGNLPISPpdZc17ORLpLDK6IncXFY0vZJwBkUTUBhxQS1923vFrFljJ+SDJyIo5rJKQPlt6ZGKp/VOF4Jw9xUxPFHuSlraiMjxPOq76XYlnfk/CTJLT51ES156m9haRiXO28SSs6QQ5E36JZ/Uo+ebIlkyIchME1J7xbJc4U+ZmpDSJq8iIyWAIeuu2SoyXtt7L/lxlzjZWmY/9XudOhEWAoaFgGEhYCwpZOad292xJadO0PAq3AJGpaT2OMsKSSleCvSiT1PG8kKiUgK9CpcFhPeylk/IkafNlHlzEZHaNS1060NGMOuv256vwsoMWVdLk0fX8gQZISosOXWC/FaKEwKGhXTgLF2+yyocipCHLKnfEJSmGmPMIvwHTh0r9plv4TEAAAAASUVORK5CYII=\" id=\"image22f2afbb53\" transform=\"matrix(2.67 0 0 -2.67 7.2 273.6)\" style=\"image-rendering:crisp-edges;image-rendering:pixelated\" width=\"100\" height=\"100\"/>\n",
       "   </g>\n",
       "  </g>\n",
       " </g>\n",
       " <defs>\n",
       "  <clipPath id=\"pf29a87308d\">\n",
       "   <rect x=\"7.2\" y=\"7.2\" width=\"266.4\" height=\"266.4\"/>\n",
       "  </clipPath>\n",
       " </defs>\n",
       "</svg>\n"
      ],
      "text/plain": [
       "<Figure size 288x288 with 1 Axes>"
      ]
     },
     "metadata": {
      "needs_background": "light"
     },
     "output_type": "display_data"
    }
   ],
   "source": [
    "im = ps.tools.overlay(im1=im3, im2=im2, c=[74, 74, 74])\n",
    "fig, ax = plt.subplots(figsize=[4, 4]);\n",
    "ps.visualization.imshow(im);\n",
    "plt.axis(False);"
   ]
  }
 ],
 "metadata": {
  "kernelspec": {
   "display_name": "Python 3 (ipykernel)",
   "language": "python",
   "name": "python3"
  },
  "language_info": {
   "codemirror_mode": {
    "name": "ipython",
    "version": 3
   },
   "file_extension": ".py",
   "mimetype": "text/x-python",
   "name": "python",
   "nbconvert_exporter": "python",
   "pygments_lexer": "ipython3",
   "version": "3.8.13"
  }
 },
 "nbformat": 4,
 "nbformat_minor": 5
}
