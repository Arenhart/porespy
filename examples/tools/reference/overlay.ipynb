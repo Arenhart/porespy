{
 "cells": [
  {
   "cell_type": "markdown",
   "id": "aa021d59",
   "metadata": {},
   "source": [
    "# overlay"
   ]
  },
  {
   "cell_type": "markdown",
   "id": "85a44025",
   "metadata": {},
   "source": [
    "## Import packages"
   ]
  },
  {
   "cell_type": "code",
   "execution_count": 1,
   "id": "0f0e292d",
   "metadata": {
    "execution": {
     "iopub.execute_input": "2022-03-29T23:52:37.460411Z",
     "iopub.status.busy": "2022-03-29T23:52:37.460021Z",
     "iopub.status.idle": "2022-03-29T23:52:39.384677Z",
     "shell.execute_reply": "2022-03-29T23:52:39.384169Z"
    }
   },
   "outputs": [],
   "source": [
    "import numpy as np\n",
    "import porespy as ps\n",
    "import scipy.ndimage as spim\n",
    "import matplotlib.pyplot as plt\n",
    "import skimage\n",
    "ps.visualization.set_mpl_style()"
   ]
  },
  {
   "cell_type": "markdown",
   "id": "9c1dfb19",
   "metadata": {},
   "source": [
    "## Create image and variables"
   ]
  },
  {
   "cell_type": "code",
   "execution_count": 2,
   "id": "49f70ad8",
   "metadata": {
    "execution": {
     "iopub.execute_input": "2022-03-29T23:52:39.387939Z",
     "iopub.status.busy": "2022-03-29T23:52:39.387765Z",
     "iopub.status.idle": "2022-03-29T23:52:40.627304Z",
     "shell.execute_reply": "2022-03-29T23:52:40.626817Z"
    }
   },
   "outputs": [
    {
     "name": "stderr",
     "output_type": "stream",
     "text": [
      "/tmp/ipykernel_10117/2366592848.py:3: DeprecationWarning: Call to deprecated function (or staticmethod) RSA. (This function has been renamed to rsa (lowercase to meet pep8)\n",
      "  im1 = ps.generators.RSA(im1, r=25, volume_fraction=0.5)\n"
     ]
    },
    {
     "name": "stderr",
     "output_type": "stream",
     "text": [
      "/tmp/ipykernel_10117/2366592848.py:4: DeprecationWarning: Call to deprecated function (or staticmethod) RSA. (This function has been renamed to rsa (lowercase to meet pep8)\n",
      "  im2 = ps.generators.RSA(im2, r=5, volume_fraction=0.5)\n"
     ]
    },
    {
     "data": {
      "image/svg+xml": [
       "<?xml version=\"1.0\" encoding=\"utf-8\" standalone=\"no\"?>\n",
       "<!DOCTYPE svg PUBLIC \"-//W3C//DTD SVG 1.1//EN\"\n",
       "  \"http://www.w3.org/Graphics/SVG/1.1/DTD/svg11.dtd\">\n",
       "<svg xmlns:xlink=\"http://www.w3.org/1999/xlink\" width=\"276.48pt\" height=\"276.48pt\" viewBox=\"0 0 276.48 276.48\" xmlns=\"http://www.w3.org/2000/svg\" version=\"1.1\">\n",
       " <metadata>\n",
       "  <rdf:RDF xmlns:dc=\"http://purl.org/dc/elements/1.1/\" xmlns:cc=\"http://creativecommons.org/ns#\" xmlns:rdf=\"http://www.w3.org/1999/02/22-rdf-syntax-ns#\">\n",
       "   <cc:Work>\n",
       "    <dc:type rdf:resource=\"http://purl.org/dc/dcmitype/StillImage\"/>\n",
       "    <dc:date>2022-03-29T23:52:40.565863</dc:date>\n",
       "    <dc:format>image/svg+xml</dc:format>\n",
       "    <dc:creator>\n",
       "     <cc:Agent>\n",
       "      <dc:title>Matplotlib v3.5.1, https://matplotlib.org/</dc:title>\n",
       "     </cc:Agent>\n",
       "    </dc:creator>\n",
       "   </cc:Work>\n",
       "  </rdf:RDF>\n",
       " </metadata>\n",
       " <defs>\n",
       "  <style type=\"text/css\">*{stroke-linejoin: round; stroke-linecap: butt}</style>\n",
       " </defs>\n",
       " <g id=\"figure_1\">\n",
       "  <g id=\"patch_1\">\n",
       "   <path d=\"M 0 276.48 \n",
       "L 276.48 276.48 \n",
       "L 276.48 0 \n",
       "L 0 0 \n",
       "L 0 276.48 \n",
       "z\n",
       "\" style=\"fill: none\"/>\n",
       "  </g>\n",
       "  <g id=\"axes_1\">\n",
       "   <g clip-path=\"url(#pfe8d0ae73f)\">\n",
       "    <image xlink:href=\"data:image/png;base64,\n",
       "iVBORw0KGgoAAAANSUhEUgAAAGQAAABkCAYAAABw4pVUAAACQ0lEQVR4nO2cW3LDIAwAlU6P1iP0mD1C75Z+dJjJeJIYgwR67H4nIGsRITZYBAAAAAAAAAAAAAAAAADqcrNs/Ov2fe/97O/9xzSWKJgk4YqII9XFfGg3OCND4/vRURuNFomsWC0qFWI1qitWi/qUBXNMC7EexdWqZErIqmRVkvK5OwCPjAwArQXIcCM7Rq3lqkvzembiLF8hFgOrtTkipqyQFRU+Iqbksnf1dHulv3JCdq3YevstJWT38rmn/zJCdstonMVRQogXGY138aQX4k1G41VcqYV4ldF4Fl9qIREZFrL64dHV/rxXR+MYJxXijCkhq6oka3U0HuOdrhBrKdWeqzNlOUNFiNUoHmk32nTVaHGr3X5vydNISLVp6hH1KWs2mZVliBg9oBqpluoiGtuT8EzajJyovyEi/9e9/BFuT8KOn6lUPcuEzIzcmU0D0VjyP0RrGok8HfViLkQ7idmlmAphV/x1zISwCXsMEyFswh7H3ZE27/1Zk+5ub9SlcYtbVYj3XYERSFch0UkpJNq09RhvSiGRUROyex6PekPyGCcV4ozUQrxXybP4UgsR8SvlVVzphYj4k/IuHjUhuy/6rP/d8TXO4ihRIY3dUnr6LyVEZJ+U3n7LCRHxfZRCPbBor9ywjJc3OQyguQX22OYI7l6CeRWL6Sfk24DOWCFl96rJArMfdQ7yjGG6yvJ0biQK5ste7eRlliGy6H+IVhKzyxDZcBxh5womAtsvVPt8CAAAAAAAAAAAAAAAAAAAAOTkD5WnDIodMaZbAAAAAElFTkSuQmCC\" id=\"image019d28669d\" transform=\"matrix(2.63 0 0 -2.63 7.2 269.28)\" style=\"image-rendering:crisp-edges;image-rendering:pixelated\" width=\"100\" height=\"100\"/>\n",
       "   </g>\n",
       "  </g>\n",
       " </g>\n",
       " <defs>\n",
       "  <clipPath id=\"pfe8d0ae73f\">\n",
       "   <rect x=\"7.2\" y=\"7.2\" width=\"262.08\" height=\"262.08\"/>\n",
       "  </clipPath>\n",
       " </defs>\n",
       "</svg>\n"
      ],
      "text/plain": [
       "<Figure size 288x288 with 1 Axes>"
      ]
     },
     "metadata": {
      "needs_background": "light"
     },
     "output_type": "display_data"
    },
    {
     "data": {
      "image/svg+xml": [
       "<?xml version=\"1.0\" encoding=\"utf-8\" standalone=\"no\"?>\n",
       "<!DOCTYPE svg PUBLIC \"-//W3C//DTD SVG 1.1//EN\"\n",
       "  \"http://www.w3.org/Graphics/SVG/1.1/DTD/svg11.dtd\">\n",
       "<svg xmlns:xlink=\"http://www.w3.org/1999/xlink\" width=\"276.48pt\" height=\"276.48pt\" viewBox=\"0 0 276.48 276.48\" xmlns=\"http://www.w3.org/2000/svg\" version=\"1.1\">\n",
       " <metadata>\n",
       "  <rdf:RDF xmlns:dc=\"http://purl.org/dc/elements/1.1/\" xmlns:cc=\"http://creativecommons.org/ns#\" xmlns:rdf=\"http://www.w3.org/1999/02/22-rdf-syntax-ns#\">\n",
       "   <cc:Work>\n",
       "    <dc:type rdf:resource=\"http://purl.org/dc/dcmitype/StillImage\"/>\n",
       "    <dc:date>2022-03-29T23:52:40.613874</dc:date>\n",
       "    <dc:format>image/svg+xml</dc:format>\n",
       "    <dc:creator>\n",
       "     <cc:Agent>\n",
       "      <dc:title>Matplotlib v3.5.1, https://matplotlib.org/</dc:title>\n",
       "     </cc:Agent>\n",
       "    </dc:creator>\n",
       "   </cc:Work>\n",
       "  </rdf:RDF>\n",
       " </metadata>\n",
       " <defs>\n",
       "  <style type=\"text/css\">*{stroke-linejoin: round; stroke-linecap: butt}</style>\n",
       " </defs>\n",
       " <g id=\"figure_1\">\n",
       "  <g id=\"patch_1\">\n",
       "   <path d=\"M 0 276.48 \n",
       "L 276.48 276.48 \n",
       "L 276.48 0 \n",
       "L 0 0 \n",
       "L 0 276.48 \n",
       "z\n",
       "\" style=\"fill: none\"/>\n",
       "  </g>\n",
       "  <g id=\"axes_1\">\n",
       "   <g clip-path=\"url(#p30b06b512b)\">\n",
       "    <image xlink:href=\"data:image/png;base64,\n",
       "iVBORw0KGgoAAAANSUhEUgAAADMAAAAzCAYAAAA6oTAqAAABhUlEQVR4nN1Z0RWDMAiMfR2tI3TMjuBu9ss+G5NwIQcS71NN5AQOgindCMvVBvTgtby3/Nq6fX4cHr7m6FEikl+fgkyNSH5/CjIonszNpJhmr8tB8wwS08x1JVDIWBncS2iKnJFCbr8/BZmU6oSO16kCYA3JQ0UyLHWxQMu2U5hpkhWN6dF1km3Qw6gBlnUGsY2aMyXDEUNZIWyqZsyCiMBMzZCCePQIQ3RC1BmWB//IaFVpBGhLg9h28oxWRj0g2VbMmQiG19CyzSxnrghZ095s3T4LszWS9goRTkirhDwjtgyscJD2bt1H2yyXI0CrjuwGMz5aiKLJwq3IhDlpMvLVRc0kJWKpmUuYMVokZI9p6gyCMDkjAcmpKdQMPe8MhZlH39UzZFGTYcX5yHvy96nCjD3wZmGKnEHhqmbWY183z2gnMD0nVhcyozmGdhAuajY6w0ah9kzEkRQkALXEjTaSEskgR15PdP1ssoDXDM1Nmj1yzLVoWoflrdoZ6EtF/vt8W3wBv3UxXJFWFF8AAAAASUVORK5CYII=\" id=\"imagefc5e0a36f6\" transform=\"matrix(5.156863 0 0 -5.156863 7.2 269.28)\" style=\"image-rendering:crisp-edges;image-rendering:pixelated\" width=\"51\" height=\"51\"/>\n",
       "   </g>\n",
       "  </g>\n",
       " </g>\n",
       " <defs>\n",
       "  <clipPath id=\"p30b06b512b\">\n",
       "   <rect x=\"7.2\" y=\"7.2\" width=\"262.08\" height=\"262.08\"/>\n",
       "  </clipPath>\n",
       " </defs>\n",
       "</svg>\n"
      ],
      "text/plain": [
       "<Figure size 288x288 with 1 Axes>"
      ]
     },
     "metadata": {
      "needs_background": "light"
     },
     "output_type": "display_data"
    }
   ],
   "source": [
    "im1 = np.zeros([100, 100,100])\n",
    "im2 = np.zeros([51, 51,51])\n",
    "im1 = ps.generators.RSA(im1, r=25, volume_fraction=0.5)\n",
    "im2 = ps.generators.RSA(im2, r=5, volume_fraction=0.5)\n",
    "im3 = im1.copy()\n",
    "\n",
    "fig, ax = plt.subplots(figsize=[4, 4]);\n",
    "ps.visualization.imshow(im1);\n",
    "plt.axis(False)\n",
    "fig, ax = plt.subplots(figsize=[4, 4]);\n",
    "ps.visualization.imshow(im2);\n",
    "plt.axis(False);\n",
    "\n",
    "#default values:\n",
    "c = [26,26,26]"
   ]
  },
  {
   "cell_type": "markdown",
   "id": "401433e6",
   "metadata": {},
   "source": [
    "## Apply tool"
   ]
  },
  {
   "cell_type": "code",
   "execution_count": 3,
   "id": "74741239",
   "metadata": {
    "execution": {
     "iopub.execute_input": "2022-03-29T23:52:40.630356Z",
     "iopub.status.busy": "2022-03-29T23:52:40.630042Z",
     "iopub.status.idle": "2022-03-29T23:52:40.700425Z",
     "shell.execute_reply": "2022-03-29T23:52:40.699910Z"
    }
   },
   "outputs": [
    {
     "data": {
      "image/svg+xml": [
       "<?xml version=\"1.0\" encoding=\"utf-8\" standalone=\"no\"?>\n",
       "<!DOCTYPE svg PUBLIC \"-//W3C//DTD SVG 1.1//EN\"\n",
       "  \"http://www.w3.org/Graphics/SVG/1.1/DTD/svg11.dtd\">\n",
       "<svg xmlns:xlink=\"http://www.w3.org/1999/xlink\" width=\"276.48pt\" height=\"276.48pt\" viewBox=\"0 0 276.48 276.48\" xmlns=\"http://www.w3.org/2000/svg\" version=\"1.1\">\n",
       " <metadata>\n",
       "  <rdf:RDF xmlns:dc=\"http://purl.org/dc/elements/1.1/\" xmlns:cc=\"http://creativecommons.org/ns#\" xmlns:rdf=\"http://www.w3.org/1999/02/22-rdf-syntax-ns#\">\n",
       "   <cc:Work>\n",
       "    <dc:type rdf:resource=\"http://purl.org/dc/dcmitype/StillImage\"/>\n",
       "    <dc:date>2022-03-29T23:52:40.689734</dc:date>\n",
       "    <dc:format>image/svg+xml</dc:format>\n",
       "    <dc:creator>\n",
       "     <cc:Agent>\n",
       "      <dc:title>Matplotlib v3.5.1, https://matplotlib.org/</dc:title>\n",
       "     </cc:Agent>\n",
       "    </dc:creator>\n",
       "   </cc:Work>\n",
       "  </rdf:RDF>\n",
       " </metadata>\n",
       " <defs>\n",
       "  <style type=\"text/css\">*{stroke-linejoin: round; stroke-linecap: butt}</style>\n",
       " </defs>\n",
       " <g id=\"figure_1\">\n",
       "  <g id=\"patch_1\">\n",
       "   <path d=\"M 0 276.48 \n",
       "L 276.48 276.48 \n",
       "L 276.48 0 \n",
       "L 0 0 \n",
       "L 0 276.48 \n",
       "z\n",
       "\" style=\"fill: none\"/>\n",
       "  </g>\n",
       "  <g id=\"axes_1\">\n",
       "   <g clip-path=\"url(#p88b4d3c284)\">\n",
       "    <image xlink:href=\"data:image/png;base64,\n",
       "iVBORw0KGgoAAAANSUhEUgAAAGQAAABkCAYAAABw4pVUAAACn0lEQVR4nO2dQY7DIAxF3dEcbY4wx+wRerfOokKKMiEhgPG3/d+yqhrDw2AikooQQuo8rAO4w8/j973/7PV+umrDFV/WAbRyJOPsc6+4EZIFCgGDQsCgEDDcCKlVU9GqrNPGZCgz0ahmSJYyEw03U1YWKAQMCgGDQsCoCslSZhJCPKE6/dzZs3Aq/KDSCSObx+xipldZozv57HcCpo1GjY7MmC1TGqw5qouULDc6uTEEY1iI9pyfbU0ZErKqszJJ+bYOAJGeATBrPev+EYtRq7mIz2zPSJzpM0RjYJXf7BGTVsiKDO8R0/xFhIV11pSFPN02VVkIMmZh1ZbW66baGFoPrJbrpxFiLaNwFUcKISgyCmfxhBeCJqNQi6tJiNe7qqgyCkfxNe9D9lLQG+uV7ilrddbcvZ6XAbOPM/wa4o1uIStHYNTsKGzjhc8QrwVFL/BCsgEtpCc7vE1XhRI35O33bNPUln9CWo/bvN7PR+27PLnYz1CGXD2ywLO991Gdslo6uUjbysssZ/ka0pI1++9kErRMyMi6MnJowBtLGrjyiI3Xslfk0zb1fcjsDvLc4S2oCtHqvMhS1ITwEHYfKkJ4CLsfuEfa0K+nDfTNxR68lsYl7qlC0E8FeiBchngnpBBv09Y23pBCPDNNiPU87vWG5D5OZggYoYWgZ8lRfKGFiOBKqcUVXogInpSzeKYJsW701fWt4ytcxZEiQwrWUlqun0qIiJ2UqU/hRgP5UYrpgSE/A37Eind93QHyKOlKeg71tf5mD3AvwbyLxvTj8m1AV6yQYl01aaC2qGt3VkQZIspVllanRZUhsqDsnd15kWWILNqHzOrE6DJEDP4L17KC8YB5Q7O8IJkQQgghhBBCCCGEEEIIIYQQQgghY/wBwlI9eMoOYwwAAAAASUVORK5CYII=\" id=\"image51bb7b2d69\" transform=\"matrix(2.63 0 0 -2.63 7.2 269.28)\" style=\"image-rendering:crisp-edges;image-rendering:pixelated\" width=\"100\" height=\"100\"/>\n",
       "   </g>\n",
       "  </g>\n",
       " </g>\n",
       " <defs>\n",
       "  <clipPath id=\"p88b4d3c284\">\n",
       "   <rect x=\"7.2\" y=\"7.2\" width=\"262.08\" height=\"262.08\"/>\n",
       "  </clipPath>\n",
       " </defs>\n",
       "</svg>\n"
      ],
      "text/plain": [
       "<Figure size 288x288 with 1 Axes>"
      ]
     },
     "metadata": {
      "needs_background": "light"
     },
     "output_type": "display_data"
    }
   ],
   "source": [
    "im = ps.tools.overlay(im1=im1,im2=im2, c=c)\n",
    "fig, ax = plt.subplots(figsize=[4, 4]);\n",
    "ps.visualization.imshow(im);\n",
    "plt.axis(False);"
   ]
  },
  {
   "cell_type": "code",
   "execution_count": 4,
   "id": "ed74c589",
   "metadata": {
    "execution": {
     "iopub.execute_input": "2022-03-29T23:52:40.703225Z",
     "iopub.status.busy": "2022-03-29T23:52:40.703061Z",
     "iopub.status.idle": "2022-03-29T23:52:40.769007Z",
     "shell.execute_reply": "2022-03-29T23:52:40.768518Z"
    }
   },
   "outputs": [
    {
     "data": {
      "image/svg+xml": [
       "<?xml version=\"1.0\" encoding=\"utf-8\" standalone=\"no\"?>\n",
       "<!DOCTYPE svg PUBLIC \"-//W3C//DTD SVG 1.1//EN\"\n",
       "  \"http://www.w3.org/Graphics/SVG/1.1/DTD/svg11.dtd\">\n",
       "<svg xmlns:xlink=\"http://www.w3.org/1999/xlink\" width=\"276.48pt\" height=\"276.48pt\" viewBox=\"0 0 276.48 276.48\" xmlns=\"http://www.w3.org/2000/svg\" version=\"1.1\">\n",
       " <metadata>\n",
       "  <rdf:RDF xmlns:dc=\"http://purl.org/dc/elements/1.1/\" xmlns:cc=\"http://creativecommons.org/ns#\" xmlns:rdf=\"http://www.w3.org/1999/02/22-rdf-syntax-ns#\">\n",
       "   <cc:Work>\n",
       "    <dc:type rdf:resource=\"http://purl.org/dc/dcmitype/StillImage\"/>\n",
       "    <dc:date>2022-03-29T23:52:40.757019</dc:date>\n",
       "    <dc:format>image/svg+xml</dc:format>\n",
       "    <dc:creator>\n",
       "     <cc:Agent>\n",
       "      <dc:title>Matplotlib v3.5.1, https://matplotlib.org/</dc:title>\n",
       "     </cc:Agent>\n",
       "    </dc:creator>\n",
       "   </cc:Work>\n",
       "  </rdf:RDF>\n",
       " </metadata>\n",
       " <defs>\n",
       "  <style type=\"text/css\">*{stroke-linejoin: round; stroke-linecap: butt}</style>\n",
       " </defs>\n",
       " <g id=\"figure_1\">\n",
       "  <g id=\"patch_1\">\n",
       "   <path d=\"M 0 276.48 \n",
       "L 276.48 276.48 \n",
       "L 276.48 0 \n",
       "L 0 0 \n",
       "L 0 276.48 \n",
       "z\n",
       "\" style=\"fill: none\"/>\n",
       "  </g>\n",
       "  <g id=\"axes_1\">\n",
       "   <g clip-path=\"url(#p9aa208d47d)\">\n",
       "    <image xlink:href=\"data:image/png;base64,\n",
       "iVBORw0KGgoAAAANSUhEUgAAAGQAAABkCAYAAABw4pVUAAACX0lEQVR4nO2cQW7EIAwAvVWf1if0mX1C/7Y9VEhRlHYJ2NjGM+ddcBhMCIGIAAAAAAAAAAAAAAAAAEBdHpaFfzw+n72//X5+mcaSBZNGuCPiTHUxb9oFzsjQ+H921HqjRUNWzBaVDLHq1RWzRX3IgjmmhVj34mpZMiVkVWNVkvLuHUBERjqA1gRkuBCPXms569K8npk4y2eIRcdqZY6IKStkRYaPiCk57V093N6pr5wQrxlbb72lhHhPn3vqLyPEW0bjVRwlhESR0fgvnu2FRJPR+CuurYVEldG4im9rIRkZFrL65dHd+qJnR+McJxkSjCkhq7Jk1+xoHOOdzhBrKdXeqzNkBUNFiFUvHik323DVaHGrLb+3xtNokGrD1BH1IWu2MSvLEDF6QTWSLdVFNNwb4UrajJys9xCR3+te/gq3p8HOv6mUPcuEzPTcmU0D2VjyHKI1jGQejnoxF6LdiLtLMRXCrvj7mAlhE/YYJkLYhD1OuCNt0euzZrvV3qxT4xa3qpDouwIzsF2GZGdLIdmGrWO8WwrJjJoQ73E864LkOU4yJBhbC8mSJUe2FiKST8r2QkTiSrmKSzVQzxt7T6N7TzxEXsdZIkMa3pnSU38pISJ+UnrrLSdEJPZRCvXAsn1ywzJevuQwgOYW2HOZI4T7COZdLIaflF8DesUKKd6zJgvMbuoc5BnDdJYV6dxIFsynvdqNt7MMkUXPIVqNuLsMEYfjCJ4zmAy4X6j2+RAAVeiJC+kZDUouLkYGIcFASDAQAgAAAAAFYOnkAs8FT55DgoGQYCAkGAgBAIBRfgCUBg4r9aL1XQAAAABJRU5ErkJggg==\" id=\"image7769a4c1d4\" transform=\"matrix(2.63 0 0 -2.63 7.2 269.28)\" style=\"image-rendering:crisp-edges;image-rendering:pixelated\" width=\"100\" height=\"100\"/>\n",
       "   </g>\n",
       "  </g>\n",
       " </g>\n",
       " <defs>\n",
       "  <clipPath id=\"p9aa208d47d\">\n",
       "   <rect x=\"7.2\" y=\"7.2\" width=\"262.08\" height=\"262.08\"/>\n",
       "  </clipPath>\n",
       " </defs>\n",
       "</svg>\n"
      ],
      "text/plain": [
       "<Figure size 288x288 with 1 Axes>"
      ]
     },
     "metadata": {
      "needs_background": "light"
     },
     "output_type": "display_data"
    }
   ],
   "source": [
    "im = ps.tools.overlay(im1=im3, im2=im2, c=[74, 74, 74])\n",
    "fig, ax = plt.subplots(figsize=[4, 4]);\n",
    "ps.visualization.imshow(im);\n",
    "plt.axis(False);"
   ]
  }
 ],
 "metadata": {
  "kernelspec": {
   "display_name": "Python 3",
   "language": "python",
   "name": "python3"
  },
  "language_info": {
   "codemirror_mode": {
    "name": "ipython",
    "version": 3
   },
   "file_extension": ".py",
   "mimetype": "text/x-python",
   "name": "python",
   "nbconvert_exporter": "python",
   "pygments_lexer": "ipython3",
   "version": "3.8.13"
  }
 },
 "nbformat": 4,
 "nbformat_minor": 5
}
