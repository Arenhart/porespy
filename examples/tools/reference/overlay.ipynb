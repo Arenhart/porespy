{
 "cells": [
  {
   "cell_type": "markdown",
   "id": "92b3a3e5",
   "metadata": {},
   "source": [
    "# overlay"
   ]
  },
  {
   "cell_type": "markdown",
   "id": "3ebcce44",
   "metadata": {},
   "source": [
    "## Import packages"
   ]
  },
  {
   "cell_type": "code",
   "execution_count": 1,
   "id": "ae4e52b0",
   "metadata": {
    "execution": {
     "iopub.execute_input": "2022-03-30T13:43:30.712375Z",
     "iopub.status.busy": "2022-03-30T13:43:30.712161Z",
     "iopub.status.idle": "2022-03-30T13:43:32.985954Z",
     "shell.execute_reply": "2022-03-30T13:43:32.985316Z"
    }
   },
   "outputs": [],
   "source": [
    "import numpy as np\n",
    "import porespy as ps\n",
    "import scipy.ndimage as spim\n",
    "import matplotlib.pyplot as plt\n",
    "import skimage\n",
    "ps.visualization.set_mpl_style()"
   ]
  },
  {
   "cell_type": "markdown",
   "id": "ed3091a2",
   "metadata": {},
   "source": [
    "## Create image and variables"
   ]
  },
  {
   "cell_type": "code",
   "execution_count": 2,
   "id": "e6694186",
   "metadata": {
    "execution": {
     "iopub.execute_input": "2022-03-30T13:43:32.991181Z",
     "iopub.status.busy": "2022-03-30T13:43:32.990070Z",
     "iopub.status.idle": "2022-03-30T13:43:34.178969Z",
     "shell.execute_reply": "2022-03-30T13:43:34.178353Z"
    }
   },
   "outputs": [
    {
     "name": "stderr",
     "output_type": "stream",
     "text": [
      "/tmp/ipykernel_9940/2366592848.py:3: DeprecationWarning: Call to deprecated function (or staticmethod) RSA. (This function has been renamed to rsa (lowercase to meet pep8)\n",
      "  im1 = ps.generators.RSA(im1, r=25, volume_fraction=0.5)\n"
     ]
    },
    {
     "name": "stderr",
     "output_type": "stream",
     "text": [
      "/tmp/ipykernel_9940/2366592848.py:4: DeprecationWarning: Call to deprecated function (or staticmethod) RSA. (This function has been renamed to rsa (lowercase to meet pep8)\n",
      "  im2 = ps.generators.RSA(im2, r=5, volume_fraction=0.5)\n"
     ]
    },
    {
     "data": {
      "image/svg+xml": [
       "<?xml version=\"1.0\" encoding=\"utf-8\" standalone=\"no\"?>\n",
       "<!DOCTYPE svg PUBLIC \"-//W3C//DTD SVG 1.1//EN\"\n",
       "  \"http://www.w3.org/Graphics/SVG/1.1/DTD/svg11.dtd\">\n",
       "<svg xmlns:xlink=\"http://www.w3.org/1999/xlink\" width=\"276.48pt\" height=\"276.48pt\" viewBox=\"0 0 276.48 276.48\" xmlns=\"http://www.w3.org/2000/svg\" version=\"1.1\">\n",
       " <metadata>\n",
       "  <rdf:RDF xmlns:dc=\"http://purl.org/dc/elements/1.1/\" xmlns:cc=\"http://creativecommons.org/ns#\" xmlns:rdf=\"http://www.w3.org/1999/02/22-rdf-syntax-ns#\">\n",
       "   <cc:Work>\n",
       "    <dc:type rdf:resource=\"http://purl.org/dc/dcmitype/StillImage\"/>\n",
       "    <dc:date>2022-03-30T13:43:34.103868</dc:date>\n",
       "    <dc:format>image/svg+xml</dc:format>\n",
       "    <dc:creator>\n",
       "     <cc:Agent>\n",
       "      <dc:title>Matplotlib v3.5.1, https://matplotlib.org/</dc:title>\n",
       "     </cc:Agent>\n",
       "    </dc:creator>\n",
       "   </cc:Work>\n",
       "  </rdf:RDF>\n",
       " </metadata>\n",
       " <defs>\n",
       "  <style type=\"text/css\">*{stroke-linejoin: round; stroke-linecap: butt}</style>\n",
       " </defs>\n",
       " <g id=\"figure_1\">\n",
       "  <g id=\"patch_1\">\n",
       "   <path d=\"M 0 276.48 \n",
       "L 276.48 276.48 \n",
       "L 276.48 0 \n",
       "L 0 0 \n",
       "L 0 276.48 \n",
       "z\n",
       "\" style=\"fill: none\"/>\n",
       "  </g>\n",
       "  <g id=\"axes_1\">\n",
       "   <g clip-path=\"url(#p113d7ab21d)\">\n",
       "    <image xlink:href=\"data:image/png;base64,\n",
       "iVBORw0KGgoAAAANSUhEUgAAAGQAAABkCAYAAABw4pVUAAACgElEQVR4nO2cQXLDMAhFlU6P1iP0mD1C7pZuwozHY8eSDOID/61TCfOE5GInrRFCznl4B4DIz+P31fvZ5+tPNYcU8mZEwhkackoL0ZBwxqycL+1AomAp48745SrEWsQRI9VSqkI8ZIzOW0aIl4zR+UsI8ZYh9MSRXgiKDOEqntRC0GQIn+JKKwRVhnAWX1ohUUkpBL06hKM40wmJIkPYx5tOSHQoBIxUQqJtV8I27lRCMkAhYKQREnW7EiT+NEKyQCFgUAgYFAIGhYBBIWBQCBgUAgaFgEEhYKQRov0W+mok/jRCskAhYKQSEnXb2sb97RnITMs8atJ7cRFy59mF/G1WMUsvyuIh0pGYSA+r9vEvEbIiQfsLiyDlaDGZH+qrEhNBQA+mQlYnaTsf+hlzFp+ZEISvj6FK+RSXiRDv7QNZylU86kK8ZQiIUnriUBWCIkNAktI7f6rWyRVeUkbmVQsQrTq2eP3zOLMASlXIFutqmR1fJSjk6hCuEoTya0Cu3V4ktskM/XtZEapD8L7T6qHsGYIKhYBBIWBQCBgUAgaFgEEhYFAIGBQCBoWAQSFgUAgYbL/v6LkWyyYl2+9vRhaV5fvFKlsWelvb6uGUxc5Q/gy5m1RtKWpCUKvkU1xaydSUUrZCtFe21niqQtCqBC2eHtQrBCUJK7Yqi3FNtixvKd7z38HsDInw2iYipof66uREl9HagrusVUnKIKO1Ra0TSdaqb+FGZmkvS1NMNhGCS3PxjpisIgTXbm/25M5QsnVitRA0xi0pBJmyQrSrRGu8skJa00uiptzSQlq7n0ztSisvpLX5pFrcHPC2c4f3WyeEEEIIIYQQQgghhBAyxT8sfxv3QZldHAAAAABJRU5ErkJggg==\" id=\"imagebf9ac0c50d\" transform=\"matrix(2.63 0 0 -2.63 7.2 269.28)\" style=\"image-rendering:crisp-edges;image-rendering:pixelated\" width=\"100\" height=\"100\"/>\n",
       "   </g>\n",
       "  </g>\n",
       " </g>\n",
       " <defs>\n",
       "  <clipPath id=\"p113d7ab21d\">\n",
       "   <rect x=\"7.2\" y=\"7.2\" width=\"262.08\" height=\"262.08\"/>\n",
       "  </clipPath>\n",
       " </defs>\n",
       "</svg>\n"
      ],
      "text/plain": [
       "<Figure size 288x288 with 1 Axes>"
      ]
     },
     "metadata": {
      "needs_background": "light"
     },
     "output_type": "display_data"
    },
    {
     "data": {
      "image/svg+xml": [
       "<?xml version=\"1.0\" encoding=\"utf-8\" standalone=\"no\"?>\n",
       "<!DOCTYPE svg PUBLIC \"-//W3C//DTD SVG 1.1//EN\"\n",
       "  \"http://www.w3.org/Graphics/SVG/1.1/DTD/svg11.dtd\">\n",
       "<svg xmlns:xlink=\"http://www.w3.org/1999/xlink\" width=\"276.48pt\" height=\"276.48pt\" viewBox=\"0 0 276.48 276.48\" xmlns=\"http://www.w3.org/2000/svg\" version=\"1.1\">\n",
       " <metadata>\n",
       "  <rdf:RDF xmlns:dc=\"http://purl.org/dc/elements/1.1/\" xmlns:cc=\"http://creativecommons.org/ns#\" xmlns:rdf=\"http://www.w3.org/1999/02/22-rdf-syntax-ns#\">\n",
       "   <cc:Work>\n",
       "    <dc:type rdf:resource=\"http://purl.org/dc/dcmitype/StillImage\"/>\n",
       "    <dc:date>2022-03-30T13:43:34.160501</dc:date>\n",
       "    <dc:format>image/svg+xml</dc:format>\n",
       "    <dc:creator>\n",
       "     <cc:Agent>\n",
       "      <dc:title>Matplotlib v3.5.1, https://matplotlib.org/</dc:title>\n",
       "     </cc:Agent>\n",
       "    </dc:creator>\n",
       "   </cc:Work>\n",
       "  </rdf:RDF>\n",
       " </metadata>\n",
       " <defs>\n",
       "  <style type=\"text/css\">*{stroke-linejoin: round; stroke-linecap: butt}</style>\n",
       " </defs>\n",
       " <g id=\"figure_1\">\n",
       "  <g id=\"patch_1\">\n",
       "   <path d=\"M 0 276.48 \n",
       "L 276.48 276.48 \n",
       "L 276.48 0 \n",
       "L 0 0 \n",
       "L 0 276.48 \n",
       "z\n",
       "\" style=\"fill: none\"/>\n",
       "  </g>\n",
       "  <g id=\"axes_1\">\n",
       "   <g clip-path=\"url(#p27797ec65f)\">\n",
       "    <image xlink:href=\"data:image/png;base64,\n",
       "iVBORw0KGgoAAAANSUhEUgAAADMAAAAzCAYAAAA6oTAqAAABY0lEQVR4nO1ZWxKDIAwsnR7NI3hMj+Dd6FeZqUCS5oErdT9VHkvIZoXH4wYmkqXxktZ8fLbnzdSnBc+zBo7Aq/cCbdUlaEamRYR6joIqMtyEl7Rmzwh57oCqkWT1vchQY2nG+A8BQAW1LS8VGU6YKjLcXkWW52ZkehP2JuI9Duwqt8Cp36VyhoOoziDlCTW/xH14bICMss0kNiZ+OjZMlTNTkYG1MxohgoyM9n+qkEGxMRYh+orMKBsThSpnPCZ+VuF1z5kzzw8gBUALODIWITqtzlB5tectafLOPSklZjXK0IYoDLWqlqMsLlrD64eWjCSacALQgtQVXIKMFDcZCyINbakzI/2Uto5wCNX9Xt+aPkVqFnmQ4Wk6Jb8nzXBLO6Iw8p7ng1vNUAF7OtMDedmEcpAhAScoifqQcroSkr9IPjeGRFDKNouIQFRx7CE8Z0Zu06nUbCoyMEolwVR3mpw/ewNXG/ILwSmCSgAAAABJRU5ErkJggg==\" id=\"image1df8de7f62\" transform=\"matrix(5.156863 0 0 -5.156863 7.2 269.28)\" style=\"image-rendering:crisp-edges;image-rendering:pixelated\" width=\"51\" height=\"51\"/>\n",
       "   </g>\n",
       "  </g>\n",
       " </g>\n",
       " <defs>\n",
       "  <clipPath id=\"p27797ec65f\">\n",
       "   <rect x=\"7.2\" y=\"7.2\" width=\"262.08\" height=\"262.08\"/>\n",
       "  </clipPath>\n",
       " </defs>\n",
       "</svg>\n"
      ],
      "text/plain": [
       "<Figure size 288x288 with 1 Axes>"
      ]
     },
     "metadata": {
      "needs_background": "light"
     },
     "output_type": "display_data"
    }
   ],
   "source": [
    "im1 = np.zeros([100, 100,100])\n",
    "im2 = np.zeros([51, 51,51])\n",
    "im1 = ps.generators.RSA(im1, r=25, volume_fraction=0.5)\n",
    "im2 = ps.generators.RSA(im2, r=5, volume_fraction=0.5)\n",
    "im3 = im1.copy()\n",
    "\n",
    "fig, ax = plt.subplots(figsize=[4, 4]);\n",
    "ps.visualization.imshow(im1);\n",
    "plt.axis(False)\n",
    "fig, ax = plt.subplots(figsize=[4, 4]);\n",
    "ps.visualization.imshow(im2);\n",
    "plt.axis(False);\n",
    "\n",
    "#default values:\n",
    "c = [26,26,26]"
   ]
  },
  {
   "cell_type": "markdown",
   "id": "a6dbeff9",
   "metadata": {},
   "source": [
    "## Apply tool"
   ]
  },
  {
   "cell_type": "code",
   "execution_count": 3,
   "id": "1f885e08",
   "metadata": {
    "execution": {
     "iopub.execute_input": "2022-03-30T13:43:34.182406Z",
     "iopub.status.busy": "2022-03-30T13:43:34.182082Z",
     "iopub.status.idle": "2022-03-30T13:43:34.265630Z",
     "shell.execute_reply": "2022-03-30T13:43:34.265038Z"
    }
   },
   "outputs": [
    {
     "data": {
      "image/svg+xml": [
       "<?xml version=\"1.0\" encoding=\"utf-8\" standalone=\"no\"?>\n",
       "<!DOCTYPE svg PUBLIC \"-//W3C//DTD SVG 1.1//EN\"\n",
       "  \"http://www.w3.org/Graphics/SVG/1.1/DTD/svg11.dtd\">\n",
       "<svg xmlns:xlink=\"http://www.w3.org/1999/xlink\" width=\"276.48pt\" height=\"276.48pt\" viewBox=\"0 0 276.48 276.48\" xmlns=\"http://www.w3.org/2000/svg\" version=\"1.1\">\n",
       " <metadata>\n",
       "  <rdf:RDF xmlns:dc=\"http://purl.org/dc/elements/1.1/\" xmlns:cc=\"http://creativecommons.org/ns#\" xmlns:rdf=\"http://www.w3.org/1999/02/22-rdf-syntax-ns#\">\n",
       "   <cc:Work>\n",
       "    <dc:type rdf:resource=\"http://purl.org/dc/dcmitype/StillImage\"/>\n",
       "    <dc:date>2022-03-30T13:43:34.252949</dc:date>\n",
       "    <dc:format>image/svg+xml</dc:format>\n",
       "    <dc:creator>\n",
       "     <cc:Agent>\n",
       "      <dc:title>Matplotlib v3.5.1, https://matplotlib.org/</dc:title>\n",
       "     </cc:Agent>\n",
       "    </dc:creator>\n",
       "   </cc:Work>\n",
       "  </rdf:RDF>\n",
       " </metadata>\n",
       " <defs>\n",
       "  <style type=\"text/css\">*{stroke-linejoin: round; stroke-linecap: butt}</style>\n",
       " </defs>\n",
       " <g id=\"figure_1\">\n",
       "  <g id=\"patch_1\">\n",
       "   <path d=\"M 0 276.48 \n",
       "L 276.48 276.48 \n",
       "L 276.48 0 \n",
       "L 0 0 \n",
       "L 0 276.48 \n",
       "z\n",
       "\" style=\"fill: none\"/>\n",
       "  </g>\n",
       "  <g id=\"axes_1\">\n",
       "   <g clip-path=\"url(#p7e642873c8)\">\n",
       "    <image xlink:href=\"data:image/png;base64,\n",
       "iVBORw0KGgoAAAANSUhEUgAAAGQAAABkCAYAAABw4pVUAAAC7UlEQVR4nO2dW3LkIAxF5aksrZeQZfYSem+enyHjuPwC9LiCez67EsA6loUx7RYhhJyz3P3Ba/le95991vft/2Xm6JjP0I7FZWNXAxtNSo2EMzRi8tXbQGY0JJy11yoHQkjEZVFbxlH7Lcfwx2IwNZwFxipgr+V7tZbR01e4EE+8RPT0eynkLOUyFvQoGbX9hwe2ZSZXW3OiZWy5O5nTXbJqaw6SDJH78fyyFXUTWNNvTUahydhydnw/H2a5CXw6TmQZhaO4prtkjc6QQjJkh8jxONMJuZuKZ5FR2I8XYumkFqSaps2PkM/6XixmWTMu3/cANaW16CsLJSbpasjoUAgYwwjJfLkS+T9+81kWC3gdw2TIKFAIGClvDLPXiyuYIWBQCBgUAkZYDeEa1zEhAbB4OjlCof+s76U7Q3im69K1zab1TLd6fp85S7jaCwqFgBEixGqLatbatR132LT36JHxkxqQNehP6T64llmW5beVMhb27bG4nm0Wwaqd/aGxH7+LEI8AZdrXWwjZSur5bSWPfqwxFeIdJI0vXXpxu/u9oLUUEnnGou+Cv4qnSYZEBwE5U9y/QRUto4Ao5ck4VIWgyCggSXna/1RrWVFSavpVGyBadmyJunlM+SaHKKyzpbV9lUEhZ0chcn2thpQb5SxovXdxfV/WEzJkRyF6pvWEaWsIKhQCBoWAQSFgUAgYFAIGhYBBIWBQCBgUAgaFgEEhYHD5fUf0/mIuv/+j5qQqf2shRuWShb6sbfVwyuLKMH0N6Q2qthQ1IahZ4vEKck0p02aI5Y+59KAqBC1L0MbzBPUMQQlCxK8laLRrcsmKlhLdfw9mNSTDtk1ETIu6d3CyyxBxmGV5BWkEGSJOSyeWL8ofRUTBdS1LU8xoIgohi4s9YkYVUQhd7R09uC1MuXRidSJotDulEGSmFaKdJVrtTStERC+ImnKnFiKC99K06YWItAfVYnLAaeeO6F0nhBBCCCGEEEIIIYQQ0sRfdlmg16yh7ZAAAAAASUVORK5CYII=\" id=\"image9df90ee622\" transform=\"matrix(2.63 0 0 -2.63 7.2 269.28)\" style=\"image-rendering:crisp-edges;image-rendering:pixelated\" width=\"100\" height=\"100\"/>\n",
       "   </g>\n",
       "  </g>\n",
       " </g>\n",
       " <defs>\n",
       "  <clipPath id=\"p7e642873c8\">\n",
       "   <rect x=\"7.2\" y=\"7.2\" width=\"262.08\" height=\"262.08\"/>\n",
       "  </clipPath>\n",
       " </defs>\n",
       "</svg>\n"
      ],
      "text/plain": [
       "<Figure size 288x288 with 1 Axes>"
      ]
     },
     "metadata": {
      "needs_background": "light"
     },
     "output_type": "display_data"
    }
   ],
   "source": [
    "im = ps.tools.overlay(im1=im1,im2=im2, c=c)\n",
    "fig, ax = plt.subplots(figsize=[4, 4]);\n",
    "ps.visualization.imshow(im);\n",
    "plt.axis(False);"
   ]
  },
  {
   "cell_type": "code",
   "execution_count": 4,
   "id": "78420b26",
   "metadata": {
    "execution": {
     "iopub.execute_input": "2022-03-30T13:43:34.268871Z",
     "iopub.status.busy": "2022-03-30T13:43:34.268545Z",
     "iopub.status.idle": "2022-03-30T13:43:34.354023Z",
     "shell.execute_reply": "2022-03-30T13:43:34.353534Z"
    }
   },
   "outputs": [
    {
     "data": {
      "image/svg+xml": [
       "<?xml version=\"1.0\" encoding=\"utf-8\" standalone=\"no\"?>\n",
       "<!DOCTYPE svg PUBLIC \"-//W3C//DTD SVG 1.1//EN\"\n",
       "  \"http://www.w3.org/Graphics/SVG/1.1/DTD/svg11.dtd\">\n",
       "<svg xmlns:xlink=\"http://www.w3.org/1999/xlink\" width=\"276.48pt\" height=\"276.48pt\" viewBox=\"0 0 276.48 276.48\" xmlns=\"http://www.w3.org/2000/svg\" version=\"1.1\">\n",
       " <metadata>\n",
       "  <rdf:RDF xmlns:dc=\"http://purl.org/dc/elements/1.1/\" xmlns:cc=\"http://creativecommons.org/ns#\" xmlns:rdf=\"http://www.w3.org/1999/02/22-rdf-syntax-ns#\">\n",
       "   <cc:Work>\n",
       "    <dc:type rdf:resource=\"http://purl.org/dc/dcmitype/StillImage\"/>\n",
       "    <dc:date>2022-03-30T13:43:34.337243</dc:date>\n",
       "    <dc:format>image/svg+xml</dc:format>\n",
       "    <dc:creator>\n",
       "     <cc:Agent>\n",
       "      <dc:title>Matplotlib v3.5.1, https://matplotlib.org/</dc:title>\n",
       "     </cc:Agent>\n",
       "    </dc:creator>\n",
       "   </cc:Work>\n",
       "  </rdf:RDF>\n",
       " </metadata>\n",
       " <defs>\n",
       "  <style type=\"text/css\">*{stroke-linejoin: round; stroke-linecap: butt}</style>\n",
       " </defs>\n",
       " <g id=\"figure_1\">\n",
       "  <g id=\"patch_1\">\n",
       "   <path d=\"M 0 276.48 \n",
       "L 276.48 276.48 \n",
       "L 276.48 0 \n",
       "L 0 0 \n",
       "L 0 276.48 \n",
       "z\n",
       "\" style=\"fill: none\"/>\n",
       "  </g>\n",
       "  <g id=\"axes_1\">\n",
       "   <g clip-path=\"url(#p49d116b06f)\">\n",
       "    <image xlink:href=\"data:image/png;base64,\n",
       "iVBORw0KGgoAAAANSUhEUgAAAGQAAABkCAYAAABw4pVUAAACv0lEQVR4nO2dQXKDMAxFnU6P1iP0mDlC7kY31QzDgLGNZH9J/y07DSh6yAIRklIIIde8VgeAyM/rd2v938/2Vs0hhfzTI+EKDTmphWhIuGJUzpd2IF6wlPFk++kqxFrEGT3VkqpCVsjo3W8aIatk9O4/hZDVMoSWOMILQZEh3MUTWgiaDKEWV1ghqDKEq/jCCvFKSCHo1SGcxRlOiBcZwjHecEK8QyFghBLibbkS9nGHEhIBCgEjjBCvy5Ug8YcREgUKAYNCwKAQMCgEDAoBg0LAoBAwKAQMCgEjjBDtT6HPRuIPIyQKFAJGKCFel6193N8rAxkZmXtNeitLhDy5dyGvjSpm6puyuIl0JsbTzapj/FOEzEjQ8Y15kHJ2MJk39VmJ8SCgBVMhs5O03x96j7mKz0wIwuNjqFJqcZkIWb18IEu5i0ddyGoZAqKUljhUhaDIEJCktO4/1OjkjlVSevarFiBadexZdfE4cgCkqpA91tUyun2VoJCrQ7hLEMq3AS2d9iKxT6bm92Wdbav2msdGPVSHMLup13Iz/UqdjEEhYFAIGBQCRqqmfmRGk+dZVierZ1xHuGSBQSFgUAgYFAJGaiFoDb2UZMNFRAFHOH4/0PJeLMWmqpAaPQeV5eeLVXoI+lJgdXPKYmVI0dRriXuaVG0pqkc2ci+x/qBDzypRm2+lqJAztA+e1u1d/Z/J92Wh9xIPqFeIBylWS6vGdk2WLDQpaPHUMLsO+WzvF/rPCyFi2tRnJ8eDjKsY5e9hnzGsgfhzecKU0YkEOespXM9MnWVpiokmQlgyXHwiJqoIYem0N3pyR0g5OrE6EPg4QgfIg889KSoE7bS7Rgoh1mgugemFPE2mdj9KL6SU8aRanBykaep39FwbWZ6up7kO6H0sgJBSSqIKmc1oRbKpg0EhYFAIGBRCCCGEEEIS8AeO6Esu0OiLTAAAAABJRU5ErkJggg==\" id=\"image3d7b9227cc\" transform=\"matrix(2.63 0 0 -2.63 7.2 269.28)\" style=\"image-rendering:crisp-edges;image-rendering:pixelated\" width=\"100\" height=\"100\"/>\n",
       "   </g>\n",
       "  </g>\n",
       " </g>\n",
       " <defs>\n",
       "  <clipPath id=\"p49d116b06f\">\n",
       "   <rect x=\"7.2\" y=\"7.2\" width=\"262.08\" height=\"262.08\"/>\n",
       "  </clipPath>\n",
       " </defs>\n",
       "</svg>\n"
      ],
      "text/plain": [
       "<Figure size 288x288 with 1 Axes>"
      ]
     },
     "metadata": {
      "needs_background": "light"
     },
     "output_type": "display_data"
    }
   ],
   "source": [
    "im = ps.tools.overlay(im1=im3, im2=im2, c=[74, 74, 74])\n",
    "fig, ax = plt.subplots(figsize=[4, 4]);\n",
    "ps.visualization.imshow(im);\n",
    "plt.axis(False);"
   ]
  }
 ],
 "metadata": {
  "kernelspec": {
   "display_name": "Python 3",
   "language": "python",
   "name": "python3"
  },
  "language_info": {
   "codemirror_mode": {
    "name": "ipython",
    "version": 3
   },
   "file_extension": ".py",
   "mimetype": "text/x-python",
   "name": "python",
   "nbconvert_exporter": "python",
   "pygments_lexer": "ipython3",
   "version": "3.8.13"
  }
 },
 "nbformat": 4,
 "nbformat_minor": 5
}
