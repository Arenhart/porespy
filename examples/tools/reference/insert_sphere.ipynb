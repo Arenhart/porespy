{
 "cells": [
  {
   "cell_type": "markdown",
   "id": "confident-salmon",
   "metadata": {},
   "source": [
    "# `insert_sphere`"
   ]
  },
  {
   "cell_type": "markdown",
   "id": "willing-advertiser",
   "metadata": {},
   "source": [
    "## Import packages"
   ]
  },
  {
   "cell_type": "code",
   "execution_count": 1,
   "id": "straight-pitch",
   "metadata": {
    "execution": {
     "iopub.execute_input": "2022-05-25T19:30:41.354803Z",
     "iopub.status.busy": "2022-05-25T19:30:41.354083Z",
     "iopub.status.idle": "2022-05-25T19:30:43.869012Z",
     "shell.execute_reply": "2022-05-25T19:30:43.867741Z"
    }
   },
   "outputs": [],
   "source": [
    "import numpy as np\n",
    "import porespy as ps\n",
    "import scipy.ndimage as spim\n",
    "import matplotlib.pyplot as plt\n",
    "import skimage\n",
    "ps.visualization.set_mpl_style()"
   ]
  },
  {
   "cell_type": "markdown",
   "id": "formed-drove",
   "metadata": {},
   "source": [
    "## Create image and variables"
   ]
  },
  {
   "cell_type": "code",
   "execution_count": 2,
   "id": "entire-david",
   "metadata": {
    "execution": {
     "iopub.execute_input": "2022-05-25T19:30:43.873790Z",
     "iopub.status.busy": "2022-05-25T19:30:43.873179Z",
     "iopub.status.idle": "2022-05-25T19:30:44.037993Z",
     "shell.execute_reply": "2022-05-25T19:30:44.037235Z"
    }
   },
   "outputs": [
    {
     "data": {
      "image/svg+xml": [
       "<?xml version=\"1.0\" encoding=\"utf-8\" standalone=\"no\"?>\n",
       "<!DOCTYPE svg PUBLIC \"-//W3C//DTD SVG 1.1//EN\"\n",
       "  \"http://www.w3.org/Graphics/SVG/1.1/DTD/svg11.dtd\">\n",
       "<svg xmlns:xlink=\"http://www.w3.org/1999/xlink\" width=\"496.8pt\" height=\"496.8pt\" viewBox=\"0 0 496.8 496.8\" xmlns=\"http://www.w3.org/2000/svg\" version=\"1.1\">\n",
       " <metadata>\n",
       "  <rdf:RDF xmlns:dc=\"http://purl.org/dc/elements/1.1/\" xmlns:cc=\"http://creativecommons.org/ns#\" xmlns:rdf=\"http://www.w3.org/1999/02/22-rdf-syntax-ns#\">\n",
       "   <cc:Work>\n",
       "    <dc:type rdf:resource=\"http://purl.org/dc/dcmitype/StillImage\"/>\n",
       "    <dc:date>2022-05-25T19:30:44.025233</dc:date>\n",
       "    <dc:format>image/svg+xml</dc:format>\n",
       "    <dc:creator>\n",
       "     <cc:Agent>\n",
       "      <dc:title>Matplotlib v3.5.2, https://matplotlib.org/</dc:title>\n",
       "     </cc:Agent>\n",
       "    </dc:creator>\n",
       "   </cc:Work>\n",
       "  </rdf:RDF>\n",
       " </metadata>\n",
       " <defs>\n",
       "  <style type=\"text/css\">*{stroke-linejoin: round; stroke-linecap: butt}</style>\n",
       " </defs>\n",
       " <g id=\"figure_1\">\n",
       "  <g id=\"patch_1\">\n",
       "   <path d=\"M 0 496.8 \n",
       "L 496.8 496.8 \n",
       "L 496.8 0 \n",
       "L 0 0 \n",
       "L 0 496.8 \n",
       "z\n",
       "\" style=\"fill: none\"/>\n",
       "  </g>\n",
       "  <g id=\"axes_1\">\n",
       "   <g clip-path=\"url(#p1d82a34bf0)\">\n",
       "    <image xlink:href=\"data:image/png;base64,\n",
       "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\" id=\"image32ce4aa8be\" transform=\"matrix(4.83 0 0 -4.83 7.2 489.6)\" style=\"image-rendering:crisp-edges;image-rendering:pixelated\" width=\"100\" height=\"100\"/>\n",
       "   </g>\n",
       "  </g>\n",
       " </g>\n",
       " <defs>\n",
       "  <clipPath id=\"p1d82a34bf0\">\n",
       "   <rect x=\"7.2\" y=\"7.2\" width=\"482.4\" height=\"482.4\"/>\n",
       "  </clipPath>\n",
       " </defs>\n",
       "</svg>\n"
      ],
      "text/plain": [
       "<Figure size 504x504 with 1 Axes>"
      ]
     },
     "metadata": {
      "needs_background": "light"
     },
     "output_type": "display_data"
    }
   ],
   "source": [
    "im = ps.generators.blobs([100, 100,100])\n",
    "\n",
    "fig, ax = plt.subplots(figsize=[7, 7]);\n",
    "ps.visualization.imshow(im);\n",
    "plt.axis(False);\n",
    "\n",
    "#default values:\n",
    "c=[50,50,50]\n",
    "r=50\n",
    "v=False\n",
    "overwrite=True"
   ]
  },
  {
   "cell_type": "markdown",
   "id": "entire-projection",
   "metadata": {},
   "source": [
    "## Apply tool"
   ]
  },
  {
   "cell_type": "code",
   "execution_count": 3,
   "id": "unlimited-illustration",
   "metadata": {
    "execution": {
     "iopub.execute_input": "2022-05-25T19:30:44.041741Z",
     "iopub.status.busy": "2022-05-25T19:30:44.041255Z",
     "iopub.status.idle": "2022-05-25T19:30:44.188410Z",
     "shell.execute_reply": "2022-05-25T19:30:44.187658Z"
    }
   },
   "outputs": [
    {
     "data": {
      "image/svg+xml": [
       "<?xml version=\"1.0\" encoding=\"utf-8\" standalone=\"no\"?>\n",
       "<!DOCTYPE svg PUBLIC \"-//W3C//DTD SVG 1.1//EN\"\n",
       "  \"http://www.w3.org/Graphics/SVG/1.1/DTD/svg11.dtd\">\n",
       "<svg xmlns:xlink=\"http://www.w3.org/1999/xlink\" width=\"496.8pt\" height=\"496.8pt\" viewBox=\"0 0 496.8 496.8\" xmlns=\"http://www.w3.org/2000/svg\" version=\"1.1\">\n",
       " <metadata>\n",
       "  <rdf:RDF xmlns:dc=\"http://purl.org/dc/elements/1.1/\" xmlns:cc=\"http://creativecommons.org/ns#\" xmlns:rdf=\"http://www.w3.org/1999/02/22-rdf-syntax-ns#\">\n",
       "   <cc:Work>\n",
       "    <dc:type rdf:resource=\"http://purl.org/dc/dcmitype/StillImage\"/>\n",
       "    <dc:date>2022-05-25T19:30:44.180443</dc:date>\n",
       "    <dc:format>image/svg+xml</dc:format>\n",
       "    <dc:creator>\n",
       "     <cc:Agent>\n",
       "      <dc:title>Matplotlib v3.5.2, https://matplotlib.org/</dc:title>\n",
       "     </cc:Agent>\n",
       "    </dc:creator>\n",
       "   </cc:Work>\n",
       "  </rdf:RDF>\n",
       " </metadata>\n",
       " <defs>\n",
       "  <style type=\"text/css\">*{stroke-linejoin: round; stroke-linecap: butt}</style>\n",
       " </defs>\n",
       " <g id=\"figure_1\">\n",
       "  <g id=\"patch_1\">\n",
       "   <path d=\"M 0 496.8 \n",
       "L 496.8 496.8 \n",
       "L 496.8 0 \n",
       "L 0 0 \n",
       "L 0 496.8 \n",
       "z\n",
       "\" style=\"fill: none\"/>\n",
       "  </g>\n",
       "  <g id=\"axes_1\">\n",
       "   <g clip-path=\"url(#p0f50075ce3)\">\n",
       "    <image xlink:href=\"data:image/png;base64,\n",
       "iVBORw0KGgoAAAANSUhEUgAAAGQAAABkCAYAAABw4pVUAAAC3ElEQVR4nO2dXXaDIBBGg6dLyxKyzCwhe7MPPbSGIAwDMlO996k1Kj8fMzCCEu7hsd4m8VqfIT2WSz93npSW+/WUXZLH0v2312/P+9Jm6Ch6xBhx/QzSPL7WZ4iiLDZZ8sFoS5Tcfy/N1/oMr/UZXFiIZatO044VHY/3uvTWsplbiDcXE1vq9v+Z6ZsL8h9ocT29hFmjLG+W4JUpfQhi1ImGcaggVxMi9TbS8qviEGlQ15qZs6B1/el1VUE0FYsY+uuGjrLSIeNV0JR5T8RhglxRiC2jyj9EkKuLEdF04ilVQWr+ETHe6a2PLgtBjDya52Cx/13SA7mT7+Gxzpw3OQOlxpp7/B7/3r2IGGMM9/BYa/W1retdl1V6bq/P3vXYTj7lSH9bWiwBMXTsiaIKDBFhHJJ+eJGeiDB9SOdURMNexBhDrT+53ZIJKirejqjDh2KIYsuHyyIAtCXbhxCZ29EcGMKxsAzIEHFgiHXMQR2HwDw+BME6bMFCnPEmCNZhDxbiDARxBoI4422Rg2VG4AcsxBkI4gwEAQAAAAAAAAAAAACA08Mqd18wQeUMBHEGgjhD/Fo0HM89PFYsxBkI4gwEccavIPQjtkz5kDLIiWurcVnOQBBnvAlCP2IPFuIMXvp0BgI4gV3aHCH6TCzM4eMzsVYZgTwIYkw6kEIQZyCIA8ThBt9enI94nwuCxjkUP8a/BUuZw0LLn4O0QdOpTyCKIRHl1zrYUecY9up1r06rgiCGHk2/W/xeFmLo0Q6CqPAD6BmRdgkSE8aS/miN6YY87U0jeGIUPWljbtrHsLaDJZbSv1Vt88aSJXOTJnomJG67xbV3CdJy3hkpeREt3ZF6af/c3nt75qjyqSozJ8JVIv2jtzOfstj6KsNjbfm2Ik9d/X4VYaTkrM3kdYT/IMzRfeDe/VX7GI7KrMcp4p48jShLU+ecUgsUtcy0HIu8l9LsclneWrcE73n+BgUgrLyme5lbAAAAAElFTkSuQmCC\" id=\"image0a21669a60\" transform=\"matrix(4.83 0 0 -4.83 7.2 489.6)\" style=\"image-rendering:crisp-edges;image-rendering:pixelated\" width=\"100\" height=\"100\"/>\n",
       "   </g>\n",
       "  </g>\n",
       " </g>\n",
       " <defs>\n",
       "  <clipPath id=\"p0f50075ce3\">\n",
       "   <rect x=\"7.2\" y=\"7.2\" width=\"482.4\" height=\"482.4\"/>\n",
       "  </clipPath>\n",
       " </defs>\n",
       "</svg>\n"
      ],
      "text/plain": [
       "<Figure size 504x504 with 1 Axes>"
      ]
     },
     "metadata": {
      "needs_background": "light"
     },
     "output_type": "display_data"
    }
   ],
   "source": [
    "im = ps.tools.insert_sphere(im=im, c=c, r=r, v=v, overwrite=overwrite)\n",
    "fig, ax = plt.subplots(figsize=[7, 7]);\n",
    "ps.visualization.imshow(im);\n",
    "plt.axis(False);"
   ]
  }
 ],
 "metadata": {
  "kernelspec": {
   "display_name": "Python 3 (ipykernel)",
   "language": "python",
   "name": "python3"
  },
  "language_info": {
   "codemirror_mode": {
    "name": "ipython",
    "version": 3
   },
   "file_extension": ".py",
   "mimetype": "text/x-python",
   "name": "python",
   "nbconvert_exporter": "python",
   "pygments_lexer": "ipython3",
   "version": "3.8.13"
  }
 },
 "nbformat": 4,
 "nbformat_minor": 5
}
