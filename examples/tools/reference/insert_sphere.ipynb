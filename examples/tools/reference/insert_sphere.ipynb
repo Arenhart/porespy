{
 "cells": [
  {
   "cell_type": "markdown",
   "id": "confident-salmon",
   "metadata": {},
   "source": [
    "# insert_sphere"
   ]
  },
  {
   "cell_type": "markdown",
   "id": "willing-advertiser",
   "metadata": {},
   "source": [
    "## Import packages"
   ]
  },
  {
   "cell_type": "code",
   "execution_count": 1,
   "id": "straight-pitch",
   "metadata": {
    "execution": {
     "iopub.execute_input": "2022-03-30T14:11:17.562594Z",
     "iopub.status.busy": "2022-03-30T14:11:17.562014Z",
     "iopub.status.idle": "2022-03-30T14:11:19.697894Z",
     "shell.execute_reply": "2022-03-30T14:11:19.697248Z"
    }
   },
   "outputs": [],
   "source": [
    "import numpy as np\n",
    "import porespy as ps\n",
    "import scipy.ndimage as spim\n",
    "import matplotlib.pyplot as plt\n",
    "import skimage\n",
    "ps.visualization.set_mpl_style()"
   ]
  },
  {
   "cell_type": "markdown",
   "id": "formed-drove",
   "metadata": {},
   "source": [
    "## Create image and variables"
   ]
  },
  {
   "cell_type": "code",
   "execution_count": 2,
   "id": "entire-david",
   "metadata": {
    "execution": {
     "iopub.execute_input": "2022-03-30T14:11:19.701700Z",
     "iopub.status.busy": "2022-03-30T14:11:19.701241Z",
     "iopub.status.idle": "2022-03-30T14:11:19.845465Z",
     "shell.execute_reply": "2022-03-30T14:11:19.844892Z"
    }
   },
   "outputs": [
    {
     "data": {
      "image/svg+xml": [
       "<?xml version=\"1.0\" encoding=\"utf-8\" standalone=\"no\"?>\n",
       "<!DOCTYPE svg PUBLIC \"-//W3C//DTD SVG 1.1//EN\"\n",
       "  \"http://www.w3.org/Graphics/SVG/1.1/DTD/svg11.dtd\">\n",
       "<svg xmlns:xlink=\"http://www.w3.org/1999/xlink\" width=\"492.48pt\" height=\"492.48pt\" viewBox=\"0 0 492.48 492.48\" xmlns=\"http://www.w3.org/2000/svg\" version=\"1.1\">\n",
       " <metadata>\n",
       "  <rdf:RDF xmlns:dc=\"http://purl.org/dc/elements/1.1/\" xmlns:cc=\"http://creativecommons.org/ns#\" xmlns:rdf=\"http://www.w3.org/1999/02/22-rdf-syntax-ns#\">\n",
       "   <cc:Work>\n",
       "    <dc:type rdf:resource=\"http://purl.org/dc/dcmitype/StillImage\"/>\n",
       "    <dc:date>2022-03-30T14:11:19.832320</dc:date>\n",
       "    <dc:format>image/svg+xml</dc:format>\n",
       "    <dc:creator>\n",
       "     <cc:Agent>\n",
       "      <dc:title>Matplotlib v3.5.1, https://matplotlib.org/</dc:title>\n",
       "     </cc:Agent>\n",
       "    </dc:creator>\n",
       "   </cc:Work>\n",
       "  </rdf:RDF>\n",
       " </metadata>\n",
       " <defs>\n",
       "  <style type=\"text/css\">*{stroke-linejoin: round; stroke-linecap: butt}</style>\n",
       " </defs>\n",
       " <g id=\"figure_1\">\n",
       "  <g id=\"patch_1\">\n",
       "   <path d=\"M 0 492.48 \n",
       "L 492.48 492.48 \n",
       "L 492.48 0 \n",
       "L 0 0 \n",
       "L 0 492.48 \n",
       "z\n",
       "\" style=\"fill: none\"/>\n",
       "  </g>\n",
       "  <g id=\"axes_1\">\n",
       "   <g clip-path=\"url(#p10df090d6a)\">\n",
       "    <image xlink:href=\"data:image/png;base64,\n",
       "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\" id=\"image4618102566\" transform=\"matrix(4.79 0 0 -4.79 7.2 485.28)\" style=\"image-rendering:crisp-edges;image-rendering:pixelated\" width=\"100\" height=\"100\"/>\n",
       "   </g>\n",
       "  </g>\n",
       " </g>\n",
       " <defs>\n",
       "  <clipPath id=\"p10df090d6a\">\n",
       "   <rect x=\"7.2\" y=\"7.2\" width=\"478.08\" height=\"478.08\"/>\n",
       "  </clipPath>\n",
       " </defs>\n",
       "</svg>\n"
      ],
      "text/plain": [
       "<Figure size 504x504 with 1 Axes>"
      ]
     },
     "metadata": {
      "needs_background": "light"
     },
     "output_type": "display_data"
    }
   ],
   "source": [
    "im = ps.generators.blobs([100, 100,100])\n",
    "\n",
    "fig, ax = plt.subplots(figsize=[7, 7]);\n",
    "ps.visualization.imshow(im);\n",
    "plt.axis(False);\n",
    "\n",
    "#default values:\n",
    "c=[50,50,50]\n",
    "r=50\n",
    "v=False\n",
    "overwrite=True"
   ]
  },
  {
   "cell_type": "markdown",
   "id": "entire-projection",
   "metadata": {},
   "source": [
    "## Apply tool"
   ]
  },
  {
   "cell_type": "code",
   "execution_count": 3,
   "id": "unlimited-illustration",
   "metadata": {
    "execution": {
     "iopub.execute_input": "2022-03-30T14:11:19.849072Z",
     "iopub.status.busy": "2022-03-30T14:11:19.848756Z",
     "iopub.status.idle": "2022-03-30T14:11:19.975774Z",
     "shell.execute_reply": "2022-03-30T14:11:19.975194Z"
    }
   },
   "outputs": [
    {
     "data": {
      "image/svg+xml": [
       "<?xml version=\"1.0\" encoding=\"utf-8\" standalone=\"no\"?>\n",
       "<!DOCTYPE svg PUBLIC \"-//W3C//DTD SVG 1.1//EN\"\n",
       "  \"http://www.w3.org/Graphics/SVG/1.1/DTD/svg11.dtd\">\n",
       "<svg xmlns:xlink=\"http://www.w3.org/1999/xlink\" width=\"492.48pt\" height=\"492.48pt\" viewBox=\"0 0 492.48 492.48\" xmlns=\"http://www.w3.org/2000/svg\" version=\"1.1\">\n",
       " <metadata>\n",
       "  <rdf:RDF xmlns:dc=\"http://purl.org/dc/elements/1.1/\" xmlns:cc=\"http://creativecommons.org/ns#\" xmlns:rdf=\"http://www.w3.org/1999/02/22-rdf-syntax-ns#\">\n",
       "   <cc:Work>\n",
       "    <dc:type rdf:resource=\"http://purl.org/dc/dcmitype/StillImage\"/>\n",
       "    <dc:date>2022-03-30T14:11:19.967846</dc:date>\n",
       "    <dc:format>image/svg+xml</dc:format>\n",
       "    <dc:creator>\n",
       "     <cc:Agent>\n",
       "      <dc:title>Matplotlib v3.5.1, https://matplotlib.org/</dc:title>\n",
       "     </cc:Agent>\n",
       "    </dc:creator>\n",
       "   </cc:Work>\n",
       "  </rdf:RDF>\n",
       " </metadata>\n",
       " <defs>\n",
       "  <style type=\"text/css\">*{stroke-linejoin: round; stroke-linecap: butt}</style>\n",
       " </defs>\n",
       " <g id=\"figure_1\">\n",
       "  <g id=\"patch_1\">\n",
       "   <path d=\"M 0 492.48 \n",
       "L 492.48 492.48 \n",
       "L 492.48 0 \n",
       "L 0 0 \n",
       "L 0 492.48 \n",
       "z\n",
       "\" style=\"fill: none\"/>\n",
       "  </g>\n",
       "  <g id=\"axes_1\">\n",
       "   <g clip-path=\"url(#p1d27272d92)\">\n",
       "    <image xlink:href=\"data:image/png;base64,\n",
       "iVBORw0KGgoAAAANSUhEUgAAAGQAAABkCAYAAABw4pVUAAAC5ElEQVR4nO2dUZarIBBEwTNLyxKyzCwhe3O+zMsYkG5spV689zNHCVbRQItKTg5u+T57jt/Dc37kiHJqdbaUb73erbK8mv14Dj6TW77PEaasyzizUfVwqiHv4mwJExUdZ5cdgblye1vWVktVFsly3a36expfM0I8RtREL1VY2QQvUd1rShsR4o2IbxJ4TYQWpTJKx02+ql2T5/zIngZnFb9E8aCe8eKbI2RNxLhSoxghPYWpTycjObLxhY0ha64QMXuSzhrTLd/nPX1edIX+J464zmzJByJuIXw7W1N8D6ZZlmWWcWUzUoq7fte0t/anVzdjIUKHlyHWwtbHYUYsuxJDzIjnZYhl4H6fkWHGMWTLlHd9DGYcR7HLWgwo5SiYcSzVMSQ6Wbw6tQR8zWs9ZG9SCDZaiXhzlrWcRHTsw6qfOVPfVx1IyaYjC1Qn0zLFlYdAHDVjiJABbEVJMTG0nAjHUH1wDTPG4L7bC8cS9pADxMCgrgxT3/EQIWLklOKemIB+Fg8muikt6LLEwBAxSAxFWPQnQsTAEDEwRA2mvVoQIWJgiBgYIgaGiIEhYmCIGBgiBoaIgSFiYIgYGCIGhoiBIWJgiBgYIgaGAABAD7d8nxlDxODZXjGmlHjyRAneUxfiOT8yY4gYGCIGhojxxxDGkfEQIWIUP63Byzvj4A0qAABoUZvRVjd0gTFwL2sAW1qTGIrRTAwxKZaWnh+GvJ/w/lH++Kpdj7WOJV0/vkr6nB/VL5WSPPZjbdTNj/HDuUwpYcbReLp815o6Y4kfr2avLgux4+nR1L0egnE2SpMlywadXQtUmLJNS58tY35KP0I/nr27urY88vzx1YnQZLL0a2AjfC9cb4FESRuvph9dFtESR4+W1e0qrIWVooRFr37cDvYIfZWoi9ilaJdQXnOuYMzejQ1ONWThCsb0MsSQBYz5x2u7itGVYPD/i8Stk5Fb9qltZjO0y7ISKZbqRppLvX4B+wGWX21qQn4AAAAASUVORK5CYII=\" id=\"image697ccad0a4\" transform=\"matrix(4.79 0 0 -4.79 7.2 485.28)\" style=\"image-rendering:crisp-edges;image-rendering:pixelated\" width=\"100\" height=\"100\"/>\n",
       "   </g>\n",
       "  </g>\n",
       " </g>\n",
       " <defs>\n",
       "  <clipPath id=\"p1d27272d92\">\n",
       "   <rect x=\"7.2\" y=\"7.2\" width=\"478.08\" height=\"478.08\"/>\n",
       "  </clipPath>\n",
       " </defs>\n",
       "</svg>\n"
      ],
      "text/plain": [
       "<Figure size 504x504 with 1 Axes>"
      ]
     },
     "metadata": {
      "needs_background": "light"
     },
     "output_type": "display_data"
    }
   ],
   "source": [
    "im = ps.tools.insert_sphere(im=im, c=c, r=r, v=v, overwrite=overwrite)\n",
    "fig, ax = plt.subplots(figsize=[7, 7]);\n",
    "ps.visualization.imshow(im);\n",
    "plt.axis(False);"
   ]
  }
 ],
 "metadata": {
  "kernelspec": {
   "display_name": "Python 3",
   "language": "python",
   "name": "python3"
  },
  "language_info": {
   "codemirror_mode": {
    "name": "ipython",
    "version": 3
   },
   "file_extension": ".py",
   "mimetype": "text/x-python",
   "name": "python",
   "nbconvert_exporter": "python",
   "pygments_lexer": "ipython3",
   "version": "3.8.13"
  }
 },
 "nbformat": 4,
 "nbformat_minor": 5
}
