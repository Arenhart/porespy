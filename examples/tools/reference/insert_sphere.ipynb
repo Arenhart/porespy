{
 "cells": [
  {
   "cell_type": "markdown",
   "id": "confident-salmon",
   "metadata": {},
   "source": [
    "# insert_sphere"
   ]
  },
  {
   "cell_type": "markdown",
   "id": "willing-advertiser",
   "metadata": {},
   "source": [
    "## Import packages"
   ]
  },
  {
   "cell_type": "code",
   "execution_count": 1,
   "id": "straight-pitch",
   "metadata": {
    "execution": {
     "iopub.execute_input": "2022-03-29T23:56:48.978670Z",
     "iopub.status.busy": "2022-03-29T23:56:48.978467Z",
     "iopub.status.idle": "2022-03-29T23:56:50.780901Z",
     "shell.execute_reply": "2022-03-29T23:56:50.779801Z"
    }
   },
   "outputs": [],
   "source": [
    "import numpy as np\n",
    "import porespy as ps\n",
    "import scipy.ndimage as spim\n",
    "import matplotlib.pyplot as plt\n",
    "import skimage\n",
    "ps.visualization.set_mpl_style()"
   ]
  },
  {
   "cell_type": "markdown",
   "id": "formed-drove",
   "metadata": {},
   "source": [
    "## Create image and variables"
   ]
  },
  {
   "cell_type": "code",
   "execution_count": 2,
   "id": "entire-david",
   "metadata": {
    "execution": {
     "iopub.execute_input": "2022-03-29T23:56:50.784428Z",
     "iopub.status.busy": "2022-03-29T23:56:50.784116Z",
     "iopub.status.idle": "2022-03-29T23:56:50.904733Z",
     "shell.execute_reply": "2022-03-29T23:56:50.904340Z"
    }
   },
   "outputs": [
    {
     "data": {
      "image/svg+xml": [
       "<?xml version=\"1.0\" encoding=\"utf-8\" standalone=\"no\"?>\n",
       "<!DOCTYPE svg PUBLIC \"-//W3C//DTD SVG 1.1//EN\"\n",
       "  \"http://www.w3.org/Graphics/SVG/1.1/DTD/svg11.dtd\">\n",
       "<svg xmlns:xlink=\"http://www.w3.org/1999/xlink\" width=\"492.48pt\" height=\"492.48pt\" viewBox=\"0 0 492.48 492.48\" xmlns=\"http://www.w3.org/2000/svg\" version=\"1.1\">\n",
       " <metadata>\n",
       "  <rdf:RDF xmlns:dc=\"http://purl.org/dc/elements/1.1/\" xmlns:cc=\"http://creativecommons.org/ns#\" xmlns:rdf=\"http://www.w3.org/1999/02/22-rdf-syntax-ns#\">\n",
       "   <cc:Work>\n",
       "    <dc:type rdf:resource=\"http://purl.org/dc/dcmitype/StillImage\"/>\n",
       "    <dc:date>2022-03-29T23:56:50.894972</dc:date>\n",
       "    <dc:format>image/svg+xml</dc:format>\n",
       "    <dc:creator>\n",
       "     <cc:Agent>\n",
       "      <dc:title>Matplotlib v3.5.1, https://matplotlib.org/</dc:title>\n",
       "     </cc:Agent>\n",
       "    </dc:creator>\n",
       "   </cc:Work>\n",
       "  </rdf:RDF>\n",
       " </metadata>\n",
       " <defs>\n",
       "  <style type=\"text/css\">*{stroke-linejoin: round; stroke-linecap: butt}</style>\n",
       " </defs>\n",
       " <g id=\"figure_1\">\n",
       "  <g id=\"patch_1\">\n",
       "   <path d=\"M 0 492.48 \n",
       "L 492.48 492.48 \n",
       "L 492.48 0 \n",
       "L 0 0 \n",
       "L 0 492.48 \n",
       "z\n",
       "\" style=\"fill: none\"/>\n",
       "  </g>\n",
       "  <g id=\"axes_1\">\n",
       "   <g clip-path=\"url(#pf5e9c46f42)\">\n",
       "    <image xlink:href=\"data:image/png;base64,\n",
       "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\" id=\"imagefe93fee5a4\" transform=\"matrix(4.79 0 0 -4.79 7.2 485.28)\" style=\"image-rendering:crisp-edges;image-rendering:pixelated\" width=\"100\" height=\"100\"/>\n",
       "   </g>\n",
       "  </g>\n",
       " </g>\n",
       " <defs>\n",
       "  <clipPath id=\"pf5e9c46f42\">\n",
       "   <rect x=\"7.2\" y=\"7.2\" width=\"478.08\" height=\"478.08\"/>\n",
       "  </clipPath>\n",
       " </defs>\n",
       "</svg>\n"
      ],
      "text/plain": [
       "<Figure size 504x504 with 1 Axes>"
      ]
     },
     "metadata": {
      "needs_background": "light"
     },
     "output_type": "display_data"
    }
   ],
   "source": [
    "im = ps.generators.blobs([100, 100,100])\n",
    "\n",
    "fig, ax = plt.subplots(figsize=[7, 7]);\n",
    "ps.visualization.imshow(im);\n",
    "plt.axis(False);\n",
    "\n",
    "#default values:\n",
    "c=[50,50,50]\n",
    "r=50\n",
    "v=False\n",
    "overwrite=True"
   ]
  },
  {
   "cell_type": "markdown",
   "id": "entire-projection",
   "metadata": {},
   "source": [
    "## Apply tool"
   ]
  },
  {
   "cell_type": "code",
   "execution_count": 3,
   "id": "unlimited-illustration",
   "metadata": {
    "execution": {
     "iopub.execute_input": "2022-03-29T23:56:50.907182Z",
     "iopub.status.busy": "2022-03-29T23:56:50.906907Z",
     "iopub.status.idle": "2022-03-29T23:56:51.013612Z",
     "shell.execute_reply": "2022-03-29T23:56:51.013210Z"
    }
   },
   "outputs": [
    {
     "data": {
      "image/svg+xml": [
       "<?xml version=\"1.0\" encoding=\"utf-8\" standalone=\"no\"?>\n",
       "<!DOCTYPE svg PUBLIC \"-//W3C//DTD SVG 1.1//EN\"\n",
       "  \"http://www.w3.org/Graphics/SVG/1.1/DTD/svg11.dtd\">\n",
       "<svg xmlns:xlink=\"http://www.w3.org/1999/xlink\" width=\"492.48pt\" height=\"492.48pt\" viewBox=\"0 0 492.48 492.48\" xmlns=\"http://www.w3.org/2000/svg\" version=\"1.1\">\n",
       " <metadata>\n",
       "  <rdf:RDF xmlns:dc=\"http://purl.org/dc/elements/1.1/\" xmlns:cc=\"http://creativecommons.org/ns#\" xmlns:rdf=\"http://www.w3.org/1999/02/22-rdf-syntax-ns#\">\n",
       "   <cc:Work>\n",
       "    <dc:type rdf:resource=\"http://purl.org/dc/dcmitype/StillImage\"/>\n",
       "    <dc:date>2022-03-29T23:56:51.008253</dc:date>\n",
       "    <dc:format>image/svg+xml</dc:format>\n",
       "    <dc:creator>\n",
       "     <cc:Agent>\n",
       "      <dc:title>Matplotlib v3.5.1, https://matplotlib.org/</dc:title>\n",
       "     </cc:Agent>\n",
       "    </dc:creator>\n",
       "   </cc:Work>\n",
       "  </rdf:RDF>\n",
       " </metadata>\n",
       " <defs>\n",
       "  <style type=\"text/css\">*{stroke-linejoin: round; stroke-linecap: butt}</style>\n",
       " </defs>\n",
       " <g id=\"figure_1\">\n",
       "  <g id=\"patch_1\">\n",
       "   <path d=\"M 0 492.48 \n",
       "L 492.48 492.48 \n",
       "L 492.48 0 \n",
       "L 0 0 \n",
       "L 0 492.48 \n",
       "z\n",
       "\" style=\"fill: none\"/>\n",
       "  </g>\n",
       "  <g id=\"axes_1\">\n",
       "   <g clip-path=\"url(#pd9ea5b3b3a)\">\n",
       "    <image xlink:href=\"data:image/png;base64,\n",
       "iVBORw0KGgoAAAANSUhEUgAAAGQAAABkCAYAAABw4pVUAAACmklEQVR4nO3dW3KDMAyFYZzJ0lgCy+wSsjf6kDoTiC+yLWM1/r+XTi/Tgg5GIabYLX9Wt+1LwmP/canv95Lbrhaj9inlLv3B1W37qB3Q/Ls9A9bw2lHphlo8qr5JcSAhhKTnUEiN4Uw4T7U9OVm8moAIpKxu53rdRm4MPuuVDISjvU5p3d5DUR8hs1jdtmueDfzvEiVJLwl7r0tof2vqVj20UmYIwwvVxO9/90Byf2SmIM7OdakN5ebPha3nw5nDWJb4/pfWRaWpzx6G5+vQUo9DIDTvdqF6lNToY4S0XGWiXfUpizD6CAaSa/KEUU5aM2d1pvCbpWqeDcQjGH2h2hdNUBGKvnPdxRNUhHGNQ1PXutpEvezLXsK41kcgBGAUU7FjMBqM8AOAKVwDmFM3jEAGK7oNCNcjkMG637mINgRiwPsoIRBjCMQYAgFiVrftjBBjCMQYAgEAAAAAAAAAQB93udvCfIgxBGIMgQBJ2s8ORD1uAzKIQIwhEGNegdBHxnr9Fy4PCrDltiw8vQHI43rEhjsh2NL0mFjo4zrEmOhjYq/eEDwxQoyJBsIoGYMRMkjsgE8GwijpI1VX8Vq46Cu4KFgsOd7r0pM76wQLnVroCvUkLUDc1OknbaT1CwbCaOgnV9voCCEUPX50SBYNyxZ9ddtOOH2ETmOiHkL/6CN0oNPUByt6Kuk5hNznaFf85qL/+vkjdESbdWmhafzlkouC5X5QYuZQcq9GpTVVWZT9bKZgtBe5F69jWGqGUGJrqMe+L6H+9vsMQXiP/cedr8JbfteyMB/STOMAHPLsd14ehw1droLbVY+a3jqRkhT8G4Lx+6B9iTC0h2g1xCv1PpC6nLJKp4Bbj7b/qOo2IG0WRoKl4N+3w2/XL1fjXs7MsuPxAAAAAElFTkSuQmCC\" id=\"image5fb1e42b22\" transform=\"matrix(4.79 0 0 -4.79 7.2 485.28)\" style=\"image-rendering:crisp-edges;image-rendering:pixelated\" width=\"100\" height=\"100\"/>\n",
       "   </g>\n",
       "  </g>\n",
       " </g>\n",
       " <defs>\n",
       "  <clipPath id=\"pd9ea5b3b3a\">\n",
       "   <rect x=\"7.2\" y=\"7.2\" width=\"478.08\" height=\"478.08\"/>\n",
       "  </clipPath>\n",
       " </defs>\n",
       "</svg>\n"
      ],
      "text/plain": [
       "<Figure size 504x504 with 1 Axes>"
      ]
     },
     "metadata": {
      "needs_background": "light"
     },
     "output_type": "display_data"
    }
   ],
   "source": [
    "im = ps.tools.insert_sphere(im=im, c=c, r=r, v=v, overwrite=overwrite)\n",
    "fig, ax = plt.subplots(figsize=[7, 7]);\n",
    "ps.visualization.imshow(im);\n",
    "plt.axis(False);"
   ]
  }
 ],
 "metadata": {
  "kernelspec": {
   "display_name": "Python 3",
   "language": "python",
   "name": "python3"
  },
  "language_info": {
   "codemirror_mode": {
    "name": "ipython",
    "version": 3
   },
   "file_extension": ".py",
   "mimetype": "text/x-python",
   "name": "python",
   "nbconvert_exporter": "python",
   "pygments_lexer": "ipython3",
   "version": "3.8.13"
  }
 },
 "nbformat": 4,
 "nbformat_minor": 5
}
