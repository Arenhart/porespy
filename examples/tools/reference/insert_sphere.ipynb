{
 "cells": [
  {
   "cell_type": "markdown",
   "id": "confident-salmon",
   "metadata": {},
   "source": [
    "# `insert_sphere`"
   ]
  },
  {
   "cell_type": "markdown",
   "id": "willing-advertiser",
   "metadata": {},
   "source": [
    "## Import packages"
   ]
  },
  {
   "cell_type": "code",
   "execution_count": 1,
   "id": "straight-pitch",
   "metadata": {
    "execution": {
     "iopub.execute_input": "2022-06-22T19:30:16.148238Z",
     "iopub.status.busy": "2022-06-22T19:30:16.147743Z",
     "iopub.status.idle": "2022-06-22T19:30:18.324418Z",
     "shell.execute_reply": "2022-06-22T19:30:18.322836Z"
    }
   },
   "outputs": [],
   "source": [
    "import numpy as np\n",
    "import porespy as ps\n",
    "import scipy.ndimage as spim\n",
    "import matplotlib.pyplot as plt\n",
    "import skimage\n",
    "ps.visualization.set_mpl_style()"
   ]
  },
  {
   "cell_type": "markdown",
   "id": "formed-drove",
   "metadata": {},
   "source": [
    "## Create image and variables"
   ]
  },
  {
   "cell_type": "code",
   "execution_count": 2,
   "id": "entire-david",
   "metadata": {
    "execution": {
     "iopub.execute_input": "2022-06-22T19:30:18.330941Z",
     "iopub.status.busy": "2022-06-22T19:30:18.330419Z",
     "iopub.status.idle": "2022-06-22T19:30:18.476781Z",
     "shell.execute_reply": "2022-06-22T19:30:18.476115Z"
    }
   },
   "outputs": [
    {
     "data": {
      "image/svg+xml": [
       "<?xml version=\"1.0\" encoding=\"utf-8\" standalone=\"no\"?>\n",
       "<!DOCTYPE svg PUBLIC \"-//W3C//DTD SVG 1.1//EN\"\n",
       "  \"http://www.w3.org/Graphics/SVG/1.1/DTD/svg11.dtd\">\n",
       "<svg xmlns:xlink=\"http://www.w3.org/1999/xlink\" width=\"496.8pt\" height=\"496.8pt\" viewBox=\"0 0 496.8 496.8\" xmlns=\"http://www.w3.org/2000/svg\" version=\"1.1\">\n",
       " <metadata>\n",
       "  <rdf:RDF xmlns:dc=\"http://purl.org/dc/elements/1.1/\" xmlns:cc=\"http://creativecommons.org/ns#\" xmlns:rdf=\"http://www.w3.org/1999/02/22-rdf-syntax-ns#\">\n",
       "   <cc:Work>\n",
       "    <dc:type rdf:resource=\"http://purl.org/dc/dcmitype/StillImage\"/>\n",
       "    <dc:date>2022-06-22T19:30:18.463704</dc:date>\n",
       "    <dc:format>image/svg+xml</dc:format>\n",
       "    <dc:creator>\n",
       "     <cc:Agent>\n",
       "      <dc:title>Matplotlib v3.5.2, https://matplotlib.org/</dc:title>\n",
       "     </cc:Agent>\n",
       "    </dc:creator>\n",
       "   </cc:Work>\n",
       "  </rdf:RDF>\n",
       " </metadata>\n",
       " <defs>\n",
       "  <style type=\"text/css\">*{stroke-linejoin: round; stroke-linecap: butt}</style>\n",
       " </defs>\n",
       " <g id=\"figure_1\">\n",
       "  <g id=\"patch_1\">\n",
       "   <path d=\"M 0 496.8 \n",
       "L 496.8 496.8 \n",
       "L 496.8 0 \n",
       "L 0 0 \n",
       "L 0 496.8 \n",
       "z\n",
       "\" style=\"fill: none\"/>\n",
       "  </g>\n",
       "  <g id=\"axes_1\">\n",
       "   <g clip-path=\"url(#pddef6e3f85)\">\n",
       "    <image xlink:href=\"data:image/png;base64,\n",
       "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\" id=\"imagea2b82d8fe5\" transform=\"matrix(4.83 0 0 -4.83 7.2 489.6)\" style=\"image-rendering:crisp-edges;image-rendering:pixelated\" width=\"100\" height=\"100\"/>\n",
       "   </g>\n",
       "  </g>\n",
       " </g>\n",
       " <defs>\n",
       "  <clipPath id=\"pddef6e3f85\">\n",
       "   <rect x=\"7.2\" y=\"7.2\" width=\"482.4\" height=\"482.4\"/>\n",
       "  </clipPath>\n",
       " </defs>\n",
       "</svg>\n"
      ],
      "text/plain": [
       "<Figure size 504x504 with 1 Axes>"
      ]
     },
     "metadata": {
      "needs_background": "light"
     },
     "output_type": "display_data"
    }
   ],
   "source": [
    "im = ps.generators.blobs([100, 100,100])\n",
    "\n",
    "fig, ax = plt.subplots(figsize=[7, 7]);\n",
    "ps.visualization.imshow(im);\n",
    "plt.axis(False);\n",
    "\n",
    "#default values:\n",
    "c=[50,50,50]\n",
    "r=50\n",
    "v=False\n",
    "overwrite=True"
   ]
  },
  {
   "cell_type": "markdown",
   "id": "entire-projection",
   "metadata": {},
   "source": [
    "## Apply tool"
   ]
  },
  {
   "cell_type": "code",
   "execution_count": 3,
   "id": "unlimited-illustration",
   "metadata": {
    "execution": {
     "iopub.execute_input": "2022-06-22T19:30:18.480870Z",
     "iopub.status.busy": "2022-06-22T19:30:18.480326Z",
     "iopub.status.idle": "2022-06-22T19:30:18.609858Z",
     "shell.execute_reply": "2022-06-22T19:30:18.609232Z"
    }
   },
   "outputs": [
    {
     "data": {
      "image/svg+xml": [
       "<?xml version=\"1.0\" encoding=\"utf-8\" standalone=\"no\"?>\n",
       "<!DOCTYPE svg PUBLIC \"-//W3C//DTD SVG 1.1//EN\"\n",
       "  \"http://www.w3.org/Graphics/SVG/1.1/DTD/svg11.dtd\">\n",
       "<svg xmlns:xlink=\"http://www.w3.org/1999/xlink\" width=\"496.8pt\" height=\"496.8pt\" viewBox=\"0 0 496.8 496.8\" xmlns=\"http://www.w3.org/2000/svg\" version=\"1.1\">\n",
       " <metadata>\n",
       "  <rdf:RDF xmlns:dc=\"http://purl.org/dc/elements/1.1/\" xmlns:cc=\"http://creativecommons.org/ns#\" xmlns:rdf=\"http://www.w3.org/1999/02/22-rdf-syntax-ns#\">\n",
       "   <cc:Work>\n",
       "    <dc:type rdf:resource=\"http://purl.org/dc/dcmitype/StillImage\"/>\n",
       "    <dc:date>2022-06-22T19:30:18.603458</dc:date>\n",
       "    <dc:format>image/svg+xml</dc:format>\n",
       "    <dc:creator>\n",
       "     <cc:Agent>\n",
       "      <dc:title>Matplotlib v3.5.2, https://matplotlib.org/</dc:title>\n",
       "     </cc:Agent>\n",
       "    </dc:creator>\n",
       "   </cc:Work>\n",
       "  </rdf:RDF>\n",
       " </metadata>\n",
       " <defs>\n",
       "  <style type=\"text/css\">*{stroke-linejoin: round; stroke-linecap: butt}</style>\n",
       " </defs>\n",
       " <g id=\"figure_1\">\n",
       "  <g id=\"patch_1\">\n",
       "   <path d=\"M 0 496.8 \n",
       "L 496.8 496.8 \n",
       "L 496.8 0 \n",
       "L 0 0 \n",
       "L 0 496.8 \n",
       "z\n",
       "\" style=\"fill: none\"/>\n",
       "  </g>\n",
       "  <g id=\"axes_1\">\n",
       "   <g clip-path=\"url(#pd9f3d68a3c)\">\n",
       "    <image xlink:href=\"data:image/png;base64,\n",
       "iVBORw0KGgoAAAANSUhEUgAAAGQAAABkCAYAAABw4pVUAAAC0ElEQVR4nO2dW5bCIAyGS49Lcwku0yW4t86Dp3Nq5ZKEW9Tvey0wJT9JCowQruG2LUoe2z3knsfaLNXpwaj3kNrw+LdTdS7aP27t0DXcttGizBgEEnICrpqGvHZwNhq7lLxJLAhi5JHYRxLaVB5SiyVffRItBq1IELxjHMWkrvmiKpVF2DJZD7Ea8Fzvsd0DYsgIqbiu/XLA4E/O9tztkpsTHZ81EQTqOGoQDVmIMY+hn71Q5i1kpbxDWg5s7PYNks9W8sw4/kMWxvUBOcQZl2WxeQceZSeXj01rWYhh4xpuW7Pl9x3E6Mu6LLJlcdaj6pBuPZDUB5EbzC9LJ4x6X6zLQl4YhcTOhKzBlERBEAeo5yHQlpyXIIgzEGQSKS9BEG9I1legH2f7r6kHMAdC1mTO/wp0YZYOEGH3EEIWAAAAQBeYoTsDMXzBPMQZCOIMBHEGgjgDQZyBIM5AEGcgiDMQxBkI4gwEcQaCOANBnIEgzkAQZyCIMxDEGQjiDPHBATAIxACAD4KQ5QuSujNefmM480XgifqGHehD9BdUeMkcikeNwzzeBMFLxnK2Nx7ijKggeMkYYnaOHhyAIPNI3h+CKH1J2TeZQzhyYw7ZpI6X9MF89SpeMp7iZy9e0pYmh/EjShuq78I9NoAodUjtx2rvRGIX3ovvuY01AjI0N9yp17IIXTq09jItLiKKDEuEMc9DECWPNdyvnAbUnhp7Fg9Sxkt01NpEtGNYEgVhnrSwgzipl+Lfr4si6b+kTHbfw7J59WvzFMtANM9DmBjm6REVTPMQSU759hBW0z/zfkgOiad8ozCt+qTewpUgDV/fIEyPPsTae0vqlhyhfdFPzEM9B1T02ryRlw9/urccqbXbua7oQpcWXtSyfk+OfS295/H5+aacVLlUmR21GKUXk7TjSRDJvCpVpqYf13DbYvWHCZJqTzL5bClgq3DZa1D9AWVzpiwVk8apAAAAAElFTkSuQmCC\" id=\"imagea24af6759a\" transform=\"matrix(4.83 0 0 -4.83 7.2 489.6)\" style=\"image-rendering:crisp-edges;image-rendering:pixelated\" width=\"100\" height=\"100\"/>\n",
       "   </g>\n",
       "  </g>\n",
       " </g>\n",
       " <defs>\n",
       "  <clipPath id=\"pd9f3d68a3c\">\n",
       "   <rect x=\"7.2\" y=\"7.2\" width=\"482.4\" height=\"482.4\"/>\n",
       "  </clipPath>\n",
       " </defs>\n",
       "</svg>\n"
      ],
      "text/plain": [
       "<Figure size 504x504 with 1 Axes>"
      ]
     },
     "metadata": {
      "needs_background": "light"
     },
     "output_type": "display_data"
    }
   ],
   "source": [
    "im = ps.tools.insert_sphere(im=im, c=c, r=r, v=v, overwrite=overwrite)\n",
    "fig, ax = plt.subplots(figsize=[7, 7]);\n",
    "ps.visualization.imshow(im);\n",
    "plt.axis(False);"
   ]
  }
 ],
 "metadata": {
  "kernelspec": {
   "display_name": "Python 3 (ipykernel)",
   "language": "python",
   "name": "python3"
  },
  "language_info": {
   "codemirror_mode": {
    "name": "ipython",
    "version": 3
   },
   "file_extension": ".py",
   "mimetype": "text/x-python",
   "name": "python",
   "nbconvert_exporter": "python",
   "pygments_lexer": "ipython3",
   "version": "3.8.13"
  }
 },
 "nbformat": 4,
 "nbformat_minor": 5
}
