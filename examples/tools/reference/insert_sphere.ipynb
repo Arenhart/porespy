{
 "cells": [
  {
   "cell_type": "markdown",
   "id": "confident-salmon",
   "metadata": {},
   "source": [
    "# `insert_sphere`"
   ]
  },
  {
   "cell_type": "markdown",
   "id": "willing-advertiser",
   "metadata": {},
   "source": [
    "## Import packages"
   ]
  },
  {
   "cell_type": "code",
   "execution_count": 1,
   "id": "straight-pitch",
   "metadata": {
    "execution": {
     "iopub.execute_input": "2022-05-25T17:22:55.598345Z",
     "iopub.status.busy": "2022-05-25T17:22:55.597867Z",
     "iopub.status.idle": "2022-05-25T17:22:57.427167Z",
     "shell.execute_reply": "2022-05-25T17:22:57.426395Z"
    }
   },
   "outputs": [],
   "source": [
    "import numpy as np\n",
    "import porespy as ps\n",
    "import scipy.ndimage as spim\n",
    "import matplotlib.pyplot as plt\n",
    "import skimage\n",
    "ps.visualization.set_mpl_style()"
   ]
  },
  {
   "cell_type": "markdown",
   "id": "formed-drove",
   "metadata": {},
   "source": [
    "## Create image and variables"
   ]
  },
  {
   "cell_type": "code",
   "execution_count": 2,
   "id": "entire-david",
   "metadata": {
    "execution": {
     "iopub.execute_input": "2022-05-25T17:22:57.431207Z",
     "iopub.status.busy": "2022-05-25T17:22:57.430594Z",
     "iopub.status.idle": "2022-05-25T17:22:57.551215Z",
     "shell.execute_reply": "2022-05-25T17:22:57.550693Z"
    }
   },
   "outputs": [
    {
     "data": {
      "image/svg+xml": [
       "<?xml version=\"1.0\" encoding=\"utf-8\" standalone=\"no\"?>\n",
       "<!DOCTYPE svg PUBLIC \"-//W3C//DTD SVG 1.1//EN\"\n",
       "  \"http://www.w3.org/Graphics/SVG/1.1/DTD/svg11.dtd\">\n",
       "<svg xmlns:xlink=\"http://www.w3.org/1999/xlink\" width=\"496.8pt\" height=\"496.8pt\" viewBox=\"0 0 496.8 496.8\" xmlns=\"http://www.w3.org/2000/svg\" version=\"1.1\">\n",
       " <metadata>\n",
       "  <rdf:RDF xmlns:dc=\"http://purl.org/dc/elements/1.1/\" xmlns:cc=\"http://creativecommons.org/ns#\" xmlns:rdf=\"http://www.w3.org/1999/02/22-rdf-syntax-ns#\">\n",
       "   <cc:Work>\n",
       "    <dc:type rdf:resource=\"http://purl.org/dc/dcmitype/StillImage\"/>\n",
       "    <dc:date>2022-05-25T17:22:57.541960</dc:date>\n",
       "    <dc:format>image/svg+xml</dc:format>\n",
       "    <dc:creator>\n",
       "     <cc:Agent>\n",
       "      <dc:title>Matplotlib v3.5.2, https://matplotlib.org/</dc:title>\n",
       "     </cc:Agent>\n",
       "    </dc:creator>\n",
       "   </cc:Work>\n",
       "  </rdf:RDF>\n",
       " </metadata>\n",
       " <defs>\n",
       "  <style type=\"text/css\">*{stroke-linejoin: round; stroke-linecap: butt}</style>\n",
       " </defs>\n",
       " <g id=\"figure_1\">\n",
       "  <g id=\"patch_1\">\n",
       "   <path d=\"M 0 496.8 \n",
       "L 496.8 496.8 \n",
       "L 496.8 0 \n",
       "L 0 0 \n",
       "L 0 496.8 \n",
       "z\n",
       "\" style=\"fill: none\"/>\n",
       "  </g>\n",
       "  <g id=\"axes_1\">\n",
       "   <g clip-path=\"url(#pdb96599b02)\">\n",
       "    <image xlink:href=\"data:image/png;base64,\n",
       "iVBORw0KGgoAAAANSUhEUgAAAGQAAABkCAYAAABw4pVUAAAFdElEQVR4nO1dW3bjMAi1e7K0LqHLzBKyt8yXOxpVDx73AmnmfvU4NmAQCCHknkeHz/Pr2V97PO9nf22G9nnNcxI5vDRXdJGQyDjT0212U39dqgivwt4dH9cfu5ETMbJ2YBn78byfVQbSLUvRq9DIkslKtzUWSrbH836OaA0vSoWzAqGYKL4jnis63nnzY38bFlnGeBWeKoNUibNRiI4ej+f9FBvk3YyRBZFB3tkYn+fXs/UUdhK0ndStxkAK3stgXXxWWRSuQDFIlDFm96BlsMBqmG1+rSUcbYz+vmxDjKDRoWn0zYBWhtQgCNoMHjOePY9WFpFQUqOwDYLisXufDC+7ZBpmWdaRiczGMjO7TN7TtHdklIrxWYvqKbzZdSPcnjGHaPcqomGuZbHWLyxUKrGv4CouesKYREGIFbLWENlh+ba/ZQ/NjuJx1FhdZyt+hqWHjBR3jThEJlZpcywCM921gHjIhWrzSqU5o5dlumMoIcbKbhA7eJZMELVzKKW1Ghj98/QdQ2R2swqhknuRfFm0twapMvlVCj9arHSo8hCmMSLqXii+kZne0CDIMkmUh7H5eNdcI3qje9VtQCiBjgPbRCDZOshMd/trM1lC2oBYfbo7+lWgkQ+6DrHAu1DUPFPFY1Z8wxvlVkAXACstVK85aCeT2SCs2pUGlRSOgtog7SiWvHCWUl71+IR7DmlrMuxG7LaqjOQ5Q0YhVJX2Rowmb20IyS8jCRB7CKKDEdGM7Hnei1mFFgmRQaIUwTp3gYTGKJYKN623dyaAd7WNhuf9EQNIXX7P3l3L4B0Jdfk9EpItzkqwes+KjsgglWtFlWWz4DZrAGaAtU7xZHLXJF3FK8NOmHpRbb10AaWvi86PkOV5GWkBzUKXef+KTkTkaHmIut9n12ZEKwA5OJBdKjva04VhlZiKALPuNZqDPXxgraQIOlXBqmqLmxy8RFfXXwnMNdFMP9OPz1QJWUjDVkhvd++jDlkaBVVQQI+sASjV2zRk7RZgXrBSZCuqNAWKPSRS4Ha0RlYSPEBFA+oWJbp0zTSKd0G8oqWR+ztkVSk3/AZ43i+9UU6DiC1UFNoQtgq7vSPc+h9f5YWlYHeOoIue/2RZFYwReTjGy5Ohr28P+S3HBlrMiqTW2lZIGxA7na3YuWiVKaJPiz6pM05KVQitx8GRpVSTAxuM6gA6AryVQVhALmSpBkHtEVzXNaO7v48d5lCeQptD2J3wvxUlQxYizo8+ZTH7rRJoHlJxdFc2xIWSHvLqxxYuaPuyPs+E/46wg+a4XGVo2oDaaFKq2oswAut0FeOQ6yish2RZ1eaT7KrvCpSQtcpwpM+wUG1w9AibQ1alb8vRr1fH7P22BkE2i/VrgeiJ22Pk3XFtK90e4o9gWlrrJXRfHaHV3sywYTFahWY3iQwrOrRDnzsXHxX/+usVPYl9oEmU9nqMskp/pSOu8gT/lvshFT2FhbCVeoUmbW98R2BHn+4hlcPNCNnn5FO/uYh+Boloo1wDoVRxsUe2UaKg/pLDf/wFskt+9DvEQ1apbcZHwEaYdSuuGqCjUu6Wx5Sh5qBMZG/sTq6dwqUDpB9kTM9o8cMglsqrdwKUCizdY9G0/7NW3trBdvG6SZhWWC0jipuMXT8pbymv9P+nnm1oFKytS71eIZ2FyNL8CIjEQBOK2e+z4qHOsmbhS1KlrWQMz31WWST0TWnvTkmoErr1SDS7ZsUMs6ELQ8ukqj3DV2GTyoPSK3X0gUoE2HzCjyN4msiqgOmJNINEVkszzzFqjCMZZCGNctrfkbyigPIa+KGa6KPGO34Z85Cn1PRRNf2TAO0dqPfxyJWeZVUJORdaozBO7e5QescwC5me/wdjFuhZgUuKNgAAAABJRU5ErkJggg==\" id=\"imageabc9726d8f\" transform=\"matrix(4.83 0 0 -4.83 7.2 489.6)\" style=\"image-rendering:crisp-edges;image-rendering:pixelated\" width=\"100\" height=\"100\"/>\n",
       "   </g>\n",
       "  </g>\n",
       " </g>\n",
       " <defs>\n",
       "  <clipPath id=\"pdb96599b02\">\n",
       "   <rect x=\"7.2\" y=\"7.2\" width=\"482.4\" height=\"482.4\"/>\n",
       "  </clipPath>\n",
       " </defs>\n",
       "</svg>\n"
      ],
      "text/plain": [
       "<Figure size 504x504 with 1 Axes>"
      ]
     },
     "metadata": {
      "needs_background": "light"
     },
     "output_type": "display_data"
    }
   ],
   "source": [
    "im = ps.generators.blobs([100, 100,100])\n",
    "\n",
    "fig, ax = plt.subplots(figsize=[7, 7]);\n",
    "ps.visualization.imshow(im);\n",
    "plt.axis(False);\n",
    "\n",
    "#default values:\n",
    "c=[50,50,50]\n",
    "r=50\n",
    "v=False\n",
    "overwrite=True"
   ]
  },
  {
   "cell_type": "markdown",
   "id": "entire-projection",
   "metadata": {},
   "source": [
    "## Apply tool"
   ]
  },
  {
   "cell_type": "code",
   "execution_count": 3,
   "id": "unlimited-illustration",
   "metadata": {
    "execution": {
     "iopub.execute_input": "2022-05-25T17:22:57.554148Z",
     "iopub.status.busy": "2022-05-25T17:22:57.553772Z",
     "iopub.status.idle": "2022-05-25T17:22:57.659740Z",
     "shell.execute_reply": "2022-05-25T17:22:57.659194Z"
    }
   },
   "outputs": [
    {
     "data": {
      "image/svg+xml": [
       "<?xml version=\"1.0\" encoding=\"utf-8\" standalone=\"no\"?>\n",
       "<!DOCTYPE svg PUBLIC \"-//W3C//DTD SVG 1.1//EN\"\n",
       "  \"http://www.w3.org/Graphics/SVG/1.1/DTD/svg11.dtd\">\n",
       "<svg xmlns:xlink=\"http://www.w3.org/1999/xlink\" width=\"496.8pt\" height=\"496.8pt\" viewBox=\"0 0 496.8 496.8\" xmlns=\"http://www.w3.org/2000/svg\" version=\"1.1\">\n",
       " <metadata>\n",
       "  <rdf:RDF xmlns:dc=\"http://purl.org/dc/elements/1.1/\" xmlns:cc=\"http://creativecommons.org/ns#\" xmlns:rdf=\"http://www.w3.org/1999/02/22-rdf-syntax-ns#\">\n",
       "   <cc:Work>\n",
       "    <dc:type rdf:resource=\"http://purl.org/dc/dcmitype/StillImage\"/>\n",
       "    <dc:date>2022-05-25T17:22:57.654340</dc:date>\n",
       "    <dc:format>image/svg+xml</dc:format>\n",
       "    <dc:creator>\n",
       "     <cc:Agent>\n",
       "      <dc:title>Matplotlib v3.5.2, https://matplotlib.org/</dc:title>\n",
       "     </cc:Agent>\n",
       "    </dc:creator>\n",
       "   </cc:Work>\n",
       "  </rdf:RDF>\n",
       " </metadata>\n",
       " <defs>\n",
       "  <style type=\"text/css\">*{stroke-linejoin: round; stroke-linecap: butt}</style>\n",
       " </defs>\n",
       " <g id=\"figure_1\">\n",
       "  <g id=\"patch_1\">\n",
       "   <path d=\"M 0 496.8 \n",
       "L 496.8 496.8 \n",
       "L 496.8 0 \n",
       "L 0 0 \n",
       "L 0 496.8 \n",
       "z\n",
       "\" style=\"fill: none\"/>\n",
       "  </g>\n",
       "  <g id=\"axes_1\">\n",
       "   <g clip-path=\"url(#p4efa295a12)\">\n",
       "    <image xlink:href=\"data:image/png;base64,\n",
       "iVBORw0KGgoAAAANSUhEUgAAAGQAAABkCAYAAABw4pVUAAAC0UlEQVR4nO2dW3KDMAxFTSdLyxKyzCyBvdEvMkD8kPxU8Dkz/UmBGF1fC6vUXtyF5/Larp+t23u5fhbieL7mPEk7Sq8Zu25NJG0MxekROuj6uTQQpQHrdU2rfG5U0nPuGJhjZ6vlnhKHLJpG1BSk1tBWm9SQXbPj7tfKFkTzZdqGWCPWxljMSvPmI31YXTT5aCSj2vinObhGI39BjFxK723d3otYkDsH0hIiQRDjTMt4JAVBDD/aZC9FlUPgTEiUEmGSz9c4REatR+HTgaV1rNlJOSNUEThNDCUXRhQ5ucPVHmNvDrkK0KNCehdKO28wqftEQRgZJaJET2xVs5mFnA6c9diLGDJy4qQWBDF0aOPVvbg4I5q4RQVBgLqs23vZf0LHUO3txDV+oXgS5MFcn8QoLg7m6hQEGQwOMYRv4ugVhDJJe0LxDb4GxFNVe8QOgXGIyu/QBl+ccYgxvgTBHX1hHmKckyC4YwzHuOMQYyCIMRDEGB9ByB9jib6XBeNAEGMgCAAAAAAAdIe3S2zBxNAYCGIMBAEAAACAGWCmbgvmIcb4cw6XWAKHGANBjIEgxvgIQh6xAQ4xRvfF+MHPPkLhEGOcBCGPjOEYdxxijC9BcElfWA3IOMHVgHo3ZEZYfOYHCAqCS9oSii8OMUZUEFzShlhccYgxkoLgkrqk4ilyCKL0QzxkIUpb9jXhySEGyF4vC5eUkYrfc3ltaocgSn2OC1dHNwULLdmEKDo0K4V/rWyt2eOVNbbCaDvtHktxQBFFTq4YzlXYYYfh60yJGM6xKVhVNGKEcnS1bfNmd4rk/iWbglXp8TNvZqx1ReqYJjP1WdzS4j6blU7uLkqr+6OWlUmrYblJDnFurjzinNwxqbg0cchsYjgXLzVpKBZk5icsH6n7T/7FsCQ51Uhsd0z+JZ1y+P+HrNtbVOBsRSz/HX/Xq03DBfHRUiCJI0e69h9MFZse5VGG9QAAAABJRU5ErkJggg==\" id=\"image9cf88c425b\" transform=\"matrix(4.83 0 0 -4.83 7.2 489.6)\" style=\"image-rendering:crisp-edges;image-rendering:pixelated\" width=\"100\" height=\"100\"/>\n",
       "   </g>\n",
       "  </g>\n",
       " </g>\n",
       " <defs>\n",
       "  <clipPath id=\"p4efa295a12\">\n",
       "   <rect x=\"7.2\" y=\"7.2\" width=\"482.4\" height=\"482.4\"/>\n",
       "  </clipPath>\n",
       " </defs>\n",
       "</svg>\n"
      ],
      "text/plain": [
       "<Figure size 504x504 with 1 Axes>"
      ]
     },
     "metadata": {
      "needs_background": "light"
     },
     "output_type": "display_data"
    }
   ],
   "source": [
    "im = ps.tools.insert_sphere(im=im, c=c, r=r, v=v, overwrite=overwrite)\n",
    "fig, ax = plt.subplots(figsize=[7, 7]);\n",
    "ps.visualization.imshow(im);\n",
    "plt.axis(False);"
   ]
  }
 ],
 "metadata": {
  "kernelspec": {
   "display_name": "Python 3 (ipykernel)",
   "language": "python",
   "name": "python3"
  },
  "language_info": {
   "codemirror_mode": {
    "name": "ipython",
    "version": 3
   },
   "file_extension": ".py",
   "mimetype": "text/x-python",
   "name": "python",
   "nbconvert_exporter": "python",
   "pygments_lexer": "ipython3",
   "version": "3.8.13"
  }
 },
 "nbformat": 4,
 "nbformat_minor": 5
}
