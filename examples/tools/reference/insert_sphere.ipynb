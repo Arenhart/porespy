{
 "cells": [
  {
   "cell_type": "markdown",
   "id": "confident-salmon",
   "metadata": {},
   "source": [
    "# insert_sphere"
   ]
  },
  {
   "cell_type": "markdown",
   "id": "willing-advertiser",
   "metadata": {},
   "source": [
    "## Import packages"
   ]
  },
  {
   "cell_type": "code",
   "execution_count": 1,
   "id": "straight-pitch",
   "metadata": {
    "execution": {
     "iopub.execute_input": "2022-03-30T13:45:08.764516Z",
     "iopub.status.busy": "2022-03-30T13:45:08.764116Z",
     "iopub.status.idle": "2022-03-30T13:45:10.711687Z",
     "shell.execute_reply": "2022-03-30T13:45:10.711041Z"
    }
   },
   "outputs": [],
   "source": [
    "import numpy as np\n",
    "import porespy as ps\n",
    "import scipy.ndimage as spim\n",
    "import matplotlib.pyplot as plt\n",
    "import skimage\n",
    "ps.visualization.set_mpl_style()"
   ]
  },
  {
   "cell_type": "markdown",
   "id": "formed-drove",
   "metadata": {},
   "source": [
    "## Create image and variables"
   ]
  },
  {
   "cell_type": "code",
   "execution_count": 2,
   "id": "entire-david",
   "metadata": {
    "execution": {
     "iopub.execute_input": "2022-03-30T13:45:10.716261Z",
     "iopub.status.busy": "2022-03-30T13:45:10.715122Z",
     "iopub.status.idle": "2022-03-30T13:45:10.849613Z",
     "shell.execute_reply": "2022-03-30T13:45:10.849184Z"
    }
   },
   "outputs": [
    {
     "data": {
      "image/svg+xml": [
       "<?xml version=\"1.0\" encoding=\"utf-8\" standalone=\"no\"?>\n",
       "<!DOCTYPE svg PUBLIC \"-//W3C//DTD SVG 1.1//EN\"\n",
       "  \"http://www.w3.org/Graphics/SVG/1.1/DTD/svg11.dtd\">\n",
       "<svg xmlns:xlink=\"http://www.w3.org/1999/xlink\" width=\"492.48pt\" height=\"492.48pt\" viewBox=\"0 0 492.48 492.48\" xmlns=\"http://www.w3.org/2000/svg\" version=\"1.1\">\n",
       " <metadata>\n",
       "  <rdf:RDF xmlns:dc=\"http://purl.org/dc/elements/1.1/\" xmlns:cc=\"http://creativecommons.org/ns#\" xmlns:rdf=\"http://www.w3.org/1999/02/22-rdf-syntax-ns#\">\n",
       "   <cc:Work>\n",
       "    <dc:type rdf:resource=\"http://purl.org/dc/dcmitype/StillImage\"/>\n",
       "    <dc:date>2022-03-30T13:45:10.838973</dc:date>\n",
       "    <dc:format>image/svg+xml</dc:format>\n",
       "    <dc:creator>\n",
       "     <cc:Agent>\n",
       "      <dc:title>Matplotlib v3.5.1, https://matplotlib.org/</dc:title>\n",
       "     </cc:Agent>\n",
       "    </dc:creator>\n",
       "   </cc:Work>\n",
       "  </rdf:RDF>\n",
       " </metadata>\n",
       " <defs>\n",
       "  <style type=\"text/css\">*{stroke-linejoin: round; stroke-linecap: butt}</style>\n",
       " </defs>\n",
       " <g id=\"figure_1\">\n",
       "  <g id=\"patch_1\">\n",
       "   <path d=\"M 0 492.48 \n",
       "L 492.48 492.48 \n",
       "L 492.48 0 \n",
       "L 0 0 \n",
       "L 0 492.48 \n",
       "z\n",
       "\" style=\"fill: none\"/>\n",
       "  </g>\n",
       "  <g id=\"axes_1\">\n",
       "   <g clip-path=\"url(#pfde1874928)\">\n",
       "    <image xlink:href=\"data:image/png;base64,\n",
       "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\" id=\"image8048c631ca\" transform=\"matrix(4.79 0 0 -4.79 7.2 485.28)\" style=\"image-rendering:crisp-edges;image-rendering:pixelated\" width=\"100\" height=\"100\"/>\n",
       "   </g>\n",
       "  </g>\n",
       " </g>\n",
       " <defs>\n",
       "  <clipPath id=\"pfde1874928\">\n",
       "   <rect x=\"7.2\" y=\"7.2\" width=\"478.08\" height=\"478.08\"/>\n",
       "  </clipPath>\n",
       " </defs>\n",
       "</svg>\n"
      ],
      "text/plain": [
       "<Figure size 504x504 with 1 Axes>"
      ]
     },
     "metadata": {
      "needs_background": "light"
     },
     "output_type": "display_data"
    }
   ],
   "source": [
    "im = ps.generators.blobs([100, 100,100])\n",
    "\n",
    "fig, ax = plt.subplots(figsize=[7, 7]);\n",
    "ps.visualization.imshow(im);\n",
    "plt.axis(False);\n",
    "\n",
    "#default values:\n",
    "c=[50,50,50]\n",
    "r=50\n",
    "v=False\n",
    "overwrite=True"
   ]
  },
  {
   "cell_type": "markdown",
   "id": "entire-projection",
   "metadata": {},
   "source": [
    "## Apply tool"
   ]
  },
  {
   "cell_type": "code",
   "execution_count": 3,
   "id": "unlimited-illustration",
   "metadata": {
    "execution": {
     "iopub.execute_input": "2022-03-30T13:45:10.852526Z",
     "iopub.status.busy": "2022-03-30T13:45:10.852199Z",
     "iopub.status.idle": "2022-03-30T13:45:10.975032Z",
     "shell.execute_reply": "2022-03-30T13:45:10.974605Z"
    }
   },
   "outputs": [
    {
     "data": {
      "image/svg+xml": [
       "<?xml version=\"1.0\" encoding=\"utf-8\" standalone=\"no\"?>\n",
       "<!DOCTYPE svg PUBLIC \"-//W3C//DTD SVG 1.1//EN\"\n",
       "  \"http://www.w3.org/Graphics/SVG/1.1/DTD/svg11.dtd\">\n",
       "<svg xmlns:xlink=\"http://www.w3.org/1999/xlink\" width=\"492.48pt\" height=\"492.48pt\" viewBox=\"0 0 492.48 492.48\" xmlns=\"http://www.w3.org/2000/svg\" version=\"1.1\">\n",
       " <metadata>\n",
       "  <rdf:RDF xmlns:dc=\"http://purl.org/dc/elements/1.1/\" xmlns:cc=\"http://creativecommons.org/ns#\" xmlns:rdf=\"http://www.w3.org/1999/02/22-rdf-syntax-ns#\">\n",
       "   <cc:Work>\n",
       "    <dc:type rdf:resource=\"http://purl.org/dc/dcmitype/StillImage\"/>\n",
       "    <dc:date>2022-03-30T13:45:10.969095</dc:date>\n",
       "    <dc:format>image/svg+xml</dc:format>\n",
       "    <dc:creator>\n",
       "     <cc:Agent>\n",
       "      <dc:title>Matplotlib v3.5.1, https://matplotlib.org/</dc:title>\n",
       "     </cc:Agent>\n",
       "    </dc:creator>\n",
       "   </cc:Work>\n",
       "  </rdf:RDF>\n",
       " </metadata>\n",
       " <defs>\n",
       "  <style type=\"text/css\">*{stroke-linejoin: round; stroke-linecap: butt}</style>\n",
       " </defs>\n",
       " <g id=\"figure_1\">\n",
       "  <g id=\"patch_1\">\n",
       "   <path d=\"M 0 492.48 \n",
       "L 492.48 492.48 \n",
       "L 492.48 0 \n",
       "L 0 0 \n",
       "L 0 492.48 \n",
       "z\n",
       "\" style=\"fill: none\"/>\n",
       "  </g>\n",
       "  <g id=\"axes_1\">\n",
       "   <g clip-path=\"url(#p42682aaff8)\">\n",
       "    <image xlink:href=\"data:image/png;base64,\n",
       "iVBORw0KGgoAAAANSUhEUgAAAGQAAABkCAYAAABw4pVUAAAC4UlEQVR4nO2dXdKrIAyGxXFpXUKX2SV0b56LM85QP34CCZqW57lqrVLMSwgEB8NS4RGee+2cHO/9FTTlS66vlVsrQ3N/5/JzZbXcx6qpjGfe+ytIDKERfQRVQXorrPEOqTE9oPWwuJxHeO6im27905IxU2V5Mv4jPHfLbq61LLEhpJXIVcC7ED1obZIqY4sPaA0kvf7bhbAiJehaO8Hyj78pNtzFFn9p6W5aQAQ5PzvsHU1LI205F0E6sfD6VBlr6UcoM0IU02HvzKLW7CO1jVmXNbMYy5K//9aRpclMfXYxYiQz/RKqbOyyIIY1xS4LMa6nO4YgxhiKgpQC1ZjqzI04/Q46JAnc4xxm6hcgWeY9QJAbKK0N0WVdyFmIYi4LxnMWILlANWpRCtLURFlTB49jiHUNsZ3DqAfVoEzO7sQQZ2Q9BO+4jlgDPMQZSUHwjmv5sDejKV/QZXkFTwEAAAAAgKtg/uEMxPAFqRNnIIgzEMQZCOIMBHEGgjgDQQAAoBtSJ74gqDsDQZyBIM5AEGcgCAAA9PAIz50Y4gwEcQaCOANBnMBuQE5BEGesPErqCzzEAcmNA/ASH2z1U2A08cYBl7zQBeT8iSEE+XshqDsjKwhecg9/BOHFXffyIUgsxHt/Fbf/gzFsy8L+WF/BMdrCS2wx2WocUWyQ2DEpSG4fX4tKzUpsv5ItmYfchHjf3pJ6eEkfObuljm+1ExiB6WhtxF2vPAIZPT1Kdj2kJgbdVxmpfc7BXrXVuPYlir+KprGqR1l4yidae6gEObwDUf5jYQezecjsouRGqK3Z8+Kaei2+nH8/vs8UV6QNUZo9N0+xzyTGQcvAqGZvU0FmFGNZykaWjlaPz+SyDNA2xDjOIIgj3vsrmAoy+0grRXMuy/qhhl8URbty2nJt9VWgtddN5/ilAC/J81nZo1iwNsHYOsJouc4KydypdT6WQ3Jf2dbfa8yWSljeSC+1Bnj1PO0fZD263kalg3AAAAAASUVORK5CYII=\" id=\"imagec064f4ffe7\" transform=\"matrix(4.79 0 0 -4.79 7.2 485.28)\" style=\"image-rendering:crisp-edges;image-rendering:pixelated\" width=\"100\" height=\"100\"/>\n",
       "   </g>\n",
       "  </g>\n",
       " </g>\n",
       " <defs>\n",
       "  <clipPath id=\"p42682aaff8\">\n",
       "   <rect x=\"7.2\" y=\"7.2\" width=\"478.08\" height=\"478.08\"/>\n",
       "  </clipPath>\n",
       " </defs>\n",
       "</svg>\n"
      ],
      "text/plain": [
       "<Figure size 504x504 with 1 Axes>"
      ]
     },
     "metadata": {
      "needs_background": "light"
     },
     "output_type": "display_data"
    }
   ],
   "source": [
    "im = ps.tools.insert_sphere(im=im, c=c, r=r, v=v, overwrite=overwrite)\n",
    "fig, ax = plt.subplots(figsize=[7, 7]);\n",
    "ps.visualization.imshow(im);\n",
    "plt.axis(False);"
   ]
  }
 ],
 "metadata": {
  "kernelspec": {
   "display_name": "Python 3",
   "language": "python",
   "name": "python3"
  },
  "language_info": {
   "codemirror_mode": {
    "name": "ipython",
    "version": 3
   },
   "file_extension": ".py",
   "mimetype": "text/x-python",
   "name": "python",
   "nbconvert_exporter": "python",
   "pygments_lexer": "ipython3",
   "version": "3.8.13"
  }
 },
 "nbformat": 4,
 "nbformat_minor": 5
}
