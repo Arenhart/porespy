{
 "cells": [
  {
   "cell_type": "markdown",
   "id": "confident-salmon",
   "metadata": {},
   "source": [
    "# insert_sphere"
   ]
  },
  {
   "cell_type": "markdown",
   "id": "willing-advertiser",
   "metadata": {},
   "source": [
    "## Import packages"
   ]
  },
  {
   "cell_type": "code",
   "execution_count": 1,
   "id": "straight-pitch",
   "metadata": {
    "execution": {
     "iopub.execute_input": "2022-03-30T13:48:24.461878Z",
     "iopub.status.busy": "2022-03-30T13:48:24.461455Z",
     "iopub.status.idle": "2022-03-30T13:48:26.590592Z",
     "shell.execute_reply": "2022-03-30T13:48:26.589816Z"
    }
   },
   "outputs": [],
   "source": [
    "import numpy as np\n",
    "import porespy as ps\n",
    "import scipy.ndimage as spim\n",
    "import matplotlib.pyplot as plt\n",
    "import skimage\n",
    "ps.visualization.set_mpl_style()"
   ]
  },
  {
   "cell_type": "markdown",
   "id": "formed-drove",
   "metadata": {},
   "source": [
    "## Create image and variables"
   ]
  },
  {
   "cell_type": "code",
   "execution_count": 2,
   "id": "entire-david",
   "metadata": {
    "execution": {
     "iopub.execute_input": "2022-03-30T13:48:26.594418Z",
     "iopub.status.busy": "2022-03-30T13:48:26.594056Z",
     "iopub.status.idle": "2022-03-30T13:48:26.739638Z",
     "shell.execute_reply": "2022-03-30T13:48:26.739183Z"
    }
   },
   "outputs": [
    {
     "data": {
      "image/svg+xml": [
       "<?xml version=\"1.0\" encoding=\"utf-8\" standalone=\"no\"?>\n",
       "<!DOCTYPE svg PUBLIC \"-//W3C//DTD SVG 1.1//EN\"\n",
       "  \"http://www.w3.org/Graphics/SVG/1.1/DTD/svg11.dtd\">\n",
       "<svg xmlns:xlink=\"http://www.w3.org/1999/xlink\" width=\"492.48pt\" height=\"492.48pt\" viewBox=\"0 0 492.48 492.48\" xmlns=\"http://www.w3.org/2000/svg\" version=\"1.1\">\n",
       " <metadata>\n",
       "  <rdf:RDF xmlns:dc=\"http://purl.org/dc/elements/1.1/\" xmlns:cc=\"http://creativecommons.org/ns#\" xmlns:rdf=\"http://www.w3.org/1999/02/22-rdf-syntax-ns#\">\n",
       "   <cc:Work>\n",
       "    <dc:type rdf:resource=\"http://purl.org/dc/dcmitype/StillImage\"/>\n",
       "    <dc:date>2022-03-30T13:48:26.728307</dc:date>\n",
       "    <dc:format>image/svg+xml</dc:format>\n",
       "    <dc:creator>\n",
       "     <cc:Agent>\n",
       "      <dc:title>Matplotlib v3.5.1, https://matplotlib.org/</dc:title>\n",
       "     </cc:Agent>\n",
       "    </dc:creator>\n",
       "   </cc:Work>\n",
       "  </rdf:RDF>\n",
       " </metadata>\n",
       " <defs>\n",
       "  <style type=\"text/css\">*{stroke-linejoin: round; stroke-linecap: butt}</style>\n",
       " </defs>\n",
       " <g id=\"figure_1\">\n",
       "  <g id=\"patch_1\">\n",
       "   <path d=\"M 0 492.48 \n",
       "L 492.48 492.48 \n",
       "L 492.48 0 \n",
       "L 0 0 \n",
       "L 0 492.48 \n",
       "z\n",
       "\" style=\"fill: none\"/>\n",
       "  </g>\n",
       "  <g id=\"axes_1\">\n",
       "   <g clip-path=\"url(#p4748aabfeb)\">\n",
       "    <image xlink:href=\"data:image/png;base64,\n",
       "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\" id=\"imageb66b4e1980\" transform=\"matrix(4.79 0 0 -4.79 7.2 485.28)\" style=\"image-rendering:crisp-edges;image-rendering:pixelated\" width=\"100\" height=\"100\"/>\n",
       "   </g>\n",
       "  </g>\n",
       " </g>\n",
       " <defs>\n",
       "  <clipPath id=\"p4748aabfeb\">\n",
       "   <rect x=\"7.2\" y=\"7.2\" width=\"478.08\" height=\"478.08\"/>\n",
       "  </clipPath>\n",
       " </defs>\n",
       "</svg>\n"
      ],
      "text/plain": [
       "<Figure size 504x504 with 1 Axes>"
      ]
     },
     "metadata": {
      "needs_background": "light"
     },
     "output_type": "display_data"
    }
   ],
   "source": [
    "im = ps.generators.blobs([100, 100,100])\n",
    "\n",
    "fig, ax = plt.subplots(figsize=[7, 7]);\n",
    "ps.visualization.imshow(im);\n",
    "plt.axis(False);\n",
    "\n",
    "#default values:\n",
    "c=[50,50,50]\n",
    "r=50\n",
    "v=False\n",
    "overwrite=True"
   ]
  },
  {
   "cell_type": "markdown",
   "id": "entire-projection",
   "metadata": {},
   "source": [
    "## Apply tool"
   ]
  },
  {
   "cell_type": "code",
   "execution_count": 3,
   "id": "unlimited-illustration",
   "metadata": {
    "execution": {
     "iopub.execute_input": "2022-03-30T13:48:26.743351Z",
     "iopub.status.busy": "2022-03-30T13:48:26.743005Z",
     "iopub.status.idle": "2022-03-30T13:48:26.873342Z",
     "shell.execute_reply": "2022-03-30T13:48:26.872842Z"
    }
   },
   "outputs": [
    {
     "data": {
      "image/svg+xml": [
       "<?xml version=\"1.0\" encoding=\"utf-8\" standalone=\"no\"?>\n",
       "<!DOCTYPE svg PUBLIC \"-//W3C//DTD SVG 1.1//EN\"\n",
       "  \"http://www.w3.org/Graphics/SVG/1.1/DTD/svg11.dtd\">\n",
       "<svg xmlns:xlink=\"http://www.w3.org/1999/xlink\" width=\"492.48pt\" height=\"492.48pt\" viewBox=\"0 0 492.48 492.48\" xmlns=\"http://www.w3.org/2000/svg\" version=\"1.1\">\n",
       " <metadata>\n",
       "  <rdf:RDF xmlns:dc=\"http://purl.org/dc/elements/1.1/\" xmlns:cc=\"http://creativecommons.org/ns#\" xmlns:rdf=\"http://www.w3.org/1999/02/22-rdf-syntax-ns#\">\n",
       "   <cc:Work>\n",
       "    <dc:type rdf:resource=\"http://purl.org/dc/dcmitype/StillImage\"/>\n",
       "    <dc:date>2022-03-30T13:48:26.865814</dc:date>\n",
       "    <dc:format>image/svg+xml</dc:format>\n",
       "    <dc:creator>\n",
       "     <cc:Agent>\n",
       "      <dc:title>Matplotlib v3.5.1, https://matplotlib.org/</dc:title>\n",
       "     </cc:Agent>\n",
       "    </dc:creator>\n",
       "   </cc:Work>\n",
       "  </rdf:RDF>\n",
       " </metadata>\n",
       " <defs>\n",
       "  <style type=\"text/css\">*{stroke-linejoin: round; stroke-linecap: butt}</style>\n",
       " </defs>\n",
       " <g id=\"figure_1\">\n",
       "  <g id=\"patch_1\">\n",
       "   <path d=\"M 0 492.48 \n",
       "L 492.48 492.48 \n",
       "L 492.48 0 \n",
       "L 0 0 \n",
       "L 0 492.48 \n",
       "z\n",
       "\" style=\"fill: none\"/>\n",
       "  </g>\n",
       "  <g id=\"axes_1\">\n",
       "   <g clip-path=\"url(#p3e0433c389)\">\n",
       "    <image xlink:href=\"data:image/png;base64,\n",
       "iVBORw0KGgoAAAANSUhEUgAAAGQAAABkCAYAAABw4pVUAAACxElEQVR4nO3dWZLiMAyA4Ziao3EEjskRuFvmgUpXSLzJlmwF/u+xu7MgWfEyTByWnXt4rIvQa32G489azpM7X0zrNWrPb3HtGv96T3APj1XjQ0rNuGaN1/oMPQm7adyEZouxbH3WNBrJxwliwdhfpBSs4w3VBtdra68Re0L0NKpksHNBSl1Q2p9cIRGSuKSOkWjqQ1LPyVhrif3tFRJhLRWDsCy6rSB17KzOX8v2eVtHgbXHqXTqNa6cjGV537/kM7R+3lvL8+7KI6GRJAOijbhCSicmWWn38FhL8RElhGDryCXmlJCeZ730OfvrYklR69RJRJtjUkQJSQWdZKRJY9NdISSjLBej4++6VntJRj3ziSHJsNGUEJJhRzwPIRm2RH0IybCxH/pWVwizdBvZeci3Lp171TRTJxljZRNCMuxULy6WDkC/XGxvuT+kOmzk4noa9lIZcyUfWVSHrVR8h33JAXWiCaE6xojFufvL1tCxJUf139Qht8V7G0zRhzhyD4+1ai0LtvZxp0Kc+UsI1eEDFeJEcpSFeV7rM5AQZ0iIMyTEG5bbfaFCnCEhAAAAJpiH+MKw1xkSAgAAAACAF6fv9mI+EgIAAIAf8LG3B/+Lar7sy2cw3mliSFLmis7USco8LJ04wxvlnKFCnCm+BHPUjeCNCnGm6r29I24Eb1UVQlLG4d3vztCHOMM+hs6o7/SJT9J4ifY/32Opvky6w/SyJN5Kar2J+y9ojU9Xp05S4nriktxRR3ISHl9nrXuvqAx7qZSz5g3utW6ApOhQnRjWbOCOPJOZOklpZ7Z0QlLaqIyySr5pFFYzeorFz3y36JL9BPMb+pbez1B7rNqGLqkW8Fqff9+ObFlK8GBkY1KpkFKAj8sxV66YmsaU28K2dOz0mfo37yba0pdM3xRse6TNqhjL68biWLqe+03BtCvI+6PyP/LphWtVb3cxAAAAAElFTkSuQmCC\" id=\"image85bdc175d4\" transform=\"matrix(4.79 0 0 -4.79 7.2 485.28)\" style=\"image-rendering:crisp-edges;image-rendering:pixelated\" width=\"100\" height=\"100\"/>\n",
       "   </g>\n",
       "  </g>\n",
       " </g>\n",
       " <defs>\n",
       "  <clipPath id=\"p3e0433c389\">\n",
       "   <rect x=\"7.2\" y=\"7.2\" width=\"478.08\" height=\"478.08\"/>\n",
       "  </clipPath>\n",
       " </defs>\n",
       "</svg>\n"
      ],
      "text/plain": [
       "<Figure size 504x504 with 1 Axes>"
      ]
     },
     "metadata": {
      "needs_background": "light"
     },
     "output_type": "display_data"
    }
   ],
   "source": [
    "im = ps.tools.insert_sphere(im=im, c=c, r=r, v=v, overwrite=overwrite)\n",
    "fig, ax = plt.subplots(figsize=[7, 7]);\n",
    "ps.visualization.imshow(im);\n",
    "plt.axis(False);"
   ]
  }
 ],
 "metadata": {
  "kernelspec": {
   "display_name": "Python 3",
   "language": "python",
   "name": "python3"
  },
  "language_info": {
   "codemirror_mode": {
    "name": "ipython",
    "version": 3
   },
   "file_extension": ".py",
   "mimetype": "text/x-python",
   "name": "python",
   "nbconvert_exporter": "python",
   "pygments_lexer": "ipython3",
   "version": "3.8.13"
  }
 },
 "nbformat": 4,
 "nbformat_minor": 5
}
