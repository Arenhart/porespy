{
 "cells": [
  {
   "cell_type": "markdown",
   "id": "confident-salmon",
   "metadata": {},
   "source": [
    "# `insert_sphere`"
   ]
  },
  {
   "cell_type": "markdown",
   "id": "willing-advertiser",
   "metadata": {},
   "source": [
    "## Import packages"
   ]
  },
  {
   "cell_type": "code",
   "execution_count": 1,
   "id": "straight-pitch",
   "metadata": {
    "execution": {
     "iopub.execute_input": "2022-04-26T09:12:30.941038Z",
     "iopub.status.busy": "2022-04-26T09:12:30.940179Z",
     "iopub.status.idle": "2022-04-26T09:12:33.017933Z",
     "shell.execute_reply": "2022-04-26T09:12:33.017091Z"
    }
   },
   "outputs": [],
   "source": [
    "import numpy as np\n",
    "import porespy as ps\n",
    "import scipy.ndimage as spim\n",
    "import matplotlib.pyplot as plt\n",
    "import skimage\n",
    "ps.visualization.set_mpl_style()"
   ]
  },
  {
   "cell_type": "markdown",
   "id": "formed-drove",
   "metadata": {},
   "source": [
    "## Create image and variables"
   ]
  },
  {
   "cell_type": "code",
   "execution_count": 2,
   "id": "entire-david",
   "metadata": {
    "execution": {
     "iopub.execute_input": "2022-04-26T09:12:33.022912Z",
     "iopub.status.busy": "2022-04-26T09:12:33.022471Z",
     "iopub.status.idle": "2022-04-26T09:12:33.167982Z",
     "shell.execute_reply": "2022-04-26T09:12:33.167422Z"
    }
   },
   "outputs": [
    {
     "data": {
      "image/svg+xml": [
       "<?xml version=\"1.0\" encoding=\"utf-8\" standalone=\"no\"?>\n",
       "<!DOCTYPE svg PUBLIC \"-//W3C//DTD SVG 1.1//EN\"\n",
       "  \"http://www.w3.org/Graphics/SVG/1.1/DTD/svg11.dtd\">\n",
       "<svg xmlns:xlink=\"http://www.w3.org/1999/xlink\" width=\"492.48pt\" height=\"492.48pt\" viewBox=\"0 0 492.48 492.48\" xmlns=\"http://www.w3.org/2000/svg\" version=\"1.1\">\n",
       " <metadata>\n",
       "  <rdf:RDF xmlns:dc=\"http://purl.org/dc/elements/1.1/\" xmlns:cc=\"http://creativecommons.org/ns#\" xmlns:rdf=\"http://www.w3.org/1999/02/22-rdf-syntax-ns#\">\n",
       "   <cc:Work>\n",
       "    <dc:type rdf:resource=\"http://purl.org/dc/dcmitype/StillImage\"/>\n",
       "    <dc:date>2022-04-26T09:12:33.154047</dc:date>\n",
       "    <dc:format>image/svg+xml</dc:format>\n",
       "    <dc:creator>\n",
       "     <cc:Agent>\n",
       "      <dc:title>Matplotlib v3.5.1, https://matplotlib.org/</dc:title>\n",
       "     </cc:Agent>\n",
       "    </dc:creator>\n",
       "   </cc:Work>\n",
       "  </rdf:RDF>\n",
       " </metadata>\n",
       " <defs>\n",
       "  <style type=\"text/css\">*{stroke-linejoin: round; stroke-linecap: butt}</style>\n",
       " </defs>\n",
       " <g id=\"figure_1\">\n",
       "  <g id=\"patch_1\">\n",
       "   <path d=\"M 0 492.48 \n",
       "L 492.48 492.48 \n",
       "L 492.48 0 \n",
       "L 0 0 \n",
       "L 0 492.48 \n",
       "z\n",
       "\" style=\"fill: none\"/>\n",
       "  </g>\n",
       "  <g id=\"axes_1\">\n",
       "   <g clip-path=\"url(#p9912b56171)\">\n",
       "    <image xlink:href=\"data:image/png;base64,\n",
       "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\" id=\"image64587a6e04\" transform=\"matrix(4.79 0 0 -4.79 7.2 485.28)\" style=\"image-rendering:crisp-edges;image-rendering:pixelated\" width=\"100\" height=\"100\"/>\n",
       "   </g>\n",
       "  </g>\n",
       " </g>\n",
       " <defs>\n",
       "  <clipPath id=\"p9912b56171\">\n",
       "   <rect x=\"7.2\" y=\"7.2\" width=\"478.08\" height=\"478.08\"/>\n",
       "  </clipPath>\n",
       " </defs>\n",
       "</svg>\n"
      ],
      "text/plain": [
       "<Figure size 504x504 with 1 Axes>"
      ]
     },
     "metadata": {
      "needs_background": "light"
     },
     "output_type": "display_data"
    }
   ],
   "source": [
    "im = ps.generators.blobs([100, 100,100])\n",
    "\n",
    "fig, ax = plt.subplots(figsize=[7, 7]);\n",
    "ps.visualization.imshow(im);\n",
    "plt.axis(False);\n",
    "\n",
    "#default values:\n",
    "c=[50,50,50]\n",
    "r=50\n",
    "v=False\n",
    "overwrite=True"
   ]
  },
  {
   "cell_type": "markdown",
   "id": "entire-projection",
   "metadata": {},
   "source": [
    "## Apply tool"
   ]
  },
  {
   "cell_type": "code",
   "execution_count": 3,
   "id": "unlimited-illustration",
   "metadata": {
    "execution": {
     "iopub.execute_input": "2022-04-26T09:12:33.170891Z",
     "iopub.status.busy": "2022-04-26T09:12:33.170625Z",
     "iopub.status.idle": "2022-04-26T09:12:33.299997Z",
     "shell.execute_reply": "2022-04-26T09:12:33.299453Z"
    }
   },
   "outputs": [
    {
     "data": {
      "image/svg+xml": [
       "<?xml version=\"1.0\" encoding=\"utf-8\" standalone=\"no\"?>\n",
       "<!DOCTYPE svg PUBLIC \"-//W3C//DTD SVG 1.1//EN\"\n",
       "  \"http://www.w3.org/Graphics/SVG/1.1/DTD/svg11.dtd\">\n",
       "<svg xmlns:xlink=\"http://www.w3.org/1999/xlink\" width=\"492.48pt\" height=\"492.48pt\" viewBox=\"0 0 492.48 492.48\" xmlns=\"http://www.w3.org/2000/svg\" version=\"1.1\">\n",
       " <metadata>\n",
       "  <rdf:RDF xmlns:dc=\"http://purl.org/dc/elements/1.1/\" xmlns:cc=\"http://creativecommons.org/ns#\" xmlns:rdf=\"http://www.w3.org/1999/02/22-rdf-syntax-ns#\">\n",
       "   <cc:Work>\n",
       "    <dc:type rdf:resource=\"http://purl.org/dc/dcmitype/StillImage\"/>\n",
       "    <dc:date>2022-04-26T09:12:33.293052</dc:date>\n",
       "    <dc:format>image/svg+xml</dc:format>\n",
       "    <dc:creator>\n",
       "     <cc:Agent>\n",
       "      <dc:title>Matplotlib v3.5.1, https://matplotlib.org/</dc:title>\n",
       "     </cc:Agent>\n",
       "    </dc:creator>\n",
       "   </cc:Work>\n",
       "  </rdf:RDF>\n",
       " </metadata>\n",
       " <defs>\n",
       "  <style type=\"text/css\">*{stroke-linejoin: round; stroke-linecap: butt}</style>\n",
       " </defs>\n",
       " <g id=\"figure_1\">\n",
       "  <g id=\"patch_1\">\n",
       "   <path d=\"M 0 492.48 \n",
       "L 492.48 492.48 \n",
       "L 492.48 0 \n",
       "L 0 0 \n",
       "L 0 492.48 \n",
       "z\n",
       "\" style=\"fill: none\"/>\n",
       "  </g>\n",
       "  <g id=\"axes_1\">\n",
       "   <g clip-path=\"url(#p01359f0de3)\">\n",
       "    <image xlink:href=\"data:image/png;base64,\n",
       "iVBORw0KGgoAAAANSUhEUgAAAGQAAABkCAYAAABw4pVUAAACfUlEQVR4nO3dWXLDIBBFUXBlaVqClukleG/Kh0spgplpUFvc85tocD81GjxgN7sfJuF1PG3q76Hl/WVi28itOye37zm92/f17o8xxvzM2IHX8bTu/0oVomU97n5sdj+kQ+mVDURqp7W8cC37EfMo+SeJVrw7qRoVBVJrtQBLzsOlndkVSGojq4US49aoJJTuDtE+JmuT6pbX8bQiQ1ZsA6t0SarANctsdj+GnENKduhu/Nfa+tptyVFcsnJ/PSuF0cOvm0iHEIac7I1hzaMTgujX1SGE0c+vW3MghCHHrZ81pu1p7LkMYcgKXgsbQ6F7tV7oUPSBWkIZemO4utI36lwEMljt0E8gE9SEQiDKJMc4rrTmS96HGEMosz1Wec/iW3AOUSYZCMPVfHSIMtFA6I5r0CEX2ux+FL2FS3fMEaozHaKA2yUfnzqhO+ZzM6BDlPkXCN1xDbfudIgyf4HQHToQghI85FVos/vB43dlHsbQLppwlaUN3QEAAAAAAAAAAAAAwIfhP4KJegSiDIEoQyBKnB/HIhBlCEQZAlGGQBTgS5/K8O01AAAAAADUCv3uH67z9yyLUK4xZB5DtDnDaHray9A2R/UE9wRTrqVO2UBiKyWUtNBwFFP8m4u5lRFKmF+X1DyRyZk+/aGpZeOr663HR4e0nCMI5U2iDmKXvauHIjVtVHb67horTtsqfSAOuTFcpVtqr6BKDLtTv3so0mGc5+7s9NwS7jSE9QRRsmyyUNJH+bcH03rirqljUYHolrfSQHrqVTXGtW7E9c2BGDN+1Iie1HmIOF7o4Azeh7Q8Qunlbudbuujcz5YaxV6j6I2hlJHzYvWse8bB+QvQt103KeHhhwAAAABJRU5ErkJggg==\" id=\"image0a2a23441a\" transform=\"matrix(4.79 0 0 -4.79 7.2 485.28)\" style=\"image-rendering:crisp-edges;image-rendering:pixelated\" width=\"100\" height=\"100\"/>\n",
       "   </g>\n",
       "  </g>\n",
       " </g>\n",
       " <defs>\n",
       "  <clipPath id=\"p01359f0de3\">\n",
       "   <rect x=\"7.2\" y=\"7.2\" width=\"478.08\" height=\"478.08\"/>\n",
       "  </clipPath>\n",
       " </defs>\n",
       "</svg>\n"
      ],
      "text/plain": [
       "<Figure size 504x504 with 1 Axes>"
      ]
     },
     "metadata": {
      "needs_background": "light"
     },
     "output_type": "display_data"
    }
   ],
   "source": [
    "im = ps.tools.insert_sphere(im=im, c=c, r=r, v=v, overwrite=overwrite)\n",
    "fig, ax = plt.subplots(figsize=[7, 7]);\n",
    "ps.visualization.imshow(im);\n",
    "plt.axis(False);"
   ]
  }
 ],
 "metadata": {
  "kernelspec": {
   "display_name": "Python 3 (ipykernel)",
   "language": "python",
   "name": "python3"
  },
  "language_info": {
   "codemirror_mode": {
    "name": "ipython",
    "version": 3
   },
   "file_extension": ".py",
   "mimetype": "text/x-python",
   "name": "python",
   "nbconvert_exporter": "python",
   "pygments_lexer": "ipython3",
   "version": "3.8.13"
  }
 },
 "nbformat": 4,
 "nbformat_minor": 5
}
