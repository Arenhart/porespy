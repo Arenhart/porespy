{
 "cells": [
  {
   "cell_type": "markdown",
   "id": "confident-salmon",
   "metadata": {},
   "source": [
    "# insert_sphere"
   ]
  },
  {
   "cell_type": "markdown",
   "id": "willing-advertiser",
   "metadata": {},
   "source": [
    "## Import packages"
   ]
  },
  {
   "cell_type": "code",
   "execution_count": 1,
   "id": "straight-pitch",
   "metadata": {
    "execution": {
     "iopub.execute_input": "2022-04-01T17:08:13.629369Z",
     "iopub.status.busy": "2022-04-01T17:08:13.628891Z",
     "iopub.status.idle": "2022-04-01T17:08:15.882359Z",
     "shell.execute_reply": "2022-04-01T17:08:15.881537Z"
    }
   },
   "outputs": [],
   "source": [
    "import numpy as np\n",
    "import porespy as ps\n",
    "import scipy.ndimage as spim\n",
    "import matplotlib.pyplot as plt\n",
    "import skimage\n",
    "ps.visualization.set_mpl_style()"
   ]
  },
  {
   "cell_type": "markdown",
   "id": "formed-drove",
   "metadata": {},
   "source": [
    "## Create image and variables"
   ]
  },
  {
   "cell_type": "code",
   "execution_count": 2,
   "id": "entire-david",
   "metadata": {
    "execution": {
     "iopub.execute_input": "2022-04-01T17:08:15.886638Z",
     "iopub.status.busy": "2022-04-01T17:08:15.886187Z",
     "iopub.status.idle": "2022-04-01T17:08:16.035303Z",
     "shell.execute_reply": "2022-04-01T17:08:16.034649Z"
    }
   },
   "outputs": [
    {
     "data": {
      "image/svg+xml": [
       "<?xml version=\"1.0\" encoding=\"utf-8\" standalone=\"no\"?>\n",
       "<!DOCTYPE svg PUBLIC \"-//W3C//DTD SVG 1.1//EN\"\n",
       "  \"http://www.w3.org/Graphics/SVG/1.1/DTD/svg11.dtd\">\n",
       "<svg xmlns:xlink=\"http://www.w3.org/1999/xlink\" width=\"492.48pt\" height=\"492.48pt\" viewBox=\"0 0 492.48 492.48\" xmlns=\"http://www.w3.org/2000/svg\" version=\"1.1\">\n",
       " <metadata>\n",
       "  <rdf:RDF xmlns:dc=\"http://purl.org/dc/elements/1.1/\" xmlns:cc=\"http://creativecommons.org/ns#\" xmlns:rdf=\"http://www.w3.org/1999/02/22-rdf-syntax-ns#\">\n",
       "   <cc:Work>\n",
       "    <dc:type rdf:resource=\"http://purl.org/dc/dcmitype/StillImage\"/>\n",
       "    <dc:date>2022-04-01T17:08:16.022397</dc:date>\n",
       "    <dc:format>image/svg+xml</dc:format>\n",
       "    <dc:creator>\n",
       "     <cc:Agent>\n",
       "      <dc:title>Matplotlib v3.5.1, https://matplotlib.org/</dc:title>\n",
       "     </cc:Agent>\n",
       "    </dc:creator>\n",
       "   </cc:Work>\n",
       "  </rdf:RDF>\n",
       " </metadata>\n",
       " <defs>\n",
       "  <style type=\"text/css\">*{stroke-linejoin: round; stroke-linecap: butt}</style>\n",
       " </defs>\n",
       " <g id=\"figure_1\">\n",
       "  <g id=\"patch_1\">\n",
       "   <path d=\"M 0 492.48 \n",
       "L 492.48 492.48 \n",
       "L 492.48 0 \n",
       "L 0 0 \n",
       "L 0 492.48 \n",
       "z\n",
       "\" style=\"fill: none\"/>\n",
       "  </g>\n",
       "  <g id=\"axes_1\">\n",
       "   <g clip-path=\"url(#pb59cc4a164)\">\n",
       "    <image xlink:href=\"data:image/png;base64,\n",
       "iVBORw0KGgoAAAANSUhEUgAAAGQAAABkCAYAAABw4pVUAAAFe0lEQVR4nO1dWXLDMAjFnR4tR8gxc4Tczf1Sx1Fkie0BTvu+0oyDBEiITe5GTNy2+94+P/fHtnpGgjN6EtojGme/6Z+d0ebMbQapTL64Dx4nphU8ChJlVAdbIT2iGbau1COOc0fyoaEtYtLDBHB+L5kDcndEmysiom/LgMeBj5N/7o8NtfJmQrqqmTqCrZAMAXPxCYpoUJ8hK3AE/a+MVzz3x+amEIlgnvtj8zykUbAqW8Jje5alEO7E2nO37b5HrNwrjCFdeO4m65NMiBckFmGpkL8kYLQZPaN//N6cstCi2oEeeabNYqmp2zti2BoE/mOu/FOT9S/oeNy2+/7dR9kR8BoPmRHgQpOFntF5Y2jFZGTeSgpk+t9CfzZGT1O1wiwrM2I3SoNUBF0txDvEgmjTyHFKrPS88eJlXSGdIYE3P40eUjFDLwuhmGpxhwXIhTs0WUSYA8wCTk0/GogFchqHaJlGK2P0dxYQvE5zWVVW4ghRGeVobFJT4BUIWcbgIDM3ZcHvDuEygC4ueTF31d3z5S1giyCuKkRP+cHaXLSTvGpKfQQuL6J6iGVAL4Fw+sEkUXl/bqJdak4vWQO8EQxhDiW9xdo+ZKQZV9VDRoSy4Xnerej07aZRsmB1AVZYZStoz7OotlOuWRyWcD0iY5QyRoxV28krzIqCLvc8JFcVMhqY0dcVtAWu0e9c+7I4TFZIeWSNz1FcSiup5nkvZC+GlVJcFKJlMlo42crg4E0hlYVkOT+uoAyiTiGVzQhSGZb4xrtGn97XdIRnV6TW80O3Na2yCS5X2ryQcTcwOwFJ9JoScvOyPNIaHsKJauTT8Luay22777ArbVI05hqjUTkrzW+Q542byUJ0Mkptu1RQFcxVj2WTQ5VJo5reqoHVBlRl8lHzQHqeqkh99KMqSjkD1/StnkXFRFyIDvUKSrEeqBG1EQ3a8VDGy4pAZWW0z0OFnE2uUlTvBW05wCuL0C8S9h1DhDIyTSCqLiNp/Rnxn5LL8mw31dCK4lkzt1CFVHAKiGJNr5TnsORiFWVwYMn+WvEndwiRrHlt9DwXZXdINURG/aMM9GkbUPSW5DbdWZ/zROSt5BJeVuULOmj59PO+VAPACt5K4XTdr57l4KWEa1UGuqvD2+OxmjzUdYVG1/UVGd5KkTZ5a3NVEl7Q+TBVchF9kFa4ZpdVgnB1e/vbSFoaXvMhin0BAof/lQl2T79nJwxnf2djVCjrv4MEhpl1h2pKaFhVNNu8wyP11baeRbGo+UieR3qT074s5Cr37oeNgmVsbhvTm0KOdg25UiskGiVziFgIbzsk2tWrYi5WY0aOm97kwG3RySi3eo+5OjuJCiiEyL+fV4Loho4R3eN3p2+UWxGKFl5Vd9Ybwyttq0slFQ7kT4XoVeNZivgru4OI8TJ+z5ghqmUHUQCLAjsZ2EfY2qYAjlIQCcGrKMWUndUwj1IIWtEe4NRdTLms6LwTke0c8ygPWMbmfB8ah3CFyZ08cg5ZKNu52NfqPQWZ2Zm4AmSHSG4scWhl5tOid5TZPaxuAjiQxFzokrBL58iVlWIJgBEvJXANoKorBnHXnUuXSxsa0WrqHUilohQiGWNFH55isLT5R7cEeY1nGefXy4rM/7fvq7mcUZjxzfbHM3z3jKa5s8Qkotw8vI6wIpKZrKvUxUjk3xQxojeN1Kt7TRZoUvQRuTv1/6C6orJmtfsq/LztkCoT0yLSa0PA9I8lM9LZn+KZncnanO2NKpdWUIRXSmVGJzUqngHlZmu9Rg9lcGjAClRaez06dNG2n+thWcbg8lDmxQFRB24F0zcDtIRrLdlqaCERkZyE19Q/MZ5BIqTJwUPoq8Myq1nbG2FdJ6hbU5/W9P0DOY3yGS96UwEAAAAASUVORK5CYII=\" id=\"imageca2de9864e\" transform=\"matrix(4.79 0 0 -4.79 7.2 485.28)\" style=\"image-rendering:crisp-edges;image-rendering:pixelated\" width=\"100\" height=\"100\"/>\n",
       "   </g>\n",
       "  </g>\n",
       " </g>\n",
       " <defs>\n",
       "  <clipPath id=\"pb59cc4a164\">\n",
       "   <rect x=\"7.2\" y=\"7.2\" width=\"478.08\" height=\"478.08\"/>\n",
       "  </clipPath>\n",
       " </defs>\n",
       "</svg>\n"
      ],
      "text/plain": [
       "<Figure size 504x504 with 1 Axes>"
      ]
     },
     "metadata": {
      "needs_background": "light"
     },
     "output_type": "display_data"
    }
   ],
   "source": [
    "im = ps.generators.blobs([100, 100,100])\n",
    "\n",
    "fig, ax = plt.subplots(figsize=[7, 7]);\n",
    "ps.visualization.imshow(im);\n",
    "plt.axis(False);\n",
    "\n",
    "#default values:\n",
    "c=[50,50,50]\n",
    "r=50\n",
    "v=False\n",
    "overwrite=True"
   ]
  },
  {
   "cell_type": "markdown",
   "id": "entire-projection",
   "metadata": {},
   "source": [
    "## Apply tool"
   ]
  },
  {
   "cell_type": "code",
   "execution_count": 3,
   "id": "unlimited-illustration",
   "metadata": {
    "execution": {
     "iopub.execute_input": "2022-04-01T17:08:16.039186Z",
     "iopub.status.busy": "2022-04-01T17:08:16.038864Z",
     "iopub.status.idle": "2022-04-01T17:08:16.167144Z",
     "shell.execute_reply": "2022-04-01T17:08:16.166569Z"
    }
   },
   "outputs": [
    {
     "data": {
      "image/svg+xml": [
       "<?xml version=\"1.0\" encoding=\"utf-8\" standalone=\"no\"?>\n",
       "<!DOCTYPE svg PUBLIC \"-//W3C//DTD SVG 1.1//EN\"\n",
       "  \"http://www.w3.org/Graphics/SVG/1.1/DTD/svg11.dtd\">\n",
       "<svg xmlns:xlink=\"http://www.w3.org/1999/xlink\" width=\"492.48pt\" height=\"492.48pt\" viewBox=\"0 0 492.48 492.48\" xmlns=\"http://www.w3.org/2000/svg\" version=\"1.1\">\n",
       " <metadata>\n",
       "  <rdf:RDF xmlns:dc=\"http://purl.org/dc/elements/1.1/\" xmlns:cc=\"http://creativecommons.org/ns#\" xmlns:rdf=\"http://www.w3.org/1999/02/22-rdf-syntax-ns#\">\n",
       "   <cc:Work>\n",
       "    <dc:type rdf:resource=\"http://purl.org/dc/dcmitype/StillImage\"/>\n",
       "    <dc:date>2022-04-01T17:08:16.159821</dc:date>\n",
       "    <dc:format>image/svg+xml</dc:format>\n",
       "    <dc:creator>\n",
       "     <cc:Agent>\n",
       "      <dc:title>Matplotlib v3.5.1, https://matplotlib.org/</dc:title>\n",
       "     </cc:Agent>\n",
       "    </dc:creator>\n",
       "   </cc:Work>\n",
       "  </rdf:RDF>\n",
       " </metadata>\n",
       " <defs>\n",
       "  <style type=\"text/css\">*{stroke-linejoin: round; stroke-linecap: butt}</style>\n",
       " </defs>\n",
       " <g id=\"figure_1\">\n",
       "  <g id=\"patch_1\">\n",
       "   <path d=\"M 0 492.48 \n",
       "L 492.48 492.48 \n",
       "L 492.48 0 \n",
       "L 0 0 \n",
       "L 0 492.48 \n",
       "z\n",
       "\" style=\"fill: none\"/>\n",
       "  </g>\n",
       "  <g id=\"axes_1\">\n",
       "   <g clip-path=\"url(#p0f1cf05510)\">\n",
       "    <image xlink:href=\"data:image/png;base64,\n",
       "iVBORw0KGgoAAAANSUhEUgAAAGQAAABkCAYAAABw4pVUAAAC4klEQVR4nO2da26sMAxGyegujSWwTJbA3nJ/UVHIw04M8ZRzpEpVJ2SCP2wngeIwCZnDEvfft7iGWhsNuf40faf6yB1zblvqWzK2Elqb/JM23OIa9s7nsMTegWpp+T6NSF74tB7o/cRyaLyjl5a+VVedRQiQHD8SSWhu6UtKs4eUvlh6Iltcgycxpmn8mMQ5xNK1vYmQYtQYTTwkReqERl993tniGswEqU0d3yiE5pz3tqIDNOHqOD1+owgpJPbbbWUeshDjiiZCVAVpSeaIkSZnl+PfTT3krblCQ80+xQ9T3pFbBCKEDVkP0SZym+G8mzks8dO74EOMK3NY4v6jOWaapimktj3u3I5+C9LtpHO7ovFzIIoMk81FjG1Hiy1/CSLpAMF0aO2VnGVJFjAgR2O3X4J8613Av0R2HXJWFe/ow2Qva+8EMWyQ2LGa1BHDlpo9P9KG8AyIMIjcBEr8kAPcB9EJAAAAAAAAAECG9vkhuJfb/mEH2kAQR8xhiTzY4Aw8xBkI4gwEcQaCOANBnIEgzkAQZyCIMxDEGQjiDARxBoI4A0GcgSDOQBCAItyg8gUhyxmfacJLvDCHJeIhzkAQZyCIM34EIY/4AA9xhOmrxqEfZlkOQRAn7DkcQRxwnFDxRrnBnG1+8RBEGUsyZCHKM6TsTA5xhsnL+EFPzr54yCBytVaq737nbWfPgoc445YaVNCOyEMQ5TlURYXJJ+1IS56ry1XAvaj2sghdbWjspp5lIYqOo70ktmua9iKKjJSdarZrfsgBUcqU7FP6TOwh+1L/mPgRpZ3qXlap7lSp2g6i2CKqsFMDUewQ16CqfY4oNlzqh/QsDqkc3U/XSl1a3xWu5GxnfiUfxXirp/TsCd5msLcK01tp+7YbVOep8beHsafqzj9aFOwbk/7TF9Lthul14VHkxi0Zc+pYk9KrFpQG4jGMjQ6vj4SsLa7Vp1tG4W1cj+UQL6L0jkF6K7aV/69inlTJ5jp7AAAAAElFTkSuQmCC\" id=\"image50db47f37d\" transform=\"matrix(4.79 0 0 -4.79 7.2 485.28)\" style=\"image-rendering:crisp-edges;image-rendering:pixelated\" width=\"100\" height=\"100\"/>\n",
       "   </g>\n",
       "  </g>\n",
       " </g>\n",
       " <defs>\n",
       "  <clipPath id=\"p0f1cf05510\">\n",
       "   <rect x=\"7.2\" y=\"7.2\" width=\"478.08\" height=\"478.08\"/>\n",
       "  </clipPath>\n",
       " </defs>\n",
       "</svg>\n"
      ],
      "text/plain": [
       "<Figure size 504x504 with 1 Axes>"
      ]
     },
     "metadata": {
      "needs_background": "light"
     },
     "output_type": "display_data"
    }
   ],
   "source": [
    "im = ps.tools.insert_sphere(im=im, c=c, r=r, v=v, overwrite=overwrite)\n",
    "fig, ax = plt.subplots(figsize=[7, 7]);\n",
    "ps.visualization.imshow(im);\n",
    "plt.axis(False);"
   ]
  }
 ],
 "metadata": {
  "kernelspec": {
   "display_name": "Python 3",
   "language": "python",
   "name": "python3"
  },
  "language_info": {
   "codemirror_mode": {
    "name": "ipython",
    "version": 3
   },
   "file_extension": ".py",
   "mimetype": "text/x-python",
   "name": "python",
   "nbconvert_exporter": "python",
   "pygments_lexer": "ipython3",
   "version": "3.8.13"
  }
 },
 "nbformat": 4,
 "nbformat_minor": 5
}
