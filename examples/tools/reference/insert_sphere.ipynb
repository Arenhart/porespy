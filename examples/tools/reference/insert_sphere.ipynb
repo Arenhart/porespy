{
 "cells": [
  {
   "cell_type": "markdown",
   "id": "confident-salmon",
   "metadata": {},
   "source": [
    "# `insert_sphere`"
   ]
  },
  {
   "cell_type": "markdown",
   "id": "willing-advertiser",
   "metadata": {},
   "source": [
    "## Import packages"
   ]
  },
  {
   "cell_type": "code",
   "execution_count": 1,
   "id": "straight-pitch",
   "metadata": {
    "execution": {
     "iopub.execute_input": "2022-04-20T14:18:17.089561Z",
     "iopub.status.busy": "2022-04-20T14:18:17.089193Z",
     "iopub.status.idle": "2022-04-20T14:18:19.104764Z",
     "shell.execute_reply": "2022-04-20T14:18:19.104124Z"
    }
   },
   "outputs": [],
   "source": [
    "import numpy as np\n",
    "import porespy as ps\n",
    "import scipy.ndimage as spim\n",
    "import matplotlib.pyplot as plt\n",
    "import skimage\n",
    "ps.visualization.set_mpl_style()"
   ]
  },
  {
   "cell_type": "markdown",
   "id": "formed-drove",
   "metadata": {},
   "source": [
    "## Create image and variables"
   ]
  },
  {
   "cell_type": "code",
   "execution_count": 2,
   "id": "entire-david",
   "metadata": {
    "execution": {
     "iopub.execute_input": "2022-04-20T14:18:19.109368Z",
     "iopub.status.busy": "2022-04-20T14:18:19.108446Z",
     "iopub.status.idle": "2022-04-20T14:18:19.268761Z",
     "shell.execute_reply": "2022-04-20T14:18:19.268327Z"
    }
   },
   "outputs": [
    {
     "data": {
      "image/svg+xml": [
       "<?xml version=\"1.0\" encoding=\"utf-8\" standalone=\"no\"?>\n",
       "<!DOCTYPE svg PUBLIC \"-//W3C//DTD SVG 1.1//EN\"\n",
       "  \"http://www.w3.org/Graphics/SVG/1.1/DTD/svg11.dtd\">\n",
       "<svg xmlns:xlink=\"http://www.w3.org/1999/xlink\" width=\"492.48pt\" height=\"492.48pt\" viewBox=\"0 0 492.48 492.48\" xmlns=\"http://www.w3.org/2000/svg\" version=\"1.1\">\n",
       " <metadata>\n",
       "  <rdf:RDF xmlns:dc=\"http://purl.org/dc/elements/1.1/\" xmlns:cc=\"http://creativecommons.org/ns#\" xmlns:rdf=\"http://www.w3.org/1999/02/22-rdf-syntax-ns#\">\n",
       "   <cc:Work>\n",
       "    <dc:type rdf:resource=\"http://purl.org/dc/dcmitype/StillImage\"/>\n",
       "    <dc:date>2022-04-20T14:18:19.244916</dc:date>\n",
       "    <dc:format>image/svg+xml</dc:format>\n",
       "    <dc:creator>\n",
       "     <cc:Agent>\n",
       "      <dc:title>Matplotlib v3.5.1, https://matplotlib.org/</dc:title>\n",
       "     </cc:Agent>\n",
       "    </dc:creator>\n",
       "   </cc:Work>\n",
       "  </rdf:RDF>\n",
       " </metadata>\n",
       " <defs>\n",
       "  <style type=\"text/css\">*{stroke-linejoin: round; stroke-linecap: butt}</style>\n",
       " </defs>\n",
       " <g id=\"figure_1\">\n",
       "  <g id=\"patch_1\">\n",
       "   <path d=\"M 0 492.48 \n",
       "L 492.48 492.48 \n",
       "L 492.48 0 \n",
       "L 0 0 \n",
       "L 0 492.48 \n",
       "z\n",
       "\" style=\"fill: none\"/>\n",
       "  </g>\n",
       "  <g id=\"axes_1\">\n",
       "   <g clip-path=\"url(#p3a8e007ddd)\">\n",
       "    <image xlink:href=\"data:image/png;base64,\n",
       "iVBORw0KGgoAAAANSUhEUgAAAGQAAABkCAYAAABw4pVUAAAFmUlEQVR4nO1dWY7bMAyVgxwtR8gxe4S5m/vlwuNo4fIeySR9QIHOxKaWJ4mrMttje+4/+5+ttdYe23NvJBxtrIDqQ689iWxpP2fyNDKuuM8Efxs8E4nCLbsDLPQWWcSEe9u4ozoyQ/RxlQEU2XRCKhwDB2aEW/qJHttje+5UQiqRMYNlBzPIaC3oyJLiPMhqx5e1P8d7MwLPsu8I85ChQL2meLXdeXYvrr8//9y1slaDuX6++vlo+Pg3k91rSzu5o+ezSbqOvTcXsCPrZ/+zsR1LhiPGJuna79UcqQnJXGWItlELZ3QEeSFSNAgrRKLcKsO7O6WLoCtMSwbjKKkGpA8zk7XU+lJzbYRPIcVijFjkmZQ6UnlnxZw0sIx3pWNGuuyFkIjJQFtjLP3Edk57pJgGEOFFW5UlihTvGK39V4ffq4U0Pg0fmw+JQm8neHZpWUIkOzFzt55DOkjdpSLk/3HFR9kd0tp8AURYQNLPJEFDKcSEVNodUZEBT5TCeuS6S17Y0OZrIp1KzZysdtWBUhnDT4aUvBdCRo6WlOEIVA+he/BLh/QGOcryZdc4edo/j6mSbmzNqdSrrS5rf6zBQ0tbK/wixBoyzkK1BYGAWqmvIqvRuubTSFlmDGe4luqMJqdaKQ86QuxJXkHKgHrPZzhlFmQfu6uSqaFS19ZmvStQ1hoKUx0ysvffkQzNxGWOmR5czD4iDnjLdRABRHMpKQpVyBgBWb5jaasnT02INAIqLRFCW2ar9nr/18BSUKF5FrpDrEREkxJp5mrHtnQMo8zZkQFRuQSVUWBeOmN4RjV9JFkolkVUipCKu0ACam2vF6uVnF0Ap213BbSlFk5IazV2wohwlH8xa2uGjaE0q5FyHaO1SMKay6cQou1MJVIQZqpELsJ8Fyl1loUTYTmx7z2ubiOfn5P4QEs/xKqkpTZ6lZIeFLyFE6XM3isQ4e3IeBUCbuvAosy0ad6Mizje6LDVanPtEMtEocv3LWBkOHuw7LbQI4uZlrX6D96MoeWzGcxmr8VMtprWmmOxoimtwYslhBiQtzp9tkh6Vkx0RJip+Ck5c8Z1gUq5fSYhLzqEmbyxDgQ1AagqEeZCCD2yLG2gHMcMXWMhP+V+SPTkZF42CvNDkCEPaekNElEkaedCVf3uaciCd4xlefGPkMzaXPbER1a1SNqfOaSpwUWJp4wia0aKxPqKstCmSgdpArNCFBa53mQbM7s63SGI0DcikIdKj0rkSeSHOobfggpR516bSztZohArOFkZF3wkO9dl9koblJTme7f1Wdl6U8HR8AQ7b4yV5ZkcjzVThRSP3rwfAlrTXfZE1ChpU7nfgOWEsIONnorBkSwUMvTWMnTCXrUohwuJzD6lFsohgVqt2WNVfddJdmdHyCCDZQzRvya2KoleoBfoIctt5SBL8S14h6NKM0dhFg5jwNFXKDyQugK3qAICb6Cxl1OwyMmCdJ4pf6bIWxfrkWlBpXSuSKmjwug9udJn3/mOigZLQrLSqz2gJy+SDOk4KcFFJpA6DyFHAs0c37QvZNzVkLyjCdVXRuoXKXvD9KvPGLtfW/ym7QOckEpHIDKreX5fGqFeJfh6n6szhsgjgWW99cCoHPHIWNZlXVdARig+GtIJnT1nWVSzZ1/yId4qv8qkRYdHtEbGY3vucI/6jOzAYw+WnR9xfeJ4L+07F7N20nXVMkLonve+5ltJr5AeJ8i4nOSZlMrFzNwDA1o9cTzfWxQf8xd2LH4CAugaMveXz6yQGZz0EpOx25YNsgjJqsPStiu1FFF+G02HsD1wVObRg1XMzNKW209gXcRhtaltG1HhrhmnS6lXCiRqcdUvrDpjrZxUK0sbymb1QfN7DUrpkANZF23YWI3LutBohFwdILRspDwkvFnLEncM33WXMPAXirpOmw5ZVv0AAAAASUVORK5CYII=\" id=\"imageb7e954410c\" transform=\"matrix(4.79 0 0 -4.79 7.2 485.28)\" style=\"image-rendering:crisp-edges;image-rendering:pixelated\" width=\"100\" height=\"100\"/>\n",
       "   </g>\n",
       "  </g>\n",
       " </g>\n",
       " <defs>\n",
       "  <clipPath id=\"p3a8e007ddd\">\n",
       "   <rect x=\"7.2\" y=\"7.2\" width=\"478.08\" height=\"478.08\"/>\n",
       "  </clipPath>\n",
       " </defs>\n",
       "</svg>\n"
      ],
      "text/plain": [
       "<Figure size 504x504 with 1 Axes>"
      ]
     },
     "metadata": {
      "needs_background": "light"
     },
     "output_type": "display_data"
    }
   ],
   "source": [
    "im = ps.generators.blobs([100, 100,100])\n",
    "\n",
    "fig, ax = plt.subplots(figsize=[7, 7]);\n",
    "ps.visualization.imshow(im);\n",
    "plt.axis(False);\n",
    "\n",
    "#default values:\n",
    "c=[50,50,50]\n",
    "r=50\n",
    "v=False\n",
    "overwrite=True"
   ]
  },
  {
   "cell_type": "markdown",
   "id": "entire-projection",
   "metadata": {},
   "source": [
    "## Apply tool"
   ]
  },
  {
   "cell_type": "code",
   "execution_count": 3,
   "id": "unlimited-illustration",
   "metadata": {
    "execution": {
     "iopub.execute_input": "2022-04-20T14:18:19.273506Z",
     "iopub.status.busy": "2022-04-20T14:18:19.272143Z",
     "iopub.status.idle": "2022-04-20T14:18:19.430776Z",
     "shell.execute_reply": "2022-04-20T14:18:19.430196Z"
    }
   },
   "outputs": [
    {
     "data": {
      "image/svg+xml": [
       "<?xml version=\"1.0\" encoding=\"utf-8\" standalone=\"no\"?>\n",
       "<!DOCTYPE svg PUBLIC \"-//W3C//DTD SVG 1.1//EN\"\n",
       "  \"http://www.w3.org/Graphics/SVG/1.1/DTD/svg11.dtd\">\n",
       "<svg xmlns:xlink=\"http://www.w3.org/1999/xlink\" width=\"492.48pt\" height=\"492.48pt\" viewBox=\"0 0 492.48 492.48\" xmlns=\"http://www.w3.org/2000/svg\" version=\"1.1\">\n",
       " <metadata>\n",
       "  <rdf:RDF xmlns:dc=\"http://purl.org/dc/elements/1.1/\" xmlns:cc=\"http://creativecommons.org/ns#\" xmlns:rdf=\"http://www.w3.org/1999/02/22-rdf-syntax-ns#\">\n",
       "   <cc:Work>\n",
       "    <dc:type rdf:resource=\"http://purl.org/dc/dcmitype/StillImage\"/>\n",
       "    <dc:date>2022-04-20T14:18:19.423937</dc:date>\n",
       "    <dc:format>image/svg+xml</dc:format>\n",
       "    <dc:creator>\n",
       "     <cc:Agent>\n",
       "      <dc:title>Matplotlib v3.5.1, https://matplotlib.org/</dc:title>\n",
       "     </cc:Agent>\n",
       "    </dc:creator>\n",
       "   </cc:Work>\n",
       "  </rdf:RDF>\n",
       " </metadata>\n",
       " <defs>\n",
       "  <style type=\"text/css\">*{stroke-linejoin: round; stroke-linecap: butt}</style>\n",
       " </defs>\n",
       " <g id=\"figure_1\">\n",
       "  <g id=\"patch_1\">\n",
       "   <path d=\"M 0 492.48 \n",
       "L 492.48 492.48 \n",
       "L 492.48 0 \n",
       "L 0 0 \n",
       "L 0 492.48 \n",
       "z\n",
       "\" style=\"fill: none\"/>\n",
       "  </g>\n",
       "  <g id=\"axes_1\">\n",
       "   <g clip-path=\"url(#p7e127a5878)\">\n",
       "    <image xlink:href=\"data:image/png;base64,\n",
       "iVBORw0KGgoAAAANSUhEUgAAAGQAAABkCAYAAABw4pVUAAACsElEQVR4nO3d23HrIBSFYdC4NJWgMl2Ce1OelBCMuGOWpf97ykx8sLyXuIgkB7vabX/tT2uMMavddjPI8R4pva4h9H45bedeZ6y9kjZ8j1jDKlo+oN9O7LP2ep8Wj9kXEDKyMH7bvW/G1muP3jG9KNx5I7i16/UZhwdy1TBGWO22Dx2yrhbGiB7ht730bPTKakeS1W576t+63w+mXLo8DL3+ar3jcHzWmmV8zlL8tNHS5eHI7vzN/DqmbuRuQxYhhIWW2bFhrDgQCj9W1pBFCO1yFwXJST0nDHc/DGmxcN6GrJLl3TEWEsafnGVurF5Vk7r7poTxX+7O+VndqopJGGm5I4cfXPWylzDiautTHAhzxlg8h4hhc1EMgYghEDEEMtHQ3V6U6bbbi3axp3h+0DRJVg9R/4W5OzgdsugdY53Vd8l5ET4n2EMI5jNCdX4LhDDmYtk7md8BCEQMgQhwewmBiCEQMQQCnFntttNDxBCIGAIB8E34oZQW5hAxBCKGQMQQCACgGs8hWpjUxRCIGAIRQyBiCEQMgYghEDEEImYxhodDFfwakCACEUMgYn4DYR6Z77U/LT1EzMLfFAK5mEeAFHrJXKyyhJxundBLPi945BFBzOHW/Xe31w+DcOZYKLyW5DmGPMl/FqssMQQihs1FMYsxzBNKGLLEEMgE1QdL5pzdijpZh4KlDvvivyEfL7uodzoRuoeam3e12158BLWPUN6d1StWq24H3DOn/FdTj7fd3hkXcUWpOuTUqXnIct15+Cq9KV/7M7ix2zUQ981KXv/Neo8OySGrdUxEmceohu92RGuvh+hhWyd3CCP1IF1Tg2gPyUn4DoVvcTZ5n2nqIYSRVjpssds7kNQccrjqiqvHQ2DI0FWW+3XOPs7hm4fC1htwWCAl/InvSgGV+gGZZWrvdzBjYQAAAABJRU5ErkJggg==\" id=\"imageaf908f0a04\" transform=\"matrix(4.79 0 0 -4.79 7.2 485.28)\" style=\"image-rendering:crisp-edges;image-rendering:pixelated\" width=\"100\" height=\"100\"/>\n",
       "   </g>\n",
       "  </g>\n",
       " </g>\n",
       " <defs>\n",
       "  <clipPath id=\"p7e127a5878\">\n",
       "   <rect x=\"7.2\" y=\"7.2\" width=\"478.08\" height=\"478.08\"/>\n",
       "  </clipPath>\n",
       " </defs>\n",
       "</svg>\n"
      ],
      "text/plain": [
       "<Figure size 504x504 with 1 Axes>"
      ]
     },
     "metadata": {
      "needs_background": "light"
     },
     "output_type": "display_data"
    }
   ],
   "source": [
    "im = ps.tools.insert_sphere(im=im, c=c, r=r, v=v, overwrite=overwrite)\n",
    "fig, ax = plt.subplots(figsize=[7, 7]);\n",
    "ps.visualization.imshow(im);\n",
    "plt.axis(False);"
   ]
  }
 ],
 "metadata": {
  "kernelspec": {
   "display_name": "Python 3 (ipykernel)",
   "language": "python",
   "name": "python3"
  },
  "language_info": {
   "codemirror_mode": {
    "name": "ipython",
    "version": 3
   },
   "file_extension": ".py",
   "mimetype": "text/x-python",
   "name": "python",
   "nbconvert_exporter": "python",
   "pygments_lexer": "ipython3",
   "version": "3.8.13"
  }
 },
 "nbformat": 4,
 "nbformat_minor": 5
}
