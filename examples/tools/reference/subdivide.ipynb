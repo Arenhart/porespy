{
 "cells": [
  {
   "cell_type": "markdown",
   "id": "76acccd3",
   "metadata": {},
   "source": [
    "# `subdivide`"
   ]
  },
  {
   "cell_type": "markdown",
   "id": "c6b5700f",
   "metadata": {},
   "source": [
    "## Import packages"
   ]
  },
  {
   "cell_type": "code",
   "execution_count": 1,
   "id": "4aa71432",
   "metadata": {
    "execution": {
     "iopub.execute_input": "2022-06-22T19:24:30.354486Z",
     "iopub.status.busy": "2022-06-22T19:24:30.353972Z",
     "iopub.status.idle": "2022-06-22T19:24:32.768897Z",
     "shell.execute_reply": "2022-06-22T19:24:32.768109Z"
    }
   },
   "outputs": [],
   "source": [
    "import numpy as np\n",
    "import porespy as ps\n",
    "import scipy.ndimage as spim\n",
    "import matplotlib.pyplot as plt\n",
    "import skimage\n",
    "\n",
    "np.random.rand(0)\n",
    "ps.visualization.set_mpl_style()"
   ]
  },
  {
   "cell_type": "markdown",
   "id": "be0cb230",
   "metadata": {},
   "source": [
    "## Create image and variables"
   ]
  },
  {
   "cell_type": "code",
   "execution_count": 2,
   "id": "9b8c0fbb",
   "metadata": {
    "execution": {
     "iopub.execute_input": "2022-06-22T19:24:32.775074Z",
     "iopub.status.busy": "2022-06-22T19:24:32.773564Z",
     "iopub.status.idle": "2022-06-22T19:24:32.953375Z",
     "shell.execute_reply": "2022-06-22T19:24:32.952623Z"
    }
   },
   "outputs": [
    {
     "data": {
      "image/svg+xml": [
       "<?xml version=\"1.0\" encoding=\"utf-8\" standalone=\"no\"?>\n",
       "<!DOCTYPE svg PUBLIC \"-//W3C//DTD SVG 1.1//EN\"\n",
       "  \"http://www.w3.org/Graphics/SVG/1.1/DTD/svg11.dtd\">\n",
       "<svg xmlns:xlink=\"http://www.w3.org/1999/xlink\" width=\"280.8pt\" height=\"280.8pt\" viewBox=\"0 0 280.8 280.8\" xmlns=\"http://www.w3.org/2000/svg\" version=\"1.1\">\n",
       " <metadata>\n",
       "  <rdf:RDF xmlns:dc=\"http://purl.org/dc/elements/1.1/\" xmlns:cc=\"http://creativecommons.org/ns#\" xmlns:rdf=\"http://www.w3.org/1999/02/22-rdf-syntax-ns#\">\n",
       "   <cc:Work>\n",
       "    <dc:type rdf:resource=\"http://purl.org/dc/dcmitype/StillImage\"/>\n",
       "    <dc:date>2022-06-22T19:24:32.890798</dc:date>\n",
       "    <dc:format>image/svg+xml</dc:format>\n",
       "    <dc:creator>\n",
       "     <cc:Agent>\n",
       "      <dc:title>Matplotlib v3.5.2, https://matplotlib.org/</dc:title>\n",
       "     </cc:Agent>\n",
       "    </dc:creator>\n",
       "   </cc:Work>\n",
       "  </rdf:RDF>\n",
       " </metadata>\n",
       " <defs>\n",
       "  <style type=\"text/css\">*{stroke-linejoin: round; stroke-linecap: butt}</style>\n",
       " </defs>\n",
       " <g id=\"figure_1\">\n",
       "  <g id=\"patch_1\">\n",
       "   <path d=\"M 0 280.8 \n",
       "L 280.8 280.8 \n",
       "L 280.8 0 \n",
       "L 0 0 \n",
       "L 0 280.8 \n",
       "z\n",
       "\" style=\"fill: none\"/>\n",
       "  </g>\n",
       "  <g id=\"axes_1\">\n",
       "   <g clip-path=\"url(#pe10c6255ec)\">\n",
       "    <image xlink:href=\"data:image/png;base64,\n",
       "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\" id=\"imagebd19cdf8ec\" transform=\"matrix(0.534 0 0 -0.534 7.2 273.6)\" style=\"image-rendering:crisp-edges;image-rendering:pixelated\" width=\"500\" height=\"500\"/>\n",
       "   </g>\n",
       "  </g>\n",
       " </g>\n",
       " <defs>\n",
       "  <clipPath id=\"pe10c6255ec\">\n",
       "   <rect x=\"7.2\" y=\"7.2\" width=\"266.4\" height=\"266.4\"/>\n",
       "  </clipPath>\n",
       " </defs>\n",
       "</svg>\n"
      ],
      "text/plain": [
       "<Figure size 288x288 with 1 Axes>"
      ]
     },
     "metadata": {
      "needs_background": "light"
     },
     "output_type": "display_data"
    }
   ],
   "source": [
    "im = ps.generators.blobs([500, 500])\n",
    "fig, ax = plt.subplots(1, 1, figsize=[4, 4])\n",
    "ax.axis(False)\n",
    "ax.imshow(im, origin='lower');"
   ]
  },
  {
   "cell_type": "markdown",
   "id": "6e9cb6b9",
   "metadata": {},
   "source": [
    "## Apply tool\n",
    "``slice`` objects are returned:"
   ]
  },
  {
   "cell_type": "code",
   "execution_count": 3,
   "id": "c0497eed",
   "metadata": {
    "execution": {
     "iopub.execute_input": "2022-06-22T19:24:32.960267Z",
     "iopub.status.busy": "2022-06-22T19:24:32.958412Z",
     "iopub.status.idle": "2022-06-22T19:24:32.968520Z",
     "shell.execute_reply": "2022-06-22T19:24:32.967932Z"
    }
   },
   "outputs": [
    {
     "name": "stdout",
     "output_type": "stream",
     "text": [
      "[(slice(0, 270, None), slice(0, 270, None)), (slice(0, 270, None), slice(230, 500, None)), (slice(230, 500, None), slice(0, 270, None)), (slice(230, 500, None), slice(230, 500, None))]\n"
     ]
    }
   ],
   "source": [
    "slices = ps.tools.subdivide(im=im, divs=2, overlap=20)\n",
    "print(slices)"
   ]
  },
  {
   "cell_type": "code",
   "execution_count": 4,
   "id": "f4c49c48",
   "metadata": {
    "execution": {
     "iopub.execute_input": "2022-06-22T19:24:32.974348Z",
     "iopub.status.busy": "2022-06-22T19:24:32.972601Z",
     "iopub.status.idle": "2022-06-22T19:24:33.222416Z",
     "shell.execute_reply": "2022-06-22T19:24:33.221764Z"
    }
   },
   "outputs": [
    {
     "data": {
      "image/svg+xml": [
       "<?xml version=\"1.0\" encoding=\"utf-8\" standalone=\"no\"?>\n",
       "<!DOCTYPE svg PUBLIC \"-//W3C//DTD SVG 1.1//EN\"\n",
       "  \"http://www.w3.org/Graphics/SVG/1.1/DTD/svg11.dtd\">\n",
       "<svg xmlns:xlink=\"http://www.w3.org/1999/xlink\" width=\"560.7pt\" height=\"136.8pt\" viewBox=\"0 0 560.7 136.8\" xmlns=\"http://www.w3.org/2000/svg\" version=\"1.1\">\n",
       " <metadata>\n",
       "  <rdf:RDF xmlns:dc=\"http://purl.org/dc/elements/1.1/\" xmlns:cc=\"http://creativecommons.org/ns#\" xmlns:rdf=\"http://www.w3.org/1999/02/22-rdf-syntax-ns#\">\n",
       "   <cc:Work>\n",
       "    <dc:type rdf:resource=\"http://purl.org/dc/dcmitype/StillImage\"/>\n",
       "    <dc:date>2022-06-22T19:24:33.154394</dc:date>\n",
       "    <dc:format>image/svg+xml</dc:format>\n",
       "    <dc:creator>\n",
       "     <cc:Agent>\n",
       "      <dc:title>Matplotlib v3.5.2, https://matplotlib.org/</dc:title>\n",
       "     </cc:Agent>\n",
       "    </dc:creator>\n",
       "   </cc:Work>\n",
       "  </rdf:RDF>\n",
       " </metadata>\n",
       " <defs>\n",
       "  <style type=\"text/css\">*{stroke-linejoin: round; stroke-linecap: butt}</style>\n",
       " </defs>\n",
       " <g id=\"figure_1\">\n",
       "  <g id=\"patch_1\">\n",
       "   <path d=\"M 0 136.8 \n",
       "L 560.7 136.8 \n",
       "L 560.7 0 \n",
       "L 0 0 \n",
       "L 0 136.8 \n",
       "z\n",
       "\" style=\"fill: none\"/>\n",
       "  </g>\n",
       "  <g id=\"axes_1\">\n",
       "   <g clip-path=\"url(#p569a5a0177)\">\n",
       "    <image xlink:href=\"data:image/png;base64,\n",
       "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\" id=\"image76392862f9\" transform=\"matrix(0.455556 0 0 -0.455556 7.2 129.6)\" style=\"image-rendering:crisp-edges;image-rendering:pixelated\" width=\"270\" height=\"270\"/>\n",
       "   </g>\n",
       "  </g>\n",
       "  <g id=\"axes_2\">\n",
       "   <g clip-path=\"url(#p2b27bed865)\">\n",
       "    <image xlink:href=\"data:image/png;base64,\n",
       "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\" id=\"imagebf25c8849d\" transform=\"matrix(0.455556 0 0 -0.455556 148.5 129.6)\" style=\"image-rendering:crisp-edges;image-rendering:pixelated\" width=\"270\" height=\"270\"/>\n",
       "   </g>\n",
       "  </g>\n",
       "  <g id=\"axes_3\">\n",
       "   <g clip-path=\"url(#p273a6eaea2)\">\n",
       "    <image xlink:href=\"data:image/png;base64,\n",
       "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\" id=\"image3503e06e6b\" transform=\"matrix(0.455556 0 0 -0.455556 289.8 129.6)\" style=\"image-rendering:crisp-edges;image-rendering:pixelated\" width=\"270\" height=\"270\"/>\n",
       "   </g>\n",
       "  </g>\n",
       "  <g id=\"axes_4\">\n",
       "   <g clip-path=\"url(#p5ccca125e8)\">\n",
       "    <image xlink:href=\"data:image/png;base64,\n",
       "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\" id=\"image15c00ded99\" transform=\"matrix(0.455556 0 0 -0.455556 431.1 129.6)\" style=\"image-rendering:crisp-edges;image-rendering:pixelated\" width=\"270\" height=\"270\"/>\n",
       "   </g>\n",
       "  </g>\n",
       " </g>\n",
       " <defs>\n",
       "  <clipPath id=\"p569a5a0177\">\n",
       "   <rect x=\"7.2\" y=\"7.2\" width=\"122.4\" height=\"122.4\"/>\n",
       "  </clipPath>\n",
       "  <clipPath id=\"p2b27bed865\">\n",
       "   <rect x=\"148.5\" y=\"7.2\" width=\"122.4\" height=\"122.4\"/>\n",
       "  </clipPath>\n",
       "  <clipPath id=\"p273a6eaea2\">\n",
       "   <rect x=\"289.8\" y=\"7.2\" width=\"122.4\" height=\"122.4\"/>\n",
       "  </clipPath>\n",
       "  <clipPath id=\"p5ccca125e8\">\n",
       "   <rect x=\"431.1\" y=\"7.2\" width=\"122.4\" height=\"122.4\"/>\n",
       "  </clipPath>\n",
       " </defs>\n",
       "</svg>\n"
      ],
      "text/plain": [
       "<Figure size 576x144 with 4 Axes>"
      ]
     },
     "metadata": {
      "needs_background": "light"
     },
     "output_type": "display_data"
    }
   ],
   "source": [
    "fig, ax = plt.subplots(1, 4, figsize=[8, 2])\n",
    "for i, s in enumerate(slices):\n",
    "    ax[i].imshow(im[s], origin='lower')\n",
    "    ax[i].axis(False);"
   ]
  }
 ],
 "metadata": {
  "kernelspec": {
   "display_name": "Python 3 (ipykernel)",
   "language": "python",
   "name": "python3"
  },
  "language_info": {
   "codemirror_mode": {
    "name": "ipython",
    "version": 3
   },
   "file_extension": ".py",
   "mimetype": "text/x-python",
   "name": "python",
   "nbconvert_exporter": "python",
   "pygments_lexer": "ipython3",
   "version": "3.8.13"
  }
 },
 "nbformat": 4,
 "nbformat_minor": 5
}
