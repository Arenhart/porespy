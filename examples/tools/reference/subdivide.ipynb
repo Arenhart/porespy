{
 "cells": [
  {
   "cell_type": "markdown",
   "id": "76acccd3",
   "metadata": {},
   "source": [
    "# `subdivide`"
   ]
  },
  {
   "cell_type": "markdown",
   "id": "c6b5700f",
   "metadata": {},
   "source": [
    "## Import packages"
   ]
  },
  {
   "cell_type": "code",
   "execution_count": 1,
   "id": "4aa71432",
   "metadata": {
    "execution": {
     "iopub.execute_input": "2022-05-25T19:24:32.206189Z",
     "iopub.status.busy": "2022-05-25T19:24:32.204547Z",
     "iopub.status.idle": "2022-05-25T19:24:34.828708Z",
     "shell.execute_reply": "2022-05-25T19:24:34.827779Z"
    }
   },
   "outputs": [],
   "source": [
    "import numpy as np\n",
    "import porespy as ps\n",
    "import scipy.ndimage as spim\n",
    "import matplotlib.pyplot as plt\n",
    "import skimage\n",
    "\n",
    "np.random.rand(0)\n",
    "ps.visualization.set_mpl_style()"
   ]
  },
  {
   "cell_type": "markdown",
   "id": "be0cb230",
   "metadata": {},
   "source": [
    "## Create image and variables"
   ]
  },
  {
   "cell_type": "code",
   "execution_count": 2,
   "id": "9b8c0fbb",
   "metadata": {
    "execution": {
     "iopub.execute_input": "2022-05-25T19:24:34.835161Z",
     "iopub.status.busy": "2022-05-25T19:24:34.833434Z",
     "iopub.status.idle": "2022-05-25T19:24:34.989701Z",
     "shell.execute_reply": "2022-05-25T19:24:34.988800Z"
    }
   },
   "outputs": [
    {
     "data": {
      "image/svg+xml": [
       "<?xml version=\"1.0\" encoding=\"utf-8\" standalone=\"no\"?>\n",
       "<!DOCTYPE svg PUBLIC \"-//W3C//DTD SVG 1.1//EN\"\n",
       "  \"http://www.w3.org/Graphics/SVG/1.1/DTD/svg11.dtd\">\n",
       "<svg xmlns:xlink=\"http://www.w3.org/1999/xlink\" width=\"280.8pt\" height=\"280.8pt\" viewBox=\"0 0 280.8 280.8\" xmlns=\"http://www.w3.org/2000/svg\" version=\"1.1\">\n",
       " <metadata>\n",
       "  <rdf:RDF xmlns:dc=\"http://purl.org/dc/elements/1.1/\" xmlns:cc=\"http://creativecommons.org/ns#\" xmlns:rdf=\"http://www.w3.org/1999/02/22-rdf-syntax-ns#\">\n",
       "   <cc:Work>\n",
       "    <dc:type rdf:resource=\"http://purl.org/dc/dcmitype/StillImage\"/>\n",
       "    <dc:date>2022-05-25T19:24:34.953924</dc:date>\n",
       "    <dc:format>image/svg+xml</dc:format>\n",
       "    <dc:creator>\n",
       "     <cc:Agent>\n",
       "      <dc:title>Matplotlib v3.5.2, https://matplotlib.org/</dc:title>\n",
       "     </cc:Agent>\n",
       "    </dc:creator>\n",
       "   </cc:Work>\n",
       "  </rdf:RDF>\n",
       " </metadata>\n",
       " <defs>\n",
       "  <style type=\"text/css\">*{stroke-linejoin: round; stroke-linecap: butt}</style>\n",
       " </defs>\n",
       " <g id=\"figure_1\">\n",
       "  <g id=\"patch_1\">\n",
       "   <path d=\"M 0 280.8 \n",
       "L 280.8 280.8 \n",
       "L 280.8 0 \n",
       "L 0 0 \n",
       "L 0 280.8 \n",
       "z\n",
       "\" style=\"fill: none\"/>\n",
       "  </g>\n",
       "  <g id=\"axes_1\">\n",
       "   <g clip-path=\"url(#pb335744bae)\">\n",
       "    <image xlink:href=\"data:image/png;base64,\n",
       "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\" id=\"image287ee986ca\" transform=\"matrix(0.534 0 0 -0.534 7.2 273.6)\" style=\"image-rendering:crisp-edges;image-rendering:pixelated\" width=\"500\" height=\"500\"/>\n",
       "   </g>\n",
       "  </g>\n",
       " </g>\n",
       " <defs>\n",
       "  <clipPath id=\"pb335744bae\">\n",
       "   <rect x=\"7.2\" y=\"7.2\" width=\"266.4\" height=\"266.4\"/>\n",
       "  </clipPath>\n",
       " </defs>\n",
       "</svg>\n"
      ],
      "text/plain": [
       "<Figure size 288x288 with 1 Axes>"
      ]
     },
     "metadata": {
      "needs_background": "light"
     },
     "output_type": "display_data"
    }
   ],
   "source": [
    "im = ps.generators.blobs([500, 500])\n",
    "fig, ax = plt.subplots(1, 1, figsize=[4, 4])\n",
    "ax.axis(False)\n",
    "ax.imshow(im, origin='lower');"
   ]
  },
  {
   "cell_type": "markdown",
   "id": "6e9cb6b9",
   "metadata": {},
   "source": [
    "## Apply tool\n",
    "``slice`` objects are returned:"
   ]
  },
  {
   "cell_type": "code",
   "execution_count": 3,
   "id": "c0497eed",
   "metadata": {
    "execution": {
     "iopub.execute_input": "2022-05-25T19:24:34.993496Z",
     "iopub.status.busy": "2022-05-25T19:24:34.992926Z",
     "iopub.status.idle": "2022-05-25T19:24:35.004155Z",
     "shell.execute_reply": "2022-05-25T19:24:35.003129Z"
    }
   },
   "outputs": [
    {
     "name": "stdout",
     "output_type": "stream",
     "text": [
      "[(slice(0, 270, None), slice(0, 270, None)), (slice(0, 270, None), slice(230, 500, None)), (slice(230, 500, None), slice(0, 270, None)), (slice(230, 500, None), slice(230, 500, None))]\n"
     ]
    }
   ],
   "source": [
    "slices = ps.tools.subdivide(im=im, divs=2, overlap=20)\n",
    "print(slices)"
   ]
  },
  {
   "cell_type": "code",
   "execution_count": 4,
   "id": "f4c49c48",
   "metadata": {
    "execution": {
     "iopub.execute_input": "2022-05-25T19:24:35.007805Z",
     "iopub.status.busy": "2022-05-25T19:24:35.007499Z",
     "iopub.status.idle": "2022-05-25T19:24:35.266910Z",
     "shell.execute_reply": "2022-05-25T19:24:35.266021Z"
    }
   },
   "outputs": [
    {
     "data": {
      "image/svg+xml": [
       "<?xml version=\"1.0\" encoding=\"utf-8\" standalone=\"no\"?>\n",
       "<!DOCTYPE svg PUBLIC \"-//W3C//DTD SVG 1.1//EN\"\n",
       "  \"http://www.w3.org/Graphics/SVG/1.1/DTD/svg11.dtd\">\n",
       "<svg xmlns:xlink=\"http://www.w3.org/1999/xlink\" width=\"560.7pt\" height=\"136.8pt\" viewBox=\"0 0 560.7 136.8\" xmlns=\"http://www.w3.org/2000/svg\" version=\"1.1\">\n",
       " <metadata>\n",
       "  <rdf:RDF xmlns:dc=\"http://purl.org/dc/elements/1.1/\" xmlns:cc=\"http://creativecommons.org/ns#\" xmlns:rdf=\"http://www.w3.org/1999/02/22-rdf-syntax-ns#\">\n",
       "   <cc:Work>\n",
       "    <dc:type rdf:resource=\"http://purl.org/dc/dcmitype/StillImage\"/>\n",
       "    <dc:date>2022-05-25T19:24:35.226753</dc:date>\n",
       "    <dc:format>image/svg+xml</dc:format>\n",
       "    <dc:creator>\n",
       "     <cc:Agent>\n",
       "      <dc:title>Matplotlib v3.5.2, https://matplotlib.org/</dc:title>\n",
       "     </cc:Agent>\n",
       "    </dc:creator>\n",
       "   </cc:Work>\n",
       "  </rdf:RDF>\n",
       " </metadata>\n",
       " <defs>\n",
       "  <style type=\"text/css\">*{stroke-linejoin: round; stroke-linecap: butt}</style>\n",
       " </defs>\n",
       " <g id=\"figure_1\">\n",
       "  <g id=\"patch_1\">\n",
       "   <path d=\"M 0 136.8 \n",
       "L 560.7 136.8 \n",
       "L 560.7 0 \n",
       "L 0 0 \n",
       "L 0 136.8 \n",
       "z\n",
       "\" style=\"fill: none\"/>\n",
       "  </g>\n",
       "  <g id=\"axes_1\">\n",
       "   <g clip-path=\"url(#p72738705ef)\">\n",
       "    <image xlink:href=\"data:image/png;base64,\n",
       "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\" id=\"image0c2dc48d3c\" transform=\"matrix(0.455556 0 0 -0.455556 7.2 129.6)\" style=\"image-rendering:crisp-edges;image-rendering:pixelated\" width=\"270\" height=\"270\"/>\n",
       "   </g>\n",
       "  </g>\n",
       "  <g id=\"axes_2\">\n",
       "   <g clip-path=\"url(#p7bef22c0fd)\">\n",
       "    <image xlink:href=\"data:image/png;base64,\n",
       "iVBORw0KGgoAAAANSUhEUgAAAQ4AAAEOCAYAAAB4sfmlAAAN0klEQVR4nO3d3XHcOBOFYcjlKHTtABSEq5TAJqssFIUchct7IY81P+QMSTTQp7vfp2pvdr9PAwKNQxDkcJ5+//rxp614fX5Z+08lvX28ezdBXtaaURt7737+5vrpgagVDuCJ4ACwG8GxAasN4BLB8QChsZ33dTfmITgA7EZw3MFqA1hGcKwgNIB1BMcCQmO/zPsb1MOt1eDIXAj3UCSIwLtOWXGc8R6MqKqeZCojOP4iNLCEulhGcDSKo0fm1QZ1sY7gwGGERl3fvRvgjQI5Rjk0GNPxygdHNNcTdvYkUQ2MimHx9vHuNh6LwaFaHNYiFdvamJz/+9HHo1gXkcYwE1YcAWydsKf/nfVkIjBwrWxwRCm8I5PWYhWiGBatxRm37MoGRwQWk3driKgGxTlCQ8dNcEQooF4RCnDEOEQe2whjVgnPcUAeobHOq28IDkGRVwao4SI4KhQsZ69YGC9NbI6KqRDeUS2NTdVg+xccFCyw7N7cmPkAnhL2OIQQ3pcUJuKeMXl9fikzht9ao2CBJUfnxcwA8Zq7pVYcCmewNYS3FquH77KO67esBwYcZT0nRgWI59wtteJQRXjrGDkWmVYgBAdkzZ5kM/clej5LIYAIDmfeBYBPHuNwJABU6oUHwFCe92Tc8iyIdxuvERyO1IpB0evzy9C7YWpjoNaeNWUuVdRuxUYpEAX0lZ4ywQFcI5COIzgcULD7jXi2AscRHJNRsMdZ9R1j0I/gmIiC7dfbh4yBDYJjEgrWTs+Xz2CD27EIac9vyBAY9lhxTEDhjvOob+n7MUqsODyf4aBwx1t68pJ+H6tEcHiheOejz+cwD47eszsDD+jrDg7ry4Dzvxc5RCK3HXjkcHDM2DfIEiJANruDw2ujMdKmV4Q2Aj023459+3iX+IapQhuA6h6uOBQn6p7Vh2L7gejurjjUJ51i+7hMQQWLKw7FCbkm0t4HkMXFikNlH+OIpXZHPRZA3ffW8kywLMcBqHv6/evHH+9GZMNlkxYuZ+3xXRWkdb0C5YFCO3ytHik9umyNvJ+ngOBAOnsCgQA5huAYgEL0c7TvGbN9CA7gL1Yf2xEcSMNq0hMejxEcg1B8c418LwxuERzACi5d1hEcCG/05CY8bhEcA1Fw483qY8byEsEBbER4fCE4EJbHRCY8PhEcCMlzArNpSnAgIJVJq9IODwTHQHwD057aZFVrzywEB8JQnaSq7RqJ4BiE1QYyIzgGIDTsqZ/V1dtnjeAwRmjYizIpo7TTAq8ONEJgoBJeVtyJwBgr4lm8Qk2w4tipQlEAjxAcDxAUwC2CYwWBAawjOK4QGMBj3I49Q2gA2xAcfxEawHYERyM0lDE2msoHB4UJS1XqqXxwQF+VyRhJ6eCgIOOIMFYR2milbHBUGmTAWsngIDRiUh435baNUDI4EFe1CaqqXHBQePGpjaFae2YoFRwVBxhjVa2pMu/jqDrAmXm/q0Olprb0g3VbSwSHygDDnld4KNTU3mO3bHP6b8cqDDBy8a6po2F5+v9ZtD/tisN7cDHPzFWHd11ZHWvvcaTcHPUeXGAE7z2dc+mCg9CoZ9aYe9aWdWj0/r00exwEBkbKFBoWwq84Xp9fCA0MrYGs9dUTSKGDI+uAQod3jSmuNloLGhysMrCEmpgn1B4HhYGZvOtNdbXRWqAVh/cgAvgiv+IgMODBu+6UVxutia84vAcP8VAzc8gGBwUAL9TeY5LBwcChslmXKT3zTG6Pg9CwtVaEmfv59fnl8OTL3C+WpIKDQbPzaOJYfsUa8fSOu1RwoN/eMy0BUo/FWEvucWC/t4/3rmtj9dt/ex2ZHArhOXocrI5RJjgUBi0qq2LLFh64ZDnHZIIDx6i9p0HJnonCiWsfgiOwUZO8WnhUCA3rYyQ4Aurdz9j6GVncmzSExjEERzAzJ3T28CA0jpN6y3mFgexR+TdEqrAc45HjxoojCM+zf6aVRxWjw57gwCaExxwWE37GCpEnRwNQmbQ8Zapt5riw4hCnEhrnFNtU3ewwJziEKU/QGbeEsY3HCpDgEBVlUhIg9iI88coeB0ychwd7IHN49jPPcQjKcgZnPPsov4Rp14rDqsFZJgbu4y5MH+V+u1lxKDe2iqzBSm3l8fTz6T+ZSxXkDY1zBEh8cpuj1xOHIsuHS5j45G/Hnm73VTgTV8OYxiUVHFvezE2x5cJ4xiQVHFtRbLkwnvGEDI7WKLZsGM9YwgZHaxRbNoxnHKGDo7V8xVb9TkO28cwqfHC0RrFlw3jqSxEcyIfw0JYmODIVWvXLlZNMY5pNmuAAMA/BIYpVxydWHZoIDsgjPPQQHAB2IziEcbnyhVWHFoIDwG5SwdFzhuXsDMwjFRzAPVyu6JALjiMrh8yrjczHhrjkgqO1GD9IA1Qm987Rk9fnl4dL0wqhwfIcW+ypE4t5E+Yt51VfcEtw3KpWA/f01sfRvpRdcVyjWIBLFieVoz/dKbnHAahQfcv+iPbs+ZthVhwVqRVrdlvesn/OaxU8si62bgkQHCitZxJ67LvNOpm8fbzfPS4uVUSx2hjPqo+zjtW94yI4EIrF2X3EnsWM8PAIqLXPJDhQyoz9gWh/+8hnExyCsi59vdGvdggOMdbF/fr88u+f6HqOYeamYgUER2LXEy1ygERttwXFMCI4hMwqkGqTUHHiRbJULwRHUo/CIVJ4RGqrNdXQIzhEeBRIhAkZoY2ZrfU/wQFZVs9sRKXcdoJDgGeBqJ7RVdtVyb0x6PquytaCpwjm2tvfW16aNBP1or3aaK2171u+qNN7EFVfwrOFeoHMRo1o2Pzt2JnP2lMcerxXHdTEF++TyZaxcNnj8O4YFfTDJ0IjHrfNUSaNHo8JPPozZx9T7+d5z4ut7Xe9q+LdSZ5Uj33WRIv8+PsoqjWxxP0NYBX3PSIViLXM4xz92EK+rLjyZKrCa2LN+NwqlygnMsHRmn/nzTD6GC0mifVEU7gsGfn53sfmQSo4WssdHpmPbYlCYJwb0ZYMj8UfOQa54GjNvyNHyHhMa9QC45xVu5SPcY90v+T26PXsGOdoyEUZr1M79x7niOOLekKRDY7W8oRHpOLIHhrnIrbZUs/xS16qnIs06ZZEan+l0Kiud8zkg6O1WJPvXJR29/zOCKFxnFd9WIyZ9KVKZF5FsfXyLkqowZZV0IcJjkj7Hd6TcqmvvNsEf5bz5+n3rx9/zP7aBBHCo9okjTAmimbWifUYhdjjiKRaaEDfiGAnOAxVDY2qxx3BqNUgwWGEyQM1Iy8hCQ4DhAZ9oGTG4/AERycmzBf6wt+sjWqCA6YIDz8z726FCg61235MEqiYPTdCBYcSQmMdfZNfmOBQW23gPsJjHo+5ESY4lDAptqGfxvM6oYYIDlYbcREeOckHh1poMBH2o8/G8Jwb0sGhFhqAlehhKh0cyCP6RMEl2eBQXG1Q/H3ov08Z+kEyOBRDAzYyTBoVnn0pGRzIrXJ4ZDl2ueBgtYGsRoSGVxBJBQehUUeWM68Cj76UCQ5Co55K4TH6WGf3pUxwoKYK4THrGGf2pURwsNpAVrODsefHtfZwDw5CAxVWHbON7lP34ABayxke3sc0cvXhGhysNnDOe6JZUjqWEW1xCw5CA0uUJlwm1qsPLlUAY8rhZ9U2l+BgtYF7lCdeBhb9y4oDkqKGR5R297ZzenCw2sBWUSbhSbT29mDFAWmzHmiqqKdfCQ6EoB4e6u2zNjU4uExBD1Yf9o72JyuOHQg+DWoBotSWWQgOhKUWIJV8924A0Os6PGauDKsGV6rgOB9ELivqmlUHVUOjtQTBsTZ4p39PgNQ2KkQqh0ZrrT39/vXjz6wP8xw4igbneuoh0/gf7Yepm6NWHZ5p4ODjtLG6t5aovU/hLlWODtzbxzuXLVi0VFPntUJY3Jp6qdKa/xLRKjwoJmQQ4lKltb4VAwA7PSfREA+AWYaG1d/isgeVuexx7NlvqLDSuO6LCscMX70nvhArDlU9nf/6/PLvH8u/C8zgFhxbzqoRzrx7J/laWPT+XWAm19uxWW6RPrp1l+EYkYdFPU6/HXtt7SBGrzaiTOYIqy7EYlH77g+AZVl1wA6bxfrYHBVXKVTZLB7Pqi8lgmP2GSVaIUZr7xGPjrFCH0QiERyobWsoEB46CI4gmDSf6IfjLPtONjgokBoY55hkgwO3mGSf6Ad/EsGxVggUyC36BAokguMe64nCxMuBcfTlHhx8b2O/TP3Rcys+Uz9E4x4cW1Ekl+gPeHINjtnFz2TLhzH14RYcRwacIrmUpT96nxzO0g+RhLlUOTlaJBRXbozvXN+2vljGUu/nebRZVZZ+UHqDfVaW3wn7t+KY1emWn8N3HHCNsZ7j6efTfzcv8hn1bdXZPwBcqYiyvLOC370Zz+QNYEvB0Zp9x1eaxB6yTBTrOsnSL9aGveXcch+B0BiPPl5GvyzrDdTVFYfFhzBoc2U5u46qmyz9Y+1If2965+jpD2/teAIDivbWcRVH+mPTimPrBxEY/jJMill1lKGvvBwKDujKMhlmn4Sy9Nss4Z4cBUbgocJ93H9XBVDy6Ff58IngAFYQIusIjkQo7nEIkUsEB7ATIUJwpFG1gL1VDRHuqgBGKt2ZITgSqHSmi6BCgBAcgb19vBMawjKHB8ERFIERQ9bVB8ERDKuMmLKFB8ERCIERW6bweHg79rpYMx18FNUCI3ONvT6/pBjPm+B4dFCn/555cJVkKDLk8z/ROa4jIhtGzwAAAABJRU5ErkJggg==\" id=\"image270a38a8a3\" transform=\"matrix(0.455556 0 0 -0.455556 148.5 129.6)\" style=\"image-rendering:crisp-edges;image-rendering:pixelated\" width=\"270\" height=\"270\"/>\n",
       "   </g>\n",
       "  </g>\n",
       "  <g id=\"axes_3\">\n",
       "   <g clip-path=\"url(#p3c20d9af05)\">\n",
       "    <image xlink:href=\"data:image/png;base64,\n",
       "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\" id=\"image2405e31374\" transform=\"matrix(0.455556 0 0 -0.455556 289.8 129.6)\" style=\"image-rendering:crisp-edges;image-rendering:pixelated\" width=\"270\" height=\"270\"/>\n",
       "   </g>\n",
       "  </g>\n",
       "  <g id=\"axes_4\">\n",
       "   <g clip-path=\"url(#p49c74ef228)\">\n",
       "    <image xlink:href=\"data:image/png;base64,\n",
       "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\" id=\"image45da51cb28\" transform=\"matrix(0.455556 0 0 -0.455556 431.1 129.6)\" style=\"image-rendering:crisp-edges;image-rendering:pixelated\" width=\"270\" height=\"270\"/>\n",
       "   </g>\n",
       "  </g>\n",
       " </g>\n",
       " <defs>\n",
       "  <clipPath id=\"p72738705ef\">\n",
       "   <rect x=\"7.2\" y=\"7.2\" width=\"122.4\" height=\"122.4\"/>\n",
       "  </clipPath>\n",
       "  <clipPath id=\"p7bef22c0fd\">\n",
       "   <rect x=\"148.5\" y=\"7.2\" width=\"122.4\" height=\"122.4\"/>\n",
       "  </clipPath>\n",
       "  <clipPath id=\"p3c20d9af05\">\n",
       "   <rect x=\"289.8\" y=\"7.2\" width=\"122.4\" height=\"122.4\"/>\n",
       "  </clipPath>\n",
       "  <clipPath id=\"p49c74ef228\">\n",
       "   <rect x=\"431.1\" y=\"7.2\" width=\"122.4\" height=\"122.4\"/>\n",
       "  </clipPath>\n",
       " </defs>\n",
       "</svg>\n"
      ],
      "text/plain": [
       "<Figure size 576x144 with 4 Axes>"
      ]
     },
     "metadata": {
      "needs_background": "light"
     },
     "output_type": "display_data"
    }
   ],
   "source": [
    "fig, ax = plt.subplots(1, 4, figsize=[8, 2])\n",
    "for i, s in enumerate(slices):\n",
    "    ax[i].imshow(im[s], origin='lower')\n",
    "    ax[i].axis(False);"
   ]
  }
 ],
 "metadata": {
  "kernelspec": {
   "display_name": "Python 3 (ipykernel)",
   "language": "python",
   "name": "python3"
  },
  "language_info": {
   "codemirror_mode": {
    "name": "ipython",
    "version": 3
   },
   "file_extension": ".py",
   "mimetype": "text/x-python",
   "name": "python",
   "nbconvert_exporter": "python",
   "pygments_lexer": "ipython3",
   "version": "3.8.13"
  }
 },
 "nbformat": 4,
 "nbformat_minor": 5
}
