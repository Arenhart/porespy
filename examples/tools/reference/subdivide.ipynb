{
 "cells": [
  {
   "cell_type": "markdown",
   "id": "35f80b9c",
   "metadata": {},
   "source": [
    "# subdivide"
   ]
  },
  {
   "cell_type": "markdown",
   "id": "8c0efd16",
   "metadata": {},
   "source": [
    "## Import packages"
   ]
  },
  {
   "cell_type": "code",
   "execution_count": 1,
   "id": "ffaebd52",
   "metadata": {
    "execution": {
     "iopub.execute_input": "2022-03-30T13:40:45.175182Z",
     "iopub.status.busy": "2022-03-30T13:40:45.174658Z",
     "iopub.status.idle": "2022-03-30T13:40:47.230209Z",
     "shell.execute_reply": "2022-03-30T13:40:47.229661Z"
    }
   },
   "outputs": [],
   "source": [
    "import numpy as np\n",
    "import porespy as ps\n",
    "import scipy.ndimage as spim\n",
    "import matplotlib.pyplot as plt\n",
    "import skimage\n",
    "\n",
    "np.random.rand(0)\n",
    "ps.visualization.set_mpl_style()"
   ]
  },
  {
   "cell_type": "markdown",
   "id": "425d6cfe",
   "metadata": {},
   "source": [
    "## Create image and variables"
   ]
  },
  {
   "cell_type": "code",
   "execution_count": 2,
   "id": "b4f0edb3",
   "metadata": {
    "execution": {
     "iopub.execute_input": "2022-03-30T13:40:47.235082Z",
     "iopub.status.busy": "2022-03-30T13:40:47.234115Z",
     "iopub.status.idle": "2022-03-30T13:40:47.369383Z",
     "shell.execute_reply": "2022-03-30T13:40:47.368919Z"
    }
   },
   "outputs": [
    {
     "data": {
      "image/svg+xml": [
       "<?xml version=\"1.0\" encoding=\"utf-8\" standalone=\"no\"?>\n",
       "<!DOCTYPE svg PUBLIC \"-//W3C//DTD SVG 1.1//EN\"\n",
       "  \"http://www.w3.org/Graphics/SVG/1.1/DTD/svg11.dtd\">\n",
       "<svg xmlns:xlink=\"http://www.w3.org/1999/xlink\" width=\"276.48pt\" height=\"276.48pt\" viewBox=\"0 0 276.48 276.48\" xmlns=\"http://www.w3.org/2000/svg\" version=\"1.1\">\n",
       " <metadata>\n",
       "  <rdf:RDF xmlns:dc=\"http://purl.org/dc/elements/1.1/\" xmlns:cc=\"http://creativecommons.org/ns#\" xmlns:rdf=\"http://www.w3.org/1999/02/22-rdf-syntax-ns#\">\n",
       "   <cc:Work>\n",
       "    <dc:type rdf:resource=\"http://purl.org/dc/dcmitype/StillImage\"/>\n",
       "    <dc:date>2022-03-30T13:40:47.330416</dc:date>\n",
       "    <dc:format>image/svg+xml</dc:format>\n",
       "    <dc:creator>\n",
       "     <cc:Agent>\n",
       "      <dc:title>Matplotlib v3.5.1, https://matplotlib.org/</dc:title>\n",
       "     </cc:Agent>\n",
       "    </dc:creator>\n",
       "   </cc:Work>\n",
       "  </rdf:RDF>\n",
       " </metadata>\n",
       " <defs>\n",
       "  <style type=\"text/css\">*{stroke-linejoin: round; stroke-linecap: butt}</style>\n",
       " </defs>\n",
       " <g id=\"figure_1\">\n",
       "  <g id=\"patch_1\">\n",
       "   <path d=\"M 0 276.48 \n",
       "L 276.48 276.48 \n",
       "L 276.48 0 \n",
       "L 0 0 \n",
       "L 0 276.48 \n",
       "z\n",
       "\" style=\"fill: none\"/>\n",
       "  </g>\n",
       "  <g id=\"axes_1\">\n",
       "   <g clip-path=\"url(#pf3148c40b5)\">\n",
       "    <image xlink:href=\"data:image/png;base64,\n",
       "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\" id=\"imagea28151a473\" transform=\"matrix(0.526 0 0 -0.526 7.2 269.28)\" style=\"image-rendering:crisp-edges;image-rendering:pixelated\" width=\"500\" height=\"500\"/>\n",
       "   </g>\n",
       "  </g>\n",
       " </g>\n",
       " <defs>\n",
       "  <clipPath id=\"pf3148c40b5\">\n",
       "   <rect x=\"7.2\" y=\"7.2\" width=\"262.08\" height=\"262.08\"/>\n",
       "  </clipPath>\n",
       " </defs>\n",
       "</svg>\n"
      ],
      "text/plain": [
       "<Figure size 288x288 with 1 Axes>"
      ]
     },
     "metadata": {
      "needs_background": "light"
     },
     "output_type": "display_data"
    }
   ],
   "source": [
    "im = ps.generators.blobs([500, 500])\n",
    "fig, ax = plt.subplots(1, 1, figsize=[4, 4])\n",
    "ax.axis(False)\n",
    "ax.imshow(im, origin='lower');"
   ]
  },
  {
   "cell_type": "markdown",
   "id": "e42fb735",
   "metadata": {},
   "source": [
    "## Apply tool\n",
    "``slice`` objects are returned:"
   ]
  },
  {
   "cell_type": "code",
   "execution_count": 3,
   "id": "828123c4",
   "metadata": {
    "execution": {
     "iopub.execute_input": "2022-03-30T13:40:47.373429Z",
     "iopub.status.busy": "2022-03-30T13:40:47.372520Z",
     "iopub.status.idle": "2022-03-30T13:40:47.378594Z",
     "shell.execute_reply": "2022-03-30T13:40:47.378203Z"
    }
   },
   "outputs": [
    {
     "name": "stdout",
     "output_type": "stream",
     "text": [
      "[(slice(0, 270, None), slice(0, 270, None)), (slice(0, 270, None), slice(230, 500, None)), (slice(230, 500, None), slice(0, 270, None)), (slice(230, 500, None), slice(230, 500, None))]\n"
     ]
    }
   ],
   "source": [
    "slices = ps.tools.subdivide(im=im, divs=2, overlap=20)\n",
    "print(slices)"
   ]
  },
  {
   "cell_type": "code",
   "execution_count": 4,
   "id": "69993106",
   "metadata": {
    "execution": {
     "iopub.execute_input": "2022-03-30T13:40:47.382790Z",
     "iopub.status.busy": "2022-03-30T13:40:47.381428Z",
     "iopub.status.idle": "2022-03-30T13:40:47.578076Z",
     "shell.execute_reply": "2022-03-30T13:40:47.577553Z"
    }
   },
   "outputs": [
    {
     "data": {
      "image/svg+xml": [
       "<?xml version=\"1.0\" encoding=\"utf-8\" standalone=\"no\"?>\n",
       "<!DOCTYPE svg PUBLIC \"-//W3C//DTD SVG 1.1//EN\"\n",
       "  \"http://www.w3.org/Graphics/SVG/1.1/DTD/svg11.dtd\">\n",
       "<svg xmlns:xlink=\"http://www.w3.org/1999/xlink\" width=\"554.76pt\" height=\"132.48pt\" viewBox=\"0 0 554.76 132.48\" xmlns=\"http://www.w3.org/2000/svg\" version=\"1.1\">\n",
       " <metadata>\n",
       "  <rdf:RDF xmlns:dc=\"http://purl.org/dc/elements/1.1/\" xmlns:cc=\"http://creativecommons.org/ns#\" xmlns:rdf=\"http://www.w3.org/1999/02/22-rdf-syntax-ns#\">\n",
       "   <cc:Work>\n",
       "    <dc:type rdf:resource=\"http://purl.org/dc/dcmitype/StillImage\"/>\n",
       "    <dc:date>2022-03-30T13:40:47.511485</dc:date>\n",
       "    <dc:format>image/svg+xml</dc:format>\n",
       "    <dc:creator>\n",
       "     <cc:Agent>\n",
       "      <dc:title>Matplotlib v3.5.1, https://matplotlib.org/</dc:title>\n",
       "     </cc:Agent>\n",
       "    </dc:creator>\n",
       "   </cc:Work>\n",
       "  </rdf:RDF>\n",
       " </metadata>\n",
       " <defs>\n",
       "  <style type=\"text/css\">*{stroke-linejoin: round; stroke-linecap: butt}</style>\n",
       " </defs>\n",
       " <g id=\"figure_1\">\n",
       "  <g id=\"patch_1\">\n",
       "   <path d=\"M 0 132.48 \n",
       "L 554.76 132.48 \n",
       "L 554.76 0 \n",
       "L 0 0 \n",
       "L 0 132.48 \n",
       "z\n",
       "\" style=\"fill: none\"/>\n",
       "  </g>\n",
       "  <g id=\"axes_1\">\n",
       "   <g clip-path=\"url(#p43a4dfe522)\">\n",
       "    <image xlink:href=\"data:image/png;base64,\n",
       "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\" id=\"image742f202d76\" transform=\"matrix(0.440741 0 0 -0.440741 7.2 125.28)\" style=\"image-rendering:crisp-edges;image-rendering:pixelated\" width=\"270\" height=\"270\"/>\n",
       "   </g>\n",
       "  </g>\n",
       "  <g id=\"axes_2\">\n",
       "   <g clip-path=\"url(#pb6fb505d0f)\">\n",
       "    <image xlink:href=\"data:image/png;base64,\n",
       "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\" id=\"imagee7c47b0b2d\" transform=\"matrix(0.440741 0 0 -0.440741 147.96 125.28)\" style=\"image-rendering:crisp-edges;image-rendering:pixelated\" width=\"270\" height=\"270\"/>\n",
       "   </g>\n",
       "  </g>\n",
       "  <g id=\"axes_3\">\n",
       "   <g clip-path=\"url(#pf13e7f410d)\">\n",
       "    <image xlink:href=\"data:image/png;base64,\n",
       "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\" id=\"imageab4c518dfa\" transform=\"matrix(0.440741 0 0 -0.440741 288.72 125.28)\" style=\"image-rendering:crisp-edges;image-rendering:pixelated\" width=\"270\" height=\"270\"/>\n",
       "   </g>\n",
       "  </g>\n",
       "  <g id=\"axes_4\">\n",
       "   <g clip-path=\"url(#pfebd77ac20)\">\n",
       "    <image xlink:href=\"data:image/png;base64,\n",
       "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\" id=\"imageb63288928b\" transform=\"matrix(0.440741 0 0 -0.440741 429.48 125.28)\" style=\"image-rendering:crisp-edges;image-rendering:pixelated\" width=\"270\" height=\"270\"/>\n",
       "   </g>\n",
       "  </g>\n",
       " </g>\n",
       " <defs>\n",
       "  <clipPath id=\"p43a4dfe522\">\n",
       "   <rect x=\"7.2\" y=\"7.2\" width=\"118.08\" height=\"118.08\"/>\n",
       "  </clipPath>\n",
       "  <clipPath id=\"pb6fb505d0f\">\n",
       "   <rect x=\"147.96\" y=\"7.2\" width=\"118.08\" height=\"118.08\"/>\n",
       "  </clipPath>\n",
       "  <clipPath id=\"pf13e7f410d\">\n",
       "   <rect x=\"288.72\" y=\"7.2\" width=\"118.08\" height=\"118.08\"/>\n",
       "  </clipPath>\n",
       "  <clipPath id=\"pfebd77ac20\">\n",
       "   <rect x=\"429.48\" y=\"7.2\" width=\"118.08\" height=\"118.08\"/>\n",
       "  </clipPath>\n",
       " </defs>\n",
       "</svg>\n"
      ],
      "text/plain": [
       "<Figure size 576x144 with 4 Axes>"
      ]
     },
     "metadata": {
      "needs_background": "light"
     },
     "output_type": "display_data"
    }
   ],
   "source": [
    "fig, ax = plt.subplots(1, 4, figsize=[8, 2])\n",
    "for i, s in enumerate(slices):\n",
    "    ax[i].imshow(im[s], origin='lower')\n",
    "    ax[i].axis(False);"
   ]
  }
 ],
 "metadata": {
  "kernelspec": {
   "display_name": "Python 3",
   "language": "python",
   "name": "python3"
  },
  "language_info": {
   "codemirror_mode": {
    "name": "ipython",
    "version": 3
   },
   "file_extension": ".py",
   "mimetype": "text/x-python",
   "name": "python",
   "nbconvert_exporter": "python",
   "pygments_lexer": "ipython3",
   "version": "3.8.13"
  }
 },
 "nbformat": 4,
 "nbformat_minor": 5
}
