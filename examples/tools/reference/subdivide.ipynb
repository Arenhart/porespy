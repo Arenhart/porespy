{
 "cells": [
  {
   "cell_type": "markdown",
   "id": "76acccd3",
   "metadata": {},
   "source": [
    "# `subdivide`"
   ]
  },
  {
   "cell_type": "markdown",
   "id": "c6b5700f",
   "metadata": {},
   "source": [
    "## Import packages"
   ]
  },
  {
   "cell_type": "code",
   "execution_count": 1,
   "id": "4aa71432",
   "metadata": {
    "execution": {
     "iopub.execute_input": "2022-04-26T09:07:31.580397Z",
     "iopub.status.busy": "2022-04-26T09:07:31.579968Z",
     "iopub.status.idle": "2022-04-26T09:07:33.777582Z",
     "shell.execute_reply": "2022-04-26T09:07:33.776995Z"
    }
   },
   "outputs": [],
   "source": [
    "import numpy as np\n",
    "import porespy as ps\n",
    "import scipy.ndimage as spim\n",
    "import matplotlib.pyplot as plt\n",
    "import skimage\n",
    "\n",
    "np.random.rand(0)\n",
    "ps.visualization.set_mpl_style()"
   ]
  },
  {
   "cell_type": "markdown",
   "id": "be0cb230",
   "metadata": {},
   "source": [
    "## Create image and variables"
   ]
  },
  {
   "cell_type": "code",
   "execution_count": 2,
   "id": "9b8c0fbb",
   "metadata": {
    "execution": {
     "iopub.execute_input": "2022-04-26T09:07:33.782742Z",
     "iopub.status.busy": "2022-04-26T09:07:33.781576Z",
     "iopub.status.idle": "2022-04-26T09:07:33.947598Z",
     "shell.execute_reply": "2022-04-26T09:07:33.947139Z"
    }
   },
   "outputs": [
    {
     "data": {
      "image/svg+xml": [
       "<?xml version=\"1.0\" encoding=\"utf-8\" standalone=\"no\"?>\n",
       "<!DOCTYPE svg PUBLIC \"-//W3C//DTD SVG 1.1//EN\"\n",
       "  \"http://www.w3.org/Graphics/SVG/1.1/DTD/svg11.dtd\">\n",
       "<svg xmlns:xlink=\"http://www.w3.org/1999/xlink\" width=\"276.48pt\" height=\"276.48pt\" viewBox=\"0 0 276.48 276.48\" xmlns=\"http://www.w3.org/2000/svg\" version=\"1.1\">\n",
       " <metadata>\n",
       "  <rdf:RDF xmlns:dc=\"http://purl.org/dc/elements/1.1/\" xmlns:cc=\"http://creativecommons.org/ns#\" xmlns:rdf=\"http://www.w3.org/1999/02/22-rdf-syntax-ns#\">\n",
       "   <cc:Work>\n",
       "    <dc:type rdf:resource=\"http://purl.org/dc/dcmitype/StillImage\"/>\n",
       "    <dc:date>2022-04-26T09:07:33.892472</dc:date>\n",
       "    <dc:format>image/svg+xml</dc:format>\n",
       "    <dc:creator>\n",
       "     <cc:Agent>\n",
       "      <dc:title>Matplotlib v3.5.1, https://matplotlib.org/</dc:title>\n",
       "     </cc:Agent>\n",
       "    </dc:creator>\n",
       "   </cc:Work>\n",
       "  </rdf:RDF>\n",
       " </metadata>\n",
       " <defs>\n",
       "  <style type=\"text/css\">*{stroke-linejoin: round; stroke-linecap: butt}</style>\n",
       " </defs>\n",
       " <g id=\"figure_1\">\n",
       "  <g id=\"patch_1\">\n",
       "   <path d=\"M 0 276.48 \n",
       "L 276.48 276.48 \n",
       "L 276.48 0 \n",
       "L 0 0 \n",
       "L 0 276.48 \n",
       "z\n",
       "\" style=\"fill: none\"/>\n",
       "  </g>\n",
       "  <g id=\"axes_1\">\n",
       "   <g clip-path=\"url(#pf8faf15831)\">\n",
       "    <image xlink:href=\"data:image/png;base64,\n",
       "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\" id=\"image2b2cab01ca\" transform=\"matrix(0.526 0 0 -0.526 7.2 269.28)\" style=\"image-rendering:crisp-edges;image-rendering:pixelated\" width=\"500\" height=\"500\"/>\n",
       "   </g>\n",
       "  </g>\n",
       " </g>\n",
       " <defs>\n",
       "  <clipPath id=\"pf8faf15831\">\n",
       "   <rect x=\"7.2\" y=\"7.2\" width=\"262.08\" height=\"262.08\"/>\n",
       "  </clipPath>\n",
       " </defs>\n",
       "</svg>\n"
      ],
      "text/plain": [
       "<Figure size 288x288 with 1 Axes>"
      ]
     },
     "metadata": {
      "needs_background": "light"
     },
     "output_type": "display_data"
    }
   ],
   "source": [
    "im = ps.generators.blobs([500, 500])\n",
    "fig, ax = plt.subplots(1, 1, figsize=[4, 4])\n",
    "ax.axis(False)\n",
    "ax.imshow(im, origin='lower');"
   ]
  },
  {
   "cell_type": "markdown",
   "id": "6e9cb6b9",
   "metadata": {},
   "source": [
    "## Apply tool\n",
    "``slice`` objects are returned:"
   ]
  },
  {
   "cell_type": "code",
   "execution_count": 3,
   "id": "c0497eed",
   "metadata": {
    "execution": {
     "iopub.execute_input": "2022-04-26T09:07:33.952574Z",
     "iopub.status.busy": "2022-04-26T09:07:33.951108Z",
     "iopub.status.idle": "2022-04-26T09:07:33.959585Z",
     "shell.execute_reply": "2022-04-26T09:07:33.959214Z"
    }
   },
   "outputs": [
    {
     "name": "stdout",
     "output_type": "stream",
     "text": [
      "[(slice(0, 270, None), slice(0, 270, None)), (slice(0, 270, None), slice(230, 500, None)), (slice(230, 500, None), slice(0, 270, None)), (slice(230, 500, None), slice(230, 500, None))]\n"
     ]
    }
   ],
   "source": [
    "slices = ps.tools.subdivide(im=im, divs=2, overlap=20)\n",
    "print(slices)"
   ]
  },
  {
   "cell_type": "code",
   "execution_count": 4,
   "id": "f4c49c48",
   "metadata": {
    "execution": {
     "iopub.execute_input": "2022-04-26T09:07:33.963739Z",
     "iopub.status.busy": "2022-04-26T09:07:33.962331Z",
     "iopub.status.idle": "2022-04-26T09:07:34.185304Z",
     "shell.execute_reply": "2022-04-26T09:07:34.184795Z"
    }
   },
   "outputs": [
    {
     "data": {
      "image/svg+xml": [
       "<?xml version=\"1.0\" encoding=\"utf-8\" standalone=\"no\"?>\n",
       "<!DOCTYPE svg PUBLIC \"-//W3C//DTD SVG 1.1//EN\"\n",
       "  \"http://www.w3.org/Graphics/SVG/1.1/DTD/svg11.dtd\">\n",
       "<svg xmlns:xlink=\"http://www.w3.org/1999/xlink\" width=\"554.76pt\" height=\"132.48pt\" viewBox=\"0 0 554.76 132.48\" xmlns=\"http://www.w3.org/2000/svg\" version=\"1.1\">\n",
       " <metadata>\n",
       "  <rdf:RDF xmlns:dc=\"http://purl.org/dc/elements/1.1/\" xmlns:cc=\"http://creativecommons.org/ns#\" xmlns:rdf=\"http://www.w3.org/1999/02/22-rdf-syntax-ns#\">\n",
       "   <cc:Work>\n",
       "    <dc:type rdf:resource=\"http://purl.org/dc/dcmitype/StillImage\"/>\n",
       "    <dc:date>2022-04-26T09:07:34.134416</dc:date>\n",
       "    <dc:format>image/svg+xml</dc:format>\n",
       "    <dc:creator>\n",
       "     <cc:Agent>\n",
       "      <dc:title>Matplotlib v3.5.1, https://matplotlib.org/</dc:title>\n",
       "     </cc:Agent>\n",
       "    </dc:creator>\n",
       "   </cc:Work>\n",
       "  </rdf:RDF>\n",
       " </metadata>\n",
       " <defs>\n",
       "  <style type=\"text/css\">*{stroke-linejoin: round; stroke-linecap: butt}</style>\n",
       " </defs>\n",
       " <g id=\"figure_1\">\n",
       "  <g id=\"patch_1\">\n",
       "   <path d=\"M 0 132.48 \n",
       "L 554.76 132.48 \n",
       "L 554.76 0 \n",
       "L 0 0 \n",
       "L 0 132.48 \n",
       "z\n",
       "\" style=\"fill: none\"/>\n",
       "  </g>\n",
       "  <g id=\"axes_1\">\n",
       "   <g clip-path=\"url(#pcc8cffa261)\">\n",
       "    <image xlink:href=\"data:image/png;base64,\n",
       "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\" id=\"imagec94ec46cd9\" transform=\"matrix(0.440741 0 0 -0.440741 7.2 125.28)\" style=\"image-rendering:crisp-edges;image-rendering:pixelated\" width=\"270\" height=\"270\"/>\n",
       "   </g>\n",
       "  </g>\n",
       "  <g id=\"axes_2\">\n",
       "   <g clip-path=\"url(#pa30b0e8391)\">\n",
       "    <image xlink:href=\"data:image/png;base64,\n",
       "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\" id=\"image2ff105e2a5\" transform=\"matrix(0.440741 0 0 -0.440741 147.96 125.28)\" style=\"image-rendering:crisp-edges;image-rendering:pixelated\" width=\"270\" height=\"270\"/>\n",
       "   </g>\n",
       "  </g>\n",
       "  <g id=\"axes_3\">\n",
       "   <g clip-path=\"url(#pe029256051)\">\n",
       "    <image xlink:href=\"data:image/png;base64,\n",
       "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\" id=\"imaged2e2d09023\" transform=\"matrix(0.440741 0 0 -0.440741 288.72 125.28)\" style=\"image-rendering:crisp-edges;image-rendering:pixelated\" width=\"270\" height=\"270\"/>\n",
       "   </g>\n",
       "  </g>\n",
       "  <g id=\"axes_4\">\n",
       "   <g clip-path=\"url(#pc84458d824)\">\n",
       "    <image xlink:href=\"data:image/png;base64,\n",
       "iVBORw0KGgoAAAANSUhEUgAAAQ4AAAEOCAYAAAB4sfmlAAAOYUlEQVR4nO3dy3HcyBKF4SLjWsG1DKARiqAD4yy9oBWUFQrNghcjdBMN1LsyT/7fcmJEoqqyTiceDT79/vXjz9vLa1Ly/vlR9P9bGH/pMeeyMDboeY5eWBbGPyo0gFGeVx9AdKNDg1DCCKGDw0K3AXgkFxyePmFnHaunOYEPUsHBBgHm+N/qA+jBY2B4PGZgq1u3wdFj471/foS5zhFprOjn0T5zFRx8SgNzXO0108ExIyhWfBITgLAspz5NBceqDUUbD5Ttv2cLn37vnx98CgMLle6/p9+/fvxJac3DUNbCYsYcrBozHZVvOXVTu8Y1NflfcLT+8lLWQmMzevwEB3K11srVmrf8/G/BkfMLW1kNjc3I8RMcOGN9b2wOnxz1cvDeMK8446k+Hj5yHvmCpdq46TZs87jXLr+r4nFQFjGHOOK1LrK/5OZ1gLVUxku3YZP3D+Sib8f2Gmy0YvZcIOhPoR6qvlZPeORbWSRR5tgThdBIqeF9HIQHkM/7qcm9phf5EB7n6DaQkk6XsWfiDWBvL69yha5YLCinWgfNwdFzYiyFh6VjKeX52FWonZrcM9Fx7CkUvXLB4FqE9e8SHL0nanV4tPz+CEWDY+pdxp6pF/nsbZt35kKsDiz4FCUs9sydqtybtZl7/J6IBRRd1DU3HxwpjQ8POg2UinRacsRFcIyieBs4pbifgrMwvx2DY/Rk9t7gioGBsaJ3GXuuOo4em31Ul2GtoKwdj3fM5y1XwZFSW3hE6zIodoziLjhSKg8A1WsZOQiPdszhd12Dw9ozF5EDY4/CR29mHwDL8eghMcLiu6PwYJ5Q6/DPI7SKWJCKn+oR1/GI4tq2ct1xWKFaWHQpeGRIx5FSrAJTDY4cUdY58hofcXlXBXbwUFRMw4KDYopFPUCidFa5hnYcyoWEY+oBgi/DT1UoophYd21TrnEoF5Hy2FqpzQ2nK39Nux27FVHPyefBL8z29vIqF4il3l5ex92OzfnlNXIWbWaARC+iHGqBHnXN9+u4LDg2uUVVs1gzCjZqEZVQC46UYq370fotD47RRhZtpOJpRXj49Gjd5B8A4/YgRlEMw72z8ckHx6Z3gBBGSEk/PB4JExwbNvwayvOuGB5XY5K/xnFm5J0dfKe4we4p1EbOOoUOjr2Rd3fwJUJw7I1+dGBELeYeD8Fx4NHkERptogXHTL1qk+CAOQTHeC0BUrI+BAemIjzmKA2Q0nUJd1cFiKDkDf81Yc47RwFh+1Do+aVQggMIoudpIqcqAIoRHJiKW9oaCA4AxQgOAMUIDgDFCA5Mx3UO/7gdi5CuwosnXM8RHAglt9sZ8VZ+JZyqIITaN8BxWnWML7lhGU9voafzuEXHAVm8Y3YcggOSRmx0wuMvggPLjNrcbPDxCA7ImBEYhNIXbscOknMxjSLsh7mci7sqndVcfY9e9K13LFbMX/S7LJyqdFLyqrajf4s60UN3lWeKtl2POYy8DrWbf2VoRA+sp59P/9ycqkSfkFK9N3zU+S+ZR0tzFC3wt7n/dnF0mwhLi7Nn5S+uRSuY0d4/P7igbNCj+f7WcZT841l6bNKeYxgdGqvne7X7+bU+H4ofIldznnU79uwV6yP1XJAexahYIBZZDwp1OfNf/BzHrFOZ0Zv06Of3/LsTiCP3NEtJ1qnKFU+nAV7wqeuLSt3m1l2X5zhanmG4/zmAR9GCvusj5y3XQggNYK2SPdvlVOXK2QERGI9F+xRT4LmeS+ptypfcPE8mEEHphxTfVQE6itIlEhwAihEcQGfeuo6a4yU4ABQjOIABvHUdpQgOILDagCM4gEGUuw6CA0AxggNAMYLDKOU2NxLVdSQ4gKBaQm35H2Ti5TnfqX5KRaX4op9lwfFoc+z/u9pk5yA04MGSU5XczcEfEIYKtTqeHhw1ExglQCKMERqmBkfrxlDeWMpjwxelNXZ3V0Wx+1AbD3xouYY4LTh6bw6VzaYyDuRRWW93Hcee90XwfvyIa0pwjNwgXjef1+NGO4W1X/4AWA/eHrBRKJwzOX8lDza8vbzGfgOYl8L0cpw1zv4wV68/2qXCex0MD46ZE2R9MawfX4vcUCA87KlZE5mOY2N1c1o9rlY1nQTdxxdLNVG6HnLBYZGlAumpdfMTHraUrIdkcKhuVCt6dgzRw8Nareaux9DgsDYpKyjNwahTDMLjY/Uh3MhZZ8mOIyV7i+HZjGsS0cPDom3dj9ZG4jmOR7w932ENczeP9Vq9PzbZjgP1Vt31sLxxcEs+ODhlyWfhNunq37+Sp1qVDw5csxAYe5aOBcdCBIenJJ+NTWqLl1oNERz4zlqXcc/ysSFQcHhJcsBDrYYJjhWsFoCXT3MvxxnRsOCwuGksHhPORQ0P67UaruOwviCjRd2IHlmu1XDBMYvlRfeGsLMnZHCwqeGF1VodEhxWB7vn4RjxV+Suw2Kthuw4NqMWxOJCbywf25Xo4WFp7boHh6XB5eAPRfkSOTxSshMgXYPDwoBqeD3uWtHGq2gLkFVB0i04KEbmYJboXceR2SHy9PPpnz+tP0Rlw7QUpMc58L4BPc75bKPWuOkNYGoLZ/0tTLi1rZVaHfa0n5uetf30+9ePP6U/UH2hIs2HSlB6XoPZeqz50+9fP25OVe5/aNQFyZ1chflRCY+U7K/H1VzPPP6Wdf8WHPjrbGKtF2gppfBIyd76lMzv7GOvWXuCI0OULkwtPFJav1Y1c7rimEuPk+DAN4oBspmxKXvM36rAyz12ggOHlMPjkZbN2nu+VnZKOWMhOPBQxPCwYvUpVkrn6x/6S244Z6F4sc7Z+hMcOEV4xPboMXaCA5cID9wHCNc4kI1rHvNYD2s6DmSzXswqPMwzwQGgGMGBIh4+DTEewQEY4iWYCQ4U81Lc3niaV4IDQDGCAzDAU7eRUkrP3JsH1vIWGik1vnMUQD2PgbHhVAVVPBe9Bd7n7zklHiUGZrHyl9ha0XEAkygExua/axxvL69SAzty1FmpjxnrKdaY/MXRq9Mw/qgPRlGuqZtTFaVrHW8vr0XjURr7LMobo5X63Ehe4yAEsJJ6aKR0EByeN11pl3H071EmwiYpEWU+ZDoONj1WixIaKT0IDk+bsLXLQLtIGwZfHnYc1jfjqMCwPm6roodHtPGfnqpY20RbWFg7LnyJtnk2Ecd9+RzH7AfDCAXftlqJso4RQyOlzAfAeoRHlELCl/fPD9ZcWPaTo/dFcB8kFAnuqYdH6Yfp1Vx46l6qHzlXLgj0ox4eOXLHv///rIeIzHMcsEvlq+R7ueOpDU3rNwEIDkyjFh5Xemx8q+Eh/+1YYLbem93iN7jpODCVpeKvdTaGkR2Cpe6D4MB03sPj0QaesbGthAfBgSW8h8fe7AuZFsKDaxxABQubdyU6Diyj1HXMtjq4CI47FDO8WBkenKqIufpqgDU8WeoTHceO9U12xvqThhhj1ZoTHP/nOTSA2cIHh8L3KLx3Gt7nf7UV6x86ONQLVn18WCdkcCh0GXv3Y1EbH67N7jrC3VVR3VCq44JNoToONhfQR5jgIDSgbubpSpjgANBPiOCg2wD6ChEcAPqSv6systvw9r0Qq7w/wBaRfHCMkPsGKILkGqHR16y/vMipSqGSQueLZ+eYG78IjgnYILcIVP8IjgItxc5GITCUcI0jU68/rhPtugdBoYmOY7IIG2nrLCKM1aIZ805wZBj1l7nUEBZxEBwXRm0EpQ1GYMQjHxwU9FjMb0zywdFi9KbwvOnoMmwbvTYhgqNmEtkUjzE3CBEcKZU/8YljzA1SChQcKeUV/eyN4WUjcmqCvXAPgG3Ff/8gFpviMatzc/UwndXjVvD08+mfP6sPAja/SWt547XMl+Vx9TSypsJ1HMhjeXO1bohH/97ymEuN/iAiOHDD+uYZuSGOfrb1+bg3qxMjOIyw8AU4b5tkhv2aWJ6fmtppGQ/BAdMbwhJrIbLyg4bgMGR212Gh+L3a1mn2HK7uSjcER0AERj8zuhArYbHH7ViDRhWKQmBY3ET3es3zjLHWHivBYVDPglEIi3sewiOlurlfMbaa4yQ4jGotIMXA2PMSHinlrcXq8ZTWC9c4xKgHhkerQyFH6cVeOg7DSgouamB42JQeXdUTwWHc2caIGhb3CI859vVGcDhg7cEjywiROQgOyCE8xgv1Ih/EwEuHxiM4IIvwGIfggDTCYwyCA/IIj/5CPAAW4Y1POGfhfSdKpO+q5BYKARIH4dGH5KnK++dHUYFQTHHwIdGHXHDUhgDhAeSTCY7SLuPRz4A+uo52EsHRc8MTHjEQHm3c31UZsdHfPz/MvEuSAodFru+qjO4OZmxa7vysRYdZx+2pisKCc+cHXrkMjlmbaNTv6XEhF1jJXXB433Atx+997NDhKjhWbBxrd2wID1jgJji8bxhrAQS0cBEcqzeKxQfLVs8JYjMfHGyQx5gbrGI6OBQ2xugxKMwR/DEZHNyuLMNc1WHe6pkLDhazDvOGmcwEh/Uuo+bYZo/H8vxZw1y1MREcqou44vslqnPZi/UPKC+WBgeLOAZzeox56WfJ1+o9LqC3b6eueDWAVR7rzbqpwcECzhU9PKi3caYER+QFXP1a/mjhEbnWZhoaHCyiDds6KAcItTbXkOBgEW+t7jo2at2HhTmN4KhmugeH6mKqbDrv3YdqfVl0ViPdgoMFPWel69h4CBBL8xVJTk10CQ4W2K8RAUI9+JVbB03BQYGUsdZ17O2PK7d4rI4F5Uo/OKqDg6LRxdrGUtNtVj1yTmHVs3xNAfHU1mNxcBAagIaWDzET346Nhq4Dq7XWYFFwRO82oo8fGnp8cGUHB5umL7oOzPb28tqt7jhVAQLo/UGVFRx0G4BfI7pbOg5A2KhT4svgoNsYh+scGGlkfdFxAChGcACCRnezBAeAYgQHgGL/AhLFv7nz3KYGAAAAAElFTkSuQmCC\" id=\"image11030a4605\" transform=\"matrix(0.440741 0 0 -0.440741 429.48 125.28)\" style=\"image-rendering:crisp-edges;image-rendering:pixelated\" width=\"270\" height=\"270\"/>\n",
       "   </g>\n",
       "  </g>\n",
       " </g>\n",
       " <defs>\n",
       "  <clipPath id=\"pcc8cffa261\">\n",
       "   <rect x=\"7.2\" y=\"7.2\" width=\"118.08\" height=\"118.08\"/>\n",
       "  </clipPath>\n",
       "  <clipPath id=\"pa30b0e8391\">\n",
       "   <rect x=\"147.96\" y=\"7.2\" width=\"118.08\" height=\"118.08\"/>\n",
       "  </clipPath>\n",
       "  <clipPath id=\"pe029256051\">\n",
       "   <rect x=\"288.72\" y=\"7.2\" width=\"118.08\" height=\"118.08\"/>\n",
       "  </clipPath>\n",
       "  <clipPath id=\"pc84458d824\">\n",
       "   <rect x=\"429.48\" y=\"7.2\" width=\"118.08\" height=\"118.08\"/>\n",
       "  </clipPath>\n",
       " </defs>\n",
       "</svg>\n"
      ],
      "text/plain": [
       "<Figure size 576x144 with 4 Axes>"
      ]
     },
     "metadata": {
      "needs_background": "light"
     },
     "output_type": "display_data"
    }
   ],
   "source": [
    "fig, ax = plt.subplots(1, 4, figsize=[8, 2])\n",
    "for i, s in enumerate(slices):\n",
    "    ax[i].imshow(im[s], origin='lower')\n",
    "    ax[i].axis(False);"
   ]
  }
 ],
 "metadata": {
  "kernelspec": {
   "display_name": "Python 3 (ipykernel)",
   "language": "python",
   "name": "python3"
  },
  "language_info": {
   "codemirror_mode": {
    "name": "ipython",
    "version": 3
   },
   "file_extension": ".py",
   "mimetype": "text/x-python",
   "name": "python",
   "nbconvert_exporter": "python",
   "pygments_lexer": "ipython3",
   "version": "3.8.13"
  }
 },
 "nbformat": 4,
 "nbformat_minor": 5
}
