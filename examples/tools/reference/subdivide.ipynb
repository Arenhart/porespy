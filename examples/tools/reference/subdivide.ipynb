{
 "cells": [
  {
   "cell_type": "markdown",
   "id": "76acccd3",
   "metadata": {},
   "source": [
    "# `subdivide`"
   ]
  },
  {
   "cell_type": "markdown",
   "id": "c6b5700f",
   "metadata": {},
   "source": [
    "## Import packages"
   ]
  },
  {
   "cell_type": "code",
   "execution_count": 1,
   "id": "4aa71432",
   "metadata": {
    "execution": {
     "iopub.execute_input": "2022-06-22T19:31:40.926173Z",
     "iopub.status.busy": "2022-06-22T19:31:40.925575Z",
     "iopub.status.idle": "2022-06-22T19:31:42.978324Z",
     "shell.execute_reply": "2022-06-22T19:31:42.977572Z"
    }
   },
   "outputs": [],
   "source": [
    "import numpy as np\n",
    "import porespy as ps\n",
    "import scipy.ndimage as spim\n",
    "import matplotlib.pyplot as plt\n",
    "import skimage\n",
    "\n",
    "np.random.rand(0)\n",
    "ps.visualization.set_mpl_style()"
   ]
  },
  {
   "cell_type": "markdown",
   "id": "be0cb230",
   "metadata": {},
   "source": [
    "## Create image and variables"
   ]
  },
  {
   "cell_type": "code",
   "execution_count": 2,
   "id": "9b8c0fbb",
   "metadata": {
    "execution": {
     "iopub.execute_input": "2022-06-22T19:31:42.982932Z",
     "iopub.status.busy": "2022-06-22T19:31:42.982423Z",
     "iopub.status.idle": "2022-06-22T19:31:43.108258Z",
     "shell.execute_reply": "2022-06-22T19:31:43.107596Z"
    }
   },
   "outputs": [
    {
     "data": {
      "image/svg+xml": [
       "<?xml version=\"1.0\" encoding=\"utf-8\" standalone=\"no\"?>\n",
       "<!DOCTYPE svg PUBLIC \"-//W3C//DTD SVG 1.1//EN\"\n",
       "  \"http://www.w3.org/Graphics/SVG/1.1/DTD/svg11.dtd\">\n",
       "<svg xmlns:xlink=\"http://www.w3.org/1999/xlink\" width=\"280.8pt\" height=\"280.8pt\" viewBox=\"0 0 280.8 280.8\" xmlns=\"http://www.w3.org/2000/svg\" version=\"1.1\">\n",
       " <metadata>\n",
       "  <rdf:RDF xmlns:dc=\"http://purl.org/dc/elements/1.1/\" xmlns:cc=\"http://creativecommons.org/ns#\" xmlns:rdf=\"http://www.w3.org/1999/02/22-rdf-syntax-ns#\">\n",
       "   <cc:Work>\n",
       "    <dc:type rdf:resource=\"http://purl.org/dc/dcmitype/StillImage\"/>\n",
       "    <dc:date>2022-06-22T19:31:43.078221</dc:date>\n",
       "    <dc:format>image/svg+xml</dc:format>\n",
       "    <dc:creator>\n",
       "     <cc:Agent>\n",
       "      <dc:title>Matplotlib v3.5.2, https://matplotlib.org/</dc:title>\n",
       "     </cc:Agent>\n",
       "    </dc:creator>\n",
       "   </cc:Work>\n",
       "  </rdf:RDF>\n",
       " </metadata>\n",
       " <defs>\n",
       "  <style type=\"text/css\">*{stroke-linejoin: round; stroke-linecap: butt}</style>\n",
       " </defs>\n",
       " <g id=\"figure_1\">\n",
       "  <g id=\"patch_1\">\n",
       "   <path d=\"M 0 280.8 \n",
       "L 280.8 280.8 \n",
       "L 280.8 0 \n",
       "L 0 0 \n",
       "L 0 280.8 \n",
       "z\n",
       "\" style=\"fill: none\"/>\n",
       "  </g>\n",
       "  <g id=\"axes_1\">\n",
       "   <g clip-path=\"url(#p395207bca2)\">\n",
       "    <image xlink:href=\"data:image/png;base64,\n",
       "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\" id=\"image4fd9b918fb\" transform=\"matrix(0.534 0 0 -0.534 7.2 273.6)\" style=\"image-rendering:crisp-edges;image-rendering:pixelated\" width=\"500\" height=\"500\"/>\n",
       "   </g>\n",
       "  </g>\n",
       " </g>\n",
       " <defs>\n",
       "  <clipPath id=\"p395207bca2\">\n",
       "   <rect x=\"7.2\" y=\"7.2\" width=\"266.4\" height=\"266.4\"/>\n",
       "  </clipPath>\n",
       " </defs>\n",
       "</svg>\n"
      ],
      "text/plain": [
       "<Figure size 288x288 with 1 Axes>"
      ]
     },
     "metadata": {
      "needs_background": "light"
     },
     "output_type": "display_data"
    }
   ],
   "source": [
    "im = ps.generators.blobs([500, 500])\n",
    "fig, ax = plt.subplots(1, 1, figsize=[4, 4])\n",
    "ax.axis(False)\n",
    "ax.imshow(im, origin='lower');"
   ]
  },
  {
   "cell_type": "markdown",
   "id": "6e9cb6b9",
   "metadata": {},
   "source": [
    "## Apply tool\n",
    "``slice`` objects are returned:"
   ]
  },
  {
   "cell_type": "code",
   "execution_count": 3,
   "id": "c0497eed",
   "metadata": {
    "execution": {
     "iopub.execute_input": "2022-06-22T19:31:43.112165Z",
     "iopub.status.busy": "2022-06-22T19:31:43.111910Z",
     "iopub.status.idle": "2022-06-22T19:31:43.119748Z",
     "shell.execute_reply": "2022-06-22T19:31:43.119052Z"
    }
   },
   "outputs": [
    {
     "name": "stdout",
     "output_type": "stream",
     "text": [
      "[(slice(0, 270, None), slice(0, 270, None)), (slice(0, 270, None), slice(230, 500, None)), (slice(230, 500, None), slice(0, 270, None)), (slice(230, 500, None), slice(230, 500, None))]\n"
     ]
    }
   ],
   "source": [
    "slices = ps.tools.subdivide(im=im, divs=2, overlap=20)\n",
    "print(slices)"
   ]
  },
  {
   "cell_type": "code",
   "execution_count": 4,
   "id": "f4c49c48",
   "metadata": {
    "execution": {
     "iopub.execute_input": "2022-06-22T19:31:43.123783Z",
     "iopub.status.busy": "2022-06-22T19:31:43.123534Z",
     "iopub.status.idle": "2022-06-22T19:31:43.362911Z",
     "shell.execute_reply": "2022-06-22T19:31:43.362206Z"
    }
   },
   "outputs": [
    {
     "data": {
      "image/svg+xml": [
       "<?xml version=\"1.0\" encoding=\"utf-8\" standalone=\"no\"?>\n",
       "<!DOCTYPE svg PUBLIC \"-//W3C//DTD SVG 1.1//EN\"\n",
       "  \"http://www.w3.org/Graphics/SVG/1.1/DTD/svg11.dtd\">\n",
       "<svg xmlns:xlink=\"http://www.w3.org/1999/xlink\" width=\"560.7pt\" height=\"136.8pt\" viewBox=\"0 0 560.7 136.8\" xmlns=\"http://www.w3.org/2000/svg\" version=\"1.1\">\n",
       " <metadata>\n",
       "  <rdf:RDF xmlns:dc=\"http://purl.org/dc/elements/1.1/\" xmlns:cc=\"http://creativecommons.org/ns#\" xmlns:rdf=\"http://www.w3.org/1999/02/22-rdf-syntax-ns#\">\n",
       "   <cc:Work>\n",
       "    <dc:type rdf:resource=\"http://purl.org/dc/dcmitype/StillImage\"/>\n",
       "    <dc:date>2022-06-22T19:31:43.302748</dc:date>\n",
       "    <dc:format>image/svg+xml</dc:format>\n",
       "    <dc:creator>\n",
       "     <cc:Agent>\n",
       "      <dc:title>Matplotlib v3.5.2, https://matplotlib.org/</dc:title>\n",
       "     </cc:Agent>\n",
       "    </dc:creator>\n",
       "   </cc:Work>\n",
       "  </rdf:RDF>\n",
       " </metadata>\n",
       " <defs>\n",
       "  <style type=\"text/css\">*{stroke-linejoin: round; stroke-linecap: butt}</style>\n",
       " </defs>\n",
       " <g id=\"figure_1\">\n",
       "  <g id=\"patch_1\">\n",
       "   <path d=\"M 0 136.8 \n",
       "L 560.7 136.8 \n",
       "L 560.7 0 \n",
       "L 0 0 \n",
       "L 0 136.8 \n",
       "z\n",
       "\" style=\"fill: none\"/>\n",
       "  </g>\n",
       "  <g id=\"axes_1\">\n",
       "   <g clip-path=\"url(#p9869d5924b)\">\n",
       "    <image xlink:href=\"data:image/png;base64,\n",
       "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\" id=\"imagee4e4da23ad\" transform=\"matrix(0.455556 0 0 -0.455556 7.2 129.6)\" style=\"image-rendering:crisp-edges;image-rendering:pixelated\" width=\"270\" height=\"270\"/>\n",
       "   </g>\n",
       "  </g>\n",
       "  <g id=\"axes_2\">\n",
       "   <g clip-path=\"url(#p30fbf28d88)\">\n",
       "    <image xlink:href=\"data:image/png;base64,\n",
       "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\" id=\"imagebba5a37bc2\" transform=\"matrix(0.455556 0 0 -0.455556 148.5 129.6)\" style=\"image-rendering:crisp-edges;image-rendering:pixelated\" width=\"270\" height=\"270\"/>\n",
       "   </g>\n",
       "  </g>\n",
       "  <g id=\"axes_3\">\n",
       "   <g clip-path=\"url(#p21b6c71c36)\">\n",
       "    <image xlink:href=\"data:image/png;base64,\n",
       "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\" id=\"image0b7fabf1f3\" transform=\"matrix(0.455556 0 0 -0.455556 289.8 129.6)\" style=\"image-rendering:crisp-edges;image-rendering:pixelated\" width=\"270\" height=\"270\"/>\n",
       "   </g>\n",
       "  </g>\n",
       "  <g id=\"axes_4\">\n",
       "   <g clip-path=\"url(#p582b1e11c8)\">\n",
       "    <image xlink:href=\"data:image/png;base64,\n",
       "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\" id=\"image95c1dc6e45\" transform=\"matrix(0.455556 0 0 -0.455556 431.1 129.6)\" style=\"image-rendering:crisp-edges;image-rendering:pixelated\" width=\"270\" height=\"270\"/>\n",
       "   </g>\n",
       "  </g>\n",
       " </g>\n",
       " <defs>\n",
       "  <clipPath id=\"p9869d5924b\">\n",
       "   <rect x=\"7.2\" y=\"7.2\" width=\"122.4\" height=\"122.4\"/>\n",
       "  </clipPath>\n",
       "  <clipPath id=\"p30fbf28d88\">\n",
       "   <rect x=\"148.5\" y=\"7.2\" width=\"122.4\" height=\"122.4\"/>\n",
       "  </clipPath>\n",
       "  <clipPath id=\"p21b6c71c36\">\n",
       "   <rect x=\"289.8\" y=\"7.2\" width=\"122.4\" height=\"122.4\"/>\n",
       "  </clipPath>\n",
       "  <clipPath id=\"p582b1e11c8\">\n",
       "   <rect x=\"431.1\" y=\"7.2\" width=\"122.4\" height=\"122.4\"/>\n",
       "  </clipPath>\n",
       " </defs>\n",
       "</svg>\n"
      ],
      "text/plain": [
       "<Figure size 576x144 with 4 Axes>"
      ]
     },
     "metadata": {
      "needs_background": "light"
     },
     "output_type": "display_data"
    }
   ],
   "source": [
    "fig, ax = plt.subplots(1, 4, figsize=[8, 2])\n",
    "for i, s in enumerate(slices):\n",
    "    ax[i].imshow(im[s], origin='lower')\n",
    "    ax[i].axis(False);"
   ]
  }
 ],
 "metadata": {
  "kernelspec": {
   "display_name": "Python 3 (ipykernel)",
   "language": "python",
   "name": "python3"
  },
  "language_info": {
   "codemirror_mode": {
    "name": "ipython",
    "version": 3
   },
   "file_extension": ".py",
   "mimetype": "text/x-python",
   "name": "python",
   "nbconvert_exporter": "python",
   "pygments_lexer": "ipython3",
   "version": "3.8.13"
  }
 },
 "nbformat": 4,
 "nbformat_minor": 5
}
