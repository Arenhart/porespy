{
 "cells": [
  {
   "cell_type": "markdown",
   "id": "6466491b",
   "metadata": {},
   "source": [
    "# subdivide"
   ]
  },
  {
   "cell_type": "markdown",
   "id": "4bd295ba",
   "metadata": {},
   "source": [
    "## Import packages"
   ]
  },
  {
   "cell_type": "code",
   "execution_count": 1,
   "id": "9acc29c7",
   "metadata": {
    "execution": {
     "iopub.execute_input": "2022-03-30T13:43:36.614760Z",
     "iopub.status.busy": "2022-03-30T13:43:36.614237Z",
     "iopub.status.idle": "2022-03-30T13:43:38.936753Z",
     "shell.execute_reply": "2022-03-30T13:43:38.936077Z"
    }
   },
   "outputs": [],
   "source": [
    "import numpy as np\n",
    "import porespy as ps\n",
    "import scipy.ndimage as spim\n",
    "import matplotlib.pyplot as plt\n",
    "import skimage\n",
    "\n",
    "np.random.rand(0)\n",
    "ps.visualization.set_mpl_style()"
   ]
  },
  {
   "cell_type": "markdown",
   "id": "1da74f27",
   "metadata": {},
   "source": [
    "## Create image and variables"
   ]
  },
  {
   "cell_type": "code",
   "execution_count": 2,
   "id": "fd35d4a1",
   "metadata": {
    "execution": {
     "iopub.execute_input": "2022-03-30T13:43:38.940517Z",
     "iopub.status.busy": "2022-03-30T13:43:38.940080Z",
     "iopub.status.idle": "2022-03-30T13:43:39.116640Z",
     "shell.execute_reply": "2022-03-30T13:43:39.116031Z"
    }
   },
   "outputs": [
    {
     "data": {
      "image/svg+xml": [
       "<?xml version=\"1.0\" encoding=\"utf-8\" standalone=\"no\"?>\n",
       "<!DOCTYPE svg PUBLIC \"-//W3C//DTD SVG 1.1//EN\"\n",
       "  \"http://www.w3.org/Graphics/SVG/1.1/DTD/svg11.dtd\">\n",
       "<svg xmlns:xlink=\"http://www.w3.org/1999/xlink\" width=\"276.48pt\" height=\"276.48pt\" viewBox=\"0 0 276.48 276.48\" xmlns=\"http://www.w3.org/2000/svg\" version=\"1.1\">\n",
       " <metadata>\n",
       "  <rdf:RDF xmlns:dc=\"http://purl.org/dc/elements/1.1/\" xmlns:cc=\"http://creativecommons.org/ns#\" xmlns:rdf=\"http://www.w3.org/1999/02/22-rdf-syntax-ns#\">\n",
       "   <cc:Work>\n",
       "    <dc:type rdf:resource=\"http://purl.org/dc/dcmitype/StillImage\"/>\n",
       "    <dc:date>2022-03-30T13:43:39.056111</dc:date>\n",
       "    <dc:format>image/svg+xml</dc:format>\n",
       "    <dc:creator>\n",
       "     <cc:Agent>\n",
       "      <dc:title>Matplotlib v3.5.1, https://matplotlib.org/</dc:title>\n",
       "     </cc:Agent>\n",
       "    </dc:creator>\n",
       "   </cc:Work>\n",
       "  </rdf:RDF>\n",
       " </metadata>\n",
       " <defs>\n",
       "  <style type=\"text/css\">*{stroke-linejoin: round; stroke-linecap: butt}</style>\n",
       " </defs>\n",
       " <g id=\"figure_1\">\n",
       "  <g id=\"patch_1\">\n",
       "   <path d=\"M 0 276.48 \n",
       "L 276.48 276.48 \n",
       "L 276.48 0 \n",
       "L 0 0 \n",
       "L 0 276.48 \n",
       "z\n",
       "\" style=\"fill: none\"/>\n",
       "  </g>\n",
       "  <g id=\"axes_1\">\n",
       "   <g clip-path=\"url(#pe1b5aa2b9b)\">\n",
       "    <image xlink:href=\"data:image/png;base64,\n",
       "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\" id=\"image3443b6d66f\" transform=\"matrix(0.526 0 0 -0.526 7.2 269.28)\" style=\"image-rendering:crisp-edges;image-rendering:pixelated\" width=\"500\" height=\"500\"/>\n",
       "   </g>\n",
       "  </g>\n",
       " </g>\n",
       " <defs>\n",
       "  <clipPath id=\"pe1b5aa2b9b\">\n",
       "   <rect x=\"7.2\" y=\"7.2\" width=\"262.08\" height=\"262.08\"/>\n",
       "  </clipPath>\n",
       " </defs>\n",
       "</svg>\n"
      ],
      "text/plain": [
       "<Figure size 288x288 with 1 Axes>"
      ]
     },
     "metadata": {
      "needs_background": "light"
     },
     "output_type": "display_data"
    }
   ],
   "source": [
    "im = ps.generators.blobs([500, 500])\n",
    "fig, ax = plt.subplots(1, 1, figsize=[4, 4])\n",
    "ax.axis(False)\n",
    "ax.imshow(im, origin='lower');"
   ]
  },
  {
   "cell_type": "markdown",
   "id": "34ab4db1",
   "metadata": {},
   "source": [
    "## Apply tool\n",
    "``slice`` objects are returned:"
   ]
  },
  {
   "cell_type": "code",
   "execution_count": 3,
   "id": "7d2f22f5",
   "metadata": {
    "execution": {
     "iopub.execute_input": "2022-03-30T13:43:39.120603Z",
     "iopub.status.busy": "2022-03-30T13:43:39.119492Z",
     "iopub.status.idle": "2022-03-30T13:43:39.129056Z",
     "shell.execute_reply": "2022-03-30T13:43:39.124772Z"
    }
   },
   "outputs": [
    {
     "name": "stdout",
     "output_type": "stream",
     "text": [
      "[(slice(0, 270, None), slice(0, 270, None)), (slice(0, 270, None), slice(230, 500, None)), (slice(230, 500, None), slice(0, 270, None)), (slice(230, 500, None), slice(230, 500, None))]\n"
     ]
    }
   ],
   "source": [
    "slices = ps.tools.subdivide(im=im, divs=2, overlap=20)\n",
    "print(slices)"
   ]
  },
  {
   "cell_type": "code",
   "execution_count": 4,
   "id": "79c00336",
   "metadata": {
    "execution": {
     "iopub.execute_input": "2022-03-30T13:43:39.132018Z",
     "iopub.status.busy": "2022-03-30T13:43:39.131745Z",
     "iopub.status.idle": "2022-03-30T13:43:39.326672Z",
     "shell.execute_reply": "2022-03-30T13:43:39.326102Z"
    }
   },
   "outputs": [
    {
     "data": {
      "image/svg+xml": [
       "<?xml version=\"1.0\" encoding=\"utf-8\" standalone=\"no\"?>\n",
       "<!DOCTYPE svg PUBLIC \"-//W3C//DTD SVG 1.1//EN\"\n",
       "  \"http://www.w3.org/Graphics/SVG/1.1/DTD/svg11.dtd\">\n",
       "<svg xmlns:xlink=\"http://www.w3.org/1999/xlink\" width=\"554.76pt\" height=\"132.48pt\" viewBox=\"0 0 554.76 132.48\" xmlns=\"http://www.w3.org/2000/svg\" version=\"1.1\">\n",
       " <metadata>\n",
       "  <rdf:RDF xmlns:dc=\"http://purl.org/dc/elements/1.1/\" xmlns:cc=\"http://creativecommons.org/ns#\" xmlns:rdf=\"http://www.w3.org/1999/02/22-rdf-syntax-ns#\">\n",
       "   <cc:Work>\n",
       "    <dc:type rdf:resource=\"http://purl.org/dc/dcmitype/StillImage\"/>\n",
       "    <dc:date>2022-03-30T13:43:39.268973</dc:date>\n",
       "    <dc:format>image/svg+xml</dc:format>\n",
       "    <dc:creator>\n",
       "     <cc:Agent>\n",
       "      <dc:title>Matplotlib v3.5.1, https://matplotlib.org/</dc:title>\n",
       "     </cc:Agent>\n",
       "    </dc:creator>\n",
       "   </cc:Work>\n",
       "  </rdf:RDF>\n",
       " </metadata>\n",
       " <defs>\n",
       "  <style type=\"text/css\">*{stroke-linejoin: round; stroke-linecap: butt}</style>\n",
       " </defs>\n",
       " <g id=\"figure_1\">\n",
       "  <g id=\"patch_1\">\n",
       "   <path d=\"M 0 132.48 \n",
       "L 554.76 132.48 \n",
       "L 554.76 0 \n",
       "L 0 0 \n",
       "L 0 132.48 \n",
       "z\n",
       "\" style=\"fill: none\"/>\n",
       "  </g>\n",
       "  <g id=\"axes_1\">\n",
       "   <g clip-path=\"url(#pacaecffdd7)\">\n",
       "    <image xlink:href=\"data:image/png;base64,\n",
       "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\" id=\"image9de2ab571d\" transform=\"matrix(0.440741 0 0 -0.440741 7.2 125.28)\" style=\"image-rendering:crisp-edges;image-rendering:pixelated\" width=\"270\" height=\"270\"/>\n",
       "   </g>\n",
       "  </g>\n",
       "  <g id=\"axes_2\">\n",
       "   <g clip-path=\"url(#pdd456b3969)\">\n",
       "    <image xlink:href=\"data:image/png;base64,\n",
       "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\" id=\"image024412c908\" transform=\"matrix(0.440741 0 0 -0.440741 147.96 125.28)\" style=\"image-rendering:crisp-edges;image-rendering:pixelated\" width=\"270\" height=\"270\"/>\n",
       "   </g>\n",
       "  </g>\n",
       "  <g id=\"axes_3\">\n",
       "   <g clip-path=\"url(#p1aa151d4e0)\">\n",
       "    <image xlink:href=\"data:image/png;base64,\n",
       "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\" id=\"image3c11c640b6\" transform=\"matrix(0.440741 0 0 -0.440741 288.72 125.28)\" style=\"image-rendering:crisp-edges;image-rendering:pixelated\" width=\"270\" height=\"270\"/>\n",
       "   </g>\n",
       "  </g>\n",
       "  <g id=\"axes_4\">\n",
       "   <g clip-path=\"url(#pa2656955b5)\">\n",
       "    <image xlink:href=\"data:image/png;base64,\n",
       "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\" id=\"image58b71c0b93\" transform=\"matrix(0.440741 0 0 -0.440741 429.48 125.28)\" style=\"image-rendering:crisp-edges;image-rendering:pixelated\" width=\"270\" height=\"270\"/>\n",
       "   </g>\n",
       "  </g>\n",
       " </g>\n",
       " <defs>\n",
       "  <clipPath id=\"pacaecffdd7\">\n",
       "   <rect x=\"7.2\" y=\"7.2\" width=\"118.08\" height=\"118.08\"/>\n",
       "  </clipPath>\n",
       "  <clipPath id=\"pdd456b3969\">\n",
       "   <rect x=\"147.96\" y=\"7.2\" width=\"118.08\" height=\"118.08\"/>\n",
       "  </clipPath>\n",
       "  <clipPath id=\"p1aa151d4e0\">\n",
       "   <rect x=\"288.72\" y=\"7.2\" width=\"118.08\" height=\"118.08\"/>\n",
       "  </clipPath>\n",
       "  <clipPath id=\"pa2656955b5\">\n",
       "   <rect x=\"429.48\" y=\"7.2\" width=\"118.08\" height=\"118.08\"/>\n",
       "  </clipPath>\n",
       " </defs>\n",
       "</svg>\n"
      ],
      "text/plain": [
       "<Figure size 576x144 with 4 Axes>"
      ]
     },
     "metadata": {
      "needs_background": "light"
     },
     "output_type": "display_data"
    }
   ],
   "source": [
    "fig, ax = plt.subplots(1, 4, figsize=[8, 2])\n",
    "for i, s in enumerate(slices):\n",
    "    ax[i].imshow(im[s], origin='lower')\n",
    "    ax[i].axis(False);"
   ]
  }
 ],
 "metadata": {
  "kernelspec": {
   "display_name": "Python 3",
   "language": "python",
   "name": "python3"
  },
  "language_info": {
   "codemirror_mode": {
    "name": "ipython",
    "version": 3
   },
   "file_extension": ".py",
   "mimetype": "text/x-python",
   "name": "python",
   "nbconvert_exporter": "python",
   "pygments_lexer": "ipython3",
   "version": "3.8.13"
  }
 },
 "nbformat": 4,
 "nbformat_minor": 5
}
