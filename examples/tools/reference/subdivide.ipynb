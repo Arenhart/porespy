{
 "cells": [
  {
   "cell_type": "markdown",
   "id": "3af6421e",
   "metadata": {},
   "source": [
    "# subdivide"
   ]
  },
  {
   "cell_type": "markdown",
   "id": "084162e0",
   "metadata": {},
   "source": [
    "## Import packages"
   ]
  },
  {
   "cell_type": "code",
   "execution_count": 1,
   "id": "ffd68d40",
   "metadata": {
    "execution": {
     "iopub.execute_input": "2022-03-30T14:06:33.573024Z",
     "iopub.status.busy": "2022-03-30T14:06:33.571036Z",
     "iopub.status.idle": "2022-03-30T14:06:35.834839Z",
     "shell.execute_reply": "2022-03-30T14:06:35.834129Z"
    }
   },
   "outputs": [],
   "source": [
    "import numpy as np\n",
    "import porespy as ps\n",
    "import scipy.ndimage as spim\n",
    "import matplotlib.pyplot as plt\n",
    "import skimage\n",
    "\n",
    "np.random.rand(0)\n",
    "ps.visualization.set_mpl_style()"
   ]
  },
  {
   "cell_type": "markdown",
   "id": "8bde753b",
   "metadata": {},
   "source": [
    "## Create image and variables"
   ]
  },
  {
   "cell_type": "code",
   "execution_count": 2,
   "id": "47c7284b",
   "metadata": {
    "execution": {
     "iopub.execute_input": "2022-03-30T14:06:35.838951Z",
     "iopub.status.busy": "2022-03-30T14:06:35.838284Z",
     "iopub.status.idle": "2022-03-30T14:06:35.998804Z",
     "shell.execute_reply": "2022-03-30T14:06:35.998116Z"
    }
   },
   "outputs": [
    {
     "data": {
      "image/svg+xml": [
       "<?xml version=\"1.0\" encoding=\"utf-8\" standalone=\"no\"?>\n",
       "<!DOCTYPE svg PUBLIC \"-//W3C//DTD SVG 1.1//EN\"\n",
       "  \"http://www.w3.org/Graphics/SVG/1.1/DTD/svg11.dtd\">\n",
       "<svg xmlns:xlink=\"http://www.w3.org/1999/xlink\" width=\"276.48pt\" height=\"276.48pt\" viewBox=\"0 0 276.48 276.48\" xmlns=\"http://www.w3.org/2000/svg\" version=\"1.1\">\n",
       " <metadata>\n",
       "  <rdf:RDF xmlns:dc=\"http://purl.org/dc/elements/1.1/\" xmlns:cc=\"http://creativecommons.org/ns#\" xmlns:rdf=\"http://www.w3.org/1999/02/22-rdf-syntax-ns#\">\n",
       "   <cc:Work>\n",
       "    <dc:type rdf:resource=\"http://purl.org/dc/dcmitype/StillImage\"/>\n",
       "    <dc:date>2022-03-30T14:06:35.954275</dc:date>\n",
       "    <dc:format>image/svg+xml</dc:format>\n",
       "    <dc:creator>\n",
       "     <cc:Agent>\n",
       "      <dc:title>Matplotlib v3.5.1, https://matplotlib.org/</dc:title>\n",
       "     </cc:Agent>\n",
       "    </dc:creator>\n",
       "   </cc:Work>\n",
       "  </rdf:RDF>\n",
       " </metadata>\n",
       " <defs>\n",
       "  <style type=\"text/css\">*{stroke-linejoin: round; stroke-linecap: butt}</style>\n",
       " </defs>\n",
       " <g id=\"figure_1\">\n",
       "  <g id=\"patch_1\">\n",
       "   <path d=\"M 0 276.48 \n",
       "L 276.48 276.48 \n",
       "L 276.48 0 \n",
       "L 0 0 \n",
       "L 0 276.48 \n",
       "z\n",
       "\" style=\"fill: none\"/>\n",
       "  </g>\n",
       "  <g id=\"axes_1\">\n",
       "   <g clip-path=\"url(#p960fb44035)\">\n",
       "    <image xlink:href=\"data:image/png;base64,\n",
       "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\" id=\"image2556f0dd0a\" transform=\"matrix(0.526 0 0 -0.526 7.2 269.28)\" style=\"image-rendering:crisp-edges;image-rendering:pixelated\" width=\"500\" height=\"500\"/>\n",
       "   </g>\n",
       "  </g>\n",
       " </g>\n",
       " <defs>\n",
       "  <clipPath id=\"p960fb44035\">\n",
       "   <rect x=\"7.2\" y=\"7.2\" width=\"262.08\" height=\"262.08\"/>\n",
       "  </clipPath>\n",
       " </defs>\n",
       "</svg>\n"
      ],
      "text/plain": [
       "<Figure size 288x288 with 1 Axes>"
      ]
     },
     "metadata": {
      "needs_background": "light"
     },
     "output_type": "display_data"
    }
   ],
   "source": [
    "im = ps.generators.blobs([500, 500])\n",
    "fig, ax = plt.subplots(1, 1, figsize=[4, 4])\n",
    "ax.axis(False)\n",
    "ax.imshow(im, origin='lower');"
   ]
  },
  {
   "cell_type": "markdown",
   "id": "af77b6f4",
   "metadata": {},
   "source": [
    "## Apply tool\n",
    "``slice`` objects are returned:"
   ]
  },
  {
   "cell_type": "code",
   "execution_count": 3,
   "id": "0c8a4727",
   "metadata": {
    "execution": {
     "iopub.execute_input": "2022-03-30T14:06:36.002115Z",
     "iopub.status.busy": "2022-03-30T14:06:36.001920Z",
     "iopub.status.idle": "2022-03-30T14:06:36.013894Z",
     "shell.execute_reply": "2022-03-30T14:06:36.013331Z"
    }
   },
   "outputs": [
    {
     "name": "stdout",
     "output_type": "stream",
     "text": [
      "[(slice(0, 270, None), slice(0, 270, None)), (slice(0, 270, None), slice(230, 500, None)), (slice(230, 500, None), slice(0, 270, None)), (slice(230, 500, None), slice(230, 500, None))]\n"
     ]
    }
   ],
   "source": [
    "slices = ps.tools.subdivide(im=im, divs=2, overlap=20)\n",
    "print(slices)"
   ]
  },
  {
   "cell_type": "code",
   "execution_count": 4,
   "id": "1e070cd3",
   "metadata": {
    "execution": {
     "iopub.execute_input": "2022-03-30T14:06:36.016856Z",
     "iopub.status.busy": "2022-03-30T14:06:36.016666Z",
     "iopub.status.idle": "2022-03-30T14:06:36.241879Z",
     "shell.execute_reply": "2022-03-30T14:06:36.241297Z"
    }
   },
   "outputs": [
    {
     "data": {
      "image/svg+xml": [
       "<?xml version=\"1.0\" encoding=\"utf-8\" standalone=\"no\"?>\n",
       "<!DOCTYPE svg PUBLIC \"-//W3C//DTD SVG 1.1//EN\"\n",
       "  \"http://www.w3.org/Graphics/SVG/1.1/DTD/svg11.dtd\">\n",
       "<svg xmlns:xlink=\"http://www.w3.org/1999/xlink\" width=\"554.76pt\" height=\"132.48pt\" viewBox=\"0 0 554.76 132.48\" xmlns=\"http://www.w3.org/2000/svg\" version=\"1.1\">\n",
       " <metadata>\n",
       "  <rdf:RDF xmlns:dc=\"http://purl.org/dc/elements/1.1/\" xmlns:cc=\"http://creativecommons.org/ns#\" xmlns:rdf=\"http://www.w3.org/1999/02/22-rdf-syntax-ns#\">\n",
       "   <cc:Work>\n",
       "    <dc:type rdf:resource=\"http://purl.org/dc/dcmitype/StillImage\"/>\n",
       "    <dc:date>2022-03-30T14:06:36.171821</dc:date>\n",
       "    <dc:format>image/svg+xml</dc:format>\n",
       "    <dc:creator>\n",
       "     <cc:Agent>\n",
       "      <dc:title>Matplotlib v3.5.1, https://matplotlib.org/</dc:title>\n",
       "     </cc:Agent>\n",
       "    </dc:creator>\n",
       "   </cc:Work>\n",
       "  </rdf:RDF>\n",
       " </metadata>\n",
       " <defs>\n",
       "  <style type=\"text/css\">*{stroke-linejoin: round; stroke-linecap: butt}</style>\n",
       " </defs>\n",
       " <g id=\"figure_1\">\n",
       "  <g id=\"patch_1\">\n",
       "   <path d=\"M 0 132.48 \n",
       "L 554.76 132.48 \n",
       "L 554.76 0 \n",
       "L 0 0 \n",
       "L 0 132.48 \n",
       "z\n",
       "\" style=\"fill: none\"/>\n",
       "  </g>\n",
       "  <g id=\"axes_1\">\n",
       "   <g clip-path=\"url(#pc26bfc8a2a)\">\n",
       "    <image xlink:href=\"data:image/png;base64,\n",
       "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\" id=\"image91d25d7318\" transform=\"matrix(0.440741 0 0 -0.440741 7.2 125.28)\" style=\"image-rendering:crisp-edges;image-rendering:pixelated\" width=\"270\" height=\"270\"/>\n",
       "   </g>\n",
       "  </g>\n",
       "  <g id=\"axes_2\">\n",
       "   <g clip-path=\"url(#p961b14496e)\">\n",
       "    <image xlink:href=\"data:image/png;base64,\n",
       "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\" id=\"imagea8325cc8b1\" transform=\"matrix(0.440741 0 0 -0.440741 147.96 125.28)\" style=\"image-rendering:crisp-edges;image-rendering:pixelated\" width=\"270\" height=\"270\"/>\n",
       "   </g>\n",
       "  </g>\n",
       "  <g id=\"axes_3\">\n",
       "   <g clip-path=\"url(#p2e97b6dd47)\">\n",
       "    <image xlink:href=\"data:image/png;base64,\n",
       "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\" id=\"imagef5d33116a3\" transform=\"matrix(0.440741 0 0 -0.440741 288.72 125.28)\" style=\"image-rendering:crisp-edges;image-rendering:pixelated\" width=\"270\" height=\"270\"/>\n",
       "   </g>\n",
       "  </g>\n",
       "  <g id=\"axes_4\">\n",
       "   <g clip-path=\"url(#p75d2fdad66)\">\n",
       "    <image xlink:href=\"data:image/png;base64,\n",
       "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\" id=\"image3aa07977bd\" transform=\"matrix(0.440741 0 0 -0.440741 429.48 125.28)\" style=\"image-rendering:crisp-edges;image-rendering:pixelated\" width=\"270\" height=\"270\"/>\n",
       "   </g>\n",
       "  </g>\n",
       " </g>\n",
       " <defs>\n",
       "  <clipPath id=\"pc26bfc8a2a\">\n",
       "   <rect x=\"7.2\" y=\"7.2\" width=\"118.08\" height=\"118.08\"/>\n",
       "  </clipPath>\n",
       "  <clipPath id=\"p961b14496e\">\n",
       "   <rect x=\"147.96\" y=\"7.2\" width=\"118.08\" height=\"118.08\"/>\n",
       "  </clipPath>\n",
       "  <clipPath id=\"p2e97b6dd47\">\n",
       "   <rect x=\"288.72\" y=\"7.2\" width=\"118.08\" height=\"118.08\"/>\n",
       "  </clipPath>\n",
       "  <clipPath id=\"p75d2fdad66\">\n",
       "   <rect x=\"429.48\" y=\"7.2\" width=\"118.08\" height=\"118.08\"/>\n",
       "  </clipPath>\n",
       " </defs>\n",
       "</svg>\n"
      ],
      "text/plain": [
       "<Figure size 576x144 with 4 Axes>"
      ]
     },
     "metadata": {
      "needs_background": "light"
     },
     "output_type": "display_data"
    }
   ],
   "source": [
    "fig, ax = plt.subplots(1, 4, figsize=[8, 2])\n",
    "for i, s in enumerate(slices):\n",
    "    ax[i].imshow(im[s], origin='lower')\n",
    "    ax[i].axis(False);"
   ]
  }
 ],
 "metadata": {
  "kernelspec": {
   "display_name": "Python 3",
   "language": "python",
   "name": "python3"
  },
  "language_info": {
   "codemirror_mode": {
    "name": "ipython",
    "version": 3
   },
   "file_extension": ".py",
   "mimetype": "text/x-python",
   "name": "python",
   "nbconvert_exporter": "python",
   "pygments_lexer": "ipython3",
   "version": "3.8.13"
  }
 },
 "nbformat": 4,
 "nbformat_minor": 5
}
