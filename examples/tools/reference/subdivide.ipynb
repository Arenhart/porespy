{
 "cells": [
  {
   "cell_type": "markdown",
   "id": "05f418f3",
   "metadata": {},
   "source": [
    "# subdivide"
   ]
  },
  {
   "cell_type": "markdown",
   "id": "bbca8b17",
   "metadata": {},
   "source": [
    "## Import packages"
   ]
  },
  {
   "cell_type": "code",
   "execution_count": 1,
   "id": "7f19aa80",
   "metadata": {
    "execution": {
     "iopub.execute_input": "2022-04-01T17:03:19.932182Z",
     "iopub.status.busy": "2022-04-01T17:03:19.931525Z",
     "iopub.status.idle": "2022-04-01T17:03:22.279349Z",
     "shell.execute_reply": "2022-04-01T17:03:22.274001Z"
    }
   },
   "outputs": [],
   "source": [
    "import numpy as np\n",
    "import porespy as ps\n",
    "import scipy.ndimage as spim\n",
    "import matplotlib.pyplot as plt\n",
    "import skimage\n",
    "\n",
    "np.random.rand(0)\n",
    "ps.visualization.set_mpl_style()"
   ]
  },
  {
   "cell_type": "markdown",
   "id": "b08c3f12",
   "metadata": {},
   "source": [
    "## Create image and variables"
   ]
  },
  {
   "cell_type": "code",
   "execution_count": 2,
   "id": "ca3a0419",
   "metadata": {
    "execution": {
     "iopub.execute_input": "2022-04-01T17:03:22.283458Z",
     "iopub.status.busy": "2022-04-01T17:03:22.282967Z",
     "iopub.status.idle": "2022-04-01T17:03:22.432323Z",
     "shell.execute_reply": "2022-04-01T17:03:22.431863Z"
    }
   },
   "outputs": [
    {
     "data": {
      "image/svg+xml": [
       "<?xml version=\"1.0\" encoding=\"utf-8\" standalone=\"no\"?>\n",
       "<!DOCTYPE svg PUBLIC \"-//W3C//DTD SVG 1.1//EN\"\n",
       "  \"http://www.w3.org/Graphics/SVG/1.1/DTD/svg11.dtd\">\n",
       "<svg xmlns:xlink=\"http://www.w3.org/1999/xlink\" width=\"276.48pt\" height=\"276.48pt\" viewBox=\"0 0 276.48 276.48\" xmlns=\"http://www.w3.org/2000/svg\" version=\"1.1\">\n",
       " <metadata>\n",
       "  <rdf:RDF xmlns:dc=\"http://purl.org/dc/elements/1.1/\" xmlns:cc=\"http://creativecommons.org/ns#\" xmlns:rdf=\"http://www.w3.org/1999/02/22-rdf-syntax-ns#\">\n",
       "   <cc:Work>\n",
       "    <dc:type rdf:resource=\"http://purl.org/dc/dcmitype/StillImage\"/>\n",
       "    <dc:date>2022-04-01T17:03:22.386640</dc:date>\n",
       "    <dc:format>image/svg+xml</dc:format>\n",
       "    <dc:creator>\n",
       "     <cc:Agent>\n",
       "      <dc:title>Matplotlib v3.5.1, https://matplotlib.org/</dc:title>\n",
       "     </cc:Agent>\n",
       "    </dc:creator>\n",
       "   </cc:Work>\n",
       "  </rdf:RDF>\n",
       " </metadata>\n",
       " <defs>\n",
       "  <style type=\"text/css\">*{stroke-linejoin: round; stroke-linecap: butt}</style>\n",
       " </defs>\n",
       " <g id=\"figure_1\">\n",
       "  <g id=\"patch_1\">\n",
       "   <path d=\"M 0 276.48 \n",
       "L 276.48 276.48 \n",
       "L 276.48 0 \n",
       "L 0 0 \n",
       "L 0 276.48 \n",
       "z\n",
       "\" style=\"fill: none\"/>\n",
       "  </g>\n",
       "  <g id=\"axes_1\">\n",
       "   <g clip-path=\"url(#p2e066fcc8a)\">\n",
       "    <image xlink:href=\"data:image/png;base64,\n",
       "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\" id=\"image236bbe8462\" transform=\"matrix(0.526 0 0 -0.526 7.2 269.28)\" style=\"image-rendering:crisp-edges;image-rendering:pixelated\" width=\"500\" height=\"500\"/>\n",
       "   </g>\n",
       "  </g>\n",
       " </g>\n",
       " <defs>\n",
       "  <clipPath id=\"p2e066fcc8a\">\n",
       "   <rect x=\"7.2\" y=\"7.2\" width=\"262.08\" height=\"262.08\"/>\n",
       "  </clipPath>\n",
       " </defs>\n",
       "</svg>\n"
      ],
      "text/plain": [
       "<Figure size 288x288 with 1 Axes>"
      ]
     },
     "metadata": {
      "needs_background": "light"
     },
     "output_type": "display_data"
    }
   ],
   "source": [
    "im = ps.generators.blobs([500, 500])\n",
    "fig, ax = plt.subplots(1, 1, figsize=[4, 4])\n",
    "ax.axis(False)\n",
    "ax.imshow(im, origin='lower');"
   ]
  },
  {
   "cell_type": "markdown",
   "id": "251939a1",
   "metadata": {},
   "source": [
    "## Apply tool\n",
    "``slice`` objects are returned:"
   ]
  },
  {
   "cell_type": "code",
   "execution_count": 3,
   "id": "9f5f60ad",
   "metadata": {
    "execution": {
     "iopub.execute_input": "2022-04-01T17:03:22.435188Z",
     "iopub.status.busy": "2022-04-01T17:03:22.434841Z",
     "iopub.status.idle": "2022-04-01T17:03:22.440062Z",
     "shell.execute_reply": "2022-04-01T17:03:22.439310Z"
    }
   },
   "outputs": [
    {
     "name": "stdout",
     "output_type": "stream",
     "text": [
      "[(slice(0, 270, None), slice(0, 270, None)), (slice(0, 270, None), slice(230, 500, None)), (slice(230, 500, None), slice(0, 270, None)), (slice(230, 500, None), slice(230, 500, None))]\n"
     ]
    }
   ],
   "source": [
    "slices = ps.tools.subdivide(im=im, divs=2, overlap=20)\n",
    "print(slices)"
   ]
  },
  {
   "cell_type": "code",
   "execution_count": 4,
   "id": "657d974a",
   "metadata": {
    "execution": {
     "iopub.execute_input": "2022-04-01T17:03:22.442643Z",
     "iopub.status.busy": "2022-04-01T17:03:22.442405Z",
     "iopub.status.idle": "2022-04-01T17:03:22.699292Z",
     "shell.execute_reply": "2022-04-01T17:03:22.698675Z"
    }
   },
   "outputs": [
    {
     "data": {
      "image/svg+xml": [
       "<?xml version=\"1.0\" encoding=\"utf-8\" standalone=\"no\"?>\n",
       "<!DOCTYPE svg PUBLIC \"-//W3C//DTD SVG 1.1//EN\"\n",
       "  \"http://www.w3.org/Graphics/SVG/1.1/DTD/svg11.dtd\">\n",
       "<svg xmlns:xlink=\"http://www.w3.org/1999/xlink\" width=\"554.76pt\" height=\"132.48pt\" viewBox=\"0 0 554.76 132.48\" xmlns=\"http://www.w3.org/2000/svg\" version=\"1.1\">\n",
       " <metadata>\n",
       "  <rdf:RDF xmlns:dc=\"http://purl.org/dc/elements/1.1/\" xmlns:cc=\"http://creativecommons.org/ns#\" xmlns:rdf=\"http://www.w3.org/1999/02/22-rdf-syntax-ns#\">\n",
       "   <cc:Work>\n",
       "    <dc:type rdf:resource=\"http://purl.org/dc/dcmitype/StillImage\"/>\n",
       "    <dc:date>2022-04-01T17:03:22.634776</dc:date>\n",
       "    <dc:format>image/svg+xml</dc:format>\n",
       "    <dc:creator>\n",
       "     <cc:Agent>\n",
       "      <dc:title>Matplotlib v3.5.1, https://matplotlib.org/</dc:title>\n",
       "     </cc:Agent>\n",
       "    </dc:creator>\n",
       "   </cc:Work>\n",
       "  </rdf:RDF>\n",
       " </metadata>\n",
       " <defs>\n",
       "  <style type=\"text/css\">*{stroke-linejoin: round; stroke-linecap: butt}</style>\n",
       " </defs>\n",
       " <g id=\"figure_1\">\n",
       "  <g id=\"patch_1\">\n",
       "   <path d=\"M 0 132.48 \n",
       "L 554.76 132.48 \n",
       "L 554.76 0 \n",
       "L 0 0 \n",
       "L 0 132.48 \n",
       "z\n",
       "\" style=\"fill: none\"/>\n",
       "  </g>\n",
       "  <g id=\"axes_1\">\n",
       "   <g clip-path=\"url(#pce6164b55a)\">\n",
       "    <image xlink:href=\"data:image/png;base64,\n",
       "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\" id=\"image9905b8c304\" transform=\"matrix(0.440741 0 0 -0.440741 7.2 125.28)\" style=\"image-rendering:crisp-edges;image-rendering:pixelated\" width=\"270\" height=\"270\"/>\n",
       "   </g>\n",
       "  </g>\n",
       "  <g id=\"axes_2\">\n",
       "   <g clip-path=\"url(#p5788c023a6)\">\n",
       "    <image xlink:href=\"data:image/png;base64,\n",
       "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\" id=\"imagefd167ae48d\" transform=\"matrix(0.440741 0 0 -0.440741 147.96 125.28)\" style=\"image-rendering:crisp-edges;image-rendering:pixelated\" width=\"270\" height=\"270\"/>\n",
       "   </g>\n",
       "  </g>\n",
       "  <g id=\"axes_3\">\n",
       "   <g clip-path=\"url(#p75940715d3)\">\n",
       "    <image xlink:href=\"data:image/png;base64,\n",
       "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\" id=\"image75d0d84613\" transform=\"matrix(0.440741 0 0 -0.440741 288.72 125.28)\" style=\"image-rendering:crisp-edges;image-rendering:pixelated\" width=\"270\" height=\"270\"/>\n",
       "   </g>\n",
       "  </g>\n",
       "  <g id=\"axes_4\">\n",
       "   <g clip-path=\"url(#pe1a93d2486)\">\n",
       "    <image xlink:href=\"data:image/png;base64,\n",
       "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\" id=\"imageaa28120720\" transform=\"matrix(0.440741 0 0 -0.440741 429.48 125.28)\" style=\"image-rendering:crisp-edges;image-rendering:pixelated\" width=\"270\" height=\"270\"/>\n",
       "   </g>\n",
       "  </g>\n",
       " </g>\n",
       " <defs>\n",
       "  <clipPath id=\"pce6164b55a\">\n",
       "   <rect x=\"7.2\" y=\"7.2\" width=\"118.08\" height=\"118.08\"/>\n",
       "  </clipPath>\n",
       "  <clipPath id=\"p5788c023a6\">\n",
       "   <rect x=\"147.96\" y=\"7.2\" width=\"118.08\" height=\"118.08\"/>\n",
       "  </clipPath>\n",
       "  <clipPath id=\"p75940715d3\">\n",
       "   <rect x=\"288.72\" y=\"7.2\" width=\"118.08\" height=\"118.08\"/>\n",
       "  </clipPath>\n",
       "  <clipPath id=\"pe1a93d2486\">\n",
       "   <rect x=\"429.48\" y=\"7.2\" width=\"118.08\" height=\"118.08\"/>\n",
       "  </clipPath>\n",
       " </defs>\n",
       "</svg>\n"
      ],
      "text/plain": [
       "<Figure size 576x144 with 4 Axes>"
      ]
     },
     "metadata": {
      "needs_background": "light"
     },
     "output_type": "display_data"
    }
   ],
   "source": [
    "fig, ax = plt.subplots(1, 4, figsize=[8, 2])\n",
    "for i, s in enumerate(slices):\n",
    "    ax[i].imshow(im[s], origin='lower')\n",
    "    ax[i].axis(False);"
   ]
  }
 ],
 "metadata": {
  "kernelspec": {
   "display_name": "Python 3",
   "language": "python",
   "name": "python3"
  },
  "language_info": {
   "codemirror_mode": {
    "name": "ipython",
    "version": 3
   },
   "file_extension": ".py",
   "mimetype": "text/x-python",
   "name": "python",
   "nbconvert_exporter": "python",
   "pygments_lexer": "ipython3",
   "version": "3.8.13"
  }
 },
 "nbformat": 4,
 "nbformat_minor": 5
}
