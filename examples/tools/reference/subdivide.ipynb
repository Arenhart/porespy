{
 "cells": [
  {
   "cell_type": "markdown",
   "id": "76acccd3",
   "metadata": {},
   "source": [
    "# `subdivide`"
   ]
  },
  {
   "cell_type": "markdown",
   "id": "c6b5700f",
   "metadata": {},
   "source": [
    "## Import packages"
   ]
  },
  {
   "cell_type": "code",
   "execution_count": 1,
   "id": "4aa71432",
   "metadata": {
    "execution": {
     "iopub.execute_input": "2022-05-25T17:18:19.174112Z",
     "iopub.status.busy": "2022-05-25T17:18:19.173826Z",
     "iopub.status.idle": "2022-05-25T17:18:21.087325Z",
     "shell.execute_reply": "2022-05-25T17:18:21.086664Z"
    }
   },
   "outputs": [],
   "source": [
    "import numpy as np\n",
    "import porespy as ps\n",
    "import scipy.ndimage as spim\n",
    "import matplotlib.pyplot as plt\n",
    "import skimage\n",
    "\n",
    "np.random.rand(0)\n",
    "ps.visualization.set_mpl_style()"
   ]
  },
  {
   "cell_type": "markdown",
   "id": "be0cb230",
   "metadata": {},
   "source": [
    "## Create image and variables"
   ]
  },
  {
   "cell_type": "code",
   "execution_count": 2,
   "id": "9b8c0fbb",
   "metadata": {
    "execution": {
     "iopub.execute_input": "2022-05-25T17:18:21.092392Z",
     "iopub.status.busy": "2022-05-25T17:18:21.091101Z",
     "iopub.status.idle": "2022-05-25T17:18:21.217185Z",
     "shell.execute_reply": "2022-05-25T17:18:21.216628Z"
    }
   },
   "outputs": [
    {
     "data": {
      "image/svg+xml": [
       "<?xml version=\"1.0\" encoding=\"utf-8\" standalone=\"no\"?>\n",
       "<!DOCTYPE svg PUBLIC \"-//W3C//DTD SVG 1.1//EN\"\n",
       "  \"http://www.w3.org/Graphics/SVG/1.1/DTD/svg11.dtd\">\n",
       "<svg xmlns:xlink=\"http://www.w3.org/1999/xlink\" width=\"280.8pt\" height=\"280.8pt\" viewBox=\"0 0 280.8 280.8\" xmlns=\"http://www.w3.org/2000/svg\" version=\"1.1\">\n",
       " <metadata>\n",
       "  <rdf:RDF xmlns:dc=\"http://purl.org/dc/elements/1.1/\" xmlns:cc=\"http://creativecommons.org/ns#\" xmlns:rdf=\"http://www.w3.org/1999/02/22-rdf-syntax-ns#\">\n",
       "   <cc:Work>\n",
       "    <dc:type rdf:resource=\"http://purl.org/dc/dcmitype/StillImage\"/>\n",
       "    <dc:date>2022-05-25T17:18:21.185479</dc:date>\n",
       "    <dc:format>image/svg+xml</dc:format>\n",
       "    <dc:creator>\n",
       "     <cc:Agent>\n",
       "      <dc:title>Matplotlib v3.5.2, https://matplotlib.org/</dc:title>\n",
       "     </cc:Agent>\n",
       "    </dc:creator>\n",
       "   </cc:Work>\n",
       "  </rdf:RDF>\n",
       " </metadata>\n",
       " <defs>\n",
       "  <style type=\"text/css\">*{stroke-linejoin: round; stroke-linecap: butt}</style>\n",
       " </defs>\n",
       " <g id=\"figure_1\">\n",
       "  <g id=\"patch_1\">\n",
       "   <path d=\"M 0 280.8 \n",
       "L 280.8 280.8 \n",
       "L 280.8 0 \n",
       "L 0 0 \n",
       "L 0 280.8 \n",
       "z\n",
       "\" style=\"fill: none\"/>\n",
       "  </g>\n",
       "  <g id=\"axes_1\">\n",
       "   <g clip-path=\"url(#pef3ef27d0e)\">\n",
       "    <image xlink:href=\"data:image/png;base64,\n",
       "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\" id=\"image2c9818416e\" transform=\"matrix(0.534 0 0 -0.534 7.2 273.6)\" style=\"image-rendering:crisp-edges;image-rendering:pixelated\" width=\"500\" height=\"500\"/>\n",
       "   </g>\n",
       "  </g>\n",
       " </g>\n",
       " <defs>\n",
       "  <clipPath id=\"pef3ef27d0e\">\n",
       "   <rect x=\"7.2\" y=\"7.2\" width=\"266.4\" height=\"266.4\"/>\n",
       "  </clipPath>\n",
       " </defs>\n",
       "</svg>\n"
      ],
      "text/plain": [
       "<Figure size 288x288 with 1 Axes>"
      ]
     },
     "metadata": {
      "needs_background": "light"
     },
     "output_type": "display_data"
    }
   ],
   "source": [
    "im = ps.generators.blobs([500, 500])\n",
    "fig, ax = plt.subplots(1, 1, figsize=[4, 4])\n",
    "ax.axis(False)\n",
    "ax.imshow(im, origin='lower');"
   ]
  },
  {
   "cell_type": "markdown",
   "id": "6e9cb6b9",
   "metadata": {},
   "source": [
    "## Apply tool\n",
    "``slice`` objects are returned:"
   ]
  },
  {
   "cell_type": "code",
   "execution_count": 3,
   "id": "c0497eed",
   "metadata": {
    "execution": {
     "iopub.execute_input": "2022-05-25T17:18:21.221506Z",
     "iopub.status.busy": "2022-05-25T17:18:21.220423Z",
     "iopub.status.idle": "2022-05-25T17:18:21.226545Z",
     "shell.execute_reply": "2022-05-25T17:18:21.226057Z"
    }
   },
   "outputs": [
    {
     "name": "stdout",
     "output_type": "stream",
     "text": [
      "[(slice(0, 270, None), slice(0, 270, None)), (slice(0, 270, None), slice(230, 500, None)), (slice(230, 500, None), slice(0, 270, None)), (slice(230, 500, None), slice(230, 500, None))]\n"
     ]
    }
   ],
   "source": [
    "slices = ps.tools.subdivide(im=im, divs=2, overlap=20)\n",
    "print(slices)"
   ]
  },
  {
   "cell_type": "code",
   "execution_count": 4,
   "id": "f4c49c48",
   "metadata": {
    "execution": {
     "iopub.execute_input": "2022-05-25T17:18:21.230349Z",
     "iopub.status.busy": "2022-05-25T17:18:21.229332Z",
     "iopub.status.idle": "2022-05-25T17:18:21.410055Z",
     "shell.execute_reply": "2022-05-25T17:18:21.409476Z"
    }
   },
   "outputs": [
    {
     "data": {
      "image/svg+xml": [
       "<?xml version=\"1.0\" encoding=\"utf-8\" standalone=\"no\"?>\n",
       "<!DOCTYPE svg PUBLIC \"-//W3C//DTD SVG 1.1//EN\"\n",
       "  \"http://www.w3.org/Graphics/SVG/1.1/DTD/svg11.dtd\">\n",
       "<svg xmlns:xlink=\"http://www.w3.org/1999/xlink\" width=\"560.7pt\" height=\"136.8pt\" viewBox=\"0 0 560.7 136.8\" xmlns=\"http://www.w3.org/2000/svg\" version=\"1.1\">\n",
       " <metadata>\n",
       "  <rdf:RDF xmlns:dc=\"http://purl.org/dc/elements/1.1/\" xmlns:cc=\"http://creativecommons.org/ns#\" xmlns:rdf=\"http://www.w3.org/1999/02/22-rdf-syntax-ns#\">\n",
       "   <cc:Work>\n",
       "    <dc:type rdf:resource=\"http://purl.org/dc/dcmitype/StillImage\"/>\n",
       "    <dc:date>2022-05-25T17:18:21.354825</dc:date>\n",
       "    <dc:format>image/svg+xml</dc:format>\n",
       "    <dc:creator>\n",
       "     <cc:Agent>\n",
       "      <dc:title>Matplotlib v3.5.2, https://matplotlib.org/</dc:title>\n",
       "     </cc:Agent>\n",
       "    </dc:creator>\n",
       "   </cc:Work>\n",
       "  </rdf:RDF>\n",
       " </metadata>\n",
       " <defs>\n",
       "  <style type=\"text/css\">*{stroke-linejoin: round; stroke-linecap: butt}</style>\n",
       " </defs>\n",
       " <g id=\"figure_1\">\n",
       "  <g id=\"patch_1\">\n",
       "   <path d=\"M 0 136.8 \n",
       "L 560.7 136.8 \n",
       "L 560.7 0 \n",
       "L 0 0 \n",
       "L 0 136.8 \n",
       "z\n",
       "\" style=\"fill: none\"/>\n",
       "  </g>\n",
       "  <g id=\"axes_1\">\n",
       "   <g clip-path=\"url(#p0a30fca5d1)\">\n",
       "    <image xlink:href=\"data:image/png;base64,\n",
       "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\" id=\"image51489dae9f\" transform=\"matrix(0.455556 0 0 -0.455556 7.2 129.6)\" style=\"image-rendering:crisp-edges;image-rendering:pixelated\" width=\"270\" height=\"270\"/>\n",
       "   </g>\n",
       "  </g>\n",
       "  <g id=\"axes_2\">\n",
       "   <g clip-path=\"url(#p7edae7296f)\">\n",
       "    <image xlink:href=\"data:image/png;base64,\n",
       "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\" id=\"image2a2b9f5665\" transform=\"matrix(0.455556 0 0 -0.455556 148.5 129.6)\" style=\"image-rendering:crisp-edges;image-rendering:pixelated\" width=\"270\" height=\"270\"/>\n",
       "   </g>\n",
       "  </g>\n",
       "  <g id=\"axes_3\">\n",
       "   <g clip-path=\"url(#p85e8631509)\">\n",
       "    <image xlink:href=\"data:image/png;base64,\n",
       "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\" id=\"imagecbd9259ad2\" transform=\"matrix(0.455556 0 0 -0.455556 289.8 129.6)\" style=\"image-rendering:crisp-edges;image-rendering:pixelated\" width=\"270\" height=\"270\"/>\n",
       "   </g>\n",
       "  </g>\n",
       "  <g id=\"axes_4\">\n",
       "   <g clip-path=\"url(#pbb6dcb5247)\">\n",
       "    <image xlink:href=\"data:image/png;base64,\n",
       "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\" id=\"image5e0c363bf6\" transform=\"matrix(0.455556 0 0 -0.455556 431.1 129.6)\" style=\"image-rendering:crisp-edges;image-rendering:pixelated\" width=\"270\" height=\"270\"/>\n",
       "   </g>\n",
       "  </g>\n",
       " </g>\n",
       " <defs>\n",
       "  <clipPath id=\"p0a30fca5d1\">\n",
       "   <rect x=\"7.2\" y=\"7.2\" width=\"122.4\" height=\"122.4\"/>\n",
       "  </clipPath>\n",
       "  <clipPath id=\"p7edae7296f\">\n",
       "   <rect x=\"148.5\" y=\"7.2\" width=\"122.4\" height=\"122.4\"/>\n",
       "  </clipPath>\n",
       "  <clipPath id=\"p85e8631509\">\n",
       "   <rect x=\"289.8\" y=\"7.2\" width=\"122.4\" height=\"122.4\"/>\n",
       "  </clipPath>\n",
       "  <clipPath id=\"pbb6dcb5247\">\n",
       "   <rect x=\"431.1\" y=\"7.2\" width=\"122.4\" height=\"122.4\"/>\n",
       "  </clipPath>\n",
       " </defs>\n",
       "</svg>\n"
      ],
      "text/plain": [
       "<Figure size 576x144 with 4 Axes>"
      ]
     },
     "metadata": {
      "needs_background": "light"
     },
     "output_type": "display_data"
    }
   ],
   "source": [
    "fig, ax = plt.subplots(1, 4, figsize=[8, 2])\n",
    "for i, s in enumerate(slices):\n",
    "    ax[i].imshow(im[s], origin='lower')\n",
    "    ax[i].axis(False);"
   ]
  }
 ],
 "metadata": {
  "kernelspec": {
   "display_name": "Python 3 (ipykernel)",
   "language": "python",
   "name": "python3"
  },
  "language_info": {
   "codemirror_mode": {
    "name": "ipython",
    "version": 3
   },
   "file_extension": ".py",
   "mimetype": "text/x-python",
   "name": "python",
   "nbconvert_exporter": "python",
   "pygments_lexer": "ipython3",
   "version": "3.8.13"
  }
 },
 "nbformat": 4,
 "nbformat_minor": 5
}
