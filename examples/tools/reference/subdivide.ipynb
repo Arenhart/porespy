{
 "cells": [
  {
   "cell_type": "markdown",
   "id": "dd70adc2",
   "metadata": {},
   "source": [
    "# subdivide"
   ]
  },
  {
   "cell_type": "markdown",
   "id": "bc9d6b33",
   "metadata": {},
   "source": [
    "## Import packages"
   ]
  },
  {
   "cell_type": "code",
   "execution_count": 1,
   "id": "389d5571",
   "metadata": {
    "execution": {
     "iopub.execute_input": "2022-03-29T23:52:42.621122Z",
     "iopub.status.busy": "2022-03-29T23:52:42.620929Z",
     "iopub.status.idle": "2022-03-29T23:52:44.515541Z",
     "shell.execute_reply": "2022-03-29T23:52:44.515020Z"
    }
   },
   "outputs": [],
   "source": [
    "import numpy as np\n",
    "import porespy as ps\n",
    "import scipy.ndimage as spim\n",
    "import matplotlib.pyplot as plt\n",
    "import skimage\n",
    "\n",
    "np.random.rand(0)\n",
    "ps.visualization.set_mpl_style()"
   ]
  },
  {
   "cell_type": "markdown",
   "id": "72a366b0",
   "metadata": {},
   "source": [
    "## Create image and variables"
   ]
  },
  {
   "cell_type": "code",
   "execution_count": 2,
   "id": "25b08ad7",
   "metadata": {
    "execution": {
     "iopub.execute_input": "2022-03-29T23:52:44.519769Z",
     "iopub.status.busy": "2022-03-29T23:52:44.519591Z",
     "iopub.status.idle": "2022-03-29T23:52:44.703275Z",
     "shell.execute_reply": "2022-03-29T23:52:44.702814Z"
    }
   },
   "outputs": [
    {
     "data": {
      "image/svg+xml": [
       "<?xml version=\"1.0\" encoding=\"utf-8\" standalone=\"no\"?>\n",
       "<!DOCTYPE svg PUBLIC \"-//W3C//DTD SVG 1.1//EN\"\n",
       "  \"http://www.w3.org/Graphics/SVG/1.1/DTD/svg11.dtd\">\n",
       "<svg xmlns:xlink=\"http://www.w3.org/1999/xlink\" width=\"276.48pt\" height=\"276.48pt\" viewBox=\"0 0 276.48 276.48\" xmlns=\"http://www.w3.org/2000/svg\" version=\"1.1\">\n",
       " <metadata>\n",
       "  <rdf:RDF xmlns:dc=\"http://purl.org/dc/elements/1.1/\" xmlns:cc=\"http://creativecommons.org/ns#\" xmlns:rdf=\"http://www.w3.org/1999/02/22-rdf-syntax-ns#\">\n",
       "   <cc:Work>\n",
       "    <dc:type rdf:resource=\"http://purl.org/dc/dcmitype/StillImage\"/>\n",
       "    <dc:date>2022-03-29T23:52:44.619317</dc:date>\n",
       "    <dc:format>image/svg+xml</dc:format>\n",
       "    <dc:creator>\n",
       "     <cc:Agent>\n",
       "      <dc:title>Matplotlib v3.5.1, https://matplotlib.org/</dc:title>\n",
       "     </cc:Agent>\n",
       "    </dc:creator>\n",
       "   </cc:Work>\n",
       "  </rdf:RDF>\n",
       " </metadata>\n",
       " <defs>\n",
       "  <style type=\"text/css\">*{stroke-linejoin: round; stroke-linecap: butt}</style>\n",
       " </defs>\n",
       " <g id=\"figure_1\">\n",
       "  <g id=\"patch_1\">\n",
       "   <path d=\"M 0 276.48 \n",
       "L 276.48 276.48 \n",
       "L 276.48 0 \n",
       "L 0 0 \n",
       "L 0 276.48 \n",
       "z\n",
       "\" style=\"fill: none\"/>\n",
       "  </g>\n",
       "  <g id=\"axes_1\">\n",
       "   <g clip-path=\"url(#p2b4f850429)\">\n",
       "    <image xlink:href=\"data:image/png;base64,\n",
       "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\" id=\"image9edf77baf1\" transform=\"matrix(0.526 0 0 -0.526 7.2 269.28)\" style=\"image-rendering:crisp-edges;image-rendering:pixelated\" width=\"500\" height=\"500\"/>\n",
       "   </g>\n",
       "  </g>\n",
       " </g>\n",
       " <defs>\n",
       "  <clipPath id=\"p2b4f850429\">\n",
       "   <rect x=\"7.2\" y=\"7.2\" width=\"262.08\" height=\"262.08\"/>\n",
       "  </clipPath>\n",
       " </defs>\n",
       "</svg>\n"
      ],
      "text/plain": [
       "<Figure size 288x288 with 1 Axes>"
      ]
     },
     "metadata": {
      "needs_background": "light"
     },
     "output_type": "display_data"
    }
   ],
   "source": [
    "im = ps.generators.blobs([500, 500])\n",
    "fig, ax = plt.subplots(1, 1, figsize=[4, 4])\n",
    "ax.axis(False)\n",
    "ax.imshow(im, origin='lower');"
   ]
  },
  {
   "cell_type": "markdown",
   "id": "e99ecfd6",
   "metadata": {},
   "source": [
    "## Apply tool\n",
    "``slice`` objects are returned:"
   ]
  },
  {
   "cell_type": "code",
   "execution_count": 3,
   "id": "3f33c403",
   "metadata": {
    "execution": {
     "iopub.execute_input": "2022-03-29T23:52:44.706269Z",
     "iopub.status.busy": "2022-03-29T23:52:44.705881Z",
     "iopub.status.idle": "2022-03-29T23:52:44.710616Z",
     "shell.execute_reply": "2022-03-29T23:52:44.710069Z"
    }
   },
   "outputs": [
    {
     "name": "stdout",
     "output_type": "stream",
     "text": [
      "[(slice(0, 270, None), slice(0, 270, None)), (slice(0, 270, None), slice(230, 500, None)), (slice(230, 500, None), slice(0, 270, None)), (slice(230, 500, None), slice(230, 500, None))]\n"
     ]
    }
   ],
   "source": [
    "slices = ps.tools.subdivide(im=im, divs=2, overlap=20)\n",
    "print(slices)"
   ]
  },
  {
   "cell_type": "code",
   "execution_count": 4,
   "id": "e897c588",
   "metadata": {
    "execution": {
     "iopub.execute_input": "2022-03-29T23:52:44.712955Z",
     "iopub.status.busy": "2022-03-29T23:52:44.712677Z",
     "iopub.status.idle": "2022-03-29T23:52:44.891944Z",
     "shell.execute_reply": "2022-03-29T23:52:44.891506Z"
    }
   },
   "outputs": [
    {
     "data": {
      "image/svg+xml": [
       "<?xml version=\"1.0\" encoding=\"utf-8\" standalone=\"no\"?>\n",
       "<!DOCTYPE svg PUBLIC \"-//W3C//DTD SVG 1.1//EN\"\n",
       "  \"http://www.w3.org/Graphics/SVG/1.1/DTD/svg11.dtd\">\n",
       "<svg xmlns:xlink=\"http://www.w3.org/1999/xlink\" width=\"554.76pt\" height=\"132.48pt\" viewBox=\"0 0 554.76 132.48\" xmlns=\"http://www.w3.org/2000/svg\" version=\"1.1\">\n",
       " <metadata>\n",
       "  <rdf:RDF xmlns:dc=\"http://purl.org/dc/elements/1.1/\" xmlns:cc=\"http://creativecommons.org/ns#\" xmlns:rdf=\"http://www.w3.org/1999/02/22-rdf-syntax-ns#\">\n",
       "   <cc:Work>\n",
       "    <dc:type rdf:resource=\"http://purl.org/dc/dcmitype/StillImage\"/>\n",
       "    <dc:date>2022-03-29T23:52:44.840235</dc:date>\n",
       "    <dc:format>image/svg+xml</dc:format>\n",
       "    <dc:creator>\n",
       "     <cc:Agent>\n",
       "      <dc:title>Matplotlib v3.5.1, https://matplotlib.org/</dc:title>\n",
       "     </cc:Agent>\n",
       "    </dc:creator>\n",
       "   </cc:Work>\n",
       "  </rdf:RDF>\n",
       " </metadata>\n",
       " <defs>\n",
       "  <style type=\"text/css\">*{stroke-linejoin: round; stroke-linecap: butt}</style>\n",
       " </defs>\n",
       " <g id=\"figure_1\">\n",
       "  <g id=\"patch_1\">\n",
       "   <path d=\"M 0 132.48 \n",
       "L 554.76 132.48 \n",
       "L 554.76 0 \n",
       "L 0 0 \n",
       "L 0 132.48 \n",
       "z\n",
       "\" style=\"fill: none\"/>\n",
       "  </g>\n",
       "  <g id=\"axes_1\">\n",
       "   <g clip-path=\"url(#pa293049da0)\">\n",
       "    <image xlink:href=\"data:image/png;base64,\n",
       "iVBORw0KGgoAAAANSUhEUgAAAQ4AAAEOCAYAAAB4sfmlAAAM/0lEQVR4nO3d3XHcOBOFYWrLUejaASgIVykBJ6ssFIUchct7oaV3PJ7hAEQ30Kf7fe6++rZkEug+BH/n6dvT91+bgbePd4s/c9rr88vSf9/T6rE9cjTukbf7SOZasvLP6g2ALhqsLpPgUD2ywBfBktdwcBAaQD2ng+Pt453QKKx1NcGqI6fu4CAw5ovWfNG2B/N9efQfEBIY9fr8Qh0l8/Tzx1eT27GrVTgKRmi+kXGOsP2tZtTTrfFQqWNux6KZSlFHd3S6rxKuKYKjSkGr76fS9ns1cMvfVQiPFMFRyarmU2p6K5YNnO2mAsEhaHYTW/57agE02uxnAyN6yKS4OKpWjJa8C8xrbKM3xj2PxsNyvyLX9cPbsYiNW51zzRzrt4/3sOHBqUoCXsXlWbRRGwJtCI4kXp9fSl+LyCrqapLgSMYiQGaFBuGki+BIynoFAlwiOJLrDQ/lW72Yh+AooHX1QRPHFPE6B7djC7kMhutiJDTQg+AoiqDACE5VAHQjOAB0IzgAdCM4AHQjOLBUxFuNeIy7KpD+9iXWYMVR3NG3L71XA6w2dLHiKKzn+5fWKxCr0GjZLgLKHsGBJpYBYtHIPdux/7cEiJ0Unw7cNs7Je4020ZnxnrnK8N6G2aLV9xfSuB6LuW5518Wjpiy+NUKtj/t9qkKAYMSMurE66hIe4/66q8IHYHJTbRhqMpa7t2PVJkq1IfCYRy2q1Xc0h89xMLi5EK6w8vABMKXwoDHy4ScaYmp6cpQB1keowlLzI+cq4UGD/I0xuU+lrqPpeldFZZCz/TI4EE3ql9wIEFYbLVQOiJF0B4fiIO8BUq2J1PdXsdaqOPWSm/KTd7NfsFpFdX5WUa7pFVKfqniJvnqJvG09suxHRqeDQ+Go6y1igETbHiXUdDu+x2HA62M3vf8+MMvQqQoJ/aeZDVz1gq83aroNKw5jbx/vbsVHSCCCt493Lo56sGxwVhbzsep4jOBwMtrshMUnxiCWfT4IDme9hW8dGHyY6RzG7NjQNQ6OBm1a7rpYj+X1v3X5v5k3nHFZN1wcnWhWwz46WvKUpJaIq5/TpyoUHrKL2LCrXPf7qeAgNOJqLXaaQkPUeeoKDq70Y4WVNbeycaOExq3xbw4OAgOYJ0po3PPw4iiBgepmXkyOFhj39vtucBAYwDzRAuORLwQEolNrqh6q+8aTo0AD6wZXeKL3aFFBcACTRQ+MFgRHMtlOPTM02U5hlbF7VEcER1HZAmaGs02vFBitCI6EsoSCerOpBkZL/RAcSR1NfpZgiUwxMHo8/fzx9dfqjYA/tTdiIzfe0ThG3u4WrTXCa/VFEBq+FLd5BKcqCEWxARW3+ZaegwsrDoSh1oBq23ukd0XKNQ6EkKkJ1Zw5jeVUBcsRGuucvfYldarSU2BKFwOrUgwMzx/cUiJxqjIyUQRITGrNd11Hatt/y0hvhF5xWEzO/jcIkDjUmi5j7YzuU9hrHB6vMWMtxUewCY3bwq04PAuL1cc6aoGxbdTJkVArjlnFpVjEyhTHO2toWO1XqOCYSbGY1SiemmwbodEiTHCsKDDFolahOratzZU1XFqFCI7VP3qjWuRRqY5n5jCw3rcQwRGBarFHozqOmUPDA8FxQbXoo1Adv+yh4bF/y4MjWrFx6lJL9tDwsjw4oiJA+jBWMXkFY7gHwKK5bAiOTrephkb2+fTcP4Kjw3WDZC88HKv8puzSUxX1Qed0RncOs4e+9/5xjcNA1QCpuM/4RHAYqhogalhtjCM4HBAeWGVWKBIcTrKHR/b9UzRzJUVwOKK58st+2nMPweEsY3hk3Cd1swOM4JiARoOnFaueZcFRrZmq7S/mWHWqxIpjogzhkWEfMnj7eF96fYXgQDnq4RfhgizBMZl60WZhOQ+zGnn1KuMSwbEA4RGDwjzsYRElMHYExyIKRVtBxHmIGhaXlv12bMQJWyFycdySed5G5+LM2KjN/47gCECpeKrMm9KcrMCHfAJ4fX6hUIN5FJDV52tJcFQ5aiGv6p+U5OJoECphWrFJ8DeCIxCV8AAIjmAUwoNVR137V+6W3FVRaI7VFJqTefyfwnz1Oppf7qrgtMo/D5BV63wuOVXJmM7WVBqSucyh90PbaVcc9wpapSGV7GPN2Oo5O2fLnhzdNvtC6zn6qRS58hH9aIyv90tlPu5RnKeRMV8aHNs2tvEr3i2YTbEgLTFHPkbH9enb0/e7wTF7QGY/5qtQlNumWZjWIs+V2vxYjOVhcLRSG7hLkQtypzy+1iLOl9L8WI2fycVR5V9x55aiFi7Enmc5Zi63Y/kNVXhTOjhl5PocB+EBT9G/khWJdS+6PwCmEB4Unzbm75hHD055clQhPKKiKdqsGqeq88PbsUiDU5e/eR20CY7/RCy4iNukgHH75LnSJziCovjHVB8/78sDaV9yi6B68a7m/cxH5fk1eXK0lcJAV/ptjEo8wiPqvM+4GcGK48qjJ0mjFguOVXlCeNY+Ehw3EA45ZX9cfeZ+cXEU5WQ8MMwOQ4IDJY0+8xEpfFasoAgOlBYpAM5YddpFcKA8xfBY/QY6wQFs/acuK5s2wsVdggO4EHn1sXqVcYngAK60rj5mNXGkwNjxHAdwR8tDY/v/X+1D2gQHcKD1iVOLAIkeFpemBsfr80voc0hg1KPXFZTC4cjUaxyEBirLEhrbxsVRACcQHAC6Hf527MofhQYiyXSaYaH7R6dHB5DwgCKC40/dd1UuG5/BBGoausbB5+iBet4+3m2e48j+ZSWgsluLg+5rHI+0hAerFCipekA86lPz27GEAqDvUR8veY6jaoIDCloO/i7BEemVZADtWs8Ylj45SngAcfRcZnAJjp5AIDwAPSHeVSE8gLV6b2qECI5tIzyAVc7cCTUPjpEAIDwADWFWHDvCA5FQj7eZBofVIDNZwBxnH9g0Cw7rZvcIj/0z8wQTMMbkXRXvRuxNxTPbw6PyuFbhAHO27oeDY/bgXu+ox79PiGDb8gfHSJ0PvVa/YmBn/Jv8jANw7NQ1jgrXCbLvH44x/8e6g6PSgFYISOCMplOV6s3DqUst1eu9xc2LowzcbYRHflVqf7SWv1QZKOAReqFduEfOI6Ow8mJu+xAcnSiwfJjTfgTHCRRaDtw1O8/kd1UAJYTFOFYcJ1F8elhh2GHFgfQIiz9ZPFbAimMABRkfc+SDFQdSIjB8seIYRIHGw5z4IziQCqExB8FhgGKNgXmYh+BACoTGXAQH5BEa8xEcRiheVEJwQBqBvQbBYYginovxXofgANCN4DDGUXAOxnktggNyCI31CA4HFDaisvrgNsHhhPDwwbjGQHAA6EZwOOLoaIvxHGP5u0AEhzOKHRkRHJBAAI+x/hVCgmMCih4refx0KcGB8AjeeAiOSSh+rOD1Q+l8rBhIyCswdqw4EBortX7eobFtrDiANGYExo7gAMTNDIwdwTHJislFbitriuAAhEQ5ABEcE0SZbGiKWD8Eh7OIk67k7eO95J2V6HVDcABBRA+LSwSHI6VCiGzWquPMfI1sl3J9EByQ4BEeFo2r3PwjCA4nVQvK02h4MCd2CA5I2Zu/JUAICj8EByQRCmvxkhuAbgQHgG4upyr3lpEVH+QBMjJfcRyde3JeCuRgGhwtwUB4APq4xgGgm2lwcA0DqIEVB4Bu5sHxaNXBqgTQ9/Tt6fuv1RuRFReCkRWnKgC68a4Kwnp0WsuKbh1OVZxR3P16r4MxxvNxqoIwXp9fTl0854L7fJyqYDmLxt//BquPOVhxOONoeMx6fBjvOQgOLHH2tKT1b8MXwYHpZjQ24eGL4MBUMxua8PBDcExAAX9aMQ6MvQ+CA1OsbGDCwx7BgRIID1sEB9xFadoo25EBwTFB5YeSojVrtO1RRXDATdQmjbpdSggOlER4jEn5rkrPqYF3AVU9TVFozNfnl7LzMyrNa/WWBWBV9FWLUiE0rlWdq7NSrDisJ/36751pBApRC6uPPtIrjlUTfRQk1YtPcbVxqfr8tZINDiY4HvXQuER9HeOuCnBDphD0IBkcHA3iydhoGffJilxwEBrxZG6wzPs2Qi44AKwnFRysNuKpcESusI+9pIIDsdBQdT39/PH117bFLwJWG7FErxcP1OD/fq84GBS0qhga+NMfpypvH+8hAyTiNlVFaGDbuMaBDtVDo/r+X7oZHBzhcY2mwaXwKw5CbD1CA9fuBgcNi20jNHBb6BUH4bUWoYF7DoODxq2L0MCRsCsOQmsdQgOPhA0OAHGFDA5WG+uw2kCLkMEBREWwfgoXHKw21qEp0OphcNDIAK6FWnEQUlDAyixQcBAagI4wwQEoqb7qCBEcrDagqHJ4NAWHZ2MTGlBWNTxCrDgAZa/PL+UC5PfHiltYDw6rjViqFf8MWWt8WXBkHVB13gcHwuk+pZ7oCo5ts5t4pUGqxGJ+W+eWELkven/8CzJwGG4avjpTAAAAAElFTkSuQmCC\" id=\"image75e1627596\" transform=\"matrix(0.440741 0 0 -0.440741 7.2 125.28)\" style=\"image-rendering:crisp-edges;image-rendering:pixelated\" width=\"270\" height=\"270\"/>\n",
       "   </g>\n",
       "  </g>\n",
       "  <g id=\"axes_2\">\n",
       "   <g clip-path=\"url(#p177c85a388)\">\n",
       "    <image xlink:href=\"data:image/png;base64,\n",
       "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\" id=\"image392931d98c\" transform=\"matrix(0.440741 0 0 -0.440741 147.96 125.28)\" style=\"image-rendering:crisp-edges;image-rendering:pixelated\" width=\"270\" height=\"270\"/>\n",
       "   </g>\n",
       "  </g>\n",
       "  <g id=\"axes_3\">\n",
       "   <g clip-path=\"url(#p402fdc2ad5)\">\n",
       "    <image xlink:href=\"data:image/png;base64,\n",
       "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\" id=\"imagee831eb9cbd\" transform=\"matrix(0.440741 0 0 -0.440741 288.72 125.28)\" style=\"image-rendering:crisp-edges;image-rendering:pixelated\" width=\"270\" height=\"270\"/>\n",
       "   </g>\n",
       "  </g>\n",
       "  <g id=\"axes_4\">\n",
       "   <g clip-path=\"url(#p1e31ac5cfc)\">\n",
       "    <image xlink:href=\"data:image/png;base64,\n",
       "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\" id=\"image7a52f02b3c\" transform=\"matrix(0.440741 0 0 -0.440741 429.48 125.28)\" style=\"image-rendering:crisp-edges;image-rendering:pixelated\" width=\"270\" height=\"270\"/>\n",
       "   </g>\n",
       "  </g>\n",
       " </g>\n",
       " <defs>\n",
       "  <clipPath id=\"pa293049da0\">\n",
       "   <rect x=\"7.2\" y=\"7.2\" width=\"118.08\" height=\"118.08\"/>\n",
       "  </clipPath>\n",
       "  <clipPath id=\"p177c85a388\">\n",
       "   <rect x=\"147.96\" y=\"7.2\" width=\"118.08\" height=\"118.08\"/>\n",
       "  </clipPath>\n",
       "  <clipPath id=\"p402fdc2ad5\">\n",
       "   <rect x=\"288.72\" y=\"7.2\" width=\"118.08\" height=\"118.08\"/>\n",
       "  </clipPath>\n",
       "  <clipPath id=\"p1e31ac5cfc\">\n",
       "   <rect x=\"429.48\" y=\"7.2\" width=\"118.08\" height=\"118.08\"/>\n",
       "  </clipPath>\n",
       " </defs>\n",
       "</svg>\n"
      ],
      "text/plain": [
       "<Figure size 576x144 with 4 Axes>"
      ]
     },
     "metadata": {
      "needs_background": "light"
     },
     "output_type": "display_data"
    }
   ],
   "source": [
    "fig, ax = plt.subplots(1, 4, figsize=[8, 2])\n",
    "for i, s in enumerate(slices):\n",
    "    ax[i].imshow(im[s], origin='lower')\n",
    "    ax[i].axis(False);"
   ]
  }
 ],
 "metadata": {
  "kernelspec": {
   "display_name": "Python 3",
   "language": "python",
   "name": "python3"
  },
  "language_info": {
   "codemirror_mode": {
    "name": "ipython",
    "version": 3
   },
   "file_extension": ".py",
   "mimetype": "text/x-python",
   "name": "python",
   "nbconvert_exporter": "python",
   "pygments_lexer": "ipython3",
   "version": "3.8.13"
  }
 },
 "nbformat": 4,
 "nbformat_minor": 5
}
