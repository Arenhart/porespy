{
 "cells": [
  {
   "cell_type": "markdown",
   "id": "76acccd3",
   "metadata": {},
   "source": [
    "# `subdivide`"
   ]
  },
  {
   "cell_type": "markdown",
   "id": "c6b5700f",
   "metadata": {},
   "source": [
    "## Import packages"
   ]
  },
  {
   "cell_type": "code",
   "execution_count": 1,
   "id": "4aa71432",
   "metadata": {
    "execution": {
     "iopub.execute_input": "2022-04-20T14:18:43.677183Z",
     "iopub.status.busy": "2022-04-20T14:18:43.676598Z",
     "iopub.status.idle": "2022-04-20T14:18:45.701981Z",
     "shell.execute_reply": "2022-04-20T14:18:45.701411Z"
    }
   },
   "outputs": [],
   "source": [
    "import numpy as np\n",
    "import porespy as ps\n",
    "import scipy.ndimage as spim\n",
    "import matplotlib.pyplot as plt\n",
    "import skimage\n",
    "\n",
    "np.random.rand(0)\n",
    "ps.visualization.set_mpl_style()"
   ]
  },
  {
   "cell_type": "markdown",
   "id": "be0cb230",
   "metadata": {},
   "source": [
    "## Create image and variables"
   ]
  },
  {
   "cell_type": "code",
   "execution_count": 2,
   "id": "9b8c0fbb",
   "metadata": {
    "execution": {
     "iopub.execute_input": "2022-04-20T14:18:45.705663Z",
     "iopub.status.busy": "2022-04-20T14:18:45.705370Z",
     "iopub.status.idle": "2022-04-20T14:18:45.827369Z",
     "shell.execute_reply": "2022-04-20T14:18:45.826916Z"
    }
   },
   "outputs": [
    {
     "data": {
      "image/svg+xml": [
       "<?xml version=\"1.0\" encoding=\"utf-8\" standalone=\"no\"?>\n",
       "<!DOCTYPE svg PUBLIC \"-//W3C//DTD SVG 1.1//EN\"\n",
       "  \"http://www.w3.org/Graphics/SVG/1.1/DTD/svg11.dtd\">\n",
       "<svg xmlns:xlink=\"http://www.w3.org/1999/xlink\" width=\"276.48pt\" height=\"276.48pt\" viewBox=\"0 0 276.48 276.48\" xmlns=\"http://www.w3.org/2000/svg\" version=\"1.1\">\n",
       " <metadata>\n",
       "  <rdf:RDF xmlns:dc=\"http://purl.org/dc/elements/1.1/\" xmlns:cc=\"http://creativecommons.org/ns#\" xmlns:rdf=\"http://www.w3.org/1999/02/22-rdf-syntax-ns#\">\n",
       "   <cc:Work>\n",
       "    <dc:type rdf:resource=\"http://purl.org/dc/dcmitype/StillImage\"/>\n",
       "    <dc:date>2022-04-20T14:18:45.799933</dc:date>\n",
       "    <dc:format>image/svg+xml</dc:format>\n",
       "    <dc:creator>\n",
       "     <cc:Agent>\n",
       "      <dc:title>Matplotlib v3.5.1, https://matplotlib.org/</dc:title>\n",
       "     </cc:Agent>\n",
       "    </dc:creator>\n",
       "   </cc:Work>\n",
       "  </rdf:RDF>\n",
       " </metadata>\n",
       " <defs>\n",
       "  <style type=\"text/css\">*{stroke-linejoin: round; stroke-linecap: butt}</style>\n",
       " </defs>\n",
       " <g id=\"figure_1\">\n",
       "  <g id=\"patch_1\">\n",
       "   <path d=\"M 0 276.48 \n",
       "L 276.48 276.48 \n",
       "L 276.48 0 \n",
       "L 0 0 \n",
       "L 0 276.48 \n",
       "z\n",
       "\" style=\"fill: none\"/>\n",
       "  </g>\n",
       "  <g id=\"axes_1\">\n",
       "   <g clip-path=\"url(#p983f514040)\">\n",
       "    <image xlink:href=\"data:image/png;base64,\n",
       "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\" id=\"image645ba63987\" transform=\"matrix(0.526 0 0 -0.526 7.2 269.28)\" style=\"image-rendering:crisp-edges;image-rendering:pixelated\" width=\"500\" height=\"500\"/>\n",
       "   </g>\n",
       "  </g>\n",
       " </g>\n",
       " <defs>\n",
       "  <clipPath id=\"p983f514040\">\n",
       "   <rect x=\"7.2\" y=\"7.2\" width=\"262.08\" height=\"262.08\"/>\n",
       "  </clipPath>\n",
       " </defs>\n",
       "</svg>\n"
      ],
      "text/plain": [
       "<Figure size 288x288 with 1 Axes>"
      ]
     },
     "metadata": {
      "needs_background": "light"
     },
     "output_type": "display_data"
    }
   ],
   "source": [
    "im = ps.generators.blobs([500, 500])\n",
    "fig, ax = plt.subplots(1, 1, figsize=[4, 4])\n",
    "ax.axis(False)\n",
    "ax.imshow(im, origin='lower');"
   ]
  },
  {
   "cell_type": "markdown",
   "id": "6e9cb6b9",
   "metadata": {},
   "source": [
    "## Apply tool\n",
    "``slice`` objects are returned:"
   ]
  },
  {
   "cell_type": "code",
   "execution_count": 3,
   "id": "c0497eed",
   "metadata": {
    "execution": {
     "iopub.execute_input": "2022-04-20T14:18:45.831327Z",
     "iopub.status.busy": "2022-04-20T14:18:45.830418Z",
     "iopub.status.idle": "2022-04-20T14:18:45.836121Z",
     "shell.execute_reply": "2022-04-20T14:18:45.835682Z"
    }
   },
   "outputs": [
    {
     "name": "stdout",
     "output_type": "stream",
     "text": [
      "[(slice(0, 270, None), slice(0, 270, None)), (slice(0, 270, None), slice(230, 500, None)), (slice(230, 500, None), slice(0, 270, None)), (slice(230, 500, None), slice(230, 500, None))]\n"
     ]
    }
   ],
   "source": [
    "slices = ps.tools.subdivide(im=im, divs=2, overlap=20)\n",
    "print(slices)"
   ]
  },
  {
   "cell_type": "code",
   "execution_count": 4,
   "id": "f4c49c48",
   "metadata": {
    "execution": {
     "iopub.execute_input": "2022-04-20T14:18:45.839607Z",
     "iopub.status.busy": "2022-04-20T14:18:45.838621Z",
     "iopub.status.idle": "2022-04-20T14:18:46.066027Z",
     "shell.execute_reply": "2022-04-20T14:18:46.065486Z"
    }
   },
   "outputs": [
    {
     "data": {
      "image/svg+xml": [
       "<?xml version=\"1.0\" encoding=\"utf-8\" standalone=\"no\"?>\n",
       "<!DOCTYPE svg PUBLIC \"-//W3C//DTD SVG 1.1//EN\"\n",
       "  \"http://www.w3.org/Graphics/SVG/1.1/DTD/svg11.dtd\">\n",
       "<svg xmlns:xlink=\"http://www.w3.org/1999/xlink\" width=\"554.76pt\" height=\"132.48pt\" viewBox=\"0 0 554.76 132.48\" xmlns=\"http://www.w3.org/2000/svg\" version=\"1.1\">\n",
       " <metadata>\n",
       "  <rdf:RDF xmlns:dc=\"http://purl.org/dc/elements/1.1/\" xmlns:cc=\"http://creativecommons.org/ns#\" xmlns:rdf=\"http://www.w3.org/1999/02/22-rdf-syntax-ns#\">\n",
       "   <cc:Work>\n",
       "    <dc:type rdf:resource=\"http://purl.org/dc/dcmitype/StillImage\"/>\n",
       "    <dc:date>2022-04-20T14:18:46.010068</dc:date>\n",
       "    <dc:format>image/svg+xml</dc:format>\n",
       "    <dc:creator>\n",
       "     <cc:Agent>\n",
       "      <dc:title>Matplotlib v3.5.1, https://matplotlib.org/</dc:title>\n",
       "     </cc:Agent>\n",
       "    </dc:creator>\n",
       "   </cc:Work>\n",
       "  </rdf:RDF>\n",
       " </metadata>\n",
       " <defs>\n",
       "  <style type=\"text/css\">*{stroke-linejoin: round; stroke-linecap: butt}</style>\n",
       " </defs>\n",
       " <g id=\"figure_1\">\n",
       "  <g id=\"patch_1\">\n",
       "   <path d=\"M 0 132.48 \n",
       "L 554.76 132.48 \n",
       "L 554.76 0 \n",
       "L 0 0 \n",
       "L 0 132.48 \n",
       "z\n",
       "\" style=\"fill: none\"/>\n",
       "  </g>\n",
       "  <g id=\"axes_1\">\n",
       "   <g clip-path=\"url(#p87ad9fdf28)\">\n",
       "    <image xlink:href=\"data:image/png;base64,\n",
       "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\" id=\"image43d332d1b7\" transform=\"matrix(0.440741 0 0 -0.440741 7.2 125.28)\" style=\"image-rendering:crisp-edges;image-rendering:pixelated\" width=\"270\" height=\"270\"/>\n",
       "   </g>\n",
       "  </g>\n",
       "  <g id=\"axes_2\">\n",
       "   <g clip-path=\"url(#p51a0eb18a7)\">\n",
       "    <image xlink:href=\"data:image/png;base64,\n",
       "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\" id=\"image1e4f19676d\" transform=\"matrix(0.440741 0 0 -0.440741 147.96 125.28)\" style=\"image-rendering:crisp-edges;image-rendering:pixelated\" width=\"270\" height=\"270\"/>\n",
       "   </g>\n",
       "  </g>\n",
       "  <g id=\"axes_3\">\n",
       "   <g clip-path=\"url(#pb5231c5264)\">\n",
       "    <image xlink:href=\"data:image/png;base64,\n",
       "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\" id=\"imageb7ce99a7a0\" transform=\"matrix(0.440741 0 0 -0.440741 288.72 125.28)\" style=\"image-rendering:crisp-edges;image-rendering:pixelated\" width=\"270\" height=\"270\"/>\n",
       "   </g>\n",
       "  </g>\n",
       "  <g id=\"axes_4\">\n",
       "   <g clip-path=\"url(#pf9fb46205f)\">\n",
       "    <image xlink:href=\"data:image/png;base64,\n",
       "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\" id=\"image1b1ee89ff9\" transform=\"matrix(0.440741 0 0 -0.440741 429.48 125.28)\" style=\"image-rendering:crisp-edges;image-rendering:pixelated\" width=\"270\" height=\"270\"/>\n",
       "   </g>\n",
       "  </g>\n",
       " </g>\n",
       " <defs>\n",
       "  <clipPath id=\"p87ad9fdf28\">\n",
       "   <rect x=\"7.2\" y=\"7.2\" width=\"118.08\" height=\"118.08\"/>\n",
       "  </clipPath>\n",
       "  <clipPath id=\"p51a0eb18a7\">\n",
       "   <rect x=\"147.96\" y=\"7.2\" width=\"118.08\" height=\"118.08\"/>\n",
       "  </clipPath>\n",
       "  <clipPath id=\"pb5231c5264\">\n",
       "   <rect x=\"288.72\" y=\"7.2\" width=\"118.08\" height=\"118.08\"/>\n",
       "  </clipPath>\n",
       "  <clipPath id=\"pf9fb46205f\">\n",
       "   <rect x=\"429.48\" y=\"7.2\" width=\"118.08\" height=\"118.08\"/>\n",
       "  </clipPath>\n",
       " </defs>\n",
       "</svg>\n"
      ],
      "text/plain": [
       "<Figure size 576x144 with 4 Axes>"
      ]
     },
     "metadata": {
      "needs_background": "light"
     },
     "output_type": "display_data"
    }
   ],
   "source": [
    "fig, ax = plt.subplots(1, 4, figsize=[8, 2])\n",
    "for i, s in enumerate(slices):\n",
    "    ax[i].imshow(im[s], origin='lower')\n",
    "    ax[i].axis(False);"
   ]
  }
 ],
 "metadata": {
  "kernelspec": {
   "display_name": "Python 3 (ipykernel)",
   "language": "python",
   "name": "python3"
  },
  "language_info": {
   "codemirror_mode": {
    "name": "ipython",
    "version": 3
   },
   "file_extension": ".py",
   "mimetype": "text/x-python",
   "name": "python",
   "nbconvert_exporter": "python",
   "pygments_lexer": "ipython3",
   "version": "3.8.13"
  }
 },
 "nbformat": 4,
 "nbformat_minor": 5
}
