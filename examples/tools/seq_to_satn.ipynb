{
 "cells": [
  {
   "cell_type": "markdown",
   "id": "breathing-warning",
   "metadata": {},
   "source": [
    "# seq_to_satn"
   ]
  },
  {
   "cell_type": "code",
   "execution_count": 1,
   "id": "legal-sarah",
   "metadata": {
    "jupyter": {
     "source_hidden": true
    },
    "tags": []
   },
   "outputs": [
    {
     "data": {
      "text/markdown": [
       "---\n",
       " ## Documentation for ``seq_to_satn``\n",
       " ---\n",
       "**<span style=\"color:purple\">seq&#95;to&#95;satn</span>_(seq)_**\n",
       "\n",
       "\n",
       "Converts an image of invasion sequence values to saturation values.\n",
       "\n",
       "\n",
       "#### Parameters\n",
       "* seq : <b><i>ND-image</i></b>  The image containing invasion sequence values in each voxel.\n",
       "\tNote that the invasion steps must be positive integers, solid\n",
       "\tvoxels indicated by 0, and uninvaded voxels indicated by -1.\n",
       "\n",
       "#### Returns\n",
       "* satn : <b><i>ND-image</i></b>  An ND-iamge the same size as ``seq`` but with sequnece values\n",
       "\treplaced by the fraction of pores invaded at or below the sequence\n",
       "\tnumber. Solid voxels and uninvaded voxels are represented by 0 and\n",
       "\t-1, respectively.\n",
       "---"
      ],
      "text/plain": [
       "<IPython.core.display.Markdown object>"
      ]
     },
     "execution_count": 1,
     "metadata": {},
     "output_type": "execute_result"
    }
   ],
   "source": [
    "import porespy as ps\n",
    "from IPython.display import Markdown as show\n",
    "show(ps.tools.show_docstring(ps.tools.seq_to_satn))"
   ]
  },
  {
   "cell_type": "markdown",
   "id": "neutral-manchester",
   "metadata": {},
   "source": [
    "## Import packages"
   ]
  },
  {
   "cell_type": "code",
   "execution_count": 2,
   "id": "appropriate-renaissance",
   "metadata": {},
   "outputs": [],
   "source": [
    "import numpy as np\n",
    "import porespy as ps\n",
    "import scipy.ndimage as spim\n",
    "import matplotlib.pyplot as plt\n",
    "import skimage"
   ]
  },
  {
   "cell_type": "markdown",
   "id": "worthy-relevance",
   "metadata": {},
   "source": [
    "## Create image and variables:"
   ]
  },
  {
   "cell_type": "code",
   "execution_count": 3,
   "id": "exposed-nirvana",
   "metadata": {},
   "outputs": [],
   "source": [
    "size = [[1,2,3],[4,5,6],[7,8,9]]\n",
    "bins= None\n",
    "seq = ps.tools.size_to_seq(size = size, bins = bins)"
   ]
  },
  {
   "cell_type": "markdown",
   "id": "handmade-claim",
   "metadata": {},
   "source": [
    "## Apply tool:"
   ]
  },
  {
   "cell_type": "code",
   "execution_count": 4,
   "id": "lucky-profit",
   "metadata": {},
   "outputs": [
    {
     "data": {
      "text/plain": [
       "<matplotlib.image.AxesImage at 0x7f47d636b8b0>"
      ]
     },
     "execution_count": 4,
     "metadata": {},
     "output_type": "execute_result"
    },
    {
     "data": {
      "image/png": "[encoded data removed]",
      "text/plain": [
       "<Figure size 504x504 with 1 Axes>"
      ]
     },
     "metadata": {
      "needs_background": "light"
     },
     "output_type": "display_data"
    }
   ],
   "source": [
    "im = ps.tools.seq_to_satn(seq=seq)\n",
    "plt.figure(figsize=[7, 7])\n",
    "plt.axis(False)\n",
    "plt.imshow(im)"
   ]
  }
 ],
 "metadata": {
  "kernelspec": {
   "display_name": "Python 3",
   "language": "python",
   "name": "python3"
  },
  "language_info": {
   "codemirror_mode": {
    "name": "ipython",
    "version": 3
   },
   "file_extension": ".py",
   "mimetype": "text/x-python",
   "name": "python",
   "nbconvert_exporter": "python",
   "pygments_lexer": "ipython3",
   "version": "3.8.8"
  }
 },
 "nbformat": 4,
 "nbformat_minor": 5
}
