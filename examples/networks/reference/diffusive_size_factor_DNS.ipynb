{
 "cells": [
  {
   "cell_type": "markdown",
   "metadata": {},
   "source": [
    "# `diffusive_size_factor_DNS`"
   ]
  },
  {
   "cell_type": "markdown",
   "metadata": {},
   "source": [
    "PoreSpy's `diffusive_size_factor_DNS` includes the steps for predicting the diffusive size factors of the conduit images decribed [here](https://doi.org/10.1016/j.cageo.2022.105086). Note that the diffusive conductance of the conduits can be then calculated by multiplying the size factor by diffusivity of the phase. The function takes in the images of segmented porous medium and returns an array of diffusive size factors for all conduits in the image. Therefore, the framework can be applied to both one conduit image as well as a segmented image of porous medium."
   ]
  },
  {
   "cell_type": "code",
   "execution_count": 3,
   "metadata": {},
   "outputs": [
    {
     "data": {
      "text/plain": [
       "<Signature (regions, throat_conns, voxel_size=1)>"
      ]
     },
     "execution_count": 3,
     "metadata": {},
     "output_type": "execute_result"
    }
   ],
   "source": [
    "import inspect\n",
    "import warnings\n",
    "import numpy as np\n",
    "import porespy as ps\n",
    "import scipy as sp\n",
    "from matplotlib import pyplot as plt\n",
    "\n",
    "ps.visualization.set_mpl_style()\n",
    "warnings.filterwarnings(\"ignore\")\n",
    "inspect.signature(ps.networks.diffusive_size_factor_DNS)"
   ]
  },
  {
   "cell_type": "markdown",
   "metadata": {},
   "source": [
    "## `regions`"
   ]
  },
  {
   "cell_type": "markdown",
   "metadata": {},
   "source": [
    "We can create a 3D image using PoreSpy's `poly_disperese_spheres` generator and segment the image using `snow_partitioning` method or `snow2` network extraction method."
   ]
  },
  {
   "cell_type": "code",
   "execution_count": 5,
   "metadata": {},
   "outputs": [
    {
     "data": {
      "application/vnd.jupyter.widget-view+json": {
       "model_id": "5a72cd836b1e41db80d9c4733949dd1d",
       "version_major": 2,
       "version_minor": 0
      },
      "text/plain": [
       "0it [00:00, ?it/s]"
      ]
     },
     "metadata": {},
     "output_type": "display_data"
    },
    {
     "data": {
      "image/png": "[encoded data removed]",
      "text/plain": [
       "<Figure size 400x400 with 1 Axes>"
      ]
     },
     "metadata": {
      "image/png": {
       "height": 383,
       "width": 383
      }
     },
     "output_type": "display_data"
    }
   ],
   "source": [
    "np.random.seed(10)\n",
    "shape = [40, 40, 40]\n",
    "dist = sp.stats.norm(loc=7, scale=5)\n",
    "im = ps.generators.polydisperse_spheres(shape=shape,\n",
    "                                        porosity=0.7,\n",
    "                                        dist=dist,\n",
    "                                        r_min=3)\n",
    "\n",
    "results = ps.filters.snow_partitioning(im=im.astype(bool))\n",
    "regions = results['regions']\n",
    "fig, ax = plt.subplots(1, 1, figsize=[4, 4])\n",
    "ax.imshow(regions[:, :, 5], origin='lower', interpolation='none')\n",
    "ax.axis(False);"
   ]
  },
  {
   "cell_type": "markdown",
   "metadata": {},
   "source": [
    "## `throat_conns`"
   ]
  },
  {
   "cell_type": "markdown",
   "metadata": {},
   "source": [
    "PoreSpy's `diffusive_size_factor_DNS` method takes in the segmented image and the conncetions of regions in the segmented image (throat conns). In this example we have created an image with voxel_size=1. For a different voxel size, the voxel_size argument needs to be passed to the method."
   ]
  },
  {
   "cell_type": "markdown",
   "metadata": {},
   "source": [
    "Note that `find_conns` method returns the connections in the segmented region. The order of values in conns is similar to the network extraction conns. Therefore, the region with label=1 in the segmented image is mapped to indice 0 in conns."
   ]
  },
  {
   "cell_type": "code",
   "execution_count": 7,
   "metadata": {},
   "outputs": [
    {
     "data": {
      "application/vnd.jupyter.widget-view+json": {
       "model_id": "c0f27b73408e439c9d6c1a0710e45b51",
       "version_major": 2,
       "version_minor": 0
      },
      "text/plain": [
       "Finding neighbouring regions:   0%|          | 0/31 [00:00<?, ?it/s]"
      ]
     },
     "metadata": {},
     "output_type": "display_data"
    },
    {
     "data": {
      "application/vnd.jupyter.widget-view+json": {
       "model_id": "769088bc9a9745399f67d29d6783479b",
       "version_major": 2,
       "version_minor": 0
      },
      "text/plain": [
       "Preparing images and DNS calculations:   0%|          | 0/93 [00:00<?, ?it/s]"
      ]
     },
     "metadata": {},
     "output_type": "display_data"
    },
    {
     "data": {
      "application/vnd.jupyter.widget-view+json": {
       "model_id": "c2638b21d83945a69e7c12f23e7d537a",
       "version_major": 2,
       "version_minor": 0
      },
      "text/plain": [
       "Getting ROI info:   0%|          | 0/2 [00:00<?, ?it/s]"
      ]
     },
     "metadata": {},
     "output_type": "display_data"
    },
    {
     "data": {
      "application/vnd.jupyter.widget-view+json": {
       "model_id": "4dd84908f82d4bdda7059b5f538a95e9",
       "version_major": 2,
       "version_minor": 0
      },
      "text/plain": [
       "Getting ROI info:   0%|          | 0/2 [00:00<?, ?it/s]"
      ]
     },
     "metadata": {},
     "output_type": "display_data"
    },
    {
     "data": {
      "application/vnd.jupyter.widget-view+json": {
       "model_id": "c3d77df4f97f4f228bc6bde3e77407bf",
       "version_major": 2,
       "version_minor": 0
      },
      "text/plain": [
       "Getting ROI info:   0%|          | 0/2 [00:00<?, ?it/s]"
      ]
     },
     "metadata": {},
     "output_type": "display_data"
    },
    {
     "data": {
      "application/vnd.jupyter.widget-view+json": {
       "model_id": "ab046f303c524d16bdf1194f6b48de0e",
       "version_major": 2,
       "version_minor": 0
      },
      "text/plain": [
       "Getting ROI info:   0%|          | 0/2 [00:00<?, ?it/s]"
      ]
     },
     "metadata": {},
     "output_type": "display_data"
    },
    {
     "data": {
      "application/vnd.jupyter.widget-view+json": {
       "model_id": "47b386a6ed404b0a9a3bc7fb155b8885",
       "version_major": 2,
       "version_minor": 0
      },
      "text/plain": [
       "Getting ROI info:   0%|          | 0/2 [00:00<?, ?it/s]"
      ]
     },
     "metadata": {},
     "output_type": "display_data"
    },
    {
     "data": {
      "application/vnd.jupyter.widget-view+json": {
       "model_id": "4540ee314db04933bfa1e7b8dd02fccf",
       "version_major": 2,
       "version_minor": 0
      },
      "text/plain": [
       "Getting ROI info:   0%|          | 0/2 [00:00<?, ?it/s]"
      ]
     },
     "metadata": {},
     "output_type": "display_data"
    },
    {
     "data": {
      "application/vnd.jupyter.widget-view+json": {
       "model_id": "4eacf3b9b4a44a4588a72e1eaf556107",
       "version_major": 2,
       "version_minor": 0
      },
      "text/plain": [
       "Getting ROI info:   0%|          | 0/2 [00:00<?, ?it/s]"
      ]
     },
     "metadata": {},
     "output_type": "display_data"
    },
    {
     "data": {
      "application/vnd.jupyter.widget-view+json": {
       "model_id": "56f964655bfc49ee9ae877566704f5d2",
       "version_major": 2,
       "version_minor": 0
      },
      "text/plain": [
       "Getting ROI info:   0%|          | 0/2 [00:00<?, ?it/s]"
      ]
     },
     "metadata": {},
     "output_type": "display_data"
    },
    {
     "data": {
      "application/vnd.jupyter.widget-view+json": {
       "model_id": "7d6eca284fbc42a690f4bf50edd73575",
       "version_major": 2,
       "version_minor": 0
      },
      "text/plain": [
       "Getting ROI info:   0%|          | 0/2 [00:00<?, ?it/s]"
      ]
     },
     "metadata": {},
     "output_type": "display_data"
    },
    {
     "data": {
      "application/vnd.jupyter.widget-view+json": {
       "model_id": "e28f0e9598d04b61a1461bb0ab567f0d",
       "version_major": 2,
       "version_minor": 0
      },
      "text/plain": [
       "Getting ROI info:   0%|          | 0/2 [00:00<?, ?it/s]"
      ]
     },
     "metadata": {},
     "output_type": "display_data"
    },
    {
     "data": {
      "application/vnd.jupyter.widget-view+json": {
       "model_id": "b3f7889f218846cabc3e4738b876f293",
       "version_major": 2,
       "version_minor": 0
      },
      "text/plain": [
       "Getting ROI info:   0%|          | 0/2 [00:00<?, ?it/s]"
      ]
     },
     "metadata": {},
     "output_type": "display_data"
    },
    {
     "data": {
      "application/vnd.jupyter.widget-view+json": {
       "model_id": "5977f78da1db49cf8a560a8ca402c6b0",
       "version_major": 2,
       "version_minor": 0
      },
      "text/plain": [
       "Getting ROI info:   0%|          | 0/2 [00:00<?, ?it/s]"
      ]
     },
     "metadata": {},
     "output_type": "display_data"
    },
    {
     "data": {
      "application/vnd.jupyter.widget-view+json": {
       "model_id": "5e75b6eeaa12452bb64bada7a02704a9",
       "version_major": 2,
       "version_minor": 0
      },
      "text/plain": [
       "Getting ROI info:   0%|          | 0/2 [00:00<?, ?it/s]"
      ]
     },
     "metadata": {},
     "output_type": "display_data"
    },
    {
     "data": {
      "application/vnd.jupyter.widget-view+json": {
       "model_id": "3856318392ee4c459aa286bc2d84a9e4",
       "version_major": 2,
       "version_minor": 0
      },
      "text/plain": [
       "Getting ROI info:   0%|          | 0/2 [00:00<?, ?it/s]"
      ]
     },
     "metadata": {},
     "output_type": "display_data"
    },
    {
     "data": {
      "application/vnd.jupyter.widget-view+json": {
       "model_id": "de59af1be1a146158e790de47d85459b",
       "version_major": 2,
       "version_minor": 0
      },
      "text/plain": [
       "Getting ROI info:   0%|          | 0/2 [00:00<?, ?it/s]"
      ]
     },
     "metadata": {},
     "output_type": "display_data"
    },
    {
     "data": {
      "application/vnd.jupyter.widget-view+json": {
       "model_id": "8f8a87acfd2b4678b446e7b207db22d8",
       "version_major": 2,
       "version_minor": 0
      },
      "text/plain": [
       "Getting ROI info:   0%|          | 0/2 [00:00<?, ?it/s]"
      ]
     },
     "metadata": {},
     "output_type": "display_data"
    },
    {
     "data": {
      "application/vnd.jupyter.widget-view+json": {
       "model_id": "85a27faf308a4928afd2eead56575d25",
       "version_major": 2,
       "version_minor": 0
      },
      "text/plain": [
       "Getting ROI info:   0%|          | 0/2 [00:00<?, ?it/s]"
      ]
     },
     "metadata": {},
     "output_type": "display_data"
    },
    {
     "data": {
      "application/vnd.jupyter.widget-view+json": {
       "model_id": "9a0465e1ede0473b81ef72aecb2d4b21",
       "version_major": 2,
       "version_minor": 0
      },
      "text/plain": [
       "Getting ROI info:   0%|          | 0/2 [00:00<?, ?it/s]"
      ]
     },
     "metadata": {},
     "output_type": "display_data"
    },
    {
     "data": {
      "application/vnd.jupyter.widget-view+json": {
       "model_id": "16b5f5372aea4276825d9959840e3f25",
       "version_major": 2,
       "version_minor": 0
      },
      "text/plain": [
       "Getting ROI info:   0%|          | 0/2 [00:00<?, ?it/s]"
      ]
     },
     "metadata": {},
     "output_type": "display_data"
    },
    {
     "data": {
      "application/vnd.jupyter.widget-view+json": {
       "model_id": "34095bda0aa547c19862cad9ce7a76c0",
       "version_major": 2,
       "version_minor": 0
      },
      "text/plain": [
       "Getting ROI info:   0%|          | 0/2 [00:00<?, ?it/s]"
      ]
     },
     "metadata": {},
     "output_type": "display_data"
    },
    {
     "data": {
      "application/vnd.jupyter.widget-view+json": {
       "model_id": "79f5302c57f1473a9414c721baa0c0a9",
       "version_major": 2,
       "version_minor": 0
      },
      "text/plain": [
       "Getting ROI info:   0%|          | 0/2 [00:00<?, ?it/s]"
      ]
     },
     "metadata": {},
     "output_type": "display_data"
    },
    {
     "data": {
      "application/vnd.jupyter.widget-view+json": {
       "model_id": "b93bc2332f274d6b892d8773f50daeba",
       "version_major": 2,
       "version_minor": 0
      },
      "text/plain": [
       "Getting ROI info:   0%|          | 0/2 [00:00<?, ?it/s]"
      ]
     },
     "metadata": {},
     "output_type": "display_data"
    },
    {
     "data": {
      "application/vnd.jupyter.widget-view+json": {
       "model_id": "8c2c142e96824c3cba05ab68488c225d",
       "version_major": 2,
       "version_minor": 0
      },
      "text/plain": [
       "Getting ROI info:   0%|          | 0/2 [00:00<?, ?it/s]"
      ]
     },
     "metadata": {},
     "output_type": "display_data"
    },
    {
     "data": {
      "application/vnd.jupyter.widget-view+json": {
       "model_id": "66c0c02fda5545bea83b91141793101e",
       "version_major": 2,
       "version_minor": 0
      },
      "text/plain": [
       "Getting ROI info:   0%|          | 0/2 [00:00<?, ?it/s]"
      ]
     },
     "metadata": {},
     "output_type": "display_data"
    },
    {
     "data": {
      "application/vnd.jupyter.widget-view+json": {
       "model_id": "6d77c73e8e9e47fda207b1289db877eb",
       "version_major": 2,
       "version_minor": 0
      },
      "text/plain": [
       "Getting ROI info:   0%|          | 0/2 [00:00<?, ?it/s]"
      ]
     },
     "metadata": {},
     "output_type": "display_data"
    },
    {
     "data": {
      "application/vnd.jupyter.widget-view+json": {
       "model_id": "d98ab160f65c4cc89a2300866cb4ce7f",
       "version_major": 2,
       "version_minor": 0
      },
      "text/plain": [
       "Getting ROI info:   0%|          | 0/2 [00:00<?, ?it/s]"
      ]
     },
     "metadata": {},
     "output_type": "display_data"
    },
    {
     "data": {
      "application/vnd.jupyter.widget-view+json": {
       "model_id": "e1f88eae623a4a199e35cbfc5225b7be",
       "version_major": 2,
       "version_minor": 0
      },
      "text/plain": [
       "Getting ROI info:   0%|          | 0/2 [00:00<?, ?it/s]"
      ]
     },
     "metadata": {},
     "output_type": "display_data"
    },
    {
     "data": {
      "application/vnd.jupyter.widget-view+json": {
       "model_id": "d5163d7fea444a5c839ce9a7e593a506",
       "version_major": 2,
       "version_minor": 0
      },
      "text/plain": [
       "Getting ROI info:   0%|          | 0/2 [00:00<?, ?it/s]"
      ]
     },
     "metadata": {},
     "output_type": "display_data"
    },
    {
     "data": {
      "application/vnd.jupyter.widget-view+json": {
       "model_id": "232ff9cf13604982a0abb755271e879a",
       "version_major": 2,
       "version_minor": 0
      },
      "text/plain": [
       "Getting ROI info:   0%|          | 0/2 [00:00<?, ?it/s]"
      ]
     },
     "metadata": {},
     "output_type": "display_data"
    },
    {
     "data": {
      "application/vnd.jupyter.widget-view+json": {
       "model_id": "ff454aa0d71946699b416ae0e4834429",
       "version_major": 2,
       "version_minor": 0
      },
      "text/plain": [
       "Getting ROI info:   0%|          | 0/2 [00:00<?, ?it/s]"
      ]
     },
     "metadata": {},
     "output_type": "display_data"
    },
    {
     "data": {
      "application/vnd.jupyter.widget-view+json": {
       "model_id": "84bf79fa3ec8492a984abb61f9b5121a",
       "version_major": 2,
       "version_minor": 0
      },
      "text/plain": [
       "Getting ROI info:   0%|          | 0/2 [00:00<?, ?it/s]"
      ]
     },
     "metadata": {},
     "output_type": "display_data"
    },
    {
     "data": {
      "application/vnd.jupyter.widget-view+json": {
       "model_id": "af2911993c1e4030b3b6580564783b6d",
       "version_major": 2,
       "version_minor": 0
      },
      "text/plain": [
       "Getting ROI info:   0%|          | 0/2 [00:00<?, ?it/s]"
      ]
     },
     "metadata": {},
     "output_type": "display_data"
    },
    {
     "data": {
      "application/vnd.jupyter.widget-view+json": {
       "model_id": "8e7b47c3e79b40758a8a5ee6ec859e53",
       "version_major": 2,
       "version_minor": 0
      },
      "text/plain": [
       "Getting ROI info:   0%|          | 0/2 [00:00<?, ?it/s]"
      ]
     },
     "metadata": {},
     "output_type": "display_data"
    },
    {
     "data": {
      "application/vnd.jupyter.widget-view+json": {
       "model_id": "8dd993b779794145bdbcdf1655ab6515",
       "version_major": 2,
       "version_minor": 0
      },
      "text/plain": [
       "Getting ROI info:   0%|          | 0/2 [00:00<?, ?it/s]"
      ]
     },
     "metadata": {},
     "output_type": "display_data"
    },
    {
     "data": {
      "application/vnd.jupyter.widget-view+json": {
       "model_id": "8d939be1a6db4133adda2456ecafe8d4",
       "version_major": 2,
       "version_minor": 0
      },
      "text/plain": [
       "Getting ROI info:   0%|          | 0/2 [00:00<?, ?it/s]"
      ]
     },
     "metadata": {},
     "output_type": "display_data"
    },
    {
     "data": {
      "application/vnd.jupyter.widget-view+json": {
       "model_id": "a6b7a52b22d442c6bd449d48949308c5",
       "version_major": 2,
       "version_minor": 0
      },
      "text/plain": [
       "Getting ROI info:   0%|          | 0/2 [00:00<?, ?it/s]"
      ]
     },
     "metadata": {},
     "output_type": "display_data"
    },
    {
     "data": {
      "application/vnd.jupyter.widget-view+json": {
       "model_id": "0a2ebb3c01a64edb90e3cce48682db61",
       "version_major": 2,
       "version_minor": 0
      },
      "text/plain": [
       "Getting ROI info:   0%|          | 0/2 [00:00<?, ?it/s]"
      ]
     },
     "metadata": {},
     "output_type": "display_data"
    },
    {
     "data": {
      "application/vnd.jupyter.widget-view+json": {
       "model_id": "e80a1fa0343a4a3b8add3d6bb0b43d6d",
       "version_major": 2,
       "version_minor": 0
      },
      "text/plain": [
       "Getting ROI info:   0%|          | 0/2 [00:00<?, ?it/s]"
      ]
     },
     "metadata": {},
     "output_type": "display_data"
    },
    {
     "data": {
      "application/vnd.jupyter.widget-view+json": {
       "model_id": "5c563b66e05b4a27aa14bae7e9ca5e94",
       "version_major": 2,
       "version_minor": 0
      },
      "text/plain": [
       "Getting ROI info:   0%|          | 0/2 [00:00<?, ?it/s]"
      ]
     },
     "metadata": {},
     "output_type": "display_data"
    },
    {
     "data": {
      "application/vnd.jupyter.widget-view+json": {
       "model_id": "412a3e7ce28740b8a1b3c167ed7d5479",
       "version_major": 2,
       "version_minor": 0
      },
      "text/plain": [
       "Getting ROI info:   0%|          | 0/2 [00:00<?, ?it/s]"
      ]
     },
     "metadata": {},
     "output_type": "display_data"
    },
    {
     "data": {
      "application/vnd.jupyter.widget-view+json": {
       "model_id": "419ba11656db45d9a641d8ef38d47296",
       "version_major": 2,
       "version_minor": 0
      },
      "text/plain": [
       "Getting ROI info:   0%|          | 0/2 [00:00<?, ?it/s]"
      ]
     },
     "metadata": {},
     "output_type": "display_data"
    },
    {
     "data": {
      "application/vnd.jupyter.widget-view+json": {
       "model_id": "453f689719cf4d589118759eebda26b4",
       "version_major": 2,
       "version_minor": 0
      },
      "text/plain": [
       "Getting ROI info:   0%|          | 0/2 [00:00<?, ?it/s]"
      ]
     },
     "metadata": {},
     "output_type": "display_data"
    },
    {
     "data": {
      "application/vnd.jupyter.widget-view+json": {
       "model_id": "48c272edda28447f8d97af5ae4837acb",
       "version_major": 2,
       "version_minor": 0
      },
      "text/plain": [
       "Getting ROI info:   0%|          | 0/2 [00:00<?, ?it/s]"
      ]
     },
     "metadata": {},
     "output_type": "display_data"
    },
    {
     "data": {
      "application/vnd.jupyter.widget-view+json": {
       "model_id": "719f000181a4493588a7194efbe3f48e",
       "version_major": 2,
       "version_minor": 0
      },
      "text/plain": [
       "Getting ROI info:   0%|          | 0/2 [00:00<?, ?it/s]"
      ]
     },
     "metadata": {},
     "output_type": "display_data"
    },
    {
     "data": {
      "application/vnd.jupyter.widget-view+json": {
       "model_id": "40ea299fa61048109f6a5381aa55d963",
       "version_major": 2,
       "version_minor": 0
      },
      "text/plain": [
       "Getting ROI info:   0%|          | 0/2 [00:00<?, ?it/s]"
      ]
     },
     "metadata": {},
     "output_type": "display_data"
    },
    {
     "data": {
      "application/vnd.jupyter.widget-view+json": {
       "model_id": "f6d521d87ccf441f84668d7efab5b24c",
       "version_major": 2,
       "version_minor": 0
      },
      "text/plain": [
       "Getting ROI info:   0%|          | 0/2 [00:00<?, ?it/s]"
      ]
     },
     "metadata": {},
     "output_type": "display_data"
    },
    {
     "data": {
      "application/vnd.jupyter.widget-view+json": {
       "model_id": "a48ca8635d7947ab8513f5fdce27086a",
       "version_major": 2,
       "version_minor": 0
      },
      "text/plain": [
       "Getting ROI info:   0%|          | 0/2 [00:00<?, ?it/s]"
      ]
     },
     "metadata": {},
     "output_type": "display_data"
    },
    {
     "data": {
      "application/vnd.jupyter.widget-view+json": {
       "model_id": "db8bc7ca6ada454d89e18b5d6a9ea24d",
       "version_major": 2,
       "version_minor": 0
      },
      "text/plain": [
       "Getting ROI info:   0%|          | 0/2 [00:00<?, ?it/s]"
      ]
     },
     "metadata": {},
     "output_type": "display_data"
    },
    {
     "data": {
      "application/vnd.jupyter.widget-view+json": {
       "model_id": "085d6e6c236542a791ff05cfff2428e4",
       "version_major": 2,
       "version_minor": 0
      },
      "text/plain": [
       "Getting ROI info:   0%|          | 0/2 [00:00<?, ?it/s]"
      ]
     },
     "metadata": {},
     "output_type": "display_data"
    },
    {
     "data": {
      "application/vnd.jupyter.widget-view+json": {
       "model_id": "f648b2bca78c42a3a064dcae6ea2c382",
       "version_major": 2,
       "version_minor": 0
      },
      "text/plain": [
       "Getting ROI info:   0%|          | 0/2 [00:00<?, ?it/s]"
      ]
     },
     "metadata": {},
     "output_type": "display_data"
    },
    {
     "data": {
      "application/vnd.jupyter.widget-view+json": {
       "model_id": "18e81895b8d047eeb9d3fd4c54b83292",
       "version_major": 2,
       "version_minor": 0
      },
      "text/plain": [
       "Getting ROI info:   0%|          | 0/2 [00:00<?, ?it/s]"
      ]
     },
     "metadata": {},
     "output_type": "display_data"
    },
    {
     "data": {
      "application/vnd.jupyter.widget-view+json": {
       "model_id": "5d095ac1071249d18af6ca5c53e155e7",
       "version_major": 2,
       "version_minor": 0
      },
      "text/plain": [
       "Getting ROI info:   0%|          | 0/2 [00:00<?, ?it/s]"
      ]
     },
     "metadata": {},
     "output_type": "display_data"
    },
    {
     "data": {
      "application/vnd.jupyter.widget-view+json": {
       "model_id": "a29df559dce64ed6bf8ba08855cc1fa8",
       "version_major": 2,
       "version_minor": 0
      },
      "text/plain": [
       "Getting ROI info:   0%|          | 0/2 [00:00<?, ?it/s]"
      ]
     },
     "metadata": {},
     "output_type": "display_data"
    },
    {
     "data": {
      "application/vnd.jupyter.widget-view+json": {
       "model_id": "f517949cc9bd41af8326f223aef1e4bb",
       "version_major": 2,
       "version_minor": 0
      },
      "text/plain": [
       "Getting ROI info:   0%|          | 0/2 [00:00<?, ?it/s]"
      ]
     },
     "metadata": {},
     "output_type": "display_data"
    },
    {
     "data": {
      "application/vnd.jupyter.widget-view+json": {
       "model_id": "0b5fc4e9050542ceaca689653ae51a9c",
       "version_major": 2,
       "version_minor": 0
      },
      "text/plain": [
       "Getting ROI info:   0%|          | 0/2 [00:00<?, ?it/s]"
      ]
     },
     "metadata": {},
     "output_type": "display_data"
    },
    {
     "data": {
      "application/vnd.jupyter.widget-view+json": {
       "model_id": "bb0d399c73874096a03294dd512cb219",
       "version_major": 2,
       "version_minor": 0
      },
      "text/plain": [
       "Getting ROI info:   0%|          | 0/2 [00:00<?, ?it/s]"
      ]
     },
     "metadata": {},
     "output_type": "display_data"
    },
    {
     "data": {
      "application/vnd.jupyter.widget-view+json": {
       "model_id": "cceb332fdf204e62b760b84c4504a8b5",
       "version_major": 2,
       "version_minor": 0
      },
      "text/plain": [
       "Getting ROI info:   0%|          | 0/2 [00:00<?, ?it/s]"
      ]
     },
     "metadata": {},
     "output_type": "display_data"
    },
    {
     "data": {
      "application/vnd.jupyter.widget-view+json": {
       "model_id": "f1ea67c17ea645e885412ca52feb6c31",
       "version_major": 2,
       "version_minor": 0
      },
      "text/plain": [
       "Getting ROI info:   0%|          | 0/2 [00:00<?, ?it/s]"
      ]
     },
     "metadata": {},
     "output_type": "display_data"
    },
    {
     "data": {
      "application/vnd.jupyter.widget-view+json": {
       "model_id": "3191786499dd458588a91c68e251e8ef",
       "version_major": 2,
       "version_minor": 0
      },
      "text/plain": [
       "Getting ROI info:   0%|          | 0/2 [00:00<?, ?it/s]"
      ]
     },
     "metadata": {},
     "output_type": "display_data"
    },
    {
     "data": {
      "application/vnd.jupyter.widget-view+json": {
       "model_id": "261b9b8defc440b5a143a369a3a9122b",
       "version_major": 2,
       "version_minor": 0
      },
      "text/plain": [
       "Getting ROI info:   0%|          | 0/2 [00:00<?, ?it/s]"
      ]
     },
     "metadata": {},
     "output_type": "display_data"
    },
    {
     "data": {
      "application/vnd.jupyter.widget-view+json": {
       "model_id": "b9724674eb7e4c6da0ca61d3e20676e2",
       "version_major": 2,
       "version_minor": 0
      },
      "text/plain": [
       "Getting ROI info:   0%|          | 0/2 [00:00<?, ?it/s]"
      ]
     },
     "metadata": {},
     "output_type": "display_data"
    },
    {
     "data": {
      "application/vnd.jupyter.widget-view+json": {
       "model_id": "d9fcf3e174314e688e46c72ba90d5c38",
       "version_major": 2,
       "version_minor": 0
      },
      "text/plain": [
       "Getting ROI info:   0%|          | 0/2 [00:00<?, ?it/s]"
      ]
     },
     "metadata": {},
     "output_type": "display_data"
    },
    {
     "data": {
      "application/vnd.jupyter.widget-view+json": {
       "model_id": "a12caccdde794e31bd8b38b687598a20",
       "version_major": 2,
       "version_minor": 0
      },
      "text/plain": [
       "Getting ROI info:   0%|          | 0/2 [00:00<?, ?it/s]"
      ]
     },
     "metadata": {},
     "output_type": "display_data"
    },
    {
     "data": {
      "application/vnd.jupyter.widget-view+json": {
       "model_id": "1e468fccc4004d45bae0c9ccf4433db0",
       "version_major": 2,
       "version_minor": 0
      },
      "text/plain": [
       "Getting ROI info:   0%|          | 0/2 [00:00<?, ?it/s]"
      ]
     },
     "metadata": {},
     "output_type": "display_data"
    },
    {
     "data": {
      "application/vnd.jupyter.widget-view+json": {
       "model_id": "297a114a27944784a6b9ba9a1c95d248",
       "version_major": 2,
       "version_minor": 0
      },
      "text/plain": [
       "Getting ROI info:   0%|          | 0/2 [00:00<?, ?it/s]"
      ]
     },
     "metadata": {},
     "output_type": "display_data"
    },
    {
     "data": {
      "application/vnd.jupyter.widget-view+json": {
       "model_id": "9c44a26764c54fffb4de8f00df3b29c5",
       "version_major": 2,
       "version_minor": 0
      },
      "text/plain": [
       "Getting ROI info:   0%|          | 0/2 [00:00<?, ?it/s]"
      ]
     },
     "metadata": {},
     "output_type": "display_data"
    },
    {
     "data": {
      "application/vnd.jupyter.widget-view+json": {
       "model_id": "24a3fc59eedb432aace6e64cbf07339e",
       "version_major": 2,
       "version_minor": 0
      },
      "text/plain": [
       "Getting ROI info:   0%|          | 0/2 [00:00<?, ?it/s]"
      ]
     },
     "metadata": {},
     "output_type": "display_data"
    },
    {
     "data": {
      "application/vnd.jupyter.widget-view+json": {
       "model_id": "ffb16e27788e46c3a589daab57efb68c",
       "version_major": 2,
       "version_minor": 0
      },
      "text/plain": [
       "Getting ROI info:   0%|          | 0/2 [00:00<?, ?it/s]"
      ]
     },
     "metadata": {},
     "output_type": "display_data"
    },
    {
     "data": {
      "application/vnd.jupyter.widget-view+json": {
       "model_id": "3778e52171e84fa4b26a6d7e29eba117",
       "version_major": 2,
       "version_minor": 0
      },
      "text/plain": [
       "Getting ROI info:   0%|          | 0/2 [00:00<?, ?it/s]"
      ]
     },
     "metadata": {},
     "output_type": "display_data"
    },
    {
     "data": {
      "application/vnd.jupyter.widget-view+json": {
       "model_id": "0980622aa97a4edfa76227373ab93635",
       "version_major": 2,
       "version_minor": 0
      },
      "text/plain": [
       "Getting ROI info:   0%|          | 0/2 [00:00<?, ?it/s]"
      ]
     },
     "metadata": {},
     "output_type": "display_data"
    },
    {
     "data": {
      "application/vnd.jupyter.widget-view+json": {
       "model_id": "46709f2512ff4a929d46021b33f94bd9",
       "version_major": 2,
       "version_minor": 0
      },
      "text/plain": [
       "Getting ROI info:   0%|          | 0/2 [00:00<?, ?it/s]"
      ]
     },
     "metadata": {},
     "output_type": "display_data"
    },
    {
     "data": {
      "application/vnd.jupyter.widget-view+json": {
       "model_id": "be7b1d54078b40798b047f678a2a2431",
       "version_major": 2,
       "version_minor": 0
      },
      "text/plain": [
       "Getting ROI info:   0%|          | 0/2 [00:00<?, ?it/s]"
      ]
     },
     "metadata": {},
     "output_type": "display_data"
    },
    {
     "data": {
      "application/vnd.jupyter.widget-view+json": {
       "model_id": "44e22a69ac7a431eb02e532f9917c93f",
       "version_major": 2,
       "version_minor": 0
      },
      "text/plain": [
       "Getting ROI info:   0%|          | 0/2 [00:00<?, ?it/s]"
      ]
     },
     "metadata": {},
     "output_type": "display_data"
    },
    {
     "data": {
      "application/vnd.jupyter.widget-view+json": {
       "model_id": "72cf36300fc841a7bf0cc01706b388d9",
       "version_major": 2,
       "version_minor": 0
      },
      "text/plain": [
       "Getting ROI info:   0%|          | 0/2 [00:00<?, ?it/s]"
      ]
     },
     "metadata": {},
     "output_type": "display_data"
    },
    {
     "data": {
      "application/vnd.jupyter.widget-view+json": {
       "model_id": "a428d9676477493680fbb86d60d37aad",
       "version_major": 2,
       "version_minor": 0
      },
      "text/plain": [
       "Getting ROI info:   0%|          | 0/2 [00:00<?, ?it/s]"
      ]
     },
     "metadata": {},
     "output_type": "display_data"
    },
    {
     "data": {
      "application/vnd.jupyter.widget-view+json": {
       "model_id": "92353d0fbd4249879f7633a148f5c450",
       "version_major": 2,
       "version_minor": 0
      },
      "text/plain": [
       "Getting ROI info:   0%|          | 0/2 [00:00<?, ?it/s]"
      ]
     },
     "metadata": {},
     "output_type": "display_data"
    },
    {
     "data": {
      "application/vnd.jupyter.widget-view+json": {
       "model_id": "f0126d02d392482a871747b1960ab74a",
       "version_major": 2,
       "version_minor": 0
      },
      "text/plain": [
       "Getting ROI info:   0%|          | 0/2 [00:00<?, ?it/s]"
      ]
     },
     "metadata": {},
     "output_type": "display_data"
    },
    {
     "data": {
      "application/vnd.jupyter.widget-view+json": {
       "model_id": "dd84a05f63d745cfbffb10fb2d6e5a80",
       "version_major": 2,
       "version_minor": 0
      },
      "text/plain": [
       "Getting ROI info:   0%|          | 0/2 [00:00<?, ?it/s]"
      ]
     },
     "metadata": {},
     "output_type": "display_data"
    },
    {
     "data": {
      "application/vnd.jupyter.widget-view+json": {
       "model_id": "332b0ce5aab0460586e218a7cadd66cc",
       "version_major": 2,
       "version_minor": 0
      },
      "text/plain": [
       "Getting ROI info:   0%|          | 0/2 [00:00<?, ?it/s]"
      ]
     },
     "metadata": {},
     "output_type": "display_data"
    },
    {
     "data": {
      "application/vnd.jupyter.widget-view+json": {
       "model_id": "d23cdd3ddce54eb2b3953a25f1e10103",
       "version_major": 2,
       "version_minor": 0
      },
      "text/plain": [
       "Getting ROI info:   0%|          | 0/2 [00:00<?, ?it/s]"
      ]
     },
     "metadata": {},
     "output_type": "display_data"
    },
    {
     "data": {
      "application/vnd.jupyter.widget-view+json": {
       "model_id": "2031292d42b44d638853e59693df386e",
       "version_major": 2,
       "version_minor": 0
      },
      "text/plain": [
       "Getting ROI info:   0%|          | 0/2 [00:00<?, ?it/s]"
      ]
     },
     "metadata": {},
     "output_type": "display_data"
    },
    {
     "data": {
      "application/vnd.jupyter.widget-view+json": {
       "model_id": "5e24b0f9e2a3435b846337fa5fe7b774",
       "version_major": 2,
       "version_minor": 0
      },
      "text/plain": [
       "Getting ROI info:   0%|          | 0/2 [00:00<?, ?it/s]"
      ]
     },
     "metadata": {},
     "output_type": "display_data"
    },
    {
     "data": {
      "application/vnd.jupyter.widget-view+json": {
       "model_id": "3518a55f66f84b98a2186ddc3765f629",
       "version_major": 2,
       "version_minor": 0
      },
      "text/plain": [
       "Getting ROI info:   0%|          | 0/2 [00:00<?, ?it/s]"
      ]
     },
     "metadata": {},
     "output_type": "display_data"
    },
    {
     "data": {
      "application/vnd.jupyter.widget-view+json": {
       "model_id": "7d6e0f496bf54fe99ab13c1d83b66e05",
       "version_major": 2,
       "version_minor": 0
      },
      "text/plain": [
       "Getting ROI info:   0%|          | 0/2 [00:00<?, ?it/s]"
      ]
     },
     "metadata": {},
     "output_type": "display_data"
    },
    {
     "data": {
      "application/vnd.jupyter.widget-view+json": {
       "model_id": "4d56b7c2e6f44338ac1de24e002e5689",
       "version_major": 2,
       "version_minor": 0
      },
      "text/plain": [
       "Getting ROI info:   0%|          | 0/2 [00:00<?, ?it/s]"
      ]
     },
     "metadata": {},
     "output_type": "display_data"
    },
    {
     "data": {
      "application/vnd.jupyter.widget-view+json": {
       "model_id": "01848d1c5dda46f8be0ed2e9fac29718",
       "version_major": 2,
       "version_minor": 0
      },
      "text/plain": [
       "Getting ROI info:   0%|          | 0/2 [00:00<?, ?it/s]"
      ]
     },
     "metadata": {},
     "output_type": "display_data"
    },
    {
     "data": {
      "application/vnd.jupyter.widget-view+json": {
       "model_id": "a54f1d6a03074ded9368208d83e5043c",
       "version_major": 2,
       "version_minor": 0
      },
      "text/plain": [
       "Getting ROI info:   0%|          | 0/2 [00:00<?, ?it/s]"
      ]
     },
     "metadata": {},
     "output_type": "display_data"
    },
    {
     "data": {
      "application/vnd.jupyter.widget-view+json": {
       "model_id": "1d80d6cbd39a4a9b87f73f9a82794562",
       "version_major": 2,
       "version_minor": 0
      },
      "text/plain": [
       "Getting ROI info:   0%|          | 0/2 [00:00<?, ?it/s]"
      ]
     },
     "metadata": {},
     "output_type": "display_data"
    },
    {
     "data": {
      "application/vnd.jupyter.widget-view+json": {
       "model_id": "4c96ed9d465240f29c4bfb35e22c4177",
       "version_major": 2,
       "version_minor": 0
      },
      "text/plain": [
       "Getting ROI info:   0%|          | 0/2 [00:00<?, ?it/s]"
      ]
     },
     "metadata": {},
     "output_type": "display_data"
    },
    {
     "data": {
      "application/vnd.jupyter.widget-view+json": {
       "model_id": "a2ef9ebf3a6d4ee09ef407118d16d9b1",
       "version_major": 2,
       "version_minor": 0
      },
      "text/plain": [
       "Getting ROI info:   0%|          | 0/2 [00:00<?, ?it/s]"
      ]
     },
     "metadata": {},
     "output_type": "display_data"
    },
    {
     "data": {
      "application/vnd.jupyter.widget-view+json": {
       "model_id": "99d9a30b9df34bb899eeff56f006feac",
       "version_major": 2,
       "version_minor": 0
      },
      "text/plain": [
       "Getting ROI info:   0%|          | 0/2 [00:00<?, ?it/s]"
      ]
     },
     "metadata": {},
     "output_type": "display_data"
    },
    {
     "data": {
      "application/vnd.jupyter.widget-view+json": {
       "model_id": "356e805597a141519c0fd653d1fe6061",
       "version_major": 2,
       "version_minor": 0
      },
      "text/plain": [
       "Getting ROI info:   0%|          | 0/2 [00:00<?, ?it/s]"
      ]
     },
     "metadata": {},
     "output_type": "display_data"
    },
    {
     "data": {
      "application/vnd.jupyter.widget-view+json": {
       "model_id": "6ff28cd65642478d88636ef056106991",
       "version_major": 2,
       "version_minor": 0
      },
      "text/plain": [
       "Getting ROI info:   0%|          | 0/2 [00:00<?, ?it/s]"
      ]
     },
     "metadata": {},
     "output_type": "display_data"
    }
   ],
   "source": [
    "conns = ps.networks.find_conns(regions)\n",
    "size_factors = ps.networks.diffusive_size_factor_DNS(regions,\n",
    "                                                    throat_conns=conns)"
   ]
  },
  {
   "cell_type": "markdown",
   "metadata": {},
   "source": [
    "## `voxel_size`"
   ]
  },
  {
   "cell_type": "markdown",
   "metadata": {},
   "source": [
    "By default, the `diffusive_size_factor_DNS` uses voxel_size=1. For an image with a different resolution, the voxel size needs to be passed as an argument. Let's assume that voxel size for the generated image is 1e-6 [m]:"
   ]
  },
  {
   "cell_type": "code",
   "execution_count": 8,
   "metadata": {},
   "outputs": [
    {
     "data": {
      "application/vnd.jupyter.widget-view+json": {
       "model_id": "b9f9e4e9413d4c6a8473dfc75af7c2e7",
       "version_major": 2,
       "version_minor": 0
      },
      "text/plain": [
       "Preparing images and DNS calculations:   0%|          | 0/93 [00:00<?, ?it/s]"
      ]
     },
     "metadata": {},
     "output_type": "display_data"
    },
    {
     "data": {
      "application/vnd.jupyter.widget-view+json": {
       "model_id": "b42401e7800d45cc99e2a34fb947d681",
       "version_major": 2,
       "version_minor": 0
      },
      "text/plain": [
       "Getting ROI info:   0%|          | 0/2 [00:00<?, ?it/s]"
      ]
     },
     "metadata": {},
     "output_type": "display_data"
    },
    {
     "data": {
      "application/vnd.jupyter.widget-view+json": {
       "model_id": "b552c3fcf972415a8425ca783158a055",
       "version_major": 2,
       "version_minor": 0
      },
      "text/plain": [
       "Getting ROI info:   0%|          | 0/2 [00:00<?, ?it/s]"
      ]
     },
     "metadata": {},
     "output_type": "display_data"
    },
    {
     "data": {
      "application/vnd.jupyter.widget-view+json": {
       "model_id": "32f42484a7814e7f832b9e01d03be9fe",
       "version_major": 2,
       "version_minor": 0
      },
      "text/plain": [
       "Getting ROI info:   0%|          | 0/2 [00:00<?, ?it/s]"
      ]
     },
     "metadata": {},
     "output_type": "display_data"
    },
    {
     "data": {
      "application/vnd.jupyter.widget-view+json": {
       "model_id": "08752f98fe2842fd831207058fb47401",
       "version_major": 2,
       "version_minor": 0
      },
      "text/plain": [
       "Getting ROI info:   0%|          | 0/2 [00:00<?, ?it/s]"
      ]
     },
     "metadata": {},
     "output_type": "display_data"
    },
    {
     "data": {
      "application/vnd.jupyter.widget-view+json": {
       "model_id": "9a3a5396136647028677be437824534f",
       "version_major": 2,
       "version_minor": 0
      },
      "text/plain": [
       "Getting ROI info:   0%|          | 0/2 [00:00<?, ?it/s]"
      ]
     },
     "metadata": {},
     "output_type": "display_data"
    },
    {
     "data": {
      "application/vnd.jupyter.widget-view+json": {
       "model_id": "7b7b466f29f044d5ade31a557ddc9b5f",
       "version_major": 2,
       "version_minor": 0
      },
      "text/plain": [
       "Getting ROI info:   0%|          | 0/2 [00:00<?, ?it/s]"
      ]
     },
     "metadata": {},
     "output_type": "display_data"
    },
    {
     "data": {
      "application/vnd.jupyter.widget-view+json": {
       "model_id": "a0e3c58b32844128b978b9178bd08020",
       "version_major": 2,
       "version_minor": 0
      },
      "text/plain": [
       "Getting ROI info:   0%|          | 0/2 [00:00<?, ?it/s]"
      ]
     },
     "metadata": {},
     "output_type": "display_data"
    },
    {
     "data": {
      "application/vnd.jupyter.widget-view+json": {
       "model_id": "2a71c4fc558b4865b42c0c8f5b0836c9",
       "version_major": 2,
       "version_minor": 0
      },
      "text/plain": [
       "Getting ROI info:   0%|          | 0/2 [00:00<?, ?it/s]"
      ]
     },
     "metadata": {},
     "output_type": "display_data"
    },
    {
     "data": {
      "application/vnd.jupyter.widget-view+json": {
       "model_id": "9970b9e19d954c55923a50c8fc5b9ed0",
       "version_major": 2,
       "version_minor": 0
      },
      "text/plain": [
       "Getting ROI info:   0%|          | 0/2 [00:00<?, ?it/s]"
      ]
     },
     "metadata": {},
     "output_type": "display_data"
    },
    {
     "data": {
      "application/vnd.jupyter.widget-view+json": {
       "model_id": "a4badd9c80b744db95335c82e1d5b709",
       "version_major": 2,
       "version_minor": 0
      },
      "text/plain": [
       "Getting ROI info:   0%|          | 0/2 [00:00<?, ?it/s]"
      ]
     },
     "metadata": {},
     "output_type": "display_data"
    },
    {
     "data": {
      "application/vnd.jupyter.widget-view+json": {
       "model_id": "cfed792a49ce4faba18111a548d739b4",
       "version_major": 2,
       "version_minor": 0
      },
      "text/plain": [
       "Getting ROI info:   0%|          | 0/2 [00:00<?, ?it/s]"
      ]
     },
     "metadata": {},
     "output_type": "display_data"
    },
    {
     "data": {
      "application/vnd.jupyter.widget-view+json": {
       "model_id": "c6bef9d60b6a483b9d68394ac975c498",
       "version_major": 2,
       "version_minor": 0
      },
      "text/plain": [
       "Getting ROI info:   0%|          | 0/2 [00:00<?, ?it/s]"
      ]
     },
     "metadata": {},
     "output_type": "display_data"
    },
    {
     "data": {
      "application/vnd.jupyter.widget-view+json": {
       "model_id": "1038dd4954f3453682380e011fb3b30e",
       "version_major": 2,
       "version_minor": 0
      },
      "text/plain": [
       "Getting ROI info:   0%|          | 0/2 [00:00<?, ?it/s]"
      ]
     },
     "metadata": {},
     "output_type": "display_data"
    },
    {
     "data": {
      "application/vnd.jupyter.widget-view+json": {
       "model_id": "02a3f8b6a9da4703aae4b10ddf66d7d9",
       "version_major": 2,
       "version_minor": 0
      },
      "text/plain": [
       "Getting ROI info:   0%|          | 0/2 [00:00<?, ?it/s]"
      ]
     },
     "metadata": {},
     "output_type": "display_data"
    },
    {
     "data": {
      "application/vnd.jupyter.widget-view+json": {
       "model_id": "5f22739ebc9b4b2ab9a537ce48b12359",
       "version_major": 2,
       "version_minor": 0
      },
      "text/plain": [
       "Getting ROI info:   0%|          | 0/2 [00:00<?, ?it/s]"
      ]
     },
     "metadata": {},
     "output_type": "display_data"
    },
    {
     "data": {
      "application/vnd.jupyter.widget-view+json": {
       "model_id": "dde45d40c0cd40259bf0b4b7fe584a30",
       "version_major": 2,
       "version_minor": 0
      },
      "text/plain": [
       "Getting ROI info:   0%|          | 0/2 [00:00<?, ?it/s]"
      ]
     },
     "metadata": {},
     "output_type": "display_data"
    },
    {
     "data": {
      "application/vnd.jupyter.widget-view+json": {
       "model_id": "8f268530355b42999ebcd19eab1cf84b",
       "version_major": 2,
       "version_minor": 0
      },
      "text/plain": [
       "Getting ROI info:   0%|          | 0/2 [00:00<?, ?it/s]"
      ]
     },
     "metadata": {},
     "output_type": "display_data"
    },
    {
     "data": {
      "application/vnd.jupyter.widget-view+json": {
       "model_id": "533f2d15271f4dec9639ee6a137abd4c",
       "version_major": 2,
       "version_minor": 0
      },
      "text/plain": [
       "Getting ROI info:   0%|          | 0/2 [00:00<?, ?it/s]"
      ]
     },
     "metadata": {},
     "output_type": "display_data"
    },
    {
     "data": {
      "application/vnd.jupyter.widget-view+json": {
       "model_id": "b49f6bff33ad408ab100c82597554151",
       "version_major": 2,
       "version_minor": 0
      },
      "text/plain": [
       "Getting ROI info:   0%|          | 0/2 [00:00<?, ?it/s]"
      ]
     },
     "metadata": {},
     "output_type": "display_data"
    },
    {
     "data": {
      "application/vnd.jupyter.widget-view+json": {
       "model_id": "a9deecc0145e46e68b1a4cf8b0de1a9b",
       "version_major": 2,
       "version_minor": 0
      },
      "text/plain": [
       "Getting ROI info:   0%|          | 0/2 [00:00<?, ?it/s]"
      ]
     },
     "metadata": {},
     "output_type": "display_data"
    },
    {
     "data": {
      "application/vnd.jupyter.widget-view+json": {
       "model_id": "bb6738e2d4214d01bfd4d0663e3910da",
       "version_major": 2,
       "version_minor": 0
      },
      "text/plain": [
       "Getting ROI info:   0%|          | 0/2 [00:00<?, ?it/s]"
      ]
     },
     "metadata": {},
     "output_type": "display_data"
    },
    {
     "data": {
      "application/vnd.jupyter.widget-view+json": {
       "model_id": "0fd2918d219144a094d404226548eb56",
       "version_major": 2,
       "version_minor": 0
      },
      "text/plain": [
       "Getting ROI info:   0%|          | 0/2 [00:00<?, ?it/s]"
      ]
     },
     "metadata": {},
     "output_type": "display_data"
    },
    {
     "data": {
      "application/vnd.jupyter.widget-view+json": {
       "model_id": "5b32c97641664db69aeeb628c1ec6bb9",
       "version_major": 2,
       "version_minor": 0
      },
      "text/plain": [
       "Getting ROI info:   0%|          | 0/2 [00:00<?, ?it/s]"
      ]
     },
     "metadata": {},
     "output_type": "display_data"
    },
    {
     "data": {
      "application/vnd.jupyter.widget-view+json": {
       "model_id": "353972b6a06d496884534f59f9984c96",
       "version_major": 2,
       "version_minor": 0
      },
      "text/plain": [
       "Getting ROI info:   0%|          | 0/2 [00:00<?, ?it/s]"
      ]
     },
     "metadata": {},
     "output_type": "display_data"
    },
    {
     "data": {
      "application/vnd.jupyter.widget-view+json": {
       "model_id": "dd64569cdbc444869e167eb13f9fd791",
       "version_major": 2,
       "version_minor": 0
      },
      "text/plain": [
       "Getting ROI info:   0%|          | 0/2 [00:00<?, ?it/s]"
      ]
     },
     "metadata": {},
     "output_type": "display_data"
    },
    {
     "data": {
      "application/vnd.jupyter.widget-view+json": {
       "model_id": "da121625809c41349a42a3684d08a152",
       "version_major": 2,
       "version_minor": 0
      },
      "text/plain": [
       "Getting ROI info:   0%|          | 0/2 [00:00<?, ?it/s]"
      ]
     },
     "metadata": {},
     "output_type": "display_data"
    },
    {
     "data": {
      "application/vnd.jupyter.widget-view+json": {
       "model_id": "33532de3d54e4f1492ef52178b5812c7",
       "version_major": 2,
       "version_minor": 0
      },
      "text/plain": [
       "Getting ROI info:   0%|          | 0/2 [00:00<?, ?it/s]"
      ]
     },
     "metadata": {},
     "output_type": "display_data"
    },
    {
     "data": {
      "application/vnd.jupyter.widget-view+json": {
       "model_id": "ad7be531840144b48323b6f5f5aad594",
       "version_major": 2,
       "version_minor": 0
      },
      "text/plain": [
       "Getting ROI info:   0%|          | 0/2 [00:00<?, ?it/s]"
      ]
     },
     "metadata": {},
     "output_type": "display_data"
    },
    {
     "data": {
      "application/vnd.jupyter.widget-view+json": {
       "model_id": "aab9aee2baa64742ae7376e8674f63cb",
       "version_major": 2,
       "version_minor": 0
      },
      "text/plain": [
       "Getting ROI info:   0%|          | 0/2 [00:00<?, ?it/s]"
      ]
     },
     "metadata": {},
     "output_type": "display_data"
    },
    {
     "data": {
      "application/vnd.jupyter.widget-view+json": {
       "model_id": "92dd18580b65499f9fab2ae3eb7b34f0",
       "version_major": 2,
       "version_minor": 0
      },
      "text/plain": [
       "Getting ROI info:   0%|          | 0/2 [00:00<?, ?it/s]"
      ]
     },
     "metadata": {},
     "output_type": "display_data"
    },
    {
     "data": {
      "application/vnd.jupyter.widget-view+json": {
       "model_id": "0cbe0b0b539448a685dab34ed67c02df",
       "version_major": 2,
       "version_minor": 0
      },
      "text/plain": [
       "Getting ROI info:   0%|          | 0/2 [00:00<?, ?it/s]"
      ]
     },
     "metadata": {},
     "output_type": "display_data"
    },
    {
     "data": {
      "application/vnd.jupyter.widget-view+json": {
       "model_id": "5ac3a6f9a12246d2b02cc383602493fb",
       "version_major": 2,
       "version_minor": 0
      },
      "text/plain": [
       "Getting ROI info:   0%|          | 0/2 [00:00<?, ?it/s]"
      ]
     },
     "metadata": {},
     "output_type": "display_data"
    },
    {
     "data": {
      "application/vnd.jupyter.widget-view+json": {
       "model_id": "85d772c23e314ec5bf04f15d8abc3a09",
       "version_major": 2,
       "version_minor": 0
      },
      "text/plain": [
       "Getting ROI info:   0%|          | 0/2 [00:00<?, ?it/s]"
      ]
     },
     "metadata": {},
     "output_type": "display_data"
    },
    {
     "data": {
      "application/vnd.jupyter.widget-view+json": {
       "model_id": "a773b6d6d3d2450091d931a4ab414209",
       "version_major": 2,
       "version_minor": 0
      },
      "text/plain": [
       "Getting ROI info:   0%|          | 0/2 [00:00<?, ?it/s]"
      ]
     },
     "metadata": {},
     "output_type": "display_data"
    },
    {
     "data": {
      "application/vnd.jupyter.widget-view+json": {
       "model_id": "c2f1b33153874b9192323951ea175ca9",
       "version_major": 2,
       "version_minor": 0
      },
      "text/plain": [
       "Getting ROI info:   0%|          | 0/2 [00:00<?, ?it/s]"
      ]
     },
     "metadata": {},
     "output_type": "display_data"
    },
    {
     "data": {
      "application/vnd.jupyter.widget-view+json": {
       "model_id": "d7ac4230b23840a3bcf6e0b35921fe8d",
       "version_major": 2,
       "version_minor": 0
      },
      "text/plain": [
       "Getting ROI info:   0%|          | 0/2 [00:00<?, ?it/s]"
      ]
     },
     "metadata": {},
     "output_type": "display_data"
    },
    {
     "data": {
      "application/vnd.jupyter.widget-view+json": {
       "model_id": "96126307d52a4745a4fe387fa02811ff",
       "version_major": 2,
       "version_minor": 0
      },
      "text/plain": [
       "Getting ROI info:   0%|          | 0/2 [00:00<?, ?it/s]"
      ]
     },
     "metadata": {},
     "output_type": "display_data"
    },
    {
     "data": {
      "application/vnd.jupyter.widget-view+json": {
       "model_id": "2b4a3014f80a49efbfae0d8e26296a6d",
       "version_major": 2,
       "version_minor": 0
      },
      "text/plain": [
       "Getting ROI info:   0%|          | 0/2 [00:00<?, ?it/s]"
      ]
     },
     "metadata": {},
     "output_type": "display_data"
    },
    {
     "data": {
      "application/vnd.jupyter.widget-view+json": {
       "model_id": "fab8590764ce496f8c65806ee43696fe",
       "version_major": 2,
       "version_minor": 0
      },
      "text/plain": [
       "Getting ROI info:   0%|          | 0/2 [00:00<?, ?it/s]"
      ]
     },
     "metadata": {},
     "output_type": "display_data"
    },
    {
     "data": {
      "application/vnd.jupyter.widget-view+json": {
       "model_id": "60fea5db594c43498ff71b23a6c38012",
       "version_major": 2,
       "version_minor": 0
      },
      "text/plain": [
       "Getting ROI info:   0%|          | 0/2 [00:00<?, ?it/s]"
      ]
     },
     "metadata": {},
     "output_type": "display_data"
    },
    {
     "data": {
      "application/vnd.jupyter.widget-view+json": {
       "model_id": "cf589cb86e684879b62e233edfcd8b52",
       "version_major": 2,
       "version_minor": 0
      },
      "text/plain": [
       "Getting ROI info:   0%|          | 0/2 [00:00<?, ?it/s]"
      ]
     },
     "metadata": {},
     "output_type": "display_data"
    },
    {
     "data": {
      "application/vnd.jupyter.widget-view+json": {
       "model_id": "2df1612f21e04c97b33b81e9945edb06",
       "version_major": 2,
       "version_minor": 0
      },
      "text/plain": [
       "Getting ROI info:   0%|          | 0/2 [00:00<?, ?it/s]"
      ]
     },
     "metadata": {},
     "output_type": "display_data"
    },
    {
     "data": {
      "application/vnd.jupyter.widget-view+json": {
       "model_id": "730e0ada472f43689ee777bd893472dc",
       "version_major": 2,
       "version_minor": 0
      },
      "text/plain": [
       "Getting ROI info:   0%|          | 0/2 [00:00<?, ?it/s]"
      ]
     },
     "metadata": {},
     "output_type": "display_data"
    },
    {
     "data": {
      "application/vnd.jupyter.widget-view+json": {
       "model_id": "d6760f8db4984597b32255942dcf2f30",
       "version_major": 2,
       "version_minor": 0
      },
      "text/plain": [
       "Getting ROI info:   0%|          | 0/2 [00:00<?, ?it/s]"
      ]
     },
     "metadata": {},
     "output_type": "display_data"
    },
    {
     "data": {
      "application/vnd.jupyter.widget-view+json": {
       "model_id": "74642967460a4df0b01e2b28a8639dfb",
       "version_major": 2,
       "version_minor": 0
      },
      "text/plain": [
       "Getting ROI info:   0%|          | 0/2 [00:00<?, ?it/s]"
      ]
     },
     "metadata": {},
     "output_type": "display_data"
    },
    {
     "data": {
      "application/vnd.jupyter.widget-view+json": {
       "model_id": "2458d8b58fb546d3b885d6bdc3ef7173",
       "version_major": 2,
       "version_minor": 0
      },
      "text/plain": [
       "Getting ROI info:   0%|          | 0/2 [00:00<?, ?it/s]"
      ]
     },
     "metadata": {},
     "output_type": "display_data"
    },
    {
     "data": {
      "application/vnd.jupyter.widget-view+json": {
       "model_id": "ad0c88b5e1854292a4e0354c228a1e7f",
       "version_major": 2,
       "version_minor": 0
      },
      "text/plain": [
       "Getting ROI info:   0%|          | 0/2 [00:00<?, ?it/s]"
      ]
     },
     "metadata": {},
     "output_type": "display_data"
    },
    {
     "data": {
      "application/vnd.jupyter.widget-view+json": {
       "model_id": "ea1285e26a4d46bc91d95cc6540ddb76",
       "version_major": 2,
       "version_minor": 0
      },
      "text/plain": [
       "Getting ROI info:   0%|          | 0/2 [00:00<?, ?it/s]"
      ]
     },
     "metadata": {},
     "output_type": "display_data"
    },
    {
     "data": {
      "application/vnd.jupyter.widget-view+json": {
       "model_id": "6cc091c4bc4540539dce8b83842dfd5f",
       "version_major": 2,
       "version_minor": 0
      },
      "text/plain": [
       "Getting ROI info:   0%|          | 0/2 [00:00<?, ?it/s]"
      ]
     },
     "metadata": {},
     "output_type": "display_data"
    },
    {
     "data": {
      "application/vnd.jupyter.widget-view+json": {
       "model_id": "0f4bd56199fa4d7d93d0371469e595fd",
       "version_major": 2,
       "version_minor": 0
      },
      "text/plain": [
       "Getting ROI info:   0%|          | 0/2 [00:00<?, ?it/s]"
      ]
     },
     "metadata": {},
     "output_type": "display_data"
    },
    {
     "data": {
      "application/vnd.jupyter.widget-view+json": {
       "model_id": "72be2fcca8424c6f8fb895b67626ab05",
       "version_major": 2,
       "version_minor": 0
      },
      "text/plain": [
       "Getting ROI info:   0%|          | 0/2 [00:00<?, ?it/s]"
      ]
     },
     "metadata": {},
     "output_type": "display_data"
    },
    {
     "data": {
      "application/vnd.jupyter.widget-view+json": {
       "model_id": "6afd1a4d620f445ab163a2852335f221",
       "version_major": 2,
       "version_minor": 0
      },
      "text/plain": [
       "Getting ROI info:   0%|          | 0/2 [00:00<?, ?it/s]"
      ]
     },
     "metadata": {},
     "output_type": "display_data"
    },
    {
     "data": {
      "application/vnd.jupyter.widget-view+json": {
       "model_id": "7e1c88d028d8431994f36864174b8de9",
       "version_major": 2,
       "version_minor": 0
      },
      "text/plain": [
       "Getting ROI info:   0%|          | 0/2 [00:00<?, ?it/s]"
      ]
     },
     "metadata": {},
     "output_type": "display_data"
    },
    {
     "data": {
      "application/vnd.jupyter.widget-view+json": {
       "model_id": "1c368f0edc724eea888075ef867ad442",
       "version_major": 2,
       "version_minor": 0
      },
      "text/plain": [
       "Getting ROI info:   0%|          | 0/2 [00:00<?, ?it/s]"
      ]
     },
     "metadata": {},
     "output_type": "display_data"
    },
    {
     "data": {
      "application/vnd.jupyter.widget-view+json": {
       "model_id": "d9d2261767e84f5c9996f23b9411e798",
       "version_major": 2,
       "version_minor": 0
      },
      "text/plain": [
       "Getting ROI info:   0%|          | 0/2 [00:00<?, ?it/s]"
      ]
     },
     "metadata": {},
     "output_type": "display_data"
    },
    {
     "data": {
      "application/vnd.jupyter.widget-view+json": {
       "model_id": "39bd99d05ba14bcfad09946c55b4ae54",
       "version_major": 2,
       "version_minor": 0
      },
      "text/plain": [
       "Getting ROI info:   0%|          | 0/2 [00:00<?, ?it/s]"
      ]
     },
     "metadata": {},
     "output_type": "display_data"
    },
    {
     "data": {
      "application/vnd.jupyter.widget-view+json": {
       "model_id": "ce80dc1be8a440aba9a4e87bc23f4907",
       "version_major": 2,
       "version_minor": 0
      },
      "text/plain": [
       "Getting ROI info:   0%|          | 0/2 [00:00<?, ?it/s]"
      ]
     },
     "metadata": {},
     "output_type": "display_data"
    },
    {
     "data": {
      "application/vnd.jupyter.widget-view+json": {
       "model_id": "7d979a07972f425cb3e90b5d4c75683e",
       "version_major": 2,
       "version_minor": 0
      },
      "text/plain": [
       "Getting ROI info:   0%|          | 0/2 [00:00<?, ?it/s]"
      ]
     },
     "metadata": {},
     "output_type": "display_data"
    },
    {
     "data": {
      "application/vnd.jupyter.widget-view+json": {
       "model_id": "9e5cf03400d04f3ea58d3fb0402d95da",
       "version_major": 2,
       "version_minor": 0
      },
      "text/plain": [
       "Getting ROI info:   0%|          | 0/2 [00:00<?, ?it/s]"
      ]
     },
     "metadata": {},
     "output_type": "display_data"
    },
    {
     "data": {
      "application/vnd.jupyter.widget-view+json": {
       "model_id": "e2bca37eb199417dbf9af1f2c72ceb70",
       "version_major": 2,
       "version_minor": 0
      },
      "text/plain": [
       "Getting ROI info:   0%|          | 0/2 [00:00<?, ?it/s]"
      ]
     },
     "metadata": {},
     "output_type": "display_data"
    },
    {
     "data": {
      "application/vnd.jupyter.widget-view+json": {
       "model_id": "b439bcd3d46e4f5b9576e9380c17466d",
       "version_major": 2,
       "version_minor": 0
      },
      "text/plain": [
       "Getting ROI info:   0%|          | 0/2 [00:00<?, ?it/s]"
      ]
     },
     "metadata": {},
     "output_type": "display_data"
    },
    {
     "data": {
      "application/vnd.jupyter.widget-view+json": {
       "model_id": "dbbabc343efb4712b4aa4d6689f078f2",
       "version_major": 2,
       "version_minor": 0
      },
      "text/plain": [
       "Getting ROI info:   0%|          | 0/2 [00:00<?, ?it/s]"
      ]
     },
     "metadata": {},
     "output_type": "display_data"
    },
    {
     "data": {
      "application/vnd.jupyter.widget-view+json": {
       "model_id": "42c2c754d4534bde84023038bc28f223",
       "version_major": 2,
       "version_minor": 0
      },
      "text/plain": [
       "Getting ROI info:   0%|          | 0/2 [00:00<?, ?it/s]"
      ]
     },
     "metadata": {},
     "output_type": "display_data"
    },
    {
     "data": {
      "application/vnd.jupyter.widget-view+json": {
       "model_id": "0948f5a4d7344fe0b8e375ee60b3467e",
       "version_major": 2,
       "version_minor": 0
      },
      "text/plain": [
       "Getting ROI info:   0%|          | 0/2 [00:00<?, ?it/s]"
      ]
     },
     "metadata": {},
     "output_type": "display_data"
    },
    {
     "data": {
      "application/vnd.jupyter.widget-view+json": {
       "model_id": "9bb95480a0e2480ebaf21eb8aa81f67c",
       "version_major": 2,
       "version_minor": 0
      },
      "text/plain": [
       "Getting ROI info:   0%|          | 0/2 [00:00<?, ?it/s]"
      ]
     },
     "metadata": {},
     "output_type": "display_data"
    },
    {
     "data": {
      "application/vnd.jupyter.widget-view+json": {
       "model_id": "3e64bf5fbf2c4b6ea4d20e142e05f20b",
       "version_major": 2,
       "version_minor": 0
      },
      "text/plain": [
       "Getting ROI info:   0%|          | 0/2 [00:00<?, ?it/s]"
      ]
     },
     "metadata": {},
     "output_type": "display_data"
    },
    {
     "data": {
      "application/vnd.jupyter.widget-view+json": {
       "model_id": "e8c5da9c387e4cb281c6d087e6a7e11c",
       "version_major": 2,
       "version_minor": 0
      },
      "text/plain": [
       "Getting ROI info:   0%|          | 0/2 [00:00<?, ?it/s]"
      ]
     },
     "metadata": {},
     "output_type": "display_data"
    },
    {
     "data": {
      "application/vnd.jupyter.widget-view+json": {
       "model_id": "5879918cc91b4652b1f9e975921f4c7a",
       "version_major": 2,
       "version_minor": 0
      },
      "text/plain": [
       "Getting ROI info:   0%|          | 0/2 [00:00<?, ?it/s]"
      ]
     },
     "metadata": {},
     "output_type": "display_data"
    },
    {
     "data": {
      "application/vnd.jupyter.widget-view+json": {
       "model_id": "d2dda5778a404ed88adbc38d30680b50",
       "version_major": 2,
       "version_minor": 0
      },
      "text/plain": [
       "Getting ROI info:   0%|          | 0/2 [00:00<?, ?it/s]"
      ]
     },
     "metadata": {},
     "output_type": "display_data"
    },
    {
     "data": {
      "application/vnd.jupyter.widget-view+json": {
       "model_id": "d344c71aedbd48baa316c98239a7f2b0",
       "version_major": 2,
       "version_minor": 0
      },
      "text/plain": [
       "Getting ROI info:   0%|          | 0/2 [00:00<?, ?it/s]"
      ]
     },
     "metadata": {},
     "output_type": "display_data"
    },
    {
     "data": {
      "application/vnd.jupyter.widget-view+json": {
       "model_id": "deb16a40606e400ebfda74190e79e299",
       "version_major": 2,
       "version_minor": 0
      },
      "text/plain": [
       "Getting ROI info:   0%|          | 0/2 [00:00<?, ?it/s]"
      ]
     },
     "metadata": {},
     "output_type": "display_data"
    },
    {
     "data": {
      "application/vnd.jupyter.widget-view+json": {
       "model_id": "55feec78922b438b9a2fe13cc1080d27",
       "version_major": 2,
       "version_minor": 0
      },
      "text/plain": [
       "Getting ROI info:   0%|          | 0/2 [00:00<?, ?it/s]"
      ]
     },
     "metadata": {},
     "output_type": "display_data"
    },
    {
     "data": {
      "application/vnd.jupyter.widget-view+json": {
       "model_id": "9a9c2d8be7ed408db7e87444e866333a",
       "version_major": 2,
       "version_minor": 0
      },
      "text/plain": [
       "Getting ROI info:   0%|          | 0/2 [00:00<?, ?it/s]"
      ]
     },
     "metadata": {},
     "output_type": "display_data"
    },
    {
     "data": {
      "application/vnd.jupyter.widget-view+json": {
       "model_id": "008ec43204cf43fe868c0dd869b3ede1",
       "version_major": 2,
       "version_minor": 0
      },
      "text/plain": [
       "Getting ROI info:   0%|          | 0/2 [00:00<?, ?it/s]"
      ]
     },
     "metadata": {},
     "output_type": "display_data"
    },
    {
     "data": {
      "application/vnd.jupyter.widget-view+json": {
       "model_id": "ac782fd9093f4d6eb76662952d2347e7",
       "version_major": 2,
       "version_minor": 0
      },
      "text/plain": [
       "Getting ROI info:   0%|          | 0/2 [00:00<?, ?it/s]"
      ]
     },
     "metadata": {},
     "output_type": "display_data"
    },
    {
     "data": {
      "application/vnd.jupyter.widget-view+json": {
       "model_id": "53e5912c50254efc9389ef94023acd79",
       "version_major": 2,
       "version_minor": 0
      },
      "text/plain": [
       "Getting ROI info:   0%|          | 0/2 [00:00<?, ?it/s]"
      ]
     },
     "metadata": {},
     "output_type": "display_data"
    },
    {
     "data": {
      "application/vnd.jupyter.widget-view+json": {
       "model_id": "064a6a19eda045cc845005cdd6d01a57",
       "version_major": 2,
       "version_minor": 0
      },
      "text/plain": [
       "Getting ROI info:   0%|          | 0/2 [00:00<?, ?it/s]"
      ]
     },
     "metadata": {},
     "output_type": "display_data"
    },
    {
     "data": {
      "application/vnd.jupyter.widget-view+json": {
       "model_id": "22c5c8ca583b46f58221c5e26b95b5c7",
       "version_major": 2,
       "version_minor": 0
      },
      "text/plain": [
       "Getting ROI info:   0%|          | 0/2 [00:00<?, ?it/s]"
      ]
     },
     "metadata": {},
     "output_type": "display_data"
    },
    {
     "data": {
      "application/vnd.jupyter.widget-view+json": {
       "model_id": "9fb4e321f6584860bd58f1f191865c67",
       "version_major": 2,
       "version_minor": 0
      },
      "text/plain": [
       "Getting ROI info:   0%|          | 0/2 [00:00<?, ?it/s]"
      ]
     },
     "metadata": {},
     "output_type": "display_data"
    },
    {
     "data": {
      "application/vnd.jupyter.widget-view+json": {
       "model_id": "9d4a9ce2301246e28382600f77a32f99",
       "version_major": 2,
       "version_minor": 0
      },
      "text/plain": [
       "Getting ROI info:   0%|          | 0/2 [00:00<?, ?it/s]"
      ]
     },
     "metadata": {},
     "output_type": "display_data"
    },
    {
     "data": {
      "application/vnd.jupyter.widget-view+json": {
       "model_id": "e3bdf64482594fb4bba7e6891b288936",
       "version_major": 2,
       "version_minor": 0
      },
      "text/plain": [
       "Getting ROI info:   0%|          | 0/2 [00:00<?, ?it/s]"
      ]
     },
     "metadata": {},
     "output_type": "display_data"
    },
    {
     "data": {
      "application/vnd.jupyter.widget-view+json": {
       "model_id": "ebbba459272141dfb633ad93c262d681",
       "version_major": 2,
       "version_minor": 0
      },
      "text/plain": [
       "Getting ROI info:   0%|          | 0/2 [00:00<?, ?it/s]"
      ]
     },
     "metadata": {},
     "output_type": "display_data"
    },
    {
     "data": {
      "application/vnd.jupyter.widget-view+json": {
       "model_id": "f86f85fcf0eb49b8b1561831487f5b34",
       "version_major": 2,
       "version_minor": 0
      },
      "text/plain": [
       "Getting ROI info:   0%|          | 0/2 [00:00<?, ?it/s]"
      ]
     },
     "metadata": {},
     "output_type": "display_data"
    },
    {
     "data": {
      "application/vnd.jupyter.widget-view+json": {
       "model_id": "0c732285f27643de92121978859fece0",
       "version_major": 2,
       "version_minor": 0
      },
      "text/plain": [
       "Getting ROI info:   0%|          | 0/2 [00:00<?, ?it/s]"
      ]
     },
     "metadata": {},
     "output_type": "display_data"
    },
    {
     "data": {
      "application/vnd.jupyter.widget-view+json": {
       "model_id": "8a33f4291e4d42c790d9ca4a466b898d",
       "version_major": 2,
       "version_minor": 0
      },
      "text/plain": [
       "Getting ROI info:   0%|          | 0/2 [00:00<?, ?it/s]"
      ]
     },
     "metadata": {},
     "output_type": "display_data"
    },
    {
     "data": {
      "application/vnd.jupyter.widget-view+json": {
       "model_id": "dd483e23f9f443a09d2911fd1b491b42",
       "version_major": 2,
       "version_minor": 0
      },
      "text/plain": [
       "Getting ROI info:   0%|          | 0/2 [00:00<?, ?it/s]"
      ]
     },
     "metadata": {},
     "output_type": "display_data"
    },
    {
     "data": {
      "application/vnd.jupyter.widget-view+json": {
       "model_id": "037c1dd56f254b858306bfb8a756097a",
       "version_major": 2,
       "version_minor": 0
      },
      "text/plain": [
       "Getting ROI info:   0%|          | 0/2 [00:00<?, ?it/s]"
      ]
     },
     "metadata": {},
     "output_type": "display_data"
    },
    {
     "data": {
      "application/vnd.jupyter.widget-view+json": {
       "model_id": "3858ed5e08fc459792c0932bb65881da",
       "version_major": 2,
       "version_minor": 0
      },
      "text/plain": [
       "Getting ROI info:   0%|          | 0/2 [00:00<?, ?it/s]"
      ]
     },
     "metadata": {},
     "output_type": "display_data"
    },
    {
     "data": {
      "application/vnd.jupyter.widget-view+json": {
       "model_id": "b2c0b1a652274743aabab6337443b048",
       "version_major": 2,
       "version_minor": 0
      },
      "text/plain": [
       "Getting ROI info:   0%|          | 0/2 [00:00<?, ?it/s]"
      ]
     },
     "metadata": {},
     "output_type": "display_data"
    },
    {
     "data": {
      "application/vnd.jupyter.widget-view+json": {
       "model_id": "37a031df59c54efdad95d8d420cf8667",
       "version_major": 2,
       "version_minor": 0
      },
      "text/plain": [
       "Getting ROI info:   0%|          | 0/2 [00:00<?, ?it/s]"
      ]
     },
     "metadata": {},
     "output_type": "display_data"
    },
    {
     "data": {
      "application/vnd.jupyter.widget-view+json": {
       "model_id": "fb3363c53c484a90a1a7269b8e8c582e",
       "version_major": 2,
       "version_minor": 0
      },
      "text/plain": [
       "Getting ROI info:   0%|          | 0/2 [00:00<?, ?it/s]"
      ]
     },
     "metadata": {},
     "output_type": "display_data"
    },
    {
     "data": {
      "application/vnd.jupyter.widget-view+json": {
       "model_id": "293322d3fd9d45399717ca7faa2dd78a",
       "version_major": 2,
       "version_minor": 0
      },
      "text/plain": [
       "Getting ROI info:   0%|          | 0/2 [00:00<?, ?it/s]"
      ]
     },
     "metadata": {},
     "output_type": "display_data"
    },
    {
     "data": {
      "application/vnd.jupyter.widget-view+json": {
       "model_id": "3cab0b8296534fa5ac155e0e253a065f",
       "version_major": 2,
       "version_minor": 0
      },
      "text/plain": [
       "Getting ROI info:   0%|          | 0/2 [00:00<?, ?it/s]"
      ]
     },
     "metadata": {},
     "output_type": "display_data"
    }
   ],
   "source": [
    "voxel_size = 1e-6\n",
    "size_factors = ps.networks.diffusive_size_factor_DNS(regions,\n",
    "                                                    throat_conns=conns,\n",
    "                                                    voxel_size=1e-6)"
   ]
  }
 ],
 "metadata": {
  "kernelspec": {
   "display_name": "Python 3",
   "language": "python",
   "name": "python3"
  },
  "language_info": {
   "codemirror_mode": {
    "name": "ipython",
    "version": 3
   },
   "file_extension": ".py",
   "mimetype": "text/x-python",
   "name": "python",
   "nbconvert_exporter": "python",
   "pygments_lexer": "ipython3",
   "version": "3.8.3"
  },
  "nbsphinx": {
   "execute": "auto"
  },
  "vscode": {
   "interpreter": {
    "hash": "b58bd5559424689280ce24ff6229e536533c877108d283a6d2846312dfd182d7"
   }
  }
 },
 "nbformat": 4,
 "nbformat_minor": 4
}
