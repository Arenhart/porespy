{
 "cells": [
  {
   "cell_type": "markdown",
   "id": "ad9b9f17",
   "metadata": {},
   "source": [
    "# `add_boundary_regions`\n",
    "This function pads a watershed segmentation with additional labled regions, that becoming boundary pores in the final extracted network"
   ]
  },
  {
   "cell_type": "code",
   "execution_count": 1,
   "id": "a9512d93",
   "metadata": {
    "execution": {
     "iopub.execute_input": "2022-03-30T13:43:17.369570Z",
     "iopub.status.busy": "2022-03-30T13:43:17.369354Z",
     "iopub.status.idle": "2022-03-30T13:43:19.278880Z",
     "shell.execute_reply": "2022-03-30T13:43:19.278225Z"
    }
   },
   "outputs": [
    {
     "data": {
      "text/plain": [
       "<Signature (regions, pad_width=3)>"
      ]
     },
     "execution_count": 1,
     "metadata": {},
     "output_type": "execute_result"
    }
   ],
   "source": [
    "import matplotlib.pyplot as plt\n",
    "import numpy as np\n",
    "import porespy as ps\n",
    "from edt import edt\n",
    "import scipy.ndimage as spim\n",
    "from skimage.segmentation import watershed\n",
    "import inspect\n",
    "inspect.signature(ps.networks.add_boundary_regions)"
   ]
  },
  {
   "cell_type": "markdown",
   "id": "b941808c",
   "metadata": {},
   "source": [
    "## `regions`\n",
    "The function requires an image of labeled regions, presumably coming from a watershed segmentation, but could potentially be any labelled image.  "
   ]
  },
  {
   "cell_type": "code",
   "execution_count": 2,
   "id": "d37fba80",
   "metadata": {
    "execution": {
     "iopub.execute_input": "2022-03-30T13:43:19.282262Z",
     "iopub.status.busy": "2022-03-30T13:43:19.281949Z",
     "iopub.status.idle": "2022-03-30T13:43:19.469831Z",
     "shell.execute_reply": "2022-03-30T13:43:19.469333Z"
    }
   },
   "outputs": [
    {
     "data": {
      "image/png": "[encoded data removed]",
      "text/plain": [
       "<Figure size 1080x360 with 3 Axes>"
      ]
     },
     "metadata": {
      "needs_background": "light"
     },
     "output_type": "display_data"
    }
   ],
   "source": [
    "im = ps.generators.lattice_spheres(shape=[61, 61], r=8, spacing=20, offset=10)\n",
    "dt = edt(im)\n",
    "pk = ps.filters.find_peaks(dt, r_max=5)\n",
    "ws = watershed(image=-dt, markers=spim.label(pk)[0])\n",
    "ws = ps.tools.randomize_colors(ws)\n",
    "\n",
    "fig, ax = plt.subplots(1, 3, figsize=[15, 5])\n",
    "ax[0].imshow(im, interpolation='none', origin='lower')\n",
    "ax[0].axis(False)\n",
    "ax[1].imshow(dt/im/~pk, interpolation='none', origin='lower')\n",
    "ax[1].axis(False)\n",
    "ax[2].imshow(ws/im, interpolation='none', origin='lower')\n",
    "ax[2].axis(False);"
   ]
  },
  {
   "cell_type": "code",
   "execution_count": 3,
   "id": "4343f72f",
   "metadata": {
    "execution": {
     "iopub.execute_input": "2022-03-30T13:43:19.472425Z",
     "iopub.status.busy": "2022-03-30T13:43:19.472133Z",
     "iopub.status.idle": "2022-03-30T13:43:19.530749Z",
     "shell.execute_reply": "2022-03-30T13:43:19.530254Z"
    }
   },
   "outputs": [
    {
     "data": {
      "image/png": "[encoded data removed]",
      "text/plain": [
       "<Figure size 432x432 with 1 Axes>"
      ]
     },
     "metadata": {
      "needs_background": "light"
     },
     "output_type": "display_data"
    }
   ],
   "source": [
    "ws_w_bd = ps.networks.add_boundary_regions(ws)\n",
    "temp = np.pad(im, 3, mode='constant', constant_values=True)\n",
    "\n",
    "fig, ax = plt.subplots(1, 1, figsize=[6, 6])\n",
    "ax.imshow(ws_w_bd/temp, interpolation='none', origin='lower')\n",
    "ax.axis(False);"
   ]
  },
  {
   "cell_type": "markdown",
   "id": "232a35a2",
   "metadata": {},
   "source": [
    "The above image contains the original regions, plus new regions around the borders.  These regions have their own region number so they will be recognized as pores by the network extraction tool.  They are also bounded by ``False`` pixels on each side so that they do not get connected to each other during the network extraction.  "
   ]
  },
  {
   "cell_type": "markdown",
   "id": "a54bd31b",
   "metadata": {},
   "source": [
    "## `pad_width`\n",
    "You can control the thickness of the boundary regions as well as which sides they are added to.  This argument works approximately like it does in ``np.pad``."
   ]
  },
  {
   "cell_type": "markdown",
   "id": "72c814e4",
   "metadata": {},
   "source": [
    "Adding padding to all sides:"
   ]
  },
  {
   "cell_type": "code",
   "execution_count": 4,
   "id": "ccc1375e",
   "metadata": {
    "execution": {
     "iopub.execute_input": "2022-03-30T13:43:19.533497Z",
     "iopub.status.busy": "2022-03-30T13:43:19.533329Z",
     "iopub.status.idle": "2022-03-30T13:43:19.591206Z",
     "shell.execute_reply": "2022-03-30T13:43:19.590810Z"
    }
   },
   "outputs": [
    {
     "data": {
      "image/png": "[encoded data removed]",
      "text/plain": [
       "<Figure size 432x432 with 1 Axes>"
      ]
     },
     "metadata": {
      "needs_background": "light"
     },
     "output_type": "display_data"
    }
   ],
   "source": [
    "pw = 10\n",
    "ws_w_bd = ps.networks.add_boundary_regions(ws, pad_width=pw)\n",
    "temp = np.pad(im, pw, mode='constant', constant_values=True)\n",
    "\n",
    "fig, ax = plt.subplots(1, 1, figsize=[6, 6])\n",
    "ax.imshow(ws_w_bd/temp, interpolation='none', origin='lower')\n",
    "ax.axis(False);"
   ]
  },
  {
   "cell_type": "markdown",
   "id": "77564765",
   "metadata": {},
   "source": [
    "Adding padding to the beginning of each axis:"
   ]
  },
  {
   "cell_type": "code",
   "execution_count": 5,
   "id": "0c3a4de6",
   "metadata": {
    "execution": {
     "iopub.execute_input": "2022-03-30T13:43:19.594842Z",
     "iopub.status.busy": "2022-03-30T13:43:19.593980Z",
     "iopub.status.idle": "2022-03-30T13:43:19.652953Z",
     "shell.execute_reply": "2022-03-30T13:43:19.652557Z"
    }
   },
   "outputs": [
    {
     "data": {
      "image/png": "[encoded data removed]",
      "text/plain": [
       "<Figure size 432x432 with 1 Axes>"
      ]
     },
     "metadata": {
      "needs_background": "light"
     },
     "output_type": "display_data"
    }
   ],
   "source": [
    "pw = [10, 0]\n",
    "ws_w_bd = ps.networks.add_boundary_regions(ws, pad_width=pw)\n",
    "temp = np.pad(im, pw, mode='constant', constant_values=True)\n",
    "\n",
    "fig, ax = plt.subplots(1, 1, figsize=[6, 6])\n",
    "ax.imshow(ws_w_bd/temp, interpolation='none', origin='lower')\n",
    "ax.axis(False);"
   ]
  },
  {
   "cell_type": "markdown",
   "id": "4adb5512",
   "metadata": {},
   "source": [
    "Adding padding to the beginning and end of a single axis:"
   ]
  },
  {
   "cell_type": "code",
   "execution_count": 6,
   "id": "0cb94190",
   "metadata": {
    "execution": {
     "iopub.execute_input": "2022-03-30T13:43:19.656667Z",
     "iopub.status.busy": "2022-03-30T13:43:19.655815Z",
     "iopub.status.idle": "2022-03-30T13:43:19.711444Z",
     "shell.execute_reply": "2022-03-30T13:43:19.710970Z"
    }
   },
   "outputs": [
    {
     "data": {
      "image/png": "[encoded data removed]",
      "text/plain": [
       "<Figure size 432x432 with 1 Axes>"
      ]
     },
     "metadata": {
      "needs_background": "light"
     },
     "output_type": "display_data"
    }
   ],
   "source": [
    "pw = [[0, 0], [10, 3]]\n",
    "ws_w_bd = ps.networks.add_boundary_regions(ws, pad_width=pw)\n",
    "temp = np.pad(im, pw, mode='constant', constant_values=True)\n",
    "\n",
    "fig, ax = plt.subplots(1, 1, figsize=[6, 6])\n",
    "ax.imshow(ws_w_bd/temp, interpolation='none', origin='lower')\n",
    "ax.axis(False);"
   ]
  }
 ],
 "metadata": {
  "kernelspec": {
   "display_name": "Python 3 (ipykernel)",
   "language": "python",
   "name": "python3"
  },
  "language_info": {
   "codemirror_mode": {
    "name": "ipython",
    "version": 3
   },
   "file_extension": ".py",
   "mimetype": "text/x-python",
   "name": "python",
   "nbconvert_exporter": "python",
   "pygments_lexer": "ipython3",
   "version": "3.8.13"
  }
 },
 "nbformat": 4,
 "nbformat_minor": 5
}
