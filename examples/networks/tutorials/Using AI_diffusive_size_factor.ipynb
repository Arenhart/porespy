{
 "cells": [
  {
   "cell_type": "markdown",
   "metadata": {},
   "source": [
    "# Deep learning based diffusive size factors"
   ]
  },
  {
   "cell_type": "markdown",
   "metadata": {},
   "source": [
    "A connected pore-throat-pore element in the PNM is defined as a conduit and the estimation of conduit’s conductance for mass transports has been an active research area since the PNM technique was developed. Common shape factor approach in estimating diffusive conductance can be erroneous for real void space with highly complex geometrical shapes. An alternative to analytical methods based on shape factor is to use DNS to estimate the flow/diffusive conductance of pore network elements. Although this approach increases the PNM accuracy, it is computationally expensive to conduct this analysis on every tomogram that the pore network is extracted. This example demonstrates how PoreSpy tackles this problem to estimate diffusive size factors of conduits using a deep learning framework."
   ]
  },
  {
   "cell_type": "markdown",
   "metadata": {},
   "source": [
    "The deep learning framework takes in only images of segmented porous medium and returns an array of diffusive size factors for all conduits in the image. The framework uses convolutional neural networks to extract the features of the image."
   ]
  },
  {
   "cell_type": "markdown",
   "metadata": {},
   "source": [
    "The framework can be applied to both one conduit image as well as a segmented image of porous medium:"
   ]
  },
  {
   "cell_type": "markdown",
   "metadata": {},
   "source": [
    "<img src=\"https://user-images.githubusercontent.com/43128873/116145783-bd458380-a6ab-11eb-8103-fb9a93f0599c.png\" alt=\"PS_dl\" width=\"500\"/>"
   ]
  },
  {
   "cell_type": "markdown",
   "metadata": {},
   "source": [
    "# Trained model and supplementary materials\n",
    "The deep learning model is developed to estimate diffusive size factors of conduits in a porous medium (currently trained \n",
    "on polydispersed spheres). To enable this feature, please download the trained model or weight along with trained data distribution. The trained model and this example's materials are downloadable as following:\n",
    "\n",
    "[trained model](link): This file includes both weights and architecture of the deep learning layers. To use this file, there is no need to build a model\n",
    "\n",
    "[trained model weights only](link): This file includes only weights of the deep learning layers. To use this file, a Resnet50 model (provided in PoreSpAI) must be built beforehand.\n",
    "\n",
    "[trained data distribution](link): This file will be used in denormalizing predicted values based on normalized transform applied on training data.\n",
    "\n",
    "[Example materials](link): Materials for this example (samples and results) "
   ]
  },
  {
   "cell_type": "markdown",
   "metadata": {},
   "source": [
    "## Import the packages"
   ]
  },
  {
   "cell_type": "code",
   "execution_count": 4,
   "metadata": {},
   "outputs": [],
   "source": [
    "import scipy as sp\n",
    "import porespy as ps\n",
    "import numpy as np\n",
    "import h5py\n",
    "import gc\n",
    "from tqdm import tqdm\n",
    "from matplotlib import pyplot as plt\n",
    "import os\n",
    "import warnings\n",
    "warnings.filterwarnings(\"ignore\")\n",
    "# path to the downloaded supplementary materials, by default current directory is used here:\n",
    "path = os.getcwd()+'/'"
   ]
  },
  {
   "cell_type": "markdown",
   "metadata": {},
   "source": [
    "## Create images for testing"
   ]
  },
  {
   "cell_type": "markdown",
   "metadata": {},
   "source": [
    "We have created a 3D image using PoreSpy's `poly_disperese_spheres` generator and segmented using `snow_partitioning methods`."
   ]
  },
  {
   "cell_type": "code",
   "execution_count": null,
   "metadata": {},
   "outputs": [],
   "source": [
    "#create im code here\n",
    "regions_1=..."
   ]
  },
  {
   "cell_type": "markdown",
   "metadata": {},
   "source": [
    "Let's try the method for a segmented image. The user can choose between two methods of predicting the diffusive size factors. \n",
    "\n",
    "1) The value for each conduit will be calculated separately in a for loop\n",
    "\n",
    "2) The values for all conduits will be calculated once using a tensor\n",
    "\n",
    "The second method is faster, as tensorflow deep learning model is designed to work with tensors. The difference in the speed is more as the number of conduit images in segmented regions increases."
   ]
  },
  {
   "cell_type": "markdown",
   "metadata": {},
   "source": [
    "### A segmented region image"
   ]
  },
  {
   "cell_type": "markdown",
   "metadata": {},
   "source": [
    "The segmented region is a $200^3$ image of a random polydisperese sphere packs. First, to show the speed difference between tensor-wise prediction and individual predictions, we use part of this image a $50^3$ segmented region."
   ]
  },
  {
   "cell_type": "markdown",
   "metadata": {},
   "source": [
    "\n",
    "<img src=\"https://user-images.githubusercontent.com/43128873/115746110-0e7b0d80-a362-11eb-90c3-276d2fceb4d6.png\" alt=\"PS_dl\" width=\"300\"/>"
   ]
  },
  {
   "cell_type": "code",
   "execution_count": null,
   "metadata": {},
   "outputs": [],
   "source": [
    "import timeit\n",
    "start = timeit.default_timer()\n",
    "g=ps.networks.AI_size_factor(regions_1[:50,:50,:50], tensor_wise=True, model_dir=path+'saved_model.h5', build_model=False)\n",
    "stop = timeit.default_timer()\n",
    "print('Time tensor-wise=True: ', stop - start)\n",
    "start = timeit.default_timer()\n",
    "g=ps.networks.AI_size_factor(regions_1[:50,:50,:50], tensor_wise=False,  model_dir=path+'saved_model.h5', build_model=False)\n",
    "stop = timeit.default_timer()\n",
    "print('Time tensor-wise=False: ', stop - start)"
   ]
  },
  {
   "cell_type": "markdown",
   "metadata": {},
   "source": [
    "Note: This runtime can be reduced by running tensorflow model on GPU instead of CPU. To use tensorflow models on GPU, tensorflow-gpu is required. For a larger image, the difference between tensor-wise and individual-pair predictions will be higher. Note: For a larger image, the difference between tensor-wise and individual-pair predictions will be higher. A larger part of this reported time is related to extracting the pairs of conduits (which is the common step required for both AI and finite difference method). Once the data is prepared, AI Prediction on the tensor takes a small amount of the runtime."
   ]
  }
 ],
 "metadata": {
  "kernelspec": {
   "display_name": "Python 3",
   "language": "python",
   "name": "python3"
  },
  "language_info": {
   "codemirror_mode": {
    "name": "ipython",
    "version": 3
   },
   "file_extension": ".py",
   "mimetype": "text/x-python",
   "name": "python",
   "nbconvert_exporter": "python",
   "pygments_lexer": "ipython3",
   "version": "3.8.3"
  }
 },
 "nbformat": 4,
 "nbformat_minor": 4
}
