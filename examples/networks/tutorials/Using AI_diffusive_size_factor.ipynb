{
 "cells": [
  {
   "cell_type": "markdown",
   "metadata": {},
   "source": [
    "# Deep learning based diffusive size factors"
   ]
  },
  {
   "cell_type": "markdown",
   "metadata": {},
   "source": [
    "This notebook illustrates the use of the deep learning based diffusive conductance algorithm decribed [here](https://doi.org/10.1016/j.cageo.2022.105086). PoreSpy's `AI_size_factor` includes the steps for predicting the diffusive size factors of the conduit images. Note that the diffusive conductance of the conduits can be then calculated by multiplying the size factor by diffusivity of the phase. The function takes in the images of segmented porous medium and returns an array of diffusive size factors for all conduits in the image. Therefore, the framework can be applied to both one conduit image as well as a segmented image of porous medium:"
   ]
  },
  {
   "cell_type": "markdown",
   "metadata": {},
   "source": [
    "<img src=\"https://user-images.githubusercontent.com/43128873/116145783-bd458380-a6ab-11eb-8103-fb9a93f0599c.png\" alt=\"PS_dl\" width=\"500\"/>"
   ]
  },
  {
   "cell_type": "markdown",
   "metadata": {},
   "source": [
    "# Trained model and supplementary materials\n",
    "To use the `AI_size_factor`, the tained trained model or weight, and trained data distribution are required. These files based on training images of polydispersed spheres are available to download. Once the required files are downloaded, we can then pass the directory of the files to `AI_size_factor` to be used for predictions.\n",
    "\n",
    "[trained model weights](link): This file includes only weights of the deep learning layers. To use this file, a Resnet50 model will be built automatically in the `AI_size_factor`.\n",
    "\n",
    "[trained data distribution](link): This file will be used in denormalizing predicted values based on normalized transform applied on training data."
   ]
  },
  {
   "cell_type": "markdown",
   "metadata": {},
   "source": [
    "Import necessary packages and functions:"
   ]
  },
  {
   "cell_type": "code",
   "execution_count": null,
   "metadata": {},
   "outputs": [],
   "source": [
    "import porespy as ps\n",
    "import scipy as sp\n",
    "import numpy as np\n",
    "import h5py\n",
    "from matplotlib import pyplot as plt\n",
    "from tensorflow.keras.models import load_model\n",
    "from sklearn.metrics import r2_score\n",
    "import os\n",
    "import warnings\n",
    "warnings.filterwarnings(\"ignore\")\n",
    "path= './AI_example_data/'\n",
    "path_train= path+'g_train_original.hdf5'\n",
    "path_weight = path+'model_weights.h5'\n",
    "g_train = h5py.File(path_train, 'r')['g_train'][()]\n",
    "model = ps.networks.create_model()\n",
    "model.load_weights(path_weight)"
   ]
  },
  {
   "cell_type": "markdown",
   "metadata": {},
   "source": [
    "## Create test image"
   ]
  },
  {
   "cell_type": "markdown",
   "metadata": {},
   "source": [
    "We can create a 3D image using PoreSpy's `poly_disperese_spheres` generator and segment the image using `snow_partitioning methods`. Note that `find_conns` method returns the connections in the segmented region. The order of values in conns is similar to the network extraction conns. Therefore, the region with label=1 in the segmented image is mapped to indice 0 in conns."
   ]
  },
  {
   "cell_type": "code",
   "execution_count": 2,
   "metadata": {},
   "outputs": [
    {
     "data": {
      "application/vnd.jupyter.widget-view+json": {
       "model_id": "",
       "version_major": 2,
       "version_minor": 0
      },
      "text/plain": [
       "0it [00:00, ?it/s]"
      ]
     },
     "metadata": {},
     "output_type": "display_data"
    },
    {
     "data": {
      "application/vnd.jupyter.widget-view+json": {
       "model_id": "aee5cb8854f9436a8dcb9129dde0cc42",
       "version_major": 2,
       "version_minor": 0
      },
      "text/plain": [
       "  0%|          | 0/199 [00:00<?, ?it/s]"
      ]
     },
     "metadata": {},
     "output_type": "display_data"
    },
    {
     "data": {
      "image/png": "[encoded data removed]",
      "text/plain": [
       "<Figure size 288x288 with 1 Axes>"
      ]
     },
     "metadata": {
      "needs_background": "light"
     },
     "output_type": "display_data"
    }
   ],
   "source": [
    "np.random.seed(17)\n",
    "shape = [120, 120, 120]\n",
    "dist = sp.stats.norm(loc=7, scale=5)\n",
    "im = ps.generators.polydisperse_spheres(shape=shape,\n",
    "                                        porosity=0.7,\n",
    "                                        dist=dist,\n",
    "                                        r_min=7)\n",
    "results = ps.filters.snow_partitioning(im=im.astype(bool))\n",
    "regions = results['regions']\n",
    "conns = ps.networks.find_conns(regions)\n",
    "fig, ax = plt.subplots(1, 1, figsize=[4, 4])\n",
    "ax.imshow(regions[:,:,20], origin='lower', interpolation='none')\n",
    "ax.axis(False);"
   ]
  },
  {
   "cell_type": "markdown",
   "metadata": {},
   "source": [
    "## Apply AI_size_factor"
   ]
  },
  {
   "cell_type": "markdown",
   "metadata": {},
   "source": [
    "The `AI_size_factor` function has an optional arguemnt to choose the method to predict on the test images. If `tensor_wise=True`, the size factors for all conduits will be calculated once using a tensor of conduit images. By default `tensor_wise=False`, which indicates that the size factors for each conduit will be calculated separately in a for loop. To speedup the calculations, it is recommended to choose `tensor_wise=True`, as tensorflow deep learning model is designed to work with tensors. As the size of the image icreases, the runtime difference between these two options becomes larger."
   ]
  },
  {
   "cell_type": "code",
   "execution_count": 3,
   "metadata": {},
   "outputs": [
    {
     "name": "stderr",
     "output_type": "stream",
     "text": [
      "2022-04-08 18:06:55.712672: I tensorflow/stream_executor/cuda/cuda_dnn.cc:368] Loaded cuDNN version 8303\n",
      "2022-04-08 18:06:56.476628: I tensorflow/core/platform/default/subprocess.cc:304] Start cannot spawn child process: No such file or directory\n"
     ]
    }
   ],
   "source": [
    "size_factors = ps.networks.AI_diffusive_size_factor(regions, model= model, g_train=g_train, throat_conns=conns)"
   ]
  },
  {
   "cell_type": "markdown",
   "metadata": {},
   "source": [
    "## Compare with finite difference"
   ]
  },
  {
   "cell_type": "markdown",
   "metadata": {},
   "source": [
    "Assuming a diffusivity of 1, the diffusive conductance of the conduits will be equal to their size factors. Now let's compare the AI-based diffusive conductances with the conductance values calculated by finite difference method. The finite difference method results are found using the steps explained [here](https://doi.org/10.1016/j.cageo.2022.105086)."
   ]
  },
  {
   "cell_type": "code",
   "execution_count": 4,
   "metadata": {},
   "outputs": [
    {
     "name": "stdout",
     "output_type": "stream",
     "text": [
      "The r2 prediction accuracy is 0.95\n"
     ]
    },
    {
     "data": {
      "image/png": "[encoded data removed]",
      "text/plain": [
       "<Figure size 288x288 with 1 Axes>"
      ]
     },
     "metadata": {
      "needs_background": "light"
     },
     "output_type": "display_data"
    }
   ],
   "source": [
    "g_FD = h5py.File(path+'g_finite_difference120-phi7.hdf5', 'r') ['g_finite_difference'][()]\n",
    "g_AI= size_factors\n",
    "plt.figure(figsize=[4,4])\n",
    "plt.xlim([0,80])\n",
    "plt.ylim([0,80])\n",
    "plt.plot(g_FD,g_AI,'*',[0,80],[0,80],'r')\n",
    "plt.xlabel('g reference')\n",
    "plt.ylabel('g prediction')\n",
    "r2=r2_score(g_FD, g_AI)\n",
    "print('The r2 prediction accuracy is', np.round(r2,2))"
   ]
  },
  {
   "cell_type": "markdown",
   "metadata": {},
   "source": [
    "Note on runtime: A larger part of `AI_size_factors` runtime is related to extracting the pairs of conduits, which is the common step required for both AI and finite difference method. Once the data is prepared, AI Prediction on the tensor takes a smaller amount of time in contrast to finite difference method, as it was shown [here]((https://doi.org/10.1016/j.cageo.2022.105086)). "
   ]
  },
  {
   "cell_type": "markdown",
   "metadata": {},
   "source": [
    "## Apply on one conduit"
   ]
  },
  {
   "cell_type": "code",
   "execution_count": 5,
   "metadata": {},
   "outputs": [
    {
     "data": {
      "application/vnd.jupyter.widget-view+json": {
       "model_id": "0cfeeafaaaf6490293b450551a8d0680",
       "version_major": 2,
       "version_minor": 0
      },
      "text/plain": [
       "  0%|          | 0/2 [00:00<?, ?it/s]"
      ]
     },
     "metadata": {},
     "output_type": "display_data"
    },
    {
     "name": "stdout",
     "output_type": "stream",
     "text": [
      "diffusive size factor from FD and AI: [9.869504] [9.90831661]\n"
     ]
    }
   ],
   "source": [
    "pair_in=h5py.File(path+'pair.hdf5', 'r')\n",
    "im = pair_in['pair'][()]\n",
    "conns = ps.networks.find_conns(im)\n",
    "diffusive_size_factor_FD = pair_in['size_factor'][()]\n",
    "diffusive_size_factor_AI = ps.networks.AI_diffusive_size_factor(im, model= model, g_train=g_train, throat_conns=conns)\n",
    "print('diffusive size factor from FD and AI:', diffusive_size_factor_FD, diffusive_size_factor_AI)"
   ]
  }
 ],
 "metadata": {
  "kernelspec": {
   "display_name": "ps-AI-env",
   "language": "python",
   "name": "ps-ai-env"
  },
  "language_info": {
   "codemirror_mode": {
    "name": "ipython",
    "version": 3
   },
   "file_extension": ".py",
   "mimetype": "text/x-python",
   "name": "python",
   "nbconvert_exporter": "python",
   "pygments_lexer": "ipython3",
   "version": "3.10.4"
  }
 },
 "nbformat": 4,
 "nbformat_minor": 4
}
