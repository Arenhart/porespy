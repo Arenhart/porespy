{
 "cells": [
  {
   "cell_type": "markdown",
   "id": "c2a98fa9",
   "metadata": {},
   "source": [
    "## Getting the input as an image type\n",
    "The cell below creates and ensures the existence of the specific sample path.\n",
    "The image of the sample can be downloaded through a link as of the cell below \"drp_url\", or added seperately as a file.\n",
    "\n",
    "**For this specific sample:** \n",
    "    - Binary image data obtained from the filtered grayscale image data. The grayscale image was segmented at threshold level 71 calculated using the IsoData algorithm. For more details, please refer to the related publications.\n",
    "Segmented Yes Voxel length (x, y, z) 2.25, 2.25, 2.25 um Link: https://www.digitalrocksportal.org/projects/317/origin_data/1380/\n",
    "\n",
    "Image Type 8-bit Width 1000 Height 1000 Number of Slices 1000 Byte Order little-endian\n",
    "\n",
    "we assummed voxel_size=1, and we can postprocess units of the predictions by multiplying the results by **[voxel_size]**. However, PoreSpy's functions can accept the value of voxel_size to prevent post-processing step"
   ]
  },
  {
   "cell_type": "code",
   "execution_count": 1,
   "id": "210f986c",
   "metadata": {},
   "outputs": [
    {
     "name": "stderr",
     "output_type": "stream",
     "text": [
      "2023-03-23 18:37:01.045466: I tensorflow/core/platform/cpu_feature_guard.cc:193] This TensorFlow binary is optimized with oneAPI Deep Neural Network Library (oneDNN) to use the following CPU instructions in performance-critical operations:  SSE4.1 SSE4.2\n",
      "To enable them in other operations, rebuild TensorFlow with the appropriate compiler flags.\n"
     ]
    }
   ],
   "source": [
    "import subprocess\n",
    "import os\n",
    "import numpy as np\n",
    "import porespy as ps\n",
    "import h5py  # if there was error importing, please install the h5py package\n",
    "import importlib\n",
    "import warnings\n",
    "import openpnm as op\n",
    "import porespy as ps\n",
    "import scipy as sp\n",
    "from matplotlib import pyplot as plt\n",
    "from sklearn.metrics import r2_score\n",
    "import time\n",
    "import tensorflow as tf"
   ]
  },
  {
   "cell_type": "markdown",
   "id": "12e0b053",
   "metadata": {},
   "source": [
    "Ensure the existence of model path, and create one if non-existant"
   ]
  },
  {
   "cell_type": "code",
   "execution_count": 7,
   "id": "d0b91c35",
   "metadata": {},
   "outputs": [],
   "source": [
    "\n",
    "if not os.path.exists(\"sf-model-lib\"):\n",
    "    !git clone https://github.com/PMEAL/sf-model-lib"
   ]
  },
  {
   "cell_type": "markdown",
   "id": "886be24e",
   "metadata": {},
   "source": [
    "In the cell below we the proper library and assign the weights "
   ]
  },
  {
   "cell_type": "code",
   "execution_count": 8,
   "id": "e96a9a0a",
   "metadata": {},
   "outputs": [],
   "source": [
    "\n",
    "h5tools = importlib.import_module(\"sf-model-lib.h5tools\")\n",
    "DIR_WEIGHTS = \"sf-model-lib/diffusion\"\n",
    "fname_in = [f\"{DIR_WEIGHTS}/model_weights_part{j}.h5\" for j in [0, 1]]\n",
    "\n",
    "#Identifying hdf5 files and merging them together, the result would be a unique file\n",
    "h5tools.combine(fname_in, fname_out=f\"{DIR_WEIGHTS}/model_weights.h5\")"
   ]
  },
  {
   "cell_type": "markdown",
   "id": "e67181bf",
   "metadata": {},
   "source": [
    "The cell below, we import are related libraries (these chould be installed before usage) \n",
    "Then we start the training of the model and load the wieghts"
   ]
  },
  {
   "cell_type": "code",
   "execution_count": 9,
   "id": "a71f93e5",
   "metadata": {},
   "outputs": [
    {
     "name": "stderr",
     "output_type": "stream",
     "text": [
      "2023-03-23 18:37:30.467161: I tensorflow/core/platform/cpu_feature_guard.cc:193] This TensorFlow binary is optimized with oneAPI Deep Neural Network Library (oneDNN) to use the following CPU instructions in performance-critical operations:  SSE4.1 SSE4.2\n",
      "To enable them in other operations, rebuild TensorFlow with the appropriate compiler flags.\n"
     ]
    },
    {
     "data": {
      "text/html": [
       "<pre style=\"white-space:pre;overflow-x:auto;line-height:normal;font-family:Menlo,'DejaVu Sans Mono',consolas,'Courier New',monospace\"><span style=\"color: #7fbfbf; text-decoration-color: #7fbfbf\">[18:37:32] </span><span style=\"color: #800000; text-decoration-color: #800000\">WARNING </span> `lr` is deprecated, please use `learning_rate` instead, or use the legacy      <a href=\"file:///home/anaconda/mambaforge/envs/tensorflow_env/lib/python3.9/site-packages/keras/optimizers/optimizer_experimental/optimizer.py\" target=\"_blank\"><span style=\"color: #7f7f7f; text-decoration-color: #7f7f7f\">optimizer.py</span></a><span style=\"color: #7f7f7f; text-decoration-color: #7f7f7f\">:</span><a href=\"file:///home/anaconda/mambaforge/envs/tensorflow_env/lib/python3.9/site-packages/keras/optimizers/optimizer_experimental/optimizer.py#106\" target=\"_blank\"><span style=\"color: #7f7f7f; text-decoration-color: #7f7f7f\">106</span></a>\n",
       "<span style=\"color: #7fbfbf; text-decoration-color: #7fbfbf\">           </span>         optimizer, e.g.,tf.keras.optimizers.legacy.Adam.                               <span style=\"color: #7f7f7f; text-decoration-color: #7f7f7f\">                </span>\n",
       "</pre>\n"
      ],
      "text/plain": [
       "\u001b[2;36m[18:37:32]\u001b[0m\u001b[2;36m \u001b[0m\u001b[31mWARNING \u001b[0m `lr` is deprecated, please use `learning_rate` instead, or use the legacy      \u001b]8;id=905709;file:///home/anaconda/mambaforge/envs/tensorflow_env/lib/python3.9/site-packages/keras/optimizers/optimizer_experimental/optimizer.py\u001b\\\u001b[2moptimizer.py\u001b[0m\u001b]8;;\u001b\\\u001b[2m:\u001b[0m\u001b]8;id=489667;file:///home/anaconda/mambaforge/envs/tensorflow_env/lib/python3.9/site-packages/keras/optimizers/optimizer_experimental/optimizer.py#106\u001b\\\u001b[2m106\u001b[0m\u001b]8;;\u001b\\\n",
       "\u001b[2;36m           \u001b[0m         optimizer, e.g.,tf.keras.optimizers.legacy.Adam.                               \u001b[2m                \u001b[0m\n"
      ]
     },
     "metadata": {},
     "output_type": "display_data"
    }
   ],
   "source": [
    "\n",
    "ps.visualization.set_mpl_style()\n",
    "warnings.filterwarnings(\"ignore\")\n",
    "path_AI = \"./sf-model-lib/diffusion\"\n",
    "path_train = os.path.join(path_AI, 'g_train_original.hdf5')\n",
    "path_weights = os.path.join(path_AI, 'model_weights.h5')\n",
    "g_train = h5py.File(path_train, 'r')['g_train'][()]\n"
   ]
  },
  {
   "cell_type": "code",
   "execution_count": 1,
   "id": "f2427e47",
   "metadata": {},
   "outputs": [],
   "source": [
    "\n",
    "# save the binary image as hdf5\n",
    "# TODO: double checking the names\n",
    "path='rock_sample_Leopard'# this is the path folder for saving the data for this example\n",
    "if not os.path.isdir(path):\n",
    "    os.makedirs(path)\n",
    "def download_geometry(filename, url):\n",
    "\n",
    "    download_command = f'wget {url} -O {filename}'\n",
    "    try:\n",
    "        subprocess.run(download_command.split(' '))\n",
    "    except FileNotFoundError:\n",
    "        raise InterruptedError(f'wget was not found. Please make sure it is installed on your system.')\n",
    "    return\n",
    "drp_url = 'https://www.digitalrocksportal.org/projects/317/images/223481/download/' # I found this link from selecting action\n",
    "# button next to the image, download and right click>copy link.\n",
    "file_name = path+'/image_Leopard.raw'\n",
    "#download_geometry(file_name, drp_url)"
   ]
  },
  {
   "cell_type": "markdown",
   "id": "29d28687",
   "metadata": {},
   "source": [
    "## Convertion to Numpy array\n",
    "After importing the input image, we need to define the voxels(dimensions of the sample),\n",
    "this information is usually gathered from the source of the image.\n",
    "Next step is to convert the image data to numpy arrays for easier mathematical computation.\n",
    "the line ***(ps.metrics.porosity(im))*** is to check the porosity level to the information from the input source description. If not, you may need to switch False and True in the above code or replace 0 with a different value. You can check the current values in the loaded image using np.unique(im).\n",
    "\n",
    "More info on np.from [file](https://numpy.org/doc/1.21/reference/generated/numpy.fromfile.html#:~:text=numpy.fromfile%20%C2%B6%20numpy.fromfile%28file%2C%20dtype%3Dfloat%2C%20count%3D-%201%2C%20sep%3D%27%27%2C%20offset%3D0%2C,as%20well%20as%20parsing%20simply%20formatted%20text%20files)"
   ]
  },
  {
   "cell_type": "code",
   "execution_count": 2,
   "id": "1454a3ee",
   "metadata": {},
   "outputs": [
    {
     "name": "stdout",
     "output_type": "stream",
     "text": [
      "0.195033838\n"
     ]
    }
   ],
   "source": [
    "\n",
    "# TODO: checking size and names\n",
    "voxelsx = 1000\n",
    "voxelsy = 1000\n",
    "voxelsz = 1000\n",
    "path= 'rock_sample_Leopard'\n",
    "voxel_size = 2.25e-6\n",
    "im = np.fromfile(path+'/image_Leopard.raw', dtype=\"<i1\")\n",
    "im = np.reshape(im, (voxelsx,voxelsy,voxelsz)) # this value may need to be changed based on input image size\n",
    "\n",
    "# make sure pore space is True and solid is False\n",
    "pore_space = im == 0 # sometimes this may be 255 or some other value\n",
    "im[pore_space] = True\n",
    "im[~pore_space] = False\n",
    "print(ps.metrics.porosity(im))"
   ]
  },
  {
   "cell_type": "markdown",
   "id": "2fb53577",
   "metadata": {},
   "source": [
    "## Slicing the image\n",
    "In this stage we slice the image to smaller pieces. This is to speed up the process of prediction with the AI approach and the DNS approach."
   ]
  },
  {
   "cell_type": "code",
   "execution_count": 3,
   "id": "682114cd",
   "metadata": {},
   "outputs": [],
   "source": [
    "im = im[:100,:100,:100]"
   ]
  },
  {
   "cell_type": "markdown",
   "id": "f5b3f35a",
   "metadata": {},
   "source": [
    "## Segmentation of the image\n",
    "Snow function is developed as part of the PoreSPY opensource package, Snow extracts pore and conns from the image.\n",
    "We then extract the pore network of the porous medium image using PoreSpy's snow2 algorithm. snow2 returns the segmented image of the porous medium as well as extracted network data."
   ]
  },
  {
   "cell_type": "code",
   "execution_count": 4,
   "id": "4f924632",
   "metadata": {},
   "outputs": [
    {
     "data": {
      "application/vnd.jupyter.widget-view+json": {
       "model_id": "4c6ab4964f9a40588e82cad20a1172e6",
       "version_major": 2,
       "version_minor": 0
      },
      "text/plain": [
       "0it [00:00, ?it/s]"
      ]
     },
     "metadata": {},
     "output_type": "display_data"
    },
    {
     "data": {
      "application/vnd.jupyter.widget-view+json": {
       "model_id": "740a1a7233264202a5a25257935ec263",
       "version_major": 2,
       "version_minor": 0
      },
      "text/plain": [
       "Extracting pore and throat properties:   0%|          | 0/73 [00:00<?, ?it/s]"
      ]
     },
     "metadata": {},
     "output_type": "display_data"
    }
   ],
   "source": [
    "snow = ps.networks.snow2(im, boundary_width=0, parallelization=None, voxel_size = voxel_size)\n",
    "regions = snow.regions\n",
    "net = snow.network\n",
    "conns = net['throat.conns']"
   ]
  },
  {
   "cell_type": "code",
   "execution_count": null,
   "id": "53e34b77",
   "metadata": {},
   "outputs": [],
   "source": [
    "model = ps.networks.create_model()\n",
    "\n",
    "# Giving the path weights to .load function\n",
    "\n",
    "model.load_weights(path_weights)"
   ]
  },
  {
   "cell_type": "markdown",
   "id": "36807db9",
   "metadata": {},
   "source": [
    "Finally we intiate the AI prediction process\n",
    "\n",
    "**Note:** This cell is often the longest to exute\n"
   ]
  },
  {
   "cell_type": "code",
   "execution_count": 12,
   "id": "426f218d",
   "metadata": {},
   "outputs": [
    {
     "data": {
      "application/vnd.jupyter.widget-view+json": {
       "model_id": "ff0f122c81514f1bae05c8ab093629d1",
       "version_major": 2,
       "version_minor": 0
      },
      "text/plain": [
       "Preparing images tensor:   0%|          | 0/122 [00:00<?, ?it/s]"
      ]
     },
     "metadata": {},
     "output_type": "display_data"
    },
    {
     "name": "stdout",
     "output_type": "stream",
     "text": [
      "8/8 [==============================] - 9s 932ms/step\n"
     ]
    }
   ],
   "source": [
    "predicted_ai = ps.networks.diffusive_size_factor_AI(\n",
    "    regions,\n",
    "    model=model,\n",
    "    g_train=g_train,\n",
    "    throat_conns=conns,\n",
    "    voxel_size = voxel_size\n",
    ")"
   ]
  },
  {
   "cell_type": "markdown",
   "id": "5bfa08da",
   "metadata": {},
   "source": [
    "Similarly we run the DNS(Direct Numerical Simulation)"
   ]
  },
  {
   "cell_type": "code",
   "execution_count": 13,
   "id": "cbcadfa7",
   "metadata": {},
   "outputs": [
    {
     "data": {
      "application/vnd.jupyter.widget-view+json": {
       "model_id": "f82056036f2c4c72889dabf88872191a",
       "version_major": 2,
       "version_minor": 0
      },
      "text/plain": [
       "Preparing images and DNS calculations:   0%|          | 0/122 [00:00<?, ?it/s]"
      ]
     },
     "metadata": {},
     "output_type": "display_data"
    },
    {
     "data": {
      "application/vnd.jupyter.widget-view+json": {
       "model_id": "85d85b772a384b979a5a7cde319f0090",
       "version_major": 2,
       "version_minor": 0
      },
      "text/plain": [
       "Getting ROI info:   0%|          | 0/2 [00:00<?, ?it/s]"
      ]
     },
     "metadata": {},
     "output_type": "display_data"
    },
    {
     "data": {
      "application/vnd.jupyter.widget-view+json": {
       "model_id": "4f59d08267464837a92825ab5124d5c1",
       "version_major": 2,
       "version_minor": 0
      },
      "text/plain": [
       "Getting ROI info:   0%|          | 0/2 [00:00<?, ?it/s]"
      ]
     },
     "metadata": {},
     "output_type": "display_data"
    },
    {
     "data": {
      "application/vnd.jupyter.widget-view+json": {
       "model_id": "48161dfbb27748d08d7beb7c8ad2d542",
       "version_major": 2,
       "version_minor": 0
      },
      "text/plain": [
       "Getting ROI info:   0%|          | 0/2 [00:00<?, ?it/s]"
      ]
     },
     "metadata": {},
     "output_type": "display_data"
    },
    {
     "data": {
      "application/vnd.jupyter.widget-view+json": {
       "model_id": "d53fbfc3faa04fdf8be53b6347ab8e5c",
       "version_major": 2,
       "version_minor": 0
      },
      "text/plain": [
       "Getting ROI info:   0%|          | 0/2 [00:00<?, ?it/s]"
      ]
     },
     "metadata": {},
     "output_type": "display_data"
    },
    {
     "data": {
      "application/vnd.jupyter.widget-view+json": {
       "model_id": "049c706f9f8641ae8fc979d879bc5632",
       "version_major": 2,
       "version_minor": 0
      },
      "text/plain": [
       "Getting ROI info:   0%|          | 0/2 [00:00<?, ?it/s]"
      ]
     },
     "metadata": {},
     "output_type": "display_data"
    },
    {
     "data": {
      "application/vnd.jupyter.widget-view+json": {
       "model_id": "f0cc7706801c49ab860ae08cb6fbb46c",
       "version_major": 2,
       "version_minor": 0
      },
      "text/plain": [
       "Getting ROI info:   0%|          | 0/2 [00:00<?, ?it/s]"
      ]
     },
     "metadata": {},
     "output_type": "display_data"
    },
    {
     "data": {
      "application/vnd.jupyter.widget-view+json": {
       "model_id": "ed418235d25c441f900aa1caef4fb487",
       "version_major": 2,
       "version_minor": 0
      },
      "text/plain": [
       "Getting ROI info:   0%|          | 0/2 [00:00<?, ?it/s]"
      ]
     },
     "metadata": {},
     "output_type": "display_data"
    },
    {
     "data": {
      "application/vnd.jupyter.widget-view+json": {
       "model_id": "e0a5d276733a4f15be84364590a75e35",
       "version_major": 2,
       "version_minor": 0
      },
      "text/plain": [
       "Getting ROI info:   0%|          | 0/2 [00:00<?, ?it/s]"
      ]
     },
     "metadata": {},
     "output_type": "display_data"
    },
    {
     "data": {
      "application/vnd.jupyter.widget-view+json": {
       "model_id": "6e7923814aaf4cde9a4a7c2b881d4703",
       "version_major": 2,
       "version_minor": 0
      },
      "text/plain": [
       "Getting ROI info:   0%|          | 0/2 [00:00<?, ?it/s]"
      ]
     },
     "metadata": {},
     "output_type": "display_data"
    },
    {
     "data": {
      "application/vnd.jupyter.widget-view+json": {
       "model_id": "5a2fdd51b0d94206a9f905763b9159d9",
       "version_major": 2,
       "version_minor": 0
      },
      "text/plain": [
       "Getting ROI info:   0%|          | 0/2 [00:00<?, ?it/s]"
      ]
     },
     "metadata": {},
     "output_type": "display_data"
    },
    {
     "data": {
      "application/vnd.jupyter.widget-view+json": {
       "model_id": "21c697a907214ad0b78ff7d065add58b",
       "version_major": 2,
       "version_minor": 0
      },
      "text/plain": [
       "Getting ROI info:   0%|          | 0/2 [00:00<?, ?it/s]"
      ]
     },
     "metadata": {},
     "output_type": "display_data"
    },
    {
     "data": {
      "application/vnd.jupyter.widget-view+json": {
       "model_id": "90e10cb8920a4af4a11ab5af59671163",
       "version_major": 2,
       "version_minor": 0
      },
      "text/plain": [
       "Getting ROI info:   0%|          | 0/2 [00:00<?, ?it/s]"
      ]
     },
     "metadata": {},
     "output_type": "display_data"
    },
    {
     "data": {
      "application/vnd.jupyter.widget-view+json": {
       "model_id": "fa5081f7349247ef9902563b7f8f50e2",
       "version_major": 2,
       "version_minor": 0
      },
      "text/plain": [
       "Getting ROI info:   0%|          | 0/2 [00:00<?, ?it/s]"
      ]
     },
     "metadata": {},
     "output_type": "display_data"
    },
    {
     "data": {
      "application/vnd.jupyter.widget-view+json": {
       "model_id": "a2adfee483284473864ad7573d19af23",
       "version_major": 2,
       "version_minor": 0
      },
      "text/plain": [
       "Getting ROI info:   0%|          | 0/2 [00:00<?, ?it/s]"
      ]
     },
     "metadata": {},
     "output_type": "display_data"
    },
    {
     "data": {
      "application/vnd.jupyter.widget-view+json": {
       "model_id": "6046d56702624f8d893df6748e76a277",
       "version_major": 2,
       "version_minor": 0
      },
      "text/plain": [
       "Getting ROI info:   0%|          | 0/2 [00:00<?, ?it/s]"
      ]
     },
     "metadata": {},
     "output_type": "display_data"
    },
    {
     "data": {
      "application/vnd.jupyter.widget-view+json": {
       "model_id": "a5f3230b840646319c47dbff4c41918b",
       "version_major": 2,
       "version_minor": 0
      },
      "text/plain": [
       "Getting ROI info:   0%|          | 0/2 [00:00<?, ?it/s]"
      ]
     },
     "metadata": {},
     "output_type": "display_data"
    },
    {
     "data": {
      "application/vnd.jupyter.widget-view+json": {
       "model_id": "9f4c27392b37424e95c5a12c98435e40",
       "version_major": 2,
       "version_minor": 0
      },
      "text/plain": [
       "Getting ROI info:   0%|          | 0/2 [00:00<?, ?it/s]"
      ]
     },
     "metadata": {},
     "output_type": "display_data"
    },
    {
     "data": {
      "application/vnd.jupyter.widget-view+json": {
       "model_id": "22097cba1141489198f98bed40b3811f",
       "version_major": 2,
       "version_minor": 0
      },
      "text/plain": [
       "Getting ROI info:   0%|          | 0/2 [00:00<?, ?it/s]"
      ]
     },
     "metadata": {},
     "output_type": "display_data"
    },
    {
     "data": {
      "application/vnd.jupyter.widget-view+json": {
       "model_id": "4ae80f2b4a034ed5bab0bfe8b1b2f2a4",
       "version_major": 2,
       "version_minor": 0
      },
      "text/plain": [
       "Getting ROI info:   0%|          | 0/2 [00:00<?, ?it/s]"
      ]
     },
     "metadata": {},
     "output_type": "display_data"
    },
    {
     "data": {
      "application/vnd.jupyter.widget-view+json": {
       "model_id": "495ed1e8911643bb9e666b510dda88c8",
       "version_major": 2,
       "version_minor": 0
      },
      "text/plain": [
       "Getting ROI info:   0%|          | 0/2 [00:00<?, ?it/s]"
      ]
     },
     "metadata": {},
     "output_type": "display_data"
    },
    {
     "data": {
      "application/vnd.jupyter.widget-view+json": {
       "model_id": "09e5e6a57f36455cb5f9b4301eb969b0",
       "version_major": 2,
       "version_minor": 0
      },
      "text/plain": [
       "Getting ROI info:   0%|          | 0/2 [00:00<?, ?it/s]"
      ]
     },
     "metadata": {},
     "output_type": "display_data"
    },
    {
     "data": {
      "application/vnd.jupyter.widget-view+json": {
       "model_id": "36bd673563874307bfb68c61b3261891",
       "version_major": 2,
       "version_minor": 0
      },
      "text/plain": [
       "Getting ROI info:   0%|          | 0/2 [00:00<?, ?it/s]"
      ]
     },
     "metadata": {},
     "output_type": "display_data"
    },
    {
     "data": {
      "application/vnd.jupyter.widget-view+json": {
       "model_id": "da13b2cba13942c1873ef8219f480ae7",
       "version_major": 2,
       "version_minor": 0
      },
      "text/plain": [
       "Getting ROI info:   0%|          | 0/2 [00:00<?, ?it/s]"
      ]
     },
     "metadata": {},
     "output_type": "display_data"
    },
    {
     "data": {
      "application/vnd.jupyter.widget-view+json": {
       "model_id": "42105a1e5b82413d8afd851ebff7fd0c",
       "version_major": 2,
       "version_minor": 0
      },
      "text/plain": [
       "Getting ROI info:   0%|          | 0/2 [00:00<?, ?it/s]"
      ]
     },
     "metadata": {},
     "output_type": "display_data"
    },
    {
     "data": {
      "application/vnd.jupyter.widget-view+json": {
       "model_id": "3fba528d31c54eca98a56c77ccab4925",
       "version_major": 2,
       "version_minor": 0
      },
      "text/plain": [
       "Getting ROI info:   0%|          | 0/2 [00:00<?, ?it/s]"
      ]
     },
     "metadata": {},
     "output_type": "display_data"
    },
    {
     "data": {
      "application/vnd.jupyter.widget-view+json": {
       "model_id": "6b90a2263c214dd9b8216a1b276b0c97",
       "version_major": 2,
       "version_minor": 0
      },
      "text/plain": [
       "Getting ROI info:   0%|          | 0/2 [00:00<?, ?it/s]"
      ]
     },
     "metadata": {},
     "output_type": "display_data"
    },
    {
     "data": {
      "application/vnd.jupyter.widget-view+json": {
       "model_id": "7ded296dc7bb43c38a1ac4291e46ca4b",
       "version_major": 2,
       "version_minor": 0
      },
      "text/plain": [
       "Getting ROI info:   0%|          | 0/2 [00:00<?, ?it/s]"
      ]
     },
     "metadata": {},
     "output_type": "display_data"
    },
    {
     "data": {
      "application/vnd.jupyter.widget-view+json": {
       "model_id": "94f298b65e60447182e713f032a157ee",
       "version_major": 2,
       "version_minor": 0
      },
      "text/plain": [
       "Getting ROI info:   0%|          | 0/2 [00:00<?, ?it/s]"
      ]
     },
     "metadata": {},
     "output_type": "display_data"
    },
    {
     "data": {
      "application/vnd.jupyter.widget-view+json": {
       "model_id": "828a0697db314e44a8226bc15d6d8ad6",
       "version_major": 2,
       "version_minor": 0
      },
      "text/plain": [
       "Getting ROI info:   0%|          | 0/2 [00:00<?, ?it/s]"
      ]
     },
     "metadata": {},
     "output_type": "display_data"
    },
    {
     "data": {
      "application/vnd.jupyter.widget-view+json": {
       "model_id": "7dd5cb941a324c4c86807cd8c0ee82a2",
       "version_major": 2,
       "version_minor": 0
      },
      "text/plain": [
       "Getting ROI info:   0%|          | 0/2 [00:00<?, ?it/s]"
      ]
     },
     "metadata": {},
     "output_type": "display_data"
    },
    {
     "data": {
      "application/vnd.jupyter.widget-view+json": {
       "model_id": "935534b15a344dd7a41fa5b51cd410fa",
       "version_major": 2,
       "version_minor": 0
      },
      "text/plain": [
       "Getting ROI info:   0%|          | 0/2 [00:00<?, ?it/s]"
      ]
     },
     "metadata": {},
     "output_type": "display_data"
    },
    {
     "data": {
      "application/vnd.jupyter.widget-view+json": {
       "model_id": "43d420a247604ba1b4a3d2f793b4680c",
       "version_major": 2,
       "version_minor": 0
      },
      "text/plain": [
       "Getting ROI info:   0%|          | 0/2 [00:00<?, ?it/s]"
      ]
     },
     "metadata": {},
     "output_type": "display_data"
    },
    {
     "data": {
      "application/vnd.jupyter.widget-view+json": {
       "model_id": "6c27c9506e794c218e2d018615f69871",
       "version_major": 2,
       "version_minor": 0
      },
      "text/plain": [
       "Getting ROI info:   0%|          | 0/2 [00:00<?, ?it/s]"
      ]
     },
     "metadata": {},
     "output_type": "display_data"
    },
    {
     "data": {
      "application/vnd.jupyter.widget-view+json": {
       "model_id": "b90f32f2f81d4614b5c13734cc0c4e7c",
       "version_major": 2,
       "version_minor": 0
      },
      "text/plain": [
       "Getting ROI info:   0%|          | 0/2 [00:00<?, ?it/s]"
      ]
     },
     "metadata": {},
     "output_type": "display_data"
    },
    {
     "data": {
      "application/vnd.jupyter.widget-view+json": {
       "model_id": "33e6b4bc9a294ab78dcdaff9c437bee3",
       "version_major": 2,
       "version_minor": 0
      },
      "text/plain": [
       "Getting ROI info:   0%|          | 0/2 [00:00<?, ?it/s]"
      ]
     },
     "metadata": {},
     "output_type": "display_data"
    },
    {
     "data": {
      "application/vnd.jupyter.widget-view+json": {
       "model_id": "e6f0daa5d50c4ae2b81b3a8d0d04af8e",
       "version_major": 2,
       "version_minor": 0
      },
      "text/plain": [
       "Getting ROI info:   0%|          | 0/2 [00:00<?, ?it/s]"
      ]
     },
     "metadata": {},
     "output_type": "display_data"
    },
    {
     "data": {
      "application/vnd.jupyter.widget-view+json": {
       "model_id": "97cecbb7f3fd48bf85ba10f91a5fd931",
       "version_major": 2,
       "version_minor": 0
      },
      "text/plain": [
       "Getting ROI info:   0%|          | 0/2 [00:00<?, ?it/s]"
      ]
     },
     "metadata": {},
     "output_type": "display_data"
    },
    {
     "data": {
      "application/vnd.jupyter.widget-view+json": {
       "model_id": "e975ba3872a84ca5b07c84c1c009f6b8",
       "version_major": 2,
       "version_minor": 0
      },
      "text/plain": [
       "Getting ROI info:   0%|          | 0/2 [00:00<?, ?it/s]"
      ]
     },
     "metadata": {},
     "output_type": "display_data"
    },
    {
     "data": {
      "application/vnd.jupyter.widget-view+json": {
       "model_id": "fa02b6f826034138a8c796b1ccd37f1b",
       "version_major": 2,
       "version_minor": 0
      },
      "text/plain": [
       "Getting ROI info:   0%|          | 0/2 [00:00<?, ?it/s]"
      ]
     },
     "metadata": {},
     "output_type": "display_data"
    },
    {
     "data": {
      "application/vnd.jupyter.widget-view+json": {
       "model_id": "b7ea615493d8450f83b1c54a56bba401",
       "version_major": 2,
       "version_minor": 0
      },
      "text/plain": [
       "Getting ROI info:   0%|          | 0/2 [00:00<?, ?it/s]"
      ]
     },
     "metadata": {},
     "output_type": "display_data"
    },
    {
     "data": {
      "application/vnd.jupyter.widget-view+json": {
       "model_id": "ce1fa7b68d8b414d8048a504c1c17c24",
       "version_major": 2,
       "version_minor": 0
      },
      "text/plain": [
       "Getting ROI info:   0%|          | 0/2 [00:00<?, ?it/s]"
      ]
     },
     "metadata": {},
     "output_type": "display_data"
    },
    {
     "data": {
      "application/vnd.jupyter.widget-view+json": {
       "model_id": "ff0d917f789a4e89b3e48a39dc3c8c2b",
       "version_major": 2,
       "version_minor": 0
      },
      "text/plain": [
       "Getting ROI info:   0%|          | 0/2 [00:00<?, ?it/s]"
      ]
     },
     "metadata": {},
     "output_type": "display_data"
    },
    {
     "data": {
      "application/vnd.jupyter.widget-view+json": {
       "model_id": "fe6bc13d4f44421c86cb3ecae2500a53",
       "version_major": 2,
       "version_minor": 0
      },
      "text/plain": [
       "Getting ROI info:   0%|          | 0/2 [00:00<?, ?it/s]"
      ]
     },
     "metadata": {},
     "output_type": "display_data"
    },
    {
     "data": {
      "application/vnd.jupyter.widget-view+json": {
       "model_id": "203740267ef948cbb55f71cae2fc49ea",
       "version_major": 2,
       "version_minor": 0
      },
      "text/plain": [
       "Getting ROI info:   0%|          | 0/2 [00:00<?, ?it/s]"
      ]
     },
     "metadata": {},
     "output_type": "display_data"
    },
    {
     "data": {
      "application/vnd.jupyter.widget-view+json": {
       "model_id": "3668d9cd30f3484da93de30db9d59998",
       "version_major": 2,
       "version_minor": 0
      },
      "text/plain": [
       "Getting ROI info:   0%|          | 0/2 [00:00<?, ?it/s]"
      ]
     },
     "metadata": {},
     "output_type": "display_data"
    },
    {
     "data": {
      "application/vnd.jupyter.widget-view+json": {
       "model_id": "69141e4270a34e0a9a2b9cc7eaf6c5c0",
       "version_major": 2,
       "version_minor": 0
      },
      "text/plain": [
       "Getting ROI info:   0%|          | 0/2 [00:00<?, ?it/s]"
      ]
     },
     "metadata": {},
     "output_type": "display_data"
    },
    {
     "data": {
      "application/vnd.jupyter.widget-view+json": {
       "model_id": "5561c56f3bd1466ab12fc0c701784d3e",
       "version_major": 2,
       "version_minor": 0
      },
      "text/plain": [
       "Getting ROI info:   0%|          | 0/2 [00:00<?, ?it/s]"
      ]
     },
     "metadata": {},
     "output_type": "display_data"
    },
    {
     "data": {
      "application/vnd.jupyter.widget-view+json": {
       "model_id": "d08473544d5c48c389587779cd3eb659",
       "version_major": 2,
       "version_minor": 0
      },
      "text/plain": [
       "Getting ROI info:   0%|          | 0/2 [00:00<?, ?it/s]"
      ]
     },
     "metadata": {},
     "output_type": "display_data"
    },
    {
     "data": {
      "application/vnd.jupyter.widget-view+json": {
       "model_id": "a4571b2d25574092b34892c66ec7707c",
       "version_major": 2,
       "version_minor": 0
      },
      "text/plain": [
       "Getting ROI info:   0%|          | 0/2 [00:00<?, ?it/s]"
      ]
     },
     "metadata": {},
     "output_type": "display_data"
    },
    {
     "data": {
      "application/vnd.jupyter.widget-view+json": {
       "model_id": "aa48bdbc903648638db8b79f58b3fbe5",
       "version_major": 2,
       "version_minor": 0
      },
      "text/plain": [
       "Getting ROI info:   0%|          | 0/2 [00:00<?, ?it/s]"
      ]
     },
     "metadata": {},
     "output_type": "display_data"
    },
    {
     "data": {
      "application/vnd.jupyter.widget-view+json": {
       "model_id": "53df3f7d64004f15a259887bb4c08acb",
       "version_major": 2,
       "version_minor": 0
      },
      "text/plain": [
       "Getting ROI info:   0%|          | 0/2 [00:00<?, ?it/s]"
      ]
     },
     "metadata": {},
     "output_type": "display_data"
    },
    {
     "data": {
      "application/vnd.jupyter.widget-view+json": {
       "model_id": "d521368b0d3e44389cae4eae2577fad9",
       "version_major": 2,
       "version_minor": 0
      },
      "text/plain": [
       "Getting ROI info:   0%|          | 0/2 [00:00<?, ?it/s]"
      ]
     },
     "metadata": {},
     "output_type": "display_data"
    },
    {
     "data": {
      "application/vnd.jupyter.widget-view+json": {
       "model_id": "93e8716c677649e693dd01bacf6f43b3",
       "version_major": 2,
       "version_minor": 0
      },
      "text/plain": [
       "Getting ROI info:   0%|          | 0/2 [00:00<?, ?it/s]"
      ]
     },
     "metadata": {},
     "output_type": "display_data"
    },
    {
     "data": {
      "application/vnd.jupyter.widget-view+json": {
       "model_id": "c4c308a29f204595b027668a2481b626",
       "version_major": 2,
       "version_minor": 0
      },
      "text/plain": [
       "Getting ROI info:   0%|          | 0/2 [00:00<?, ?it/s]"
      ]
     },
     "metadata": {},
     "output_type": "display_data"
    },
    {
     "data": {
      "application/vnd.jupyter.widget-view+json": {
       "model_id": "fbb5c25f394b4a25bd5343deafd209ba",
       "version_major": 2,
       "version_minor": 0
      },
      "text/plain": [
       "Getting ROI info:   0%|          | 0/2 [00:00<?, ?it/s]"
      ]
     },
     "metadata": {},
     "output_type": "display_data"
    },
    {
     "data": {
      "application/vnd.jupyter.widget-view+json": {
       "model_id": "c6fc9b951b454b058ce92f85852b28ba",
       "version_major": 2,
       "version_minor": 0
      },
      "text/plain": [
       "Getting ROI info:   0%|          | 0/2 [00:00<?, ?it/s]"
      ]
     },
     "metadata": {},
     "output_type": "display_data"
    },
    {
     "data": {
      "application/vnd.jupyter.widget-view+json": {
       "model_id": "067c3ac677474fff9001831d8da471a0",
       "version_major": 2,
       "version_minor": 0
      },
      "text/plain": [
       "Getting ROI info:   0%|          | 0/2 [00:00<?, ?it/s]"
      ]
     },
     "metadata": {},
     "output_type": "display_data"
    },
    {
     "data": {
      "application/vnd.jupyter.widget-view+json": {
       "model_id": "079024959e824458971f54f1c6ac4aaa",
       "version_major": 2,
       "version_minor": 0
      },
      "text/plain": [
       "Getting ROI info:   0%|          | 0/2 [00:00<?, ?it/s]"
      ]
     },
     "metadata": {},
     "output_type": "display_data"
    },
    {
     "data": {
      "application/vnd.jupyter.widget-view+json": {
       "model_id": "319c58a2b26544f6aef4a86840ee408d",
       "version_major": 2,
       "version_minor": 0
      },
      "text/plain": [
       "Getting ROI info:   0%|          | 0/2 [00:00<?, ?it/s]"
      ]
     },
     "metadata": {},
     "output_type": "display_data"
    },
    {
     "data": {
      "application/vnd.jupyter.widget-view+json": {
       "model_id": "6def5f12f8894b91936546cf632ab2a6",
       "version_major": 2,
       "version_minor": 0
      },
      "text/plain": [
       "Getting ROI info:   0%|          | 0/2 [00:00<?, ?it/s]"
      ]
     },
     "metadata": {},
     "output_type": "display_data"
    },
    {
     "data": {
      "application/vnd.jupyter.widget-view+json": {
       "model_id": "fccb91568f2d4bf78714b93f1a95a716",
       "version_major": 2,
       "version_minor": 0
      },
      "text/plain": [
       "Getting ROI info:   0%|          | 0/2 [00:00<?, ?it/s]"
      ]
     },
     "metadata": {},
     "output_type": "display_data"
    },
    {
     "data": {
      "application/vnd.jupyter.widget-view+json": {
       "model_id": "8246919fda4c444384f590cbc5333f8b",
       "version_major": 2,
       "version_minor": 0
      },
      "text/plain": [
       "Getting ROI info:   0%|          | 0/2 [00:00<?, ?it/s]"
      ]
     },
     "metadata": {},
     "output_type": "display_data"
    },
    {
     "data": {
      "application/vnd.jupyter.widget-view+json": {
       "model_id": "dc75aebb9e3e41f79b2c440642fde739",
       "version_major": 2,
       "version_minor": 0
      },
      "text/plain": [
       "Getting ROI info:   0%|          | 0/2 [00:00<?, ?it/s]"
      ]
     },
     "metadata": {},
     "output_type": "display_data"
    },
    {
     "data": {
      "application/vnd.jupyter.widget-view+json": {
       "model_id": "152e5ffcb5ef4824a1e40aacdc3036b8",
       "version_major": 2,
       "version_minor": 0
      },
      "text/plain": [
       "Getting ROI info:   0%|          | 0/2 [00:00<?, ?it/s]"
      ]
     },
     "metadata": {},
     "output_type": "display_data"
    },
    {
     "data": {
      "application/vnd.jupyter.widget-view+json": {
       "model_id": "12ddea70c6aa4705ab13ac6f7fb5c113",
       "version_major": 2,
       "version_minor": 0
      },
      "text/plain": [
       "Getting ROI info:   0%|          | 0/2 [00:00<?, ?it/s]"
      ]
     },
     "metadata": {},
     "output_type": "display_data"
    },
    {
     "data": {
      "application/vnd.jupyter.widget-view+json": {
       "model_id": "48c3c72745744ed2a24d6c272654f37e",
       "version_major": 2,
       "version_minor": 0
      },
      "text/plain": [
       "Getting ROI info:   0%|          | 0/2 [00:00<?, ?it/s]"
      ]
     },
     "metadata": {},
     "output_type": "display_data"
    },
    {
     "data": {
      "application/vnd.jupyter.widget-view+json": {
       "model_id": "2291ed11cb384ef1a49c2d37b5c77729",
       "version_major": 2,
       "version_minor": 0
      },
      "text/plain": [
       "Getting ROI info:   0%|          | 0/2 [00:00<?, ?it/s]"
      ]
     },
     "metadata": {},
     "output_type": "display_data"
    },
    {
     "data": {
      "application/vnd.jupyter.widget-view+json": {
       "model_id": "5170ea8270bf4222a2f20cdb4330488e",
       "version_major": 2,
       "version_minor": 0
      },
      "text/plain": [
       "Getting ROI info:   0%|          | 0/2 [00:00<?, ?it/s]"
      ]
     },
     "metadata": {},
     "output_type": "display_data"
    },
    {
     "data": {
      "application/vnd.jupyter.widget-view+json": {
       "model_id": "fdb0beb1ccf642edaac67744b31466a8",
       "version_major": 2,
       "version_minor": 0
      },
      "text/plain": [
       "Getting ROI info:   0%|          | 0/2 [00:00<?, ?it/s]"
      ]
     },
     "metadata": {},
     "output_type": "display_data"
    },
    {
     "data": {
      "application/vnd.jupyter.widget-view+json": {
       "model_id": "8f4fd94bff024c63b1b0b55ab80134c2",
       "version_major": 2,
       "version_minor": 0
      },
      "text/plain": [
       "Getting ROI info:   0%|          | 0/2 [00:00<?, ?it/s]"
      ]
     },
     "metadata": {},
     "output_type": "display_data"
    },
    {
     "data": {
      "application/vnd.jupyter.widget-view+json": {
       "model_id": "fdb6711d94a5455f9e819a7aaad15218",
       "version_major": 2,
       "version_minor": 0
      },
      "text/plain": [
       "Getting ROI info:   0%|          | 0/2 [00:00<?, ?it/s]"
      ]
     },
     "metadata": {},
     "output_type": "display_data"
    },
    {
     "data": {
      "application/vnd.jupyter.widget-view+json": {
       "model_id": "fa0bc8312a794fb4a3011db22c764f4d",
       "version_major": 2,
       "version_minor": 0
      },
      "text/plain": [
       "Getting ROI info:   0%|          | 0/2 [00:00<?, ?it/s]"
      ]
     },
     "metadata": {},
     "output_type": "display_data"
    },
    {
     "data": {
      "application/vnd.jupyter.widget-view+json": {
       "model_id": "8de7d3f9abdc4a158e41c183e667b484",
       "version_major": 2,
       "version_minor": 0
      },
      "text/plain": [
       "Getting ROI info:   0%|          | 0/2 [00:00<?, ?it/s]"
      ]
     },
     "metadata": {},
     "output_type": "display_data"
    },
    {
     "data": {
      "application/vnd.jupyter.widget-view+json": {
       "model_id": "22eaea48e872458789bc6acb7303fa31",
       "version_major": 2,
       "version_minor": 0
      },
      "text/plain": [
       "Getting ROI info:   0%|          | 0/2 [00:00<?, ?it/s]"
      ]
     },
     "metadata": {},
     "output_type": "display_data"
    },
    {
     "data": {
      "application/vnd.jupyter.widget-view+json": {
       "model_id": "886893806cc04df3b122f8f5a4774760",
       "version_major": 2,
       "version_minor": 0
      },
      "text/plain": [
       "Getting ROI info:   0%|          | 0/2 [00:00<?, ?it/s]"
      ]
     },
     "metadata": {},
     "output_type": "display_data"
    },
    {
     "data": {
      "application/vnd.jupyter.widget-view+json": {
       "model_id": "0fd57c7c76464dd39cd2a3d3e8ef7fec",
       "version_major": 2,
       "version_minor": 0
      },
      "text/plain": [
       "Getting ROI info:   0%|          | 0/2 [00:00<?, ?it/s]"
      ]
     },
     "metadata": {},
     "output_type": "display_data"
    },
    {
     "data": {
      "application/vnd.jupyter.widget-view+json": {
       "model_id": "6584ead06c2a4ec294d390348d8d6973",
       "version_major": 2,
       "version_minor": 0
      },
      "text/plain": [
       "Getting ROI info:   0%|          | 0/2 [00:00<?, ?it/s]"
      ]
     },
     "metadata": {},
     "output_type": "display_data"
    },
    {
     "data": {
      "application/vnd.jupyter.widget-view+json": {
       "model_id": "47b33724b8324a94a6615c84a9c7e125",
       "version_major": 2,
       "version_minor": 0
      },
      "text/plain": [
       "Getting ROI info:   0%|          | 0/2 [00:00<?, ?it/s]"
      ]
     },
     "metadata": {},
     "output_type": "display_data"
    },
    {
     "data": {
      "application/vnd.jupyter.widget-view+json": {
       "model_id": "ec175bd0a9a142bea78ceca99a18821a",
       "version_major": 2,
       "version_minor": 0
      },
      "text/plain": [
       "Getting ROI info:   0%|          | 0/2 [00:00<?, ?it/s]"
      ]
     },
     "metadata": {},
     "output_type": "display_data"
    },
    {
     "data": {
      "application/vnd.jupyter.widget-view+json": {
       "model_id": "765753cf6dcc498688995c2abf92b58a",
       "version_major": 2,
       "version_minor": 0
      },
      "text/plain": [
       "Getting ROI info:   0%|          | 0/2 [00:00<?, ?it/s]"
      ]
     },
     "metadata": {},
     "output_type": "display_data"
    },
    {
     "data": {
      "application/vnd.jupyter.widget-view+json": {
       "model_id": "486742306c554dd68a01501b0882c0eb",
       "version_major": 2,
       "version_minor": 0
      },
      "text/plain": [
       "Getting ROI info:   0%|          | 0/2 [00:00<?, ?it/s]"
      ]
     },
     "metadata": {},
     "output_type": "display_data"
    },
    {
     "data": {
      "application/vnd.jupyter.widget-view+json": {
       "model_id": "d6b6b12946d847a18fe67ae0800619b8",
       "version_major": 2,
       "version_minor": 0
      },
      "text/plain": [
       "Getting ROI info:   0%|          | 0/2 [00:00<?, ?it/s]"
      ]
     },
     "metadata": {},
     "output_type": "display_data"
    },
    {
     "data": {
      "application/vnd.jupyter.widget-view+json": {
       "model_id": "fc7cdb9d807841b59070f3ae020d4f4e",
       "version_major": 2,
       "version_minor": 0
      },
      "text/plain": [
       "Getting ROI info:   0%|          | 0/2 [00:00<?, ?it/s]"
      ]
     },
     "metadata": {},
     "output_type": "display_data"
    },
    {
     "data": {
      "application/vnd.jupyter.widget-view+json": {
       "model_id": "ee99236cf1884604999fedd5de9a6e98",
       "version_major": 2,
       "version_minor": 0
      },
      "text/plain": [
       "Getting ROI info:   0%|          | 0/2 [00:00<?, ?it/s]"
      ]
     },
     "metadata": {},
     "output_type": "display_data"
    },
    {
     "data": {
      "application/vnd.jupyter.widget-view+json": {
       "model_id": "91515861366f4a99931f96a2d16ab10e",
       "version_major": 2,
       "version_minor": 0
      },
      "text/plain": [
       "Getting ROI info:   0%|          | 0/2 [00:00<?, ?it/s]"
      ]
     },
     "metadata": {},
     "output_type": "display_data"
    },
    {
     "data": {
      "application/vnd.jupyter.widget-view+json": {
       "model_id": "9522add5876a48b991ec47a2c612f25f",
       "version_major": 2,
       "version_minor": 0
      },
      "text/plain": [
       "Getting ROI info:   0%|          | 0/2 [00:00<?, ?it/s]"
      ]
     },
     "metadata": {},
     "output_type": "display_data"
    },
    {
     "data": {
      "application/vnd.jupyter.widget-view+json": {
       "model_id": "c9403a4d65384991aeb652dca156192c",
       "version_major": 2,
       "version_minor": 0
      },
      "text/plain": [
       "Getting ROI info:   0%|          | 0/2 [00:00<?, ?it/s]"
      ]
     },
     "metadata": {},
     "output_type": "display_data"
    },
    {
     "data": {
      "application/vnd.jupyter.widget-view+json": {
       "model_id": "c9f50ac60c984dd0903eb682a34c6b5b",
       "version_major": 2,
       "version_minor": 0
      },
      "text/plain": [
       "Getting ROI info:   0%|          | 0/2 [00:00<?, ?it/s]"
      ]
     },
     "metadata": {},
     "output_type": "display_data"
    },
    {
     "data": {
      "application/vnd.jupyter.widget-view+json": {
       "model_id": "5c1321c27bc247be8191999d60fe3c19",
       "version_major": 2,
       "version_minor": 0
      },
      "text/plain": [
       "Getting ROI info:   0%|          | 0/2 [00:00<?, ?it/s]"
      ]
     },
     "metadata": {},
     "output_type": "display_data"
    },
    {
     "data": {
      "application/vnd.jupyter.widget-view+json": {
       "model_id": "3ab34729f7254e0c8b667fa0a64d426c",
       "version_major": 2,
       "version_minor": 0
      },
      "text/plain": [
       "Getting ROI info:   0%|          | 0/2 [00:00<?, ?it/s]"
      ]
     },
     "metadata": {},
     "output_type": "display_data"
    },
    {
     "data": {
      "application/vnd.jupyter.widget-view+json": {
       "model_id": "3217163cea4148e3b7c1987c08ed63da",
       "version_major": 2,
       "version_minor": 0
      },
      "text/plain": [
       "Getting ROI info:   0%|          | 0/2 [00:00<?, ?it/s]"
      ]
     },
     "metadata": {},
     "output_type": "display_data"
    },
    {
     "data": {
      "application/vnd.jupyter.widget-view+json": {
       "model_id": "8a55194ab6ca4c7ab6bd1abb35eaa8bc",
       "version_major": 2,
       "version_minor": 0
      },
      "text/plain": [
       "Getting ROI info:   0%|          | 0/2 [00:00<?, ?it/s]"
      ]
     },
     "metadata": {},
     "output_type": "display_data"
    },
    {
     "data": {
      "application/vnd.jupyter.widget-view+json": {
       "model_id": "68e343b3bb33456999136be42192ae9f",
       "version_major": 2,
       "version_minor": 0
      },
      "text/plain": [
       "Getting ROI info:   0%|          | 0/2 [00:00<?, ?it/s]"
      ]
     },
     "metadata": {},
     "output_type": "display_data"
    },
    {
     "data": {
      "application/vnd.jupyter.widget-view+json": {
       "model_id": "140bc3dbce0a4333a5e061dfc4d417cc",
       "version_major": 2,
       "version_minor": 0
      },
      "text/plain": [
       "Getting ROI info:   0%|          | 0/2 [00:00<?, ?it/s]"
      ]
     },
     "metadata": {},
     "output_type": "display_data"
    },
    {
     "data": {
      "application/vnd.jupyter.widget-view+json": {
       "model_id": "82a6fa94bf664374b6515496df119f8d",
       "version_major": 2,
       "version_minor": 0
      },
      "text/plain": [
       "Getting ROI info:   0%|          | 0/2 [00:00<?, ?it/s]"
      ]
     },
     "metadata": {},
     "output_type": "display_data"
    },
    {
     "data": {
      "application/vnd.jupyter.widget-view+json": {
       "model_id": "fed60f6205d145c3894204dec8557a8d",
       "version_major": 2,
       "version_minor": 0
      },
      "text/plain": [
       "Getting ROI info:   0%|          | 0/2 [00:00<?, ?it/s]"
      ]
     },
     "metadata": {},
     "output_type": "display_data"
    },
    {
     "data": {
      "application/vnd.jupyter.widget-view+json": {
       "model_id": "43cbb7322b0246369ae9ee7a26f70881",
       "version_major": 2,
       "version_minor": 0
      },
      "text/plain": [
       "Getting ROI info:   0%|          | 0/2 [00:00<?, ?it/s]"
      ]
     },
     "metadata": {},
     "output_type": "display_data"
    },
    {
     "data": {
      "application/vnd.jupyter.widget-view+json": {
       "model_id": "c84e2917d5bd4c7faa0453b611311b70",
       "version_major": 2,
       "version_minor": 0
      },
      "text/plain": [
       "Getting ROI info:   0%|          | 0/2 [00:00<?, ?it/s]"
      ]
     },
     "metadata": {},
     "output_type": "display_data"
    },
    {
     "data": {
      "application/vnd.jupyter.widget-view+json": {
       "model_id": "43e8b1985d404e0d8ad25a74710fc54b",
       "version_major": 2,
       "version_minor": 0
      },
      "text/plain": [
       "Getting ROI info:   0%|          | 0/2 [00:00<?, ?it/s]"
      ]
     },
     "metadata": {},
     "output_type": "display_data"
    },
    {
     "data": {
      "application/vnd.jupyter.widget-view+json": {
       "model_id": "bc3d29afc99e4ca79cd8026d7420a968",
       "version_major": 2,
       "version_minor": 0
      },
      "text/plain": [
       "Getting ROI info:   0%|          | 0/2 [00:00<?, ?it/s]"
      ]
     },
     "metadata": {},
     "output_type": "display_data"
    },
    {
     "data": {
      "application/vnd.jupyter.widget-view+json": {
       "model_id": "0e35727d59814b8b9a52359662e5c69b",
       "version_major": 2,
       "version_minor": 0
      },
      "text/plain": [
       "Getting ROI info:   0%|          | 0/2 [00:00<?, ?it/s]"
      ]
     },
     "metadata": {},
     "output_type": "display_data"
    },
    {
     "data": {
      "application/vnd.jupyter.widget-view+json": {
       "model_id": "0b8fe983ae71431c952317fe5d441672",
       "version_major": 2,
       "version_minor": 0
      },
      "text/plain": [
       "Getting ROI info:   0%|          | 0/2 [00:00<?, ?it/s]"
      ]
     },
     "metadata": {},
     "output_type": "display_data"
    },
    {
     "data": {
      "application/vnd.jupyter.widget-view+json": {
       "model_id": "f3694618d83549bf86416a1d1997ba45",
       "version_major": 2,
       "version_minor": 0
      },
      "text/plain": [
       "Getting ROI info:   0%|          | 0/2 [00:00<?, ?it/s]"
      ]
     },
     "metadata": {},
     "output_type": "display_data"
    },
    {
     "data": {
      "application/vnd.jupyter.widget-view+json": {
       "model_id": "9c00af9ac0384bbbaf0ebfaee39a6c2c",
       "version_major": 2,
       "version_minor": 0
      },
      "text/plain": [
       "Getting ROI info:   0%|          | 0/2 [00:00<?, ?it/s]"
      ]
     },
     "metadata": {},
     "output_type": "display_data"
    },
    {
     "data": {
      "application/vnd.jupyter.widget-view+json": {
       "model_id": "a9e55ffb70724e01bdbba0faaf6f3007",
       "version_major": 2,
       "version_minor": 0
      },
      "text/plain": [
       "Getting ROI info:   0%|          | 0/2 [00:00<?, ?it/s]"
      ]
     },
     "metadata": {},
     "output_type": "display_data"
    },
    {
     "data": {
      "application/vnd.jupyter.widget-view+json": {
       "model_id": "a55702860a254cdc9a2a4d6237c83145",
       "version_major": 2,
       "version_minor": 0
      },
      "text/plain": [
       "Getting ROI info:   0%|          | 0/2 [00:00<?, ?it/s]"
      ]
     },
     "metadata": {},
     "output_type": "display_data"
    },
    {
     "data": {
      "application/vnd.jupyter.widget-view+json": {
       "model_id": "910f2d7503c64fb6b926aed23c8584cc",
       "version_major": 2,
       "version_minor": 0
      },
      "text/plain": [
       "Getting ROI info:   0%|          | 0/2 [00:00<?, ?it/s]"
      ]
     },
     "metadata": {},
     "output_type": "display_data"
    },
    {
     "data": {
      "application/vnd.jupyter.widget-view+json": {
       "model_id": "50831f26914e447397b3dec7bebe91bd",
       "version_major": 2,
       "version_minor": 0
      },
      "text/plain": [
       "Getting ROI info:   0%|          | 0/2 [00:00<?, ?it/s]"
      ]
     },
     "metadata": {},
     "output_type": "display_data"
    },
    {
     "data": {
      "application/vnd.jupyter.widget-view+json": {
       "model_id": "aed417156152450288d46e8fd9e3f726",
       "version_major": 2,
       "version_minor": 0
      },
      "text/plain": [
       "Getting ROI info:   0%|          | 0/2 [00:00<?, ?it/s]"
      ]
     },
     "metadata": {},
     "output_type": "display_data"
    },
    {
     "data": {
      "application/vnd.jupyter.widget-view+json": {
       "model_id": "14e1d100708848049864f9899550afc8",
       "version_major": 2,
       "version_minor": 0
      },
      "text/plain": [
       "Getting ROI info:   0%|          | 0/2 [00:00<?, ?it/s]"
      ]
     },
     "metadata": {},
     "output_type": "display_data"
    },
    {
     "data": {
      "application/vnd.jupyter.widget-view+json": {
       "model_id": "db1bbacde2b54608a08617f59d828bea",
       "version_major": 2,
       "version_minor": 0
      },
      "text/plain": [
       "Getting ROI info:   0%|          | 0/2 [00:00<?, ?it/s]"
      ]
     },
     "metadata": {},
     "output_type": "display_data"
    },
    {
     "data": {
      "application/vnd.jupyter.widget-view+json": {
       "model_id": "6a6999dfb66943b7abf2985b383f0a48",
       "version_major": 2,
       "version_minor": 0
      },
      "text/plain": [
       "Getting ROI info:   0%|          | 0/2 [00:00<?, ?it/s]"
      ]
     },
     "metadata": {},
     "output_type": "display_data"
    },
    {
     "data": {
      "application/vnd.jupyter.widget-view+json": {
       "model_id": "9cb4a9ed31d74f139a3b80dcc1270a74",
       "version_major": 2,
       "version_minor": 0
      },
      "text/plain": [
       "Getting ROI info:   0%|          | 0/2 [00:00<?, ?it/s]"
      ]
     },
     "metadata": {},
     "output_type": "display_data"
    },
    {
     "data": {
      "application/vnd.jupyter.widget-view+json": {
       "model_id": "5460ce4482de45ca89d2f0a473c11c7c",
       "version_major": 2,
       "version_minor": 0
      },
      "text/plain": [
       "Getting ROI info:   0%|          | 0/2 [00:00<?, ?it/s]"
      ]
     },
     "metadata": {},
     "output_type": "display_data"
    },
    {
     "data": {
      "application/vnd.jupyter.widget-view+json": {
       "model_id": "bd1c9bf756d7461c944fb915720dec3d",
       "version_major": 2,
       "version_minor": 0
      },
      "text/plain": [
       "Getting ROI info:   0%|          | 0/2 [00:00<?, ?it/s]"
      ]
     },
     "metadata": {},
     "output_type": "display_data"
    },
    {
     "data": {
      "application/vnd.jupyter.widget-view+json": {
       "model_id": "07394a6b6cb24600b92db4ed9b9b8a3c",
       "version_major": 2,
       "version_minor": 0
      },
      "text/plain": [
       "Getting ROI info:   0%|          | 0/2 [00:00<?, ?it/s]"
      ]
     },
     "metadata": {},
     "output_type": "display_data"
    },
    {
     "data": {
      "application/vnd.jupyter.widget-view+json": {
       "model_id": "3de17c11b29b44f291ce43e372230cb3",
       "version_major": 2,
       "version_minor": 0
      },
      "text/plain": [
       "Getting ROI info:   0%|          | 0/2 [00:00<?, ?it/s]"
      ]
     },
     "metadata": {},
     "output_type": "display_data"
    },
    {
     "data": {
      "application/vnd.jupyter.widget-view+json": {
       "model_id": "5eee664f203a464a9adfb0268b39539b",
       "version_major": 2,
       "version_minor": 0
      },
      "text/plain": [
       "Getting ROI info:   0%|          | 0/2 [00:00<?, ?it/s]"
      ]
     },
     "metadata": {},
     "output_type": "display_data"
    },
    {
     "data": {
      "application/vnd.jupyter.widget-view+json": {
       "model_id": "6dde628ff9f243439149242b716880c2",
       "version_major": 2,
       "version_minor": 0
      },
      "text/plain": [
       "Getting ROI info:   0%|          | 0/2 [00:00<?, ?it/s]"
      ]
     },
     "metadata": {},
     "output_type": "display_data"
    },
    {
     "data": {
      "application/vnd.jupyter.widget-view+json": {
       "model_id": "02dd43d7a9b644d6b72b0742a9f9af77",
       "version_major": 2,
       "version_minor": 0
      },
      "text/plain": [
       "Getting ROI info:   0%|          | 0/2 [00:00<?, ?it/s]"
      ]
     },
     "metadata": {},
     "output_type": "display_data"
    },
    {
     "data": {
      "application/vnd.jupyter.widget-view+json": {
       "model_id": "875a309e09e645e2891af8715a8572e9",
       "version_major": 2,
       "version_minor": 0
      },
      "text/plain": [
       "Getting ROI info:   0%|          | 0/2 [00:00<?, ?it/s]"
      ]
     },
     "metadata": {},
     "output_type": "display_data"
    },
    {
     "data": {
      "application/vnd.jupyter.widget-view+json": {
       "model_id": "44694e77954b4b12b777763e7e82bb69",
       "version_major": 2,
       "version_minor": 0
      },
      "text/plain": [
       "Getting ROI info:   0%|          | 0/2 [00:00<?, ?it/s]"
      ]
     },
     "metadata": {},
     "output_type": "display_data"
    },
    {
     "name": "stdout",
     "output_type": "stream",
     "text": [
      "Execution time in seconds: 100.3078281879425\n"
     ]
    }
   ],
   "source": [
    "\n",
    "startTime = time.time()\n",
    "predicted_dns = ps.networks.diffusive_size_factor_DNS(regions,\n",
    "                                                    throat_conns=conns,\n",
    "                                                         voxel_size = voxel_size)\n",
    "executionTime_dns = (time.time() - startTime)\n",
    "print('Execution time in seconds: ' + str(executionTime_dns))"
   ]
  },
  {
   "cell_type": "markdown",
   "id": "85589a57",
   "metadata": {},
   "source": [
    "Now that you have the region, you can use it for prediction. \n",
    "\n",
    "Once the values are predicted, you can save them ih hdf5 format for later use. \n",
    "\n",
    "For example:\n",
    "    \n",
    "    The cell below creates the datasets (Float type) of \"predicted_ai\" values"
   ]
  },
  {
   "cell_type": "markdown",
   "id": "0bef9a82",
   "metadata": {},
   "source": [
    "Similarly we create the dataset for \"predicted_dns\" values"
   ]
  },
  {
   "cell_type": "markdown",
   "id": "17a5ce22",
   "metadata": {},
   "source": [
    "The cell below plots a 2D demosntration of the 3D image on 2 respected exes if added 0\n",
    "\n",
    "[:,:,0] plots an image on x-y plane, while [:,0,:] plots the image on x-z plane\n"
   ]
  },
  {
   "cell_type": "markdown",
   "id": "434e07a0",
   "metadata": {},
   "source": [
    "Finally we plot the Comparison between AI results and DNS predicted results.\n",
    "\n",
    "This helps us to understand the deviation between the two and also mesaure the accuracy and the correctness of the results"
   ]
  },
  {
   "cell_type": "code",
   "execution_count": 19,
   "id": "4f9033ac",
   "metadata": {},
   "outputs": [
    {
     "data": {
      "image/png": "[encoded data removed]",
      "text/plain": [
       "<Figure size 640x480 with 1 Axes>"
      ]
     },
     "metadata": {
      "image/png": {
       "height": 463,
       "width": 624
      }
     },
     "output_type": "display_data"
    }
   ],
   "source": [
    "\n",
    "# plt.plot(Ai_values, DNS_values, '*')\n",
    "plt.plot(Ai_values, DNS_values, '*', [0, 80], [0, 80], 'r')\n",
    "plt.title(r'$R^2$ = ' + str(np.round(r2_score(DNS_values, Ai_values), 2)));\n",
    "plt.xlabel('AI values')\n",
    "plt.ylabel('DNS values')\n",
    "plt.savefig(path+'/prediction')"
   ]
  }
 ],
 "metadata": {
  "kernelspec": {
   "display_name": "tensorflow-env",
   "language": "python",
   "name": "tensorflow-env"
  },
  "language_info": {
   "codemirror_mode": {
    "name": "ipython",
    "version": 3
   },
   "file_extension": ".py",
   "mimetype": "text/x-python",
   "name": "python",
   "nbconvert_exporter": "python",
   "pygments_lexer": "ipython3",
   "version": "3.9.15"
  }
 },
 "nbformat": 4,
 "nbformat_minor": 5
}
