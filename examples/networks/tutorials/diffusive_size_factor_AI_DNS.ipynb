{
 "cells": [
  {
   "cell_type": "markdown",
   "metadata": {},
   "source": [
    "# Using AI based diffusive size factors for extracted networks"
   ]
  },
  {
   "cell_type": "markdown",
   "metadata": {},
   "source": [
    "This notebook illustrates the use of the deep learning based diffusive conductance algorithm decribed [here](https://doi.org/10.1016/j.cageo.2022.105086). PoreSpy's `diffusive_size_factor_AI` includes the steps for predicting the diffusive size factors of the conduit images. Note that the diffusive conductance of the conduits can be then calculated by multiplying the size factor by diffusivity of the phase. The function takes in the images of segmented porous medium and returns an array of diffusive size factors for all conduits in the image. Therefore, the framework can be applied to both one conduit image as well as a segmented image of porous medium:"
   ]
  },
  {
   "cell_type": "markdown",
   "metadata": {},
   "source": [
    "<img src=\"https://user-images.githubusercontent.com/43128873/116145783-bd458380-a6ab-11eb-8103-fb9a93f0599c.png\" alt=\"PS_dl\" width=\"700\"/>"
   ]
  },
  {
   "cell_type": "markdown",
   "metadata": {},
   "source": [
    "# Trained model and supplementary materials\n",
    "To use the `diffusive_size_factor_AI`, the trained model, and training data distribution are required. The AI model files and additional files used in this example are available [here](https://dl.dropboxusercontent.com/s/jrq82twl0vwedy4/AI_example_data.rar?dl=0). The folder contains following files:\n",
    "\n",
    "- Trained model weights: This file includes only weights of the deep learning layers. To use this file, the Resnet50 model structure must be built first.\n",
    "- Trained data distribution: This file will be used in denormalizing predicted values based on normalized transform applied on training data. The denormalizing step is included in `diffusive_size_factor_AI` method.\n",
    "- Finite difference diffusive conductance: This file is used in this example to compare the prediction results with finite difference method for segmented regions\n",
    "- Pair of regions: This file is used in this example to compare the prediction results with finite difference method for a pair of regions"
   ]
  },
  {
   "cell_type": "markdown",
   "metadata": {},
   "source": [
    "Let's download the `tensorflow` files required to run this notebook:"
   ]
  },
  {
   "cell_type": "code",
   "execution_count": 1,
   "metadata": {},
   "outputs": [
    {
     "name": "stderr",
     "output_type": "stream",
     "text": [
      "2023-01-30 15:57:44.473928: I tensorflow/core/platform/cpu_feature_guard.cc:193] This TensorFlow binary is optimized with oneAPI Deep Neural Network Library (oneDNN) to use the following CPU instructions in performance-critical operations:  SSE4.1 SSE4.2\n",
      "To enable them in other operations, rebuild TensorFlow with the appropriate compiler flags.\n"
     ]
    }
   ],
   "source": [
    "import os\n",
    "\n",
    "if not os.path.exists(\"sf-model-lib\"):\n",
    "    !git clone https://github.com/PMEAL/sf-model-lib\n",
    "import tensorflow as tf"
   ]
  },
  {
   "cell_type": "markdown",
   "metadata": {},
   "source": [
    "Also, since the model weights have been stored in chunks, they need to be recombined first:"
   ]
  },
  {
   "cell_type": "code",
   "execution_count": 2,
   "metadata": {},
   "outputs": [],
   "source": [
    "import importlib\n",
    "h5tools = importlib.import_module(\"sf-model-lib.h5tools\")\n",
    "DIR_WEIGHTS = \"sf-model-lib/diffusion\"\n",
    "fname_in = [f\"{DIR_WEIGHTS}/model_weights_part{j}.h5\" for j in [0, 1]]\n",
    "h5tools.combine(fname_in, fname_out=f\"{DIR_WEIGHTS}/model_weights.h5\")"
   ]
  },
  {
   "cell_type": "markdown",
   "metadata": {},
   "source": [
    "Note that to use `diffusive_size_factor_AI`, [Scikit-learn](https://scikit-learn.org/stable/index.html?msclkid=9e175644bb2511ecb89dded5ce21b89f) and [Tensorflow](https://www.tensorflow.org/?msclkid=a5a214bdbb2511ecadd52383bd2650c1) must be installed. Import necessary packages and the AI model: "
   ]
  },
  {
   "cell_type": "code",
   "execution_count": 3,
   "metadata": {},
   "outputs": [
    {
     "name": "stderr",
     "output_type": "stream",
     "text": [
      "2023-01-30 15:57:51.557999: I tensorflow/core/platform/cpu_feature_guard.cc:193] This TensorFlow binary is optimized with oneAPI Deep Neural Network Library (oneDNN) to use the following CPU instructions in performance-critical operations:  SSE4.1 SSE4.2\n",
      "To enable them in other operations, rebuild TensorFlow with the appropriate compiler flags.\n"
     ]
    },
    {
     "data": {
      "text/html": [
       "<pre style=\"white-space:pre;overflow-x:auto;line-height:normal;font-family:Menlo,'DejaVu Sans Mono',consolas,'Courier New',monospace\"><span style=\"color: #7fbfbf; text-decoration-color: #7fbfbf\">[15:57:53] </span><span style=\"color: #800000; text-decoration-color: #800000\">WARNING </span> `lr` is deprecated, please use `learning_rate` instead, or use the legacy      <a href=\"file:///home/anaconda/mambaforge/envs/tensorflow_env/lib/python3.9/site-packages/keras/optimizers/optimizer_experimental/optimizer.py\" target=\"_blank\"><span style=\"color: #7f7f7f; text-decoration-color: #7f7f7f\">optimizer.py</span></a><span style=\"color: #7f7f7f; text-decoration-color: #7f7f7f\">:</span><a href=\"file:///home/anaconda/mambaforge/envs/tensorflow_env/lib/python3.9/site-packages/keras/optimizers/optimizer_experimental/optimizer.py#106\" target=\"_blank\"><span style=\"color: #7f7f7f; text-decoration-color: #7f7f7f\">106</span></a>\n",
       "<span style=\"color: #7fbfbf; text-decoration-color: #7fbfbf\">           </span>         optimizer, e.g.,tf.keras.optimizers.legacy.Adam.                               <span style=\"color: #7f7f7f; text-decoration-color: #7f7f7f\">                </span>\n",
       "</pre>\n"
      ],
      "text/plain": [
       "\u001b[2;36m[15:57:53]\u001b[0m\u001b[2;36m \u001b[0m\u001b[31mWARNING \u001b[0m `lr` is deprecated, please use `learning_rate` instead, or use the legacy      \u001b]8;id=754244;file:///home/anaconda/mambaforge/envs/tensorflow_env/lib/python3.9/site-packages/keras/optimizers/optimizer_experimental/optimizer.py\u001b\\\u001b[2moptimizer.py\u001b[0m\u001b]8;;\u001b\\\u001b[2m:\u001b[0m\u001b]8;id=624720;file:///home/anaconda/mambaforge/envs/tensorflow_env/lib/python3.9/site-packages/keras/optimizers/optimizer_experimental/optimizer.py#106\u001b\\\u001b[2m106\u001b[0m\u001b]8;;\u001b\\\n",
       "\u001b[2;36m           \u001b[0m         optimizer, e.g.,tf.keras.optimizers.legacy.Adam.                               \u001b[2m                \u001b[0m\n"
      ]
     },
     "metadata": {},
     "output_type": "display_data"
    }
   ],
   "source": [
    "import os\n",
    "import warnings\n",
    "\n",
    "import h5py\n",
    "import numpy as np\n",
    "import openpnm as op\n",
    "import porespy as ps\n",
    "import scipy as sp\n",
    "from matplotlib import pyplot as plt\n",
    "from sklearn.metrics import r2_score\n",
    "\n",
    "ps.visualization.set_mpl_style()\n",
    "warnings.filterwarnings(\"ignore\")\n",
    "path = \"./sf-model-lib/diffusion\"\n",
    "path_train = os.path.join(path, 'g_train_original.hdf5')\n",
    "path_weights = os.path.join(path, 'model_weights.h5')\n",
    "g_train = h5py.File(path_train, 'r')['g_train'][()]\n",
    "model = ps.networks.create_model()\n",
    "model.load_weights(path_weights)"
   ]
  },
  {
   "cell_type": "markdown",
   "metadata": {},
   "source": [
    "## Create test image"
   ]
  },
  {
   "cell_type": "markdown",
   "metadata": {},
   "source": [
    "We can create a 3D image using PoreSpy's `poly_disperese_spheres` generator:"
   ]
  },
  {
   "cell_type": "code",
   "execution_count": 4,
   "metadata": {},
   "outputs": [
    {
     "data": {
      "image/png": "[encoded data removed]",
      "text/plain": [
       "<Figure size 400x400 with 1 Axes>"
      ]
     },
     "metadata": {
      "image/png": {
       "height": 383,
       "width": 383
      }
     },
     "output_type": "display_data"
    }
   ],
   "source": [
    "np.random.seed(17)\n",
    "shape = [120, 120, 120]\n",
    "dist = sp.stats.norm(loc=7, scale=5)\n",
    "im = ps.generators.polydisperse_spheres(shape=shape,\n",
    "                                        porosity=0.7,\n",
    "                                        dist=dist,\n",
    "                                        r_min=7)\n",
    "fig, ax = plt.subplots(1, 1, figsize=[4, 4])\n",
    "ax.imshow(im[:, :, 20], origin='lower', interpolation='none')\n",
    "ax.axis(False);"
   ]
  },
  {
   "cell_type": "markdown",
   "metadata": {},
   "source": [
    "## Extract the network"
   ]
  },
  {
   "cell_type": "markdown",
   "metadata": {},
   "source": [
    "We then extract the pore network of the porous medium image using PoreSpy's `snow2` algorithm. `snow2` returns the segmented image of the porous medium as well as extracted network data."
   ]
  },
  {
   "cell_type": "code",
   "execution_count": 5,
   "metadata": {},
   "outputs": [
    {
     "data": {
      "application/vnd.jupyter.widget-view+json": {
       "model_id": "d94d9fef58cc4fa0b659db744b80d57a",
       "version_major": 2,
       "version_minor": 0
      },
      "text/plain": [
       "0it [00:00, ?it/s]"
      ]
     },
     "metadata": {},
     "output_type": "display_data"
    },
    {
     "data": {
      "application/vnd.jupyter.widget-view+json": {
       "model_id": "53f1c49a5895481c991fab7e8c8ef31f",
       "version_major": 2,
       "version_minor": 0
      },
      "text/plain": [
       "Extracting pore and throat properties:   0%|          | 0/199 [00:00<?, ?it/s]"
      ]
     },
     "metadata": {},
     "output_type": "display_data"
    }
   ],
   "source": [
    "snow = ps.networks.snow2(im, boundary_width=0, parallelization=None)\n",
    "regions = snow.regions\n",
    "net = snow.network"
   ]
  },
  {
   "cell_type": "markdown",
   "metadata": {},
   "source": [
    "## Apply diffusive_size_factor_AI"
   ]
  },
  {
   "cell_type": "markdown",
   "metadata": {},
   "source": [
    "AI_based diffusive size factors of conduits in the extracted network can then be calculated applying `diffusive_size_factor_AI` on the segmented regions. We can then define `throat.diffusive_size_factor_AI` property and assign the predicted size_factor to this property."
   ]
  },
  {
   "cell_type": "code",
   "execution_count": 6,
   "metadata": {},
   "outputs": [
    {
     "data": {
      "application/vnd.jupyter.widget-view+json": {
       "model_id": "b6cd7a3f9be44cbea095e562d89f61b4",
       "version_major": 2,
       "version_minor": 0
      },
      "text/plain": [
       "Preparing images tensor:   0%|          | 0/744 [00:00<?, ?it/s]"
      ]
     },
     "metadata": {},
     "output_type": "display_data"
    },
    {
     "name": "stdout",
     "output_type": "stream",
     "text": [
      "47/47 [==============================] - 43s 856ms/step\n"
     ]
    }
   ],
   "source": [
    "conns = net['throat.conns']\n",
    "size_factors = ps.networks.diffusive_size_factor_AI(regions,\n",
    "                                                    model=model,\n",
    "                                                    g_train=g_train,\n",
    "                                                    throat_conns=conns)\n",
    "net['throat.diffusive_size_factor_AI'] = size_factors"
   ]
  },
  {
   "cell_type": "markdown",
   "metadata": {},
   "source": [
    "## Compare with finite difference method"
   ]
  },
  {
   "cell_type": "code",
   "execution_count": 7,
   "metadata": {},
   "outputs": [
    {
     "data": {
      "application/vnd.jupyter.widget-view+json": {
       "model_id": "c7f73f88b3db4ffda56db408794657b8",
       "version_major": 2,
       "version_minor": 0
      },
      "text/plain": [
       "Preparing images and DNS calculations:   0%|          | 0/744 [00:00<?, ?it/s]"
      ]
     },
     "metadata": {},
     "output_type": "display_data"
    },
    {
     "data": {
      "application/vnd.jupyter.widget-view+json": {
       "model_id": "38e94a56d6ec41fb81ca9e93fbc1973f",
       "version_major": 2,
       "version_minor": 0
      },
      "text/plain": [
       "Getting ROI info:   0%|          | 0/2 [00:00<?, ?it/s]"
      ]
     },
     "metadata": {},
     "output_type": "display_data"
    },
    {
     "data": {
      "application/vnd.jupyter.widget-view+json": {
       "model_id": "9791077194cb474d9761614e678b8ad6",
       "version_major": 2,
       "version_minor": 0
      },
      "text/plain": [
       "Getting ROI info:   0%|          | 0/2 [00:00<?, ?it/s]"
      ]
     },
     "metadata": {},
     "output_type": "display_data"
    },
    {
     "data": {
      "application/vnd.jupyter.widget-view+json": {
       "model_id": "eddd2473e63e4d7b9ba66586fa130410",
       "version_major": 2,
       "version_minor": 0
      },
      "text/plain": [
       "Getting ROI info:   0%|          | 0/2 [00:00<?, ?it/s]"
      ]
     },
     "metadata": {},
     "output_type": "display_data"
    },
    {
     "data": {
      "application/vnd.jupyter.widget-view+json": {
       "model_id": "919ea52e72a94b8799407ffa808f3432",
       "version_major": 2,
       "version_minor": 0
      },
      "text/plain": [
       "Getting ROI info:   0%|          | 0/2 [00:00<?, ?it/s]"
      ]
     },
     "metadata": {},
     "output_type": "display_data"
    },
    {
     "data": {
      "application/vnd.jupyter.widget-view+json": {
       "model_id": "7115a8931ef44e809fcc21a3add7a34b",
       "version_major": 2,
       "version_minor": 0
      },
      "text/plain": [
       "Getting ROI info:   0%|          | 0/2 [00:00<?, ?it/s]"
      ]
     },
     "metadata": {},
     "output_type": "display_data"
    },
    {
     "data": {
      "application/vnd.jupyter.widget-view+json": {
       "model_id": "85486396d2ff4db684c0613e95e5e091",
       "version_major": 2,
       "version_minor": 0
      },
      "text/plain": [
       "Getting ROI info:   0%|          | 0/2 [00:00<?, ?it/s]"
      ]
     },
     "metadata": {},
     "output_type": "display_data"
    },
    {
     "data": {
      "application/vnd.jupyter.widget-view+json": {
       "model_id": "eecb7804e5a14432a2dd4a341f327f55",
       "version_major": 2,
       "version_minor": 0
      },
      "text/plain": [
       "Getting ROI info:   0%|          | 0/2 [00:00<?, ?it/s]"
      ]
     },
     "metadata": {},
     "output_type": "display_data"
    },
    {
     "data": {
      "application/vnd.jupyter.widget-view+json": {
       "model_id": "4a859e45f20d4545b98d75592d262512",
       "version_major": 2,
       "version_minor": 0
      },
      "text/plain": [
       "Getting ROI info:   0%|          | 0/2 [00:00<?, ?it/s]"
      ]
     },
     "metadata": {},
     "output_type": "display_data"
    },
    {
     "data": {
      "application/vnd.jupyter.widget-view+json": {
       "model_id": "d8a01f45a9694e7092b5a2391bc98722",
       "version_major": 2,
       "version_minor": 0
      },
      "text/plain": [
       "Getting ROI info:   0%|          | 0/2 [00:00<?, ?it/s]"
      ]
     },
     "metadata": {},
     "output_type": "display_data"
    },
    {
     "data": {
      "application/vnd.jupyter.widget-view+json": {
       "model_id": "c189c47ffd2249f8a17cb1543af0851c",
       "version_major": 2,
       "version_minor": 0
      },
      "text/plain": [
       "Getting ROI info:   0%|          | 0/2 [00:00<?, ?it/s]"
      ]
     },
     "metadata": {},
     "output_type": "display_data"
    },
    {
     "data": {
      "application/vnd.jupyter.widget-view+json": {
       "model_id": "104b3b8ae1f1427ca60a6cf6324531bc",
       "version_major": 2,
       "version_minor": 0
      },
      "text/plain": [
       "Getting ROI info:   0%|          | 0/2 [00:00<?, ?it/s]"
      ]
     },
     "metadata": {},
     "output_type": "display_data"
    },
    {
     "data": {
      "application/vnd.jupyter.widget-view+json": {
       "model_id": "d2116d27726e4fbcb4f0d9784e578710",
       "version_major": 2,
       "version_minor": 0
      },
      "text/plain": [
       "Getting ROI info:   0%|          | 0/2 [00:00<?, ?it/s]"
      ]
     },
     "metadata": {},
     "output_type": "display_data"
    },
    {
     "data": {
      "application/vnd.jupyter.widget-view+json": {
       "model_id": "cd91878364fb42bdbc3d64791537c834",
       "version_major": 2,
       "version_minor": 0
      },
      "text/plain": [
       "Getting ROI info:   0%|          | 0/2 [00:00<?, ?it/s]"
      ]
     },
     "metadata": {},
     "output_type": "display_data"
    },
    {
     "data": {
      "application/vnd.jupyter.widget-view+json": {
       "model_id": "fd821aeb2b374ce1b1c6bed8bdc78e66",
       "version_major": 2,
       "version_minor": 0
      },
      "text/plain": [
       "Getting ROI info:   0%|          | 0/2 [00:00<?, ?it/s]"
      ]
     },
     "metadata": {},
     "output_type": "display_data"
    },
    {
     "data": {
      "application/vnd.jupyter.widget-view+json": {
       "model_id": "22e0cb3218254dd5bdc142b62edbf6fb",
       "version_major": 2,
       "version_minor": 0
      },
      "text/plain": [
       "Getting ROI info:   0%|          | 0/2 [00:00<?, ?it/s]"
      ]
     },
     "metadata": {},
     "output_type": "display_data"
    },
    {
     "data": {
      "application/vnd.jupyter.widget-view+json": {
       "model_id": "b1a2eccc69ea465fae62caf904b20721",
       "version_major": 2,
       "version_minor": 0
      },
      "text/plain": [
       "Getting ROI info:   0%|          | 0/2 [00:00<?, ?it/s]"
      ]
     },
     "metadata": {},
     "output_type": "display_data"
    },
    {
     "data": {
      "application/vnd.jupyter.widget-view+json": {
       "model_id": "d280cc8d7c714ab997edf0943eb40658",
       "version_major": 2,
       "version_minor": 0
      },
      "text/plain": [
       "Getting ROI info:   0%|          | 0/2 [00:00<?, ?it/s]"
      ]
     },
     "metadata": {},
     "output_type": "display_data"
    },
    {
     "data": {
      "application/vnd.jupyter.widget-view+json": {
       "model_id": "e681869db7f44c99b007c4ee5236b06b",
       "version_major": 2,
       "version_minor": 0
      },
      "text/plain": [
       "Getting ROI info:   0%|          | 0/2 [00:00<?, ?it/s]"
      ]
     },
     "metadata": {},
     "output_type": "display_data"
    },
    {
     "data": {
      "application/vnd.jupyter.widget-view+json": {
       "model_id": "92f767f1433c4446a849771c340246a7",
       "version_major": 2,
       "version_minor": 0
      },
      "text/plain": [
       "Getting ROI info:   0%|          | 0/2 [00:00<?, ?it/s]"
      ]
     },
     "metadata": {},
     "output_type": "display_data"
    },
    {
     "data": {
      "application/vnd.jupyter.widget-view+json": {
       "model_id": "b120d3df4bc545d8b5ec6f041c9cddd9",
       "version_major": 2,
       "version_minor": 0
      },
      "text/plain": [
       "Getting ROI info:   0%|          | 0/2 [00:00<?, ?it/s]"
      ]
     },
     "metadata": {},
     "output_type": "display_data"
    },
    {
     "data": {
      "application/vnd.jupyter.widget-view+json": {
       "model_id": "657239960dc9479990b5b1f79c2611ce",
       "version_major": 2,
       "version_minor": 0
      },
      "text/plain": [
       "Getting ROI info:   0%|          | 0/2 [00:00<?, ?it/s]"
      ]
     },
     "metadata": {},
     "output_type": "display_data"
    },
    {
     "data": {
      "application/vnd.jupyter.widget-view+json": {
       "model_id": "7968ec469ce94616960e631f6b456248",
       "version_major": 2,
       "version_minor": 0
      },
      "text/plain": [
       "Getting ROI info:   0%|          | 0/2 [00:00<?, ?it/s]"
      ]
     },
     "metadata": {},
     "output_type": "display_data"
    },
    {
     "data": {
      "application/vnd.jupyter.widget-view+json": {
       "model_id": "7473eb8bd5f64bbe9bd154ae736a1a39",
       "version_major": 2,
       "version_minor": 0
      },
      "text/plain": [
       "Getting ROI info:   0%|          | 0/2 [00:00<?, ?it/s]"
      ]
     },
     "metadata": {},
     "output_type": "display_data"
    },
    {
     "data": {
      "application/vnd.jupyter.widget-view+json": {
       "model_id": "055f3c93b16b42a8b0117b172b12d86c",
       "version_major": 2,
       "version_minor": 0
      },
      "text/plain": [
       "Getting ROI info:   0%|          | 0/2 [00:00<?, ?it/s]"
      ]
     },
     "metadata": {},
     "output_type": "display_data"
    },
    {
     "data": {
      "application/vnd.jupyter.widget-view+json": {
       "model_id": "d0aed4f487764e279e4c918153e34d0f",
       "version_major": 2,
       "version_minor": 0
      },
      "text/plain": [
       "Getting ROI info:   0%|          | 0/2 [00:00<?, ?it/s]"
      ]
     },
     "metadata": {},
     "output_type": "display_data"
    },
    {
     "data": {
      "application/vnd.jupyter.widget-view+json": {
       "model_id": "a4cc7adc5e5c494ab25164452d9ee72f",
       "version_major": 2,
       "version_minor": 0
      },
      "text/plain": [
       "Getting ROI info:   0%|          | 0/2 [00:00<?, ?it/s]"
      ]
     },
     "metadata": {},
     "output_type": "display_data"
    },
    {
     "data": {
      "application/vnd.jupyter.widget-view+json": {
       "model_id": "9c9de404bbec4904a3ac7a926229ebc7",
       "version_major": 2,
       "version_minor": 0
      },
      "text/plain": [
       "Getting ROI info:   0%|          | 0/2 [00:00<?, ?it/s]"
      ]
     },
     "metadata": {},
     "output_type": "display_data"
    },
    {
     "data": {
      "application/vnd.jupyter.widget-view+json": {
       "model_id": "5309d5201e234b7eb0e75e9cd9801294",
       "version_major": 2,
       "version_minor": 0
      },
      "text/plain": [
       "Getting ROI info:   0%|          | 0/2 [00:00<?, ?it/s]"
      ]
     },
     "metadata": {},
     "output_type": "display_data"
    },
    {
     "data": {
      "application/vnd.jupyter.widget-view+json": {
       "model_id": "ed5765cfb96d4f6798e56776b9fc899d",
       "version_major": 2,
       "version_minor": 0
      },
      "text/plain": [
       "Getting ROI info:   0%|          | 0/2 [00:00<?, ?it/s]"
      ]
     },
     "metadata": {},
     "output_type": "display_data"
    },
    {
     "data": {
      "application/vnd.jupyter.widget-view+json": {
       "model_id": "1bcef7c1a1ff43a1856f44830e48f81e",
       "version_major": 2,
       "version_minor": 0
      },
      "text/plain": [
       "Getting ROI info:   0%|          | 0/2 [00:00<?, ?it/s]"
      ]
     },
     "metadata": {},
     "output_type": "display_data"
    },
    {
     "data": {
      "application/vnd.jupyter.widget-view+json": {
       "model_id": "c18eec72ce714b09ab5be058b7ca3157",
       "version_major": 2,
       "version_minor": 0
      },
      "text/plain": [
       "Getting ROI info:   0%|          | 0/2 [00:00<?, ?it/s]"
      ]
     },
     "metadata": {},
     "output_type": "display_data"
    },
    {
     "data": {
      "application/vnd.jupyter.widget-view+json": {
       "model_id": "964c8e38b6e44f6e8202b31fa6c4f392",
       "version_major": 2,
       "version_minor": 0
      },
      "text/plain": [
       "Getting ROI info:   0%|          | 0/2 [00:00<?, ?it/s]"
      ]
     },
     "metadata": {},
     "output_type": "display_data"
    },
    {
     "data": {
      "application/vnd.jupyter.widget-view+json": {
       "model_id": "c7a8b8eec95e44b5b3dd21d1d8bd5fc1",
       "version_major": 2,
       "version_minor": 0
      },
      "text/plain": [
       "Getting ROI info:   0%|          | 0/2 [00:00<?, ?it/s]"
      ]
     },
     "metadata": {},
     "output_type": "display_data"
    },
    {
     "data": {
      "application/vnd.jupyter.widget-view+json": {
       "model_id": "78d84b9c9c6944a6a03c32a2181dbe3c",
       "version_major": 2,
       "version_minor": 0
      },
      "text/plain": [
       "Getting ROI info:   0%|          | 0/2 [00:00<?, ?it/s]"
      ]
     },
     "metadata": {},
     "output_type": "display_data"
    },
    {
     "data": {
      "application/vnd.jupyter.widget-view+json": {
       "model_id": "d4504edf60dc40d69b51e58e21deb2c6",
       "version_major": 2,
       "version_minor": 0
      },
      "text/plain": [
       "Getting ROI info:   0%|          | 0/2 [00:00<?, ?it/s]"
      ]
     },
     "metadata": {},
     "output_type": "display_data"
    },
    {
     "data": {
      "application/vnd.jupyter.widget-view+json": {
       "model_id": "b9a990af74104d009883afe901472917",
       "version_major": 2,
       "version_minor": 0
      },
      "text/plain": [
       "Getting ROI info:   0%|          | 0/2 [00:00<?, ?it/s]"
      ]
     },
     "metadata": {},
     "output_type": "display_data"
    },
    {
     "data": {
      "application/vnd.jupyter.widget-view+json": {
       "model_id": "d22a1acf41d64bc7bb342a5cb9b8ce06",
       "version_major": 2,
       "version_minor": 0
      },
      "text/plain": [
       "Getting ROI info:   0%|          | 0/2 [00:00<?, ?it/s]"
      ]
     },
     "metadata": {},
     "output_type": "display_data"
    },
    {
     "data": {
      "application/vnd.jupyter.widget-view+json": {
       "model_id": "0f9a7be383d449c0b7c58523c6d2af37",
       "version_major": 2,
       "version_minor": 0
      },
      "text/plain": [
       "Getting ROI info:   0%|          | 0/2 [00:00<?, ?it/s]"
      ]
     },
     "metadata": {},
     "output_type": "display_data"
    },
    {
     "data": {
      "application/vnd.jupyter.widget-view+json": {
       "model_id": "fa3a5bf8c3984548933ae0f9595f03af",
       "version_major": 2,
       "version_minor": 0
      },
      "text/plain": [
       "Getting ROI info:   0%|          | 0/2 [00:00<?, ?it/s]"
      ]
     },
     "metadata": {},
     "output_type": "display_data"
    },
    {
     "data": {
      "application/vnd.jupyter.widget-view+json": {
       "model_id": "863336fb8ecb4cb081b07017177d0eec",
       "version_major": 2,
       "version_minor": 0
      },
      "text/plain": [
       "Getting ROI info:   0%|          | 0/2 [00:00<?, ?it/s]"
      ]
     },
     "metadata": {},
     "output_type": "display_data"
    },
    {
     "data": {
      "application/vnd.jupyter.widget-view+json": {
       "model_id": "16dc47e19c7d4fd7a71af85a41fa9246",
       "version_major": 2,
       "version_minor": 0
      },
      "text/plain": [
       "Getting ROI info:   0%|          | 0/2 [00:00<?, ?it/s]"
      ]
     },
     "metadata": {},
     "output_type": "display_data"
    },
    {
     "data": {
      "application/vnd.jupyter.widget-view+json": {
       "model_id": "cca2e97006834ee4becefd7a8ad4c92f",
       "version_major": 2,
       "version_minor": 0
      },
      "text/plain": [
       "Getting ROI info:   0%|          | 0/2 [00:00<?, ?it/s]"
      ]
     },
     "metadata": {},
     "output_type": "display_data"
    },
    {
     "data": {
      "application/vnd.jupyter.widget-view+json": {
       "model_id": "f1812d8070354cd697cb3049597b5cda",
       "version_major": 2,
       "version_minor": 0
      },
      "text/plain": [
       "Getting ROI info:   0%|          | 0/2 [00:00<?, ?it/s]"
      ]
     },
     "metadata": {},
     "output_type": "display_data"
    },
    {
     "data": {
      "application/vnd.jupyter.widget-view+json": {
       "model_id": "e934bfbef0f04b1aa1fd0f31098c43fd",
       "version_major": 2,
       "version_minor": 0
      },
      "text/plain": [
       "Getting ROI info:   0%|          | 0/2 [00:00<?, ?it/s]"
      ]
     },
     "metadata": {},
     "output_type": "display_data"
    },
    {
     "data": {
      "application/vnd.jupyter.widget-view+json": {
       "model_id": "db4bdbdc44c946b1a0d409abc8a8c8e5",
       "version_major": 2,
       "version_minor": 0
      },
      "text/plain": [
       "Getting ROI info:   0%|          | 0/2 [00:00<?, ?it/s]"
      ]
     },
     "metadata": {},
     "output_type": "display_data"
    },
    {
     "data": {
      "application/vnd.jupyter.widget-view+json": {
       "model_id": "e4b6ccca926b4072b59619f382f050be",
       "version_major": 2,
       "version_minor": 0
      },
      "text/plain": [
       "Getting ROI info:   0%|          | 0/2 [00:00<?, ?it/s]"
      ]
     },
     "metadata": {},
     "output_type": "display_data"
    },
    {
     "data": {
      "application/vnd.jupyter.widget-view+json": {
       "model_id": "a281ac8377694ae78ef2046a02e4c85d",
       "version_major": 2,
       "version_minor": 0
      },
      "text/plain": [
       "Getting ROI info:   0%|          | 0/2 [00:00<?, ?it/s]"
      ]
     },
     "metadata": {},
     "output_type": "display_data"
    },
    {
     "data": {
      "application/vnd.jupyter.widget-view+json": {
       "model_id": "59a076760ea64e809d51a2c98374a24a",
       "version_major": 2,
       "version_minor": 0
      },
      "text/plain": [
       "Getting ROI info:   0%|          | 0/2 [00:00<?, ?it/s]"
      ]
     },
     "metadata": {},
     "output_type": "display_data"
    },
    {
     "data": {
      "application/vnd.jupyter.widget-view+json": {
       "model_id": "0a8b9780ac4043ad9e6353b8994dc625",
       "version_major": 2,
       "version_minor": 0
      },
      "text/plain": [
       "Getting ROI info:   0%|          | 0/2 [00:00<?, ?it/s]"
      ]
     },
     "metadata": {},
     "output_type": "display_data"
    },
    {
     "data": {
      "application/vnd.jupyter.widget-view+json": {
       "model_id": "ff755b1c76e74b5d96376a5ba816e84f",
       "version_major": 2,
       "version_minor": 0
      },
      "text/plain": [
       "Getting ROI info:   0%|          | 0/2 [00:00<?, ?it/s]"
      ]
     },
     "metadata": {},
     "output_type": "display_data"
    },
    {
     "data": {
      "application/vnd.jupyter.widget-view+json": {
       "model_id": "280a3912eff2484fb3a1b0b18dacddf7",
       "version_major": 2,
       "version_minor": 0
      },
      "text/plain": [
       "Getting ROI info:   0%|          | 0/2 [00:00<?, ?it/s]"
      ]
     },
     "metadata": {},
     "output_type": "display_data"
    },
    {
     "data": {
      "application/vnd.jupyter.widget-view+json": {
       "model_id": "74641b0ced3141b8af2c11f789c095e7",
       "version_major": 2,
       "version_minor": 0
      },
      "text/plain": [
       "Getting ROI info:   0%|          | 0/2 [00:00<?, ?it/s]"
      ]
     },
     "metadata": {},
     "output_type": "display_data"
    },
    {
     "data": {
      "application/vnd.jupyter.widget-view+json": {
       "model_id": "aa6fa21096c84cfa84d0757624b79435",
       "version_major": 2,
       "version_minor": 0
      },
      "text/plain": [
       "Getting ROI info:   0%|          | 0/2 [00:00<?, ?it/s]"
      ]
     },
     "metadata": {},
     "output_type": "display_data"
    },
    {
     "data": {
      "application/vnd.jupyter.widget-view+json": {
       "model_id": "d00a4865d79c4520be9fd78a759c8459",
       "version_major": 2,
       "version_minor": 0
      },
      "text/plain": [
       "Getting ROI info:   0%|          | 0/2 [00:00<?, ?it/s]"
      ]
     },
     "metadata": {},
     "output_type": "display_data"
    },
    {
     "data": {
      "application/vnd.jupyter.widget-view+json": {
       "model_id": "f10229bcd9f14ff29fa3fff140afdaae",
       "version_major": 2,
       "version_minor": 0
      },
      "text/plain": [
       "Getting ROI info:   0%|          | 0/2 [00:00<?, ?it/s]"
      ]
     },
     "metadata": {},
     "output_type": "display_data"
    },
    {
     "data": {
      "application/vnd.jupyter.widget-view+json": {
       "model_id": "a7c5644591564169befdf2a49ba12516",
       "version_major": 2,
       "version_minor": 0
      },
      "text/plain": [
       "Getting ROI info:   0%|          | 0/2 [00:00<?, ?it/s]"
      ]
     },
     "metadata": {},
     "output_type": "display_data"
    },
    {
     "data": {
      "application/vnd.jupyter.widget-view+json": {
       "model_id": "c17cac403e0e43eeac2f1be13fb56ca5",
       "version_major": 2,
       "version_minor": 0
      },
      "text/plain": [
       "Getting ROI info:   0%|          | 0/2 [00:00<?, ?it/s]"
      ]
     },
     "metadata": {},
     "output_type": "display_data"
    },
    {
     "data": {
      "application/vnd.jupyter.widget-view+json": {
       "model_id": "3370d0fa6eb34c72ba97ea1ff43140e7",
       "version_major": 2,
       "version_minor": 0
      },
      "text/plain": [
       "Getting ROI info:   0%|          | 0/2 [00:00<?, ?it/s]"
      ]
     },
     "metadata": {},
     "output_type": "display_data"
    },
    {
     "data": {
      "application/vnd.jupyter.widget-view+json": {
       "model_id": "c48189492f874f8abb6f3631ec51504d",
       "version_major": 2,
       "version_minor": 0
      },
      "text/plain": [
       "Getting ROI info:   0%|          | 0/2 [00:00<?, ?it/s]"
      ]
     },
     "metadata": {},
     "output_type": "display_data"
    },
    {
     "data": {
      "application/vnd.jupyter.widget-view+json": {
       "model_id": "f6bfeb1fd62f4b958b8a93c1ad5ce850",
       "version_major": 2,
       "version_minor": 0
      },
      "text/plain": [
       "Getting ROI info:   0%|          | 0/2 [00:00<?, ?it/s]"
      ]
     },
     "metadata": {},
     "output_type": "display_data"
    },
    {
     "data": {
      "application/vnd.jupyter.widget-view+json": {
       "model_id": "a67ad045bb464c9b8a7a92ad86ab217c",
       "version_major": 2,
       "version_minor": 0
      },
      "text/plain": [
       "Getting ROI info:   0%|          | 0/2 [00:00<?, ?it/s]"
      ]
     },
     "metadata": {},
     "output_type": "display_data"
    },
    {
     "data": {
      "application/vnd.jupyter.widget-view+json": {
       "model_id": "34b99387e8a345c19c5651eebc71a46e",
       "version_major": 2,
       "version_minor": 0
      },
      "text/plain": [
       "Getting ROI info:   0%|          | 0/2 [00:00<?, ?it/s]"
      ]
     },
     "metadata": {},
     "output_type": "display_data"
    },
    {
     "data": {
      "application/vnd.jupyter.widget-view+json": {
       "model_id": "f0a8e391332542e48472cc0c7cfcd7be",
       "version_major": 2,
       "version_minor": 0
      },
      "text/plain": [
       "Getting ROI info:   0%|          | 0/2 [00:00<?, ?it/s]"
      ]
     },
     "metadata": {},
     "output_type": "display_data"
    },
    {
     "data": {
      "application/vnd.jupyter.widget-view+json": {
       "model_id": "fc4d607732594bc5855e71e66abec9ca",
       "version_major": 2,
       "version_minor": 0
      },
      "text/plain": [
       "Getting ROI info:   0%|          | 0/2 [00:00<?, ?it/s]"
      ]
     },
     "metadata": {},
     "output_type": "display_data"
    },
    {
     "data": {
      "application/vnd.jupyter.widget-view+json": {
       "model_id": "a8b6c8ac379149f4a863a4bf6eda68bb",
       "version_major": 2,
       "version_minor": 0
      },
      "text/plain": [
       "Getting ROI info:   0%|          | 0/2 [00:00<?, ?it/s]"
      ]
     },
     "metadata": {},
     "output_type": "display_data"
    },
    {
     "data": {
      "application/vnd.jupyter.widget-view+json": {
       "model_id": "1219a90dd3a744dda2c516ef34f05865",
       "version_major": 2,
       "version_minor": 0
      },
      "text/plain": [
       "Getting ROI info:   0%|          | 0/2 [00:00<?, ?it/s]"
      ]
     },
     "metadata": {},
     "output_type": "display_data"
    },
    {
     "data": {
      "application/vnd.jupyter.widget-view+json": {
       "model_id": "ecea9c2967074802bdc0d342437da521",
       "version_major": 2,
       "version_minor": 0
      },
      "text/plain": [
       "Getting ROI info:   0%|          | 0/2 [00:00<?, ?it/s]"
      ]
     },
     "metadata": {},
     "output_type": "display_data"
    },
    {
     "data": {
      "application/vnd.jupyter.widget-view+json": {
       "model_id": "48ab4dbb3fd148529630c7d4e29c261e",
       "version_major": 2,
       "version_minor": 0
      },
      "text/plain": [
       "Getting ROI info:   0%|          | 0/2 [00:00<?, ?it/s]"
      ]
     },
     "metadata": {},
     "output_type": "display_data"
    },
    {
     "data": {
      "application/vnd.jupyter.widget-view+json": {
       "model_id": "d90428d50ffa4b51b401573ad1947380",
       "version_major": 2,
       "version_minor": 0
      },
      "text/plain": [
       "Getting ROI info:   0%|          | 0/2 [00:00<?, ?it/s]"
      ]
     },
     "metadata": {},
     "output_type": "display_data"
    },
    {
     "data": {
      "application/vnd.jupyter.widget-view+json": {
       "model_id": "610940d95cf64d09aba1a7e62478bb24",
       "version_major": 2,
       "version_minor": 0
      },
      "text/plain": [
       "Getting ROI info:   0%|          | 0/2 [00:00<?, ?it/s]"
      ]
     },
     "metadata": {},
     "output_type": "display_data"
    },
    {
     "data": {
      "application/vnd.jupyter.widget-view+json": {
       "model_id": "08113004fc2b47ad8c888a4562ba12c1",
       "version_major": 2,
       "version_minor": 0
      },
      "text/plain": [
       "Getting ROI info:   0%|          | 0/2 [00:00<?, ?it/s]"
      ]
     },
     "metadata": {},
     "output_type": "display_data"
    },
    {
     "data": {
      "application/vnd.jupyter.widget-view+json": {
       "model_id": "811c69e1902d40e8845bb277830facf5",
       "version_major": 2,
       "version_minor": 0
      },
      "text/plain": [
       "Getting ROI info:   0%|          | 0/2 [00:00<?, ?it/s]"
      ]
     },
     "metadata": {},
     "output_type": "display_data"
    },
    {
     "data": {
      "application/vnd.jupyter.widget-view+json": {
       "model_id": "9a3795b9aa9f4fa39ae5aa2a97dc8c26",
       "version_major": 2,
       "version_minor": 0
      },
      "text/plain": [
       "Getting ROI info:   0%|          | 0/2 [00:00<?, ?it/s]"
      ]
     },
     "metadata": {},
     "output_type": "display_data"
    },
    {
     "data": {
      "application/vnd.jupyter.widget-view+json": {
       "model_id": "993749c77d2348fb8282872870b0905c",
       "version_major": 2,
       "version_minor": 0
      },
      "text/plain": [
       "Getting ROI info:   0%|          | 0/2 [00:00<?, ?it/s]"
      ]
     },
     "metadata": {},
     "output_type": "display_data"
    },
    {
     "data": {
      "application/vnd.jupyter.widget-view+json": {
       "model_id": "d2db8e0b3263446da0222489dc1c290b",
       "version_major": 2,
       "version_minor": 0
      },
      "text/plain": [
       "Getting ROI info:   0%|          | 0/2 [00:00<?, ?it/s]"
      ]
     },
     "metadata": {},
     "output_type": "display_data"
    },
    {
     "data": {
      "application/vnd.jupyter.widget-view+json": {
       "model_id": "3cb5a4faeb814070a65af66c6629b06e",
       "version_major": 2,
       "version_minor": 0
      },
      "text/plain": [
       "Getting ROI info:   0%|          | 0/2 [00:00<?, ?it/s]"
      ]
     },
     "metadata": {},
     "output_type": "display_data"
    },
    {
     "data": {
      "application/vnd.jupyter.widget-view+json": {
       "model_id": "4e34be38695149eda24a67577f2b72d5",
       "version_major": 2,
       "version_minor": 0
      },
      "text/plain": [
       "Getting ROI info:   0%|          | 0/2 [00:00<?, ?it/s]"
      ]
     },
     "metadata": {},
     "output_type": "display_data"
    },
    {
     "data": {
      "application/vnd.jupyter.widget-view+json": {
       "model_id": "4acd65ab21c04552ba043cb8853b9acd",
       "version_major": 2,
       "version_minor": 0
      },
      "text/plain": [
       "Getting ROI info:   0%|          | 0/2 [00:00<?, ?it/s]"
      ]
     },
     "metadata": {},
     "output_type": "display_data"
    },
    {
     "data": {
      "application/vnd.jupyter.widget-view+json": {
       "model_id": "1ff1cb8bdc9e4b179ec252d4a04abfc6",
       "version_major": 2,
       "version_minor": 0
      },
      "text/plain": [
       "Getting ROI info:   0%|          | 0/2 [00:00<?, ?it/s]"
      ]
     },
     "metadata": {},
     "output_type": "display_data"
    },
    {
     "data": {
      "application/vnd.jupyter.widget-view+json": {
       "model_id": "465a6bc2684b4e3eb616bf4195e153bf",
       "version_major": 2,
       "version_minor": 0
      },
      "text/plain": [
       "Getting ROI info:   0%|          | 0/2 [00:00<?, ?it/s]"
      ]
     },
     "metadata": {},
     "output_type": "display_data"
    },
    {
     "data": {
      "application/vnd.jupyter.widget-view+json": {
       "model_id": "f377b7d9f10e4320af444fec88a49578",
       "version_major": 2,
       "version_minor": 0
      },
      "text/plain": [
       "Getting ROI info:   0%|          | 0/2 [00:00<?, ?it/s]"
      ]
     },
     "metadata": {},
     "output_type": "display_data"
    },
    {
     "data": {
      "application/vnd.jupyter.widget-view+json": {
       "model_id": "9d7e16843d424972af236375bdcc1154",
       "version_major": 2,
       "version_minor": 0
      },
      "text/plain": [
       "Getting ROI info:   0%|          | 0/2 [00:00<?, ?it/s]"
      ]
     },
     "metadata": {},
     "output_type": "display_data"
    },
    {
     "data": {
      "application/vnd.jupyter.widget-view+json": {
       "model_id": "75fa366ed7864d61b2970598cceaaa1a",
       "version_major": 2,
       "version_minor": 0
      },
      "text/plain": [
       "Getting ROI info:   0%|          | 0/2 [00:00<?, ?it/s]"
      ]
     },
     "metadata": {},
     "output_type": "display_data"
    },
    {
     "data": {
      "application/vnd.jupyter.widget-view+json": {
       "model_id": "40a4a536801d493596b2bea0c01a5ffd",
       "version_major": 2,
       "version_minor": 0
      },
      "text/plain": [
       "Getting ROI info:   0%|          | 0/2 [00:00<?, ?it/s]"
      ]
     },
     "metadata": {},
     "output_type": "display_data"
    },
    {
     "data": {
      "application/vnd.jupyter.widget-view+json": {
       "model_id": "f8514a79cd6c48daafde11f9486fa8c0",
       "version_major": 2,
       "version_minor": 0
      },
      "text/plain": [
       "Getting ROI info:   0%|          | 0/2 [00:00<?, ?it/s]"
      ]
     },
     "metadata": {},
     "output_type": "display_data"
    },
    {
     "data": {
      "application/vnd.jupyter.widget-view+json": {
       "model_id": "7afa361b4a8046b0adfd7a735ce59897",
       "version_major": 2,
       "version_minor": 0
      },
      "text/plain": [
       "Getting ROI info:   0%|          | 0/2 [00:00<?, ?it/s]"
      ]
     },
     "metadata": {},
     "output_type": "display_data"
    },
    {
     "data": {
      "application/vnd.jupyter.widget-view+json": {
       "model_id": "69415e1c3f564ce58e34ee26df5772ee",
       "version_major": 2,
       "version_minor": 0
      },
      "text/plain": [
       "Getting ROI info:   0%|          | 0/2 [00:00<?, ?it/s]"
      ]
     },
     "metadata": {},
     "output_type": "display_data"
    },
    {
     "data": {
      "application/vnd.jupyter.widget-view+json": {
       "model_id": "cd5c27cedf3e478d8fc20e10cce73a51",
       "version_major": 2,
       "version_minor": 0
      },
      "text/plain": [
       "Getting ROI info:   0%|          | 0/2 [00:00<?, ?it/s]"
      ]
     },
     "metadata": {},
     "output_type": "display_data"
    },
    {
     "data": {
      "application/vnd.jupyter.widget-view+json": {
       "model_id": "b49d674e148740f890c6b193f7bd8c77",
       "version_major": 2,
       "version_minor": 0
      },
      "text/plain": [
       "Getting ROI info:   0%|          | 0/2 [00:00<?, ?it/s]"
      ]
     },
     "metadata": {},
     "output_type": "display_data"
    },
    {
     "data": {
      "application/vnd.jupyter.widget-view+json": {
       "model_id": "5dc59fc2e50a48748a77037475add7c3",
       "version_major": 2,
       "version_minor": 0
      },
      "text/plain": [
       "Getting ROI info:   0%|          | 0/2 [00:00<?, ?it/s]"
      ]
     },
     "metadata": {},
     "output_type": "display_data"
    },
    {
     "data": {
      "application/vnd.jupyter.widget-view+json": {
       "model_id": "f15674ce5ad243b1a482a1e97b5e73f6",
       "version_major": 2,
       "version_minor": 0
      },
      "text/plain": [
       "Getting ROI info:   0%|          | 0/2 [00:00<?, ?it/s]"
      ]
     },
     "metadata": {},
     "output_type": "display_data"
    },
    {
     "data": {
      "application/vnd.jupyter.widget-view+json": {
       "model_id": "28efc2b9b98c43999e07d0ea1f942738",
       "version_major": 2,
       "version_minor": 0
      },
      "text/plain": [
       "Getting ROI info:   0%|          | 0/2 [00:00<?, ?it/s]"
      ]
     },
     "metadata": {},
     "output_type": "display_data"
    },
    {
     "data": {
      "application/vnd.jupyter.widget-view+json": {
       "model_id": "a89014d3701a4469affe5aed625a5dec",
       "version_major": 2,
       "version_minor": 0
      },
      "text/plain": [
       "Getting ROI info:   0%|          | 0/2 [00:00<?, ?it/s]"
      ]
     },
     "metadata": {},
     "output_type": "display_data"
    },
    {
     "data": {
      "application/vnd.jupyter.widget-view+json": {
       "model_id": "c5e7cbc3a0bf40679a738e0cefe7be3b",
       "version_major": 2,
       "version_minor": 0
      },
      "text/plain": [
       "Getting ROI info:   0%|          | 0/2 [00:00<?, ?it/s]"
      ]
     },
     "metadata": {},
     "output_type": "display_data"
    },
    {
     "data": {
      "application/vnd.jupyter.widget-view+json": {
       "model_id": "b74a847d48a741b9b6894461c3c09ee9",
       "version_major": 2,
       "version_minor": 0
      },
      "text/plain": [
       "Getting ROI info:   0%|          | 0/2 [00:00<?, ?it/s]"
      ]
     },
     "metadata": {},
     "output_type": "display_data"
    },
    {
     "data": {
      "application/vnd.jupyter.widget-view+json": {
       "model_id": "eedb2166a91f4182a321affcea31f2b0",
       "version_major": 2,
       "version_minor": 0
      },
      "text/plain": [
       "Getting ROI info:   0%|          | 0/2 [00:00<?, ?it/s]"
      ]
     },
     "metadata": {},
     "output_type": "display_data"
    },
    {
     "data": {
      "application/vnd.jupyter.widget-view+json": {
       "model_id": "78a36d2a7d7c451c90674a577b162f70",
       "version_major": 2,
       "version_minor": 0
      },
      "text/plain": [
       "Getting ROI info:   0%|          | 0/2 [00:00<?, ?it/s]"
      ]
     },
     "metadata": {},
     "output_type": "display_data"
    },
    {
     "data": {
      "application/vnd.jupyter.widget-view+json": {
       "model_id": "3f0e3619196b4d8581a61a0d2d7b4fd8",
       "version_major": 2,
       "version_minor": 0
      },
      "text/plain": [
       "Getting ROI info:   0%|          | 0/2 [00:00<?, ?it/s]"
      ]
     },
     "metadata": {},
     "output_type": "display_data"
    },
    {
     "data": {
      "application/vnd.jupyter.widget-view+json": {
       "model_id": "d54d2c45244f4549b42d62d6945b4e5f",
       "version_major": 2,
       "version_minor": 0
      },
      "text/plain": [
       "Getting ROI info:   0%|          | 0/2 [00:00<?, ?it/s]"
      ]
     },
     "metadata": {},
     "output_type": "display_data"
    },
    {
     "data": {
      "application/vnd.jupyter.widget-view+json": {
       "model_id": "f2f49da4bc944732b0d41d6224949946",
       "version_major": 2,
       "version_minor": 0
      },
      "text/plain": [
       "Getting ROI info:   0%|          | 0/2 [00:00<?, ?it/s]"
      ]
     },
     "metadata": {},
     "output_type": "display_data"
    },
    {
     "data": {
      "application/vnd.jupyter.widget-view+json": {
       "model_id": "0ccae7beca9e426b86f072550fc7f54b",
       "version_major": 2,
       "version_minor": 0
      },
      "text/plain": [
       "Getting ROI info:   0%|          | 0/2 [00:00<?, ?it/s]"
      ]
     },
     "metadata": {},
     "output_type": "display_data"
    },
    {
     "data": {
      "application/vnd.jupyter.widget-view+json": {
       "model_id": "2c9001885f66484a9269e8d70f37bf32",
       "version_major": 2,
       "version_minor": 0
      },
      "text/plain": [
       "Getting ROI info:   0%|          | 0/2 [00:00<?, ?it/s]"
      ]
     },
     "metadata": {},
     "output_type": "display_data"
    },
    {
     "data": {
      "application/vnd.jupyter.widget-view+json": {
       "model_id": "25877d2877364c819ff9613c0c4ce975",
       "version_major": 2,
       "version_minor": 0
      },
      "text/plain": [
       "Getting ROI info:   0%|          | 0/2 [00:00<?, ?it/s]"
      ]
     },
     "metadata": {},
     "output_type": "display_data"
    },
    {
     "data": {
      "application/vnd.jupyter.widget-view+json": {
       "model_id": "939a1154b1734d55b12baa951c0418a5",
       "version_major": 2,
       "version_minor": 0
      },
      "text/plain": [
       "Getting ROI info:   0%|          | 0/2 [00:00<?, ?it/s]"
      ]
     },
     "metadata": {},
     "output_type": "display_data"
    },
    {
     "data": {
      "application/vnd.jupyter.widget-view+json": {
       "model_id": "418c1a8eb00441d0bc00cc814efbc28c",
       "version_major": 2,
       "version_minor": 0
      },
      "text/plain": [
       "Getting ROI info:   0%|          | 0/2 [00:00<?, ?it/s]"
      ]
     },
     "metadata": {},
     "output_type": "display_data"
    },
    {
     "data": {
      "application/vnd.jupyter.widget-view+json": {
       "model_id": "f7ecb7de974e4e5b9a09f3c746fba06f",
       "version_major": 2,
       "version_minor": 0
      },
      "text/plain": [
       "Getting ROI info:   0%|          | 0/2 [00:00<?, ?it/s]"
      ]
     },
     "metadata": {},
     "output_type": "display_data"
    },
    {
     "data": {
      "application/vnd.jupyter.widget-view+json": {
       "model_id": "c5f598ba8bb34a7f96ecb7fbdeaec369",
       "version_major": 2,
       "version_minor": 0
      },
      "text/plain": [
       "Getting ROI info:   0%|          | 0/2 [00:00<?, ?it/s]"
      ]
     },
     "metadata": {},
     "output_type": "display_data"
    },
    {
     "data": {
      "application/vnd.jupyter.widget-view+json": {
       "model_id": "9ba2a8d934234f8e83b8d99a5f9ad406",
       "version_major": 2,
       "version_minor": 0
      },
      "text/plain": [
       "Getting ROI info:   0%|          | 0/2 [00:00<?, ?it/s]"
      ]
     },
     "metadata": {},
     "output_type": "display_data"
    },
    {
     "data": {
      "application/vnd.jupyter.widget-view+json": {
       "model_id": "18bc7d8416c44a2e8c4c4de27f77d5d0",
       "version_major": 2,
       "version_minor": 0
      },
      "text/plain": [
       "Getting ROI info:   0%|          | 0/2 [00:00<?, ?it/s]"
      ]
     },
     "metadata": {},
     "output_type": "display_data"
    },
    {
     "data": {
      "application/vnd.jupyter.widget-view+json": {
       "model_id": "acc83cb322764bf6ac200760418bbb7d",
       "version_major": 2,
       "version_minor": 0
      },
      "text/plain": [
       "Getting ROI info:   0%|          | 0/2 [00:00<?, ?it/s]"
      ]
     },
     "metadata": {},
     "output_type": "display_data"
    },
    {
     "data": {
      "application/vnd.jupyter.widget-view+json": {
       "model_id": "217b6e92c2b5408d9a8fa4dbd73b72e4",
       "version_major": 2,
       "version_minor": 0
      },
      "text/plain": [
       "Getting ROI info:   0%|          | 0/2 [00:00<?, ?it/s]"
      ]
     },
     "metadata": {},
     "output_type": "display_data"
    },
    {
     "data": {
      "application/vnd.jupyter.widget-view+json": {
       "model_id": "f264c51213af404281533c4f61a935cf",
       "version_major": 2,
       "version_minor": 0
      },
      "text/plain": [
       "Getting ROI info:   0%|          | 0/2 [00:00<?, ?it/s]"
      ]
     },
     "metadata": {},
     "output_type": "display_data"
    },
    {
     "data": {
      "application/vnd.jupyter.widget-view+json": {
       "model_id": "c0e86229f8844c4aa5c69714db6f8fdf",
       "version_major": 2,
       "version_minor": 0
      },
      "text/plain": [
       "Getting ROI info:   0%|          | 0/2 [00:00<?, ?it/s]"
      ]
     },
     "metadata": {},
     "output_type": "display_data"
    },
    {
     "data": {
      "application/vnd.jupyter.widget-view+json": {
       "model_id": "eab42ea7e3ce4a918e3c48d2d6e71c5f",
       "version_major": 2,
       "version_minor": 0
      },
      "text/plain": [
       "Getting ROI info:   0%|          | 0/2 [00:00<?, ?it/s]"
      ]
     },
     "metadata": {},
     "output_type": "display_data"
    },
    {
     "data": {
      "application/vnd.jupyter.widget-view+json": {
       "model_id": "6ea07f37ae474204a424ea3a67cdc5bd",
       "version_major": 2,
       "version_minor": 0
      },
      "text/plain": [
       "Getting ROI info:   0%|          | 0/2 [00:00<?, ?it/s]"
      ]
     },
     "metadata": {},
     "output_type": "display_data"
    },
    {
     "data": {
      "application/vnd.jupyter.widget-view+json": {
       "model_id": "17e9228d71024573bfd279de670fe0cf",
       "version_major": 2,
       "version_minor": 0
      },
      "text/plain": [
       "Getting ROI info:   0%|          | 0/2 [00:00<?, ?it/s]"
      ]
     },
     "metadata": {},
     "output_type": "display_data"
    },
    {
     "data": {
      "application/vnd.jupyter.widget-view+json": {
       "model_id": "2e9d188d91144c4f8ececc9964afb1ac",
       "version_major": 2,
       "version_minor": 0
      },
      "text/plain": [
       "Getting ROI info:   0%|          | 0/2 [00:00<?, ?it/s]"
      ]
     },
     "metadata": {},
     "output_type": "display_data"
    },
    {
     "data": {
      "application/vnd.jupyter.widget-view+json": {
       "model_id": "8c62e27aaf3e4f969495b330e39a2a1f",
       "version_major": 2,
       "version_minor": 0
      },
      "text/plain": [
       "Getting ROI info:   0%|          | 0/2 [00:00<?, ?it/s]"
      ]
     },
     "metadata": {},
     "output_type": "display_data"
    },
    {
     "data": {
      "application/vnd.jupyter.widget-view+json": {
       "model_id": "1db670e447be4e6ea2f16fed16d32433",
       "version_major": 2,
       "version_minor": 0
      },
      "text/plain": [
       "Getting ROI info:   0%|          | 0/2 [00:00<?, ?it/s]"
      ]
     },
     "metadata": {},
     "output_type": "display_data"
    },
    {
     "data": {
      "application/vnd.jupyter.widget-view+json": {
       "model_id": "b3cb2ff6c56448efaf00cf97e8c38269",
       "version_major": 2,
       "version_minor": 0
      },
      "text/plain": [
       "Getting ROI info:   0%|          | 0/2 [00:00<?, ?it/s]"
      ]
     },
     "metadata": {},
     "output_type": "display_data"
    },
    {
     "data": {
      "application/vnd.jupyter.widget-view+json": {
       "model_id": "e0a03ed5732441fcaf737c5220bb57f0",
       "version_major": 2,
       "version_minor": 0
      },
      "text/plain": [
       "Getting ROI info:   0%|          | 0/2 [00:00<?, ?it/s]"
      ]
     },
     "metadata": {},
     "output_type": "display_data"
    },
    {
     "data": {
      "application/vnd.jupyter.widget-view+json": {
       "model_id": "cc0b1080422c420ab647156330c1fa9f",
       "version_major": 2,
       "version_minor": 0
      },
      "text/plain": [
       "Getting ROI info:   0%|          | 0/2 [00:00<?, ?it/s]"
      ]
     },
     "metadata": {},
     "output_type": "display_data"
    },
    {
     "data": {
      "application/vnd.jupyter.widget-view+json": {
       "model_id": "10865f5a5a9f4119a72aecaaf3afa395",
       "version_major": 2,
       "version_minor": 0
      },
      "text/plain": [
       "Getting ROI info:   0%|          | 0/2 [00:00<?, ?it/s]"
      ]
     },
     "metadata": {},
     "output_type": "display_data"
    },
    {
     "data": {
      "application/vnd.jupyter.widget-view+json": {
       "model_id": "c907e33b4b7e4063945e2b3aece3013f",
       "version_major": 2,
       "version_minor": 0
      },
      "text/plain": [
       "Getting ROI info:   0%|          | 0/2 [00:00<?, ?it/s]"
      ]
     },
     "metadata": {},
     "output_type": "display_data"
    },
    {
     "data": {
      "application/vnd.jupyter.widget-view+json": {
       "model_id": "47b87d4999554322b2332f3bb054416e",
       "version_major": 2,
       "version_minor": 0
      },
      "text/plain": [
       "Getting ROI info:   0%|          | 0/2 [00:00<?, ?it/s]"
      ]
     },
     "metadata": {},
     "output_type": "display_data"
    },
    {
     "data": {
      "application/vnd.jupyter.widget-view+json": {
       "model_id": "f097271d4c524e6c822083974d72a47c",
       "version_major": 2,
       "version_minor": 0
      },
      "text/plain": [
       "Getting ROI info:   0%|          | 0/2 [00:00<?, ?it/s]"
      ]
     },
     "metadata": {},
     "output_type": "display_data"
    },
    {
     "data": {
      "application/vnd.jupyter.widget-view+json": {
       "model_id": "ff74b99e2d1b4e39a2ca79352dfcc33b",
       "version_major": 2,
       "version_minor": 0
      },
      "text/plain": [
       "Getting ROI info:   0%|          | 0/2 [00:00<?, ?it/s]"
      ]
     },
     "metadata": {},
     "output_type": "display_data"
    },
    {
     "data": {
      "application/vnd.jupyter.widget-view+json": {
       "model_id": "ce6b22aea1424594bd39c0dae66e1185",
       "version_major": 2,
       "version_minor": 0
      },
      "text/plain": [
       "Getting ROI info:   0%|          | 0/2 [00:00<?, ?it/s]"
      ]
     },
     "metadata": {},
     "output_type": "display_data"
    },
    {
     "data": {
      "application/vnd.jupyter.widget-view+json": {
       "model_id": "0b5675edfdd443c1acdeb2140a6d022e",
       "version_major": 2,
       "version_minor": 0
      },
      "text/plain": [
       "Getting ROI info:   0%|          | 0/2 [00:00<?, ?it/s]"
      ]
     },
     "metadata": {},
     "output_type": "display_data"
    },
    {
     "data": {
      "application/vnd.jupyter.widget-view+json": {
       "model_id": "1b30bcbf2502454caff06f7803aa495f",
       "version_major": 2,
       "version_minor": 0
      },
      "text/plain": [
       "Getting ROI info:   0%|          | 0/2 [00:00<?, ?it/s]"
      ]
     },
     "metadata": {},
     "output_type": "display_data"
    },
    {
     "data": {
      "application/vnd.jupyter.widget-view+json": {
       "model_id": "3b00cbaf426543be903ce34fe3688a4c",
       "version_major": 2,
       "version_minor": 0
      },
      "text/plain": [
       "Getting ROI info:   0%|          | 0/2 [00:00<?, ?it/s]"
      ]
     },
     "metadata": {},
     "output_type": "display_data"
    },
    {
     "data": {
      "application/vnd.jupyter.widget-view+json": {
       "model_id": "8d1a732433c54c5bb87ba06fde88652b",
       "version_major": 2,
       "version_minor": 0
      },
      "text/plain": [
       "Getting ROI info:   0%|          | 0/2 [00:00<?, ?it/s]"
      ]
     },
     "metadata": {},
     "output_type": "display_data"
    },
    {
     "data": {
      "application/vnd.jupyter.widget-view+json": {
       "model_id": "5050ea4d086c463fa283326a78b39e6b",
       "version_major": 2,
       "version_minor": 0
      },
      "text/plain": [
       "Getting ROI info:   0%|          | 0/2 [00:00<?, ?it/s]"
      ]
     },
     "metadata": {},
     "output_type": "display_data"
    },
    {
     "data": {
      "application/vnd.jupyter.widget-view+json": {
       "model_id": "7dabc79acfad41a1ab78dc476922e33a",
       "version_major": 2,
       "version_minor": 0
      },
      "text/plain": [
       "Getting ROI info:   0%|          | 0/2 [00:00<?, ?it/s]"
      ]
     },
     "metadata": {},
     "output_type": "display_data"
    },
    {
     "data": {
      "application/vnd.jupyter.widget-view+json": {
       "model_id": "e481d1e2fbcb4ff6babe474342fd7cc6",
       "version_major": 2,
       "version_minor": 0
      },
      "text/plain": [
       "Getting ROI info:   0%|          | 0/2 [00:00<?, ?it/s]"
      ]
     },
     "metadata": {},
     "output_type": "display_data"
    },
    {
     "data": {
      "application/vnd.jupyter.widget-view+json": {
       "model_id": "375c5976f03c4a1b9273e4875452326a",
       "version_major": 2,
       "version_minor": 0
      },
      "text/plain": [
       "Getting ROI info:   0%|          | 0/2 [00:00<?, ?it/s]"
      ]
     },
     "metadata": {},
     "output_type": "display_data"
    },
    {
     "data": {
      "application/vnd.jupyter.widget-view+json": {
       "model_id": "f184ada3ac78493aba4545236ab768ea",
       "version_major": 2,
       "version_minor": 0
      },
      "text/plain": [
       "Getting ROI info:   0%|          | 0/2 [00:00<?, ?it/s]"
      ]
     },
     "metadata": {},
     "output_type": "display_data"
    },
    {
     "data": {
      "application/vnd.jupyter.widget-view+json": {
       "model_id": "90e2115f75cc4a1faadc1ce9b92448cf",
       "version_major": 2,
       "version_minor": 0
      },
      "text/plain": [
       "Getting ROI info:   0%|          | 0/2 [00:00<?, ?it/s]"
      ]
     },
     "metadata": {},
     "output_type": "display_data"
    },
    {
     "data": {
      "application/vnd.jupyter.widget-view+json": {
       "model_id": "9a36626de9424585a18eb889274ac563",
       "version_major": 2,
       "version_minor": 0
      },
      "text/plain": [
       "Getting ROI info:   0%|          | 0/2 [00:00<?, ?it/s]"
      ]
     },
     "metadata": {},
     "output_type": "display_data"
    },
    {
     "data": {
      "application/vnd.jupyter.widget-view+json": {
       "model_id": "0fe9e6ae76964485bd7ab05c3150acea",
       "version_major": 2,
       "version_minor": 0
      },
      "text/plain": [
       "Getting ROI info:   0%|          | 0/2 [00:00<?, ?it/s]"
      ]
     },
     "metadata": {},
     "output_type": "display_data"
    },
    {
     "data": {
      "application/vnd.jupyter.widget-view+json": {
       "model_id": "a391cc4a8cb242c987be0dd3b93b99cb",
       "version_major": 2,
       "version_minor": 0
      },
      "text/plain": [
       "Getting ROI info:   0%|          | 0/2 [00:00<?, ?it/s]"
      ]
     },
     "metadata": {},
     "output_type": "display_data"
    },
    {
     "data": {
      "application/vnd.jupyter.widget-view+json": {
       "model_id": "44fb01fa6bb042b88e226a63c818b532",
       "version_major": 2,
       "version_minor": 0
      },
      "text/plain": [
       "Getting ROI info:   0%|          | 0/2 [00:00<?, ?it/s]"
      ]
     },
     "metadata": {},
     "output_type": "display_data"
    },
    {
     "data": {
      "application/vnd.jupyter.widget-view+json": {
       "model_id": "f1a00540d5894156be392a00bf01300f",
       "version_major": 2,
       "version_minor": 0
      },
      "text/plain": [
       "Getting ROI info:   0%|          | 0/2 [00:00<?, ?it/s]"
      ]
     },
     "metadata": {},
     "output_type": "display_data"
    },
    {
     "data": {
      "application/vnd.jupyter.widget-view+json": {
       "model_id": "b6320860358143308aaf2c7587bb1148",
       "version_major": 2,
       "version_minor": 0
      },
      "text/plain": [
       "Getting ROI info:   0%|          | 0/2 [00:00<?, ?it/s]"
      ]
     },
     "metadata": {},
     "output_type": "display_data"
    },
    {
     "data": {
      "application/vnd.jupyter.widget-view+json": {
       "model_id": "bdaabf13cc5643d7b7010e7852b7d178",
       "version_major": 2,
       "version_minor": 0
      },
      "text/plain": [
       "Getting ROI info:   0%|          | 0/2 [00:00<?, ?it/s]"
      ]
     },
     "metadata": {},
     "output_type": "display_data"
    },
    {
     "data": {
      "application/vnd.jupyter.widget-view+json": {
       "model_id": "0ee1c55050844cab816496e2eede3c22",
       "version_major": 2,
       "version_minor": 0
      },
      "text/plain": [
       "Getting ROI info:   0%|          | 0/2 [00:00<?, ?it/s]"
      ]
     },
     "metadata": {},
     "output_type": "display_data"
    },
    {
     "data": {
      "application/vnd.jupyter.widget-view+json": {
       "model_id": "7de60bd7e79149f19c9c4c061e5cf7e4",
       "version_major": 2,
       "version_minor": 0
      },
      "text/plain": [
       "Getting ROI info:   0%|          | 0/2 [00:00<?, ?it/s]"
      ]
     },
     "metadata": {},
     "output_type": "display_data"
    },
    {
     "data": {
      "application/vnd.jupyter.widget-view+json": {
       "model_id": "d09aa6016049482babc640bc01496706",
       "version_major": 2,
       "version_minor": 0
      },
      "text/plain": [
       "Getting ROI info:   0%|          | 0/2 [00:00<?, ?it/s]"
      ]
     },
     "metadata": {},
     "output_type": "display_data"
    },
    {
     "data": {
      "application/vnd.jupyter.widget-view+json": {
       "model_id": "06b78983066c455088903bdf106fd700",
       "version_major": 2,
       "version_minor": 0
      },
      "text/plain": [
       "Getting ROI info:   0%|          | 0/2 [00:00<?, ?it/s]"
      ]
     },
     "metadata": {},
     "output_type": "display_data"
    },
    {
     "data": {
      "application/vnd.jupyter.widget-view+json": {
       "model_id": "482a8a78954641b385873dda07d0c194",
       "version_major": 2,
       "version_minor": 0
      },
      "text/plain": [
       "Getting ROI info:   0%|          | 0/2 [00:00<?, ?it/s]"
      ]
     },
     "metadata": {},
     "output_type": "display_data"
    },
    {
     "data": {
      "application/vnd.jupyter.widget-view+json": {
       "model_id": "6fba7a60d62f4edc8c8626431176117d",
       "version_major": 2,
       "version_minor": 0
      },
      "text/plain": [
       "Getting ROI info:   0%|          | 0/2 [00:00<?, ?it/s]"
      ]
     },
     "metadata": {},
     "output_type": "display_data"
    },
    {
     "data": {
      "application/vnd.jupyter.widget-view+json": {
       "model_id": "8fb24bf415b94d85aa9b73e5e28752aa",
       "version_major": 2,
       "version_minor": 0
      },
      "text/plain": [
       "Getting ROI info:   0%|          | 0/2 [00:00<?, ?it/s]"
      ]
     },
     "metadata": {},
     "output_type": "display_data"
    },
    {
     "data": {
      "application/vnd.jupyter.widget-view+json": {
       "model_id": "cd2f5536c84f464f84cded9d88d7d078",
       "version_major": 2,
       "version_minor": 0
      },
      "text/plain": [
       "Getting ROI info:   0%|          | 0/2 [00:00<?, ?it/s]"
      ]
     },
     "metadata": {},
     "output_type": "display_data"
    },
    {
     "data": {
      "application/vnd.jupyter.widget-view+json": {
       "model_id": "8c7aeaba921446a1b275e44a1454ba68",
       "version_major": 2,
       "version_minor": 0
      },
      "text/plain": [
       "Getting ROI info:   0%|          | 0/2 [00:00<?, ?it/s]"
      ]
     },
     "metadata": {},
     "output_type": "display_data"
    },
    {
     "data": {
      "application/vnd.jupyter.widget-view+json": {
       "model_id": "6019f9faea834e9eb52d3ef6d1072513",
       "version_major": 2,
       "version_minor": 0
      },
      "text/plain": [
       "Getting ROI info:   0%|          | 0/2 [00:00<?, ?it/s]"
      ]
     },
     "metadata": {},
     "output_type": "display_data"
    },
    {
     "data": {
      "application/vnd.jupyter.widget-view+json": {
       "model_id": "3ae5c07082fa46608319f4aa42b9b9f5",
       "version_major": 2,
       "version_minor": 0
      },
      "text/plain": [
       "Getting ROI info:   0%|          | 0/2 [00:00<?, ?it/s]"
      ]
     },
     "metadata": {},
     "output_type": "display_data"
    },
    {
     "data": {
      "application/vnd.jupyter.widget-view+json": {
       "model_id": "53701c8afcf64370a22a54734bc92c05",
       "version_major": 2,
       "version_minor": 0
      },
      "text/plain": [
       "Getting ROI info:   0%|          | 0/2 [00:00<?, ?it/s]"
      ]
     },
     "metadata": {},
     "output_type": "display_data"
    },
    {
     "data": {
      "application/vnd.jupyter.widget-view+json": {
       "model_id": "a19aaa18cc5c499eab82d110bb75fea6",
       "version_major": 2,
       "version_minor": 0
      },
      "text/plain": [
       "Getting ROI info:   0%|          | 0/2 [00:00<?, ?it/s]"
      ]
     },
     "metadata": {},
     "output_type": "display_data"
    },
    {
     "data": {
      "application/vnd.jupyter.widget-view+json": {
       "model_id": "fe40a1e0346a426db82f064c00213cbc",
       "version_major": 2,
       "version_minor": 0
      },
      "text/plain": [
       "Getting ROI info:   0%|          | 0/2 [00:00<?, ?it/s]"
      ]
     },
     "metadata": {},
     "output_type": "display_data"
    },
    {
     "data": {
      "application/vnd.jupyter.widget-view+json": {
       "model_id": "5c0bfe75344b4080bafcce756405cab7",
       "version_major": 2,
       "version_minor": 0
      },
      "text/plain": [
       "Getting ROI info:   0%|          | 0/2 [00:00<?, ?it/s]"
      ]
     },
     "metadata": {},
     "output_type": "display_data"
    },
    {
     "data": {
      "application/vnd.jupyter.widget-view+json": {
       "model_id": "ac95f2627c5842e4b3c986f0a69ab862",
       "version_major": 2,
       "version_minor": 0
      },
      "text/plain": [
       "Getting ROI info:   0%|          | 0/2 [00:00<?, ?it/s]"
      ]
     },
     "metadata": {},
     "output_type": "display_data"
    },
    {
     "data": {
      "application/vnd.jupyter.widget-view+json": {
       "model_id": "2c0c5705ef4940cbb1b7aae633d2528f",
       "version_major": 2,
       "version_minor": 0
      },
      "text/plain": [
       "Getting ROI info:   0%|          | 0/2 [00:00<?, ?it/s]"
      ]
     },
     "metadata": {},
     "output_type": "display_data"
    },
    {
     "data": {
      "application/vnd.jupyter.widget-view+json": {
       "model_id": "b73fa6e3ec2c44acb68e44ed57c67061",
       "version_major": 2,
       "version_minor": 0
      },
      "text/plain": [
       "Getting ROI info:   0%|          | 0/2 [00:00<?, ?it/s]"
      ]
     },
     "metadata": {},
     "output_type": "display_data"
    },
    {
     "data": {
      "application/vnd.jupyter.widget-view+json": {
       "model_id": "5c9f9a88902e44ca85ccf7e26f739cf5",
       "version_major": 2,
       "version_minor": 0
      },
      "text/plain": [
       "Getting ROI info:   0%|          | 0/2 [00:00<?, ?it/s]"
      ]
     },
     "metadata": {},
     "output_type": "display_data"
    },
    {
     "data": {
      "application/vnd.jupyter.widget-view+json": {
       "model_id": "6013210923a44682ab886a26e3e216d7",
       "version_major": 2,
       "version_minor": 0
      },
      "text/plain": [
       "Getting ROI info:   0%|          | 0/2 [00:00<?, ?it/s]"
      ]
     },
     "metadata": {},
     "output_type": "display_data"
    },
    {
     "data": {
      "application/vnd.jupyter.widget-view+json": {
       "model_id": "968ddd9d080f411abd962a8d1a539c8c",
       "version_major": 2,
       "version_minor": 0
      },
      "text/plain": [
       "Getting ROI info:   0%|          | 0/2 [00:00<?, ?it/s]"
      ]
     },
     "metadata": {},
     "output_type": "display_data"
    },
    {
     "data": {
      "application/vnd.jupyter.widget-view+json": {
       "model_id": "e4b4ec100d9547d5b0c015e597d02d33",
       "version_major": 2,
       "version_minor": 0
      },
      "text/plain": [
       "Getting ROI info:   0%|          | 0/2 [00:00<?, ?it/s]"
      ]
     },
     "metadata": {},
     "output_type": "display_data"
    },
    {
     "data": {
      "application/vnd.jupyter.widget-view+json": {
       "model_id": "fc054e2cd63f44f5ae8eec924d8ba628",
       "version_major": 2,
       "version_minor": 0
      },
      "text/plain": [
       "Getting ROI info:   0%|          | 0/2 [00:00<?, ?it/s]"
      ]
     },
     "metadata": {},
     "output_type": "display_data"
    },
    {
     "data": {
      "application/vnd.jupyter.widget-view+json": {
       "model_id": "1b550bf54d2f4976ad3a56e76bef8e77",
       "version_major": 2,
       "version_minor": 0
      },
      "text/plain": [
       "Getting ROI info:   0%|          | 0/2 [00:00<?, ?it/s]"
      ]
     },
     "metadata": {},
     "output_type": "display_data"
    },
    {
     "data": {
      "application/vnd.jupyter.widget-view+json": {
       "model_id": "9d30b9c06b05441d965962ed152d93fe",
       "version_major": 2,
       "version_minor": 0
      },
      "text/plain": [
       "Getting ROI info:   0%|          | 0/2 [00:00<?, ?it/s]"
      ]
     },
     "metadata": {},
     "output_type": "display_data"
    },
    {
     "data": {
      "application/vnd.jupyter.widget-view+json": {
       "model_id": "ea76093e194541918c0d624c29faa71b",
       "version_major": 2,
       "version_minor": 0
      },
      "text/plain": [
       "Getting ROI info:   0%|          | 0/2 [00:00<?, ?it/s]"
      ]
     },
     "metadata": {},
     "output_type": "display_data"
    },
    {
     "data": {
      "application/vnd.jupyter.widget-view+json": {
       "model_id": "56a7dc9dd29542199299722d35a49379",
       "version_major": 2,
       "version_minor": 0
      },
      "text/plain": [
       "Getting ROI info:   0%|          | 0/2 [00:00<?, ?it/s]"
      ]
     },
     "metadata": {},
     "output_type": "display_data"
    },
    {
     "data": {
      "application/vnd.jupyter.widget-view+json": {
       "model_id": "b473e2927ca7476892a184dbb418e1e7",
       "version_major": 2,
       "version_minor": 0
      },
      "text/plain": [
       "Getting ROI info:   0%|          | 0/2 [00:00<?, ?it/s]"
      ]
     },
     "metadata": {},
     "output_type": "display_data"
    },
    {
     "data": {
      "application/vnd.jupyter.widget-view+json": {
       "model_id": "3e6c34d4bea64bee89ca78507b5c5a55",
       "version_major": 2,
       "version_minor": 0
      },
      "text/plain": [
       "Getting ROI info:   0%|          | 0/2 [00:00<?, ?it/s]"
      ]
     },
     "metadata": {},
     "output_type": "display_data"
    },
    {
     "data": {
      "application/vnd.jupyter.widget-view+json": {
       "model_id": "cff199aa349a436fbc54ece3be144e14",
       "version_major": 2,
       "version_minor": 0
      },
      "text/plain": [
       "Getting ROI info:   0%|          | 0/2 [00:00<?, ?it/s]"
      ]
     },
     "metadata": {},
     "output_type": "display_data"
    },
    {
     "data": {
      "application/vnd.jupyter.widget-view+json": {
       "model_id": "09de494ec7ec456285cf3718d03d62d6",
       "version_major": 2,
       "version_minor": 0
      },
      "text/plain": [
       "Getting ROI info:   0%|          | 0/2 [00:00<?, ?it/s]"
      ]
     },
     "metadata": {},
     "output_type": "display_data"
    },
    {
     "data": {
      "application/vnd.jupyter.widget-view+json": {
       "model_id": "9219520505374f0e84a9cd772bd8735f",
       "version_major": 2,
       "version_minor": 0
      },
      "text/plain": [
       "Getting ROI info:   0%|          | 0/2 [00:00<?, ?it/s]"
      ]
     },
     "metadata": {},
     "output_type": "display_data"
    },
    {
     "data": {
      "application/vnd.jupyter.widget-view+json": {
       "model_id": "43f7de3b218f49c5a5f7321c1b23f115",
       "version_major": 2,
       "version_minor": 0
      },
      "text/plain": [
       "Getting ROI info:   0%|          | 0/2 [00:00<?, ?it/s]"
      ]
     },
     "metadata": {},
     "output_type": "display_data"
    },
    {
     "data": {
      "application/vnd.jupyter.widget-view+json": {
       "model_id": "0175a4a5f2c64cb6960e4b4c9d59546b",
       "version_major": 2,
       "version_minor": 0
      },
      "text/plain": [
       "Getting ROI info:   0%|          | 0/2 [00:00<?, ?it/s]"
      ]
     },
     "metadata": {},
     "output_type": "display_data"
    },
    {
     "data": {
      "application/vnd.jupyter.widget-view+json": {
       "model_id": "c1bdebc9f1ce4fb88ea20a00ec4bee3b",
       "version_major": 2,
       "version_minor": 0
      },
      "text/plain": [
       "Getting ROI info:   0%|          | 0/2 [00:00<?, ?it/s]"
      ]
     },
     "metadata": {},
     "output_type": "display_data"
    },
    {
     "data": {
      "application/vnd.jupyter.widget-view+json": {
       "model_id": "5a6bc0de86ee445ba3083d5264a908bf",
       "version_major": 2,
       "version_minor": 0
      },
      "text/plain": [
       "Getting ROI info:   0%|          | 0/2 [00:00<?, ?it/s]"
      ]
     },
     "metadata": {},
     "output_type": "display_data"
    },
    {
     "data": {
      "application/vnd.jupyter.widget-view+json": {
       "model_id": "c0be5540467d480da43a12040f93ade1",
       "version_major": 2,
       "version_minor": 0
      },
      "text/plain": [
       "Getting ROI info:   0%|          | 0/2 [00:00<?, ?it/s]"
      ]
     },
     "metadata": {},
     "output_type": "display_data"
    },
    {
     "data": {
      "application/vnd.jupyter.widget-view+json": {
       "model_id": "63adc148b63946fcb32c1a6b5ddcf568",
       "version_major": 2,
       "version_minor": 0
      },
      "text/plain": [
       "Getting ROI info:   0%|          | 0/2 [00:00<?, ?it/s]"
      ]
     },
     "metadata": {},
     "output_type": "display_data"
    },
    {
     "data": {
      "application/vnd.jupyter.widget-view+json": {
       "model_id": "471f0cf1b6de497da5c1a98ed7d71f91",
       "version_major": 2,
       "version_minor": 0
      },
      "text/plain": [
       "Getting ROI info:   0%|          | 0/2 [00:00<?, ?it/s]"
      ]
     },
     "metadata": {},
     "output_type": "display_data"
    },
    {
     "data": {
      "application/vnd.jupyter.widget-view+json": {
       "model_id": "2d63ece6b916427db8b5a0d9d43e9724",
       "version_major": 2,
       "version_minor": 0
      },
      "text/plain": [
       "Getting ROI info:   0%|          | 0/2 [00:00<?, ?it/s]"
      ]
     },
     "metadata": {},
     "output_type": "display_data"
    },
    {
     "data": {
      "application/vnd.jupyter.widget-view+json": {
       "model_id": "20eb4abb36b54bae963a7f63f05d3cbe",
       "version_major": 2,
       "version_minor": 0
      },
      "text/plain": [
       "Getting ROI info:   0%|          | 0/2 [00:00<?, ?it/s]"
      ]
     },
     "metadata": {},
     "output_type": "display_data"
    },
    {
     "data": {
      "application/vnd.jupyter.widget-view+json": {
       "model_id": "6c468f4fa42d4b9a8f69dd7effd33f78",
       "version_major": 2,
       "version_minor": 0
      },
      "text/plain": [
       "Getting ROI info:   0%|          | 0/2 [00:00<?, ?it/s]"
      ]
     },
     "metadata": {},
     "output_type": "display_data"
    },
    {
     "data": {
      "application/vnd.jupyter.widget-view+json": {
       "model_id": "a97162eea870494b8095348bb167265a",
       "version_major": 2,
       "version_minor": 0
      },
      "text/plain": [
       "Getting ROI info:   0%|          | 0/2 [00:00<?, ?it/s]"
      ]
     },
     "metadata": {},
     "output_type": "display_data"
    },
    {
     "data": {
      "application/vnd.jupyter.widget-view+json": {
       "model_id": "92080b4b6ca84836b585a043d7c6dff0",
       "version_major": 2,
       "version_minor": 0
      },
      "text/plain": [
       "Getting ROI info:   0%|          | 0/2 [00:00<?, ?it/s]"
      ]
     },
     "metadata": {},
     "output_type": "display_data"
    },
    {
     "data": {
      "application/vnd.jupyter.widget-view+json": {
       "model_id": "474e6744ab644e41927f086f93d5cd0f",
       "version_major": 2,
       "version_minor": 0
      },
      "text/plain": [
       "Getting ROI info:   0%|          | 0/2 [00:00<?, ?it/s]"
      ]
     },
     "metadata": {},
     "output_type": "display_data"
    },
    {
     "data": {
      "application/vnd.jupyter.widget-view+json": {
       "model_id": "9360d549073548b683950db5e695ee07",
       "version_major": 2,
       "version_minor": 0
      },
      "text/plain": [
       "Getting ROI info:   0%|          | 0/2 [00:00<?, ?it/s]"
      ]
     },
     "metadata": {},
     "output_type": "display_data"
    },
    {
     "data": {
      "application/vnd.jupyter.widget-view+json": {
       "model_id": "9ff605848bfb4dd8800d20a62a9c71fe",
       "version_major": 2,
       "version_minor": 0
      },
      "text/plain": [
       "Getting ROI info:   0%|          | 0/2 [00:00<?, ?it/s]"
      ]
     },
     "metadata": {},
     "output_type": "display_data"
    },
    {
     "data": {
      "application/vnd.jupyter.widget-view+json": {
       "model_id": "d62ad25b9ae1444f96245dc3a072e4d4",
       "version_major": 2,
       "version_minor": 0
      },
      "text/plain": [
       "Getting ROI info:   0%|          | 0/2 [00:00<?, ?it/s]"
      ]
     },
     "metadata": {},
     "output_type": "display_data"
    },
    {
     "data": {
      "application/vnd.jupyter.widget-view+json": {
       "model_id": "b1130908efd74e0da7e1dd9238c2b2ab",
       "version_major": 2,
       "version_minor": 0
      },
      "text/plain": [
       "Getting ROI info:   0%|          | 0/2 [00:00<?, ?it/s]"
      ]
     },
     "metadata": {},
     "output_type": "display_data"
    },
    {
     "data": {
      "application/vnd.jupyter.widget-view+json": {
       "model_id": "edc0c1247d584f84befedb97889d15fb",
       "version_major": 2,
       "version_minor": 0
      },
      "text/plain": [
       "Getting ROI info:   0%|          | 0/2 [00:00<?, ?it/s]"
      ]
     },
     "metadata": {},
     "output_type": "display_data"
    },
    {
     "data": {
      "application/vnd.jupyter.widget-view+json": {
       "model_id": "2a5a8864f5dd44ce9a9b69ccad78dbbe",
       "version_major": 2,
       "version_minor": 0
      },
      "text/plain": [
       "Getting ROI info:   0%|          | 0/2 [00:00<?, ?it/s]"
      ]
     },
     "metadata": {},
     "output_type": "display_data"
    },
    {
     "data": {
      "application/vnd.jupyter.widget-view+json": {
       "model_id": "0cd1a5befb5e40daa05736156b1266d8",
       "version_major": 2,
       "version_minor": 0
      },
      "text/plain": [
       "Getting ROI info:   0%|          | 0/2 [00:00<?, ?it/s]"
      ]
     },
     "metadata": {},
     "output_type": "display_data"
    },
    {
     "data": {
      "application/vnd.jupyter.widget-view+json": {
       "model_id": "6e0eac045db94b00a86f11e2269b9a9c",
       "version_major": 2,
       "version_minor": 0
      },
      "text/plain": [
       "Getting ROI info:   0%|          | 0/2 [00:00<?, ?it/s]"
      ]
     },
     "metadata": {},
     "output_type": "display_data"
    },
    {
     "data": {
      "application/vnd.jupyter.widget-view+json": {
       "model_id": "1039baacbebe4065999cfbe97219214d",
       "version_major": 2,
       "version_minor": 0
      },
      "text/plain": [
       "Getting ROI info:   0%|          | 0/2 [00:00<?, ?it/s]"
      ]
     },
     "metadata": {},
     "output_type": "display_data"
    },
    {
     "data": {
      "application/vnd.jupyter.widget-view+json": {
       "model_id": "ef4fccafde8043ccadcc74d76732f9c0",
       "version_major": 2,
       "version_minor": 0
      },
      "text/plain": [
       "Getting ROI info:   0%|          | 0/2 [00:00<?, ?it/s]"
      ]
     },
     "metadata": {},
     "output_type": "display_data"
    },
    {
     "data": {
      "application/vnd.jupyter.widget-view+json": {
       "model_id": "5018055153da49f0b69cf506edc2f72b",
       "version_major": 2,
       "version_minor": 0
      },
      "text/plain": [
       "Getting ROI info:   0%|          | 0/2 [00:00<?, ?it/s]"
      ]
     },
     "metadata": {},
     "output_type": "display_data"
    },
    {
     "data": {
      "application/vnd.jupyter.widget-view+json": {
       "model_id": "f7ea0a821c9e458e9b0b78a56b7fd1f4",
       "version_major": 2,
       "version_minor": 0
      },
      "text/plain": [
       "Getting ROI info:   0%|          | 0/2 [00:00<?, ?it/s]"
      ]
     },
     "metadata": {},
     "output_type": "display_data"
    },
    {
     "data": {
      "application/vnd.jupyter.widget-view+json": {
       "model_id": "7c53257c9cda4dc2a3522b7ffe5c7832",
       "version_major": 2,
       "version_minor": 0
      },
      "text/plain": [
       "Getting ROI info:   0%|          | 0/2 [00:00<?, ?it/s]"
      ]
     },
     "metadata": {},
     "output_type": "display_data"
    },
    {
     "data": {
      "application/vnd.jupyter.widget-view+json": {
       "model_id": "57ae3d74700c4f1fabc97994c20ae637",
       "version_major": 2,
       "version_minor": 0
      },
      "text/plain": [
       "Getting ROI info:   0%|          | 0/2 [00:00<?, ?it/s]"
      ]
     },
     "metadata": {},
     "output_type": "display_data"
    },
    {
     "data": {
      "application/vnd.jupyter.widget-view+json": {
       "model_id": "7633bc5fec2541f9b000334a34118783",
       "version_major": 2,
       "version_minor": 0
      },
      "text/plain": [
       "Getting ROI info:   0%|          | 0/2 [00:00<?, ?it/s]"
      ]
     },
     "metadata": {},
     "output_type": "display_data"
    },
    {
     "data": {
      "application/vnd.jupyter.widget-view+json": {
       "model_id": "507fd15b21014d1f96302bd96919c018",
       "version_major": 2,
       "version_minor": 0
      },
      "text/plain": [
       "Getting ROI info:   0%|          | 0/2 [00:00<?, ?it/s]"
      ]
     },
     "metadata": {},
     "output_type": "display_data"
    },
    {
     "data": {
      "application/vnd.jupyter.widget-view+json": {
       "model_id": "67f4d7fc80984720891ae840cde8e7af",
       "version_major": 2,
       "version_minor": 0
      },
      "text/plain": [
       "Getting ROI info:   0%|          | 0/2 [00:00<?, ?it/s]"
      ]
     },
     "metadata": {},
     "output_type": "display_data"
    },
    {
     "data": {
      "application/vnd.jupyter.widget-view+json": {
       "model_id": "5b73ebab54b2481587d9c623828e8d00",
       "version_major": 2,
       "version_minor": 0
      },
      "text/plain": [
       "Getting ROI info:   0%|          | 0/2 [00:00<?, ?it/s]"
      ]
     },
     "metadata": {},
     "output_type": "display_data"
    },
    {
     "data": {
      "application/vnd.jupyter.widget-view+json": {
       "model_id": "1cf217c21b7840ca99048fa3feb8d931",
       "version_major": 2,
       "version_minor": 0
      },
      "text/plain": [
       "Getting ROI info:   0%|          | 0/2 [00:00<?, ?it/s]"
      ]
     },
     "metadata": {},
     "output_type": "display_data"
    },
    {
     "data": {
      "application/vnd.jupyter.widget-view+json": {
       "model_id": "357f1425d6064dd78b34ac7c3a681371",
       "version_major": 2,
       "version_minor": 0
      },
      "text/plain": [
       "Getting ROI info:   0%|          | 0/2 [00:00<?, ?it/s]"
      ]
     },
     "metadata": {},
     "output_type": "display_data"
    },
    {
     "data": {
      "application/vnd.jupyter.widget-view+json": {
       "model_id": "b447efe8f2e14e31ab1914f4f7808dd6",
       "version_major": 2,
       "version_minor": 0
      },
      "text/plain": [
       "Getting ROI info:   0%|          | 0/2 [00:00<?, ?it/s]"
      ]
     },
     "metadata": {},
     "output_type": "display_data"
    },
    {
     "data": {
      "application/vnd.jupyter.widget-view+json": {
       "model_id": "ebeefd064efe4547bfd7b38cd15097c4",
       "version_major": 2,
       "version_minor": 0
      },
      "text/plain": [
       "Getting ROI info:   0%|          | 0/2 [00:00<?, ?it/s]"
      ]
     },
     "metadata": {},
     "output_type": "display_data"
    },
    {
     "data": {
      "application/vnd.jupyter.widget-view+json": {
       "model_id": "66f68239b64a4616bcf1b8b86a793b3b",
       "version_major": 2,
       "version_minor": 0
      },
      "text/plain": [
       "Getting ROI info:   0%|          | 0/2 [00:00<?, ?it/s]"
      ]
     },
     "metadata": {},
     "output_type": "display_data"
    },
    {
     "data": {
      "application/vnd.jupyter.widget-view+json": {
       "model_id": "44b17ee46306425ba007745154d47f24",
       "version_major": 2,
       "version_minor": 0
      },
      "text/plain": [
       "Getting ROI info:   0%|          | 0/2 [00:00<?, ?it/s]"
      ]
     },
     "metadata": {},
     "output_type": "display_data"
    },
    {
     "data": {
      "application/vnd.jupyter.widget-view+json": {
       "model_id": "a2555d5f2ab6468c88f3be96ca65b084",
       "version_major": 2,
       "version_minor": 0
      },
      "text/plain": [
       "Getting ROI info:   0%|          | 0/2 [00:00<?, ?it/s]"
      ]
     },
     "metadata": {},
     "output_type": "display_data"
    },
    {
     "data": {
      "application/vnd.jupyter.widget-view+json": {
       "model_id": "5f29ce31656749cf88d757b3e52e9815",
       "version_major": 2,
       "version_minor": 0
      },
      "text/plain": [
       "Getting ROI info:   0%|          | 0/2 [00:00<?, ?it/s]"
      ]
     },
     "metadata": {},
     "output_type": "display_data"
    },
    {
     "data": {
      "application/vnd.jupyter.widget-view+json": {
       "model_id": "78a2f80c8d304feab60b6fdd33aa3c84",
       "version_major": 2,
       "version_minor": 0
      },
      "text/plain": [
       "Getting ROI info:   0%|          | 0/2 [00:00<?, ?it/s]"
      ]
     },
     "metadata": {},
     "output_type": "display_data"
    },
    {
     "data": {
      "application/vnd.jupyter.widget-view+json": {
       "model_id": "240d14271c4b4b23a5bc644adc322261",
       "version_major": 2,
       "version_minor": 0
      },
      "text/plain": [
       "Getting ROI info:   0%|          | 0/2 [00:00<?, ?it/s]"
      ]
     },
     "metadata": {},
     "output_type": "display_data"
    },
    {
     "data": {
      "application/vnd.jupyter.widget-view+json": {
       "model_id": "84967e2d7b4944afa6c77985b99f6f64",
       "version_major": 2,
       "version_minor": 0
      },
      "text/plain": [
       "Getting ROI info:   0%|          | 0/2 [00:00<?, ?it/s]"
      ]
     },
     "metadata": {},
     "output_type": "display_data"
    },
    {
     "data": {
      "application/vnd.jupyter.widget-view+json": {
       "model_id": "8441dc9821a146e79948f87b32693722",
       "version_major": 2,
       "version_minor": 0
      },
      "text/plain": [
       "Getting ROI info:   0%|          | 0/2 [00:00<?, ?it/s]"
      ]
     },
     "metadata": {},
     "output_type": "display_data"
    },
    {
     "data": {
      "application/vnd.jupyter.widget-view+json": {
       "model_id": "5705d84831634879a9b94cc7eeabc538",
       "version_major": 2,
       "version_minor": 0
      },
      "text/plain": [
       "Getting ROI info:   0%|          | 0/2 [00:00<?, ?it/s]"
      ]
     },
     "metadata": {},
     "output_type": "display_data"
    },
    {
     "data": {
      "application/vnd.jupyter.widget-view+json": {
       "model_id": "05dc22b22bf14384818a4c056c8bbec5",
       "version_major": 2,
       "version_minor": 0
      },
      "text/plain": [
       "Getting ROI info:   0%|          | 0/2 [00:00<?, ?it/s]"
      ]
     },
     "metadata": {},
     "output_type": "display_data"
    },
    {
     "data": {
      "application/vnd.jupyter.widget-view+json": {
       "model_id": "ea5a7f31e74c438fb868323f35aeffc6",
       "version_major": 2,
       "version_minor": 0
      },
      "text/plain": [
       "Getting ROI info:   0%|          | 0/2 [00:00<?, ?it/s]"
      ]
     },
     "metadata": {},
     "output_type": "display_data"
    },
    {
     "data": {
      "application/vnd.jupyter.widget-view+json": {
       "model_id": "17eab47b70a147e4b22ff9ade02011af",
       "version_major": 2,
       "version_minor": 0
      },
      "text/plain": [
       "Getting ROI info:   0%|          | 0/2 [00:00<?, ?it/s]"
      ]
     },
     "metadata": {},
     "output_type": "display_data"
    },
    {
     "data": {
      "application/vnd.jupyter.widget-view+json": {
       "model_id": "cdbbfc75924a4c428253fb18f6735cff",
       "version_major": 2,
       "version_minor": 0
      },
      "text/plain": [
       "Getting ROI info:   0%|          | 0/2 [00:00<?, ?it/s]"
      ]
     },
     "metadata": {},
     "output_type": "display_data"
    },
    {
     "data": {
      "application/vnd.jupyter.widget-view+json": {
       "model_id": "299aba0115674e2d91f6365741070ab6",
       "version_major": 2,
       "version_minor": 0
      },
      "text/plain": [
       "Getting ROI info:   0%|          | 0/2 [00:00<?, ?it/s]"
      ]
     },
     "metadata": {},
     "output_type": "display_data"
    },
    {
     "data": {
      "application/vnd.jupyter.widget-view+json": {
       "model_id": "fe5b891e9a6f4ffcaa93930882406ff6",
       "version_major": 2,
       "version_minor": 0
      },
      "text/plain": [
       "Getting ROI info:   0%|          | 0/2 [00:00<?, ?it/s]"
      ]
     },
     "metadata": {},
     "output_type": "display_data"
    },
    {
     "data": {
      "application/vnd.jupyter.widget-view+json": {
       "model_id": "7e27c186c7bd4cdabff3a2bc35828ca7",
       "version_major": 2,
       "version_minor": 0
      },
      "text/plain": [
       "Getting ROI info:   0%|          | 0/2 [00:00<?, ?it/s]"
      ]
     },
     "metadata": {},
     "output_type": "display_data"
    },
    {
     "data": {
      "application/vnd.jupyter.widget-view+json": {
       "model_id": "401028d14cfc44b39f89a5c1c187cc08",
       "version_major": 2,
       "version_minor": 0
      },
      "text/plain": [
       "Getting ROI info:   0%|          | 0/2 [00:00<?, ?it/s]"
      ]
     },
     "metadata": {},
     "output_type": "display_data"
    },
    {
     "data": {
      "application/vnd.jupyter.widget-view+json": {
       "model_id": "b80231be7f354b6b89f165a3fd381be3",
       "version_major": 2,
       "version_minor": 0
      },
      "text/plain": [
       "Getting ROI info:   0%|          | 0/2 [00:00<?, ?it/s]"
      ]
     },
     "metadata": {},
     "output_type": "display_data"
    },
    {
     "data": {
      "application/vnd.jupyter.widget-view+json": {
       "model_id": "d29f586887dd412ab54ff8b24bb96278",
       "version_major": 2,
       "version_minor": 0
      },
      "text/plain": [
       "Getting ROI info:   0%|          | 0/2 [00:00<?, ?it/s]"
      ]
     },
     "metadata": {},
     "output_type": "display_data"
    },
    {
     "data": {
      "application/vnd.jupyter.widget-view+json": {
       "model_id": "7752e44d3ebe42d08bbfa2445f79cb55",
       "version_major": 2,
       "version_minor": 0
      },
      "text/plain": [
       "Getting ROI info:   0%|          | 0/2 [00:00<?, ?it/s]"
      ]
     },
     "metadata": {},
     "output_type": "display_data"
    },
    {
     "data": {
      "application/vnd.jupyter.widget-view+json": {
       "model_id": "0e0cfdd42e49460fa5f8c013f5b477a9",
       "version_major": 2,
       "version_minor": 0
      },
      "text/plain": [
       "Getting ROI info:   0%|          | 0/2 [00:00<?, ?it/s]"
      ]
     },
     "metadata": {},
     "output_type": "display_data"
    },
    {
     "data": {
      "application/vnd.jupyter.widget-view+json": {
       "model_id": "c64d7558d1f54300b67c8c4a09978964",
       "version_major": 2,
       "version_minor": 0
      },
      "text/plain": [
       "Getting ROI info:   0%|          | 0/2 [00:00<?, ?it/s]"
      ]
     },
     "metadata": {},
     "output_type": "display_data"
    },
    {
     "data": {
      "application/vnd.jupyter.widget-view+json": {
       "model_id": "b0102a6196cf4154826e64c28786aa21",
       "version_major": 2,
       "version_minor": 0
      },
      "text/plain": [
       "Getting ROI info:   0%|          | 0/2 [00:00<?, ?it/s]"
      ]
     },
     "metadata": {},
     "output_type": "display_data"
    },
    {
     "data": {
      "application/vnd.jupyter.widget-view+json": {
       "model_id": "e9b6462d952a4dd7a239414370211e46",
       "version_major": 2,
       "version_minor": 0
      },
      "text/plain": [
       "Getting ROI info:   0%|          | 0/2 [00:00<?, ?it/s]"
      ]
     },
     "metadata": {},
     "output_type": "display_data"
    },
    {
     "data": {
      "application/vnd.jupyter.widget-view+json": {
       "model_id": "ed08d5f80b5b4a668dafbe39dd4dfc1a",
       "version_major": 2,
       "version_minor": 0
      },
      "text/plain": [
       "Getting ROI info:   0%|          | 0/2 [00:00<?, ?it/s]"
      ]
     },
     "metadata": {},
     "output_type": "display_data"
    },
    {
     "data": {
      "application/vnd.jupyter.widget-view+json": {
       "model_id": "67632578040f47a1ae3ba97a4b1258a9",
       "version_major": 2,
       "version_minor": 0
      },
      "text/plain": [
       "Getting ROI info:   0%|          | 0/2 [00:00<?, ?it/s]"
      ]
     },
     "metadata": {},
     "output_type": "display_data"
    },
    {
     "data": {
      "application/vnd.jupyter.widget-view+json": {
       "model_id": "c44033c9fe9945f3a37a6ba8e53775e5",
       "version_major": 2,
       "version_minor": 0
      },
      "text/plain": [
       "Getting ROI info:   0%|          | 0/2 [00:00<?, ?it/s]"
      ]
     },
     "metadata": {},
     "output_type": "display_data"
    },
    {
     "data": {
      "application/vnd.jupyter.widget-view+json": {
       "model_id": "76c4cd161f8e4896a261f6be30c0dcc0",
       "version_major": 2,
       "version_minor": 0
      },
      "text/plain": [
       "Getting ROI info:   0%|          | 0/2 [00:00<?, ?it/s]"
      ]
     },
     "metadata": {},
     "output_type": "display_data"
    },
    {
     "data": {
      "application/vnd.jupyter.widget-view+json": {
       "model_id": "00d2f0dd3bd7411ab2931d30469bf90e",
       "version_major": 2,
       "version_minor": 0
      },
      "text/plain": [
       "Getting ROI info:   0%|          | 0/2 [00:00<?, ?it/s]"
      ]
     },
     "metadata": {},
     "output_type": "display_data"
    },
    {
     "data": {
      "application/vnd.jupyter.widget-view+json": {
       "model_id": "befe09b7a9ef48ae9217916c7f06c77b",
       "version_major": 2,
       "version_minor": 0
      },
      "text/plain": [
       "Getting ROI info:   0%|          | 0/2 [00:00<?, ?it/s]"
      ]
     },
     "metadata": {},
     "output_type": "display_data"
    },
    {
     "data": {
      "application/vnd.jupyter.widget-view+json": {
       "model_id": "c9de0e1ebe784cb5a0dfe12e4a81c2f6",
       "version_major": 2,
       "version_minor": 0
      },
      "text/plain": [
       "Getting ROI info:   0%|          | 0/2 [00:00<?, ?it/s]"
      ]
     },
     "metadata": {},
     "output_type": "display_data"
    },
    {
     "data": {
      "application/vnd.jupyter.widget-view+json": {
       "model_id": "da5152f4b3a64014b3733040acb95d65",
       "version_major": 2,
       "version_minor": 0
      },
      "text/plain": [
       "Getting ROI info:   0%|          | 0/2 [00:00<?, ?it/s]"
      ]
     },
     "metadata": {},
     "output_type": "display_data"
    },
    {
     "data": {
      "application/vnd.jupyter.widget-view+json": {
       "model_id": "c92e0dfb8d66410295babb000b3902f2",
       "version_major": 2,
       "version_minor": 0
      },
      "text/plain": [
       "Getting ROI info:   0%|          | 0/2 [00:00<?, ?it/s]"
      ]
     },
     "metadata": {},
     "output_type": "display_data"
    },
    {
     "data": {
      "application/vnd.jupyter.widget-view+json": {
       "model_id": "101d1ad1838f4c4cbbf3a12e027a5c33",
       "version_major": 2,
       "version_minor": 0
      },
      "text/plain": [
       "Getting ROI info:   0%|          | 0/2 [00:00<?, ?it/s]"
      ]
     },
     "metadata": {},
     "output_type": "display_data"
    },
    {
     "data": {
      "application/vnd.jupyter.widget-view+json": {
       "model_id": "f8a7304529db464cbaf44c1b39fb0e1e",
       "version_major": 2,
       "version_minor": 0
      },
      "text/plain": [
       "Getting ROI info:   0%|          | 0/2 [00:00<?, ?it/s]"
      ]
     },
     "metadata": {},
     "output_type": "display_data"
    },
    {
     "data": {
      "application/vnd.jupyter.widget-view+json": {
       "model_id": "6279926f8db1478da019d30faf5db930",
       "version_major": 2,
       "version_minor": 0
      },
      "text/plain": [
       "Getting ROI info:   0%|          | 0/2 [00:00<?, ?it/s]"
      ]
     },
     "metadata": {},
     "output_type": "display_data"
    },
    {
     "data": {
      "application/vnd.jupyter.widget-view+json": {
       "model_id": "a6927a4f97544a0fa3f9063c932d11cd",
       "version_major": 2,
       "version_minor": 0
      },
      "text/plain": [
       "Getting ROI info:   0%|          | 0/2 [00:00<?, ?it/s]"
      ]
     },
     "metadata": {},
     "output_type": "display_data"
    },
    {
     "data": {
      "application/vnd.jupyter.widget-view+json": {
       "model_id": "2cfbe17b0d2f4635aa75611b1e07466b",
       "version_major": 2,
       "version_minor": 0
      },
      "text/plain": [
       "Getting ROI info:   0%|          | 0/2 [00:00<?, ?it/s]"
      ]
     },
     "metadata": {},
     "output_type": "display_data"
    },
    {
     "data": {
      "application/vnd.jupyter.widget-view+json": {
       "model_id": "1019a4572c6d43eb88722593eae387b5",
       "version_major": 2,
       "version_minor": 0
      },
      "text/plain": [
       "Getting ROI info:   0%|          | 0/2 [00:00<?, ?it/s]"
      ]
     },
     "metadata": {},
     "output_type": "display_data"
    },
    {
     "data": {
      "application/vnd.jupyter.widget-view+json": {
       "model_id": "31c58f47bd1b4d0f9363f8ed72cc029f",
       "version_major": 2,
       "version_minor": 0
      },
      "text/plain": [
       "Getting ROI info:   0%|          | 0/2 [00:00<?, ?it/s]"
      ]
     },
     "metadata": {},
     "output_type": "display_data"
    },
    {
     "data": {
      "application/vnd.jupyter.widget-view+json": {
       "model_id": "b4c043810651405e95ea4f70121a50e4",
       "version_major": 2,
       "version_minor": 0
      },
      "text/plain": [
       "Getting ROI info:   0%|          | 0/2 [00:00<?, ?it/s]"
      ]
     },
     "metadata": {},
     "output_type": "display_data"
    },
    {
     "data": {
      "application/vnd.jupyter.widget-view+json": {
       "model_id": "4a9be122ea044f68a057ce25e389da73",
       "version_major": 2,
       "version_minor": 0
      },
      "text/plain": [
       "Getting ROI info:   0%|          | 0/2 [00:00<?, ?it/s]"
      ]
     },
     "metadata": {},
     "output_type": "display_data"
    },
    {
     "data": {
      "application/vnd.jupyter.widget-view+json": {
       "model_id": "e3cef4ef93b24c8b978886800eb5dceb",
       "version_major": 2,
       "version_minor": 0
      },
      "text/plain": [
       "Getting ROI info:   0%|          | 0/2 [00:00<?, ?it/s]"
      ]
     },
     "metadata": {},
     "output_type": "display_data"
    },
    {
     "data": {
      "application/vnd.jupyter.widget-view+json": {
       "model_id": "23ed8185b4b44801a47848dbd59fcd50",
       "version_major": 2,
       "version_minor": 0
      },
      "text/plain": [
       "Getting ROI info:   0%|          | 0/2 [00:00<?, ?it/s]"
      ]
     },
     "metadata": {},
     "output_type": "display_data"
    },
    {
     "data": {
      "application/vnd.jupyter.widget-view+json": {
       "model_id": "8f73e9e014f94eb6ab57a053e5cc87da",
       "version_major": 2,
       "version_minor": 0
      },
      "text/plain": [
       "Getting ROI info:   0%|          | 0/2 [00:00<?, ?it/s]"
      ]
     },
     "metadata": {},
     "output_type": "display_data"
    },
    {
     "data": {
      "application/vnd.jupyter.widget-view+json": {
       "model_id": "5d2c8ac6426345d4a0783933ff4599bc",
       "version_major": 2,
       "version_minor": 0
      },
      "text/plain": [
       "Getting ROI info:   0%|          | 0/2 [00:00<?, ?it/s]"
      ]
     },
     "metadata": {},
     "output_type": "display_data"
    },
    {
     "data": {
      "application/vnd.jupyter.widget-view+json": {
       "model_id": "923c42df80bd465b9c33b9d57a661b3b",
       "version_major": 2,
       "version_minor": 0
      },
      "text/plain": [
       "Getting ROI info:   0%|          | 0/2 [00:00<?, ?it/s]"
      ]
     },
     "metadata": {},
     "output_type": "display_data"
    },
    {
     "data": {
      "application/vnd.jupyter.widget-view+json": {
       "model_id": "050878999b9f47eab8ec6b65b09fbb04",
       "version_major": 2,
       "version_minor": 0
      },
      "text/plain": [
       "Getting ROI info:   0%|          | 0/2 [00:00<?, ?it/s]"
      ]
     },
     "metadata": {},
     "output_type": "display_data"
    },
    {
     "data": {
      "application/vnd.jupyter.widget-view+json": {
       "model_id": "b96e5fec35ea49e194ff83e903600404",
       "version_major": 2,
       "version_minor": 0
      },
      "text/plain": [
       "Getting ROI info:   0%|          | 0/2 [00:00<?, ?it/s]"
      ]
     },
     "metadata": {},
     "output_type": "display_data"
    },
    {
     "data": {
      "application/vnd.jupyter.widget-view+json": {
       "model_id": "9705ee20326b4433a3edefa85a3b3e9c",
       "version_major": 2,
       "version_minor": 0
      },
      "text/plain": [
       "Getting ROI info:   0%|          | 0/2 [00:00<?, ?it/s]"
      ]
     },
     "metadata": {},
     "output_type": "display_data"
    },
    {
     "data": {
      "application/vnd.jupyter.widget-view+json": {
       "model_id": "b175747b9133464cb7a95bcd2f2a13f3",
       "version_major": 2,
       "version_minor": 0
      },
      "text/plain": [
       "Getting ROI info:   0%|          | 0/2 [00:00<?, ?it/s]"
      ]
     },
     "metadata": {},
     "output_type": "display_data"
    },
    {
     "data": {
      "application/vnd.jupyter.widget-view+json": {
       "model_id": "a2a0e605624b40f8b5eed36edd23eb21",
       "version_major": 2,
       "version_minor": 0
      },
      "text/plain": [
       "Getting ROI info:   0%|          | 0/2 [00:00<?, ?it/s]"
      ]
     },
     "metadata": {},
     "output_type": "display_data"
    },
    {
     "data": {
      "application/vnd.jupyter.widget-view+json": {
       "model_id": "d94c1f23bd9d48a8b24a5e7c450b10cc",
       "version_major": 2,
       "version_minor": 0
      },
      "text/plain": [
       "Getting ROI info:   0%|          | 0/2 [00:00<?, ?it/s]"
      ]
     },
     "metadata": {},
     "output_type": "display_data"
    },
    {
     "data": {
      "application/vnd.jupyter.widget-view+json": {
       "model_id": "62060f2b5b9647efab8d2d3a08586c83",
       "version_major": 2,
       "version_minor": 0
      },
      "text/plain": [
       "Getting ROI info:   0%|          | 0/2 [00:00<?, ?it/s]"
      ]
     },
     "metadata": {},
     "output_type": "display_data"
    },
    {
     "data": {
      "application/vnd.jupyter.widget-view+json": {
       "model_id": "2b87562c2e004bdd854afbb2b1e5f32f",
       "version_major": 2,
       "version_minor": 0
      },
      "text/plain": [
       "Getting ROI info:   0%|          | 0/2 [00:00<?, ?it/s]"
      ]
     },
     "metadata": {},
     "output_type": "display_data"
    },
    {
     "data": {
      "application/vnd.jupyter.widget-view+json": {
       "model_id": "55f7fb4c1f624c19aa296b578d6649b6",
       "version_major": 2,
       "version_minor": 0
      },
      "text/plain": [
       "Getting ROI info:   0%|          | 0/2 [00:00<?, ?it/s]"
      ]
     },
     "metadata": {},
     "output_type": "display_data"
    },
    {
     "data": {
      "application/vnd.jupyter.widget-view+json": {
       "model_id": "7e3dba236021453db3aae8e625a8cd6a",
       "version_major": 2,
       "version_minor": 0
      },
      "text/plain": [
       "Getting ROI info:   0%|          | 0/2 [00:00<?, ?it/s]"
      ]
     },
     "metadata": {},
     "output_type": "display_data"
    },
    {
     "data": {
      "application/vnd.jupyter.widget-view+json": {
       "model_id": "7009f2e92f374cd68f3ad4264f7a2f24",
       "version_major": 2,
       "version_minor": 0
      },
      "text/plain": [
       "Getting ROI info:   0%|          | 0/2 [00:00<?, ?it/s]"
      ]
     },
     "metadata": {},
     "output_type": "display_data"
    },
    {
     "data": {
      "application/vnd.jupyter.widget-view+json": {
       "model_id": "a05829c8db7042bc8adab8ce7b78b9dd",
       "version_major": 2,
       "version_minor": 0
      },
      "text/plain": [
       "Getting ROI info:   0%|          | 0/2 [00:00<?, ?it/s]"
      ]
     },
     "metadata": {},
     "output_type": "display_data"
    },
    {
     "data": {
      "application/vnd.jupyter.widget-view+json": {
       "model_id": "6a74bf13c74848f398feda43dc23fbb2",
       "version_major": 2,
       "version_minor": 0
      },
      "text/plain": [
       "Getting ROI info:   0%|          | 0/2 [00:00<?, ?it/s]"
      ]
     },
     "metadata": {},
     "output_type": "display_data"
    },
    {
     "data": {
      "application/vnd.jupyter.widget-view+json": {
       "model_id": "f2f624c7558342418aea90c4074e7dd9",
       "version_major": 2,
       "version_minor": 0
      },
      "text/plain": [
       "Getting ROI info:   0%|          | 0/2 [00:00<?, ?it/s]"
      ]
     },
     "metadata": {},
     "output_type": "display_data"
    },
    {
     "data": {
      "application/vnd.jupyter.widget-view+json": {
       "model_id": "5344d6a2284a43ccb4aa9d4f2f351765",
       "version_major": 2,
       "version_minor": 0
      },
      "text/plain": [
       "Getting ROI info:   0%|          | 0/2 [00:00<?, ?it/s]"
      ]
     },
     "metadata": {},
     "output_type": "display_data"
    },
    {
     "data": {
      "application/vnd.jupyter.widget-view+json": {
       "model_id": "229e214614c1457bbd9c4c1b7a026b4f",
       "version_major": 2,
       "version_minor": 0
      },
      "text/plain": [
       "Getting ROI info:   0%|          | 0/2 [00:00<?, ?it/s]"
      ]
     },
     "metadata": {},
     "output_type": "display_data"
    },
    {
     "data": {
      "application/vnd.jupyter.widget-view+json": {
       "model_id": "7d529a2f416d4e859499f8725f20b7fe",
       "version_major": 2,
       "version_minor": 0
      },
      "text/plain": [
       "Getting ROI info:   0%|          | 0/2 [00:00<?, ?it/s]"
      ]
     },
     "metadata": {},
     "output_type": "display_data"
    },
    {
     "data": {
      "application/vnd.jupyter.widget-view+json": {
       "model_id": "a6e7901b45214425803ad03816e74f0e",
       "version_major": 2,
       "version_minor": 0
      },
      "text/plain": [
       "Getting ROI info:   0%|          | 0/2 [00:00<?, ?it/s]"
      ]
     },
     "metadata": {},
     "output_type": "display_data"
    },
    {
     "data": {
      "application/vnd.jupyter.widget-view+json": {
       "model_id": "99ece33d3d7b46828e1dc0ab6e0e5236",
       "version_major": 2,
       "version_minor": 0
      },
      "text/plain": [
       "Getting ROI info:   0%|          | 0/2 [00:00<?, ?it/s]"
      ]
     },
     "metadata": {},
     "output_type": "display_data"
    },
    {
     "data": {
      "application/vnd.jupyter.widget-view+json": {
       "model_id": "08a994109f764eeb97a4b101b6125154",
       "version_major": 2,
       "version_minor": 0
      },
      "text/plain": [
       "Getting ROI info:   0%|          | 0/2 [00:00<?, ?it/s]"
      ]
     },
     "metadata": {},
     "output_type": "display_data"
    },
    {
     "data": {
      "application/vnd.jupyter.widget-view+json": {
       "model_id": "6c4b5e98dc8f453a80ae0d7b08f72d4e",
       "version_major": 2,
       "version_minor": 0
      },
      "text/plain": [
       "Getting ROI info:   0%|          | 0/2 [00:00<?, ?it/s]"
      ]
     },
     "metadata": {},
     "output_type": "display_data"
    },
    {
     "data": {
      "application/vnd.jupyter.widget-view+json": {
       "model_id": "5c1d7068089c44eb81457e62bad0c637",
       "version_major": 2,
       "version_minor": 0
      },
      "text/plain": [
       "Getting ROI info:   0%|          | 0/2 [00:00<?, ?it/s]"
      ]
     },
     "metadata": {},
     "output_type": "display_data"
    },
    {
     "data": {
      "application/vnd.jupyter.widget-view+json": {
       "model_id": "a16ecf163dd04bc0b23c91a7518f9b2f",
       "version_major": 2,
       "version_minor": 0
      },
      "text/plain": [
       "Getting ROI info:   0%|          | 0/2 [00:00<?, ?it/s]"
      ]
     },
     "metadata": {},
     "output_type": "display_data"
    },
    {
     "data": {
      "application/vnd.jupyter.widget-view+json": {
       "model_id": "2ae671c251984fb5863c4e07485a6802",
       "version_major": 2,
       "version_minor": 0
      },
      "text/plain": [
       "Getting ROI info:   0%|          | 0/2 [00:00<?, ?it/s]"
      ]
     },
     "metadata": {},
     "output_type": "display_data"
    },
    {
     "data": {
      "application/vnd.jupyter.widget-view+json": {
       "model_id": "a0a3b37c73514c8396dde7ef7708be34",
       "version_major": 2,
       "version_minor": 0
      },
      "text/plain": [
       "Getting ROI info:   0%|          | 0/2 [00:00<?, ?it/s]"
      ]
     },
     "metadata": {},
     "output_type": "display_data"
    },
    {
     "data": {
      "application/vnd.jupyter.widget-view+json": {
       "model_id": "c7b704472c0c4197a780147d77bd2d6b",
       "version_major": 2,
       "version_minor": 0
      },
      "text/plain": [
       "Getting ROI info:   0%|          | 0/2 [00:00<?, ?it/s]"
      ]
     },
     "metadata": {},
     "output_type": "display_data"
    },
    {
     "data": {
      "application/vnd.jupyter.widget-view+json": {
       "model_id": "0bf3c4870baf49cd88e9f0361654b6c2",
       "version_major": 2,
       "version_minor": 0
      },
      "text/plain": [
       "Getting ROI info:   0%|          | 0/2 [00:00<?, ?it/s]"
      ]
     },
     "metadata": {},
     "output_type": "display_data"
    },
    {
     "data": {
      "application/vnd.jupyter.widget-view+json": {
       "model_id": "afe6b71bccfb411fac67a65aba7b7320",
       "version_major": 2,
       "version_minor": 0
      },
      "text/plain": [
       "Getting ROI info:   0%|          | 0/2 [00:00<?, ?it/s]"
      ]
     },
     "metadata": {},
     "output_type": "display_data"
    },
    {
     "data": {
      "application/vnd.jupyter.widget-view+json": {
       "model_id": "cb05e35f88a144cd860a5d18d4287d02",
       "version_major": 2,
       "version_minor": 0
      },
      "text/plain": [
       "Getting ROI info:   0%|          | 0/2 [00:00<?, ?it/s]"
      ]
     },
     "metadata": {},
     "output_type": "display_data"
    },
    {
     "data": {
      "application/vnd.jupyter.widget-view+json": {
       "model_id": "6eeddf6bc6134e08bd8e11c04b728353",
       "version_major": 2,
       "version_minor": 0
      },
      "text/plain": [
       "Getting ROI info:   0%|          | 0/2 [00:00<?, ?it/s]"
      ]
     },
     "metadata": {},
     "output_type": "display_data"
    },
    {
     "data": {
      "application/vnd.jupyter.widget-view+json": {
       "model_id": "fdf3964a05c645898f594a8c598ac7b4",
       "version_major": 2,
       "version_minor": 0
      },
      "text/plain": [
       "Getting ROI info:   0%|          | 0/2 [00:00<?, ?it/s]"
      ]
     },
     "metadata": {},
     "output_type": "display_data"
    },
    {
     "data": {
      "application/vnd.jupyter.widget-view+json": {
       "model_id": "7e9bf371c68344f0ba9879479b5a6137",
       "version_major": 2,
       "version_minor": 0
      },
      "text/plain": [
       "Getting ROI info:   0%|          | 0/2 [00:00<?, ?it/s]"
      ]
     },
     "metadata": {},
     "output_type": "display_data"
    },
    {
     "data": {
      "application/vnd.jupyter.widget-view+json": {
       "model_id": "da3e103eb3134209a37190c921e18001",
       "version_major": 2,
       "version_minor": 0
      },
      "text/plain": [
       "Getting ROI info:   0%|          | 0/2 [00:00<?, ?it/s]"
      ]
     },
     "metadata": {},
     "output_type": "display_data"
    },
    {
     "data": {
      "application/vnd.jupyter.widget-view+json": {
       "model_id": "4b45616e542f483b91c121819810d8b4",
       "version_major": 2,
       "version_minor": 0
      },
      "text/plain": [
       "Getting ROI info:   0%|          | 0/2 [00:00<?, ?it/s]"
      ]
     },
     "metadata": {},
     "output_type": "display_data"
    },
    {
     "data": {
      "application/vnd.jupyter.widget-view+json": {
       "model_id": "246ee99a42cf4ccbba02d48e1abddfb0",
       "version_major": 2,
       "version_minor": 0
      },
      "text/plain": [
       "Getting ROI info:   0%|          | 0/2 [00:00<?, ?it/s]"
      ]
     },
     "metadata": {},
     "output_type": "display_data"
    },
    {
     "data": {
      "application/vnd.jupyter.widget-view+json": {
       "model_id": "e6e5701c444a42668defaf42cc793782",
       "version_major": 2,
       "version_minor": 0
      },
      "text/plain": [
       "Getting ROI info:   0%|          | 0/2 [00:00<?, ?it/s]"
      ]
     },
     "metadata": {},
     "output_type": "display_data"
    },
    {
     "data": {
      "application/vnd.jupyter.widget-view+json": {
       "model_id": "ae09ac0f76be45d4a717f86010652bf8",
       "version_major": 2,
       "version_minor": 0
      },
      "text/plain": [
       "Getting ROI info:   0%|          | 0/2 [00:00<?, ?it/s]"
      ]
     },
     "metadata": {},
     "output_type": "display_data"
    },
    {
     "data": {
      "application/vnd.jupyter.widget-view+json": {
       "model_id": "5483ea4aaa654bb3a5bc7bd93f0a6a7d",
       "version_major": 2,
       "version_minor": 0
      },
      "text/plain": [
       "Getting ROI info:   0%|          | 0/2 [00:00<?, ?it/s]"
      ]
     },
     "metadata": {},
     "output_type": "display_data"
    },
    {
     "data": {
      "application/vnd.jupyter.widget-view+json": {
       "model_id": "0e187ebf1d7946ada0def07ff111d6d3",
       "version_major": 2,
       "version_minor": 0
      },
      "text/plain": [
       "Getting ROI info:   0%|          | 0/2 [00:00<?, ?it/s]"
      ]
     },
     "metadata": {},
     "output_type": "display_data"
    },
    {
     "data": {
      "application/vnd.jupyter.widget-view+json": {
       "model_id": "1a464a680233472faa3eb472fdf8aac0",
       "version_major": 2,
       "version_minor": 0
      },
      "text/plain": [
       "Getting ROI info:   0%|          | 0/2 [00:00<?, ?it/s]"
      ]
     },
     "metadata": {},
     "output_type": "display_data"
    },
    {
     "data": {
      "application/vnd.jupyter.widget-view+json": {
       "model_id": "14fceca303f3472aa31395ed1181f45e",
       "version_major": 2,
       "version_minor": 0
      },
      "text/plain": [
       "Getting ROI info:   0%|          | 0/2 [00:00<?, ?it/s]"
      ]
     },
     "metadata": {},
     "output_type": "display_data"
    },
    {
     "data": {
      "application/vnd.jupyter.widget-view+json": {
       "model_id": "22abbf5c1f114d7ba75f0b50c0be22fc",
       "version_major": 2,
       "version_minor": 0
      },
      "text/plain": [
       "Getting ROI info:   0%|          | 0/2 [00:00<?, ?it/s]"
      ]
     },
     "metadata": {},
     "output_type": "display_data"
    },
    {
     "data": {
      "application/vnd.jupyter.widget-view+json": {
       "model_id": "2f697d4163e741bdb543fb25dc2f3d93",
       "version_major": 2,
       "version_minor": 0
      },
      "text/plain": [
       "Getting ROI info:   0%|          | 0/2 [00:00<?, ?it/s]"
      ]
     },
     "metadata": {},
     "output_type": "display_data"
    },
    {
     "data": {
      "application/vnd.jupyter.widget-view+json": {
       "model_id": "b2412c66efa14017a97943931c0c4209",
       "version_major": 2,
       "version_minor": 0
      },
      "text/plain": [
       "Getting ROI info:   0%|          | 0/2 [00:00<?, ?it/s]"
      ]
     },
     "metadata": {},
     "output_type": "display_data"
    },
    {
     "data": {
      "application/vnd.jupyter.widget-view+json": {
       "model_id": "7bf69919b9684dba98988601a785ab50",
       "version_major": 2,
       "version_minor": 0
      },
      "text/plain": [
       "Getting ROI info:   0%|          | 0/2 [00:00<?, ?it/s]"
      ]
     },
     "metadata": {},
     "output_type": "display_data"
    },
    {
     "data": {
      "application/vnd.jupyter.widget-view+json": {
       "model_id": "581005b2dfc146d5be58aa85879ac328",
       "version_major": 2,
       "version_minor": 0
      },
      "text/plain": [
       "Getting ROI info:   0%|          | 0/2 [00:00<?, ?it/s]"
      ]
     },
     "metadata": {},
     "output_type": "display_data"
    },
    {
     "data": {
      "application/vnd.jupyter.widget-view+json": {
       "model_id": "2b67c49b250543d9ae49a84ddf00df34",
       "version_major": 2,
       "version_minor": 0
      },
      "text/plain": [
       "Getting ROI info:   0%|          | 0/2 [00:00<?, ?it/s]"
      ]
     },
     "metadata": {},
     "output_type": "display_data"
    },
    {
     "data": {
      "application/vnd.jupyter.widget-view+json": {
       "model_id": "5d025b6fa2cf44b084698b650b1f0aca",
       "version_major": 2,
       "version_minor": 0
      },
      "text/plain": [
       "Getting ROI info:   0%|          | 0/2 [00:00<?, ?it/s]"
      ]
     },
     "metadata": {},
     "output_type": "display_data"
    },
    {
     "data": {
      "application/vnd.jupyter.widget-view+json": {
       "model_id": "3dd81ce9600c4ab8b0374023c3db97ea",
       "version_major": 2,
       "version_minor": 0
      },
      "text/plain": [
       "Getting ROI info:   0%|          | 0/2 [00:00<?, ?it/s]"
      ]
     },
     "metadata": {},
     "output_type": "display_data"
    },
    {
     "data": {
      "application/vnd.jupyter.widget-view+json": {
       "model_id": "96c587ec2ec048bd853074c7aa4f01c1",
       "version_major": 2,
       "version_minor": 0
      },
      "text/plain": [
       "Getting ROI info:   0%|          | 0/2 [00:00<?, ?it/s]"
      ]
     },
     "metadata": {},
     "output_type": "display_data"
    },
    {
     "data": {
      "application/vnd.jupyter.widget-view+json": {
       "model_id": "9fc3bee866194eaf85883f639b8c3474",
       "version_major": 2,
       "version_minor": 0
      },
      "text/plain": [
       "Getting ROI info:   0%|          | 0/2 [00:00<?, ?it/s]"
      ]
     },
     "metadata": {},
     "output_type": "display_data"
    },
    {
     "data": {
      "application/vnd.jupyter.widget-view+json": {
       "model_id": "92adde9d8d5e449192e80e5db2569cad",
       "version_major": 2,
       "version_minor": 0
      },
      "text/plain": [
       "Getting ROI info:   0%|          | 0/2 [00:00<?, ?it/s]"
      ]
     },
     "metadata": {},
     "output_type": "display_data"
    },
    {
     "data": {
      "application/vnd.jupyter.widget-view+json": {
       "model_id": "e6946070a19f4cf89b7515abeac99e8c",
       "version_major": 2,
       "version_minor": 0
      },
      "text/plain": [
       "Getting ROI info:   0%|          | 0/2 [00:00<?, ?it/s]"
      ]
     },
     "metadata": {},
     "output_type": "display_data"
    },
    {
     "data": {
      "application/vnd.jupyter.widget-view+json": {
       "model_id": "5fd611f99f7d4c8db9ce03c0064b5360",
       "version_major": 2,
       "version_minor": 0
      },
      "text/plain": [
       "Getting ROI info:   0%|          | 0/2 [00:00<?, ?it/s]"
      ]
     },
     "metadata": {},
     "output_type": "display_data"
    },
    {
     "data": {
      "application/vnd.jupyter.widget-view+json": {
       "model_id": "e8c4d7b5f88243f8a615b762cb5798f1",
       "version_major": 2,
       "version_minor": 0
      },
      "text/plain": [
       "Getting ROI info:   0%|          | 0/2 [00:00<?, ?it/s]"
      ]
     },
     "metadata": {},
     "output_type": "display_data"
    },
    {
     "data": {
      "application/vnd.jupyter.widget-view+json": {
       "model_id": "6d3a178dc5c74dbd92935189002ba8e7",
       "version_major": 2,
       "version_minor": 0
      },
      "text/plain": [
       "Getting ROI info:   0%|          | 0/2 [00:00<?, ?it/s]"
      ]
     },
     "metadata": {},
     "output_type": "display_data"
    },
    {
     "data": {
      "application/vnd.jupyter.widget-view+json": {
       "model_id": "12e9b13819b643dcbdacbe908e092c11",
       "version_major": 2,
       "version_minor": 0
      },
      "text/plain": [
       "Getting ROI info:   0%|          | 0/2 [00:00<?, ?it/s]"
      ]
     },
     "metadata": {},
     "output_type": "display_data"
    },
    {
     "data": {
      "application/vnd.jupyter.widget-view+json": {
       "model_id": "27b636a75a2b4810abf48886bfa4b193",
       "version_major": 2,
       "version_minor": 0
      },
      "text/plain": [
       "Getting ROI info:   0%|          | 0/2 [00:00<?, ?it/s]"
      ]
     },
     "metadata": {},
     "output_type": "display_data"
    },
    {
     "data": {
      "application/vnd.jupyter.widget-view+json": {
       "model_id": "5d1d7ff0ea4449c5b48a9c33e1065d6a",
       "version_major": 2,
       "version_minor": 0
      },
      "text/plain": [
       "Getting ROI info:   0%|          | 0/2 [00:00<?, ?it/s]"
      ]
     },
     "metadata": {},
     "output_type": "display_data"
    },
    {
     "data": {
      "application/vnd.jupyter.widget-view+json": {
       "model_id": "62727828b5cb401cb782c16310e36f5a",
       "version_major": 2,
       "version_minor": 0
      },
      "text/plain": [
       "Getting ROI info:   0%|          | 0/2 [00:00<?, ?it/s]"
      ]
     },
     "metadata": {},
     "output_type": "display_data"
    },
    {
     "data": {
      "application/vnd.jupyter.widget-view+json": {
       "model_id": "e66b04166f584079bd13e586448a8c6b",
       "version_major": 2,
       "version_minor": 0
      },
      "text/plain": [
       "Getting ROI info:   0%|          | 0/2 [00:00<?, ?it/s]"
      ]
     },
     "metadata": {},
     "output_type": "display_data"
    },
    {
     "data": {
      "application/vnd.jupyter.widget-view+json": {
       "model_id": "1ab696bd44d84d53941f69cc5f736f73",
       "version_major": 2,
       "version_minor": 0
      },
      "text/plain": [
       "Getting ROI info:   0%|          | 0/2 [00:00<?, ?it/s]"
      ]
     },
     "metadata": {},
     "output_type": "display_data"
    },
    {
     "data": {
      "application/vnd.jupyter.widget-view+json": {
       "model_id": "2dd06f3707ac4b529912e465eba93da5",
       "version_major": 2,
       "version_minor": 0
      },
      "text/plain": [
       "Getting ROI info:   0%|          | 0/2 [00:00<?, ?it/s]"
      ]
     },
     "metadata": {},
     "output_type": "display_data"
    },
    {
     "data": {
      "application/vnd.jupyter.widget-view+json": {
       "model_id": "12be2038895e41f2874b5255e7d75d9c",
       "version_major": 2,
       "version_minor": 0
      },
      "text/plain": [
       "Getting ROI info:   0%|          | 0/2 [00:00<?, ?it/s]"
      ]
     },
     "metadata": {},
     "output_type": "display_data"
    },
    {
     "data": {
      "application/vnd.jupyter.widget-view+json": {
       "model_id": "977688b2bf74460292d11b89456dfa08",
       "version_major": 2,
       "version_minor": 0
      },
      "text/plain": [
       "Getting ROI info:   0%|          | 0/2 [00:00<?, ?it/s]"
      ]
     },
     "metadata": {},
     "output_type": "display_data"
    },
    {
     "data": {
      "application/vnd.jupyter.widget-view+json": {
       "model_id": "f31b4dcba16e492e9fb662082c66aeed",
       "version_major": 2,
       "version_minor": 0
      },
      "text/plain": [
       "Getting ROI info:   0%|          | 0/2 [00:00<?, ?it/s]"
      ]
     },
     "metadata": {},
     "output_type": "display_data"
    },
    {
     "data": {
      "application/vnd.jupyter.widget-view+json": {
       "model_id": "933ffb6d1f074e8ca1d6995b1c445118",
       "version_major": 2,
       "version_minor": 0
      },
      "text/plain": [
       "Getting ROI info:   0%|          | 0/2 [00:00<?, ?it/s]"
      ]
     },
     "metadata": {},
     "output_type": "display_data"
    },
    {
     "data": {
      "application/vnd.jupyter.widget-view+json": {
       "model_id": "02503d1cefc147768d6d3c51e43b4ca7",
       "version_major": 2,
       "version_minor": 0
      },
      "text/plain": [
       "Getting ROI info:   0%|          | 0/2 [00:00<?, ?it/s]"
      ]
     },
     "metadata": {},
     "output_type": "display_data"
    },
    {
     "data": {
      "application/vnd.jupyter.widget-view+json": {
       "model_id": "f50d918f0310441989f726c45e306e5a",
       "version_major": 2,
       "version_minor": 0
      },
      "text/plain": [
       "Getting ROI info:   0%|          | 0/2 [00:00<?, ?it/s]"
      ]
     },
     "metadata": {},
     "output_type": "display_data"
    },
    {
     "data": {
      "application/vnd.jupyter.widget-view+json": {
       "model_id": "4a842d75b57b49daad330ce51013038f",
       "version_major": 2,
       "version_minor": 0
      },
      "text/plain": [
       "Getting ROI info:   0%|          | 0/2 [00:00<?, ?it/s]"
      ]
     },
     "metadata": {},
     "output_type": "display_data"
    },
    {
     "data": {
      "application/vnd.jupyter.widget-view+json": {
       "model_id": "cf8b0b0709244295b5f959f5ba67e566",
       "version_major": 2,
       "version_minor": 0
      },
      "text/plain": [
       "Getting ROI info:   0%|          | 0/2 [00:00<?, ?it/s]"
      ]
     },
     "metadata": {},
     "output_type": "display_data"
    },
    {
     "data": {
      "application/vnd.jupyter.widget-view+json": {
       "model_id": "b267dbb00d0e41888bb4fd8056f1cee3",
       "version_major": 2,
       "version_minor": 0
      },
      "text/plain": [
       "Getting ROI info:   0%|          | 0/2 [00:00<?, ?it/s]"
      ]
     },
     "metadata": {},
     "output_type": "display_data"
    },
    {
     "data": {
      "application/vnd.jupyter.widget-view+json": {
       "model_id": "65d27e107c144ca3947dd21f322d7afb",
       "version_major": 2,
       "version_minor": 0
      },
      "text/plain": [
       "Getting ROI info:   0%|          | 0/2 [00:00<?, ?it/s]"
      ]
     },
     "metadata": {},
     "output_type": "display_data"
    },
    {
     "data": {
      "application/vnd.jupyter.widget-view+json": {
       "model_id": "b756b21d9aa543868f91858e09a3dc05",
       "version_major": 2,
       "version_minor": 0
      },
      "text/plain": [
       "Getting ROI info:   0%|          | 0/2 [00:00<?, ?it/s]"
      ]
     },
     "metadata": {},
     "output_type": "display_data"
    },
    {
     "data": {
      "application/vnd.jupyter.widget-view+json": {
       "model_id": "1f4e711c4b774a7095b75c8fa953a396",
       "version_major": 2,
       "version_minor": 0
      },
      "text/plain": [
       "Getting ROI info:   0%|          | 0/2 [00:00<?, ?it/s]"
      ]
     },
     "metadata": {},
     "output_type": "display_data"
    },
    {
     "data": {
      "application/vnd.jupyter.widget-view+json": {
       "model_id": "42c58376bda64907973d735533fc79a1",
       "version_major": 2,
       "version_minor": 0
      },
      "text/plain": [
       "Getting ROI info:   0%|          | 0/2 [00:00<?, ?it/s]"
      ]
     },
     "metadata": {},
     "output_type": "display_data"
    },
    {
     "data": {
      "application/vnd.jupyter.widget-view+json": {
       "model_id": "8784d8074d5649e7be729718d1408466",
       "version_major": 2,
       "version_minor": 0
      },
      "text/plain": [
       "Getting ROI info:   0%|          | 0/2 [00:00<?, ?it/s]"
      ]
     },
     "metadata": {},
     "output_type": "display_data"
    },
    {
     "data": {
      "application/vnd.jupyter.widget-view+json": {
       "model_id": "ce6c1422ab7d4c8d81df031a32f6d61e",
       "version_major": 2,
       "version_minor": 0
      },
      "text/plain": [
       "Getting ROI info:   0%|          | 0/2 [00:00<?, ?it/s]"
      ]
     },
     "metadata": {},
     "output_type": "display_data"
    },
    {
     "data": {
      "application/vnd.jupyter.widget-view+json": {
       "model_id": "8294b0fdd8f34df48ff2aa802f3dfd30",
       "version_major": 2,
       "version_minor": 0
      },
      "text/plain": [
       "Getting ROI info:   0%|          | 0/2 [00:00<?, ?it/s]"
      ]
     },
     "metadata": {},
     "output_type": "display_data"
    },
    {
     "data": {
      "application/vnd.jupyter.widget-view+json": {
       "model_id": "358461b4bcee424c95002a89884bd930",
       "version_major": 2,
       "version_minor": 0
      },
      "text/plain": [
       "Getting ROI info:   0%|          | 0/2 [00:00<?, ?it/s]"
      ]
     },
     "metadata": {},
     "output_type": "display_data"
    },
    {
     "data": {
      "application/vnd.jupyter.widget-view+json": {
       "model_id": "3ce8b7a049204c119d8cc602afbbd2ca",
       "version_major": 2,
       "version_minor": 0
      },
      "text/plain": [
       "Getting ROI info:   0%|          | 0/2 [00:00<?, ?it/s]"
      ]
     },
     "metadata": {},
     "output_type": "display_data"
    },
    {
     "data": {
      "application/vnd.jupyter.widget-view+json": {
       "model_id": "661815aeb6ec4d4582504058de1ee5dd",
       "version_major": 2,
       "version_minor": 0
      },
      "text/plain": [
       "Getting ROI info:   0%|          | 0/2 [00:00<?, ?it/s]"
      ]
     },
     "metadata": {},
     "output_type": "display_data"
    },
    {
     "data": {
      "application/vnd.jupyter.widget-view+json": {
       "model_id": "93c5e539559e435c91f9d627402420fb",
       "version_major": 2,
       "version_minor": 0
      },
      "text/plain": [
       "Getting ROI info:   0%|          | 0/2 [00:00<?, ?it/s]"
      ]
     },
     "metadata": {},
     "output_type": "display_data"
    },
    {
     "data": {
      "application/vnd.jupyter.widget-view+json": {
       "model_id": "41d366dc60024a0d9eea330808dc51c9",
       "version_major": 2,
       "version_minor": 0
      },
      "text/plain": [
       "Getting ROI info:   0%|          | 0/2 [00:00<?, ?it/s]"
      ]
     },
     "metadata": {},
     "output_type": "display_data"
    },
    {
     "data": {
      "application/vnd.jupyter.widget-view+json": {
       "model_id": "4f2e37822bfc415fad00397a42f19f98",
       "version_major": 2,
       "version_minor": 0
      },
      "text/plain": [
       "Getting ROI info:   0%|          | 0/2 [00:00<?, ?it/s]"
      ]
     },
     "metadata": {},
     "output_type": "display_data"
    },
    {
     "data": {
      "application/vnd.jupyter.widget-view+json": {
       "model_id": "5e717017eefa4b6e963f4566a4609bc1",
       "version_major": 2,
       "version_minor": 0
      },
      "text/plain": [
       "Getting ROI info:   0%|          | 0/2 [00:00<?, ?it/s]"
      ]
     },
     "metadata": {},
     "output_type": "display_data"
    },
    {
     "data": {
      "application/vnd.jupyter.widget-view+json": {
       "model_id": "c57ff085e36a4c6bbf855939ef12118c",
       "version_major": 2,
       "version_minor": 0
      },
      "text/plain": [
       "Getting ROI info:   0%|          | 0/2 [00:00<?, ?it/s]"
      ]
     },
     "metadata": {},
     "output_type": "display_data"
    },
    {
     "data": {
      "application/vnd.jupyter.widget-view+json": {
       "model_id": "fa437217dcbf41bfab9c4cda7f469014",
       "version_major": 2,
       "version_minor": 0
      },
      "text/plain": [
       "Getting ROI info:   0%|          | 0/2 [00:00<?, ?it/s]"
      ]
     },
     "metadata": {},
     "output_type": "display_data"
    },
    {
     "data": {
      "application/vnd.jupyter.widget-view+json": {
       "model_id": "a9ae8a0892d942659dd001e6ed3256a5",
       "version_major": 2,
       "version_minor": 0
      },
      "text/plain": [
       "Getting ROI info:   0%|          | 0/2 [00:00<?, ?it/s]"
      ]
     },
     "metadata": {},
     "output_type": "display_data"
    },
    {
     "data": {
      "application/vnd.jupyter.widget-view+json": {
       "model_id": "3f816669b0b747c8a439acaef70927b3",
       "version_major": 2,
       "version_minor": 0
      },
      "text/plain": [
       "Getting ROI info:   0%|          | 0/2 [00:00<?, ?it/s]"
      ]
     },
     "metadata": {},
     "output_type": "display_data"
    },
    {
     "data": {
      "application/vnd.jupyter.widget-view+json": {
       "model_id": "d2b3e878730d404aa3ab26a98273be71",
       "version_major": 2,
       "version_minor": 0
      },
      "text/plain": [
       "Getting ROI info:   0%|          | 0/2 [00:00<?, ?it/s]"
      ]
     },
     "metadata": {},
     "output_type": "display_data"
    },
    {
     "data": {
      "application/vnd.jupyter.widget-view+json": {
       "model_id": "84256a78d67f4f6e89a5b8077b4c08fd",
       "version_major": 2,
       "version_minor": 0
      },
      "text/plain": [
       "Getting ROI info:   0%|          | 0/2 [00:00<?, ?it/s]"
      ]
     },
     "metadata": {},
     "output_type": "display_data"
    },
    {
     "data": {
      "application/vnd.jupyter.widget-view+json": {
       "model_id": "9eb4e34ad031415ab57a14b63c2a1c47",
       "version_major": 2,
       "version_minor": 0
      },
      "text/plain": [
       "Getting ROI info:   0%|          | 0/2 [00:00<?, ?it/s]"
      ]
     },
     "metadata": {},
     "output_type": "display_data"
    },
    {
     "data": {
      "application/vnd.jupyter.widget-view+json": {
       "model_id": "9e459ba12f684df5af58c88ab9675344",
       "version_major": 2,
       "version_minor": 0
      },
      "text/plain": [
       "Getting ROI info:   0%|          | 0/2 [00:00<?, ?it/s]"
      ]
     },
     "metadata": {},
     "output_type": "display_data"
    },
    {
     "data": {
      "application/vnd.jupyter.widget-view+json": {
       "model_id": "219c961c974b4f83808a5785b95d1e45",
       "version_major": 2,
       "version_minor": 0
      },
      "text/plain": [
       "Getting ROI info:   0%|          | 0/2 [00:00<?, ?it/s]"
      ]
     },
     "metadata": {},
     "output_type": "display_data"
    },
    {
     "data": {
      "application/vnd.jupyter.widget-view+json": {
       "model_id": "27d3a61e52094454a6976a6015da3a08",
       "version_major": 2,
       "version_minor": 0
      },
      "text/plain": [
       "Getting ROI info:   0%|          | 0/2 [00:00<?, ?it/s]"
      ]
     },
     "metadata": {},
     "output_type": "display_data"
    },
    {
     "data": {
      "application/vnd.jupyter.widget-view+json": {
       "model_id": "441885584f9c4b7ab5880508da131d49",
       "version_major": 2,
       "version_minor": 0
      },
      "text/plain": [
       "Getting ROI info:   0%|          | 0/2 [00:00<?, ?it/s]"
      ]
     },
     "metadata": {},
     "output_type": "display_data"
    },
    {
     "data": {
      "application/vnd.jupyter.widget-view+json": {
       "model_id": "7404310152bd4ddc9b49d0a7375d5f95",
       "version_major": 2,
       "version_minor": 0
      },
      "text/plain": [
       "Getting ROI info:   0%|          | 0/2 [00:00<?, ?it/s]"
      ]
     },
     "metadata": {},
     "output_type": "display_data"
    },
    {
     "data": {
      "application/vnd.jupyter.widget-view+json": {
       "model_id": "35497ead437f416a9ba6f34bcc58ba8a",
       "version_major": 2,
       "version_minor": 0
      },
      "text/plain": [
       "Getting ROI info:   0%|          | 0/2 [00:00<?, ?it/s]"
      ]
     },
     "metadata": {},
     "output_type": "display_data"
    },
    {
     "data": {
      "application/vnd.jupyter.widget-view+json": {
       "model_id": "ec2db9e500a44f7eb91100909bc83173",
       "version_major": 2,
       "version_minor": 0
      },
      "text/plain": [
       "Getting ROI info:   0%|          | 0/2 [00:00<?, ?it/s]"
      ]
     },
     "metadata": {},
     "output_type": "display_data"
    },
    {
     "data": {
      "application/vnd.jupyter.widget-view+json": {
       "model_id": "36357e1822ad45e0bf1395ef5aa48ccc",
       "version_major": 2,
       "version_minor": 0
      },
      "text/plain": [
       "Getting ROI info:   0%|          | 0/2 [00:00<?, ?it/s]"
      ]
     },
     "metadata": {},
     "output_type": "display_data"
    },
    {
     "data": {
      "application/vnd.jupyter.widget-view+json": {
       "model_id": "de1955fc33e14750bd1ef18117c21bbe",
       "version_major": 2,
       "version_minor": 0
      },
      "text/plain": [
       "Getting ROI info:   0%|          | 0/2 [00:00<?, ?it/s]"
      ]
     },
     "metadata": {},
     "output_type": "display_data"
    },
    {
     "data": {
      "application/vnd.jupyter.widget-view+json": {
       "model_id": "1f68110281a748939445f3ea7e00c370",
       "version_major": 2,
       "version_minor": 0
      },
      "text/plain": [
       "Getting ROI info:   0%|          | 0/2 [00:00<?, ?it/s]"
      ]
     },
     "metadata": {},
     "output_type": "display_data"
    },
    {
     "data": {
      "application/vnd.jupyter.widget-view+json": {
       "model_id": "eea21d5d8bac4c84a3ba0befb9a2ab7b",
       "version_major": 2,
       "version_minor": 0
      },
      "text/plain": [
       "Getting ROI info:   0%|          | 0/2 [00:00<?, ?it/s]"
      ]
     },
     "metadata": {},
     "output_type": "display_data"
    },
    {
     "data": {
      "application/vnd.jupyter.widget-view+json": {
       "model_id": "5bcadf447fde43e1925196746bd918e1",
       "version_major": 2,
       "version_minor": 0
      },
      "text/plain": [
       "Getting ROI info:   0%|          | 0/2 [00:00<?, ?it/s]"
      ]
     },
     "metadata": {},
     "output_type": "display_data"
    },
    {
     "data": {
      "application/vnd.jupyter.widget-view+json": {
       "model_id": "d154bcb2af814cd7a894cabb4e71dcd7",
       "version_major": 2,
       "version_minor": 0
      },
      "text/plain": [
       "Getting ROI info:   0%|          | 0/2 [00:00<?, ?it/s]"
      ]
     },
     "metadata": {},
     "output_type": "display_data"
    },
    {
     "data": {
      "application/vnd.jupyter.widget-view+json": {
       "model_id": "7d50ab56652d4c6c93ebe6184aa3da55",
       "version_major": 2,
       "version_minor": 0
      },
      "text/plain": [
       "Getting ROI info:   0%|          | 0/2 [00:00<?, ?it/s]"
      ]
     },
     "metadata": {},
     "output_type": "display_data"
    },
    {
     "data": {
      "application/vnd.jupyter.widget-view+json": {
       "model_id": "7cc615afbd35408cb96087d1cd1bb037",
       "version_major": 2,
       "version_minor": 0
      },
      "text/plain": [
       "Getting ROI info:   0%|          | 0/2 [00:00<?, ?it/s]"
      ]
     },
     "metadata": {},
     "output_type": "display_data"
    },
    {
     "data": {
      "application/vnd.jupyter.widget-view+json": {
       "model_id": "94971c4a7f0649e9b5d690b53f9c8fbf",
       "version_major": 2,
       "version_minor": 0
      },
      "text/plain": [
       "Getting ROI info:   0%|          | 0/2 [00:00<?, ?it/s]"
      ]
     },
     "metadata": {},
     "output_type": "display_data"
    },
    {
     "data": {
      "application/vnd.jupyter.widget-view+json": {
       "model_id": "2908157132d6435388290aed59917712",
       "version_major": 2,
       "version_minor": 0
      },
      "text/plain": [
       "Getting ROI info:   0%|          | 0/2 [00:00<?, ?it/s]"
      ]
     },
     "metadata": {},
     "output_type": "display_data"
    },
    {
     "data": {
      "application/vnd.jupyter.widget-view+json": {
       "model_id": "6260811e14a240ed84167d74990d7c38",
       "version_major": 2,
       "version_minor": 0
      },
      "text/plain": [
       "Getting ROI info:   0%|          | 0/2 [00:00<?, ?it/s]"
      ]
     },
     "metadata": {},
     "output_type": "display_data"
    },
    {
     "data": {
      "application/vnd.jupyter.widget-view+json": {
       "model_id": "d612f12e5aee4265ac5abb288355323d",
       "version_major": 2,
       "version_minor": 0
      },
      "text/plain": [
       "Getting ROI info:   0%|          | 0/2 [00:00<?, ?it/s]"
      ]
     },
     "metadata": {},
     "output_type": "display_data"
    },
    {
     "data": {
      "application/vnd.jupyter.widget-view+json": {
       "model_id": "acdeb1429ab146e2bb7ce21cfc4bcaf3",
       "version_major": 2,
       "version_minor": 0
      },
      "text/plain": [
       "Getting ROI info:   0%|          | 0/2 [00:00<?, ?it/s]"
      ]
     },
     "metadata": {},
     "output_type": "display_data"
    },
    {
     "data": {
      "application/vnd.jupyter.widget-view+json": {
       "model_id": "e4edb062a67e464986b6a1f4c4d9e25c",
       "version_major": 2,
       "version_minor": 0
      },
      "text/plain": [
       "Getting ROI info:   0%|          | 0/2 [00:00<?, ?it/s]"
      ]
     },
     "metadata": {},
     "output_type": "display_data"
    },
    {
     "data": {
      "application/vnd.jupyter.widget-view+json": {
       "model_id": "4c6e08ac55724f9f9e39d369be9ec40c",
       "version_major": 2,
       "version_minor": 0
      },
      "text/plain": [
       "Getting ROI info:   0%|          | 0/2 [00:00<?, ?it/s]"
      ]
     },
     "metadata": {},
     "output_type": "display_data"
    },
    {
     "data": {
      "application/vnd.jupyter.widget-view+json": {
       "model_id": "42fc8136139b470ba37383aee5d5b4ee",
       "version_major": 2,
       "version_minor": 0
      },
      "text/plain": [
       "Getting ROI info:   0%|          | 0/2 [00:00<?, ?it/s]"
      ]
     },
     "metadata": {},
     "output_type": "display_data"
    },
    {
     "data": {
      "application/vnd.jupyter.widget-view+json": {
       "model_id": "daf6dfd644174e5b97e7ed47508f01f6",
       "version_major": 2,
       "version_minor": 0
      },
      "text/plain": [
       "Getting ROI info:   0%|          | 0/2 [00:00<?, ?it/s]"
      ]
     },
     "metadata": {},
     "output_type": "display_data"
    },
    {
     "data": {
      "application/vnd.jupyter.widget-view+json": {
       "model_id": "81500daf306a4d679dbb5c5c06225c89",
       "version_major": 2,
       "version_minor": 0
      },
      "text/plain": [
       "Getting ROI info:   0%|          | 0/2 [00:00<?, ?it/s]"
      ]
     },
     "metadata": {},
     "output_type": "display_data"
    },
    {
     "data": {
      "application/vnd.jupyter.widget-view+json": {
       "model_id": "ec082b580b2648bb8dbc511612a4bb37",
       "version_major": 2,
       "version_minor": 0
      },
      "text/plain": [
       "Getting ROI info:   0%|          | 0/2 [00:00<?, ?it/s]"
      ]
     },
     "metadata": {},
     "output_type": "display_data"
    },
    {
     "data": {
      "application/vnd.jupyter.widget-view+json": {
       "model_id": "4cc810fa52dd4686a58afe5d2e749cb6",
       "version_major": 2,
       "version_minor": 0
      },
      "text/plain": [
       "Getting ROI info:   0%|          | 0/2 [00:00<?, ?it/s]"
      ]
     },
     "metadata": {},
     "output_type": "display_data"
    },
    {
     "data": {
      "application/vnd.jupyter.widget-view+json": {
       "model_id": "835ccfc27bed455f8693959e97a1cd24",
       "version_major": 2,
       "version_minor": 0
      },
      "text/plain": [
       "Getting ROI info:   0%|          | 0/2 [00:00<?, ?it/s]"
      ]
     },
     "metadata": {},
     "output_type": "display_data"
    },
    {
     "data": {
      "application/vnd.jupyter.widget-view+json": {
       "model_id": "1ebe7515561c45439ce618ad894e2075",
       "version_major": 2,
       "version_minor": 0
      },
      "text/plain": [
       "Getting ROI info:   0%|          | 0/2 [00:00<?, ?it/s]"
      ]
     },
     "metadata": {},
     "output_type": "display_data"
    },
    {
     "data": {
      "application/vnd.jupyter.widget-view+json": {
       "model_id": "82775b996c094cb9a6a3c11b2705995d",
       "version_major": 2,
       "version_minor": 0
      },
      "text/plain": [
       "Getting ROI info:   0%|          | 0/2 [00:00<?, ?it/s]"
      ]
     },
     "metadata": {},
     "output_type": "display_data"
    },
    {
     "data": {
      "application/vnd.jupyter.widget-view+json": {
       "model_id": "88817c48760f474d966fc76ca880ae92",
       "version_major": 2,
       "version_minor": 0
      },
      "text/plain": [
       "Getting ROI info:   0%|          | 0/2 [00:00<?, ?it/s]"
      ]
     },
     "metadata": {},
     "output_type": "display_data"
    },
    {
     "data": {
      "application/vnd.jupyter.widget-view+json": {
       "model_id": "c357e147ff694261ad0447ddfd67e8fc",
       "version_major": 2,
       "version_minor": 0
      },
      "text/plain": [
       "Getting ROI info:   0%|          | 0/2 [00:00<?, ?it/s]"
      ]
     },
     "metadata": {},
     "output_type": "display_data"
    },
    {
     "data": {
      "application/vnd.jupyter.widget-view+json": {
       "model_id": "461db05f238a4b519700f10f9ed85ba9",
       "version_major": 2,
       "version_minor": 0
      },
      "text/plain": [
       "Getting ROI info:   0%|          | 0/2 [00:00<?, ?it/s]"
      ]
     },
     "metadata": {},
     "output_type": "display_data"
    },
    {
     "data": {
      "application/vnd.jupyter.widget-view+json": {
       "model_id": "ac190942dd8f4e6092de05c2256f3690",
       "version_major": 2,
       "version_minor": 0
      },
      "text/plain": [
       "Getting ROI info:   0%|          | 0/2 [00:00<?, ?it/s]"
      ]
     },
     "metadata": {},
     "output_type": "display_data"
    },
    {
     "data": {
      "application/vnd.jupyter.widget-view+json": {
       "model_id": "ffa34f5b8665431d9137fc9b6ae1bac3",
       "version_major": 2,
       "version_minor": 0
      },
      "text/plain": [
       "Getting ROI info:   0%|          | 0/2 [00:00<?, ?it/s]"
      ]
     },
     "metadata": {},
     "output_type": "display_data"
    },
    {
     "data": {
      "application/vnd.jupyter.widget-view+json": {
       "model_id": "1ee2252a075642a69509a217b9e0c02d",
       "version_major": 2,
       "version_minor": 0
      },
      "text/plain": [
       "Getting ROI info:   0%|          | 0/2 [00:00<?, ?it/s]"
      ]
     },
     "metadata": {},
     "output_type": "display_data"
    },
    {
     "data": {
      "application/vnd.jupyter.widget-view+json": {
       "model_id": "7141349d5431432d84d9d61f07bd032e",
       "version_major": 2,
       "version_minor": 0
      },
      "text/plain": [
       "Getting ROI info:   0%|          | 0/2 [00:00<?, ?it/s]"
      ]
     },
     "metadata": {},
     "output_type": "display_data"
    },
    {
     "data": {
      "application/vnd.jupyter.widget-view+json": {
       "model_id": "32f9fc8989234ae8b7746d8f20e6e8bc",
       "version_major": 2,
       "version_minor": 0
      },
      "text/plain": [
       "Getting ROI info:   0%|          | 0/2 [00:00<?, ?it/s]"
      ]
     },
     "metadata": {},
     "output_type": "display_data"
    },
    {
     "data": {
      "application/vnd.jupyter.widget-view+json": {
       "model_id": "2e9572ba81bc4eeda4a4d2c04a26a4d5",
       "version_major": 2,
       "version_minor": 0
      },
      "text/plain": [
       "Getting ROI info:   0%|          | 0/2 [00:00<?, ?it/s]"
      ]
     },
     "metadata": {},
     "output_type": "display_data"
    },
    {
     "data": {
      "application/vnd.jupyter.widget-view+json": {
       "model_id": "fa0aa75184a64139a2cce31b96258708",
       "version_major": 2,
       "version_minor": 0
      },
      "text/plain": [
       "Getting ROI info:   0%|          | 0/2 [00:00<?, ?it/s]"
      ]
     },
     "metadata": {},
     "output_type": "display_data"
    },
    {
     "data": {
      "application/vnd.jupyter.widget-view+json": {
       "model_id": "ded45ea1051349c0abc772f3d0fc0ac4",
       "version_major": 2,
       "version_minor": 0
      },
      "text/plain": [
       "Getting ROI info:   0%|          | 0/2 [00:00<?, ?it/s]"
      ]
     },
     "metadata": {},
     "output_type": "display_data"
    },
    {
     "data": {
      "application/vnd.jupyter.widget-view+json": {
       "model_id": "79f4a859e98a489695f3480dca98448a",
       "version_major": 2,
       "version_minor": 0
      },
      "text/plain": [
       "Getting ROI info:   0%|          | 0/2 [00:00<?, ?it/s]"
      ]
     },
     "metadata": {},
     "output_type": "display_data"
    },
    {
     "data": {
      "application/vnd.jupyter.widget-view+json": {
       "model_id": "b19dc99f87334bf084313ea90ccba390",
       "version_major": 2,
       "version_minor": 0
      },
      "text/plain": [
       "Getting ROI info:   0%|          | 0/2 [00:00<?, ?it/s]"
      ]
     },
     "metadata": {},
     "output_type": "display_data"
    },
    {
     "data": {
      "application/vnd.jupyter.widget-view+json": {
       "model_id": "070d14b2fc8c4e228a250dc775c26949",
       "version_major": 2,
       "version_minor": 0
      },
      "text/plain": [
       "Getting ROI info:   0%|          | 0/2 [00:00<?, ?it/s]"
      ]
     },
     "metadata": {},
     "output_type": "display_data"
    },
    {
     "data": {
      "application/vnd.jupyter.widget-view+json": {
       "model_id": "dbf8276f77124c8f9395abf565594556",
       "version_major": 2,
       "version_minor": 0
      },
      "text/plain": [
       "Getting ROI info:   0%|          | 0/2 [00:00<?, ?it/s]"
      ]
     },
     "metadata": {},
     "output_type": "display_data"
    },
    {
     "data": {
      "application/vnd.jupyter.widget-view+json": {
       "model_id": "57d98cbef9e643b68f59f4224a604b40",
       "version_major": 2,
       "version_minor": 0
      },
      "text/plain": [
       "Getting ROI info:   0%|          | 0/2 [00:00<?, ?it/s]"
      ]
     },
     "metadata": {},
     "output_type": "display_data"
    },
    {
     "data": {
      "application/vnd.jupyter.widget-view+json": {
       "model_id": "968af47c51dd48a097e843e2e5a85489",
       "version_major": 2,
       "version_minor": 0
      },
      "text/plain": [
       "Getting ROI info:   0%|          | 0/2 [00:00<?, ?it/s]"
      ]
     },
     "metadata": {},
     "output_type": "display_data"
    },
    {
     "data": {
      "application/vnd.jupyter.widget-view+json": {
       "model_id": "e22c26f5194448bc868fd66a8149b9d0",
       "version_major": 2,
       "version_minor": 0
      },
      "text/plain": [
       "Getting ROI info:   0%|          | 0/2 [00:00<?, ?it/s]"
      ]
     },
     "metadata": {},
     "output_type": "display_data"
    },
    {
     "data": {
      "application/vnd.jupyter.widget-view+json": {
       "model_id": "64f62aca57d94fd58d0f9ffa2a38c7a6",
       "version_major": 2,
       "version_minor": 0
      },
      "text/plain": [
       "Getting ROI info:   0%|          | 0/2 [00:00<?, ?it/s]"
      ]
     },
     "metadata": {},
     "output_type": "display_data"
    },
    {
     "data": {
      "application/vnd.jupyter.widget-view+json": {
       "model_id": "49418ecfab4143b09ccce6962f6be53c",
       "version_major": 2,
       "version_minor": 0
      },
      "text/plain": [
       "Getting ROI info:   0%|          | 0/2 [00:00<?, ?it/s]"
      ]
     },
     "metadata": {},
     "output_type": "display_data"
    },
    {
     "data": {
      "application/vnd.jupyter.widget-view+json": {
       "model_id": "97c735e011da496e9509a3a17613c2cf",
       "version_major": 2,
       "version_minor": 0
      },
      "text/plain": [
       "Getting ROI info:   0%|          | 0/2 [00:00<?, ?it/s]"
      ]
     },
     "metadata": {},
     "output_type": "display_data"
    },
    {
     "data": {
      "application/vnd.jupyter.widget-view+json": {
       "model_id": "d88c11c13e47439392585024503366aa",
       "version_major": 2,
       "version_minor": 0
      },
      "text/plain": [
       "Getting ROI info:   0%|          | 0/2 [00:00<?, ?it/s]"
      ]
     },
     "metadata": {},
     "output_type": "display_data"
    },
    {
     "data": {
      "application/vnd.jupyter.widget-view+json": {
       "model_id": "deab19e32b854ad4a9e16a753591ec68",
       "version_major": 2,
       "version_minor": 0
      },
      "text/plain": [
       "Getting ROI info:   0%|          | 0/2 [00:00<?, ?it/s]"
      ]
     },
     "metadata": {},
     "output_type": "display_data"
    },
    {
     "data": {
      "application/vnd.jupyter.widget-view+json": {
       "model_id": "0c94334b6e2040ce9f903fafda290e46",
       "version_major": 2,
       "version_minor": 0
      },
      "text/plain": [
       "Getting ROI info:   0%|          | 0/2 [00:00<?, ?it/s]"
      ]
     },
     "metadata": {},
     "output_type": "display_data"
    },
    {
     "data": {
      "application/vnd.jupyter.widget-view+json": {
       "model_id": "8650379893ad461e9afb6071010d0de6",
       "version_major": 2,
       "version_minor": 0
      },
      "text/plain": [
       "Getting ROI info:   0%|          | 0/2 [00:00<?, ?it/s]"
      ]
     },
     "metadata": {},
     "output_type": "display_data"
    },
    {
     "data": {
      "application/vnd.jupyter.widget-view+json": {
       "model_id": "b1a36afa1f934c61812662087c2d5b5c",
       "version_major": 2,
       "version_minor": 0
      },
      "text/plain": [
       "Getting ROI info:   0%|          | 0/2 [00:00<?, ?it/s]"
      ]
     },
     "metadata": {},
     "output_type": "display_data"
    },
    {
     "data": {
      "application/vnd.jupyter.widget-view+json": {
       "model_id": "d69a8fe2994443a7ac357029b25c9595",
       "version_major": 2,
       "version_minor": 0
      },
      "text/plain": [
       "Getting ROI info:   0%|          | 0/2 [00:00<?, ?it/s]"
      ]
     },
     "metadata": {},
     "output_type": "display_data"
    },
    {
     "data": {
      "application/vnd.jupyter.widget-view+json": {
       "model_id": "92cb42df86e6427699ab537c8c08e4bb",
       "version_major": 2,
       "version_minor": 0
      },
      "text/plain": [
       "Getting ROI info:   0%|          | 0/2 [00:00<?, ?it/s]"
      ]
     },
     "metadata": {},
     "output_type": "display_data"
    },
    {
     "data": {
      "application/vnd.jupyter.widget-view+json": {
       "model_id": "ee63ad77d9ad4cdaa852c704410d67fe",
       "version_major": 2,
       "version_minor": 0
      },
      "text/plain": [
       "Getting ROI info:   0%|          | 0/2 [00:00<?, ?it/s]"
      ]
     },
     "metadata": {},
     "output_type": "display_data"
    },
    {
     "data": {
      "application/vnd.jupyter.widget-view+json": {
       "model_id": "352dda38dfba4064ab53087050c3ab2a",
       "version_major": 2,
       "version_minor": 0
      },
      "text/plain": [
       "Getting ROI info:   0%|          | 0/2 [00:00<?, ?it/s]"
      ]
     },
     "metadata": {},
     "output_type": "display_data"
    },
    {
     "data": {
      "application/vnd.jupyter.widget-view+json": {
       "model_id": "2608eb0a6b7f46298f3653c61fb1faa7",
       "version_major": 2,
       "version_minor": 0
      },
      "text/plain": [
       "Getting ROI info:   0%|          | 0/2 [00:00<?, ?it/s]"
      ]
     },
     "metadata": {},
     "output_type": "display_data"
    },
    {
     "data": {
      "application/vnd.jupyter.widget-view+json": {
       "model_id": "4d67c19551ed4c79ac99398f39e231fc",
       "version_major": 2,
       "version_minor": 0
      },
      "text/plain": [
       "Getting ROI info:   0%|          | 0/2 [00:00<?, ?it/s]"
      ]
     },
     "metadata": {},
     "output_type": "display_data"
    },
    {
     "data": {
      "application/vnd.jupyter.widget-view+json": {
       "model_id": "e77a1cff2a344c2bb0278ca38bf6f92d",
       "version_major": 2,
       "version_minor": 0
      },
      "text/plain": [
       "Getting ROI info:   0%|          | 0/2 [00:00<?, ?it/s]"
      ]
     },
     "metadata": {},
     "output_type": "display_data"
    },
    {
     "data": {
      "application/vnd.jupyter.widget-view+json": {
       "model_id": "24aa0026289b4d369051583254a4ccf3",
       "version_major": 2,
       "version_minor": 0
      },
      "text/plain": [
       "Getting ROI info:   0%|          | 0/2 [00:00<?, ?it/s]"
      ]
     },
     "metadata": {},
     "output_type": "display_data"
    },
    {
     "data": {
      "application/vnd.jupyter.widget-view+json": {
       "model_id": "ace8c7d6378d4460ac926798476ed12c",
       "version_major": 2,
       "version_minor": 0
      },
      "text/plain": [
       "Getting ROI info:   0%|          | 0/2 [00:00<?, ?it/s]"
      ]
     },
     "metadata": {},
     "output_type": "display_data"
    },
    {
     "data": {
      "application/vnd.jupyter.widget-view+json": {
       "model_id": "e37e158fa16642d5909fd3a1f8f4b554",
       "version_major": 2,
       "version_minor": 0
      },
      "text/plain": [
       "Getting ROI info:   0%|          | 0/2 [00:00<?, ?it/s]"
      ]
     },
     "metadata": {},
     "output_type": "display_data"
    },
    {
     "data": {
      "application/vnd.jupyter.widget-view+json": {
       "model_id": "311ff12d76f9402f8d675bbe4a7d3f8d",
       "version_major": 2,
       "version_minor": 0
      },
      "text/plain": [
       "Getting ROI info:   0%|          | 0/2 [00:00<?, ?it/s]"
      ]
     },
     "metadata": {},
     "output_type": "display_data"
    },
    {
     "data": {
      "application/vnd.jupyter.widget-view+json": {
       "model_id": "7539d3468d3343c7a98293a6a118a71a",
       "version_major": 2,
       "version_minor": 0
      },
      "text/plain": [
       "Getting ROI info:   0%|          | 0/2 [00:00<?, ?it/s]"
      ]
     },
     "metadata": {},
     "output_type": "display_data"
    },
    {
     "data": {
      "application/vnd.jupyter.widget-view+json": {
       "model_id": "eba775590cb3407fb9f7af2f28176ace",
       "version_major": 2,
       "version_minor": 0
      },
      "text/plain": [
       "Getting ROI info:   0%|          | 0/2 [00:00<?, ?it/s]"
      ]
     },
     "metadata": {},
     "output_type": "display_data"
    },
    {
     "data": {
      "application/vnd.jupyter.widget-view+json": {
       "model_id": "5758abba29c849b5babd846072f89780",
       "version_major": 2,
       "version_minor": 0
      },
      "text/plain": [
       "Getting ROI info:   0%|          | 0/2 [00:00<?, ?it/s]"
      ]
     },
     "metadata": {},
     "output_type": "display_data"
    },
    {
     "data": {
      "application/vnd.jupyter.widget-view+json": {
       "model_id": "53e1f15b96874db5b7b506c9ef2449d4",
       "version_major": 2,
       "version_minor": 0
      },
      "text/plain": [
       "Getting ROI info:   0%|          | 0/2 [00:00<?, ?it/s]"
      ]
     },
     "metadata": {},
     "output_type": "display_data"
    },
    {
     "data": {
      "application/vnd.jupyter.widget-view+json": {
       "model_id": "f44e0cac4dfe4c0e9e08e7b8776a7b3d",
       "version_major": 2,
       "version_minor": 0
      },
      "text/plain": [
       "Getting ROI info:   0%|          | 0/2 [00:00<?, ?it/s]"
      ]
     },
     "metadata": {},
     "output_type": "display_data"
    },
    {
     "data": {
      "application/vnd.jupyter.widget-view+json": {
       "model_id": "11443abd19264fa7b69d37c43e62c521",
       "version_major": 2,
       "version_minor": 0
      },
      "text/plain": [
       "Getting ROI info:   0%|          | 0/2 [00:00<?, ?it/s]"
      ]
     },
     "metadata": {},
     "output_type": "display_data"
    },
    {
     "data": {
      "application/vnd.jupyter.widget-view+json": {
       "model_id": "30d1f7842f5140a0b6f5f37db676ba07",
       "version_major": 2,
       "version_minor": 0
      },
      "text/plain": [
       "Getting ROI info:   0%|          | 0/2 [00:00<?, ?it/s]"
      ]
     },
     "metadata": {},
     "output_type": "display_data"
    },
    {
     "data": {
      "application/vnd.jupyter.widget-view+json": {
       "model_id": "48bf8e58ddbc4cf2a638070895cdfcb6",
       "version_major": 2,
       "version_minor": 0
      },
      "text/plain": [
       "Getting ROI info:   0%|          | 0/2 [00:00<?, ?it/s]"
      ]
     },
     "metadata": {},
     "output_type": "display_data"
    },
    {
     "data": {
      "application/vnd.jupyter.widget-view+json": {
       "model_id": "78a8327b23a049669af79e2e3ecaa4a5",
       "version_major": 2,
       "version_minor": 0
      },
      "text/plain": [
       "Getting ROI info:   0%|          | 0/2 [00:00<?, ?it/s]"
      ]
     },
     "metadata": {},
     "output_type": "display_data"
    },
    {
     "data": {
      "application/vnd.jupyter.widget-view+json": {
       "model_id": "4982fc2e336e42f28ed7a7fd84b1a7bf",
       "version_major": 2,
       "version_minor": 0
      },
      "text/plain": [
       "Getting ROI info:   0%|          | 0/2 [00:00<?, ?it/s]"
      ]
     },
     "metadata": {},
     "output_type": "display_data"
    },
    {
     "data": {
      "application/vnd.jupyter.widget-view+json": {
       "model_id": "e8da623c0d6a44479ccbb4fee88cc4c8",
       "version_major": 2,
       "version_minor": 0
      },
      "text/plain": [
       "Getting ROI info:   0%|          | 0/2 [00:00<?, ?it/s]"
      ]
     },
     "metadata": {},
     "output_type": "display_data"
    },
    {
     "data": {
      "application/vnd.jupyter.widget-view+json": {
       "model_id": "ed4794876ebd48b690e78ac043a8379e",
       "version_major": 2,
       "version_minor": 0
      },
      "text/plain": [
       "Getting ROI info:   0%|          | 0/2 [00:00<?, ?it/s]"
      ]
     },
     "metadata": {},
     "output_type": "display_data"
    },
    {
     "data": {
      "application/vnd.jupyter.widget-view+json": {
       "model_id": "96c6b07ec09040f08f951ffa036fea1d",
       "version_major": 2,
       "version_minor": 0
      },
      "text/plain": [
       "Getting ROI info:   0%|          | 0/2 [00:00<?, ?it/s]"
      ]
     },
     "metadata": {},
     "output_type": "display_data"
    },
    {
     "data": {
      "application/vnd.jupyter.widget-view+json": {
       "model_id": "a1659aeb9850462d9c146b9ce4c02652",
       "version_major": 2,
       "version_minor": 0
      },
      "text/plain": [
       "Getting ROI info:   0%|          | 0/2 [00:00<?, ?it/s]"
      ]
     },
     "metadata": {},
     "output_type": "display_data"
    },
    {
     "data": {
      "application/vnd.jupyter.widget-view+json": {
       "model_id": "6b4314f33d864f349e0dcbaec0d37f7b",
       "version_major": 2,
       "version_minor": 0
      },
      "text/plain": [
       "Getting ROI info:   0%|          | 0/2 [00:00<?, ?it/s]"
      ]
     },
     "metadata": {},
     "output_type": "display_data"
    },
    {
     "data": {
      "application/vnd.jupyter.widget-view+json": {
       "model_id": "76e9eafe7a2448d9bf6ebf0a510565ed",
       "version_major": 2,
       "version_minor": 0
      },
      "text/plain": [
       "Getting ROI info:   0%|          | 0/2 [00:00<?, ?it/s]"
      ]
     },
     "metadata": {},
     "output_type": "display_data"
    },
    {
     "data": {
      "application/vnd.jupyter.widget-view+json": {
       "model_id": "a8cc8fe74bda4670be8d3bcfb93d74fd",
       "version_major": 2,
       "version_minor": 0
      },
      "text/plain": [
       "Getting ROI info:   0%|          | 0/2 [00:00<?, ?it/s]"
      ]
     },
     "metadata": {},
     "output_type": "display_data"
    },
    {
     "data": {
      "application/vnd.jupyter.widget-view+json": {
       "model_id": "5ee6e5d602d049b79c6e73d3a56eeffe",
       "version_major": 2,
       "version_minor": 0
      },
      "text/plain": [
       "Getting ROI info:   0%|          | 0/2 [00:00<?, ?it/s]"
      ]
     },
     "metadata": {},
     "output_type": "display_data"
    },
    {
     "data": {
      "application/vnd.jupyter.widget-view+json": {
       "model_id": "b83eef9ac08b45f886728af9e3b93aab",
       "version_major": 2,
       "version_minor": 0
      },
      "text/plain": [
       "Getting ROI info:   0%|          | 0/2 [00:00<?, ?it/s]"
      ]
     },
     "metadata": {},
     "output_type": "display_data"
    },
    {
     "data": {
      "application/vnd.jupyter.widget-view+json": {
       "model_id": "707496b06e2d46fd9136e0712138410b",
       "version_major": 2,
       "version_minor": 0
      },
      "text/plain": [
       "Getting ROI info:   0%|          | 0/2 [00:00<?, ?it/s]"
      ]
     },
     "metadata": {},
     "output_type": "display_data"
    },
    {
     "data": {
      "application/vnd.jupyter.widget-view+json": {
       "model_id": "0f64f10285af41ccbe0fe34cfd55d1dd",
       "version_major": 2,
       "version_minor": 0
      },
      "text/plain": [
       "Getting ROI info:   0%|          | 0/2 [00:00<?, ?it/s]"
      ]
     },
     "metadata": {},
     "output_type": "display_data"
    },
    {
     "data": {
      "application/vnd.jupyter.widget-view+json": {
       "model_id": "e9c7b67f48a04861a0ffb935fad9e630",
       "version_major": 2,
       "version_minor": 0
      },
      "text/plain": [
       "Getting ROI info:   0%|          | 0/2 [00:00<?, ?it/s]"
      ]
     },
     "metadata": {},
     "output_type": "display_data"
    },
    {
     "data": {
      "application/vnd.jupyter.widget-view+json": {
       "model_id": "f4076dd2e8764c3abbb2beed010eb16b",
       "version_major": 2,
       "version_minor": 0
      },
      "text/plain": [
       "Getting ROI info:   0%|          | 0/2 [00:00<?, ?it/s]"
      ]
     },
     "metadata": {},
     "output_type": "display_data"
    },
    {
     "data": {
      "application/vnd.jupyter.widget-view+json": {
       "model_id": "16b85c1fb1bd499cb503920fd466fb7e",
       "version_major": 2,
       "version_minor": 0
      },
      "text/plain": [
       "Getting ROI info:   0%|          | 0/2 [00:00<?, ?it/s]"
      ]
     },
     "metadata": {},
     "output_type": "display_data"
    },
    {
     "data": {
      "application/vnd.jupyter.widget-view+json": {
       "model_id": "84ca5c4fd9624d028a1cbb3a002164ed",
       "version_major": 2,
       "version_minor": 0
      },
      "text/plain": [
       "Getting ROI info:   0%|          | 0/2 [00:00<?, ?it/s]"
      ]
     },
     "metadata": {},
     "output_type": "display_data"
    },
    {
     "data": {
      "application/vnd.jupyter.widget-view+json": {
       "model_id": "70fa5da1b6144a5f8c0f5f5e802ecf34",
       "version_major": 2,
       "version_minor": 0
      },
      "text/plain": [
       "Getting ROI info:   0%|          | 0/2 [00:00<?, ?it/s]"
      ]
     },
     "metadata": {},
     "output_type": "display_data"
    },
    {
     "data": {
      "application/vnd.jupyter.widget-view+json": {
       "model_id": "43a29eee820e496bb8a3143f8f175de3",
       "version_major": 2,
       "version_minor": 0
      },
      "text/plain": [
       "Getting ROI info:   0%|          | 0/2 [00:00<?, ?it/s]"
      ]
     },
     "metadata": {},
     "output_type": "display_data"
    },
    {
     "data": {
      "application/vnd.jupyter.widget-view+json": {
       "model_id": "e0a8f71d44d74f0085d940c3a91782a3",
       "version_major": 2,
       "version_minor": 0
      },
      "text/plain": [
       "Getting ROI info:   0%|          | 0/2 [00:00<?, ?it/s]"
      ]
     },
     "metadata": {},
     "output_type": "display_data"
    },
    {
     "data": {
      "application/vnd.jupyter.widget-view+json": {
       "model_id": "d52bf6ed8e8944deb8da50e9b3f5a8db",
       "version_major": 2,
       "version_minor": 0
      },
      "text/plain": [
       "Getting ROI info:   0%|          | 0/2 [00:00<?, ?it/s]"
      ]
     },
     "metadata": {},
     "output_type": "display_data"
    },
    {
     "data": {
      "application/vnd.jupyter.widget-view+json": {
       "model_id": "717c30b2392a42f7be56778c8bebeb0f",
       "version_major": 2,
       "version_minor": 0
      },
      "text/plain": [
       "Getting ROI info:   0%|          | 0/2 [00:00<?, ?it/s]"
      ]
     },
     "metadata": {},
     "output_type": "display_data"
    },
    {
     "data": {
      "application/vnd.jupyter.widget-view+json": {
       "model_id": "8fcb078897724780beaf11dfdf97cae9",
       "version_major": 2,
       "version_minor": 0
      },
      "text/plain": [
       "Getting ROI info:   0%|          | 0/2 [00:00<?, ?it/s]"
      ]
     },
     "metadata": {},
     "output_type": "display_data"
    },
    {
     "data": {
      "application/vnd.jupyter.widget-view+json": {
       "model_id": "e629a28ab2a84b2fa908d9e616d38e30",
       "version_major": 2,
       "version_minor": 0
      },
      "text/plain": [
       "Getting ROI info:   0%|          | 0/2 [00:00<?, ?it/s]"
      ]
     },
     "metadata": {},
     "output_type": "display_data"
    },
    {
     "data": {
      "application/vnd.jupyter.widget-view+json": {
       "model_id": "a0a6c23d6c9d47f9911478d6e5b034a2",
       "version_major": 2,
       "version_minor": 0
      },
      "text/plain": [
       "Getting ROI info:   0%|          | 0/2 [00:00<?, ?it/s]"
      ]
     },
     "metadata": {},
     "output_type": "display_data"
    },
    {
     "data": {
      "application/vnd.jupyter.widget-view+json": {
       "model_id": "5d9174ef9b0a4f48b11a741218836f98",
       "version_major": 2,
       "version_minor": 0
      },
      "text/plain": [
       "Getting ROI info:   0%|          | 0/2 [00:00<?, ?it/s]"
      ]
     },
     "metadata": {},
     "output_type": "display_data"
    },
    {
     "data": {
      "application/vnd.jupyter.widget-view+json": {
       "model_id": "42b2491f8ddf4602a20cbe09526d33bb",
       "version_major": 2,
       "version_minor": 0
      },
      "text/plain": [
       "Getting ROI info:   0%|          | 0/2 [00:00<?, ?it/s]"
      ]
     },
     "metadata": {},
     "output_type": "display_data"
    },
    {
     "data": {
      "application/vnd.jupyter.widget-view+json": {
       "model_id": "14c563ccbfa84534b1dbe032e00bbf96",
       "version_major": 2,
       "version_minor": 0
      },
      "text/plain": [
       "Getting ROI info:   0%|          | 0/2 [00:00<?, ?it/s]"
      ]
     },
     "metadata": {},
     "output_type": "display_data"
    },
    {
     "data": {
      "application/vnd.jupyter.widget-view+json": {
       "model_id": "9486fcd811d2492585634242e3f9d313",
       "version_major": 2,
       "version_minor": 0
      },
      "text/plain": [
       "Getting ROI info:   0%|          | 0/2 [00:00<?, ?it/s]"
      ]
     },
     "metadata": {},
     "output_type": "display_data"
    },
    {
     "data": {
      "application/vnd.jupyter.widget-view+json": {
       "model_id": "102988424c2c4f63a23c71df0398865e",
       "version_major": 2,
       "version_minor": 0
      },
      "text/plain": [
       "Getting ROI info:   0%|          | 0/2 [00:00<?, ?it/s]"
      ]
     },
     "metadata": {},
     "output_type": "display_data"
    },
    {
     "data": {
      "application/vnd.jupyter.widget-view+json": {
       "model_id": "257aaa13a4c1428a8905a9f1384fccb5",
       "version_major": 2,
       "version_minor": 0
      },
      "text/plain": [
       "Getting ROI info:   0%|          | 0/2 [00:00<?, ?it/s]"
      ]
     },
     "metadata": {},
     "output_type": "display_data"
    },
    {
     "data": {
      "application/vnd.jupyter.widget-view+json": {
       "model_id": "57338b7089aa44ada616070a7b46faa7",
       "version_major": 2,
       "version_minor": 0
      },
      "text/plain": [
       "Getting ROI info:   0%|          | 0/2 [00:00<?, ?it/s]"
      ]
     },
     "metadata": {},
     "output_type": "display_data"
    },
    {
     "data": {
      "application/vnd.jupyter.widget-view+json": {
       "model_id": "a0dcc3949ddf4b48b96f4054f16ee6b6",
       "version_major": 2,
       "version_minor": 0
      },
      "text/plain": [
       "Getting ROI info:   0%|          | 0/2 [00:00<?, ?it/s]"
      ]
     },
     "metadata": {},
     "output_type": "display_data"
    },
    {
     "data": {
      "application/vnd.jupyter.widget-view+json": {
       "model_id": "5d3ecc2533e74f40b88fe074c9f8decd",
       "version_major": 2,
       "version_minor": 0
      },
      "text/plain": [
       "Getting ROI info:   0%|          | 0/2 [00:00<?, ?it/s]"
      ]
     },
     "metadata": {},
     "output_type": "display_data"
    },
    {
     "data": {
      "application/vnd.jupyter.widget-view+json": {
       "model_id": "c85175a8bf724e0d8d62b8933d6f946c",
       "version_major": 2,
       "version_minor": 0
      },
      "text/plain": [
       "Getting ROI info:   0%|          | 0/2 [00:00<?, ?it/s]"
      ]
     },
     "metadata": {},
     "output_type": "display_data"
    },
    {
     "data": {
      "application/vnd.jupyter.widget-view+json": {
       "model_id": "0f2f4f80727c4c80b35dc7459103db78",
       "version_major": 2,
       "version_minor": 0
      },
      "text/plain": [
       "Getting ROI info:   0%|          | 0/2 [00:00<?, ?it/s]"
      ]
     },
     "metadata": {},
     "output_type": "display_data"
    },
    {
     "data": {
      "application/vnd.jupyter.widget-view+json": {
       "model_id": "5ebb800b895443b18c16822cf9b8796f",
       "version_major": 2,
       "version_minor": 0
      },
      "text/plain": [
       "Getting ROI info:   0%|          | 0/2 [00:00<?, ?it/s]"
      ]
     },
     "metadata": {},
     "output_type": "display_data"
    },
    {
     "data": {
      "application/vnd.jupyter.widget-view+json": {
       "model_id": "8edd113bf3fd4b0f90f253a89fee7944",
       "version_major": 2,
       "version_minor": 0
      },
      "text/plain": [
       "Getting ROI info:   0%|          | 0/2 [00:00<?, ?it/s]"
      ]
     },
     "metadata": {},
     "output_type": "display_data"
    },
    {
     "data": {
      "application/vnd.jupyter.widget-view+json": {
       "model_id": "19f494a2d4f54a309b2854e12a41069c",
       "version_major": 2,
       "version_minor": 0
      },
      "text/plain": [
       "Getting ROI info:   0%|          | 0/2 [00:00<?, ?it/s]"
      ]
     },
     "metadata": {},
     "output_type": "display_data"
    },
    {
     "data": {
      "application/vnd.jupyter.widget-view+json": {
       "model_id": "1c7fa426e19943148b642463587c3e00",
       "version_major": 2,
       "version_minor": 0
      },
      "text/plain": [
       "Getting ROI info:   0%|          | 0/2 [00:00<?, ?it/s]"
      ]
     },
     "metadata": {},
     "output_type": "display_data"
    },
    {
     "data": {
      "application/vnd.jupyter.widget-view+json": {
       "model_id": "6c5d191a5a5b457b8701f8c731fb31a2",
       "version_major": 2,
       "version_minor": 0
      },
      "text/plain": [
       "Getting ROI info:   0%|          | 0/2 [00:00<?, ?it/s]"
      ]
     },
     "metadata": {},
     "output_type": "display_data"
    },
    {
     "data": {
      "application/vnd.jupyter.widget-view+json": {
       "model_id": "b07c83344534467985227c64b4580744",
       "version_major": 2,
       "version_minor": 0
      },
      "text/plain": [
       "Getting ROI info:   0%|          | 0/2 [00:00<?, ?it/s]"
      ]
     },
     "metadata": {},
     "output_type": "display_data"
    },
    {
     "data": {
      "application/vnd.jupyter.widget-view+json": {
       "model_id": "effe1ab1bc06432a99007707a6dcf964",
       "version_major": 2,
       "version_minor": 0
      },
      "text/plain": [
       "Getting ROI info:   0%|          | 0/2 [00:00<?, ?it/s]"
      ]
     },
     "metadata": {},
     "output_type": "display_data"
    },
    {
     "data": {
      "application/vnd.jupyter.widget-view+json": {
       "model_id": "b39f5947068b44199162180b540c5d7c",
       "version_major": 2,
       "version_minor": 0
      },
      "text/plain": [
       "Getting ROI info:   0%|          | 0/2 [00:00<?, ?it/s]"
      ]
     },
     "metadata": {},
     "output_type": "display_data"
    },
    {
     "data": {
      "application/vnd.jupyter.widget-view+json": {
       "model_id": "ca8290747d1a4590a36ea84c20d4b7fa",
       "version_major": 2,
       "version_minor": 0
      },
      "text/plain": [
       "Getting ROI info:   0%|          | 0/2 [00:00<?, ?it/s]"
      ]
     },
     "metadata": {},
     "output_type": "display_data"
    },
    {
     "data": {
      "application/vnd.jupyter.widget-view+json": {
       "model_id": "c065d37ff2e54e25aba7ecc9575a5b1a",
       "version_major": 2,
       "version_minor": 0
      },
      "text/plain": [
       "Getting ROI info:   0%|          | 0/2 [00:00<?, ?it/s]"
      ]
     },
     "metadata": {},
     "output_type": "display_data"
    },
    {
     "data": {
      "application/vnd.jupyter.widget-view+json": {
       "model_id": "c32e2f96bee24230843449d8e368f0d4",
       "version_major": 2,
       "version_minor": 0
      },
      "text/plain": [
       "Getting ROI info:   0%|          | 0/2 [00:00<?, ?it/s]"
      ]
     },
     "metadata": {},
     "output_type": "display_data"
    },
    {
     "data": {
      "application/vnd.jupyter.widget-view+json": {
       "model_id": "5074b2e545f3486887c160fc9b625ac8",
       "version_major": 2,
       "version_minor": 0
      },
      "text/plain": [
       "Getting ROI info:   0%|          | 0/2 [00:00<?, ?it/s]"
      ]
     },
     "metadata": {},
     "output_type": "display_data"
    },
    {
     "data": {
      "application/vnd.jupyter.widget-view+json": {
       "model_id": "0628b55385434a2eaff265d5d7db56fd",
       "version_major": 2,
       "version_minor": 0
      },
      "text/plain": [
       "Getting ROI info:   0%|          | 0/2 [00:00<?, ?it/s]"
      ]
     },
     "metadata": {},
     "output_type": "display_data"
    },
    {
     "data": {
      "application/vnd.jupyter.widget-view+json": {
       "model_id": "e50de893473242229016a5c6b0054a2c",
       "version_major": 2,
       "version_minor": 0
      },
      "text/plain": [
       "Getting ROI info:   0%|          | 0/2 [00:00<?, ?it/s]"
      ]
     },
     "metadata": {},
     "output_type": "display_data"
    },
    {
     "data": {
      "application/vnd.jupyter.widget-view+json": {
       "model_id": "fae07bf6114e4c48972de66d78a3e70f",
       "version_major": 2,
       "version_minor": 0
      },
      "text/plain": [
       "Getting ROI info:   0%|          | 0/2 [00:00<?, ?it/s]"
      ]
     },
     "metadata": {},
     "output_type": "display_data"
    },
    {
     "data": {
      "application/vnd.jupyter.widget-view+json": {
       "model_id": "25bf94cadd744d57b4e26545a71320e8",
       "version_major": 2,
       "version_minor": 0
      },
      "text/plain": [
       "Getting ROI info:   0%|          | 0/2 [00:00<?, ?it/s]"
      ]
     },
     "metadata": {},
     "output_type": "display_data"
    },
    {
     "data": {
      "application/vnd.jupyter.widget-view+json": {
       "model_id": "f384f987cd1c4382b2642f442b0441e7",
       "version_major": 2,
       "version_minor": 0
      },
      "text/plain": [
       "Getting ROI info:   0%|          | 0/2 [00:00<?, ?it/s]"
      ]
     },
     "metadata": {},
     "output_type": "display_data"
    },
    {
     "data": {
      "application/vnd.jupyter.widget-view+json": {
       "model_id": "abd1a5a1c3594baf86aacff0c9850c53",
       "version_major": 2,
       "version_minor": 0
      },
      "text/plain": [
       "Getting ROI info:   0%|          | 0/2 [00:00<?, ?it/s]"
      ]
     },
     "metadata": {},
     "output_type": "display_data"
    },
    {
     "data": {
      "application/vnd.jupyter.widget-view+json": {
       "model_id": "ac5cc50a96eb40c7899f2b19c3c98d63",
       "version_major": 2,
       "version_minor": 0
      },
      "text/plain": [
       "Getting ROI info:   0%|          | 0/2 [00:00<?, ?it/s]"
      ]
     },
     "metadata": {},
     "output_type": "display_data"
    },
    {
     "data": {
      "application/vnd.jupyter.widget-view+json": {
       "model_id": "88614e7965fb48cbbd62790296d4c6b3",
       "version_major": 2,
       "version_minor": 0
      },
      "text/plain": [
       "Getting ROI info:   0%|          | 0/2 [00:00<?, ?it/s]"
      ]
     },
     "metadata": {},
     "output_type": "display_data"
    },
    {
     "data": {
      "application/vnd.jupyter.widget-view+json": {
       "model_id": "ce32f562f0424c9aa1cee1535f7986fe",
       "version_major": 2,
       "version_minor": 0
      },
      "text/plain": [
       "Getting ROI info:   0%|          | 0/2 [00:00<?, ?it/s]"
      ]
     },
     "metadata": {},
     "output_type": "display_data"
    },
    {
     "data": {
      "application/vnd.jupyter.widget-view+json": {
       "model_id": "21d96d8bc2ff4202892a8a93caf0bc99",
       "version_major": 2,
       "version_minor": 0
      },
      "text/plain": [
       "Getting ROI info:   0%|          | 0/2 [00:00<?, ?it/s]"
      ]
     },
     "metadata": {},
     "output_type": "display_data"
    },
    {
     "data": {
      "application/vnd.jupyter.widget-view+json": {
       "model_id": "d6b787f29afa422a82ecf2f93bc1e219",
       "version_major": 2,
       "version_minor": 0
      },
      "text/plain": [
       "Getting ROI info:   0%|          | 0/2 [00:00<?, ?it/s]"
      ]
     },
     "metadata": {},
     "output_type": "display_data"
    },
    {
     "data": {
      "application/vnd.jupyter.widget-view+json": {
       "model_id": "f8810110cb22493b9ca8e7ac79e3f554",
       "version_major": 2,
       "version_minor": 0
      },
      "text/plain": [
       "Getting ROI info:   0%|          | 0/2 [00:00<?, ?it/s]"
      ]
     },
     "metadata": {},
     "output_type": "display_data"
    },
    {
     "data": {
      "application/vnd.jupyter.widget-view+json": {
       "model_id": "4361ccfa04fc4f49aab5a8fc7a51c53e",
       "version_major": 2,
       "version_minor": 0
      },
      "text/plain": [
       "Getting ROI info:   0%|          | 0/2 [00:00<?, ?it/s]"
      ]
     },
     "metadata": {},
     "output_type": "display_data"
    },
    {
     "data": {
      "application/vnd.jupyter.widget-view+json": {
       "model_id": "78dee1713161434dac9ae56ae9b28921",
       "version_major": 2,
       "version_minor": 0
      },
      "text/plain": [
       "Getting ROI info:   0%|          | 0/2 [00:00<?, ?it/s]"
      ]
     },
     "metadata": {},
     "output_type": "display_data"
    },
    {
     "data": {
      "application/vnd.jupyter.widget-view+json": {
       "model_id": "ef9b859996214339aee8996824c2f757",
       "version_major": 2,
       "version_minor": 0
      },
      "text/plain": [
       "Getting ROI info:   0%|          | 0/2 [00:00<?, ?it/s]"
      ]
     },
     "metadata": {},
     "output_type": "display_data"
    },
    {
     "data": {
      "application/vnd.jupyter.widget-view+json": {
       "model_id": "e36ace54829d4572ac46f18da89a8c97",
       "version_major": 2,
       "version_minor": 0
      },
      "text/plain": [
       "Getting ROI info:   0%|          | 0/2 [00:00<?, ?it/s]"
      ]
     },
     "metadata": {},
     "output_type": "display_data"
    },
    {
     "data": {
      "application/vnd.jupyter.widget-view+json": {
       "model_id": "1755e02a47f64e2c84f9ca60e993db81",
       "version_major": 2,
       "version_minor": 0
      },
      "text/plain": [
       "Getting ROI info:   0%|          | 0/2 [00:00<?, ?it/s]"
      ]
     },
     "metadata": {},
     "output_type": "display_data"
    },
    {
     "data": {
      "application/vnd.jupyter.widget-view+json": {
       "model_id": "e243e19983224e7d8ad8a81dda269d22",
       "version_major": 2,
       "version_minor": 0
      },
      "text/plain": [
       "Getting ROI info:   0%|          | 0/2 [00:00<?, ?it/s]"
      ]
     },
     "metadata": {},
     "output_type": "display_data"
    },
    {
     "data": {
      "application/vnd.jupyter.widget-view+json": {
       "model_id": "aff16011b625473c807c188a61700a4f",
       "version_major": 2,
       "version_minor": 0
      },
      "text/plain": [
       "Getting ROI info:   0%|          | 0/2 [00:00<?, ?it/s]"
      ]
     },
     "metadata": {},
     "output_type": "display_data"
    },
    {
     "data": {
      "application/vnd.jupyter.widget-view+json": {
       "model_id": "353fbe4acfb848feb52ef450eedc41e7",
       "version_major": 2,
       "version_minor": 0
      },
      "text/plain": [
       "Getting ROI info:   0%|          | 0/2 [00:00<?, ?it/s]"
      ]
     },
     "metadata": {},
     "output_type": "display_data"
    },
    {
     "data": {
      "application/vnd.jupyter.widget-view+json": {
       "model_id": "74ba5d0a509044829e0a7e1d46977790",
       "version_major": 2,
       "version_minor": 0
      },
      "text/plain": [
       "Getting ROI info:   0%|          | 0/2 [00:00<?, ?it/s]"
      ]
     },
     "metadata": {},
     "output_type": "display_data"
    },
    {
     "data": {
      "application/vnd.jupyter.widget-view+json": {
       "model_id": "af94bcf85f754973a54b3c6488e83220",
       "version_major": 2,
       "version_minor": 0
      },
      "text/plain": [
       "Getting ROI info:   0%|          | 0/2 [00:00<?, ?it/s]"
      ]
     },
     "metadata": {},
     "output_type": "display_data"
    },
    {
     "data": {
      "application/vnd.jupyter.widget-view+json": {
       "model_id": "ec4c3a7437bf465ba8a10ba2bb60bcf8",
       "version_major": 2,
       "version_minor": 0
      },
      "text/plain": [
       "Getting ROI info:   0%|          | 0/2 [00:00<?, ?it/s]"
      ]
     },
     "metadata": {},
     "output_type": "display_data"
    },
    {
     "data": {
      "application/vnd.jupyter.widget-view+json": {
       "model_id": "3050ad29687143b3ac1ef39f81d1e973",
       "version_major": 2,
       "version_minor": 0
      },
      "text/plain": [
       "Getting ROI info:   0%|          | 0/2 [00:00<?, ?it/s]"
      ]
     },
     "metadata": {},
     "output_type": "display_data"
    },
    {
     "data": {
      "application/vnd.jupyter.widget-view+json": {
       "model_id": "978b9cf4638e4381915fdc28c25b4739",
       "version_major": 2,
       "version_minor": 0
      },
      "text/plain": [
       "Getting ROI info:   0%|          | 0/2 [00:00<?, ?it/s]"
      ]
     },
     "metadata": {},
     "output_type": "display_data"
    },
    {
     "data": {
      "application/vnd.jupyter.widget-view+json": {
       "model_id": "df9a6abc7c954868ae6c4a38c40a821d",
       "version_major": 2,
       "version_minor": 0
      },
      "text/plain": [
       "Getting ROI info:   0%|          | 0/2 [00:00<?, ?it/s]"
      ]
     },
     "metadata": {},
     "output_type": "display_data"
    },
    {
     "data": {
      "application/vnd.jupyter.widget-view+json": {
       "model_id": "879c8fef30ba45a88b41b043b010f6e3",
       "version_major": 2,
       "version_minor": 0
      },
      "text/plain": [
       "Getting ROI info:   0%|          | 0/2 [00:00<?, ?it/s]"
      ]
     },
     "metadata": {},
     "output_type": "display_data"
    },
    {
     "data": {
      "application/vnd.jupyter.widget-view+json": {
       "model_id": "5eb02dd6321843feb81852960aa6aa9d",
       "version_major": 2,
       "version_minor": 0
      },
      "text/plain": [
       "Getting ROI info:   0%|          | 0/2 [00:00<?, ?it/s]"
      ]
     },
     "metadata": {},
     "output_type": "display_data"
    },
    {
     "data": {
      "application/vnd.jupyter.widget-view+json": {
       "model_id": "6bb4cadc6055416b8e30be38cf673fe9",
       "version_major": 2,
       "version_minor": 0
      },
      "text/plain": [
       "Getting ROI info:   0%|          | 0/2 [00:00<?, ?it/s]"
      ]
     },
     "metadata": {},
     "output_type": "display_data"
    },
    {
     "data": {
      "application/vnd.jupyter.widget-view+json": {
       "model_id": "5b5555775ec5422591f3e3a7caa3f9b8",
       "version_major": 2,
       "version_minor": 0
      },
      "text/plain": [
       "Getting ROI info:   0%|          | 0/2 [00:00<?, ?it/s]"
      ]
     },
     "metadata": {},
     "output_type": "display_data"
    },
    {
     "data": {
      "application/vnd.jupyter.widget-view+json": {
       "model_id": "2051913552b8445ab9f2b28c85a4375a",
       "version_major": 2,
       "version_minor": 0
      },
      "text/plain": [
       "Getting ROI info:   0%|          | 0/2 [00:00<?, ?it/s]"
      ]
     },
     "metadata": {},
     "output_type": "display_data"
    },
    {
     "data": {
      "application/vnd.jupyter.widget-view+json": {
       "model_id": "35da5c2d17384d01942923ed614d279d",
       "version_major": 2,
       "version_minor": 0
      },
      "text/plain": [
       "Getting ROI info:   0%|          | 0/2 [00:00<?, ?it/s]"
      ]
     },
     "metadata": {},
     "output_type": "display_data"
    },
    {
     "data": {
      "application/vnd.jupyter.widget-view+json": {
       "model_id": "cf8a7fbbbe774c8ca908b8a4b8d96ffa",
       "version_major": 2,
       "version_minor": 0
      },
      "text/plain": [
       "Getting ROI info:   0%|          | 0/2 [00:00<?, ?it/s]"
      ]
     },
     "metadata": {},
     "output_type": "display_data"
    },
    {
     "data": {
      "application/vnd.jupyter.widget-view+json": {
       "model_id": "1b2865899c7e48bfbc5d9b435e5c7bb1",
       "version_major": 2,
       "version_minor": 0
      },
      "text/plain": [
       "Getting ROI info:   0%|          | 0/2 [00:00<?, ?it/s]"
      ]
     },
     "metadata": {},
     "output_type": "display_data"
    },
    {
     "data": {
      "application/vnd.jupyter.widget-view+json": {
       "model_id": "a633c45344d6472bb5574b5173471d3c",
       "version_major": 2,
       "version_minor": 0
      },
      "text/plain": [
       "Getting ROI info:   0%|          | 0/2 [00:00<?, ?it/s]"
      ]
     },
     "metadata": {},
     "output_type": "display_data"
    },
    {
     "data": {
      "application/vnd.jupyter.widget-view+json": {
       "model_id": "87cd21c4e6bd4677b261f2798b04d697",
       "version_major": 2,
       "version_minor": 0
      },
      "text/plain": [
       "Getting ROI info:   0%|          | 0/2 [00:00<?, ?it/s]"
      ]
     },
     "metadata": {},
     "output_type": "display_data"
    },
    {
     "data": {
      "application/vnd.jupyter.widget-view+json": {
       "model_id": "6b31d6a4c0254973904a8387d9a1c6d1",
       "version_major": 2,
       "version_minor": 0
      },
      "text/plain": [
       "Getting ROI info:   0%|          | 0/2 [00:00<?, ?it/s]"
      ]
     },
     "metadata": {},
     "output_type": "display_data"
    },
    {
     "data": {
      "application/vnd.jupyter.widget-view+json": {
       "model_id": "12458304e5e34bb89d4ccd4de4e0d30f",
       "version_major": 2,
       "version_minor": 0
      },
      "text/plain": [
       "Getting ROI info:   0%|          | 0/2 [00:00<?, ?it/s]"
      ]
     },
     "metadata": {},
     "output_type": "display_data"
    },
    {
     "data": {
      "application/vnd.jupyter.widget-view+json": {
       "model_id": "c29ef787c61440abafe437449396c317",
       "version_major": 2,
       "version_minor": 0
      },
      "text/plain": [
       "Getting ROI info:   0%|          | 0/2 [00:00<?, ?it/s]"
      ]
     },
     "metadata": {},
     "output_type": "display_data"
    },
    {
     "data": {
      "application/vnd.jupyter.widget-view+json": {
       "model_id": "9f49b0cb60ef499da866d7e5e73351a0",
       "version_major": 2,
       "version_minor": 0
      },
      "text/plain": [
       "Getting ROI info:   0%|          | 0/2 [00:00<?, ?it/s]"
      ]
     },
     "metadata": {},
     "output_type": "display_data"
    },
    {
     "data": {
      "application/vnd.jupyter.widget-view+json": {
       "model_id": "91f22c23049c4bc796bad6fe05bbd401",
       "version_major": 2,
       "version_minor": 0
      },
      "text/plain": [
       "Getting ROI info:   0%|          | 0/2 [00:00<?, ?it/s]"
      ]
     },
     "metadata": {},
     "output_type": "display_data"
    },
    {
     "data": {
      "application/vnd.jupyter.widget-view+json": {
       "model_id": "84910470f89248f9a5d3336e66f8a08a",
       "version_major": 2,
       "version_minor": 0
      },
      "text/plain": [
       "Getting ROI info:   0%|          | 0/2 [00:00<?, ?it/s]"
      ]
     },
     "metadata": {},
     "output_type": "display_data"
    },
    {
     "data": {
      "application/vnd.jupyter.widget-view+json": {
       "model_id": "641e79a21dcd416ca805c9d1b1daf913",
       "version_major": 2,
       "version_minor": 0
      },
      "text/plain": [
       "Getting ROI info:   0%|          | 0/2 [00:00<?, ?it/s]"
      ]
     },
     "metadata": {},
     "output_type": "display_data"
    },
    {
     "data": {
      "application/vnd.jupyter.widget-view+json": {
       "model_id": "07c7ea1849aa47949aad52347bbee4c7",
       "version_major": 2,
       "version_minor": 0
      },
      "text/plain": [
       "Getting ROI info:   0%|          | 0/2 [00:00<?, ?it/s]"
      ]
     },
     "metadata": {},
     "output_type": "display_data"
    },
    {
     "data": {
      "application/vnd.jupyter.widget-view+json": {
       "model_id": "26b9957f96bd486b9b09bb3d0cab2ff1",
       "version_major": 2,
       "version_minor": 0
      },
      "text/plain": [
       "Getting ROI info:   0%|          | 0/2 [00:00<?, ?it/s]"
      ]
     },
     "metadata": {},
     "output_type": "display_data"
    },
    {
     "data": {
      "application/vnd.jupyter.widget-view+json": {
       "model_id": "444558194ca441a289c3f7db3c4ef0ec",
       "version_major": 2,
       "version_minor": 0
      },
      "text/plain": [
       "Getting ROI info:   0%|          | 0/2 [00:00<?, ?it/s]"
      ]
     },
     "metadata": {},
     "output_type": "display_data"
    },
    {
     "data": {
      "application/vnd.jupyter.widget-view+json": {
       "model_id": "f5f7e60875ce4cc8929e9dc3f1c91b6f",
       "version_major": 2,
       "version_minor": 0
      },
      "text/plain": [
       "Getting ROI info:   0%|          | 0/2 [00:00<?, ?it/s]"
      ]
     },
     "metadata": {},
     "output_type": "display_data"
    },
    {
     "data": {
      "application/vnd.jupyter.widget-view+json": {
       "model_id": "5fa0c6e45dc44b439ce1213b8b796b81",
       "version_major": 2,
       "version_minor": 0
      },
      "text/plain": [
       "Getting ROI info:   0%|          | 0/2 [00:00<?, ?it/s]"
      ]
     },
     "metadata": {},
     "output_type": "display_data"
    },
    {
     "data": {
      "application/vnd.jupyter.widget-view+json": {
       "model_id": "3f3361120f484dc1b0785a07cdabbb8b",
       "version_major": 2,
       "version_minor": 0
      },
      "text/plain": [
       "Getting ROI info:   0%|          | 0/2 [00:00<?, ?it/s]"
      ]
     },
     "metadata": {},
     "output_type": "display_data"
    },
    {
     "data": {
      "application/vnd.jupyter.widget-view+json": {
       "model_id": "0f2ee6205f2e40618b2cd374eca5a77d",
       "version_major": 2,
       "version_minor": 0
      },
      "text/plain": [
       "Getting ROI info:   0%|          | 0/2 [00:00<?, ?it/s]"
      ]
     },
     "metadata": {},
     "output_type": "display_data"
    },
    {
     "data": {
      "application/vnd.jupyter.widget-view+json": {
       "model_id": "ddac49c6ef4b458cb0535672e948f214",
       "version_major": 2,
       "version_minor": 0
      },
      "text/plain": [
       "Getting ROI info:   0%|          | 0/2 [00:00<?, ?it/s]"
      ]
     },
     "metadata": {},
     "output_type": "display_data"
    },
    {
     "data": {
      "application/vnd.jupyter.widget-view+json": {
       "model_id": "ae3e9763d3764a31a5696b55797653b7",
       "version_major": 2,
       "version_minor": 0
      },
      "text/plain": [
       "Getting ROI info:   0%|          | 0/2 [00:00<?, ?it/s]"
      ]
     },
     "metadata": {},
     "output_type": "display_data"
    },
    {
     "data": {
      "application/vnd.jupyter.widget-view+json": {
       "model_id": "4d8bbe8fafb843b5a9639f6e345e58b0",
       "version_major": 2,
       "version_minor": 0
      },
      "text/plain": [
       "Getting ROI info:   0%|          | 0/2 [00:00<?, ?it/s]"
      ]
     },
     "metadata": {},
     "output_type": "display_data"
    },
    {
     "data": {
      "application/vnd.jupyter.widget-view+json": {
       "model_id": "d4d06eabac5842f39c9b6475610df54b",
       "version_major": 2,
       "version_minor": 0
      },
      "text/plain": [
       "Getting ROI info:   0%|          | 0/2 [00:00<?, ?it/s]"
      ]
     },
     "metadata": {},
     "output_type": "display_data"
    },
    {
     "data": {
      "application/vnd.jupyter.widget-view+json": {
       "model_id": "55ab88633fbc464abf5f4be12187bc7b",
       "version_major": 2,
       "version_minor": 0
      },
      "text/plain": [
       "Getting ROI info:   0%|          | 0/2 [00:00<?, ?it/s]"
      ]
     },
     "metadata": {},
     "output_type": "display_data"
    },
    {
     "data": {
      "application/vnd.jupyter.widget-view+json": {
       "model_id": "c43c4585ec8844d5ae9218c77b15a8c6",
       "version_major": 2,
       "version_minor": 0
      },
      "text/plain": [
       "Getting ROI info:   0%|          | 0/2 [00:00<?, ?it/s]"
      ]
     },
     "metadata": {},
     "output_type": "display_data"
    },
    {
     "data": {
      "application/vnd.jupyter.widget-view+json": {
       "model_id": "95a3373c884247668b7ca10ef3867605",
       "version_major": 2,
       "version_minor": 0
      },
      "text/plain": [
       "Getting ROI info:   0%|          | 0/2 [00:00<?, ?it/s]"
      ]
     },
     "metadata": {},
     "output_type": "display_data"
    },
    {
     "data": {
      "application/vnd.jupyter.widget-view+json": {
       "model_id": "f0bdce9419ad47f987efe5996a6ab485",
       "version_major": 2,
       "version_minor": 0
      },
      "text/plain": [
       "Getting ROI info:   0%|          | 0/2 [00:00<?, ?it/s]"
      ]
     },
     "metadata": {},
     "output_type": "display_data"
    },
    {
     "data": {
      "application/vnd.jupyter.widget-view+json": {
       "model_id": "1fec9ca8ceab46d8949e0a5f5bc592c1",
       "version_major": 2,
       "version_minor": 0
      },
      "text/plain": [
       "Getting ROI info:   0%|          | 0/2 [00:00<?, ?it/s]"
      ]
     },
     "metadata": {},
     "output_type": "display_data"
    },
    {
     "data": {
      "application/vnd.jupyter.widget-view+json": {
       "model_id": "bceb50da489b4c0b91626fb4786eeb54",
       "version_major": 2,
       "version_minor": 0
      },
      "text/plain": [
       "Getting ROI info:   0%|          | 0/2 [00:00<?, ?it/s]"
      ]
     },
     "metadata": {},
     "output_type": "display_data"
    },
    {
     "data": {
      "application/vnd.jupyter.widget-view+json": {
       "model_id": "0338049fb66349edb79cead233ac853e",
       "version_major": 2,
       "version_minor": 0
      },
      "text/plain": [
       "Getting ROI info:   0%|          | 0/2 [00:00<?, ?it/s]"
      ]
     },
     "metadata": {},
     "output_type": "display_data"
    },
    {
     "data": {
      "application/vnd.jupyter.widget-view+json": {
       "model_id": "d8c5808bdfb943d998b1778d228e58e3",
       "version_major": 2,
       "version_minor": 0
      },
      "text/plain": [
       "Getting ROI info:   0%|          | 0/2 [00:00<?, ?it/s]"
      ]
     },
     "metadata": {},
     "output_type": "display_data"
    },
    {
     "data": {
      "application/vnd.jupyter.widget-view+json": {
       "model_id": "1e74131a8b974ffb80628c534c91c53f",
       "version_major": 2,
       "version_minor": 0
      },
      "text/plain": [
       "Getting ROI info:   0%|          | 0/2 [00:00<?, ?it/s]"
      ]
     },
     "metadata": {},
     "output_type": "display_data"
    },
    {
     "data": {
      "application/vnd.jupyter.widget-view+json": {
       "model_id": "00684109de79460a905720573bb9291a",
       "version_major": 2,
       "version_minor": 0
      },
      "text/plain": [
       "Getting ROI info:   0%|          | 0/2 [00:00<?, ?it/s]"
      ]
     },
     "metadata": {},
     "output_type": "display_data"
    },
    {
     "data": {
      "application/vnd.jupyter.widget-view+json": {
       "model_id": "1f7e7745aea340b8800ffb6c82dd7735",
       "version_major": 2,
       "version_minor": 0
      },
      "text/plain": [
       "Getting ROI info:   0%|          | 0/2 [00:00<?, ?it/s]"
      ]
     },
     "metadata": {},
     "output_type": "display_data"
    },
    {
     "data": {
      "application/vnd.jupyter.widget-view+json": {
       "model_id": "cbf6837364824390908d515ad1df4cfc",
       "version_major": 2,
       "version_minor": 0
      },
      "text/plain": [
       "Getting ROI info:   0%|          | 0/2 [00:00<?, ?it/s]"
      ]
     },
     "metadata": {},
     "output_type": "display_data"
    },
    {
     "data": {
      "application/vnd.jupyter.widget-view+json": {
       "model_id": "2327b38713d64d8fa403e600fd69c6f9",
       "version_major": 2,
       "version_minor": 0
      },
      "text/plain": [
       "Getting ROI info:   0%|          | 0/2 [00:00<?, ?it/s]"
      ]
     },
     "metadata": {},
     "output_type": "display_data"
    },
    {
     "data": {
      "application/vnd.jupyter.widget-view+json": {
       "model_id": "d2d60301856e4360b92036265e4f3510",
       "version_major": 2,
       "version_minor": 0
      },
      "text/plain": [
       "Getting ROI info:   0%|          | 0/2 [00:00<?, ?it/s]"
      ]
     },
     "metadata": {},
     "output_type": "display_data"
    },
    {
     "data": {
      "application/vnd.jupyter.widget-view+json": {
       "model_id": "c6b58889e7f54203828e355b8867af84",
       "version_major": 2,
       "version_minor": 0
      },
      "text/plain": [
       "Getting ROI info:   0%|          | 0/2 [00:00<?, ?it/s]"
      ]
     },
     "metadata": {},
     "output_type": "display_data"
    },
    {
     "data": {
      "application/vnd.jupyter.widget-view+json": {
       "model_id": "46d2f71f1df4480da4eec7a17c38fdc4",
       "version_major": 2,
       "version_minor": 0
      },
      "text/plain": [
       "Getting ROI info:   0%|          | 0/2 [00:00<?, ?it/s]"
      ]
     },
     "metadata": {},
     "output_type": "display_data"
    },
    {
     "data": {
      "application/vnd.jupyter.widget-view+json": {
       "model_id": "807bb371f80743c1b51e27443f243c05",
       "version_major": 2,
       "version_minor": 0
      },
      "text/plain": [
       "Getting ROI info:   0%|          | 0/2 [00:00<?, ?it/s]"
      ]
     },
     "metadata": {},
     "output_type": "display_data"
    },
    {
     "data": {
      "application/vnd.jupyter.widget-view+json": {
       "model_id": "958c46e155f3446bab36c2790eaa703f",
       "version_major": 2,
       "version_minor": 0
      },
      "text/plain": [
       "Getting ROI info:   0%|          | 0/2 [00:00<?, ?it/s]"
      ]
     },
     "metadata": {},
     "output_type": "display_data"
    },
    {
     "data": {
      "application/vnd.jupyter.widget-view+json": {
       "model_id": "fef70204828d493e995e7e8d5118037b",
       "version_major": 2,
       "version_minor": 0
      },
      "text/plain": [
       "Getting ROI info:   0%|          | 0/2 [00:00<?, ?it/s]"
      ]
     },
     "metadata": {},
     "output_type": "display_data"
    },
    {
     "data": {
      "application/vnd.jupyter.widget-view+json": {
       "model_id": "c5d0de535e3e4b9091e86d486014d4e0",
       "version_major": 2,
       "version_minor": 0
      },
      "text/plain": [
       "Getting ROI info:   0%|          | 0/2 [00:00<?, ?it/s]"
      ]
     },
     "metadata": {},
     "output_type": "display_data"
    },
    {
     "data": {
      "application/vnd.jupyter.widget-view+json": {
       "model_id": "d5519f7bd4d346759a5ed03687b73ef4",
       "version_major": 2,
       "version_minor": 0
      },
      "text/plain": [
       "Getting ROI info:   0%|          | 0/2 [00:00<?, ?it/s]"
      ]
     },
     "metadata": {},
     "output_type": "display_data"
    },
    {
     "data": {
      "application/vnd.jupyter.widget-view+json": {
       "model_id": "933821a0e918457f92e833a82ba2f2c1",
       "version_major": 2,
       "version_minor": 0
      },
      "text/plain": [
       "Getting ROI info:   0%|          | 0/2 [00:00<?, ?it/s]"
      ]
     },
     "metadata": {},
     "output_type": "display_data"
    },
    {
     "data": {
      "application/vnd.jupyter.widget-view+json": {
       "model_id": "afe948ebf2eb430b8bc1a22c536d1d90",
       "version_major": 2,
       "version_minor": 0
      },
      "text/plain": [
       "Getting ROI info:   0%|          | 0/2 [00:00<?, ?it/s]"
      ]
     },
     "metadata": {},
     "output_type": "display_data"
    },
    {
     "data": {
      "application/vnd.jupyter.widget-view+json": {
       "model_id": "bc842bd2507546bf908989bfd74344e6",
       "version_major": 2,
       "version_minor": 0
      },
      "text/plain": [
       "Getting ROI info:   0%|          | 0/2 [00:00<?, ?it/s]"
      ]
     },
     "metadata": {},
     "output_type": "display_data"
    },
    {
     "data": {
      "application/vnd.jupyter.widget-view+json": {
       "model_id": "f5363ecad70147368ff164172bcfa7b4",
       "version_major": 2,
       "version_minor": 0
      },
      "text/plain": [
       "Getting ROI info:   0%|          | 0/2 [00:00<?, ?it/s]"
      ]
     },
     "metadata": {},
     "output_type": "display_data"
    },
    {
     "data": {
      "application/vnd.jupyter.widget-view+json": {
       "model_id": "45c025be00144be4a2cf1144be924808",
       "version_major": 2,
       "version_minor": 0
      },
      "text/plain": [
       "Getting ROI info:   0%|          | 0/2 [00:00<?, ?it/s]"
      ]
     },
     "metadata": {},
     "output_type": "display_data"
    },
    {
     "data": {
      "application/vnd.jupyter.widget-view+json": {
       "model_id": "fda59592f73447ca8cbea6f611c18464",
       "version_major": 2,
       "version_minor": 0
      },
      "text/plain": [
       "Getting ROI info:   0%|          | 0/2 [00:00<?, ?it/s]"
      ]
     },
     "metadata": {},
     "output_type": "display_data"
    },
    {
     "data": {
      "application/vnd.jupyter.widget-view+json": {
       "model_id": "e7d9c5a825c14855815d32370c9166e5",
       "version_major": 2,
       "version_minor": 0
      },
      "text/plain": [
       "Getting ROI info:   0%|          | 0/2 [00:00<?, ?it/s]"
      ]
     },
     "metadata": {},
     "output_type": "display_data"
    },
    {
     "data": {
      "application/vnd.jupyter.widget-view+json": {
       "model_id": "4fd8d63ed312482b9674eefdc42fe8e8",
       "version_major": 2,
       "version_minor": 0
      },
      "text/plain": [
       "Getting ROI info:   0%|          | 0/2 [00:00<?, ?it/s]"
      ]
     },
     "metadata": {},
     "output_type": "display_data"
    },
    {
     "data": {
      "application/vnd.jupyter.widget-view+json": {
       "model_id": "3231bbcf1de8463fb12d3b7df9b1299b",
       "version_major": 2,
       "version_minor": 0
      },
      "text/plain": [
       "Getting ROI info:   0%|          | 0/2 [00:00<?, ?it/s]"
      ]
     },
     "metadata": {},
     "output_type": "display_data"
    },
    {
     "data": {
      "application/vnd.jupyter.widget-view+json": {
       "model_id": "1d599da77bd44fa79b423acf6f0848d3",
       "version_major": 2,
       "version_minor": 0
      },
      "text/plain": [
       "Getting ROI info:   0%|          | 0/2 [00:00<?, ?it/s]"
      ]
     },
     "metadata": {},
     "output_type": "display_data"
    },
    {
     "data": {
      "application/vnd.jupyter.widget-view+json": {
       "model_id": "308be37b92534216a34a2d7b44518793",
       "version_major": 2,
       "version_minor": 0
      },
      "text/plain": [
       "Getting ROI info:   0%|          | 0/2 [00:00<?, ?it/s]"
      ]
     },
     "metadata": {},
     "output_type": "display_data"
    },
    {
     "data": {
      "application/vnd.jupyter.widget-view+json": {
       "model_id": "e45e7246659047fe90173245317dd177",
       "version_major": 2,
       "version_minor": 0
      },
      "text/plain": [
       "Getting ROI info:   0%|          | 0/2 [00:00<?, ?it/s]"
      ]
     },
     "metadata": {},
     "output_type": "display_data"
    },
    {
     "data": {
      "application/vnd.jupyter.widget-view+json": {
       "model_id": "f6ca59cdb221467aae6a7065875f16a5",
       "version_major": 2,
       "version_minor": 0
      },
      "text/plain": [
       "Getting ROI info:   0%|          | 0/2 [00:00<?, ?it/s]"
      ]
     },
     "metadata": {},
     "output_type": "display_data"
    },
    {
     "data": {
      "application/vnd.jupyter.widget-view+json": {
       "model_id": "630201bba7b5407cac96bd6305158e22",
       "version_major": 2,
       "version_minor": 0
      },
      "text/plain": [
       "Getting ROI info:   0%|          | 0/2 [00:00<?, ?it/s]"
      ]
     },
     "metadata": {},
     "output_type": "display_data"
    },
    {
     "data": {
      "application/vnd.jupyter.widget-view+json": {
       "model_id": "8e06cbb407fc457ba53b818940548421",
       "version_major": 2,
       "version_minor": 0
      },
      "text/plain": [
       "Getting ROI info:   0%|          | 0/2 [00:00<?, ?it/s]"
      ]
     },
     "metadata": {},
     "output_type": "display_data"
    },
    {
     "data": {
      "application/vnd.jupyter.widget-view+json": {
       "model_id": "b90d576772b64afda54da06aca15e889",
       "version_major": 2,
       "version_minor": 0
      },
      "text/plain": [
       "Getting ROI info:   0%|          | 0/2 [00:00<?, ?it/s]"
      ]
     },
     "metadata": {},
     "output_type": "display_data"
    },
    {
     "data": {
      "application/vnd.jupyter.widget-view+json": {
       "model_id": "a580ebc944d14ad18a7fd1e691c1fc9a",
       "version_major": 2,
       "version_minor": 0
      },
      "text/plain": [
       "Getting ROI info:   0%|          | 0/2 [00:00<?, ?it/s]"
      ]
     },
     "metadata": {},
     "output_type": "display_data"
    },
    {
     "data": {
      "application/vnd.jupyter.widget-view+json": {
       "model_id": "79729bf4c7924c94952147c050a982bf",
       "version_major": 2,
       "version_minor": 0
      },
      "text/plain": [
       "Getting ROI info:   0%|          | 0/2 [00:00<?, ?it/s]"
      ]
     },
     "metadata": {},
     "output_type": "display_data"
    },
    {
     "data": {
      "application/vnd.jupyter.widget-view+json": {
       "model_id": "f02a280e4761490d863ab5ffd8fba1e9",
       "version_major": 2,
       "version_minor": 0
      },
      "text/plain": [
       "Getting ROI info:   0%|          | 0/2 [00:00<?, ?it/s]"
      ]
     },
     "metadata": {},
     "output_type": "display_data"
    },
    {
     "data": {
      "application/vnd.jupyter.widget-view+json": {
       "model_id": "0b7bf5a3bedc4e6fb996defda430a1d5",
       "version_major": 2,
       "version_minor": 0
      },
      "text/plain": [
       "Getting ROI info:   0%|          | 0/2 [00:00<?, ?it/s]"
      ]
     },
     "metadata": {},
     "output_type": "display_data"
    },
    {
     "data": {
      "application/vnd.jupyter.widget-view+json": {
       "model_id": "b49200939e794e01a4b4d0ad4b1757a0",
       "version_major": 2,
       "version_minor": 0
      },
      "text/plain": [
       "Getting ROI info:   0%|          | 0/2 [00:00<?, ?it/s]"
      ]
     },
     "metadata": {},
     "output_type": "display_data"
    },
    {
     "data": {
      "application/vnd.jupyter.widget-view+json": {
       "model_id": "2ee6a12694c94198be13507efa09263a",
       "version_major": 2,
       "version_minor": 0
      },
      "text/plain": [
       "Getting ROI info:   0%|          | 0/2 [00:00<?, ?it/s]"
      ]
     },
     "metadata": {},
     "output_type": "display_data"
    },
    {
     "data": {
      "application/vnd.jupyter.widget-view+json": {
       "model_id": "7c65f4fdc090490ea4e5691e3fb40902",
       "version_major": 2,
       "version_minor": 0
      },
      "text/plain": [
       "Getting ROI info:   0%|          | 0/2 [00:00<?, ?it/s]"
      ]
     },
     "metadata": {},
     "output_type": "display_data"
    },
    {
     "data": {
      "application/vnd.jupyter.widget-view+json": {
       "model_id": "91410d639cb44e9ab5c9783bd6a504f9",
       "version_major": 2,
       "version_minor": 0
      },
      "text/plain": [
       "Getting ROI info:   0%|          | 0/2 [00:00<?, ?it/s]"
      ]
     },
     "metadata": {},
     "output_type": "display_data"
    },
    {
     "data": {
      "application/vnd.jupyter.widget-view+json": {
       "model_id": "395ece2c27c24f37b64dba35162e506c",
       "version_major": 2,
       "version_minor": 0
      },
      "text/plain": [
       "Getting ROI info:   0%|          | 0/2 [00:00<?, ?it/s]"
      ]
     },
     "metadata": {},
     "output_type": "display_data"
    },
    {
     "data": {
      "application/vnd.jupyter.widget-view+json": {
       "model_id": "efacacc3781e477dada4a2a469b93a71",
       "version_major": 2,
       "version_minor": 0
      },
      "text/plain": [
       "Getting ROI info:   0%|          | 0/2 [00:00<?, ?it/s]"
      ]
     },
     "metadata": {},
     "output_type": "display_data"
    },
    {
     "data": {
      "application/vnd.jupyter.widget-view+json": {
       "model_id": "6d155637432f4d6d98678c9dad644011",
       "version_major": 2,
       "version_minor": 0
      },
      "text/plain": [
       "Getting ROI info:   0%|          | 0/2 [00:00<?, ?it/s]"
      ]
     },
     "metadata": {},
     "output_type": "display_data"
    },
    {
     "data": {
      "application/vnd.jupyter.widget-view+json": {
       "model_id": "36e4a9d32ba04f159093417686c1aab4",
       "version_major": 2,
       "version_minor": 0
      },
      "text/plain": [
       "Getting ROI info:   0%|          | 0/2 [00:00<?, ?it/s]"
      ]
     },
     "metadata": {},
     "output_type": "display_data"
    },
    {
     "data": {
      "application/vnd.jupyter.widget-view+json": {
       "model_id": "8b78131ae42746be871403faefe60304",
       "version_major": 2,
       "version_minor": 0
      },
      "text/plain": [
       "Getting ROI info:   0%|          | 0/2 [00:00<?, ?it/s]"
      ]
     },
     "metadata": {},
     "output_type": "display_data"
    },
    {
     "data": {
      "application/vnd.jupyter.widget-view+json": {
       "model_id": "80b70ea5630b4d678280ff9bd8f20616",
       "version_major": 2,
       "version_minor": 0
      },
      "text/plain": [
       "Getting ROI info:   0%|          | 0/2 [00:00<?, ?it/s]"
      ]
     },
     "metadata": {},
     "output_type": "display_data"
    },
    {
     "data": {
      "application/vnd.jupyter.widget-view+json": {
       "model_id": "3da196a968fc42a0b288607698371ec4",
       "version_major": 2,
       "version_minor": 0
      },
      "text/plain": [
       "Getting ROI info:   0%|          | 0/2 [00:00<?, ?it/s]"
      ]
     },
     "metadata": {},
     "output_type": "display_data"
    },
    {
     "data": {
      "application/vnd.jupyter.widget-view+json": {
       "model_id": "6307a9fac02b4a49bfab45e9a96dce20",
       "version_major": 2,
       "version_minor": 0
      },
      "text/plain": [
       "Getting ROI info:   0%|          | 0/2 [00:00<?, ?it/s]"
      ]
     },
     "metadata": {},
     "output_type": "display_data"
    },
    {
     "data": {
      "application/vnd.jupyter.widget-view+json": {
       "model_id": "210f3f84e2a94dcda42ee33f7e61eece",
       "version_major": 2,
       "version_minor": 0
      },
      "text/plain": [
       "Getting ROI info:   0%|          | 0/2 [00:00<?, ?it/s]"
      ]
     },
     "metadata": {},
     "output_type": "display_data"
    },
    {
     "data": {
      "application/vnd.jupyter.widget-view+json": {
       "model_id": "a4aa3355f40148b1b25198a25ae73ec2",
       "version_major": 2,
       "version_minor": 0
      },
      "text/plain": [
       "Getting ROI info:   0%|          | 0/2 [00:00<?, ?it/s]"
      ]
     },
     "metadata": {},
     "output_type": "display_data"
    },
    {
     "data": {
      "application/vnd.jupyter.widget-view+json": {
       "model_id": "b1912ccb991b461784fa792abf4539a2",
       "version_major": 2,
       "version_minor": 0
      },
      "text/plain": [
       "Getting ROI info:   0%|          | 0/2 [00:00<?, ?it/s]"
      ]
     },
     "metadata": {},
     "output_type": "display_data"
    },
    {
     "data": {
      "application/vnd.jupyter.widget-view+json": {
       "model_id": "1a4776ff682d435f9002547f8548e559",
       "version_major": 2,
       "version_minor": 0
      },
      "text/plain": [
       "Getting ROI info:   0%|          | 0/2 [00:00<?, ?it/s]"
      ]
     },
     "metadata": {},
     "output_type": "display_data"
    },
    {
     "data": {
      "application/vnd.jupyter.widget-view+json": {
       "model_id": "bb71a72d73d9495e940ac06c87535d6f",
       "version_major": 2,
       "version_minor": 0
      },
      "text/plain": [
       "Getting ROI info:   0%|          | 0/2 [00:00<?, ?it/s]"
      ]
     },
     "metadata": {},
     "output_type": "display_data"
    },
    {
     "data": {
      "application/vnd.jupyter.widget-view+json": {
       "model_id": "74b766d18927468e9ba73fc8382ee616",
       "version_major": 2,
       "version_minor": 0
      },
      "text/plain": [
       "Getting ROI info:   0%|          | 0/2 [00:00<?, ?it/s]"
      ]
     },
     "metadata": {},
     "output_type": "display_data"
    },
    {
     "data": {
      "application/vnd.jupyter.widget-view+json": {
       "model_id": "3c85c38a86684b0596082d06d7f1d62e",
       "version_major": 2,
       "version_minor": 0
      },
      "text/plain": [
       "Getting ROI info:   0%|          | 0/2 [00:00<?, ?it/s]"
      ]
     },
     "metadata": {},
     "output_type": "display_data"
    },
    {
     "data": {
      "application/vnd.jupyter.widget-view+json": {
       "model_id": "92370b5e9a97424e810ced11bf8e54f9",
       "version_major": 2,
       "version_minor": 0
      },
      "text/plain": [
       "Getting ROI info:   0%|          | 0/2 [00:00<?, ?it/s]"
      ]
     },
     "metadata": {},
     "output_type": "display_data"
    },
    {
     "data": {
      "application/vnd.jupyter.widget-view+json": {
       "model_id": "55c73ad0c3ff4f6285eecc5bbf8049ef",
       "version_major": 2,
       "version_minor": 0
      },
      "text/plain": [
       "Getting ROI info:   0%|          | 0/2 [00:00<?, ?it/s]"
      ]
     },
     "metadata": {},
     "output_type": "display_data"
    },
    {
     "data": {
      "application/vnd.jupyter.widget-view+json": {
       "model_id": "6b7bf268c51f4fe6922759f086c548f1",
       "version_major": 2,
       "version_minor": 0
      },
      "text/plain": [
       "Getting ROI info:   0%|          | 0/2 [00:00<?, ?it/s]"
      ]
     },
     "metadata": {},
     "output_type": "display_data"
    },
    {
     "data": {
      "application/vnd.jupyter.widget-view+json": {
       "model_id": "0466f5ed304347bbb632a6ff09ecbe6c",
       "version_major": 2,
       "version_minor": 0
      },
      "text/plain": [
       "Getting ROI info:   0%|          | 0/2 [00:00<?, ?it/s]"
      ]
     },
     "metadata": {},
     "output_type": "display_data"
    },
    {
     "data": {
      "application/vnd.jupyter.widget-view+json": {
       "model_id": "43e24fb285b145f299f3fe292e8b5af5",
       "version_major": 2,
       "version_minor": 0
      },
      "text/plain": [
       "Getting ROI info:   0%|          | 0/2 [00:00<?, ?it/s]"
      ]
     },
     "metadata": {},
     "output_type": "display_data"
    },
    {
     "data": {
      "application/vnd.jupyter.widget-view+json": {
       "model_id": "0e538043e3c44c799287dd0892a77921",
       "version_major": 2,
       "version_minor": 0
      },
      "text/plain": [
       "Getting ROI info:   0%|          | 0/2 [00:00<?, ?it/s]"
      ]
     },
     "metadata": {},
     "output_type": "display_data"
    },
    {
     "data": {
      "application/vnd.jupyter.widget-view+json": {
       "model_id": "23953731ac4e4285bab582aaaefb5cb2",
       "version_major": 2,
       "version_minor": 0
      },
      "text/plain": [
       "Getting ROI info:   0%|          | 0/2 [00:00<?, ?it/s]"
      ]
     },
     "metadata": {},
     "output_type": "display_data"
    },
    {
     "data": {
      "application/vnd.jupyter.widget-view+json": {
       "model_id": "0bf89b16c594405f9fbf0ddc9b6c0635",
       "version_major": 2,
       "version_minor": 0
      },
      "text/plain": [
       "Getting ROI info:   0%|          | 0/2 [00:00<?, ?it/s]"
      ]
     },
     "metadata": {},
     "output_type": "display_data"
    },
    {
     "data": {
      "application/vnd.jupyter.widget-view+json": {
       "model_id": "cd97985975fe4ae48d9e83e6104a85d6",
       "version_major": 2,
       "version_minor": 0
      },
      "text/plain": [
       "Getting ROI info:   0%|          | 0/2 [00:00<?, ?it/s]"
      ]
     },
     "metadata": {},
     "output_type": "display_data"
    },
    {
     "data": {
      "application/vnd.jupyter.widget-view+json": {
       "model_id": "d7a00be79ecb493da6f468ee3f8244b6",
       "version_major": 2,
       "version_minor": 0
      },
      "text/plain": [
       "Getting ROI info:   0%|          | 0/2 [00:00<?, ?it/s]"
      ]
     },
     "metadata": {},
     "output_type": "display_data"
    },
    {
     "data": {
      "application/vnd.jupyter.widget-view+json": {
       "model_id": "0f99599a38834b7c91e0fb0432d304cb",
       "version_major": 2,
       "version_minor": 0
      },
      "text/plain": [
       "Getting ROI info:   0%|          | 0/2 [00:00<?, ?it/s]"
      ]
     },
     "metadata": {},
     "output_type": "display_data"
    },
    {
     "data": {
      "application/vnd.jupyter.widget-view+json": {
       "model_id": "acceaf5dd99242f88fa62ce4d7582a6d",
       "version_major": 2,
       "version_minor": 0
      },
      "text/plain": [
       "Getting ROI info:   0%|          | 0/2 [00:00<?, ?it/s]"
      ]
     },
     "metadata": {},
     "output_type": "display_data"
    },
    {
     "data": {
      "application/vnd.jupyter.widget-view+json": {
       "model_id": "30d1961b2307479d8ca5284d97510c44",
       "version_major": 2,
       "version_minor": 0
      },
      "text/plain": [
       "Getting ROI info:   0%|          | 0/2 [00:00<?, ?it/s]"
      ]
     },
     "metadata": {},
     "output_type": "display_data"
    },
    {
     "data": {
      "application/vnd.jupyter.widget-view+json": {
       "model_id": "b5e46356deb546e2ba6c6aefa812f84d",
       "version_major": 2,
       "version_minor": 0
      },
      "text/plain": [
       "Getting ROI info:   0%|          | 0/2 [00:00<?, ?it/s]"
      ]
     },
     "metadata": {},
     "output_type": "display_data"
    },
    {
     "data": {
      "application/vnd.jupyter.widget-view+json": {
       "model_id": "d2d4930b5c5447b6993f2f52dca729de",
       "version_major": 2,
       "version_minor": 0
      },
      "text/plain": [
       "Getting ROI info:   0%|          | 0/2 [00:00<?, ?it/s]"
      ]
     },
     "metadata": {},
     "output_type": "display_data"
    },
    {
     "data": {
      "application/vnd.jupyter.widget-view+json": {
       "model_id": "ff982af970f04430835257aaa1bc45ce",
       "version_major": 2,
       "version_minor": 0
      },
      "text/plain": [
       "Getting ROI info:   0%|          | 0/2 [00:00<?, ?it/s]"
      ]
     },
     "metadata": {},
     "output_type": "display_data"
    },
    {
     "data": {
      "application/vnd.jupyter.widget-view+json": {
       "model_id": "2644290b755a42d1a125945689f6a77f",
       "version_major": 2,
       "version_minor": 0
      },
      "text/plain": [
       "Getting ROI info:   0%|          | 0/2 [00:00<?, ?it/s]"
      ]
     },
     "metadata": {},
     "output_type": "display_data"
    },
    {
     "data": {
      "application/vnd.jupyter.widget-view+json": {
       "model_id": "9bf115d98f0c49fca67ec51c57879e7d",
       "version_major": 2,
       "version_minor": 0
      },
      "text/plain": [
       "Getting ROI info:   0%|          | 0/2 [00:00<?, ?it/s]"
      ]
     },
     "metadata": {},
     "output_type": "display_data"
    },
    {
     "data": {
      "application/vnd.jupyter.widget-view+json": {
       "model_id": "bcec7c9c83f44d048304df53ef73117e",
       "version_major": 2,
       "version_minor": 0
      },
      "text/plain": [
       "Getting ROI info:   0%|          | 0/2 [00:00<?, ?it/s]"
      ]
     },
     "metadata": {},
     "output_type": "display_data"
    },
    {
     "data": {
      "application/vnd.jupyter.widget-view+json": {
       "model_id": "7becf17fac234f6b83c945352a5f7ef7",
       "version_major": 2,
       "version_minor": 0
      },
      "text/plain": [
       "Getting ROI info:   0%|          | 0/2 [00:00<?, ?it/s]"
      ]
     },
     "metadata": {},
     "output_type": "display_data"
    },
    {
     "data": {
      "application/vnd.jupyter.widget-view+json": {
       "model_id": "2099d92ab0b948468dbc48effbac4221",
       "version_major": 2,
       "version_minor": 0
      },
      "text/plain": [
       "Getting ROI info:   0%|          | 0/2 [00:00<?, ?it/s]"
      ]
     },
     "metadata": {},
     "output_type": "display_data"
    },
    {
     "data": {
      "application/vnd.jupyter.widget-view+json": {
       "model_id": "7d51ecdea8c04b4e8366b3de0136f72f",
       "version_major": 2,
       "version_minor": 0
      },
      "text/plain": [
       "Getting ROI info:   0%|          | 0/2 [00:00<?, ?it/s]"
      ]
     },
     "metadata": {},
     "output_type": "display_data"
    },
    {
     "data": {
      "application/vnd.jupyter.widget-view+json": {
       "model_id": "a7c78662ea064b32b21852f6dc1a019e",
       "version_major": 2,
       "version_minor": 0
      },
      "text/plain": [
       "Getting ROI info:   0%|          | 0/2 [00:00<?, ?it/s]"
      ]
     },
     "metadata": {},
     "output_type": "display_data"
    },
    {
     "data": {
      "application/vnd.jupyter.widget-view+json": {
       "model_id": "bba47c437fee41cba9ef4121dab3a60a",
       "version_major": 2,
       "version_minor": 0
      },
      "text/plain": [
       "Getting ROI info:   0%|          | 0/2 [00:00<?, ?it/s]"
      ]
     },
     "metadata": {},
     "output_type": "display_data"
    },
    {
     "data": {
      "application/vnd.jupyter.widget-view+json": {
       "model_id": "9fcd76158b804a8b8a0d33d7cc5c2bc2",
       "version_major": 2,
       "version_minor": 0
      },
      "text/plain": [
       "Getting ROI info:   0%|          | 0/2 [00:00<?, ?it/s]"
      ]
     },
     "metadata": {},
     "output_type": "display_data"
    },
    {
     "data": {
      "application/vnd.jupyter.widget-view+json": {
       "model_id": "b64d117f9d504e3dbe9d3a51d4498853",
       "version_major": 2,
       "version_minor": 0
      },
      "text/plain": [
       "Getting ROI info:   0%|          | 0/2 [00:00<?, ?it/s]"
      ]
     },
     "metadata": {},
     "output_type": "display_data"
    },
    {
     "data": {
      "application/vnd.jupyter.widget-view+json": {
       "model_id": "44ef9147ccab46ce87b7c58a3ebdf7b5",
       "version_major": 2,
       "version_minor": 0
      },
      "text/plain": [
       "Getting ROI info:   0%|          | 0/2 [00:00<?, ?it/s]"
      ]
     },
     "metadata": {},
     "output_type": "display_data"
    },
    {
     "data": {
      "application/vnd.jupyter.widget-view+json": {
       "model_id": "ea26dae56f4e4105812ee293e86f8f96",
       "version_major": 2,
       "version_minor": 0
      },
      "text/plain": [
       "Getting ROI info:   0%|          | 0/2 [00:00<?, ?it/s]"
      ]
     },
     "metadata": {},
     "output_type": "display_data"
    },
    {
     "data": {
      "application/vnd.jupyter.widget-view+json": {
       "model_id": "4590872af69e463cb930bc79f477c78e",
       "version_major": 2,
       "version_minor": 0
      },
      "text/plain": [
       "Getting ROI info:   0%|          | 0/2 [00:00<?, ?it/s]"
      ]
     },
     "metadata": {},
     "output_type": "display_data"
    },
    {
     "data": {
      "application/vnd.jupyter.widget-view+json": {
       "model_id": "e1fd455d84c547478a0f372e4e226855",
       "version_major": 2,
       "version_minor": 0
      },
      "text/plain": [
       "Getting ROI info:   0%|          | 0/2 [00:00<?, ?it/s]"
      ]
     },
     "metadata": {},
     "output_type": "display_data"
    },
    {
     "data": {
      "application/vnd.jupyter.widget-view+json": {
       "model_id": "9d42f395c6754ac9b682c3646ae08e8d",
       "version_major": 2,
       "version_minor": 0
      },
      "text/plain": [
       "Getting ROI info:   0%|          | 0/2 [00:00<?, ?it/s]"
      ]
     },
     "metadata": {},
     "output_type": "display_data"
    },
    {
     "data": {
      "application/vnd.jupyter.widget-view+json": {
       "model_id": "776ec413186d493c9e8695693d64cda9",
       "version_major": 2,
       "version_minor": 0
      },
      "text/plain": [
       "Getting ROI info:   0%|          | 0/2 [00:00<?, ?it/s]"
      ]
     },
     "metadata": {},
     "output_type": "display_data"
    },
    {
     "data": {
      "application/vnd.jupyter.widget-view+json": {
       "model_id": "e1dbae3513f44e46bfa5c4504f45b69d",
       "version_major": 2,
       "version_minor": 0
      },
      "text/plain": [
       "Getting ROI info:   0%|          | 0/2 [00:00<?, ?it/s]"
      ]
     },
     "metadata": {},
     "output_type": "display_data"
    },
    {
     "data": {
      "application/vnd.jupyter.widget-view+json": {
       "model_id": "132909c615a54ddfb820388b3e2c2783",
       "version_major": 2,
       "version_minor": 0
      },
      "text/plain": [
       "Getting ROI info:   0%|          | 0/2 [00:00<?, ?it/s]"
      ]
     },
     "metadata": {},
     "output_type": "display_data"
    },
    {
     "data": {
      "application/vnd.jupyter.widget-view+json": {
       "model_id": "ec55b597c2f84a4aa1cb826f10f524bb",
       "version_major": 2,
       "version_minor": 0
      },
      "text/plain": [
       "Getting ROI info:   0%|          | 0/2 [00:00<?, ?it/s]"
      ]
     },
     "metadata": {},
     "output_type": "display_data"
    },
    {
     "data": {
      "application/vnd.jupyter.widget-view+json": {
       "model_id": "3e09950956e54807aa9e63ccd6be02a5",
       "version_major": 2,
       "version_minor": 0
      },
      "text/plain": [
       "Getting ROI info:   0%|          | 0/2 [00:00<?, ?it/s]"
      ]
     },
     "metadata": {},
     "output_type": "display_data"
    },
    {
     "data": {
      "application/vnd.jupyter.widget-view+json": {
       "model_id": "b522d7e6b40845d59b64bd5d16d34c35",
       "version_major": 2,
       "version_minor": 0
      },
      "text/plain": [
       "Getting ROI info:   0%|          | 0/2 [00:00<?, ?it/s]"
      ]
     },
     "metadata": {},
     "output_type": "display_data"
    },
    {
     "data": {
      "application/vnd.jupyter.widget-view+json": {
       "model_id": "115cf37a9cee43499aacd4df72638cf3",
       "version_major": 2,
       "version_minor": 0
      },
      "text/plain": [
       "Getting ROI info:   0%|          | 0/2 [00:00<?, ?it/s]"
      ]
     },
     "metadata": {},
     "output_type": "display_data"
    },
    {
     "data": {
      "application/vnd.jupyter.widget-view+json": {
       "model_id": "ebf93857776d4a00a6c83afac8b5e294",
       "version_major": 2,
       "version_minor": 0
      },
      "text/plain": [
       "Getting ROI info:   0%|          | 0/2 [00:00<?, ?it/s]"
      ]
     },
     "metadata": {},
     "output_type": "display_data"
    },
    {
     "data": {
      "application/vnd.jupyter.widget-view+json": {
       "model_id": "75a4a773ff5c4f8286ed29c81a44cf17",
       "version_major": 2,
       "version_minor": 0
      },
      "text/plain": [
       "Getting ROI info:   0%|          | 0/2 [00:00<?, ?it/s]"
      ]
     },
     "metadata": {},
     "output_type": "display_data"
    },
    {
     "data": {
      "application/vnd.jupyter.widget-view+json": {
       "model_id": "6c48d4da71bc4645a0bf1415346a3a3f",
       "version_major": 2,
       "version_minor": 0
      },
      "text/plain": [
       "Getting ROI info:   0%|          | 0/2 [00:00<?, ?it/s]"
      ]
     },
     "metadata": {},
     "output_type": "display_data"
    },
    {
     "data": {
      "application/vnd.jupyter.widget-view+json": {
       "model_id": "ec3591c180cc4cb987dce0c210ff5962",
       "version_major": 2,
       "version_minor": 0
      },
      "text/plain": [
       "Getting ROI info:   0%|          | 0/2 [00:00<?, ?it/s]"
      ]
     },
     "metadata": {},
     "output_type": "display_data"
    },
    {
     "data": {
      "application/vnd.jupyter.widget-view+json": {
       "model_id": "bc3d82e7c56e47d89e1c3d91bcdbfe1c",
       "version_major": 2,
       "version_minor": 0
      },
      "text/plain": [
       "Getting ROI info:   0%|          | 0/2 [00:00<?, ?it/s]"
      ]
     },
     "metadata": {},
     "output_type": "display_data"
    },
    {
     "data": {
      "application/vnd.jupyter.widget-view+json": {
       "model_id": "b08d07572add4ef3b63f71ef24f46a05",
       "version_major": 2,
       "version_minor": 0
      },
      "text/plain": [
       "Getting ROI info:   0%|          | 0/2 [00:00<?, ?it/s]"
      ]
     },
     "metadata": {},
     "output_type": "display_data"
    },
    {
     "data": {
      "application/vnd.jupyter.widget-view+json": {
       "model_id": "e24e02aa4d1042239415b42031560472",
       "version_major": 2,
       "version_minor": 0
      },
      "text/plain": [
       "Getting ROI info:   0%|          | 0/2 [00:00<?, ?it/s]"
      ]
     },
     "metadata": {},
     "output_type": "display_data"
    },
    {
     "data": {
      "application/vnd.jupyter.widget-view+json": {
       "model_id": "d52d504676d341ea9739fbae835879b2",
       "version_major": 2,
       "version_minor": 0
      },
      "text/plain": [
       "Getting ROI info:   0%|          | 0/2 [00:00<?, ?it/s]"
      ]
     },
     "metadata": {},
     "output_type": "display_data"
    },
    {
     "data": {
      "application/vnd.jupyter.widget-view+json": {
       "model_id": "8cdbe342c84a4666b37d666882061416",
       "version_major": 2,
       "version_minor": 0
      },
      "text/plain": [
       "Getting ROI info:   0%|          | 0/2 [00:00<?, ?it/s]"
      ]
     },
     "metadata": {},
     "output_type": "display_data"
    },
    {
     "data": {
      "application/vnd.jupyter.widget-view+json": {
       "model_id": "b8fd9e44efe147bcb855c3c20985d9f2",
       "version_major": 2,
       "version_minor": 0
      },
      "text/plain": [
       "Getting ROI info:   0%|          | 0/2 [00:00<?, ?it/s]"
      ]
     },
     "metadata": {},
     "output_type": "display_data"
    },
    {
     "data": {
      "application/vnd.jupyter.widget-view+json": {
       "model_id": "8bf0e1d134e84df3b5c144c52656c19f",
       "version_major": 2,
       "version_minor": 0
      },
      "text/plain": [
       "Getting ROI info:   0%|          | 0/2 [00:00<?, ?it/s]"
      ]
     },
     "metadata": {},
     "output_type": "display_data"
    },
    {
     "data": {
      "application/vnd.jupyter.widget-view+json": {
       "model_id": "0505c18ab8894d9681f867918b2e3e9a",
       "version_major": 2,
       "version_minor": 0
      },
      "text/plain": [
       "Getting ROI info:   0%|          | 0/2 [00:00<?, ?it/s]"
      ]
     },
     "metadata": {},
     "output_type": "display_data"
    },
    {
     "data": {
      "application/vnd.jupyter.widget-view+json": {
       "model_id": "7fed9af4733e4242b09176b683ec4d5b",
       "version_major": 2,
       "version_minor": 0
      },
      "text/plain": [
       "Getting ROI info:   0%|          | 0/2 [00:00<?, ?it/s]"
      ]
     },
     "metadata": {},
     "output_type": "display_data"
    },
    {
     "data": {
      "application/vnd.jupyter.widget-view+json": {
       "model_id": "57de39e3e4c1494d9e97a23c63027b70",
       "version_major": 2,
       "version_minor": 0
      },
      "text/plain": [
       "Getting ROI info:   0%|          | 0/2 [00:00<?, ?it/s]"
      ]
     },
     "metadata": {},
     "output_type": "display_data"
    },
    {
     "data": {
      "application/vnd.jupyter.widget-view+json": {
       "model_id": "2a41755f4a0a4eda83bc8d205a8128a6",
       "version_major": 2,
       "version_minor": 0
      },
      "text/plain": [
       "Getting ROI info:   0%|          | 0/2 [00:00<?, ?it/s]"
      ]
     },
     "metadata": {},
     "output_type": "display_data"
    },
    {
     "data": {
      "application/vnd.jupyter.widget-view+json": {
       "model_id": "2730fe743f484187ba261ea4de2f1b7b",
       "version_major": 2,
       "version_minor": 0
      },
      "text/plain": [
       "Getting ROI info:   0%|          | 0/2 [00:00<?, ?it/s]"
      ]
     },
     "metadata": {},
     "output_type": "display_data"
    },
    {
     "data": {
      "application/vnd.jupyter.widget-view+json": {
       "model_id": "963e2e4b3ed748ca9889e224c17dec01",
       "version_major": 2,
       "version_minor": 0
      },
      "text/plain": [
       "Getting ROI info:   0%|          | 0/2 [00:00<?, ?it/s]"
      ]
     },
     "metadata": {},
     "output_type": "display_data"
    },
    {
     "data": {
      "application/vnd.jupyter.widget-view+json": {
       "model_id": "5a8909135e2c4fbf92067bf6b157b099",
       "version_major": 2,
       "version_minor": 0
      },
      "text/plain": [
       "Getting ROI info:   0%|          | 0/2 [00:00<?, ?it/s]"
      ]
     },
     "metadata": {},
     "output_type": "display_data"
    },
    {
     "data": {
      "application/vnd.jupyter.widget-view+json": {
       "model_id": "56a51b07725546928289206d9547be59",
       "version_major": 2,
       "version_minor": 0
      },
      "text/plain": [
       "Getting ROI info:   0%|          | 0/2 [00:00<?, ?it/s]"
      ]
     },
     "metadata": {},
     "output_type": "display_data"
    },
    {
     "data": {
      "application/vnd.jupyter.widget-view+json": {
       "model_id": "77c1991cc036436ebc06ea452e08fccc",
       "version_major": 2,
       "version_minor": 0
      },
      "text/plain": [
       "Getting ROI info:   0%|          | 0/2 [00:00<?, ?it/s]"
      ]
     },
     "metadata": {},
     "output_type": "display_data"
    },
    {
     "data": {
      "application/vnd.jupyter.widget-view+json": {
       "model_id": "18bf2028f4d54705bee97c3e6c3204c3",
       "version_major": 2,
       "version_minor": 0
      },
      "text/plain": [
       "Getting ROI info:   0%|          | 0/2 [00:00<?, ?it/s]"
      ]
     },
     "metadata": {},
     "output_type": "display_data"
    },
    {
     "data": {
      "application/vnd.jupyter.widget-view+json": {
       "model_id": "62b1a244a7be49fbb631d639cd67e1fa",
       "version_major": 2,
       "version_minor": 0
      },
      "text/plain": [
       "Getting ROI info:   0%|          | 0/2 [00:00<?, ?it/s]"
      ]
     },
     "metadata": {},
     "output_type": "display_data"
    },
    {
     "data": {
      "application/vnd.jupyter.widget-view+json": {
       "model_id": "2ced8688f19a46a2892128cd53efc60c",
       "version_major": 2,
       "version_minor": 0
      },
      "text/plain": [
       "Getting ROI info:   0%|          | 0/2 [00:00<?, ?it/s]"
      ]
     },
     "metadata": {},
     "output_type": "display_data"
    },
    {
     "data": {
      "application/vnd.jupyter.widget-view+json": {
       "model_id": "04461777ccdf48f3bd495833916b7751",
       "version_major": 2,
       "version_minor": 0
      },
      "text/plain": [
       "Getting ROI info:   0%|          | 0/2 [00:00<?, ?it/s]"
      ]
     },
     "metadata": {},
     "output_type": "display_data"
    },
    {
     "data": {
      "application/vnd.jupyter.widget-view+json": {
       "model_id": "1aed412bd5e94188a1ecc0dd4a4f2c37",
       "version_major": 2,
       "version_minor": 0
      },
      "text/plain": [
       "Getting ROI info:   0%|          | 0/2 [00:00<?, ?it/s]"
      ]
     },
     "metadata": {},
     "output_type": "display_data"
    },
    {
     "data": {
      "application/vnd.jupyter.widget-view+json": {
       "model_id": "8ef5fc2f829b483794fe121f07de99c7",
       "version_major": 2,
       "version_minor": 0
      },
      "text/plain": [
       "Getting ROI info:   0%|          | 0/2 [00:00<?, ?it/s]"
      ]
     },
     "metadata": {},
     "output_type": "display_data"
    },
    {
     "data": {
      "application/vnd.jupyter.widget-view+json": {
       "model_id": "beaa56b5ddef421fbfde59c4c4b54276",
       "version_major": 2,
       "version_minor": 0
      },
      "text/plain": [
       "Getting ROI info:   0%|          | 0/2 [00:00<?, ?it/s]"
      ]
     },
     "metadata": {},
     "output_type": "display_data"
    },
    {
     "data": {
      "application/vnd.jupyter.widget-view+json": {
       "model_id": "66abfd9fc7514a22ad7e4fd39b83f883",
       "version_major": 2,
       "version_minor": 0
      },
      "text/plain": [
       "Getting ROI info:   0%|          | 0/2 [00:00<?, ?it/s]"
      ]
     },
     "metadata": {},
     "output_type": "display_data"
    },
    {
     "data": {
      "application/vnd.jupyter.widget-view+json": {
       "model_id": "aa2fd6615b304cb6ae870db8f517e75b",
       "version_major": 2,
       "version_minor": 0
      },
      "text/plain": [
       "Getting ROI info:   0%|          | 0/2 [00:00<?, ?it/s]"
      ]
     },
     "metadata": {},
     "output_type": "display_data"
    },
    {
     "data": {
      "application/vnd.jupyter.widget-view+json": {
       "model_id": "38ac36bbfd824846ac8b6160f2226ca2",
       "version_major": 2,
       "version_minor": 0
      },
      "text/plain": [
       "Getting ROI info:   0%|          | 0/2 [00:00<?, ?it/s]"
      ]
     },
     "metadata": {},
     "output_type": "display_data"
    },
    {
     "data": {
      "application/vnd.jupyter.widget-view+json": {
       "model_id": "7aaa252a9b6140e09aedc6815c07c94d",
       "version_major": 2,
       "version_minor": 0
      },
      "text/plain": [
       "Getting ROI info:   0%|          | 0/2 [00:00<?, ?it/s]"
      ]
     },
     "metadata": {},
     "output_type": "display_data"
    },
    {
     "data": {
      "application/vnd.jupyter.widget-view+json": {
       "model_id": "7d58f80d262e41efb25dd1b95cca3a3b",
       "version_major": 2,
       "version_minor": 0
      },
      "text/plain": [
       "Getting ROI info:   0%|          | 0/2 [00:00<?, ?it/s]"
      ]
     },
     "metadata": {},
     "output_type": "display_data"
    },
    {
     "data": {
      "application/vnd.jupyter.widget-view+json": {
       "model_id": "12c228ac18f44ee89da62ac5983b547a",
       "version_major": 2,
       "version_minor": 0
      },
      "text/plain": [
       "Getting ROI info:   0%|          | 0/2 [00:00<?, ?it/s]"
      ]
     },
     "metadata": {},
     "output_type": "display_data"
    },
    {
     "data": {
      "application/vnd.jupyter.widget-view+json": {
       "model_id": "f8712eb93a3748feb212573307bd6a9a",
       "version_major": 2,
       "version_minor": 0
      },
      "text/plain": [
       "Getting ROI info:   0%|          | 0/2 [00:00<?, ?it/s]"
      ]
     },
     "metadata": {},
     "output_type": "display_data"
    },
    {
     "data": {
      "application/vnd.jupyter.widget-view+json": {
       "model_id": "3c51fda441134f48b5734cde6e864194",
       "version_major": 2,
       "version_minor": 0
      },
      "text/plain": [
       "Getting ROI info:   0%|          | 0/2 [00:00<?, ?it/s]"
      ]
     },
     "metadata": {},
     "output_type": "display_data"
    },
    {
     "data": {
      "application/vnd.jupyter.widget-view+json": {
       "model_id": "a95907fd7c8d4efaae325a5a07ad76f6",
       "version_major": 2,
       "version_minor": 0
      },
      "text/plain": [
       "Getting ROI info:   0%|          | 0/2 [00:00<?, ?it/s]"
      ]
     },
     "metadata": {},
     "output_type": "display_data"
    },
    {
     "data": {
      "application/vnd.jupyter.widget-view+json": {
       "model_id": "6e319a91dd7441fb9087315efe9aea5d",
       "version_major": 2,
       "version_minor": 0
      },
      "text/plain": [
       "Getting ROI info:   0%|          | 0/2 [00:00<?, ?it/s]"
      ]
     },
     "metadata": {},
     "output_type": "display_data"
    },
    {
     "data": {
      "application/vnd.jupyter.widget-view+json": {
       "model_id": "17002dab55ef49a69e333eab96423a93",
       "version_major": 2,
       "version_minor": 0
      },
      "text/plain": [
       "Getting ROI info:   0%|          | 0/2 [00:00<?, ?it/s]"
      ]
     },
     "metadata": {},
     "output_type": "display_data"
    },
    {
     "data": {
      "application/vnd.jupyter.widget-view+json": {
       "model_id": "d87c9cc22edb48a4940bc5c0a4f172af",
       "version_major": 2,
       "version_minor": 0
      },
      "text/plain": [
       "Getting ROI info:   0%|          | 0/2 [00:00<?, ?it/s]"
      ]
     },
     "metadata": {},
     "output_type": "display_data"
    },
    {
     "data": {
      "application/vnd.jupyter.widget-view+json": {
       "model_id": "1e90a5fddd7041848d5299b09140477e",
       "version_major": 2,
       "version_minor": 0
      },
      "text/plain": [
       "Getting ROI info:   0%|          | 0/2 [00:00<?, ?it/s]"
      ]
     },
     "metadata": {},
     "output_type": "display_data"
    },
    {
     "data": {
      "application/vnd.jupyter.widget-view+json": {
       "model_id": "9a8a682520964344bdafdecb6ded9bd3",
       "version_major": 2,
       "version_minor": 0
      },
      "text/plain": [
       "Getting ROI info:   0%|          | 0/2 [00:00<?, ?it/s]"
      ]
     },
     "metadata": {},
     "output_type": "display_data"
    },
    {
     "data": {
      "application/vnd.jupyter.widget-view+json": {
       "model_id": "2dc8be2bdbf141878cd688008a180be8",
       "version_major": 2,
       "version_minor": 0
      },
      "text/plain": [
       "Getting ROI info:   0%|          | 0/2 [00:00<?, ?it/s]"
      ]
     },
     "metadata": {},
     "output_type": "display_data"
    },
    {
     "data": {
      "application/vnd.jupyter.widget-view+json": {
       "model_id": "ed7789e106d64c9ab096655d47f62ea6",
       "version_major": 2,
       "version_minor": 0
      },
      "text/plain": [
       "Getting ROI info:   0%|          | 0/2 [00:00<?, ?it/s]"
      ]
     },
     "metadata": {},
     "output_type": "display_data"
    },
    {
     "data": {
      "application/vnd.jupyter.widget-view+json": {
       "model_id": "4c2010dc5bab4315ab3be317fe099990",
       "version_major": 2,
       "version_minor": 0
      },
      "text/plain": [
       "Getting ROI info:   0%|          | 0/2 [00:00<?, ?it/s]"
      ]
     },
     "metadata": {},
     "output_type": "display_data"
    },
    {
     "data": {
      "application/vnd.jupyter.widget-view+json": {
       "model_id": "5edeecf028a545d3be9a3e33cf440ff7",
       "version_major": 2,
       "version_minor": 0
      },
      "text/plain": [
       "Getting ROI info:   0%|          | 0/2 [00:00<?, ?it/s]"
      ]
     },
     "metadata": {},
     "output_type": "display_data"
    },
    {
     "data": {
      "application/vnd.jupyter.widget-view+json": {
       "model_id": "a54963719e3d4b989fefa0dbd3767fa1",
       "version_major": 2,
       "version_minor": 0
      },
      "text/plain": [
       "Getting ROI info:   0%|          | 0/2 [00:00<?, ?it/s]"
      ]
     },
     "metadata": {},
     "output_type": "display_data"
    },
    {
     "data": {
      "application/vnd.jupyter.widget-view+json": {
       "model_id": "9eebaeb809084715a4edd48fe0f01df1",
       "version_major": 2,
       "version_minor": 0
      },
      "text/plain": [
       "Getting ROI info:   0%|          | 0/2 [00:00<?, ?it/s]"
      ]
     },
     "metadata": {},
     "output_type": "display_data"
    },
    {
     "data": {
      "application/vnd.jupyter.widget-view+json": {
       "model_id": "2ec17202aaac4cbf967b08dee076844f",
       "version_major": 2,
       "version_minor": 0
      },
      "text/plain": [
       "Getting ROI info:   0%|          | 0/2 [00:00<?, ?it/s]"
      ]
     },
     "metadata": {},
     "output_type": "display_data"
    },
    {
     "data": {
      "application/vnd.jupyter.widget-view+json": {
       "model_id": "48df702a6aab4f2fbf9933c152dc7444",
       "version_major": 2,
       "version_minor": 0
      },
      "text/plain": [
       "Getting ROI info:   0%|          | 0/2 [00:00<?, ?it/s]"
      ]
     },
     "metadata": {},
     "output_type": "display_data"
    },
    {
     "data": {
      "application/vnd.jupyter.widget-view+json": {
       "model_id": "83ee6ad69a2a4750847fdd8964dfe271",
       "version_major": 2,
       "version_minor": 0
      },
      "text/plain": [
       "Getting ROI info:   0%|          | 0/2 [00:00<?, ?it/s]"
      ]
     },
     "metadata": {},
     "output_type": "display_data"
    },
    {
     "data": {
      "application/vnd.jupyter.widget-view+json": {
       "model_id": "f74df684d2224cf09d461c5b04ea8257",
       "version_major": 2,
       "version_minor": 0
      },
      "text/plain": [
       "Getting ROI info:   0%|          | 0/2 [00:00<?, ?it/s]"
      ]
     },
     "metadata": {},
     "output_type": "display_data"
    },
    {
     "data": {
      "application/vnd.jupyter.widget-view+json": {
       "model_id": "5ab29fb5694b4f1cbe99667d4df3376f",
       "version_major": 2,
       "version_minor": 0
      },
      "text/plain": [
       "Getting ROI info:   0%|          | 0/2 [00:00<?, ?it/s]"
      ]
     },
     "metadata": {},
     "output_type": "display_data"
    },
    {
     "data": {
      "application/vnd.jupyter.widget-view+json": {
       "model_id": "b0125854722c4538a421dbcdcf43d4e0",
       "version_major": 2,
       "version_minor": 0
      },
      "text/plain": [
       "Getting ROI info:   0%|          | 0/2 [00:00<?, ?it/s]"
      ]
     },
     "metadata": {},
     "output_type": "display_data"
    },
    {
     "data": {
      "application/vnd.jupyter.widget-view+json": {
       "model_id": "e039e4345fed46f7bb5e45f325968573",
       "version_major": 2,
       "version_minor": 0
      },
      "text/plain": [
       "Getting ROI info:   0%|          | 0/2 [00:00<?, ?it/s]"
      ]
     },
     "metadata": {},
     "output_type": "display_data"
    },
    {
     "data": {
      "application/vnd.jupyter.widget-view+json": {
       "model_id": "c0547e66539246c0bb8aa93064417c0d",
       "version_major": 2,
       "version_minor": 0
      },
      "text/plain": [
       "Getting ROI info:   0%|          | 0/2 [00:00<?, ?it/s]"
      ]
     },
     "metadata": {},
     "output_type": "display_data"
    },
    {
     "data": {
      "application/vnd.jupyter.widget-view+json": {
       "model_id": "ef24572fa7de438fa06df0edcb457d5f",
       "version_major": 2,
       "version_minor": 0
      },
      "text/plain": [
       "Getting ROI info:   0%|          | 0/2 [00:00<?, ?it/s]"
      ]
     },
     "metadata": {},
     "output_type": "display_data"
    },
    {
     "data": {
      "application/vnd.jupyter.widget-view+json": {
       "model_id": "596985cd288b42cfa755d7d82bcdf58a",
       "version_major": 2,
       "version_minor": 0
      },
      "text/plain": [
       "Getting ROI info:   0%|          | 0/2 [00:00<?, ?it/s]"
      ]
     },
     "metadata": {},
     "output_type": "display_data"
    },
    {
     "data": {
      "application/vnd.jupyter.widget-view+json": {
       "model_id": "eb134ec9cf23476286b7a2b65ed84b06",
       "version_major": 2,
       "version_minor": 0
      },
      "text/plain": [
       "Getting ROI info:   0%|          | 0/2 [00:00<?, ?it/s]"
      ]
     },
     "metadata": {},
     "output_type": "display_data"
    },
    {
     "data": {
      "application/vnd.jupyter.widget-view+json": {
       "model_id": "09f46480858448a58f3d4c4904a922e5",
       "version_major": 2,
       "version_minor": 0
      },
      "text/plain": [
       "Getting ROI info:   0%|          | 0/2 [00:00<?, ?it/s]"
      ]
     },
     "metadata": {},
     "output_type": "display_data"
    },
    {
     "data": {
      "application/vnd.jupyter.widget-view+json": {
       "model_id": "126a081f0a1e4304bf8885c31ab63208",
       "version_major": 2,
       "version_minor": 0
      },
      "text/plain": [
       "Getting ROI info:   0%|          | 0/2 [00:00<?, ?it/s]"
      ]
     },
     "metadata": {},
     "output_type": "display_data"
    },
    {
     "data": {
      "application/vnd.jupyter.widget-view+json": {
       "model_id": "e0d5a5e5d0fd4665b59850c370615792",
       "version_major": 2,
       "version_minor": 0
      },
      "text/plain": [
       "Getting ROI info:   0%|          | 0/2 [00:00<?, ?it/s]"
      ]
     },
     "metadata": {},
     "output_type": "display_data"
    },
    {
     "data": {
      "application/vnd.jupyter.widget-view+json": {
       "model_id": "965c01802f0d4f5e93592395977ee4c1",
       "version_major": 2,
       "version_minor": 0
      },
      "text/plain": [
       "Getting ROI info:   0%|          | 0/2 [00:00<?, ?it/s]"
      ]
     },
     "metadata": {},
     "output_type": "display_data"
    },
    {
     "data": {
      "application/vnd.jupyter.widget-view+json": {
       "model_id": "f9b06269785d4e5296bd6df019070d30",
       "version_major": 2,
       "version_minor": 0
      },
      "text/plain": [
       "Getting ROI info:   0%|          | 0/2 [00:00<?, ?it/s]"
      ]
     },
     "metadata": {},
     "output_type": "display_data"
    },
    {
     "data": {
      "application/vnd.jupyter.widget-view+json": {
       "model_id": "1a7208100f0e4d99881bccf4b4996d26",
       "version_major": 2,
       "version_minor": 0
      },
      "text/plain": [
       "Getting ROI info:   0%|          | 0/2 [00:00<?, ?it/s]"
      ]
     },
     "metadata": {},
     "output_type": "display_data"
    },
    {
     "data": {
      "application/vnd.jupyter.widget-view+json": {
       "model_id": "91e58916124d40febf2c5f0e88239bc0",
       "version_major": 2,
       "version_minor": 0
      },
      "text/plain": [
       "Getting ROI info:   0%|          | 0/2 [00:00<?, ?it/s]"
      ]
     },
     "metadata": {},
     "output_type": "display_data"
    },
    {
     "data": {
      "application/vnd.jupyter.widget-view+json": {
       "model_id": "f7383fb27f404bdbb45175174c3c2c3b",
       "version_major": 2,
       "version_minor": 0
      },
      "text/plain": [
       "Getting ROI info:   0%|          | 0/2 [00:00<?, ?it/s]"
      ]
     },
     "metadata": {},
     "output_type": "display_data"
    },
    {
     "data": {
      "application/vnd.jupyter.widget-view+json": {
       "model_id": "9c7dbe9078a146479aeaeee5e3bee097",
       "version_major": 2,
       "version_minor": 0
      },
      "text/plain": [
       "Getting ROI info:   0%|          | 0/2 [00:00<?, ?it/s]"
      ]
     },
     "metadata": {},
     "output_type": "display_data"
    },
    {
     "data": {
      "application/vnd.jupyter.widget-view+json": {
       "model_id": "ff0c964c01da496a8dd75698079df838",
       "version_major": 2,
       "version_minor": 0
      },
      "text/plain": [
       "Getting ROI info:   0%|          | 0/2 [00:00<?, ?it/s]"
      ]
     },
     "metadata": {},
     "output_type": "display_data"
    },
    {
     "data": {
      "application/vnd.jupyter.widget-view+json": {
       "model_id": "85ae43b432bc495784ec38e1b963f87f",
       "version_major": 2,
       "version_minor": 0
      },
      "text/plain": [
       "Getting ROI info:   0%|          | 0/2 [00:00<?, ?it/s]"
      ]
     },
     "metadata": {},
     "output_type": "display_data"
    },
    {
     "data": {
      "application/vnd.jupyter.widget-view+json": {
       "model_id": "31b9cc1e9dd743c6b2d0e3eb1a6e9f9c",
       "version_major": 2,
       "version_minor": 0
      },
      "text/plain": [
       "Getting ROI info:   0%|          | 0/2 [00:00<?, ?it/s]"
      ]
     },
     "metadata": {},
     "output_type": "display_data"
    },
    {
     "data": {
      "application/vnd.jupyter.widget-view+json": {
       "model_id": "d52744786489468d98f912be1ef68d74",
       "version_major": 2,
       "version_minor": 0
      },
      "text/plain": [
       "Getting ROI info:   0%|          | 0/2 [00:00<?, ?it/s]"
      ]
     },
     "metadata": {},
     "output_type": "display_data"
    },
    {
     "data": {
      "application/vnd.jupyter.widget-view+json": {
       "model_id": "61a1cf03d65c45a0a5a78c584074afea",
       "version_major": 2,
       "version_minor": 0
      },
      "text/plain": [
       "Getting ROI info:   0%|          | 0/2 [00:00<?, ?it/s]"
      ]
     },
     "metadata": {},
     "output_type": "display_data"
    },
    {
     "data": {
      "application/vnd.jupyter.widget-view+json": {
       "model_id": "55257843a7fe48f1875a248c3cefd1d9",
       "version_major": 2,
       "version_minor": 0
      },
      "text/plain": [
       "Getting ROI info:   0%|          | 0/2 [00:00<?, ?it/s]"
      ]
     },
     "metadata": {},
     "output_type": "display_data"
    },
    {
     "data": {
      "application/vnd.jupyter.widget-view+json": {
       "model_id": "38689e6a4d5c4c5b9e5f68c863c580ad",
       "version_major": 2,
       "version_minor": 0
      },
      "text/plain": [
       "Getting ROI info:   0%|          | 0/2 [00:00<?, ?it/s]"
      ]
     },
     "metadata": {},
     "output_type": "display_data"
    },
    {
     "data": {
      "application/vnd.jupyter.widget-view+json": {
       "model_id": "02993efa7dec4b989abff10abcdbadcc",
       "version_major": 2,
       "version_minor": 0
      },
      "text/plain": [
       "Getting ROI info:   0%|          | 0/2 [00:00<?, ?it/s]"
      ]
     },
     "metadata": {},
     "output_type": "display_data"
    },
    {
     "data": {
      "application/vnd.jupyter.widget-view+json": {
       "model_id": "9eef3d05bf494b368b1118d37e651d30",
       "version_major": 2,
       "version_minor": 0
      },
      "text/plain": [
       "Getting ROI info:   0%|          | 0/2 [00:00<?, ?it/s]"
      ]
     },
     "metadata": {},
     "output_type": "display_data"
    },
    {
     "data": {
      "application/vnd.jupyter.widget-view+json": {
       "model_id": "7a6a0651cc63498dacf26589b4386216",
       "version_major": 2,
       "version_minor": 0
      },
      "text/plain": [
       "Getting ROI info:   0%|          | 0/2 [00:00<?, ?it/s]"
      ]
     },
     "metadata": {},
     "output_type": "display_data"
    },
    {
     "data": {
      "application/vnd.jupyter.widget-view+json": {
       "model_id": "4fc744d49f584cf18d54ceac17bf45c5",
       "version_major": 2,
       "version_minor": 0
      },
      "text/plain": [
       "Getting ROI info:   0%|          | 0/2 [00:00<?, ?it/s]"
      ]
     },
     "metadata": {},
     "output_type": "display_data"
    },
    {
     "data": {
      "application/vnd.jupyter.widget-view+json": {
       "model_id": "e79f185c4a9a4daba0f9832335558a77",
       "version_major": 2,
       "version_minor": 0
      },
      "text/plain": [
       "Getting ROI info:   0%|          | 0/2 [00:00<?, ?it/s]"
      ]
     },
     "metadata": {},
     "output_type": "display_data"
    },
    {
     "data": {
      "application/vnd.jupyter.widget-view+json": {
       "model_id": "27abf53d4c324ac9b224e6f0d2ff0c49",
       "version_major": 2,
       "version_minor": 0
      },
      "text/plain": [
       "Getting ROI info:   0%|          | 0/2 [00:00<?, ?it/s]"
      ]
     },
     "metadata": {},
     "output_type": "display_data"
    },
    {
     "data": {
      "application/vnd.jupyter.widget-view+json": {
       "model_id": "17c73c10cef746bb95919c91bd97448b",
       "version_major": 2,
       "version_minor": 0
      },
      "text/plain": [
       "Getting ROI info:   0%|          | 0/2 [00:00<?, ?it/s]"
      ]
     },
     "metadata": {},
     "output_type": "display_data"
    },
    {
     "data": {
      "application/vnd.jupyter.widget-view+json": {
       "model_id": "3701ac5502e84e788b59695478250c4b",
       "version_major": 2,
       "version_minor": 0
      },
      "text/plain": [
       "Getting ROI info:   0%|          | 0/2 [00:00<?, ?it/s]"
      ]
     },
     "metadata": {},
     "output_type": "display_data"
    },
    {
     "data": {
      "application/vnd.jupyter.widget-view+json": {
       "model_id": "800b5d7f84eb40fca970c042b27e7343",
       "version_major": 2,
       "version_minor": 0
      },
      "text/plain": [
       "Getting ROI info:   0%|          | 0/2 [00:00<?, ?it/s]"
      ]
     },
     "metadata": {},
     "output_type": "display_data"
    },
    {
     "data": {
      "application/vnd.jupyter.widget-view+json": {
       "model_id": "bd021fae258542dfadca3df2a883d391",
       "version_major": 2,
       "version_minor": 0
      },
      "text/plain": [
       "Getting ROI info:   0%|          | 0/2 [00:00<?, ?it/s]"
      ]
     },
     "metadata": {},
     "output_type": "display_data"
    },
    {
     "data": {
      "application/vnd.jupyter.widget-view+json": {
       "model_id": "b6a5e8a8fef047889c4094fe75476b37",
       "version_major": 2,
       "version_minor": 0
      },
      "text/plain": [
       "Getting ROI info:   0%|          | 0/2 [00:00<?, ?it/s]"
      ]
     },
     "metadata": {},
     "output_type": "display_data"
    },
    {
     "data": {
      "application/vnd.jupyter.widget-view+json": {
       "model_id": "9304ed3a9cb246aaba9fed9d2767834f",
       "version_major": 2,
       "version_minor": 0
      },
      "text/plain": [
       "Getting ROI info:   0%|          | 0/2 [00:00<?, ?it/s]"
      ]
     },
     "metadata": {},
     "output_type": "display_data"
    },
    {
     "data": {
      "application/vnd.jupyter.widget-view+json": {
       "model_id": "fdb6d90ba9854c4381e78663d071479a",
       "version_major": 2,
       "version_minor": 0
      },
      "text/plain": [
       "Getting ROI info:   0%|          | 0/2 [00:00<?, ?it/s]"
      ]
     },
     "metadata": {},
     "output_type": "display_data"
    },
    {
     "data": {
      "application/vnd.jupyter.widget-view+json": {
       "model_id": "031ac1dfdc244f63a747ee9b7e2e97e6",
       "version_major": 2,
       "version_minor": 0
      },
      "text/plain": [
       "Getting ROI info:   0%|          | 0/2 [00:00<?, ?it/s]"
      ]
     },
     "metadata": {},
     "output_type": "display_data"
    },
    {
     "data": {
      "application/vnd.jupyter.widget-view+json": {
       "model_id": "b7e261d01cc54efd8410f0ba41af4e9f",
       "version_major": 2,
       "version_minor": 0
      },
      "text/plain": [
       "Getting ROI info:   0%|          | 0/2 [00:00<?, ?it/s]"
      ]
     },
     "metadata": {},
     "output_type": "display_data"
    },
    {
     "data": {
      "application/vnd.jupyter.widget-view+json": {
       "model_id": "e7f0d13c969946c7a2c311230709d001",
       "version_major": 2,
       "version_minor": 0
      },
      "text/plain": [
       "Getting ROI info:   0%|          | 0/2 [00:00<?, ?it/s]"
      ]
     },
     "metadata": {},
     "output_type": "display_data"
    },
    {
     "data": {
      "application/vnd.jupyter.widget-view+json": {
       "model_id": "dea1fe58edc94137965d50b1dcbaf78c",
       "version_major": 2,
       "version_minor": 0
      },
      "text/plain": [
       "Getting ROI info:   0%|          | 0/2 [00:00<?, ?it/s]"
      ]
     },
     "metadata": {},
     "output_type": "display_data"
    },
    {
     "data": {
      "application/vnd.jupyter.widget-view+json": {
       "model_id": "c9d6f9ee583a41b3882d3913080b29a6",
       "version_major": 2,
       "version_minor": 0
      },
      "text/plain": [
       "Getting ROI info:   0%|          | 0/2 [00:00<?, ?it/s]"
      ]
     },
     "metadata": {},
     "output_type": "display_data"
    },
    {
     "data": {
      "application/vnd.jupyter.widget-view+json": {
       "model_id": "6f746ec7997f4c2ebada9624f5f8172d",
       "version_major": 2,
       "version_minor": 0
      },
      "text/plain": [
       "Getting ROI info:   0%|          | 0/2 [00:00<?, ?it/s]"
      ]
     },
     "metadata": {},
     "output_type": "display_data"
    },
    {
     "data": {
      "application/vnd.jupyter.widget-view+json": {
       "model_id": "2dd62d3ec285481f879d0963ec32223a",
       "version_major": 2,
       "version_minor": 0
      },
      "text/plain": [
       "Getting ROI info:   0%|          | 0/2 [00:00<?, ?it/s]"
      ]
     },
     "metadata": {},
     "output_type": "display_data"
    },
    {
     "data": {
      "application/vnd.jupyter.widget-view+json": {
       "model_id": "efedc6e1a9e94df596646e165d03fdeb",
       "version_major": 2,
       "version_minor": 0
      },
      "text/plain": [
       "Getting ROI info:   0%|          | 0/2 [00:00<?, ?it/s]"
      ]
     },
     "metadata": {},
     "output_type": "display_data"
    },
    {
     "data": {
      "application/vnd.jupyter.widget-view+json": {
       "model_id": "30b55c67ca2a45d39110c114d3b79e51",
       "version_major": 2,
       "version_minor": 0
      },
      "text/plain": [
       "Getting ROI info:   0%|          | 0/2 [00:00<?, ?it/s]"
      ]
     },
     "metadata": {},
     "output_type": "display_data"
    },
    {
     "data": {
      "application/vnd.jupyter.widget-view+json": {
       "model_id": "a8a265f10e214c82bd89f1abe1e61204",
       "version_major": 2,
       "version_minor": 0
      },
      "text/plain": [
       "Getting ROI info:   0%|          | 0/2 [00:00<?, ?it/s]"
      ]
     },
     "metadata": {},
     "output_type": "display_data"
    },
    {
     "data": {
      "application/vnd.jupyter.widget-view+json": {
       "model_id": "f2b9eb52ab944b2182bc942fb221ea5a",
       "version_major": 2,
       "version_minor": 0
      },
      "text/plain": [
       "Getting ROI info:   0%|          | 0/2 [00:00<?, ?it/s]"
      ]
     },
     "metadata": {},
     "output_type": "display_data"
    },
    {
     "data": {
      "application/vnd.jupyter.widget-view+json": {
       "model_id": "c455cbb64b7d459080bd887b586cb4fc",
       "version_major": 2,
       "version_minor": 0
      },
      "text/plain": [
       "Getting ROI info:   0%|          | 0/2 [00:00<?, ?it/s]"
      ]
     },
     "metadata": {},
     "output_type": "display_data"
    },
    {
     "data": {
      "application/vnd.jupyter.widget-view+json": {
       "model_id": "5476e63286e746acb913696ab4024f50",
       "version_major": 2,
       "version_minor": 0
      },
      "text/plain": [
       "Getting ROI info:   0%|          | 0/2 [00:00<?, ?it/s]"
      ]
     },
     "metadata": {},
     "output_type": "display_data"
    },
    {
     "data": {
      "application/vnd.jupyter.widget-view+json": {
       "model_id": "6d92645d9f3e4ebab87290555f9dfcab",
       "version_major": 2,
       "version_minor": 0
      },
      "text/plain": [
       "Getting ROI info:   0%|          | 0/2 [00:00<?, ?it/s]"
      ]
     },
     "metadata": {},
     "output_type": "display_data"
    },
    {
     "data": {
      "application/vnd.jupyter.widget-view+json": {
       "model_id": "e8e7163448bd4315a3abf396d7240225",
       "version_major": 2,
       "version_minor": 0
      },
      "text/plain": [
       "Getting ROI info:   0%|          | 0/2 [00:00<?, ?it/s]"
      ]
     },
     "metadata": {},
     "output_type": "display_data"
    },
    {
     "data": {
      "application/vnd.jupyter.widget-view+json": {
       "model_id": "7f8a81d0ae064db9aa9d2517f6236b1b",
       "version_major": 2,
       "version_minor": 0
      },
      "text/plain": [
       "Getting ROI info:   0%|          | 0/2 [00:00<?, ?it/s]"
      ]
     },
     "metadata": {},
     "output_type": "display_data"
    },
    {
     "data": {
      "application/vnd.jupyter.widget-view+json": {
       "model_id": "31c9a977bf2941b285f35a93730faa4a",
       "version_major": 2,
       "version_minor": 0
      },
      "text/plain": [
       "Getting ROI info:   0%|          | 0/2 [00:00<?, ?it/s]"
      ]
     },
     "metadata": {},
     "output_type": "display_data"
    },
    {
     "data": {
      "application/vnd.jupyter.widget-view+json": {
       "model_id": "9a4b8e9d17f14c869ac519ae24a7074d",
       "version_major": 2,
       "version_minor": 0
      },
      "text/plain": [
       "Getting ROI info:   0%|          | 0/2 [00:00<?, ?it/s]"
      ]
     },
     "metadata": {},
     "output_type": "display_data"
    },
    {
     "data": {
      "application/vnd.jupyter.widget-view+json": {
       "model_id": "50b18eeee67a4377aeb5075848acb6ce",
       "version_major": 2,
       "version_minor": 0
      },
      "text/plain": [
       "Getting ROI info:   0%|          | 0/2 [00:00<?, ?it/s]"
      ]
     },
     "metadata": {},
     "output_type": "display_data"
    },
    {
     "data": {
      "application/vnd.jupyter.widget-view+json": {
       "model_id": "fd773dc7522a4e9b87304a9e882cb1ed",
       "version_major": 2,
       "version_minor": 0
      },
      "text/plain": [
       "Getting ROI info:   0%|          | 0/2 [00:00<?, ?it/s]"
      ]
     },
     "metadata": {},
     "output_type": "display_data"
    },
    {
     "data": {
      "application/vnd.jupyter.widget-view+json": {
       "model_id": "c9d9c8b23e184699a670430a7e8462b1",
       "version_major": 2,
       "version_minor": 0
      },
      "text/plain": [
       "Getting ROI info:   0%|          | 0/2 [00:00<?, ?it/s]"
      ]
     },
     "metadata": {},
     "output_type": "display_data"
    },
    {
     "data": {
      "application/vnd.jupyter.widget-view+json": {
       "model_id": "9218eec8173d40c4aa4308422bb549aa",
       "version_major": 2,
       "version_minor": 0
      },
      "text/plain": [
       "Getting ROI info:   0%|          | 0/2 [00:00<?, ?it/s]"
      ]
     },
     "metadata": {},
     "output_type": "display_data"
    },
    {
     "data": {
      "application/vnd.jupyter.widget-view+json": {
       "model_id": "4ad6444ac6344c8cbd77f894980a7116",
       "version_major": 2,
       "version_minor": 0
      },
      "text/plain": [
       "Getting ROI info:   0%|          | 0/2 [00:00<?, ?it/s]"
      ]
     },
     "metadata": {},
     "output_type": "display_data"
    },
    {
     "data": {
      "application/vnd.jupyter.widget-view+json": {
       "model_id": "09b0e21affa44f36b7b2716128c9494a",
       "version_major": 2,
       "version_minor": 0
      },
      "text/plain": [
       "Getting ROI info:   0%|          | 0/2 [00:00<?, ?it/s]"
      ]
     },
     "metadata": {},
     "output_type": "display_data"
    },
    {
     "data": {
      "application/vnd.jupyter.widget-view+json": {
       "model_id": "9d5f3a5d04f9464082083ac7a2d87eac",
       "version_major": 2,
       "version_minor": 0
      },
      "text/plain": [
       "Getting ROI info:   0%|          | 0/2 [00:00<?, ?it/s]"
      ]
     },
     "metadata": {},
     "output_type": "display_data"
    },
    {
     "data": {
      "application/vnd.jupyter.widget-view+json": {
       "model_id": "6d188c79c8994167b75ac12d84657356",
       "version_major": 2,
       "version_minor": 0
      },
      "text/plain": [
       "Getting ROI info:   0%|          | 0/2 [00:00<?, ?it/s]"
      ]
     },
     "metadata": {},
     "output_type": "display_data"
    },
    {
     "data": {
      "application/vnd.jupyter.widget-view+json": {
       "model_id": "09cd14e4c4984c899b3f7168755523ce",
       "version_major": 2,
       "version_minor": 0
      },
      "text/plain": [
       "Getting ROI info:   0%|          | 0/2 [00:00<?, ?it/s]"
      ]
     },
     "metadata": {},
     "output_type": "display_data"
    },
    {
     "data": {
      "application/vnd.jupyter.widget-view+json": {
       "model_id": "46c18aeb78704fdb98c3cb4522fc2749",
       "version_major": 2,
       "version_minor": 0
      },
      "text/plain": [
       "Getting ROI info:   0%|          | 0/2 [00:00<?, ?it/s]"
      ]
     },
     "metadata": {},
     "output_type": "display_data"
    },
    {
     "data": {
      "application/vnd.jupyter.widget-view+json": {
       "model_id": "21b91648904942e2bd2cb2cede25cc51",
       "version_major": 2,
       "version_minor": 0
      },
      "text/plain": [
       "Getting ROI info:   0%|          | 0/2 [00:00<?, ?it/s]"
      ]
     },
     "metadata": {},
     "output_type": "display_data"
    },
    {
     "data": {
      "application/vnd.jupyter.widget-view+json": {
       "model_id": "a1052d369ba145f99915b2e51f5c49fd",
       "version_major": 2,
       "version_minor": 0
      },
      "text/plain": [
       "Getting ROI info:   0%|          | 0/2 [00:00<?, ?it/s]"
      ]
     },
     "metadata": {},
     "output_type": "display_data"
    },
    {
     "data": {
      "application/vnd.jupyter.widget-view+json": {
       "model_id": "0bb8c6f674304b8486c2cf63d76cc3b1",
       "version_major": 2,
       "version_minor": 0
      },
      "text/plain": [
       "Getting ROI info:   0%|          | 0/2 [00:00<?, ?it/s]"
      ]
     },
     "metadata": {},
     "output_type": "display_data"
    },
    {
     "data": {
      "application/vnd.jupyter.widget-view+json": {
       "model_id": "345b2fb39d6840a790bda81c0be9edad",
       "version_major": 2,
       "version_minor": 0
      },
      "text/plain": [
       "Getting ROI info:   0%|          | 0/2 [00:00<?, ?it/s]"
      ]
     },
     "metadata": {},
     "output_type": "display_data"
    },
    {
     "data": {
      "application/vnd.jupyter.widget-view+json": {
       "model_id": "4abfbaf36da04d738e1a530a423c15aa",
       "version_major": 2,
       "version_minor": 0
      },
      "text/plain": [
       "Getting ROI info:   0%|          | 0/2 [00:00<?, ?it/s]"
      ]
     },
     "metadata": {},
     "output_type": "display_data"
    },
    {
     "data": {
      "application/vnd.jupyter.widget-view+json": {
       "model_id": "775b34eba3034520a6fa2c3424f3cb78",
       "version_major": 2,
       "version_minor": 0
      },
      "text/plain": [
       "Getting ROI info:   0%|          | 0/2 [00:00<?, ?it/s]"
      ]
     },
     "metadata": {},
     "output_type": "display_data"
    },
    {
     "data": {
      "application/vnd.jupyter.widget-view+json": {
       "model_id": "becadd6c3014438e99f01620bd96ef96",
       "version_major": 2,
       "version_minor": 0
      },
      "text/plain": [
       "Getting ROI info:   0%|          | 0/2 [00:00<?, ?it/s]"
      ]
     },
     "metadata": {},
     "output_type": "display_data"
    },
    {
     "data": {
      "application/vnd.jupyter.widget-view+json": {
       "model_id": "9418085e761a468d9e2e2f23b989230d",
       "version_major": 2,
       "version_minor": 0
      },
      "text/plain": [
       "Getting ROI info:   0%|          | 0/2 [00:00<?, ?it/s]"
      ]
     },
     "metadata": {},
     "output_type": "display_data"
    },
    {
     "data": {
      "application/vnd.jupyter.widget-view+json": {
       "model_id": "d45fad36b0ed445ea78e4ed49e4bdad4",
       "version_major": 2,
       "version_minor": 0
      },
      "text/plain": [
       "Getting ROI info:   0%|          | 0/2 [00:00<?, ?it/s]"
      ]
     },
     "metadata": {},
     "output_type": "display_data"
    },
    {
     "data": {
      "application/vnd.jupyter.widget-view+json": {
       "model_id": "08f7ed70a86e4ef586b3e524c473f0ea",
       "version_major": 2,
       "version_minor": 0
      },
      "text/plain": [
       "Getting ROI info:   0%|          | 0/2 [00:00<?, ?it/s]"
      ]
     },
     "metadata": {},
     "output_type": "display_data"
    },
    {
     "data": {
      "application/vnd.jupyter.widget-view+json": {
       "model_id": "4d3ac1ba598f4e96ba8f24482d528710",
       "version_major": 2,
       "version_minor": 0
      },
      "text/plain": [
       "Getting ROI info:   0%|          | 0/2 [00:00<?, ?it/s]"
      ]
     },
     "metadata": {},
     "output_type": "display_data"
    },
    {
     "data": {
      "application/vnd.jupyter.widget-view+json": {
       "model_id": "232906a7735247fd9634e30d9d1fef42",
       "version_major": 2,
       "version_minor": 0
      },
      "text/plain": [
       "Getting ROI info:   0%|          | 0/2 [00:00<?, ?it/s]"
      ]
     },
     "metadata": {},
     "output_type": "display_data"
    },
    {
     "data": {
      "application/vnd.jupyter.widget-view+json": {
       "model_id": "ba3a83b64bda44a488427ac7656523e2",
       "version_major": 2,
       "version_minor": 0
      },
      "text/plain": [
       "Getting ROI info:   0%|          | 0/2 [00:00<?, ?it/s]"
      ]
     },
     "metadata": {},
     "output_type": "display_data"
    },
    {
     "data": {
      "application/vnd.jupyter.widget-view+json": {
       "model_id": "6d3b07eb52d34036b7ff2c6bc37ce1df",
       "version_major": 2,
       "version_minor": 0
      },
      "text/plain": [
       "Getting ROI info:   0%|          | 0/2 [00:00<?, ?it/s]"
      ]
     },
     "metadata": {},
     "output_type": "display_data"
    },
    {
     "data": {
      "application/vnd.jupyter.widget-view+json": {
       "model_id": "1c143d885b1b4ceca6248df95f90f784",
       "version_major": 2,
       "version_minor": 0
      },
      "text/plain": [
       "Getting ROI info:   0%|          | 0/2 [00:00<?, ?it/s]"
      ]
     },
     "metadata": {},
     "output_type": "display_data"
    },
    {
     "data": {
      "application/vnd.jupyter.widget-view+json": {
       "model_id": "99a5cc6d12104e3fb7afcd86f4ea15fe",
       "version_major": 2,
       "version_minor": 0
      },
      "text/plain": [
       "Getting ROI info:   0%|          | 0/2 [00:00<?, ?it/s]"
      ]
     },
     "metadata": {},
     "output_type": "display_data"
    },
    {
     "data": {
      "application/vnd.jupyter.widget-view+json": {
       "model_id": "2e3b0453c3684923af280ff6f857e93a",
       "version_major": 2,
       "version_minor": 0
      },
      "text/plain": [
       "Getting ROI info:   0%|          | 0/2 [00:00<?, ?it/s]"
      ]
     },
     "metadata": {},
     "output_type": "display_data"
    },
    {
     "data": {
      "application/vnd.jupyter.widget-view+json": {
       "model_id": "9dec1b79eae84035be50a3e3140c1b5c",
       "version_major": 2,
       "version_minor": 0
      },
      "text/plain": [
       "Getting ROI info:   0%|          | 0/2 [00:00<?, ?it/s]"
      ]
     },
     "metadata": {},
     "output_type": "display_data"
    },
    {
     "data": {
      "application/vnd.jupyter.widget-view+json": {
       "model_id": "08f3f4008a014daaa4e3c8d5d21bf961",
       "version_major": 2,
       "version_minor": 0
      },
      "text/plain": [
       "Getting ROI info:   0%|          | 0/2 [00:00<?, ?it/s]"
      ]
     },
     "metadata": {},
     "output_type": "display_data"
    },
    {
     "data": {
      "application/vnd.jupyter.widget-view+json": {
       "model_id": "063ba69e02214f7faa61b5570026d0db",
       "version_major": 2,
       "version_minor": 0
      },
      "text/plain": [
       "Getting ROI info:   0%|          | 0/2 [00:00<?, ?it/s]"
      ]
     },
     "metadata": {},
     "output_type": "display_data"
    },
    {
     "data": {
      "application/vnd.jupyter.widget-view+json": {
       "model_id": "7dae731489b74917965d48a356e89acd",
       "version_major": 2,
       "version_minor": 0
      },
      "text/plain": [
       "Getting ROI info:   0%|          | 0/2 [00:00<?, ?it/s]"
      ]
     },
     "metadata": {},
     "output_type": "display_data"
    },
    {
     "data": {
      "application/vnd.jupyter.widget-view+json": {
       "model_id": "67da4769a5aa4dbb995f670f16b015b2",
       "version_major": 2,
       "version_minor": 0
      },
      "text/plain": [
       "Getting ROI info:   0%|          | 0/2 [00:00<?, ?it/s]"
      ]
     },
     "metadata": {},
     "output_type": "display_data"
    },
    {
     "data": {
      "application/vnd.jupyter.widget-view+json": {
       "model_id": "5078a8f9b67a4494bf6a76ee4b4e6a84",
       "version_major": 2,
       "version_minor": 0
      },
      "text/plain": [
       "Getting ROI info:   0%|          | 0/2 [00:00<?, ?it/s]"
      ]
     },
     "metadata": {},
     "output_type": "display_data"
    },
    {
     "data": {
      "application/vnd.jupyter.widget-view+json": {
       "model_id": "8b3991e3b19744cca00899acfd9508fe",
       "version_major": 2,
       "version_minor": 0
      },
      "text/plain": [
       "Getting ROI info:   0%|          | 0/2 [00:00<?, ?it/s]"
      ]
     },
     "metadata": {},
     "output_type": "display_data"
    },
    {
     "data": {
      "application/vnd.jupyter.widget-view+json": {
       "model_id": "84c9cadd16684d31aa36c6893634095f",
       "version_major": 2,
       "version_minor": 0
      },
      "text/plain": [
       "Getting ROI info:   0%|          | 0/2 [00:00<?, ?it/s]"
      ]
     },
     "metadata": {},
     "output_type": "display_data"
    },
    {
     "data": {
      "application/vnd.jupyter.widget-view+json": {
       "model_id": "f147be26ace84d18ba926be368f4fdd9",
       "version_major": 2,
       "version_minor": 0
      },
      "text/plain": [
       "Getting ROI info:   0%|          | 0/2 [00:00<?, ?it/s]"
      ]
     },
     "metadata": {},
     "output_type": "display_data"
    },
    {
     "data": {
      "application/vnd.jupyter.widget-view+json": {
       "model_id": "6bdd355a8adc467580b569592805d64b",
       "version_major": 2,
       "version_minor": 0
      },
      "text/plain": [
       "Getting ROI info:   0%|          | 0/2 [00:00<?, ?it/s]"
      ]
     },
     "metadata": {},
     "output_type": "display_data"
    },
    {
     "data": {
      "application/vnd.jupyter.widget-view+json": {
       "model_id": "f9c3f9bc15754d09af2fc55f46b4c76a",
       "version_major": 2,
       "version_minor": 0
      },
      "text/plain": [
       "Getting ROI info:   0%|          | 0/2 [00:00<?, ?it/s]"
      ]
     },
     "metadata": {},
     "output_type": "display_data"
    },
    {
     "data": {
      "application/vnd.jupyter.widget-view+json": {
       "model_id": "61d2ef7e3f7d460d825ff618b6a56ba7",
       "version_major": 2,
       "version_minor": 0
      },
      "text/plain": [
       "Getting ROI info:   0%|          | 0/2 [00:00<?, ?it/s]"
      ]
     },
     "metadata": {},
     "output_type": "display_data"
    },
    {
     "data": {
      "application/vnd.jupyter.widget-view+json": {
       "model_id": "b2257fa4a7204d24bdf1bc41338e402b",
       "version_major": 2,
       "version_minor": 0
      },
      "text/plain": [
       "Getting ROI info:   0%|          | 0/2 [00:00<?, ?it/s]"
      ]
     },
     "metadata": {},
     "output_type": "display_data"
    },
    {
     "data": {
      "application/vnd.jupyter.widget-view+json": {
       "model_id": "67a3d6efa75849a7a8f6f1bb5983b510",
       "version_major": 2,
       "version_minor": 0
      },
      "text/plain": [
       "Getting ROI info:   0%|          | 0/2 [00:00<?, ?it/s]"
      ]
     },
     "metadata": {},
     "output_type": "display_data"
    },
    {
     "data": {
      "application/vnd.jupyter.widget-view+json": {
       "model_id": "833d535580b94425a20c939e506bba2e",
       "version_major": 2,
       "version_minor": 0
      },
      "text/plain": [
       "Getting ROI info:   0%|          | 0/2 [00:00<?, ?it/s]"
      ]
     },
     "metadata": {},
     "output_type": "display_data"
    },
    {
     "data": {
      "application/vnd.jupyter.widget-view+json": {
       "model_id": "6750eae6fc7d46bd96f4786b52c93fa4",
       "version_major": 2,
       "version_minor": 0
      },
      "text/plain": [
       "Getting ROI info:   0%|          | 0/2 [00:00<?, ?it/s]"
      ]
     },
     "metadata": {},
     "output_type": "display_data"
    },
    {
     "data": {
      "application/vnd.jupyter.widget-view+json": {
       "model_id": "fcb35bed42c64a44be74032037534396",
       "version_major": 2,
       "version_minor": 0
      },
      "text/plain": [
       "Getting ROI info:   0%|          | 0/2 [00:00<?, ?it/s]"
      ]
     },
     "metadata": {},
     "output_type": "display_data"
    },
    {
     "data": {
      "application/vnd.jupyter.widget-view+json": {
       "model_id": "024999863e8e4eceb88a29c015ee1056",
       "version_major": 2,
       "version_minor": 0
      },
      "text/plain": [
       "Getting ROI info:   0%|          | 0/2 [00:00<?, ?it/s]"
      ]
     },
     "metadata": {},
     "output_type": "display_data"
    },
    {
     "data": {
      "application/vnd.jupyter.widget-view+json": {
       "model_id": "42303a15a12041dca12eefad4539f460",
       "version_major": 2,
       "version_minor": 0
      },
      "text/plain": [
       "Getting ROI info:   0%|          | 0/2 [00:00<?, ?it/s]"
      ]
     },
     "metadata": {},
     "output_type": "display_data"
    },
    {
     "data": {
      "application/vnd.jupyter.widget-view+json": {
       "model_id": "ea459fcbad244beba1838eee1ed42fb8",
       "version_major": 2,
       "version_minor": 0
      },
      "text/plain": [
       "Getting ROI info:   0%|          | 0/2 [00:00<?, ?it/s]"
      ]
     },
     "metadata": {},
     "output_type": "display_data"
    },
    {
     "data": {
      "application/vnd.jupyter.widget-view+json": {
       "model_id": "e019d55fd9fd4a25be23db4ab24e7705",
       "version_major": 2,
       "version_minor": 0
      },
      "text/plain": [
       "Getting ROI info:   0%|          | 0/2 [00:00<?, ?it/s]"
      ]
     },
     "metadata": {},
     "output_type": "display_data"
    },
    {
     "data": {
      "application/vnd.jupyter.widget-view+json": {
       "model_id": "f2b078a03a7f4f16bab87027eb389fea",
       "version_major": 2,
       "version_minor": 0
      },
      "text/plain": [
       "Getting ROI info:   0%|          | 0/2 [00:00<?, ?it/s]"
      ]
     },
     "metadata": {},
     "output_type": "display_data"
    },
    {
     "data": {
      "application/vnd.jupyter.widget-view+json": {
       "model_id": "21ff5490c0d44897bd2b0d217d0a4d7b",
       "version_major": 2,
       "version_minor": 0
      },
      "text/plain": [
       "Getting ROI info:   0%|          | 0/2 [00:00<?, ?it/s]"
      ]
     },
     "metadata": {},
     "output_type": "display_data"
    },
    {
     "data": {
      "application/vnd.jupyter.widget-view+json": {
       "model_id": "8c8b59dd4ae547dc83af1439d8de8ec2",
       "version_major": 2,
       "version_minor": 0
      },
      "text/plain": [
       "Getting ROI info:   0%|          | 0/2 [00:00<?, ?it/s]"
      ]
     },
     "metadata": {},
     "output_type": "display_data"
    },
    {
     "data": {
      "application/vnd.jupyter.widget-view+json": {
       "model_id": "7dcafd27970e4374bd19298ae4dd9670",
       "version_major": 2,
       "version_minor": 0
      },
      "text/plain": [
       "Getting ROI info:   0%|          | 0/2 [00:00<?, ?it/s]"
      ]
     },
     "metadata": {},
     "output_type": "display_data"
    },
    {
     "data": {
      "application/vnd.jupyter.widget-view+json": {
       "model_id": "c58edf370f224cd49d11ac66c9fc8f6d",
       "version_major": 2,
       "version_minor": 0
      },
      "text/plain": [
       "Getting ROI info:   0%|          | 0/2 [00:00<?, ?it/s]"
      ]
     },
     "metadata": {},
     "output_type": "display_data"
    },
    {
     "data": {
      "application/vnd.jupyter.widget-view+json": {
       "model_id": "4a16bbe86390481b8e0d057eba3d833a",
       "version_major": 2,
       "version_minor": 0
      },
      "text/plain": [
       "Getting ROI info:   0%|          | 0/2 [00:00<?, ?it/s]"
      ]
     },
     "metadata": {},
     "output_type": "display_data"
    },
    {
     "data": {
      "application/vnd.jupyter.widget-view+json": {
       "model_id": "50d51d29565048cda4ebd3626492047f",
       "version_major": 2,
       "version_minor": 0
      },
      "text/plain": [
       "Getting ROI info:   0%|          | 0/2 [00:00<?, ?it/s]"
      ]
     },
     "metadata": {},
     "output_type": "display_data"
    },
    {
     "data": {
      "application/vnd.jupyter.widget-view+json": {
       "model_id": "8c3d7fc8ebb4446ab1fe7ac37c164400",
       "version_major": 2,
       "version_minor": 0
      },
      "text/plain": [
       "Getting ROI info:   0%|          | 0/2 [00:00<?, ?it/s]"
      ]
     },
     "metadata": {},
     "output_type": "display_data"
    },
    {
     "data": {
      "application/vnd.jupyter.widget-view+json": {
       "model_id": "e82cf942768a49e384230790f2fac39f",
       "version_major": 2,
       "version_minor": 0
      },
      "text/plain": [
       "Getting ROI info:   0%|          | 0/2 [00:00<?, ?it/s]"
      ]
     },
     "metadata": {},
     "output_type": "display_data"
    },
    {
     "data": {
      "application/vnd.jupyter.widget-view+json": {
       "model_id": "642c84f1bfe24ee68dca3cb0d2dd8757",
       "version_major": 2,
       "version_minor": 0
      },
      "text/plain": [
       "Getting ROI info:   0%|          | 0/2 [00:00<?, ?it/s]"
      ]
     },
     "metadata": {},
     "output_type": "display_data"
    },
    {
     "data": {
      "application/vnd.jupyter.widget-view+json": {
       "model_id": "afc68c187bf94b47addf228660ef320d",
       "version_major": 2,
       "version_minor": 0
      },
      "text/plain": [
       "Getting ROI info:   0%|          | 0/2 [00:00<?, ?it/s]"
      ]
     },
     "metadata": {},
     "output_type": "display_data"
    },
    {
     "data": {
      "application/vnd.jupyter.widget-view+json": {
       "model_id": "cf6cf091b7fa46f6b39bb4eb2b96d4df",
       "version_major": 2,
       "version_minor": 0
      },
      "text/plain": [
       "Getting ROI info:   0%|          | 0/2 [00:00<?, ?it/s]"
      ]
     },
     "metadata": {},
     "output_type": "display_data"
    },
    {
     "data": {
      "application/vnd.jupyter.widget-view+json": {
       "model_id": "0b92315df0444218aa3db7573cb61ddf",
       "version_major": 2,
       "version_minor": 0
      },
      "text/plain": [
       "Getting ROI info:   0%|          | 0/2 [00:00<?, ?it/s]"
      ]
     },
     "metadata": {},
     "output_type": "display_data"
    },
    {
     "data": {
      "application/vnd.jupyter.widget-view+json": {
       "model_id": "e41afd312cb646de89404fe13d91526f",
       "version_major": 2,
       "version_minor": 0
      },
      "text/plain": [
       "Getting ROI info:   0%|          | 0/2 [00:00<?, ?it/s]"
      ]
     },
     "metadata": {},
     "output_type": "display_data"
    },
    {
     "data": {
      "application/vnd.jupyter.widget-view+json": {
       "model_id": "b83af27d2e4f4c04ae50ee7ea709b07b",
       "version_major": 2,
       "version_minor": 0
      },
      "text/plain": [
       "Getting ROI info:   0%|          | 0/2 [00:00<?, ?it/s]"
      ]
     },
     "metadata": {},
     "output_type": "display_data"
    },
    {
     "data": {
      "application/vnd.jupyter.widget-view+json": {
       "model_id": "20b9578a494a4d21ba2578c3a0495a6d",
       "version_major": 2,
       "version_minor": 0
      },
      "text/plain": [
       "Getting ROI info:   0%|          | 0/2 [00:00<?, ?it/s]"
      ]
     },
     "metadata": {},
     "output_type": "display_data"
    },
    {
     "data": {
      "application/vnd.jupyter.widget-view+json": {
       "model_id": "e6dd2787489443e5939b7b948265d3a8",
       "version_major": 2,
       "version_minor": 0
      },
      "text/plain": [
       "Getting ROI info:   0%|          | 0/2 [00:00<?, ?it/s]"
      ]
     },
     "metadata": {},
     "output_type": "display_data"
    },
    {
     "data": {
      "application/vnd.jupyter.widget-view+json": {
       "model_id": "fbce59ad01b54f729dd894113b888fb9",
       "version_major": 2,
       "version_minor": 0
      },
      "text/plain": [
       "Getting ROI info:   0%|          | 0/2 [00:00<?, ?it/s]"
      ]
     },
     "metadata": {},
     "output_type": "display_data"
    },
    {
     "data": {
      "application/vnd.jupyter.widget-view+json": {
       "model_id": "d62340a257b54635babe23de613f07e3",
       "version_major": 2,
       "version_minor": 0
      },
      "text/plain": [
       "Getting ROI info:   0%|          | 0/2 [00:00<?, ?it/s]"
      ]
     },
     "metadata": {},
     "output_type": "display_data"
    },
    {
     "data": {
      "application/vnd.jupyter.widget-view+json": {
       "model_id": "e11f048c512f4fd9865348d436d70a95",
       "version_major": 2,
       "version_minor": 0
      },
      "text/plain": [
       "Getting ROI info:   0%|          | 0/2 [00:00<?, ?it/s]"
      ]
     },
     "metadata": {},
     "output_type": "display_data"
    },
    {
     "data": {
      "application/vnd.jupyter.widget-view+json": {
       "model_id": "a17a53c90d4544fab5f6fe548a767412",
       "version_major": 2,
       "version_minor": 0
      },
      "text/plain": [
       "Getting ROI info:   0%|          | 0/2 [00:00<?, ?it/s]"
      ]
     },
     "metadata": {},
     "output_type": "display_data"
    },
    {
     "data": {
      "application/vnd.jupyter.widget-view+json": {
       "model_id": "392bc8abf5b8408cbcdbd84a52fde3ae",
       "version_major": 2,
       "version_minor": 0
      },
      "text/plain": [
       "Getting ROI info:   0%|          | 0/2 [00:00<?, ?it/s]"
      ]
     },
     "metadata": {},
     "output_type": "display_data"
    },
    {
     "data": {
      "application/vnd.jupyter.widget-view+json": {
       "model_id": "6322bbc530c04d5e84b5467f5892ad2f",
       "version_major": 2,
       "version_minor": 0
      },
      "text/plain": [
       "Getting ROI info:   0%|          | 0/2 [00:00<?, ?it/s]"
      ]
     },
     "metadata": {},
     "output_type": "display_data"
    },
    {
     "data": {
      "application/vnd.jupyter.widget-view+json": {
       "model_id": "826ca4f32ac44fc09def6915ba931f65",
       "version_major": 2,
       "version_minor": 0
      },
      "text/plain": [
       "Getting ROI info:   0%|          | 0/2 [00:00<?, ?it/s]"
      ]
     },
     "metadata": {},
     "output_type": "display_data"
    },
    {
     "data": {
      "application/vnd.jupyter.widget-view+json": {
       "model_id": "0b1d6dd7b2534f2a8fc80bddf749de15",
       "version_major": 2,
       "version_minor": 0
      },
      "text/plain": [
       "Getting ROI info:   0%|          | 0/2 [00:00<?, ?it/s]"
      ]
     },
     "metadata": {},
     "output_type": "display_data"
    },
    {
     "data": {
      "application/vnd.jupyter.widget-view+json": {
       "model_id": "e06aeb57a1fe4adcba095806ec01732b",
       "version_major": 2,
       "version_minor": 0
      },
      "text/plain": [
       "Getting ROI info:   0%|          | 0/2 [00:00<?, ?it/s]"
      ]
     },
     "metadata": {},
     "output_type": "display_data"
    },
    {
     "data": {
      "application/vnd.jupyter.widget-view+json": {
       "model_id": "3727eabe40dc436384c11d2e5c152afe",
       "version_major": 2,
       "version_minor": 0
      },
      "text/plain": [
       "Getting ROI info:   0%|          | 0/2 [00:00<?, ?it/s]"
      ]
     },
     "metadata": {},
     "output_type": "display_data"
    },
    {
     "data": {
      "application/vnd.jupyter.widget-view+json": {
       "model_id": "aebb5b5a6a6c41bca56faf4be3e738c1",
       "version_major": 2,
       "version_minor": 0
      },
      "text/plain": [
       "Getting ROI info:   0%|          | 0/2 [00:00<?, ?it/s]"
      ]
     },
     "metadata": {},
     "output_type": "display_data"
    },
    {
     "data": {
      "application/vnd.jupyter.widget-view+json": {
       "model_id": "70ff6b86f3df4798ba280ef40d257488",
       "version_major": 2,
       "version_minor": 0
      },
      "text/plain": [
       "Getting ROI info:   0%|          | 0/2 [00:00<?, ?it/s]"
      ]
     },
     "metadata": {},
     "output_type": "display_data"
    },
    {
     "data": {
      "application/vnd.jupyter.widget-view+json": {
       "model_id": "496bb18d85684b5eaccb6a5a23adcaf0",
       "version_major": 2,
       "version_minor": 0
      },
      "text/plain": [
       "Getting ROI info:   0%|          | 0/2 [00:00<?, ?it/s]"
      ]
     },
     "metadata": {},
     "output_type": "display_data"
    },
    {
     "data": {
      "application/vnd.jupyter.widget-view+json": {
       "model_id": "8d3dc0f7cbbb431fa6ab52bc83b83c11",
       "version_major": 2,
       "version_minor": 0
      },
      "text/plain": [
       "Getting ROI info:   0%|          | 0/2 [00:00<?, ?it/s]"
      ]
     },
     "metadata": {},
     "output_type": "display_data"
    },
    {
     "data": {
      "application/vnd.jupyter.widget-view+json": {
       "model_id": "0a045c83a80348569b6b61bf412eccf9",
       "version_major": 2,
       "version_minor": 0
      },
      "text/plain": [
       "Getting ROI info:   0%|          | 0/2 [00:00<?, ?it/s]"
      ]
     },
     "metadata": {},
     "output_type": "display_data"
    },
    {
     "data": {
      "application/vnd.jupyter.widget-view+json": {
       "model_id": "7e7c4fa987044d56a73670605fcaa937",
       "version_major": 2,
       "version_minor": 0
      },
      "text/plain": [
       "Getting ROI info:   0%|          | 0/2 [00:00<?, ?it/s]"
      ]
     },
     "metadata": {},
     "output_type": "display_data"
    },
    {
     "data": {
      "application/vnd.jupyter.widget-view+json": {
       "model_id": "9c7c22e7a1044f1b8a0b0773b3a27d26",
       "version_major": 2,
       "version_minor": 0
      },
      "text/plain": [
       "Getting ROI info:   0%|          | 0/2 [00:00<?, ?it/s]"
      ]
     },
     "metadata": {},
     "output_type": "display_data"
    },
    {
     "data": {
      "application/vnd.jupyter.widget-view+json": {
       "model_id": "d8fd5c76d87348acbd6c8e63b5e0b021",
       "version_major": 2,
       "version_minor": 0
      },
      "text/plain": [
       "Getting ROI info:   0%|          | 0/2 [00:00<?, ?it/s]"
      ]
     },
     "metadata": {},
     "output_type": "display_data"
    },
    {
     "data": {
      "application/vnd.jupyter.widget-view+json": {
       "model_id": "051027818ffd4e9aab396c5111c2ce98",
       "version_major": 2,
       "version_minor": 0
      },
      "text/plain": [
       "Getting ROI info:   0%|          | 0/2 [00:00<?, ?it/s]"
      ]
     },
     "metadata": {},
     "output_type": "display_data"
    },
    {
     "data": {
      "application/vnd.jupyter.widget-view+json": {
       "model_id": "c9fe3cd4d89748e699e983f8e8555b13",
       "version_major": 2,
       "version_minor": 0
      },
      "text/plain": [
       "Getting ROI info:   0%|          | 0/2 [00:00<?, ?it/s]"
      ]
     },
     "metadata": {},
     "output_type": "display_data"
    },
    {
     "data": {
      "application/vnd.jupyter.widget-view+json": {
       "model_id": "057d4d2b842347bd91e732a1129a651b",
       "version_major": 2,
       "version_minor": 0
      },
      "text/plain": [
       "Getting ROI info:   0%|          | 0/2 [00:00<?, ?it/s]"
      ]
     },
     "metadata": {},
     "output_type": "display_data"
    },
    {
     "data": {
      "application/vnd.jupyter.widget-view+json": {
       "model_id": "194a8a038ab94c7181adbb9add6aba16",
       "version_major": 2,
       "version_minor": 0
      },
      "text/plain": [
       "Getting ROI info:   0%|          | 0/2 [00:00<?, ?it/s]"
      ]
     },
     "metadata": {},
     "output_type": "display_data"
    },
    {
     "data": {
      "application/vnd.jupyter.widget-view+json": {
       "model_id": "8a045f0939634b909eeaebd7cd91ce93",
       "version_major": 2,
       "version_minor": 0
      },
      "text/plain": [
       "Getting ROI info:   0%|          | 0/2 [00:00<?, ?it/s]"
      ]
     },
     "metadata": {},
     "output_type": "display_data"
    },
    {
     "data": {
      "application/vnd.jupyter.widget-view+json": {
       "model_id": "a0ca82250850403b893dbdda49acda36",
       "version_major": 2,
       "version_minor": 0
      },
      "text/plain": [
       "Getting ROI info:   0%|          | 0/2 [00:00<?, ?it/s]"
      ]
     },
     "metadata": {},
     "output_type": "display_data"
    },
    {
     "data": {
      "application/vnd.jupyter.widget-view+json": {
       "model_id": "06a7127dcd3742f1a84b18d73fc4b85b",
       "version_major": 2,
       "version_minor": 0
      },
      "text/plain": [
       "Getting ROI info:   0%|          | 0/2 [00:00<?, ?it/s]"
      ]
     },
     "metadata": {},
     "output_type": "display_data"
    },
    {
     "data": {
      "application/vnd.jupyter.widget-view+json": {
       "model_id": "1fe9e10e5afb4a378ee1771561f7124f",
       "version_major": 2,
       "version_minor": 0
      },
      "text/plain": [
       "Getting ROI info:   0%|          | 0/2 [00:00<?, ?it/s]"
      ]
     },
     "metadata": {},
     "output_type": "display_data"
    },
    {
     "data": {
      "application/vnd.jupyter.widget-view+json": {
       "model_id": "43bcb406554943559613126cf0613fa1",
       "version_major": 2,
       "version_minor": 0
      },
      "text/plain": [
       "Getting ROI info:   0%|          | 0/2 [00:00<?, ?it/s]"
      ]
     },
     "metadata": {},
     "output_type": "display_data"
    },
    {
     "data": {
      "application/vnd.jupyter.widget-view+json": {
       "model_id": "fb86d22e13134f7b8646e54fc40c9537",
       "version_major": 2,
       "version_minor": 0
      },
      "text/plain": [
       "Getting ROI info:   0%|          | 0/2 [00:00<?, ?it/s]"
      ]
     },
     "metadata": {},
     "output_type": "display_data"
    },
    {
     "data": {
      "application/vnd.jupyter.widget-view+json": {
       "model_id": "930ef9b141394e30baafa3614009c0f4",
       "version_major": 2,
       "version_minor": 0
      },
      "text/plain": [
       "Getting ROI info:   0%|          | 0/2 [00:00<?, ?it/s]"
      ]
     },
     "metadata": {},
     "output_type": "display_data"
    },
    {
     "data": {
      "application/vnd.jupyter.widget-view+json": {
       "model_id": "dcd84326afb041b0800709bd0a6b87e0",
       "version_major": 2,
       "version_minor": 0
      },
      "text/plain": [
       "Getting ROI info:   0%|          | 0/2 [00:00<?, ?it/s]"
      ]
     },
     "metadata": {},
     "output_type": "display_data"
    },
    {
     "data": {
      "application/vnd.jupyter.widget-view+json": {
       "model_id": "3b6187978c254692bc83e888d56f3aba",
       "version_major": 2,
       "version_minor": 0
      },
      "text/plain": [
       "Getting ROI info:   0%|          | 0/2 [00:00<?, ?it/s]"
      ]
     },
     "metadata": {},
     "output_type": "display_data"
    },
    {
     "data": {
      "application/vnd.jupyter.widget-view+json": {
       "model_id": "bf10b156d33541f7973a3795285311ea",
       "version_major": 2,
       "version_minor": 0
      },
      "text/plain": [
       "Getting ROI info:   0%|          | 0/2 [00:00<?, ?it/s]"
      ]
     },
     "metadata": {},
     "output_type": "display_data"
    },
    {
     "data": {
      "application/vnd.jupyter.widget-view+json": {
       "model_id": "8119b6355e2141e38d79d52f7e0004a7",
       "version_major": 2,
       "version_minor": 0
      },
      "text/plain": [
       "Getting ROI info:   0%|          | 0/2 [00:00<?, ?it/s]"
      ]
     },
     "metadata": {},
     "output_type": "display_data"
    },
    {
     "data": {
      "application/vnd.jupyter.widget-view+json": {
       "model_id": "7dd0f8af68a74ef8a5a7a184b7e312f1",
       "version_major": 2,
       "version_minor": 0
      },
      "text/plain": [
       "Getting ROI info:   0%|          | 0/2 [00:00<?, ?it/s]"
      ]
     },
     "metadata": {},
     "output_type": "display_data"
    },
    {
     "data": {
      "application/vnd.jupyter.widget-view+json": {
       "model_id": "8e6cc9fc45df426a9ee65a3991fb454c",
       "version_major": 2,
       "version_minor": 0
      },
      "text/plain": [
       "Getting ROI info:   0%|          | 0/2 [00:00<?, ?it/s]"
      ]
     },
     "metadata": {},
     "output_type": "display_data"
    },
    {
     "data": {
      "application/vnd.jupyter.widget-view+json": {
       "model_id": "5b34e02e580046cf8bc251419e246f34",
       "version_major": 2,
       "version_minor": 0
      },
      "text/plain": [
       "Getting ROI info:   0%|          | 0/2 [00:00<?, ?it/s]"
      ]
     },
     "metadata": {},
     "output_type": "display_data"
    },
    {
     "data": {
      "application/vnd.jupyter.widget-view+json": {
       "model_id": "5788876779c343a09daf696b0f1cc1bf",
       "version_major": 2,
       "version_minor": 0
      },
      "text/plain": [
       "Getting ROI info:   0%|          | 0/2 [00:00<?, ?it/s]"
      ]
     },
     "metadata": {},
     "output_type": "display_data"
    },
    {
     "data": {
      "application/vnd.jupyter.widget-view+json": {
       "model_id": "b2943b87640f4ff39515687e2f565d72",
       "version_major": 2,
       "version_minor": 0
      },
      "text/plain": [
       "Getting ROI info:   0%|          | 0/2 [00:00<?, ?it/s]"
      ]
     },
     "metadata": {},
     "output_type": "display_data"
    },
    {
     "data": {
      "application/vnd.jupyter.widget-view+json": {
       "model_id": "50d22cef072a421eb190ebab2b22db8c",
       "version_major": 2,
       "version_minor": 0
      },
      "text/plain": [
       "Getting ROI info:   0%|          | 0/2 [00:00<?, ?it/s]"
      ]
     },
     "metadata": {},
     "output_type": "display_data"
    },
    {
     "data": {
      "application/vnd.jupyter.widget-view+json": {
       "model_id": "8de9d478649a4147bb4bc955e79713d3",
       "version_major": 2,
       "version_minor": 0
      },
      "text/plain": [
       "Getting ROI info:   0%|          | 0/2 [00:00<?, ?it/s]"
      ]
     },
     "metadata": {},
     "output_type": "display_data"
    },
    {
     "data": {
      "application/vnd.jupyter.widget-view+json": {
       "model_id": "b3c2818c4d8842f18ebd8251cb09ceab",
       "version_major": 2,
       "version_minor": 0
      },
      "text/plain": [
       "Getting ROI info:   0%|          | 0/2 [00:00<?, ?it/s]"
      ]
     },
     "metadata": {},
     "output_type": "display_data"
    },
    {
     "data": {
      "application/vnd.jupyter.widget-view+json": {
       "model_id": "0e6970fac3be4129bca37ea208512058",
       "version_major": 2,
       "version_minor": 0
      },
      "text/plain": [
       "Getting ROI info:   0%|          | 0/2 [00:00<?, ?it/s]"
      ]
     },
     "metadata": {},
     "output_type": "display_data"
    },
    {
     "data": {
      "application/vnd.jupyter.widget-view+json": {
       "model_id": "0d3cc11cdf18495ba3a36693e9564b2c",
       "version_major": 2,
       "version_minor": 0
      },
      "text/plain": [
       "Getting ROI info:   0%|          | 0/2 [00:00<?, ?it/s]"
      ]
     },
     "metadata": {},
     "output_type": "display_data"
    },
    {
     "data": {
      "application/vnd.jupyter.widget-view+json": {
       "model_id": "b983a95a376b43b88e724bf0d7732d3b",
       "version_major": 2,
       "version_minor": 0
      },
      "text/plain": [
       "Getting ROI info:   0%|          | 0/2 [00:00<?, ?it/s]"
      ]
     },
     "metadata": {},
     "output_type": "display_data"
    },
    {
     "data": {
      "application/vnd.jupyter.widget-view+json": {
       "model_id": "9e581721896b4818afde157562cdac84",
       "version_major": 2,
       "version_minor": 0
      },
      "text/plain": [
       "Getting ROI info:   0%|          | 0/2 [00:00<?, ?it/s]"
      ]
     },
     "metadata": {},
     "output_type": "display_data"
    },
    {
     "data": {
      "application/vnd.jupyter.widget-view+json": {
       "model_id": "f55ab6fa723546febc865667c6377d7b",
       "version_major": 2,
       "version_minor": 0
      },
      "text/plain": [
       "Getting ROI info:   0%|          | 0/2 [00:00<?, ?it/s]"
      ]
     },
     "metadata": {},
     "output_type": "display_data"
    },
    {
     "data": {
      "application/vnd.jupyter.widget-view+json": {
       "model_id": "57c48dcbfeff4ad8a1f741006302b2fe",
       "version_major": 2,
       "version_minor": 0
      },
      "text/plain": [
       "Getting ROI info:   0%|          | 0/2 [00:00<?, ?it/s]"
      ]
     },
     "metadata": {},
     "output_type": "display_data"
    },
    {
     "data": {
      "application/vnd.jupyter.widget-view+json": {
       "model_id": "4d45fc6f80de4d2fb0114f895ca10a6e",
       "version_major": 2,
       "version_minor": 0
      },
      "text/plain": [
       "Getting ROI info:   0%|          | 0/2 [00:00<?, ?it/s]"
      ]
     },
     "metadata": {},
     "output_type": "display_data"
    },
    {
     "data": {
      "application/vnd.jupyter.widget-view+json": {
       "model_id": "3cdd9229ee124b2bbe0db5dd735a96d2",
       "version_major": 2,
       "version_minor": 0
      },
      "text/plain": [
       "Getting ROI info:   0%|          | 0/2 [00:00<?, ?it/s]"
      ]
     },
     "metadata": {},
     "output_type": "display_data"
    },
    {
     "data": {
      "application/vnd.jupyter.widget-view+json": {
       "model_id": "453ecc2567084c30b7305202bcb571c5",
       "version_major": 2,
       "version_minor": 0
      },
      "text/plain": [
       "Getting ROI info:   0%|          | 0/2 [00:00<?, ?it/s]"
      ]
     },
     "metadata": {},
     "output_type": "display_data"
    },
    {
     "data": {
      "application/vnd.jupyter.widget-view+json": {
       "model_id": "2d8d2e51acff46f285e77a8e67c5d66f",
       "version_major": 2,
       "version_minor": 0
      },
      "text/plain": [
       "Getting ROI info:   0%|          | 0/2 [00:00<?, ?it/s]"
      ]
     },
     "metadata": {},
     "output_type": "display_data"
    },
    {
     "data": {
      "application/vnd.jupyter.widget-view+json": {
       "model_id": "07253e8ccdb44fa1b7112907e6befa5a",
       "version_major": 2,
       "version_minor": 0
      },
      "text/plain": [
       "Getting ROI info:   0%|          | 0/2 [00:00<?, ?it/s]"
      ]
     },
     "metadata": {},
     "output_type": "display_data"
    },
    {
     "data": {
      "application/vnd.jupyter.widget-view+json": {
       "model_id": "08202882c49e4e29aab13a7228f119e8",
       "version_major": 2,
       "version_minor": 0
      },
      "text/plain": [
       "Getting ROI info:   0%|          | 0/2 [00:00<?, ?it/s]"
      ]
     },
     "metadata": {},
     "output_type": "display_data"
    },
    {
     "data": {
      "application/vnd.jupyter.widget-view+json": {
       "model_id": "88cbd0d98db24dfc88a16fba1e5c46cf",
       "version_major": 2,
       "version_minor": 0
      },
      "text/plain": [
       "Getting ROI info:   0%|          | 0/2 [00:00<?, ?it/s]"
      ]
     },
     "metadata": {},
     "output_type": "display_data"
    },
    {
     "data": {
      "application/vnd.jupyter.widget-view+json": {
       "model_id": "6c0e2c6f502a4c7b946445a58c5a5bff",
       "version_major": 2,
       "version_minor": 0
      },
      "text/plain": [
       "Getting ROI info:   0%|          | 0/2 [00:00<?, ?it/s]"
      ]
     },
     "metadata": {},
     "output_type": "display_data"
    },
    {
     "data": {
      "application/vnd.jupyter.widget-view+json": {
       "model_id": "6e0eff4026394135b4f8a7f1b08e40b7",
       "version_major": 2,
       "version_minor": 0
      },
      "text/plain": [
       "Getting ROI info:   0%|          | 0/2 [00:00<?, ?it/s]"
      ]
     },
     "metadata": {},
     "output_type": "display_data"
    },
    {
     "data": {
      "application/vnd.jupyter.widget-view+json": {
       "model_id": "7bf1388266a943bbbce7b4797f67ed83",
       "version_major": 2,
       "version_minor": 0
      },
      "text/plain": [
       "Getting ROI info:   0%|          | 0/2 [00:00<?, ?it/s]"
      ]
     },
     "metadata": {},
     "output_type": "display_data"
    },
    {
     "data": {
      "application/vnd.jupyter.widget-view+json": {
       "model_id": "cc77832b6a294e67a0f92eb6974c5160",
       "version_major": 2,
       "version_minor": 0
      },
      "text/plain": [
       "Getting ROI info:   0%|          | 0/2 [00:00<?, ?it/s]"
      ]
     },
     "metadata": {},
     "output_type": "display_data"
    },
    {
     "data": {
      "application/vnd.jupyter.widget-view+json": {
       "model_id": "640ed86e52e945c89b2d8904b3c17d81",
       "version_major": 2,
       "version_minor": 0
      },
      "text/plain": [
       "Getting ROI info:   0%|          | 0/2 [00:00<?, ?it/s]"
      ]
     },
     "metadata": {},
     "output_type": "display_data"
    },
    {
     "data": {
      "application/vnd.jupyter.widget-view+json": {
       "model_id": "776ab7e96d604756bea41b68df313750",
       "version_major": 2,
       "version_minor": 0
      },
      "text/plain": [
       "Getting ROI info:   0%|          | 0/2 [00:00<?, ?it/s]"
      ]
     },
     "metadata": {},
     "output_type": "display_data"
    },
    {
     "data": {
      "application/vnd.jupyter.widget-view+json": {
       "model_id": "1e11696bd685437283a8f30495864b0d",
       "version_major": 2,
       "version_minor": 0
      },
      "text/plain": [
       "Getting ROI info:   0%|          | 0/2 [00:00<?, ?it/s]"
      ]
     },
     "metadata": {},
     "output_type": "display_data"
    },
    {
     "data": {
      "application/vnd.jupyter.widget-view+json": {
       "model_id": "a19a5ba0853f4aa3b09ece2b5954d90c",
       "version_major": 2,
       "version_minor": 0
      },
      "text/plain": [
       "Getting ROI info:   0%|          | 0/2 [00:00<?, ?it/s]"
      ]
     },
     "metadata": {},
     "output_type": "display_data"
    },
    {
     "data": {
      "application/vnd.jupyter.widget-view+json": {
       "model_id": "43161e7d1a2b41949171bfe402ea7af5",
       "version_major": 2,
       "version_minor": 0
      },
      "text/plain": [
       "Getting ROI info:   0%|          | 0/2 [00:00<?, ?it/s]"
      ]
     },
     "metadata": {},
     "output_type": "display_data"
    },
    {
     "data": {
      "application/vnd.jupyter.widget-view+json": {
       "model_id": "2e7caf1d110548038b1a33239de6e7ca",
       "version_major": 2,
       "version_minor": 0
      },
      "text/plain": [
       "Getting ROI info:   0%|          | 0/2 [00:00<?, ?it/s]"
      ]
     },
     "metadata": {},
     "output_type": "display_data"
    },
    {
     "data": {
      "application/vnd.jupyter.widget-view+json": {
       "model_id": "2f3a788c939649c8b36374ced5e061b4",
       "version_major": 2,
       "version_minor": 0
      },
      "text/plain": [
       "Getting ROI info:   0%|          | 0/2 [00:00<?, ?it/s]"
      ]
     },
     "metadata": {},
     "output_type": "display_data"
    },
    {
     "data": {
      "application/vnd.jupyter.widget-view+json": {
       "model_id": "df73680097e34a1a88a601931f036374",
       "version_major": 2,
       "version_minor": 0
      },
      "text/plain": [
       "Getting ROI info:   0%|          | 0/2 [00:00<?, ?it/s]"
      ]
     },
     "metadata": {},
     "output_type": "display_data"
    },
    {
     "data": {
      "application/vnd.jupyter.widget-view+json": {
       "model_id": "2a4f6de0acd147a6917be7a9fd48373d",
       "version_major": 2,
       "version_minor": 0
      },
      "text/plain": [
       "Getting ROI info:   0%|          | 0/2 [00:00<?, ?it/s]"
      ]
     },
     "metadata": {},
     "output_type": "display_data"
    },
    {
     "data": {
      "application/vnd.jupyter.widget-view+json": {
       "model_id": "f3bc7d85d88243bb81f40fd937d5af32",
       "version_major": 2,
       "version_minor": 0
      },
      "text/plain": [
       "Getting ROI info:   0%|          | 0/2 [00:00<?, ?it/s]"
      ]
     },
     "metadata": {},
     "output_type": "display_data"
    },
    {
     "data": {
      "application/vnd.jupyter.widget-view+json": {
       "model_id": "8b7c512d83dd4b1d82e1a79f236d5095",
       "version_major": 2,
       "version_minor": 0
      },
      "text/plain": [
       "Getting ROI info:   0%|          | 0/2 [00:00<?, ?it/s]"
      ]
     },
     "metadata": {},
     "output_type": "display_data"
    },
    {
     "data": {
      "application/vnd.jupyter.widget-view+json": {
       "model_id": "d3b5b56dffbd4e40bc0e9b98a76039d4",
       "version_major": 2,
       "version_minor": 0
      },
      "text/plain": [
       "Getting ROI info:   0%|          | 0/2 [00:00<?, ?it/s]"
      ]
     },
     "metadata": {},
     "output_type": "display_data"
    },
    {
     "data": {
      "application/vnd.jupyter.widget-view+json": {
       "model_id": "3b9cac353de04872bc4681a337bd3577",
       "version_major": 2,
       "version_minor": 0
      },
      "text/plain": [
       "Getting ROI info:   0%|          | 0/2 [00:00<?, ?it/s]"
      ]
     },
     "metadata": {},
     "output_type": "display_data"
    },
    {
     "data": {
      "application/vnd.jupyter.widget-view+json": {
       "model_id": "e5a4b4cc896a4652b3c6f2e4fdab6ed8",
       "version_major": 2,
       "version_minor": 0
      },
      "text/plain": [
       "Getting ROI info:   0%|          | 0/2 [00:00<?, ?it/s]"
      ]
     },
     "metadata": {},
     "output_type": "display_data"
    },
    {
     "data": {
      "application/vnd.jupyter.widget-view+json": {
       "model_id": "183fa876d9274f65a660155fb6d8989a",
       "version_major": 2,
       "version_minor": 0
      },
      "text/plain": [
       "Getting ROI info:   0%|          | 0/2 [00:00<?, ?it/s]"
      ]
     },
     "metadata": {},
     "output_type": "display_data"
    },
    {
     "data": {
      "application/vnd.jupyter.widget-view+json": {
       "model_id": "13c4245db88544e8b56d778a31a672d2",
       "version_major": 2,
       "version_minor": 0
      },
      "text/plain": [
       "Getting ROI info:   0%|          | 0/2 [00:00<?, ?it/s]"
      ]
     },
     "metadata": {},
     "output_type": "display_data"
    },
    {
     "data": {
      "application/vnd.jupyter.widget-view+json": {
       "model_id": "f973f10532734ea18ad6938663dbdeeb",
       "version_major": 2,
       "version_minor": 0
      },
      "text/plain": [
       "Getting ROI info:   0%|          | 0/2 [00:00<?, ?it/s]"
      ]
     },
     "metadata": {},
     "output_type": "display_data"
    },
    {
     "data": {
      "application/vnd.jupyter.widget-view+json": {
       "model_id": "3582c24c4a844163bdf5bf802f755d3b",
       "version_major": 2,
       "version_minor": 0
      },
      "text/plain": [
       "Getting ROI info:   0%|          | 0/2 [00:00<?, ?it/s]"
      ]
     },
     "metadata": {},
     "output_type": "display_data"
    },
    {
     "data": {
      "application/vnd.jupyter.widget-view+json": {
       "model_id": "0cd2e91a97e74aadaec7fd32e8c4f409",
       "version_major": 2,
       "version_minor": 0
      },
      "text/plain": [
       "Getting ROI info:   0%|          | 0/2 [00:00<?, ?it/s]"
      ]
     },
     "metadata": {},
     "output_type": "display_data"
    },
    {
     "data": {
      "application/vnd.jupyter.widget-view+json": {
       "model_id": "2273306035b94935bbc8de4dd0a2a644",
       "version_major": 2,
       "version_minor": 0
      },
      "text/plain": [
       "Getting ROI info:   0%|          | 0/2 [00:00<?, ?it/s]"
      ]
     },
     "metadata": {},
     "output_type": "display_data"
    },
    {
     "data": {
      "application/vnd.jupyter.widget-view+json": {
       "model_id": "2f0bec3656854496bcc1a6ebe21dbc0a",
       "version_major": 2,
       "version_minor": 0
      },
      "text/plain": [
       "Getting ROI info:   0%|          | 0/2 [00:00<?, ?it/s]"
      ]
     },
     "metadata": {},
     "output_type": "display_data"
    },
    {
     "data": {
      "application/vnd.jupyter.widget-view+json": {
       "model_id": "51c3b18b078d4424ba747c42fb226917",
       "version_major": 2,
       "version_minor": 0
      },
      "text/plain": [
       "Getting ROI info:   0%|          | 0/2 [00:00<?, ?it/s]"
      ]
     },
     "metadata": {},
     "output_type": "display_data"
    },
    {
     "data": {
      "application/vnd.jupyter.widget-view+json": {
       "model_id": "dbbfd7031b354847b0827d8c66173cb6",
       "version_major": 2,
       "version_minor": 0
      },
      "text/plain": [
       "Getting ROI info:   0%|          | 0/2 [00:00<?, ?it/s]"
      ]
     },
     "metadata": {},
     "output_type": "display_data"
    },
    {
     "data": {
      "application/vnd.jupyter.widget-view+json": {
       "model_id": "628c6de23bd14dd385fdf3d0f8b5e8a2",
       "version_major": 2,
       "version_minor": 0
      },
      "text/plain": [
       "Getting ROI info:   0%|          | 0/2 [00:00<?, ?it/s]"
      ]
     },
     "metadata": {},
     "output_type": "display_data"
    },
    {
     "data": {
      "application/vnd.jupyter.widget-view+json": {
       "model_id": "ccf37be6d73542ce86f7817d517ae2f3",
       "version_major": 2,
       "version_minor": 0
      },
      "text/plain": [
       "Getting ROI info:   0%|          | 0/2 [00:00<?, ?it/s]"
      ]
     },
     "metadata": {},
     "output_type": "display_data"
    },
    {
     "data": {
      "application/vnd.jupyter.widget-view+json": {
       "model_id": "d4e1c5d606dd4a7589e3815bb8f990a2",
       "version_major": 2,
       "version_minor": 0
      },
      "text/plain": [
       "Getting ROI info:   0%|          | 0/2 [00:00<?, ?it/s]"
      ]
     },
     "metadata": {},
     "output_type": "display_data"
    },
    {
     "data": {
      "application/vnd.jupyter.widget-view+json": {
       "model_id": "b07f07fdf839488d80ba4e6f567a64f9",
       "version_major": 2,
       "version_minor": 0
      },
      "text/plain": [
       "Getting ROI info:   0%|          | 0/2 [00:00<?, ?it/s]"
      ]
     },
     "metadata": {},
     "output_type": "display_data"
    },
    {
     "data": {
      "application/vnd.jupyter.widget-view+json": {
       "model_id": "d4412953064d4506a2add24916869d01",
       "version_major": 2,
       "version_minor": 0
      },
      "text/plain": [
       "Getting ROI info:   0%|          | 0/2 [00:00<?, ?it/s]"
      ]
     },
     "metadata": {},
     "output_type": "display_data"
    },
    {
     "data": {
      "application/vnd.jupyter.widget-view+json": {
       "model_id": "4152564a797648f38bbd82ce7756d2cc",
       "version_major": 2,
       "version_minor": 0
      },
      "text/plain": [
       "Getting ROI info:   0%|          | 0/2 [00:00<?, ?it/s]"
      ]
     },
     "metadata": {},
     "output_type": "display_data"
    },
    {
     "data": {
      "application/vnd.jupyter.widget-view+json": {
       "model_id": "1fcef81b8a814d68bc709c1dd78869c4",
       "version_major": 2,
       "version_minor": 0
      },
      "text/plain": [
       "Getting ROI info:   0%|          | 0/2 [00:00<?, ?it/s]"
      ]
     },
     "metadata": {},
     "output_type": "display_data"
    },
    {
     "data": {
      "application/vnd.jupyter.widget-view+json": {
       "model_id": "8c98a643261a43d99e510c75a201a4c5",
       "version_major": 2,
       "version_minor": 0
      },
      "text/plain": [
       "Getting ROI info:   0%|          | 0/2 [00:00<?, ?it/s]"
      ]
     },
     "metadata": {},
     "output_type": "display_data"
    },
    {
     "data": {
      "application/vnd.jupyter.widget-view+json": {
       "model_id": "79f67035c2f442eb80b682236b9a36fa",
       "version_major": 2,
       "version_minor": 0
      },
      "text/plain": [
       "Getting ROI info:   0%|          | 0/2 [00:00<?, ?it/s]"
      ]
     },
     "metadata": {},
     "output_type": "display_data"
    },
    {
     "data": {
      "application/vnd.jupyter.widget-view+json": {
       "model_id": "d6a6baa6bca54415b695aa6700d91992",
       "version_major": 2,
       "version_minor": 0
      },
      "text/plain": [
       "Getting ROI info:   0%|          | 0/2 [00:00<?, ?it/s]"
      ]
     },
     "metadata": {},
     "output_type": "display_data"
    },
    {
     "data": {
      "application/vnd.jupyter.widget-view+json": {
       "model_id": "312cea3de6484fa4b39b2b7708d13f80",
       "version_major": 2,
       "version_minor": 0
      },
      "text/plain": [
       "Getting ROI info:   0%|          | 0/2 [00:00<?, ?it/s]"
      ]
     },
     "metadata": {},
     "output_type": "display_data"
    },
    {
     "data": {
      "application/vnd.jupyter.widget-view+json": {
       "model_id": "beaf16da44f44debafceea15e590245c",
       "version_major": 2,
       "version_minor": 0
      },
      "text/plain": [
       "Getting ROI info:   0%|          | 0/2 [00:00<?, ?it/s]"
      ]
     },
     "metadata": {},
     "output_type": "display_data"
    },
    {
     "data": {
      "application/vnd.jupyter.widget-view+json": {
       "model_id": "8fd1d26c097646f18ce7249d6abfe74c",
       "version_major": 2,
       "version_minor": 0
      },
      "text/plain": [
       "Getting ROI info:   0%|          | 0/2 [00:00<?, ?it/s]"
      ]
     },
     "metadata": {},
     "output_type": "display_data"
    },
    {
     "data": {
      "application/vnd.jupyter.widget-view+json": {
       "model_id": "52bf4056438a4cb1a7d8701cf1b45d29",
       "version_major": 2,
       "version_minor": 0
      },
      "text/plain": [
       "Getting ROI info:   0%|          | 0/2 [00:00<?, ?it/s]"
      ]
     },
     "metadata": {},
     "output_type": "display_data"
    },
    {
     "data": {
      "application/vnd.jupyter.widget-view+json": {
       "model_id": "5bd56a8f71524918829acc4eb9d63a79",
       "version_major": 2,
       "version_minor": 0
      },
      "text/plain": [
       "Getting ROI info:   0%|          | 0/2 [00:00<?, ?it/s]"
      ]
     },
     "metadata": {},
     "output_type": "display_data"
    },
    {
     "data": {
      "application/vnd.jupyter.widget-view+json": {
       "model_id": "211d848d7c5049648e31b61dfb5048e7",
       "version_major": 2,
       "version_minor": 0
      },
      "text/plain": [
       "Getting ROI info:   0%|          | 0/2 [00:00<?, ?it/s]"
      ]
     },
     "metadata": {},
     "output_type": "display_data"
    },
    {
     "data": {
      "application/vnd.jupyter.widget-view+json": {
       "model_id": "6e4268d361a14788905ec3f4b3843426",
       "version_major": 2,
       "version_minor": 0
      },
      "text/plain": [
       "Getting ROI info:   0%|          | 0/2 [00:00<?, ?it/s]"
      ]
     },
     "metadata": {},
     "output_type": "display_data"
    },
    {
     "data": {
      "application/vnd.jupyter.widget-view+json": {
       "model_id": "48696fb60cdf448482b842fb1ee66ef9",
       "version_major": 2,
       "version_minor": 0
      },
      "text/plain": [
       "Getting ROI info:   0%|          | 0/2 [00:00<?, ?it/s]"
      ]
     },
     "metadata": {},
     "output_type": "display_data"
    },
    {
     "data": {
      "application/vnd.jupyter.widget-view+json": {
       "model_id": "64cbf4641203486ea2fb945c7f233d20",
       "version_major": 2,
       "version_minor": 0
      },
      "text/plain": [
       "Getting ROI info:   0%|          | 0/2 [00:00<?, ?it/s]"
      ]
     },
     "metadata": {},
     "output_type": "display_data"
    },
    {
     "data": {
      "application/vnd.jupyter.widget-view+json": {
       "model_id": "1a658f061ba044aba209d0fa06b070aa",
       "version_major": 2,
       "version_minor": 0
      },
      "text/plain": [
       "Getting ROI info:   0%|          | 0/2 [00:00<?, ?it/s]"
      ]
     },
     "metadata": {},
     "output_type": "display_data"
    },
    {
     "data": {
      "application/vnd.jupyter.widget-view+json": {
       "model_id": "be6f027f9d8c4360a40f87a0e80095d9",
       "version_major": 2,
       "version_minor": 0
      },
      "text/plain": [
       "Getting ROI info:   0%|          | 0/2 [00:00<?, ?it/s]"
      ]
     },
     "metadata": {},
     "output_type": "display_data"
    },
    {
     "data": {
      "application/vnd.jupyter.widget-view+json": {
       "model_id": "3bf4f81d978c4306a2b4628606396263",
       "version_major": 2,
       "version_minor": 0
      },
      "text/plain": [
       "Getting ROI info:   0%|          | 0/2 [00:00<?, ?it/s]"
      ]
     },
     "metadata": {},
     "output_type": "display_data"
    },
    {
     "data": {
      "application/vnd.jupyter.widget-view+json": {
       "model_id": "e6915f307786448fa93158e92d14e21f",
       "version_major": 2,
       "version_minor": 0
      },
      "text/plain": [
       "Getting ROI info:   0%|          | 0/2 [00:00<?, ?it/s]"
      ]
     },
     "metadata": {},
     "output_type": "display_data"
    },
    {
     "data": {
      "application/vnd.jupyter.widget-view+json": {
       "model_id": "78457f8ea8354d6789fcc7e840ab3e6f",
       "version_major": 2,
       "version_minor": 0
      },
      "text/plain": [
       "Getting ROI info:   0%|          | 0/2 [00:00<?, ?it/s]"
      ]
     },
     "metadata": {},
     "output_type": "display_data"
    },
    {
     "data": {
      "application/vnd.jupyter.widget-view+json": {
       "model_id": "74e45f671b5149bcaa754347f157e497",
       "version_major": 2,
       "version_minor": 0
      },
      "text/plain": [
       "Getting ROI info:   0%|          | 0/2 [00:00<?, ?it/s]"
      ]
     },
     "metadata": {},
     "output_type": "display_data"
    },
    {
     "data": {
      "application/vnd.jupyter.widget-view+json": {
       "model_id": "9cf404b7745747019dfbcde8b19e87e8",
       "version_major": 2,
       "version_minor": 0
      },
      "text/plain": [
       "Getting ROI info:   0%|          | 0/2 [00:00<?, ?it/s]"
      ]
     },
     "metadata": {},
     "output_type": "display_data"
    },
    {
     "data": {
      "application/vnd.jupyter.widget-view+json": {
       "model_id": "17e6aed4b71c48f7962f9e4f6f0003af",
       "version_major": 2,
       "version_minor": 0
      },
      "text/plain": [
       "Getting ROI info:   0%|          | 0/2 [00:00<?, ?it/s]"
      ]
     },
     "metadata": {},
     "output_type": "display_data"
    },
    {
     "data": {
      "application/vnd.jupyter.widget-view+json": {
       "model_id": "9103ba3cbb99405a9b001dccce4e4785",
       "version_major": 2,
       "version_minor": 0
      },
      "text/plain": [
       "Getting ROI info:   0%|          | 0/2 [00:00<?, ?it/s]"
      ]
     },
     "metadata": {},
     "output_type": "display_data"
    },
    {
     "data": {
      "application/vnd.jupyter.widget-view+json": {
       "model_id": "2b8f36b15e534f04ab6ffa241e45cfc9",
       "version_major": 2,
       "version_minor": 0
      },
      "text/plain": [
       "Getting ROI info:   0%|          | 0/2 [00:00<?, ?it/s]"
      ]
     },
     "metadata": {},
     "output_type": "display_data"
    },
    {
     "data": {
      "application/vnd.jupyter.widget-view+json": {
       "model_id": "0f26be487a484a31ac1a2dbf961343d2",
       "version_major": 2,
       "version_minor": 0
      },
      "text/plain": [
       "Getting ROI info:   0%|          | 0/2 [00:00<?, ?it/s]"
      ]
     },
     "metadata": {},
     "output_type": "display_data"
    },
    {
     "data": {
      "application/vnd.jupyter.widget-view+json": {
       "model_id": "87fda0b5fb5e40c0bc3c28c8ac32670b",
       "version_major": 2,
       "version_minor": 0
      },
      "text/plain": [
       "Getting ROI info:   0%|          | 0/2 [00:00<?, ?it/s]"
      ]
     },
     "metadata": {},
     "output_type": "display_data"
    },
    {
     "data": {
      "application/vnd.jupyter.widget-view+json": {
       "model_id": "c7060f3f5df84aed8f741a2d0cec2979",
       "version_major": 2,
       "version_minor": 0
      },
      "text/plain": [
       "Getting ROI info:   0%|          | 0/2 [00:00<?, ?it/s]"
      ]
     },
     "metadata": {},
     "output_type": "display_data"
    },
    {
     "data": {
      "application/vnd.jupyter.widget-view+json": {
       "model_id": "7922e64624894e39832d098c7241fb49",
       "version_major": 2,
       "version_minor": 0
      },
      "text/plain": [
       "Getting ROI info:   0%|          | 0/2 [00:00<?, ?it/s]"
      ]
     },
     "metadata": {},
     "output_type": "display_data"
    },
    {
     "data": {
      "application/vnd.jupyter.widget-view+json": {
       "model_id": "938a447bd7b34014af34007a4288ff11",
       "version_major": 2,
       "version_minor": 0
      },
      "text/plain": [
       "Getting ROI info:   0%|          | 0/2 [00:00<?, ?it/s]"
      ]
     },
     "metadata": {},
     "output_type": "display_data"
    },
    {
     "data": {
      "application/vnd.jupyter.widget-view+json": {
       "model_id": "137d734c1dc646b1ad86b75ae61f2b96",
       "version_major": 2,
       "version_minor": 0
      },
      "text/plain": [
       "Getting ROI info:   0%|          | 0/2 [00:00<?, ?it/s]"
      ]
     },
     "metadata": {},
     "output_type": "display_data"
    },
    {
     "data": {
      "application/vnd.jupyter.widget-view+json": {
       "model_id": "f8f638dbb7be4eafa62b07ca8310dfef",
       "version_major": 2,
       "version_minor": 0
      },
      "text/plain": [
       "Getting ROI info:   0%|          | 0/2 [00:00<?, ?it/s]"
      ]
     },
     "metadata": {},
     "output_type": "display_data"
    },
    {
     "data": {
      "application/vnd.jupyter.widget-view+json": {
       "model_id": "d6f3e500ce05488685a834fb14dc4441",
       "version_major": 2,
       "version_minor": 0
      },
      "text/plain": [
       "Getting ROI info:   0%|          | 0/2 [00:00<?, ?it/s]"
      ]
     },
     "metadata": {},
     "output_type": "display_data"
    },
    {
     "data": {
      "application/vnd.jupyter.widget-view+json": {
       "model_id": "583de51b10984ce8a6071b9ba78952a9",
       "version_major": 2,
       "version_minor": 0
      },
      "text/plain": [
       "Getting ROI info:   0%|          | 0/2 [00:00<?, ?it/s]"
      ]
     },
     "metadata": {},
     "output_type": "display_data"
    },
    {
     "data": {
      "application/vnd.jupyter.widget-view+json": {
       "model_id": "e4f835cd38d645daa9c6a54f0c28952d",
       "version_major": 2,
       "version_minor": 0
      },
      "text/plain": [
       "Getting ROI info:   0%|          | 0/2 [00:00<?, ?it/s]"
      ]
     },
     "metadata": {},
     "output_type": "display_data"
    },
    {
     "data": {
      "application/vnd.jupyter.widget-view+json": {
       "model_id": "5210dec1b7a3482b8d34c92cf52b324f",
       "version_major": 2,
       "version_minor": 0
      },
      "text/plain": [
       "Getting ROI info:   0%|          | 0/2 [00:00<?, ?it/s]"
      ]
     },
     "metadata": {},
     "output_type": "display_data"
    },
    {
     "data": {
      "application/vnd.jupyter.widget-view+json": {
       "model_id": "94321475b0f4415f9cec86af3e86e3e8",
       "version_major": 2,
       "version_minor": 0
      },
      "text/plain": [
       "Getting ROI info:   0%|          | 0/2 [00:00<?, ?it/s]"
      ]
     },
     "metadata": {},
     "output_type": "display_data"
    },
    {
     "data": {
      "application/vnd.jupyter.widget-view+json": {
       "model_id": "047e3dc1796c43dda6e8911cf7b18c77",
       "version_major": 2,
       "version_minor": 0
      },
      "text/plain": [
       "Getting ROI info:   0%|          | 0/2 [00:00<?, ?it/s]"
      ]
     },
     "metadata": {},
     "output_type": "display_data"
    },
    {
     "data": {
      "application/vnd.jupyter.widget-view+json": {
       "model_id": "fe284a174ca0461e835b7f28e5ede9e7",
       "version_major": 2,
       "version_minor": 0
      },
      "text/plain": [
       "Getting ROI info:   0%|          | 0/2 [00:00<?, ?it/s]"
      ]
     },
     "metadata": {},
     "output_type": "display_data"
    },
    {
     "data": {
      "application/vnd.jupyter.widget-view+json": {
       "model_id": "968ed343a73f4c8c8a327b6d508b8d29",
       "version_major": 2,
       "version_minor": 0
      },
      "text/plain": [
       "Getting ROI info:   0%|          | 0/2 [00:00<?, ?it/s]"
      ]
     },
     "metadata": {},
     "output_type": "display_data"
    },
    {
     "data": {
      "application/vnd.jupyter.widget-view+json": {
       "model_id": "40bbb108b1aa4be3a3d734c793d975e5",
       "version_major": 2,
       "version_minor": 0
      },
      "text/plain": [
       "Getting ROI info:   0%|          | 0/2 [00:00<?, ?it/s]"
      ]
     },
     "metadata": {},
     "output_type": "display_data"
    },
    {
     "data": {
      "application/vnd.jupyter.widget-view+json": {
       "model_id": "529db2c753114f8b94e4118de9c85376",
       "version_major": 2,
       "version_minor": 0
      },
      "text/plain": [
       "Getting ROI info:   0%|          | 0/2 [00:00<?, ?it/s]"
      ]
     },
     "metadata": {},
     "output_type": "display_data"
    },
    {
     "data": {
      "application/vnd.jupyter.widget-view+json": {
       "model_id": "f7ad78f9f28b4dbebcb477f373601cf6",
       "version_major": 2,
       "version_minor": 0
      },
      "text/plain": [
       "Getting ROI info:   0%|          | 0/2 [00:00<?, ?it/s]"
      ]
     },
     "metadata": {},
     "output_type": "display_data"
    },
    {
     "data": {
      "application/vnd.jupyter.widget-view+json": {
       "model_id": "41f0b8bb6e78490e971278ed14889806",
       "version_major": 2,
       "version_minor": 0
      },
      "text/plain": [
       "Getting ROI info:   0%|          | 0/2 [00:00<?, ?it/s]"
      ]
     },
     "metadata": {},
     "output_type": "display_data"
    },
    {
     "data": {
      "application/vnd.jupyter.widget-view+json": {
       "model_id": "a5dc1a9bcda8473483ffe6138d279d66",
       "version_major": 2,
       "version_minor": 0
      },
      "text/plain": [
       "Getting ROI info:   0%|          | 0/2 [00:00<?, ?it/s]"
      ]
     },
     "metadata": {},
     "output_type": "display_data"
    },
    {
     "data": {
      "application/vnd.jupyter.widget-view+json": {
       "model_id": "913b6a986c5d43bfb34e6ffc53e763f4",
       "version_major": 2,
       "version_minor": 0
      },
      "text/plain": [
       "Getting ROI info:   0%|          | 0/2 [00:00<?, ?it/s]"
      ]
     },
     "metadata": {},
     "output_type": "display_data"
    },
    {
     "data": {
      "application/vnd.jupyter.widget-view+json": {
       "model_id": "35aa7ff1bda541829415eaa3823a81fa",
       "version_major": 2,
       "version_minor": 0
      },
      "text/plain": [
       "Getting ROI info:   0%|          | 0/2 [00:00<?, ?it/s]"
      ]
     },
     "metadata": {},
     "output_type": "display_data"
    },
    {
     "data": {
      "application/vnd.jupyter.widget-view+json": {
       "model_id": "1bd1dd7cee974dd8ad42079c4d2a9086",
       "version_major": 2,
       "version_minor": 0
      },
      "text/plain": [
       "Getting ROI info:   0%|          | 0/2 [00:00<?, ?it/s]"
      ]
     },
     "metadata": {},
     "output_type": "display_data"
    },
    {
     "data": {
      "application/vnd.jupyter.widget-view+json": {
       "model_id": "25a9989906c040099c22f0cf819bd5c2",
       "version_major": 2,
       "version_minor": 0
      },
      "text/plain": [
       "Getting ROI info:   0%|          | 0/2 [00:00<?, ?it/s]"
      ]
     },
     "metadata": {},
     "output_type": "display_data"
    },
    {
     "data": {
      "application/vnd.jupyter.widget-view+json": {
       "model_id": "4b7cc1fb34534bfca78958c2dc1b1abd",
       "version_major": 2,
       "version_minor": 0
      },
      "text/plain": [
       "Getting ROI info:   0%|          | 0/2 [00:00<?, ?it/s]"
      ]
     },
     "metadata": {},
     "output_type": "display_data"
    },
    {
     "data": {
      "application/vnd.jupyter.widget-view+json": {
       "model_id": "74ca46d94f08496ca218c1b01a91e8b0",
       "version_major": 2,
       "version_minor": 0
      },
      "text/plain": [
       "Getting ROI info:   0%|          | 0/2 [00:00<?, ?it/s]"
      ]
     },
     "metadata": {},
     "output_type": "display_data"
    },
    {
     "data": {
      "application/vnd.jupyter.widget-view+json": {
       "model_id": "96c65d754d7b4a299d41efa7671f3162",
       "version_major": 2,
       "version_minor": 0
      },
      "text/plain": [
       "Getting ROI info:   0%|          | 0/2 [00:00<?, ?it/s]"
      ]
     },
     "metadata": {},
     "output_type": "display_data"
    },
    {
     "data": {
      "application/vnd.jupyter.widget-view+json": {
       "model_id": "e39acbe52aba41329ca2c3c8ff1eb620",
       "version_major": 2,
       "version_minor": 0
      },
      "text/plain": [
       "Getting ROI info:   0%|          | 0/2 [00:00<?, ?it/s]"
      ]
     },
     "metadata": {},
     "output_type": "display_data"
    },
    {
     "data": {
      "application/vnd.jupyter.widget-view+json": {
       "model_id": "0e684fad111d4df8aa6b2f9536de10e8",
       "version_major": 2,
       "version_minor": 0
      },
      "text/plain": [
       "Getting ROI info:   0%|          | 0/2 [00:00<?, ?it/s]"
      ]
     },
     "metadata": {},
     "output_type": "display_data"
    },
    {
     "data": {
      "application/vnd.jupyter.widget-view+json": {
       "model_id": "593982b2d02e4031822c6647f6bde1a1",
       "version_major": 2,
       "version_minor": 0
      },
      "text/plain": [
       "Getting ROI info:   0%|          | 0/2 [00:00<?, ?it/s]"
      ]
     },
     "metadata": {},
     "output_type": "display_data"
    },
    {
     "data": {
      "application/vnd.jupyter.widget-view+json": {
       "model_id": "63b0aa0e9ee44952ac15d6081b747e3d",
       "version_major": 2,
       "version_minor": 0
      },
      "text/plain": [
       "Getting ROI info:   0%|          | 0/2 [00:00<?, ?it/s]"
      ]
     },
     "metadata": {},
     "output_type": "display_data"
    },
    {
     "data": {
      "application/vnd.jupyter.widget-view+json": {
       "model_id": "2d9c2549c25d4399b8c31ea945dc2639",
       "version_major": 2,
       "version_minor": 0
      },
      "text/plain": [
       "Getting ROI info:   0%|          | 0/2 [00:00<?, ?it/s]"
      ]
     },
     "metadata": {},
     "output_type": "display_data"
    },
    {
     "data": {
      "application/vnd.jupyter.widget-view+json": {
       "model_id": "b5e117679bfc4a6aac74feb8bd9e746d",
       "version_major": 2,
       "version_minor": 0
      },
      "text/plain": [
       "Getting ROI info:   0%|          | 0/2 [00:00<?, ?it/s]"
      ]
     },
     "metadata": {},
     "output_type": "display_data"
    },
    {
     "data": {
      "application/vnd.jupyter.widget-view+json": {
       "model_id": "0138d0ce4b7a4574bc459f6fd662bcc9",
       "version_major": 2,
       "version_minor": 0
      },
      "text/plain": [
       "Getting ROI info:   0%|          | 0/2 [00:00<?, ?it/s]"
      ]
     },
     "metadata": {},
     "output_type": "display_data"
    },
    {
     "data": {
      "application/vnd.jupyter.widget-view+json": {
       "model_id": "ea4df717abfb4a80b85087a071b87d7b",
       "version_major": 2,
       "version_minor": 0
      },
      "text/plain": [
       "Getting ROI info:   0%|          | 0/2 [00:00<?, ?it/s]"
      ]
     },
     "metadata": {},
     "output_type": "display_data"
    },
    {
     "data": {
      "application/vnd.jupyter.widget-view+json": {
       "model_id": "267f6a0ef7224d00ae120f61af1fc68c",
       "version_major": 2,
       "version_minor": 0
      },
      "text/plain": [
       "Getting ROI info:   0%|          | 0/2 [00:00<?, ?it/s]"
      ]
     },
     "metadata": {},
     "output_type": "display_data"
    },
    {
     "data": {
      "application/vnd.jupyter.widget-view+json": {
       "model_id": "7c4775470e2a47e489a56d2262ffa5e3",
       "version_major": 2,
       "version_minor": 0
      },
      "text/plain": [
       "Getting ROI info:   0%|          | 0/2 [00:00<?, ?it/s]"
      ]
     },
     "metadata": {},
     "output_type": "display_data"
    },
    {
     "data": {
      "application/vnd.jupyter.widget-view+json": {
       "model_id": "ee9361a5e7464056bb6e8a07ffca20de",
       "version_major": 2,
       "version_minor": 0
      },
      "text/plain": [
       "Getting ROI info:   0%|          | 0/2 [00:00<?, ?it/s]"
      ]
     },
     "metadata": {},
     "output_type": "display_data"
    },
    {
     "data": {
      "application/vnd.jupyter.widget-view+json": {
       "model_id": "969a9fd77164492fa5bb3da311fda0cd",
       "version_major": 2,
       "version_minor": 0
      },
      "text/plain": [
       "Getting ROI info:   0%|          | 0/2 [00:00<?, ?it/s]"
      ]
     },
     "metadata": {},
     "output_type": "display_data"
    },
    {
     "data": {
      "application/vnd.jupyter.widget-view+json": {
       "model_id": "651ab9ab5cea41abbeac882e158595d3",
       "version_major": 2,
       "version_minor": 0
      },
      "text/plain": [
       "Getting ROI info:   0%|          | 0/2 [00:00<?, ?it/s]"
      ]
     },
     "metadata": {},
     "output_type": "display_data"
    },
    {
     "data": {
      "application/vnd.jupyter.widget-view+json": {
       "model_id": "697b9eff60a840caac5991db3e055d97",
       "version_major": 2,
       "version_minor": 0
      },
      "text/plain": [
       "Getting ROI info:   0%|          | 0/2 [00:00<?, ?it/s]"
      ]
     },
     "metadata": {},
     "output_type": "display_data"
    },
    {
     "data": {
      "application/vnd.jupyter.widget-view+json": {
       "model_id": "cde5393fcfda41779f06bd3f3b4fb8d4",
       "version_major": 2,
       "version_minor": 0
      },
      "text/plain": [
       "Getting ROI info:   0%|          | 0/2 [00:00<?, ?it/s]"
      ]
     },
     "metadata": {},
     "output_type": "display_data"
    },
    {
     "data": {
      "application/vnd.jupyter.widget-view+json": {
       "model_id": "44f52573f6634eb3b08aa18710756b4d",
       "version_major": 2,
       "version_minor": 0
      },
      "text/plain": [
       "Getting ROI info:   0%|          | 0/2 [00:00<?, ?it/s]"
      ]
     },
     "metadata": {},
     "output_type": "display_data"
    },
    {
     "data": {
      "application/vnd.jupyter.widget-view+json": {
       "model_id": "9e5dbe0ec6704f4881ba47a178fd6ead",
       "version_major": 2,
       "version_minor": 0
      },
      "text/plain": [
       "Getting ROI info:   0%|          | 0/2 [00:00<?, ?it/s]"
      ]
     },
     "metadata": {},
     "output_type": "display_data"
    },
    {
     "data": {
      "application/vnd.jupyter.widget-view+json": {
       "model_id": "eb8f08c749684daebef2aad10c7cd556",
       "version_major": 2,
       "version_minor": 0
      },
      "text/plain": [
       "Getting ROI info:   0%|          | 0/2 [00:00<?, ?it/s]"
      ]
     },
     "metadata": {},
     "output_type": "display_data"
    },
    {
     "data": {
      "application/vnd.jupyter.widget-view+json": {
       "model_id": "472e8a67b5884bc997b57ead24ad8201",
       "version_major": 2,
       "version_minor": 0
      },
      "text/plain": [
       "Getting ROI info:   0%|          | 0/2 [00:00<?, ?it/s]"
      ]
     },
     "metadata": {},
     "output_type": "display_data"
    },
    {
     "data": {
      "application/vnd.jupyter.widget-view+json": {
       "model_id": "1cc49653d28148a7a0bba79c036030cb",
       "version_major": 2,
       "version_minor": 0
      },
      "text/plain": [
       "Getting ROI info:   0%|          | 0/2 [00:00<?, ?it/s]"
      ]
     },
     "metadata": {},
     "output_type": "display_data"
    },
    {
     "data": {
      "application/vnd.jupyter.widget-view+json": {
       "model_id": "c9d60aa4ac254ae5a027e6fd7590b487",
       "version_major": 2,
       "version_minor": 0
      },
      "text/plain": [
       "Getting ROI info:   0%|          | 0/2 [00:00<?, ?it/s]"
      ]
     },
     "metadata": {},
     "output_type": "display_data"
    },
    {
     "data": {
      "application/vnd.jupyter.widget-view+json": {
       "model_id": "6db8e19132b54c79bbe7d0a372c967a2",
       "version_major": 2,
       "version_minor": 0
      },
      "text/plain": [
       "Getting ROI info:   0%|          | 0/2 [00:00<?, ?it/s]"
      ]
     },
     "metadata": {},
     "output_type": "display_data"
    },
    {
     "data": {
      "application/vnd.jupyter.widget-view+json": {
       "model_id": "0abe458d0c884b128222e45a0924dc54",
       "version_major": 2,
       "version_minor": 0
      },
      "text/plain": [
       "Getting ROI info:   0%|          | 0/2 [00:00<?, ?it/s]"
      ]
     },
     "metadata": {},
     "output_type": "display_data"
    },
    {
     "data": {
      "application/vnd.jupyter.widget-view+json": {
       "model_id": "55c90a2c730a4cbb9fd2665d904460e8",
       "version_major": 2,
       "version_minor": 0
      },
      "text/plain": [
       "Getting ROI info:   0%|          | 0/2 [00:00<?, ?it/s]"
      ]
     },
     "metadata": {},
     "output_type": "display_data"
    },
    {
     "data": {
      "application/vnd.jupyter.widget-view+json": {
       "model_id": "416b76c232e5489cb6cb44899c2dc715",
       "version_major": 2,
       "version_minor": 0
      },
      "text/plain": [
       "Getting ROI info:   0%|          | 0/2 [00:00<?, ?it/s]"
      ]
     },
     "metadata": {},
     "output_type": "display_data"
    },
    {
     "data": {
      "application/vnd.jupyter.widget-view+json": {
       "model_id": "fcd70381869f4c10ac47333fbe61405a",
       "version_major": 2,
       "version_minor": 0
      },
      "text/plain": [
       "Getting ROI info:   0%|          | 0/2 [00:00<?, ?it/s]"
      ]
     },
     "metadata": {},
     "output_type": "display_data"
    },
    {
     "data": {
      "application/vnd.jupyter.widget-view+json": {
       "model_id": "9848dc7b4cf2492b92c6ee0d5af57a8c",
       "version_major": 2,
       "version_minor": 0
      },
      "text/plain": [
       "Getting ROI info:   0%|          | 0/2 [00:00<?, ?it/s]"
      ]
     },
     "metadata": {},
     "output_type": "display_data"
    },
    {
     "data": {
      "application/vnd.jupyter.widget-view+json": {
       "model_id": "85eb18e20d5d4fc1ad7572cb60899a78",
       "version_major": 2,
       "version_minor": 0
      },
      "text/plain": [
       "Getting ROI info:   0%|          | 0/2 [00:00<?, ?it/s]"
      ]
     },
     "metadata": {},
     "output_type": "display_data"
    },
    {
     "data": {
      "application/vnd.jupyter.widget-view+json": {
       "model_id": "c78636e206a140e8a7d6279c4769b94c",
       "version_major": 2,
       "version_minor": 0
      },
      "text/plain": [
       "Getting ROI info:   0%|          | 0/2 [00:00<?, ?it/s]"
      ]
     },
     "metadata": {},
     "output_type": "display_data"
    },
    {
     "data": {
      "application/vnd.jupyter.widget-view+json": {
       "model_id": "ba3b1b1b3c914b7c9bb5a4c209237541",
       "version_major": 2,
       "version_minor": 0
      },
      "text/plain": [
       "Getting ROI info:   0%|          | 0/2 [00:00<?, ?it/s]"
      ]
     },
     "metadata": {},
     "output_type": "display_data"
    },
    {
     "data": {
      "application/vnd.jupyter.widget-view+json": {
       "model_id": "c1c96e6b80a6459499a01067947858ff",
       "version_major": 2,
       "version_minor": 0
      },
      "text/plain": [
       "Getting ROI info:   0%|          | 0/2 [00:00<?, ?it/s]"
      ]
     },
     "metadata": {},
     "output_type": "display_data"
    },
    {
     "data": {
      "application/vnd.jupyter.widget-view+json": {
       "model_id": "b7343440b27f41a48c00ccf05dbf50f6",
       "version_major": 2,
       "version_minor": 0
      },
      "text/plain": [
       "Getting ROI info:   0%|          | 0/2 [00:00<?, ?it/s]"
      ]
     },
     "metadata": {},
     "output_type": "display_data"
    },
    {
     "data": {
      "application/vnd.jupyter.widget-view+json": {
       "model_id": "00b087d0f8c04a2faecb909b3ba4a6ef",
       "version_major": 2,
       "version_minor": 0
      },
      "text/plain": [
       "Getting ROI info:   0%|          | 0/2 [00:00<?, ?it/s]"
      ]
     },
     "metadata": {},
     "output_type": "display_data"
    },
    {
     "data": {
      "application/vnd.jupyter.widget-view+json": {
       "model_id": "e51e34ee22e94d0db54b40be30fb6efe",
       "version_major": 2,
       "version_minor": 0
      },
      "text/plain": [
       "Getting ROI info:   0%|          | 0/2 [00:00<?, ?it/s]"
      ]
     },
     "metadata": {},
     "output_type": "display_data"
    },
    {
     "data": {
      "application/vnd.jupyter.widget-view+json": {
       "model_id": "5698a8593fe44607b6942b0d8b795b9f",
       "version_major": 2,
       "version_minor": 0
      },
      "text/plain": [
       "Getting ROI info:   0%|          | 0/2 [00:00<?, ?it/s]"
      ]
     },
     "metadata": {},
     "output_type": "display_data"
    },
    {
     "data": {
      "application/vnd.jupyter.widget-view+json": {
       "model_id": "2fabfe6ca87c4ebba244fa08ff4c3f24",
       "version_major": 2,
       "version_minor": 0
      },
      "text/plain": [
       "Getting ROI info:   0%|          | 0/2 [00:00<?, ?it/s]"
      ]
     },
     "metadata": {},
     "output_type": "display_data"
    },
    {
     "data": {
      "application/vnd.jupyter.widget-view+json": {
       "model_id": "7bbc779d8e1a42a1adc025243614ccc9",
       "version_major": 2,
       "version_minor": 0
      },
      "text/plain": [
       "Getting ROI info:   0%|          | 0/2 [00:00<?, ?it/s]"
      ]
     },
     "metadata": {},
     "output_type": "display_data"
    },
    {
     "data": {
      "application/vnd.jupyter.widget-view+json": {
       "model_id": "215fb7f047494987a6108ce0e8e4c9a1",
       "version_major": 2,
       "version_minor": 0
      },
      "text/plain": [
       "Getting ROI info:   0%|          | 0/2 [00:00<?, ?it/s]"
      ]
     },
     "metadata": {},
     "output_type": "display_data"
    },
    {
     "data": {
      "application/vnd.jupyter.widget-view+json": {
       "model_id": "af18201e288645c8aca9209741d0d279",
       "version_major": 2,
       "version_minor": 0
      },
      "text/plain": [
       "Getting ROI info:   0%|          | 0/2 [00:00<?, ?it/s]"
      ]
     },
     "metadata": {},
     "output_type": "display_data"
    },
    {
     "data": {
      "application/vnd.jupyter.widget-view+json": {
       "model_id": "3a37d82c5fb64bd3bdf44c3955babf20",
       "version_major": 2,
       "version_minor": 0
      },
      "text/plain": [
       "Getting ROI info:   0%|          | 0/2 [00:00<?, ?it/s]"
      ]
     },
     "metadata": {},
     "output_type": "display_data"
    },
    {
     "data": {
      "application/vnd.jupyter.widget-view+json": {
       "model_id": "7f95feb481e84cc587b39aceb87c2a61",
       "version_major": 2,
       "version_minor": 0
      },
      "text/plain": [
       "Getting ROI info:   0%|          | 0/2 [00:00<?, ?it/s]"
      ]
     },
     "metadata": {},
     "output_type": "display_data"
    },
    {
     "data": {
      "application/vnd.jupyter.widget-view+json": {
       "model_id": "5d40ffd05f7143ee964b7fabd18652c2",
       "version_major": 2,
       "version_minor": 0
      },
      "text/plain": [
       "Getting ROI info:   0%|          | 0/2 [00:00<?, ?it/s]"
      ]
     },
     "metadata": {},
     "output_type": "display_data"
    },
    {
     "data": {
      "application/vnd.jupyter.widget-view+json": {
       "model_id": "832ec1bed8b545c2ac6c456ec7269182",
       "version_major": 2,
       "version_minor": 0
      },
      "text/plain": [
       "Getting ROI info:   0%|          | 0/2 [00:00<?, ?it/s]"
      ]
     },
     "metadata": {},
     "output_type": "display_data"
    },
    {
     "data": {
      "application/vnd.jupyter.widget-view+json": {
       "model_id": "f6eac84728cf4d42b0f8be4e87bbf39b",
       "version_major": 2,
       "version_minor": 0
      },
      "text/plain": [
       "Getting ROI info:   0%|          | 0/2 [00:00<?, ?it/s]"
      ]
     },
     "metadata": {},
     "output_type": "display_data"
    },
    {
     "data": {
      "application/vnd.jupyter.widget-view+json": {
       "model_id": "f4d38aab8b9c445784eb1212adda629c",
       "version_major": 2,
       "version_minor": 0
      },
      "text/plain": [
       "Getting ROI info:   0%|          | 0/2 [00:00<?, ?it/s]"
      ]
     },
     "metadata": {},
     "output_type": "display_data"
    },
    {
     "data": {
      "application/vnd.jupyter.widget-view+json": {
       "model_id": "5b367007da794ac4a8e7a4c2296cfd39",
       "version_major": 2,
       "version_minor": 0
      },
      "text/plain": [
       "Getting ROI info:   0%|          | 0/2 [00:00<?, ?it/s]"
      ]
     },
     "metadata": {},
     "output_type": "display_data"
    },
    {
     "data": {
      "application/vnd.jupyter.widget-view+json": {
       "model_id": "9a52ef73e1a34101a2416ccc46b1d2b3",
       "version_major": 2,
       "version_minor": 0
      },
      "text/plain": [
       "Getting ROI info:   0%|          | 0/2 [00:00<?, ?it/s]"
      ]
     },
     "metadata": {},
     "output_type": "display_data"
    },
    {
     "data": {
      "application/vnd.jupyter.widget-view+json": {
       "model_id": "7fff130365e94d00957c043f9f6d465f",
       "version_major": 2,
       "version_minor": 0
      },
      "text/plain": [
       "Getting ROI info:   0%|          | 0/2 [00:00<?, ?it/s]"
      ]
     },
     "metadata": {},
     "output_type": "display_data"
    },
    {
     "data": {
      "application/vnd.jupyter.widget-view+json": {
       "model_id": "83de321a0ecf477182979a9fcb14919e",
       "version_major": 2,
       "version_minor": 0
      },
      "text/plain": [
       "Getting ROI info:   0%|          | 0/2 [00:00<?, ?it/s]"
      ]
     },
     "metadata": {},
     "output_type": "display_data"
    },
    {
     "data": {
      "application/vnd.jupyter.widget-view+json": {
       "model_id": "c2437e03e31643dcbd9dcc447e0aa4a1",
       "version_major": 2,
       "version_minor": 0
      },
      "text/plain": [
       "Getting ROI info:   0%|          | 0/2 [00:00<?, ?it/s]"
      ]
     },
     "metadata": {},
     "output_type": "display_data"
    },
    {
     "data": {
      "application/vnd.jupyter.widget-view+json": {
       "model_id": "5f45950576804df8ac713e1d1f095403",
       "version_major": 2,
       "version_minor": 0
      },
      "text/plain": [
       "Getting ROI info:   0%|          | 0/2 [00:00<?, ?it/s]"
      ]
     },
     "metadata": {},
     "output_type": "display_data"
    },
    {
     "data": {
      "application/vnd.jupyter.widget-view+json": {
       "model_id": "bd7f62e743be49768abf381134441b5c",
       "version_major": 2,
       "version_minor": 0
      },
      "text/plain": [
       "Getting ROI info:   0%|          | 0/2 [00:00<?, ?it/s]"
      ]
     },
     "metadata": {},
     "output_type": "display_data"
    },
    {
     "data": {
      "application/vnd.jupyter.widget-view+json": {
       "model_id": "4347edab5bc04aa9b3108145e3033670",
       "version_major": 2,
       "version_minor": 0
      },
      "text/plain": [
       "Getting ROI info:   0%|          | 0/2 [00:00<?, ?it/s]"
      ]
     },
     "metadata": {},
     "output_type": "display_data"
    },
    {
     "data": {
      "application/vnd.jupyter.widget-view+json": {
       "model_id": "09bfc2102af14da28e813982755512b3",
       "version_major": 2,
       "version_minor": 0
      },
      "text/plain": [
       "Getting ROI info:   0%|          | 0/2 [00:00<?, ?it/s]"
      ]
     },
     "metadata": {},
     "output_type": "display_data"
    },
    {
     "data": {
      "application/vnd.jupyter.widget-view+json": {
       "model_id": "88118a9542084bc7be2963ad7fc0b7b0",
       "version_major": 2,
       "version_minor": 0
      },
      "text/plain": [
       "Getting ROI info:   0%|          | 0/2 [00:00<?, ?it/s]"
      ]
     },
     "metadata": {},
     "output_type": "display_data"
    },
    {
     "data": {
      "application/vnd.jupyter.widget-view+json": {
       "model_id": "9a59b6de6f0c4246b10b09ee8a3dd157",
       "version_major": 2,
       "version_minor": 0
      },
      "text/plain": [
       "Getting ROI info:   0%|          | 0/2 [00:00<?, ?it/s]"
      ]
     },
     "metadata": {},
     "output_type": "display_data"
    },
    {
     "data": {
      "application/vnd.jupyter.widget-view+json": {
       "model_id": "772787658e674ad4adcc622d288c4ef8",
       "version_major": 2,
       "version_minor": 0
      },
      "text/plain": [
       "Getting ROI info:   0%|          | 0/2 [00:00<?, ?it/s]"
      ]
     },
     "metadata": {},
     "output_type": "display_data"
    },
    {
     "data": {
      "application/vnd.jupyter.widget-view+json": {
       "model_id": "cfa3b162e51d4c368e8ed3625a3c12b0",
       "version_major": 2,
       "version_minor": 0
      },
      "text/plain": [
       "Getting ROI info:   0%|          | 0/2 [00:00<?, ?it/s]"
      ]
     },
     "metadata": {},
     "output_type": "display_data"
    },
    {
     "data": {
      "application/vnd.jupyter.widget-view+json": {
       "model_id": "a19861ffc8a246ad8f4a6007de4efca5",
       "version_major": 2,
       "version_minor": 0
      },
      "text/plain": [
       "Getting ROI info:   0%|          | 0/2 [00:00<?, ?it/s]"
      ]
     },
     "metadata": {},
     "output_type": "display_data"
    },
    {
     "data": {
      "application/vnd.jupyter.widget-view+json": {
       "model_id": "3c164f8b7f934c0986139ce2a76f0622",
       "version_major": 2,
       "version_minor": 0
      },
      "text/plain": [
       "Getting ROI info:   0%|          | 0/2 [00:00<?, ?it/s]"
      ]
     },
     "metadata": {},
     "output_type": "display_data"
    },
    {
     "data": {
      "application/vnd.jupyter.widget-view+json": {
       "model_id": "9f06854e122740749b915334bfd99a58",
       "version_major": 2,
       "version_minor": 0
      },
      "text/plain": [
       "Getting ROI info:   0%|          | 0/2 [00:00<?, ?it/s]"
      ]
     },
     "metadata": {},
     "output_type": "display_data"
    },
    {
     "data": {
      "application/vnd.jupyter.widget-view+json": {
       "model_id": "bc08d87e651444078dfea65b2f7380a7",
       "version_major": 2,
       "version_minor": 0
      },
      "text/plain": [
       "Getting ROI info:   0%|          | 0/2 [00:00<?, ?it/s]"
      ]
     },
     "metadata": {},
     "output_type": "display_data"
    },
    {
     "data": {
      "application/vnd.jupyter.widget-view+json": {
       "model_id": "88a5c0786eb24bfc8b8845169e836ba6",
       "version_major": 2,
       "version_minor": 0
      },
      "text/plain": [
       "Getting ROI info:   0%|          | 0/2 [00:00<?, ?it/s]"
      ]
     },
     "metadata": {},
     "output_type": "display_data"
    },
    {
     "data": {
      "application/vnd.jupyter.widget-view+json": {
       "model_id": "edc263c6b412453aa7e7586b2eb75ad4",
       "version_major": 2,
       "version_minor": 0
      },
      "text/plain": [
       "Getting ROI info:   0%|          | 0/2 [00:00<?, ?it/s]"
      ]
     },
     "metadata": {},
     "output_type": "display_data"
    },
    {
     "data": {
      "application/vnd.jupyter.widget-view+json": {
       "model_id": "ee3b4e38c43d4381a8c8ca7a1725a2fd",
       "version_major": 2,
       "version_minor": 0
      },
      "text/plain": [
       "Getting ROI info:   0%|          | 0/2 [00:00<?, ?it/s]"
      ]
     },
     "metadata": {},
     "output_type": "display_data"
    },
    {
     "data": {
      "application/vnd.jupyter.widget-view+json": {
       "model_id": "233f20d520514cc7a152409beea658e4",
       "version_major": 2,
       "version_minor": 0
      },
      "text/plain": [
       "Getting ROI info:   0%|          | 0/2 [00:00<?, ?it/s]"
      ]
     },
     "metadata": {},
     "output_type": "display_data"
    },
    {
     "data": {
      "application/vnd.jupyter.widget-view+json": {
       "model_id": "2dfe9f32f8ff4585a4d0add581c8dc8a",
       "version_major": 2,
       "version_minor": 0
      },
      "text/plain": [
       "Getting ROI info:   0%|          | 0/2 [00:00<?, ?it/s]"
      ]
     },
     "metadata": {},
     "output_type": "display_data"
    },
    {
     "data": {
      "application/vnd.jupyter.widget-view+json": {
       "model_id": "8583d2cc915a4ab7a5fd7eb0d544995a",
       "version_major": 2,
       "version_minor": 0
      },
      "text/plain": [
       "Getting ROI info:   0%|          | 0/2 [00:00<?, ?it/s]"
      ]
     },
     "metadata": {},
     "output_type": "display_data"
    },
    {
     "data": {
      "application/vnd.jupyter.widget-view+json": {
       "model_id": "3ce8b1c83f4c48d38ca520adcf786483",
       "version_major": 2,
       "version_minor": 0
      },
      "text/plain": [
       "Getting ROI info:   0%|          | 0/2 [00:00<?, ?it/s]"
      ]
     },
     "metadata": {},
     "output_type": "display_data"
    },
    {
     "data": {
      "application/vnd.jupyter.widget-view+json": {
       "model_id": "b312cc88fdca4f4abb1846355d3f02f1",
       "version_major": 2,
       "version_minor": 0
      },
      "text/plain": [
       "Getting ROI info:   0%|          | 0/2 [00:00<?, ?it/s]"
      ]
     },
     "metadata": {},
     "output_type": "display_data"
    },
    {
     "data": {
      "application/vnd.jupyter.widget-view+json": {
       "model_id": "bfbda9398d9545d799eb5de0c3844f1b",
       "version_major": 2,
       "version_minor": 0
      },
      "text/plain": [
       "Getting ROI info:   0%|          | 0/2 [00:00<?, ?it/s]"
      ]
     },
     "metadata": {},
     "output_type": "display_data"
    },
    {
     "data": {
      "application/vnd.jupyter.widget-view+json": {
       "model_id": "383a496920c5492ca55abf6296be93b2",
       "version_major": 2,
       "version_minor": 0
      },
      "text/plain": [
       "Getting ROI info:   0%|          | 0/2 [00:00<?, ?it/s]"
      ]
     },
     "metadata": {},
     "output_type": "display_data"
    },
    {
     "data": {
      "application/vnd.jupyter.widget-view+json": {
       "model_id": "a9a843719aa0420bafed4dbeaf86627f",
       "version_major": 2,
       "version_minor": 0
      },
      "text/plain": [
       "Getting ROI info:   0%|          | 0/2 [00:00<?, ?it/s]"
      ]
     },
     "metadata": {},
     "output_type": "display_data"
    },
    {
     "data": {
      "application/vnd.jupyter.widget-view+json": {
       "model_id": "61eb395c31b2425799ee29f511586d55",
       "version_major": 2,
       "version_minor": 0
      },
      "text/plain": [
       "Getting ROI info:   0%|          | 0/2 [00:00<?, ?it/s]"
      ]
     },
     "metadata": {},
     "output_type": "display_data"
    },
    {
     "data": {
      "application/vnd.jupyter.widget-view+json": {
       "model_id": "3eaccbcc8a1e4716843226a0020d5ae3",
       "version_major": 2,
       "version_minor": 0
      },
      "text/plain": [
       "Getting ROI info:   0%|          | 0/2 [00:00<?, ?it/s]"
      ]
     },
     "metadata": {},
     "output_type": "display_data"
    },
    {
     "data": {
      "application/vnd.jupyter.widget-view+json": {
       "model_id": "781ec650cfaf4839a29808fb6a73f63b",
       "version_major": 2,
       "version_minor": 0
      },
      "text/plain": [
       "Getting ROI info:   0%|          | 0/2 [00:00<?, ?it/s]"
      ]
     },
     "metadata": {},
     "output_type": "display_data"
    },
    {
     "data": {
      "application/vnd.jupyter.widget-view+json": {
       "model_id": "a73532392b4540efbf047e90c5fcbb40",
       "version_major": 2,
       "version_minor": 0
      },
      "text/plain": [
       "Getting ROI info:   0%|          | 0/2 [00:00<?, ?it/s]"
      ]
     },
     "metadata": {},
     "output_type": "display_data"
    },
    {
     "data": {
      "application/vnd.jupyter.widget-view+json": {
       "model_id": "4aeaaff5a5c54c6d9a916167a8ba5574",
       "version_major": 2,
       "version_minor": 0
      },
      "text/plain": [
       "Getting ROI info:   0%|          | 0/2 [00:00<?, ?it/s]"
      ]
     },
     "metadata": {},
     "output_type": "display_data"
    },
    {
     "data": {
      "application/vnd.jupyter.widget-view+json": {
       "model_id": "d2cbf6b7e93246618ec72ce760a0dd57",
       "version_major": 2,
       "version_minor": 0
      },
      "text/plain": [
       "Getting ROI info:   0%|          | 0/2 [00:00<?, ?it/s]"
      ]
     },
     "metadata": {},
     "output_type": "display_data"
    },
    {
     "data": {
      "application/vnd.jupyter.widget-view+json": {
       "model_id": "af2a9e1c839c4ab5ad16ff79e3314489",
       "version_major": 2,
       "version_minor": 0
      },
      "text/plain": [
       "Getting ROI info:   0%|          | 0/2 [00:00<?, ?it/s]"
      ]
     },
     "metadata": {},
     "output_type": "display_data"
    },
    {
     "data": {
      "application/vnd.jupyter.widget-view+json": {
       "model_id": "8485968a00744d449b4ef7fdcc57f245",
       "version_major": 2,
       "version_minor": 0
      },
      "text/plain": [
       "Getting ROI info:   0%|          | 0/2 [00:00<?, ?it/s]"
      ]
     },
     "metadata": {},
     "output_type": "display_data"
    },
    {
     "data": {
      "application/vnd.jupyter.widget-view+json": {
       "model_id": "eca7b5eef11e4eb7ac89d5f32c994be0",
       "version_major": 2,
       "version_minor": 0
      },
      "text/plain": [
       "Getting ROI info:   0%|          | 0/2 [00:00<?, ?it/s]"
      ]
     },
     "metadata": {},
     "output_type": "display_data"
    },
    {
     "data": {
      "application/vnd.jupyter.widget-view+json": {
       "model_id": "4383320bd3b34fa2a989b3ccc81767b5",
       "version_major": 2,
       "version_minor": 0
      },
      "text/plain": [
       "Getting ROI info:   0%|          | 0/2 [00:00<?, ?it/s]"
      ]
     },
     "metadata": {},
     "output_type": "display_data"
    },
    {
     "data": {
      "application/vnd.jupyter.widget-view+json": {
       "model_id": "2e8e6b7da7584999a51f720737108040",
       "version_major": 2,
       "version_minor": 0
      },
      "text/plain": [
       "Getting ROI info:   0%|          | 0/2 [00:00<?, ?it/s]"
      ]
     },
     "metadata": {},
     "output_type": "display_data"
    },
    {
     "data": {
      "application/vnd.jupyter.widget-view+json": {
       "model_id": "89be9d01b5e7403681c737dfb4651bec",
       "version_major": 2,
       "version_minor": 0
      },
      "text/plain": [
       "Getting ROI info:   0%|          | 0/2 [00:00<?, ?it/s]"
      ]
     },
     "metadata": {},
     "output_type": "display_data"
    },
    {
     "data": {
      "application/vnd.jupyter.widget-view+json": {
       "model_id": "82bc584cbad74d2f87e02727b71ca29b",
       "version_major": 2,
       "version_minor": 0
      },
      "text/plain": [
       "Getting ROI info:   0%|          | 0/2 [00:00<?, ?it/s]"
      ]
     },
     "metadata": {},
     "output_type": "display_data"
    },
    {
     "data": {
      "application/vnd.jupyter.widget-view+json": {
       "model_id": "425803e68492409eaba41b8da8b30303",
       "version_major": 2,
       "version_minor": 0
      },
      "text/plain": [
       "Getting ROI info:   0%|          | 0/2 [00:00<?, ?it/s]"
      ]
     },
     "metadata": {},
     "output_type": "display_data"
    },
    {
     "data": {
      "application/vnd.jupyter.widget-view+json": {
       "model_id": "772e72c80d8a43da8987445a5c4e49ba",
       "version_major": 2,
       "version_minor": 0
      },
      "text/plain": [
       "Getting ROI info:   0%|          | 0/2 [00:00<?, ?it/s]"
      ]
     },
     "metadata": {},
     "output_type": "display_data"
    },
    {
     "data": {
      "application/vnd.jupyter.widget-view+json": {
       "model_id": "df09bfa0f86042e5a238185b40c671e7",
       "version_major": 2,
       "version_minor": 0
      },
      "text/plain": [
       "Getting ROI info:   0%|          | 0/2 [00:00<?, ?it/s]"
      ]
     },
     "metadata": {},
     "output_type": "display_data"
    },
    {
     "data": {
      "application/vnd.jupyter.widget-view+json": {
       "model_id": "0bd830c316764540a803b45908817b80",
       "version_major": 2,
       "version_minor": 0
      },
      "text/plain": [
       "Getting ROI info:   0%|          | 0/2 [00:00<?, ?it/s]"
      ]
     },
     "metadata": {},
     "output_type": "display_data"
    },
    {
     "data": {
      "application/vnd.jupyter.widget-view+json": {
       "model_id": "b448592d9808465a94b4224be45013fa",
       "version_major": 2,
       "version_minor": 0
      },
      "text/plain": [
       "Getting ROI info:   0%|          | 0/2 [00:00<?, ?it/s]"
      ]
     },
     "metadata": {},
     "output_type": "display_data"
    },
    {
     "data": {
      "application/vnd.jupyter.widget-view+json": {
       "model_id": "7b1eb78d31294dc5b754bab621062a99",
       "version_major": 2,
       "version_minor": 0
      },
      "text/plain": [
       "Getting ROI info:   0%|          | 0/2 [00:00<?, ?it/s]"
      ]
     },
     "metadata": {},
     "output_type": "display_data"
    },
    {
     "data": {
      "application/vnd.jupyter.widget-view+json": {
       "model_id": "408314188f434745bdbddb2db86990f0",
       "version_major": 2,
       "version_minor": 0
      },
      "text/plain": [
       "Getting ROI info:   0%|          | 0/2 [00:00<?, ?it/s]"
      ]
     },
     "metadata": {},
     "output_type": "display_data"
    },
    {
     "data": {
      "application/vnd.jupyter.widget-view+json": {
       "model_id": "0f42d286473c453b984b17c45c96d104",
       "version_major": 2,
       "version_minor": 0
      },
      "text/plain": [
       "Getting ROI info:   0%|          | 0/2 [00:00<?, ?it/s]"
      ]
     },
     "metadata": {},
     "output_type": "display_data"
    },
    {
     "data": {
      "application/vnd.jupyter.widget-view+json": {
       "model_id": "d1a3d22bb6134924b7a3a0e54a8a3d91",
       "version_major": 2,
       "version_minor": 0
      },
      "text/plain": [
       "Getting ROI info:   0%|          | 0/2 [00:00<?, ?it/s]"
      ]
     },
     "metadata": {},
     "output_type": "display_data"
    },
    {
     "data": {
      "application/vnd.jupyter.widget-view+json": {
       "model_id": "03334f0951d3483d8c5b55812b50871b",
       "version_major": 2,
       "version_minor": 0
      },
      "text/plain": [
       "Getting ROI info:   0%|          | 0/2 [00:00<?, ?it/s]"
      ]
     },
     "metadata": {},
     "output_type": "display_data"
    },
    {
     "data": {
      "application/vnd.jupyter.widget-view+json": {
       "model_id": "88835e8f781b46d8927e8040fccde940",
       "version_major": 2,
       "version_minor": 0
      },
      "text/plain": [
       "Getting ROI info:   0%|          | 0/2 [00:00<?, ?it/s]"
      ]
     },
     "metadata": {},
     "output_type": "display_data"
    },
    {
     "data": {
      "application/vnd.jupyter.widget-view+json": {
       "model_id": "86f50113a02f40c6b6745fc1c4f219bd",
       "version_major": 2,
       "version_minor": 0
      },
      "text/plain": [
       "Getting ROI info:   0%|          | 0/2 [00:00<?, ?it/s]"
      ]
     },
     "metadata": {},
     "output_type": "display_data"
    },
    {
     "data": {
      "application/vnd.jupyter.widget-view+json": {
       "model_id": "0cf25cee840e4889ab90dea2a89cb192",
       "version_major": 2,
       "version_minor": 0
      },
      "text/plain": [
       "Getting ROI info:   0%|          | 0/2 [00:00<?, ?it/s]"
      ]
     },
     "metadata": {},
     "output_type": "display_data"
    },
    {
     "data": {
      "application/vnd.jupyter.widget-view+json": {
       "model_id": "dec88372e1f04adc88daf5937d8d151a",
       "version_major": 2,
       "version_minor": 0
      },
      "text/plain": [
       "Getting ROI info:   0%|          | 0/2 [00:00<?, ?it/s]"
      ]
     },
     "metadata": {},
     "output_type": "display_data"
    },
    {
     "data": {
      "application/vnd.jupyter.widget-view+json": {
       "model_id": "f3fcefac438c4a3782257c9a448b3154",
       "version_major": 2,
       "version_minor": 0
      },
      "text/plain": [
       "Getting ROI info:   0%|          | 0/2 [00:00<?, ?it/s]"
      ]
     },
     "metadata": {},
     "output_type": "display_data"
    },
    {
     "data": {
      "application/vnd.jupyter.widget-view+json": {
       "model_id": "75b6b920de764bf0b5db505692050307",
       "version_major": 2,
       "version_minor": 0
      },
      "text/plain": [
       "Getting ROI info:   0%|          | 0/2 [00:00<?, ?it/s]"
      ]
     },
     "metadata": {},
     "output_type": "display_data"
    },
    {
     "data": {
      "application/vnd.jupyter.widget-view+json": {
       "model_id": "d042512eacc64828a3419895abfe14b6",
       "version_major": 2,
       "version_minor": 0
      },
      "text/plain": [
       "Getting ROI info:   0%|          | 0/2 [00:00<?, ?it/s]"
      ]
     },
     "metadata": {},
     "output_type": "display_data"
    },
    {
     "data": {
      "application/vnd.jupyter.widget-view+json": {
       "model_id": "df0156ad471f4d84a3902239b14c9929",
       "version_major": 2,
       "version_minor": 0
      },
      "text/plain": [
       "Getting ROI info:   0%|          | 0/2 [00:00<?, ?it/s]"
      ]
     },
     "metadata": {},
     "output_type": "display_data"
    },
    {
     "data": {
      "application/vnd.jupyter.widget-view+json": {
       "model_id": "e479b28b0a824621a1be40a842376bd5",
       "version_major": 2,
       "version_minor": 0
      },
      "text/plain": [
       "Getting ROI info:   0%|          | 0/2 [00:00<?, ?it/s]"
      ]
     },
     "metadata": {},
     "output_type": "display_data"
    },
    {
     "data": {
      "application/vnd.jupyter.widget-view+json": {
       "model_id": "5d414263dd6c42108b9115036c10ec26",
       "version_major": 2,
       "version_minor": 0
      },
      "text/plain": [
       "Getting ROI info:   0%|          | 0/2 [00:00<?, ?it/s]"
      ]
     },
     "metadata": {},
     "output_type": "display_data"
    },
    {
     "data": {
      "application/vnd.jupyter.widget-view+json": {
       "model_id": "3d9e0374bc5345babefab10d38f0c3d1",
       "version_major": 2,
       "version_minor": 0
      },
      "text/plain": [
       "Getting ROI info:   0%|          | 0/2 [00:00<?, ?it/s]"
      ]
     },
     "metadata": {},
     "output_type": "display_data"
    },
    {
     "data": {
      "application/vnd.jupyter.widget-view+json": {
       "model_id": "cc6b4ff034934c8d8c3e3d9ea4aef00e",
       "version_major": 2,
       "version_minor": 0
      },
      "text/plain": [
       "Getting ROI info:   0%|          | 0/2 [00:00<?, ?it/s]"
      ]
     },
     "metadata": {},
     "output_type": "display_data"
    },
    {
     "data": {
      "application/vnd.jupyter.widget-view+json": {
       "model_id": "4e7eb561333041edae28f848ad906d88",
       "version_major": 2,
       "version_minor": 0
      },
      "text/plain": [
       "Getting ROI info:   0%|          | 0/2 [00:00<?, ?it/s]"
      ]
     },
     "metadata": {},
     "output_type": "display_data"
    },
    {
     "data": {
      "application/vnd.jupyter.widget-view+json": {
       "model_id": "f006e683fa6249afb295b39dc9706b00",
       "version_major": 2,
       "version_minor": 0
      },
      "text/plain": [
       "Getting ROI info:   0%|          | 0/2 [00:00<?, ?it/s]"
      ]
     },
     "metadata": {},
     "output_type": "display_data"
    },
    {
     "data": {
      "application/vnd.jupyter.widget-view+json": {
       "model_id": "895d36b9f2164e759cc8ff67d0c84bd1",
       "version_major": 2,
       "version_minor": 0
      },
      "text/plain": [
       "Getting ROI info:   0%|          | 0/2 [00:00<?, ?it/s]"
      ]
     },
     "metadata": {},
     "output_type": "display_data"
    },
    {
     "data": {
      "application/vnd.jupyter.widget-view+json": {
       "model_id": "9e95b633513343848765a474e9da41a9",
       "version_major": 2,
       "version_minor": 0
      },
      "text/plain": [
       "Getting ROI info:   0%|          | 0/2 [00:00<?, ?it/s]"
      ]
     },
     "metadata": {},
     "output_type": "display_data"
    },
    {
     "data": {
      "application/vnd.jupyter.widget-view+json": {
       "model_id": "5b821575832749bdbd0a4729891c8857",
       "version_major": 2,
       "version_minor": 0
      },
      "text/plain": [
       "Getting ROI info:   0%|          | 0/2 [00:00<?, ?it/s]"
      ]
     },
     "metadata": {},
     "output_type": "display_data"
    },
    {
     "data": {
      "application/vnd.jupyter.widget-view+json": {
       "model_id": "d9733ff406714715af34d1eab9031612",
       "version_major": 2,
       "version_minor": 0
      },
      "text/plain": [
       "Getting ROI info:   0%|          | 0/2 [00:00<?, ?it/s]"
      ]
     },
     "metadata": {},
     "output_type": "display_data"
    },
    {
     "data": {
      "application/vnd.jupyter.widget-view+json": {
       "model_id": "1a18378777c44b179c6b6ec5d19eab61",
       "version_major": 2,
       "version_minor": 0
      },
      "text/plain": [
       "Getting ROI info:   0%|          | 0/2 [00:00<?, ?it/s]"
      ]
     },
     "metadata": {},
     "output_type": "display_data"
    },
    {
     "data": {
      "application/vnd.jupyter.widget-view+json": {
       "model_id": "3af5a194e20441c4a6a5bd20ef72cde8",
       "version_major": 2,
       "version_minor": 0
      },
      "text/plain": [
       "Getting ROI info:   0%|          | 0/2 [00:00<?, ?it/s]"
      ]
     },
     "metadata": {},
     "output_type": "display_data"
    },
    {
     "data": {
      "application/vnd.jupyter.widget-view+json": {
       "model_id": "7ff9988a55414b38801f327089aeaf21",
       "version_major": 2,
       "version_minor": 0
      },
      "text/plain": [
       "Getting ROI info:   0%|          | 0/2 [00:00<?, ?it/s]"
      ]
     },
     "metadata": {},
     "output_type": "display_data"
    },
    {
     "data": {
      "application/vnd.jupyter.widget-view+json": {
       "model_id": "292fdd08e6ae4fb18be3a5fb16d83e08",
       "version_major": 2,
       "version_minor": 0
      },
      "text/plain": [
       "Getting ROI info:   0%|          | 0/2 [00:00<?, ?it/s]"
      ]
     },
     "metadata": {},
     "output_type": "display_data"
    },
    {
     "data": {
      "application/vnd.jupyter.widget-view+json": {
       "model_id": "92b39fbeae7047618fa7a0bee706ded5",
       "version_major": 2,
       "version_minor": 0
      },
      "text/plain": [
       "Getting ROI info:   0%|          | 0/2 [00:00<?, ?it/s]"
      ]
     },
     "metadata": {},
     "output_type": "display_data"
    },
    {
     "data": {
      "application/vnd.jupyter.widget-view+json": {
       "model_id": "074ed076c3604360b112caae7d1bb0d2",
       "version_major": 2,
       "version_minor": 0
      },
      "text/plain": [
       "Getting ROI info:   0%|          | 0/2 [00:00<?, ?it/s]"
      ]
     },
     "metadata": {},
     "output_type": "display_data"
    },
    {
     "data": {
      "application/vnd.jupyter.widget-view+json": {
       "model_id": "d73bbfab72744179a063904d65ad7505",
       "version_major": 2,
       "version_minor": 0
      },
      "text/plain": [
       "Getting ROI info:   0%|          | 0/2 [00:00<?, ?it/s]"
      ]
     },
     "metadata": {},
     "output_type": "display_data"
    },
    {
     "data": {
      "application/vnd.jupyter.widget-view+json": {
       "model_id": "789c139f930944a2bc2cd6a977414d2a",
       "version_major": 2,
       "version_minor": 0
      },
      "text/plain": [
       "Getting ROI info:   0%|          | 0/2 [00:00<?, ?it/s]"
      ]
     },
     "metadata": {},
     "output_type": "display_data"
    },
    {
     "data": {
      "application/vnd.jupyter.widget-view+json": {
       "model_id": "d66aba83f1324c03bbecd4f3d127eb6a",
       "version_major": 2,
       "version_minor": 0
      },
      "text/plain": [
       "Getting ROI info:   0%|          | 0/2 [00:00<?, ?it/s]"
      ]
     },
     "metadata": {},
     "output_type": "display_data"
    },
    {
     "data": {
      "application/vnd.jupyter.widget-view+json": {
       "model_id": "4f7853e7fb034c16a28f4ac6acfd6682",
       "version_major": 2,
       "version_minor": 0
      },
      "text/plain": [
       "Getting ROI info:   0%|          | 0/2 [00:00<?, ?it/s]"
      ]
     },
     "metadata": {},
     "output_type": "display_data"
    },
    {
     "data": {
      "application/vnd.jupyter.widget-view+json": {
       "model_id": "e3d165cf06d447d594b7e846cb209ac1",
       "version_major": 2,
       "version_minor": 0
      },
      "text/plain": [
       "Getting ROI info:   0%|          | 0/2 [00:00<?, ?it/s]"
      ]
     },
     "metadata": {},
     "output_type": "display_data"
    },
    {
     "data": {
      "application/vnd.jupyter.widget-view+json": {
       "model_id": "f667b48ecb4e4bf49dee3d8bfb1b5cb1",
       "version_major": 2,
       "version_minor": 0
      },
      "text/plain": [
       "Getting ROI info:   0%|          | 0/2 [00:00<?, ?it/s]"
      ]
     },
     "metadata": {},
     "output_type": "display_data"
    },
    {
     "data": {
      "application/vnd.jupyter.widget-view+json": {
       "model_id": "830f6c7987fa45d5b6834cb052fe9c7f",
       "version_major": 2,
       "version_minor": 0
      },
      "text/plain": [
       "Getting ROI info:   0%|          | 0/2 [00:00<?, ?it/s]"
      ]
     },
     "metadata": {},
     "output_type": "display_data"
    },
    {
     "data": {
      "application/vnd.jupyter.widget-view+json": {
       "model_id": "bae2a5b94c31499383e9602b027125d6",
       "version_major": 2,
       "version_minor": 0
      },
      "text/plain": [
       "Getting ROI info:   0%|          | 0/2 [00:00<?, ?it/s]"
      ]
     },
     "metadata": {},
     "output_type": "display_data"
    },
    {
     "data": {
      "application/vnd.jupyter.widget-view+json": {
       "model_id": "dbc2df0627064a829ab0e45fdd6c85f9",
       "version_major": 2,
       "version_minor": 0
      },
      "text/plain": [
       "Getting ROI info:   0%|          | 0/2 [00:00<?, ?it/s]"
      ]
     },
     "metadata": {},
     "output_type": "display_data"
    },
    {
     "data": {
      "application/vnd.jupyter.widget-view+json": {
       "model_id": "9f74609e11074355b496af973fd53212",
       "version_major": 2,
       "version_minor": 0
      },
      "text/plain": [
       "Getting ROI info:   0%|          | 0/2 [00:00<?, ?it/s]"
      ]
     },
     "metadata": {},
     "output_type": "display_data"
    },
    {
     "data": {
      "application/vnd.jupyter.widget-view+json": {
       "model_id": "b3f260bcf46648a981756699ca8a6d68",
       "version_major": 2,
       "version_minor": 0
      },
      "text/plain": [
       "Getting ROI info:   0%|          | 0/2 [00:00<?, ?it/s]"
      ]
     },
     "metadata": {},
     "output_type": "display_data"
    },
    {
     "data": {
      "application/vnd.jupyter.widget-view+json": {
       "model_id": "4a96a4cd126a457b9a92bf4b1460edf7",
       "version_major": 2,
       "version_minor": 0
      },
      "text/plain": [
       "Getting ROI info:   0%|          | 0/2 [00:00<?, ?it/s]"
      ]
     },
     "metadata": {},
     "output_type": "display_data"
    },
    {
     "data": {
      "application/vnd.jupyter.widget-view+json": {
       "model_id": "c3f8eab631484f998f3be12e3b91655c",
       "version_major": 2,
       "version_minor": 0
      },
      "text/plain": [
       "Getting ROI info:   0%|          | 0/2 [00:00<?, ?it/s]"
      ]
     },
     "metadata": {},
     "output_type": "display_data"
    },
    {
     "data": {
      "application/vnd.jupyter.widget-view+json": {
       "model_id": "0315b480f3774fea8cc6a0aacbf84251",
       "version_major": 2,
       "version_minor": 0
      },
      "text/plain": [
       "Getting ROI info:   0%|          | 0/2 [00:00<?, ?it/s]"
      ]
     },
     "metadata": {},
     "output_type": "display_data"
    },
    {
     "data": {
      "application/vnd.jupyter.widget-view+json": {
       "model_id": "596ebb5ae8524835919e8c4feeb2fa58",
       "version_major": 2,
       "version_minor": 0
      },
      "text/plain": [
       "Getting ROI info:   0%|          | 0/2 [00:00<?, ?it/s]"
      ]
     },
     "metadata": {},
     "output_type": "display_data"
    },
    {
     "data": {
      "application/vnd.jupyter.widget-view+json": {
       "model_id": "8d68195ff0b94030acba9bf6dafbe142",
       "version_major": 2,
       "version_minor": 0
      },
      "text/plain": [
       "Getting ROI info:   0%|          | 0/2 [00:00<?, ?it/s]"
      ]
     },
     "metadata": {},
     "output_type": "display_data"
    },
    {
     "data": {
      "application/vnd.jupyter.widget-view+json": {
       "model_id": "fb408025875a42bfb555886bf9646d37",
       "version_major": 2,
       "version_minor": 0
      },
      "text/plain": [
       "Getting ROI info:   0%|          | 0/2 [00:00<?, ?it/s]"
      ]
     },
     "metadata": {},
     "output_type": "display_data"
    },
    {
     "data": {
      "application/vnd.jupyter.widget-view+json": {
       "model_id": "67a5e22f58674904a25ac1981b85c454",
       "version_major": 2,
       "version_minor": 0
      },
      "text/plain": [
       "Getting ROI info:   0%|          | 0/2 [00:00<?, ?it/s]"
      ]
     },
     "metadata": {},
     "output_type": "display_data"
    },
    {
     "data": {
      "application/vnd.jupyter.widget-view+json": {
       "model_id": "d1938e55d5f045579589816906ceeeff",
       "version_major": 2,
       "version_minor": 0
      },
      "text/plain": [
       "Getting ROI info:   0%|          | 0/2 [00:00<?, ?it/s]"
      ]
     },
     "metadata": {},
     "output_type": "display_data"
    },
    {
     "data": {
      "application/vnd.jupyter.widget-view+json": {
       "model_id": "003dddf34d27402eb0fa9f8de920a8b4",
       "version_major": 2,
       "version_minor": 0
      },
      "text/plain": [
       "Getting ROI info:   0%|          | 0/2 [00:00<?, ?it/s]"
      ]
     },
     "metadata": {},
     "output_type": "display_data"
    },
    {
     "data": {
      "application/vnd.jupyter.widget-view+json": {
       "model_id": "5ef430296f9c4fdbbc85a25c147f53ba",
       "version_major": 2,
       "version_minor": 0
      },
      "text/plain": [
       "Getting ROI info:   0%|          | 0/2 [00:00<?, ?it/s]"
      ]
     },
     "metadata": {},
     "output_type": "display_data"
    },
    {
     "data": {
      "application/vnd.jupyter.widget-view+json": {
       "model_id": "d8e4fcec1af34f85956ee1722a70dff0",
       "version_major": 2,
       "version_minor": 0
      },
      "text/plain": [
       "Getting ROI info:   0%|          | 0/2 [00:00<?, ?it/s]"
      ]
     },
     "metadata": {},
     "output_type": "display_data"
    },
    {
     "data": {
      "application/vnd.jupyter.widget-view+json": {
       "model_id": "957e0d6bad35454e9d04b48a6122b473",
       "version_major": 2,
       "version_minor": 0
      },
      "text/plain": [
       "Getting ROI info:   0%|          | 0/2 [00:00<?, ?it/s]"
      ]
     },
     "metadata": {},
     "output_type": "display_data"
    },
    {
     "data": {
      "application/vnd.jupyter.widget-view+json": {
       "model_id": "2ab3d5442d2a40e9b342d304fb8d09fb",
       "version_major": 2,
       "version_minor": 0
      },
      "text/plain": [
       "Getting ROI info:   0%|          | 0/2 [00:00<?, ?it/s]"
      ]
     },
     "metadata": {},
     "output_type": "display_data"
    },
    {
     "data": {
      "application/vnd.jupyter.widget-view+json": {
       "model_id": "8e2bd66075c14d5b9462bb770ce730c3",
       "version_major": 2,
       "version_minor": 0
      },
      "text/plain": [
       "Getting ROI info:   0%|          | 0/2 [00:00<?, ?it/s]"
      ]
     },
     "metadata": {},
     "output_type": "display_data"
    },
    {
     "data": {
      "application/vnd.jupyter.widget-view+json": {
       "model_id": "703d38f267f64d0687dfc0e3238a47e1",
       "version_major": 2,
       "version_minor": 0
      },
      "text/plain": [
       "Getting ROI info:   0%|          | 0/2 [00:00<?, ?it/s]"
      ]
     },
     "metadata": {},
     "output_type": "display_data"
    },
    {
     "data": {
      "application/vnd.jupyter.widget-view+json": {
       "model_id": "e86ff6249a3c4a358972bc5915700c05",
       "version_major": 2,
       "version_minor": 0
      },
      "text/plain": [
       "Getting ROI info:   0%|          | 0/2 [00:00<?, ?it/s]"
      ]
     },
     "metadata": {},
     "output_type": "display_data"
    },
    {
     "data": {
      "application/vnd.jupyter.widget-view+json": {
       "model_id": "88e35f00656b4be8bd342ca98f457d38",
       "version_major": 2,
       "version_minor": 0
      },
      "text/plain": [
       "Getting ROI info:   0%|          | 0/2 [00:00<?, ?it/s]"
      ]
     },
     "metadata": {},
     "output_type": "display_data"
    },
    {
     "data": {
      "application/vnd.jupyter.widget-view+json": {
       "model_id": "f0429de83d0c41f48497f08f9fbb0cd8",
       "version_major": 2,
       "version_minor": 0
      },
      "text/plain": [
       "Getting ROI info:   0%|          | 0/2 [00:00<?, ?it/s]"
      ]
     },
     "metadata": {},
     "output_type": "display_data"
    },
    {
     "data": {
      "application/vnd.jupyter.widget-view+json": {
       "model_id": "7209a6b5bcc947fc9c691ae332bd5388",
       "version_major": 2,
       "version_minor": 0
      },
      "text/plain": [
       "Getting ROI info:   0%|          | 0/2 [00:00<?, ?it/s]"
      ]
     },
     "metadata": {},
     "output_type": "display_data"
    },
    {
     "data": {
      "application/vnd.jupyter.widget-view+json": {
       "model_id": "743af7893b9d45c8a568cbabf4c77b5f",
       "version_major": 2,
       "version_minor": 0
      },
      "text/plain": [
       "Getting ROI info:   0%|          | 0/2 [00:00<?, ?it/s]"
      ]
     },
     "metadata": {},
     "output_type": "display_data"
    },
    {
     "data": {
      "application/vnd.jupyter.widget-view+json": {
       "model_id": "29b3f0f9fb194f3e88103636625c9b81",
       "version_major": 2,
       "version_minor": 0
      },
      "text/plain": [
       "Getting ROI info:   0%|          | 0/2 [00:00<?, ?it/s]"
      ]
     },
     "metadata": {},
     "output_type": "display_data"
    },
    {
     "data": {
      "application/vnd.jupyter.widget-view+json": {
       "model_id": "425609ac4fbe4defa790f7c1511e7739",
       "version_major": 2,
       "version_minor": 0
      },
      "text/plain": [
       "Getting ROI info:   0%|          | 0/2 [00:00<?, ?it/s]"
      ]
     },
     "metadata": {},
     "output_type": "display_data"
    },
    {
     "data": {
      "application/vnd.jupyter.widget-view+json": {
       "model_id": "52a4246e3c394e3f955da9a331213e78",
       "version_major": 2,
       "version_minor": 0
      },
      "text/plain": [
       "Getting ROI info:   0%|          | 0/2 [00:00<?, ?it/s]"
      ]
     },
     "metadata": {},
     "output_type": "display_data"
    },
    {
     "data": {
      "application/vnd.jupyter.widget-view+json": {
       "model_id": "b971cd59577d4015ae942a8da8da6b89",
       "version_major": 2,
       "version_minor": 0
      },
      "text/plain": [
       "Getting ROI info:   0%|          | 0/2 [00:00<?, ?it/s]"
      ]
     },
     "metadata": {},
     "output_type": "display_data"
    },
    {
     "data": {
      "application/vnd.jupyter.widget-view+json": {
       "model_id": "66bdc296ddf245d29db263cdce190bb7",
       "version_major": 2,
       "version_minor": 0
      },
      "text/plain": [
       "Getting ROI info:   0%|          | 0/2 [00:00<?, ?it/s]"
      ]
     },
     "metadata": {},
     "output_type": "display_data"
    },
    {
     "data": {
      "application/vnd.jupyter.widget-view+json": {
       "model_id": "e8201e3870c946cf8838016aed4c70ed",
       "version_major": 2,
       "version_minor": 0
      },
      "text/plain": [
       "Getting ROI info:   0%|          | 0/2 [00:00<?, ?it/s]"
      ]
     },
     "metadata": {},
     "output_type": "display_data"
    },
    {
     "data": {
      "application/vnd.jupyter.widget-view+json": {
       "model_id": "2b4a0ce7859245719d3357e02c70d4ab",
       "version_major": 2,
       "version_minor": 0
      },
      "text/plain": [
       "Getting ROI info:   0%|          | 0/2 [00:00<?, ?it/s]"
      ]
     },
     "metadata": {},
     "output_type": "display_data"
    },
    {
     "data": {
      "application/vnd.jupyter.widget-view+json": {
       "model_id": "bd3c02075fae4a54bbaa022791e45c2b",
       "version_major": 2,
       "version_minor": 0
      },
      "text/plain": [
       "Getting ROI info:   0%|          | 0/2 [00:00<?, ?it/s]"
      ]
     },
     "metadata": {},
     "output_type": "display_data"
    },
    {
     "data": {
      "application/vnd.jupyter.widget-view+json": {
       "model_id": "32bee917abd4485a90ffb69e7f886701",
       "version_major": 2,
       "version_minor": 0
      },
      "text/plain": [
       "Getting ROI info:   0%|          | 0/2 [00:00<?, ?it/s]"
      ]
     },
     "metadata": {},
     "output_type": "display_data"
    },
    {
     "data": {
      "application/vnd.jupyter.widget-view+json": {
       "model_id": "2a71e91fe37543fca6153c2d11247431",
       "version_major": 2,
       "version_minor": 0
      },
      "text/plain": [
       "Getting ROI info:   0%|          | 0/2 [00:00<?, ?it/s]"
      ]
     },
     "metadata": {},
     "output_type": "display_data"
    },
    {
     "data": {
      "application/vnd.jupyter.widget-view+json": {
       "model_id": "237a0f29eb2d4bd19833f949e019a10d",
       "version_major": 2,
       "version_minor": 0
      },
      "text/plain": [
       "Getting ROI info:   0%|          | 0/2 [00:00<?, ?it/s]"
      ]
     },
     "metadata": {},
     "output_type": "display_data"
    },
    {
     "data": {
      "application/vnd.jupyter.widget-view+json": {
       "model_id": "767a2f2848d3417c9753643314645804",
       "version_major": 2,
       "version_minor": 0
      },
      "text/plain": [
       "Getting ROI info:   0%|          | 0/2 [00:00<?, ?it/s]"
      ]
     },
     "metadata": {},
     "output_type": "display_data"
    },
    {
     "data": {
      "application/vnd.jupyter.widget-view+json": {
       "model_id": "1b59a147dc6f43e8acf504fe0961ccc6",
       "version_major": 2,
       "version_minor": 0
      },
      "text/plain": [
       "Getting ROI info:   0%|          | 0/2 [00:00<?, ?it/s]"
      ]
     },
     "metadata": {},
     "output_type": "display_data"
    },
    {
     "data": {
      "application/vnd.jupyter.widget-view+json": {
       "model_id": "2f8aa35a67764cd5b09bac97c87cb4dd",
       "version_major": 2,
       "version_minor": 0
      },
      "text/plain": [
       "Getting ROI info:   0%|          | 0/2 [00:00<?, ?it/s]"
      ]
     },
     "metadata": {},
     "output_type": "display_data"
    },
    {
     "data": {
      "application/vnd.jupyter.widget-view+json": {
       "model_id": "3ed322b0dfae4caa91c3775e2f47e248",
       "version_major": 2,
       "version_minor": 0
      },
      "text/plain": [
       "Getting ROI info:   0%|          | 0/2 [00:00<?, ?it/s]"
      ]
     },
     "metadata": {},
     "output_type": "display_data"
    },
    {
     "data": {
      "application/vnd.jupyter.widget-view+json": {
       "model_id": "dbf708814336401a92746d387a8e24e4",
       "version_major": 2,
       "version_minor": 0
      },
      "text/plain": [
       "Getting ROI info:   0%|          | 0/2 [00:00<?, ?it/s]"
      ]
     },
     "metadata": {},
     "output_type": "display_data"
    },
    {
     "data": {
      "application/vnd.jupyter.widget-view+json": {
       "model_id": "fc8c7e28b08a4d949d88cd53269aa6f8",
       "version_major": 2,
       "version_minor": 0
      },
      "text/plain": [
       "Getting ROI info:   0%|          | 0/2 [00:00<?, ?it/s]"
      ]
     },
     "metadata": {},
     "output_type": "display_data"
    },
    {
     "data": {
      "application/vnd.jupyter.widget-view+json": {
       "model_id": "8143f19a5de74f39ad57c817d4b6bb71",
       "version_major": 2,
       "version_minor": 0
      },
      "text/plain": [
       "Getting ROI info:   0%|          | 0/2 [00:00<?, ?it/s]"
      ]
     },
     "metadata": {},
     "output_type": "display_data"
    },
    {
     "data": {
      "application/vnd.jupyter.widget-view+json": {
       "model_id": "18ac3cf652c34dea8a71cf32539c41f4",
       "version_major": 2,
       "version_minor": 0
      },
      "text/plain": [
       "Getting ROI info:   0%|          | 0/2 [00:00<?, ?it/s]"
      ]
     },
     "metadata": {},
     "output_type": "display_data"
    },
    {
     "data": {
      "application/vnd.jupyter.widget-view+json": {
       "model_id": "b83ed0189a7d4c30b784cae295085148",
       "version_major": 2,
       "version_minor": 0
      },
      "text/plain": [
       "Getting ROI info:   0%|          | 0/2 [00:00<?, ?it/s]"
      ]
     },
     "metadata": {},
     "output_type": "display_data"
    },
    {
     "data": {
      "application/vnd.jupyter.widget-view+json": {
       "model_id": "d9a3e3c2bbad45a0b5517c6d66d35b7e",
       "version_major": 2,
       "version_minor": 0
      },
      "text/plain": [
       "Getting ROI info:   0%|          | 0/2 [00:00<?, ?it/s]"
      ]
     },
     "metadata": {},
     "output_type": "display_data"
    },
    {
     "data": {
      "application/vnd.jupyter.widget-view+json": {
       "model_id": "167eda8694bb4766ab23faee77a6cb6c",
       "version_major": 2,
       "version_minor": 0
      },
      "text/plain": [
       "Getting ROI info:   0%|          | 0/2 [00:00<?, ?it/s]"
      ]
     },
     "metadata": {},
     "output_type": "display_data"
    },
    {
     "data": {
      "application/vnd.jupyter.widget-view+json": {
       "model_id": "e27719e50d514e15a67c593e72ec9e44",
       "version_major": 2,
       "version_minor": 0
      },
      "text/plain": [
       "Getting ROI info:   0%|          | 0/2 [00:00<?, ?it/s]"
      ]
     },
     "metadata": {},
     "output_type": "display_data"
    },
    {
     "data": {
      "application/vnd.jupyter.widget-view+json": {
       "model_id": "10e56fd4e6ed43e19b797706bcd79bfe",
       "version_major": 2,
       "version_minor": 0
      },
      "text/plain": [
       "Getting ROI info:   0%|          | 0/2 [00:00<?, ?it/s]"
      ]
     },
     "metadata": {},
     "output_type": "display_data"
    },
    {
     "data": {
      "application/vnd.jupyter.widget-view+json": {
       "model_id": "af939f221e0243b7a2a6a11e1f661c20",
       "version_major": 2,
       "version_minor": 0
      },
      "text/plain": [
       "Getting ROI info:   0%|          | 0/2 [00:00<?, ?it/s]"
      ]
     },
     "metadata": {},
     "output_type": "display_data"
    },
    {
     "data": {
      "application/vnd.jupyter.widget-view+json": {
       "model_id": "d40353225d694f3dbc0b7008f15fc47d",
       "version_major": 2,
       "version_minor": 0
      },
      "text/plain": [
       "Getting ROI info:   0%|          | 0/2 [00:00<?, ?it/s]"
      ]
     },
     "metadata": {},
     "output_type": "display_data"
    },
    {
     "data": {
      "application/vnd.jupyter.widget-view+json": {
       "model_id": "0a63b86410214796ac02c4d307d23d3c",
       "version_major": 2,
       "version_minor": 0
      },
      "text/plain": [
       "Getting ROI info:   0%|          | 0/2 [00:00<?, ?it/s]"
      ]
     },
     "metadata": {},
     "output_type": "display_data"
    },
    {
     "data": {
      "application/vnd.jupyter.widget-view+json": {
       "model_id": "274947315b6a493fbb8b4737ecb3e7fb",
       "version_major": 2,
       "version_minor": 0
      },
      "text/plain": [
       "Getting ROI info:   0%|          | 0/2 [00:00<?, ?it/s]"
      ]
     },
     "metadata": {},
     "output_type": "display_data"
    },
    {
     "data": {
      "application/vnd.jupyter.widget-view+json": {
       "model_id": "ac60ed378f06412c89e69b093a19a1b2",
       "version_major": 2,
       "version_minor": 0
      },
      "text/plain": [
       "Getting ROI info:   0%|          | 0/2 [00:00<?, ?it/s]"
      ]
     },
     "metadata": {},
     "output_type": "display_data"
    },
    {
     "data": {
      "application/vnd.jupyter.widget-view+json": {
       "model_id": "6e8afb94788147e8987c4d64b60424a3",
       "version_major": 2,
       "version_minor": 0
      },
      "text/plain": [
       "Getting ROI info:   0%|          | 0/2 [00:00<?, ?it/s]"
      ]
     },
     "metadata": {},
     "output_type": "display_data"
    },
    {
     "data": {
      "application/vnd.jupyter.widget-view+json": {
       "model_id": "08c8a353d75941ccb1899c675dab506d",
       "version_major": 2,
       "version_minor": 0
      },
      "text/plain": [
       "Getting ROI info:   0%|          | 0/2 [00:00<?, ?it/s]"
      ]
     },
     "metadata": {},
     "output_type": "display_data"
    },
    {
     "data": {
      "application/vnd.jupyter.widget-view+json": {
       "model_id": "1884fb796c694eb883c53613cc1667c0",
       "version_major": 2,
       "version_minor": 0
      },
      "text/plain": [
       "Getting ROI info:   0%|          | 0/2 [00:00<?, ?it/s]"
      ]
     },
     "metadata": {},
     "output_type": "display_data"
    },
    {
     "data": {
      "application/vnd.jupyter.widget-view+json": {
       "model_id": "c484d2cecafb4d2f94d5c3f43cbb70d2",
       "version_major": 2,
       "version_minor": 0
      },
      "text/plain": [
       "Getting ROI info:   0%|          | 0/2 [00:00<?, ?it/s]"
      ]
     },
     "metadata": {},
     "output_type": "display_data"
    },
    {
     "data": {
      "application/vnd.jupyter.widget-view+json": {
       "model_id": "3457761997fc4ad3a089571521215258",
       "version_major": 2,
       "version_minor": 0
      },
      "text/plain": [
       "Getting ROI info:   0%|          | 0/2 [00:00<?, ?it/s]"
      ]
     },
     "metadata": {},
     "output_type": "display_data"
    },
    {
     "data": {
      "application/vnd.jupyter.widget-view+json": {
       "model_id": "47d293bc4e2c487a9117ee00d88ce854",
       "version_major": 2,
       "version_minor": 0
      },
      "text/plain": [
       "Getting ROI info:   0%|          | 0/2 [00:00<?, ?it/s]"
      ]
     },
     "metadata": {},
     "output_type": "display_data"
    },
    {
     "data": {
      "application/vnd.jupyter.widget-view+json": {
       "model_id": "5455c08f5f834f7fb71f1a4e30c185f3",
       "version_major": 2,
       "version_minor": 0
      },
      "text/plain": [
       "Getting ROI info:   0%|          | 0/2 [00:00<?, ?it/s]"
      ]
     },
     "metadata": {},
     "output_type": "display_data"
    },
    {
     "data": {
      "application/vnd.jupyter.widget-view+json": {
       "model_id": "a6f7d1e14d0947a28066f86da9539313",
       "version_major": 2,
       "version_minor": 0
      },
      "text/plain": [
       "Getting ROI info:   0%|          | 0/2 [00:00<?, ?it/s]"
      ]
     },
     "metadata": {},
     "output_type": "display_data"
    },
    {
     "data": {
      "application/vnd.jupyter.widget-view+json": {
       "model_id": "2c85f54a044a4067bd1843ecedce5658",
       "version_major": 2,
       "version_minor": 0
      },
      "text/plain": [
       "Getting ROI info:   0%|          | 0/2 [00:00<?, ?it/s]"
      ]
     },
     "metadata": {},
     "output_type": "display_data"
    },
    {
     "data": {
      "application/vnd.jupyter.widget-view+json": {
       "model_id": "7487232872f54dacba92abcbf91f27e0",
       "version_major": 2,
       "version_minor": 0
      },
      "text/plain": [
       "Getting ROI info:   0%|          | 0/2 [00:00<?, ?it/s]"
      ]
     },
     "metadata": {},
     "output_type": "display_data"
    },
    {
     "data": {
      "application/vnd.jupyter.widget-view+json": {
       "model_id": "c977cbafe9d14bae94dde46d56d5044d",
       "version_major": 2,
       "version_minor": 0
      },
      "text/plain": [
       "Getting ROI info:   0%|          | 0/2 [00:00<?, ?it/s]"
      ]
     },
     "metadata": {},
     "output_type": "display_data"
    },
    {
     "data": {
      "application/vnd.jupyter.widget-view+json": {
       "model_id": "be8678150c22442882d19a2a06b792ce",
       "version_major": 2,
       "version_minor": 0
      },
      "text/plain": [
       "Getting ROI info:   0%|          | 0/2 [00:00<?, ?it/s]"
      ]
     },
     "metadata": {},
     "output_type": "display_data"
    },
    {
     "data": {
      "application/vnd.jupyter.widget-view+json": {
       "model_id": "e9a198b5cf104954a6187955fa54ee52",
       "version_major": 2,
       "version_minor": 0
      },
      "text/plain": [
       "Getting ROI info:   0%|          | 0/2 [00:00<?, ?it/s]"
      ]
     },
     "metadata": {},
     "output_type": "display_data"
    },
    {
     "data": {
      "application/vnd.jupyter.widget-view+json": {
       "model_id": "6ef5e50c7873417ab46020390d360a58",
       "version_major": 2,
       "version_minor": 0
      },
      "text/plain": [
       "Getting ROI info:   0%|          | 0/2 [00:00<?, ?it/s]"
      ]
     },
     "metadata": {},
     "output_type": "display_data"
    },
    {
     "data": {
      "application/vnd.jupyter.widget-view+json": {
       "model_id": "d6baaf899af843dea33eba24258b3080",
       "version_major": 2,
       "version_minor": 0
      },
      "text/plain": [
       "Getting ROI info:   0%|          | 0/2 [00:00<?, ?it/s]"
      ]
     },
     "metadata": {},
     "output_type": "display_data"
    },
    {
     "data": {
      "application/vnd.jupyter.widget-view+json": {
       "model_id": "308df7b120964f57bb06b7b9d732d9a5",
       "version_major": 2,
       "version_minor": 0
      },
      "text/plain": [
       "Getting ROI info:   0%|          | 0/2 [00:00<?, ?it/s]"
      ]
     },
     "metadata": {},
     "output_type": "display_data"
    },
    {
     "data": {
      "application/vnd.jupyter.widget-view+json": {
       "model_id": "7d4dbc2cd49640baa4a187e444df2a17",
       "version_major": 2,
       "version_minor": 0
      },
      "text/plain": [
       "Getting ROI info:   0%|          | 0/2 [00:00<?, ?it/s]"
      ]
     },
     "metadata": {},
     "output_type": "display_data"
    },
    {
     "data": {
      "application/vnd.jupyter.widget-view+json": {
       "model_id": "ef4753bf5eed4d79b02c270da893199a",
       "version_major": 2,
       "version_minor": 0
      },
      "text/plain": [
       "Getting ROI info:   0%|          | 0/2 [00:00<?, ?it/s]"
      ]
     },
     "metadata": {},
     "output_type": "display_data"
    },
    {
     "data": {
      "application/vnd.jupyter.widget-view+json": {
       "model_id": "00ec8538b7e948a09706f4d421daf6f1",
       "version_major": 2,
       "version_minor": 0
      },
      "text/plain": [
       "Getting ROI info:   0%|          | 0/2 [00:00<?, ?it/s]"
      ]
     },
     "metadata": {},
     "output_type": "display_data"
    },
    {
     "data": {
      "application/vnd.jupyter.widget-view+json": {
       "model_id": "89c790d6046e4ed198649b2bacd6864c",
       "version_major": 2,
       "version_minor": 0
      },
      "text/plain": [
       "Getting ROI info:   0%|          | 0/2 [00:00<?, ?it/s]"
      ]
     },
     "metadata": {},
     "output_type": "display_data"
    },
    {
     "data": {
      "application/vnd.jupyter.widget-view+json": {
       "model_id": "6f6a3e91df4f4b91833409cc8d7576d9",
       "version_major": 2,
       "version_minor": 0
      },
      "text/plain": [
       "Getting ROI info:   0%|          | 0/2 [00:00<?, ?it/s]"
      ]
     },
     "metadata": {},
     "output_type": "display_data"
    },
    {
     "data": {
      "application/vnd.jupyter.widget-view+json": {
       "model_id": "1e8c4623dc9c457685597f988a2a5681",
       "version_major": 2,
       "version_minor": 0
      },
      "text/plain": [
       "Getting ROI info:   0%|          | 0/2 [00:00<?, ?it/s]"
      ]
     },
     "metadata": {},
     "output_type": "display_data"
    },
    {
     "data": {
      "application/vnd.jupyter.widget-view+json": {
       "model_id": "1025a0c3eccb44efbb37ca66b8549278",
       "version_major": 2,
       "version_minor": 0
      },
      "text/plain": [
       "Getting ROI info:   0%|          | 0/2 [00:00<?, ?it/s]"
      ]
     },
     "metadata": {},
     "output_type": "display_data"
    },
    {
     "data": {
      "application/vnd.jupyter.widget-view+json": {
       "model_id": "6bb13908cfd74328a886a4a50fc08c11",
       "version_major": 2,
       "version_minor": 0
      },
      "text/plain": [
       "Getting ROI info:   0%|          | 0/2 [00:00<?, ?it/s]"
      ]
     },
     "metadata": {},
     "output_type": "display_data"
    },
    {
     "data": {
      "application/vnd.jupyter.widget-view+json": {
       "model_id": "7645d4b38e6245749af9c8841188090a",
       "version_major": 2,
       "version_minor": 0
      },
      "text/plain": [
       "Getting ROI info:   0%|          | 0/2 [00:00<?, ?it/s]"
      ]
     },
     "metadata": {},
     "output_type": "display_data"
    },
    {
     "data": {
      "application/vnd.jupyter.widget-view+json": {
       "model_id": "08b96a1bdb9c48c08804ddb3ad5c94d2",
       "version_major": 2,
       "version_minor": 0
      },
      "text/plain": [
       "Getting ROI info:   0%|          | 0/2 [00:00<?, ?it/s]"
      ]
     },
     "metadata": {},
     "output_type": "display_data"
    },
    {
     "data": {
      "application/vnd.jupyter.widget-view+json": {
       "model_id": "53ae966e3fe541d383e500167a96d88f",
       "version_major": 2,
       "version_minor": 0
      },
      "text/plain": [
       "Getting ROI info:   0%|          | 0/2 [00:00<?, ?it/s]"
      ]
     },
     "metadata": {},
     "output_type": "display_data"
    },
    {
     "data": {
      "application/vnd.jupyter.widget-view+json": {
       "model_id": "5db73d2f4df44d15a346e8d8f51e5791",
       "version_major": 2,
       "version_minor": 0
      },
      "text/plain": [
       "Getting ROI info:   0%|          | 0/2 [00:00<?, ?it/s]"
      ]
     },
     "metadata": {},
     "output_type": "display_data"
    },
    {
     "data": {
      "application/vnd.jupyter.widget-view+json": {
       "model_id": "b737f99137754f88b4d0d5a7ba6d6c16",
       "version_major": 2,
       "version_minor": 0
      },
      "text/plain": [
       "Getting ROI info:   0%|          | 0/2 [00:00<?, ?it/s]"
      ]
     },
     "metadata": {},
     "output_type": "display_data"
    },
    {
     "data": {
      "application/vnd.jupyter.widget-view+json": {
       "model_id": "f2832f26ed44463884930d308d08c845",
       "version_major": 2,
       "version_minor": 0
      },
      "text/plain": [
       "Getting ROI info:   0%|          | 0/2 [00:00<?, ?it/s]"
      ]
     },
     "metadata": {},
     "output_type": "display_data"
    },
    {
     "data": {
      "application/vnd.jupyter.widget-view+json": {
       "model_id": "010ffb8374e24d788afdcf7ef16d9edf",
       "version_major": 2,
       "version_minor": 0
      },
      "text/plain": [
       "Getting ROI info:   0%|          | 0/2 [00:00<?, ?it/s]"
      ]
     },
     "metadata": {},
     "output_type": "display_data"
    },
    {
     "data": {
      "application/vnd.jupyter.widget-view+json": {
       "model_id": "adb2fd16081b4180b9463c27401d9b7f",
       "version_major": 2,
       "version_minor": 0
      },
      "text/plain": [
       "Getting ROI info:   0%|          | 0/2 [00:00<?, ?it/s]"
      ]
     },
     "metadata": {},
     "output_type": "display_data"
    },
    {
     "data": {
      "application/vnd.jupyter.widget-view+json": {
       "model_id": "cb5651aaf3364b45866b5b59aa4eb6e1",
       "version_major": 2,
       "version_minor": 0
      },
      "text/plain": [
       "Getting ROI info:   0%|          | 0/2 [00:00<?, ?it/s]"
      ]
     },
     "metadata": {},
     "output_type": "display_data"
    },
    {
     "data": {
      "application/vnd.jupyter.widget-view+json": {
       "model_id": "2b3d233cab12415d9bbf822505478530",
       "version_major": 2,
       "version_minor": 0
      },
      "text/plain": [
       "Getting ROI info:   0%|          | 0/2 [00:00<?, ?it/s]"
      ]
     },
     "metadata": {},
     "output_type": "display_data"
    },
    {
     "data": {
      "application/vnd.jupyter.widget-view+json": {
       "model_id": "3431057fc97b4cd88b422e233ef8b99d",
       "version_major": 2,
       "version_minor": 0
      },
      "text/plain": [
       "Getting ROI info:   0%|          | 0/2 [00:00<?, ?it/s]"
      ]
     },
     "metadata": {},
     "output_type": "display_data"
    },
    {
     "data": {
      "application/vnd.jupyter.widget-view+json": {
       "model_id": "c0c3a70683814593bdc190a3fac87473",
       "version_major": 2,
       "version_minor": 0
      },
      "text/plain": [
       "Getting ROI info:   0%|          | 0/2 [00:00<?, ?it/s]"
      ]
     },
     "metadata": {},
     "output_type": "display_data"
    },
    {
     "data": {
      "application/vnd.jupyter.widget-view+json": {
       "model_id": "e5f3439973354f4da047ca3eb54d7b83",
       "version_major": 2,
       "version_minor": 0
      },
      "text/plain": [
       "Getting ROI info:   0%|          | 0/2 [00:00<?, ?it/s]"
      ]
     },
     "metadata": {},
     "output_type": "display_data"
    },
    {
     "data": {
      "application/vnd.jupyter.widget-view+json": {
       "model_id": "6a7d3e6c0fe44af795186752f270d3ed",
       "version_major": 2,
       "version_minor": 0
      },
      "text/plain": [
       "Getting ROI info:   0%|          | 0/2 [00:00<?, ?it/s]"
      ]
     },
     "metadata": {},
     "output_type": "display_data"
    },
    {
     "data": {
      "application/vnd.jupyter.widget-view+json": {
       "model_id": "ff4967343fb84d30ae22626fd5262d74",
       "version_major": 2,
       "version_minor": 0
      },
      "text/plain": [
       "Getting ROI info:   0%|          | 0/2 [00:00<?, ?it/s]"
      ]
     },
     "metadata": {},
     "output_type": "display_data"
    },
    {
     "data": {
      "application/vnd.jupyter.widget-view+json": {
       "model_id": "2754db04df0e40e6878f46c7d183d2dd",
       "version_major": 2,
       "version_minor": 0
      },
      "text/plain": [
       "Getting ROI info:   0%|          | 0/2 [00:00<?, ?it/s]"
      ]
     },
     "metadata": {},
     "output_type": "display_data"
    },
    {
     "data": {
      "application/vnd.jupyter.widget-view+json": {
       "model_id": "c6a7e595f9e54ba488ada045790774c7",
       "version_major": 2,
       "version_minor": 0
      },
      "text/plain": [
       "Getting ROI info:   0%|          | 0/2 [00:00<?, ?it/s]"
      ]
     },
     "metadata": {},
     "output_type": "display_data"
    },
    {
     "data": {
      "application/vnd.jupyter.widget-view+json": {
       "model_id": "5c00c4d8aede4b1ebc5255ee19b4552d",
       "version_major": 2,
       "version_minor": 0
      },
      "text/plain": [
       "Getting ROI info:   0%|          | 0/2 [00:00<?, ?it/s]"
      ]
     },
     "metadata": {},
     "output_type": "display_data"
    },
    {
     "data": {
      "application/vnd.jupyter.widget-view+json": {
       "model_id": "fa227793f9a14695a3ce467f5213dcb4",
       "version_major": 2,
       "version_minor": 0
      },
      "text/plain": [
       "Getting ROI info:   0%|          | 0/2 [00:00<?, ?it/s]"
      ]
     },
     "metadata": {},
     "output_type": "display_data"
    },
    {
     "data": {
      "application/vnd.jupyter.widget-view+json": {
       "model_id": "56a2e124201548dbb904f8061f5c0835",
       "version_major": 2,
       "version_minor": 0
      },
      "text/plain": [
       "Getting ROI info:   0%|          | 0/2 [00:00<?, ?it/s]"
      ]
     },
     "metadata": {},
     "output_type": "display_data"
    },
    {
     "data": {
      "application/vnd.jupyter.widget-view+json": {
       "model_id": "43029044697a4d3e92084875a5e58c80",
       "version_major": 2,
       "version_minor": 0
      },
      "text/plain": [
       "Getting ROI info:   0%|          | 0/2 [00:00<?, ?it/s]"
      ]
     },
     "metadata": {},
     "output_type": "display_data"
    },
    {
     "data": {
      "application/vnd.jupyter.widget-view+json": {
       "model_id": "8d9c60d324e944f0b773ca091fb34daf",
       "version_major": 2,
       "version_minor": 0
      },
      "text/plain": [
       "Getting ROI info:   0%|          | 0/2 [00:00<?, ?it/s]"
      ]
     },
     "metadata": {},
     "output_type": "display_data"
    },
    {
     "data": {
      "application/vnd.jupyter.widget-view+json": {
       "model_id": "0ea75d29743c459296bc2e4add69e807",
       "version_major": 2,
       "version_minor": 0
      },
      "text/plain": [
       "Getting ROI info:   0%|          | 0/2 [00:00<?, ?it/s]"
      ]
     },
     "metadata": {},
     "output_type": "display_data"
    },
    {
     "data": {
      "application/vnd.jupyter.widget-view+json": {
       "model_id": "bfa66def10474fc096e92e6d20c025e9",
       "version_major": 2,
       "version_minor": 0
      },
      "text/plain": [
       "Getting ROI info:   0%|          | 0/2 [00:00<?, ?it/s]"
      ]
     },
     "metadata": {},
     "output_type": "display_data"
    },
    {
     "data": {
      "application/vnd.jupyter.widget-view+json": {
       "model_id": "a2ca1c5867d64fb69c5bdd8ab7e8c7f5",
       "version_major": 2,
       "version_minor": 0
      },
      "text/plain": [
       "Getting ROI info:   0%|          | 0/2 [00:00<?, ?it/s]"
      ]
     },
     "metadata": {},
     "output_type": "display_data"
    },
    {
     "data": {
      "application/vnd.jupyter.widget-view+json": {
       "model_id": "59ebd3efd5c24998bd79d32ed779bdc3",
       "version_major": 2,
       "version_minor": 0
      },
      "text/plain": [
       "Getting ROI info:   0%|          | 0/2 [00:00<?, ?it/s]"
      ]
     },
     "metadata": {},
     "output_type": "display_data"
    },
    {
     "data": {
      "application/vnd.jupyter.widget-view+json": {
       "model_id": "9c98eac4825f446485df75f61166fe17",
       "version_major": 2,
       "version_minor": 0
      },
      "text/plain": [
       "Getting ROI info:   0%|          | 0/2 [00:00<?, ?it/s]"
      ]
     },
     "metadata": {},
     "output_type": "display_data"
    },
    {
     "data": {
      "application/vnd.jupyter.widget-view+json": {
       "model_id": "149f301c967f4c97baf81f08591528ad",
       "version_major": 2,
       "version_minor": 0
      },
      "text/plain": [
       "Getting ROI info:   0%|          | 0/2 [00:00<?, ?it/s]"
      ]
     },
     "metadata": {},
     "output_type": "display_data"
    },
    {
     "data": {
      "application/vnd.jupyter.widget-view+json": {
       "model_id": "af7868de562a489ba7bcab3659592aa1",
       "version_major": 2,
       "version_minor": 0
      },
      "text/plain": [
       "Getting ROI info:   0%|          | 0/2 [00:00<?, ?it/s]"
      ]
     },
     "metadata": {},
     "output_type": "display_data"
    },
    {
     "data": {
      "application/vnd.jupyter.widget-view+json": {
       "model_id": "e0f5013ef6ef4f0c8dc01af9f2e877d1",
       "version_major": 2,
       "version_minor": 0
      },
      "text/plain": [
       "Getting ROI info:   0%|          | 0/2 [00:00<?, ?it/s]"
      ]
     },
     "metadata": {},
     "output_type": "display_data"
    },
    {
     "data": {
      "application/vnd.jupyter.widget-view+json": {
       "model_id": "e7258b5147ce483a82c0f7a83f917032",
       "version_major": 2,
       "version_minor": 0
      },
      "text/plain": [
       "Getting ROI info:   0%|          | 0/2 [00:00<?, ?it/s]"
      ]
     },
     "metadata": {},
     "output_type": "display_data"
    },
    {
     "data": {
      "application/vnd.jupyter.widget-view+json": {
       "model_id": "ed83065c70d84934829bd33c21c88320",
       "version_major": 2,
       "version_minor": 0
      },
      "text/plain": [
       "Getting ROI info:   0%|          | 0/2 [00:00<?, ?it/s]"
      ]
     },
     "metadata": {},
     "output_type": "display_data"
    },
    {
     "data": {
      "application/vnd.jupyter.widget-view+json": {
       "model_id": "66b0ad0206d349568ffa19614ce7e131",
       "version_major": 2,
       "version_minor": 0
      },
      "text/plain": [
       "Getting ROI info:   0%|          | 0/2 [00:00<?, ?it/s]"
      ]
     },
     "metadata": {},
     "output_type": "display_data"
    },
    {
     "data": {
      "application/vnd.jupyter.widget-view+json": {
       "model_id": "fa9bf17a2b5f4472bf4609de0bfa1774",
       "version_major": 2,
       "version_minor": 0
      },
      "text/plain": [
       "Getting ROI info:   0%|          | 0/2 [00:00<?, ?it/s]"
      ]
     },
     "metadata": {},
     "output_type": "display_data"
    },
    {
     "data": {
      "application/vnd.jupyter.widget-view+json": {
       "model_id": "18b79bec17144b9ba8e35f20497a39f9",
       "version_major": 2,
       "version_minor": 0
      },
      "text/plain": [
       "Getting ROI info:   0%|          | 0/2 [00:00<?, ?it/s]"
      ]
     },
     "metadata": {},
     "output_type": "display_data"
    },
    {
     "data": {
      "application/vnd.jupyter.widget-view+json": {
       "model_id": "2cac2976ec4343a9891a38a5509e870e",
       "version_major": 2,
       "version_minor": 0
      },
      "text/plain": [
       "Getting ROI info:   0%|          | 0/2 [00:00<?, ?it/s]"
      ]
     },
     "metadata": {},
     "output_type": "display_data"
    },
    {
     "data": {
      "application/vnd.jupyter.widget-view+json": {
       "model_id": "1d23992a662e44578510931b1b025d5d",
       "version_major": 2,
       "version_minor": 0
      },
      "text/plain": [
       "Getting ROI info:   0%|          | 0/2 [00:00<?, ?it/s]"
      ]
     },
     "metadata": {},
     "output_type": "display_data"
    },
    {
     "data": {
      "application/vnd.jupyter.widget-view+json": {
       "model_id": "962943c2c8994cd99454fa43f9bfa8b6",
       "version_major": 2,
       "version_minor": 0
      },
      "text/plain": [
       "Getting ROI info:   0%|          | 0/2 [00:00<?, ?it/s]"
      ]
     },
     "metadata": {},
     "output_type": "display_data"
    },
    {
     "data": {
      "application/vnd.jupyter.widget-view+json": {
       "model_id": "0f8156a2abeb453f8029666f933e6d8f",
       "version_major": 2,
       "version_minor": 0
      },
      "text/plain": [
       "Getting ROI info:   0%|          | 0/2 [00:00<?, ?it/s]"
      ]
     },
     "metadata": {},
     "output_type": "display_data"
    },
    {
     "data": {
      "application/vnd.jupyter.widget-view+json": {
       "model_id": "b3de033289cb4480b10e52f2f766218c",
       "version_major": 2,
       "version_minor": 0
      },
      "text/plain": [
       "Getting ROI info:   0%|          | 0/2 [00:00<?, ?it/s]"
      ]
     },
     "metadata": {},
     "output_type": "display_data"
    },
    {
     "data": {
      "application/vnd.jupyter.widget-view+json": {
       "model_id": "eaa43655d5a74553add9b8afa5de2eed",
       "version_major": 2,
       "version_minor": 0
      },
      "text/plain": [
       "Getting ROI info:   0%|          | 0/2 [00:00<?, ?it/s]"
      ]
     },
     "metadata": {},
     "output_type": "display_data"
    },
    {
     "data": {
      "application/vnd.jupyter.widget-view+json": {
       "model_id": "1e66f1aee4214210a9928e1f7de3e15f",
       "version_major": 2,
       "version_minor": 0
      },
      "text/plain": [
       "Getting ROI info:   0%|          | 0/2 [00:00<?, ?it/s]"
      ]
     },
     "metadata": {},
     "output_type": "display_data"
    },
    {
     "data": {
      "application/vnd.jupyter.widget-view+json": {
       "model_id": "41783c08420c40619259c5e3bf8e9355",
       "version_major": 2,
       "version_minor": 0
      },
      "text/plain": [
       "Getting ROI info:   0%|          | 0/2 [00:00<?, ?it/s]"
      ]
     },
     "metadata": {},
     "output_type": "display_data"
    },
    {
     "data": {
      "application/vnd.jupyter.widget-view+json": {
       "model_id": "84d7a702d4eb4ea5a77ecda6e4d43789",
       "version_major": 2,
       "version_minor": 0
      },
      "text/plain": [
       "Getting ROI info:   0%|          | 0/2 [00:00<?, ?it/s]"
      ]
     },
     "metadata": {},
     "output_type": "display_data"
    },
    {
     "data": {
      "application/vnd.jupyter.widget-view+json": {
       "model_id": "8928c536a13e47ccae607fbc6cff0378",
       "version_major": 2,
       "version_minor": 0
      },
      "text/plain": [
       "Getting ROI info:   0%|          | 0/2 [00:00<?, ?it/s]"
      ]
     },
     "metadata": {},
     "output_type": "display_data"
    },
    {
     "data": {
      "application/vnd.jupyter.widget-view+json": {
       "model_id": "f349ef2c052a4125a54b92fa48ecf7e9",
       "version_major": 2,
       "version_minor": 0
      },
      "text/plain": [
       "Getting ROI info:   0%|          | 0/2 [00:00<?, ?it/s]"
      ]
     },
     "metadata": {},
     "output_type": "display_data"
    },
    {
     "data": {
      "application/vnd.jupyter.widget-view+json": {
       "model_id": "b93110e88f4c4d61be9de5cff3754275",
       "version_major": 2,
       "version_minor": 0
      },
      "text/plain": [
       "Getting ROI info:   0%|          | 0/2 [00:00<?, ?it/s]"
      ]
     },
     "metadata": {},
     "output_type": "display_data"
    },
    {
     "data": {
      "application/vnd.jupyter.widget-view+json": {
       "model_id": "e5f829e9a0cc4ed5aea1049b016271b1",
       "version_major": 2,
       "version_minor": 0
      },
      "text/plain": [
       "Getting ROI info:   0%|          | 0/2 [00:00<?, ?it/s]"
      ]
     },
     "metadata": {},
     "output_type": "display_data"
    },
    {
     "data": {
      "application/vnd.jupyter.widget-view+json": {
       "model_id": "c2f3cf9b9bbc4eaf97a2a1796f3e7e5b",
       "version_major": 2,
       "version_minor": 0
      },
      "text/plain": [
       "Getting ROI info:   0%|          | 0/2 [00:00<?, ?it/s]"
      ]
     },
     "metadata": {},
     "output_type": "display_data"
    },
    {
     "data": {
      "application/vnd.jupyter.widget-view+json": {
       "model_id": "94c160d5c410441c925915752efdf6a8",
       "version_major": 2,
       "version_minor": 0
      },
      "text/plain": [
       "Getting ROI info:   0%|          | 0/2 [00:00<?, ?it/s]"
      ]
     },
     "metadata": {},
     "output_type": "display_data"
    },
    {
     "data": {
      "application/vnd.jupyter.widget-view+json": {
       "model_id": "fe03f3a52cf44bf68eb7c83a759c2fe4",
       "version_major": 2,
       "version_minor": 0
      },
      "text/plain": [
       "Getting ROI info:   0%|          | 0/2 [00:00<?, ?it/s]"
      ]
     },
     "metadata": {},
     "output_type": "display_data"
    },
    {
     "data": {
      "application/vnd.jupyter.widget-view+json": {
       "model_id": "75cc1751e352446a93ba27abc97ecd41",
       "version_major": 2,
       "version_minor": 0
      },
      "text/plain": [
       "Getting ROI info:   0%|          | 0/2 [00:00<?, ?it/s]"
      ]
     },
     "metadata": {},
     "output_type": "display_data"
    },
    {
     "data": {
      "application/vnd.jupyter.widget-view+json": {
       "model_id": "f7415b0fd142422e9c770ece435e7eb0",
       "version_major": 2,
       "version_minor": 0
      },
      "text/plain": [
       "Getting ROI info:   0%|          | 0/2 [00:00<?, ?it/s]"
      ]
     },
     "metadata": {},
     "output_type": "display_data"
    },
    {
     "data": {
      "application/vnd.jupyter.widget-view+json": {
       "model_id": "0483732194c447b5b15e39253f3fc38f",
       "version_major": 2,
       "version_minor": 0
      },
      "text/plain": [
       "Getting ROI info:   0%|          | 0/2 [00:00<?, ?it/s]"
      ]
     },
     "metadata": {},
     "output_type": "display_data"
    },
    {
     "data": {
      "application/vnd.jupyter.widget-view+json": {
       "model_id": "299aa09b8dd64e8393dd5a9a90935744",
       "version_major": 2,
       "version_minor": 0
      },
      "text/plain": [
       "Getting ROI info:   0%|          | 0/2 [00:00<?, ?it/s]"
      ]
     },
     "metadata": {},
     "output_type": "display_data"
    },
    {
     "data": {
      "application/vnd.jupyter.widget-view+json": {
       "model_id": "b8afcc553dfc4a8b873276af14af8db7",
       "version_major": 2,
       "version_minor": 0
      },
      "text/plain": [
       "Getting ROI info:   0%|          | 0/2 [00:00<?, ?it/s]"
      ]
     },
     "metadata": {},
     "output_type": "display_data"
    },
    {
     "data": {
      "application/vnd.jupyter.widget-view+json": {
       "model_id": "d4409dacb9a846548f1a7a0bcfd9b6c6",
       "version_major": 2,
       "version_minor": 0
      },
      "text/plain": [
       "Getting ROI info:   0%|          | 0/2 [00:00<?, ?it/s]"
      ]
     },
     "metadata": {},
     "output_type": "display_data"
    },
    {
     "data": {
      "application/vnd.jupyter.widget-view+json": {
       "model_id": "48212a5ed74c491c81c94916d2c31cd6",
       "version_major": 2,
       "version_minor": 0
      },
      "text/plain": [
       "Getting ROI info:   0%|          | 0/2 [00:00<?, ?it/s]"
      ]
     },
     "metadata": {},
     "output_type": "display_data"
    },
    {
     "data": {
      "application/vnd.jupyter.widget-view+json": {
       "model_id": "108c054242b84b1fb37eeb5cbad53d71",
       "version_major": 2,
       "version_minor": 0
      },
      "text/plain": [
       "Getting ROI info:   0%|          | 0/2 [00:00<?, ?it/s]"
      ]
     },
     "metadata": {},
     "output_type": "display_data"
    },
    {
     "data": {
      "application/vnd.jupyter.widget-view+json": {
       "model_id": "52f3c8b78f874424818bd6ac1988bf06",
       "version_major": 2,
       "version_minor": 0
      },
      "text/plain": [
       "Getting ROI info:   0%|          | 0/2 [00:00<?, ?it/s]"
      ]
     },
     "metadata": {},
     "output_type": "display_data"
    },
    {
     "data": {
      "application/vnd.jupyter.widget-view+json": {
       "model_id": "3830985aaab4482bab44be8a34166506",
       "version_major": 2,
       "version_minor": 0
      },
      "text/plain": [
       "Getting ROI info:   0%|          | 0/2 [00:00<?, ?it/s]"
      ]
     },
     "metadata": {},
     "output_type": "display_data"
    },
    {
     "data": {
      "application/vnd.jupyter.widget-view+json": {
       "model_id": "f8c56f56179846ffb7081a9b42a84fd4",
       "version_major": 2,
       "version_minor": 0
      },
      "text/plain": [
       "Getting ROI info:   0%|          | 0/2 [00:00<?, ?it/s]"
      ]
     },
     "metadata": {},
     "output_type": "display_data"
    },
    {
     "data": {
      "application/vnd.jupyter.widget-view+json": {
       "model_id": "501f8a902d4d42399ed785e3c0b6bb25",
       "version_major": 2,
       "version_minor": 0
      },
      "text/plain": [
       "Getting ROI info:   0%|          | 0/2 [00:00<?, ?it/s]"
      ]
     },
     "metadata": {},
     "output_type": "display_data"
    },
    {
     "data": {
      "application/vnd.jupyter.widget-view+json": {
       "model_id": "f17a976b423c46e9b598ec5b7d6fb5bb",
       "version_major": 2,
       "version_minor": 0
      },
      "text/plain": [
       "Getting ROI info:   0%|          | 0/2 [00:00<?, ?it/s]"
      ]
     },
     "metadata": {},
     "output_type": "display_data"
    },
    {
     "data": {
      "application/vnd.jupyter.widget-view+json": {
       "model_id": "af165697543e436db92b75ef475f5ae6",
       "version_major": 2,
       "version_minor": 0
      },
      "text/plain": [
       "Getting ROI info:   0%|          | 0/2 [00:00<?, ?it/s]"
      ]
     },
     "metadata": {},
     "output_type": "display_data"
    },
    {
     "data": {
      "application/vnd.jupyter.widget-view+json": {
       "model_id": "b0f9896df3b042f9961150079d45d236",
       "version_major": 2,
       "version_minor": 0
      },
      "text/plain": [
       "Getting ROI info:   0%|          | 0/2 [00:00<?, ?it/s]"
      ]
     },
     "metadata": {},
     "output_type": "display_data"
    },
    {
     "data": {
      "application/vnd.jupyter.widget-view+json": {
       "model_id": "49a21569e8e04a55b4b28570098a9b31",
       "version_major": 2,
       "version_minor": 0
      },
      "text/plain": [
       "Getting ROI info:   0%|          | 0/2 [00:00<?, ?it/s]"
      ]
     },
     "metadata": {},
     "output_type": "display_data"
    },
    {
     "data": {
      "application/vnd.jupyter.widget-view+json": {
       "model_id": "5eeb98ef0633456dac2fd8e62a355ff1",
       "version_major": 2,
       "version_minor": 0
      },
      "text/plain": [
       "Getting ROI info:   0%|          | 0/2 [00:00<?, ?it/s]"
      ]
     },
     "metadata": {},
     "output_type": "display_data"
    },
    {
     "data": {
      "application/vnd.jupyter.widget-view+json": {
       "model_id": "f6d2060ddb4e4e4cafcd3fb5fdddcd26",
       "version_major": 2,
       "version_minor": 0
      },
      "text/plain": [
       "Getting ROI info:   0%|          | 0/2 [00:00<?, ?it/s]"
      ]
     },
     "metadata": {},
     "output_type": "display_data"
    },
    {
     "data": {
      "application/vnd.jupyter.widget-view+json": {
       "model_id": "506718f2c50a4c39a0e805f47ddc5dab",
       "version_major": 2,
       "version_minor": 0
      },
      "text/plain": [
       "Getting ROI info:   0%|          | 0/2 [00:00<?, ?it/s]"
      ]
     },
     "metadata": {},
     "output_type": "display_data"
    },
    {
     "data": {
      "application/vnd.jupyter.widget-view+json": {
       "model_id": "aa5585d7882e4b189bf51ff6bed811bc",
       "version_major": 2,
       "version_minor": 0
      },
      "text/plain": [
       "Getting ROI info:   0%|          | 0/2 [00:00<?, ?it/s]"
      ]
     },
     "metadata": {},
     "output_type": "display_data"
    },
    {
     "data": {
      "application/vnd.jupyter.widget-view+json": {
       "model_id": "2353676cc49d4bd2b594c2f3993d7b54",
       "version_major": 2,
       "version_minor": 0
      },
      "text/plain": [
       "Getting ROI info:   0%|          | 0/2 [00:00<?, ?it/s]"
      ]
     },
     "metadata": {},
     "output_type": "display_data"
    },
    {
     "data": {
      "application/vnd.jupyter.widget-view+json": {
       "model_id": "70dcda9140b94487b3127f7c5f95916c",
       "version_major": 2,
       "version_minor": 0
      },
      "text/plain": [
       "Getting ROI info:   0%|          | 0/2 [00:00<?, ?it/s]"
      ]
     },
     "metadata": {},
     "output_type": "display_data"
    },
    {
     "data": {
      "application/vnd.jupyter.widget-view+json": {
       "model_id": "1ab8a35bcd934a82aea695b49213056f",
       "version_major": 2,
       "version_minor": 0
      },
      "text/plain": [
       "Getting ROI info:   0%|          | 0/2 [00:00<?, ?it/s]"
      ]
     },
     "metadata": {},
     "output_type": "display_data"
    },
    {
     "data": {
      "application/vnd.jupyter.widget-view+json": {
       "model_id": "31b9156a3ff146c98edd86944e66584a",
       "version_major": 2,
       "version_minor": 0
      },
      "text/plain": [
       "Getting ROI info:   0%|          | 0/2 [00:00<?, ?it/s]"
      ]
     },
     "metadata": {},
     "output_type": "display_data"
    },
    {
     "data": {
      "application/vnd.jupyter.widget-view+json": {
       "model_id": "c4296bf8079b4c0bac9d82464f3a512f",
       "version_major": 2,
       "version_minor": 0
      },
      "text/plain": [
       "Getting ROI info:   0%|          | 0/2 [00:00<?, ?it/s]"
      ]
     },
     "metadata": {},
     "output_type": "display_data"
    },
    {
     "data": {
      "application/vnd.jupyter.widget-view+json": {
       "model_id": "1d8dae813bf8497791b14d4654ff8644",
       "version_major": 2,
       "version_minor": 0
      },
      "text/plain": [
       "Getting ROI info:   0%|          | 0/2 [00:00<?, ?it/s]"
      ]
     },
     "metadata": {},
     "output_type": "display_data"
    },
    {
     "data": {
      "application/vnd.jupyter.widget-view+json": {
       "model_id": "b7d9645b48c046c6a4c9f13fdde63601",
       "version_major": 2,
       "version_minor": 0
      },
      "text/plain": [
       "Getting ROI info:   0%|          | 0/2 [00:00<?, ?it/s]"
      ]
     },
     "metadata": {},
     "output_type": "display_data"
    },
    {
     "data": {
      "application/vnd.jupyter.widget-view+json": {
       "model_id": "6ea3466e70a545e48c56d30da628b21a",
       "version_major": 2,
       "version_minor": 0
      },
      "text/plain": [
       "Getting ROI info:   0%|          | 0/2 [00:00<?, ?it/s]"
      ]
     },
     "metadata": {},
     "output_type": "display_data"
    },
    {
     "data": {
      "application/vnd.jupyter.widget-view+json": {
       "model_id": "878dddcaf6364e62bea5c64c6972330d",
       "version_major": 2,
       "version_minor": 0
      },
      "text/plain": [
       "Getting ROI info:   0%|          | 0/2 [00:00<?, ?it/s]"
      ]
     },
     "metadata": {},
     "output_type": "display_data"
    },
    {
     "data": {
      "application/vnd.jupyter.widget-view+json": {
       "model_id": "335361a33a47452cb561cb7f86e7dcf0",
       "version_major": 2,
       "version_minor": 0
      },
      "text/plain": [
       "Getting ROI info:   0%|          | 0/2 [00:00<?, ?it/s]"
      ]
     },
     "metadata": {},
     "output_type": "display_data"
    },
    {
     "data": {
      "application/vnd.jupyter.widget-view+json": {
       "model_id": "46eb9d4022834d35a7ef3311198ae02a",
       "version_major": 2,
       "version_minor": 0
      },
      "text/plain": [
       "Getting ROI info:   0%|          | 0/2 [00:00<?, ?it/s]"
      ]
     },
     "metadata": {},
     "output_type": "display_data"
    },
    {
     "data": {
      "application/vnd.jupyter.widget-view+json": {
       "model_id": "9c4c5f985f0343ac84479757b8a854ba",
       "version_major": 2,
       "version_minor": 0
      },
      "text/plain": [
       "Getting ROI info:   0%|          | 0/2 [00:00<?, ?it/s]"
      ]
     },
     "metadata": {},
     "output_type": "display_data"
    },
    {
     "data": {
      "application/vnd.jupyter.widget-view+json": {
       "model_id": "4183a0ee3b4244078ac2f5f3e6f39f0f",
       "version_major": 2,
       "version_minor": 0
      },
      "text/plain": [
       "Getting ROI info:   0%|          | 0/2 [00:00<?, ?it/s]"
      ]
     },
     "metadata": {},
     "output_type": "display_data"
    },
    {
     "data": {
      "application/vnd.jupyter.widget-view+json": {
       "model_id": "7cafd12a30654c8ab36f6ff3bc2eb5f4",
       "version_major": 2,
       "version_minor": 0
      },
      "text/plain": [
       "Getting ROI info:   0%|          | 0/2 [00:00<?, ?it/s]"
      ]
     },
     "metadata": {},
     "output_type": "display_data"
    },
    {
     "data": {
      "application/vnd.jupyter.widget-view+json": {
       "model_id": "0ebf15331b0c4547a6e27742b21f935b",
       "version_major": 2,
       "version_minor": 0
      },
      "text/plain": [
       "Getting ROI info:   0%|          | 0/2 [00:00<?, ?it/s]"
      ]
     },
     "metadata": {},
     "output_type": "display_data"
    },
    {
     "data": {
      "application/vnd.jupyter.widget-view+json": {
       "model_id": "92578341fa6242629616db8e3a239351",
       "version_major": 2,
       "version_minor": 0
      },
      "text/plain": [
       "Getting ROI info:   0%|          | 0/2 [00:00<?, ?it/s]"
      ]
     },
     "metadata": {},
     "output_type": "display_data"
    },
    {
     "data": {
      "application/vnd.jupyter.widget-view+json": {
       "model_id": "8f12110b8ae0414f98deb8123c87a767",
       "version_major": 2,
       "version_minor": 0
      },
      "text/plain": [
       "Getting ROI info:   0%|          | 0/2 [00:00<?, ?it/s]"
      ]
     },
     "metadata": {},
     "output_type": "display_data"
    },
    {
     "data": {
      "application/vnd.jupyter.widget-view+json": {
       "model_id": "8c790213112f4279affbb01bea5ba233",
       "version_major": 2,
       "version_minor": 0
      },
      "text/plain": [
       "Getting ROI info:   0%|          | 0/2 [00:00<?, ?it/s]"
      ]
     },
     "metadata": {},
     "output_type": "display_data"
    },
    {
     "data": {
      "application/vnd.jupyter.widget-view+json": {
       "model_id": "86faf2911fc14c8897c4355adeef95fd",
       "version_major": 2,
       "version_minor": 0
      },
      "text/plain": [
       "Getting ROI info:   0%|          | 0/2 [00:00<?, ?it/s]"
      ]
     },
     "metadata": {},
     "output_type": "display_data"
    },
    {
     "data": {
      "application/vnd.jupyter.widget-view+json": {
       "model_id": "8e3539a001634323b4000b367c87c576",
       "version_major": 2,
       "version_minor": 0
      },
      "text/plain": [
       "Getting ROI info:   0%|          | 0/2 [00:00<?, ?it/s]"
      ]
     },
     "metadata": {},
     "output_type": "display_data"
    },
    {
     "data": {
      "application/vnd.jupyter.widget-view+json": {
       "model_id": "ea26b2c18fce40338731f5d751cc3bc8",
       "version_major": 2,
       "version_minor": 0
      },
      "text/plain": [
       "Getting ROI info:   0%|          | 0/2 [00:00<?, ?it/s]"
      ]
     },
     "metadata": {},
     "output_type": "display_data"
    },
    {
     "data": {
      "application/vnd.jupyter.widget-view+json": {
       "model_id": "8d4a3cc254c24f55b95496123c5fe8c7",
       "version_major": 2,
       "version_minor": 0
      },
      "text/plain": [
       "Getting ROI info:   0%|          | 0/2 [00:00<?, ?it/s]"
      ]
     },
     "metadata": {},
     "output_type": "display_data"
    },
    {
     "data": {
      "application/vnd.jupyter.widget-view+json": {
       "model_id": "a5a11d9eaec64606bdf6ab213ac1a9fa",
       "version_major": 2,
       "version_minor": 0
      },
      "text/plain": [
       "Getting ROI info:   0%|          | 0/2 [00:00<?, ?it/s]"
      ]
     },
     "metadata": {},
     "output_type": "display_data"
    },
    {
     "data": {
      "application/vnd.jupyter.widget-view+json": {
       "model_id": "0a3d82247a654679b8661c1de4b61b75",
       "version_major": 2,
       "version_minor": 0
      },
      "text/plain": [
       "Getting ROI info:   0%|          | 0/2 [00:00<?, ?it/s]"
      ]
     },
     "metadata": {},
     "output_type": "display_data"
    },
    {
     "data": {
      "application/vnd.jupyter.widget-view+json": {
       "model_id": "dfbf03ff04f84b62810365b82031d428",
       "version_major": 2,
       "version_minor": 0
      },
      "text/plain": [
       "Getting ROI info:   0%|          | 0/2 [00:00<?, ?it/s]"
      ]
     },
     "metadata": {},
     "output_type": "display_data"
    },
    {
     "data": {
      "application/vnd.jupyter.widget-view+json": {
       "model_id": "1d4a35af34f246ee847e2e01c896d712",
       "version_major": 2,
       "version_minor": 0
      },
      "text/plain": [
       "Getting ROI info:   0%|          | 0/2 [00:00<?, ?it/s]"
      ]
     },
     "metadata": {},
     "output_type": "display_data"
    },
    {
     "data": {
      "application/vnd.jupyter.widget-view+json": {
       "model_id": "d83a4d42af7347afaf9a7f387a834e86",
       "version_major": 2,
       "version_minor": 0
      },
      "text/plain": [
       "Getting ROI info:   0%|          | 0/2 [00:00<?, ?it/s]"
      ]
     },
     "metadata": {},
     "output_type": "display_data"
    },
    {
     "data": {
      "application/vnd.jupyter.widget-view+json": {
       "model_id": "85715ff1dbcb482a81e351f44a9ba6ee",
       "version_major": 2,
       "version_minor": 0
      },
      "text/plain": [
       "Getting ROI info:   0%|          | 0/2 [00:00<?, ?it/s]"
      ]
     },
     "metadata": {},
     "output_type": "display_data"
    },
    {
     "data": {
      "application/vnd.jupyter.widget-view+json": {
       "model_id": "36ad718e250748fdbf3fd8fd1c4ea5d5",
       "version_major": 2,
       "version_minor": 0
      },
      "text/plain": [
       "Getting ROI info:   0%|          | 0/2 [00:00<?, ?it/s]"
      ]
     },
     "metadata": {},
     "output_type": "display_data"
    },
    {
     "data": {
      "application/vnd.jupyter.widget-view+json": {
       "model_id": "2577aae4ff204f2f9b1c950b0ce239e7",
       "version_major": 2,
       "version_minor": 0
      },
      "text/plain": [
       "Getting ROI info:   0%|          | 0/2 [00:00<?, ?it/s]"
      ]
     },
     "metadata": {},
     "output_type": "display_data"
    },
    {
     "data": {
      "application/vnd.jupyter.widget-view+json": {
       "model_id": "97e277f5964b4da1b14cb753a02d7637",
       "version_major": 2,
       "version_minor": 0
      },
      "text/plain": [
       "Getting ROI info:   0%|          | 0/2 [00:00<?, ?it/s]"
      ]
     },
     "metadata": {},
     "output_type": "display_data"
    },
    {
     "data": {
      "application/vnd.jupyter.widget-view+json": {
       "model_id": "eff3521e0c6940efbcd82f4a69bf596b",
       "version_major": 2,
       "version_minor": 0
      },
      "text/plain": [
       "Getting ROI info:   0%|          | 0/2 [00:00<?, ?it/s]"
      ]
     },
     "metadata": {},
     "output_type": "display_data"
    },
    {
     "data": {
      "application/vnd.jupyter.widget-view+json": {
       "model_id": "e7f31974e72c44a7bde786b99f8996f4",
       "version_major": 2,
       "version_minor": 0
      },
      "text/plain": [
       "Getting ROI info:   0%|          | 0/2 [00:00<?, ?it/s]"
      ]
     },
     "metadata": {},
     "output_type": "display_data"
    },
    {
     "data": {
      "application/vnd.jupyter.widget-view+json": {
       "model_id": "ed6697cd2b0847e888d35923d46cd5de",
       "version_major": 2,
       "version_minor": 0
      },
      "text/plain": [
       "Getting ROI info:   0%|          | 0/2 [00:00<?, ?it/s]"
      ]
     },
     "metadata": {},
     "output_type": "display_data"
    },
    {
     "data": {
      "application/vnd.jupyter.widget-view+json": {
       "model_id": "854c08a3bbcc43dfa92df97744c89fea",
       "version_major": 2,
       "version_minor": 0
      },
      "text/plain": [
       "Getting ROI info:   0%|          | 0/2 [00:00<?, ?it/s]"
      ]
     },
     "metadata": {},
     "output_type": "display_data"
    },
    {
     "data": {
      "application/vnd.jupyter.widget-view+json": {
       "model_id": "a05789cd17694b02b9a74393422dccf3",
       "version_major": 2,
       "version_minor": 0
      },
      "text/plain": [
       "Getting ROI info:   0%|          | 0/2 [00:00<?, ?it/s]"
      ]
     },
     "metadata": {},
     "output_type": "display_data"
    },
    {
     "data": {
      "application/vnd.jupyter.widget-view+json": {
       "model_id": "2fc73c3b63d74ff3ad08d37180efe084",
       "version_major": 2,
       "version_minor": 0
      },
      "text/plain": [
       "Getting ROI info:   0%|          | 0/2 [00:00<?, ?it/s]"
      ]
     },
     "metadata": {},
     "output_type": "display_data"
    },
    {
     "data": {
      "application/vnd.jupyter.widget-view+json": {
       "model_id": "32d6a1e4fb2141708ed172430d836d2f",
       "version_major": 2,
       "version_minor": 0
      },
      "text/plain": [
       "Getting ROI info:   0%|          | 0/2 [00:00<?, ?it/s]"
      ]
     },
     "metadata": {},
     "output_type": "display_data"
    },
    {
     "data": {
      "application/vnd.jupyter.widget-view+json": {
       "model_id": "54cded81c535467797621f27f1540f5a",
       "version_major": 2,
       "version_minor": 0
      },
      "text/plain": [
       "Getting ROI info:   0%|          | 0/2 [00:00<?, ?it/s]"
      ]
     },
     "metadata": {},
     "output_type": "display_data"
    },
    {
     "data": {
      "application/vnd.jupyter.widget-view+json": {
       "model_id": "e2fdf0eafdaa4bdfb774bcfdf3e06c65",
       "version_major": 2,
       "version_minor": 0
      },
      "text/plain": [
       "Getting ROI info:   0%|          | 0/2 [00:00<?, ?it/s]"
      ]
     },
     "metadata": {},
     "output_type": "display_data"
    },
    {
     "data": {
      "application/vnd.jupyter.widget-view+json": {
       "model_id": "32d8dcb9f5b04687b691364d94b49062",
       "version_major": 2,
       "version_minor": 0
      },
      "text/plain": [
       "Getting ROI info:   0%|          | 0/2 [00:00<?, ?it/s]"
      ]
     },
     "metadata": {},
     "output_type": "display_data"
    },
    {
     "data": {
      "application/vnd.jupyter.widget-view+json": {
       "model_id": "faf178796922411dac4d49ba2280d902",
       "version_major": 2,
       "version_minor": 0
      },
      "text/plain": [
       "Getting ROI info:   0%|          | 0/2 [00:00<?, ?it/s]"
      ]
     },
     "metadata": {},
     "output_type": "display_data"
    },
    {
     "data": {
      "application/vnd.jupyter.widget-view+json": {
       "model_id": "4d2b4b80ef824a669e4037491cf8dd4f",
       "version_major": 2,
       "version_minor": 0
      },
      "text/plain": [
       "Getting ROI info:   0%|          | 0/2 [00:00<?, ?it/s]"
      ]
     },
     "metadata": {},
     "output_type": "display_data"
    },
    {
     "data": {
      "application/vnd.jupyter.widget-view+json": {
       "model_id": "53ac7ec4da3f415eb67c4be98270a880",
       "version_major": 2,
       "version_minor": 0
      },
      "text/plain": [
       "Getting ROI info:   0%|          | 0/2 [00:00<?, ?it/s]"
      ]
     },
     "metadata": {},
     "output_type": "display_data"
    },
    {
     "data": {
      "application/vnd.jupyter.widget-view+json": {
       "model_id": "121b5dfd635c4982b91e0fc83ef92e33",
       "version_major": 2,
       "version_minor": 0
      },
      "text/plain": [
       "Getting ROI info:   0%|          | 0/2 [00:00<?, ?it/s]"
      ]
     },
     "metadata": {},
     "output_type": "display_data"
    },
    {
     "data": {
      "application/vnd.jupyter.widget-view+json": {
       "model_id": "663f6f50906d4cd79900c7a7fed07dd6",
       "version_major": 2,
       "version_minor": 0
      },
      "text/plain": [
       "Getting ROI info:   0%|          | 0/2 [00:00<?, ?it/s]"
      ]
     },
     "metadata": {},
     "output_type": "display_data"
    },
    {
     "data": {
      "application/vnd.jupyter.widget-view+json": {
       "model_id": "bb3e97cf5f864f79ab9e20e8491a929a",
       "version_major": 2,
       "version_minor": 0
      },
      "text/plain": [
       "Getting ROI info:   0%|          | 0/2 [00:00<?, ?it/s]"
      ]
     },
     "metadata": {},
     "output_type": "display_data"
    },
    {
     "data": {
      "application/vnd.jupyter.widget-view+json": {
       "model_id": "e9c4b22ac98f4d2b9dd2c49487ab8daf",
       "version_major": 2,
       "version_minor": 0
      },
      "text/plain": [
       "Getting ROI info:   0%|          | 0/2 [00:00<?, ?it/s]"
      ]
     },
     "metadata": {},
     "output_type": "display_data"
    },
    {
     "data": {
      "application/vnd.jupyter.widget-view+json": {
       "model_id": "8667c127e9494763a408ce83d9535124",
       "version_major": 2,
       "version_minor": 0
      },
      "text/plain": [
       "Getting ROI info:   0%|          | 0/2 [00:00<?, ?it/s]"
      ]
     },
     "metadata": {},
     "output_type": "display_data"
    },
    {
     "data": {
      "application/vnd.jupyter.widget-view+json": {
       "model_id": "5e9ef03f2e334c0f8022980ca1cb2209",
       "version_major": 2,
       "version_minor": 0
      },
      "text/plain": [
       "Getting ROI info:   0%|          | 0/2 [00:00<?, ?it/s]"
      ]
     },
     "metadata": {},
     "output_type": "display_data"
    },
    {
     "data": {
      "application/vnd.jupyter.widget-view+json": {
       "model_id": "b0533680f8744337b307799785e41507",
       "version_major": 2,
       "version_minor": 0
      },
      "text/plain": [
       "Getting ROI info:   0%|          | 0/2 [00:00<?, ?it/s]"
      ]
     },
     "metadata": {},
     "output_type": "display_data"
    },
    {
     "data": {
      "application/vnd.jupyter.widget-view+json": {
       "model_id": "467f406586cf4779a1f7b8a11cdea9e2",
       "version_major": 2,
       "version_minor": 0
      },
      "text/plain": [
       "Getting ROI info:   0%|          | 0/2 [00:00<?, ?it/s]"
      ]
     },
     "metadata": {},
     "output_type": "display_data"
    },
    {
     "data": {
      "application/vnd.jupyter.widget-view+json": {
       "model_id": "b73180ce2ee44dcf915324267cd63773",
       "version_major": 2,
       "version_minor": 0
      },
      "text/plain": [
       "Getting ROI info:   0%|          | 0/2 [00:00<?, ?it/s]"
      ]
     },
     "metadata": {},
     "output_type": "display_data"
    },
    {
     "data": {
      "application/vnd.jupyter.widget-view+json": {
       "model_id": "91a1e1f90bae4784aecdf3b8b1c0e839",
       "version_major": 2,
       "version_minor": 0
      },
      "text/plain": [
       "Getting ROI info:   0%|          | 0/2 [00:00<?, ?it/s]"
      ]
     },
     "metadata": {},
     "output_type": "display_data"
    },
    {
     "data": {
      "application/vnd.jupyter.widget-view+json": {
       "model_id": "cee3ef84d4a04a2d832f6753db3db224",
       "version_major": 2,
       "version_minor": 0
      },
      "text/plain": [
       "Getting ROI info:   0%|          | 0/2 [00:00<?, ?it/s]"
      ]
     },
     "metadata": {},
     "output_type": "display_data"
    },
    {
     "data": {
      "application/vnd.jupyter.widget-view+json": {
       "model_id": "cb6de0051ff64fbaaa965f649117dd6d",
       "version_major": 2,
       "version_minor": 0
      },
      "text/plain": [
       "Getting ROI info:   0%|          | 0/2 [00:00<?, ?it/s]"
      ]
     },
     "metadata": {},
     "output_type": "display_data"
    },
    {
     "data": {
      "application/vnd.jupyter.widget-view+json": {
       "model_id": "d07ec30cfce242068067e7470ae50ec4",
       "version_major": 2,
       "version_minor": 0
      },
      "text/plain": [
       "Getting ROI info:   0%|          | 0/2 [00:00<?, ?it/s]"
      ]
     },
     "metadata": {},
     "output_type": "display_data"
    },
    {
     "data": {
      "application/vnd.jupyter.widget-view+json": {
       "model_id": "ebc911517dce48a1958fd0154affd03b",
       "version_major": 2,
       "version_minor": 0
      },
      "text/plain": [
       "Getting ROI info:   0%|          | 0/2 [00:00<?, ?it/s]"
      ]
     },
     "metadata": {},
     "output_type": "display_data"
    },
    {
     "data": {
      "application/vnd.jupyter.widget-view+json": {
       "model_id": "20a5b2153de649c4ae66326824d8d9a5",
       "version_major": 2,
       "version_minor": 0
      },
      "text/plain": [
       "Getting ROI info:   0%|          | 0/2 [00:00<?, ?it/s]"
      ]
     },
     "metadata": {},
     "output_type": "display_data"
    },
    {
     "data": {
      "application/vnd.jupyter.widget-view+json": {
       "model_id": "e451665b36bf43c7b3c203ff4f1d06a5",
       "version_major": 2,
       "version_minor": 0
      },
      "text/plain": [
       "Getting ROI info:   0%|          | 0/2 [00:00<?, ?it/s]"
      ]
     },
     "metadata": {},
     "output_type": "display_data"
    },
    {
     "data": {
      "application/vnd.jupyter.widget-view+json": {
       "model_id": "75f98a6bf3344e469122b1e844ba7b19",
       "version_major": 2,
       "version_minor": 0
      },
      "text/plain": [
       "Getting ROI info:   0%|          | 0/2 [00:00<?, ?it/s]"
      ]
     },
     "metadata": {},
     "output_type": "display_data"
    },
    {
     "data": {
      "application/vnd.jupyter.widget-view+json": {
       "model_id": "8c8535f0701a429ba614c06619cf693e",
       "version_major": 2,
       "version_minor": 0
      },
      "text/plain": [
       "Getting ROI info:   0%|          | 0/2 [00:00<?, ?it/s]"
      ]
     },
     "metadata": {},
     "output_type": "display_data"
    },
    {
     "data": {
      "application/vnd.jupyter.widget-view+json": {
       "model_id": "7e71f240aa8d4cbdaa6dc07eb782f0dc",
       "version_major": 2,
       "version_minor": 0
      },
      "text/plain": [
       "Getting ROI info:   0%|          | 0/2 [00:00<?, ?it/s]"
      ]
     },
     "metadata": {},
     "output_type": "display_data"
    },
    {
     "data": {
      "application/vnd.jupyter.widget-view+json": {
       "model_id": "ba30c2eb0c7b4d988d078f9b8dd6e76c",
       "version_major": 2,
       "version_minor": 0
      },
      "text/plain": [
       "Getting ROI info:   0%|          | 0/2 [00:00<?, ?it/s]"
      ]
     },
     "metadata": {},
     "output_type": "display_data"
    },
    {
     "data": {
      "application/vnd.jupyter.widget-view+json": {
       "model_id": "fd338d08a2f9438fa3db25c1c3d0406e",
       "version_major": 2,
       "version_minor": 0
      },
      "text/plain": [
       "Getting ROI info:   0%|          | 0/2 [00:00<?, ?it/s]"
      ]
     },
     "metadata": {},
     "output_type": "display_data"
    },
    {
     "data": {
      "application/vnd.jupyter.widget-view+json": {
       "model_id": "5edba85b4414455fa636ff8473c21d96",
       "version_major": 2,
       "version_minor": 0
      },
      "text/plain": [
       "Getting ROI info:   0%|          | 0/2 [00:00<?, ?it/s]"
      ]
     },
     "metadata": {},
     "output_type": "display_data"
    },
    {
     "data": {
      "application/vnd.jupyter.widget-view+json": {
       "model_id": "5e4f8ef243b5444788a453202b3edbc5",
       "version_major": 2,
       "version_minor": 0
      },
      "text/plain": [
       "Getting ROI info:   0%|          | 0/2 [00:00<?, ?it/s]"
      ]
     },
     "metadata": {},
     "output_type": "display_data"
    },
    {
     "data": {
      "application/vnd.jupyter.widget-view+json": {
       "model_id": "fa900a30c51645c5a74a130962d3d33a",
       "version_major": 2,
       "version_minor": 0
      },
      "text/plain": [
       "Getting ROI info:   0%|          | 0/2 [00:00<?, ?it/s]"
      ]
     },
     "metadata": {},
     "output_type": "display_data"
    },
    {
     "data": {
      "application/vnd.jupyter.widget-view+json": {
       "model_id": "cf6df268d68a486693211d749817a9b4",
       "version_major": 2,
       "version_minor": 0
      },
      "text/plain": [
       "Getting ROI info:   0%|          | 0/2 [00:00<?, ?it/s]"
      ]
     },
     "metadata": {},
     "output_type": "display_data"
    },
    {
     "data": {
      "application/vnd.jupyter.widget-view+json": {
       "model_id": "5aff74f6f455423992925ad8bb2f5b87",
       "version_major": 2,
       "version_minor": 0
      },
      "text/plain": [
       "Getting ROI info:   0%|          | 0/2 [00:00<?, ?it/s]"
      ]
     },
     "metadata": {},
     "output_type": "display_data"
    },
    {
     "data": {
      "application/vnd.jupyter.widget-view+json": {
       "model_id": "e418ce6dfe854525b0c30b801655e094",
       "version_major": 2,
       "version_minor": 0
      },
      "text/plain": [
       "Getting ROI info:   0%|          | 0/2 [00:00<?, ?it/s]"
      ]
     },
     "metadata": {},
     "output_type": "display_data"
    },
    {
     "data": {
      "application/vnd.jupyter.widget-view+json": {
       "model_id": "4cf74ed6f94c4c3985bdc52d24276ae9",
       "version_major": 2,
       "version_minor": 0
      },
      "text/plain": [
       "Getting ROI info:   0%|          | 0/2 [00:00<?, ?it/s]"
      ]
     },
     "metadata": {},
     "output_type": "display_data"
    },
    {
     "data": {
      "application/vnd.jupyter.widget-view+json": {
       "model_id": "343b0d12dbc843e7b36d8d6604dc3032",
       "version_major": 2,
       "version_minor": 0
      },
      "text/plain": [
       "Getting ROI info:   0%|          | 0/2 [00:00<?, ?it/s]"
      ]
     },
     "metadata": {},
     "output_type": "display_data"
    },
    {
     "data": {
      "application/vnd.jupyter.widget-view+json": {
       "model_id": "e90b2b94ba36488d87bd1040e3f1a2b1",
       "version_major": 2,
       "version_minor": 0
      },
      "text/plain": [
       "Getting ROI info:   0%|          | 0/2 [00:00<?, ?it/s]"
      ]
     },
     "metadata": {},
     "output_type": "display_data"
    },
    {
     "data": {
      "application/vnd.jupyter.widget-view+json": {
       "model_id": "3cf9245a359245bf81c0d9ee3c3c85de",
       "version_major": 2,
       "version_minor": 0
      },
      "text/plain": [
       "Getting ROI info:   0%|          | 0/2 [00:00<?, ?it/s]"
      ]
     },
     "metadata": {},
     "output_type": "display_data"
    },
    {
     "data": {
      "application/vnd.jupyter.widget-view+json": {
       "model_id": "9f121c49198f40cb97a9be4789e42e9b",
       "version_major": 2,
       "version_minor": 0
      },
      "text/plain": [
       "Getting ROI info:   0%|          | 0/2 [00:00<?, ?it/s]"
      ]
     },
     "metadata": {},
     "output_type": "display_data"
    },
    {
     "data": {
      "application/vnd.jupyter.widget-view+json": {
       "model_id": "6fb0762f9d644c4d80d45d9cdb527347",
       "version_major": 2,
       "version_minor": 0
      },
      "text/plain": [
       "Getting ROI info:   0%|          | 0/2 [00:00<?, ?it/s]"
      ]
     },
     "metadata": {},
     "output_type": "display_data"
    },
    {
     "data": {
      "application/vnd.jupyter.widget-view+json": {
       "model_id": "385b8a14b4b04067ba2c036d0b7e083e",
       "version_major": 2,
       "version_minor": 0
      },
      "text/plain": [
       "Getting ROI info:   0%|          | 0/2 [00:00<?, ?it/s]"
      ]
     },
     "metadata": {},
     "output_type": "display_data"
    },
    {
     "data": {
      "application/vnd.jupyter.widget-view+json": {
       "model_id": "9d5312fcbdfe4097a6d9681b6e1890eb",
       "version_major": 2,
       "version_minor": 0
      },
      "text/plain": [
       "Getting ROI info:   0%|          | 0/2 [00:00<?, ?it/s]"
      ]
     },
     "metadata": {},
     "output_type": "display_data"
    },
    {
     "data": {
      "application/vnd.jupyter.widget-view+json": {
       "model_id": "6820da6b617a444f967f18b558077748",
       "version_major": 2,
       "version_minor": 0
      },
      "text/plain": [
       "Getting ROI info:   0%|          | 0/2 [00:00<?, ?it/s]"
      ]
     },
     "metadata": {},
     "output_type": "display_data"
    },
    {
     "data": {
      "application/vnd.jupyter.widget-view+json": {
       "model_id": "274cc7fa24f244738e65321876b20509",
       "version_major": 2,
       "version_minor": 0
      },
      "text/plain": [
       "Getting ROI info:   0%|          | 0/2 [00:00<?, ?it/s]"
      ]
     },
     "metadata": {},
     "output_type": "display_data"
    },
    {
     "data": {
      "application/vnd.jupyter.widget-view+json": {
       "model_id": "7981adb0a88945f8b2ad8a7fcd2ab78e",
       "version_major": 2,
       "version_minor": 0
      },
      "text/plain": [
       "Getting ROI info:   0%|          | 0/2 [00:00<?, ?it/s]"
      ]
     },
     "metadata": {},
     "output_type": "display_data"
    },
    {
     "data": {
      "application/vnd.jupyter.widget-view+json": {
       "model_id": "3e4e416aeaa64a7dbc359f99cf92b264",
       "version_major": 2,
       "version_minor": 0
      },
      "text/plain": [
       "Getting ROI info:   0%|          | 0/2 [00:00<?, ?it/s]"
      ]
     },
     "metadata": {},
     "output_type": "display_data"
    },
    {
     "data": {
      "application/vnd.jupyter.widget-view+json": {
       "model_id": "eff7ed1b0b9a4d0cbfb639ef4a32c3f3",
       "version_major": 2,
       "version_minor": 0
      },
      "text/plain": [
       "Getting ROI info:   0%|          | 0/2 [00:00<?, ?it/s]"
      ]
     },
     "metadata": {},
     "output_type": "display_data"
    },
    {
     "data": {
      "application/vnd.jupyter.widget-view+json": {
       "model_id": "b45908afe76149a9a6cde1a9fb701874",
       "version_major": 2,
       "version_minor": 0
      },
      "text/plain": [
       "Getting ROI info:   0%|          | 0/2 [00:00<?, ?it/s]"
      ]
     },
     "metadata": {},
     "output_type": "display_data"
    },
    {
     "data": {
      "application/vnd.jupyter.widget-view+json": {
       "model_id": "e400544b4e2941c987b0b37ac87dda1f",
       "version_major": 2,
       "version_minor": 0
      },
      "text/plain": [
       "Getting ROI info:   0%|          | 0/2 [00:00<?, ?it/s]"
      ]
     },
     "metadata": {},
     "output_type": "display_data"
    },
    {
     "data": {
      "application/vnd.jupyter.widget-view+json": {
       "model_id": "4c96fe25494a48c3a324472621613d68",
       "version_major": 2,
       "version_minor": 0
      },
      "text/plain": [
       "Getting ROI info:   0%|          | 0/2 [00:00<?, ?it/s]"
      ]
     },
     "metadata": {},
     "output_type": "display_data"
    },
    {
     "data": {
      "application/vnd.jupyter.widget-view+json": {
       "model_id": "e4ffb290b56a464f87990dc7ed53481d",
       "version_major": 2,
       "version_minor": 0
      },
      "text/plain": [
       "Getting ROI info:   0%|          | 0/2 [00:00<?, ?it/s]"
      ]
     },
     "metadata": {},
     "output_type": "display_data"
    },
    {
     "data": {
      "application/vnd.jupyter.widget-view+json": {
       "model_id": "042a97f85b2042ce90d2af862edf643e",
       "version_major": 2,
       "version_minor": 0
      },
      "text/plain": [
       "Getting ROI info:   0%|          | 0/2 [00:00<?, ?it/s]"
      ]
     },
     "metadata": {},
     "output_type": "display_data"
    },
    {
     "data": {
      "application/vnd.jupyter.widget-view+json": {
       "model_id": "98b6be65fc9a48e9b52e7ae95d7828cb",
       "version_major": 2,
       "version_minor": 0
      },
      "text/plain": [
       "Getting ROI info:   0%|          | 0/2 [00:00<?, ?it/s]"
      ]
     },
     "metadata": {},
     "output_type": "display_data"
    },
    {
     "data": {
      "application/vnd.jupyter.widget-view+json": {
       "model_id": "d09b0e904123439d88481fe3bd1e201a",
       "version_major": 2,
       "version_minor": 0
      },
      "text/plain": [
       "Getting ROI info:   0%|          | 0/2 [00:00<?, ?it/s]"
      ]
     },
     "metadata": {},
     "output_type": "display_data"
    },
    {
     "data": {
      "application/vnd.jupyter.widget-view+json": {
       "model_id": "694bc575e92a401f904f421416273ad7",
       "version_major": 2,
       "version_minor": 0
      },
      "text/plain": [
       "Getting ROI info:   0%|          | 0/2 [00:00<?, ?it/s]"
      ]
     },
     "metadata": {},
     "output_type": "display_data"
    },
    {
     "data": {
      "application/vnd.jupyter.widget-view+json": {
       "model_id": "df50979237da4c28add04dd782123d1f",
       "version_major": 2,
       "version_minor": 0
      },
      "text/plain": [
       "Getting ROI info:   0%|          | 0/2 [00:00<?, ?it/s]"
      ]
     },
     "metadata": {},
     "output_type": "display_data"
    },
    {
     "data": {
      "application/vnd.jupyter.widget-view+json": {
       "model_id": "887f2d6fed874ad58d56552bac8c0182",
       "version_major": 2,
       "version_minor": 0
      },
      "text/plain": [
       "Getting ROI info:   0%|          | 0/2 [00:00<?, ?it/s]"
      ]
     },
     "metadata": {},
     "output_type": "display_data"
    },
    {
     "data": {
      "application/vnd.jupyter.widget-view+json": {
       "model_id": "83d9082122a74a44a979be1e403f4c36",
       "version_major": 2,
       "version_minor": 0
      },
      "text/plain": [
       "Getting ROI info:   0%|          | 0/2 [00:00<?, ?it/s]"
      ]
     },
     "metadata": {},
     "output_type": "display_data"
    },
    {
     "data": {
      "application/vnd.jupyter.widget-view+json": {
       "model_id": "f78533a98ec64d20bfa23120e124939c",
       "version_major": 2,
       "version_minor": 0
      },
      "text/plain": [
       "Getting ROI info:   0%|          | 0/2 [00:00<?, ?it/s]"
      ]
     },
     "metadata": {},
     "output_type": "display_data"
    },
    {
     "data": {
      "application/vnd.jupyter.widget-view+json": {
       "model_id": "4fa074e7d78f4fa48ea7ddb892f71d96",
       "version_major": 2,
       "version_minor": 0
      },
      "text/plain": [
       "Getting ROI info:   0%|          | 0/2 [00:00<?, ?it/s]"
      ]
     },
     "metadata": {},
     "output_type": "display_data"
    },
    {
     "data": {
      "application/vnd.jupyter.widget-view+json": {
       "model_id": "4390ea82289042ddb8be114b0fe757a6",
       "version_major": 2,
       "version_minor": 0
      },
      "text/plain": [
       "Getting ROI info:   0%|          | 0/2 [00:00<?, ?it/s]"
      ]
     },
     "metadata": {},
     "output_type": "display_data"
    },
    {
     "data": {
      "application/vnd.jupyter.widget-view+json": {
       "model_id": "534cc76fa2374b1389fdccc858abd57f",
       "version_major": 2,
       "version_minor": 0
      },
      "text/plain": [
       "Getting ROI info:   0%|          | 0/2 [00:00<?, ?it/s]"
      ]
     },
     "metadata": {},
     "output_type": "display_data"
    },
    {
     "data": {
      "application/vnd.jupyter.widget-view+json": {
       "model_id": "6424dc4dc4bc4c1cb49019d54c7fcb50",
       "version_major": 2,
       "version_minor": 0
      },
      "text/plain": [
       "Getting ROI info:   0%|          | 0/2 [00:00<?, ?it/s]"
      ]
     },
     "metadata": {},
     "output_type": "display_data"
    },
    {
     "data": {
      "application/vnd.jupyter.widget-view+json": {
       "model_id": "6dcf3be5f1914f6382ea0170093388cf",
       "version_major": 2,
       "version_minor": 0
      },
      "text/plain": [
       "Getting ROI info:   0%|          | 0/2 [00:00<?, ?it/s]"
      ]
     },
     "metadata": {},
     "output_type": "display_data"
    },
    {
     "data": {
      "application/vnd.jupyter.widget-view+json": {
       "model_id": "e48fc936b4fe4d2d9a5f55e35016fb78",
       "version_major": 2,
       "version_minor": 0
      },
      "text/plain": [
       "Getting ROI info:   0%|          | 0/2 [00:00<?, ?it/s]"
      ]
     },
     "metadata": {},
     "output_type": "display_data"
    },
    {
     "data": {
      "application/vnd.jupyter.widget-view+json": {
       "model_id": "1ceb16afaddc4630ad2b64c504494674",
       "version_major": 2,
       "version_minor": 0
      },
      "text/plain": [
       "Getting ROI info:   0%|          | 0/2 [00:00<?, ?it/s]"
      ]
     },
     "metadata": {},
     "output_type": "display_data"
    },
    {
     "data": {
      "application/vnd.jupyter.widget-view+json": {
       "model_id": "a3aea760a84f499ca7321a27e7ca217a",
       "version_major": 2,
       "version_minor": 0
      },
      "text/plain": [
       "Getting ROI info:   0%|          | 0/2 [00:00<?, ?it/s]"
      ]
     },
     "metadata": {},
     "output_type": "display_data"
    },
    {
     "data": {
      "application/vnd.jupyter.widget-view+json": {
       "model_id": "ba33ba0e0958488eacf7e4e73471939c",
       "version_major": 2,
       "version_minor": 0
      },
      "text/plain": [
       "Getting ROI info:   0%|          | 0/2 [00:00<?, ?it/s]"
      ]
     },
     "metadata": {},
     "output_type": "display_data"
    },
    {
     "data": {
      "application/vnd.jupyter.widget-view+json": {
       "model_id": "c47b3aec75a142d388af27c08db09ff2",
       "version_major": 2,
       "version_minor": 0
      },
      "text/plain": [
       "Getting ROI info:   0%|          | 0/2 [00:00<?, ?it/s]"
      ]
     },
     "metadata": {},
     "output_type": "display_data"
    },
    {
     "data": {
      "application/vnd.jupyter.widget-view+json": {
       "model_id": "9b23e71879e649829a3d0d49a8bc1c57",
       "version_major": 2,
       "version_minor": 0
      },
      "text/plain": [
       "Getting ROI info:   0%|          | 0/2 [00:00<?, ?it/s]"
      ]
     },
     "metadata": {},
     "output_type": "display_data"
    },
    {
     "data": {
      "application/vnd.jupyter.widget-view+json": {
       "model_id": "17202fa0d29845aeaa5e9e0c2ce8e930",
       "version_major": 2,
       "version_minor": 0
      },
      "text/plain": [
       "Getting ROI info:   0%|          | 0/2 [00:00<?, ?it/s]"
      ]
     },
     "metadata": {},
     "output_type": "display_data"
    },
    {
     "data": {
      "application/vnd.jupyter.widget-view+json": {
       "model_id": "53c20bf750f44473b81033d11954996f",
       "version_major": 2,
       "version_minor": 0
      },
      "text/plain": [
       "Getting ROI info:   0%|          | 0/2 [00:00<?, ?it/s]"
      ]
     },
     "metadata": {},
     "output_type": "display_data"
    },
    {
     "data": {
      "application/vnd.jupyter.widget-view+json": {
       "model_id": "55b2d4883baa4429bb8821dc4bfb8672",
       "version_major": 2,
       "version_minor": 0
      },
      "text/plain": [
       "Getting ROI info:   0%|          | 0/2 [00:00<?, ?it/s]"
      ]
     },
     "metadata": {},
     "output_type": "display_data"
    },
    {
     "data": {
      "application/vnd.jupyter.widget-view+json": {
       "model_id": "24aa727c4235462b8c900fd16899bff4",
       "version_major": 2,
       "version_minor": 0
      },
      "text/plain": [
       "Getting ROI info:   0%|          | 0/2 [00:00<?, ?it/s]"
      ]
     },
     "metadata": {},
     "output_type": "display_data"
    },
    {
     "data": {
      "application/vnd.jupyter.widget-view+json": {
       "model_id": "adc2231677a04353a58bd737532c33f4",
       "version_major": 2,
       "version_minor": 0
      },
      "text/plain": [
       "Getting ROI info:   0%|          | 0/2 [00:00<?, ?it/s]"
      ]
     },
     "metadata": {},
     "output_type": "display_data"
    },
    {
     "data": {
      "application/vnd.jupyter.widget-view+json": {
       "model_id": "e15553782bf84f6db98f20e7987b5279",
       "version_major": 2,
       "version_minor": 0
      },
      "text/plain": [
       "Getting ROI info:   0%|          | 0/2 [00:00<?, ?it/s]"
      ]
     },
     "metadata": {},
     "output_type": "display_data"
    },
    {
     "data": {
      "application/vnd.jupyter.widget-view+json": {
       "model_id": "331fdbc3056743119272dfd625aaa96e",
       "version_major": 2,
       "version_minor": 0
      },
      "text/plain": [
       "Getting ROI info:   0%|          | 0/2 [00:00<?, ?it/s]"
      ]
     },
     "metadata": {},
     "output_type": "display_data"
    },
    {
     "data": {
      "application/vnd.jupyter.widget-view+json": {
       "model_id": "1f979db41b2a46b68660cf7d71e10fe3",
       "version_major": 2,
       "version_minor": 0
      },
      "text/plain": [
       "Getting ROI info:   0%|          | 0/2 [00:00<?, ?it/s]"
      ]
     },
     "metadata": {},
     "output_type": "display_data"
    },
    {
     "data": {
      "application/vnd.jupyter.widget-view+json": {
       "model_id": "df6fe90b6a4443468976031f9b360b6d",
       "version_major": 2,
       "version_minor": 0
      },
      "text/plain": [
       "Getting ROI info:   0%|          | 0/2 [00:00<?, ?it/s]"
      ]
     },
     "metadata": {},
     "output_type": "display_data"
    },
    {
     "data": {
      "application/vnd.jupyter.widget-view+json": {
       "model_id": "2eb5ce1c25734060be11f29b2086912c",
       "version_major": 2,
       "version_minor": 0
      },
      "text/plain": [
       "Getting ROI info:   0%|          | 0/2 [00:00<?, ?it/s]"
      ]
     },
     "metadata": {},
     "output_type": "display_data"
    },
    {
     "data": {
      "application/vnd.jupyter.widget-view+json": {
       "model_id": "152d92b372b34bd6b7996745bf988786",
       "version_major": 2,
       "version_minor": 0
      },
      "text/plain": [
       "Getting ROI info:   0%|          | 0/2 [00:00<?, ?it/s]"
      ]
     },
     "metadata": {},
     "output_type": "display_data"
    },
    {
     "data": {
      "application/vnd.jupyter.widget-view+json": {
       "model_id": "773aefe6f1a54c25b92747b4d492d839",
       "version_major": 2,
       "version_minor": 0
      },
      "text/plain": [
       "Getting ROI info:   0%|          | 0/2 [00:00<?, ?it/s]"
      ]
     },
     "metadata": {},
     "output_type": "display_data"
    },
    {
     "data": {
      "application/vnd.jupyter.widget-view+json": {
       "model_id": "7983037bc3f144a69e22cecf892c3784",
       "version_major": 2,
       "version_minor": 0
      },
      "text/plain": [
       "Getting ROI info:   0%|          | 0/2 [00:00<?, ?it/s]"
      ]
     },
     "metadata": {},
     "output_type": "display_data"
    },
    {
     "data": {
      "application/vnd.jupyter.widget-view+json": {
       "model_id": "21351230c4f64d08bf63e091e12e4f7d",
       "version_major": 2,
       "version_minor": 0
      },
      "text/plain": [
       "Getting ROI info:   0%|          | 0/2 [00:00<?, ?it/s]"
      ]
     },
     "metadata": {},
     "output_type": "display_data"
    },
    {
     "data": {
      "application/vnd.jupyter.widget-view+json": {
       "model_id": "c23e01dae3cb4e988970c57d0716f5a8",
       "version_major": 2,
       "version_minor": 0
      },
      "text/plain": [
       "Getting ROI info:   0%|          | 0/2 [00:00<?, ?it/s]"
      ]
     },
     "metadata": {},
     "output_type": "display_data"
    },
    {
     "data": {
      "application/vnd.jupyter.widget-view+json": {
       "model_id": "d8d858f9fc8b45d6be5f8ebc07227be6",
       "version_major": 2,
       "version_minor": 0
      },
      "text/plain": [
       "Getting ROI info:   0%|          | 0/2 [00:00<?, ?it/s]"
      ]
     },
     "metadata": {},
     "output_type": "display_data"
    },
    {
     "data": {
      "application/vnd.jupyter.widget-view+json": {
       "model_id": "c8224aa87cd94b51a380e45dd5b64e11",
       "version_major": 2,
       "version_minor": 0
      },
      "text/plain": [
       "Getting ROI info:   0%|          | 0/2 [00:00<?, ?it/s]"
      ]
     },
     "metadata": {},
     "output_type": "display_data"
    },
    {
     "data": {
      "application/vnd.jupyter.widget-view+json": {
       "model_id": "5ab16d360ccb4e79b416af15a12c9ac4",
       "version_major": 2,
       "version_minor": 0
      },
      "text/plain": [
       "Getting ROI info:   0%|          | 0/2 [00:00<?, ?it/s]"
      ]
     },
     "metadata": {},
     "output_type": "display_data"
    },
    {
     "data": {
      "application/vnd.jupyter.widget-view+json": {
       "model_id": "a302ae92a5b24600993a59fb7b10d38d",
       "version_major": 2,
       "version_minor": 0
      },
      "text/plain": [
       "Getting ROI info:   0%|          | 0/2 [00:00<?, ?it/s]"
      ]
     },
     "metadata": {},
     "output_type": "display_data"
    },
    {
     "data": {
      "application/vnd.jupyter.widget-view+json": {
       "model_id": "e841e75a92bf42459832e03a7091fdad",
       "version_major": 2,
       "version_minor": 0
      },
      "text/plain": [
       "Getting ROI info:   0%|          | 0/2 [00:00<?, ?it/s]"
      ]
     },
     "metadata": {},
     "output_type": "display_data"
    },
    {
     "data": {
      "application/vnd.jupyter.widget-view+json": {
       "model_id": "16deabc5ab084eb58b7d07bde71870f6",
       "version_major": 2,
       "version_minor": 0
      },
      "text/plain": [
       "Getting ROI info:   0%|          | 0/2 [00:00<?, ?it/s]"
      ]
     },
     "metadata": {},
     "output_type": "display_data"
    },
    {
     "data": {
      "application/vnd.jupyter.widget-view+json": {
       "model_id": "84d95f9da4054d31adf05ed763302645",
       "version_major": 2,
       "version_minor": 0
      },
      "text/plain": [
       "Getting ROI info:   0%|          | 0/2 [00:00<?, ?it/s]"
      ]
     },
     "metadata": {},
     "output_type": "display_data"
    },
    {
     "data": {
      "application/vnd.jupyter.widget-view+json": {
       "model_id": "08b6798a613a451c97b2d958985154c8",
       "version_major": 2,
       "version_minor": 0
      },
      "text/plain": [
       "Getting ROI info:   0%|          | 0/2 [00:00<?, ?it/s]"
      ]
     },
     "metadata": {},
     "output_type": "display_data"
    },
    {
     "data": {
      "application/vnd.jupyter.widget-view+json": {
       "model_id": "fd4abdd1815e4c71b15a13dc704379fd",
       "version_major": 2,
       "version_minor": 0
      },
      "text/plain": [
       "Getting ROI info:   0%|          | 0/2 [00:00<?, ?it/s]"
      ]
     },
     "metadata": {},
     "output_type": "display_data"
    },
    {
     "data": {
      "application/vnd.jupyter.widget-view+json": {
       "model_id": "5ad24a4c1b2f408089c536946e68c45e",
       "version_major": 2,
       "version_minor": 0
      },
      "text/plain": [
       "Getting ROI info:   0%|          | 0/2 [00:00<?, ?it/s]"
      ]
     },
     "metadata": {},
     "output_type": "display_data"
    },
    {
     "data": {
      "application/vnd.jupyter.widget-view+json": {
       "model_id": "adfd31d9b3ed4f05b7d0e54b3d381a82",
       "version_major": 2,
       "version_minor": 0
      },
      "text/plain": [
       "Getting ROI info:   0%|          | 0/2 [00:00<?, ?it/s]"
      ]
     },
     "metadata": {},
     "output_type": "display_data"
    },
    {
     "data": {
      "application/vnd.jupyter.widget-view+json": {
       "model_id": "85771efc00dc4f2ba083f1e1d8f33ce0",
       "version_major": 2,
       "version_minor": 0
      },
      "text/plain": [
       "Getting ROI info:   0%|          | 0/2 [00:00<?, ?it/s]"
      ]
     },
     "metadata": {},
     "output_type": "display_data"
    },
    {
     "data": {
      "application/vnd.jupyter.widget-view+json": {
       "model_id": "7787a5d7a7054016ad8c4a6854770eb2",
       "version_major": 2,
       "version_minor": 0
      },
      "text/plain": [
       "Getting ROI info:   0%|          | 0/2 [00:00<?, ?it/s]"
      ]
     },
     "metadata": {},
     "output_type": "display_data"
    },
    {
     "data": {
      "application/vnd.jupyter.widget-view+json": {
       "model_id": "c72e8ccfc3be4a58a8435ed66edaf895",
       "version_major": 2,
       "version_minor": 0
      },
      "text/plain": [
       "Getting ROI info:   0%|          | 0/2 [00:00<?, ?it/s]"
      ]
     },
     "metadata": {},
     "output_type": "display_data"
    },
    {
     "data": {
      "application/vnd.jupyter.widget-view+json": {
       "model_id": "03b0768a8534412c8810d18f4d746272",
       "version_major": 2,
       "version_minor": 0
      },
      "text/plain": [
       "Getting ROI info:   0%|          | 0/2 [00:00<?, ?it/s]"
      ]
     },
     "metadata": {},
     "output_type": "display_data"
    },
    {
     "data": {
      "application/vnd.jupyter.widget-view+json": {
       "model_id": "5513975664114ee78bc4e0abf47b93c7",
       "version_major": 2,
       "version_minor": 0
      },
      "text/plain": [
       "Getting ROI info:   0%|          | 0/2 [00:00<?, ?it/s]"
      ]
     },
     "metadata": {},
     "output_type": "display_data"
    },
    {
     "data": {
      "application/vnd.jupyter.widget-view+json": {
       "model_id": "93f1f6bd798c42ab98dabafaeff267f1",
       "version_major": 2,
       "version_minor": 0
      },
      "text/plain": [
       "Getting ROI info:   0%|          | 0/2 [00:00<?, ?it/s]"
      ]
     },
     "metadata": {},
     "output_type": "display_data"
    },
    {
     "data": {
      "application/vnd.jupyter.widget-view+json": {
       "model_id": "cce2e7dc768742119379c1c6dcf96ca3",
       "version_major": 2,
       "version_minor": 0
      },
      "text/plain": [
       "Getting ROI info:   0%|          | 0/2 [00:00<?, ?it/s]"
      ]
     },
     "metadata": {},
     "output_type": "display_data"
    },
    {
     "data": {
      "application/vnd.jupyter.widget-view+json": {
       "model_id": "6674fcf56dd041879e07d562dcd3ae95",
       "version_major": 2,
       "version_minor": 0
      },
      "text/plain": [
       "Getting ROI info:   0%|          | 0/2 [00:00<?, ?it/s]"
      ]
     },
     "metadata": {},
     "output_type": "display_data"
    },
    {
     "data": {
      "application/vnd.jupyter.widget-view+json": {
       "model_id": "1b242c23f8874fdc9d1853a9f9735887",
       "version_major": 2,
       "version_minor": 0
      },
      "text/plain": [
       "Getting ROI info:   0%|          | 0/2 [00:00<?, ?it/s]"
      ]
     },
     "metadata": {},
     "output_type": "display_data"
    },
    {
     "data": {
      "application/vnd.jupyter.widget-view+json": {
       "model_id": "0de84e57adaa4dfc8adb2516029538af",
       "version_major": 2,
       "version_minor": 0
      },
      "text/plain": [
       "Getting ROI info:   0%|          | 0/2 [00:00<?, ?it/s]"
      ]
     },
     "metadata": {},
     "output_type": "display_data"
    },
    {
     "data": {
      "application/vnd.jupyter.widget-view+json": {
       "model_id": "9c83003b3ac14ed096d5e20c7a61da93",
       "version_major": 2,
       "version_minor": 0
      },
      "text/plain": [
       "Getting ROI info:   0%|          | 0/2 [00:00<?, ?it/s]"
      ]
     },
     "metadata": {},
     "output_type": "display_data"
    },
    {
     "data": {
      "application/vnd.jupyter.widget-view+json": {
       "model_id": "77d190c0372d4ddb8ad34263fc442fe1",
       "version_major": 2,
       "version_minor": 0
      },
      "text/plain": [
       "Getting ROI info:   0%|          | 0/2 [00:00<?, ?it/s]"
      ]
     },
     "metadata": {},
     "output_type": "display_data"
    },
    {
     "data": {
      "application/vnd.jupyter.widget-view+json": {
       "model_id": "fa8a2cad2974407995f2a09468111e51",
       "version_major": 2,
       "version_minor": 0
      },
      "text/plain": [
       "Getting ROI info:   0%|          | 0/2 [00:00<?, ?it/s]"
      ]
     },
     "metadata": {},
     "output_type": "display_data"
    },
    {
     "data": {
      "application/vnd.jupyter.widget-view+json": {
       "model_id": "04e833fe607d4885802f9ce2c7ea98cc",
       "version_major": 2,
       "version_minor": 0
      },
      "text/plain": [
       "Getting ROI info:   0%|          | 0/2 [00:00<?, ?it/s]"
      ]
     },
     "metadata": {},
     "output_type": "display_data"
    },
    {
     "data": {
      "application/vnd.jupyter.widget-view+json": {
       "model_id": "216699303e4a4831a349d0662303ec2c",
       "version_major": 2,
       "version_minor": 0
      },
      "text/plain": [
       "Getting ROI info:   0%|          | 0/2 [00:00<?, ?it/s]"
      ]
     },
     "metadata": {},
     "output_type": "display_data"
    },
    {
     "data": {
      "application/vnd.jupyter.widget-view+json": {
       "model_id": "4291da2e8ce246c9af7f7acc5cb39adb",
       "version_major": 2,
       "version_minor": 0
      },
      "text/plain": [
       "Getting ROI info:   0%|          | 0/2 [00:00<?, ?it/s]"
      ]
     },
     "metadata": {},
     "output_type": "display_data"
    },
    {
     "data": {
      "application/vnd.jupyter.widget-view+json": {
       "model_id": "15dd3fb3deed4f99bbfa027a33ae974c",
       "version_major": 2,
       "version_minor": 0
      },
      "text/plain": [
       "Getting ROI info:   0%|          | 0/2 [00:00<?, ?it/s]"
      ]
     },
     "metadata": {},
     "output_type": "display_data"
    },
    {
     "data": {
      "application/vnd.jupyter.widget-view+json": {
       "model_id": "b4e46d1bf56141e59891a9e9043b3ea9",
       "version_major": 2,
       "version_minor": 0
      },
      "text/plain": [
       "Getting ROI info:   0%|          | 0/2 [00:00<?, ?it/s]"
      ]
     },
     "metadata": {},
     "output_type": "display_data"
    },
    {
     "data": {
      "application/vnd.jupyter.widget-view+json": {
       "model_id": "b69b5561bcec43b0ad2c53fefb4d67e0",
       "version_major": 2,
       "version_minor": 0
      },
      "text/plain": [
       "Getting ROI info:   0%|          | 0/2 [00:00<?, ?it/s]"
      ]
     },
     "metadata": {},
     "output_type": "display_data"
    },
    {
     "data": {
      "application/vnd.jupyter.widget-view+json": {
       "model_id": "a35eb5e1d28042f183000e61bdde475e",
       "version_major": 2,
       "version_minor": 0
      },
      "text/plain": [
       "Getting ROI info:   0%|          | 0/2 [00:00<?, ?it/s]"
      ]
     },
     "metadata": {},
     "output_type": "display_data"
    },
    {
     "data": {
      "application/vnd.jupyter.widget-view+json": {
       "model_id": "1c735f31584f45eea8403afbc4625ee8",
       "version_major": 2,
       "version_minor": 0
      },
      "text/plain": [
       "Getting ROI info:   0%|          | 0/2 [00:00<?, ?it/s]"
      ]
     },
     "metadata": {},
     "output_type": "display_data"
    },
    {
     "data": {
      "application/vnd.jupyter.widget-view+json": {
       "model_id": "799eabea7c524c5e8c6ada78fad79c8b",
       "version_major": 2,
       "version_minor": 0
      },
      "text/plain": [
       "Getting ROI info:   0%|          | 0/2 [00:00<?, ?it/s]"
      ]
     },
     "metadata": {},
     "output_type": "display_data"
    },
    {
     "data": {
      "application/vnd.jupyter.widget-view+json": {
       "model_id": "53baf0bf91114d4095c4247a7e032e17",
       "version_major": 2,
       "version_minor": 0
      },
      "text/plain": [
       "Getting ROI info:   0%|          | 0/2 [00:00<?, ?it/s]"
      ]
     },
     "metadata": {},
     "output_type": "display_data"
    },
    {
     "data": {
      "application/vnd.jupyter.widget-view+json": {
       "model_id": "b73ca383747a45299a12c83b636c0178",
       "version_major": 2,
       "version_minor": 0
      },
      "text/plain": [
       "Getting ROI info:   0%|          | 0/2 [00:00<?, ?it/s]"
      ]
     },
     "metadata": {},
     "output_type": "display_data"
    },
    {
     "data": {
      "application/vnd.jupyter.widget-view+json": {
       "model_id": "0da350d4ad2e4b239ddfc8f111955845",
       "version_major": 2,
       "version_minor": 0
      },
      "text/plain": [
       "Getting ROI info:   0%|          | 0/2 [00:00<?, ?it/s]"
      ]
     },
     "metadata": {},
     "output_type": "display_data"
    },
    {
     "data": {
      "application/vnd.jupyter.widget-view+json": {
       "model_id": "a1dfc08e8c2c43e08327c2c5a5dccce5",
       "version_major": 2,
       "version_minor": 0
      },
      "text/plain": [
       "Getting ROI info:   0%|          | 0/2 [00:00<?, ?it/s]"
      ]
     },
     "metadata": {},
     "output_type": "display_data"
    },
    {
     "data": {
      "application/vnd.jupyter.widget-view+json": {
       "model_id": "b7bc8b5360344498b1ad1f0c0f204d08",
       "version_major": 2,
       "version_minor": 0
      },
      "text/plain": [
       "Getting ROI info:   0%|          | 0/2 [00:00<?, ?it/s]"
      ]
     },
     "metadata": {},
     "output_type": "display_data"
    },
    {
     "data": {
      "application/vnd.jupyter.widget-view+json": {
       "model_id": "afaf723a09564ad084efd2ba5cd34cca",
       "version_major": 2,
       "version_minor": 0
      },
      "text/plain": [
       "Getting ROI info:   0%|          | 0/2 [00:00<?, ?it/s]"
      ]
     },
     "metadata": {},
     "output_type": "display_data"
    },
    {
     "data": {
      "application/vnd.jupyter.widget-view+json": {
       "model_id": "da854c17081541578c368ede9c0ca9a7",
       "version_major": 2,
       "version_minor": 0
      },
      "text/plain": [
       "Getting ROI info:   0%|          | 0/2 [00:00<?, ?it/s]"
      ]
     },
     "metadata": {},
     "output_type": "display_data"
    },
    {
     "data": {
      "application/vnd.jupyter.widget-view+json": {
       "model_id": "d34dd71028c049d7b07bf40cfe818478",
       "version_major": 2,
       "version_minor": 0
      },
      "text/plain": [
       "Getting ROI info:   0%|          | 0/2 [00:00<?, ?it/s]"
      ]
     },
     "metadata": {},
     "output_type": "display_data"
    },
    {
     "data": {
      "application/vnd.jupyter.widget-view+json": {
       "model_id": "8a93d1a29c3044c98b7b2547440663c2",
       "version_major": 2,
       "version_minor": 0
      },
      "text/plain": [
       "Getting ROI info:   0%|          | 0/2 [00:00<?, ?it/s]"
      ]
     },
     "metadata": {},
     "output_type": "display_data"
    },
    {
     "data": {
      "application/vnd.jupyter.widget-view+json": {
       "model_id": "8efdd80345414342a73e40648f55239c",
       "version_major": 2,
       "version_minor": 0
      },
      "text/plain": [
       "Getting ROI info:   0%|          | 0/2 [00:00<?, ?it/s]"
      ]
     },
     "metadata": {},
     "output_type": "display_data"
    },
    {
     "data": {
      "application/vnd.jupyter.widget-view+json": {
       "model_id": "aff2e32d15794a8c899ab632ab170a44",
       "version_major": 2,
       "version_minor": 0
      },
      "text/plain": [
       "Getting ROI info:   0%|          | 0/2 [00:00<?, ?it/s]"
      ]
     },
     "metadata": {},
     "output_type": "display_data"
    },
    {
     "data": {
      "application/vnd.jupyter.widget-view+json": {
       "model_id": "5b8a51311f2f466f8197d5b29a8d9893",
       "version_major": 2,
       "version_minor": 0
      },
      "text/plain": [
       "Getting ROI info:   0%|          | 0/2 [00:00<?, ?it/s]"
      ]
     },
     "metadata": {},
     "output_type": "display_data"
    },
    {
     "data": {
      "application/vnd.jupyter.widget-view+json": {
       "model_id": "b13c149d6afb4f41bac829a6725e8978",
       "version_major": 2,
       "version_minor": 0
      },
      "text/plain": [
       "Getting ROI info:   0%|          | 0/2 [00:00<?, ?it/s]"
      ]
     },
     "metadata": {},
     "output_type": "display_data"
    },
    {
     "data": {
      "application/vnd.jupyter.widget-view+json": {
       "model_id": "863a5112f3c94bf58f02eb978146b2b5",
       "version_major": 2,
       "version_minor": 0
      },
      "text/plain": [
       "Getting ROI info:   0%|          | 0/2 [00:00<?, ?it/s]"
      ]
     },
     "metadata": {},
     "output_type": "display_data"
    },
    {
     "data": {
      "application/vnd.jupyter.widget-view+json": {
       "model_id": "1f931573bcef42f3a84383795d5f36fe",
       "version_major": 2,
       "version_minor": 0
      },
      "text/plain": [
       "Getting ROI info:   0%|          | 0/2 [00:00<?, ?it/s]"
      ]
     },
     "metadata": {},
     "output_type": "display_data"
    },
    {
     "data": {
      "application/vnd.jupyter.widget-view+json": {
       "model_id": "7431d31fe0404c8381635da39cb49986",
       "version_major": 2,
       "version_minor": 0
      },
      "text/plain": [
       "Getting ROI info:   0%|          | 0/2 [00:00<?, ?it/s]"
      ]
     },
     "metadata": {},
     "output_type": "display_data"
    },
    {
     "data": {
      "application/vnd.jupyter.widget-view+json": {
       "model_id": "d15bdf186ebe47199ea05d7042f70ed6",
       "version_major": 2,
       "version_minor": 0
      },
      "text/plain": [
       "Getting ROI info:   0%|          | 0/2 [00:00<?, ?it/s]"
      ]
     },
     "metadata": {},
     "output_type": "display_data"
    },
    {
     "data": {
      "application/vnd.jupyter.widget-view+json": {
       "model_id": "d09ab2557d694f71900e8298aa1d7077",
       "version_major": 2,
       "version_minor": 0
      },
      "text/plain": [
       "Getting ROI info:   0%|          | 0/2 [00:00<?, ?it/s]"
      ]
     },
     "metadata": {},
     "output_type": "display_data"
    },
    {
     "data": {
      "application/vnd.jupyter.widget-view+json": {
       "model_id": "100f26399439446493a2da6cbd1a5923",
       "version_major": 2,
       "version_minor": 0
      },
      "text/plain": [
       "Getting ROI info:   0%|          | 0/2 [00:00<?, ?it/s]"
      ]
     },
     "metadata": {},
     "output_type": "display_data"
    },
    {
     "data": {
      "application/vnd.jupyter.widget-view+json": {
       "model_id": "5f49351f000c482f8a51e2983d5d7e5d",
       "version_major": 2,
       "version_minor": 0
      },
      "text/plain": [
       "Getting ROI info:   0%|          | 0/2 [00:00<?, ?it/s]"
      ]
     },
     "metadata": {},
     "output_type": "display_data"
    },
    {
     "data": {
      "application/vnd.jupyter.widget-view+json": {
       "model_id": "1fdc0adfef964594b073b8848fb1181c",
       "version_major": 2,
       "version_minor": 0
      },
      "text/plain": [
       "Getting ROI info:   0%|          | 0/2 [00:00<?, ?it/s]"
      ]
     },
     "metadata": {},
     "output_type": "display_data"
    },
    {
     "data": {
      "application/vnd.jupyter.widget-view+json": {
       "model_id": "109313a7185949f7b233da1113ad5085",
       "version_major": 2,
       "version_minor": 0
      },
      "text/plain": [
       "Getting ROI info:   0%|          | 0/2 [00:00<?, ?it/s]"
      ]
     },
     "metadata": {},
     "output_type": "display_data"
    },
    {
     "data": {
      "application/vnd.jupyter.widget-view+json": {
       "model_id": "1f97cd769414455b815a0cf80023beab",
       "version_major": 2,
       "version_minor": 0
      },
      "text/plain": [
       "Getting ROI info:   0%|          | 0/2 [00:00<?, ?it/s]"
      ]
     },
     "metadata": {},
     "output_type": "display_data"
    },
    {
     "data": {
      "application/vnd.jupyter.widget-view+json": {
       "model_id": "1442567560cb4fe4ae9fd26bb0f837c9",
       "version_major": 2,
       "version_minor": 0
      },
      "text/plain": [
       "Getting ROI info:   0%|          | 0/2 [00:00<?, ?it/s]"
      ]
     },
     "metadata": {},
     "output_type": "display_data"
    },
    {
     "data": {
      "application/vnd.jupyter.widget-view+json": {
       "model_id": "2b1d8b2dffe4402696df4027eae90c62",
       "version_major": 2,
       "version_minor": 0
      },
      "text/plain": [
       "Getting ROI info:   0%|          | 0/2 [00:00<?, ?it/s]"
      ]
     },
     "metadata": {},
     "output_type": "display_data"
    },
    {
     "data": {
      "application/vnd.jupyter.widget-view+json": {
       "model_id": "0434383b50f0482dbe477f704e9cfd11",
       "version_major": 2,
       "version_minor": 0
      },
      "text/plain": [
       "Getting ROI info:   0%|          | 0/2 [00:00<?, ?it/s]"
      ]
     },
     "metadata": {},
     "output_type": "display_data"
    },
    {
     "data": {
      "application/vnd.jupyter.widget-view+json": {
       "model_id": "6735ee3a1ff64be88407db55001e40cb",
       "version_major": 2,
       "version_minor": 0
      },
      "text/plain": [
       "Getting ROI info:   0%|          | 0/2 [00:00<?, ?it/s]"
      ]
     },
     "metadata": {},
     "output_type": "display_data"
    },
    {
     "data": {
      "application/vnd.jupyter.widget-view+json": {
       "model_id": "e2b9acb3899c4de2af8841796f3bf2b9",
       "version_major": 2,
       "version_minor": 0
      },
      "text/plain": [
       "Getting ROI info:   0%|          | 0/2 [00:00<?, ?it/s]"
      ]
     },
     "metadata": {},
     "output_type": "display_data"
    },
    {
     "data": {
      "application/vnd.jupyter.widget-view+json": {
       "model_id": "6c6b411c9376440099d46fdebd78b45a",
       "version_major": 2,
       "version_minor": 0
      },
      "text/plain": [
       "Getting ROI info:   0%|          | 0/2 [00:00<?, ?it/s]"
      ]
     },
     "metadata": {},
     "output_type": "display_data"
    },
    {
     "data": {
      "application/vnd.jupyter.widget-view+json": {
       "model_id": "be8aad6a23154373b3b0703f54a4241f",
       "version_major": 2,
       "version_minor": 0
      },
      "text/plain": [
       "Getting ROI info:   0%|          | 0/2 [00:00<?, ?it/s]"
      ]
     },
     "metadata": {},
     "output_type": "display_data"
    },
    {
     "data": {
      "application/vnd.jupyter.widget-view+json": {
       "model_id": "29a66bedbcfd47d386317b74a3bbde22",
       "version_major": 2,
       "version_minor": 0
      },
      "text/plain": [
       "Getting ROI info:   0%|          | 0/2 [00:00<?, ?it/s]"
      ]
     },
     "metadata": {},
     "output_type": "display_data"
    },
    {
     "data": {
      "application/vnd.jupyter.widget-view+json": {
       "model_id": "226c3b0bec0e4999b98f0b540adb1108",
       "version_major": 2,
       "version_minor": 0
      },
      "text/plain": [
       "Getting ROI info:   0%|          | 0/2 [00:00<?, ?it/s]"
      ]
     },
     "metadata": {},
     "output_type": "display_data"
    },
    {
     "data": {
      "application/vnd.jupyter.widget-view+json": {
       "model_id": "33ded23799474481ab753c659af68884",
       "version_major": 2,
       "version_minor": 0
      },
      "text/plain": [
       "Getting ROI info:   0%|          | 0/2 [00:00<?, ?it/s]"
      ]
     },
     "metadata": {},
     "output_type": "display_data"
    },
    {
     "data": {
      "application/vnd.jupyter.widget-view+json": {
       "model_id": "230eeebbc1f64d5e8753cfa32c9cb36f",
       "version_major": 2,
       "version_minor": 0
      },
      "text/plain": [
       "Getting ROI info:   0%|          | 0/2 [00:00<?, ?it/s]"
      ]
     },
     "metadata": {},
     "output_type": "display_data"
    },
    {
     "data": {
      "application/vnd.jupyter.widget-view+json": {
       "model_id": "ea65d81fc1824329829cec8d89597a4b",
       "version_major": 2,
       "version_minor": 0
      },
      "text/plain": [
       "Getting ROI info:   0%|          | 0/2 [00:00<?, ?it/s]"
      ]
     },
     "metadata": {},
     "output_type": "display_data"
    },
    {
     "data": {
      "application/vnd.jupyter.widget-view+json": {
       "model_id": "df4fd3ae42d64286be8bd8a0a3ba5456",
       "version_major": 2,
       "version_minor": 0
      },
      "text/plain": [
       "Getting ROI info:   0%|          | 0/2 [00:00<?, ?it/s]"
      ]
     },
     "metadata": {},
     "output_type": "display_data"
    },
    {
     "data": {
      "application/vnd.jupyter.widget-view+json": {
       "model_id": "f0d93c7fc2d546b1bd05b8d6c90ecd0a",
       "version_major": 2,
       "version_minor": 0
      },
      "text/plain": [
       "Getting ROI info:   0%|          | 0/2 [00:00<?, ?it/s]"
      ]
     },
     "metadata": {},
     "output_type": "display_data"
    },
    {
     "data": {
      "application/vnd.jupyter.widget-view+json": {
       "model_id": "237c50906ca547a39ad942d8a8a40c32",
       "version_major": 2,
       "version_minor": 0
      },
      "text/plain": [
       "Getting ROI info:   0%|          | 0/2 [00:00<?, ?it/s]"
      ]
     },
     "metadata": {},
     "output_type": "display_data"
    },
    {
     "data": {
      "application/vnd.jupyter.widget-view+json": {
       "model_id": "7f015ab604e5419c8fcba617a9f135f4",
       "version_major": 2,
       "version_minor": 0
      },
      "text/plain": [
       "Getting ROI info:   0%|          | 0/2 [00:00<?, ?it/s]"
      ]
     },
     "metadata": {},
     "output_type": "display_data"
    },
    {
     "data": {
      "application/vnd.jupyter.widget-view+json": {
       "model_id": "bf2724f963504565913e45ea39ef88a3",
       "version_major": 2,
       "version_minor": 0
      },
      "text/plain": [
       "Getting ROI info:   0%|          | 0/2 [00:00<?, ?it/s]"
      ]
     },
     "metadata": {},
     "output_type": "display_data"
    },
    {
     "data": {
      "application/vnd.jupyter.widget-view+json": {
       "model_id": "b5f8bd5a64214e2a9ae009ef582766ed",
       "version_major": 2,
       "version_minor": 0
      },
      "text/plain": [
       "Getting ROI info:   0%|          | 0/2 [00:00<?, ?it/s]"
      ]
     },
     "metadata": {},
     "output_type": "display_data"
    },
    {
     "data": {
      "application/vnd.jupyter.widget-view+json": {
       "model_id": "e4810fff7536479a887a4133d2b7a7e9",
       "version_major": 2,
       "version_minor": 0
      },
      "text/plain": [
       "Getting ROI info:   0%|          | 0/2 [00:00<?, ?it/s]"
      ]
     },
     "metadata": {},
     "output_type": "display_data"
    },
    {
     "data": {
      "application/vnd.jupyter.widget-view+json": {
       "model_id": "f5ed156b4d6242b6822a512b1cdaa62e",
       "version_major": 2,
       "version_minor": 0
      },
      "text/plain": [
       "Getting ROI info:   0%|          | 0/2 [00:00<?, ?it/s]"
      ]
     },
     "metadata": {},
     "output_type": "display_data"
    },
    {
     "data": {
      "application/vnd.jupyter.widget-view+json": {
       "model_id": "281a1a771a6043328df8b90e036797e6",
       "version_major": 2,
       "version_minor": 0
      },
      "text/plain": [
       "Getting ROI info:   0%|          | 0/2 [00:00<?, ?it/s]"
      ]
     },
     "metadata": {},
     "output_type": "display_data"
    },
    {
     "data": {
      "application/vnd.jupyter.widget-view+json": {
       "model_id": "7d38241e184f4cc797ab58644e937d39",
       "version_major": 2,
       "version_minor": 0
      },
      "text/plain": [
       "Getting ROI info:   0%|          | 0/2 [00:00<?, ?it/s]"
      ]
     },
     "metadata": {},
     "output_type": "display_data"
    },
    {
     "data": {
      "application/vnd.jupyter.widget-view+json": {
       "model_id": "2140fbca7f2e4814b05b3a4d10851950",
       "version_major": 2,
       "version_minor": 0
      },
      "text/plain": [
       "Getting ROI info:   0%|          | 0/2 [00:00<?, ?it/s]"
      ]
     },
     "metadata": {},
     "output_type": "display_data"
    },
    {
     "data": {
      "application/vnd.jupyter.widget-view+json": {
       "model_id": "f04cf860f43e4654a0780d7b0b956f91",
       "version_major": 2,
       "version_minor": 0
      },
      "text/plain": [
       "Getting ROI info:   0%|          | 0/2 [00:00<?, ?it/s]"
      ]
     },
     "metadata": {},
     "output_type": "display_data"
    },
    {
     "data": {
      "application/vnd.jupyter.widget-view+json": {
       "model_id": "e00c710ac7884b5092e868cab7cfd980",
       "version_major": 2,
       "version_minor": 0
      },
      "text/plain": [
       "Getting ROI info:   0%|          | 0/2 [00:00<?, ?it/s]"
      ]
     },
     "metadata": {},
     "output_type": "display_data"
    },
    {
     "data": {
      "application/vnd.jupyter.widget-view+json": {
       "model_id": "01a29c116b1e4271bcc91acce00dfd97",
       "version_major": 2,
       "version_minor": 0
      },
      "text/plain": [
       "Getting ROI info:   0%|          | 0/2 [00:00<?, ?it/s]"
      ]
     },
     "metadata": {},
     "output_type": "display_data"
    },
    {
     "data": {
      "application/vnd.jupyter.widget-view+json": {
       "model_id": "457b345ad9f64de0bf0de1de2aa2250b",
       "version_major": 2,
       "version_minor": 0
      },
      "text/plain": [
       "Getting ROI info:   0%|          | 0/2 [00:00<?, ?it/s]"
      ]
     },
     "metadata": {},
     "output_type": "display_data"
    },
    {
     "data": {
      "application/vnd.jupyter.widget-view+json": {
       "model_id": "ad5e1b94b2dd4fa4acf2e48fd9003d39",
       "version_major": 2,
       "version_minor": 0
      },
      "text/plain": [
       "Getting ROI info:   0%|          | 0/2 [00:00<?, ?it/s]"
      ]
     },
     "metadata": {},
     "output_type": "display_data"
    },
    {
     "data": {
      "application/vnd.jupyter.widget-view+json": {
       "model_id": "5bdbe63790ee4503ae5cea6e84a38885",
       "version_major": 2,
       "version_minor": 0
      },
      "text/plain": [
       "Getting ROI info:   0%|          | 0/2 [00:00<?, ?it/s]"
      ]
     },
     "metadata": {},
     "output_type": "display_data"
    },
    {
     "data": {
      "application/vnd.jupyter.widget-view+json": {
       "model_id": "c9f5d582dbe94d1b81caaaad9a6165d9",
       "version_major": 2,
       "version_minor": 0
      },
      "text/plain": [
       "Getting ROI info:   0%|          | 0/2 [00:00<?, ?it/s]"
      ]
     },
     "metadata": {},
     "output_type": "display_data"
    },
    {
     "data": {
      "application/vnd.jupyter.widget-view+json": {
       "model_id": "c7e9337b3a1c4f87acc1bb566e909e66",
       "version_major": 2,
       "version_minor": 0
      },
      "text/plain": [
       "Getting ROI info:   0%|          | 0/2 [00:00<?, ?it/s]"
      ]
     },
     "metadata": {},
     "output_type": "display_data"
    },
    {
     "data": {
      "application/vnd.jupyter.widget-view+json": {
       "model_id": "e1710933dd694124be84b1e17474dc20",
       "version_major": 2,
       "version_minor": 0
      },
      "text/plain": [
       "Getting ROI info:   0%|          | 0/2 [00:00<?, ?it/s]"
      ]
     },
     "metadata": {},
     "output_type": "display_data"
    },
    {
     "data": {
      "application/vnd.jupyter.widget-view+json": {
       "model_id": "03527fe6b2b244fda45032bfd66ecb4a",
       "version_major": 2,
       "version_minor": 0
      },
      "text/plain": [
       "Getting ROI info:   0%|          | 0/2 [00:00<?, ?it/s]"
      ]
     },
     "metadata": {},
     "output_type": "display_data"
    },
    {
     "data": {
      "application/vnd.jupyter.widget-view+json": {
       "model_id": "ccfb7edb37ad4787acc6b30740266aec",
       "version_major": 2,
       "version_minor": 0
      },
      "text/plain": [
       "Getting ROI info:   0%|          | 0/2 [00:00<?, ?it/s]"
      ]
     },
     "metadata": {},
     "output_type": "display_data"
    },
    {
     "data": {
      "application/vnd.jupyter.widget-view+json": {
       "model_id": "31a105ffb42c4740913ecc5b7cdd77da",
       "version_major": 2,
       "version_minor": 0
      },
      "text/plain": [
       "Getting ROI info:   0%|          | 0/2 [00:00<?, ?it/s]"
      ]
     },
     "metadata": {},
     "output_type": "display_data"
    },
    {
     "data": {
      "application/vnd.jupyter.widget-view+json": {
       "model_id": "8184e3f982fa4d8195c9691c3bfd608f",
       "version_major": 2,
       "version_minor": 0
      },
      "text/plain": [
       "Getting ROI info:   0%|          | 0/2 [00:00<?, ?it/s]"
      ]
     },
     "metadata": {},
     "output_type": "display_data"
    },
    {
     "data": {
      "application/vnd.jupyter.widget-view+json": {
       "model_id": "8c63847724bb4c9db97726f90fad26b2",
       "version_major": 2,
       "version_minor": 0
      },
      "text/plain": [
       "Getting ROI info:   0%|          | 0/2 [00:00<?, ?it/s]"
      ]
     },
     "metadata": {},
     "output_type": "display_data"
    },
    {
     "data": {
      "application/vnd.jupyter.widget-view+json": {
       "model_id": "f569c6ad7b8e4b9b913fb0950ac482ae",
       "version_major": 2,
       "version_minor": 0
      },
      "text/plain": [
       "Getting ROI info:   0%|          | 0/2 [00:00<?, ?it/s]"
      ]
     },
     "metadata": {},
     "output_type": "display_data"
    },
    {
     "data": {
      "application/vnd.jupyter.widget-view+json": {
       "model_id": "502e4406355c4d2bba2cbc1fe80d49a7",
       "version_major": 2,
       "version_minor": 0
      },
      "text/plain": [
       "Getting ROI info:   0%|          | 0/2 [00:00<?, ?it/s]"
      ]
     },
     "metadata": {},
     "output_type": "display_data"
    },
    {
     "data": {
      "application/vnd.jupyter.widget-view+json": {
       "model_id": "5e07492e61494828aa9fbbfc5fbd648c",
       "version_major": 2,
       "version_minor": 0
      },
      "text/plain": [
       "Getting ROI info:   0%|          | 0/2 [00:00<?, ?it/s]"
      ]
     },
     "metadata": {},
     "output_type": "display_data"
    },
    {
     "data": {
      "application/vnd.jupyter.widget-view+json": {
       "model_id": "b276d6a311034b30b98e91638a69c93f",
       "version_major": 2,
       "version_minor": 0
      },
      "text/plain": [
       "Getting ROI info:   0%|          | 0/2 [00:00<?, ?it/s]"
      ]
     },
     "metadata": {},
     "output_type": "display_data"
    },
    {
     "data": {
      "application/vnd.jupyter.widget-view+json": {
       "model_id": "2d46ff11bf8a40f384bc5e1a8924dbfa",
       "version_major": 2,
       "version_minor": 0
      },
      "text/plain": [
       "Getting ROI info:   0%|          | 0/2 [00:00<?, ?it/s]"
      ]
     },
     "metadata": {},
     "output_type": "display_data"
    },
    {
     "data": {
      "application/vnd.jupyter.widget-view+json": {
       "model_id": "5755c0e7694d490ca8d44c1923ba94ca",
       "version_major": 2,
       "version_minor": 0
      },
      "text/plain": [
       "Getting ROI info:   0%|          | 0/2 [00:00<?, ?it/s]"
      ]
     },
     "metadata": {},
     "output_type": "display_data"
    },
    {
     "data": {
      "application/vnd.jupyter.widget-view+json": {
       "model_id": "0efa220b677c4c30b1ebc345c24215c4",
       "version_major": 2,
       "version_minor": 0
      },
      "text/plain": [
       "Getting ROI info:   0%|          | 0/2 [00:00<?, ?it/s]"
      ]
     },
     "metadata": {},
     "output_type": "display_data"
    },
    {
     "data": {
      "application/vnd.jupyter.widget-view+json": {
       "model_id": "3407faca64c849ed8d74d8f3cc87268c",
       "version_major": 2,
       "version_minor": 0
      },
      "text/plain": [
       "Getting ROI info:   0%|          | 0/2 [00:00<?, ?it/s]"
      ]
     },
     "metadata": {},
     "output_type": "display_data"
    },
    {
     "data": {
      "application/vnd.jupyter.widget-view+json": {
       "model_id": "94b4746016444c5ea72ebdfee9a33524",
       "version_major": 2,
       "version_minor": 0
      },
      "text/plain": [
       "Getting ROI info:   0%|          | 0/2 [00:00<?, ?it/s]"
      ]
     },
     "metadata": {},
     "output_type": "display_data"
    },
    {
     "data": {
      "application/vnd.jupyter.widget-view+json": {
       "model_id": "53609ed974f8433eb585629a14ba58c0",
       "version_major": 2,
       "version_minor": 0
      },
      "text/plain": [
       "Getting ROI info:   0%|          | 0/2 [00:00<?, ?it/s]"
      ]
     },
     "metadata": {},
     "output_type": "display_data"
    },
    {
     "data": {
      "application/vnd.jupyter.widget-view+json": {
       "model_id": "8eb6cfd1299c4d91b3f870bc50e59a44",
       "version_major": 2,
       "version_minor": 0
      },
      "text/plain": [
       "Getting ROI info:   0%|          | 0/2 [00:00<?, ?it/s]"
      ]
     },
     "metadata": {},
     "output_type": "display_data"
    },
    {
     "data": {
      "application/vnd.jupyter.widget-view+json": {
       "model_id": "45b5784d6265476a919c53d6cdb105db",
       "version_major": 2,
       "version_minor": 0
      },
      "text/plain": [
       "Getting ROI info:   0%|          | 0/2 [00:00<?, ?it/s]"
      ]
     },
     "metadata": {},
     "output_type": "display_data"
    },
    {
     "data": {
      "application/vnd.jupyter.widget-view+json": {
       "model_id": "05e61caf560f49a08ab99b6acf8d6a1e",
       "version_major": 2,
       "version_minor": 0
      },
      "text/plain": [
       "Getting ROI info:   0%|          | 0/2 [00:00<?, ?it/s]"
      ]
     },
     "metadata": {},
     "output_type": "display_data"
    },
    {
     "data": {
      "application/vnd.jupyter.widget-view+json": {
       "model_id": "d33ae6a4e2484556873abe177fe85c1d",
       "version_major": 2,
       "version_minor": 0
      },
      "text/plain": [
       "Getting ROI info:   0%|          | 0/2 [00:00<?, ?it/s]"
      ]
     },
     "metadata": {},
     "output_type": "display_data"
    },
    {
     "data": {
      "application/vnd.jupyter.widget-view+json": {
       "model_id": "bf0d86e3eb1a43f2b24f59ddd50099e5",
       "version_major": 2,
       "version_minor": 0
      },
      "text/plain": [
       "Getting ROI info:   0%|          | 0/2 [00:00<?, ?it/s]"
      ]
     },
     "metadata": {},
     "output_type": "display_data"
    },
    {
     "data": {
      "application/vnd.jupyter.widget-view+json": {
       "model_id": "f34edcd881464f9e91b199cba00cb459",
       "version_major": 2,
       "version_minor": 0
      },
      "text/plain": [
       "Getting ROI info:   0%|          | 0/2 [00:00<?, ?it/s]"
      ]
     },
     "metadata": {},
     "output_type": "display_data"
    },
    {
     "data": {
      "application/vnd.jupyter.widget-view+json": {
       "model_id": "faf35bccd073433c80763f4a38f304bd",
       "version_major": 2,
       "version_minor": 0
      },
      "text/plain": [
       "Getting ROI info:   0%|          | 0/2 [00:00<?, ?it/s]"
      ]
     },
     "metadata": {},
     "output_type": "display_data"
    },
    {
     "data": {
      "application/vnd.jupyter.widget-view+json": {
       "model_id": "2800f96150424d749bf9f2c30ed74295",
       "version_major": 2,
       "version_minor": 0
      },
      "text/plain": [
       "Getting ROI info:   0%|          | 0/2 [00:00<?, ?it/s]"
      ]
     },
     "metadata": {},
     "output_type": "display_data"
    },
    {
     "data": {
      "application/vnd.jupyter.widget-view+json": {
       "model_id": "1813ff04a7aa4f65b3542c683bd33584",
       "version_major": 2,
       "version_minor": 0
      },
      "text/plain": [
       "Getting ROI info:   0%|          | 0/2 [00:00<?, ?it/s]"
      ]
     },
     "metadata": {},
     "output_type": "display_data"
    },
    {
     "data": {
      "application/vnd.jupyter.widget-view+json": {
       "model_id": "44aa4bbc46bc4443a80d911a095f3abc",
       "version_major": 2,
       "version_minor": 0
      },
      "text/plain": [
       "Getting ROI info:   0%|          | 0/2 [00:00<?, ?it/s]"
      ]
     },
     "metadata": {},
     "output_type": "display_data"
    },
    {
     "data": {
      "application/vnd.jupyter.widget-view+json": {
       "model_id": "55697fd027224cada68cdeec5a080260",
       "version_major": 2,
       "version_minor": 0
      },
      "text/plain": [
       "Getting ROI info:   0%|          | 0/2 [00:00<?, ?it/s]"
      ]
     },
     "metadata": {},
     "output_type": "display_data"
    },
    {
     "data": {
      "application/vnd.jupyter.widget-view+json": {
       "model_id": "688f075490eb471792a1fee8b5c71c80",
       "version_major": 2,
       "version_minor": 0
      },
      "text/plain": [
       "Getting ROI info:   0%|          | 0/2 [00:00<?, ?it/s]"
      ]
     },
     "metadata": {},
     "output_type": "display_data"
    },
    {
     "data": {
      "application/vnd.jupyter.widget-view+json": {
       "model_id": "41439d41035847fbb4aa08ef5f8fd832",
       "version_major": 2,
       "version_minor": 0
      },
      "text/plain": [
       "Getting ROI info:   0%|          | 0/2 [00:00<?, ?it/s]"
      ]
     },
     "metadata": {},
     "output_type": "display_data"
    },
    {
     "data": {
      "application/vnd.jupyter.widget-view+json": {
       "model_id": "6e74986ae1224bc59d3349f91f828190",
       "version_major": 2,
       "version_minor": 0
      },
      "text/plain": [
       "Getting ROI info:   0%|          | 0/2 [00:00<?, ?it/s]"
      ]
     },
     "metadata": {},
     "output_type": "display_data"
    },
    {
     "data": {
      "application/vnd.jupyter.widget-view+json": {
       "model_id": "d13fa53c15a64d1db3ea65843851752d",
       "version_major": 2,
       "version_minor": 0
      },
      "text/plain": [
       "Getting ROI info:   0%|          | 0/2 [00:00<?, ?it/s]"
      ]
     },
     "metadata": {},
     "output_type": "display_data"
    },
    {
     "data": {
      "application/vnd.jupyter.widget-view+json": {
       "model_id": "161983229bd44ae690ed7b539247719a",
       "version_major": 2,
       "version_minor": 0
      },
      "text/plain": [
       "Getting ROI info:   0%|          | 0/2 [00:00<?, ?it/s]"
      ]
     },
     "metadata": {},
     "output_type": "display_data"
    },
    {
     "data": {
      "application/vnd.jupyter.widget-view+json": {
       "model_id": "c54271f6f9174b33a1513b905d9a603b",
       "version_major": 2,
       "version_minor": 0
      },
      "text/plain": [
       "Getting ROI info:   0%|          | 0/2 [00:00<?, ?it/s]"
      ]
     },
     "metadata": {},
     "output_type": "display_data"
    },
    {
     "data": {
      "application/vnd.jupyter.widget-view+json": {
       "model_id": "5bfa8f73c45b43d09301d0bbb0d2e661",
       "version_major": 2,
       "version_minor": 0
      },
      "text/plain": [
       "Getting ROI info:   0%|          | 0/2 [00:00<?, ?it/s]"
      ]
     },
     "metadata": {},
     "output_type": "display_data"
    },
    {
     "data": {
      "application/vnd.jupyter.widget-view+json": {
       "model_id": "ee4577b946924f84a02a116fb09a7014",
       "version_major": 2,
       "version_minor": 0
      },
      "text/plain": [
       "Getting ROI info:   0%|          | 0/2 [00:00<?, ?it/s]"
      ]
     },
     "metadata": {},
     "output_type": "display_data"
    },
    {
     "data": {
      "application/vnd.jupyter.widget-view+json": {
       "model_id": "a13d52d7b8ad4747941d64d28dcdc04a",
       "version_major": 2,
       "version_minor": 0
      },
      "text/plain": [
       "Getting ROI info:   0%|          | 0/2 [00:00<?, ?it/s]"
      ]
     },
     "metadata": {},
     "output_type": "display_data"
    },
    {
     "data": {
      "application/vnd.jupyter.widget-view+json": {
       "model_id": "0698811934924e52872daa04c852e62c",
       "version_major": 2,
       "version_minor": 0
      },
      "text/plain": [
       "Getting ROI info:   0%|          | 0/2 [00:00<?, ?it/s]"
      ]
     },
     "metadata": {},
     "output_type": "display_data"
    },
    {
     "data": {
      "application/vnd.jupyter.widget-view+json": {
       "model_id": "b1067b5425e5441aaa7f6a1bf73ad3b8",
       "version_major": 2,
       "version_minor": 0
      },
      "text/plain": [
       "Getting ROI info:   0%|          | 0/2 [00:00<?, ?it/s]"
      ]
     },
     "metadata": {},
     "output_type": "display_data"
    },
    {
     "data": {
      "application/vnd.jupyter.widget-view+json": {
       "model_id": "e198fb40a9734373960c84d1af444aa2",
       "version_major": 2,
       "version_minor": 0
      },
      "text/plain": [
       "Getting ROI info:   0%|          | 0/2 [00:00<?, ?it/s]"
      ]
     },
     "metadata": {},
     "output_type": "display_data"
    },
    {
     "data": {
      "application/vnd.jupyter.widget-view+json": {
       "model_id": "afce3d701e374722a06f6a9c23b13228",
       "version_major": 2,
       "version_minor": 0
      },
      "text/plain": [
       "Getting ROI info:   0%|          | 0/2 [00:00<?, ?it/s]"
      ]
     },
     "metadata": {},
     "output_type": "display_data"
    },
    {
     "data": {
      "application/vnd.jupyter.widget-view+json": {
       "model_id": "f0c8a9391746402c8815731d558ddf3b",
       "version_major": 2,
       "version_minor": 0
      },
      "text/plain": [
       "Getting ROI info:   0%|          | 0/2 [00:00<?, ?it/s]"
      ]
     },
     "metadata": {},
     "output_type": "display_data"
    },
    {
     "data": {
      "application/vnd.jupyter.widget-view+json": {
       "model_id": "5071044afdc446a2b848cc809e3ec2b9",
       "version_major": 2,
       "version_minor": 0
      },
      "text/plain": [
       "Getting ROI info:   0%|          | 0/2 [00:00<?, ?it/s]"
      ]
     },
     "metadata": {},
     "output_type": "display_data"
    },
    {
     "data": {
      "application/vnd.jupyter.widget-view+json": {
       "model_id": "ba2a16e8c519437695a62c9167de847a",
       "version_major": 2,
       "version_minor": 0
      },
      "text/plain": [
       "Getting ROI info:   0%|          | 0/2 [00:00<?, ?it/s]"
      ]
     },
     "metadata": {},
     "output_type": "display_data"
    },
    {
     "data": {
      "application/vnd.jupyter.widget-view+json": {
       "model_id": "70badbfff3194e259eb8cd956a369e5f",
       "version_major": 2,
       "version_minor": 0
      },
      "text/plain": [
       "Getting ROI info:   0%|          | 0/2 [00:00<?, ?it/s]"
      ]
     },
     "metadata": {},
     "output_type": "display_data"
    },
    {
     "data": {
      "application/vnd.jupyter.widget-view+json": {
       "model_id": "8d05136839f348f78af150d9a4d7a95c",
       "version_major": 2,
       "version_minor": 0
      },
      "text/plain": [
       "Getting ROI info:   0%|          | 0/2 [00:00<?, ?it/s]"
      ]
     },
     "metadata": {},
     "output_type": "display_data"
    },
    {
     "data": {
      "application/vnd.jupyter.widget-view+json": {
       "model_id": "93015b0f998c41a2b2b592244613d820",
       "version_major": 2,
       "version_minor": 0
      },
      "text/plain": [
       "Getting ROI info:   0%|          | 0/2 [00:00<?, ?it/s]"
      ]
     },
     "metadata": {},
     "output_type": "display_data"
    },
    {
     "data": {
      "application/vnd.jupyter.widget-view+json": {
       "model_id": "9ce835f36c6a4520afb07d4729258bde",
       "version_major": 2,
       "version_minor": 0
      },
      "text/plain": [
       "Getting ROI info:   0%|          | 0/2 [00:00<?, ?it/s]"
      ]
     },
     "metadata": {},
     "output_type": "display_data"
    },
    {
     "data": {
      "application/vnd.jupyter.widget-view+json": {
       "model_id": "672d1efd571b4132996aa92648c75555",
       "version_major": 2,
       "version_minor": 0
      },
      "text/plain": [
       "Getting ROI info:   0%|          | 0/2 [00:00<?, ?it/s]"
      ]
     },
     "metadata": {},
     "output_type": "display_data"
    },
    {
     "data": {
      "application/vnd.jupyter.widget-view+json": {
       "model_id": "7925cd12691a4ed69dea7e6a50609965",
       "version_major": 2,
       "version_minor": 0
      },
      "text/plain": [
       "Getting ROI info:   0%|          | 0/2 [00:00<?, ?it/s]"
      ]
     },
     "metadata": {},
     "output_type": "display_data"
    },
    {
     "data": {
      "application/vnd.jupyter.widget-view+json": {
       "model_id": "213066c2316e4cada7bc6207faf94328",
       "version_major": 2,
       "version_minor": 0
      },
      "text/plain": [
       "Getting ROI info:   0%|          | 0/2 [00:00<?, ?it/s]"
      ]
     },
     "metadata": {},
     "output_type": "display_data"
    },
    {
     "data": {
      "application/vnd.jupyter.widget-view+json": {
       "model_id": "fde4fa99b38d432d8e03d3a92e35a3c6",
       "version_major": 2,
       "version_minor": 0
      },
      "text/plain": [
       "Getting ROI info:   0%|          | 0/2 [00:00<?, ?it/s]"
      ]
     },
     "metadata": {},
     "output_type": "display_data"
    },
    {
     "data": {
      "application/vnd.jupyter.widget-view+json": {
       "model_id": "639466a86ccd4dcb9525dcfb184ebfac",
       "version_major": 2,
       "version_minor": 0
      },
      "text/plain": [
       "Getting ROI info:   0%|          | 0/2 [00:00<?, ?it/s]"
      ]
     },
     "metadata": {},
     "output_type": "display_data"
    },
    {
     "data": {
      "application/vnd.jupyter.widget-view+json": {
       "model_id": "c7d0705a72fd44e186e7d1f4e086974a",
       "version_major": 2,
       "version_minor": 0
      },
      "text/plain": [
       "Getting ROI info:   0%|          | 0/2 [00:00<?, ?it/s]"
      ]
     },
     "metadata": {},
     "output_type": "display_data"
    },
    {
     "data": {
      "application/vnd.jupyter.widget-view+json": {
       "model_id": "8ef0cd1fe09d4e009afe0c2b7bc99ed2",
       "version_major": 2,
       "version_minor": 0
      },
      "text/plain": [
       "Getting ROI info:   0%|          | 0/2 [00:00<?, ?it/s]"
      ]
     },
     "metadata": {},
     "output_type": "display_data"
    },
    {
     "data": {
      "application/vnd.jupyter.widget-view+json": {
       "model_id": "0a4f216de5494497b2b67d653319e756",
       "version_major": 2,
       "version_minor": 0
      },
      "text/plain": [
       "Getting ROI info:   0%|          | 0/2 [00:00<?, ?it/s]"
      ]
     },
     "metadata": {},
     "output_type": "display_data"
    },
    {
     "data": {
      "application/vnd.jupyter.widget-view+json": {
       "model_id": "ab3b7dcc9b1b49868bfa2d29718636fe",
       "version_major": 2,
       "version_minor": 0
      },
      "text/plain": [
       "Getting ROI info:   0%|          | 0/2 [00:00<?, ?it/s]"
      ]
     },
     "metadata": {},
     "output_type": "display_data"
    },
    {
     "data": {
      "application/vnd.jupyter.widget-view+json": {
       "model_id": "f95bb492f78c4f78a9b7bbff4e8cdf55",
       "version_major": 2,
       "version_minor": 0
      },
      "text/plain": [
       "Getting ROI info:   0%|          | 0/2 [00:00<?, ?it/s]"
      ]
     },
     "metadata": {},
     "output_type": "display_data"
    },
    {
     "data": {
      "application/vnd.jupyter.widget-view+json": {
       "model_id": "22d71fffb9a24a1996440da1260cac73",
       "version_major": 2,
       "version_minor": 0
      },
      "text/plain": [
       "Getting ROI info:   0%|          | 0/2 [00:00<?, ?it/s]"
      ]
     },
     "metadata": {},
     "output_type": "display_data"
    },
    {
     "data": {
      "application/vnd.jupyter.widget-view+json": {
       "model_id": "beb005d8bfba4be980881a50d1017d97",
       "version_major": 2,
       "version_minor": 0
      },
      "text/plain": [
       "Getting ROI info:   0%|          | 0/2 [00:00<?, ?it/s]"
      ]
     },
     "metadata": {},
     "output_type": "display_data"
    },
    {
     "data": {
      "application/vnd.jupyter.widget-view+json": {
       "model_id": "add8acd4365e48a08366ecdd6dc6c0ad",
       "version_major": 2,
       "version_minor": 0
      },
      "text/plain": [
       "Getting ROI info:   0%|          | 0/2 [00:00<?, ?it/s]"
      ]
     },
     "metadata": {},
     "output_type": "display_data"
    },
    {
     "data": {
      "application/vnd.jupyter.widget-view+json": {
       "model_id": "c2778b1ca21546a5bc4be72dfcfb9b26",
       "version_major": 2,
       "version_minor": 0
      },
      "text/plain": [
       "Getting ROI info:   0%|          | 0/2 [00:00<?, ?it/s]"
      ]
     },
     "metadata": {},
     "output_type": "display_data"
    },
    {
     "data": {
      "application/vnd.jupyter.widget-view+json": {
       "model_id": "c1c4d9b1700146958b4269e52dd95c19",
       "version_major": 2,
       "version_minor": 0
      },
      "text/plain": [
       "Getting ROI info:   0%|          | 0/2 [00:00<?, ?it/s]"
      ]
     },
     "metadata": {},
     "output_type": "display_data"
    },
    {
     "data": {
      "application/vnd.jupyter.widget-view+json": {
       "model_id": "b0dc1a04b88542b8ad57f561733c6514",
       "version_major": 2,
       "version_minor": 0
      },
      "text/plain": [
       "Getting ROI info:   0%|          | 0/2 [00:00<?, ?it/s]"
      ]
     },
     "metadata": {},
     "output_type": "display_data"
    },
    {
     "data": {
      "application/vnd.jupyter.widget-view+json": {
       "model_id": "4877765c4a7449f1b8e14b9ff717d4ae",
       "version_major": 2,
       "version_minor": 0
      },
      "text/plain": [
       "Getting ROI info:   0%|          | 0/2 [00:00<?, ?it/s]"
      ]
     },
     "metadata": {},
     "output_type": "display_data"
    },
    {
     "data": {
      "application/vnd.jupyter.widget-view+json": {
       "model_id": "d501a864d39b41f9847c42b824e30ae8",
       "version_major": 2,
       "version_minor": 0
      },
      "text/plain": [
       "Getting ROI info:   0%|          | 0/2 [00:00<?, ?it/s]"
      ]
     },
     "metadata": {},
     "output_type": "display_data"
    },
    {
     "data": {
      "application/vnd.jupyter.widget-view+json": {
       "model_id": "b404f771033d489d93914ba63128f3af",
       "version_major": 2,
       "version_minor": 0
      },
      "text/plain": [
       "Getting ROI info:   0%|          | 0/2 [00:00<?, ?it/s]"
      ]
     },
     "metadata": {},
     "output_type": "display_data"
    },
    {
     "data": {
      "application/vnd.jupyter.widget-view+json": {
       "model_id": "c3a63a8adb004a9988ea0a3b681d2405",
       "version_major": 2,
       "version_minor": 0
      },
      "text/plain": [
       "Getting ROI info:   0%|          | 0/2 [00:00<?, ?it/s]"
      ]
     },
     "metadata": {},
     "output_type": "display_data"
    },
    {
     "data": {
      "application/vnd.jupyter.widget-view+json": {
       "model_id": "c5e0602472914f48a15f1d22859a1fb6",
       "version_major": 2,
       "version_minor": 0
      },
      "text/plain": [
       "Getting ROI info:   0%|          | 0/2 [00:00<?, ?it/s]"
      ]
     },
     "metadata": {},
     "output_type": "display_data"
    },
    {
     "data": {
      "application/vnd.jupyter.widget-view+json": {
       "model_id": "c9da5a0dcfc94172b7ec945c7e2f4515",
       "version_major": 2,
       "version_minor": 0
      },
      "text/plain": [
       "Getting ROI info:   0%|          | 0/2 [00:00<?, ?it/s]"
      ]
     },
     "metadata": {},
     "output_type": "display_data"
    },
    {
     "data": {
      "application/vnd.jupyter.widget-view+json": {
       "model_id": "36712c8502cb410b9816540dde992bca",
       "version_major": 2,
       "version_minor": 0
      },
      "text/plain": [
       "Getting ROI info:   0%|          | 0/2 [00:00<?, ?it/s]"
      ]
     },
     "metadata": {},
     "output_type": "display_data"
    }
   ],
   "source": [
    "size_factors = ps.networks.diffusive_size_factor_DNS(regions,\n",
    "                                                    throat_conns=conns)\n",
    "net['throat.diffusive_size_factor_DNS'] = size_factors"
   ]
  },
  {
   "cell_type": "code",
   "execution_count": 8,
   "metadata": {},
   "outputs": [
    {
     "data": {
      "image/png": "[encoded data removed]",
      "text/plain": [
       "<Figure size 400x400 with 1 Axes>"
      ]
     },
     "metadata": {
      "image/png": {
       "height": 384,
       "width": 383
      }
     },
     "output_type": "display_data"
    }
   ],
   "source": [
    "g_FD =net['throat.diffusive_size_factor_DNS']\n",
    "g_AI =net['throat.diffusive_size_factor_AI']\n",
    "fig, ax = plt.subplots(1, 1, figsize=[4, 4])\n",
    "ax.plot(g_FD, g_AI, '*', [0, 80], [0, 80], 'r')\n",
    "ax.set_xlim([0, 80])\n",
    "ax.set_ylim([0, 80])\n",
    "ax.set_xlabel('finite difference $g_d$')\n",
    "ax.set_ylabel('AI based $g_d$')\n",
    "ax.set_title(r'$R^2$ = ' + str(np.round(r2_score(g_FD, g_AI), 2)));"
   ]
  }
 ],
 "metadata": {
  "kernelspec": {
   "display_name": "tensorflow-env",
   "language": "python",
   "name": "tensorflow-env"
  },
  "language_info": {
   "codemirror_mode": {
    "name": "ipython",
    "version": 3
   },
   "file_extension": ".py",
   "mimetype": "text/x-python",
   "name": "python",
   "nbconvert_exporter": "python",
   "pygments_lexer": "ipython3",
   "version": "3.9.15"
  },
  "nbsphinx": {
   "execute": "auto"
  },
  "vscode": {
   "interpreter": {
    "hash": "b58bd5559424689280ce24ff6229e536533c877108d283a6d2846312dfd182d7"
   }
  }
 },
 "nbformat": 4,
 "nbformat_minor": 4
}
