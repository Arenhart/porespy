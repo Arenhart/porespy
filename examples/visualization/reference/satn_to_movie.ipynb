{
 "cells": [
  {
   "cell_type": "markdown",
   "id": "c2b7cd9c",
   "metadata": {},
   "source": [
    "#  `satn_to_movie` "
   ]
  },
  {
   "cell_type": "markdown",
   "id": "73db9f4e",
   "metadata": {},
   "source": [
    "Produces a movie of the invasion sequence from `ibip filter`. This method can be applied for visualizing image-based invasion percolation algorithm."
   ]
  },
  {
   "cell_type": "code",
   "execution_count": 1,
   "id": "a83a0a7b",
   "metadata": {
    "execution": {
     "iopub.execute_input": "2022-04-20T14:19:07.564985Z",
     "iopub.status.busy": "2022-04-20T14:19:07.564795Z",
     "iopub.status.idle": "2022-04-20T14:19:09.812954Z",
     "shell.execute_reply": "2022-04-20T14:19:09.812457Z"
    }
   },
   "outputs": [
    {
     "data": {
      "text/plain": [
       "<Signature (im, satn, cmap='viridis', c_under='grey', c_over='white', v_under=0.001, v_over=1.0, fps=10, repeat=True)>"
      ]
     },
     "execution_count": 1,
     "metadata": {},
     "output_type": "execute_result"
    }
   ],
   "source": [
    "import matplotlib.pyplot as plt\n",
    "import numpy as np\n",
    "import porespy as ps\n",
    "import inspect\n",
    "inspect.signature(ps.visualization.satn_to_movie)"
   ]
  },
  {
   "cell_type": "markdown",
   "id": "cc49c6b0",
   "metadata": {},
   "source": [
    "## `im`"
   ]
  },
  {
   "cell_type": "markdown",
   "id": "a45e3a8b",
   "metadata": {},
   "source": [
    "The input image is a Boolean image `True` values indicating the void voxels and `False` for solid. Let's create a test image:"
   ]
  },
  {
   "cell_type": "code",
   "execution_count": 2,
   "id": "f4e43eeb",
   "metadata": {
    "execution": {
     "iopub.execute_input": "2022-04-20T14:19:09.817219Z",
     "iopub.status.busy": "2022-04-20T14:19:09.816313Z",
     "iopub.status.idle": "2022-04-20T14:19:09.883925Z",
     "shell.execute_reply": "2022-04-20T14:19:09.883386Z"
    }
   },
   "outputs": [
    {
     "data": {
      "image/png": "[encoded data removed]",
      "text/plain": [
       "<Figure size 432x432 with 1 Axes>"
      ]
     },
     "metadata": {
      "needs_background": "light"
     },
     "output_type": "display_data"
    }
   ],
   "source": [
    "np.random.seed(10)\n",
    "im = ps.generators.blobs(shape=[100,100], blobiness=1)\n",
    "fig, ax = plt.subplots(1, 1, figsize=[6, 6])\n",
    "ax.imshow(im, origin='lower', interpolation='none')\n",
    "ax.axis(False);"
   ]
  },
  {
   "cell_type": "markdown",
   "id": "d4633eb1",
   "metadata": {},
   "source": [
    "## `satn`"
   ]
  },
  {
   "cell_type": "markdown",
   "id": "722645bb",
   "metadata": {},
   "source": [
    "The saturation image can be generated from `ibip` data using `seq_to_satn` method. The `satn` is the image of porous material where each voxel indicates the global saturation at which it was invaded. Voxels with 0 values indicate solid and and -1 indicate uninvaded."
   ]
  },
  {
   "cell_type": "code",
   "execution_count": 3,
   "id": "2555e89c",
   "metadata": {
    "execution": {
     "iopub.execute_input": "2022-04-20T14:19:09.886912Z",
     "iopub.status.busy": "2022-04-20T14:19:09.886733Z",
     "iopub.status.idle": "2022-04-20T14:19:11.718039Z",
     "shell.execute_reply": "2022-04-20T14:19:11.717617Z"
    }
   },
   "outputs": [
    {
     "data": {
      "application/vnd.jupyter.widget-view+json": {
       "model_id": "01e2f13537254473b0a964b02a55ee65",
       "version_major": 2,
       "version_minor": 0
      },
      "text/plain": [
       "  0%|          | 0/9999 [00:00<?, ?it/s]"
      ]
     },
     "metadata": {},
     "output_type": "display_data"
    }
   ],
   "source": [
    "bd = np.zeros_like(im, dtype=bool)\n",
    "bd[:, 0] = 1\n",
    "bd *= im\n",
    "out = ps.filters.ibip(im=im, inlets=bd)\n",
    "inv_seq, inv_size = out.inv_sequence, out.inv_sizes\n",
    "satn = ps.filters.seq_to_satn(seq=inv_seq)"
   ]
  },
  {
   "cell_type": "markdown",
   "id": "a8e09fd3",
   "metadata": {},
   "source": [
    "Now we can create an animation of the invasion sequence using `satn_to_movie`: (To save animation as a file and for visualizing use `animation.save')"
   ]
  },
  {
   "cell_type": "code",
   "execution_count": 4,
   "id": "ec6b9062",
   "metadata": {
    "execution": {
     "iopub.execute_input": "2022-04-20T14:19:11.721865Z",
     "iopub.status.busy": "2022-04-20T14:19:11.720963Z",
     "iopub.status.idle": "2022-04-20T14:19:45.218719Z",
     "shell.execute_reply": "2022-04-20T14:19:45.218197Z"
    }
   },
   "outputs": [
    {
     "name": "stdout",
     "output_type": "stream",
     "text": [
      "\r",
      "  0%|          | 0/389 [00:00<?, ?it/s]"
     ]
    },
    {
     "name": "stdout",
     "output_type": "stream",
     "text": [
      "\r",
      " 11%|█         | 43/389 [00:00<00:01, 234.61it/s]"
     ]
    },
    {
     "name": "stdout",
     "output_type": "stream",
     "text": [
      "\r",
      " 53%|█████▎    | 205/389 [00:00<00:00, 839.69it/s]"
     ]
    },
    {
     "name": "stdout",
     "output_type": "stream",
     "text": [
      "\r",
      " 94%|█████████▎| 364/389 [00:00<00:00, 1125.55it/s]"
     ]
    },
    {
     "name": "stdout",
     "output_type": "stream",
     "text": [
      "\r",
      "                                                   "
     ]
    },
    {
     "name": "stdout",
     "output_type": "stream",
     "text": [
      "\r"
     ]
    },
    {
     "data": {
      "image/png": "[encoded data removed]",
      "text/plain": [
       "<Figure size 432x288 with 1 Axes>"
      ]
     },
     "metadata": {
      "needs_background": "light"
     },
     "output_type": "display_data"
    }
   ],
   "source": [
    "mov = ps.visualization.satn_to_movie(im=im, satn=satn)\n",
    "mov.save('image_base_ip.gif', writer='imagemagick')"
   ]
  },
  {
   "cell_type": "markdown",
   "id": "5d7d016e",
   "metadata": {},
   "source": [
    "The saved animation can then be visualized:\n",
    "![image_base_ip](https://user-images.githubusercontent.com/43128873/160906861-d96d1867-e813-4b2c-aef5-a074dc7110fe.gif)"
   ]
  },
  {
   "cell_type": "markdown",
   "id": "55888821",
   "metadata": {},
   "source": [
    "## `cmap`"
   ]
  },
  {
   "cell_type": "markdown",
   "id": "20997967",
   "metadata": {},
   "source": [
    "The Colormap used to map invasion sequence values to colors. By default the cmap is 'viridis'."
   ]
  },
  {
   "cell_type": "code",
   "execution_count": 5,
   "id": "9eebbbf8",
   "metadata": {
    "execution": {
     "iopub.execute_input": "2022-04-20T14:19:45.223144Z",
     "iopub.status.busy": "2022-04-20T14:19:45.222220Z",
     "iopub.status.idle": "2022-04-20T14:20:18.191843Z",
     "shell.execute_reply": "2022-04-20T14:20:18.191200Z"
    }
   },
   "outputs": [
    {
     "name": "stdout",
     "output_type": "stream",
     "text": [
      "\r",
      "  0%|          | 0/389 [00:00<?, ?it/s]"
     ]
    },
    {
     "name": "stdout",
     "output_type": "stream",
     "text": [
      "\r",
      " 43%|████▎     | 167/389 [00:00<00:00, 1669.25it/s]"
     ]
    },
    {
     "name": "stdout",
     "output_type": "stream",
     "text": [
      "\r",
      " 86%|████████▌ | 334/389 [00:00<00:00, 1631.56it/s]"
     ]
    },
    {
     "name": "stdout",
     "output_type": "stream",
     "text": [
      "\r",
      "                                                   "
     ]
    },
    {
     "name": "stdout",
     "output_type": "stream",
     "text": [
      "\r"
     ]
    },
    {
     "data": {
      "image/png": "[encoded data removed]",
      "text/plain": [
       "<Figure size 432x288 with 1 Axes>"
      ]
     },
     "metadata": {
      "needs_background": "light"
     },
     "output_type": "display_data"
    }
   ],
   "source": [
    "mov = ps.visualization.satn_to_movie(im=im, satn=satn, cmap='plasma')\n",
    "mov.save('image_based_ip_cmap.gif', writer='imagemagick')"
   ]
  },
  {
   "cell_type": "markdown",
   "id": "b9b8b8dd",
   "metadata": {},
   "source": [
    "![image_based_ip_cmap](https://user-images.githubusercontent.com/43128873/160906891-1c503314-d602-4470-9f68-3569adbbf6e9.gif)"
   ]
  },
  {
   "cell_type": "markdown",
   "id": "c037a02c",
   "metadata": {},
   "source": [
    "## `c_under`"
   ]
  },
  {
   "cell_type": "markdown",
   "id": "d39ded4f",
   "metadata": {},
   "source": [
    "Colormap to be assigned to the lowest color bound (under color) in the color map. The voxeled colored by `c_under` are the uninvaded void space. The default under color is grey."
   ]
  },
  {
   "cell_type": "code",
   "execution_count": 6,
   "id": "2fe8811a",
   "metadata": {
    "execution": {
     "iopub.execute_input": "2022-04-20T14:20:18.195624Z",
     "iopub.status.busy": "2022-04-20T14:20:18.195445Z",
     "iopub.status.idle": "2022-04-20T14:20:52.228347Z",
     "shell.execute_reply": "2022-04-20T14:20:52.227712Z"
    }
   },
   "outputs": [
    {
     "name": "stdout",
     "output_type": "stream",
     "text": [
      "\r",
      "  0%|          | 0/389 [00:00<?, ?it/s]"
     ]
    },
    {
     "name": "stdout",
     "output_type": "stream",
     "text": [
      "\r",
      " 43%|████▎     | 169/389 [00:00<00:00, 1682.98it/s]"
     ]
    },
    {
     "name": "stdout",
     "output_type": "stream",
     "text": [
      "\r",
      " 87%|████████▋ | 338/389 [00:00<00:00, 790.27it/s] "
     ]
    },
    {
     "name": "stdout",
     "output_type": "stream",
     "text": [
      "\r",
      "                                                  "
     ]
    },
    {
     "name": "stdout",
     "output_type": "stream",
     "text": [
      "\r"
     ]
    },
    {
     "data": {
      "image/png": "[encoded data removed]",
      "text/plain": [
       "<Figure size 432x288 with 1 Axes>"
      ]
     },
     "metadata": {
      "needs_background": "light"
     },
     "output_type": "display_data"
    }
   ],
   "source": [
    "mov = ps.visualization.satn_to_movie(im=im, satn=satn, c_under='green')\n",
    "mov.save('image_based_ip_c_under.gif', writer='imagemagick')"
   ]
  },
  {
   "cell_type": "markdown",
   "id": "64eb1446",
   "metadata": {},
   "source": [
    "![image_based_ip_c_under](https://user-images.githubusercontent.com/43128873/160906884-c0c17a61-eb22-4ce8-af99-e11fc66d58b1.gif)"
   ]
  },
  {
   "cell_type": "markdown",
   "id": "6edfdfc3",
   "metadata": {},
   "source": [
    "## `c_over`"
   ]
  },
  {
   "cell_type": "markdown",
   "id": "ff9c2933",
   "metadata": {},
   "source": [
    "Colormap to be assigned to the highest color bound (over color) in the color map. The voxeled colored by `c_overer` are the solid phase. The default over color is white."
   ]
  },
  {
   "cell_type": "code",
   "execution_count": 7,
   "id": "fb8cdf9d",
   "metadata": {
    "execution": {
     "iopub.execute_input": "2022-04-20T14:20:52.232106Z",
     "iopub.status.busy": "2022-04-20T14:20:52.231920Z",
     "iopub.status.idle": "2022-04-20T14:21:26.220506Z",
     "shell.execute_reply": "2022-04-20T14:21:26.219998Z"
    }
   },
   "outputs": [
    {
     "name": "stdout",
     "output_type": "stream",
     "text": [
      "\r",
      "  0%|          | 0/389 [00:00<?, ?it/s]"
     ]
    },
    {
     "name": "stdout",
     "output_type": "stream",
     "text": [
      "\r",
      " 44%|████▍     | 171/389 [00:00<00:00, 1709.23it/s]"
     ]
    },
    {
     "name": "stdout",
     "output_type": "stream",
     "text": [
      "\r",
      " 88%|████████▊ | 342/389 [00:00<00:00, 1658.37it/s]"
     ]
    },
    {
     "name": "stdout",
     "output_type": "stream",
     "text": [
      "\r",
      "                                                   "
     ]
    },
    {
     "name": "stdout",
     "output_type": "stream",
     "text": [
      "\r"
     ]
    },
    {
     "data": {
      "image/png": "[encoded data removed]",
      "text/plain": [
       "<Figure size 432x288 with 1 Axes>"
      ]
     },
     "metadata": {
      "needs_background": "light"
     },
     "output_type": "display_data"
    }
   ],
   "source": [
    "mov = ps.visualization.satn_to_movie(im=im, satn=satn, c_over='yellow')\n",
    "mov.save('image_based_ip_c_over.gif', writer='imagemagick')"
   ]
  },
  {
   "cell_type": "markdown",
   "id": "c5199664",
   "metadata": {},
   "source": [
    "![image_based_ip_c_over](https://user-images.githubusercontent.com/43128873/160906875-b4938432-04bd-4931-977f-902788c23d32.gif)"
   ]
  },
  {
   "cell_type": "markdown",
   "id": "964039c6",
   "metadata": {},
   "source": [
    "## `v_under`"
   ]
  },
  {
   "cell_type": "markdown",
   "id": "9565edcb",
   "metadata": {},
   "source": [
    "This is the lowest bound of `satn` data range that the colormap covers. By default, the `v_under` is 0.001."
   ]
  },
  {
   "cell_type": "code",
   "execution_count": 8,
   "id": "172fb4c7",
   "metadata": {
    "execution": {
     "iopub.execute_input": "2022-04-20T14:21:26.224311Z",
     "iopub.status.busy": "2022-04-20T14:21:26.223847Z",
     "iopub.status.idle": "2022-04-20T14:21:58.151327Z",
     "shell.execute_reply": "2022-04-20T14:21:58.150774Z"
    }
   },
   "outputs": [
    {
     "name": "stdout",
     "output_type": "stream",
     "text": [
      "\r",
      "  0%|          | 0/389 [00:00<?, ?it/s]"
     ]
    },
    {
     "name": "stdout",
     "output_type": "stream",
     "text": [
      "\r",
      " 45%|████▌     | 176/389 [00:00<00:00, 1739.76it/s]"
     ]
    },
    {
     "name": "stdout",
     "output_type": "stream",
     "text": [
      "\r",
      " 90%|████████▉ | 350/389 [00:00<00:00, 1715.90it/s]"
     ]
    },
    {
     "name": "stdout",
     "output_type": "stream",
     "text": [
      "\r",
      "                                                   "
     ]
    },
    {
     "name": "stdout",
     "output_type": "stream",
     "text": [
      "\r"
     ]
    },
    {
     "data": {
      "image/png": "[encoded data removed]",
      "text/plain": [
       "<Figure size 432x288 with 1 Axes>"
      ]
     },
     "metadata": {
      "needs_background": "light"
     },
     "output_type": "display_data"
    }
   ],
   "source": [
    "mov = ps.visualization.satn_to_movie(im=im, satn=satn, v_under=0.2)\n",
    "mov.save('image_based_ip_v_under.gif', writer='imagemagick')"
   ]
  },
  {
   "cell_type": "markdown",
   "id": "112c30d7",
   "metadata": {},
   "source": [
    "![image_based_ip_v_under](https://user-images.githubusercontent.com/43128873/160906913-a32fcb3e-78ae-4ec9-926c-9892b990d578.gif)"
   ]
  },
  {
   "cell_type": "markdown",
   "id": "7fbdec6c",
   "metadata": {},
   "source": [
    "## `v_over`"
   ]
  },
  {
   "cell_type": "markdown",
   "id": "96bd8912",
   "metadata": {},
   "source": [
    "This is the highest bound of `satn` data range that the colormap covers. By default, the `v_over` is 1."
   ]
  },
  {
   "cell_type": "code",
   "execution_count": 9,
   "id": "0dd48cdc",
   "metadata": {
    "execution": {
     "iopub.execute_input": "2022-04-20T14:21:58.155042Z",
     "iopub.status.busy": "2022-04-20T14:21:58.154588Z",
     "iopub.status.idle": "2022-04-20T14:22:33.386783Z",
     "shell.execute_reply": "2022-04-20T14:22:33.386195Z"
    }
   },
   "outputs": [
    {
     "name": "stdout",
     "output_type": "stream",
     "text": [
      "\r",
      "  0%|          | 0/389 [00:00<?, ?it/s]"
     ]
    },
    {
     "name": "stdout",
     "output_type": "stream",
     "text": [
      "\r",
      " 46%|████▋     | 180/389 [00:00<00:00, 1799.02it/s]"
     ]
    },
    {
     "name": "stdout",
     "output_type": "stream",
     "text": [
      "\r",
      " 93%|█████████▎| 360/389 [00:00<00:00, 1779.96it/s]"
     ]
    },
    {
     "name": "stdout",
     "output_type": "stream",
     "text": [
      "\r",
      "                                                   "
     ]
    },
    {
     "name": "stdout",
     "output_type": "stream",
     "text": [
      "\r"
     ]
    },
    {
     "data": {
      "image/png": "[encoded data removed]",
      "text/plain": [
       "<Figure size 432x288 with 1 Axes>"
      ]
     },
     "metadata": {
      "needs_background": "light"
     },
     "output_type": "display_data"
    }
   ],
   "source": [
    "mov = ps.visualization.satn_to_movie(im=im, satn=satn, v_over=0.5)\n",
    "mov.save('image_based_ip_v_over.gif', writer='imagemagick')"
   ]
  },
  {
   "cell_type": "markdown",
   "id": "ae972d2a",
   "metadata": {},
   "source": [
    "![image_based_ip_v_over](https://user-images.githubusercontent.com/43128873/160906906-29747e75-b80f-49a1-a842-1915db87cd66.gif)"
   ]
  },
  {
   "cell_type": "markdown",
   "id": "af5571a4",
   "metadata": {},
   "source": [
    "## `fps`"
   ]
  },
  {
   "cell_type": "markdown",
   "id": "f50b4a92",
   "metadata": {},
   "source": [
    "This is the frames per second that the animation will be saved at. The default value is 10."
   ]
  },
  {
   "cell_type": "code",
   "execution_count": 10,
   "id": "bd979a75",
   "metadata": {
    "execution": {
     "iopub.execute_input": "2022-04-20T14:22:33.390190Z",
     "iopub.status.busy": "2022-04-20T14:22:33.390004Z",
     "iopub.status.idle": "2022-04-20T14:23:07.024990Z",
     "shell.execute_reply": "2022-04-20T14:23:07.017625Z"
    }
   },
   "outputs": [
    {
     "name": "stdout",
     "output_type": "stream",
     "text": [
      "\r",
      "  0%|          | 0/389 [00:00<?, ?it/s]"
     ]
    },
    {
     "name": "stdout",
     "output_type": "stream",
     "text": [
      "\r",
      " 44%|████▍     | 172/389 [00:00<00:00, 1711.32it/s]"
     ]
    },
    {
     "name": "stdout",
     "output_type": "stream",
     "text": [
      "\r",
      " 88%|████████▊ | 344/389 [00:00<00:00, 1683.94it/s]"
     ]
    },
    {
     "name": "stdout",
     "output_type": "stream",
     "text": [
      "\r",
      "                                                   "
     ]
    },
    {
     "name": "stdout",
     "output_type": "stream",
     "text": [
      "\r"
     ]
    },
    {
     "data": {
      "image/png": "[encoded data removed]",
      "text/plain": [
       "<Figure size 432x288 with 1 Axes>"
      ]
     },
     "metadata": {
      "needs_background": "light"
     },
     "output_type": "display_data"
    }
   ],
   "source": [
    "mov = ps.visualization.satn_to_movie(im=im, satn=satn, fps=5)\n",
    "mov.save('image_based_ip_fps.gif', writer='imagemagick')"
   ]
  },
  {
   "cell_type": "markdown",
   "id": "0e6be79f",
   "metadata": {},
   "source": [
    "![image_based_ip_fps](https://user-images.githubusercontent.com/43128873/160906895-c18133bb-3ccd-4b62-ab08-7fbae3b79556.gif)"
   ]
  },
  {
   "cell_type": "markdown",
   "id": "9979b71d",
   "metadata": {},
   "source": [
    "## `repeat`"
   ]
  },
  {
   "cell_type": "markdown",
   "id": "ec2a67ab",
   "metadata": {},
   "source": [
    "This variable indicates whether the animation [repeats](https://matplotlib.org/3.3.2/api/_as_gen/matplotlib.animation.ArtistAnimation.html#matplotlib.animation.ArtistAnimation) when the sequence of frames is completed. By default `repeat`=True."
   ]
  },
  {
   "cell_type": "code",
   "execution_count": 11,
   "id": "1d873dfc",
   "metadata": {
    "execution": {
     "iopub.execute_input": "2022-04-20T14:23:07.028562Z",
     "iopub.status.busy": "2022-04-20T14:23:07.028367Z",
     "iopub.status.idle": "2022-04-20T14:23:40.317826Z",
     "shell.execute_reply": "2022-04-20T14:23:40.317166Z"
    }
   },
   "outputs": [
    {
     "name": "stdout",
     "output_type": "stream",
     "text": [
      "\r",
      "  0%|          | 0/389 [00:00<?, ?it/s]"
     ]
    },
    {
     "name": "stdout",
     "output_type": "stream",
     "text": [
      "\r",
      " 35%|███▌      | 138/389 [00:00<00:00, 1379.72it/s]"
     ]
    },
    {
     "name": "stdout",
     "output_type": "stream",
     "text": [
      "\r",
      " 71%|███████   | 276/389 [00:00<00:00, 579.13it/s] "
     ]
    },
    {
     "name": "stdout",
     "output_type": "stream",
     "text": [
      "\r",
      "                                                  "
     ]
    },
    {
     "name": "stdout",
     "output_type": "stream",
     "text": [
      "\r"
     ]
    },
    {
     "data": {
      "image/png": "[encoded data removed]",
      "text/plain": [
       "<Figure size 432x288 with 1 Axes>"
      ]
     },
     "metadata": {
      "needs_background": "light"
     },
     "output_type": "display_data"
    }
   ],
   "source": [
    "mov = ps.visualization.satn_to_movie(im=im, satn=satn, repeat=False)\n",
    "mov.save('image_based_ip_repeat.gif', writer='imagemagick')"
   ]
  },
  {
   "cell_type": "markdown",
   "id": "6c5a8881",
   "metadata": {},
   "source": [
    "![image_based_ip_repeat](https://user-images.githubusercontent.com/43128873/160906900-825dc985-cb90-407b-bbc3-67aa18d26009.gif)"
   ]
  }
 ],
 "metadata": {
  "kernelspec": {
   "display_name": "Python 3 (ipykernel)",
   "language": "python",
   "name": "python3"
  },
  "language_info": {
   "codemirror_mode": {
    "name": "ipython",
    "version": 3
   },
   "file_extension": ".py",
   "mimetype": "text/x-python",
   "name": "python",
   "nbconvert_exporter": "python",
   "pygments_lexer": "ipython3",
   "version": "3.8.13"
  },
  "widgets": {
   "application/vnd.jupyter.widget-state+json": {
    "state": {
     "01e2f13537254473b0a964b02a55ee65": {
      "model_module": "@jupyter-widgets/controls",
      "model_module_version": "1.5.0",
      "model_name": "HBoxModel",
      "state": {
       "_dom_classes": [],
       "_model_module": "@jupyter-widgets/controls",
       "_model_module_version": "1.5.0",
       "_model_name": "HBoxModel",
       "_view_count": null,
       "_view_module": "@jupyter-widgets/controls",
       "_view_module_version": "1.5.0",
       "_view_name": "HBoxView",
       "box_style": "",
       "children": [
        "IPY_MODEL_b5cc2d4b86e14a02af0733141eb00c29",
        "IPY_MODEL_4fe4748f012a43cf948468676bec3bd8",
        "IPY_MODEL_28e4cbb738f14216bed6d191da945acb"
       ],
       "layout": "IPY_MODEL_dc476d7bd24b4df095180e07f41ff24e"
      }
     },
     "28e4cbb738f14216bed6d191da945acb": {
      "model_module": "@jupyter-widgets/controls",
      "model_module_version": "1.5.0",
      "model_name": "HTMLModel",
      "state": {
       "_dom_classes": [],
       "_model_module": "@jupyter-widgets/controls",
       "_model_module_version": "1.5.0",
       "_model_name": "HTMLModel",
       "_view_count": null,
       "_view_module": "@jupyter-widgets/controls",
       "_view_module_version": "1.5.0",
       "_view_name": "HTMLView",
       "description": "",
       "description_tooltip": null,
       "layout": "IPY_MODEL_d23ad08ea47b455880ac54aed83ed864",
       "placeholder": "​",
       "style": "IPY_MODEL_faa16964856a45a4bf33fa5b4b8197f5",
       "value": " 466/9999 [00:01&lt;4:39:28,  1.76s/it]"
      }
     },
     "40333b9874bd46368b6b20aecc82f16e": {
      "model_module": "@jupyter-widgets/base",
      "model_module_version": "1.2.0",
      "model_name": "LayoutModel",
      "state": {
       "_model_module": "@jupyter-widgets/base",
       "_model_module_version": "1.2.0",
       "_model_name": "LayoutModel",
       "_view_count": null,
       "_view_module": "@jupyter-widgets/base",
       "_view_module_version": "1.2.0",
       "_view_name": "LayoutView",
       "align_content": null,
       "align_items": null,
       "align_self": null,
       "border": null,
       "bottom": null,
       "display": null,
       "flex": null,
       "flex_flow": null,
       "grid_area": null,
       "grid_auto_columns": null,
       "grid_auto_flow": null,
       "grid_auto_rows": null,
       "grid_column": null,
       "grid_gap": null,
       "grid_row": null,
       "grid_template_areas": null,
       "grid_template_columns": null,
       "grid_template_rows": null,
       "height": null,
       "justify_content": null,
       "justify_items": null,
       "left": null,
       "margin": null,
       "max_height": null,
       "max_width": null,
       "min_height": null,
       "min_width": null,
       "object_fit": null,
       "object_position": null,
       "order": null,
       "overflow": null,
       "overflow_x": null,
       "overflow_y": null,
       "padding": null,
       "right": null,
       "top": null,
       "visibility": null,
       "width": null
      }
     },
     "4ee05f0ef4114248ad1cc88ac2e00c12": {
      "model_module": "@jupyter-widgets/base",
      "model_module_version": "1.2.0",
      "model_name": "LayoutModel",
      "state": {
       "_model_module": "@jupyter-widgets/base",
       "_model_module_version": "1.2.0",
       "_model_name": "LayoutModel",
       "_view_count": null,
       "_view_module": "@jupyter-widgets/base",
       "_view_module_version": "1.2.0",
       "_view_name": "LayoutView",
       "align_content": null,
       "align_items": null,
       "align_self": null,
       "border": null,
       "bottom": null,
       "display": null,
       "flex": null,
       "flex_flow": null,
       "grid_area": null,
       "grid_auto_columns": null,
       "grid_auto_flow": null,
       "grid_auto_rows": null,
       "grid_column": null,
       "grid_gap": null,
       "grid_row": null,
       "grid_template_areas": null,
       "grid_template_columns": null,
       "grid_template_rows": null,
       "height": null,
       "justify_content": null,
       "justify_items": null,
       "left": null,
       "margin": null,
       "max_height": null,
       "max_width": null,
       "min_height": null,
       "min_width": null,
       "object_fit": null,
       "object_position": null,
       "order": null,
       "overflow": null,
       "overflow_x": null,
       "overflow_y": null,
       "padding": null,
       "right": null,
       "top": null,
       "visibility": null,
       "width": null
      }
     },
     "4fe4748f012a43cf948468676bec3bd8": {
      "model_module": "@jupyter-widgets/controls",
      "model_module_version": "1.5.0",
      "model_name": "FloatProgressModel",
      "state": {
       "_dom_classes": [],
       "_model_module": "@jupyter-widgets/controls",
       "_model_module_version": "1.5.0",
       "_model_name": "FloatProgressModel",
       "_view_count": null,
       "_view_module": "@jupyter-widgets/controls",
       "_view_module_version": "1.5.0",
       "_view_name": "ProgressView",
       "bar_style": "danger",
       "description": "",
       "description_tooltip": null,
       "layout": "IPY_MODEL_4ee05f0ef4114248ad1cc88ac2e00c12",
       "max": 9999.0,
       "min": 0.0,
       "orientation": "horizontal",
       "style": "IPY_MODEL_92882cc6c0894088b99e907c834424c2",
       "value": 466.0
      }
     },
     "92882cc6c0894088b99e907c834424c2": {
      "model_module": "@jupyter-widgets/controls",
      "model_module_version": "1.5.0",
      "model_name": "ProgressStyleModel",
      "state": {
       "_model_module": "@jupyter-widgets/controls",
       "_model_module_version": "1.5.0",
       "_model_name": "ProgressStyleModel",
       "_view_count": null,
       "_view_module": "@jupyter-widgets/base",
       "_view_module_version": "1.2.0",
       "_view_name": "StyleView",
       "bar_color": null,
       "description_width": ""
      }
     },
     "b5cc2d4b86e14a02af0733141eb00c29": {
      "model_module": "@jupyter-widgets/controls",
      "model_module_version": "1.5.0",
      "model_name": "HTMLModel",
      "state": {
       "_dom_classes": [],
       "_model_module": "@jupyter-widgets/controls",
       "_model_module_version": "1.5.0",
       "_model_name": "HTMLModel",
       "_view_count": null,
       "_view_module": "@jupyter-widgets/controls",
       "_view_module_version": "1.5.0",
       "_view_name": "HTMLView",
       "description": "",
       "description_tooltip": null,
       "layout": "IPY_MODEL_40333b9874bd46368b6b20aecc82f16e",
       "placeholder": "​",
       "style": "IPY_MODEL_f8e82fb3b82f4db2a1f5756c6e5637b6",
       "value": "  5%"
      }
     },
     "d23ad08ea47b455880ac54aed83ed864": {
      "model_module": "@jupyter-widgets/base",
      "model_module_version": "1.2.0",
      "model_name": "LayoutModel",
      "state": {
       "_model_module": "@jupyter-widgets/base",
       "_model_module_version": "1.2.0",
       "_model_name": "LayoutModel",
       "_view_count": null,
       "_view_module": "@jupyter-widgets/base",
       "_view_module_version": "1.2.0",
       "_view_name": "LayoutView",
       "align_content": null,
       "align_items": null,
       "align_self": null,
       "border": null,
       "bottom": null,
       "display": null,
       "flex": null,
       "flex_flow": null,
       "grid_area": null,
       "grid_auto_columns": null,
       "grid_auto_flow": null,
       "grid_auto_rows": null,
       "grid_column": null,
       "grid_gap": null,
       "grid_row": null,
       "grid_template_areas": null,
       "grid_template_columns": null,
       "grid_template_rows": null,
       "height": null,
       "justify_content": null,
       "justify_items": null,
       "left": null,
       "margin": null,
       "max_height": null,
       "max_width": null,
       "min_height": null,
       "min_width": null,
       "object_fit": null,
       "object_position": null,
       "order": null,
       "overflow": null,
       "overflow_x": null,
       "overflow_y": null,
       "padding": null,
       "right": null,
       "top": null,
       "visibility": null,
       "width": null
      }
     },
     "dc476d7bd24b4df095180e07f41ff24e": {
      "model_module": "@jupyter-widgets/base",
      "model_module_version": "1.2.0",
      "model_name": "LayoutModel",
      "state": {
       "_model_module": "@jupyter-widgets/base",
       "_model_module_version": "1.2.0",
       "_model_name": "LayoutModel",
       "_view_count": null,
       "_view_module": "@jupyter-widgets/base",
       "_view_module_version": "1.2.0",
       "_view_name": "LayoutView",
       "align_content": null,
       "align_items": null,
       "align_self": null,
       "border": null,
       "bottom": null,
       "display": null,
       "flex": null,
       "flex_flow": null,
       "grid_area": null,
       "grid_auto_columns": null,
       "grid_auto_flow": null,
       "grid_auto_rows": null,
       "grid_column": null,
       "grid_gap": null,
       "grid_row": null,
       "grid_template_areas": null,
       "grid_template_columns": null,
       "grid_template_rows": null,
       "height": null,
       "justify_content": null,
       "justify_items": null,
       "left": null,
       "margin": null,
       "max_height": null,
       "max_width": null,
       "min_height": null,
       "min_width": null,
       "object_fit": null,
       "object_position": null,
       "order": null,
       "overflow": null,
       "overflow_x": null,
       "overflow_y": null,
       "padding": null,
       "right": null,
       "top": null,
       "visibility": null,
       "width": null
      }
     },
     "f8e82fb3b82f4db2a1f5756c6e5637b6": {
      "model_module": "@jupyter-widgets/controls",
      "model_module_version": "1.5.0",
      "model_name": "DescriptionStyleModel",
      "state": {
       "_model_module": "@jupyter-widgets/controls",
       "_model_module_version": "1.5.0",
       "_model_name": "DescriptionStyleModel",
       "_view_count": null,
       "_view_module": "@jupyter-widgets/base",
       "_view_module_version": "1.2.0",
       "_view_name": "StyleView",
       "description_width": ""
      }
     },
     "faa16964856a45a4bf33fa5b4b8197f5": {
      "model_module": "@jupyter-widgets/controls",
      "model_module_version": "1.5.0",
      "model_name": "DescriptionStyleModel",
      "state": {
       "_model_module": "@jupyter-widgets/controls",
       "_model_module_version": "1.5.0",
       "_model_name": "DescriptionStyleModel",
       "_view_count": null,
       "_view_module": "@jupyter-widgets/base",
       "_view_module_version": "1.2.0",
       "_view_name": "StyleView",
       "description_width": ""
      }
     }
    },
    "version_major": 2,
    "version_minor": 0
   }
  }
 },
 "nbformat": 4,
 "nbformat_minor": 5
}
