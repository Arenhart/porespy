{
 "cells": [
  {
   "cell_type": "markdown",
   "id": "c2b7cd9c",
   "metadata": {},
   "source": [
    "#  `satn_to_movie` "
   ]
  },
  {
   "cell_type": "markdown",
   "id": "73db9f4e",
   "metadata": {},
   "source": [
    "Produces a movie of the invasion sequence from `ibip filter`. This method can be applied for visualizing image-based invasion percolation algorithm."
   ]
  },
  {
   "cell_type": "code",
   "execution_count": 1,
   "id": "a83a0a7b",
   "metadata": {},
   "outputs": [
    {
     "data": {
      "text/plain": [
       "<Signature (im, satn, cmap='viridis', c_under='grey', c_over='white', v_under=0.001, v_over=1.0, fps=10, repeat=True)>"
      ]
     },
     "execution_count": 1,
     "metadata": {},
     "output_type": "execute_result"
    }
   ],
   "source": [
    "import matplotlib.pyplot as plt\n",
    "import numpy as np\n",
    "import porespy as ps\n",
    "import inspect\n",
    "inspect.signature(ps.visualization.satn_to_movie)"
   ]
  },
  {
   "cell_type": "markdown",
   "id": "cc49c6b0",
   "metadata": {},
   "source": [
    "## `im`"
   ]
  },
  {
   "cell_type": "markdown",
   "id": "a45e3a8b",
   "metadata": {},
   "source": [
    "The input image is a Boolean image `True` values indicating the void voxels and `False` for solid. Let's create a test image:"
   ]
  },
  {
   "cell_type": "code",
   "execution_count": 2,
   "id": "f4e43eeb",
   "metadata": {},
   "outputs": [
    {
     "data": {
      "image/png": "[encoded data removed]",
      "text/plain": [
       "<Figure size 432x432 with 1 Axes>"
      ]
     },
     "metadata": {
      "needs_background": "light"
     },
     "output_type": "display_data"
    }
   ],
   "source": [
    "np.random.seed(10)\n",
    "im = ps.generators.blobs(shape=[100,100], blobiness=1)\n",
    "fig, ax = plt.subplots(1, 1, figsize=[6, 6])\n",
    "ax.imshow(im, origin='lower', interpolation='none')\n",
    "ax.axis(False);"
   ]
  },
  {
   "cell_type": "markdown",
   "id": "d4633eb1",
   "metadata": {},
   "source": [
    "## `satn`"
   ]
  },
  {
   "cell_type": "markdown",
   "id": "722645bb",
   "metadata": {},
   "source": [
    "The saturation image can be generated from `ibip` data using `seq_to_satn` method. The `satn` is the image of porous material where each voxel indicates the global saturation at which it was invaded. Voxels with 0 values indicate solid and and -1 indicate uninvaded."
   ]
  },
  {
   "cell_type": "code",
   "execution_count": 12,
   "id": "2555e89c",
   "metadata": {},
   "outputs": [
    {
     "data": {
      "application/vnd.jupyter.widget-view+json": {
       "model_id": "6893bb1121284241a74a6b11ef10bca1",
       "version_major": 2,
       "version_minor": 0
      },
      "text/plain": [
       "  0%|          | 0/9999 [00:00<?, ?it/s]"
      ]
     },
     "metadata": {},
     "output_type": "display_data"
    }
   ],
   "source": [
    "bd = np.zeros_like(im, dtype=bool)\n",
    "bd[:, 0] = 1\n",
    "bd *= im\n",
    "out = ps.filters.ibip(im=im, inlets=bd)\n",
    "inv_seq, inv_size = out.inv_sequence, out.inv_sizes\n",
    "satn = ps.filters.seq_to_satn(seq=inv_seq)"
   ]
  },
  {
   "cell_type": "markdown",
   "id": "a8e09fd3",
   "metadata": {},
   "source": [
    "Now we can create an animation of the invasion sequence using `satn_to_movie`: (To save animation as a file and for visualizing use `animation.save')"
   ]
  },
  {
   "cell_type": "code",
   "execution_count": null,
   "id": "ec6b9062",
   "metadata": {},
   "outputs": [],
   "source": [
    "mov = ps.visualization.satn_to_movie(im=im, satn=satn)\n",
    "mov.save('image_base_ip.gif', writer='imagemagick')"
   ]
  },
  {
   "cell_type": "markdown",
   "id": "5d7d016e",
   "metadata": {},
   "source": [
    "The saved animation can then be visualized:\n",
    "![image_base_ip](https://user-images.githubusercontent.com/43128873/160906861-d96d1867-e813-4b2c-aef5-a074dc7110fe.gif)"
   ]
  },
  {
   "cell_type": "markdown",
   "id": "55888821",
   "metadata": {},
   "source": [
    "## `cmap`"
   ]
  },
  {
   "cell_type": "markdown",
   "id": "20997967",
   "metadata": {},
   "source": [
    "The Colormap used to map invasion sequence values to colors. By default the cmap is 'viridis'."
   ]
  },
  {
   "cell_type": "code",
   "execution_count": null,
   "id": "9eebbbf8",
   "metadata": {},
   "outputs": [],
   "source": [
    "mov = ps.visualization.satn_to_movie(im=im, satn=satn, cmap='plasma')\n",
    "mov.save('image_based_ip_cmap.gif', writer='imagemagick')"
   ]
  },
  {
   "cell_type": "markdown",
   "id": "b9b8b8dd",
   "metadata": {},
   "source": [
    "![image_based_ip_cmap](https://user-images.githubusercontent.com/43128873/160906891-1c503314-d602-4470-9f68-3569adbbf6e9.gif)"
   ]
  },
  {
   "cell_type": "markdown",
   "id": "c037a02c",
   "metadata": {},
   "source": [
    "## `c_under`"
   ]
  },
  {
   "cell_type": "markdown",
   "id": "d39ded4f",
   "metadata": {},
   "source": [
    "Colormap to be assigned to the lowest color bound (under color) in the color map. The voxeled colored by `c_under` are the uninvaded void space. The default under color is grey."
   ]
  },
  {
   "cell_type": "code",
   "execution_count": null,
   "id": "2fe8811a",
   "metadata": {},
   "outputs": [],
   "source": [
    "mov = ps.visualization.satn_to_movie(im=im, satn=satn, c_under='green')\n",
    "mov.save('image_based_ip_c_under.gif', writer='imagemagick')"
   ]
  },
  {
   "cell_type": "markdown",
   "id": "64eb1446",
   "metadata": {},
   "source": [
    "![image_based_ip_c_under](https://user-images.githubusercontent.com/43128873/160906884-c0c17a61-eb22-4ce8-af99-e11fc66d58b1.gif)"
   ]
  },
  {
   "cell_type": "markdown",
   "id": "6edfdfc3",
   "metadata": {},
   "source": [
    "## `c_over`"
   ]
  },
  {
   "cell_type": "markdown",
   "id": "ff9c2933",
   "metadata": {},
   "source": [
    "Colormap to be assigned to the highest color bound (over color) in the color map. The voxeled colored by `c_overer` are the solid phase. The default over color is white."
   ]
  },
  {
   "cell_type": "code",
   "execution_count": null,
   "id": "fb8cdf9d",
   "metadata": {},
   "outputs": [],
   "source": [
    "mov = ps.visualization.satn_to_movie(im=im, satn=satn, c_over='yellow')\n",
    "mov.save('image_based_ip_c_over.gif', writer='imagemagick')"
   ]
  },
  {
   "cell_type": "markdown",
   "id": "c5199664",
   "metadata": {},
   "source": [
    "![image_based_ip_c_over](https://user-images.githubusercontent.com/43128873/160906875-b4938432-04bd-4931-977f-902788c23d32.gif)"
   ]
  },
  {
   "cell_type": "markdown",
   "id": "964039c6",
   "metadata": {},
   "source": [
    "## `v_under`"
   ]
  },
  {
   "cell_type": "markdown",
   "id": "9565edcb",
   "metadata": {},
   "source": [
    "This is the lowest bound of `satn` data range that the colormap covers. By default, the `v_under` is 0.001."
   ]
  },
  {
   "cell_type": "code",
   "execution_count": null,
   "id": "172fb4c7",
   "metadata": {},
   "outputs": [],
   "source": [
    "mov = ps.visualization.satn_to_movie(im=im, satn=satn, v_under=0.2)\n",
    "mov.save('image_based_ip_v_under.gif', writer='imagemagick')"
   ]
  },
  {
   "cell_type": "markdown",
   "id": "112c30d7",
   "metadata": {},
   "source": [
    "![image_based_ip_v_under](https://user-images.githubusercontent.com/43128873/160906913-a32fcb3e-78ae-4ec9-926c-9892b990d578.gif)"
   ]
  },
  {
   "cell_type": "markdown",
   "id": "7fbdec6c",
   "metadata": {},
   "source": [
    "## `v_over`"
   ]
  },
  {
   "cell_type": "markdown",
   "id": "96bd8912",
   "metadata": {},
   "source": [
    "This is the highest bound of `satn` data range that the colormap covers. By default, the `v_over` is 1."
   ]
  },
  {
   "cell_type": "code",
   "execution_count": null,
   "id": "0dd48cdc",
   "metadata": {},
   "outputs": [],
   "source": [
    "mov = ps.visualization.satn_to_movie(im=im, satn=satn, v_over=0.5)\n",
    "mov.save('image_based_ip_v_over.gif', writer='imagemagick')"
   ]
  },
  {
   "cell_type": "markdown",
   "id": "ae972d2a",
   "metadata": {},
   "source": [
    "![image_based_ip_v_over](https://user-images.githubusercontent.com/43128873/160906906-29747e75-b80f-49a1-a842-1915db87cd66.gif)"
   ]
  },
  {
   "cell_type": "markdown",
   "id": "af5571a4",
   "metadata": {},
   "source": [
    "## `fps`"
   ]
  },
  {
   "cell_type": "markdown",
   "id": "f50b4a92",
   "metadata": {},
   "source": [
    "This is the frames per second that the animation will be saved at. The default value is 10."
   ]
  },
  {
   "cell_type": "code",
   "execution_count": null,
   "id": "bd979a75",
   "metadata": {},
   "outputs": [],
   "source": [
    "mov = ps.visualization.satn_to_movie(im=im, satn=satn, fps=5)\n",
    "mov.save('image_based_ip_fps.gif', writer='imagemagick')"
   ]
  },
  {
   "cell_type": "markdown",
   "id": "0e6be79f",
   "metadata": {},
   "source": [
    "![image_based_ip_fps](https://user-images.githubusercontent.com/43128873/160906895-c18133bb-3ccd-4b62-ab08-7fbae3b79556.gif)"
   ]
  },
  {
   "cell_type": "markdown",
   "id": "9979b71d",
   "metadata": {},
   "source": [
    "## `repeat`"
   ]
  },
  {
   "cell_type": "markdown",
   "id": "ec2a67ab",
   "metadata": {},
   "source": [
    "This variable indicates whether the animation [repeats](https://matplotlib.org/3.3.2/api/_as_gen/matplotlib.animation.ArtistAnimation.html#matplotlib.animation.ArtistAnimation) when the sequence of frames is completed. By default `repeat`=True."
   ]
  },
  {
   "cell_type": "code",
   "execution_count": null,
   "id": "1d873dfc",
   "metadata": {},
   "outputs": [],
   "source": [
    "mov = ps.visualization.satn_to_movie(im=im, satn=satn, repeat=False)\n",
    "mov.save('image_based_ip_repeat.gif', writer='imagemagick')"
   ]
  },
  {
   "cell_type": "markdown",
   "id": "6c5a8881",
   "metadata": {},
   "source": [
    "![image_based_ip_repeat](https://user-images.githubusercontent.com/43128873/160906900-825dc985-cb90-407b-bbc3-67aa18d26009.gif)"
   ]
  }
 ],
 "metadata": {
  "kernelspec": {
   "display_name": "Python 3 (ipykernel)",
   "language": "python",
   "name": "python3"
  },
  "language_info": {
   "codemirror_mode": {
    "name": "ipython",
    "version": 3
   },
   "file_extension": ".py",
   "mimetype": "text/x-python",
   "name": "python",
   "nbconvert_exporter": "python",
   "pygments_lexer": "ipython3",
   "version": "3.8.13"
  }
 },
 "nbformat": 4,
 "nbformat_minor": 5
}
