{
 "cells": [
  {
   "cell_type": "markdown",
   "id": "04a7c299",
   "metadata": {},
   "source": [
    "#  `satn_to_panels` "
   ]
  },
  {
   "cell_type": "markdown",
   "id": "65bdb189",
   "metadata": {},
   "source": [
    "Produces a set of images with each panel containing one saturation. This method can be applied for visualizing image-based invasion percolation algorithm `ibip filter`."
   ]
  },
  {
   "cell_type": "code",
   "execution_count": 1,
   "id": "480e00ae",
   "metadata": {
    "execution": {
     "iopub.execute_input": "2022-04-20T14:23:44.001131Z",
     "iopub.status.busy": "2022-04-20T14:23:44.000313Z",
     "iopub.status.idle": "2022-04-20T14:23:46.182683Z",
     "shell.execute_reply": "2022-04-20T14:23:46.182197Z"
    }
   },
   "outputs": [
    {
     "data": {
      "text/plain": [
       "<Signature (satn, im, bins=None, axis=0, slice=None, **kwargs)>"
      ]
     },
     "execution_count": 1,
     "metadata": {},
     "output_type": "execute_result"
    }
   ],
   "source": [
    "import matplotlib.pyplot as plt\n",
    "import numpy as np\n",
    "import porespy as ps\n",
    "import inspect\n",
    "inspect.signature(ps.visualization.satn_to_panels)"
   ]
  },
  {
   "cell_type": "markdown",
   "id": "23ed2461",
   "metadata": {},
   "source": [
    "## `im`"
   ]
  },
  {
   "cell_type": "markdown",
   "id": "22bc2c55",
   "metadata": {},
   "source": [
    "The input image is a Boolean image `True` values indicating the void voxels and `False` for solid. Let's create a test image:"
   ]
  },
  {
   "cell_type": "code",
   "execution_count": 2,
   "id": "8aec5cec",
   "metadata": {
    "execution": {
     "iopub.execute_input": "2022-04-20T14:23:46.186925Z",
     "iopub.status.busy": "2022-04-20T14:23:46.186034Z",
     "iopub.status.idle": "2022-04-20T14:23:46.291100Z",
     "shell.execute_reply": "2022-04-20T14:23:46.290649Z"
    }
   },
   "outputs": [
    {
     "data": {
      "image/png": "[encoded data removed]",
      "text/plain": [
       "<Figure size 432x432 with 1 Axes>"
      ]
     },
     "metadata": {
      "needs_background": "light"
     },
     "output_type": "display_data"
    }
   ],
   "source": [
    "np.random.seed(10)\n",
    "im = ps.generators.blobs(shape=[50,50,50])\n",
    "fig, ax = plt.subplots(1, 1, figsize=[6, 6])\n",
    "ax.imshow(im[:,:,20], origin='lower', interpolation='none')\n",
    "ax.axis(False);"
   ]
  },
  {
   "cell_type": "markdown",
   "id": "8f57834b",
   "metadata": {},
   "source": [
    "## `satn`"
   ]
  },
  {
   "cell_type": "markdown",
   "id": "31bbfd78",
   "metadata": {},
   "source": [
    "The saturation image can be generated from `ibip` data using `seq_to_satn` method. The `satn` is the image of porous material where each voxel indicates the global saturation at which it was invaded. Voxels with 0 values indicate solid and and -1 indicate uninvaded. As the image is large, we will be visualizing a section of the image: Note that the regions that were uninvaded at sat=0.7 are now invaded at sat=0.75 and remaining regions are invaded at sat=1:"
   ]
  },
  {
   "cell_type": "code",
   "execution_count": 3,
   "id": "c79fcfa9",
   "metadata": {
    "execution": {
     "iopub.execute_input": "2022-04-20T14:23:46.295947Z",
     "iopub.status.busy": "2022-04-20T14:23:46.294484Z",
     "iopub.status.idle": "2022-04-20T14:23:49.900498Z",
     "shell.execute_reply": "2022-04-20T14:23:49.899912Z"
    }
   },
   "outputs": [
    {
     "data": {
      "application/vnd.jupyter.widget-view+json": {
       "model_id": "560f4b5f55134a37b5522a724097cfb1",
       "version_major": 2,
       "version_minor": 0
      },
      "text/plain": [
       "  0%|          | 0/9999 [00:00<?, ?it/s]"
      ]
     },
     "metadata": {},
     "output_type": "display_data"
    },
    {
     "data": {
      "image/png": "[encoded data removed]",
      "text/plain": [
       "<Figure size 432x288 with 3 Axes>"
      ]
     },
     "metadata": {
      "needs_background": "light"
     },
     "output_type": "display_data"
    }
   ],
   "source": [
    "out = ps.filters.ibip(im=im)\n",
    "inv_seq, inv_size = out.inv_sequence, out.inv_sizes\n",
    "satn = ps.filters.seq_to_satn(seq=inv_seq)\n",
    "fig, ax =ps.visualization.satn_to_panels(satn[:15,:15,1], im[:15,:15,1]);"
   ]
  },
  {
   "cell_type": "markdown",
   "id": "2b729de1",
   "metadata": {},
   "source": [
    "## `bins`"
   ]
  },
  {
   "cell_type": "markdown",
   "id": "5398c8f2",
   "metadata": {},
   "source": [
    "Indicates for which saturations images should be made. By default all saturation values in the image are used. To visualize the image for a list of equally space values between 0 and 1, an `int` value can be passed as the input (the number of saturation points between [0,1])."
   ]
  },
  {
   "cell_type": "code",
   "execution_count": 4,
   "id": "a25f30f8",
   "metadata": {
    "execution": {
     "iopub.execute_input": "2022-04-20T14:23:49.903395Z",
     "iopub.status.busy": "2022-04-20T14:23:49.903123Z",
     "iopub.status.idle": "2022-04-20T14:23:50.180057Z",
     "shell.execute_reply": "2022-04-20T14:23:50.179441Z"
    }
   },
   "outputs": [
    {
     "data": {
      "image/png": "[encoded data removed]",
      "text/plain": [
       "<Figure size 432x288 with 5 Axes>"
      ]
     },
     "metadata": {
      "needs_background": "light"
     },
     "output_type": "display_data"
    }
   ],
   "source": [
    "fig, ax =ps.visualization.satn_to_panels(satn, im, bins= 5);"
   ]
  },
  {
   "cell_type": "markdown",
   "id": "5235e7d6",
   "metadata": {},
   "source": [
    "## `axis`"
   ]
  },
  {
   "cell_type": "markdown",
   "id": "c5e88175",
   "metadata": {},
   "source": [
    "If the image is 2D this variable is ignored. If the image is 3D, a 2D image is extracted at the specified `slice` taken along this axis. By default axis=0 indicating the slice is extracted at x axis. Let's extract the slices at y axis (because `slice` is not passed as the input, the default slice is at the mid-point of the axis):"
   ]
  },
  {
   "cell_type": "code",
   "execution_count": 5,
   "id": "81d01871",
   "metadata": {
    "execution": {
     "iopub.execute_input": "2022-04-20T14:23:50.183111Z",
     "iopub.status.busy": "2022-04-20T14:23:50.182937Z",
     "iopub.status.idle": "2022-04-20T14:23:50.462516Z",
     "shell.execute_reply": "2022-04-20T14:23:50.462096Z"
    }
   },
   "outputs": [
    {
     "data": {
      "image/png": "[encoded data removed]",
      "text/plain": [
       "<Figure size 432x288 with 5 Axes>"
      ]
     },
     "metadata": {
      "needs_background": "light"
     },
     "output_type": "display_data"
    }
   ],
   "source": [
    "fig, ax =ps.visualization.satn_to_panels(satn, im, bins= 5, axis=1);"
   ]
  },
  {
   "cell_type": "markdown",
   "id": "81f4bbef",
   "metadata": {},
   "source": [
    "## `slice`"
   ]
  },
  {
   "cell_type": "markdown",
   "id": "30ae3235",
   "metadata": {},
   "source": [
    "If the image is 2D this variable is ignored. If the image is 3D, a 2D image is extracted from this slice along the given `axis`. By default a slice at the mid-point of the `axis` is returned. Let's extract a slice at y=4:"
   ]
  },
  {
   "cell_type": "code",
   "execution_count": 6,
   "id": "c05ce51c",
   "metadata": {
    "execution": {
     "iopub.execute_input": "2022-04-20T14:23:50.465317Z",
     "iopub.status.busy": "2022-04-20T14:23:50.464912Z",
     "iopub.status.idle": "2022-04-20T14:23:50.757213Z",
     "shell.execute_reply": "2022-04-20T14:23:50.756781Z"
    }
   },
   "outputs": [
    {
     "data": {
      "image/png": "[encoded data removed]",
      "text/plain": [
       "<Figure size 432x288 with 5 Axes>"
      ]
     },
     "metadata": {
      "needs_background": "light"
     },
     "output_type": "display_data"
    }
   ],
   "source": [
    "fig, ax =ps.visualization.satn_to_panels(satn, im, bins= 5, axis=1, slice=4);"
   ]
  },
  {
   "cell_type": "markdown",
   "id": "6feea8b5",
   "metadata": {},
   "source": [
    "Note that extracting a slice at y=25 gives the same output as we have seen in the `axis` example above (default slice at mid-point axis):"
   ]
  },
  {
   "cell_type": "code",
   "execution_count": 7,
   "id": "2f9222ae",
   "metadata": {
    "execution": {
     "iopub.execute_input": "2022-04-20T14:23:50.760618Z",
     "iopub.status.busy": "2022-04-20T14:23:50.759689Z",
     "iopub.status.idle": "2022-04-20T14:23:51.088283Z",
     "shell.execute_reply": "2022-04-20T14:23:51.087845Z"
    }
   },
   "outputs": [
    {
     "data": {
      "image/png": "[encoded data removed]",
      "text/plain": [
       "<Figure size 432x288 with 5 Axes>"
      ]
     },
     "metadata": {
      "needs_background": "light"
     },
     "output_type": "display_data"
    }
   ],
   "source": [
    "fig, ax =ps.visualization.satn_to_panels(satn, im, bins= 5, axis=1, slice=25);"
   ]
  },
  {
   "cell_type": "markdown",
   "id": "5ab71578",
   "metadata": {},
   "source": [
    "## `**kwargs`"
   ]
  },
  {
   "cell_type": "markdown",
   "id": "7aeabbf2",
   "metadata": {},
   "source": [
    "Additional keyword arguments can be sent to the `imshow` function, such as `interpolation`."
   ]
  },
  {
   "cell_type": "code",
   "execution_count": 8,
   "id": "20691ecc",
   "metadata": {
    "execution": {
     "iopub.execute_input": "2022-04-20T14:23:51.091811Z",
     "iopub.status.busy": "2022-04-20T14:23:51.091485Z",
     "iopub.status.idle": "2022-04-20T14:23:51.369181Z",
     "shell.execute_reply": "2022-04-20T14:23:51.368717Z"
    }
   },
   "outputs": [
    {
     "data": {
      "image/png": "[encoded data removed]",
      "text/plain": [
       "<Figure size 432x288 with 5 Axes>"
      ]
     },
     "metadata": {
      "needs_background": "light"
     },
     "output_type": "display_data"
    }
   ],
   "source": [
    "fig, ax =ps.visualization.satn_to_panels(satn, im, bins= 5, axis=1, slice=25, interpolation=None);"
   ]
  }
 ],
 "metadata": {
  "kernelspec": {
   "display_name": "Python 3 (ipykernel)",
   "language": "python",
   "name": "python3"
  },
  "language_info": {
   "codemirror_mode": {
    "name": "ipython",
    "version": 3
   },
   "file_extension": ".py",
   "mimetype": "text/x-python",
   "name": "python",
   "nbconvert_exporter": "python",
   "pygments_lexer": "ipython3",
   "version": "3.8.13"
  },
  "widgets": {
   "application/vnd.jupyter.widget-state+json": {
    "state": {
     "4a740c7dc70844bc8f914f6fcb1b3550": {
      "model_module": "@jupyter-widgets/base",
      "model_module_version": "1.2.0",
      "model_name": "LayoutModel",
      "state": {
       "_model_module": "@jupyter-widgets/base",
       "_model_module_version": "1.2.0",
       "_model_name": "LayoutModel",
       "_view_count": null,
       "_view_module": "@jupyter-widgets/base",
       "_view_module_version": "1.2.0",
       "_view_name": "LayoutView",
       "align_content": null,
       "align_items": null,
       "align_self": null,
       "border": null,
       "bottom": null,
       "display": null,
       "flex": null,
       "flex_flow": null,
       "grid_area": null,
       "grid_auto_columns": null,
       "grid_auto_flow": null,
       "grid_auto_rows": null,
       "grid_column": null,
       "grid_gap": null,
       "grid_row": null,
       "grid_template_areas": null,
       "grid_template_columns": null,
       "grid_template_rows": null,
       "height": null,
       "justify_content": null,
       "justify_items": null,
       "left": null,
       "margin": null,
       "max_height": null,
       "max_width": null,
       "min_height": null,
       "min_width": null,
       "object_fit": null,
       "object_position": null,
       "order": null,
       "overflow": null,
       "overflow_x": null,
       "overflow_y": null,
       "padding": null,
       "right": null,
       "top": null,
       "visibility": null,
       "width": null
      }
     },
     "560f4b5f55134a37b5522a724097cfb1": {
      "model_module": "@jupyter-widgets/controls",
      "model_module_version": "1.5.0",
      "model_name": "HBoxModel",
      "state": {
       "_dom_classes": [],
       "_model_module": "@jupyter-widgets/controls",
       "_model_module_version": "1.5.0",
       "_model_name": "HBoxModel",
       "_view_count": null,
       "_view_module": "@jupyter-widgets/controls",
       "_view_module_version": "1.5.0",
       "_view_name": "HBoxView",
       "box_style": "",
       "children": [
        "IPY_MODEL_fc8fc3b228a5495e91b3a33797a9f7a1",
        "IPY_MODEL_a1ad1d6647fa42149ba0d6bc96d179dd",
        "IPY_MODEL_7718008f790e4dc68a010955a50b4d29"
       ],
       "layout": "IPY_MODEL_a43aad5973c641c9b14543677283adae"
      }
     },
     "7718008f790e4dc68a010955a50b4d29": {
      "model_module": "@jupyter-widgets/controls",
      "model_module_version": "1.5.0",
      "model_name": "HTMLModel",
      "state": {
       "_dom_classes": [],
       "_model_module": "@jupyter-widgets/controls",
       "_model_module_version": "1.5.0",
       "_model_name": "HTMLModel",
       "_view_count": null,
       "_view_module": "@jupyter-widgets/controls",
       "_view_module_version": "1.5.0",
       "_view_name": "HTMLView",
       "description": "",
       "description_tooltip": null,
       "layout": "IPY_MODEL_c75ea6045b41451e875ce63c0d5e059d",
       "placeholder": "​",
       "style": "IPY_MODEL_88f7c247b8304443ba12ee1fb1b838eb",
       "value": " 211/9999 [00:03&lt;01:27, 111.54it/s]"
      }
     },
     "88f7c247b8304443ba12ee1fb1b838eb": {
      "model_module": "@jupyter-widgets/controls",
      "model_module_version": "1.5.0",
      "model_name": "DescriptionStyleModel",
      "state": {
       "_model_module": "@jupyter-widgets/controls",
       "_model_module_version": "1.5.0",
       "_model_name": "DescriptionStyleModel",
       "_view_count": null,
       "_view_module": "@jupyter-widgets/base",
       "_view_module_version": "1.2.0",
       "_view_name": "StyleView",
       "description_width": ""
      }
     },
     "9fd5c76cd5c945be86b770dbf1d287f6": {
      "model_module": "@jupyter-widgets/controls",
      "model_module_version": "1.5.0",
      "model_name": "DescriptionStyleModel",
      "state": {
       "_model_module": "@jupyter-widgets/controls",
       "_model_module_version": "1.5.0",
       "_model_name": "DescriptionStyleModel",
       "_view_count": null,
       "_view_module": "@jupyter-widgets/base",
       "_view_module_version": "1.2.0",
       "_view_name": "StyleView",
       "description_width": ""
      }
     },
     "a1ad1d6647fa42149ba0d6bc96d179dd": {
      "model_module": "@jupyter-widgets/controls",
      "model_module_version": "1.5.0",
      "model_name": "FloatProgressModel",
      "state": {
       "_dom_classes": [],
       "_model_module": "@jupyter-widgets/controls",
       "_model_module_version": "1.5.0",
       "_model_name": "FloatProgressModel",
       "_view_count": null,
       "_view_module": "@jupyter-widgets/controls",
       "_view_module_version": "1.5.0",
       "_view_name": "ProgressView",
       "bar_style": "danger",
       "description": "",
       "description_tooltip": null,
       "layout": "IPY_MODEL_f1d42d7b0c1a4fe4ab9201e0d54b1a1f",
       "max": 9999.0,
       "min": 0.0,
       "orientation": "horizontal",
       "style": "IPY_MODEL_e9a6c47ec3cb4466a85f342efd5ef9a7",
       "value": 211.0
      }
     },
     "a43aad5973c641c9b14543677283adae": {
      "model_module": "@jupyter-widgets/base",
      "model_module_version": "1.2.0",
      "model_name": "LayoutModel",
      "state": {
       "_model_module": "@jupyter-widgets/base",
       "_model_module_version": "1.2.0",
       "_model_name": "LayoutModel",
       "_view_count": null,
       "_view_module": "@jupyter-widgets/base",
       "_view_module_version": "1.2.0",
       "_view_name": "LayoutView",
       "align_content": null,
       "align_items": null,
       "align_self": null,
       "border": null,
       "bottom": null,
       "display": null,
       "flex": null,
       "flex_flow": null,
       "grid_area": null,
       "grid_auto_columns": null,
       "grid_auto_flow": null,
       "grid_auto_rows": null,
       "grid_column": null,
       "grid_gap": null,
       "grid_row": null,
       "grid_template_areas": null,
       "grid_template_columns": null,
       "grid_template_rows": null,
       "height": null,
       "justify_content": null,
       "justify_items": null,
       "left": null,
       "margin": null,
       "max_height": null,
       "max_width": null,
       "min_height": null,
       "min_width": null,
       "object_fit": null,
       "object_position": null,
       "order": null,
       "overflow": null,
       "overflow_x": null,
       "overflow_y": null,
       "padding": null,
       "right": null,
       "top": null,
       "visibility": null,
       "width": null
      }
     },
     "c75ea6045b41451e875ce63c0d5e059d": {
      "model_module": "@jupyter-widgets/base",
      "model_module_version": "1.2.0",
      "model_name": "LayoutModel",
      "state": {
       "_model_module": "@jupyter-widgets/base",
       "_model_module_version": "1.2.0",
       "_model_name": "LayoutModel",
       "_view_count": null,
       "_view_module": "@jupyter-widgets/base",
       "_view_module_version": "1.2.0",
       "_view_name": "LayoutView",
       "align_content": null,
       "align_items": null,
       "align_self": null,
       "border": null,
       "bottom": null,
       "display": null,
       "flex": null,
       "flex_flow": null,
       "grid_area": null,
       "grid_auto_columns": null,
       "grid_auto_flow": null,
       "grid_auto_rows": null,
       "grid_column": null,
       "grid_gap": null,
       "grid_row": null,
       "grid_template_areas": null,
       "grid_template_columns": null,
       "grid_template_rows": null,
       "height": null,
       "justify_content": null,
       "justify_items": null,
       "left": null,
       "margin": null,
       "max_height": null,
       "max_width": null,
       "min_height": null,
       "min_width": null,
       "object_fit": null,
       "object_position": null,
       "order": null,
       "overflow": null,
       "overflow_x": null,
       "overflow_y": null,
       "padding": null,
       "right": null,
       "top": null,
       "visibility": null,
       "width": null
      }
     },
     "e9a6c47ec3cb4466a85f342efd5ef9a7": {
      "model_module": "@jupyter-widgets/controls",
      "model_module_version": "1.5.0",
      "model_name": "ProgressStyleModel",
      "state": {
       "_model_module": "@jupyter-widgets/controls",
       "_model_module_version": "1.5.0",
       "_model_name": "ProgressStyleModel",
       "_view_count": null,
       "_view_module": "@jupyter-widgets/base",
       "_view_module_version": "1.2.0",
       "_view_name": "StyleView",
       "bar_color": null,
       "description_width": ""
      }
     },
     "f1d42d7b0c1a4fe4ab9201e0d54b1a1f": {
      "model_module": "@jupyter-widgets/base",
      "model_module_version": "1.2.0",
      "model_name": "LayoutModel",
      "state": {
       "_model_module": "@jupyter-widgets/base",
       "_model_module_version": "1.2.0",
       "_model_name": "LayoutModel",
       "_view_count": null,
       "_view_module": "@jupyter-widgets/base",
       "_view_module_version": "1.2.0",
       "_view_name": "LayoutView",
       "align_content": null,
       "align_items": null,
       "align_self": null,
       "border": null,
       "bottom": null,
       "display": null,
       "flex": null,
       "flex_flow": null,
       "grid_area": null,
       "grid_auto_columns": null,
       "grid_auto_flow": null,
       "grid_auto_rows": null,
       "grid_column": null,
       "grid_gap": null,
       "grid_row": null,
       "grid_template_areas": null,
       "grid_template_columns": null,
       "grid_template_rows": null,
       "height": null,
       "justify_content": null,
       "justify_items": null,
       "left": null,
       "margin": null,
       "max_height": null,
       "max_width": null,
       "min_height": null,
       "min_width": null,
       "object_fit": null,
       "object_position": null,
       "order": null,
       "overflow": null,
       "overflow_x": null,
       "overflow_y": null,
       "padding": null,
       "right": null,
       "top": null,
       "visibility": null,
       "width": null
      }
     },
     "fc8fc3b228a5495e91b3a33797a9f7a1": {
      "model_module": "@jupyter-widgets/controls",
      "model_module_version": "1.5.0",
      "model_name": "HTMLModel",
      "state": {
       "_dom_classes": [],
       "_model_module": "@jupyter-widgets/controls",
       "_model_module_version": "1.5.0",
       "_model_name": "HTMLModel",
       "_view_count": null,
       "_view_module": "@jupyter-widgets/controls",
       "_view_module_version": "1.5.0",
       "_view_name": "HTMLView",
       "description": "",
       "description_tooltip": null,
       "layout": "IPY_MODEL_4a740c7dc70844bc8f914f6fcb1b3550",
       "placeholder": "​",
       "style": "IPY_MODEL_9fd5c76cd5c945be86b770dbf1d287f6",
       "value": "  2%"
      }
     }
    },
    "version_major": 2,
    "version_minor": 0
   }
  }
 },
 "nbformat": 4,
 "nbformat_minor": 5
}
