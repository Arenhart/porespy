{
 "cells": [
  {
   "cell_type": "markdown",
   "id": "4a972029",
   "metadata": {},
   "source": [
    "#  `show_planes` "
   ]
  },
  {
   "cell_type": "markdown",
   "id": "103a1704",
   "metadata": {},
   "source": [
    "Create a quick montage showing a 3D image in all three directions."
   ]
  },
  {
   "cell_type": "code",
   "execution_count": 1,
   "id": "dcf63949",
   "metadata": {
    "execution": {
     "iopub.execute_input": "2022-06-22T19:26:03.154997Z",
     "iopub.status.busy": "2022-06-22T19:26:03.154487Z",
     "iopub.status.idle": "2022-06-22T19:26:05.434808Z",
     "shell.execute_reply": "2022-06-22T19:26:05.434041Z"
    }
   },
   "outputs": [
    {
     "data": {
      "text/plain": [
       "<Signature (im, spacing=10)>"
      ]
     },
     "execution_count": 1,
     "metadata": {},
     "output_type": "execute_result"
    }
   ],
   "source": [
    "import matplotlib.pyplot as plt\n",
    "import numpy as np\n",
    "import porespy as ps\n",
    "import inspect\n",
    "ps.visualization.set_mpl_style()\n",
    "inspect.signature(ps.visualization.show_planes)"
   ]
  },
  {
   "cell_type": "markdown",
   "id": "c1d0fe72",
   "metadata": {},
   "source": [
    "## `im`\n",
    "The input image is 3D array to be veiwed in three directions. Note that the method does not work for 2D arrays as input.\n",
    "Note that the upper left image shows the xy plane at z=(image length in z dir/2). The lower left image shows the xz plane at y=(image length in y dir/2). The upper right image shows the yz plane at x=(image length in x dir/2)."
   ]
  },
  {
   "cell_type": "code",
   "execution_count": 2,
   "id": "7d20e730",
   "metadata": {
    "execution": {
     "iopub.execute_input": "2022-06-22T19:26:05.441125Z",
     "iopub.status.busy": "2022-06-22T19:26:05.439379Z",
     "iopub.status.idle": "2022-06-22T19:26:05.527799Z",
     "shell.execute_reply": "2022-06-22T19:26:05.527147Z"
    }
   },
   "outputs": [
    {
     "data": {
      "image/svg+xml": [
       "<?xml version=\"1.0\" encoding=\"utf-8\" standalone=\"no\"?>\n",
       "<!DOCTYPE svg PUBLIC \"-//W3C//DTD SVG 1.1//EN\"\n",
       "  \"http://www.w3.org/Graphics/SVG/1.1/DTD/svg11.dtd\">\n",
       "<svg xmlns:xlink=\"http://www.w3.org/1999/xlink\" width=\"568.8pt\" height=\"568.8pt\" viewBox=\"0 0 568.8 568.8\" xmlns=\"http://www.w3.org/2000/svg\" version=\"1.1\">\n",
       " <metadata>\n",
       "  <rdf:RDF xmlns:dc=\"http://purl.org/dc/elements/1.1/\" xmlns:cc=\"http://creativecommons.org/ns#\" xmlns:rdf=\"http://www.w3.org/1999/02/22-rdf-syntax-ns#\">\n",
       "   <cc:Work>\n",
       "    <dc:type rdf:resource=\"http://purl.org/dc/dcmitype/StillImage\"/>\n",
       "    <dc:date>2022-06-22T19:26:05.514737</dc:date>\n",
       "    <dc:format>image/svg+xml</dc:format>\n",
       "    <dc:creator>\n",
       "     <cc:Agent>\n",
       "      <dc:title>Matplotlib v3.5.2, https://matplotlib.org/</dc:title>\n",
       "     </cc:Agent>\n",
       "    </dc:creator>\n",
       "   </cc:Work>\n",
       "  </rdf:RDF>\n",
       " </metadata>\n",
       " <defs>\n",
       "  <style type=\"text/css\">*{stroke-linejoin: round; stroke-linecap: butt}</style>\n",
       " </defs>\n",
       " <g id=\"figure_1\">\n",
       "  <g id=\"patch_1\">\n",
       "   <path d=\"M 0 568.8 \n",
       "L 568.8 568.8 \n",
       "L 568.8 0 \n",
       "L 0 0 \n",
       "L 0 568.8 \n",
       "z\n",
       "\" style=\"fill: none\"/>\n",
       "  </g>\n",
       "  <g id=\"axes_1\">\n",
       "   <g clip-path=\"url(#p1e3ec899e1)\">\n",
       "    <image xlink:href=\"data:image/png;base64,\n",
       "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\" id=\"image1b75588486\" transform=\"matrix(5.045455 0 0 5.045455 7.2 6.6)\" style=\"image-rendering:crisp-edges;image-rendering:pixelated\" width=\"110\" height=\"110\"/>\n",
       "   </g>\n",
       "  </g>\n",
       " </g>\n",
       " <defs>\n",
       "  <clipPath id=\"p1e3ec899e1\">\n",
       "   <rect x=\"7.2\" y=\"7.2\" width=\"554.4\" height=\"554.4\"/>\n",
       "  </clipPath>\n",
       " </defs>\n",
       "</svg>\n"
      ],
      "text/plain": [
       "<Figure size 576x576 with 1 Axes>"
      ]
     },
     "metadata": {
      "needs_background": "light"
     },
     "output_type": "display_data"
    }
   ],
   "source": [
    "im = ps.generators.blobs(shape=[40, 40, 40])\n",
    "planes = ps.visualization.show_planes(im)\n",
    "fig, ax = plt.subplots(1, 1, figsize=[8, 8])\n",
    "ax.imshow(planes)\n",
    "ax.axis(False);"
   ]
  },
  {
   "cell_type": "markdown",
   "id": "3339e6b5",
   "metadata": {},
   "source": [
    "## `spacing`"
   ]
  },
  {
   "cell_type": "markdown",
   "id": "7fdafe1f",
   "metadata": {},
   "source": [
    "This parameter defines the amount of space to put between each plane. The default spacing is 10."
   ]
  },
  {
   "cell_type": "code",
   "execution_count": 3,
   "id": "c9d58846",
   "metadata": {
    "execution": {
     "iopub.execute_input": "2022-06-22T19:26:05.533733Z",
     "iopub.status.busy": "2022-06-22T19:26:05.532490Z",
     "iopub.status.idle": "2022-06-22T19:26:05.595880Z",
     "shell.execute_reply": "2022-06-22T19:26:05.595240Z"
    }
   },
   "outputs": [
    {
     "data": {
      "image/svg+xml": [
       "<?xml version=\"1.0\" encoding=\"utf-8\" standalone=\"no\"?>\n",
       "<!DOCTYPE svg PUBLIC \"-//W3C//DTD SVG 1.1//EN\"\n",
       "  \"http://www.w3.org/Graphics/SVG/1.1/DTD/svg11.dtd\">\n",
       "<svg xmlns:xlink=\"http://www.w3.org/1999/xlink\" width=\"568.8pt\" height=\"568.8pt\" viewBox=\"0 0 568.8 568.8\" xmlns=\"http://www.w3.org/2000/svg\" version=\"1.1\">\n",
       " <metadata>\n",
       "  <rdf:RDF xmlns:dc=\"http://purl.org/dc/elements/1.1/\" xmlns:cc=\"http://creativecommons.org/ns#\" xmlns:rdf=\"http://www.w3.org/1999/02/22-rdf-syntax-ns#\">\n",
       "   <cc:Work>\n",
       "    <dc:type rdf:resource=\"http://purl.org/dc/dcmitype/StillImage\"/>\n",
       "    <dc:date>2022-06-22T19:26:05.574343</dc:date>\n",
       "    <dc:format>image/svg+xml</dc:format>\n",
       "    <dc:creator>\n",
       "     <cc:Agent>\n",
       "      <dc:title>Matplotlib v3.5.2, https://matplotlib.org/</dc:title>\n",
       "     </cc:Agent>\n",
       "    </dc:creator>\n",
       "   </cc:Work>\n",
       "  </rdf:RDF>\n",
       " </metadata>\n",
       " <defs>\n",
       "  <style type=\"text/css\">*{stroke-linejoin: round; stroke-linecap: butt}</style>\n",
       " </defs>\n",
       " <g id=\"figure_1\">\n",
       "  <g id=\"patch_1\">\n",
       "   <path d=\"M 0 568.8 \n",
       "L 568.8 568.8 \n",
       "L 568.8 0 \n",
       "L 0 0 \n",
       "L 0 568.8 \n",
       "z\n",
       "\" style=\"fill: none\"/>\n",
       "  </g>\n",
       "  <g id=\"axes_1\">\n",
       "   <g clip-path=\"url(#p9524fe0d67)\">\n",
       "    <image xlink:href=\"data:image/png;base64,\n",
       "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\" id=\"image447d3a833e\" transform=\"matrix(6.453488 0 0 6.453488 7.2 6.6)\" style=\"image-rendering:crisp-edges;image-rendering:pixelated\" width=\"86\" height=\"86\"/>\n",
       "   </g>\n",
       "  </g>\n",
       " </g>\n",
       " <defs>\n",
       "  <clipPath id=\"p9524fe0d67\">\n",
       "   <rect x=\"7.2\" y=\"7.2\" width=\"554.4\" height=\"554.4\"/>\n",
       "  </clipPath>\n",
       " </defs>\n",
       "</svg>\n"
      ],
      "text/plain": [
       "<Figure size 576x576 with 1 Axes>"
      ]
     },
     "metadata": {
      "needs_background": "light"
     },
     "output_type": "display_data"
    }
   ],
   "source": [
    "planes = ps.visualization.show_planes(im, spacing = 2)\n",
    "fig, ax = plt.subplots(1, 1, figsize=[8, 8])\n",
    "ax.imshow(planes)\n",
    "ax.axis(False);"
   ]
  }
 ],
 "metadata": {
  "kernelspec": {
   "display_name": "Python 3 (ipykernel)",
   "language": "python",
   "name": "python3"
  },
  "language_info": {
   "codemirror_mode": {
    "name": "ipython",
    "version": 3
   },
   "file_extension": ".py",
   "mimetype": "text/x-python",
   "name": "python",
   "nbconvert_exporter": "python",
   "pygments_lexer": "ipython3",
   "version": "3.8.13"
  }
 },
 "nbformat": 4,
 "nbformat_minor": 5
}
