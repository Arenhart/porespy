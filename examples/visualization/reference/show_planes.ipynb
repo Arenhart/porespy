{
 "cells": [
  {
   "cell_type": "markdown",
   "id": "d4fad432",
   "metadata": {},
   "source": [
    "#  `show_planes` "
   ]
  },
  {
   "cell_type": "markdown",
   "id": "9d35a3bd",
   "metadata": {},
   "source": [
    "Create a quick montage showing a 3D image in all three directions."
   ]
  },
  {
   "cell_type": "code",
   "execution_count": 1,
   "id": "46405559",
   "metadata": {
    "execution": {
     "iopub.execute_input": "2022-03-29T23:53:24.623855Z",
     "iopub.status.busy": "2022-03-29T23:53:24.623640Z",
     "iopub.status.idle": "2022-03-29T23:53:26.597380Z",
     "shell.execute_reply": "2022-03-29T23:53:26.596852Z"
    }
   },
   "outputs": [
    {
     "data": {
      "text/plain": [
       "<Signature (im, spacing=10)>"
      ]
     },
     "execution_count": 1,
     "metadata": {},
     "output_type": "execute_result"
    }
   ],
   "source": [
    "import matplotlib.pyplot as plt\n",
    "import numpy as np\n",
    "import porespy as ps\n",
    "import inspect\n",
    "inspect.signature(ps.visualization.show_planes)"
   ]
  },
  {
   "cell_type": "markdown",
   "id": "78b729dd",
   "metadata": {},
   "source": [
    "## `im`\n",
    "The input image is 3D array to be veiwed in three directions. Note that the method does not work for 2D arrays as input.\n",
    "Note that the upper left image shows the xy plane at z=(image length in z dir/2). The lower left image shows the xz plane at y=(image length in y dir/2). The upper right image shows the yz plane at x=(image length in x dir/2)."
   ]
  },
  {
   "cell_type": "code",
   "execution_count": 2,
   "id": "9065ec62",
   "metadata": {
    "execution": {
     "iopub.execute_input": "2022-03-29T23:53:26.601744Z",
     "iopub.status.busy": "2022-03-29T23:53:26.600780Z",
     "iopub.status.idle": "2022-03-29T23:53:26.701589Z",
     "shell.execute_reply": "2022-03-29T23:53:26.701162Z"
    }
   },
   "outputs": [
    {
     "data": {
      "image/png": "[encoded data removed]",
      "text/plain": [
       "<Figure size 576x576 with 1 Axes>"
      ]
     },
     "metadata": {
      "needs_background": "light"
     },
     "output_type": "display_data"
    }
   ],
   "source": [
    "im = ps.generators.blobs(shape=[40, 40, 40])\n",
    "planes = ps.visualization.show_planes(im)\n",
    "fig, ax = plt.subplots(1, 1, figsize=[8, 8])\n",
    "ax.imshow(planes)\n",
    "ax.axis(False);"
   ]
  },
  {
   "cell_type": "markdown",
   "id": "7b660b3f",
   "metadata": {},
   "source": [
    "## `spacing`"
   ]
  },
  {
   "cell_type": "markdown",
   "id": "96f36b82",
   "metadata": {},
   "source": [
    "This parameter defines the amount of space to put between each plane. The default spacing is 10."
   ]
  },
  {
   "cell_type": "code",
   "execution_count": 3,
   "id": "91a0296e",
   "metadata": {
    "execution": {
     "iopub.execute_input": "2022-03-29T23:53:26.706330Z",
     "iopub.status.busy": "2022-03-29T23:53:26.705433Z",
     "iopub.status.idle": "2022-03-29T23:53:26.844030Z",
     "shell.execute_reply": "2022-03-29T23:53:26.843599Z"
    }
   },
   "outputs": [
    {
     "data": {
      "image/png": "[encoded data removed]",
      "text/plain": [
       "<Figure size 576x576 with 1 Axes>"
      ]
     },
     "metadata": {
      "needs_background": "light"
     },
     "output_type": "display_data"
    }
   ],
   "source": [
    "planes = ps.visualization.show_planes(im, spacing = 2)\n",
    "fig, ax = plt.subplots(1, 1, figsize=[8, 8])\n",
    "ax.imshow(planes)\n",
    "ax.axis(False);"
   ]
  }
 ],
 "metadata": {
  "kernelspec": {
   "display_name": "Python 3",
   "language": "python",
   "name": "python3"
  },
  "language_info": {
   "codemirror_mode": {
    "name": "ipython",
    "version": 3
   },
   "file_extension": ".py",
   "mimetype": "text/x-python",
   "name": "python",
   "nbconvert_exporter": "python",
   "pygments_lexer": "ipython3",
   "version": "3.8.13"
  }
 },
 "nbformat": 4,
 "nbformat_minor": 5
}
