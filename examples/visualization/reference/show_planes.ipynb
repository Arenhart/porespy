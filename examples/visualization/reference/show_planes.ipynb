{
 "cells": [
  {
   "cell_type": "markdown",
   "id": "4a972029",
   "metadata": {},
   "source": [
    "#  `show_planes` "
   ]
  },
  {
   "cell_type": "markdown",
   "id": "103a1704",
   "metadata": {},
   "source": [
    "Create a quick montage showing a 3D image in all three directions."
   ]
  },
  {
   "cell_type": "code",
   "execution_count": 1,
   "id": "dcf63949",
   "metadata": {
    "execution": {
     "iopub.execute_input": "2022-05-25T17:19:35.652415Z",
     "iopub.status.busy": "2022-05-25T17:19:35.650203Z",
     "iopub.status.idle": "2022-05-25T17:19:37.545765Z",
     "shell.execute_reply": "2022-05-25T17:19:37.545028Z"
    }
   },
   "outputs": [
    {
     "data": {
      "text/plain": [
       "<Signature (im, spacing=10)>"
      ]
     },
     "execution_count": 1,
     "metadata": {},
     "output_type": "execute_result"
    }
   ],
   "source": [
    "import matplotlib.pyplot as plt\n",
    "import numpy as np\n",
    "import porespy as ps\n",
    "import inspect\n",
    "ps.visualization.set_mpl_style()\n",
    "inspect.signature(ps.visualization.show_planes)"
   ]
  },
  {
   "cell_type": "markdown",
   "id": "c1d0fe72",
   "metadata": {},
   "source": [
    "## `im`\n",
    "The input image is 3D array to be veiwed in three directions. Note that the method does not work for 2D arrays as input.\n",
    "Note that the upper left image shows the xy plane at z=(image length in z dir/2). The lower left image shows the xz plane at y=(image length in y dir/2). The upper right image shows the yz plane at x=(image length in x dir/2)."
   ]
  },
  {
   "cell_type": "code",
   "execution_count": 2,
   "id": "7d20e730",
   "metadata": {
    "execution": {
     "iopub.execute_input": "2022-05-25T17:19:37.549622Z",
     "iopub.status.busy": "2022-05-25T17:19:37.548877Z",
     "iopub.status.idle": "2022-05-25T17:19:37.632764Z",
     "shell.execute_reply": "2022-05-25T17:19:37.632233Z"
    }
   },
   "outputs": [
    {
     "data": {
      "image/svg+xml": [
       "<?xml version=\"1.0\" encoding=\"utf-8\" standalone=\"no\"?>\n",
       "<!DOCTYPE svg PUBLIC \"-//W3C//DTD SVG 1.1//EN\"\n",
       "  \"http://www.w3.org/Graphics/SVG/1.1/DTD/svg11.dtd\">\n",
       "<svg xmlns:xlink=\"http://www.w3.org/1999/xlink\" width=\"568.8pt\" height=\"568.8pt\" viewBox=\"0 0 568.8 568.8\" xmlns=\"http://www.w3.org/2000/svg\" version=\"1.1\">\n",
       " <metadata>\n",
       "  <rdf:RDF xmlns:dc=\"http://purl.org/dc/elements/1.1/\" xmlns:cc=\"http://creativecommons.org/ns#\" xmlns:rdf=\"http://www.w3.org/1999/02/22-rdf-syntax-ns#\">\n",
       "   <cc:Work>\n",
       "    <dc:type rdf:resource=\"http://purl.org/dc/dcmitype/StillImage\"/>\n",
       "    <dc:date>2022-05-25T17:19:37.611925</dc:date>\n",
       "    <dc:format>image/svg+xml</dc:format>\n",
       "    <dc:creator>\n",
       "     <cc:Agent>\n",
       "      <dc:title>Matplotlib v3.5.2, https://matplotlib.org/</dc:title>\n",
       "     </cc:Agent>\n",
       "    </dc:creator>\n",
       "   </cc:Work>\n",
       "  </rdf:RDF>\n",
       " </metadata>\n",
       " <defs>\n",
       "  <style type=\"text/css\">*{stroke-linejoin: round; stroke-linecap: butt}</style>\n",
       " </defs>\n",
       " <g id=\"figure_1\">\n",
       "  <g id=\"patch_1\">\n",
       "   <path d=\"M 0 568.8 \n",
       "L 568.8 568.8 \n",
       "L 568.8 0 \n",
       "L 0 0 \n",
       "L 0 568.8 \n",
       "z\n",
       "\" style=\"fill: none\"/>\n",
       "  </g>\n",
       "  <g id=\"axes_1\">\n",
       "   <g clip-path=\"url(#p6d06548bb3)\">\n",
       "    <image xlink:href=\"data:image/png;base64,\n",
       "iVBORw0KGgoAAAANSUhEUgAAAG4AAABuCAYAAADGWyb7AAAGj0lEQVR4nO1d7Y0cIQydi1JFqkgRka6BNJsuUkXaSH5EIxHHX+9hdo/FTzrd3g7YgMHYxsy9fXv7/vtqbIdPz25Ag0MLblO04DZFC25TtOA2RQtuU7TgNkULblO04DbF52zBH79+/vP3+5evS+pE9G4a42eUhoeRfqacRddrm0Yb7Qu94iTzqKMVPMbOjZ8R3t4AWfRlmYiGJlRLWBE9C2/ZWKU3OMjqs8pmBl+rG9H1+ER1kLJ3ea+NI2a1T1pVeg2SDfYGk1VxFu9nweojOpFk3Wy99IrTmEho+8P7l6/mIGudzu4xES0L6CrS6lm8ownL1tWwRHDyuSY8xrhB61s07/agNGZVHrsdaKAFpzUEMRhmLMIKVevxQCzCTFlvXNi+pPe4CFEDpEqIOlC1F0bQJpi1Z1v1M0ZOdV/S7gCrJrLm7khfE678zBonaF207Ej/7rd0Myw3AOE1veI84+NujOcTjeUiv03zHWdmckaVzSCiNcNryh2wns0McIbPI9SoxsOyeCNL9amqkkE0k6VqYeiyyPKU6o5dRVGkCe3TlFWZATpAj4I2cFlfawbRZM6OA73HZU3zaA/M0ND4MnVlPa8PCN1MH61618W5OfTpwPi9t8d5gVu0s2zUo5KuXDGjKmVX5NOCzCPz7IrwwluP9t8ykRRvgiLB6kz5DNLGieZ3jP6ItyIZK3PGV4vojtB8LYRO1pf12sAAtiq9jkb+3CiMbONXCZA9B5N4lvFVZlUi0XPruUfvUf6RRxcNeq/0N6GQV9ZHGaGFe6znSDtWCm38vZoOq1Eod2D2uCXrImQ6XaXuMoaJ54N5xpb37Lq4iFBJyItBFb1K4Y3ION3RiYdHfxblIS/E6Hg0T6tsRn0zgpXlER8xAqwqMw2NVENEGzUMKrBKNVcKa0TZQWqEKLxjrYRqgWk0LT4Z3rLuTAgQmRiUH4fG8dDVJwfi2QHo6Bl6nvfQyImHjGqLZmW0AscozQyQkJzFFzXhx7KMS6UBDjJbHdVUQIVKsHhFPBAabBkZZLbaJH3ZjCAjQLHKm5EXAckKpOqoZ4Wbgp4QzPi1bPtLVGVl9NsaOBnrrOKn8dE+W2Uq+DPbQFmWFxtAtuhFvGYQ7bFITNUqx7hDCOgVlzWhvT1RK6/RY011j6bVJvQIJjvZMrQQUIKzZiyy1LOOPFI+A23CRMaE9SzTLo1WhYUMCY4J26ACuv9m6rG4tcfIF52EWpuzfWBOCB4aZPbUozZgVlRCrpbqMBRLH4lxas8QLIlVjphdodUxRKtsFIrS2irrZ76TNFksi5x43390ZKMpLBh1LAGvONYAqYiUVPpwnmqOYpWRwWLVqQykP+08LsIqUxodqMzqyliW1r4+TiCkXWXHOpU+ykr/R9L31JZmyjMW4F2/sh/L7w401qDfLLQpWnCbogW3KVpwm6IFtylacJuiBbcpWnCbogW3KabeEMskf86EfTyeu55EsCh7QywK5mhkVeLNjqCOdZBsYHkMoh2JtEBwUKcDVtaydSwfpR9EtMd6EqcKveRGKpJPWTnQpwrtuog9LmuQzJxMn2ZoMKAPUlcNbibfo/FEq/K6/GTTits0r4zp1AUrIagisSeTR3mqVbokcsJe+rCwOgdlR5S9hO2GNcjZwUcyqk5WlctjlUx0JHMX7mShXRe4x7F572jqtgfLhzxNkKUv066+V3Cj+n7cK4C+vG/FLC0H2lsZ7L512iobMbXHadm92nda3HL1VdtXR+mbhTKB4+wFCY1GxOckUK/LkN/LH6u+lbOP3CPr/e4vpq3Kqn0mc5tTez57V21XUMaJddZ2P5+9HdqI8bC35zFATttPw7LISfYeWXT7s6GD3uOyzzV1OH4XCfjU6H8E2KrMIGMJIjxbPf6PsmShqPwNJNri4fS9b+pdXhKZNxZkaEmrdYzAaFGaEwGfx7Fpcmg+ZrSqTxbadRX/V+KsystESlpoPkqThWYHFDVi2FdXvAJod4ARkox3VtA4FdPuwMys90JnGk9t4pyqNum350XJP9GJeUZo0QHrqUK7ron7cZohYuVByufys4fObNZR/j9SrXrSCR+FrH1G23KaAMuCzKj5rqU2MEI7TWA3qCyvWYsOtQzZ1f7KKHsLuobImZ4d8BMFdoN+7eHMqmNOGtCUv1fHh3pdBnuoeqIzTgluxUAx6vTElXaj3xC7KT6Uqmzk0YLbFC24TdGC2xQtuE3RgtsULbhN0YLbFC24TfEHx4Cnu20QZmoAAAAASUVORK5CYII=\" id=\"imagebd07a5dd33\" transform=\"matrix(5.045455 0 0 5.045455 7.2 6.6)\" style=\"image-rendering:crisp-edges;image-rendering:pixelated\" width=\"110\" height=\"110\"/>\n",
       "   </g>\n",
       "  </g>\n",
       " </g>\n",
       " <defs>\n",
       "  <clipPath id=\"p6d06548bb3\">\n",
       "   <rect x=\"7.2\" y=\"7.2\" width=\"554.4\" height=\"554.4\"/>\n",
       "  </clipPath>\n",
       " </defs>\n",
       "</svg>\n"
      ],
      "text/plain": [
       "<Figure size 576x576 with 1 Axes>"
      ]
     },
     "metadata": {
      "needs_background": "light"
     },
     "output_type": "display_data"
    }
   ],
   "source": [
    "im = ps.generators.blobs(shape=[40, 40, 40])\n",
    "planes = ps.visualization.show_planes(im)\n",
    "fig, ax = plt.subplots(1, 1, figsize=[8, 8])\n",
    "ax.imshow(planes)\n",
    "ax.axis(False);"
   ]
  },
  {
   "cell_type": "markdown",
   "id": "3339e6b5",
   "metadata": {},
   "source": [
    "## `spacing`"
   ]
  },
  {
   "cell_type": "markdown",
   "id": "7fdafe1f",
   "metadata": {},
   "source": [
    "This parameter defines the amount of space to put between each plane. The default spacing is 10."
   ]
  },
  {
   "cell_type": "code",
   "execution_count": 3,
   "id": "c9d58846",
   "metadata": {
    "execution": {
     "iopub.execute_input": "2022-05-25T17:19:37.637718Z",
     "iopub.status.busy": "2022-05-25T17:19:37.636230Z",
     "iopub.status.idle": "2022-05-25T17:19:37.723887Z",
     "shell.execute_reply": "2022-05-25T17:19:37.723189Z"
    }
   },
   "outputs": [
    {
     "data": {
      "image/svg+xml": [
       "<?xml version=\"1.0\" encoding=\"utf-8\" standalone=\"no\"?>\n",
       "<!DOCTYPE svg PUBLIC \"-//W3C//DTD SVG 1.1//EN\"\n",
       "  \"http://www.w3.org/Graphics/SVG/1.1/DTD/svg11.dtd\">\n",
       "<svg xmlns:xlink=\"http://www.w3.org/1999/xlink\" width=\"568.8pt\" height=\"568.8pt\" viewBox=\"0 0 568.8 568.8\" xmlns=\"http://www.w3.org/2000/svg\" version=\"1.1\">\n",
       " <metadata>\n",
       "  <rdf:RDF xmlns:dc=\"http://purl.org/dc/elements/1.1/\" xmlns:cc=\"http://creativecommons.org/ns#\" xmlns:rdf=\"http://www.w3.org/1999/02/22-rdf-syntax-ns#\">\n",
       "   <cc:Work>\n",
       "    <dc:type rdf:resource=\"http://purl.org/dc/dcmitype/StillImage\"/>\n",
       "    <dc:date>2022-05-25T17:19:37.709821</dc:date>\n",
       "    <dc:format>image/svg+xml</dc:format>\n",
       "    <dc:creator>\n",
       "     <cc:Agent>\n",
       "      <dc:title>Matplotlib v3.5.2, https://matplotlib.org/</dc:title>\n",
       "     </cc:Agent>\n",
       "    </dc:creator>\n",
       "   </cc:Work>\n",
       "  </rdf:RDF>\n",
       " </metadata>\n",
       " <defs>\n",
       "  <style type=\"text/css\">*{stroke-linejoin: round; stroke-linecap: butt}</style>\n",
       " </defs>\n",
       " <g id=\"figure_1\">\n",
       "  <g id=\"patch_1\">\n",
       "   <path d=\"M 0 568.8 \n",
       "L 568.8 568.8 \n",
       "L 568.8 0 \n",
       "L 0 0 \n",
       "L 0 568.8 \n",
       "z\n",
       "\" style=\"fill: none\"/>\n",
       "  </g>\n",
       "  <g id=\"axes_1\">\n",
       "   <g clip-path=\"url(#pd503c0a130)\">\n",
       "    <image xlink:href=\"data:image/png;base64,\n",
       "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\" id=\"image1e29aff763\" transform=\"matrix(6.453488 0 0 6.453488 7.2 6.6)\" style=\"image-rendering:crisp-edges;image-rendering:pixelated\" width=\"86\" height=\"86\"/>\n",
       "   </g>\n",
       "  </g>\n",
       " </g>\n",
       " <defs>\n",
       "  <clipPath id=\"pd503c0a130\">\n",
       "   <rect x=\"7.2\" y=\"7.2\" width=\"554.4\" height=\"554.4\"/>\n",
       "  </clipPath>\n",
       " </defs>\n",
       "</svg>\n"
      ],
      "text/plain": [
       "<Figure size 576x576 with 1 Axes>"
      ]
     },
     "metadata": {
      "needs_background": "light"
     },
     "output_type": "display_data"
    }
   ],
   "source": [
    "planes = ps.visualization.show_planes(im, spacing = 2)\n",
    "fig, ax = plt.subplots(1, 1, figsize=[8, 8])\n",
    "ax.imshow(planes)\n",
    "ax.axis(False);"
   ]
  }
 ],
 "metadata": {
  "kernelspec": {
   "display_name": "Python 3 (ipykernel)",
   "language": "python",
   "name": "python3"
  },
  "language_info": {
   "codemirror_mode": {
    "name": "ipython",
    "version": 3
   },
   "file_extension": ".py",
   "mimetype": "text/x-python",
   "name": "python",
   "nbconvert_exporter": "python",
   "pygments_lexer": "ipython3",
   "version": "3.8.13"
  }
 },
 "nbformat": 4,
 "nbformat_minor": 5
}
