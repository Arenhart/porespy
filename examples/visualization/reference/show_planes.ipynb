{
 "cells": [
  {
   "cell_type": "markdown",
   "id": "4a972029",
   "metadata": {},
   "source": [
    "#  `show_planes` "
   ]
  },
  {
   "cell_type": "markdown",
   "id": "103a1704",
   "metadata": {},
   "source": [
    "Create a quick montage showing a 3D image in all three directions."
   ]
  },
  {
   "cell_type": "code",
   "execution_count": 1,
   "id": "dcf63949",
   "metadata": {
    "execution": {
     "iopub.execute_input": "2022-04-26T09:08:56.654529Z",
     "iopub.status.busy": "2022-04-26T09:08:56.654162Z",
     "iopub.status.idle": "2022-04-26T09:08:58.881813Z",
     "shell.execute_reply": "2022-04-26T09:08:58.881210Z"
    }
   },
   "outputs": [
    {
     "data": {
      "text/plain": [
       "<Signature (im, spacing=10)>"
      ]
     },
     "execution_count": 1,
     "metadata": {},
     "output_type": "execute_result"
    }
   ],
   "source": [
    "import matplotlib.pyplot as plt\n",
    "import numpy as np\n",
    "import porespy as ps\n",
    "import inspect\n",
    "ps.visualization.set_mpl_style()\n",
    "inspect.signature(ps.visualization.show_planes)"
   ]
  },
  {
   "cell_type": "markdown",
   "id": "c1d0fe72",
   "metadata": {},
   "source": [
    "## `im`\n",
    "The input image is 3D array to be veiwed in three directions. Note that the method does not work for 2D arrays as input.\n",
    "Note that the upper left image shows the xy plane at z=(image length in z dir/2). The lower left image shows the xz plane at y=(image length in y dir/2). The upper right image shows the yz plane at x=(image length in x dir/2)."
   ]
  },
  {
   "cell_type": "code",
   "execution_count": 2,
   "id": "7d20e730",
   "metadata": {
    "execution": {
     "iopub.execute_input": "2022-04-26T09:08:58.885641Z",
     "iopub.status.busy": "2022-04-26T09:08:58.885434Z",
     "iopub.status.idle": "2022-04-26T09:08:58.981676Z",
     "shell.execute_reply": "2022-04-26T09:08:58.981077Z"
    }
   },
   "outputs": [
    {
     "data": {
      "image/svg+xml": [
       "<?xml version=\"1.0\" encoding=\"utf-8\" standalone=\"no\"?>\n",
       "<!DOCTYPE svg PUBLIC \"-//W3C//DTD SVG 1.1//EN\"\n",
       "  \"http://www.w3.org/Graphics/SVG/1.1/DTD/svg11.dtd\">\n",
       "<svg xmlns:xlink=\"http://www.w3.org/1999/xlink\" width=\"564.48pt\" height=\"564.48pt\" viewBox=\"0 0 564.48 564.48\" xmlns=\"http://www.w3.org/2000/svg\" version=\"1.1\">\n",
       " <metadata>\n",
       "  <rdf:RDF xmlns:dc=\"http://purl.org/dc/elements/1.1/\" xmlns:cc=\"http://creativecommons.org/ns#\" xmlns:rdf=\"http://www.w3.org/1999/02/22-rdf-syntax-ns#\">\n",
       "   <cc:Work>\n",
       "    <dc:type rdf:resource=\"http://purl.org/dc/dcmitype/StillImage\"/>\n",
       "    <dc:date>2022-04-26T09:08:58.960317</dc:date>\n",
       "    <dc:format>image/svg+xml</dc:format>\n",
       "    <dc:creator>\n",
       "     <cc:Agent>\n",
       "      <dc:title>Matplotlib v3.5.1, https://matplotlib.org/</dc:title>\n",
       "     </cc:Agent>\n",
       "    </dc:creator>\n",
       "   </cc:Work>\n",
       "  </rdf:RDF>\n",
       " </metadata>\n",
       " <defs>\n",
       "  <style type=\"text/css\">*{stroke-linejoin: round; stroke-linecap: butt}</style>\n",
       " </defs>\n",
       " <g id=\"figure_1\">\n",
       "  <g id=\"patch_1\">\n",
       "   <path d=\"M 0 564.48 \n",
       "L 564.48 564.48 \n",
       "L 564.48 0 \n",
       "L 0 0 \n",
       "L 0 564.48 \n",
       "z\n",
       "\" style=\"fill: none\"/>\n",
       "  </g>\n",
       "  <g id=\"axes_1\">\n",
       "   <g clip-path=\"url(#pfd4e961b57)\">\n",
       "    <image xlink:href=\"data:image/png;base64,\n",
       "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\" id=\"imagecc41e1025e\" transform=\"matrix(5.009091 0 0 5.009091 7.2 6.28)\" style=\"image-rendering:crisp-edges;image-rendering:pixelated\" width=\"110\" height=\"110\"/>\n",
       "   </g>\n",
       "  </g>\n",
       " </g>\n",
       " <defs>\n",
       "  <clipPath id=\"pfd4e961b57\">\n",
       "   <rect x=\"7.2\" y=\"7.2\" width=\"550.08\" height=\"550.08\"/>\n",
       "  </clipPath>\n",
       " </defs>\n",
       "</svg>\n"
      ],
      "text/plain": [
       "<Figure size 576x576 with 1 Axes>"
      ]
     },
     "metadata": {
      "needs_background": "light"
     },
     "output_type": "display_data"
    }
   ],
   "source": [
    "im = ps.generators.blobs(shape=[40, 40, 40])\n",
    "planes = ps.visualization.show_planes(im)\n",
    "fig, ax = plt.subplots(1, 1, figsize=[8, 8])\n",
    "ax.imshow(planes)\n",
    "ax.axis(False);"
   ]
  },
  {
   "cell_type": "markdown",
   "id": "3339e6b5",
   "metadata": {},
   "source": [
    "## `spacing`"
   ]
  },
  {
   "cell_type": "markdown",
   "id": "7fdafe1f",
   "metadata": {},
   "source": [
    "This parameter defines the amount of space to put between each plane. The default spacing is 10."
   ]
  },
  {
   "cell_type": "code",
   "execution_count": 3,
   "id": "c9d58846",
   "metadata": {
    "execution": {
     "iopub.execute_input": "2022-04-26T09:08:58.984924Z",
     "iopub.status.busy": "2022-04-26T09:08:58.984732Z",
     "iopub.status.idle": "2022-04-26T09:08:59.059913Z",
     "shell.execute_reply": "2022-04-26T09:08:59.059312Z"
    }
   },
   "outputs": [
    {
     "data": {
      "image/svg+xml": [
       "<?xml version=\"1.0\" encoding=\"utf-8\" standalone=\"no\"?>\n",
       "<!DOCTYPE svg PUBLIC \"-//W3C//DTD SVG 1.1//EN\"\n",
       "  \"http://www.w3.org/Graphics/SVG/1.1/DTD/svg11.dtd\">\n",
       "<svg xmlns:xlink=\"http://www.w3.org/1999/xlink\" width=\"564.48pt\" height=\"564.48pt\" viewBox=\"0 0 564.48 564.48\" xmlns=\"http://www.w3.org/2000/svg\" version=\"1.1\">\n",
       " <metadata>\n",
       "  <rdf:RDF xmlns:dc=\"http://purl.org/dc/elements/1.1/\" xmlns:cc=\"http://creativecommons.org/ns#\" xmlns:rdf=\"http://www.w3.org/1999/02/22-rdf-syntax-ns#\">\n",
       "   <cc:Work>\n",
       "    <dc:type rdf:resource=\"http://purl.org/dc/dcmitype/StillImage\"/>\n",
       "    <dc:date>2022-04-26T09:08:59.046502</dc:date>\n",
       "    <dc:format>image/svg+xml</dc:format>\n",
       "    <dc:creator>\n",
       "     <cc:Agent>\n",
       "      <dc:title>Matplotlib v3.5.1, https://matplotlib.org/</dc:title>\n",
       "     </cc:Agent>\n",
       "    </dc:creator>\n",
       "   </cc:Work>\n",
       "  </rdf:RDF>\n",
       " </metadata>\n",
       " <defs>\n",
       "  <style type=\"text/css\">*{stroke-linejoin: round; stroke-linecap: butt}</style>\n",
       " </defs>\n",
       " <g id=\"figure_1\">\n",
       "  <g id=\"patch_1\">\n",
       "   <path d=\"M 0 564.48 \n",
       "L 564.48 564.48 \n",
       "L 564.48 0 \n",
       "L 0 0 \n",
       "L 0 564.48 \n",
       "z\n",
       "\" style=\"fill: none\"/>\n",
       "  </g>\n",
       "  <g id=\"axes_1\">\n",
       "   <g clip-path=\"url(#p8de92750cf)\">\n",
       "    <image xlink:href=\"data:image/png;base64,\n",
       "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\" id=\"image64f9eddab0\" transform=\"matrix(6.406977 0 0 6.406977 7.2 6.28)\" style=\"image-rendering:crisp-edges;image-rendering:pixelated\" width=\"86\" height=\"86\"/>\n",
       "   </g>\n",
       "  </g>\n",
       " </g>\n",
       " <defs>\n",
       "  <clipPath id=\"p8de92750cf\">\n",
       "   <rect x=\"7.2\" y=\"7.2\" width=\"550.08\" height=\"550.08\"/>\n",
       "  </clipPath>\n",
       " </defs>\n",
       "</svg>\n"
      ],
      "text/plain": [
       "<Figure size 576x576 with 1 Axes>"
      ]
     },
     "metadata": {
      "needs_background": "light"
     },
     "output_type": "display_data"
    }
   ],
   "source": [
    "planes = ps.visualization.show_planes(im, spacing = 2)\n",
    "fig, ax = plt.subplots(1, 1, figsize=[8, 8])\n",
    "ax.imshow(planes)\n",
    "ax.axis(False);"
   ]
  }
 ],
 "metadata": {
  "kernelspec": {
   "display_name": "Python 3 (ipykernel)",
   "language": "python",
   "name": "python3"
  },
  "language_info": {
   "codemirror_mode": {
    "name": "ipython",
    "version": 3
   },
   "file_extension": ".py",
   "mimetype": "text/x-python",
   "name": "python",
   "nbconvert_exporter": "python",
   "pygments_lexer": "ipython3",
   "version": "3.8.13"
  }
 },
 "nbformat": 4,
 "nbformat_minor": 5
}
