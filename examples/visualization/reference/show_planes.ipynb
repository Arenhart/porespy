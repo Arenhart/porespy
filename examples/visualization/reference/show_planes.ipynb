{
 "cells": [
  {
   "cell_type": "markdown",
   "id": "4a972029",
   "metadata": {},
   "source": [
    "#  `show_planes` "
   ]
  },
  {
   "cell_type": "markdown",
   "id": "103a1704",
   "metadata": {},
   "source": [
    "Create a quick montage showing a 3D image in all three directions."
   ]
  },
  {
   "cell_type": "code",
   "execution_count": 1,
   "id": "dcf63949",
   "metadata": {
    "execution": {
     "iopub.execute_input": "2022-06-22T19:33:05.416089Z",
     "iopub.status.busy": "2022-06-22T19:33:05.415525Z",
     "iopub.status.idle": "2022-06-22T19:33:07.557473Z",
     "shell.execute_reply": "2022-06-22T19:33:07.556447Z"
    }
   },
   "outputs": [
    {
     "data": {
      "text/plain": [
       "<Signature (im, spacing=10)>"
      ]
     },
     "execution_count": 1,
     "metadata": {},
     "output_type": "execute_result"
    }
   ],
   "source": [
    "import matplotlib.pyplot as plt\n",
    "import numpy as np\n",
    "import porespy as ps\n",
    "import inspect\n",
    "ps.visualization.set_mpl_style()\n",
    "inspect.signature(ps.visualization.show_planes)"
   ]
  },
  {
   "cell_type": "markdown",
   "id": "c1d0fe72",
   "metadata": {},
   "source": [
    "## `im`\n",
    "The input image is 3D array to be veiwed in three directions. Note that the method does not work for 2D arrays as input.\n",
    "Note that the upper left image shows the xy plane at z=(image length in z dir/2). The lower left image shows the xz plane at y=(image length in y dir/2). The upper right image shows the yz plane at x=(image length in x dir/2)."
   ]
  },
  {
   "cell_type": "code",
   "execution_count": 2,
   "id": "7d20e730",
   "metadata": {
    "execution": {
     "iopub.execute_input": "2022-06-22T19:33:07.562633Z",
     "iopub.status.busy": "2022-06-22T19:33:07.561739Z",
     "iopub.status.idle": "2022-06-22T19:33:07.662774Z",
     "shell.execute_reply": "2022-06-22T19:33:07.662032Z"
    }
   },
   "outputs": [
    {
     "data": {
      "image/svg+xml": [
       "<?xml version=\"1.0\" encoding=\"utf-8\" standalone=\"no\"?>\n",
       "<!DOCTYPE svg PUBLIC \"-//W3C//DTD SVG 1.1//EN\"\n",
       "  \"http://www.w3.org/Graphics/SVG/1.1/DTD/svg11.dtd\">\n",
       "<svg xmlns:xlink=\"http://www.w3.org/1999/xlink\" width=\"568.8pt\" height=\"568.8pt\" viewBox=\"0 0 568.8 568.8\" xmlns=\"http://www.w3.org/2000/svg\" version=\"1.1\">\n",
       " <metadata>\n",
       "  <rdf:RDF xmlns:dc=\"http://purl.org/dc/elements/1.1/\" xmlns:cc=\"http://creativecommons.org/ns#\" xmlns:rdf=\"http://www.w3.org/1999/02/22-rdf-syntax-ns#\">\n",
       "   <cc:Work>\n",
       "    <dc:type rdf:resource=\"http://purl.org/dc/dcmitype/StillImage\"/>\n",
       "    <dc:date>2022-06-22T19:33:07.631509</dc:date>\n",
       "    <dc:format>image/svg+xml</dc:format>\n",
       "    <dc:creator>\n",
       "     <cc:Agent>\n",
       "      <dc:title>Matplotlib v3.5.2, https://matplotlib.org/</dc:title>\n",
       "     </cc:Agent>\n",
       "    </dc:creator>\n",
       "   </cc:Work>\n",
       "  </rdf:RDF>\n",
       " </metadata>\n",
       " <defs>\n",
       "  <style type=\"text/css\">*{stroke-linejoin: round; stroke-linecap: butt}</style>\n",
       " </defs>\n",
       " <g id=\"figure_1\">\n",
       "  <g id=\"patch_1\">\n",
       "   <path d=\"M 0 568.8 \n",
       "L 568.8 568.8 \n",
       "L 568.8 0 \n",
       "L 0 0 \n",
       "L 0 568.8 \n",
       "z\n",
       "\" style=\"fill: none\"/>\n",
       "  </g>\n",
       "  <g id=\"axes_1\">\n",
       "   <g clip-path=\"url(#p8183f00bc9)\">\n",
       "    <image xlink:href=\"data:image/png;base64,\n",
       "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\" id=\"image3833aed5c9\" transform=\"matrix(5.045455 0 0 5.045455 7.2 6.6)\" style=\"image-rendering:crisp-edges;image-rendering:pixelated\" width=\"110\" height=\"110\"/>\n",
       "   </g>\n",
       "  </g>\n",
       " </g>\n",
       " <defs>\n",
       "  <clipPath id=\"p8183f00bc9\">\n",
       "   <rect x=\"7.2\" y=\"7.2\" width=\"554.4\" height=\"554.4\"/>\n",
       "  </clipPath>\n",
       " </defs>\n",
       "</svg>\n"
      ],
      "text/plain": [
       "<Figure size 576x576 with 1 Axes>"
      ]
     },
     "metadata": {
      "needs_background": "light"
     },
     "output_type": "display_data"
    }
   ],
   "source": [
    "im = ps.generators.blobs(shape=[40, 40, 40])\n",
    "planes = ps.visualization.show_planes(im)\n",
    "fig, ax = plt.subplots(1, 1, figsize=[8, 8])\n",
    "ax.imshow(planes)\n",
    "ax.axis(False);"
   ]
  },
  {
   "cell_type": "markdown",
   "id": "3339e6b5",
   "metadata": {},
   "source": [
    "## `spacing`"
   ]
  },
  {
   "cell_type": "markdown",
   "id": "7fdafe1f",
   "metadata": {},
   "source": [
    "This parameter defines the amount of space to put between each plane. The default spacing is 10."
   ]
  },
  {
   "cell_type": "code",
   "execution_count": 3,
   "id": "c9d58846",
   "metadata": {
    "execution": {
     "iopub.execute_input": "2022-06-22T19:33:07.666981Z",
     "iopub.status.busy": "2022-06-22T19:33:07.666504Z",
     "iopub.status.idle": "2022-06-22T19:33:07.752119Z",
     "shell.execute_reply": "2022-06-22T19:33:07.751448Z"
    }
   },
   "outputs": [
    {
     "data": {
      "image/svg+xml": [
       "<?xml version=\"1.0\" encoding=\"utf-8\" standalone=\"no\"?>\n",
       "<!DOCTYPE svg PUBLIC \"-//W3C//DTD SVG 1.1//EN\"\n",
       "  \"http://www.w3.org/Graphics/SVG/1.1/DTD/svg11.dtd\">\n",
       "<svg xmlns:xlink=\"http://www.w3.org/1999/xlink\" width=\"568.8pt\" height=\"568.8pt\" viewBox=\"0 0 568.8 568.8\" xmlns=\"http://www.w3.org/2000/svg\" version=\"1.1\">\n",
       " <metadata>\n",
       "  <rdf:RDF xmlns:dc=\"http://purl.org/dc/elements/1.1/\" xmlns:cc=\"http://creativecommons.org/ns#\" xmlns:rdf=\"http://www.w3.org/1999/02/22-rdf-syntax-ns#\">\n",
       "   <cc:Work>\n",
       "    <dc:type rdf:resource=\"http://purl.org/dc/dcmitype/StillImage\"/>\n",
       "    <dc:date>2022-06-22T19:33:07.744177</dc:date>\n",
       "    <dc:format>image/svg+xml</dc:format>\n",
       "    <dc:creator>\n",
       "     <cc:Agent>\n",
       "      <dc:title>Matplotlib v3.5.2, https://matplotlib.org/</dc:title>\n",
       "     </cc:Agent>\n",
       "    </dc:creator>\n",
       "   </cc:Work>\n",
       "  </rdf:RDF>\n",
       " </metadata>\n",
       " <defs>\n",
       "  <style type=\"text/css\">*{stroke-linejoin: round; stroke-linecap: butt}</style>\n",
       " </defs>\n",
       " <g id=\"figure_1\">\n",
       "  <g id=\"patch_1\">\n",
       "   <path d=\"M 0 568.8 \n",
       "L 568.8 568.8 \n",
       "L 568.8 0 \n",
       "L 0 0 \n",
       "L 0 568.8 \n",
       "z\n",
       "\" style=\"fill: none\"/>\n",
       "  </g>\n",
       "  <g id=\"axes_1\">\n",
       "   <g clip-path=\"url(#pd880cbd225)\">\n",
       "    <image xlink:href=\"data:image/png;base64,\n",
       "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\" id=\"imageecb59c0122\" transform=\"matrix(6.453488 0 0 6.453488 7.2 6.6)\" style=\"image-rendering:crisp-edges;image-rendering:pixelated\" width=\"86\" height=\"86\"/>\n",
       "   </g>\n",
       "  </g>\n",
       " </g>\n",
       " <defs>\n",
       "  <clipPath id=\"pd880cbd225\">\n",
       "   <rect x=\"7.2\" y=\"7.2\" width=\"554.4\" height=\"554.4\"/>\n",
       "  </clipPath>\n",
       " </defs>\n",
       "</svg>\n"
      ],
      "text/plain": [
       "<Figure size 576x576 with 1 Axes>"
      ]
     },
     "metadata": {
      "needs_background": "light"
     },
     "output_type": "display_data"
    }
   ],
   "source": [
    "planes = ps.visualization.show_planes(im, spacing = 2)\n",
    "fig, ax = plt.subplots(1, 1, figsize=[8, 8])\n",
    "ax.imshow(planes)\n",
    "ax.axis(False);"
   ]
  }
 ],
 "metadata": {
  "kernelspec": {
   "display_name": "Python 3 (ipykernel)",
   "language": "python",
   "name": "python3"
  },
  "language_info": {
   "codemirror_mode": {
    "name": "ipython",
    "version": 3
   },
   "file_extension": ".py",
   "mimetype": "text/x-python",
   "name": "python",
   "nbconvert_exporter": "python",
   "pygments_lexer": "ipython3",
   "version": "3.8.13"
  }
 },
 "nbformat": 4,
 "nbformat_minor": 5
}
