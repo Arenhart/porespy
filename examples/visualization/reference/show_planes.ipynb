{
 "cells": [
  {
   "cell_type": "markdown",
   "id": "4a972029",
   "metadata": {},
   "source": [
    "#  `show_planes` "
   ]
  },
  {
   "cell_type": "markdown",
   "id": "103a1704",
   "metadata": {},
   "source": [
    "Create a quick montage showing a 3D image in all three directions."
   ]
  },
  {
   "cell_type": "code",
   "execution_count": 1,
   "id": "dcf63949",
   "metadata": {
    "execution": {
     "iopub.execute_input": "2022-05-25T19:26:13.224551Z",
     "iopub.status.busy": "2022-05-25T19:26:13.224078Z",
     "iopub.status.idle": "2022-05-25T19:26:15.770409Z",
     "shell.execute_reply": "2022-05-25T19:26:15.769667Z"
    }
   },
   "outputs": [
    {
     "data": {
      "text/plain": [
       "<Signature (im, spacing=10)>"
      ]
     },
     "execution_count": 1,
     "metadata": {},
     "output_type": "execute_result"
    }
   ],
   "source": [
    "import matplotlib.pyplot as plt\n",
    "import numpy as np\n",
    "import porespy as ps\n",
    "import inspect\n",
    "ps.visualization.set_mpl_style()\n",
    "inspect.signature(ps.visualization.show_planes)"
   ]
  },
  {
   "cell_type": "markdown",
   "id": "c1d0fe72",
   "metadata": {},
   "source": [
    "## `im`\n",
    "The input image is 3D array to be veiwed in three directions. Note that the method does not work for 2D arrays as input.\n",
    "Note that the upper left image shows the xy plane at z=(image length in z dir/2). The lower left image shows the xz plane at y=(image length in y dir/2). The upper right image shows the yz plane at x=(image length in x dir/2)."
   ]
  },
  {
   "cell_type": "code",
   "execution_count": 2,
   "id": "7d20e730",
   "metadata": {
    "execution": {
     "iopub.execute_input": "2022-05-25T19:26:15.776102Z",
     "iopub.status.busy": "2022-05-25T19:26:15.774276Z",
     "iopub.status.idle": "2022-05-25T19:26:15.897750Z",
     "shell.execute_reply": "2022-05-25T19:26:15.897002Z"
    }
   },
   "outputs": [
    {
     "data": {
      "image/svg+xml": [
       "<?xml version=\"1.0\" encoding=\"utf-8\" standalone=\"no\"?>\n",
       "<!DOCTYPE svg PUBLIC \"-//W3C//DTD SVG 1.1//EN\"\n",
       "  \"http://www.w3.org/Graphics/SVG/1.1/DTD/svg11.dtd\">\n",
       "<svg xmlns:xlink=\"http://www.w3.org/1999/xlink\" width=\"568.8pt\" height=\"568.8pt\" viewBox=\"0 0 568.8 568.8\" xmlns=\"http://www.w3.org/2000/svg\" version=\"1.1\">\n",
       " <metadata>\n",
       "  <rdf:RDF xmlns:dc=\"http://purl.org/dc/elements/1.1/\" xmlns:cc=\"http://creativecommons.org/ns#\" xmlns:rdf=\"http://www.w3.org/1999/02/22-rdf-syntax-ns#\">\n",
       "   <cc:Work>\n",
       "    <dc:type rdf:resource=\"http://purl.org/dc/dcmitype/StillImage\"/>\n",
       "    <dc:date>2022-05-25T19:26:15.864738</dc:date>\n",
       "    <dc:format>image/svg+xml</dc:format>\n",
       "    <dc:creator>\n",
       "     <cc:Agent>\n",
       "      <dc:title>Matplotlib v3.5.2, https://matplotlib.org/</dc:title>\n",
       "     </cc:Agent>\n",
       "    </dc:creator>\n",
       "   </cc:Work>\n",
       "  </rdf:RDF>\n",
       " </metadata>\n",
       " <defs>\n",
       "  <style type=\"text/css\">*{stroke-linejoin: round; stroke-linecap: butt}</style>\n",
       " </defs>\n",
       " <g id=\"figure_1\">\n",
       "  <g id=\"patch_1\">\n",
       "   <path d=\"M 0 568.8 \n",
       "L 568.8 568.8 \n",
       "L 568.8 0 \n",
       "L 0 0 \n",
       "L 0 568.8 \n",
       "z\n",
       "\" style=\"fill: none\"/>\n",
       "  </g>\n",
       "  <g id=\"axes_1\">\n",
       "   <g clip-path=\"url(#pcb5edbc7e2)\">\n",
       "    <image xlink:href=\"data:image/png;base64,\n",
       "iVBORw0KGgoAAAANSUhEUgAAAG4AAABuCAYAAADGWyb7AAAGWElEQVR4nO1d240cOQzUHhzFRrFBHLAJXLLOwlE4Dd/HoXGyzEcVSc2splmAP3am9SyK4qvHb3+//fNrNI7DX8+eQCOGJu5QNHGHook7FE3coWjiDkUTdyiauEPRxB2Kb5Wdff/544/PPt8/xM8lfL5/wP2v/Xptvf7WfpC+pWesdut4kTlfKDtxGjkWaZmJR/tBhWhtI/2T+r3mIs2par1jFBHHbMY8eaadJMmf7x/0ZszPS21XUrJjSH1KY7J4qwgys6pQe14iVVO1Uen9/vOHq/rmeSKCZs2FJQVdVwlxY8iLlqBJudTWux+r7zVpLkxbdDwL6Jpg48SSVGQCVntNqr1FZ42TTDsEmjESUY0rKKvSksb5Gc+a8vrfiahaY4UE1RTInkoodQe8CVSckHWsLNms+stoHe2ZyBpCVqVkJbHWV9a3i1qW3riIOl/7qzCePMtzxVMjJ959xm4igkvCJbN/nof1jIRHqPkZ24ibF62dip2GQQRZ4yHaLrIPoTsONZXZPqVoxG5yET8takBYWNfG3nVbVeW6UDaicD0jtc3OKxIRQe9Ha13Wd8x8yqzKWWKqfCrtDtx1EiusVKmfysjPhRRxFdHur3bPSWCyA16bue1TsgMVUQFv4hF1hiJzsljTfccawifOUo1RadIkGA0KR8ZZ4eX5ompPisOufW674yx1gIbDpL/RCVcZKhUhJxSo9ciO/1AHHI0+POreYwLakT61zyrWRxGnnRjvsxmaIx410ZExESAGCDIOGxqz2lgoO3FoxJy9/6TQEzNmBZAMNpMBiQj8irJEKgJWYlEJZYTBMg7Q8T2wa9hunLADRRaOtNnpgGt/WwHp7DjzGOUZcG2gFY9QX1Vj7PbFdu5PeSJVkhpPQi21MfdXaYSg2W6rD2QsJHD+VONkBhtZ0PoY409HvCo9VJHhiM4Fsc49UMVCY/y/eVbUREPFxX+1jaqcuW2VM8y00048uybYqvQcZJQwqY1FPvNdFN6moWtHv4vs1YqSO06T2qpohDZGRX+e02+ptaoY6bVXTH+ld9y8CZnLf322mjQGbLAg+h0rBOVW5Ri6WojGBrXTG3Fcr02qULMVa4gCPnFILLHqopdSOpX+oSYE6OlmozRV/c3YcuIQIBK4y5ln/ULpDkK0yk6kCmIlCUUWsZ6iKp9vN7wIP6ONskK55cR55EmXMXJBMz6jh13hKIQ8bR1PsSqzdxESBlpPeUXEJJIHzASXq7RM+avEzOWOEOAZDVXBX0/tW2NWGSsMmTBxq+O5Sqk1eUmimQvda195WlZBYZ9/FNKJ1PVuykZRvPAY+rwGNgRVNS90XHQ9aVWJ3k1ReNJcIe3RiD46rx2n8aGlC4069C8LHYom7lA0cYeiiTsUTdyhaOIORRN3KJq4Q9HEHYp0Po4J9q7xuvnvSNB4R6neKXhK6UJFXeHdQVcyj5Hb3DU6vqMY6A4I15xcQLK6V6S8MnOAFrS+KkLEracG3fyq9MYzC2S/ClJWpXby0DbR8aKC80pI/1yGVrHlAS34kRKY6xtDdwRVyYx8fufNfCTSxsn8mVT0mS0Uasgof83KO5mV9SF3VpdpqzILi1C0+qrdgSCsqmPpWcnpRjb/jgRpoKu8rBr/6rdvpNhmk/cf6DvOq1jORkKiY98NpWkdz0ixQmLMGHOhaTvgRfBe/tNSOyzuSNYM+sStEq6dsh0be3eyZoTSOjOiEf+V8KiavSvK/bjsWzUIaZGXEV8NNHGWOkRzZNJ3Wps+aTJKa07G8H0uyWWwkqxV75O9GrbWnGRfZmzoKCVuBwGtKmXAxLF3lvS5Vo4nwVLBjQeoSi/R6hkk0V84eHVsq2TOnBAriC0FAO54CkM/lzHDsvoyPwbjPYfWrLwqyl/eR1MvrGnfrsDv2BJk9sizsgRthGBI33FsqqaKkN0B7a+O0K+gS99ZJj67sYwrcEfSxgioSoYc760cxDXw2twVD3/NiikKaoNER+r/Ad8t/U2SjlQlM7Oxq1/Gqkkpo3BntRlWldGqrOhm9+n7HeEgc6ToRzpldz41GYT9OMQCtD5jXtCvLrR9BaT/A3ftvrNim6gKtYLJdyRrRihWaRkW7OmI5N3uTtoY/Quxx6J/WehQNHGHook7FE3coWjiDkUTdyiauEPRxB2KJu5Q/AvPQGKLahPiAgAAAABJRU5ErkJggg==\" id=\"imagea4094c3722\" transform=\"matrix(5.045455 0 0 5.045455 7.2 6.6)\" style=\"image-rendering:crisp-edges;image-rendering:pixelated\" width=\"110\" height=\"110\"/>\n",
       "   </g>\n",
       "  </g>\n",
       " </g>\n",
       " <defs>\n",
       "  <clipPath id=\"pcb5edbc7e2\">\n",
       "   <rect x=\"7.2\" y=\"7.2\" width=\"554.4\" height=\"554.4\"/>\n",
       "  </clipPath>\n",
       " </defs>\n",
       "</svg>\n"
      ],
      "text/plain": [
       "<Figure size 576x576 with 1 Axes>"
      ]
     },
     "metadata": {
      "needs_background": "light"
     },
     "output_type": "display_data"
    }
   ],
   "source": [
    "im = ps.generators.blobs(shape=[40, 40, 40])\n",
    "planes = ps.visualization.show_planes(im)\n",
    "fig, ax = plt.subplots(1, 1, figsize=[8, 8])\n",
    "ax.imshow(planes)\n",
    "ax.axis(False);"
   ]
  },
  {
   "cell_type": "markdown",
   "id": "3339e6b5",
   "metadata": {},
   "source": [
    "## `spacing`"
   ]
  },
  {
   "cell_type": "markdown",
   "id": "7fdafe1f",
   "metadata": {},
   "source": [
    "This parameter defines the amount of space to put between each plane. The default spacing is 10."
   ]
  },
  {
   "cell_type": "code",
   "execution_count": 3,
   "id": "c9d58846",
   "metadata": {
    "execution": {
     "iopub.execute_input": "2022-05-25T19:26:15.901968Z",
     "iopub.status.busy": "2022-05-25T19:26:15.901553Z",
     "iopub.status.idle": "2022-05-25T19:26:16.027715Z",
     "shell.execute_reply": "2022-05-25T19:26:16.026920Z"
    }
   },
   "outputs": [
    {
     "data": {
      "image/svg+xml": [
       "<?xml version=\"1.0\" encoding=\"utf-8\" standalone=\"no\"?>\n",
       "<!DOCTYPE svg PUBLIC \"-//W3C//DTD SVG 1.1//EN\"\n",
       "  \"http://www.w3.org/Graphics/SVG/1.1/DTD/svg11.dtd\">\n",
       "<svg xmlns:xlink=\"http://www.w3.org/1999/xlink\" width=\"568.8pt\" height=\"568.8pt\" viewBox=\"0 0 568.8 568.8\" xmlns=\"http://www.w3.org/2000/svg\" version=\"1.1\">\n",
       " <metadata>\n",
       "  <rdf:RDF xmlns:dc=\"http://purl.org/dc/elements/1.1/\" xmlns:cc=\"http://creativecommons.org/ns#\" xmlns:rdf=\"http://www.w3.org/1999/02/22-rdf-syntax-ns#\">\n",
       "   <cc:Work>\n",
       "    <dc:type rdf:resource=\"http://purl.org/dc/dcmitype/StillImage\"/>\n",
       "    <dc:date>2022-05-25T19:26:16.007790</dc:date>\n",
       "    <dc:format>image/svg+xml</dc:format>\n",
       "    <dc:creator>\n",
       "     <cc:Agent>\n",
       "      <dc:title>Matplotlib v3.5.2, https://matplotlib.org/</dc:title>\n",
       "     </cc:Agent>\n",
       "    </dc:creator>\n",
       "   </cc:Work>\n",
       "  </rdf:RDF>\n",
       " </metadata>\n",
       " <defs>\n",
       "  <style type=\"text/css\">*{stroke-linejoin: round; stroke-linecap: butt}</style>\n",
       " </defs>\n",
       " <g id=\"figure_1\">\n",
       "  <g id=\"patch_1\">\n",
       "   <path d=\"M 0 568.8 \n",
       "L 568.8 568.8 \n",
       "L 568.8 0 \n",
       "L 0 0 \n",
       "L 0 568.8 \n",
       "z\n",
       "\" style=\"fill: none\"/>\n",
       "  </g>\n",
       "  <g id=\"axes_1\">\n",
       "   <g clip-path=\"url(#p8416036b49)\">\n",
       "    <image xlink:href=\"data:image/png;base64,\n",
       "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\" id=\"image86ea1a4d3c\" transform=\"matrix(6.453488 0 0 6.453488 7.2 6.6)\" style=\"image-rendering:crisp-edges;image-rendering:pixelated\" width=\"86\" height=\"86\"/>\n",
       "   </g>\n",
       "  </g>\n",
       " </g>\n",
       " <defs>\n",
       "  <clipPath id=\"p8416036b49\">\n",
       "   <rect x=\"7.2\" y=\"7.2\" width=\"554.4\" height=\"554.4\"/>\n",
       "  </clipPath>\n",
       " </defs>\n",
       "</svg>\n"
      ],
      "text/plain": [
       "<Figure size 576x576 with 1 Axes>"
      ]
     },
     "metadata": {
      "needs_background": "light"
     },
     "output_type": "display_data"
    }
   ],
   "source": [
    "planes = ps.visualization.show_planes(im, spacing = 2)\n",
    "fig, ax = plt.subplots(1, 1, figsize=[8, 8])\n",
    "ax.imshow(planes)\n",
    "ax.axis(False);"
   ]
  }
 ],
 "metadata": {
  "kernelspec": {
   "display_name": "Python 3 (ipykernel)",
   "language": "python",
   "name": "python3"
  },
  "language_info": {
   "codemirror_mode": {
    "name": "ipython",
    "version": 3
   },
   "file_extension": ".py",
   "mimetype": "text/x-python",
   "name": "python",
   "nbconvert_exporter": "python",
   "pygments_lexer": "ipython3",
   "version": "3.8.13"
  }
 },
 "nbformat": 4,
 "nbformat_minor": 5
}
