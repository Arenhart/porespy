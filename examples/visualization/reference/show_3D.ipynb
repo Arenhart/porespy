{
 "cells": [
  {
   "cell_type": "markdown",
   "id": "608d0001",
   "metadata": {},
   "source": [
    "#  `show_3D` "
   ]
  },
  {
   "cell_type": "markdown",
   "id": "92fad141",
   "metadata": {},
   "source": [
    "Rotates a 3D image and creates an angled view for a rough 2D visualization. This method uses `scipy.ndimage.rotate` function to view the 3D image from an angle, then projects the result in 2D. This method is useful for a quick visualization of small prototype images. Because it rotates the image it can be slow for large images."
   ]
  },
  {
   "cell_type": "code",
   "execution_count": 1,
   "id": "e3d2c7ef",
   "metadata": {
    "execution": {
     "iopub.execute_input": "2022-06-22T19:25:52.312431Z",
     "iopub.status.busy": "2022-06-22T19:25:52.311900Z",
     "iopub.status.idle": "2022-06-22T19:25:54.676446Z",
     "shell.execute_reply": "2022-06-22T19:25:54.675403Z"
    }
   },
   "outputs": [
    {
     "data": {
      "text/plain": [
       "<Signature (im)>"
      ]
     },
     "execution_count": 1,
     "metadata": {},
     "output_type": "execute_result"
    }
   ],
   "source": [
    "import matplotlib.pyplot as plt\n",
    "import numpy as np\n",
    "import porespy as ps\n",
    "import inspect\n",
    "ps.visualization.set_mpl_style()\n",
    "inspect.signature(ps.visualization.show_3D)"
   ]
  },
  {
   "cell_type": "markdown",
   "id": "54261dfb",
   "metadata": {},
   "source": [
    "## `im`\n",
    "The input image is 3D array to be veiwed in 3D. Note that the method does not work for 2D arrays as input."
   ]
  },
  {
   "cell_type": "code",
   "execution_count": 2,
   "id": "3489b58f",
   "metadata": {
    "execution": {
     "iopub.execute_input": "2022-06-22T19:25:54.681796Z",
     "iopub.status.busy": "2022-06-22T19:25:54.681036Z",
     "iopub.status.idle": "2022-06-22T19:25:54.795964Z",
     "shell.execute_reply": "2022-06-22T19:25:54.795321Z"
    }
   },
   "outputs": [
    {
     "data": {
      "image/svg+xml": [
       "<?xml version=\"1.0\" encoding=\"utf-8\" standalone=\"no\"?>\n",
       "<!DOCTYPE svg PUBLIC \"-//W3C//DTD SVG 1.1//EN\"\n",
       "  \"http://www.w3.org/Graphics/SVG/1.1/DTD/svg11.dtd\">\n",
       "<svg xmlns:xlink=\"http://www.w3.org/1999/xlink\" width=\"437.4pt\" height=\"352.8pt\" viewBox=\"0 0 437.4 352.8\" xmlns=\"http://www.w3.org/2000/svg\" version=\"1.1\">\n",
       " <metadata>\n",
       "  <rdf:RDF xmlns:dc=\"http://purl.org/dc/elements/1.1/\" xmlns:cc=\"http://creativecommons.org/ns#\" xmlns:rdf=\"http://www.w3.org/1999/02/22-rdf-syntax-ns#\">\n",
       "   <cc:Work>\n",
       "    <dc:type rdf:resource=\"http://purl.org/dc/dcmitype/StillImage\"/>\n",
       "    <dc:date>2022-06-22T19:25:54.780883</dc:date>\n",
       "    <dc:format>image/svg+xml</dc:format>\n",
       "    <dc:creator>\n",
       "     <cc:Agent>\n",
       "      <dc:title>Matplotlib v3.5.2, https://matplotlib.org/</dc:title>\n",
       "     </cc:Agent>\n",
       "    </dc:creator>\n",
       "   </cc:Work>\n",
       "  </rdf:RDF>\n",
       " </metadata>\n",
       " <defs>\n",
       "  <style type=\"text/css\">*{stroke-linejoin: round; stroke-linecap: butt}</style>\n",
       " </defs>\n",
       " <g id=\"figure_1\">\n",
       "  <g id=\"patch_1\">\n",
       "   <path d=\"M 0 352.8 \n",
       "L 437.4 352.8 \n",
       "L 437.4 0 \n",
       "L 0 0 \n",
       "L 0 352.8 \n",
       "z\n",
       "\" style=\"fill: none\"/>\n",
       "  </g>\n",
       "  <g id=\"axes_1\">\n",
       "   <g clip-path=\"url(#p2c9679609f)\">\n",
       "    <image xlink:href=\"data:image/png;base64,\n",
       "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\" id=\"image4f24762cdd\" transform=\"matrix(6.507692 0 0 6.519231 7.2 6.6)\" style=\"image-rendering:crisp-edges;image-rendering:pixelated\" width=\"65\" height=\"52\"/>\n",
       "   </g>\n",
       "  </g>\n",
       " </g>\n",
       " <defs>\n",
       "  <clipPath id=\"p2c9679609f\">\n",
       "   <rect x=\"7.2\" y=\"7.2\" width=\"423\" height=\"338.4\"/>\n",
       "  </clipPath>\n",
       " </defs>\n",
       "</svg>\n"
      ],
      "text/plain": [
       "<Figure size 864x360 with 1 Axes>"
      ]
     },
     "metadata": {
      "needs_background": "light"
     },
     "output_type": "display_data"
    }
   ],
   "source": [
    "im = ps.generators.blobs(shape=[40, 40, 40])\n",
    "im_viz = ps.visualization.show_3D(im)\n",
    "fig, ax = plt.subplots(1, 1, figsize=[12, 5])\n",
    "ax.imshow(im_viz)\n",
    "ax.axis(False);"
   ]
  }
 ],
 "metadata": {
  "kernelspec": {
   "display_name": "Python 3 (ipykernel)",
   "language": "python",
   "name": "python3"
  },
  "language_info": {
   "codemirror_mode": {
    "name": "ipython",
    "version": 3
   },
   "file_extension": ".py",
   "mimetype": "text/x-python",
   "name": "python",
   "nbconvert_exporter": "python",
   "pygments_lexer": "ipython3",
   "version": "3.8.13"
  }
 },
 "nbformat": 4,
 "nbformat_minor": 5
}
