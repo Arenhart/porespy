{
 "cells": [
  {
   "cell_type": "markdown",
   "id": "608d0001",
   "metadata": {},
   "source": [
    "#  `show_3D` "
   ]
  },
  {
   "cell_type": "markdown",
   "id": "92fad141",
   "metadata": {},
   "source": [
    "Rotates a 3D image and creates an angled view for a rough 2D visualization. This method uses `scipy.ndimage.rotate` function to view the 3D image from an angle, then projects the result in 2D. This method is useful for a quick visualization of small prototype images. Because it rotates the image it can be slow for large images."
   ]
  },
  {
   "cell_type": "code",
   "execution_count": 1,
   "id": "e3d2c7ef",
   "metadata": {
    "execution": {
     "iopub.execute_input": "2022-05-25T17:19:26.874940Z",
     "iopub.status.busy": "2022-05-25T17:19:26.873153Z",
     "iopub.status.idle": "2022-05-25T17:19:28.827386Z",
     "shell.execute_reply": "2022-05-25T17:19:28.826607Z"
    }
   },
   "outputs": [
    {
     "data": {
      "text/plain": [
       "<Signature (im)>"
      ]
     },
     "execution_count": 1,
     "metadata": {},
     "output_type": "execute_result"
    }
   ],
   "source": [
    "import matplotlib.pyplot as plt\n",
    "import numpy as np\n",
    "import porespy as ps\n",
    "import inspect\n",
    "ps.visualization.set_mpl_style()\n",
    "inspect.signature(ps.visualization.show_3D)"
   ]
  },
  {
   "cell_type": "markdown",
   "id": "54261dfb",
   "metadata": {},
   "source": [
    "## `im`\n",
    "The input image is 3D array to be veiwed in 3D. Note that the method does not work for 2D arrays as input."
   ]
  },
  {
   "cell_type": "code",
   "execution_count": 2,
   "id": "3489b58f",
   "metadata": {
    "execution": {
     "iopub.execute_input": "2022-05-25T17:19:28.831653Z",
     "iopub.status.busy": "2022-05-25T17:19:28.830934Z",
     "iopub.status.idle": "2022-05-25T17:19:28.931916Z",
     "shell.execute_reply": "2022-05-25T17:19:28.931276Z"
    }
   },
   "outputs": [
    {
     "data": {
      "image/svg+xml": [
       "<?xml version=\"1.0\" encoding=\"utf-8\" standalone=\"no\"?>\n",
       "<!DOCTYPE svg PUBLIC \"-//W3C//DTD SVG 1.1//EN\"\n",
       "  \"http://www.w3.org/Graphics/SVG/1.1/DTD/svg11.dtd\">\n",
       "<svg xmlns:xlink=\"http://www.w3.org/1999/xlink\" width=\"437.4pt\" height=\"352.8pt\" viewBox=\"0 0 437.4 352.8\" xmlns=\"http://www.w3.org/2000/svg\" version=\"1.1\">\n",
       " <metadata>\n",
       "  <rdf:RDF xmlns:dc=\"http://purl.org/dc/elements/1.1/\" xmlns:cc=\"http://creativecommons.org/ns#\" xmlns:rdf=\"http://www.w3.org/1999/02/22-rdf-syntax-ns#\">\n",
       "   <cc:Work>\n",
       "    <dc:type rdf:resource=\"http://purl.org/dc/dcmitype/StillImage\"/>\n",
       "    <dc:date>2022-05-25T17:19:28.911764</dc:date>\n",
       "    <dc:format>image/svg+xml</dc:format>\n",
       "    <dc:creator>\n",
       "     <cc:Agent>\n",
       "      <dc:title>Matplotlib v3.5.2, https://matplotlib.org/</dc:title>\n",
       "     </cc:Agent>\n",
       "    </dc:creator>\n",
       "   </cc:Work>\n",
       "  </rdf:RDF>\n",
       " </metadata>\n",
       " <defs>\n",
       "  <style type=\"text/css\">*{stroke-linejoin: round; stroke-linecap: butt}</style>\n",
       " </defs>\n",
       " <g id=\"figure_1\">\n",
       "  <g id=\"patch_1\">\n",
       "   <path d=\"M 0 352.8 \n",
       "L 437.4 352.8 \n",
       "L 437.4 0 \n",
       "L 0 0 \n",
       "L 0 352.8 \n",
       "z\n",
       "\" style=\"fill: none\"/>\n",
       "  </g>\n",
       "  <g id=\"axes_1\">\n",
       "   <g clip-path=\"url(#p0bde8a679d)\">\n",
       "    <image xlink:href=\"data:image/png;base64,\n",
       "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\" id=\"image8ddd8ecae4\" transform=\"matrix(6.507692 0 0 6.519231 7.2 6.6)\" style=\"image-rendering:crisp-edges;image-rendering:pixelated\" width=\"65\" height=\"52\"/>\n",
       "   </g>\n",
       "  </g>\n",
       " </g>\n",
       " <defs>\n",
       "  <clipPath id=\"p0bde8a679d\">\n",
       "   <rect x=\"7.2\" y=\"7.2\" width=\"423\" height=\"338.4\"/>\n",
       "  </clipPath>\n",
       " </defs>\n",
       "</svg>\n"
      ],
      "text/plain": [
       "<Figure size 864x360 with 1 Axes>"
      ]
     },
     "metadata": {
      "needs_background": "light"
     },
     "output_type": "display_data"
    }
   ],
   "source": [
    "im = ps.generators.blobs(shape=[40, 40, 40])\n",
    "im_viz = ps.visualization.show_3D(im)\n",
    "fig, ax = plt.subplots(1, 1, figsize=[12, 5])\n",
    "ax.imshow(im_viz)\n",
    "ax.axis(False);"
   ]
  }
 ],
 "metadata": {
  "kernelspec": {
   "display_name": "Python 3 (ipykernel)",
   "language": "python",
   "name": "python3"
  },
  "language_info": {
   "codemirror_mode": {
    "name": "ipython",
    "version": 3
   },
   "file_extension": ".py",
   "mimetype": "text/x-python",
   "name": "python",
   "nbconvert_exporter": "python",
   "pygments_lexer": "ipython3",
   "version": "3.8.13"
  }
 },
 "nbformat": 4,
 "nbformat_minor": 5
}
