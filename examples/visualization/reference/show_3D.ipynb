{
 "cells": [
  {
   "cell_type": "markdown",
   "id": "608d0001",
   "metadata": {},
   "source": [
    "#  `show_3D` "
   ]
  },
  {
   "cell_type": "markdown",
   "id": "92fad141",
   "metadata": {},
   "source": [
    "Rotates a 3D image and creates an angled view for a rough 2D visualization. This method uses `scipy.ndimage.rotate` function to view the 3D image from an angle, then projects the result in 2D. This method is useful for a quick visualization of small prototype images. Because it rotates the image it can be slow for large images."
   ]
  },
  {
   "cell_type": "code",
   "execution_count": 1,
   "id": "e3d2c7ef",
   "metadata": {
    "execution": {
     "iopub.execute_input": "2022-06-22T19:32:55.749134Z",
     "iopub.status.busy": "2022-06-22T19:32:55.747836Z",
     "iopub.status.idle": "2022-06-22T19:32:57.833416Z",
     "shell.execute_reply": "2022-06-22T19:32:57.832517Z"
    }
   },
   "outputs": [
    {
     "data": {
      "text/plain": [
       "<Signature (im)>"
      ]
     },
     "execution_count": 1,
     "metadata": {},
     "output_type": "execute_result"
    }
   ],
   "source": [
    "import matplotlib.pyplot as plt\n",
    "import numpy as np\n",
    "import porespy as ps\n",
    "import inspect\n",
    "ps.visualization.set_mpl_style()\n",
    "inspect.signature(ps.visualization.show_3D)"
   ]
  },
  {
   "cell_type": "markdown",
   "id": "54261dfb",
   "metadata": {},
   "source": [
    "## `im`\n",
    "The input image is 3D array to be veiwed in 3D. Note that the method does not work for 2D arrays as input."
   ]
  },
  {
   "cell_type": "code",
   "execution_count": 2,
   "id": "3489b58f",
   "metadata": {
    "execution": {
     "iopub.execute_input": "2022-06-22T19:32:57.838241Z",
     "iopub.status.busy": "2022-06-22T19:32:57.837328Z",
     "iopub.status.idle": "2022-06-22T19:32:57.939131Z",
     "shell.execute_reply": "2022-06-22T19:32:57.938448Z"
    }
   },
   "outputs": [
    {
     "data": {
      "image/svg+xml": [
       "<?xml version=\"1.0\" encoding=\"utf-8\" standalone=\"no\"?>\n",
       "<!DOCTYPE svg PUBLIC \"-//W3C//DTD SVG 1.1//EN\"\n",
       "  \"http://www.w3.org/Graphics/SVG/1.1/DTD/svg11.dtd\">\n",
       "<svg xmlns:xlink=\"http://www.w3.org/1999/xlink\" width=\"437.4pt\" height=\"352.8pt\" viewBox=\"0 0 437.4 352.8\" xmlns=\"http://www.w3.org/2000/svg\" version=\"1.1\">\n",
       " <metadata>\n",
       "  <rdf:RDF xmlns:dc=\"http://purl.org/dc/elements/1.1/\" xmlns:cc=\"http://creativecommons.org/ns#\" xmlns:rdf=\"http://www.w3.org/1999/02/22-rdf-syntax-ns#\">\n",
       "   <cc:Work>\n",
       "    <dc:type rdf:resource=\"http://purl.org/dc/dcmitype/StillImage\"/>\n",
       "    <dc:date>2022-06-22T19:32:57.923129</dc:date>\n",
       "    <dc:format>image/svg+xml</dc:format>\n",
       "    <dc:creator>\n",
       "     <cc:Agent>\n",
       "      <dc:title>Matplotlib v3.5.2, https://matplotlib.org/</dc:title>\n",
       "     </cc:Agent>\n",
       "    </dc:creator>\n",
       "   </cc:Work>\n",
       "  </rdf:RDF>\n",
       " </metadata>\n",
       " <defs>\n",
       "  <style type=\"text/css\">*{stroke-linejoin: round; stroke-linecap: butt}</style>\n",
       " </defs>\n",
       " <g id=\"figure_1\">\n",
       "  <g id=\"patch_1\">\n",
       "   <path d=\"M 0 352.8 \n",
       "L 437.4 352.8 \n",
       "L 437.4 0 \n",
       "L 0 0 \n",
       "L 0 352.8 \n",
       "z\n",
       "\" style=\"fill: none\"/>\n",
       "  </g>\n",
       "  <g id=\"axes_1\">\n",
       "   <g clip-path=\"url(#p2c04dd160d)\">\n",
       "    <image xlink:href=\"data:image/png;base64,\n",
       "iVBORw0KGgoAAAANSUhEUgAAAEEAAAA0CAYAAADVGFU3AAAQ/0lEQVR4nMWaSYxcx3nHf1Vv6b17pjkrNRxJ3OKQthTKUCgKcBTAhiMERgA5sQ9KYMDQxZcEgZHtlENgIIcEPsSXXAwYhuFDDMMwoiCGAQeQBVCUrTUWKVomKXFEcWY4w2H39P6WqhzqvXr9ZnqGQ0ayPqDRr/vVq+Vf3/L/vnric+LPNB+DyEoF1eshy2X7n+r3P46p4H4cgzozh8BxcBwHHAc9GoEQyEoFUSqC4xCv3/qtzecjA8F9aBmimOjGB7iLC+A4uWtcB6REhyGyOY260wKtEcUiuE6uXfTeykc1TTPXj6pjXS6iXYlTfBjte2hX4rrLaNdJ7heQWzEiaSvdQ9mzrgNuCTEMzCSXHkAXfZCS+J2rH/pc7xsE/eSj5tuTyBde33U/rhZQJRfHc9CORLsSnbuWuXtyFCHCGADRHxktKfrEzSrurTa6XEB7BkD5yCdQRQOsOP/m/S7BijiIY+w/c5byj162v6PPftpMJlIMmz7uQKFcgfIE/nYEgPIkyhW4g9he+50w169ypb1XvDVAxAoRxkTTJbyNHkQxvZOH8DshUcnNtQNygEYlF/8nv7wvEORBGgU1yfALvw9A6yvnkJFCRor+nE9Qk+ZTlygXhk2XoO4SlSTKEwR1l6Bmrr2LK3gXV5LnPNsuKgn6D5TpHK3S+uQUUcmld3SK0ZEpgrpk2PTtGP0HTDQJp4y5iUhZgNI5dr909p5A2FMTbj93DuWB8gTKA7evUZ4A0muQITghxJ55RnlQuq2QEXSWHNuudNvs3KguUUlbGZLr329r24fXN30qDwrbGuUKYg8K24qoJIk9qKzHyMg8037IRXmCQtJHcStm2HRsH7P//tK+IBzYJwRTAhmA8s3E7SLCDJzhrEYldgsQNATKh+GMg/I15ZswnDFty6uaYEqgXHD7MJw11wBRPxnHhahs2isf+osOhy7GKBeCusQdaNoPOyg/3QQzXu+wi9vDAt76yjlGDcH8t87fHwgyWaTf0gxnBMrXSNd8Kw+KGwaQ7RMx2tdEZYnyNdrXFG45uZ3vPgjKU+ZZXyagaoJkETLIFjycUchQ2AXKQCAjGDQl28chqij8lgR0okmmbdBINMo17QGmvvsS63/55N5rnPTn9rNPcOjbLyETP+a3NTIEvz25k/5hjWiacBY3I0QzwLvjMFoKCefNZzQXE86HxM0IXY2zCQTCAgUQTCmict5CR0sho08M7O/qddDVmNGc+UQVRf9wzHBGWcBTAABWv/4khbbm9nPnJs5/oibUv3+B1lfO2Q6jskCGGrevzaR9TTCl0L4mnAZ8hQQKzQEFP6Lkh9QWN7nVqZrrwogr1+cBKFRHnFpY4/XgYeaXt6gVRrvaxVWzNw+fWGX9v44wWoLZZofWYxGhn6xuqwKASLRnp6RmBrD4zclmsC8IAO5AAcYJyVBb27T3exIVaOJmEhK7HoWFoV0MwLHmJg1/SMMzu1jzhixX7rDSm+b4iVUATk+tUvOmafhD2kGRM8ev0/CHADS8AUtfbtEOinTCIgDra1N2DiIQaF/vCYbbN/PefvYJ61wPfXu3k9wzRFZ/YHiBk5hEahopujIEty8QXQcCCb5ie6tCq1uyfXTCIg1vwIzX5U8XX+PPF16mHZZ4bOp9liotvnbkBb44/QrLlTtm0cniJ0mqSQDSjxFdJweADARu3/gnvyXw25lTHRyShOXJAMA+mrD97BNmwEijPINV6rFTk0jF6UripkL6xtZvdaoca27SCYtcWH+ILyy9Zdt+de5FZmWf2WnNjFNhM+7B9CtsRHU2oho/3Txl27bDDFCA9ZUm+ArPj3BvlvBbmtYplWtjnauXbZwM9b5hck9NcAd556Q8kEFynQAQlY2PkOFuVbzZbQBwuNrman+WzajGi52TE8faiOoAzLodPj9zCYB2UORGb4qfXznO61ceBGDuvNG6MHCZ/nWMDLHakAIgI8ZCZjbG7efOWT93YBCiklmYv62Y/9b5DNUo79GVrwmn49yz+ufT1Aojat7Q+oTNsArApeEDtt3Px7R/I6qxEdUAOFbesP+rwGF+oQWB5NYfhnh3HJz3i9z4I83tx2PrC9y+SIBIPmGmCXeTPUGQoUZGmt68syvGun0Tl/cS8Qd3uLY6Qycs0g6MQ0tVezOqsaHKXAornPJ6/O0HT/P81qP8cPUx+/zV/ixvvHHU9NV1qBVGzC9vUW/2UF6y874xg/kLguabhokqXxOVuWeZ6BP6z2Tcu/FeQPshP9l5QWlTE5ZBhQJmkkUHAu3n+5htdux1CsB/vv0pvvrIS1b98XrmflDkVqcKi/Avr30e1fXA18YZVmOu/GaR+eWtXP/eukc4HdNZllRu7p0D3s0fwB6aUP7Ry1R/8DL+tmLY3I1TYVvbfADydplKGiZzE/cjZtwMnBcGi/b6S0dNOv7VR17i+IlVG0IB5pe3GAQevSuNnP9xupKgoRk1BPUr2TjT74wxpQPInpqQ8ngZmcQlTX4GM8YRlm4r3L5AhQL/pqB3MkAFDo2fFhl+sUVnVKBWGNn4fmltgb/+5P8w63as7Y/LODi3OlXmat1cGOys1JEYupxGJ7cnKd8U9A8bRisDwZFvGGJ05+tP/v98Qlo7UJ4gqElG9XyzqJI8HAj8tmA4o6i84xvn9WTeSda8ITe7DY4cavGd986xEdW4PFjkVPEDAM7Wr9m2m1GN711+nFHgUvOGHDt9ExEIoh/Oon1tKXlcNVqY+qXxxX7wD0+ymgDQeDe6qynsCQLsDpE7pbMsOfKN8zSumkX3HjIqKAJBZ6XO1puzxs4xYRKMiVweLLLSmwZMSEwd4nfeM+Hr6WNvc2phjU5Y5NrqDKIZsPWoso7QrD7PDYobk9nisOnY0JjynnsCofj8L3AHGneg8AaawrbC7eeBWf16FjXSUFW85SADQel3W5T80JpDzRtS84ZcbGV+4JS/xlOzv6ETFqkVRvzg2hnAMMeal2ePousg/RgVOIalgk2YgkZGksYl9sC7y2buCwIYdqg8kZTJNJX1GLevcXtZm9q1bu6Z4ZzRjMHbUwyCjK00/KFZrGe+Lw0fYEOVeWHjxK4Fp3J0cRMwGeO48x2/tqYZpRwmK9gUtpOsMtofiH3rCWn+oJ46Q1RybQUnZY9uX9P+nVqOQgNJvUDT7RYp+bu9U80bJg6yzumpVWa8Llf7s5yeWqUdlmgHRS6tLdj2RgMkesuHat7nqB0rGPcP7kAzLElkpKl//8Ke6zxQjVGEBtHGe5EhUclAyhOEJYHbk8hAWJPQ1djWF8ZlqdIy/fhDXuycZCOq8ZnaO8y4HZtpThIVOFm/XccmTABRRdtNmH0jpPFuFh57887uzibInpqgnjpjF689SX/ONE1VzYCQf2ZnYuX5UY4+Azw29T4zbofZsZAIMON1LbUGCAMXz98d77WvLdimsmRKdcNZuHPCS+Z4byeL+2qCTrLH7gMFYg/DFHcsfDgrEp6ecve8g7rVqXJ1a4YbvSkAXmsdyWWKG1GNzajGZli1pvD6lQdRgcOoW0AFDoXqCFnNm1X5pkySJU1/cTxzNEROhsYpykjfFZQ9QVBudsvfVjgTEhLlm0zSVI01bl8w9XYyoSBTxZIf0hkVaAdFrm4Zrv1i5yQvdk5yOWGNK71pXlp5yEYTMBHB2XIJA9f0F2Rz6h/Oh0k7J08QlSS1D1LT1blS2z2BABCVMmvxO5MHtR2FAr8lKG0lHtmPcV/LmGGtMKLhD3ls4QaX1hZsPjEeMsPAjHf8wXUTEieEvdQfVK/LLJWPsjQ/lWHTsVXwu8lEEKLPftqeDGlPJiV2TWlLUVk3i0xDpd8SFDcE5ZtmwPbDWRyPHsvsPtUEgFG3wNn6NX785u8BWF/w6PINGy7njt8GoHpdUrhconDDo3Qj9UuTF1d7P6Z2I6a4FSftMi3oP3PWHs4cCAQZZbse1Lyk3mhEuVkZHkwlWvkmXqfFDO1rkwnuIWeOX+ebP/4T/v6J/+b0lEmUUsfZCYt0RgUGgUf1uiRosCsEV6+bb7+VldUra9kc01pIOt8UkOLzv7gHEF54HW87oHhrkABhjsDGOwfjiIKGyA3WORmZ6nM1JFqpsL1VYX1taldWGVXMpGe8PNkal+FnjCbJxASGczGzr0ibxUblbNzegqS34NCbN7nO+Ebdt2MM6z7DuZIxhWjvjmSYMEtfo1yT3oqug+p6uMs96k3zGS+UdsIif/e557k8WMyFxdQppkwz9SmDpYjBUubdbn9KcOcTgkMX4xxLTDmME5LzB+l18PTj9waC/5NfJvmDsvR5HN1UUtqagWLui0Aw6hbodouMAtcWYVMZrySt9KZ5bW2Jzqhgk65R4GY+ZSxhah/P+rh9en8ylPqEtEomw8nOfSII6bsHAIWNfpJIGU0Id5iE38prSKrmgHWQYIjTmytL3OhN2WRqvJo8V9ttFmHgMjgaQCBtVBivIsPuqHA/sidjtECMOUkZGQKiQkHsaYKGoHYjJphykVFy0HrToX84edmiGeD5EQU/otst2oQolZQqW6c4KlDyw1zitZeYWsbY7zE6f6+yL08QkULEivLKNpWVLjLU+NuK4lZMZT2mtKkJ6vkaX1Q2FR/ta/SWTxi4jBIK3BkVAFOOTw9cUpbYCYsHWvy4VNZiKmt5M3NCLEs8iCnsC4L2JFHNxDwxNBCXVk0OnVahwzKM6oLeYWEB2ClizSy84EcMAo+rFw/vu7BB4BFfmGa0VTJhNpCUbriWOI3vdvuYIUQpTXZ2aEL1av4E2f3ZqxPHnAiCOP8mTjfAGUSMZsv0Th6it1xlsGi8oHLznnfcLlMKPZ7ppYe0JT+ktrzNxlZt1+lSqiW9Kw3cHtTeySx1OBfj9sXY2ULGEpVr6h1WA5LaQf3XbYaHd9cyJ8lEnyA+fRpVcM1LWaE5mJWRtosfNid7ZbcvcHvQP5wnON1ukZFvhkqpccMb2DIbGFo9CDz73CT7nkSj7b1IU14P6c97TL3VonusceBscnJ0ePUiTneEeyfL8VMAopJARtrG4p1Z5fiE0+KKWCsY39A1u310cZOLrcVdLBHAX+jTOTugfSbv9ieZ2sKFHmE5e13I/dmrTL+RP59I/cFeprAnCACq6KH+9zIyUriDCHcQ73r7zO1r+/FbOveKjAzNsblOgNhJo2ve0KbXO6X0VmYqqVmltQMZQeOawm9pNh8pZwUe1xzBx5feob9c33PB9wQCv/gVAE7X7IgziAhq3kT2uJNAKU9bviACU3kSgaDezIqT4ynzThl8ckDtLZ/Ke27OBBrXTJ+d5QSQcb6QRITg6ccn1hDUU2dy/Gdc7vrOkn71okVKJcdzhjgZXwHg9TWDGWGP7tNDGRUkWuBp/AXzYsP48dyV6/PmsBUTFUaBa30GZHTcmpZrXu7aqz6QFoXzwOxvCnDAlzknSf+ZswQ1mVSbMt8QlbEvdYFhkNrXJqnyY2abHbvgUwtr5tg9kNQXOmxvVWxZnUDidNMdF/aEySwuz1TT8CijhMck2WLw9OMHesHzvkEYl/TUOqqMJVNJqIyrygKQ1gwLfpTb9ZRVHgSEI984z8bXztmTpdvPnbP8YOq7dz9tmiQfCgg75fo/nbMgpK/z4SsK1RGFHcXTbrdItWqiRPjKtKkeJ89lBCkPwoctHwkI43L1X58wQFRjqw0peUolNY9grWztPwXg2N9c4N1/PocM4cF/vL+dvpt85CCMy5XvncmBUCuMbBUpNY/jf/E6v/m3s5z4q5fv3uGHJL9VEMZF/ewIYOhy44+vcP0/PsWDX/7VxzEV/g+A9KqayBi6pAAAAABJRU5ErkJggg==\" id=\"image2dcc104b33\" transform=\"matrix(6.507692 0 0 6.519231 7.2 6.6)\" style=\"image-rendering:crisp-edges;image-rendering:pixelated\" width=\"65\" height=\"52\"/>\n",
       "   </g>\n",
       "  </g>\n",
       " </g>\n",
       " <defs>\n",
       "  <clipPath id=\"p2c04dd160d\">\n",
       "   <rect x=\"7.2\" y=\"7.2\" width=\"423\" height=\"338.4\"/>\n",
       "  </clipPath>\n",
       " </defs>\n",
       "</svg>\n"
      ],
      "text/plain": [
       "<Figure size 864x360 with 1 Axes>"
      ]
     },
     "metadata": {
      "needs_background": "light"
     },
     "output_type": "display_data"
    }
   ],
   "source": [
    "im = ps.generators.blobs(shape=[40, 40, 40])\n",
    "im_viz = ps.visualization.show_3D(im)\n",
    "fig, ax = plt.subplots(1, 1, figsize=[12, 5])\n",
    "ax.imshow(im_viz)\n",
    "ax.axis(False);"
   ]
  }
 ],
 "metadata": {
  "kernelspec": {
   "display_name": "Python 3 (ipykernel)",
   "language": "python",
   "name": "python3"
  },
  "language_info": {
   "codemirror_mode": {
    "name": "ipython",
    "version": 3
   },
   "file_extension": ".py",
   "mimetype": "text/x-python",
   "name": "python",
   "nbconvert_exporter": "python",
   "pygments_lexer": "ipython3",
   "version": "3.8.13"
  }
 },
 "nbformat": 4,
 "nbformat_minor": 5
}
