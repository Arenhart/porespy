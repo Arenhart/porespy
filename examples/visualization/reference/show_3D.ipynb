{
 "cells": [
  {
   "cell_type": "markdown",
   "id": "608d0001",
   "metadata": {},
   "source": [
    "#  `show_3D` "
   ]
  },
  {
   "cell_type": "markdown",
   "id": "92fad141",
   "metadata": {},
   "source": [
    "Rotates a 3D image and creates an angled view for a rough 2D visualization. This method uses `scipy.ndimage.rotate` function to view the 3D image from an angle, then projects the result in 2D. This method is useful for a quick visualization of small prototype images. Because it rotates the image it can be slow for large images."
   ]
  },
  {
   "cell_type": "code",
   "execution_count": 1,
   "id": "e3d2c7ef",
   "metadata": {
    "execution": {
     "iopub.execute_input": "2022-05-25T19:26:02.240345Z",
     "iopub.status.busy": "2022-05-25T19:26:02.239761Z",
     "iopub.status.idle": "2022-05-25T19:26:04.691475Z",
     "shell.execute_reply": "2022-05-25T19:26:04.690621Z"
    }
   },
   "outputs": [
    {
     "data": {
      "text/plain": [
       "<Signature (im)>"
      ]
     },
     "execution_count": 1,
     "metadata": {},
     "output_type": "execute_result"
    }
   ],
   "source": [
    "import matplotlib.pyplot as plt\n",
    "import numpy as np\n",
    "import porespy as ps\n",
    "import inspect\n",
    "ps.visualization.set_mpl_style()\n",
    "inspect.signature(ps.visualization.show_3D)"
   ]
  },
  {
   "cell_type": "markdown",
   "id": "54261dfb",
   "metadata": {},
   "source": [
    "## `im`\n",
    "The input image is 3D array to be veiwed in 3D. Note that the method does not work for 2D arrays as input."
   ]
  },
  {
   "cell_type": "code",
   "execution_count": 2,
   "id": "3489b58f",
   "metadata": {
    "execution": {
     "iopub.execute_input": "2022-05-25T19:26:04.695424Z",
     "iopub.status.busy": "2022-05-25T19:26:04.694652Z",
     "iopub.status.idle": "2022-05-25T19:26:04.786941Z",
     "shell.execute_reply": "2022-05-25T19:26:04.786235Z"
    }
   },
   "outputs": [
    {
     "data": {
      "image/svg+xml": [
       "<?xml version=\"1.0\" encoding=\"utf-8\" standalone=\"no\"?>\n",
       "<!DOCTYPE svg PUBLIC \"-//W3C//DTD SVG 1.1//EN\"\n",
       "  \"http://www.w3.org/Graphics/SVG/1.1/DTD/svg11.dtd\">\n",
       "<svg xmlns:xlink=\"http://www.w3.org/1999/xlink\" width=\"437.4pt\" height=\"352.8pt\" viewBox=\"0 0 437.4 352.8\" xmlns=\"http://www.w3.org/2000/svg\" version=\"1.1\">\n",
       " <metadata>\n",
       "  <rdf:RDF xmlns:dc=\"http://purl.org/dc/elements/1.1/\" xmlns:cc=\"http://creativecommons.org/ns#\" xmlns:rdf=\"http://www.w3.org/1999/02/22-rdf-syntax-ns#\">\n",
       "   <cc:Work>\n",
       "    <dc:type rdf:resource=\"http://purl.org/dc/dcmitype/StillImage\"/>\n",
       "    <dc:date>2022-05-25T19:26:04.773036</dc:date>\n",
       "    <dc:format>image/svg+xml</dc:format>\n",
       "    <dc:creator>\n",
       "     <cc:Agent>\n",
       "      <dc:title>Matplotlib v3.5.2, https://matplotlib.org/</dc:title>\n",
       "     </cc:Agent>\n",
       "    </dc:creator>\n",
       "   </cc:Work>\n",
       "  </rdf:RDF>\n",
       " </metadata>\n",
       " <defs>\n",
       "  <style type=\"text/css\">*{stroke-linejoin: round; stroke-linecap: butt}</style>\n",
       " </defs>\n",
       " <g id=\"figure_1\">\n",
       "  <g id=\"patch_1\">\n",
       "   <path d=\"M 0 352.8 \n",
       "L 437.4 352.8 \n",
       "L 437.4 0 \n",
       "L 0 0 \n",
       "L 0 352.8 \n",
       "z\n",
       "\" style=\"fill: none\"/>\n",
       "  </g>\n",
       "  <g id=\"axes_1\">\n",
       "   <g clip-path=\"url(#pcdfd288dad)\">\n",
       "    <image xlink:href=\"data:image/png;base64,\n",
       "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\" id=\"imagedfd252defd\" transform=\"matrix(6.507692 0 0 6.519231 7.2 6.6)\" style=\"image-rendering:crisp-edges;image-rendering:pixelated\" width=\"65\" height=\"52\"/>\n",
       "   </g>\n",
       "  </g>\n",
       " </g>\n",
       " <defs>\n",
       "  <clipPath id=\"pcdfd288dad\">\n",
       "   <rect x=\"7.2\" y=\"7.2\" width=\"423\" height=\"338.4\"/>\n",
       "  </clipPath>\n",
       " </defs>\n",
       "</svg>\n"
      ],
      "text/plain": [
       "<Figure size 864x360 with 1 Axes>"
      ]
     },
     "metadata": {
      "needs_background": "light"
     },
     "output_type": "display_data"
    }
   ],
   "source": [
    "im = ps.generators.blobs(shape=[40, 40, 40])\n",
    "im_viz = ps.visualization.show_3D(im)\n",
    "fig, ax = plt.subplots(1, 1, figsize=[12, 5])\n",
    "ax.imshow(im_viz)\n",
    "ax.axis(False);"
   ]
  }
 ],
 "metadata": {
  "kernelspec": {
   "display_name": "Python 3 (ipykernel)",
   "language": "python",
   "name": "python3"
  },
  "language_info": {
   "codemirror_mode": {
    "name": "ipython",
    "version": 3
   },
   "file_extension": ".py",
   "mimetype": "text/x-python",
   "name": "python",
   "nbconvert_exporter": "python",
   "pygments_lexer": "ipython3",
   "version": "3.8.13"
  }
 },
 "nbformat": 4,
 "nbformat_minor": 5
}
