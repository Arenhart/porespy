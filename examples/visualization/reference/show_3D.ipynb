{
 "cells": [
  {
   "cell_type": "markdown",
   "id": "5ad8e14d",
   "metadata": {},
   "source": [
    "#  `show_3D` "
   ]
  },
  {
   "cell_type": "markdown",
   "id": "f29fdfd5",
   "metadata": {},
   "source": [
    "Rotates a 3D image and creates an angled view for a rough 2D visualization. This method uses `scipy.ndimage.rotate` function to view the 3D image from an angle, then projects the result in 2D. This method is useful for a quick visualization of small prototype images. Because it rotates the image it can be slow for large images."
   ]
  },
  {
   "cell_type": "code",
   "execution_count": 1,
   "id": "8de99df5",
   "metadata": {
    "execution": {
     "iopub.execute_input": "2022-03-30T13:41:20.703173Z",
     "iopub.status.busy": "2022-03-30T13:41:20.702973Z",
     "iopub.status.idle": "2022-03-30T13:41:22.762011Z",
     "shell.execute_reply": "2022-03-30T13:41:22.760713Z"
    }
   },
   "outputs": [
    {
     "data": {
      "text/plain": [
       "<Signature (im)>"
      ]
     },
     "execution_count": 1,
     "metadata": {},
     "output_type": "execute_result"
    }
   ],
   "source": [
    "import matplotlib.pyplot as plt\n",
    "import numpy as np\n",
    "import porespy as ps\n",
    "import inspect\n",
    "inspect.signature(ps.visualization.show_3D)"
   ]
  },
  {
   "cell_type": "markdown",
   "id": "21cd0b4a",
   "metadata": {},
   "source": [
    "## `im`\n",
    "The input image is 3D array to be veiwed in 3D. Note that the method does not work for 2D arrays as input."
   ]
  },
  {
   "cell_type": "code",
   "execution_count": 2,
   "id": "837affe7",
   "metadata": {
    "execution": {
     "iopub.execute_input": "2022-03-30T13:41:22.765690Z",
     "iopub.status.busy": "2022-03-30T13:41:22.765341Z",
     "iopub.status.idle": "2022-03-30T13:41:22.875829Z",
     "shell.execute_reply": "2022-03-30T13:41:22.875327Z"
    }
   },
   "outputs": [
    {
     "data": {
      "image/png": "[encoded data removed]",
      "text/plain": [
       "<Figure size 864x360 with 1 Axes>"
      ]
     },
     "metadata": {
      "needs_background": "light"
     },
     "output_type": "display_data"
    }
   ],
   "source": [
    "im = ps.generators.blobs(shape=[40, 40, 40])\n",
    "im_viz = ps.visualization.show_3D(im)\n",
    "fig, ax = plt.subplots(1, 1, figsize=[12, 5])\n",
    "ax.imshow(im_viz)\n",
    "ax.axis(False);"
   ]
  }
 ],
 "metadata": {
  "kernelspec": {
   "display_name": "Python 3",
   "language": "python",
   "name": "python3"
  },
  "language_info": {
   "codemirror_mode": {
    "name": "ipython",
    "version": 3
   },
   "file_extension": ".py",
   "mimetype": "text/x-python",
   "name": "python",
   "nbconvert_exporter": "python",
   "pygments_lexer": "ipython3",
   "version": "3.8.13"
  }
 },
 "nbformat": 4,
 "nbformat_minor": 5
}
