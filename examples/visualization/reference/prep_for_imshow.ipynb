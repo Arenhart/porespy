{
 "cells": [
  {
   "cell_type": "markdown",
   "id": "b7454065",
   "metadata": {},
   "source": [
    "# `prep_for_imshow`\n",
    "This function returns a dictionary that can be passed to ``matplotlib``'s ``imshow`` function, with all the necessary keyword arguments holding values to make the output look nice."
   ]
  },
  {
   "cell_type": "code",
   "execution_count": 1,
   "id": "771cb877",
   "metadata": {
    "execution": {
     "iopub.execute_input": "2022-03-30T13:41:03.395203Z",
     "iopub.status.busy": "2022-03-30T13:41:03.395002Z",
     "iopub.status.idle": "2022-03-30T13:41:05.460748Z",
     "shell.execute_reply": "2022-03-30T13:41:05.460107Z"
    }
   },
   "outputs": [],
   "source": [
    "import matplotlib.pyplot as plt\n",
    "import porespy as ps\n",
    "import numpy as np\n",
    "from edt import edt\n",
    "from copy import copy"
   ]
  },
  {
   "cell_type": "code",
   "execution_count": 2,
   "id": "6affdc44",
   "metadata": {
    "execution": {
     "iopub.execute_input": "2022-03-30T13:41:05.465771Z",
     "iopub.status.busy": "2022-03-30T13:41:05.464738Z",
     "iopub.status.idle": "2022-03-30T13:41:05.473186Z",
     "shell.execute_reply": "2022-03-30T13:41:05.472720Z"
    }
   },
   "outputs": [
    {
     "data": {
      "text/plain": [
       "<Signature (im, mask=None, axis=0, slice=None)>"
      ]
     },
     "execution_count": 2,
     "metadata": {},
     "output_type": "execute_result"
    }
   ],
   "source": [
    "import inspect\n",
    "inspect.signature(ps.visualization.prep_for_imshow)"
   ]
  },
  {
   "cell_type": "code",
   "execution_count": 3,
   "id": "d011839b",
   "metadata": {
    "execution": {
     "iopub.execute_input": "2022-03-30T13:41:05.477215Z",
     "iopub.status.busy": "2022-03-30T13:41:05.476301Z",
     "iopub.status.idle": "2022-03-30T13:41:05.504267Z",
     "shell.execute_reply": "2022-03-30T13:41:05.503750Z"
    }
   },
   "outputs": [],
   "source": [
    "im = ps.generators.blobs([50, 50, 50], porosity=0.6)\n",
    "dt = edt(im)"
   ]
  },
  {
   "cell_type": "markdown",
   "id": "fa8e7326",
   "metadata": {},
   "source": [
    "## `im`\n",
    "The `im` is usually greyscale values, but boolean also works."
   ]
  },
  {
   "cell_type": "code",
   "execution_count": 4,
   "id": "731d297e",
   "metadata": {
    "execution": {
     "iopub.execute_input": "2022-03-30T13:41:05.507914Z",
     "iopub.status.busy": "2022-03-30T13:41:05.507734Z",
     "iopub.status.idle": "2022-03-30T13:41:05.659622Z",
     "shell.execute_reply": "2022-03-30T13:41:05.659153Z"
    }
   },
   "outputs": [
    {
     "data": {
      "image/png": "[encoded data removed]",
      "text/plain": [
       "<Figure size 432x288 with 1 Axes>"
      ]
     },
     "metadata": {
      "needs_background": "light"
     },
     "output_type": "display_data"
    }
   ],
   "source": [
    "kw = ps.visualization.prep_for_imshow(im=dt, mask=im)\n",
    "plt.imshow(**kw);"
   ]
  },
  {
   "cell_type": "markdown",
   "id": "1bde1aa0",
   "metadata": {},
   "source": [
    "The returned `dict` is passable to `imshow` as keyword arguments, with all the useful values set"
   ]
  },
  {
   "cell_type": "code",
   "execution_count": 5,
   "id": "45d17cbe",
   "metadata": {
    "execution": {
     "iopub.execute_input": "2022-03-30T13:41:05.663692Z",
     "iopub.status.busy": "2022-03-30T13:41:05.662746Z",
     "iopub.status.idle": "2022-03-30T13:41:05.668341Z",
     "shell.execute_reply": "2022-03-30T13:41:05.667936Z"
    }
   },
   "outputs": [
    {
     "name": "stdout",
     "output_type": "stream",
     "text": [
      "dict_keys(['X', 'vmin', 'vmax', 'interpolation', 'origin'])\n"
     ]
    }
   ],
   "source": [
    "print(kw.keys())"
   ]
  },
  {
   "cell_type": "markdown",
   "id": "1a680b08",
   "metadata": {},
   "source": [
    "* `X` is the array to show.  The ``im`` was 3D, but the function extracts a 2D slice which is necessary for ``imshow``. \n",
    "* `vmin` and `vmax` are minimum and maximum values in ``im``, while any  negative and positive infinities are set to ``vmin - 1`` and ``vmax - 1`` respectively. You can adjust adjust a colormap to show suitable colors for over and under values.\n",
    "* `interpolation` is set to `none` which prevents artifacts, especially in boolean images.\n",
    "* `origin` is set to `lower` so that [0, 0] is in the bottom-left where it belongs."
   ]
  },
  {
   "cell_type": "markdown",
   "id": "42a4fefb",
   "metadata": {},
   "source": [
    "We can show the solid phase as grey, and also use the ``plasma`` colormap:"
   ]
  },
  {
   "cell_type": "code",
   "execution_count": 6,
   "id": "5e952866",
   "metadata": {
    "execution": {
     "iopub.execute_input": "2022-03-30T13:41:05.672082Z",
     "iopub.status.busy": "2022-03-30T13:41:05.671176Z",
     "iopub.status.idle": "2022-03-30T13:41:05.799320Z",
     "shell.execute_reply": "2022-03-30T13:41:05.798851Z"
    }
   },
   "outputs": [
    {
     "data": {
      "image/png": "[encoded data removed]",
      "text/plain": [
       "<Figure size 432x288 with 1 Axes>"
      ]
     },
     "metadata": {
      "needs_background": "light"
     },
     "output_type": "display_data"
    }
   ],
   "source": [
    "kw = ps.visualization.prep_for_imshow(im=dt, mask=im)\n",
    "cmap = copy(plt.cm.plasma)\n",
    "cmap.set_under('grey')\n",
    "plt.imshow(**kw, cmap=cmap);"
   ]
  },
  {
   "cell_type": "markdown",
   "id": "5986312a",
   "metadata": {},
   "source": [
    "## `mask`\n",
    "The mask is a boolean array indicating the voxels of interest when computing ``vmin`` and ``vmax``. This would typically be the image of the pore phase, but could be something more creative:"
   ]
  },
  {
   "cell_type": "code",
   "execution_count": 7,
   "id": "5c077088",
   "metadata": {
    "execution": {
     "iopub.execute_input": "2022-03-30T13:41:05.803232Z",
     "iopub.status.busy": "2022-03-30T13:41:05.802283Z",
     "iopub.status.idle": "2022-03-30T13:41:05.890145Z",
     "shell.execute_reply": "2022-03-30T13:41:05.889690Z"
    }
   },
   "outputs": [
    {
     "data": {
      "image/png": "[encoded data removed]",
      "text/plain": [
       "<Figure size 432x288 with 1 Axes>"
      ]
     },
     "metadata": {
      "needs_background": "light"
     },
     "output_type": "display_data"
    }
   ],
   "source": [
    "mask = im * (dt < 3)\n",
    "kw = ps.visualization.prep_for_imshow(im=dt, mask=mask)\n",
    "cmap = copy(plt.cm.plasma)\n",
    "cmap.set_under('grey')\n",
    "cmap.set_over('green')\n",
    "plt.imshow(**kw, cmap=cmap);"
   ]
  },
  {
   "cell_type": "markdown",
   "id": "3a941554",
   "metadata": {},
   "source": [
    "## `axis`\n",
    "The direction normal to which the slice should be taken.  The default is 0, which means a ``y-z`` slice looking in the ``x`` direction. "
   ]
  },
  {
   "cell_type": "code",
   "execution_count": 8,
   "id": "62ca0908",
   "metadata": {
    "execution": {
     "iopub.execute_input": "2022-03-30T13:41:05.893989Z",
     "iopub.status.busy": "2022-03-30T13:41:05.893111Z",
     "iopub.status.idle": "2022-03-30T13:41:06.137911Z",
     "shell.execute_reply": "2022-03-30T13:41:06.137321Z"
    }
   },
   "outputs": [
    {
     "data": {
      "image/png": "[encoded data removed]",
      "text/plain": [
       "<Figure size 864x432 with 2 Axes>"
      ]
     },
     "metadata": {
      "needs_background": "light"
     },
     "output_type": "display_data"
    }
   ],
   "source": [
    "kw1 = ps.visualization.prep_for_imshow(im=dt, mask=im, axis=1)\n",
    "kw2 = ps.visualization.prep_for_imshow(im=dt, mask=im, axis=2)\n",
    "\n",
    "cmap = copy(plt.cm.plasma)\n",
    "cmap.set_under('grey')\n",
    "fig, ax = plt.subplots(1, 2, figsize=[12, 6])\n",
    "ax[0].imshow(**kw1, cmap=cmap)\n",
    "ax[1].imshow(**kw2, cmap=cmap);"
   ]
  },
  {
   "cell_type": "markdown",
   "id": "7612c8f3",
   "metadata": {},
   "source": [
    "## `slice`\n",
    "The postion along ``axis`` where the 2D section should be taken from.  If not provided (and the image is 3D) then a slice is taken from the midpoint of the given ``axis``."
   ]
  },
  {
   "cell_type": "code",
   "execution_count": 9,
   "id": "7b3363d0",
   "metadata": {
    "execution": {
     "iopub.execute_input": "2022-03-30T13:41:06.141189Z",
     "iopub.status.busy": "2022-03-30T13:41:06.140892Z",
     "iopub.status.idle": "2022-03-30T13:41:06.316817Z",
     "shell.execute_reply": "2022-03-30T13:41:06.316323Z"
    }
   },
   "outputs": [
    {
     "data": {
      "image/png": "[encoded data removed]",
      "text/plain": [
       "<Figure size 864x432 with 2 Axes>"
      ]
     },
     "metadata": {
      "needs_background": "light"
     },
     "output_type": "display_data"
    }
   ],
   "source": [
    "kw1 = ps.visualization.prep_for_imshow(im=dt, mask=im, slice=10)\n",
    "kw2 = ps.visualization.prep_for_imshow(im=dt, mask=im, slice=20)\n",
    "\n",
    "cmap = copy(plt.cm.plasma)\n",
    "cmap.set_under('grey')\n",
    "fig, ax = plt.subplots(1, 2, figsize=[12, 6])\n",
    "ax[0].imshow(**kw1, cmap=cmap)\n",
    "ax[1].imshow(**kw2, cmap=cmap);"
   ]
  }
 ],
 "metadata": {
  "kernelspec": {
   "display_name": "Python 3 (ipykernel)",
   "language": "python",
   "name": "python3"
  },
  "language_info": {
   "codemirror_mode": {
    "name": "ipython",
    "version": 3
   },
   "file_extension": ".py",
   "mimetype": "text/x-python",
   "name": "python",
   "nbconvert_exporter": "python",
   "pygments_lexer": "ipython3",
   "version": "3.8.13"
  }
 },
 "nbformat": 4,
 "nbformat_minor": 5
}
