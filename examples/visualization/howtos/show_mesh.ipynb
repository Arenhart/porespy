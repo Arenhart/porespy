{
 "cells": [
  {
   "cell_type": "markdown",
   "id": "measured-sustainability",
   "metadata": {},
   "source": [
    "# show_mesh"
   ]
  },
  {
   "cell_type": "markdown",
   "id": "changing-container",
   "metadata": {},
   "source": [
    "## Import packages"
   ]
  },
  {
   "cell_type": "code",
   "execution_count": 1,
   "id": "transsexual-qualification",
   "metadata": {},
   "outputs": [],
   "source": [
    "import porespy as ps\n",
    "import matplotlib.pyplot as plt\n",
    "import skimage as sk\n",
    "ps.visualization.set_mpl_style()"
   ]
  },
  {
   "cell_type": "markdown",
   "id": "significant-father",
   "metadata": {},
   "source": [
    "## Create image:"
   ]
  },
  {
   "cell_type": "code",
   "execution_count": 2,
   "id": "thirty-terminal",
   "metadata": {},
   "outputs": [],
   "source": [
    "im = ps.generators.blobs([100, 100, 100])\n",
    "mesh = ps.tools.mesh_region(im)"
   ]
  },
  {
   "cell_type": "markdown",
   "id": "civilian-porcelain",
   "metadata": {},
   "source": [
    "## Display image:"
   ]
  },
  {
   "cell_type": "code",
   "execution_count": null,
   "id": "enormous-standing",
   "metadata": {},
   "outputs": [],
   "source": [
    "ps.visualization.show_mesh(mesh = mesh);"
   ]
  }
 ],
 "metadata": {
  "kernelspec": {
   "display_name": "Python 3",
   "language": "python",
   "name": "python3"
  },
  "language_info": {
   "codemirror_mode": {
    "name": "ipython",
    "version": 3
   },
   "file_extension": ".py",
   "mimetype": "text/x-python",
   "name": "python",
   "nbconvert_exporter": "python",
   "pygments_lexer": "ipython3",
   "version": "3.8.8"
  }
 },
 "nbformat": 4,
 "nbformat_minor": 5
}
