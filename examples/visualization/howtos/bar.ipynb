{
 "cells": [
  {
   "cell_type": "markdown",
   "id": "identical-trunk",
   "metadata": {},
   "source": [
    "# bar"
   ]
  },
  {
   "cell_type": "markdown",
   "id": "dietary-europe",
   "metadata": {},
   "source": [
    "## Import packages"
   ]
  },
  {
   "cell_type": "code",
   "execution_count": 1,
   "id": "royal-musical",
   "metadata": {},
   "outputs": [],
   "source": [
    "import porespy as ps\n",
    "import matplotlib.pyplot as plt\n",
    "ps.visualization.set_mpl_style()"
   ]
  },
  {
   "cell_type": "markdown",
   "id": "saving-barcelona",
   "metadata": {},
   "source": [
    "## Create input:"
   ]
  },
  {
   "cell_type": "code",
   "execution_count": 2,
   "id": "southern-survey",
   "metadata": {},
   "outputs": [],
   "source": [
    "im = ps.generators.blobs([100, 100])\n",
    "tup = ps.metrics.chord_length_distribution(im)"
   ]
  },
  {
   "cell_type": "markdown",
   "id": "political-primary",
   "metadata": {},
   "source": [
    "## Display image:"
   ]
  },
  {
   "cell_type": "code",
   "execution_count": 3,
   "id": "distinguished-belarus",
   "metadata": {},
   "outputs": [
    {
     "data": {
      "image/png": "[encoded data removed]",
      "text/plain": [
       "<Figure size 504x504 with 1 Axes>"
      ]
     },
     "metadata": {
      "needs_background": "light"
     },
     "output_type": "display_data"
    }
   ],
   "source": [
    "fig, ax = plt.subplots(figsize=[7, 7]);\n",
    "plt.axis(False);\n",
    "ps.visualization.bar(tup)\n",
    "plt.title(\"default, h = 'pdf'\");"
   ]
  },
  {
   "cell_type": "markdown",
   "id": "peaceful-large",
   "metadata": {},
   "source": [
    "### h"
   ]
  },
  {
   "cell_type": "code",
   "execution_count": 4,
   "id": "macro-cookie",
   "metadata": {},
   "outputs": [
    {
     "data": {
      "image/png": "[encoded data removed]",
      "text/plain": [
       "<Figure size 504x504 with 1 Axes>"
      ]
     },
     "metadata": {
      "needs_background": "light"
     },
     "output_type": "display_data"
    }
   ],
   "source": [
    "fig, ax = plt.subplots(figsize=[7, 7]);\n",
    "plt.axis(False);\n",
    "ps.visualization.bar(tup, h = 'cdf')\n",
    "plt.title(\"h = 'cdf'\");"
   ]
  }
 ],
 "metadata": {
  "kernelspec": {
   "display_name": "Python 3",
   "language": "python",
   "name": "python3"
  },
  "language_info": {
   "codemirror_mode": {
    "name": "ipython",
    "version": 3
   },
   "file_extension": ".py",
   "mimetype": "text/x-python",
   "name": "python",
   "nbconvert_exporter": "python",
   "pygments_lexer": "ipython3",
   "version": "3.8.8"
  }
 },
 "nbformat": 4,
 "nbformat_minor": 5
}
